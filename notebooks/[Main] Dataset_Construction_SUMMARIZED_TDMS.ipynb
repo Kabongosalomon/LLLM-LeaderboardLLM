{
 "cells": [
  {
   "cell_type": "code",
   "execution_count": 1,
   "metadata": {
    "colab": {
     "base_uri": "https://localhost:8080/"
    },
    "id": "jMeOslZ9Qxlx",
    "outputId": "dc92a995-ef87-404f-e1da-2a9da7fbb6d6"
   },
   "outputs": [],
   "source": [
    "# !pip install --quiet  datasets #to access squad dataset\n",
    "# !pip install --quiet pyarrow   #to deal with parquet files for saving dataset if required\n",
    "# !pip install --quiet  tqdm     #for progress bars\n",
    "# !pip install --quiet transformers # for t5 model\n",
    "# !pip install --quiet tokenizers  #tokenizers from HuggingFace\n",
    "# !pip install --quiet sentencepiece #subword tokenizer used by T5\n",
    "# !pip install --quiet pytorch-lightning # pytorch wrapper /\n",
    "# !pip install --quiet torchtext # text utilities"
   ]
  },
  {
   "cell_type": "markdown",
   "metadata": {
    "id": "SnkwYBQ6TWB4"
   },
   "source": [
    "# Fetching Datasets"
   ]
  },
  {
   "cell_type": "code",
   "execution_count": 2,
   "metadata": {
    "id": "QnjddTNlS6Dz"
   },
   "outputs": [
    {
     "name": "stderr",
     "output_type": "stream",
     "text": [
      "/nfs/home/kabenamualus/anaconda3/envs/tdm/lib/python3.7/site-packages/fuzzywuzzy/fuzz.py:11: UserWarning: Using slow pure-python SequenceMatcher. Install python-Levenshtein to remove this warning\n",
      "  warnings.warn('Using slow pure-python SequenceMatcher. Install python-Levenshtein to remove this warning')\n"
     ]
    }
   ],
   "source": [
    "#imports\n",
    "import pandas as pd\n",
    "import torch\n",
    "from tqdm import tqdm\n",
    "from datasets import DatasetDict, Dataset, load_from_disk\n",
    "# from torch.utils.data import Dataset, DataLoader\n",
    "from pprint import pprint\n",
    "import copy, os, json\n",
    "import numpy as np\n",
    "from collections import defaultdict\n",
    "import ipdb\n",
    "import shutil\n",
    "from fuzzywuzzy import fuzz\n",
    "import random\n",
    "\n",
    "random_seed = 47 \n",
    "\n",
    "torch.manual_seed(random_seed)\n",
    "np.random.seed(random_seed)\n",
    "random.seed(random_seed)\n",
    "\n",
    "if torch.cuda.is_available():\n",
    "    torch.cuda.manual_seed_all(random_seed)"
   ]
  },
  {
   "cell_type": "code",
   "execution_count": 3,
   "metadata": {
    "id": "INC4ECm5AFip"
   },
   "outputs": [
    {
     "data": {
      "text/plain": [
       "'cpu'"
      ]
     },
     "execution_count": 3,
     "metadata": {},
     "output_type": "execute_result"
    }
   ],
   "source": [
    "device  = 'cuda' if torch.cuda.is_available() else \"cpu\"\n",
    "device"
   ]
  },
  {
   "cell_type": "code",
   "execution_count": 4,
   "metadata": {},
   "outputs": [],
   "source": [
    "# path_to_source = f\"/nfs/home/kabenamualus/Research/task-dataset-metric-nli-extraction/data/pwc_ibm_full_5_10_10000_clone_latex_compare/10Neg10000unk/twofoldwithunk\"\n",
    "path_to_csv = f\"/nfs/home/kabenamualus/Research/task-dataset-metric-nli-extraction/data/pwc_ibm_150_5_10_10000/10Neg10000unk/twofoldwithunk\"\n",
    "\n",
    "fold1 = \"fold1\"\n",
    "train_f1_pd = pd.read_csv(f\"{path_to_csv}/{fold1}/train.tsv\", \n",
    "                    sep=\"\\t\", names=[\"label\", \"title\", \"TDM\", \"Context\"])\n",
    "dev_f1_pd = pd.read_csv(f\"{path_to_csv}/{fold1}/dev.tsv\", \n",
    "                    sep=\"\\t\", names=[\"label\", \"title\", \"TDM\", \"Context\"])\n",
    "\n",
    "fold2 = \"fold2\"\n",
    "train_f2_pd = pd.read_csv(f\"{path_to_csv}/{fold2}/train.tsv\", \n",
    "                    sep=\"\\t\", names=[\"label\", \"title\", \"TDM\", \"Context\"])\n",
    "dev_f2_pd = pd.read_csv(f\"{path_to_csv}/{fold2}/dev.tsv\", \n",
    "                    sep=\"\\t\", names=[\"label\", \"title\", \"TDM\", \"Context\"])"
   ]
  },
  {
   "cell_type": "code",
   "execution_count": 5,
   "metadata": {},
   "outputs": [
    {
     "data": {
      "text/plain": [
       "'/nfs/home/kabenamualus/Research/LLLM-LeaderboardLLM/notebooks'"
      ]
     },
     "execution_count": 5,
     "metadata": {},
     "output_type": "execute_result"
    }
   ],
   "source": [
    "pwd"
   ]
  },
  {
   "cell_type": "code",
   "execution_count": 6,
   "metadata": {},
   "outputs": [],
   "source": [
    "# # no_leaderboard_pd = pd.read_csv(f\"/nfs/home/kabenamualus/Research/T5-Leaderboard-QA/data_proccess/arxiv_no_leaderboard_links_pdf_short/DocTAET_full.tsv\", \n",
    "# #                     sep=\"\\t\", names=[\"title\", \"Context\"])\n",
    "\n",
    "# no_leaderboard_pd = pd.read_csv(f\"/nfs/home/kabenamualus/Research/LLLM-LeaderboardLLM/data_proccess/arxiv_no_leaderboard_links_pdf_short/DocTAET_150.tsv\", \n",
    "#                     sep=\"\\t\", names=[\"title\", \"Context\"])\n",
    "\n",
    "# no_leaderboard_pd.describe()"
   ]
  },
  {
   "cell_type": "code",
   "execution_count": 7,
   "metadata": {},
   "outputs": [
    {
     "data": {
      "text/html": [
       "<div>\n",
       "<style scoped>\n",
       "    .dataframe tbody tr th:only-of-type {\n",
       "        vertical-align: middle;\n",
       "    }\n",
       "\n",
       "    .dataframe tbody tr th {\n",
       "        vertical-align: top;\n",
       "    }\n",
       "\n",
       "    .dataframe thead th {\n",
       "        text-align: right;\n",
       "    }\n",
       "</style>\n",
       "<table border=\"1\" class=\"dataframe\">\n",
       "  <thead>\n",
       "    <tr style=\"text-align: right;\">\n",
       "      <th></th>\n",
       "      <th>Title</th>\n",
       "      <th>TDMSs</th>\n",
       "    </tr>\n",
       "  </thead>\n",
       "  <tbody>\n",
       "    <tr>\n",
       "      <th>0</th>\n",
       "      <td>1704.03549v4.pdf</td>\n",
       "      <td>Optical Character Recognition (OCR)#FSNS - Tes...</td>\n",
       "    </tr>\n",
       "    <tr>\n",
       "      <th>1</th>\n",
       "      <td>1712.05404.pdf</td>\n",
       "      <td>Optical Character Recognition (OCR)#FSNS - Tes...</td>\n",
       "    </tr>\n",
       "    <tr>\n",
       "      <th>2</th>\n",
       "      <td>1702.03970v1.pdf</td>\n",
       "      <td>Optical Character Recognition (OCR)#FSNS - Tes...</td>\n",
       "    </tr>\n",
       "    <tr>\n",
       "      <th>3</th>\n",
       "      <td>1802.05415v2.pdf</td>\n",
       "      <td>Optical Character Recognition (OCR)#im2latex-1...</td>\n",
       "    </tr>\n",
       "    <tr>\n",
       "      <th>4</th>\n",
       "      <td>2308.15996v1.pdf</td>\n",
       "      <td>Optical Character Recognition (OCR)#Benchmarki...</td>\n",
       "    </tr>\n",
       "    <tr>\n",
       "      <th>...</th>\n",
       "      <td>...</td>\n",
       "      <td>...</td>\n",
       "    </tr>\n",
       "    <tr>\n",
       "      <th>12728</th>\n",
       "      <td>2112.07910v2.pdf</td>\n",
       "      <td>Open Vocabulary Semantic Segmentation#COCO-Stu...</td>\n",
       "    </tr>\n",
       "    <tr>\n",
       "      <th>12729</th>\n",
       "      <td>1709.08011v3.pdf</td>\n",
       "      <td>Japanese Word Segmentation#BCCWJ#F1-score (Wor...</td>\n",
       "    </tr>\n",
       "    <tr>\n",
       "      <th>12730</th>\n",
       "      <td>2203.04616v2.pdf</td>\n",
       "      <td>Binary Condescension Detection#DPM#F1-score#63...</td>\n",
       "    </tr>\n",
       "    <tr>\n",
       "      <th>12731</th>\n",
       "      <td>2208.01312v1.pdf</td>\n",
       "      <td>Binary Condescension Detection#DPM#F1-score#61...</td>\n",
       "    </tr>\n",
       "    <tr>\n",
       "      <th>12732</th>\n",
       "      <td>2306.01093v1.pdf</td>\n",
       "      <td>Zero-shot Sentiment Classification#AfriSenti#w...</td>\n",
       "    </tr>\n",
       "  </tbody>\n",
       "</table>\n",
       "<p>12733 rows × 2 columns</p>\n",
       "</div>"
      ],
      "text/plain": [
       "                  Title                                              TDMSs\n",
       "0      1704.03549v4.pdf  Optical Character Recognition (OCR)#FSNS - Tes...\n",
       "1        1712.05404.pdf  Optical Character Recognition (OCR)#FSNS - Tes...\n",
       "2      1702.03970v1.pdf  Optical Character Recognition (OCR)#FSNS - Tes...\n",
       "3      1802.05415v2.pdf  Optical Character Recognition (OCR)#im2latex-1...\n",
       "4      2308.15996v1.pdf  Optical Character Recognition (OCR)#Benchmarki...\n",
       "...                 ...                                                ...\n",
       "12728  2112.07910v2.pdf  Open Vocabulary Semantic Segmentation#COCO-Stu...\n",
       "12729  1709.08011v3.pdf  Japanese Word Segmentation#BCCWJ#F1-score (Wor...\n",
       "12730  2203.04616v2.pdf  Binary Condescension Detection#DPM#F1-score#63...\n",
       "12731  2208.01312v1.pdf  Binary Condescension Detection#DPM#F1-score#61...\n",
       "12732  2306.01093v1.pdf  Zero-shot Sentiment Classification#AfriSenti#w...\n",
       "\n",
       "[12733 rows x 2 columns]"
      ]
     },
     "execution_count": 7,
     "metadata": {},
     "output_type": "execute_result"
    }
   ],
   "source": [
    "resultsAnnotation_pd = pd.read_csv(f\"/nfs/home/kabenamualus/Research/LLLM-LeaderboardLLM/data_proccess/annotations_dec092023/resultsAnnotation.tsv\",\n",
    "                                   sep=\"\\t\", names=[\"Title\", \"TDMSs\"])\n",
    "resultsAnnotation_pd = resultsAnnotation_pd.fillna(\"NAN\")\n",
    "resultsAnnotation_pd"
   ]
  },
  {
   "cell_type": "code",
   "execution_count": 8,
   "metadata": {},
   "outputs": [
    {
     "data": {
      "text/html": [
       "<div>\n",
       "<style scoped>\n",
       "    .dataframe tbody tr th:only-of-type {\n",
       "        vertical-align: middle;\n",
       "    }\n",
       "\n",
       "    .dataframe tbody tr th {\n",
       "        vertical-align: top;\n",
       "    }\n",
       "\n",
       "    .dataframe thead th {\n",
       "        text-align: right;\n",
       "    }\n",
       "</style>\n",
       "<table border=\"1\" class=\"dataframe\">\n",
       "  <thead>\n",
       "    <tr style=\"text-align: right;\">\n",
       "      <th></th>\n",
       "      <th>Title</th>\n",
       "      <th>TDMSs</th>\n",
       "    </tr>\n",
       "  </thead>\n",
       "  <tbody>\n",
       "    <tr>\n",
       "      <th>count</th>\n",
       "      <td>12733</td>\n",
       "      <td>12733</td>\n",
       "    </tr>\n",
       "    <tr>\n",
       "      <th>unique</th>\n",
       "      <td>12729</td>\n",
       "      <td>12707</td>\n",
       "    </tr>\n",
       "    <tr>\n",
       "      <th>top</th>\n",
       "      <td>(RTX3090)</td>\n",
       "      <td>NAN</td>\n",
       "    </tr>\n",
       "    <tr>\n",
       "      <th>freq</th>\n",
       "      <td>4</td>\n",
       "      <td>6</td>\n",
       "    </tr>\n",
       "  </tbody>\n",
       "</table>\n",
       "</div>"
      ],
      "text/plain": [
       "            Title  TDMSs\n",
       "count       12733  12733\n",
       "unique      12729  12707\n",
       "top     (RTX3090)    NAN\n",
       "freq            4      6"
      ]
     },
     "execution_count": 8,
     "metadata": {},
     "output_type": "execute_result"
    }
   ],
   "source": [
    "resultsAnnotation_pd.describe()"
   ]
  },
  {
   "cell_type": "code",
   "execution_count": 9,
   "metadata": {},
   "outputs": [
    {
     "name": "stderr",
     "output_type": "stream",
     "text": [
      "  9%|▉         | 1144/12733 [00:00<00:01, 9746.73it/s]"
     ]
    },
    {
     "name": "stderr",
     "output_type": "stream",
     "text": [
      "100%|██████████| 12733/12733 [00:00<00:00, 35202.02it/s]\n"
     ]
    },
    {
     "data": {
      "text/plain": [
       "138"
      ]
     },
     "execution_count": 9,
     "metadata": {},
     "output_type": "execute_result"
    }
   ],
   "source": [
    "\"\"\"\n",
    "This will take care of papers with more than one learderboard \n",
    "\"\"\"\n",
    "records = resultsAnnotation_pd.to_dict(\"records\")\n",
    "\n",
    "global_title_to_tdms_dict = defaultdict(\n",
    "    lambda : \n",
    "        list()\n",
    "    )\n",
    "ccount = 0\n",
    "for i, row in tqdm(enumerate(records), total = len(records)):\n",
    "    if row['TDMSs'] == 'NAN':\n",
    "        continue\n",
    "\n",
    "    for tdms in row['TDMSs'].split(\"$\"):\n",
    "        if len(tdms.split(\"#\")) != 4:\n",
    "            # print(tdms)\n",
    "            ccount += 1\n",
    "            continue \n",
    "        t, d, m, s = tdms.split(\"#\")\n",
    "        global_title_to_tdms_dict[row['Title']].append(\n",
    "            {\n",
    "                \"LEADERBOARD\": {\n",
    "                    \"Task\": t,\n",
    "                    \"Dataset\": d,\n",
    "                    \"Metric\": m,\n",
    "                    \"Score\": s,\n",
    "                }\n",
    "            }            \n",
    "        )\n",
    "ccount"
   ]
  },
  {
   "cell_type": "code",
   "execution_count": 10,
   "metadata": {},
   "outputs": [
    {
     "data": {
      "text/plain": [
       "12718"
      ]
     },
     "execution_count": 10,
     "metadata": {},
     "output_type": "execute_result"
    }
   ],
   "source": [
    "len(global_title_to_tdms_dict)"
   ]
  },
  {
   "cell_type": "code",
   "execution_count": 11,
   "metadata": {},
   "outputs": [
    {
     "data": {
      "text/plain": [
       "(12718,)"
      ]
     },
     "execution_count": 11,
     "metadata": {},
     "output_type": "execute_result"
    }
   ],
   "source": [
    "np.unique(list(global_title_to_tdms_dict)).shape"
   ]
  },
  {
   "cell_type": "code",
   "execution_count": 12,
   "metadata": {},
   "outputs": [],
   "source": [
    "tdms_test = []\n",
    "for file_pdf in list(global_title_to_tdms_dict):\n",
    "    tdms_test.append(global_title_to_tdms_dict[file_pdf])\n",
    "\n",
    "# np.unique(tdms_test).shape"
   ]
  },
  {
   "cell_type": "code",
   "execution_count": 13,
   "metadata": {},
   "outputs": [
    {
     "data": {
      "text/plain": [
       "12718"
      ]
     },
     "execution_count": 13,
     "metadata": {},
     "output_type": "execute_result"
    }
   ],
   "source": [
    "len(tdms_test)"
   ]
  },
  {
   "cell_type": "code",
   "execution_count": null,
   "metadata": {},
   "outputs": [],
   "source": []
  },
  {
   "cell_type": "code",
   "execution_count": 14,
   "metadata": {},
   "outputs": [
    {
     "name": "stdout",
     "output_type": "stream",
     "text": [
      "train_f1_pd\n"
     ]
    },
    {
     "data": {
      "text/html": [
       "<div>\n",
       "<style scoped>\n",
       "    .dataframe tbody tr th:only-of-type {\n",
       "        vertical-align: middle;\n",
       "    }\n",
       "\n",
       "    .dataframe tbody tr th {\n",
       "        vertical-align: top;\n",
       "    }\n",
       "\n",
       "    .dataframe thead th {\n",
       "        text-align: right;\n",
       "    }\n",
       "</style>\n",
       "<table border=\"1\" class=\"dataframe\">\n",
       "  <thead>\n",
       "    <tr style=\"text-align: right;\">\n",
       "      <th></th>\n",
       "      <th>label</th>\n",
       "      <th>title</th>\n",
       "      <th>TDM</th>\n",
       "      <th>Context</th>\n",
       "    </tr>\n",
       "  </thead>\n",
       "  <tbody>\n",
       "    <tr>\n",
       "      <th>count</th>\n",
       "      <td>12613</td>\n",
       "      <td>12613</td>\n",
       "      <td>12613</td>\n",
       "      <td>12613</td>\n",
       "    </tr>\n",
       "    <tr>\n",
       "      <th>unique</th>\n",
       "      <td>1</td>\n",
       "      <td>3753</td>\n",
       "      <td>1792</td>\n",
       "      <td>3747</td>\n",
       "    </tr>\n",
       "    <tr>\n",
       "      <th>top</th>\n",
       "      <td>True</td>\n",
       "      <td>1803.00933v1.pdf</td>\n",
       "      <td>unknown</td>\n",
       "      <td>IMPALA: Scalable Distributed Deep-RL with Impo...</td>\n",
       "    </tr>\n",
       "    <tr>\n",
       "      <th>freq</th>\n",
       "      <td>12613</td>\n",
       "      <td>58</td>\n",
       "      <td>923</td>\n",
       "      <td>58</td>\n",
       "    </tr>\n",
       "  </tbody>\n",
       "</table>\n",
       "</div>"
      ],
      "text/plain": [
       "        label             title      TDM  \\\n",
       "count   12613             12613    12613   \n",
       "unique      1              3753     1792   \n",
       "top      True  1803.00933v1.pdf  unknown   \n",
       "freq    12613                58      923   \n",
       "\n",
       "                                                  Context  \n",
       "count                                               12613  \n",
       "unique                                               3747  \n",
       "top     IMPALA: Scalable Distributed Deep-RL with Impo...  \n",
       "freq                                                   58  "
      ]
     },
     "metadata": {},
     "output_type": "display_data"
    },
    {
     "name": "stdout",
     "output_type": "stream",
     "text": [
      "dev_f1_pd\n"
     ]
    },
    {
     "data": {
      "text/html": [
       "<div>\n",
       "<style scoped>\n",
       "    .dataframe tbody tr th:only-of-type {\n",
       "        vertical-align: middle;\n",
       "    }\n",
       "\n",
       "    .dataframe tbody tr th {\n",
       "        vertical-align: top;\n",
       "    }\n",
       "\n",
       "    .dataframe thead th {\n",
       "        text-align: right;\n",
       "    }\n",
       "</style>\n",
       "<table border=\"1\" class=\"dataframe\">\n",
       "  <thead>\n",
       "    <tr style=\"text-align: right;\">\n",
       "      <th></th>\n",
       "      <th>label</th>\n",
       "      <th>title</th>\n",
       "      <th>TDM</th>\n",
       "      <th>Context</th>\n",
       "    </tr>\n",
       "  </thead>\n",
       "  <tbody>\n",
       "    <tr>\n",
       "      <th>count</th>\n",
       "      <td>5472</td>\n",
       "      <td>5472</td>\n",
       "      <td>5472</td>\n",
       "      <td>5472</td>\n",
       "    </tr>\n",
       "    <tr>\n",
       "      <th>unique</th>\n",
       "      <td>1</td>\n",
       "      <td>1608</td>\n",
       "      <td>1557</td>\n",
       "      <td>1606</td>\n",
       "    </tr>\n",
       "    <tr>\n",
       "      <th>top</th>\n",
       "      <td>True</td>\n",
       "      <td>1911.08265v2.pdf</td>\n",
       "      <td>unknown</td>\n",
       "      <td>Mastering Atari, Go, Chess and Shogi by Planni...</td>\n",
       "    </tr>\n",
       "    <tr>\n",
       "      <th>freq</th>\n",
       "      <td>5472</td>\n",
       "      <td>58</td>\n",
       "      <td>378</td>\n",
       "      <td>58</td>\n",
       "    </tr>\n",
       "  </tbody>\n",
       "</table>\n",
       "</div>"
      ],
      "text/plain": [
       "       label             title      TDM  \\\n",
       "count   5472              5472     5472   \n",
       "unique     1              1608     1557   \n",
       "top     True  1911.08265v2.pdf  unknown   \n",
       "freq    5472                58      378   \n",
       "\n",
       "                                                  Context  \n",
       "count                                                5472  \n",
       "unique                                               1606  \n",
       "top     Mastering Atari, Go, Chess and Shogi by Planni...  \n",
       "freq                                                   58  "
      ]
     },
     "metadata": {},
     "output_type": "display_data"
    },
    {
     "name": "stdout",
     "output_type": "stream",
     "text": [
      "train_f2_pd\n"
     ]
    },
    {
     "data": {
      "text/html": [
       "<div>\n",
       "<style scoped>\n",
       "    .dataframe tbody tr th:only-of-type {\n",
       "        vertical-align: middle;\n",
       "    }\n",
       "\n",
       "    .dataframe tbody tr th {\n",
       "        vertical-align: top;\n",
       "    }\n",
       "\n",
       "    .dataframe thead th {\n",
       "        text-align: right;\n",
       "    }\n",
       "</style>\n",
       "<table border=\"1\" class=\"dataframe\">\n",
       "  <thead>\n",
       "    <tr style=\"text-align: right;\">\n",
       "      <th></th>\n",
       "      <th>label</th>\n",
       "      <th>title</th>\n",
       "      <th>TDM</th>\n",
       "      <th>Context</th>\n",
       "    </tr>\n",
       "  </thead>\n",
       "  <tbody>\n",
       "    <tr>\n",
       "      <th>count</th>\n",
       "      <td>12677</td>\n",
       "      <td>12677</td>\n",
       "      <td>12677</td>\n",
       "      <td>12677</td>\n",
       "    </tr>\n",
       "    <tr>\n",
       "      <th>unique</th>\n",
       "      <td>1</td>\n",
       "      <td>3753</td>\n",
       "      <td>1821</td>\n",
       "      <td>3749</td>\n",
       "    </tr>\n",
       "    <tr>\n",
       "      <th>top</th>\n",
       "      <td>True</td>\n",
       "      <td>1911.08265v2.pdf</td>\n",
       "      <td>unknown</td>\n",
       "      <td>Mastering Atari, Go, Chess and Shogi by Planni...</td>\n",
       "    </tr>\n",
       "    <tr>\n",
       "      <th>freq</th>\n",
       "      <td>12677</td>\n",
       "      <td>58</td>\n",
       "      <td>920</td>\n",
       "      <td>58</td>\n",
       "    </tr>\n",
       "  </tbody>\n",
       "</table>\n",
       "</div>"
      ],
      "text/plain": [
       "        label             title      TDM  \\\n",
       "count   12677             12677    12677   \n",
       "unique      1              3753     1821   \n",
       "top      True  1911.08265v2.pdf  unknown   \n",
       "freq    12677                58      920   \n",
       "\n",
       "                                                  Context  \n",
       "count                                               12677  \n",
       "unique                                               3749  \n",
       "top     Mastering Atari, Go, Chess and Shogi by Planni...  \n",
       "freq                                                   58  "
      ]
     },
     "metadata": {},
     "output_type": "display_data"
    },
    {
     "name": "stdout",
     "output_type": "stream",
     "text": [
      "dev_f2_pd\n"
     ]
    },
    {
     "data": {
      "text/html": [
       "<div>\n",
       "<style scoped>\n",
       "    .dataframe tbody tr th:only-of-type {\n",
       "        vertical-align: middle;\n",
       "    }\n",
       "\n",
       "    .dataframe tbody tr th {\n",
       "        vertical-align: top;\n",
       "    }\n",
       "\n",
       "    .dataframe thead th {\n",
       "        text-align: right;\n",
       "    }\n",
       "</style>\n",
       "<table border=\"1\" class=\"dataframe\">\n",
       "  <thead>\n",
       "    <tr style=\"text-align: right;\">\n",
       "      <th></th>\n",
       "      <th>label</th>\n",
       "      <th>title</th>\n",
       "      <th>TDM</th>\n",
       "      <th>Context</th>\n",
       "    </tr>\n",
       "  </thead>\n",
       "  <tbody>\n",
       "    <tr>\n",
       "      <th>count</th>\n",
       "      <td>5408</td>\n",
       "      <td>5408</td>\n",
       "      <td>5408</td>\n",
       "      <td>5408</td>\n",
       "    </tr>\n",
       "    <tr>\n",
       "      <th>unique</th>\n",
       "      <td>1</td>\n",
       "      <td>1608</td>\n",
       "      <td>1542</td>\n",
       "      <td>1608</td>\n",
       "    </tr>\n",
       "    <tr>\n",
       "      <th>top</th>\n",
       "      <td>True</td>\n",
       "      <td>1802.01561v3.pdf</td>\n",
       "      <td>unknown</td>\n",
       "      <td>IMPALA: Scalable Distributed Deep-RL with Impo...</td>\n",
       "    </tr>\n",
       "    <tr>\n",
       "      <th>freq</th>\n",
       "      <td>5408</td>\n",
       "      <td>58</td>\n",
       "      <td>381</td>\n",
       "      <td>58</td>\n",
       "    </tr>\n",
       "  </tbody>\n",
       "</table>\n",
       "</div>"
      ],
      "text/plain": [
       "       label             title      TDM  \\\n",
       "count   5408              5408     5408   \n",
       "unique     1              1608     1542   \n",
       "top     True  1802.01561v3.pdf  unknown   \n",
       "freq    5408                58      381   \n",
       "\n",
       "                                                  Context  \n",
       "count                                                5408  \n",
       "unique                                               1608  \n",
       "top     IMPALA: Scalable Distributed Deep-RL with Impo...  \n",
       "freq                                                   58  "
      ]
     },
     "metadata": {},
     "output_type": "display_data"
    }
   ],
   "source": [
    "# No need for negative instances, but will still have 'duplicate' for paper with more than one leaderboard\n",
    "train_f1_pd = train_f1_pd[train_f1_pd.label==True]\n",
    "print(\"train_f1_pd\")\n",
    "display(train_f1_pd.describe())\n",
    "\n",
    "dev_f1_pd = dev_f1_pd[dev_f1_pd.label==True]\n",
    "print(\"dev_f1_pd\")\n",
    "display(dev_f1_pd.describe())\n",
    "\n",
    "train_f2_pd = train_f2_pd[train_f2_pd.label==True]\n",
    "print(\"train_f2_pd\")\n",
    "display(train_f2_pd.describe())\n",
    "\n",
    "dev_f2_pd = dev_f2_pd[dev_f2_pd.label==True]\n",
    "print(\"dev_f2_pd\")\n",
    "display(dev_f2_pd.describe())"
   ]
  },
  {
   "cell_type": "code",
   "execution_count": 15,
   "metadata": {},
   "outputs": [],
   "source": [
    "# len(train_pd.title.unique())\n",
    "records_train_f1 = train_f1_pd.to_dict(\"records\")\n",
    "records_dev_f1 = dev_f1_pd.to_dict(\"records\")\n",
    "records_train_f2 = train_f2_pd.to_dict(\"records\")\n",
    "records_dev_f2 = dev_f2_pd.to_dict(\"records\")"
   ]
  },
  {
   "cell_type": "code",
   "execution_count": 16,
   "metadata": {},
   "outputs": [
    {
     "data": {
      "text/plain": [
       "'1707.03497v2'"
      ]
     },
     "execution_count": 16,
     "metadata": {},
     "output_type": "execute_result"
    }
   ],
   "source": [
    "title_id = records_train_f1[0][\"title\"].split(\".pdf\")[0]\n",
    "title_id"
   ]
  },
  {
   "cell_type": "code",
   "execution_count": 17,
   "metadata": {},
   "outputs": [
    {
     "name": "stderr",
     "output_type": "stream",
     "text": [
      "100%|██████████| 12613/12613 [00:04<00:00, 3006.70it/s]\n"
     ]
    },
    {
     "name": "stdout",
     "output_type": "stream",
     "text": [
      "TRAIN F1:\n",
      "Copied: 2628\n",
      "Missed Parsing: 3977\n",
      "Missed Short Context: 3\n",
      "All items: 12613\n",
      "\n"
     ]
    },
    {
     "name": "stderr",
     "output_type": "stream",
     "text": [
      "100%|██████████| 5472/5472 [00:01<00:00, 4850.75it/s]\n"
     ]
    },
    {
     "name": "stdout",
     "output_type": "stream",
     "text": [
      "DEV F1:\n",
      "Copied: 1094\n",
      "Missed Parsing: 1824\n",
      "Missed Short Context: 2\n",
      "All items: 5472\n",
      "\n"
     ]
    },
    {
     "name": "stderr",
     "output_type": "stream",
     "text": [
      "100%|██████████| 12677/12677 [00:02<00:00, 4521.91it/s]\n"
     ]
    },
    {
     "name": "stdout",
     "output_type": "stream",
     "text": [
      "TRAIN F2:\n",
      "Copied: 2622\n",
      "Missed Parsing: 4104\n",
      "Missed Short Context: 3\n",
      "All items: 12677\n",
      "\n"
     ]
    },
    {
     "name": "stderr",
     "output_type": "stream",
     "text": [
      "100%|██████████| 5408/5408 [00:01<00:00, 3465.36it/s]"
     ]
    },
    {
     "name": "stdout",
     "output_type": "stream",
     "text": [
      "DEV F2:\n",
      "Copied: 1100\n",
      "Missed Parsing: 1697\n",
      "Missed Short Context: 2\n",
      "All items: 5408\n",
      "\n"
     ]
    },
    {
     "name": "stderr",
     "output_type": "stream",
     "text": [
      "\n"
     ]
    }
   ],
   "source": [
    "global_title_to_content = {}\n",
    "\n",
    "title_to_content = {\n",
    "    \"train_f1\":{},\n",
    "    \"dev_f1\":{},\n",
    "    \"train_f2\":{},\n",
    "    \"dev_f2\":{},\n",
    "    \"zero_shot_f1\":{},\n",
    "    \"zero_shot_f2\":{}\n",
    "    }\n",
    "\n",
    "# arxiv_leaderboard_full_txt = \n",
    "# \"/nfs/home/kabenamualus/Research/LLLM-LeaderboardLLM/data_proccess/arxiv_leaderboard_full_txt\"\n",
    "arxiv_leaderboard_full_txt = \"\\\n",
    "/nfs/home/kabenamualus/Research/LLLM-LeaderboardLLM/data_proccess/arxiv_txt_summarised_dec092023\"\n",
    "\n",
    "missed_parsing = 0\n",
    "missed_short_context = 0\n",
    "copied = 0\n",
    "for i, row in tqdm(enumerate(records_train_f1), total = len(records_train_f1)):\n",
    "    title_id = row['title'].split(\".pdf\")[0]\n",
    "    if row['title'] in title_to_content[\"train_f1\"]:\n",
    "        continue \n",
    "    else:\n",
    "        try:\n",
    "            with open(f'{arxiv_leaderboard_full_txt}/{title_id}_summarised.txt', 'r') as file:\n",
    "                # Read the file\n",
    "                data = file.read()\n",
    "                \n",
    "        except :\n",
    "            missed_parsing += 1\n",
    "            continue\n",
    "\n",
    "        if len(data.split()) < 10:\n",
    "            missed_short_context += 1\n",
    "            continue\n",
    "        else:\n",
    "            title_to_content[\"train_f1\"][row['title']] = data\n",
    "            global_title_to_content[row['title']] = data\n",
    "            copied += 1\n",
    "        # title_to_content[\"train_f1\"][row['title']] = row['Context'] if len(data.split()) < 100 else data\n",
    "        # title_to_content[\"train_f1\"][row['title']] = row['Context']\n",
    "\n",
    "print(f\"TRAIN F1:\\nCopied: {copied}\\nMissed Parsing: {missed_parsing}\\\n",
    "\\nMissed Short Context: {missed_short_context}\\nAll items: {len(records_train_f1)}\\n\")\n",
    "\n",
    "missed_parsing = 0\n",
    "missed_short_context = 0\n",
    "copied = 0\n",
    "for i, row in tqdm(enumerate(records_dev_f1), total = len(records_dev_f1)):\n",
    "    title_id = row['title'].split(\".pdf\")[0]\n",
    "    if row['title'] in title_to_content[\"dev_f1\"]:\n",
    "        continue \n",
    "    else:\n",
    "        try:\n",
    "            with open(f'{arxiv_leaderboard_full_txt}/{title_id}_summarised.txt', 'r') as file:\n",
    "                # Read the file\n",
    "                data = file.read()\n",
    "                \n",
    "        except :\n",
    "            # print(f\"Error on file {row['title']}\")\n",
    "            data = \"\"\n",
    "            missed_parsing += 1\n",
    "            continue \n",
    "        \n",
    "        # title_to_content[\"dev_f1\"][row['title']] = row['Context'] if len(data.split()) < 100 else data\n",
    "        if len(data.split()) < 10:\n",
    "            missed_short_context += 1\n",
    "            continue\n",
    "        else:\n",
    "            title_to_content[\"dev_f1\"][row['title']] = data\n",
    "            global_title_to_content[row['title']] = data\n",
    "            copied += 1\n",
    "\n",
    "print(f\"DEV F1:\\nCopied: {copied}\\nMissed Parsing: {missed_parsing}\\\n",
    "\\nMissed Short Context: {missed_short_context}\\nAll items: {len(records_dev_f1)}\\n\")  \n",
    "\n",
    "missed_parsing = 0\n",
    "missed_short_context = 0\n",
    "copied = 0\n",
    "for i, row in tqdm(enumerate(records_train_f2), total = len(records_train_f2)):\n",
    "    title_id = row['title'].split(\".pdf\")[0]\n",
    "    if row['title'] in title_to_content[\"train_f2\"]:\n",
    "        continue \n",
    "    else:\n",
    "        try:\n",
    "            with open(f'{arxiv_leaderboard_full_txt}/{title_id}_summarised.txt', 'r') as file:\n",
    "                # Read the file\n",
    "                data = file.read()\n",
    "                \n",
    "        except :\n",
    "            # print(f\"Error on file {row['title']}\")\n",
    "            missed_parsing += 1\n",
    "            continue \n",
    "        \n",
    "        # title_to_content[\"train_f2\"][row['title']] = row['Context'] if len(data.split()) < 100 else data\n",
    "        if len(data.split()) < 10:\n",
    "            missed_short_context += 1\n",
    "            continue\n",
    "        else:\n",
    "            title_to_content[\"train_f2\"][row['title']] = data\n",
    "            global_title_to_content[row['title']] = data\n",
    "            copied += 1\n",
    "            \n",
    "print(f\"TRAIN F2:\\nCopied: {copied}\\nMissed Parsing: {missed_parsing}\\\n",
    "\\nMissed Short Context: {missed_short_context}\\nAll items: {len(records_train_f2)}\\n\") \n",
    "\n",
    "missed_parsing = 0\n",
    "missed_short_context = 0\n",
    "copied = 0\n",
    "for i, row in tqdm(enumerate(records_dev_f2), total = len(records_dev_f2)):\n",
    "    title_id = row['title'].split(\".pdf\")[0]\n",
    "    if row['title'] in title_to_content[\"dev_f2\"]:\n",
    "        continue \n",
    "    else:\n",
    "        try:\n",
    "            with open(f'{arxiv_leaderboard_full_txt}/{title_id}_summarised.txt', 'r') as file:\n",
    "                # Read the file\n",
    "                data = file.read()\n",
    "                \n",
    "        except :\n",
    "            # print(f\"Error on file {row['title']}\")\n",
    "            missed_parsing += 1\n",
    "            continue \n",
    "            \n",
    "        # title_to_content[\"dev_f2\"][row['title']] = row['Context'] if len(data.split()) < 100 else data\n",
    "        # title_to_content[\"dev_f2\"][row['title']] = row['Context']\n",
    "        if len(data.split()) < 10:\n",
    "            missed_short_context += 1\n",
    "            continue\n",
    "        else:\n",
    "            title_to_content[\"dev_f2\"][row['title']] = data\n",
    "            global_title_to_content[row['title']] = data\n",
    "            copied += 1\n",
    "            \n",
    "print(f\"DEV F2:\\nCopied: {copied}\\nMissed Parsing: {missed_parsing}\\\n",
    "\\nMissed Short Context: {missed_short_context}\\nAll items: {len(records_dev_f2)}\\n\") "
   ]
  },
  {
   "cell_type": "code",
   "execution_count": null,
   "metadata": {},
   "outputs": [],
   "source": []
  },
  {
   "cell_type": "code",
   "execution_count": 18,
   "metadata": {},
   "outputs": [],
   "source": [
    "# q"
   ]
  },
  {
   "cell_type": "markdown",
   "metadata": {},
   "source": [
    "### Add additional Training data"
   ]
  },
  {
   "cell_type": "code",
   "execution_count": 19,
   "metadata": {},
   "outputs": [
    {
     "data": {
      "text/plain": [
       "['1707.03497v2.pdf',\n",
       " '2006.10721v2.pdf',\n",
       " '1901.10995v4.pdf',\n",
       " '1801.01315v1.pdf']"
      ]
     },
     "execution_count": 19,
     "metadata": {},
     "output_type": "execute_result"
    }
   ],
   "source": [
    "list(title_to_content[\"train_f1\"].keys())[:4]"
   ]
  },
  {
   "cell_type": "code",
   "execution_count": 20,
   "metadata": {},
   "outputs": [
    {
     "data": {
      "text/plain": [
       "2628"
      ]
     },
     "execution_count": 20,
     "metadata": {},
     "output_type": "execute_result"
    }
   ],
   "source": [
    "len(title_to_content[\"train_f1\"].keys())"
   ]
  },
  {
   "cell_type": "code",
   "execution_count": 21,
   "metadata": {},
   "outputs": [
    {
     "data": {
      "text/plain": [
       "['1810.02575v1.pdf',\n",
       " '1909.00794v1.pdf',\n",
       " '1807.10066v1.pdf',\n",
       " '1805.04554v4.pdf']"
      ]
     },
     "execution_count": 21,
     "metadata": {},
     "output_type": "execute_result"
    }
   ],
   "source": [
    "list(title_to_content[\"dev_f1\"].keys())[:4]"
   ]
  },
  {
   "cell_type": "code",
   "execution_count": 22,
   "metadata": {},
   "outputs": [
    {
     "data": {
      "text/plain": [
       "1094"
      ]
     },
     "execution_count": 22,
     "metadata": {},
     "output_type": "execute_result"
    }
   ],
   "source": [
    "len(title_to_content[\"dev_f1\"].keys())"
   ]
  },
  {
   "cell_type": "code",
   "execution_count": 23,
   "metadata": {},
   "outputs": [
    {
     "name": "stdout",
     "output_type": "stream",
     "text": [
      "9354\n"
     ]
    }
   ],
   "source": [
    "print(len(os.listdir(arxiv_leaderboard_full_txt)))"
   ]
  },
  {
   "cell_type": "code",
   "execution_count": 24,
   "metadata": {},
   "outputs": [],
   "source": [
    "# title_to_content[\"dev_f1\"].keys()\n",
    "# global_title_to_tdms_dict[row['Title']]"
   ]
  },
  {
   "cell_type": "code",
   "execution_count": 25,
   "metadata": {},
   "outputs": [
    {
     "name": "stdout",
     "output_type": "stream",
     "text": [
      "Total available papers: 9354\n",
      "\n",
      "\n",
      "Total train f1 before adding 2628\n",
      "Total dev f1 1094\n"
     ]
    },
    {
     "name": "stdout",
     "output_type": "stream",
     "text": [
      "Missed reading F1 0\n",
      "Total train f1 after adding 8260\n",
      "\n",
      "Total train f2 before adding 2622\n",
      "Total dev f2 1100\n",
      "Missed reading F2 0\n",
      "Total train f2 after adding 8254\n"
     ]
    }
   ],
   "source": [
    "arxiv_leaderboard_full_txt = \"\\\n",
    "/nfs/home/kabenamualus/Research/LLLM-LeaderboardLLM/data_proccess/arxiv_txt_summarised_dec092023\"\n",
    "\n",
    "print(f\"Total available papers: {len(os.listdir(arxiv_leaderboard_full_txt))}\\n\\n\")\n",
    "\n",
    "print(f'Total train f1 before adding {len(title_to_content[\"train_f1\"].keys())}')\n",
    "print(f'Total dev f1 {len(title_to_content[\"dev_f1\"].keys())}')\n",
    "\n",
    "missed = 0\n",
    "\n",
    "for file_id_sum_txt in os.listdir(arxiv_leaderboard_full_txt):\n",
    "    \n",
    "    file_id = file_id_sum_txt.rsplit(\"_\", 1)[0]\n",
    "\n",
    "    if f\"{file_id}.pdf\" in title_to_content[\"dev_f1\"]:\n",
    "        # ipdb.set_trace()\n",
    "        continue \n",
    "    \n",
    "    try:\n",
    "        with open(f'{arxiv_leaderboard_full_txt}/{file_id}_summarised.txt', 'r') as file:\n",
    "            # Read the file\n",
    "            data = file.read()\n",
    "\n",
    "        # ipdb.set_trace()\n",
    "        \n",
    "        title_to_content[\"train_f1\"][f\"{file_id}.pdf\"] = data\n",
    "        global_title_to_content[f\"{file_id}.pdf\"] = data\n",
    "        \n",
    "    except :\n",
    "        # print(f\"Error on file {row['title']}\")\n",
    "        missed += 1\n",
    "        ipdb.set_trace()\n",
    "        # continue\n",
    "\n",
    "print(f\"Missed reading F1 {missed}\")\n",
    "print(f'Total train f1 after adding {len(title_to_content[\"train_f1\"].keys())}\\n')\n",
    "\n",
    "\n",
    "missed = 0\n",
    "print(f'Total train f2 before adding {len(title_to_content[\"train_f2\"].keys())}')\n",
    "print(f'Total dev f2 {len(title_to_content[\"dev_f2\"].keys())}')\n",
    "\n",
    "for file_id_sum_txt in os.listdir(arxiv_leaderboard_full_txt):\n",
    "    \n",
    "    file_id = file_id_sum_txt.rsplit(\"_\", 1)[0]\n",
    "\n",
    "    if f\"{file_id}.pdf\" in title_to_content[\"dev_f2\"]:\n",
    "        # ipdb.set_trace()\n",
    "        continue \n",
    "    \n",
    "    try:\n",
    "        with open(f'{arxiv_leaderboard_full_txt}/{file_id}_summarised.txt', 'r') as file:\n",
    "            # Read the file\n",
    "            data = file.read()\n",
    "\n",
    "        # ipdb.set_trace()\n",
    "        \n",
    "        title_to_content[\"train_f2\"][f\"{file_id}.pdf\"] = data\n",
    "        global_title_to_content[f\"{file_id}.pdf\"] = data\n",
    "        \n",
    "    except :\n",
    "        # print(f\"Error on file {row['title']}\")\n",
    "        missed += 1\n",
    "        ipdb.set_trace()\n",
    "        # continue\n",
    "\n",
    "print(f\"Missed reading F2 {missed}\")\n",
    "print(f'Total train f2 after adding {len(title_to_content[\"train_f2\"].keys())}')"
   ]
  },
  {
   "cell_type": "raw",
   "metadata": {},
   "source": [
    "Total available papers: 9354\n",
    "\n",
    "\n",
    "Total train f1 before adding 2628\n",
    "Total dev f1 1094\n",
    "Missed reading F1 0\n",
    "Total train f1 after adding 8260\n",
    "\n",
    "Total train f2 before adding 2622\n",
    "Total dev f2 1100\n",
    "Missed reading F2 0\n",
    "Total train f2 after adding 8254"
   ]
  },
  {
   "cell_type": "code",
   "execution_count": 26,
   "metadata": {},
   "outputs": [
    {
     "data": {
      "text/plain": [
       "3753"
      ]
     },
     "execution_count": 26,
     "metadata": {},
     "output_type": "execute_result"
    }
   ],
   "source": [
    "len(train_f1_pd.title.unique())"
   ]
  },
  {
   "cell_type": "code",
   "execution_count": 27,
   "metadata": {},
   "outputs": [
    {
     "name": "stdout",
     "output_type": "stream",
     "text": [
      "no_leaderboard_pourcentage_train_f1: 4130\n",
      "no_leaderboard_pourcentage_dev_f1: 547\n",
      "no_leaderboard_pourcentage_train_f2: 4127\n",
      "no_leaderboard_pourcentage_dev_f2: 550\n"
     ]
    }
   ],
   "source": [
    "no_leaderboard_pourcentage_train_f1 = int(len(title_to_content[\"train_f1\"].keys())*50/100)\n",
    "no_leaderboard_pourcentage_dev_f1 = int(len(title_to_content[\"dev_f1\"].keys())*50/100)\n",
    "no_leaderboard_pourcentage_train_f2 = int(len(title_to_content[\"train_f2\"].keys())*50/100)\n",
    "no_leaderboard_pourcentage_dev_f2 = int(len(title_to_content[\"dev_f2\"].keys())*50/100)\n",
    "\n",
    "print(f\"no_leaderboard_pourcentage_train_f1: {no_leaderboard_pourcentage_train_f1}\")\n",
    "print(f\"no_leaderboard_pourcentage_dev_f1: {no_leaderboard_pourcentage_dev_f1}\")\n",
    "print(f\"no_leaderboard_pourcentage_train_f2: {no_leaderboard_pourcentage_train_f2}\")\n",
    "print(f\"no_leaderboard_pourcentage_dev_f2: {no_leaderboard_pourcentage_dev_f2}\")"
   ]
  },
  {
   "cell_type": "code",
   "execution_count": 28,
   "metadata": {},
   "outputs": [
    {
     "data": {
      "text/plain": [
       "4128"
      ]
     },
     "execution_count": 28,
     "metadata": {},
     "output_type": "execute_result"
    }
   ],
   "source": [
    "(no_leaderboard_pourcentage_train_f1+no_leaderboard_pourcentage_train_f2)//2"
   ]
  },
  {
   "cell_type": "code",
   "execution_count": 29,
   "metadata": {},
   "outputs": [
    {
     "data": {
      "text/plain": [
       "548"
      ]
     },
     "execution_count": 29,
     "metadata": {},
     "output_type": "execute_result"
    }
   ],
   "source": [
    "(no_leaderboard_pourcentage_dev_f1+no_leaderboard_pourcentage_dev_f2)//2"
   ]
  },
  {
   "cell_type": "code",
   "execution_count": 30,
   "metadata": {},
   "outputs": [],
   "source": [
    "# no_leaderboard_pourcentage = int(len(train_pd.title.unique())*50/100)\n",
    "# no_leaderboard_pourcentage"
   ]
  },
  {
   "cell_type": "code",
   "execution_count": 31,
   "metadata": {},
   "outputs": [
    {
     "name": "stdout",
     "output_type": "stream",
     "text": [
      "Total available no leaderboard papers: 11258\n",
      "\n",
      "\n"
     ]
    },
    {
     "name": "stderr",
     "output_type": "stream",
     "text": [
      "  1%|          | 105/11258 [00:00<00:10, 1045.96it/s]"
     ]
    },
    {
     "name": "stderr",
     "output_type": "stream",
     "text": [
      " 37%|███▋      | 4138/11258 [00:03<00:06, 1119.66it/s]\n"
     ]
    },
    {
     "name": "stdout",
     "output_type": "stream",
     "text": [
      "TRAIN F1&F2:\\Added No_LB_Papers: 4128\n",
      "Missed Parsing: 1697\n",
      "Missed Short Context: 12\n",
      "\n"
     ]
    },
    {
     "name": "stderr",
     "output_type": "stream",
     "text": [
      " 42%|████▏     | 4686/11258 [00:00<00:00, 7222.57it/s] "
     ]
    },
    {
     "name": "stdout",
     "output_type": "stream",
     "text": [
      "DEV F1&F2:\\Added No_LB_Papers: 548\n",
      "Missed Parsing: 1697\n",
      "Missed Short Context: 22\n",
      "\n"
     ]
    },
    {
     "name": "stderr",
     "output_type": "stream",
     "text": [
      "\n"
     ]
    }
   ],
   "source": [
    "papers_in_training = []\n",
    "no_leaderboard_papers = []\n",
    "\n",
    "i = 0\n",
    "\n",
    "arxiv_no_leaderboard_full_txt = \"\\\n",
    "/nfs/home/kabenamualus/Research/LLLM-LeaderboardLLM/data_proccess/arxiv_no_leaderboard_txt_25_000_summarised_dec092023\"\n",
    "\n",
    "print(f\"Total available no leaderboard papers: {len(os.listdir(arxiv_no_leaderboard_full_txt))}\\n\\n\")\n",
    "\n",
    "\n",
    "for file_id_sum_txt in tqdm(os.listdir(arxiv_no_leaderboard_full_txt), total = len(os.listdir(arxiv_no_leaderboard_full_txt))):\n",
    "    \n",
    "    file_id = file_id_sum_txt.rsplit(\"_\", 1)[0]\n",
    "\n",
    "    \n",
    "    if f\"{file_id}.pdf\" in title_to_content[\"train_f1\"] or f\"{file_id}.pdf\" in title_to_content[\"train_f2\"]:\n",
    "        # ipdb.set_trace()\n",
    "        continue \n",
    "\n",
    "    if i >= (no_leaderboard_pourcentage_train_f1+no_leaderboard_pourcentage_train_f2)//2:\n",
    "        break \n",
    "        \n",
    "    \n",
    "    try:\n",
    "        with open(f'{arxiv_no_leaderboard_full_txt}/{file_id}_summarised.txt', 'r') as file:\n",
    "            # Read the file\n",
    "            data = file.read()\n",
    "        \n",
    "    except :\n",
    "        missed_parsing += 1\n",
    "        continue \n",
    "\n",
    "    if len(data.split()) < 10:\n",
    "        missed_short_context += 1\n",
    "        continue\n",
    "    else:\n",
    "        title_to_content[\"train_f1\"][f\"{file_id}.pdf\"] = data\n",
    "        title_to_content[\"train_f2\"][f\"{file_id}.pdf\"] = data\n",
    "        global_title_to_content[f\"{file_id}.pdf\"] = data\n",
    "        papers_in_training.append(f\"{file_id}.pdf\")\n",
    "        no_leaderboard_papers.append(f\"{file_id}.pdf\")\n",
    "        i += 1\n",
    "\n",
    "print(f\"TRAIN F1&F2:\\Added No_LB_Papers: {i}\\nMissed Parsing: {missed_parsing}\\\n",
    "\\nMissed Short Context: {missed_short_context}\\n\") \n",
    "\n",
    "i = 0\n",
    "\n",
    "for file_id_sum_txt in tqdm(os.listdir(arxiv_no_leaderboard_full_txt), total = len(os.listdir(arxiv_no_leaderboard_full_txt))):\n",
    "    \n",
    "    file_id = file_id_sum_txt.rsplit(\"_\", 1)[0]\n",
    "\n",
    "    \n",
    "    if f\"{file_id}.pdf\" in title_to_content[\"dev_f1\"] or f\"{file_id}.pdf\" in title_to_content[\"dev_f2\"]  or f\"{file_id}.pdf\" in papers_in_training:\n",
    "        # ipdb.set_trace()\n",
    "        continue \n",
    "\n",
    "    if i >= (no_leaderboard_pourcentage_dev_f1+no_leaderboard_pourcentage_dev_f2)//2:\n",
    "        break \n",
    "        \n",
    "    \n",
    "    try:\n",
    "        with open(f'{arxiv_no_leaderboard_full_txt}/{file_id}_summarised.txt', 'r') as file:\n",
    "            # Read the file\n",
    "            data = file.read()\n",
    "        \n",
    "    except :\n",
    "        missed_parsing += 1\n",
    "        continue \n",
    "\n",
    "    if len(data.split()) < 10:\n",
    "        missed_short_context += 1\n",
    "        continue\n",
    "    else:\n",
    "        title_to_content[\"dev_f1\"][f\"{file_id}.pdf\"] = data\n",
    "        title_to_content[\"dev_f2\"][f\"{file_id}.pdf\"] = data\n",
    "        global_title_to_content[f\"{file_id}.pdf\"] = data\n",
    "        no_leaderboard_papers.append(f\"{file_id}.pdf\")\n",
    "        i += 1\n",
    "\n",
    "print(f\"DEV F1&F2:\\Added No_LB_Papers: {i}\\nMissed Parsing: {missed_parsing}\\\n",
    "\\nMissed Short Context: {missed_short_context}\\n\") "
   ]
  },
  {
   "cell_type": "code",
   "execution_count": 32,
   "metadata": {},
   "outputs": [
    {
     "name": "stdout",
     "output_type": "stream",
     "text": [
      "Final total train f1 after adding 12388\n",
      "Final total dev f1 after adding 1642\n",
      "Final total train f2 after adding 12382\n",
      "Final total dev f1 after adding 1648\n"
     ]
    }
   ],
   "source": [
    "print(f'Final total train f1 after adding {len(title_to_content[\"train_f1\"].keys())}')\n",
    "print(f'Final total dev f1 after adding {len(title_to_content[\"dev_f1\"].keys())}')\n",
    "print(f'Final total train f2 after adding {len(title_to_content[\"train_f2\"].keys())}')\n",
    "print(f'Final total dev f1 after adding {len(title_to_content[\"dev_f2\"].keys())}')"
   ]
  },
  {
   "cell_type": "code",
   "execution_count": 33,
   "metadata": {},
   "outputs": [
    {
     "data": {
      "text/plain": [
       "1238.8"
      ]
     },
     "execution_count": 33,
     "metadata": {},
     "output_type": "execute_result"
    }
   ],
   "source": [
    "12388*10/100"
   ]
  },
  {
   "cell_type": "code",
   "execution_count": 34,
   "metadata": {},
   "outputs": [],
   "source": [
    "# train_f1_pd[\"Lenght context\"] = train_f1_pd.Context.apply(lambda x: len(x.split()))\n",
    "# dev_f1_pd[\"Lenght context\"] = dev_f1_pd.Context.apply(lambda x: len(x.split()))\n",
    "# train_f2_pd[\"Lenght context\"] = train_f2_pd.Context.apply(lambda x: len(x.split()))\n",
    "# dev_f2_pd[\"Lenght context\"] = dev_f2_pd.Context.apply(lambda x: len(x.split()))"
   ]
  },
  {
   "cell_type": "code",
   "execution_count": 35,
   "metadata": {},
   "outputs": [],
   "source": [
    "# train_pd[train_pd[\"Lenght context\"] < 400]"
   ]
  },
  {
   "cell_type": "code",
   "execution_count": 36,
   "metadata": {},
   "outputs": [],
   "source": [
    "# train_pd = train_pd[train_pd[\"Lenght context\"] < 400]"
   ]
  },
  {
   "cell_type": "code",
   "execution_count": 37,
   "metadata": {},
   "outputs": [],
   "source": [
    "# print(\"train_f1_pd describe: \")\n",
    "# display(train_f1_pd.describe())\n",
    "# print(\"dev_f1_pd describe: \")\n",
    "# display(dev_f1_pd.describe())\n",
    "\n",
    "# print(\"train_f2_pd describe: \")\n",
    "# display(train_f2_pd.describe())\n",
    "# print(\"dev_f2_pd describe: \")\n",
    "# display(dev_f2_pd.describe())"
   ]
  },
  {
   "cell_type": "code",
   "execution_count": null,
   "metadata": {},
   "outputs": [],
   "source": []
  },
  {
   "cell_type": "code",
   "execution_count": 38,
   "metadata": {},
   "outputs": [],
   "source": [
    "# Title' : title, \n",
    "# 'TDMSs' : global_title_to_tdms_dict[title] if title in global_title_to_tdms_dict.keys() else \"unanswerable\",\n",
    "# 'Context' : title_to_content[\"train_f1\"][title],\n",
    "# 'Lenght Context': len(title_to_content[\"train_f1\"][title].split()),\n",
    "# 'Lenght TDMSs': len(str(global_title_to_tdms_dict[title] if title in global_title_to_tdms_dict.keys() else \"unanswerable\").split())\n",
    "\n",
    "\n",
    "\n",
    "# shutil.copyfile(src, dst)"
   ]
  },
  {
   "cell_type": "markdown",
   "metadata": {},
   "source": [
    "## Create data for codalab "
   ]
  },
  {
   "cell_type": "code",
   "execution_count": 39,
   "metadata": {},
   "outputs": [],
   "source": [
    "root_data_folder = \"/nfs/home/kabenamualus/Research/LLLM-LeaderboardLLM/data_proccess\"\n",
    "\n",
    "arxiv_leaderboard_folder = f\"{root_data_folder}/arxiv_tex_dec092023\"\n",
    "\n",
    "arxiv_no_leaderboard_fold = f\"{root_data_folder}/arxiv_no_leaderboard_tex_25_000\"\n",
    "\n",
    "target_folder = f\"{root_data_folder}/codalab/fewshot\"\n",
    "\n",
    "# zero_shot_file = \"/nfs/home/kabenamualus/Research/task-dataset-metric-nli-extraction/data/zero-shot/new_output/fold1/zero_shot_papers_with_true_only.tsv\"\n",
    "zero_shot_file = f\"/nfs/home/kabenamualus/Research/task-dataset-metric-nli-extraction/data/zero-shot/new_output/fold1/arxiv_pdf_zero_shot_1000/test.tsv\""
   ]
  },
  {
   "cell_type": "code",
   "execution_count": 40,
   "metadata": {},
   "outputs": [
    {
     "name": "stdout",
     "output_type": "stream",
     "text": [
      "Final total train f1 after adding 12388\n",
      "Final total dev f1 after adding 1642\n",
      "Final total train f2 after adding 12382\n",
      "Final total dev f1 after adding 1648\n"
     ]
    }
   ],
   "source": [
    "print(f'Final total train f1 after adding {len(title_to_content[\"train_f1\"].keys())}')\n",
    "print(f'Final total dev f1 after adding {len(title_to_content[\"dev_f1\"].keys())}')\n",
    "print(f'Final total train f2 after adding {len(title_to_content[\"train_f2\"].keys())}')\n",
    "print(f'Final total dev f1 after adding {len(title_to_content[\"dev_f2\"].keys())}')"
   ]
  },
  {
   "cell_type": "code",
   "execution_count": 41,
   "metadata": {},
   "outputs": [
    {
     "data": {
      "text/html": [
       "<div>\n",
       "<style scoped>\n",
       "    .dataframe tbody tr th:only-of-type {\n",
       "        vertical-align: middle;\n",
       "    }\n",
       "\n",
       "    .dataframe tbody tr th {\n",
       "        vertical-align: top;\n",
       "    }\n",
       "\n",
       "    .dataframe thead th {\n",
       "        text-align: right;\n",
       "    }\n",
       "</style>\n",
       "<table border=\"1\" class=\"dataframe\">\n",
       "  <thead>\n",
       "    <tr style=\"text-align: right;\">\n",
       "      <th></th>\n",
       "      <th>label</th>\n",
       "      <th>title</th>\n",
       "      <th>TDM</th>\n",
       "      <th>Context</th>\n",
       "    </tr>\n",
       "  </thead>\n",
       "  <tbody>\n",
       "    <tr>\n",
       "      <th>1937995</th>\n",
       "      <td>False</td>\n",
       "      <td>2007.01548v2.pdf</td>\n",
       "      <td>Relation Extraction; ACE 2005; RE Micro F1</td>\n",
       "      <td>Multiple Instance-Based Video Anomaly Detectio...</td>\n",
       "    </tr>\n",
       "    <tr>\n",
       "      <th>1937996</th>\n",
       "      <td>False</td>\n",
       "      <td>2007.01548v2.pdf</td>\n",
       "      <td>Named Entity Recognition; BC2GM; F1</td>\n",
       "      <td>Multiple Instance-Based Video Anomaly Detectio...</td>\n",
       "    </tr>\n",
       "    <tr>\n",
       "      <th>1937997</th>\n",
       "      <td>False</td>\n",
       "      <td>2007.01548v2.pdf</td>\n",
       "      <td>Action Classification; Kinetics-600; GFLOPs</td>\n",
       "      <td>Multiple Instance-Based Video Anomaly Detectio...</td>\n",
       "    </tr>\n",
       "    <tr>\n",
       "      <th>1937998</th>\n",
       "      <td>False</td>\n",
       "      <td>2007.01548v2.pdf</td>\n",
       "      <td>Visual Question Answering; A-OKVQA; MC Accuracy</td>\n",
       "      <td>Multiple Instance-Based Video Anomaly Detectio...</td>\n",
       "    </tr>\n",
       "    <tr>\n",
       "      <th>1937999</th>\n",
       "      <td>False</td>\n",
       "      <td>2007.01548v2.pdf</td>\n",
       "      <td>unknown</td>\n",
       "      <td>Multiple Instance-Based Video Anomaly Detectio...</td>\n",
       "    </tr>\n",
       "  </tbody>\n",
       "</table>\n",
       "</div>"
      ],
      "text/plain": [
       "         label             title  \\\n",
       "1937995  False  2007.01548v2.pdf   \n",
       "1937996  False  2007.01548v2.pdf   \n",
       "1937997  False  2007.01548v2.pdf   \n",
       "1937998  False  2007.01548v2.pdf   \n",
       "1937999  False  2007.01548v2.pdf   \n",
       "\n",
       "                                                     TDM  \\\n",
       "1937995       Relation Extraction; ACE 2005; RE Micro F1   \n",
       "1937996              Named Entity Recognition; BC2GM; F1   \n",
       "1937997      Action Classification; Kinetics-600; GFLOPs   \n",
       "1937998  Visual Question Answering; A-OKVQA; MC Accuracy   \n",
       "1937999                                          unknown   \n",
       "\n",
       "                                                   Context  \n",
       "1937995  Multiple Instance-Based Video Anomaly Detectio...  \n",
       "1937996  Multiple Instance-Based Video Anomaly Detectio...  \n",
       "1937997  Multiple Instance-Based Video Anomaly Detectio...  \n",
       "1937998  Multiple Instance-Based Video Anomaly Detectio...  \n",
       "1937999  Multiple Instance-Based Video Anomaly Detectio...  "
      ]
     },
     "execution_count": 41,
     "metadata": {},
     "output_type": "execute_result"
    }
   ],
   "source": [
    "test_f1_pd = pd.read_csv(f\"{zero_shot_file}\", \n",
    "                    sep=\"\\t\", names=[\"label\", \"title\", \"TDM\", \"Context\"])\n",
    "\n",
    "test_f1_pd.tail()"
   ]
  },
  {
   "cell_type": "code",
   "execution_count": 42,
   "metadata": {},
   "outputs": [
    {
     "data": {
      "text/html": [
       "<div>\n",
       "<style scoped>\n",
       "    .dataframe tbody tr th:only-of-type {\n",
       "        vertical-align: middle;\n",
       "    }\n",
       "\n",
       "    .dataframe tbody tr th {\n",
       "        vertical-align: top;\n",
       "    }\n",
       "\n",
       "    .dataframe thead th {\n",
       "        text-align: right;\n",
       "    }\n",
       "</style>\n",
       "<table border=\"1\" class=\"dataframe\">\n",
       "  <thead>\n",
       "    <tr style=\"text-align: right;\">\n",
       "      <th></th>\n",
       "      <th>label</th>\n",
       "      <th>title</th>\n",
       "      <th>TDM</th>\n",
       "      <th>Context</th>\n",
       "    </tr>\n",
       "  </thead>\n",
       "  <tbody>\n",
       "    <tr>\n",
       "      <th>163</th>\n",
       "      <td>True</td>\n",
       "      <td>2209.03182v1.pdf</td>\n",
       "      <td>Named Entity Recognition; BC5CDR-disease; F1</td>\n",
       "      <td>On the Effectiveness of Compact Biomedical Tra...</td>\n",
       "    </tr>\n",
       "    <tr>\n",
       "      <th>1283</th>\n",
       "      <td>True</td>\n",
       "      <td>2209.03182v1.pdf</td>\n",
       "      <td>Named Entity Recognition; BC5CDR-chemical; F1</td>\n",
       "      <td>On the Effectiveness of Compact Biomedical Tra...</td>\n",
       "    </tr>\n",
       "    <tr>\n",
       "      <th>1934</th>\n",
       "      <td>True</td>\n",
       "      <td>2209.03182v1.pdf</td>\n",
       "      <td>Named Entity Recognition; BC2GM; F1</td>\n",
       "      <td>On the Effectiveness of Compact Biomedical Tra...</td>\n",
       "    </tr>\n",
       "    <tr>\n",
       "      <th>2748</th>\n",
       "      <td>True</td>\n",
       "      <td>2102.06108v1.pdf</td>\n",
       "      <td>Image Generation; FFHQ 1024 x 1024; FID</td>\n",
       "      <td>SWAGAN: A Style-based WAvelet-driven Generativ...</td>\n",
       "    </tr>\n",
       "    <tr>\n",
       "      <th>3958</th>\n",
       "      <td>True</td>\n",
       "      <td>1911.03911v2.pdf</td>\n",
       "      <td>Semantic Retrieval; Contract Discovery; Soft-F1</td>\n",
       "      <td>Contract Discovery: Dataset and a Few-Shot Sem...</td>\n",
       "    </tr>\n",
       "    <tr>\n",
       "      <th>...</th>\n",
       "      <td>...</td>\n",
       "      <td>...</td>\n",
       "      <td>...</td>\n",
       "      <td>...</td>\n",
       "    </tr>\n",
       "    <tr>\n",
       "      <th>1933078</th>\n",
       "      <td>True</td>\n",
       "      <td>2205.13271v2.pdf</td>\n",
       "      <td>Unsupervised Object Segmentation; ClevrTex; MSE</td>\n",
       "      <td>Unsupervised multi-object segmentation using a...</td>\n",
       "    </tr>\n",
       "    <tr>\n",
       "      <th>1933964</th>\n",
       "      <td>True</td>\n",
       "      <td>2205.13271v2.pdf</td>\n",
       "      <td>Unsupervised Object Segmentation; ObjectsRoom;...</td>\n",
       "      <td>Unsupervised multi-object segmentation using a...</td>\n",
       "    </tr>\n",
       "    <tr>\n",
       "      <th>1935769</th>\n",
       "      <td>True</td>\n",
       "      <td>2002.12177v1.pdf</td>\n",
       "      <td>Self-Supervised Action Recognition; HMDB51; Fr...</td>\n",
       "      <td>Evolving Losses for Unsupervised Video Represe...</td>\n",
       "    </tr>\n",
       "    <tr>\n",
       "      <th>1937416</th>\n",
       "      <td>True</td>\n",
       "      <td>2007.01548v2.pdf</td>\n",
       "      <td>Anomaly Detection In Surveillance Videos; Shan...</td>\n",
       "      <td>Multiple Instance-Based Video Anomaly Detectio...</td>\n",
       "    </tr>\n",
       "    <tr>\n",
       "      <th>1937647</th>\n",
       "      <td>True</td>\n",
       "      <td>2007.01548v2.pdf</td>\n",
       "      <td>Anomaly Detection In Surveillance Videos; UCF-...</td>\n",
       "      <td>Multiple Instance-Based Video Anomaly Detectio...</td>\n",
       "    </tr>\n",
       "  </tbody>\n",
       "</table>\n",
       "<p>3167 rows × 4 columns</p>\n",
       "</div>"
      ],
      "text/plain": [
       "         label             title  \\\n",
       "163       True  2209.03182v1.pdf   \n",
       "1283      True  2209.03182v1.pdf   \n",
       "1934      True  2209.03182v1.pdf   \n",
       "2748      True  2102.06108v1.pdf   \n",
       "3958      True  1911.03911v2.pdf   \n",
       "...        ...               ...   \n",
       "1933078   True  2205.13271v2.pdf   \n",
       "1933964   True  2205.13271v2.pdf   \n",
       "1935769   True  2002.12177v1.pdf   \n",
       "1937416   True  2007.01548v2.pdf   \n",
       "1937647   True  2007.01548v2.pdf   \n",
       "\n",
       "                                                       TDM  \\\n",
       "163           Named Entity Recognition; BC5CDR-disease; F1   \n",
       "1283         Named Entity Recognition; BC5CDR-chemical; F1   \n",
       "1934                   Named Entity Recognition; BC2GM; F1   \n",
       "2748               Image Generation; FFHQ 1024 x 1024; FID   \n",
       "3958       Semantic Retrieval; Contract Discovery; Soft-F1   \n",
       "...                                                    ...   \n",
       "1933078    Unsupervised Object Segmentation; ClevrTex; MSE   \n",
       "1933964  Unsupervised Object Segmentation; ObjectsRoom;...   \n",
       "1935769  Self-Supervised Action Recognition; HMDB51; Fr...   \n",
       "1937416  Anomaly Detection In Surveillance Videos; Shan...   \n",
       "1937647  Anomaly Detection In Surveillance Videos; UCF-...   \n",
       "\n",
       "                                                   Context  \n",
       "163      On the Effectiveness of Compact Biomedical Tra...  \n",
       "1283     On the Effectiveness of Compact Biomedical Tra...  \n",
       "1934     On the Effectiveness of Compact Biomedical Tra...  \n",
       "2748     SWAGAN: A Style-based WAvelet-driven Generativ...  \n",
       "3958     Contract Discovery: Dataset and a Few-Shot Sem...  \n",
       "...                                                    ...  \n",
       "1933078  Unsupervised multi-object segmentation using a...  \n",
       "1933964  Unsupervised multi-object segmentation using a...  \n",
       "1935769  Evolving Losses for Unsupervised Video Represe...  \n",
       "1937416  Multiple Instance-Based Video Anomaly Detectio...  \n",
       "1937647  Multiple Instance-Based Video Anomaly Detectio...  \n",
       "\n",
       "[3167 rows x 4 columns]"
      ]
     },
     "execution_count": 42,
     "metadata": {},
     "output_type": "execute_result"
    }
   ],
   "source": [
    "test_f1_pd = test_f1_pd[test_f1_pd.label==True]\n",
    "test_f1_pd"
   ]
  },
  {
   "cell_type": "code",
   "execution_count": 43,
   "metadata": {},
   "outputs": [
    {
     "data": {
      "text/html": [
       "<div>\n",
       "<style scoped>\n",
       "    .dataframe tbody tr th:only-of-type {\n",
       "        vertical-align: middle;\n",
       "    }\n",
       "\n",
       "    .dataframe tbody tr th {\n",
       "        vertical-align: top;\n",
       "    }\n",
       "\n",
       "    .dataframe thead th {\n",
       "        text-align: right;\n",
       "    }\n",
       "</style>\n",
       "<table border=\"1\" class=\"dataframe\">\n",
       "  <thead>\n",
       "    <tr style=\"text-align: right;\">\n",
       "      <th></th>\n",
       "      <th>label</th>\n",
       "      <th>title</th>\n",
       "      <th>TDM</th>\n",
       "      <th>Context</th>\n",
       "    </tr>\n",
       "  </thead>\n",
       "  <tbody>\n",
       "    <tr>\n",
       "      <th>count</th>\n",
       "      <td>3167</td>\n",
       "      <td>3167</td>\n",
       "      <td>3167</td>\n",
       "      <td>3167</td>\n",
       "    </tr>\n",
       "    <tr>\n",
       "      <th>unique</th>\n",
       "      <td>1</td>\n",
       "      <td>1000</td>\n",
       "      <td>1371</td>\n",
       "      <td>1000</td>\n",
       "    </tr>\n",
       "    <tr>\n",
       "      <th>top</th>\n",
       "      <td>True</td>\n",
       "      <td>2207.07115v2.pdf</td>\n",
       "      <td>Image Classification; ImageNet; GFLOPs</td>\n",
       "      <td>XMem: Long-Term Video Object Segmentation with...</td>\n",
       "    </tr>\n",
       "    <tr>\n",
       "      <th>freq</th>\n",
       "      <td>3167</td>\n",
       "      <td>40</td>\n",
       "      <td>33</td>\n",
       "      <td>40</td>\n",
       "    </tr>\n",
       "  </tbody>\n",
       "</table>\n",
       "</div>"
      ],
      "text/plain": [
       "       label             title                                     TDM  \\\n",
       "count   3167              3167                                    3167   \n",
       "unique     1              1000                                    1371   \n",
       "top     True  2207.07115v2.pdf  Image Classification; ImageNet; GFLOPs   \n",
       "freq    3167                40                                      33   \n",
       "\n",
       "                                                  Context  \n",
       "count                                                3167  \n",
       "unique                                               1000  \n",
       "top     XMem: Long-Term Video Object Segmentation with...  \n",
       "freq                                                   40  "
      ]
     },
     "execution_count": 43,
     "metadata": {},
     "output_type": "execute_result"
    }
   ],
   "source": [
    "test_f1_pd.describe()"
   ]
  },
  {
   "cell_type": "code",
   "execution_count": 44,
   "metadata": {},
   "outputs": [],
   "source": [
    "test_f1_pd.to_csv(f\"{root_data_folder}/test_1000_f1_jcdl.tsv\", \n",
    "                       header=False, index=False, sep=\"\\t\")"
   ]
  },
  {
   "cell_type": "code",
   "execution_count": 45,
   "metadata": {},
   "outputs": [
    {
     "name": "stdout",
     "output_type": "stream",
     "text": [
      "train_f1_pd\n"
     ]
    },
    {
     "data": {
      "text/html": [
       "<div>\n",
       "<style scoped>\n",
       "    .dataframe tbody tr th:only-of-type {\n",
       "        vertical-align: middle;\n",
       "    }\n",
       "\n",
       "    .dataframe tbody tr th {\n",
       "        vertical-align: top;\n",
       "    }\n",
       "\n",
       "    .dataframe thead th {\n",
       "        text-align: right;\n",
       "    }\n",
       "</style>\n",
       "<table border=\"1\" class=\"dataframe\">\n",
       "  <thead>\n",
       "    <tr style=\"text-align: right;\">\n",
       "      <th></th>\n",
       "      <th>label</th>\n",
       "      <th>title</th>\n",
       "      <th>TDM</th>\n",
       "      <th>Context</th>\n",
       "    </tr>\n",
       "  </thead>\n",
       "  <tbody>\n",
       "    <tr>\n",
       "      <th>count</th>\n",
       "      <td>12613</td>\n",
       "      <td>12613</td>\n",
       "      <td>12613</td>\n",
       "      <td>12613</td>\n",
       "    </tr>\n",
       "    <tr>\n",
       "      <th>unique</th>\n",
       "      <td>1</td>\n",
       "      <td>3753</td>\n",
       "      <td>1792</td>\n",
       "      <td>3747</td>\n",
       "    </tr>\n",
       "    <tr>\n",
       "      <th>top</th>\n",
       "      <td>True</td>\n",
       "      <td>1803.00933v1.pdf</td>\n",
       "      <td>unknown</td>\n",
       "      <td>IMPALA: Scalable Distributed Deep-RL with Impo...</td>\n",
       "    </tr>\n",
       "    <tr>\n",
       "      <th>freq</th>\n",
       "      <td>12613</td>\n",
       "      <td>58</td>\n",
       "      <td>923</td>\n",
       "      <td>58</td>\n",
       "    </tr>\n",
       "  </tbody>\n",
       "</table>\n",
       "</div>"
      ],
      "text/plain": [
       "        label             title      TDM  \\\n",
       "count   12613             12613    12613   \n",
       "unique      1              3753     1792   \n",
       "top      True  1803.00933v1.pdf  unknown   \n",
       "freq    12613                58      923   \n",
       "\n",
       "                                                  Context  \n",
       "count                                               12613  \n",
       "unique                                               3747  \n",
       "top     IMPALA: Scalable Distributed Deep-RL with Impo...  \n",
       "freq                                                   58  "
      ]
     },
     "metadata": {},
     "output_type": "display_data"
    },
    {
     "name": "stdout",
     "output_type": "stream",
     "text": [
      "dev_f1_pd\n"
     ]
    },
    {
     "data": {
      "text/html": [
       "<div>\n",
       "<style scoped>\n",
       "    .dataframe tbody tr th:only-of-type {\n",
       "        vertical-align: middle;\n",
       "    }\n",
       "\n",
       "    .dataframe tbody tr th {\n",
       "        vertical-align: top;\n",
       "    }\n",
       "\n",
       "    .dataframe thead th {\n",
       "        text-align: right;\n",
       "    }\n",
       "</style>\n",
       "<table border=\"1\" class=\"dataframe\">\n",
       "  <thead>\n",
       "    <tr style=\"text-align: right;\">\n",
       "      <th></th>\n",
       "      <th>label</th>\n",
       "      <th>title</th>\n",
       "      <th>TDM</th>\n",
       "      <th>Context</th>\n",
       "    </tr>\n",
       "  </thead>\n",
       "  <tbody>\n",
       "    <tr>\n",
       "      <th>count</th>\n",
       "      <td>5472</td>\n",
       "      <td>5472</td>\n",
       "      <td>5472</td>\n",
       "      <td>5472</td>\n",
       "    </tr>\n",
       "    <tr>\n",
       "      <th>unique</th>\n",
       "      <td>1</td>\n",
       "      <td>1608</td>\n",
       "      <td>1557</td>\n",
       "      <td>1606</td>\n",
       "    </tr>\n",
       "    <tr>\n",
       "      <th>top</th>\n",
       "      <td>True</td>\n",
       "      <td>1911.08265v2.pdf</td>\n",
       "      <td>unknown</td>\n",
       "      <td>Mastering Atari, Go, Chess and Shogi by Planni...</td>\n",
       "    </tr>\n",
       "    <tr>\n",
       "      <th>freq</th>\n",
       "      <td>5472</td>\n",
       "      <td>58</td>\n",
       "      <td>378</td>\n",
       "      <td>58</td>\n",
       "    </tr>\n",
       "  </tbody>\n",
       "</table>\n",
       "</div>"
      ],
      "text/plain": [
       "       label             title      TDM  \\\n",
       "count   5472              5472     5472   \n",
       "unique     1              1608     1557   \n",
       "top     True  1911.08265v2.pdf  unknown   \n",
       "freq    5472                58      378   \n",
       "\n",
       "                                                  Context  \n",
       "count                                                5472  \n",
       "unique                                               1606  \n",
       "top     Mastering Atari, Go, Chess and Shogi by Planni...  \n",
       "freq                                                   58  "
      ]
     },
     "metadata": {},
     "output_type": "display_data"
    },
    {
     "name": "stdout",
     "output_type": "stream",
     "text": [
      "train_f2_pd\n"
     ]
    },
    {
     "data": {
      "text/html": [
       "<div>\n",
       "<style scoped>\n",
       "    .dataframe tbody tr th:only-of-type {\n",
       "        vertical-align: middle;\n",
       "    }\n",
       "\n",
       "    .dataframe tbody tr th {\n",
       "        vertical-align: top;\n",
       "    }\n",
       "\n",
       "    .dataframe thead th {\n",
       "        text-align: right;\n",
       "    }\n",
       "</style>\n",
       "<table border=\"1\" class=\"dataframe\">\n",
       "  <thead>\n",
       "    <tr style=\"text-align: right;\">\n",
       "      <th></th>\n",
       "      <th>label</th>\n",
       "      <th>title</th>\n",
       "      <th>TDM</th>\n",
       "      <th>Context</th>\n",
       "    </tr>\n",
       "  </thead>\n",
       "  <tbody>\n",
       "    <tr>\n",
       "      <th>count</th>\n",
       "      <td>12677</td>\n",
       "      <td>12677</td>\n",
       "      <td>12677</td>\n",
       "      <td>12677</td>\n",
       "    </tr>\n",
       "    <tr>\n",
       "      <th>unique</th>\n",
       "      <td>1</td>\n",
       "      <td>3753</td>\n",
       "      <td>1821</td>\n",
       "      <td>3749</td>\n",
       "    </tr>\n",
       "    <tr>\n",
       "      <th>top</th>\n",
       "      <td>True</td>\n",
       "      <td>1911.08265v2.pdf</td>\n",
       "      <td>unknown</td>\n",
       "      <td>Mastering Atari, Go, Chess and Shogi by Planni...</td>\n",
       "    </tr>\n",
       "    <tr>\n",
       "      <th>freq</th>\n",
       "      <td>12677</td>\n",
       "      <td>58</td>\n",
       "      <td>920</td>\n",
       "      <td>58</td>\n",
       "    </tr>\n",
       "  </tbody>\n",
       "</table>\n",
       "</div>"
      ],
      "text/plain": [
       "        label             title      TDM  \\\n",
       "count   12677             12677    12677   \n",
       "unique      1              3753     1821   \n",
       "top      True  1911.08265v2.pdf  unknown   \n",
       "freq    12677                58      920   \n",
       "\n",
       "                                                  Context  \n",
       "count                                               12677  \n",
       "unique                                               3749  \n",
       "top     Mastering Atari, Go, Chess and Shogi by Planni...  \n",
       "freq                                                   58  "
      ]
     },
     "metadata": {},
     "output_type": "display_data"
    },
    {
     "name": "stdout",
     "output_type": "stream",
     "text": [
      "dev_f2_pd\n"
     ]
    },
    {
     "data": {
      "text/html": [
       "<div>\n",
       "<style scoped>\n",
       "    .dataframe tbody tr th:only-of-type {\n",
       "        vertical-align: middle;\n",
       "    }\n",
       "\n",
       "    .dataframe tbody tr th {\n",
       "        vertical-align: top;\n",
       "    }\n",
       "\n",
       "    .dataframe thead th {\n",
       "        text-align: right;\n",
       "    }\n",
       "</style>\n",
       "<table border=\"1\" class=\"dataframe\">\n",
       "  <thead>\n",
       "    <tr style=\"text-align: right;\">\n",
       "      <th></th>\n",
       "      <th>label</th>\n",
       "      <th>title</th>\n",
       "      <th>TDM</th>\n",
       "      <th>Context</th>\n",
       "    </tr>\n",
       "  </thead>\n",
       "  <tbody>\n",
       "    <tr>\n",
       "      <th>count</th>\n",
       "      <td>5408</td>\n",
       "      <td>5408</td>\n",
       "      <td>5408</td>\n",
       "      <td>5408</td>\n",
       "    </tr>\n",
       "    <tr>\n",
       "      <th>unique</th>\n",
       "      <td>1</td>\n",
       "      <td>1608</td>\n",
       "      <td>1542</td>\n",
       "      <td>1608</td>\n",
       "    </tr>\n",
       "    <tr>\n",
       "      <th>top</th>\n",
       "      <td>True</td>\n",
       "      <td>1802.01561v3.pdf</td>\n",
       "      <td>unknown</td>\n",
       "      <td>IMPALA: Scalable Distributed Deep-RL with Impo...</td>\n",
       "    </tr>\n",
       "    <tr>\n",
       "      <th>freq</th>\n",
       "      <td>5408</td>\n",
       "      <td>58</td>\n",
       "      <td>381</td>\n",
       "      <td>58</td>\n",
       "    </tr>\n",
       "  </tbody>\n",
       "</table>\n",
       "</div>"
      ],
      "text/plain": [
       "       label             title      TDM  \\\n",
       "count   5408              5408     5408   \n",
       "unique     1              1608     1542   \n",
       "top     True  1802.01561v3.pdf  unknown   \n",
       "freq    5408                58      381   \n",
       "\n",
       "                                                  Context  \n",
       "count                                                5408  \n",
       "unique                                               1608  \n",
       "top     IMPALA: Scalable Distributed Deep-RL with Impo...  \n",
       "freq                                                   58  "
      ]
     },
     "metadata": {},
     "output_type": "display_data"
    }
   ],
   "source": [
    "# path_to_source = f\"/nfs/home/kabenamualus/Research/task-dataset-metric-nli-extraction/data/pwc_ibm_full_5_10_10000_clone_latex_compare/10Neg10000unk/twofoldwithunk\"\n",
    "path_to_csv = f\"/nfs/home/kabenamualus/Research/task-dataset-metric-nli-extraction/data/pwc_ibm_150_5_10_10000/10Neg10000unk/twofoldwithunk\"\n",
    "\n",
    "fold1 = \"fold1\"\n",
    "train_f1_pd = pd.read_csv(f\"{path_to_csv}/{fold1}/train.tsv\", \n",
    "                    sep=\"\\t\", names=[\"label\", \"title\", \"TDM\", \"Context\"])\n",
    "dev_f1_pd = pd.read_csv(f\"{path_to_csv}/{fold1}/dev.tsv\", \n",
    "                    sep=\"\\t\", names=[\"label\", \"title\", \"TDM\", \"Context\"])\n",
    "\n",
    "fold2 = \"fold2\"\n",
    "train_f2_pd = pd.read_csv(f\"{path_to_csv}/{fold2}/train.tsv\", \n",
    "                    sep=\"\\t\", names=[\"label\", \"title\", \"TDM\", \"Context\"])\n",
    "dev_f2_pd = pd.read_csv(f\"{path_to_csv}/{fold2}/dev.tsv\", \n",
    "                    sep=\"\\t\", names=[\"label\", \"title\", \"TDM\", \"Context\"])\n",
    "\n",
    "# No need for negative instances, but will still have 'duplicate' for paper with more than one leaderboard\n",
    "train_f1_pd = train_f1_pd[train_f1_pd.label==True]\n",
    "print(\"train_f1_pd\")\n",
    "display(train_f1_pd.describe())\n",
    "\n",
    "dev_f1_pd = dev_f1_pd[dev_f1_pd.label==True]\n",
    "print(\"dev_f1_pd\")\n",
    "display(dev_f1_pd.describe())\n",
    "\n",
    "train_f2_pd = train_f2_pd[train_f2_pd.label==True]\n",
    "print(\"train_f2_pd\")\n",
    "display(train_f2_pd.describe())\n",
    "\n",
    "dev_f2_pd = dev_f2_pd[dev_f2_pd.label==True]\n",
    "print(\"dev_f2_pd\")\n",
    "display(dev_f2_pd.describe())"
   ]
  },
  {
   "cell_type": "code",
   "execution_count": 46,
   "metadata": {},
   "outputs": [
    {
     "data": {
      "text/plain": [
       "(1542,)"
      ]
     },
     "execution_count": 46,
     "metadata": {},
     "output_type": "execute_result"
    }
   ],
   "source": [
    "dev_f2_pd.TDM.unique().shape"
   ]
  },
  {
   "cell_type": "code",
   "execution_count": 47,
   "metadata": {},
   "outputs": [
    {
     "name": "stdout",
     "output_type": "stream",
     "text": [
      "21\n"
     ]
    }
   ],
   "source": [
    "i = 0\n",
    "for tdm in train_f2_pd.TDM.unique():\n",
    "    if tdm in test_f1_pd.TDM.unique():\n",
    "        # print(tdm)\n",
    "        i+=1\n",
    "        \n",
    "print(i)"
   ]
  },
  {
   "cell_type": "code",
   "execution_count": 48,
   "metadata": {},
   "outputs": [
    {
     "name": "stdout",
     "output_type": "stream",
     "text": [
      "21\n"
     ]
    }
   ],
   "source": [
    "i = 0\n",
    "for tdm in test_f1_pd.TDM.unique():\n",
    "    if tdm in train_f2_pd.TDM.unique():\n",
    "        # print(tdm)\n",
    "        i+=1\n",
    "        \n",
    "print(i)"
   ]
  },
  {
   "cell_type": "code",
   "execution_count": 49,
   "metadata": {},
   "outputs": [],
   "source": [
    "\n",
    "def calculate_fuzz_ratio(text1, text2):\n",
    "    return fuzz.ratio(str(text1).strip().lower(), str(text2).strip().lower())"
   ]
  },
  {
   "cell_type": "code",
   "execution_count": 50,
   "metadata": {},
   "outputs": [
    {
     "data": {
      "text/plain": [
       "92"
      ]
     },
     "execution_count": 50,
     "metadata": {},
     "output_type": "execute_result"
    }
   ],
   "source": [
    "calculate_fuzz_ratio(\"BG; 1-2\", \"BG;1-2\")"
   ]
  },
  {
   "cell_type": "code",
   "execution_count": 51,
   "metadata": {},
   "outputs": [],
   "source": [
    "for ppaer in global_title_to_tdms_dict:\n",
    "    # ipdb.set_trace()\n",
    "    if global_title_to_tdms_dict[ppaer] ==[]:\n",
    "        ipdb.set_trace()\n",
    "        \n",
    "# tdms = global_title_to_tdms_dict[k] if k in global_title_to_tdms_dict.keys() else \"unanswerable\"\n",
    "    \n",
    "# if tdms == \"unanswerable\":\n",
    "#     unanswerable_count += 1\n",
    "# else:\n",
    "#     answerable_count += 1\n",
    "    \n",
    "# if tdms == []:\n",
    "#     ipdb.set_trace()"
   ]
  },
  {
   "cell_type": "code",
   "execution_count": 52,
   "metadata": {},
   "outputs": [
    {
     "name": "stderr",
     "output_type": "stream",
     "text": [
      "100%|██████████| 12388/12388 [52:09<00:00,  3.96it/s]  "
     ]
    },
    {
     "name": "stdout",
     "output_type": "stream",
     "text": [
      "missed_parsing_zero 0\n"
     ]
    },
    {
     "name": "stderr",
     "output_type": "stream",
     "text": [
      "\n"
     ]
    },
    {
     "data": {
      "text/plain": [
       "2663"
      ]
     },
     "execution_count": 52,
     "metadata": {},
     "output_type": "execute_result"
    }
   ],
   "source": [
    "papers_to_drop = []\n",
    "missed_parsing_zero = 0\n",
    "THRESHOLD = 90\n",
    "\n",
    "for paper, contents in tqdm(title_to_content[\"train_f1\"].items(), total=len(title_to_content[\"train_f1\"].items())):\n",
    "    tdms = global_title_to_tdms_dict[paper] if paper in global_title_to_tdms_dict.keys() else \"unanswerable\" if paper in no_leaderboard_papers else \"missed\"\n",
    "    \n",
    "    if tdms == \"unanswerable\" or tdms == \"missed\":\n",
    "        # ipdb.set_trace()\n",
    "        continue \n",
    "    \n",
    "    for tdm in test_f1_pd.TDM.unique():\n",
    "        \n",
    "        try:\n",
    "            test_task, test_dataset, test_metric = tdm.split(\";\", 2)\n",
    "            test_task, test_dataset, test_metric = test_task.strip(), test_dataset.strip(), test_metric.strip()\n",
    "        except :\n",
    "            missed_parsing_zero += 1\n",
    "            \n",
    "            continue \n",
    "        \n",
    "        if paper in papers_to_drop:\n",
    "            break\n",
    "        \n",
    "        for leaderboard in tdms:\n",
    "            train_task = leaderboard[\"LEADERBOARD\"][\"Task\"]\n",
    "            train_dataset = leaderboard[\"LEADERBOARD\"][\"Dataset\"]\n",
    "            train_metric = leaderboard[\"LEADERBOARD\"][\"Metric\"]\n",
    "            train_score = leaderboard[\"LEADERBOARD\"][\"Score\"]\n",
    "            \n",
    "            train_task, train_dataset, train_metric = train_task.strip(), train_dataset.strip(), train_metric.strip()\n",
    "            \n",
    "            # # A) Exact \n",
    "            # if train_task == test_task and train_dataset == test_dataset and train_metric == test_metric:\n",
    "                \n",
    "            # B) Partial \n",
    "            if calculate_fuzz_ratio(train_task, test_task) >= THRESHOLD and calculate_fuzz_ratio(train_dataset, test_dataset) >= THRESHOLD and calculate_fuzz_ratio(train_metric, test_metric) >= THRESHOLD:\n",
    "            \n",
    "                papers_to_drop.append(paper)\n",
    "                # ipdb.set_trace()\n",
    "                break \n",
    "        \n",
    "print(f\"missed_parsing_zero {missed_parsing_zero}\")       \n",
    "len(papers_to_drop)"
   ]
  },
  {
   "cell_type": "code",
   "execution_count": 53,
   "metadata": {},
   "outputs": [],
   "source": [
    "# 2564\n"
   ]
  },
  {
   "cell_type": "code",
   "execution_count": 54,
   "metadata": {},
   "outputs": [
    {
     "data": {
      "text/plain": [
       "['2006.10721v2.pdf',\n",
       " '1901.10995v4.pdf',\n",
       " '2105.02209v1.pdf',\n",
       " '1901.00392v2.pdf',\n",
       " '2009.04703v2.pdf']"
      ]
     },
     "execution_count": 54,
     "metadata": {},
     "output_type": "execute_result"
    }
   ],
   "source": [
    "papers_to_drop[:5]"
   ]
  },
  {
   "cell_type": "code",
   "execution_count": 55,
   "metadata": {},
   "outputs": [
    {
     "data": {
      "text/plain": [
       "2663"
      ]
     },
     "execution_count": 55,
     "metadata": {},
     "output_type": "execute_result"
    }
   ],
   "source": [
    "len(papers_to_drop)"
   ]
  },
  {
   "cell_type": "code",
   "execution_count": 56,
   "metadata": {},
   "outputs": [
    {
     "data": {
      "text/plain": [
       "(1000,)"
      ]
     },
     "execution_count": 56,
     "metadata": {},
     "output_type": "execute_result"
    }
   ],
   "source": [
    "test_f1_pd.title.unique().shape"
   ]
  },
  {
   "cell_type": "code",
   "execution_count": 57,
   "metadata": {},
   "outputs": [
    {
     "name": "stderr",
     "output_type": "stream",
     "text": [
      "100%|██████████| 12388/12388 [04:42<00:00, 43.79it/s]"
     ]
    },
    {
     "name": "stdout",
     "output_type": "stream",
     "text": [
      "unanswerable_count : 4128\n",
      "missed_count : 273\n",
      "answerable_count : 5324\n"
     ]
    },
    {
     "name": "stderr",
     "output_type": "stream",
     "text": [
      "\n"
     ]
    }
   ],
   "source": [
    "arxiv_leaderboard_folder = \"\\\n",
    "/nfs/home/kabenamualus/Research/LLLM-LeaderboardLLM/data_proccess/arxiv_tex_dec092023\"\n",
    "\n",
    "arxiv_no_leaderboard_fold = \"\\\n",
    "/nfs/home/kabenamualus/Research/LLLM-LeaderboardLLM/data_proccess/arxiv_no_leaderboard_tex_25_000\"\n",
    "\n",
    "target_folder = \"\\\n",
    "/nfs/home/kabenamualus/Research/LLLM-LeaderboardLLM/data_proccess/codalab\"\n",
    "\n",
    "# zero_shot_test_data = \"\"\n",
    "\n",
    "unanswerable_count = 0\n",
    "answerable_count = 0\n",
    "missed_count = 0\n",
    "\n",
    "for k, v in tqdm(title_to_content[\"train_f1\"].items(), total=len(title_to_content[\"train_f1\"].items())):\n",
    "    \n",
    "    if k in papers_to_drop:\n",
    "        # ipdb.set_trace()\n",
    "        continue \n",
    "    \n",
    "    tdms = global_title_to_tdms_dict[k] if k in global_title_to_tdms_dict.keys() else \"unanswerable\" if k in no_leaderboard_papers else \"missed\"\n",
    "    \n",
    "    if tdms == \"unanswerable\":\n",
    "        unanswerable_count += 1\n",
    "    elif tdms == \"missed\":\n",
    "        missed_count += 1\n",
    "        continue\n",
    "    else:\n",
    "        answerable_count += 1\n",
    "        \n",
    "    if tdms == []:\n",
    "        ipdb.set_trace()\n",
    "    \n",
    "    id_k = k.rsplit(\".\", 1)[0]\n",
    "    if not os.path.exists(f\"{target_folder}/train/{id_k}\"):\n",
    "        os.makedirs(f\"{target_folder}/train/{id_k}\")\n",
    "\n",
    "    src_lb = f\"{arxiv_leaderboard_folder}/{id_k}.tex\"\n",
    "    dst = f\"{target_folder}/train/{id_k}/{id_k}.tex\"\n",
    "\n",
    "    src_no_lb = f\"{arxiv_no_leaderboard_fold}/{id_k}.tex\"\n",
    "    \n",
    "    if os.path.exists(src_lb):\n",
    "        shutil.copyfile(src_lb, dst)\n",
    "\n",
    "    if os.path.exists(src_no_lb):\n",
    "        shutil.copyfile(src_no_lb, dst)\n",
    "        \n",
    "    with open(f'{target_folder}/train/{id_k}/annotations.txt', 'w') as file:\n",
    "        file.write(f\"{''.join(str(tdms))}\\n\")\n",
    "          \n",
    "print(f\"unanswerable_count : {unanswerable_count}\")\n",
    "print(f\"missed_count : {missed_count}\")\n",
    "print(f\"answerable_count : {answerable_count}\")"
   ]
  },
  {
   "cell_type": "code",
   "execution_count": 58,
   "metadata": {},
   "outputs": [],
   "source": [
    "# 100%|██████████| 12388/12388 [01:03<00:00, 193.73it/s]\n",
    "\n",
    "# unanswerable_count : 4128\n",
    "# missed_count : 273\n",
    "# answerable_count : 5423\n",
    "\n",
    "# 100%|██████████| 12388/12388 [01:06<00:00, 185.92it/s]\n",
    "# unanswerable_count : 4128\n",
    "# missed_count : 273\n",
    "# answerable_count : 5324\n",
    "\n",
    "\n"
   ]
  },
  {
   "cell_type": "code",
   "execution_count": 59,
   "metadata": {},
   "outputs": [
    {
     "data": {
      "text/plain": [
       "9452"
      ]
     },
     "execution_count": 59,
     "metadata": {},
     "output_type": "execute_result"
    }
   ],
   "source": [
    "5324+4128"
   ]
  },
  {
   "cell_type": "code",
   "execution_count": 60,
   "metadata": {},
   "outputs": [
    {
     "name": "stderr",
     "output_type": "stream",
     "text": [
      " 82%|████████▏ | 1343/1642 [00:34<00:10, 29.30it/s]"
     ]
    },
    {
     "name": "stderr",
     "output_type": "stream",
     "text": [
      "100%|██████████| 1642/1642 [00:43<00:00, 37.36it/s]"
     ]
    },
    {
     "name": "stdout",
     "output_type": "stream",
     "text": [
      "unanswerable_count : 548\n",
      "missed_count : 100\n",
      "answerable_count : 994\n"
     ]
    },
    {
     "name": "stderr",
     "output_type": "stream",
     "text": [
      "\n"
     ]
    }
   ],
   "source": [
    "# fewshot\n",
    "\n",
    "unanswerable_count = 0\n",
    "answerable_count = 0\n",
    "missed_count = 0\n",
    "\n",
    "for k, v in tqdm(title_to_content[\"dev_f1\"].items(), total=len(title_to_content[\"dev_f1\"].items())):\n",
    "    \n",
    "    tdms = global_title_to_tdms_dict[k] if k in global_title_to_tdms_dict.keys() else \"unanswerable\" if k in no_leaderboard_papers else \"missed\"\n",
    "    \n",
    "    if tdms == \"unanswerable\":\n",
    "        unanswerable_count += 1\n",
    "    elif tdms == \"missed\":\n",
    "        missed_count += 1\n",
    "        continue\n",
    "    else:\n",
    "        answerable_count += 1\n",
    "        \n",
    "                \n",
    "    id_k = k.rsplit(\".\", 1)[0]\n",
    "    if not os.path.exists(f\"{target_folder}/fewshot/test/{id_k}\"):\n",
    "        os.makedirs(f\"{target_folder}/fewshot/test/{id_k}\")\n",
    "\n",
    "    src_lb = f\"{arxiv_leaderboard_folder}/{id_k}.tex\"\n",
    "    dst = f\"{target_folder}/fewshot/test/{id_k}/{id_k}.tex\"\n",
    "\n",
    "    src_no_lb = f\"{arxiv_no_leaderboard_fold}/{id_k}.tex\"\n",
    "    \n",
    "    if os.path.exists(src_lb):\n",
    "        shutil.copyfile(src_lb, dst)\n",
    "\n",
    "    if os.path.exists(src_no_lb):\n",
    "        shutil.copyfile(src_no_lb, dst)\n",
    "                \n",
    "\n",
    "    with open(f'{target_folder}/fewshot/test/{id_k}/annotations.txt', 'w') as file:\n",
    "        file.write(f\"{''.join(str(tdms))}\\n\")\n",
    "\n",
    "print(f\"unanswerable_count : {unanswerable_count}\")\n",
    "print(f\"missed_count : {missed_count}\")\n",
    "print(f\"answerable_count : {answerable_count}\")"
   ]
  },
  {
   "cell_type": "code",
   "execution_count": 61,
   "metadata": {},
   "outputs": [],
   "source": [
    "# 100%|██████████| 1642/1642 [00:10<00:00, 155.69it/s]\n",
    "# unanswerable_count : 548\n",
    "# missed_count : 100\n",
    "# answerable_count : 994\n",
    "\n",
    "#  75%|███████▍  | 1229/1642 [00:07<00:02, 142.20it/s]\n",
    "# 100%|██████████| 1642/1642 [00:10<00:00, 153.60it/s]\n",
    "# unanswerable_count : 548\n",
    "# missed_count : 100\n",
    "# answerable_count : 994"
   ]
  },
  {
   "cell_type": "code",
   "execution_count": 62,
   "metadata": {},
   "outputs": [
    {
     "name": "stderr",
     "output_type": "stream",
     "text": [
      "100%|██████████| 1000/1000 [00:27<00:00, 35.75it/s]\n",
      " 91%|█████████ | 1494/1642 [00:12<00:01, 121.59it/s] "
     ]
    },
    {
     "name": "stdout",
     "output_type": "stream",
     "text": [
      "unanswerable_count : 400\n",
      "missed_count : 57\n",
      "answerable_count : 943\n"
     ]
    },
    {
     "name": "stderr",
     "output_type": "stream",
     "text": [
      "\n"
     ]
    }
   ],
   "source": [
    "# Zeroshot\n",
    "\n",
    "unanswerable_count = 0\n",
    "answerable_count = 0\n",
    "missed_count = 0\n",
    "\n",
    "for k in tqdm(test_f1_pd.title.unique(), total=len(test_f1_pd.title.unique())):\n",
    "    \n",
    "    tdms = global_title_to_tdms_dict[k] if k in global_title_to_tdms_dict.keys() else \"unanswerable\" if k in no_leaderboard_papers else \"missed\"\n",
    "    \n",
    "    if tdms == \"unanswerable\":\n",
    "        unanswerable_count += 1\n",
    "    elif tdms == \"missed\":\n",
    "        missed_count += 1\n",
    "        continue\n",
    "    else:\n",
    "        answerable_count += 1\n",
    "        \n",
    "    if tdms == []:\n",
    "        ipdb.set_trace()\n",
    "        \n",
    "    id_k = k.rsplit(\".\", 1)[0]\n",
    "    if not os.path.exists(f\"{target_folder}/zeroshot/test/{id_k}\"):\n",
    "        os.makedirs(f\"{target_folder}/zeroshot/test/{id_k}\")\n",
    "\n",
    "    src_lb = f\"{arxiv_leaderboard_folder}/{id_k}.tex\"\n",
    "    dst = f\"{target_folder}/zeroshot/test/{id_k}/{id_k}.tex\"\n",
    "\n",
    "    src_no_lb = f\"{arxiv_no_leaderboard_fold}/{id_k}.tex\"\n",
    "    \n",
    "    if os.path.exists(src_lb):\n",
    "        shutil.copyfile(src_lb, dst)\n",
    "\n",
    "    if os.path.exists(src_no_lb):\n",
    "        shutil.copyfile(src_no_lb, dst)\n",
    "        \n",
    "\n",
    "    with open(f'{target_folder}/zeroshot/test/{id_k}/annotations.txt', 'w') as file:\n",
    "        file.write(f\"{''.join(str(tdms))}\\n\")\n",
    "\n",
    "\n",
    "# additional no learderboard papers \n",
    "additional_no_lb = 0\n",
    "for k, v in tqdm(title_to_content[\"dev_f1\"].items(), total=len(title_to_content[\"dev_f1\"].items())):\n",
    "    \n",
    "    if k not in no_leaderboard_papers:\n",
    "        continue \n",
    "    \n",
    "    if additional_no_lb >= 400:\n",
    "        break\n",
    "    \n",
    "    tdms = global_title_to_tdms_dict[k] if k in global_title_to_tdms_dict.keys() else \"unanswerable\" if k in no_leaderboard_papers else \"missed\"\n",
    "    \n",
    "    if tdms == \"unanswerable\":\n",
    "        unanswerable_count += 1\n",
    "        # ipdb.set_trace()\n",
    "    elif tdms == \"missed\":\n",
    "        missed_count += 1\n",
    "        continue\n",
    "    else:\n",
    "        answerable_count += 1\n",
    "        \n",
    "        \n",
    "    id_k = k.rsplit(\".\", 1)[0]\n",
    "    if not os.path.exists(f\"{target_folder}/zeroshot/test/{id_k}\"):\n",
    "        os.makedirs(f\"{target_folder}/zeroshot/test/{id_k}\")\n",
    "\n",
    "    src_lb = f\"{arxiv_leaderboard_folder}/{id_k}.tex\"\n",
    "    dst = f\"{target_folder}/zeroshot/test/{id_k}/{id_k}.tex\"\n",
    "\n",
    "    src_no_lb = f\"{arxiv_no_leaderboard_fold}/{id_k}.tex\"\n",
    "    \n",
    "    if os.path.exists(src_lb):\n",
    "        shutil.copyfile(src_lb, dst)\n",
    "\n",
    "    if os.path.exists(src_no_lb):\n",
    "        shutil.copyfile(src_no_lb, dst)        \n",
    "\n",
    "    with open(f'{target_folder}/zeroshot/test/{id_k}/annotations.txt', 'w') as file:\n",
    "        file.write(f\"{''.join(str(tdms))}\\n\")\n",
    "    \n",
    "    additional_no_lb+=1\n",
    "        \n",
    "print(f\"unanswerable_count : {unanswerable_count}\")\n",
    "print(f\"missed_count : {missed_count}\")\n",
    "print(f\"answerable_count : {answerable_count}\")"
   ]
  },
  {
   "cell_type": "code",
   "execution_count": 63,
   "metadata": {},
   "outputs": [],
   "source": [
    "# 100%|██████████| 1000/1000 [00:06<00:00, 149.34it/s]\n",
    "#  91%|█████████ | 1494/1642 [00:02<00:00, 607.99it/s]  \n",
    "#  unanswerable_count : 400\n",
    "# missed_count : 57\n",
    "# answerable_count : 943\n",
    "\n",
    "\n",
    "# unanswerable_count : 400\n",
    "# missed_count : 57\n",
    "# answerable_count : 943"
   ]
  },
  {
   "cell_type": "code",
   "execution_count": 64,
   "metadata": {},
   "outputs": [
    {
     "data": {
      "text/plain": [
       "400"
      ]
     },
     "execution_count": 64,
     "metadata": {},
     "output_type": "execute_result"
    }
   ],
   "source": [
    "unanswerable_count"
   ]
  },
  {
   "cell_type": "code",
   "execution_count": 65,
   "metadata": {},
   "outputs": [],
   "source": [
    "# q"
   ]
  },
  {
   "cell_type": "code",
   "execution_count": 66,
   "metadata": {},
   "outputs": [
    {
     "name": "stderr",
     "output_type": "stream",
     "text": [
      "100%|██████████| 1000/1000 [00:00<00:00, 194072.92it/s]\n",
      "100%|██████████| 1642/1642 [00:00<00:00, 11551.20it/s]"
     ]
    },
    {
     "name": "stdout",
     "output_type": "stream",
     "text": [
      "unanswerable_count : 548\n",
      "missed_count : 57\n",
      "answerable_count : 943\n"
     ]
    },
    {
     "name": "stderr",
     "output_type": "stream",
     "text": [
      "\n"
     ]
    }
   ],
   "source": [
    "# Zeroshot\n",
    "\n",
    "unanswerable_count = 0\n",
    "answerable_count = 0\n",
    "missed_count = 0\n",
    "missed_parsing = 0\n",
    "\n",
    "for k in tqdm(test_f1_pd.title.unique(), total=len(test_f1_pd.title.unique())):\n",
    "    \n",
    "    tdms = global_title_to_tdms_dict[k] if k in global_title_to_tdms_dict.keys() else \"unanswerable\" if k in no_leaderboard_papers else \"missed\"\n",
    "    \n",
    "    if tdms == \"unanswerable\":\n",
    "        unanswerable_count += 1\n",
    "    elif tdms == \"missed\":\n",
    "        missed_count += 1\n",
    "        continue\n",
    "    else:\n",
    "        answerable_count += 1\n",
    "        \n",
    "    \n",
    "    try:\n",
    "        data = global_title_to_content[k]\n",
    "        title_to_content[\"zero_shot_f1\"][k] = data\n",
    "    except :\n",
    "        missed_parsing += 1\n",
    "        continue \n",
    "    \n",
    "\n",
    "# additional no learderboard papers \n",
    "additional_no_lb = 0\n",
    "for k, v in tqdm(title_to_content[\"dev_f1\"].items(), total=len(title_to_content[\"dev_f1\"].items())):\n",
    "    \n",
    "    if k not in no_leaderboard_papers:\n",
    "        continue \n",
    "    \n",
    "    if additional_no_lb >= 400:\n",
    "        break\n",
    "    \n",
    "    tdms = global_title_to_tdms_dict[k] if k in global_title_to_tdms_dict.keys() else \"unanswerable\" if k in no_leaderboard_papers else \"missed\"\n",
    "    \n",
    "    if tdms == \"unanswerable\":\n",
    "        unanswerable_count += 1\n",
    "        # ipdb.set_trace()\n",
    "    elif tdms == \"missed\":\n",
    "        missed_count += 1\n",
    "        continue\n",
    "    else:\n",
    "        answerable_count += 1\n",
    "        \n",
    "        \n",
    "    id_k = k.rsplit(\".\", 1)[0]\n",
    "    \n",
    "    try:\n",
    "        data = global_title_to_content[k]\n",
    "        title_to_content[\"zero_shot_f1\"][k] = data\n",
    "    except :\n",
    "        missed_parsing += 1\n",
    "        continue \n",
    "    \n",
    "        \n",
    "print(f\"unanswerable_count : {unanswerable_count}\")\n",
    "print(f\"missed_count : {missed_count}\")\n",
    "print(f\"answerable_count : {answerable_count}\")"
   ]
  },
  {
   "cell_type": "code",
   "execution_count": 67,
   "metadata": {},
   "outputs": [
    {
     "data": {
      "text/plain": [
       "14030"
      ]
     },
     "execution_count": 67,
     "metadata": {},
     "output_type": "execute_result"
    }
   ],
   "source": [
    "len(global_title_to_content)"
   ]
  },
  {
   "cell_type": "code",
   "execution_count": 68,
   "metadata": {},
   "outputs": [],
   "source": [
    "global_content_to_title = {v: k for k,v in global_title_to_content.items()}"
   ]
  },
  {
   "cell_type": "code",
   "execution_count": 69,
   "metadata": {},
   "outputs": [
    {
     "data": {
      "text/plain": [
       "13935"
      ]
     },
     "execution_count": 69,
     "metadata": {},
     "output_type": "execute_result"
    }
   ],
   "source": [
    "len(global_content_to_title)"
   ]
  },
  {
   "cell_type": "code",
   "execution_count": 70,
   "metadata": {},
   "outputs": [],
   "source": [
    "path_save = \"/nfs/home/kabenamualus/Research/LLLM-LeaderboardLLM/data_proccess\"\n",
    "# save to json\n",
    "with open(f'{path_save}/global_title_to_summ_content.json', 'w') as fp:\n",
    "    json.dump(global_title_to_content, fp, indent=4)\n",
    "\n",
    "# save to json\n",
    "with open(f'{path_save}/global_summ_content_to_title.json', 'w') as fp:\n",
    "    json.dump(global_content_to_title, fp, indent=4)\n"
   ]
  },
  {
   "cell_type": "code",
   "execution_count": 82,
   "metadata": {},
   "outputs": [],
   "source": [
    "# Opening JSON file\n",
    "with open(f'{path_save}/global_content_to_title.json') as json_file:\n",
    "    global_content_to_title = json.load(json_file)"
   ]
  },
  {
   "cell_type": "code",
   "execution_count": 74,
   "metadata": {},
   "outputs": [
    {
     "data": {
      "text/plain": [
       "14030"
      ]
     },
     "execution_count": 74,
     "metadata": {},
     "output_type": "execute_result"
    }
   ],
   "source": [
    "len(global_title_to_content_)"
   ]
  },
  {
   "cell_type": "code",
   "execution_count": 71,
   "metadata": {},
   "outputs": [],
   "source": [
    "# # Zeroshot\n",
    "\n",
    "# unanswerable_count = 0\n",
    "# answerable_count = 0\n",
    "# missed_count = 0\n",
    "# missed_parsing = 0\n",
    "\n",
    "# for k in tqdm(test_f1_pd.title.unique(), total=len(test_f1_pd.title.unique())):\n",
    "    \n",
    "#     tdms = global_title_to_tdms_dict[k] if k in global_title_to_tdms_dict.keys() else \"unanswerable\" if k in no_leaderboard_papers else \"missed\"\n",
    "    \n",
    "#     if tdms == \"unanswerable\":\n",
    "#         unanswerable_count += 1\n",
    "#     elif tdms == \"missed\":\n",
    "#         missed_count += 1\n",
    "#         continue\n",
    "#     else:\n",
    "#         answerable_count += 1\n",
    "        \n",
    "    \n",
    "#     try:\n",
    "#         data = global_title_to_content[k]\n",
    "#         title_to_content[\"zero_shot_f1\"][k] = data\n",
    "#     except :\n",
    "#         missed_parsing += 1\n",
    "#         continue \n",
    "    \n",
    "\n",
    "# # additional no learderboard papers \n",
    "# additional_no_lb = 0\n",
    "# for k, v in tqdm(title_to_content[\"dev_f2\"].items(), total=len(title_to_content[\"dev_f2\"].items())):\n",
    "    \n",
    "#     if k not in no_leaderboard_papers:\n",
    "#         continue \n",
    "    \n",
    "#     if additional_no_lb >= 400:\n",
    "#         break\n",
    "    \n",
    "#     tdms = global_title_to_tdms_dict[k] if k in global_title_to_tdms_dict.keys() else \"unanswerable\" if k in no_leaderboard_papers else \"missed\"\n",
    "    \n",
    "#     if tdms == \"unanswerable\":\n",
    "#         unanswerable_count += 1\n",
    "#         # ipdb.set_trace()\n",
    "#     elif tdms == \"missed\":\n",
    "#         missed_count += 1\n",
    "#         continue\n",
    "#     else:\n",
    "#         answerable_count += 1\n",
    "        \n",
    "        \n",
    "#     id_k = k.rsplit(\".\", 1)[0]\n",
    "    \n",
    "#     try:\n",
    "#         data = global_title_to_content[k]\n",
    "#         title_to_content[\"zero_shot_f2\"][k] = data\n",
    "#     except :\n",
    "#         missed_parsing += 1\n",
    "#         continue \n",
    "    \n",
    "        \n",
    "# print(f\"unanswerable_count : {unanswerable_count}\")\n",
    "# print(f\"missed_count : {missed_count}\")\n",
    "# print(f\"answerable_count : {answerable_count}\")"
   ]
  },
  {
   "cell_type": "code",
   "execution_count": 72,
   "metadata": {},
   "outputs": [
    {
     "name": "stderr",
     "output_type": "stream",
     "text": [
      " 99%|█████████▉| 12237/12388 [00:11<00:00, 960.69it/s]"
     ]
    },
    {
     "name": "stderr",
     "output_type": "stream",
     "text": [
      "100%|██████████| 12388/12388 [00:11<00:00, 1038.51it/s]"
     ]
    },
    {
     "name": "stdout",
     "output_type": "stream",
     "text": [
      "df_train_f1 describe: \n"
     ]
    },
    {
     "name": "stderr",
     "output_type": "stream",
     "text": [
      "\n"
     ]
    },
    {
     "data": {
      "text/html": [
       "<div>\n",
       "<style scoped>\n",
       "    .dataframe tbody tr th:only-of-type {\n",
       "        vertical-align: middle;\n",
       "    }\n",
       "\n",
       "    .dataframe tbody tr th {\n",
       "        vertical-align: top;\n",
       "    }\n",
       "\n",
       "    .dataframe thead th {\n",
       "        text-align: right;\n",
       "    }\n",
       "</style>\n",
       "<table border=\"1\" class=\"dataframe\">\n",
       "  <thead>\n",
       "    <tr style=\"text-align: right;\">\n",
       "      <th></th>\n",
       "      <th>Lenght Context</th>\n",
       "      <th>Lenght TDMSs</th>\n",
       "    </tr>\n",
       "  </thead>\n",
       "  <tbody>\n",
       "    <tr>\n",
       "      <th>count</th>\n",
       "      <td>12388.000000</td>\n",
       "      <td>12388.000000</td>\n",
       "    </tr>\n",
       "    <tr>\n",
       "      <th>mean</th>\n",
       "      <td>1544.759122</td>\n",
       "      <td>54.195835</td>\n",
       "    </tr>\n",
       "    <tr>\n",
       "      <th>std</th>\n",
       "      <td>1710.013467</td>\n",
       "      <td>127.564500</td>\n",
       "    </tr>\n",
       "    <tr>\n",
       "      <th>min</th>\n",
       "      <td>3.000000</td>\n",
       "      <td>1.000000</td>\n",
       "    </tr>\n",
       "    <tr>\n",
       "      <th>25%</th>\n",
       "      <td>518.000000</td>\n",
       "      <td>1.000000</td>\n",
       "    </tr>\n",
       "    <tr>\n",
       "      <th>50%</th>\n",
       "      <td>1454.500000</td>\n",
       "      <td>20.000000</td>\n",
       "    </tr>\n",
       "    <tr>\n",
       "      <th>75%</th>\n",
       "      <td>2150.000000</td>\n",
       "      <td>60.000000</td>\n",
       "    </tr>\n",
       "    <tr>\n",
       "      <th>max</th>\n",
       "      <td>127647.000000</td>\n",
       "      <td>5866.000000</td>\n",
       "    </tr>\n",
       "  </tbody>\n",
       "</table>\n",
       "</div>"
      ],
      "text/plain": [
       "       Lenght Context  Lenght TDMSs\n",
       "count    12388.000000  12388.000000\n",
       "mean      1544.759122     54.195835\n",
       "std       1710.013467    127.564500\n",
       "min          3.000000      1.000000\n",
       "25%        518.000000      1.000000\n",
       "50%       1454.500000     20.000000\n",
       "75%       2150.000000     60.000000\n",
       "max     127647.000000   5866.000000"
      ]
     },
     "metadata": {},
     "output_type": "display_data"
    },
    {
     "name": "stderr",
     "output_type": "stream",
     "text": [
      "100%|██████████| 1642/1642 [00:01<00:00, 1265.14it/s]"
     ]
    },
    {
     "name": "stdout",
     "output_type": "stream",
     "text": [
      "df_dev_f1 describe: \n"
     ]
    },
    {
     "name": "stderr",
     "output_type": "stream",
     "text": [
      "\n"
     ]
    },
    {
     "data": {
      "text/html": [
       "<div>\n",
       "<style scoped>\n",
       "    .dataframe tbody tr th:only-of-type {\n",
       "        vertical-align: middle;\n",
       "    }\n",
       "\n",
       "    .dataframe tbody tr th {\n",
       "        vertical-align: top;\n",
       "    }\n",
       "\n",
       "    .dataframe thead th {\n",
       "        text-align: right;\n",
       "    }\n",
       "</style>\n",
       "<table border=\"1\" class=\"dataframe\">\n",
       "  <thead>\n",
       "    <tr style=\"text-align: right;\">\n",
       "      <th></th>\n",
       "      <th>Lenght Context</th>\n",
       "      <th>Lenght TDMSs</th>\n",
       "    </tr>\n",
       "  </thead>\n",
       "  <tbody>\n",
       "    <tr>\n",
       "      <th>count</th>\n",
       "      <td>1642.000000</td>\n",
       "      <td>1642.000000</td>\n",
       "    </tr>\n",
       "    <tr>\n",
       "      <th>mean</th>\n",
       "      <td>1534.893423</td>\n",
       "      <td>45.068819</td>\n",
       "    </tr>\n",
       "    <tr>\n",
       "      <th>std</th>\n",
       "      <td>1297.672284</td>\n",
       "      <td>90.464780</td>\n",
       "    </tr>\n",
       "    <tr>\n",
       "      <th>min</th>\n",
       "      <td>13.000000</td>\n",
       "      <td>1.000000</td>\n",
       "    </tr>\n",
       "    <tr>\n",
       "      <th>25%</th>\n",
       "      <td>515.000000</td>\n",
       "      <td>1.000000</td>\n",
       "    </tr>\n",
       "    <tr>\n",
       "      <th>50%</th>\n",
       "      <td>1495.500000</td>\n",
       "      <td>13.000000</td>\n",
       "    </tr>\n",
       "    <tr>\n",
       "      <th>75%</th>\n",
       "      <td>2153.000000</td>\n",
       "      <td>54.000000</td>\n",
       "    </tr>\n",
       "    <tr>\n",
       "      <th>max</th>\n",
       "      <td>25520.000000</td>\n",
       "      <td>1870.000000</td>\n",
       "    </tr>\n",
       "  </tbody>\n",
       "</table>\n",
       "</div>"
      ],
      "text/plain": [
       "       Lenght Context  Lenght TDMSs\n",
       "count     1642.000000   1642.000000\n",
       "mean      1534.893423     45.068819\n",
       "std       1297.672284     90.464780\n",
       "min         13.000000      1.000000\n",
       "25%        515.000000      1.000000\n",
       "50%       1495.500000     13.000000\n",
       "75%       2153.000000     54.000000\n",
       "max      25520.000000   1870.000000"
      ]
     },
     "metadata": {},
     "output_type": "display_data"
    },
    {
     "name": "stderr",
     "output_type": "stream",
     "text": [
      "100%|██████████| 12382/12382 [00:11<00:00, 1050.81it/s]"
     ]
    },
    {
     "name": "stdout",
     "output_type": "stream",
     "text": [
      "df_train_f2 describe: \n"
     ]
    },
    {
     "name": "stderr",
     "output_type": "stream",
     "text": [
      "\n"
     ]
    },
    {
     "data": {
      "text/html": [
       "<div>\n",
       "<style scoped>\n",
       "    .dataframe tbody tr th:only-of-type {\n",
       "        vertical-align: middle;\n",
       "    }\n",
       "\n",
       "    .dataframe tbody tr th {\n",
       "        vertical-align: top;\n",
       "    }\n",
       "\n",
       "    .dataframe thead th {\n",
       "        text-align: right;\n",
       "    }\n",
       "</style>\n",
       "<table border=\"1\" class=\"dataframe\">\n",
       "  <thead>\n",
       "    <tr style=\"text-align: right;\">\n",
       "      <th></th>\n",
       "      <th>Lenght Context</th>\n",
       "      <th>Lenght TDMSs</th>\n",
       "    </tr>\n",
       "  </thead>\n",
       "  <tbody>\n",
       "    <tr>\n",
       "      <th>count</th>\n",
       "      <td>12382.000000</td>\n",
       "      <td>12382.000000</td>\n",
       "    </tr>\n",
       "    <tr>\n",
       "      <th>mean</th>\n",
       "      <td>1544.901712</td>\n",
       "      <td>54.058149</td>\n",
       "    </tr>\n",
       "    <tr>\n",
       "      <th>std</th>\n",
       "      <td>1706.252195</td>\n",
       "      <td>126.479566</td>\n",
       "    </tr>\n",
       "    <tr>\n",
       "      <th>min</th>\n",
       "      <td>3.000000</td>\n",
       "      <td>1.000000</td>\n",
       "    </tr>\n",
       "    <tr>\n",
       "      <th>25%</th>\n",
       "      <td>523.000000</td>\n",
       "      <td>1.000000</td>\n",
       "    </tr>\n",
       "    <tr>\n",
       "      <th>50%</th>\n",
       "      <td>1459.000000</td>\n",
       "      <td>20.000000</td>\n",
       "    </tr>\n",
       "    <tr>\n",
       "      <th>75%</th>\n",
       "      <td>2149.750000</td>\n",
       "      <td>60.000000</td>\n",
       "    </tr>\n",
       "    <tr>\n",
       "      <th>max</th>\n",
       "      <td>127647.000000</td>\n",
       "      <td>5866.000000</td>\n",
       "    </tr>\n",
       "  </tbody>\n",
       "</table>\n",
       "</div>"
      ],
      "text/plain": [
       "       Lenght Context  Lenght TDMSs\n",
       "count    12382.000000  12382.000000\n",
       "mean      1544.901712     54.058149\n",
       "std       1706.252195    126.479566\n",
       "min          3.000000      1.000000\n",
       "25%        523.000000      1.000000\n",
       "50%       1459.000000     20.000000\n",
       "75%       2149.750000     60.000000\n",
       "max     127647.000000   5866.000000"
      ]
     },
     "metadata": {},
     "output_type": "display_data"
    },
    {
     "name": "stderr",
     "output_type": "stream",
     "text": [
      "100%|██████████| 1648/1648 [00:01<00:00, 1260.41it/s]"
     ]
    },
    {
     "name": "stdout",
     "output_type": "stream",
     "text": [
      "df_dev_f2 describe: \n"
     ]
    },
    {
     "name": "stderr",
     "output_type": "stream",
     "text": [
      "\n"
     ]
    },
    {
     "data": {
      "text/html": [
       "<div>\n",
       "<style scoped>\n",
       "    .dataframe tbody tr th:only-of-type {\n",
       "        vertical-align: middle;\n",
       "    }\n",
       "\n",
       "    .dataframe tbody tr th {\n",
       "        vertical-align: top;\n",
       "    }\n",
       "\n",
       "    .dataframe thead th {\n",
       "        text-align: right;\n",
       "    }\n",
       "</style>\n",
       "<table border=\"1\" class=\"dataframe\">\n",
       "  <thead>\n",
       "    <tr style=\"text-align: right;\">\n",
       "      <th></th>\n",
       "      <th>Lenght Context</th>\n",
       "      <th>Lenght TDMSs</th>\n",
       "    </tr>\n",
       "  </thead>\n",
       "  <tbody>\n",
       "    <tr>\n",
       "      <th>count</th>\n",
       "      <td>1648.000000</td>\n",
       "      <td>1648.000000</td>\n",
       "    </tr>\n",
       "    <tr>\n",
       "      <th>mean</th>\n",
       "      <td>1533.858010</td>\n",
       "      <td>46.136529</td>\n",
       "    </tr>\n",
       "    <tr>\n",
       "      <th>std</th>\n",
       "      <td>1336.054999</td>\n",
       "      <td>101.504608</td>\n",
       "    </tr>\n",
       "    <tr>\n",
       "      <th>min</th>\n",
       "      <td>12.000000</td>\n",
       "      <td>1.000000</td>\n",
       "    </tr>\n",
       "    <tr>\n",
       "      <th>25%</th>\n",
       "      <td>485.250000</td>\n",
       "      <td>1.000000</td>\n",
       "    </tr>\n",
       "    <tr>\n",
       "      <th>50%</th>\n",
       "      <td>1459.000000</td>\n",
       "      <td>14.000000</td>\n",
       "    </tr>\n",
       "    <tr>\n",
       "      <th>75%</th>\n",
       "      <td>2166.250000</td>\n",
       "      <td>52.000000</td>\n",
       "    </tr>\n",
       "    <tr>\n",
       "      <th>max</th>\n",
       "      <td>25520.000000</td>\n",
       "      <td>1829.000000</td>\n",
       "    </tr>\n",
       "  </tbody>\n",
       "</table>\n",
       "</div>"
      ],
      "text/plain": [
       "       Lenght Context  Lenght TDMSs\n",
       "count     1648.000000   1648.000000\n",
       "mean      1533.858010     46.136529\n",
       "std       1336.054999    101.504608\n",
       "min         12.000000      1.000000\n",
       "25%        485.250000      1.000000\n",
       "50%       1459.000000     14.000000\n",
       "75%       2166.250000     52.000000\n",
       "max      25520.000000   1829.000000"
      ]
     },
     "metadata": {},
     "output_type": "display_data"
    }
   ],
   "source": [
    "df_train_f1 = pd.DataFrame(columns = [\"Title\", \"TDMSs\", \"Context\"])\n",
    "for i, title in tqdm(enumerate(title_to_content[\"train_f1\"].keys()), total = len(title_to_content[\"train_f1\"].keys())):\n",
    "    \n",
    "    # if (len(title_to_content[\"train_f1\"][title]) < 10):\n",
    "    #     continue \n",
    "    # if (title not in no_lead_papers_train_f1) :\n",
    "    \n",
    "    # if (global_title_to_tdms_dict[title] == []):\n",
    "    #     ipdb.set_trace()\n",
    "    #     continue\n",
    "\n",
    "    df_train_f1 = pd.concat([df_train_f1, pd.DataFrame.from_records(\n",
    "        [\n",
    "            {\n",
    "                'Title' : title, \n",
    "                'TDMSs' : global_title_to_tdms_dict[title] if title in global_title_to_tdms_dict.keys() else \"unanswerable\",\n",
    "                'Context' : title_to_content[\"train_f1\"][title],\n",
    "                'Lenght Context': len(title_to_content[\"train_f1\"][title].split()),\n",
    "                'Lenght TDMSs': len(str(global_title_to_tdms_dict[title] if title in global_title_to_tdms_dict.keys() else \"unanswerable\").split())\n",
    "            }\n",
    "        ])], ignore_index = True)\n",
    "print(\"df_train_f1 describe: \")\n",
    "display(df_train_f1.describe())  \n",
    "\n",
    "df_dev_f1 = pd.DataFrame(columns = [\"Title\", \"TDMSs\", \"Context\"])  \n",
    "for i, title in tqdm(enumerate(title_to_content[\"dev_f1\"].keys()), total = len(title_to_content[\"dev_f1\"].keys())):\n",
    "    \n",
    "    # if (len(title_to_content[\"dev_f1\"][title]) < 10):\n",
    "    #     continue \n",
    "    \n",
    "    # if (title not in no_lead_papers_dev_f1) :\n",
    "    # if (global_title_to_tdms_dict[title] == []):\n",
    "    #      continue\n",
    "\n",
    "    df_dev_f1 = pd.concat([df_dev_f1, pd.DataFrame.from_records(\n",
    "        [\n",
    "            {\n",
    "                'Title' : title, \n",
    "                'TDMSs' : global_title_to_tdms_dict[title] if title in global_title_to_tdms_dict.keys() else \"unanswerable\",\n",
    "                'Context' : title_to_content[\"dev_f1\"][title],\n",
    "                'Lenght Context': len(title_to_content[\"dev_f1\"][title].split()),\n",
    "                'Lenght TDMSs': len(str(global_title_to_tdms_dict[title] if title in global_title_to_tdms_dict.keys() else \"unanswerable\").split())\n",
    "            }\n",
    "        ])], ignore_index = True)\n",
    "print(\"df_dev_f1 describe: \")\n",
    "display(df_dev_f1.describe())  \n",
    "\n",
    "df_train_f2 = pd.DataFrame(columns = [\"Title\", \"TDMSs\", \"Context\"])\n",
    "for i, title in tqdm(enumerate(title_to_content[\"train_f2\"].keys()), total = len(title_to_content[\"train_f2\"].keys())):\n",
    "    \n",
    "    # if (len(title_to_content[\"train_f2\"][title]) < 10):\n",
    "    #     continue \n",
    "    \n",
    "    # if (title not in no_lead_papers_train_f2) :\n",
    "    # if (global_title_to_tdms_dict[title] == []):\n",
    "    #      continue\n",
    "\n",
    "    df_train_f2 = pd.concat([df_train_f2, pd.DataFrame.from_records(\n",
    "        [\n",
    "            {\n",
    "                'Title' : title, \n",
    "                'TDMSs' : global_title_to_tdms_dict[title] if title in global_title_to_tdms_dict.keys() else \"unanswerable\",\n",
    "                'Context' : title_to_content[\"train_f2\"][title],\n",
    "                'Lenght Context': len(title_to_content[\"train_f2\"][title].split()),\n",
    "                'Lenght TDMSs': len(str(global_title_to_tdms_dict[title] if title in global_title_to_tdms_dict.keys() else \"unanswerable\").split())\n",
    "            }\n",
    "        ])], ignore_index = True)\n",
    "print(\"df_train_f2 describe: \")\n",
    "display(df_train_f2.describe())  \n",
    " \n",
    "df_dev_f2 = pd.DataFrame(columns = [\"Title\", \"TDMSs\", \"Context\"])  \n",
    "for i, title in tqdm(enumerate(title_to_content[\"dev_f2\"].keys()), total = len(title_to_content[\"dev_f2\"].keys())):\n",
    "    \n",
    "    # if (len(title_to_content[\"dev_f2\"][title]) < 10):\n",
    "    #     continue \n",
    "    \n",
    "    # if (title not in no_lead_papers_dev_f2) :\n",
    "    # if (global_title_to_tdms_dict[title] == []):\n",
    "    #          continue\n",
    "\n",
    "    df_dev_f2 = pd.concat([df_dev_f2, pd.DataFrame.from_records(\n",
    "        [\n",
    "            {\n",
    "                'Title' : title, \n",
    "                'TDMSs' : global_title_to_tdms_dict[title] if title in global_title_to_tdms_dict.keys() else \"unanswerable\",\n",
    "                'Context' : title_to_content[\"dev_f2\"][title],\n",
    "                'Lenght Context': len(title_to_content[\"dev_f2\"][title].split()),\n",
    "                'Lenght TDMSs': len(str(global_title_to_tdms_dict[title] if title in global_title_to_tdms_dict.keys() else \"unanswerable\").split())\n",
    "            }\n",
    "        ])], ignore_index = True)\n",
    "print(\"df_dev_f2 describe: \")\n",
    "display(df_dev_f2.describe())  "
   ]
  },
  {
   "cell_type": "code",
   "execution_count": 73,
   "metadata": {},
   "outputs": [
    {
     "name": "stderr",
     "output_type": "stream",
     "text": [
      "100%|██████████| 1200/1200 [00:00<00:00, 1280.33it/s]"
     ]
    },
    {
     "name": "stdout",
     "output_type": "stream",
     "text": [
      "df_zeroshot_f1 describe: \n"
     ]
    },
    {
     "name": "stderr",
     "output_type": "stream",
     "text": [
      "\n"
     ]
    },
    {
     "data": {
      "text/html": [
       "<div>\n",
       "<style scoped>\n",
       "    .dataframe tbody tr th:only-of-type {\n",
       "        vertical-align: middle;\n",
       "    }\n",
       "\n",
       "    .dataframe tbody tr th {\n",
       "        vertical-align: top;\n",
       "    }\n",
       "\n",
       "    .dataframe thead th {\n",
       "        text-align: right;\n",
       "    }\n",
       "</style>\n",
       "<table border=\"1\" class=\"dataframe\">\n",
       "  <thead>\n",
       "    <tr style=\"text-align: right;\">\n",
       "      <th></th>\n",
       "      <th>Lenght Context</th>\n",
       "      <th>Lenght TDMSs</th>\n",
       "    </tr>\n",
       "  </thead>\n",
       "  <tbody>\n",
       "    <tr>\n",
       "      <th>count</th>\n",
       "      <td>1200.000000</td>\n",
       "      <td>1200.000000</td>\n",
       "    </tr>\n",
       "    <tr>\n",
       "      <th>mean</th>\n",
       "      <td>1454.064167</td>\n",
       "      <td>64.499167</td>\n",
       "    </tr>\n",
       "    <tr>\n",
       "      <th>std</th>\n",
       "      <td>1394.411923</td>\n",
       "      <td>201.081189</td>\n",
       "    </tr>\n",
       "    <tr>\n",
       "      <th>min</th>\n",
       "      <td>3.000000</td>\n",
       "      <td>1.000000</td>\n",
       "    </tr>\n",
       "    <tr>\n",
       "      <th>25%</th>\n",
       "      <td>417.000000</td>\n",
       "      <td>1.000000</td>\n",
       "    </tr>\n",
       "    <tr>\n",
       "      <th>50%</th>\n",
       "      <td>1308.000000</td>\n",
       "      <td>12.000000</td>\n",
       "    </tr>\n",
       "    <tr>\n",
       "      <th>75%</th>\n",
       "      <td>2113.000000</td>\n",
       "      <td>73.000000</td>\n",
       "    </tr>\n",
       "    <tr>\n",
       "      <th>max</th>\n",
       "      <td>25520.000000</td>\n",
       "      <td>5866.000000</td>\n",
       "    </tr>\n",
       "  </tbody>\n",
       "</table>\n",
       "</div>"
      ],
      "text/plain": [
       "       Lenght Context  Lenght TDMSs\n",
       "count     1200.000000   1200.000000\n",
       "mean      1454.064167     64.499167\n",
       "std       1394.411923    201.081189\n",
       "min          3.000000      1.000000\n",
       "25%        417.000000      1.000000\n",
       "50%       1308.000000     12.000000\n",
       "75%       2113.000000     73.000000\n",
       "max      25520.000000   5866.000000"
      ]
     },
     "metadata": {},
     "output_type": "display_data"
    }
   ],
   "source": [
    "df_zeroshot_f1 = pd.DataFrame(columns = [\"Title\", \"TDMSs\", \"Context\"])\n",
    "for i, title in tqdm(enumerate(title_to_content[\"zero_shot_f1\"].keys()), total = len(title_to_content[\"zero_shot_f1\"].keys())):\n",
    "    \n",
    "    # if (len(title_to_content[\"train_f1\"][title]) < 10):\n",
    "    #     continue \n",
    "    # if (title not in no_lead_papers_train_f1) :\n",
    "    \n",
    "    # if (global_title_to_tdms_dict[title] == []):\n",
    "    #     ipdb.set_trace()\n",
    "    #     continue\n",
    "\n",
    "    df_zeroshot_f1 = pd.concat([df_zeroshot_f1, pd.DataFrame.from_records(\n",
    "        [\n",
    "            {\n",
    "                'Title' : title, \n",
    "                'TDMSs' : global_title_to_tdms_dict[title] if title in global_title_to_tdms_dict.keys() else \"unanswerable\",\n",
    "                'Context' : global_title_to_content[title],\n",
    "                'Lenght Context': len(global_title_to_content[title].split()),\n",
    "                'Lenght TDMSs': len(str(global_title_to_tdms_dict[title] if title in global_title_to_tdms_dict.keys() else \"unanswerable\").split())\n",
    "            }\n",
    "        ])], ignore_index = True)\n",
    "print(\"df_zeroshot_f1 describe: \")\n",
    "display(df_zeroshot_f1.describe())  "
   ]
  },
  {
   "cell_type": "code",
   "execution_count": null,
   "metadata": {},
   "outputs": [],
   "source": []
  },
  {
   "cell_type": "code",
   "execution_count": 74,
   "metadata": {},
   "outputs": [
    {
     "data": {
      "text/html": [
       "<div>\n",
       "<style scoped>\n",
       "    .dataframe tbody tr th:only-of-type {\n",
       "        vertical-align: middle;\n",
       "    }\n",
       "\n",
       "    .dataframe tbody tr th {\n",
       "        vertical-align: top;\n",
       "    }\n",
       "\n",
       "    .dataframe thead th {\n",
       "        text-align: right;\n",
       "    }\n",
       "</style>\n",
       "<table border=\"1\" class=\"dataframe\">\n",
       "  <thead>\n",
       "    <tr style=\"text-align: right;\">\n",
       "      <th></th>\n",
       "      <th>Title</th>\n",
       "      <th>TDMSs</th>\n",
       "      <th>Context</th>\n",
       "    </tr>\n",
       "  </thead>\n",
       "  <tbody>\n",
       "    <tr>\n",
       "      <th>count</th>\n",
       "      <td>12388</td>\n",
       "      <td>12388</td>\n",
       "      <td>12388</td>\n",
       "    </tr>\n",
       "    <tr>\n",
       "      <th>unique</th>\n",
       "      <td>12388</td>\n",
       "      <td>7976</td>\n",
       "      <td>12312</td>\n",
       "    </tr>\n",
       "    <tr>\n",
       "      <th>top</th>\n",
       "      <td>1707.03497v2.pdf</td>\n",
       "      <td>unanswerable</td>\n",
       "      <td>Title:\\t\\n\\nAbstract:\\t\\n\\n[image]\\n</td>\n",
       "    </tr>\n",
       "    <tr>\n",
       "      <th>freq</th>\n",
       "      <td>1</td>\n",
       "      <td>4401</td>\n",
       "      <td>20</td>\n",
       "    </tr>\n",
       "  </tbody>\n",
       "</table>\n",
       "</div>"
      ],
      "text/plain": [
       "                   Title         TDMSs                               Context\n",
       "count              12388         12388                                 12388\n",
       "unique             12388          7976                                 12312\n",
       "top     1707.03497v2.pdf  unanswerable  Title:\\t\\n\\nAbstract:\\t\\n\\n[image]\\n\n",
       "freq                   1          4401                                    20"
      ]
     },
     "execution_count": 74,
     "metadata": {},
     "output_type": "execute_result"
    }
   ],
   "source": [
    "df_train_f1.drop([\"Lenght Context\", \"Lenght TDMSs\"], axis=1).describe()"
   ]
  },
  {
   "cell_type": "code",
   "execution_count": 75,
   "metadata": {},
   "outputs": [
    {
     "data": {
      "text/html": [
       "<div>\n",
       "<style scoped>\n",
       "    .dataframe tbody tr th:only-of-type {\n",
       "        vertical-align: middle;\n",
       "    }\n",
       "\n",
       "    .dataframe tbody tr th {\n",
       "        vertical-align: top;\n",
       "    }\n",
       "\n",
       "    .dataframe thead th {\n",
       "        text-align: right;\n",
       "    }\n",
       "</style>\n",
       "<table border=\"1\" class=\"dataframe\">\n",
       "  <thead>\n",
       "    <tr style=\"text-align: right;\">\n",
       "      <th></th>\n",
       "      <th>Lenght Context</th>\n",
       "      <th>Lenght TDMSs</th>\n",
       "    </tr>\n",
       "  </thead>\n",
       "  <tbody>\n",
       "    <tr>\n",
       "      <th>count</th>\n",
       "      <td>12388.000000</td>\n",
       "      <td>12388.000000</td>\n",
       "    </tr>\n",
       "    <tr>\n",
       "      <th>mean</th>\n",
       "      <td>1544.759122</td>\n",
       "      <td>54.195835</td>\n",
       "    </tr>\n",
       "    <tr>\n",
       "      <th>std</th>\n",
       "      <td>1710.013467</td>\n",
       "      <td>127.564500</td>\n",
       "    </tr>\n",
       "    <tr>\n",
       "      <th>min</th>\n",
       "      <td>3.000000</td>\n",
       "      <td>1.000000</td>\n",
       "    </tr>\n",
       "    <tr>\n",
       "      <th>25%</th>\n",
       "      <td>518.000000</td>\n",
       "      <td>1.000000</td>\n",
       "    </tr>\n",
       "    <tr>\n",
       "      <th>50%</th>\n",
       "      <td>1454.500000</td>\n",
       "      <td>20.000000</td>\n",
       "    </tr>\n",
       "    <tr>\n",
       "      <th>75%</th>\n",
       "      <td>2150.000000</td>\n",
       "      <td>60.000000</td>\n",
       "    </tr>\n",
       "    <tr>\n",
       "      <th>max</th>\n",
       "      <td>127647.000000</td>\n",
       "      <td>5866.000000</td>\n",
       "    </tr>\n",
       "  </tbody>\n",
       "</table>\n",
       "</div>"
      ],
      "text/plain": [
       "       Lenght Context  Lenght TDMSs\n",
       "count    12388.000000  12388.000000\n",
       "mean      1544.759122     54.195835\n",
       "std       1710.013467    127.564500\n",
       "min          3.000000      1.000000\n",
       "25%        518.000000      1.000000\n",
       "50%       1454.500000     20.000000\n",
       "75%       2150.000000     60.000000\n",
       "max     127647.000000   5866.000000"
      ]
     },
     "execution_count": 75,
     "metadata": {},
     "output_type": "execute_result"
    }
   ],
   "source": [
    "df_train_f1.describe()"
   ]
  },
  {
   "cell_type": "code",
   "execution_count": 76,
   "metadata": {},
   "outputs": [
    {
     "data": {
      "text/plain": [
       "12377"
      ]
     },
     "execution_count": 76,
     "metadata": {},
     "output_type": "execute_result"
    }
   ],
   "source": [
    "7976+4401"
   ]
  },
  {
   "cell_type": "code",
   "execution_count": 77,
   "metadata": {},
   "outputs": [
    {
     "data": {
      "text/plain": [
       "['Please answer a question about this article. If the question is unanswerable, say \"unanswerable\"',\n",
       " 'Read this and answer the question. If the question is unanswerable, say \"unanswerable\".',\n",
       " 'If the question is unanswerable, say \"unanswerable\"',\n",
       " 'Try to answer this question if possible (otherwise reply \"unanswerable\"',\n",
       " 'If it is possible to answer this question, answer it for me (else, reply \"unanswerable\"',\n",
       " 'Answer this question, if possible (if impossible, reply \"unanswerable\"',\n",
       " 'Read this: What is the answer? (If it cannot be answered, return \"unanswerable\"',\n",
       " 'Read this: Now answer this question, if there is an answer (If it cannot be answered, return \"unanswerable\"',\n",
       " 'Answer based on context:',\n",
       " 'Answer this question based on the article:',\n",
       " 'Answer this question:',\n",
       " 'Read this article and answer this question',\n",
       " 'Based on the above article, answer a question.']"
      ]
     },
     "execution_count": 77,
     "metadata": {},
     "output_type": "execute_result"
    }
   ],
   "source": [
    "template = ['Please answer a question about this article. If the question is unanswerable, say \\\"unanswerable\\\"',\n",
    "'Read this and answer the question. If the question is unanswerable, say \\\"unanswerable\\\".',\n",
    "'If the question is unanswerable, say \\\"unanswerable\\\"',\n",
    "'Try to answer this question if possible (otherwise reply \\\"unanswerable\\\"',\n",
    "'If it is possible to answer this question, answer it for me (else, reply \\\"unanswerable\\\"',\n",
    "'Answer this question, if possible (if impossible, reply \\\"unanswerable\\\"',\n",
    "'Read this: What is the answer? (If it cannot be answered, return \\\"unanswerable\\\"',\n",
    "'Read this: Now answer this question, if there is an answer (If it cannot be answered, return \\\"unanswerable\\\"',\n",
    "'Answer based on context:',\n",
    "'Answer this question based on the article:',\n",
    "# (\"{context}\\n\\n{question}\", \"{answer}\"),\n",
    "'Answer this question:',\n",
    "'Read this article and answer this question',\n",
    "'Based on the above article, answer a question.',\n",
    "# 'Context: {context}\\n\\nQuestion: {question}\\n\\nAnswer:\", \"{answer}\"),\n",
    "]\n",
    "\n",
    "template"
   ]
  },
  {
   "cell_type": "code",
   "execution_count": 78,
   "metadata": {},
   "outputs": [],
   "source": [
    "# df.head(2)"
   ]
  },
  {
   "cell_type": "code",
   "execution_count": 79,
   "metadata": {
    "id": "cRRLG8gZ1IcN"
   },
   "outputs": [],
   "source": [
    "def create_pandas_dataset_from_pandas(df,\n",
    "                                      squad_1 = False,\n",
    "                                      squad_2 = False,\n",
    "                                      squad_3 = False,\n",
    "                                      squad_4 = False,\n",
    "                                      squad_5 = False,\n",
    "                                      squad_6 = False,\n",
    "                                      squad_7 = False,\n",
    "                                      squad_8 = False,\n",
    "                                      drop_1 = False,\n",
    "                                      drop_2 = False,\n",
    "                                      drop_3 = False,\n",
    "                                      drop_4 = False,\n",
    "                                      drop_5 = False,\n",
    "                                      drop_6 = False,\n",
    "                                      drop_7 = False\n",
    "                         ):\n",
    "\n",
    "  ''' Create a Pandas Dataframe from pandas.\n",
    "  Params:\n",
    "        answer_threshold: Only consider those Question Answer pairs where the Answer is short.\n",
    "  '''\n",
    "  count_index = 0\n",
    "  result_df  = pd.DataFrame(columns = ['id', 'prompt', 'answer'])   \n",
    "  # q_type_1 = \"Which Tasks are addressed in this article\"\n",
    "  # q_type_2 = \"Which Datasets are addressed in this article\"\n",
    "  # q_type_3 = \"Which Metrics are addressed in this article\"\n",
    "  # q_type_4 = \"Which Tasks, Datasets, Metrics are addressed in this article\"\n",
    "  # q_type_5 = \"Which Tasks, Datasets, Metrics and Scores are addressed in this article\" \n",
    "  \n",
    "  # q_types = [\n",
    "  #   {\"q\": \"Which Tasks are addressed in this article\", \"a_key\": \"Tasks\"}, \n",
    "  #   {\"q\": \"Which Datasets are addressed in this article\", \"a_key\": \"Datasets\"}, \n",
    "  #   {\"q\": \"Which Metrics are addressed in this article\", \"a_key\": \"Metrics\"},\n",
    "  #   {\"q\": \"Which Tasks, Datasets, Metrics are addressed in this article\", \"a_key\": \"TDMs\"},\n",
    "  #   {\"q\": \"Which Tasks, Datasets, Metrics and Scores are addressed in this article\", \"a_key\": \"TDMSs\"}\n",
    "  #   ]\n",
    "  \n",
    "  q_types = [\n",
    "    # {\"q\": \"What are the values for the following properties to construct a Leaderboard for the model introduced in this article: task, dataset, and metric?\", \"a_key\": \"TDMSs\"},\n",
    "    {\"q\": \"What are the values for the following properties to construct a Leaderboard for the model introduced in this article: task, dataset, metric, and score?\", \"a_key\": \"TDMSs\"},\n",
    "    ]\n",
    "  \n",
    "  records = df.to_dict(\"records\")\n",
    "  # db_dict = defaultdict(lambda : list())\n",
    "  for i, row in tqdm(enumerate(records), total = len(records)):        \n",
    "      for q_type in q_types:\n",
    "        \n",
    "        # Squad_v2 \n",
    "        if squad_1:\n",
    "          result_df.loc[count_index] = [str(row[\"Title\"])] + [f'{row[\"Context\"]}\\n\\nPlease answer a question about this article. If the question is unanswerable, say \\\"unanswerable\\\". {q_type[\"q\"]}'] \\\n",
    "            + [str(row[q_type[\"a_key\"]])]\n",
    "          count_index += 1\n",
    "        \n",
    "        if squad_2:\n",
    "          result_df.loc[count_index] = [str(row[\"Title\"])] + [f'Read this and answer the question. If the question is unanswerable, say \\\"unanswerable\\\".\\n\\n{row[\"Context\"]}\\n\\n{q_type[\"q\"]}'\n",
    "  ] \\\n",
    "            + [str(row[q_type[\"a_key\"]])] \n",
    "          count_index += 1\n",
    "        \n",
    "        if squad_3:\n",
    "          result_df.loc[count_index] = [str(row[\"Title\"])] + [f'{row[\"Context\"]}\\n{q_type[\"q\"]} (If the question is unanswerable, say \\\"unanswerable\\\"'] \\\n",
    "            + [str(row[q_type[\"a_key\"]])] \n",
    "          count_index += 1\n",
    "        \n",
    "        if squad_4:\n",
    "          result_df.loc[count_index] = [str(row[\"Title\"])] + [f'{row[\"Context\"]}\\nTry to answer this question if possible (otherwise reply \\\"unanswerable\\\"): {q_type[\"q\"]}'] \\\n",
    "            + [str(row[q_type[\"a_key\"]])] \n",
    "          count_index += 1\n",
    "        \n",
    "        if squad_5:\n",
    "          result_df.loc[count_index] = [str(row[\"Title\"])] + [f'{row[\"Context\"]}\\nIf it is possible to answer this question, answer it for me (else, reply \\\"unanswerable\\\"): {q_type[\"q\"]}'] \\\n",
    "            + [str(row[q_type[\"a_key\"]])] \n",
    "          count_index += 1\n",
    "        \n",
    "        if squad_6:\n",
    "          result_df.loc[count_index] = [str(row[\"Title\"])] + [f'{row[\"Context\"]}\\n\\nAnswer this question, if possible (if impossible, reply \\\"unanswerable\\\"): {q_type[\"q\"]}'] \\\n",
    "            + [str(row[q_type[\"a_key\"]])] \n",
    "          count_index += 1\n",
    "        \n",
    "        if squad_7:\n",
    "          result_df.loc[count_index] = [str(row[\"Title\"])] + [f'Read this: {row[\"Context\"]}\\n\\n{q_type[\"q\"]}\\nWhat is the answer? (If it cannot be answered, return \\\"unanswerable\\\")'] \\\n",
    "            + [str(row[q_type[\"a_key\"]])] \n",
    "          count_index += 1\n",
    "        \n",
    "        if squad_8:\n",
    "          result_df.loc[count_index] = [str(row[\"Title\"])] + [f'Read this: {row[\"Context\"]}\\nNow answer this question, if there is an answer (If it cannot be answered, return \\\"unanswerable\\\"): {q_type[\"q\"]}'] \\\n",
    "            + [str(row[q_type[\"a_key\"]])] \n",
    "          count_index += 1\n",
    "        \n",
    "        \n",
    "        # Drop\n",
    "        if drop_1:\n",
    "          result_df.loc[count_index] = [str(row[\"Title\"])] + [f'Answer based on context:\\n\\n{row[\"Context\"]}\\n\\n{q_type[\"q\"]}'] \\\n",
    "            + [str(row[q_type[\"a_key\"]])] \n",
    "          count_index += 1\n",
    "        \n",
    "        if drop_2:\n",
    "          result_df.loc[count_index] = [str(row[\"Title\"])] + [f'{row[\"Context\"]}\\n\\nAnswer this question based on the article: {q_type[\"q\"]}'] \\\n",
    "            + [str(row[q_type[\"a_key\"]])] \n",
    "          count_index += 1\n",
    "        \n",
    "        if drop_3:\n",
    "          result_df.loc[count_index] = [str(row[\"Title\"])] + [f'{row[\"Context\"]}\\n\\n{q_type[\"q\"]}'] \\\n",
    "            + [str(row[q_type[\"a_key\"]])] \n",
    "          count_index += 1\n",
    "        \n",
    "        if drop_4:\n",
    "          result_df.loc[count_index] = [str(row[\"Title\"])] + [f'{row[\"Context\"]}\\nAnswer this question: {q_type[\"q\"]}'] \\\n",
    "            + [str(row[q_type[\"a_key\"]])] \n",
    "          count_index += 1\n",
    "        \n",
    "        if drop_5:\n",
    "          result_df.loc[count_index] = [str(row[\"Title\"])] + [f'Read this article and answer this question {row[\"Context\"]}\\n{q_type[\"q\"]}'] \\\n",
    "            + [str(row[q_type[\"a_key\"]])] \n",
    "          count_index += 1\n",
    "        \n",
    "        if drop_6:\n",
    "          result_df.loc[count_index] = [str(row[\"Title\"])] + [f'{row[\"Context\"]}\\n\\nBased on the above article, answer a question. {q_type[\"q\"]}'] \\\n",
    "            + [str(row[q_type[\"a_key\"]])] \n",
    "          count_index += 1\n",
    "        \n",
    "        if drop_7:\n",
    "          result_df.loc[count_index] = [str(row[\"Title\"])] + [f'Context: {row[\"Context\"]}\\n\\nQuestion: {q_type[\"q\"]}\\n\\nAnswer:'] \\\n",
    "            + [str(row[q_type[\"a_key\"]])] \n",
    "          count_index += 1\n",
    "         \n",
    "  return result_df"
   ]
  },
  {
   "cell_type": "code",
   "execution_count": 80,
   "metadata": {},
   "outputs": [
    {
     "name": "stderr",
     "output_type": "stream",
     "text": [
      " 12%|█▏        | 1529/12388 [00:36<05:33, 32.52it/s]"
     ]
    },
    {
     "name": "stderr",
     "output_type": "stream",
     "text": [
      "100%|██████████| 12388/12388 [30:02<00:00,  6.87it/s]\n",
      "100%|██████████| 1642/1642 [00:39<00:00, 41.76it/s]\n",
      "100%|██████████| 12382/12382 [30:00<00:00,  6.88it/s]\n",
      "100%|██████████| 1648/1648 [00:39<00:00, 41.96it/s]\n",
      "100%|██████████| 1200/1200 [00:26<00:00, 45.08it/s]\n"
     ]
    },
    {
     "name": "stdout",
     "output_type": "stream",
     "text": [
      "df_train_f1_all_templates describe: \n"
     ]
    },
    {
     "data": {
      "text/html": [
       "<div>\n",
       "<style scoped>\n",
       "    .dataframe tbody tr th:only-of-type {\n",
       "        vertical-align: middle;\n",
       "    }\n",
       "\n",
       "    .dataframe tbody tr th {\n",
       "        vertical-align: top;\n",
       "    }\n",
       "\n",
       "    .dataframe thead th {\n",
       "        text-align: right;\n",
       "    }\n",
       "</style>\n",
       "<table border=\"1\" class=\"dataframe\">\n",
       "  <thead>\n",
       "    <tr style=\"text-align: right;\">\n",
       "      <th></th>\n",
       "      <th>id</th>\n",
       "      <th>prompt</th>\n",
       "      <th>answer</th>\n",
       "    </tr>\n",
       "  </thead>\n",
       "  <tbody>\n",
       "    <tr>\n",
       "      <th>count</th>\n",
       "      <td>185820</td>\n",
       "      <td>185820</td>\n",
       "      <td>185820</td>\n",
       "    </tr>\n",
       "    <tr>\n",
       "      <th>unique</th>\n",
       "      <td>12388</td>\n",
       "      <td>184680</td>\n",
       "      <td>7976</td>\n",
       "    </tr>\n",
       "    <tr>\n",
       "      <th>top</th>\n",
       "      <td>1707.03497v2.pdf</td>\n",
       "      <td>Title:\\t\\n\\nAbstract:\\t\\n\\n[image]\\n\\nWhat are...</td>\n",
       "      <td>unanswerable</td>\n",
       "    </tr>\n",
       "    <tr>\n",
       "      <th>freq</th>\n",
       "      <td>15</td>\n",
       "      <td>20</td>\n",
       "      <td>66015</td>\n",
       "    </tr>\n",
       "  </tbody>\n",
       "</table>\n",
       "</div>"
      ],
      "text/plain": [
       "                      id                                             prompt  \\\n",
       "count             185820                                             185820   \n",
       "unique             12388                                             184680   \n",
       "top     1707.03497v2.pdf  Title:\\t\\n\\nAbstract:\\t\\n\\n[image]\\n\\nWhat are...   \n",
       "freq                  15                                                 20   \n",
       "\n",
       "              answer  \n",
       "count         185820  \n",
       "unique          7976  \n",
       "top     unanswerable  \n",
       "freq           66015  "
      ]
     },
     "metadata": {},
     "output_type": "display_data"
    },
    {
     "name": "stdout",
     "output_type": "stream",
     "text": [
      "df_dev_f1_all_templates describe: \n"
     ]
    },
    {
     "data": {
      "text/html": [
       "<div>\n",
       "<style scoped>\n",
       "    .dataframe tbody tr th:only-of-type {\n",
       "        vertical-align: middle;\n",
       "    }\n",
       "\n",
       "    .dataframe tbody tr th {\n",
       "        vertical-align: top;\n",
       "    }\n",
       "\n",
       "    .dataframe thead th {\n",
       "        text-align: right;\n",
       "    }\n",
       "</style>\n",
       "<table border=\"1\" class=\"dataframe\">\n",
       "  <thead>\n",
       "    <tr style=\"text-align: right;\">\n",
       "      <th></th>\n",
       "      <th>id</th>\n",
       "      <th>prompt</th>\n",
       "      <th>answer</th>\n",
       "    </tr>\n",
       "  </thead>\n",
       "  <tbody>\n",
       "    <tr>\n",
       "      <th>count</th>\n",
       "      <td>24630</td>\n",
       "      <td>24630</td>\n",
       "      <td>24630</td>\n",
       "    </tr>\n",
       "    <tr>\n",
       "      <th>unique</th>\n",
       "      <td>1642</td>\n",
       "      <td>24615</td>\n",
       "      <td>994</td>\n",
       "    </tr>\n",
       "    <tr>\n",
       "      <th>top</th>\n",
       "      <td>1810.02575v1.pdf</td>\n",
       "      <td>Title:\\tA Sample ACM SIG Proceedings Paper in ...</td>\n",
       "      <td>unanswerable</td>\n",
       "    </tr>\n",
       "    <tr>\n",
       "      <th>freq</th>\n",
       "      <td>15</td>\n",
       "      <td>2</td>\n",
       "      <td>9720</td>\n",
       "    </tr>\n",
       "  </tbody>\n",
       "</table>\n",
       "</div>"
      ],
      "text/plain": [
       "                      id                                             prompt  \\\n",
       "count              24630                                              24630   \n",
       "unique              1642                                              24615   \n",
       "top     1810.02575v1.pdf  Title:\\tA Sample ACM SIG Proceedings Paper in ...   \n",
       "freq                  15                                                  2   \n",
       "\n",
       "              answer  \n",
       "count          24630  \n",
       "unique           994  \n",
       "top     unanswerable  \n",
       "freq            9720  "
      ]
     },
     "metadata": {},
     "output_type": "display_data"
    },
    {
     "name": "stdout",
     "output_type": "stream",
     "text": [
      "df_train_f2_all_templates describe: \n"
     ]
    },
    {
     "data": {
      "text/html": [
       "<div>\n",
       "<style scoped>\n",
       "    .dataframe tbody tr th:only-of-type {\n",
       "        vertical-align: middle;\n",
       "    }\n",
       "\n",
       "    .dataframe tbody tr th {\n",
       "        vertical-align: top;\n",
       "    }\n",
       "\n",
       "    .dataframe thead th {\n",
       "        text-align: right;\n",
       "    }\n",
       "</style>\n",
       "<table border=\"1\" class=\"dataframe\">\n",
       "  <thead>\n",
       "    <tr style=\"text-align: right;\">\n",
       "      <th></th>\n",
       "      <th>id</th>\n",
       "      <th>prompt</th>\n",
       "      <th>answer</th>\n",
       "    </tr>\n",
       "  </thead>\n",
       "  <tbody>\n",
       "    <tr>\n",
       "      <th>count</th>\n",
       "      <td>185730</td>\n",
       "      <td>185730</td>\n",
       "      <td>185730</td>\n",
       "    </tr>\n",
       "    <tr>\n",
       "      <th>unique</th>\n",
       "      <td>12382</td>\n",
       "      <td>184665</td>\n",
       "      <td>7988</td>\n",
       "    </tr>\n",
       "    <tr>\n",
       "      <th>top</th>\n",
       "      <td>1707.03497v2.pdf</td>\n",
       "      <td>Answer based on context:\\n\\nTitle:\\t\\n\\nAbstra...</td>\n",
       "      <td>unanswerable</td>\n",
       "    </tr>\n",
       "    <tr>\n",
       "      <th>freq</th>\n",
       "      <td>15</td>\n",
       "      <td>20</td>\n",
       "      <td>65745</td>\n",
       "    </tr>\n",
       "  </tbody>\n",
       "</table>\n",
       "</div>"
      ],
      "text/plain": [
       "                      id                                             prompt  \\\n",
       "count             185730                                             185730   \n",
       "unique             12382                                             184665   \n",
       "top     1707.03497v2.pdf  Answer based on context:\\n\\nTitle:\\t\\n\\nAbstra...   \n",
       "freq                  15                                                 20   \n",
       "\n",
       "              answer  \n",
       "count         185730  \n",
       "unique          7988  \n",
       "top     unanswerable  \n",
       "freq           65745  "
      ]
     },
     "metadata": {},
     "output_type": "display_data"
    },
    {
     "name": "stdout",
     "output_type": "stream",
     "text": [
      "df_dev_f2_all_templates describe: \n"
     ]
    },
    {
     "data": {
      "text/html": [
       "<div>\n",
       "<style scoped>\n",
       "    .dataframe tbody tr th:only-of-type {\n",
       "        vertical-align: middle;\n",
       "    }\n",
       "\n",
       "    .dataframe tbody tr th {\n",
       "        vertical-align: top;\n",
       "    }\n",
       "\n",
       "    .dataframe thead th {\n",
       "        text-align: right;\n",
       "    }\n",
       "</style>\n",
       "<table border=\"1\" class=\"dataframe\">\n",
       "  <thead>\n",
       "    <tr style=\"text-align: right;\">\n",
       "      <th></th>\n",
       "      <th>id</th>\n",
       "      <th>prompt</th>\n",
       "      <th>answer</th>\n",
       "    </tr>\n",
       "  </thead>\n",
       "  <tbody>\n",
       "    <tr>\n",
       "      <th>count</th>\n",
       "      <td>24720</td>\n",
       "      <td>24720</td>\n",
       "      <td>24720</td>\n",
       "    </tr>\n",
       "    <tr>\n",
       "      <th>unique</th>\n",
       "      <td>1648</td>\n",
       "      <td>24690</td>\n",
       "      <td>983</td>\n",
       "    </tr>\n",
       "    <tr>\n",
       "      <th>top</th>\n",
       "      <td>2006.10721v2.pdf</td>\n",
       "      <td>Title:\\tA Sample ACM SIG Proceedings Paper in ...</td>\n",
       "      <td>unanswerable</td>\n",
       "    </tr>\n",
       "    <tr>\n",
       "      <th>freq</th>\n",
       "      <td>15</td>\n",
       "      <td>2</td>\n",
       "      <td>9990</td>\n",
       "    </tr>\n",
       "  </tbody>\n",
       "</table>\n",
       "</div>"
      ],
      "text/plain": [
       "                      id                                             prompt  \\\n",
       "count              24720                                              24720   \n",
       "unique              1648                                              24690   \n",
       "top     2006.10721v2.pdf  Title:\\tA Sample ACM SIG Proceedings Paper in ...   \n",
       "freq                  15                                                  2   \n",
       "\n",
       "              answer  \n",
       "count          24720  \n",
       "unique           983  \n",
       "top     unanswerable  \n",
       "freq            9990  "
      ]
     },
     "metadata": {},
     "output_type": "display_data"
    },
    {
     "name": "stdout",
     "output_type": "stream",
     "text": [
      "df_zeroshot_f1_all_templates describe: \n"
     ]
    },
    {
     "data": {
      "text/html": [
       "<div>\n",
       "<style scoped>\n",
       "    .dataframe tbody tr th:only-of-type {\n",
       "        vertical-align: middle;\n",
       "    }\n",
       "\n",
       "    .dataframe tbody tr th {\n",
       "        vertical-align: top;\n",
       "    }\n",
       "\n",
       "    .dataframe thead th {\n",
       "        text-align: right;\n",
       "    }\n",
       "</style>\n",
       "<table border=\"1\" class=\"dataframe\">\n",
       "  <thead>\n",
       "    <tr style=\"text-align: right;\">\n",
       "      <th></th>\n",
       "      <th>id</th>\n",
       "      <th>prompt</th>\n",
       "      <th>answer</th>\n",
       "    </tr>\n",
       "  </thead>\n",
       "  <tbody>\n",
       "    <tr>\n",
       "      <th>count</th>\n",
       "      <td>18000</td>\n",
       "      <td>18000</td>\n",
       "      <td>18000</td>\n",
       "    </tr>\n",
       "    <tr>\n",
       "      <th>unique</th>\n",
       "      <td>1200</td>\n",
       "      <td>17955</td>\n",
       "      <td>653</td>\n",
       "    </tr>\n",
       "    <tr>\n",
       "      <th>top</th>\n",
       "      <td>2209.03182v1.pdf</td>\n",
       "      <td>Context: Title:\\t\\n\\nAbstract:\\t\\n\\n[image]\\n\\...</td>\n",
       "      <td>unanswerable</td>\n",
       "    </tr>\n",
       "    <tr>\n",
       "      <th>freq</th>\n",
       "      <td>15</td>\n",
       "      <td>3</td>\n",
       "      <td>8220</td>\n",
       "    </tr>\n",
       "  </tbody>\n",
       "</table>\n",
       "</div>"
      ],
      "text/plain": [
       "                      id                                             prompt  \\\n",
       "count              18000                                              18000   \n",
       "unique              1200                                              17955   \n",
       "top     2209.03182v1.pdf  Context: Title:\\t\\n\\nAbstract:\\t\\n\\n[image]\\n\\...   \n",
       "freq                  15                                                  3   \n",
       "\n",
       "              answer  \n",
       "count          18000  \n",
       "unique           653  \n",
       "top     unanswerable  \n",
       "freq            8220  "
      ]
     },
     "metadata": {},
     "output_type": "display_data"
    }
   ],
   "source": [
    "df_train_f1_all_templates = create_pandas_dataset_from_pandas(df_train_f1,\n",
    "                                                                squad_1 = True,\n",
    "                                                                squad_2 = True,\n",
    "                                                                squad_3 = True,\n",
    "                                                                squad_4 = True,\n",
    "                                                                squad_5 = True,\n",
    "                                                                squad_6 = True,\n",
    "                                                                squad_7 = True,\n",
    "                                                                squad_8 = True,\n",
    "                                                                drop_1 = True,\n",
    "                                                                drop_2 = True,\n",
    "                                                                drop_3 = True,\n",
    "                                                                drop_4 = True,\n",
    "                                                                drop_5 = True,\n",
    "                                                                drop_6 = True,\n",
    "                                                                drop_7 = True\n",
    "                                                              ) \n",
    "df_dev_f1_all_templates = create_pandas_dataset_from_pandas(df_dev_f1,\n",
    "                                                            squad_1 = True,\n",
    "                                                            squad_2 = True,\n",
    "                                                            squad_3 = True,\n",
    "                                                            squad_4 = True,\n",
    "                                                            squad_5 = True,\n",
    "                                                            squad_6 = True,\n",
    "                                                            squad_7 = True,\n",
    "                                                            squad_8 = True,\n",
    "                                                            drop_1 = True,\n",
    "                                                            drop_2 = True,\n",
    "                                                            drop_3 = True,\n",
    "                                                            drop_4 = True,\n",
    "                                                            drop_5 = True,\n",
    "                                                            drop_6 = True,\n",
    "                                                            drop_7 = True\n",
    "                                                            ) \n",
    "df_train_f2_all_templates = create_pandas_dataset_from_pandas(df_train_f2,\n",
    "                                                            squad_1 = True,\n",
    "                                                            squad_2 = True,\n",
    "                                                            squad_3 = True,\n",
    "                                                            squad_4 = True,\n",
    "                                                            squad_5 = True,\n",
    "                                                            squad_6 = True,\n",
    "                                                            squad_7 = True,\n",
    "                                                            squad_8 = True,\n",
    "                                                            drop_1 = True,\n",
    "                                                            drop_2 = True,\n",
    "                                                            drop_3 = True,\n",
    "                                                            drop_4 = True,\n",
    "                                                            drop_5 = True,\n",
    "                                                            drop_6 = True,\n",
    "                                                            drop_7 = True\n",
    "                                                              ) \n",
    "df_dev_f2_all_templates = create_pandas_dataset_from_pandas(df_dev_f2,\n",
    "                                                            squad_1 = True,\n",
    "                                                            squad_2 = True,\n",
    "                                                            squad_3 = True,\n",
    "                                                            squad_4 = True,\n",
    "                                                            squad_5 = True,\n",
    "                                                            squad_6 = True,\n",
    "                                                            squad_7 = True,\n",
    "                                                            squad_8 = True,\n",
    "                                                            drop_1 = True,\n",
    "                                                            drop_2 = True,\n",
    "                                                            drop_3 = True,\n",
    "                                                            drop_4 = True,\n",
    "                                                            drop_5 = True,\n",
    "                                                            drop_6 = True,\n",
    "                                                            drop_7 = True \n",
    "                                                            ) \n",
    "\n",
    "df_zeroshot_f1_all_templates = create_pandas_dataset_from_pandas(df_zeroshot_f1,\n",
    "                                                            squad_1 = True,\n",
    "                                                            squad_2 = True,\n",
    "                                                            squad_3 = True,\n",
    "                                                            squad_4 = True,\n",
    "                                                            squad_5 = True,\n",
    "                                                            squad_6 = True,\n",
    "                                                            squad_7 = True,\n",
    "                                                            squad_8 = True,\n",
    "                                                            drop_1 = True,\n",
    "                                                            drop_2 = True,\n",
    "                                                            drop_3 = True,\n",
    "                                                            drop_4 = True,\n",
    "                                                            drop_5 = True,\n",
    "                                                            drop_6 = True,\n",
    "                                                            drop_7 = True \n",
    "                                                            ) \n",
    "\n",
    "print(\"df_train_f1_all_templates describe: \")\n",
    "display(df_train_f1_all_templates.describe())\n",
    "print(\"df_dev_f1_all_templates describe: \")\n",
    "display(df_dev_f1_all_templates.describe())\n",
    "\n",
    "print(\"df_train_f2_all_templates describe: \")\n",
    "display(df_train_f2_all_templates.describe())\n",
    "print(\"df_dev_f2_all_templates describe: \")\n",
    "display(df_dev_f2_all_templates.describe())\n",
    "\n",
    "print(\"df_zeroshot_f1_all_templates describe: \")\n",
    "display(df_zeroshot_f1_all_templates.describe())"
   ]
  },
  {
   "cell_type": "code",
   "execution_count": 81,
   "metadata": {},
   "outputs": [
    {
     "data": {
      "text/html": [
       "<div>\n",
       "<style scoped>\n",
       "    .dataframe tbody tr th:only-of-type {\n",
       "        vertical-align: middle;\n",
       "    }\n",
       "\n",
       "    .dataframe tbody tr th {\n",
       "        vertical-align: top;\n",
       "    }\n",
       "\n",
       "    .dataframe thead th {\n",
       "        text-align: right;\n",
       "    }\n",
       "</style>\n",
       "<table border=\"1\" class=\"dataframe\">\n",
       "  <thead>\n",
       "    <tr style=\"text-align: right;\">\n",
       "      <th></th>\n",
       "      <th>id</th>\n",
       "      <th>prompt</th>\n",
       "      <th>answer</th>\n",
       "    </tr>\n",
       "  </thead>\n",
       "  <tbody>\n",
       "    <tr>\n",
       "      <th>count</th>\n",
       "      <td>185820</td>\n",
       "      <td>185820</td>\n",
       "      <td>185820</td>\n",
       "    </tr>\n",
       "    <tr>\n",
       "      <th>unique</th>\n",
       "      <td>12388</td>\n",
       "      <td>184680</td>\n",
       "      <td>7976</td>\n",
       "    </tr>\n",
       "    <tr>\n",
       "      <th>top</th>\n",
       "      <td>1707.03497v2.pdf</td>\n",
       "      <td>Title:\\t\\n\\nAbstract:\\t\\n\\n[image]\\n\\nWhat are...</td>\n",
       "      <td>unanswerable</td>\n",
       "    </tr>\n",
       "    <tr>\n",
       "      <th>freq</th>\n",
       "      <td>15</td>\n",
       "      <td>20</td>\n",
       "      <td>66015</td>\n",
       "    </tr>\n",
       "  </tbody>\n",
       "</table>\n",
       "</div>"
      ],
      "text/plain": [
       "                      id                                             prompt  \\\n",
       "count             185820                                             185820   \n",
       "unique             12388                                             184680   \n",
       "top     1707.03497v2.pdf  Title:\\t\\n\\nAbstract:\\t\\n\\n[image]\\n\\nWhat are...   \n",
       "freq                  15                                                 20   \n",
       "\n",
       "              answer  \n",
       "count         185820  \n",
       "unique          7976  \n",
       "top     unanswerable  \n",
       "freq           66015  "
      ]
     },
     "execution_count": 81,
     "metadata": {},
     "output_type": "execute_result"
    }
   ],
   "source": [
    "df_train_f1_all_templates.describe()"
   ]
  },
  {
   "cell_type": "code",
   "execution_count": 82,
   "metadata": {},
   "outputs": [
    {
     "data": {
      "text/plain": [
       "<class 'str'>    185820\n",
       "Name: answer, dtype: int64"
      ]
     },
     "execution_count": 82,
     "metadata": {},
     "output_type": "execute_result"
    }
   ],
   "source": [
    "df_train_f1_all_templates['answer'].apply(type).value_counts()\n"
   ]
  },
  {
   "cell_type": "code",
   "execution_count": 83,
   "metadata": {},
   "outputs": [
    {
     "data": {
      "text/plain": [
       "<class 'str'>    24630\n",
       "Name: answer, dtype: int64"
      ]
     },
     "execution_count": 83,
     "metadata": {},
     "output_type": "execute_result"
    }
   ],
   "source": [
    "df_dev_f1_all_templates['answer'].apply(type).value_counts()"
   ]
  },
  {
   "cell_type": "code",
   "execution_count": 84,
   "metadata": {},
   "outputs": [
    {
     "data": {
      "text/plain": [
       "\"[{'LEADERBOARD': {'Task': 'Semantic Segmentation', 'Dataset': 'Nighttime Driving', 'Metric': 'mIoU', 'Score': '36.1'}}]\""
      ]
     },
     "execution_count": 84,
     "metadata": {},
     "output_type": "execute_result"
    }
   ],
   "source": [
    "str(df_dev_f1_all_templates.at[5, 'answer'])"
   ]
  },
  {
   "cell_type": "code",
   "execution_count": 85,
   "metadata": {},
   "outputs": [
    {
     "name": "stdout",
     "output_type": "stream",
     "text": [
      "Downloading and preparing dataset parquet/default to /nfs/home/kabenamualus/.cache/huggingface/datasets/parquet/default-c2d0a9ded7acf665/0.0.0/14a00e99c0d15a23649d0db8944380ac81082d4b021f398733dd84f3a6c569a7...\n"
     ]
    },
    {
     "data": {
      "application/vnd.jupyter.widget-view+json": {
       "model_id": "a5579bb73c2f45f089997ec5a4395dec",
       "version_major": 2,
       "version_minor": 0
      },
      "text/plain": [
       "Downloading data files:   0%|          | 0/1 [00:00<?, ?it/s]"
      ]
     },
     "metadata": {},
     "output_type": "display_data"
    },
    {
     "data": {
      "application/vnd.jupyter.widget-view+json": {
       "model_id": "2443ce5f377a451ebfa35e17c92b7b26",
       "version_major": 2,
       "version_minor": 0
      },
      "text/plain": [
       "Extracting data files:   0%|          | 0/1 [00:00<?, ?it/s]"
      ]
     },
     "metadata": {},
     "output_type": "display_data"
    },
    {
     "data": {
      "application/vnd.jupyter.widget-view+json": {
       "model_id": "18a509a93dec4d87b8e523ec425e35a3",
       "version_major": 2,
       "version_minor": 0
      },
      "text/plain": [
       "Generating train split: 0 examples [00:00, ? examples/s]"
      ]
     },
     "metadata": {},
     "output_type": "display_data"
    },
    {
     "name": "stdout",
     "output_type": "stream",
     "text": [
      "Dataset parquet downloaded and prepared to /nfs/home/kabenamualus/.cache/huggingface/datasets/parquet/default-c2d0a9ded7acf665/0.0.0/14a00e99c0d15a23649d0db8944380ac81082d4b021f398733dd84f3a6c569a7. Subsequent calls will reuse this data.\n",
      "Downloading and preparing dataset parquet/default to /nfs/home/kabenamualus/.cache/huggingface/datasets/parquet/default-8cefe49801560e68/0.0.0/14a00e99c0d15a23649d0db8944380ac81082d4b021f398733dd84f3a6c569a7...\n"
     ]
    },
    {
     "data": {
      "application/vnd.jupyter.widget-view+json": {
       "model_id": "94cba70bb83f4cf5b1503bf87a7dc619",
       "version_major": 2,
       "version_minor": 0
      },
      "text/plain": [
       "Downloading data files:   0%|          | 0/1 [00:00<?, ?it/s]"
      ]
     },
     "metadata": {},
     "output_type": "display_data"
    },
    {
     "data": {
      "application/vnd.jupyter.widget-view+json": {
       "model_id": "f261363c96e44319b692b55a1599cbdd",
       "version_major": 2,
       "version_minor": 0
      },
      "text/plain": [
       "Extracting data files:   0%|          | 0/1 [00:00<?, ?it/s]"
      ]
     },
     "metadata": {},
     "output_type": "display_data"
    },
    {
     "data": {
      "application/vnd.jupyter.widget-view+json": {
       "model_id": "ef60b821be5f4d7898043548b75bb0c6",
       "version_major": 2,
       "version_minor": 0
      },
      "text/plain": [
       "Generating train split: 0 examples [00:00, ? examples/s]"
      ]
     },
     "metadata": {},
     "output_type": "display_data"
    },
    {
     "name": "stdout",
     "output_type": "stream",
     "text": [
      "Dataset parquet downloaded and prepared to /nfs/home/kabenamualus/.cache/huggingface/datasets/parquet/default-8cefe49801560e68/0.0.0/14a00e99c0d15a23649d0db8944380ac81082d4b021f398733dd84f3a6c569a7. Subsequent calls will reuse this data.\n",
      "Downloading and preparing dataset parquet/default to /nfs/home/kabenamualus/.cache/huggingface/datasets/parquet/default-3dca7b74a8bc3e05/0.0.0/14a00e99c0d15a23649d0db8944380ac81082d4b021f398733dd84f3a6c569a7...\n"
     ]
    },
    {
     "data": {
      "application/vnd.jupyter.widget-view+json": {
       "model_id": "7fdcaaed921648b8a16253e933e7d791",
       "version_major": 2,
       "version_minor": 0
      },
      "text/plain": [
       "Downloading data files:   0%|          | 0/1 [00:00<?, ?it/s]"
      ]
     },
     "metadata": {},
     "output_type": "display_data"
    },
    {
     "data": {
      "application/vnd.jupyter.widget-view+json": {
       "model_id": "7c9d429d21c84beba351e7ecef25df8b",
       "version_major": 2,
       "version_minor": 0
      },
      "text/plain": [
       "Extracting data files:   0%|          | 0/1 [00:00<?, ?it/s]"
      ]
     },
     "metadata": {},
     "output_type": "display_data"
    },
    {
     "data": {
      "application/vnd.jupyter.widget-view+json": {
       "model_id": "32e0484b79ad4bef86b73f6565ebd322",
       "version_major": 2,
       "version_minor": 0
      },
      "text/plain": [
       "Generating train split: 0 examples [00:00, ? examples/s]"
      ]
     },
     "metadata": {},
     "output_type": "display_data"
    },
    {
     "name": "stdout",
     "output_type": "stream",
     "text": [
      "Dataset parquet downloaded and prepared to /nfs/home/kabenamualus/.cache/huggingface/datasets/parquet/default-3dca7b74a8bc3e05/0.0.0/14a00e99c0d15a23649d0db8944380ac81082d4b021f398733dd84f3a6c569a7. Subsequent calls will reuse this data.\n",
      "Downloading and preparing dataset parquet/default to /nfs/home/kabenamualus/.cache/huggingface/datasets/parquet/default-d71d6ae30ef33d65/0.0.0/14a00e99c0d15a23649d0db8944380ac81082d4b021f398733dd84f3a6c569a7...\n"
     ]
    },
    {
     "data": {
      "application/vnd.jupyter.widget-view+json": {
       "model_id": "b36e03c7353a4e9daab604b816173257",
       "version_major": 2,
       "version_minor": 0
      },
      "text/plain": [
       "Downloading data files:   0%|          | 0/1 [00:00<?, ?it/s]"
      ]
     },
     "metadata": {},
     "output_type": "display_data"
    },
    {
     "data": {
      "application/vnd.jupyter.widget-view+json": {
       "model_id": "7cd16e3140464e19aaa3d4e64b8925c0",
       "version_major": 2,
       "version_minor": 0
      },
      "text/plain": [
       "Extracting data files:   0%|          | 0/1 [00:00<?, ?it/s]"
      ]
     },
     "metadata": {},
     "output_type": "display_data"
    },
    {
     "data": {
      "application/vnd.jupyter.widget-view+json": {
       "model_id": "71e07a2907104534b572e391c3a313e9",
       "version_major": 2,
       "version_minor": 0
      },
      "text/plain": [
       "Generating train split: 0 examples [00:00, ? examples/s]"
      ]
     },
     "metadata": {},
     "output_type": "display_data"
    },
    {
     "name": "stdout",
     "output_type": "stream",
     "text": [
      "Dataset parquet downloaded and prepared to /nfs/home/kabenamualus/.cache/huggingface/datasets/parquet/default-d71d6ae30ef33d65/0.0.0/14a00e99c0d15a23649d0db8944380ac81082d4b021f398733dd84f3a6c569a7. Subsequent calls will reuse this data.\n",
      "Downloading and preparing dataset parquet/default to /nfs/home/kabenamualus/.cache/huggingface/datasets/parquet/default-b8031069f9da66d6/0.0.0/14a00e99c0d15a23649d0db8944380ac81082d4b021f398733dd84f3a6c569a7...\n"
     ]
    },
    {
     "data": {
      "application/vnd.jupyter.widget-view+json": {
       "model_id": "cc76fc32490a4e5d9bc34cfe726821a7",
       "version_major": 2,
       "version_minor": 0
      },
      "text/plain": [
       "Downloading data files:   0%|          | 0/1 [00:00<?, ?it/s]"
      ]
     },
     "metadata": {},
     "output_type": "display_data"
    },
    {
     "data": {
      "application/vnd.jupyter.widget-view+json": {
       "model_id": "c67d4d78fd4d4c8593af08ea111a47db",
       "version_major": 2,
       "version_minor": 0
      },
      "text/plain": [
       "Extracting data files:   0%|          | 0/1 [00:00<?, ?it/s]"
      ]
     },
     "metadata": {},
     "output_type": "display_data"
    },
    {
     "data": {
      "application/vnd.jupyter.widget-view+json": {
       "model_id": "af167819e5174fb6a36da570b88a2f77",
       "version_major": 2,
       "version_minor": 0
      },
      "text/plain": [
       "Generating train split: 0 examples [00:00, ? examples/s]"
      ]
     },
     "metadata": {},
     "output_type": "display_data"
    },
    {
     "name": "stdout",
     "output_type": "stream",
     "text": [
      "Dataset parquet downloaded and prepared to /nfs/home/kabenamualus/.cache/huggingface/datasets/parquet/default-b8031069f9da66d6/0.0.0/14a00e99c0d15a23649d0db8944380ac81082d4b021f398733dd84f3a6c569a7. Subsequent calls will reuse this data.\n",
      "DatasetDict({\n",
      "    fold1: DatasetDict({\n",
      "        train: Dataset({\n",
      "            features: ['id', 'prompt', 'answer', '__index_level_0__'],\n",
      "            num_rows: 185820\n",
      "        })\n",
      "        validation: Dataset({\n",
      "            features: ['id', 'prompt', 'answer', '__index_level_0__'],\n",
      "            num_rows: 24630\n",
      "        })\n",
      "        zeroshot: Dataset({\n",
      "            features: ['id', 'prompt', 'answer', '__index_level_0__'],\n",
      "            num_rows: 18000\n",
      "        })\n",
      "    })\n",
      "    fold2: DatasetDict({\n",
      "        train: Dataset({\n",
      "            features: ['id', 'prompt', 'answer', '__index_level_0__'],\n",
      "            num_rows: 185730\n",
      "        })\n",
      "        validation: Dataset({\n",
      "            features: ['id', 'prompt', 'answer', '__index_level_0__'],\n",
      "            num_rows: 24720\n",
      "        })\n",
      "    })\n",
      "})\n"
     ]
    },
    {
     "data": {
      "application/vnd.jupyter.widget-view+json": {
       "model_id": "46343f1148954cbd95f8530d2006cf34",
       "version_major": 2,
       "version_minor": 0
      },
      "text/plain": [
       "Saving the dataset (0/5 shards):   0%|          | 0/185820 [00:00<?, ? examples/s]"
      ]
     },
     "metadata": {},
     "output_type": "display_data"
    },
    {
     "data": {
      "application/vnd.jupyter.widget-view+json": {
       "model_id": "c99816d98de946bdbab99b01a36db835",
       "version_major": 2,
       "version_minor": 0
      },
      "text/plain": [
       "Saving the dataset (0/1 shards):   0%|          | 0/24630 [00:00<?, ? examples/s]"
      ]
     },
     "metadata": {},
     "output_type": "display_data"
    },
    {
     "data": {
      "application/vnd.jupyter.widget-view+json": {
       "model_id": "1ca128c14e574535b234c7e22727f574",
       "version_major": 2,
       "version_minor": 0
      },
      "text/plain": [
       "Saving the dataset (0/1 shards):   0%|          | 0/18000 [00:00<?, ? examples/s]"
      ]
     },
     "metadata": {},
     "output_type": "display_data"
    },
    {
     "data": {
      "application/vnd.jupyter.widget-view+json": {
       "model_id": "38bc200533234c37abed3f008b0ad49f",
       "version_major": 2,
       "version_minor": 0
      },
      "text/plain": [
       "Saving the dataset (0/5 shards):   0%|          | 0/185730 [00:00<?, ? examples/s]"
      ]
     },
     "metadata": {},
     "output_type": "display_data"
    },
    {
     "data": {
      "application/vnd.jupyter.widget-view+json": {
       "model_id": "c6aad498524d4701b3210b669a5fdd76",
       "version_major": 2,
       "version_minor": 0
      },
      "text/plain": [
       "Saving the dataset (0/1 shards):   0%|          | 0/24720 [00:00<?, ? examples/s]"
      ]
     },
     "metadata": {},
     "output_type": "display_data"
    }
   ],
   "source": [
    "df_train_f1_all_templates.to_parquet('../data/df_train_tdms_augmented_summarized_with_id_f1_all_templates.parquet')\n",
    "df_dev_f1_all_templates.to_parquet('../data/df_dev_tdms_augmented_summarized_with_id_f1_all_templates.parquet')\n",
    "df_zeroshot_f1_all_templates.to_parquet('../data/df_zeroshot_tdms_augmented_summarized_with_id_f1_all_templates.parquet')\n",
    "\n",
    "df_train_f2_all_templates.to_parquet('../data/df_train_tdms_augmented_summarized_with_id_f2_all_templates.parquet')\n",
    "df_dev_f2_all_templates.to_parquet('../data/df_dev_tdms_augmented_summarized_with_id_f2_all_templates.parquet')\n",
    "\n",
    "dataset = DatasetDict({\n",
    "    'fold1': DatasetDict({\n",
    "        \"train\": Dataset.from_parquet('../data/df_train_tdms_augmented_summarized_with_id_f1_all_templates.parquet'),\n",
    "        \"validation\": Dataset.from_parquet('../data/df_dev_tdms_augmented_summarized_with_id_f1_all_templates.parquet'),\n",
    "        \"zeroshot\": Dataset.from_parquet('../data/df_zeroshot_tdms_augmented_summarized_with_id_f1_all_templates.parquet')\n",
    "    }),\n",
    "    'fold2': DatasetDict({\n",
    "        \"train\": Dataset.from_parquet('../data/df_train_tdms_augmented_summarized_with_id_f2_all_templates.parquet'),\n",
    "        \"validation\": Dataset.from_parquet('../data/df_dev_tdms_augmented_summarized_with_id_f2_all_templates.parquet')\n",
    "    })\n",
    "})\n",
    "\n",
    "print(dataset)\n",
    "\n",
    "dataset.save_to_disk(\"../data/LLLM_AUGMENTED_SUMMARIZED_WITH_ID_ZEROSHOT_TDMS_ALL_TEMPLATE\")"
   ]
  },
  {
   "cell_type": "code",
   "execution_count": 86,
   "metadata": {},
   "outputs": [],
   "source": [
    "# df_train_f1_all_templates = pd.read_parquet('../data/df_train_f1_all_templates.parquet')\n",
    "# df_dev_f1_all_templates = pd.read_parquet('../data/df_dev_f1_all_templates.parquet')\n",
    "# df_train_f2_all_templates = pd.read_parquet('../data/df_train_f2_all_templates.parquet')\n",
    "# df_dev_f2_all_templates = pd.read_parquet('../data/df_dev_f2_all_templates.parquet')"
   ]
  },
  {
   "cell_type": "markdown",
   "metadata": {},
   "source": [
    "# Specific Template"
   ]
  },
  {
   "cell_type": "code",
   "execution_count": 87,
   "metadata": {},
   "outputs": [
    {
     "name": "stdout",
     "output_type": "stream",
     "text": [
      "Downloading and preparing dataset parquet/default to /nfs/home/kabenamualus/.cache/huggingface/datasets/parquet/default-51349780d6fd44c1/0.0.0/14a00e99c0d15a23649d0db8944380ac81082d4b021f398733dd84f3a6c569a7...\n"
     ]
    },
    {
     "data": {
      "application/vnd.jupyter.widget-view+json": {
       "model_id": "8621a549201f421d95ff6a3096654b84",
       "version_major": 2,
       "version_minor": 0
      },
      "text/plain": [
       "Downloading data files:   0%|          | 0/1 [00:00<?, ?it/s]"
      ]
     },
     "metadata": {},
     "output_type": "display_data"
    },
    {
     "data": {
      "application/vnd.jupyter.widget-view+json": {
       "model_id": "ac20ac9e11ec4ea38eb9f3604a1bf507",
       "version_major": 2,
       "version_minor": 0
      },
      "text/plain": [
       "Extracting data files:   0%|          | 0/1 [00:00<?, ?it/s]"
      ]
     },
     "metadata": {},
     "output_type": "display_data"
    },
    {
     "data": {
      "application/vnd.jupyter.widget-view+json": {
       "model_id": "9c639c4098e14fe7b56b34753cf51b81",
       "version_major": 2,
       "version_minor": 0
      },
      "text/plain": [
       "Generating train split: 0 examples [00:00, ? examples/s]"
      ]
     },
     "metadata": {},
     "output_type": "display_data"
    },
    {
     "name": "stdout",
     "output_type": "stream",
     "text": [
      "Dataset parquet downloaded and prepared to /nfs/home/kabenamualus/.cache/huggingface/datasets/parquet/default-51349780d6fd44c1/0.0.0/14a00e99c0d15a23649d0db8944380ac81082d4b021f398733dd84f3a6c569a7. Subsequent calls will reuse this data.\n",
      "Downloading and preparing dataset parquet/default to /nfs/home/kabenamualus/.cache/huggingface/datasets/parquet/default-43a24fd055a0041c/0.0.0/14a00e99c0d15a23649d0db8944380ac81082d4b021f398733dd84f3a6c569a7...\n"
     ]
    },
    {
     "data": {
      "application/vnd.jupyter.widget-view+json": {
       "model_id": "3134f643a0cc44c398b97c15a0b3de0c",
       "version_major": 2,
       "version_minor": 0
      },
      "text/plain": [
       "Downloading data files:   0%|          | 0/1 [00:00<?, ?it/s]"
      ]
     },
     "metadata": {},
     "output_type": "display_data"
    },
    {
     "data": {
      "application/vnd.jupyter.widget-view+json": {
       "model_id": "f512696caa4f4c0e98578838183d2270",
       "version_major": 2,
       "version_minor": 0
      },
      "text/plain": [
       "Extracting data files:   0%|          | 0/1 [00:00<?, ?it/s]"
      ]
     },
     "metadata": {},
     "output_type": "display_data"
    },
    {
     "data": {
      "application/vnd.jupyter.widget-view+json": {
       "model_id": "3bdabfe4c3094396aa8ff5322ba55a88",
       "version_major": 2,
       "version_minor": 0
      },
      "text/plain": [
       "Generating train split: 0 examples [00:00, ? examples/s]"
      ]
     },
     "metadata": {},
     "output_type": "display_data"
    },
    {
     "name": "stdout",
     "output_type": "stream",
     "text": [
      "Dataset parquet downloaded and prepared to /nfs/home/kabenamualus/.cache/huggingface/datasets/parquet/default-43a24fd055a0041c/0.0.0/14a00e99c0d15a23649d0db8944380ac81082d4b021f398733dd84f3a6c569a7. Subsequent calls will reuse this data.\n",
      "Downloading and preparing dataset parquet/default to /nfs/home/kabenamualus/.cache/huggingface/datasets/parquet/default-77268f8c1d4b2c0c/0.0.0/14a00e99c0d15a23649d0db8944380ac81082d4b021f398733dd84f3a6c569a7...\n"
     ]
    },
    {
     "data": {
      "application/vnd.jupyter.widget-view+json": {
       "model_id": "c901ba47871744af83228a3208092abd",
       "version_major": 2,
       "version_minor": 0
      },
      "text/plain": [
       "Downloading data files:   0%|          | 0/1 [00:00<?, ?it/s]"
      ]
     },
     "metadata": {},
     "output_type": "display_data"
    },
    {
     "data": {
      "application/vnd.jupyter.widget-view+json": {
       "model_id": "8de507d3ebff4bdea7907ab00f2e2d02",
       "version_major": 2,
       "version_minor": 0
      },
      "text/plain": [
       "Extracting data files:   0%|          | 0/1 [00:00<?, ?it/s]"
      ]
     },
     "metadata": {},
     "output_type": "display_data"
    },
    {
     "data": {
      "application/vnd.jupyter.widget-view+json": {
       "model_id": "e201f445a19d463a9d7ec68503bb59fe",
       "version_major": 2,
       "version_minor": 0
      },
      "text/plain": [
       "Generating train split: 0 examples [00:00, ? examples/s]"
      ]
     },
     "metadata": {},
     "output_type": "display_data"
    },
    {
     "name": "stdout",
     "output_type": "stream",
     "text": [
      "Dataset parquet downloaded and prepared to /nfs/home/kabenamualus/.cache/huggingface/datasets/parquet/default-77268f8c1d4b2c0c/0.0.0/14a00e99c0d15a23649d0db8944380ac81082d4b021f398733dd84f3a6c569a7. Subsequent calls will reuse this data.\n",
      "Downloading and preparing dataset parquet/default to /nfs/home/kabenamualus/.cache/huggingface/datasets/parquet/default-feef6d6f081a635a/0.0.0/14a00e99c0d15a23649d0db8944380ac81082d4b021f398733dd84f3a6c569a7...\n"
     ]
    },
    {
     "data": {
      "application/vnd.jupyter.widget-view+json": {
       "model_id": "777160f6e7724d7b8bd4e44894cd7e48",
       "version_major": 2,
       "version_minor": 0
      },
      "text/plain": [
       "Downloading data files:   0%|          | 0/1 [00:00<?, ?it/s]"
      ]
     },
     "metadata": {},
     "output_type": "display_data"
    },
    {
     "data": {
      "application/vnd.jupyter.widget-view+json": {
       "model_id": "9fb2dd715690438e82535118ff12f189",
       "version_major": 2,
       "version_minor": 0
      },
      "text/plain": [
       "Extracting data files:   0%|          | 0/1 [00:00<?, ?it/s]"
      ]
     },
     "metadata": {},
     "output_type": "display_data"
    },
    {
     "data": {
      "application/vnd.jupyter.widget-view+json": {
       "model_id": "f510db5dcff145f18dd8464195fdaaf6",
       "version_major": 2,
       "version_minor": 0
      },
      "text/plain": [
       "Generating train split: 0 examples [00:00, ? examples/s]"
      ]
     },
     "metadata": {},
     "output_type": "display_data"
    },
    {
     "name": "stdout",
     "output_type": "stream",
     "text": [
      "Dataset parquet downloaded and prepared to /nfs/home/kabenamualus/.cache/huggingface/datasets/parquet/default-feef6d6f081a635a/0.0.0/14a00e99c0d15a23649d0db8944380ac81082d4b021f398733dd84f3a6c569a7. Subsequent calls will reuse this data.\n",
      "Downloading and preparing dataset parquet/default to /nfs/home/kabenamualus/.cache/huggingface/datasets/parquet/default-84fb0c44a329e243/0.0.0/14a00e99c0d15a23649d0db8944380ac81082d4b021f398733dd84f3a6c569a7...\n"
     ]
    },
    {
     "data": {
      "application/vnd.jupyter.widget-view+json": {
       "model_id": "90a67e6d7e0c4f35b0bc2d1a2875845e",
       "version_major": 2,
       "version_minor": 0
      },
      "text/plain": [
       "Downloading data files:   0%|          | 0/1 [00:00<?, ?it/s]"
      ]
     },
     "metadata": {},
     "output_type": "display_data"
    },
    {
     "data": {
      "application/vnd.jupyter.widget-view+json": {
       "model_id": "0185bcf9414a4ff48170e9c37098962b",
       "version_major": 2,
       "version_minor": 0
      },
      "text/plain": [
       "Extracting data files:   0%|          | 0/1 [00:00<?, ?it/s]"
      ]
     },
     "metadata": {},
     "output_type": "display_data"
    },
    {
     "data": {
      "application/vnd.jupyter.widget-view+json": {
       "model_id": "19cea85b3cf44bc39aae0ad69ecd59ab",
       "version_major": 2,
       "version_minor": 0
      },
      "text/plain": [
       "Generating train split: 0 examples [00:00, ? examples/s]"
      ]
     },
     "metadata": {},
     "output_type": "display_data"
    },
    {
     "name": "stdout",
     "output_type": "stream",
     "text": [
      "Dataset parquet downloaded and prepared to /nfs/home/kabenamualus/.cache/huggingface/datasets/parquet/default-84fb0c44a329e243/0.0.0/14a00e99c0d15a23649d0db8944380ac81082d4b021f398733dd84f3a6c569a7. Subsequent calls will reuse this data.\n"
     ]
    }
   ],
   "source": [
    "df_train_f1_all_templates.to_parquet('../data/df_train_tdms_augmented_summarized_with_id_f1_all_templates.parquet')\n",
    "df_dev_f1_all_templates.to_parquet('../data/df_dev_tdms_augmented_summarized_with_id_f1_all_templates.parquet')\n",
    "df_zeroshot_f1_all_templates.to_parquet('../data/df_zeroshot_tdms_augmented_summarized_with_id_f1_all_templates.parquet')\n",
    "\n",
    "df_train_f2_all_templates.to_parquet('../data/df_train_tdms_augmented_summarized_with_id_f2_all_templates.parquet')\n",
    "df_dev_f2_all_templates.to_parquet('../data/df_dev_tdms_augmented_summarized_with_id_f2_all_templates.parquet')\n",
    "\n",
    "dataset = DatasetDict({\n",
    "    'fold1': DatasetDict({\n",
    "        \"train\": Dataset.from_parquet('../data/df_train_tdms_augmented_summarized_with_id_f1_all_templates.parquet'),\n",
    "        \"validation\": Dataset.from_parquet('../data/df_dev_tdms_augmented_summarized_with_id_f1_all_templates.parquet'),\n",
    "        \"zeroshot\": Dataset.from_parquet('../data/df_zeroshot_tdms_augmented_summarized_with_id_f1_all_templates.parquet')\n",
    "    }),\n",
    "    'fold2': DatasetDict({\n",
    "        \"train\": Dataset.from_parquet('../data/df_train_tdms_augmented_summarized_with_id_f2_all_templates.parquet'),\n",
    "        \"validation\": Dataset.from_parquet('../data/df_dev_tdms_augmented_summarized_with_id_f2_all_templates.parquet')\n",
    "    })\n",
    "})"
   ]
  },
  {
   "cell_type": "code",
   "execution_count": 88,
   "metadata": {},
   "outputs": [
    {
     "name": "stderr",
     "output_type": "stream",
     "text": [
      "  1%|▏         | 157/12388 [00:00<00:15, 784.81it/s]"
     ]
    },
    {
     "name": "stderr",
     "output_type": "stream",
     "text": [
      "100%|██████████| 12388/12388 [00:17<00:00, 693.34it/s]\n",
      "100%|██████████| 1642/1642 [00:02<00:00, 786.27it/s]\n",
      "100%|██████████| 1200/1200 [00:01<00:00, 790.38it/s]\n",
      "100%|██████████| 12382/12382 [00:17<00:00, 699.35it/s]\n",
      "100%|██████████| 1648/1648 [00:02<00:00, 790.08it/s]\n"
     ]
    },
    {
     "name": "stdout",
     "output_type": "stream",
     "text": [
      "df_train_f1_squad_1 describe: \n"
     ]
    },
    {
     "data": {
      "text/html": [
       "<div>\n",
       "<style scoped>\n",
       "    .dataframe tbody tr th:only-of-type {\n",
       "        vertical-align: middle;\n",
       "    }\n",
       "\n",
       "    .dataframe tbody tr th {\n",
       "        vertical-align: top;\n",
       "    }\n",
       "\n",
       "    .dataframe thead th {\n",
       "        text-align: right;\n",
       "    }\n",
       "</style>\n",
       "<table border=\"1\" class=\"dataframe\">\n",
       "  <thead>\n",
       "    <tr style=\"text-align: right;\">\n",
       "      <th></th>\n",
       "      <th>id</th>\n",
       "      <th>prompt</th>\n",
       "      <th>answer</th>\n",
       "    </tr>\n",
       "  </thead>\n",
       "  <tbody>\n",
       "    <tr>\n",
       "      <th>count</th>\n",
       "      <td>12388</td>\n",
       "      <td>12388</td>\n",
       "      <td>12388</td>\n",
       "    </tr>\n",
       "    <tr>\n",
       "      <th>unique</th>\n",
       "      <td>12388</td>\n",
       "      <td>12312</td>\n",
       "      <td>7976</td>\n",
       "    </tr>\n",
       "    <tr>\n",
       "      <th>top</th>\n",
       "      <td>1707.03497v2.pdf</td>\n",
       "      <td>Title:\\t\\n\\nAbstract:\\t\\n\\n[image]\\n\\n\\nPlease...</td>\n",
       "      <td>unanswerable</td>\n",
       "    </tr>\n",
       "    <tr>\n",
       "      <th>freq</th>\n",
       "      <td>1</td>\n",
       "      <td>20</td>\n",
       "      <td>4401</td>\n",
       "    </tr>\n",
       "  </tbody>\n",
       "</table>\n",
       "</div>"
      ],
      "text/plain": [
       "                      id                                             prompt  \\\n",
       "count              12388                                              12388   \n",
       "unique             12388                                              12312   \n",
       "top     1707.03497v2.pdf  Title:\\t\\n\\nAbstract:\\t\\n\\n[image]\\n\\n\\nPlease...   \n",
       "freq                   1                                                 20   \n",
       "\n",
       "              answer  \n",
       "count          12388  \n",
       "unique          7976  \n",
       "top     unanswerable  \n",
       "freq            4401  "
      ]
     },
     "metadata": {},
     "output_type": "display_data"
    },
    {
     "name": "stdout",
     "output_type": "stream",
     "text": [
      "df_dev_f1_squad_1 describe: \n"
     ]
    },
    {
     "data": {
      "text/html": [
       "<div>\n",
       "<style scoped>\n",
       "    .dataframe tbody tr th:only-of-type {\n",
       "        vertical-align: middle;\n",
       "    }\n",
       "\n",
       "    .dataframe tbody tr th {\n",
       "        vertical-align: top;\n",
       "    }\n",
       "\n",
       "    .dataframe thead th {\n",
       "        text-align: right;\n",
       "    }\n",
       "</style>\n",
       "<table border=\"1\" class=\"dataframe\">\n",
       "  <thead>\n",
       "    <tr style=\"text-align: right;\">\n",
       "      <th></th>\n",
       "      <th>id</th>\n",
       "      <th>prompt</th>\n",
       "      <th>answer</th>\n",
       "    </tr>\n",
       "  </thead>\n",
       "  <tbody>\n",
       "    <tr>\n",
       "      <th>count</th>\n",
       "      <td>1642</td>\n",
       "      <td>1642</td>\n",
       "      <td>1642</td>\n",
       "    </tr>\n",
       "    <tr>\n",
       "      <th>unique</th>\n",
       "      <td>1642</td>\n",
       "      <td>1641</td>\n",
       "      <td>994</td>\n",
       "    </tr>\n",
       "    <tr>\n",
       "      <th>top</th>\n",
       "      <td>1810.02575v1.pdf</td>\n",
       "      <td>Title:\\tA Sample ACM SIG Proceedings Paper in ...</td>\n",
       "      <td>unanswerable</td>\n",
       "    </tr>\n",
       "    <tr>\n",
       "      <th>freq</th>\n",
       "      <td>1</td>\n",
       "      <td>2</td>\n",
       "      <td>648</td>\n",
       "    </tr>\n",
       "  </tbody>\n",
       "</table>\n",
       "</div>"
      ],
      "text/plain": [
       "                      id                                             prompt  \\\n",
       "count               1642                                               1642   \n",
       "unique              1642                                               1641   \n",
       "top     1810.02575v1.pdf  Title:\\tA Sample ACM SIG Proceedings Paper in ...   \n",
       "freq                   1                                                  2   \n",
       "\n",
       "              answer  \n",
       "count           1642  \n",
       "unique           994  \n",
       "top     unanswerable  \n",
       "freq             648  "
      ]
     },
     "metadata": {},
     "output_type": "display_data"
    },
    {
     "name": "stdout",
     "output_type": "stream",
     "text": [
      "df_dev_f1_squad_1 describe: \n"
     ]
    },
    {
     "data": {
      "text/html": [
       "<div>\n",
       "<style scoped>\n",
       "    .dataframe tbody tr th:only-of-type {\n",
       "        vertical-align: middle;\n",
       "    }\n",
       "\n",
       "    .dataframe tbody tr th {\n",
       "        vertical-align: top;\n",
       "    }\n",
       "\n",
       "    .dataframe thead th {\n",
       "        text-align: right;\n",
       "    }\n",
       "</style>\n",
       "<table border=\"1\" class=\"dataframe\">\n",
       "  <thead>\n",
       "    <tr style=\"text-align: right;\">\n",
       "      <th></th>\n",
       "      <th>id</th>\n",
       "      <th>prompt</th>\n",
       "      <th>answer</th>\n",
       "    </tr>\n",
       "  </thead>\n",
       "  <tbody>\n",
       "    <tr>\n",
       "      <th>count</th>\n",
       "      <td>1642</td>\n",
       "      <td>1642</td>\n",
       "      <td>1642</td>\n",
       "    </tr>\n",
       "    <tr>\n",
       "      <th>unique</th>\n",
       "      <td>1642</td>\n",
       "      <td>1641</td>\n",
       "      <td>994</td>\n",
       "    </tr>\n",
       "    <tr>\n",
       "      <th>top</th>\n",
       "      <td>1810.02575v1.pdf</td>\n",
       "      <td>Title:\\tA Sample ACM SIG Proceedings Paper in ...</td>\n",
       "      <td>unanswerable</td>\n",
       "    </tr>\n",
       "    <tr>\n",
       "      <th>freq</th>\n",
       "      <td>1</td>\n",
       "      <td>2</td>\n",
       "      <td>648</td>\n",
       "    </tr>\n",
       "  </tbody>\n",
       "</table>\n",
       "</div>"
      ],
      "text/plain": [
       "                      id                                             prompt  \\\n",
       "count               1642                                               1642   \n",
       "unique              1642                                               1641   \n",
       "top     1810.02575v1.pdf  Title:\\tA Sample ACM SIG Proceedings Paper in ...   \n",
       "freq                   1                                                  2   \n",
       "\n",
       "              answer  \n",
       "count           1642  \n",
       "unique           994  \n",
       "top     unanswerable  \n",
       "freq             648  "
      ]
     },
     "metadata": {},
     "output_type": "display_data"
    },
    {
     "name": "stdout",
     "output_type": "stream",
     "text": [
      "df_train_f2_squad_1 describe: \n"
     ]
    },
    {
     "data": {
      "text/html": [
       "<div>\n",
       "<style scoped>\n",
       "    .dataframe tbody tr th:only-of-type {\n",
       "        vertical-align: middle;\n",
       "    }\n",
       "\n",
       "    .dataframe tbody tr th {\n",
       "        vertical-align: top;\n",
       "    }\n",
       "\n",
       "    .dataframe thead th {\n",
       "        text-align: right;\n",
       "    }\n",
       "</style>\n",
       "<table border=\"1\" class=\"dataframe\">\n",
       "  <thead>\n",
       "    <tr style=\"text-align: right;\">\n",
       "      <th></th>\n",
       "      <th>id</th>\n",
       "      <th>prompt</th>\n",
       "      <th>answer</th>\n",
       "    </tr>\n",
       "  </thead>\n",
       "  <tbody>\n",
       "    <tr>\n",
       "      <th>count</th>\n",
       "      <td>12382</td>\n",
       "      <td>12382</td>\n",
       "      <td>12382</td>\n",
       "    </tr>\n",
       "    <tr>\n",
       "      <th>unique</th>\n",
       "      <td>12382</td>\n",
       "      <td>12311</td>\n",
       "      <td>7988</td>\n",
       "    </tr>\n",
       "    <tr>\n",
       "      <th>top</th>\n",
       "      <td>1707.03497v2.pdf</td>\n",
       "      <td>Title:\\t\\n\\nAbstract:\\t\\n\\n[image]\\n\\n\\nPlease...</td>\n",
       "      <td>unanswerable</td>\n",
       "    </tr>\n",
       "    <tr>\n",
       "      <th>freq</th>\n",
       "      <td>1</td>\n",
       "      <td>20</td>\n",
       "      <td>4383</td>\n",
       "    </tr>\n",
       "  </tbody>\n",
       "</table>\n",
       "</div>"
      ],
      "text/plain": [
       "                      id                                             prompt  \\\n",
       "count              12382                                              12382   \n",
       "unique             12382                                              12311   \n",
       "top     1707.03497v2.pdf  Title:\\t\\n\\nAbstract:\\t\\n\\n[image]\\n\\n\\nPlease...   \n",
       "freq                   1                                                 20   \n",
       "\n",
       "              answer  \n",
       "count          12382  \n",
       "unique          7988  \n",
       "top     unanswerable  \n",
       "freq            4383  "
      ]
     },
     "metadata": {},
     "output_type": "display_data"
    },
    {
     "name": "stdout",
     "output_type": "stream",
     "text": [
      "df_zeroshot_f1_squad_1 describe: \n"
     ]
    },
    {
     "data": {
      "text/html": [
       "<div>\n",
       "<style scoped>\n",
       "    .dataframe tbody tr th:only-of-type {\n",
       "        vertical-align: middle;\n",
       "    }\n",
       "\n",
       "    .dataframe tbody tr th {\n",
       "        vertical-align: top;\n",
       "    }\n",
       "\n",
       "    .dataframe thead th {\n",
       "        text-align: right;\n",
       "    }\n",
       "</style>\n",
       "<table border=\"1\" class=\"dataframe\">\n",
       "  <thead>\n",
       "    <tr style=\"text-align: right;\">\n",
       "      <th></th>\n",
       "      <th>id</th>\n",
       "      <th>prompt</th>\n",
       "      <th>answer</th>\n",
       "    </tr>\n",
       "  </thead>\n",
       "  <tbody>\n",
       "    <tr>\n",
       "      <th>count</th>\n",
       "      <td>1200</td>\n",
       "      <td>1200</td>\n",
       "      <td>1200</td>\n",
       "    </tr>\n",
       "    <tr>\n",
       "      <th>unique</th>\n",
       "      <td>1200</td>\n",
       "      <td>1197</td>\n",
       "      <td>653</td>\n",
       "    </tr>\n",
       "    <tr>\n",
       "      <th>top</th>\n",
       "      <td>2209.03182v1.pdf</td>\n",
       "      <td>Title:\\t\\n\\nAbstract:\\t\\n\\n[image]\\n\\n\\nPlease...</td>\n",
       "      <td>unanswerable</td>\n",
       "    </tr>\n",
       "    <tr>\n",
       "      <th>freq</th>\n",
       "      <td>1</td>\n",
       "      <td>3</td>\n",
       "      <td>548</td>\n",
       "    </tr>\n",
       "  </tbody>\n",
       "</table>\n",
       "</div>"
      ],
      "text/plain": [
       "                      id                                             prompt  \\\n",
       "count               1200                                               1200   \n",
       "unique              1200                                               1197   \n",
       "top     2209.03182v1.pdf  Title:\\t\\n\\nAbstract:\\t\\n\\n[image]\\n\\n\\nPlease...   \n",
       "freq                   1                                                  3   \n",
       "\n",
       "              answer  \n",
       "count           1200  \n",
       "unique           653  \n",
       "top     unanswerable  \n",
       "freq             548  "
      ]
     },
     "metadata": {},
     "output_type": "display_data"
    },
    {
     "name": "stdout",
     "output_type": "stream",
     "text": [
      "Downloading and preparing dataset parquet/default to /nfs/home/kabenamualus/.cache/huggingface/datasets/parquet/default-e14ae07e5ddd036f/0.0.0/14a00e99c0d15a23649d0db8944380ac81082d4b021f398733dd84f3a6c569a7...\n"
     ]
    },
    {
     "data": {
      "application/vnd.jupyter.widget-view+json": {
       "model_id": "fa1ee37a8a244f31bed270a04ec8826d",
       "version_major": 2,
       "version_minor": 0
      },
      "text/plain": [
       "Downloading data files:   0%|          | 0/1 [00:00<?, ?it/s]"
      ]
     },
     "metadata": {},
     "output_type": "display_data"
    },
    {
     "data": {
      "application/vnd.jupyter.widget-view+json": {
       "model_id": "61daa1e1f74f4f64ad02afdd40973799",
       "version_major": 2,
       "version_minor": 0
      },
      "text/plain": [
       "Extracting data files:   0%|          | 0/1 [00:00<?, ?it/s]"
      ]
     },
     "metadata": {},
     "output_type": "display_data"
    },
    {
     "data": {
      "application/vnd.jupyter.widget-view+json": {
       "model_id": "3ddec1ce5e374e1591419528a06f3f42",
       "version_major": 2,
       "version_minor": 0
      },
      "text/plain": [
       "Generating train split: 0 examples [00:00, ? examples/s]"
      ]
     },
     "metadata": {},
     "output_type": "display_data"
    },
    {
     "name": "stdout",
     "output_type": "stream",
     "text": [
      "Dataset parquet downloaded and prepared to /nfs/home/kabenamualus/.cache/huggingface/datasets/parquet/default-e14ae07e5ddd036f/0.0.0/14a00e99c0d15a23649d0db8944380ac81082d4b021f398733dd84f3a6c569a7. Subsequent calls will reuse this data.\n",
      "Downloading and preparing dataset parquet/default to /nfs/home/kabenamualus/.cache/huggingface/datasets/parquet/default-bd4fe45c97fe1e40/0.0.0/14a00e99c0d15a23649d0db8944380ac81082d4b021f398733dd84f3a6c569a7...\n"
     ]
    },
    {
     "data": {
      "application/vnd.jupyter.widget-view+json": {
       "model_id": "60801432fb874bcc9688c943ac26712a",
       "version_major": 2,
       "version_minor": 0
      },
      "text/plain": [
       "Downloading data files:   0%|          | 0/1 [00:00<?, ?it/s]"
      ]
     },
     "metadata": {},
     "output_type": "display_data"
    },
    {
     "data": {
      "application/vnd.jupyter.widget-view+json": {
       "model_id": "7b7355bf0b9c48a3ae31a3126a882abf",
       "version_major": 2,
       "version_minor": 0
      },
      "text/plain": [
       "Extracting data files:   0%|          | 0/1 [00:00<?, ?it/s]"
      ]
     },
     "metadata": {},
     "output_type": "display_data"
    },
    {
     "data": {
      "application/vnd.jupyter.widget-view+json": {
       "model_id": "515524c382224e9dac752b5dd591180a",
       "version_major": 2,
       "version_minor": 0
      },
      "text/plain": [
       "Generating train split: 0 examples [00:00, ? examples/s]"
      ]
     },
     "metadata": {},
     "output_type": "display_data"
    },
    {
     "name": "stdout",
     "output_type": "stream",
     "text": [
      "Dataset parquet downloaded and prepared to /nfs/home/kabenamualus/.cache/huggingface/datasets/parquet/default-bd4fe45c97fe1e40/0.0.0/14a00e99c0d15a23649d0db8944380ac81082d4b021f398733dd84f3a6c569a7. Subsequent calls will reuse this data.\n",
      "Downloading and preparing dataset parquet/default to /nfs/home/kabenamualus/.cache/huggingface/datasets/parquet/default-ffd3f28481e0c4d9/0.0.0/14a00e99c0d15a23649d0db8944380ac81082d4b021f398733dd84f3a6c569a7...\n"
     ]
    },
    {
     "data": {
      "application/vnd.jupyter.widget-view+json": {
       "model_id": "1e46c182ccd34a9289feb8bed31f2b48",
       "version_major": 2,
       "version_minor": 0
      },
      "text/plain": [
       "Downloading data files:   0%|          | 0/1 [00:00<?, ?it/s]"
      ]
     },
     "metadata": {},
     "output_type": "display_data"
    },
    {
     "data": {
      "application/vnd.jupyter.widget-view+json": {
       "model_id": "98dc691fb3e84f62a9425c003f54a975",
       "version_major": 2,
       "version_minor": 0
      },
      "text/plain": [
       "Extracting data files:   0%|          | 0/1 [00:00<?, ?it/s]"
      ]
     },
     "metadata": {},
     "output_type": "display_data"
    },
    {
     "data": {
      "application/vnd.jupyter.widget-view+json": {
       "model_id": "0571882abf4f429abdda6a049607ac61",
       "version_major": 2,
       "version_minor": 0
      },
      "text/plain": [
       "Generating train split: 0 examples [00:00, ? examples/s]"
      ]
     },
     "metadata": {},
     "output_type": "display_data"
    },
    {
     "name": "stdout",
     "output_type": "stream",
     "text": [
      "Dataset parquet downloaded and prepared to /nfs/home/kabenamualus/.cache/huggingface/datasets/parquet/default-ffd3f28481e0c4d9/0.0.0/14a00e99c0d15a23649d0db8944380ac81082d4b021f398733dd84f3a6c569a7. Subsequent calls will reuse this data.\n",
      "Downloading and preparing dataset parquet/default to /nfs/home/kabenamualus/.cache/huggingface/datasets/parquet/default-9bd43d2155d294a9/0.0.0/14a00e99c0d15a23649d0db8944380ac81082d4b021f398733dd84f3a6c569a7...\n"
     ]
    },
    {
     "data": {
      "application/vnd.jupyter.widget-view+json": {
       "model_id": "04cc273db1304c439fbe8e766f695efb",
       "version_major": 2,
       "version_minor": 0
      },
      "text/plain": [
       "Downloading data files:   0%|          | 0/1 [00:00<?, ?it/s]"
      ]
     },
     "metadata": {},
     "output_type": "display_data"
    },
    {
     "data": {
      "application/vnd.jupyter.widget-view+json": {
       "model_id": "9ba320415e0a4373b72ffee0646479ca",
       "version_major": 2,
       "version_minor": 0
      },
      "text/plain": [
       "Extracting data files:   0%|          | 0/1 [00:00<?, ?it/s]"
      ]
     },
     "metadata": {},
     "output_type": "display_data"
    },
    {
     "data": {
      "application/vnd.jupyter.widget-view+json": {
       "model_id": "32a732d8adaa4c118b088d26d66e8d34",
       "version_major": 2,
       "version_minor": 0
      },
      "text/plain": [
       "Generating train split: 0 examples [00:00, ? examples/s]"
      ]
     },
     "metadata": {},
     "output_type": "display_data"
    },
    {
     "name": "stdout",
     "output_type": "stream",
     "text": [
      "Dataset parquet downloaded and prepared to /nfs/home/kabenamualus/.cache/huggingface/datasets/parquet/default-9bd43d2155d294a9/0.0.0/14a00e99c0d15a23649d0db8944380ac81082d4b021f398733dd84f3a6c569a7. Subsequent calls will reuse this data.\n",
      "Downloading and preparing dataset parquet/default to /nfs/home/kabenamualus/.cache/huggingface/datasets/parquet/default-22ac5dbcff0819bc/0.0.0/14a00e99c0d15a23649d0db8944380ac81082d4b021f398733dd84f3a6c569a7...\n"
     ]
    },
    {
     "data": {
      "application/vnd.jupyter.widget-view+json": {
       "model_id": "c91f16bce2d14e8d8514d852daaba0ba",
       "version_major": 2,
       "version_minor": 0
      },
      "text/plain": [
       "Downloading data files:   0%|          | 0/1 [00:00<?, ?it/s]"
      ]
     },
     "metadata": {},
     "output_type": "display_data"
    },
    {
     "data": {
      "application/vnd.jupyter.widget-view+json": {
       "model_id": "c3a984b45d164b94a083de87e7008d9d",
       "version_major": 2,
       "version_minor": 0
      },
      "text/plain": [
       "Extracting data files:   0%|          | 0/1 [00:00<?, ?it/s]"
      ]
     },
     "metadata": {},
     "output_type": "display_data"
    },
    {
     "data": {
      "application/vnd.jupyter.widget-view+json": {
       "model_id": "cdc9aeb57bbb4c678bc050d3e7cf472a",
       "version_major": 2,
       "version_minor": 0
      },
      "text/plain": [
       "Generating train split: 0 examples [00:00, ? examples/s]"
      ]
     },
     "metadata": {},
     "output_type": "display_data"
    },
    {
     "name": "stdout",
     "output_type": "stream",
     "text": [
      "Dataset parquet downloaded and prepared to /nfs/home/kabenamualus/.cache/huggingface/datasets/parquet/default-22ac5dbcff0819bc/0.0.0/14a00e99c0d15a23649d0db8944380ac81082d4b021f398733dd84f3a6c569a7. Subsequent calls will reuse this data.\n",
      "DatasetDict({\n",
      "    fold1: DatasetDict({\n",
      "        train: Dataset({\n",
      "            features: ['id', 'prompt', 'answer', '__index_level_0__'],\n",
      "            num_rows: 12388\n",
      "        })\n",
      "        validation: Dataset({\n",
      "            features: ['id', 'prompt', 'answer', '__index_level_0__'],\n",
      "            num_rows: 1642\n",
      "        })\n",
      "        zeroshot: Dataset({\n",
      "            features: ['id', 'prompt', 'answer', '__index_level_0__'],\n",
      "            num_rows: 1200\n",
      "        })\n",
      "    })\n",
      "    fold2: DatasetDict({\n",
      "        train: Dataset({\n",
      "            features: ['id', 'prompt', 'answer', '__index_level_0__'],\n",
      "            num_rows: 12382\n",
      "        })\n",
      "        validation: Dataset({\n",
      "            features: ['id', 'prompt', 'answer', '__index_level_0__'],\n",
      "            num_rows: 1648\n",
      "        })\n",
      "    })\n",
      "})\n"
     ]
    },
    {
     "data": {
      "application/vnd.jupyter.widget-view+json": {
       "model_id": "84d89d9944304a5284897550c3dfcfe0",
       "version_major": 2,
       "version_minor": 0
      },
      "text/plain": [
       "Saving the dataset (0/1 shards):   0%|          | 0/12388 [00:00<?, ? examples/s]"
      ]
     },
     "metadata": {},
     "output_type": "display_data"
    },
    {
     "data": {
      "application/vnd.jupyter.widget-view+json": {
       "model_id": "16384f6fb6ce4b9b9a47eef110dfac19",
       "version_major": 2,
       "version_minor": 0
      },
      "text/plain": [
       "Saving the dataset (0/1 shards):   0%|          | 0/1642 [00:00<?, ? examples/s]"
      ]
     },
     "metadata": {},
     "output_type": "display_data"
    },
    {
     "data": {
      "application/vnd.jupyter.widget-view+json": {
       "model_id": "fd87988afb814a17895a3148f07bf31a",
       "version_major": 2,
       "version_minor": 0
      },
      "text/plain": [
       "Saving the dataset (0/1 shards):   0%|          | 0/1200 [00:00<?, ? examples/s]"
      ]
     },
     "metadata": {},
     "output_type": "display_data"
    },
    {
     "data": {
      "application/vnd.jupyter.widget-view+json": {
       "model_id": "6902fbcb9d7147228f3f5f5814d0b28c",
       "version_major": 2,
       "version_minor": 0
      },
      "text/plain": [
       "Saving the dataset (0/1 shards):   0%|          | 0/12382 [00:00<?, ? examples/s]"
      ]
     },
     "metadata": {},
     "output_type": "display_data"
    },
    {
     "data": {
      "application/vnd.jupyter.widget-view+json": {
       "model_id": "1292d09897e0427a97fe49b5315fbce3",
       "version_major": 2,
       "version_minor": 0
      },
      "text/plain": [
       "Saving the dataset (0/1 shards):   0%|          | 0/1648 [00:00<?, ? examples/s]"
      ]
     },
     "metadata": {},
     "output_type": "display_data"
    }
   ],
   "source": [
    "df_train_f1_squad_1 = create_pandas_dataset_from_pandas(df_train_f1,\n",
    "                                                        squad_1 = True,\n",
    "                                                        ) \n",
    "df_dev_f1_squad_1 = create_pandas_dataset_from_pandas(df_dev_f1,\n",
    "                                                        squad_1 = True,\n",
    "                                                        ) \n",
    "df_zeroshot_f1_squad_1 = create_pandas_dataset_from_pandas(df_zeroshot_f1,\n",
    "                                                        squad_1 = True,\n",
    "                                                        ) \n",
    "\n",
    "df_train_f2_squad_1 = create_pandas_dataset_from_pandas(df_train_f2,\n",
    "                                                        squad_1 = True,\n",
    "                                                        ) \n",
    "df_dev_f2_squad_1 = create_pandas_dataset_from_pandas(df_dev_f2,\n",
    "                                                        squad_1 = True,\n",
    "                                                        ) \n",
    "\n",
    "print(\"df_train_f1_squad_1 describe: \")\n",
    "display(df_train_f1_squad_1.describe())\n",
    "print(\"df_dev_f1_squad_1 describe: \")\n",
    "display(df_dev_f1_squad_1.describe())\n",
    "print(\"df_dev_f1_squad_1 describe: \")\n",
    "display(df_dev_f1_squad_1.describe())\n",
    "\n",
    "print(\"df_train_f2_squad_1 describe: \")\n",
    "display(df_train_f2_squad_1.describe())\n",
    "print(\"df_zeroshot_f1_squad_1 describe: \")\n",
    "display(df_zeroshot_f1_squad_1.describe())\n",
    "\n",
    "df_train_f1_squad_1.to_parquet('../data/df_train_tdms_augmented_summarized_with_id_f1_squad_1.parquet')\n",
    "df_dev_f1_squad_1.to_parquet('../data/df_dev_tdms_augmented_summarized_with_id_f1_squad_1.parquet')\n",
    "df_zeroshot_f1_squad_1.to_parquet('../data/df_zeroshot_tdms_augmented_summarized_with_id_f1_squad_1.parquet')\n",
    "\n",
    "df_train_f2_squad_1.to_parquet('../data/df_train_tdms_augmented_summarized_with_id_f2_squad_1.parquet')\n",
    "df_dev_f2_squad_1.to_parquet('../data/df_dev_tdms_augmented_summarized_with_id_f2_squad_1.parquet')\n",
    "\n",
    "dataset = DatasetDict({\n",
    "    'fold1': DatasetDict({\n",
    "        \"train\": Dataset.from_parquet('../data/df_train_tdms_augmented_summarized_with_id_f1_squad_1.parquet'),\n",
    "        \"validation\": Dataset.from_parquet('../data/df_dev_tdms_augmented_summarized_with_id_f1_squad_1.parquet'),\n",
    "        \"zeroshot\": Dataset.from_parquet('../data/df_zeroshot_tdms_augmented_summarized_with_id_f1_squad_1.parquet')\n",
    "    }),\n",
    "    'fold2': DatasetDict({\n",
    "        \"train\": Dataset.from_parquet('../data/df_train_tdms_augmented_summarized_with_id_f2_squad_1.parquet'),\n",
    "        \"validation\": Dataset.from_parquet('../data/df_dev_tdms_augmented_summarized_with_id_f2_squad_1.parquet')\n",
    "    })\n",
    "})\n",
    "\n",
    "print(dataset)\n",
    "\n",
    "dataset.save_to_disk(\"../data/LLLM_AUGMENTED_SUMMARIZED_WITH_ID_ZEROSHOT_TDMS_SQUAD_1\")"
   ]
  },
  {
   "cell_type": "code",
   "execution_count": 89,
   "metadata": {},
   "outputs": [
    {
     "name": "stderr",
     "output_type": "stream",
     "text": [
      "100%|██████████| 12388/12388 [00:17<00:00, 699.95it/s]\n",
      "100%|██████████| 1642/1642 [00:02<00:00, 794.51it/s]\n",
      "100%|██████████| 1200/1200 [00:01<00:00, 794.30it/s]\n",
      "100%|██████████| 12382/12382 [00:17<00:00, 702.06it/s]\n",
      "100%|██████████| 1648/1648 [00:02<00:00, 792.26it/s]\n"
     ]
    },
    {
     "name": "stdout",
     "output_type": "stream",
     "text": [
      "df_train_f1_squad_2 describe: \n"
     ]
    },
    {
     "data": {
      "text/html": [
       "<div>\n",
       "<style scoped>\n",
       "    .dataframe tbody tr th:only-of-type {\n",
       "        vertical-align: middle;\n",
       "    }\n",
       "\n",
       "    .dataframe tbody tr th {\n",
       "        vertical-align: top;\n",
       "    }\n",
       "\n",
       "    .dataframe thead th {\n",
       "        text-align: right;\n",
       "    }\n",
       "</style>\n",
       "<table border=\"1\" class=\"dataframe\">\n",
       "  <thead>\n",
       "    <tr style=\"text-align: right;\">\n",
       "      <th></th>\n",
       "      <th>id</th>\n",
       "      <th>prompt</th>\n",
       "      <th>answer</th>\n",
       "    </tr>\n",
       "  </thead>\n",
       "  <tbody>\n",
       "    <tr>\n",
       "      <th>count</th>\n",
       "      <td>12388</td>\n",
       "      <td>12388</td>\n",
       "      <td>12388</td>\n",
       "    </tr>\n",
       "    <tr>\n",
       "      <th>unique</th>\n",
       "      <td>12388</td>\n",
       "      <td>12312</td>\n",
       "      <td>7976</td>\n",
       "    </tr>\n",
       "    <tr>\n",
       "      <th>top</th>\n",
       "      <td>1707.03497v2.pdf</td>\n",
       "      <td>Read this and answer the question. If the ques...</td>\n",
       "      <td>unanswerable</td>\n",
       "    </tr>\n",
       "    <tr>\n",
       "      <th>freq</th>\n",
       "      <td>1</td>\n",
       "      <td>20</td>\n",
       "      <td>4401</td>\n",
       "    </tr>\n",
       "  </tbody>\n",
       "</table>\n",
       "</div>"
      ],
      "text/plain": [
       "                      id                                             prompt  \\\n",
       "count              12388                                              12388   \n",
       "unique             12388                                              12312   \n",
       "top     1707.03497v2.pdf  Read this and answer the question. If the ques...   \n",
       "freq                   1                                                 20   \n",
       "\n",
       "              answer  \n",
       "count          12388  \n",
       "unique          7976  \n",
       "top     unanswerable  \n",
       "freq            4401  "
      ]
     },
     "metadata": {},
     "output_type": "display_data"
    },
    {
     "name": "stdout",
     "output_type": "stream",
     "text": [
      "df_dev_f1_squad_2 describe: \n"
     ]
    },
    {
     "data": {
      "text/html": [
       "<div>\n",
       "<style scoped>\n",
       "    .dataframe tbody tr th:only-of-type {\n",
       "        vertical-align: middle;\n",
       "    }\n",
       "\n",
       "    .dataframe tbody tr th {\n",
       "        vertical-align: top;\n",
       "    }\n",
       "\n",
       "    .dataframe thead th {\n",
       "        text-align: right;\n",
       "    }\n",
       "</style>\n",
       "<table border=\"1\" class=\"dataframe\">\n",
       "  <thead>\n",
       "    <tr style=\"text-align: right;\">\n",
       "      <th></th>\n",
       "      <th>id</th>\n",
       "      <th>prompt</th>\n",
       "      <th>answer</th>\n",
       "    </tr>\n",
       "  </thead>\n",
       "  <tbody>\n",
       "    <tr>\n",
       "      <th>count</th>\n",
       "      <td>1642</td>\n",
       "      <td>1642</td>\n",
       "      <td>1642</td>\n",
       "    </tr>\n",
       "    <tr>\n",
       "      <th>unique</th>\n",
       "      <td>1642</td>\n",
       "      <td>1641</td>\n",
       "      <td>994</td>\n",
       "    </tr>\n",
       "    <tr>\n",
       "      <th>top</th>\n",
       "      <td>1810.02575v1.pdf</td>\n",
       "      <td>Read this and answer the question. If the ques...</td>\n",
       "      <td>unanswerable</td>\n",
       "    </tr>\n",
       "    <tr>\n",
       "      <th>freq</th>\n",
       "      <td>1</td>\n",
       "      <td>2</td>\n",
       "      <td>648</td>\n",
       "    </tr>\n",
       "  </tbody>\n",
       "</table>\n",
       "</div>"
      ],
      "text/plain": [
       "                      id                                             prompt  \\\n",
       "count               1642                                               1642   \n",
       "unique              1642                                               1641   \n",
       "top     1810.02575v1.pdf  Read this and answer the question. If the ques...   \n",
       "freq                   1                                                  2   \n",
       "\n",
       "              answer  \n",
       "count           1642  \n",
       "unique           994  \n",
       "top     unanswerable  \n",
       "freq             648  "
      ]
     },
     "metadata": {},
     "output_type": "display_data"
    },
    {
     "name": "stdout",
     "output_type": "stream",
     "text": [
      "df_dev_f1_squad_2 describe: \n"
     ]
    },
    {
     "data": {
      "text/html": [
       "<div>\n",
       "<style scoped>\n",
       "    .dataframe tbody tr th:only-of-type {\n",
       "        vertical-align: middle;\n",
       "    }\n",
       "\n",
       "    .dataframe tbody tr th {\n",
       "        vertical-align: top;\n",
       "    }\n",
       "\n",
       "    .dataframe thead th {\n",
       "        text-align: right;\n",
       "    }\n",
       "</style>\n",
       "<table border=\"1\" class=\"dataframe\">\n",
       "  <thead>\n",
       "    <tr style=\"text-align: right;\">\n",
       "      <th></th>\n",
       "      <th>id</th>\n",
       "      <th>prompt</th>\n",
       "      <th>answer</th>\n",
       "    </tr>\n",
       "  </thead>\n",
       "  <tbody>\n",
       "    <tr>\n",
       "      <th>count</th>\n",
       "      <td>1642</td>\n",
       "      <td>1642</td>\n",
       "      <td>1642</td>\n",
       "    </tr>\n",
       "    <tr>\n",
       "      <th>unique</th>\n",
       "      <td>1642</td>\n",
       "      <td>1641</td>\n",
       "      <td>994</td>\n",
       "    </tr>\n",
       "    <tr>\n",
       "      <th>top</th>\n",
       "      <td>1810.02575v1.pdf</td>\n",
       "      <td>Read this and answer the question. If the ques...</td>\n",
       "      <td>unanswerable</td>\n",
       "    </tr>\n",
       "    <tr>\n",
       "      <th>freq</th>\n",
       "      <td>1</td>\n",
       "      <td>2</td>\n",
       "      <td>648</td>\n",
       "    </tr>\n",
       "  </tbody>\n",
       "</table>\n",
       "</div>"
      ],
      "text/plain": [
       "                      id                                             prompt  \\\n",
       "count               1642                                               1642   \n",
       "unique              1642                                               1641   \n",
       "top     1810.02575v1.pdf  Read this and answer the question. If the ques...   \n",
       "freq                   1                                                  2   \n",
       "\n",
       "              answer  \n",
       "count           1642  \n",
       "unique           994  \n",
       "top     unanswerable  \n",
       "freq             648  "
      ]
     },
     "metadata": {},
     "output_type": "display_data"
    },
    {
     "name": "stdout",
     "output_type": "stream",
     "text": [
      "df_train_f2_squad_2 describe: \n"
     ]
    },
    {
     "data": {
      "text/html": [
       "<div>\n",
       "<style scoped>\n",
       "    .dataframe tbody tr th:only-of-type {\n",
       "        vertical-align: middle;\n",
       "    }\n",
       "\n",
       "    .dataframe tbody tr th {\n",
       "        vertical-align: top;\n",
       "    }\n",
       "\n",
       "    .dataframe thead th {\n",
       "        text-align: right;\n",
       "    }\n",
       "</style>\n",
       "<table border=\"1\" class=\"dataframe\">\n",
       "  <thead>\n",
       "    <tr style=\"text-align: right;\">\n",
       "      <th></th>\n",
       "      <th>id</th>\n",
       "      <th>prompt</th>\n",
       "      <th>answer</th>\n",
       "    </tr>\n",
       "  </thead>\n",
       "  <tbody>\n",
       "    <tr>\n",
       "      <th>count</th>\n",
       "      <td>12382</td>\n",
       "      <td>12382</td>\n",
       "      <td>12382</td>\n",
       "    </tr>\n",
       "    <tr>\n",
       "      <th>unique</th>\n",
       "      <td>12382</td>\n",
       "      <td>12311</td>\n",
       "      <td>7988</td>\n",
       "    </tr>\n",
       "    <tr>\n",
       "      <th>top</th>\n",
       "      <td>1707.03497v2.pdf</td>\n",
       "      <td>Read this and answer the question. If the ques...</td>\n",
       "      <td>unanswerable</td>\n",
       "    </tr>\n",
       "    <tr>\n",
       "      <th>freq</th>\n",
       "      <td>1</td>\n",
       "      <td>20</td>\n",
       "      <td>4383</td>\n",
       "    </tr>\n",
       "  </tbody>\n",
       "</table>\n",
       "</div>"
      ],
      "text/plain": [
       "                      id                                             prompt  \\\n",
       "count              12382                                              12382   \n",
       "unique             12382                                              12311   \n",
       "top     1707.03497v2.pdf  Read this and answer the question. If the ques...   \n",
       "freq                   1                                                 20   \n",
       "\n",
       "              answer  \n",
       "count          12382  \n",
       "unique          7988  \n",
       "top     unanswerable  \n",
       "freq            4383  "
      ]
     },
     "metadata": {},
     "output_type": "display_data"
    },
    {
     "name": "stdout",
     "output_type": "stream",
     "text": [
      "df_zeroshot_f1_squad_2 describe: \n"
     ]
    },
    {
     "data": {
      "text/html": [
       "<div>\n",
       "<style scoped>\n",
       "    .dataframe tbody tr th:only-of-type {\n",
       "        vertical-align: middle;\n",
       "    }\n",
       "\n",
       "    .dataframe tbody tr th {\n",
       "        vertical-align: top;\n",
       "    }\n",
       "\n",
       "    .dataframe thead th {\n",
       "        text-align: right;\n",
       "    }\n",
       "</style>\n",
       "<table border=\"1\" class=\"dataframe\">\n",
       "  <thead>\n",
       "    <tr style=\"text-align: right;\">\n",
       "      <th></th>\n",
       "      <th>id</th>\n",
       "      <th>prompt</th>\n",
       "      <th>answer</th>\n",
       "    </tr>\n",
       "  </thead>\n",
       "  <tbody>\n",
       "    <tr>\n",
       "      <th>count</th>\n",
       "      <td>1200</td>\n",
       "      <td>1200</td>\n",
       "      <td>1200</td>\n",
       "    </tr>\n",
       "    <tr>\n",
       "      <th>unique</th>\n",
       "      <td>1200</td>\n",
       "      <td>1197</td>\n",
       "      <td>653</td>\n",
       "    </tr>\n",
       "    <tr>\n",
       "      <th>top</th>\n",
       "      <td>2209.03182v1.pdf</td>\n",
       "      <td>Read this and answer the question. If the ques...</td>\n",
       "      <td>unanswerable</td>\n",
       "    </tr>\n",
       "    <tr>\n",
       "      <th>freq</th>\n",
       "      <td>1</td>\n",
       "      <td>3</td>\n",
       "      <td>548</td>\n",
       "    </tr>\n",
       "  </tbody>\n",
       "</table>\n",
       "</div>"
      ],
      "text/plain": [
       "                      id                                             prompt  \\\n",
       "count               1200                                               1200   \n",
       "unique              1200                                               1197   \n",
       "top     2209.03182v1.pdf  Read this and answer the question. If the ques...   \n",
       "freq                   1                                                  3   \n",
       "\n",
       "              answer  \n",
       "count           1200  \n",
       "unique           653  \n",
       "top     unanswerable  \n",
       "freq             548  "
      ]
     },
     "metadata": {},
     "output_type": "display_data"
    },
    {
     "name": "stdout",
     "output_type": "stream",
     "text": [
      "Downloading and preparing dataset parquet/default to /nfs/home/kabenamualus/.cache/huggingface/datasets/parquet/default-baa2d5a078bfa390/0.0.0/14a00e99c0d15a23649d0db8944380ac81082d4b021f398733dd84f3a6c569a7...\n"
     ]
    },
    {
     "data": {
      "application/vnd.jupyter.widget-view+json": {
       "model_id": "a6912fa55ec94fdc870604bfac1d1985",
       "version_major": 2,
       "version_minor": 0
      },
      "text/plain": [
       "Downloading data files:   0%|          | 0/1 [00:00<?, ?it/s]"
      ]
     },
     "metadata": {},
     "output_type": "display_data"
    },
    {
     "data": {
      "application/vnd.jupyter.widget-view+json": {
       "model_id": "90d6324bd984474788fa394dff161217",
       "version_major": 2,
       "version_minor": 0
      },
      "text/plain": [
       "Extracting data files:   0%|          | 0/1 [00:00<?, ?it/s]"
      ]
     },
     "metadata": {},
     "output_type": "display_data"
    },
    {
     "data": {
      "application/vnd.jupyter.widget-view+json": {
       "model_id": "9568fb0267124ecca578b5417a705c48",
       "version_major": 2,
       "version_minor": 0
      },
      "text/plain": [
       "Generating train split: 0 examples [00:00, ? examples/s]"
      ]
     },
     "metadata": {},
     "output_type": "display_data"
    },
    {
     "name": "stdout",
     "output_type": "stream",
     "text": [
      "Dataset parquet downloaded and prepared to /nfs/home/kabenamualus/.cache/huggingface/datasets/parquet/default-baa2d5a078bfa390/0.0.0/14a00e99c0d15a23649d0db8944380ac81082d4b021f398733dd84f3a6c569a7. Subsequent calls will reuse this data.\n",
      "Downloading and preparing dataset parquet/default to /nfs/home/kabenamualus/.cache/huggingface/datasets/parquet/default-dc004630c81c7bdf/0.0.0/14a00e99c0d15a23649d0db8944380ac81082d4b021f398733dd84f3a6c569a7...\n"
     ]
    },
    {
     "data": {
      "application/vnd.jupyter.widget-view+json": {
       "model_id": "16a5583b7a2046f0a0a30eb479e88a48",
       "version_major": 2,
       "version_minor": 0
      },
      "text/plain": [
       "Downloading data files:   0%|          | 0/1 [00:00<?, ?it/s]"
      ]
     },
     "metadata": {},
     "output_type": "display_data"
    },
    {
     "data": {
      "application/vnd.jupyter.widget-view+json": {
       "model_id": "1b664410c9d649b0ab28632445c61dbd",
       "version_major": 2,
       "version_minor": 0
      },
      "text/plain": [
       "Extracting data files:   0%|          | 0/1 [00:00<?, ?it/s]"
      ]
     },
     "metadata": {},
     "output_type": "display_data"
    },
    {
     "data": {
      "application/vnd.jupyter.widget-view+json": {
       "model_id": "f4f96041e8694486ad88ab6bd0b93bd7",
       "version_major": 2,
       "version_minor": 0
      },
      "text/plain": [
       "Generating train split: 0 examples [00:00, ? examples/s]"
      ]
     },
     "metadata": {},
     "output_type": "display_data"
    },
    {
     "name": "stdout",
     "output_type": "stream",
     "text": [
      "Dataset parquet downloaded and prepared to /nfs/home/kabenamualus/.cache/huggingface/datasets/parquet/default-dc004630c81c7bdf/0.0.0/14a00e99c0d15a23649d0db8944380ac81082d4b021f398733dd84f3a6c569a7. Subsequent calls will reuse this data.\n",
      "Downloading and preparing dataset parquet/default to /nfs/home/kabenamualus/.cache/huggingface/datasets/parquet/default-31afba457076e280/0.0.0/14a00e99c0d15a23649d0db8944380ac81082d4b021f398733dd84f3a6c569a7...\n"
     ]
    },
    {
     "data": {
      "application/vnd.jupyter.widget-view+json": {
       "model_id": "ecf4df59d2a04b6bbd2543d5fae3317c",
       "version_major": 2,
       "version_minor": 0
      },
      "text/plain": [
       "Downloading data files:   0%|          | 0/1 [00:00<?, ?it/s]"
      ]
     },
     "metadata": {},
     "output_type": "display_data"
    },
    {
     "data": {
      "application/vnd.jupyter.widget-view+json": {
       "model_id": "214cb09d90664fe3b1a2282e955091f5",
       "version_major": 2,
       "version_minor": 0
      },
      "text/plain": [
       "Extracting data files:   0%|          | 0/1 [00:00<?, ?it/s]"
      ]
     },
     "metadata": {},
     "output_type": "display_data"
    },
    {
     "data": {
      "application/vnd.jupyter.widget-view+json": {
       "model_id": "28e64b7e256a4f118ba3352a67d3c349",
       "version_major": 2,
       "version_minor": 0
      },
      "text/plain": [
       "Generating train split: 0 examples [00:00, ? examples/s]"
      ]
     },
     "metadata": {},
     "output_type": "display_data"
    },
    {
     "name": "stdout",
     "output_type": "stream",
     "text": [
      "Dataset parquet downloaded and prepared to /nfs/home/kabenamualus/.cache/huggingface/datasets/parquet/default-31afba457076e280/0.0.0/14a00e99c0d15a23649d0db8944380ac81082d4b021f398733dd84f3a6c569a7. Subsequent calls will reuse this data.\n",
      "Downloading and preparing dataset parquet/default to /nfs/home/kabenamualus/.cache/huggingface/datasets/parquet/default-f2f3dd240789ba1c/0.0.0/14a00e99c0d15a23649d0db8944380ac81082d4b021f398733dd84f3a6c569a7...\n"
     ]
    },
    {
     "data": {
      "application/vnd.jupyter.widget-view+json": {
       "model_id": "f362062862b848e68002965018094903",
       "version_major": 2,
       "version_minor": 0
      },
      "text/plain": [
       "Downloading data files:   0%|          | 0/1 [00:00<?, ?it/s]"
      ]
     },
     "metadata": {},
     "output_type": "display_data"
    },
    {
     "data": {
      "application/vnd.jupyter.widget-view+json": {
       "model_id": "41465efe52974ea1a266eb200d753a1b",
       "version_major": 2,
       "version_minor": 0
      },
      "text/plain": [
       "Extracting data files:   0%|          | 0/1 [00:00<?, ?it/s]"
      ]
     },
     "metadata": {},
     "output_type": "display_data"
    },
    {
     "data": {
      "application/vnd.jupyter.widget-view+json": {
       "model_id": "08e08f06ff614371943dfbff965e3961",
       "version_major": 2,
       "version_minor": 0
      },
      "text/plain": [
       "Generating train split: 0 examples [00:00, ? examples/s]"
      ]
     },
     "metadata": {},
     "output_type": "display_data"
    },
    {
     "name": "stdout",
     "output_type": "stream",
     "text": [
      "Dataset parquet downloaded and prepared to /nfs/home/kabenamualus/.cache/huggingface/datasets/parquet/default-f2f3dd240789ba1c/0.0.0/14a00e99c0d15a23649d0db8944380ac81082d4b021f398733dd84f3a6c569a7. Subsequent calls will reuse this data.\n",
      "Downloading and preparing dataset parquet/default to /nfs/home/kabenamualus/.cache/huggingface/datasets/parquet/default-e8ff040c3ec48c4e/0.0.0/14a00e99c0d15a23649d0db8944380ac81082d4b021f398733dd84f3a6c569a7...\n"
     ]
    },
    {
     "data": {
      "application/vnd.jupyter.widget-view+json": {
       "model_id": "e1caf09a6e3545c99725417fdb40530a",
       "version_major": 2,
       "version_minor": 0
      },
      "text/plain": [
       "Downloading data files:   0%|          | 0/1 [00:00<?, ?it/s]"
      ]
     },
     "metadata": {},
     "output_type": "display_data"
    },
    {
     "data": {
      "application/vnd.jupyter.widget-view+json": {
       "model_id": "3c22da3e847a419b882c948af2353264",
       "version_major": 2,
       "version_minor": 0
      },
      "text/plain": [
       "Extracting data files:   0%|          | 0/1 [00:00<?, ?it/s]"
      ]
     },
     "metadata": {},
     "output_type": "display_data"
    },
    {
     "data": {
      "application/vnd.jupyter.widget-view+json": {
       "model_id": "f87f2a7b1167486abb9252f6aa809085",
       "version_major": 2,
       "version_minor": 0
      },
      "text/plain": [
       "Generating train split: 0 examples [00:00, ? examples/s]"
      ]
     },
     "metadata": {},
     "output_type": "display_data"
    },
    {
     "name": "stdout",
     "output_type": "stream",
     "text": [
      "Dataset parquet downloaded and prepared to /nfs/home/kabenamualus/.cache/huggingface/datasets/parquet/default-e8ff040c3ec48c4e/0.0.0/14a00e99c0d15a23649d0db8944380ac81082d4b021f398733dd84f3a6c569a7. Subsequent calls will reuse this data.\n",
      "DatasetDict({\n",
      "    fold1: DatasetDict({\n",
      "        train: Dataset({\n",
      "            features: ['id', 'prompt', 'answer', '__index_level_0__'],\n",
      "            num_rows: 12388\n",
      "        })\n",
      "        validation: Dataset({\n",
      "            features: ['id', 'prompt', 'answer', '__index_level_0__'],\n",
      "            num_rows: 1642\n",
      "        })\n",
      "        zeroshot: Dataset({\n",
      "            features: ['id', 'prompt', 'answer', '__index_level_0__'],\n",
      "            num_rows: 1200\n",
      "        })\n",
      "    })\n",
      "    fold2: DatasetDict({\n",
      "        train: Dataset({\n",
      "            features: ['id', 'prompt', 'answer', '__index_level_0__'],\n",
      "            num_rows: 12382\n",
      "        })\n",
      "        validation: Dataset({\n",
      "            features: ['id', 'prompt', 'answer', '__index_level_0__'],\n",
      "            num_rows: 1648\n",
      "        })\n",
      "    })\n",
      "})\n"
     ]
    },
    {
     "data": {
      "application/vnd.jupyter.widget-view+json": {
       "model_id": "c4a7e5f8545e4a0eb068d0eaeb3f2223",
       "version_major": 2,
       "version_minor": 0
      },
      "text/plain": [
       "Saving the dataset (0/1 shards):   0%|          | 0/12388 [00:00<?, ? examples/s]"
      ]
     },
     "metadata": {},
     "output_type": "display_data"
    },
    {
     "data": {
      "application/vnd.jupyter.widget-view+json": {
       "model_id": "73f393b7b6de4ad0a723257049febfe2",
       "version_major": 2,
       "version_minor": 0
      },
      "text/plain": [
       "Saving the dataset (0/1 shards):   0%|          | 0/1642 [00:00<?, ? examples/s]"
      ]
     },
     "metadata": {},
     "output_type": "display_data"
    },
    {
     "data": {
      "application/vnd.jupyter.widget-view+json": {
       "model_id": "1805aa32ca6c4b91be7d02e825aecfd0",
       "version_major": 2,
       "version_minor": 0
      },
      "text/plain": [
       "Saving the dataset (0/1 shards):   0%|          | 0/1200 [00:00<?, ? examples/s]"
      ]
     },
     "metadata": {},
     "output_type": "display_data"
    },
    {
     "data": {
      "application/vnd.jupyter.widget-view+json": {
       "model_id": "a07d21ccc4ea41c7a06a2ce287cb65c9",
       "version_major": 2,
       "version_minor": 0
      },
      "text/plain": [
       "Saving the dataset (0/1 shards):   0%|          | 0/12382 [00:00<?, ? examples/s]"
      ]
     },
     "metadata": {},
     "output_type": "display_data"
    },
    {
     "data": {
      "application/vnd.jupyter.widget-view+json": {
       "model_id": "efe380f3c3ec47ea9699f8f666f6ff6a",
       "version_major": 2,
       "version_minor": 0
      },
      "text/plain": [
       "Saving the dataset (0/1 shards):   0%|          | 0/1648 [00:00<?, ? examples/s]"
      ]
     },
     "metadata": {},
     "output_type": "display_data"
    }
   ],
   "source": [
    "df_train_f1_squad_2 = create_pandas_dataset_from_pandas(df_train_f1,\n",
    "                                                        squad_2 = True,\n",
    "                                                        ) \n",
    "df_dev_f1_squad_2 = create_pandas_dataset_from_pandas(df_dev_f1,\n",
    "                                                        squad_2 = True,\n",
    "                                                        ) \n",
    "df_zeroshot_f1_squad_2 = create_pandas_dataset_from_pandas(df_zeroshot_f1,\n",
    "                                                        squad_2 = True,\n",
    "                                                        ) \n",
    "\n",
    "df_train_f2_squad_2 = create_pandas_dataset_from_pandas(df_train_f2,\n",
    "                                                        squad_2 = True,\n",
    "                                                        ) \n",
    "df_dev_f2_squad_2 = create_pandas_dataset_from_pandas(df_dev_f2,\n",
    "                                                        squad_2 = True,\n",
    "                                                        ) \n",
    "\n",
    "print(\"df_train_f1_squad_2 describe: \")\n",
    "display(df_train_f1_squad_2.describe())\n",
    "print(\"df_dev_f1_squad_2 describe: \")\n",
    "display(df_dev_f1_squad_2.describe())\n",
    "print(\"df_dev_f1_squad_2 describe: \")\n",
    "display(df_dev_f1_squad_2.describe())\n",
    "\n",
    "print(\"df_train_f2_squad_2 describe: \")\n",
    "display(df_train_f2_squad_2.describe())\n",
    "print(\"df_zeroshot_f1_squad_2 describe: \")\n",
    "display(df_zeroshot_f1_squad_2.describe())\n",
    "\n",
    "df_train_f1_squad_2.to_parquet('../data/df_train_tdms_augmented_summarized_with_id_f1_squad_2.parquet')\n",
    "df_dev_f1_squad_2.to_parquet('../data/df_dev_tdms_augmented_summarized_with_id_f1_squad_2.parquet')\n",
    "df_zeroshot_f1_squad_2.to_parquet('../data/df_zeroshot_tdms_augmented_summarized_with_id_f1_squad_2.parquet')\n",
    "\n",
    "df_train_f2_squad_2.to_parquet('../data/df_train_tdms_augmented_summarized_with_id_f2_squad_2.parquet')\n",
    "df_dev_f2_squad_2.to_parquet('../data/df_dev_tdms_augmented_summarized_with_id_f2_squad_2.parquet')\n",
    "\n",
    "dataset = DatasetDict({\n",
    "    'fold1': DatasetDict({\n",
    "        \"train\": Dataset.from_parquet('../data/df_train_tdms_augmented_summarized_with_id_f1_squad_2.parquet'),\n",
    "        \"validation\": Dataset.from_parquet('../data/df_dev_tdms_augmented_summarized_with_id_f1_squad_2.parquet'),\n",
    "        \"zeroshot\": Dataset.from_parquet('../data/df_zeroshot_tdms_augmented_summarized_with_id_f1_squad_2.parquet')\n",
    "    }),\n",
    "    'fold2': DatasetDict({\n",
    "        \"train\": Dataset.from_parquet('../data/df_train_tdms_augmented_summarized_with_id_f2_squad_2.parquet'),\n",
    "        \"validation\": Dataset.from_parquet('../data/df_dev_tdms_augmented_summarized_with_id_f2_squad_2.parquet')\n",
    "    })\n",
    "})\n",
    "\n",
    "print(dataset)\n",
    "\n",
    "dataset.save_to_disk(\"../data/LLLM_AUGMENTED_SUMMARIZED_WITH_ID_ZEROSHOT_TDMS_SQUAD_2\")"
   ]
  },
  {
   "cell_type": "code",
   "execution_count": 90,
   "metadata": {},
   "outputs": [
    {
     "name": "stderr",
     "output_type": "stream",
     "text": [
      "100%|██████████| 12388/12388 [00:17<00:00, 710.50it/s]\n",
      "100%|██████████| 1642/1642 [00:02<00:00, 799.84it/s]\n",
      "100%|██████████| 1200/1200 [00:01<00:00, 798.22it/s]\n",
      "100%|██████████| 12382/12382 [00:17<00:00, 709.14it/s]\n",
      "100%|██████████| 1648/1648 [00:02<00:00, 799.28it/s]\n"
     ]
    },
    {
     "name": "stdout",
     "output_type": "stream",
     "text": [
      "df_train_f1_squad_3 describe: \n"
     ]
    },
    {
     "data": {
      "text/html": [
       "<div>\n",
       "<style scoped>\n",
       "    .dataframe tbody tr th:only-of-type {\n",
       "        vertical-align: middle;\n",
       "    }\n",
       "\n",
       "    .dataframe tbody tr th {\n",
       "        vertical-align: top;\n",
       "    }\n",
       "\n",
       "    .dataframe thead th {\n",
       "        text-align: right;\n",
       "    }\n",
       "</style>\n",
       "<table border=\"1\" class=\"dataframe\">\n",
       "  <thead>\n",
       "    <tr style=\"text-align: right;\">\n",
       "      <th></th>\n",
       "      <th>id</th>\n",
       "      <th>prompt</th>\n",
       "      <th>answer</th>\n",
       "    </tr>\n",
       "  </thead>\n",
       "  <tbody>\n",
       "    <tr>\n",
       "      <th>count</th>\n",
       "      <td>12388</td>\n",
       "      <td>12388</td>\n",
       "      <td>12388</td>\n",
       "    </tr>\n",
       "    <tr>\n",
       "      <th>unique</th>\n",
       "      <td>12388</td>\n",
       "      <td>12312</td>\n",
       "      <td>7976</td>\n",
       "    </tr>\n",
       "    <tr>\n",
       "      <th>top</th>\n",
       "      <td>1707.03497v2.pdf</td>\n",
       "      <td>Title:\\t\\n\\nAbstract:\\t\\n\\n[image]\\n\\nWhat are...</td>\n",
       "      <td>unanswerable</td>\n",
       "    </tr>\n",
       "    <tr>\n",
       "      <th>freq</th>\n",
       "      <td>1</td>\n",
       "      <td>20</td>\n",
       "      <td>4401</td>\n",
       "    </tr>\n",
       "  </tbody>\n",
       "</table>\n",
       "</div>"
      ],
      "text/plain": [
       "                      id                                             prompt  \\\n",
       "count              12388                                              12388   \n",
       "unique             12388                                              12312   \n",
       "top     1707.03497v2.pdf  Title:\\t\\n\\nAbstract:\\t\\n\\n[image]\\n\\nWhat are...   \n",
       "freq                   1                                                 20   \n",
       "\n",
       "              answer  \n",
       "count          12388  \n",
       "unique          7976  \n",
       "top     unanswerable  \n",
       "freq            4401  "
      ]
     },
     "metadata": {},
     "output_type": "display_data"
    },
    {
     "name": "stdout",
     "output_type": "stream",
     "text": [
      "df_dev_f1_squad_3 describe: \n"
     ]
    },
    {
     "data": {
      "text/html": [
       "<div>\n",
       "<style scoped>\n",
       "    .dataframe tbody tr th:only-of-type {\n",
       "        vertical-align: middle;\n",
       "    }\n",
       "\n",
       "    .dataframe tbody tr th {\n",
       "        vertical-align: top;\n",
       "    }\n",
       "\n",
       "    .dataframe thead th {\n",
       "        text-align: right;\n",
       "    }\n",
       "</style>\n",
       "<table border=\"1\" class=\"dataframe\">\n",
       "  <thead>\n",
       "    <tr style=\"text-align: right;\">\n",
       "      <th></th>\n",
       "      <th>id</th>\n",
       "      <th>prompt</th>\n",
       "      <th>answer</th>\n",
       "    </tr>\n",
       "  </thead>\n",
       "  <tbody>\n",
       "    <tr>\n",
       "      <th>count</th>\n",
       "      <td>1642</td>\n",
       "      <td>1642</td>\n",
       "      <td>1642</td>\n",
       "    </tr>\n",
       "    <tr>\n",
       "      <th>unique</th>\n",
       "      <td>1642</td>\n",
       "      <td>1641</td>\n",
       "      <td>994</td>\n",
       "    </tr>\n",
       "    <tr>\n",
       "      <th>top</th>\n",
       "      <td>1810.02575v1.pdf</td>\n",
       "      <td>Title:\\tA Sample ACM SIG Proceedings Paper in ...</td>\n",
       "      <td>unanswerable</td>\n",
       "    </tr>\n",
       "    <tr>\n",
       "      <th>freq</th>\n",
       "      <td>1</td>\n",
       "      <td>2</td>\n",
       "      <td>648</td>\n",
       "    </tr>\n",
       "  </tbody>\n",
       "</table>\n",
       "</div>"
      ],
      "text/plain": [
       "                      id                                             prompt  \\\n",
       "count               1642                                               1642   \n",
       "unique              1642                                               1641   \n",
       "top     1810.02575v1.pdf  Title:\\tA Sample ACM SIG Proceedings Paper in ...   \n",
       "freq                   1                                                  2   \n",
       "\n",
       "              answer  \n",
       "count           1642  \n",
       "unique           994  \n",
       "top     unanswerable  \n",
       "freq             648  "
      ]
     },
     "metadata": {},
     "output_type": "display_data"
    },
    {
     "name": "stdout",
     "output_type": "stream",
     "text": [
      "df_dev_f1_squad_3 describe: \n"
     ]
    },
    {
     "data": {
      "text/html": [
       "<div>\n",
       "<style scoped>\n",
       "    .dataframe tbody tr th:only-of-type {\n",
       "        vertical-align: middle;\n",
       "    }\n",
       "\n",
       "    .dataframe tbody tr th {\n",
       "        vertical-align: top;\n",
       "    }\n",
       "\n",
       "    .dataframe thead th {\n",
       "        text-align: right;\n",
       "    }\n",
       "</style>\n",
       "<table border=\"1\" class=\"dataframe\">\n",
       "  <thead>\n",
       "    <tr style=\"text-align: right;\">\n",
       "      <th></th>\n",
       "      <th>id</th>\n",
       "      <th>prompt</th>\n",
       "      <th>answer</th>\n",
       "    </tr>\n",
       "  </thead>\n",
       "  <tbody>\n",
       "    <tr>\n",
       "      <th>count</th>\n",
       "      <td>1642</td>\n",
       "      <td>1642</td>\n",
       "      <td>1642</td>\n",
       "    </tr>\n",
       "    <tr>\n",
       "      <th>unique</th>\n",
       "      <td>1642</td>\n",
       "      <td>1641</td>\n",
       "      <td>994</td>\n",
       "    </tr>\n",
       "    <tr>\n",
       "      <th>top</th>\n",
       "      <td>1810.02575v1.pdf</td>\n",
       "      <td>Title:\\tA Sample ACM SIG Proceedings Paper in ...</td>\n",
       "      <td>unanswerable</td>\n",
       "    </tr>\n",
       "    <tr>\n",
       "      <th>freq</th>\n",
       "      <td>1</td>\n",
       "      <td>2</td>\n",
       "      <td>648</td>\n",
       "    </tr>\n",
       "  </tbody>\n",
       "</table>\n",
       "</div>"
      ],
      "text/plain": [
       "                      id                                             prompt  \\\n",
       "count               1642                                               1642   \n",
       "unique              1642                                               1641   \n",
       "top     1810.02575v1.pdf  Title:\\tA Sample ACM SIG Proceedings Paper in ...   \n",
       "freq                   1                                                  2   \n",
       "\n",
       "              answer  \n",
       "count           1642  \n",
       "unique           994  \n",
       "top     unanswerable  \n",
       "freq             648  "
      ]
     },
     "metadata": {},
     "output_type": "display_data"
    },
    {
     "name": "stdout",
     "output_type": "stream",
     "text": [
      "df_train_f2_squad_3 describe: \n"
     ]
    },
    {
     "data": {
      "text/html": [
       "<div>\n",
       "<style scoped>\n",
       "    .dataframe tbody tr th:only-of-type {\n",
       "        vertical-align: middle;\n",
       "    }\n",
       "\n",
       "    .dataframe tbody tr th {\n",
       "        vertical-align: top;\n",
       "    }\n",
       "\n",
       "    .dataframe thead th {\n",
       "        text-align: right;\n",
       "    }\n",
       "</style>\n",
       "<table border=\"1\" class=\"dataframe\">\n",
       "  <thead>\n",
       "    <tr style=\"text-align: right;\">\n",
       "      <th></th>\n",
       "      <th>id</th>\n",
       "      <th>prompt</th>\n",
       "      <th>answer</th>\n",
       "    </tr>\n",
       "  </thead>\n",
       "  <tbody>\n",
       "    <tr>\n",
       "      <th>count</th>\n",
       "      <td>12382</td>\n",
       "      <td>12382</td>\n",
       "      <td>12382</td>\n",
       "    </tr>\n",
       "    <tr>\n",
       "      <th>unique</th>\n",
       "      <td>12382</td>\n",
       "      <td>12311</td>\n",
       "      <td>7988</td>\n",
       "    </tr>\n",
       "    <tr>\n",
       "      <th>top</th>\n",
       "      <td>1707.03497v2.pdf</td>\n",
       "      <td>Title:\\t\\n\\nAbstract:\\t\\n\\n[image]\\n\\nWhat are...</td>\n",
       "      <td>unanswerable</td>\n",
       "    </tr>\n",
       "    <tr>\n",
       "      <th>freq</th>\n",
       "      <td>1</td>\n",
       "      <td>20</td>\n",
       "      <td>4383</td>\n",
       "    </tr>\n",
       "  </tbody>\n",
       "</table>\n",
       "</div>"
      ],
      "text/plain": [
       "                      id                                             prompt  \\\n",
       "count              12382                                              12382   \n",
       "unique             12382                                              12311   \n",
       "top     1707.03497v2.pdf  Title:\\t\\n\\nAbstract:\\t\\n\\n[image]\\n\\nWhat are...   \n",
       "freq                   1                                                 20   \n",
       "\n",
       "              answer  \n",
       "count          12382  \n",
       "unique          7988  \n",
       "top     unanswerable  \n",
       "freq            4383  "
      ]
     },
     "metadata": {},
     "output_type": "display_data"
    },
    {
     "name": "stdout",
     "output_type": "stream",
     "text": [
      "df_zeroshot_f1_squad_3 describe: \n"
     ]
    },
    {
     "data": {
      "text/html": [
       "<div>\n",
       "<style scoped>\n",
       "    .dataframe tbody tr th:only-of-type {\n",
       "        vertical-align: middle;\n",
       "    }\n",
       "\n",
       "    .dataframe tbody tr th {\n",
       "        vertical-align: top;\n",
       "    }\n",
       "\n",
       "    .dataframe thead th {\n",
       "        text-align: right;\n",
       "    }\n",
       "</style>\n",
       "<table border=\"1\" class=\"dataframe\">\n",
       "  <thead>\n",
       "    <tr style=\"text-align: right;\">\n",
       "      <th></th>\n",
       "      <th>id</th>\n",
       "      <th>prompt</th>\n",
       "      <th>answer</th>\n",
       "    </tr>\n",
       "  </thead>\n",
       "  <tbody>\n",
       "    <tr>\n",
       "      <th>count</th>\n",
       "      <td>1200</td>\n",
       "      <td>1200</td>\n",
       "      <td>1200</td>\n",
       "    </tr>\n",
       "    <tr>\n",
       "      <th>unique</th>\n",
       "      <td>1200</td>\n",
       "      <td>1197</td>\n",
       "      <td>653</td>\n",
       "    </tr>\n",
       "    <tr>\n",
       "      <th>top</th>\n",
       "      <td>2209.03182v1.pdf</td>\n",
       "      <td>Title:\\t\\n\\nAbstract:\\t\\n\\n[image]\\n\\nWhat are...</td>\n",
       "      <td>unanswerable</td>\n",
       "    </tr>\n",
       "    <tr>\n",
       "      <th>freq</th>\n",
       "      <td>1</td>\n",
       "      <td>3</td>\n",
       "      <td>548</td>\n",
       "    </tr>\n",
       "  </tbody>\n",
       "</table>\n",
       "</div>"
      ],
      "text/plain": [
       "                      id                                             prompt  \\\n",
       "count               1200                                               1200   \n",
       "unique              1200                                               1197   \n",
       "top     2209.03182v1.pdf  Title:\\t\\n\\nAbstract:\\t\\n\\n[image]\\n\\nWhat are...   \n",
       "freq                   1                                                  3   \n",
       "\n",
       "              answer  \n",
       "count           1200  \n",
       "unique           653  \n",
       "top     unanswerable  \n",
       "freq             548  "
      ]
     },
     "metadata": {},
     "output_type": "display_data"
    },
    {
     "name": "stdout",
     "output_type": "stream",
     "text": [
      "Downloading and preparing dataset parquet/default to /nfs/home/kabenamualus/.cache/huggingface/datasets/parquet/default-6fd7f46d34d8722d/0.0.0/14a00e99c0d15a23649d0db8944380ac81082d4b021f398733dd84f3a6c569a7...\n"
     ]
    },
    {
     "data": {
      "application/vnd.jupyter.widget-view+json": {
       "model_id": "04bd412651c24286af89225fae22e95e",
       "version_major": 2,
       "version_minor": 0
      },
      "text/plain": [
       "Downloading data files:   0%|          | 0/1 [00:00<?, ?it/s]"
      ]
     },
     "metadata": {},
     "output_type": "display_data"
    },
    {
     "data": {
      "application/vnd.jupyter.widget-view+json": {
       "model_id": "cd5babe4e694441d9fbfb8edad6e95d6",
       "version_major": 2,
       "version_minor": 0
      },
      "text/plain": [
       "Extracting data files:   0%|          | 0/1 [00:00<?, ?it/s]"
      ]
     },
     "metadata": {},
     "output_type": "display_data"
    },
    {
     "data": {
      "application/vnd.jupyter.widget-view+json": {
       "model_id": "9ce7f1d78e8f4070a4f39833a987f75f",
       "version_major": 2,
       "version_minor": 0
      },
      "text/plain": [
       "Generating train split: 0 examples [00:00, ? examples/s]"
      ]
     },
     "metadata": {},
     "output_type": "display_data"
    },
    {
     "name": "stdout",
     "output_type": "stream",
     "text": [
      "Dataset parquet downloaded and prepared to /nfs/home/kabenamualus/.cache/huggingface/datasets/parquet/default-6fd7f46d34d8722d/0.0.0/14a00e99c0d15a23649d0db8944380ac81082d4b021f398733dd84f3a6c569a7. Subsequent calls will reuse this data.\n",
      "Downloading and preparing dataset parquet/default to /nfs/home/kabenamualus/.cache/huggingface/datasets/parquet/default-c13023d763a1ec41/0.0.0/14a00e99c0d15a23649d0db8944380ac81082d4b021f398733dd84f3a6c569a7...\n"
     ]
    },
    {
     "data": {
      "application/vnd.jupyter.widget-view+json": {
       "model_id": "d6bb247f6f80417783ce18d0d3cf0900",
       "version_major": 2,
       "version_minor": 0
      },
      "text/plain": [
       "Downloading data files:   0%|          | 0/1 [00:00<?, ?it/s]"
      ]
     },
     "metadata": {},
     "output_type": "display_data"
    },
    {
     "data": {
      "application/vnd.jupyter.widget-view+json": {
       "model_id": "79ce479071c04c969a2c0065603a7c67",
       "version_major": 2,
       "version_minor": 0
      },
      "text/plain": [
       "Extracting data files:   0%|          | 0/1 [00:00<?, ?it/s]"
      ]
     },
     "metadata": {},
     "output_type": "display_data"
    },
    {
     "data": {
      "application/vnd.jupyter.widget-view+json": {
       "model_id": "9118f67fb2b240d9a8a7a1bd1a93f12b",
       "version_major": 2,
       "version_minor": 0
      },
      "text/plain": [
       "Generating train split: 0 examples [00:00, ? examples/s]"
      ]
     },
     "metadata": {},
     "output_type": "display_data"
    },
    {
     "name": "stdout",
     "output_type": "stream",
     "text": [
      "Dataset parquet downloaded and prepared to /nfs/home/kabenamualus/.cache/huggingface/datasets/parquet/default-c13023d763a1ec41/0.0.0/14a00e99c0d15a23649d0db8944380ac81082d4b021f398733dd84f3a6c569a7. Subsequent calls will reuse this data.\n",
      "Downloading and preparing dataset parquet/default to /nfs/home/kabenamualus/.cache/huggingface/datasets/parquet/default-82f956c64eeb4382/0.0.0/14a00e99c0d15a23649d0db8944380ac81082d4b021f398733dd84f3a6c569a7...\n"
     ]
    },
    {
     "data": {
      "application/vnd.jupyter.widget-view+json": {
       "model_id": "ea3649b168d94e34bec93d2d93f8a443",
       "version_major": 2,
       "version_minor": 0
      },
      "text/plain": [
       "Downloading data files:   0%|          | 0/1 [00:00<?, ?it/s]"
      ]
     },
     "metadata": {},
     "output_type": "display_data"
    },
    {
     "data": {
      "application/vnd.jupyter.widget-view+json": {
       "model_id": "f635331d27f848b08a710f6dc4e3feeb",
       "version_major": 2,
       "version_minor": 0
      },
      "text/plain": [
       "Extracting data files:   0%|          | 0/1 [00:00<?, ?it/s]"
      ]
     },
     "metadata": {},
     "output_type": "display_data"
    },
    {
     "data": {
      "application/vnd.jupyter.widget-view+json": {
       "model_id": "d4cbc8c91b0349e98b018fa51eaebdc9",
       "version_major": 2,
       "version_minor": 0
      },
      "text/plain": [
       "Generating train split: 0 examples [00:00, ? examples/s]"
      ]
     },
     "metadata": {},
     "output_type": "display_data"
    },
    {
     "name": "stdout",
     "output_type": "stream",
     "text": [
      "Dataset parquet downloaded and prepared to /nfs/home/kabenamualus/.cache/huggingface/datasets/parquet/default-82f956c64eeb4382/0.0.0/14a00e99c0d15a23649d0db8944380ac81082d4b021f398733dd84f3a6c569a7. Subsequent calls will reuse this data.\n",
      "Downloading and preparing dataset parquet/default to /nfs/home/kabenamualus/.cache/huggingface/datasets/parquet/default-0c8923c4953649c3/0.0.0/14a00e99c0d15a23649d0db8944380ac81082d4b021f398733dd84f3a6c569a7...\n"
     ]
    },
    {
     "data": {
      "application/vnd.jupyter.widget-view+json": {
       "model_id": "a04d914135c14473bfff9eb70371adc2",
       "version_major": 2,
       "version_minor": 0
      },
      "text/plain": [
       "Downloading data files:   0%|          | 0/1 [00:00<?, ?it/s]"
      ]
     },
     "metadata": {},
     "output_type": "display_data"
    },
    {
     "data": {
      "application/vnd.jupyter.widget-view+json": {
       "model_id": "3d394dcb826e4496b5d4c4f42c5ed28e",
       "version_major": 2,
       "version_minor": 0
      },
      "text/plain": [
       "Extracting data files:   0%|          | 0/1 [00:00<?, ?it/s]"
      ]
     },
     "metadata": {},
     "output_type": "display_data"
    },
    {
     "data": {
      "application/vnd.jupyter.widget-view+json": {
       "model_id": "5ba223f032bf483698edf95306e57082",
       "version_major": 2,
       "version_minor": 0
      },
      "text/plain": [
       "Generating train split: 0 examples [00:00, ? examples/s]"
      ]
     },
     "metadata": {},
     "output_type": "display_data"
    },
    {
     "name": "stdout",
     "output_type": "stream",
     "text": [
      "Dataset parquet downloaded and prepared to /nfs/home/kabenamualus/.cache/huggingface/datasets/parquet/default-0c8923c4953649c3/0.0.0/14a00e99c0d15a23649d0db8944380ac81082d4b021f398733dd84f3a6c569a7. Subsequent calls will reuse this data.\n",
      "Downloading and preparing dataset parquet/default to /nfs/home/kabenamualus/.cache/huggingface/datasets/parquet/default-07cf05dea504a784/0.0.0/14a00e99c0d15a23649d0db8944380ac81082d4b021f398733dd84f3a6c569a7...\n"
     ]
    },
    {
     "data": {
      "application/vnd.jupyter.widget-view+json": {
       "model_id": "df897b60039542708175bfbddca3e74b",
       "version_major": 2,
       "version_minor": 0
      },
      "text/plain": [
       "Downloading data files:   0%|          | 0/1 [00:00<?, ?it/s]"
      ]
     },
     "metadata": {},
     "output_type": "display_data"
    },
    {
     "data": {
      "application/vnd.jupyter.widget-view+json": {
       "model_id": "773912bf116a4cf8a946b803948810c6",
       "version_major": 2,
       "version_minor": 0
      },
      "text/plain": [
       "Extracting data files:   0%|          | 0/1 [00:00<?, ?it/s]"
      ]
     },
     "metadata": {},
     "output_type": "display_data"
    },
    {
     "data": {
      "application/vnd.jupyter.widget-view+json": {
       "model_id": "66fc332c437f4f3fb2bf179602f33c2f",
       "version_major": 2,
       "version_minor": 0
      },
      "text/plain": [
       "Generating train split: 0 examples [00:00, ? examples/s]"
      ]
     },
     "metadata": {},
     "output_type": "display_data"
    },
    {
     "name": "stdout",
     "output_type": "stream",
     "text": [
      "Dataset parquet downloaded and prepared to /nfs/home/kabenamualus/.cache/huggingface/datasets/parquet/default-07cf05dea504a784/0.0.0/14a00e99c0d15a23649d0db8944380ac81082d4b021f398733dd84f3a6c569a7. Subsequent calls will reuse this data.\n",
      "DatasetDict({\n",
      "    fold1: DatasetDict({\n",
      "        train: Dataset({\n",
      "            features: ['id', 'prompt', 'answer', '__index_level_0__'],\n",
      "            num_rows: 12388\n",
      "        })\n",
      "        validation: Dataset({\n",
      "            features: ['id', 'prompt', 'answer', '__index_level_0__'],\n",
      "            num_rows: 1642\n",
      "        })\n",
      "        zeroshot: Dataset({\n",
      "            features: ['id', 'prompt', 'answer', '__index_level_0__'],\n",
      "            num_rows: 1200\n",
      "        })\n",
      "    })\n",
      "    fold2: DatasetDict({\n",
      "        train: Dataset({\n",
      "            features: ['id', 'prompt', 'answer', '__index_level_0__'],\n",
      "            num_rows: 12382\n",
      "        })\n",
      "        validation: Dataset({\n",
      "            features: ['id', 'prompt', 'answer', '__index_level_0__'],\n",
      "            num_rows: 1648\n",
      "        })\n",
      "    })\n",
      "})\n"
     ]
    },
    {
     "data": {
      "application/vnd.jupyter.widget-view+json": {
       "model_id": "6095ef3962004659b553265c6fbc4a38",
       "version_major": 2,
       "version_minor": 0
      },
      "text/plain": [
       "Saving the dataset (0/1 shards):   0%|          | 0/12388 [00:00<?, ? examples/s]"
      ]
     },
     "metadata": {},
     "output_type": "display_data"
    },
    {
     "data": {
      "application/vnd.jupyter.widget-view+json": {
       "model_id": "483baa4d1f9444308781f36a3755380e",
       "version_major": 2,
       "version_minor": 0
      },
      "text/plain": [
       "Saving the dataset (0/1 shards):   0%|          | 0/1642 [00:00<?, ? examples/s]"
      ]
     },
     "metadata": {},
     "output_type": "display_data"
    },
    {
     "data": {
      "application/vnd.jupyter.widget-view+json": {
       "model_id": "9f5b37a952d8477c91f0a50bbaad476b",
       "version_major": 2,
       "version_minor": 0
      },
      "text/plain": [
       "Saving the dataset (0/1 shards):   0%|          | 0/1200 [00:00<?, ? examples/s]"
      ]
     },
     "metadata": {},
     "output_type": "display_data"
    },
    {
     "data": {
      "application/vnd.jupyter.widget-view+json": {
       "model_id": "7ef90bb121b4477bb970d9ba3517413d",
       "version_major": 2,
       "version_minor": 0
      },
      "text/plain": [
       "Saving the dataset (0/1 shards):   0%|          | 0/12382 [00:00<?, ? examples/s]"
      ]
     },
     "metadata": {},
     "output_type": "display_data"
    },
    {
     "data": {
      "application/vnd.jupyter.widget-view+json": {
       "model_id": "eec8eba05ee4454f9d7c1d1bc6e0281d",
       "version_major": 2,
       "version_minor": 0
      },
      "text/plain": [
       "Saving the dataset (0/1 shards):   0%|          | 0/1648 [00:00<?, ? examples/s]"
      ]
     },
     "metadata": {},
     "output_type": "display_data"
    }
   ],
   "source": [
    "df_train_f1_squad_3 = create_pandas_dataset_from_pandas(df_train_f1,\n",
    "                                                        squad_3 = True,\n",
    "                                                        ) \n",
    "df_dev_f1_squad_3 = create_pandas_dataset_from_pandas(df_dev_f1,\n",
    "                                                        squad_3 = True,\n",
    "                                                        ) \n",
    "df_zeroshot_f1_squad_3 = create_pandas_dataset_from_pandas(df_zeroshot_f1,\n",
    "                                                        squad_3 = True,\n",
    "                                                        ) \n",
    "\n",
    "df_train_f2_squad_3 = create_pandas_dataset_from_pandas(df_train_f2,\n",
    "                                                        squad_3 = True,\n",
    "                                                        ) \n",
    "df_dev_f2_squad_3 = create_pandas_dataset_from_pandas(df_dev_f2,\n",
    "                                                        squad_3 = True,\n",
    "                                                        ) \n",
    "\n",
    "print(\"df_train_f1_squad_3 describe: \")\n",
    "display(df_train_f1_squad_3.describe())\n",
    "print(\"df_dev_f1_squad_3 describe: \")\n",
    "display(df_dev_f1_squad_3.describe())\n",
    "print(\"df_dev_f1_squad_3 describe: \")\n",
    "display(df_dev_f1_squad_3.describe())\n",
    "\n",
    "print(\"df_train_f2_squad_3 describe: \")\n",
    "display(df_train_f2_squad_3.describe())\n",
    "print(\"df_zeroshot_f1_squad_3 describe: \")\n",
    "display(df_zeroshot_f1_squad_3.describe())\n",
    "\n",
    "df_train_f1_squad_3.to_parquet('../data/df_train_tdms_augmented_summarized_with_id_f1_squad_3.parquet')\n",
    "df_dev_f1_squad_3.to_parquet('../data/df_dev_tdms_augmented_summarized_with_id_f1_squad_3.parquet')\n",
    "df_zeroshot_f1_squad_3.to_parquet('../data/df_zeroshot_tdms_augmented_summarized_with_id_f1_squad_3.parquet')\n",
    "\n",
    "df_train_f2_squad_3.to_parquet('../data/df_train_tdms_augmented_summarized_with_id_f2_squad_3.parquet')\n",
    "df_dev_f2_squad_3.to_parquet('../data/df_dev_tdms_augmented_summarized_with_id_f2_squad_3.parquet')\n",
    "\n",
    "dataset = DatasetDict({\n",
    "    'fold1': DatasetDict({\n",
    "        \"train\": Dataset.from_parquet('../data/df_train_tdms_augmented_summarized_with_id_f1_squad_3.parquet'),\n",
    "        \"validation\": Dataset.from_parquet('../data/df_dev_tdms_augmented_summarized_with_id_f1_squad_3.parquet'),\n",
    "        \"zeroshot\": Dataset.from_parquet('../data/df_zeroshot_tdms_augmented_summarized_with_id_f1_squad_3.parquet')\n",
    "    }),\n",
    "    'fold2': DatasetDict({\n",
    "        \"train\": Dataset.from_parquet('../data/df_train_tdms_augmented_summarized_with_id_f2_squad_3.parquet'),\n",
    "        \"validation\": Dataset.from_parquet('../data/df_dev_tdms_augmented_summarized_with_id_f2_squad_3.parquet')\n",
    "    })\n",
    "})\n",
    "\n",
    "print(dataset)\n",
    "\n",
    "dataset.save_to_disk(\"../data/LLLM_AUGMENTED_SUMMARIZED_WITH_ID_ZEROSHOT_TDMS_SQUAD_3\")"
   ]
  },
  {
   "cell_type": "code",
   "execution_count": 91,
   "metadata": {},
   "outputs": [
    {
     "name": "stderr",
     "output_type": "stream",
     "text": [
      "  3%|▎         | 411/12388 [00:00<00:15, 787.53it/s]"
     ]
    },
    {
     "name": "stderr",
     "output_type": "stream",
     "text": [
      "100%|██████████| 12388/12388 [00:17<00:00, 697.43it/s]\n",
      "100%|██████████| 1642/1642 [00:02<00:00, 796.03it/s]\n",
      "100%|██████████| 1200/1200 [00:01<00:00, 796.83it/s]\n",
      "100%|██████████| 12382/12382 [00:17<00:00, 702.97it/s]\n",
      "100%|██████████| 1648/1648 [00:02<00:00, 797.14it/s]\n"
     ]
    },
    {
     "name": "stdout",
     "output_type": "stream",
     "text": [
      "df_train_f1_squad_4 describe: \n"
     ]
    },
    {
     "data": {
      "text/html": [
       "<div>\n",
       "<style scoped>\n",
       "    .dataframe tbody tr th:only-of-type {\n",
       "        vertical-align: middle;\n",
       "    }\n",
       "\n",
       "    .dataframe tbody tr th {\n",
       "        vertical-align: top;\n",
       "    }\n",
       "\n",
       "    .dataframe thead th {\n",
       "        text-align: right;\n",
       "    }\n",
       "</style>\n",
       "<table border=\"1\" class=\"dataframe\">\n",
       "  <thead>\n",
       "    <tr style=\"text-align: right;\">\n",
       "      <th></th>\n",
       "      <th>id</th>\n",
       "      <th>prompt</th>\n",
       "      <th>answer</th>\n",
       "    </tr>\n",
       "  </thead>\n",
       "  <tbody>\n",
       "    <tr>\n",
       "      <th>count</th>\n",
       "      <td>12388</td>\n",
       "      <td>12388</td>\n",
       "      <td>12388</td>\n",
       "    </tr>\n",
       "    <tr>\n",
       "      <th>unique</th>\n",
       "      <td>12388</td>\n",
       "      <td>12312</td>\n",
       "      <td>7976</td>\n",
       "    </tr>\n",
       "    <tr>\n",
       "      <th>top</th>\n",
       "      <td>1707.03497v2.pdf</td>\n",
       "      <td>Title:\\t\\n\\nAbstract:\\t\\n\\n[image]\\n\\nTry to a...</td>\n",
       "      <td>unanswerable</td>\n",
       "    </tr>\n",
       "    <tr>\n",
       "      <th>freq</th>\n",
       "      <td>1</td>\n",
       "      <td>20</td>\n",
       "      <td>4401</td>\n",
       "    </tr>\n",
       "  </tbody>\n",
       "</table>\n",
       "</div>"
      ],
      "text/plain": [
       "                      id                                             prompt  \\\n",
       "count              12388                                              12388   \n",
       "unique             12388                                              12312   \n",
       "top     1707.03497v2.pdf  Title:\\t\\n\\nAbstract:\\t\\n\\n[image]\\n\\nTry to a...   \n",
       "freq                   1                                                 20   \n",
       "\n",
       "              answer  \n",
       "count          12388  \n",
       "unique          7976  \n",
       "top     unanswerable  \n",
       "freq            4401  "
      ]
     },
     "metadata": {},
     "output_type": "display_data"
    },
    {
     "name": "stdout",
     "output_type": "stream",
     "text": [
      "df_dev_f1_squad_4 describe: \n"
     ]
    },
    {
     "data": {
      "text/html": [
       "<div>\n",
       "<style scoped>\n",
       "    .dataframe tbody tr th:only-of-type {\n",
       "        vertical-align: middle;\n",
       "    }\n",
       "\n",
       "    .dataframe tbody tr th {\n",
       "        vertical-align: top;\n",
       "    }\n",
       "\n",
       "    .dataframe thead th {\n",
       "        text-align: right;\n",
       "    }\n",
       "</style>\n",
       "<table border=\"1\" class=\"dataframe\">\n",
       "  <thead>\n",
       "    <tr style=\"text-align: right;\">\n",
       "      <th></th>\n",
       "      <th>id</th>\n",
       "      <th>prompt</th>\n",
       "      <th>answer</th>\n",
       "    </tr>\n",
       "  </thead>\n",
       "  <tbody>\n",
       "    <tr>\n",
       "      <th>count</th>\n",
       "      <td>1642</td>\n",
       "      <td>1642</td>\n",
       "      <td>1642</td>\n",
       "    </tr>\n",
       "    <tr>\n",
       "      <th>unique</th>\n",
       "      <td>1642</td>\n",
       "      <td>1641</td>\n",
       "      <td>994</td>\n",
       "    </tr>\n",
       "    <tr>\n",
       "      <th>top</th>\n",
       "      <td>1810.02575v1.pdf</td>\n",
       "      <td>Title:\\tA Sample ACM SIG Proceedings Paper in ...</td>\n",
       "      <td>unanswerable</td>\n",
       "    </tr>\n",
       "    <tr>\n",
       "      <th>freq</th>\n",
       "      <td>1</td>\n",
       "      <td>2</td>\n",
       "      <td>648</td>\n",
       "    </tr>\n",
       "  </tbody>\n",
       "</table>\n",
       "</div>"
      ],
      "text/plain": [
       "                      id                                             prompt  \\\n",
       "count               1642                                               1642   \n",
       "unique              1642                                               1641   \n",
       "top     1810.02575v1.pdf  Title:\\tA Sample ACM SIG Proceedings Paper in ...   \n",
       "freq                   1                                                  2   \n",
       "\n",
       "              answer  \n",
       "count           1642  \n",
       "unique           994  \n",
       "top     unanswerable  \n",
       "freq             648  "
      ]
     },
     "metadata": {},
     "output_type": "display_data"
    },
    {
     "name": "stdout",
     "output_type": "stream",
     "text": [
      "df_dev_f1_squad_4 describe: \n"
     ]
    },
    {
     "data": {
      "text/html": [
       "<div>\n",
       "<style scoped>\n",
       "    .dataframe tbody tr th:only-of-type {\n",
       "        vertical-align: middle;\n",
       "    }\n",
       "\n",
       "    .dataframe tbody tr th {\n",
       "        vertical-align: top;\n",
       "    }\n",
       "\n",
       "    .dataframe thead th {\n",
       "        text-align: right;\n",
       "    }\n",
       "</style>\n",
       "<table border=\"1\" class=\"dataframe\">\n",
       "  <thead>\n",
       "    <tr style=\"text-align: right;\">\n",
       "      <th></th>\n",
       "      <th>id</th>\n",
       "      <th>prompt</th>\n",
       "      <th>answer</th>\n",
       "    </tr>\n",
       "  </thead>\n",
       "  <tbody>\n",
       "    <tr>\n",
       "      <th>count</th>\n",
       "      <td>1642</td>\n",
       "      <td>1642</td>\n",
       "      <td>1642</td>\n",
       "    </tr>\n",
       "    <tr>\n",
       "      <th>unique</th>\n",
       "      <td>1642</td>\n",
       "      <td>1641</td>\n",
       "      <td>994</td>\n",
       "    </tr>\n",
       "    <tr>\n",
       "      <th>top</th>\n",
       "      <td>1810.02575v1.pdf</td>\n",
       "      <td>Title:\\tA Sample ACM SIG Proceedings Paper in ...</td>\n",
       "      <td>unanswerable</td>\n",
       "    </tr>\n",
       "    <tr>\n",
       "      <th>freq</th>\n",
       "      <td>1</td>\n",
       "      <td>2</td>\n",
       "      <td>648</td>\n",
       "    </tr>\n",
       "  </tbody>\n",
       "</table>\n",
       "</div>"
      ],
      "text/plain": [
       "                      id                                             prompt  \\\n",
       "count               1642                                               1642   \n",
       "unique              1642                                               1641   \n",
       "top     1810.02575v1.pdf  Title:\\tA Sample ACM SIG Proceedings Paper in ...   \n",
       "freq                   1                                                  2   \n",
       "\n",
       "              answer  \n",
       "count           1642  \n",
       "unique           994  \n",
       "top     unanswerable  \n",
       "freq             648  "
      ]
     },
     "metadata": {},
     "output_type": "display_data"
    },
    {
     "name": "stdout",
     "output_type": "stream",
     "text": [
      "df_train_f2_squad_4 describe: \n"
     ]
    },
    {
     "data": {
      "text/html": [
       "<div>\n",
       "<style scoped>\n",
       "    .dataframe tbody tr th:only-of-type {\n",
       "        vertical-align: middle;\n",
       "    }\n",
       "\n",
       "    .dataframe tbody tr th {\n",
       "        vertical-align: top;\n",
       "    }\n",
       "\n",
       "    .dataframe thead th {\n",
       "        text-align: right;\n",
       "    }\n",
       "</style>\n",
       "<table border=\"1\" class=\"dataframe\">\n",
       "  <thead>\n",
       "    <tr style=\"text-align: right;\">\n",
       "      <th></th>\n",
       "      <th>id</th>\n",
       "      <th>prompt</th>\n",
       "      <th>answer</th>\n",
       "    </tr>\n",
       "  </thead>\n",
       "  <tbody>\n",
       "    <tr>\n",
       "      <th>count</th>\n",
       "      <td>12382</td>\n",
       "      <td>12382</td>\n",
       "      <td>12382</td>\n",
       "    </tr>\n",
       "    <tr>\n",
       "      <th>unique</th>\n",
       "      <td>12382</td>\n",
       "      <td>12311</td>\n",
       "      <td>7988</td>\n",
       "    </tr>\n",
       "    <tr>\n",
       "      <th>top</th>\n",
       "      <td>1707.03497v2.pdf</td>\n",
       "      <td>Title:\\t\\n\\nAbstract:\\t\\n\\n[image]\\n\\nTry to a...</td>\n",
       "      <td>unanswerable</td>\n",
       "    </tr>\n",
       "    <tr>\n",
       "      <th>freq</th>\n",
       "      <td>1</td>\n",
       "      <td>20</td>\n",
       "      <td>4383</td>\n",
       "    </tr>\n",
       "  </tbody>\n",
       "</table>\n",
       "</div>"
      ],
      "text/plain": [
       "                      id                                             prompt  \\\n",
       "count              12382                                              12382   \n",
       "unique             12382                                              12311   \n",
       "top     1707.03497v2.pdf  Title:\\t\\n\\nAbstract:\\t\\n\\n[image]\\n\\nTry to a...   \n",
       "freq                   1                                                 20   \n",
       "\n",
       "              answer  \n",
       "count          12382  \n",
       "unique          7988  \n",
       "top     unanswerable  \n",
       "freq            4383  "
      ]
     },
     "metadata": {},
     "output_type": "display_data"
    },
    {
     "name": "stdout",
     "output_type": "stream",
     "text": [
      "df_zeroshot_f1_squad_4 describe: \n"
     ]
    },
    {
     "data": {
      "text/html": [
       "<div>\n",
       "<style scoped>\n",
       "    .dataframe tbody tr th:only-of-type {\n",
       "        vertical-align: middle;\n",
       "    }\n",
       "\n",
       "    .dataframe tbody tr th {\n",
       "        vertical-align: top;\n",
       "    }\n",
       "\n",
       "    .dataframe thead th {\n",
       "        text-align: right;\n",
       "    }\n",
       "</style>\n",
       "<table border=\"1\" class=\"dataframe\">\n",
       "  <thead>\n",
       "    <tr style=\"text-align: right;\">\n",
       "      <th></th>\n",
       "      <th>id</th>\n",
       "      <th>prompt</th>\n",
       "      <th>answer</th>\n",
       "    </tr>\n",
       "  </thead>\n",
       "  <tbody>\n",
       "    <tr>\n",
       "      <th>count</th>\n",
       "      <td>1200</td>\n",
       "      <td>1200</td>\n",
       "      <td>1200</td>\n",
       "    </tr>\n",
       "    <tr>\n",
       "      <th>unique</th>\n",
       "      <td>1200</td>\n",
       "      <td>1197</td>\n",
       "      <td>653</td>\n",
       "    </tr>\n",
       "    <tr>\n",
       "      <th>top</th>\n",
       "      <td>2209.03182v1.pdf</td>\n",
       "      <td>Title:\\t\\n\\nAbstract:\\t\\n\\n[image]\\n\\nTry to a...</td>\n",
       "      <td>unanswerable</td>\n",
       "    </tr>\n",
       "    <tr>\n",
       "      <th>freq</th>\n",
       "      <td>1</td>\n",
       "      <td>3</td>\n",
       "      <td>548</td>\n",
       "    </tr>\n",
       "  </tbody>\n",
       "</table>\n",
       "</div>"
      ],
      "text/plain": [
       "                      id                                             prompt  \\\n",
       "count               1200                                               1200   \n",
       "unique              1200                                               1197   \n",
       "top     2209.03182v1.pdf  Title:\\t\\n\\nAbstract:\\t\\n\\n[image]\\n\\nTry to a...   \n",
       "freq                   1                                                  3   \n",
       "\n",
       "              answer  \n",
       "count           1200  \n",
       "unique           653  \n",
       "top     unanswerable  \n",
       "freq             548  "
      ]
     },
     "metadata": {},
     "output_type": "display_data"
    },
    {
     "name": "stdout",
     "output_type": "stream",
     "text": [
      "Downloading and preparing dataset parquet/default to /nfs/home/kabenamualus/.cache/huggingface/datasets/parquet/default-8bfbc344f5e131e2/0.0.0/14a00e99c0d15a23649d0db8944380ac81082d4b021f398733dd84f3a6c569a7...\n"
     ]
    },
    {
     "data": {
      "application/vnd.jupyter.widget-view+json": {
       "model_id": "740172f22bf44ce9ad626373f359b48d",
       "version_major": 2,
       "version_minor": 0
      },
      "text/plain": [
       "Downloading data files:   0%|          | 0/1 [00:00<?, ?it/s]"
      ]
     },
     "metadata": {},
     "output_type": "display_data"
    },
    {
     "data": {
      "application/vnd.jupyter.widget-view+json": {
       "model_id": "c9995f9f111d4b46bac35b23ae49b3ce",
       "version_major": 2,
       "version_minor": 0
      },
      "text/plain": [
       "Extracting data files:   0%|          | 0/1 [00:00<?, ?it/s]"
      ]
     },
     "metadata": {},
     "output_type": "display_data"
    },
    {
     "data": {
      "application/vnd.jupyter.widget-view+json": {
       "model_id": "d18ad0d59c86411c939a13e235ff16ed",
       "version_major": 2,
       "version_minor": 0
      },
      "text/plain": [
       "Generating train split: 0 examples [00:00, ? examples/s]"
      ]
     },
     "metadata": {},
     "output_type": "display_data"
    },
    {
     "name": "stdout",
     "output_type": "stream",
     "text": [
      "Dataset parquet downloaded and prepared to /nfs/home/kabenamualus/.cache/huggingface/datasets/parquet/default-8bfbc344f5e131e2/0.0.0/14a00e99c0d15a23649d0db8944380ac81082d4b021f398733dd84f3a6c569a7. Subsequent calls will reuse this data.\n",
      "Downloading and preparing dataset parquet/default to /nfs/home/kabenamualus/.cache/huggingface/datasets/parquet/default-ef529d02d87011bc/0.0.0/14a00e99c0d15a23649d0db8944380ac81082d4b021f398733dd84f3a6c569a7...\n"
     ]
    },
    {
     "data": {
      "application/vnd.jupyter.widget-view+json": {
       "model_id": "9db1e1a2eaad4ca89453ea8e9df12b55",
       "version_major": 2,
       "version_minor": 0
      },
      "text/plain": [
       "Downloading data files:   0%|          | 0/1 [00:00<?, ?it/s]"
      ]
     },
     "metadata": {},
     "output_type": "display_data"
    },
    {
     "data": {
      "application/vnd.jupyter.widget-view+json": {
       "model_id": "9419ccb02fef4f3d85f74bfb0bf8e8b4",
       "version_major": 2,
       "version_minor": 0
      },
      "text/plain": [
       "Extracting data files:   0%|          | 0/1 [00:00<?, ?it/s]"
      ]
     },
     "metadata": {},
     "output_type": "display_data"
    },
    {
     "data": {
      "application/vnd.jupyter.widget-view+json": {
       "model_id": "7b41332fcc104af080a68f30e7049a1b",
       "version_major": 2,
       "version_minor": 0
      },
      "text/plain": [
       "Generating train split: 0 examples [00:00, ? examples/s]"
      ]
     },
     "metadata": {},
     "output_type": "display_data"
    },
    {
     "name": "stdout",
     "output_type": "stream",
     "text": [
      "Dataset parquet downloaded and prepared to /nfs/home/kabenamualus/.cache/huggingface/datasets/parquet/default-ef529d02d87011bc/0.0.0/14a00e99c0d15a23649d0db8944380ac81082d4b021f398733dd84f3a6c569a7. Subsequent calls will reuse this data.\n",
      "Downloading and preparing dataset parquet/default to /nfs/home/kabenamualus/.cache/huggingface/datasets/parquet/default-4400f2b025cfa661/0.0.0/14a00e99c0d15a23649d0db8944380ac81082d4b021f398733dd84f3a6c569a7...\n"
     ]
    },
    {
     "data": {
      "application/vnd.jupyter.widget-view+json": {
       "model_id": "7606039532d94d2f8c926d5838c4a0f4",
       "version_major": 2,
       "version_minor": 0
      },
      "text/plain": [
       "Downloading data files:   0%|          | 0/1 [00:00<?, ?it/s]"
      ]
     },
     "metadata": {},
     "output_type": "display_data"
    },
    {
     "data": {
      "application/vnd.jupyter.widget-view+json": {
       "model_id": "4505fd8c91124fffaa4933b4b329e1a6",
       "version_major": 2,
       "version_minor": 0
      },
      "text/plain": [
       "Extracting data files:   0%|          | 0/1 [00:00<?, ?it/s]"
      ]
     },
     "metadata": {},
     "output_type": "display_data"
    },
    {
     "data": {
      "application/vnd.jupyter.widget-view+json": {
       "model_id": "79e128216c4948c7b7b815b73e324b50",
       "version_major": 2,
       "version_minor": 0
      },
      "text/plain": [
       "Generating train split: 0 examples [00:00, ? examples/s]"
      ]
     },
     "metadata": {},
     "output_type": "display_data"
    },
    {
     "name": "stdout",
     "output_type": "stream",
     "text": [
      "Dataset parquet downloaded and prepared to /nfs/home/kabenamualus/.cache/huggingface/datasets/parquet/default-4400f2b025cfa661/0.0.0/14a00e99c0d15a23649d0db8944380ac81082d4b021f398733dd84f3a6c569a7. Subsequent calls will reuse this data.\n",
      "Downloading and preparing dataset parquet/default to /nfs/home/kabenamualus/.cache/huggingface/datasets/parquet/default-046dbfecec008957/0.0.0/14a00e99c0d15a23649d0db8944380ac81082d4b021f398733dd84f3a6c569a7...\n"
     ]
    },
    {
     "data": {
      "application/vnd.jupyter.widget-view+json": {
       "model_id": "c8d3779b4f7f47b38debfcc11e9b141b",
       "version_major": 2,
       "version_minor": 0
      },
      "text/plain": [
       "Downloading data files:   0%|          | 0/1 [00:00<?, ?it/s]"
      ]
     },
     "metadata": {},
     "output_type": "display_data"
    },
    {
     "data": {
      "application/vnd.jupyter.widget-view+json": {
       "model_id": "43bc335f02444591b3562381409204a7",
       "version_major": 2,
       "version_minor": 0
      },
      "text/plain": [
       "Extracting data files:   0%|          | 0/1 [00:00<?, ?it/s]"
      ]
     },
     "metadata": {},
     "output_type": "display_data"
    },
    {
     "data": {
      "application/vnd.jupyter.widget-view+json": {
       "model_id": "23683126108f4910b6943f9b390d8f5a",
       "version_major": 2,
       "version_minor": 0
      },
      "text/plain": [
       "Generating train split: 0 examples [00:00, ? examples/s]"
      ]
     },
     "metadata": {},
     "output_type": "display_data"
    },
    {
     "name": "stdout",
     "output_type": "stream",
     "text": [
      "Dataset parquet downloaded and prepared to /nfs/home/kabenamualus/.cache/huggingface/datasets/parquet/default-046dbfecec008957/0.0.0/14a00e99c0d15a23649d0db8944380ac81082d4b021f398733dd84f3a6c569a7. Subsequent calls will reuse this data.\n",
      "Downloading and preparing dataset parquet/default to /nfs/home/kabenamualus/.cache/huggingface/datasets/parquet/default-4fc7288b975450a3/0.0.0/14a00e99c0d15a23649d0db8944380ac81082d4b021f398733dd84f3a6c569a7...\n"
     ]
    },
    {
     "data": {
      "application/vnd.jupyter.widget-view+json": {
       "model_id": "dd1fe5b6497948a79022c9b07d5bfbee",
       "version_major": 2,
       "version_minor": 0
      },
      "text/plain": [
       "Downloading data files:   0%|          | 0/1 [00:00<?, ?it/s]"
      ]
     },
     "metadata": {},
     "output_type": "display_data"
    },
    {
     "data": {
      "application/vnd.jupyter.widget-view+json": {
       "model_id": "18e6d8eae274430597bcc0cc98b82a14",
       "version_major": 2,
       "version_minor": 0
      },
      "text/plain": [
       "Extracting data files:   0%|          | 0/1 [00:00<?, ?it/s]"
      ]
     },
     "metadata": {},
     "output_type": "display_data"
    },
    {
     "data": {
      "application/vnd.jupyter.widget-view+json": {
       "model_id": "a270ad9c58b742d7beb07f326ab5c11e",
       "version_major": 2,
       "version_minor": 0
      },
      "text/plain": [
       "Generating train split: 0 examples [00:00, ? examples/s]"
      ]
     },
     "metadata": {},
     "output_type": "display_data"
    },
    {
     "name": "stdout",
     "output_type": "stream",
     "text": [
      "Dataset parquet downloaded and prepared to /nfs/home/kabenamualus/.cache/huggingface/datasets/parquet/default-4fc7288b975450a3/0.0.0/14a00e99c0d15a23649d0db8944380ac81082d4b021f398733dd84f3a6c569a7. Subsequent calls will reuse this data.\n",
      "DatasetDict({\n",
      "    fold1: DatasetDict({\n",
      "        train: Dataset({\n",
      "            features: ['id', 'prompt', 'answer', '__index_level_0__'],\n",
      "            num_rows: 12388\n",
      "        })\n",
      "        validation: Dataset({\n",
      "            features: ['id', 'prompt', 'answer', '__index_level_0__'],\n",
      "            num_rows: 1642\n",
      "        })\n",
      "        zeroshot: Dataset({\n",
      "            features: ['id', 'prompt', 'answer', '__index_level_0__'],\n",
      "            num_rows: 1200\n",
      "        })\n",
      "    })\n",
      "    fold2: DatasetDict({\n",
      "        train: Dataset({\n",
      "            features: ['id', 'prompt', 'answer', '__index_level_0__'],\n",
      "            num_rows: 12382\n",
      "        })\n",
      "        validation: Dataset({\n",
      "            features: ['id', 'prompt', 'answer', '__index_level_0__'],\n",
      "            num_rows: 1648\n",
      "        })\n",
      "    })\n",
      "})\n"
     ]
    },
    {
     "data": {
      "application/vnd.jupyter.widget-view+json": {
       "model_id": "ca854337586e4803a803054ad2307caf",
       "version_major": 2,
       "version_minor": 0
      },
      "text/plain": [
       "Saving the dataset (0/1 shards):   0%|          | 0/12388 [00:00<?, ? examples/s]"
      ]
     },
     "metadata": {},
     "output_type": "display_data"
    },
    {
     "data": {
      "application/vnd.jupyter.widget-view+json": {
       "model_id": "0c18ab06743747e193f6a3a7dc1184ad",
       "version_major": 2,
       "version_minor": 0
      },
      "text/plain": [
       "Saving the dataset (0/1 shards):   0%|          | 0/1642 [00:00<?, ? examples/s]"
      ]
     },
     "metadata": {},
     "output_type": "display_data"
    },
    {
     "data": {
      "application/vnd.jupyter.widget-view+json": {
       "model_id": "33aa8e1a466c453aaee407ba9340e55a",
       "version_major": 2,
       "version_minor": 0
      },
      "text/plain": [
       "Saving the dataset (0/1 shards):   0%|          | 0/1200 [00:00<?, ? examples/s]"
      ]
     },
     "metadata": {},
     "output_type": "display_data"
    },
    {
     "data": {
      "application/vnd.jupyter.widget-view+json": {
       "model_id": "76e709e2298c459fb5af55ef01128ecf",
       "version_major": 2,
       "version_minor": 0
      },
      "text/plain": [
       "Saving the dataset (0/1 shards):   0%|          | 0/12382 [00:00<?, ? examples/s]"
      ]
     },
     "metadata": {},
     "output_type": "display_data"
    },
    {
     "data": {
      "application/vnd.jupyter.widget-view+json": {
       "model_id": "28926027324a47d1a5aa83278e8fdde8",
       "version_major": 2,
       "version_minor": 0
      },
      "text/plain": [
       "Saving the dataset (0/1 shards):   0%|          | 0/1648 [00:00<?, ? examples/s]"
      ]
     },
     "metadata": {},
     "output_type": "display_data"
    }
   ],
   "source": [
    "df_train_f1_squad_4 = create_pandas_dataset_from_pandas(df_train_f1,\n",
    "                                                        squad_4 = True,\n",
    "                                                        ) \n",
    "df_dev_f1_squad_4 = create_pandas_dataset_from_pandas(df_dev_f1,\n",
    "                                                        squad_4 = True,\n",
    "                                                        ) \n",
    "df_zeroshot_f1_squad_4 = create_pandas_dataset_from_pandas(df_zeroshot_f1,\n",
    "                                                        squad_4 = True,\n",
    "                                                        ) \n",
    "\n",
    "df_train_f2_squad_4 = create_pandas_dataset_from_pandas(df_train_f2,\n",
    "                                                        squad_4 = True,\n",
    "                                                        ) \n",
    "df_dev_f2_squad_4 = create_pandas_dataset_from_pandas(df_dev_f2,\n",
    "                                                        squad_4 = True,\n",
    "                                                        ) \n",
    "\n",
    "print(\"df_train_f1_squad_4 describe: \")\n",
    "display(df_train_f1_squad_4.describe())\n",
    "print(\"df_dev_f1_squad_4 describe: \")\n",
    "display(df_dev_f1_squad_4.describe())\n",
    "print(\"df_dev_f1_squad_4 describe: \")\n",
    "display(df_dev_f1_squad_4.describe())\n",
    "\n",
    "print(\"df_train_f2_squad_4 describe: \")\n",
    "display(df_train_f2_squad_4.describe())\n",
    "print(\"df_zeroshot_f1_squad_4 describe: \")\n",
    "display(df_zeroshot_f1_squad_4.describe())\n",
    "\n",
    "df_train_f1_squad_4.to_parquet('../data/df_train_tdms_augmented_summarized_with_id_f1_squad_4.parquet')\n",
    "df_dev_f1_squad_4.to_parquet('../data/df_dev_tdms_augmented_summarized_with_id_f1_squad_4.parquet')\n",
    "df_zeroshot_f1_squad_4.to_parquet('../data/df_zeroshot_tdms_augmented_summarized_with_id_f1_squad_4.parquet')\n",
    "\n",
    "df_train_f2_squad_4.to_parquet('../data/df_train_tdms_augmented_summarized_with_id_f2_squad_4.parquet')\n",
    "df_dev_f2_squad_4.to_parquet('../data/df_dev_tdms_augmented_summarized_with_id_f2_squad_4.parquet')\n",
    "\n",
    "dataset = DatasetDict({\n",
    "    'fold1': DatasetDict({\n",
    "        \"train\": Dataset.from_parquet('../data/df_train_tdms_augmented_summarized_with_id_f1_squad_4.parquet'),\n",
    "        \"validation\": Dataset.from_parquet('../data/df_dev_tdms_augmented_summarized_with_id_f1_squad_4.parquet'),\n",
    "        \"zeroshot\": Dataset.from_parquet('../data/df_zeroshot_tdms_augmented_summarized_with_id_f1_squad_4.parquet')\n",
    "    }),\n",
    "    'fold2': DatasetDict({\n",
    "        \"train\": Dataset.from_parquet('../data/df_train_tdms_augmented_summarized_with_id_f2_squad_4.parquet'),\n",
    "        \"validation\": Dataset.from_parquet('../data/df_dev_tdms_augmented_summarized_with_id_f2_squad_4.parquet')\n",
    "    })\n",
    "})\n",
    "\n",
    "print(dataset)\n",
    "\n",
    "dataset.save_to_disk(\"../data/LLLM_AUGMENTED_SUMMARIZED_WITH_ID_ZEROSHOT_TDMS_SQUAD_4\")"
   ]
  },
  {
   "cell_type": "code",
   "execution_count": 92,
   "metadata": {},
   "outputs": [
    {
     "name": "stderr",
     "output_type": "stream",
     "text": [
      "  1%|          | 80/12388 [00:00<00:15, 799.50it/s]"
     ]
    },
    {
     "name": "stderr",
     "output_type": "stream",
     "text": [
      "100%|██████████| 12388/12388 [00:17<00:00, 691.62it/s]\n",
      "100%|██████████| 1642/1642 [00:02<00:00, 784.77it/s]\n",
      "100%|██████████| 1200/1200 [00:01<00:00, 784.41it/s]\n",
      "100%|██████████| 12382/12382 [00:17<00:00, 691.10it/s]\n",
      "100%|██████████| 1648/1648 [00:02<00:00, 778.71it/s]\n"
     ]
    },
    {
     "name": "stdout",
     "output_type": "stream",
     "text": [
      "df_train_f1_squad_5 describe: \n"
     ]
    },
    {
     "data": {
      "text/html": [
       "<div>\n",
       "<style scoped>\n",
       "    .dataframe tbody tr th:only-of-type {\n",
       "        vertical-align: middle;\n",
       "    }\n",
       "\n",
       "    .dataframe tbody tr th {\n",
       "        vertical-align: top;\n",
       "    }\n",
       "\n",
       "    .dataframe thead th {\n",
       "        text-align: right;\n",
       "    }\n",
       "</style>\n",
       "<table border=\"1\" class=\"dataframe\">\n",
       "  <thead>\n",
       "    <tr style=\"text-align: right;\">\n",
       "      <th></th>\n",
       "      <th>id</th>\n",
       "      <th>prompt</th>\n",
       "      <th>answer</th>\n",
       "    </tr>\n",
       "  </thead>\n",
       "  <tbody>\n",
       "    <tr>\n",
       "      <th>count</th>\n",
       "      <td>12388</td>\n",
       "      <td>12388</td>\n",
       "      <td>12388</td>\n",
       "    </tr>\n",
       "    <tr>\n",
       "      <th>unique</th>\n",
       "      <td>12388</td>\n",
       "      <td>12312</td>\n",
       "      <td>7976</td>\n",
       "    </tr>\n",
       "    <tr>\n",
       "      <th>top</th>\n",
       "      <td>1707.03497v2.pdf</td>\n",
       "      <td>Title:\\t\\n\\nAbstract:\\t\\n\\n[image]\\n\\nIf it is...</td>\n",
       "      <td>unanswerable</td>\n",
       "    </tr>\n",
       "    <tr>\n",
       "      <th>freq</th>\n",
       "      <td>1</td>\n",
       "      <td>20</td>\n",
       "      <td>4401</td>\n",
       "    </tr>\n",
       "  </tbody>\n",
       "</table>\n",
       "</div>"
      ],
      "text/plain": [
       "                      id                                             prompt  \\\n",
       "count              12388                                              12388   \n",
       "unique             12388                                              12312   \n",
       "top     1707.03497v2.pdf  Title:\\t\\n\\nAbstract:\\t\\n\\n[image]\\n\\nIf it is...   \n",
       "freq                   1                                                 20   \n",
       "\n",
       "              answer  \n",
       "count          12388  \n",
       "unique          7976  \n",
       "top     unanswerable  \n",
       "freq            4401  "
      ]
     },
     "metadata": {},
     "output_type": "display_data"
    },
    {
     "name": "stdout",
     "output_type": "stream",
     "text": [
      "df_dev_f1_squad_5 describe: \n"
     ]
    },
    {
     "data": {
      "text/html": [
       "<div>\n",
       "<style scoped>\n",
       "    .dataframe tbody tr th:only-of-type {\n",
       "        vertical-align: middle;\n",
       "    }\n",
       "\n",
       "    .dataframe tbody tr th {\n",
       "        vertical-align: top;\n",
       "    }\n",
       "\n",
       "    .dataframe thead th {\n",
       "        text-align: right;\n",
       "    }\n",
       "</style>\n",
       "<table border=\"1\" class=\"dataframe\">\n",
       "  <thead>\n",
       "    <tr style=\"text-align: right;\">\n",
       "      <th></th>\n",
       "      <th>id</th>\n",
       "      <th>prompt</th>\n",
       "      <th>answer</th>\n",
       "    </tr>\n",
       "  </thead>\n",
       "  <tbody>\n",
       "    <tr>\n",
       "      <th>count</th>\n",
       "      <td>1642</td>\n",
       "      <td>1642</td>\n",
       "      <td>1642</td>\n",
       "    </tr>\n",
       "    <tr>\n",
       "      <th>unique</th>\n",
       "      <td>1642</td>\n",
       "      <td>1641</td>\n",
       "      <td>994</td>\n",
       "    </tr>\n",
       "    <tr>\n",
       "      <th>top</th>\n",
       "      <td>1810.02575v1.pdf</td>\n",
       "      <td>Title:\\tA Sample ACM SIG Proceedings Paper in ...</td>\n",
       "      <td>unanswerable</td>\n",
       "    </tr>\n",
       "    <tr>\n",
       "      <th>freq</th>\n",
       "      <td>1</td>\n",
       "      <td>2</td>\n",
       "      <td>648</td>\n",
       "    </tr>\n",
       "  </tbody>\n",
       "</table>\n",
       "</div>"
      ],
      "text/plain": [
       "                      id                                             prompt  \\\n",
       "count               1642                                               1642   \n",
       "unique              1642                                               1641   \n",
       "top     1810.02575v1.pdf  Title:\\tA Sample ACM SIG Proceedings Paper in ...   \n",
       "freq                   1                                                  2   \n",
       "\n",
       "              answer  \n",
       "count           1642  \n",
       "unique           994  \n",
       "top     unanswerable  \n",
       "freq             648  "
      ]
     },
     "metadata": {},
     "output_type": "display_data"
    },
    {
     "name": "stdout",
     "output_type": "stream",
     "text": [
      "df_dev_f1_squad_5 describe: \n"
     ]
    },
    {
     "data": {
      "text/html": [
       "<div>\n",
       "<style scoped>\n",
       "    .dataframe tbody tr th:only-of-type {\n",
       "        vertical-align: middle;\n",
       "    }\n",
       "\n",
       "    .dataframe tbody tr th {\n",
       "        vertical-align: top;\n",
       "    }\n",
       "\n",
       "    .dataframe thead th {\n",
       "        text-align: right;\n",
       "    }\n",
       "</style>\n",
       "<table border=\"1\" class=\"dataframe\">\n",
       "  <thead>\n",
       "    <tr style=\"text-align: right;\">\n",
       "      <th></th>\n",
       "      <th>id</th>\n",
       "      <th>prompt</th>\n",
       "      <th>answer</th>\n",
       "    </tr>\n",
       "  </thead>\n",
       "  <tbody>\n",
       "    <tr>\n",
       "      <th>count</th>\n",
       "      <td>1642</td>\n",
       "      <td>1642</td>\n",
       "      <td>1642</td>\n",
       "    </tr>\n",
       "    <tr>\n",
       "      <th>unique</th>\n",
       "      <td>1642</td>\n",
       "      <td>1641</td>\n",
       "      <td>994</td>\n",
       "    </tr>\n",
       "    <tr>\n",
       "      <th>top</th>\n",
       "      <td>1810.02575v1.pdf</td>\n",
       "      <td>Title:\\tA Sample ACM SIG Proceedings Paper in ...</td>\n",
       "      <td>unanswerable</td>\n",
       "    </tr>\n",
       "    <tr>\n",
       "      <th>freq</th>\n",
       "      <td>1</td>\n",
       "      <td>2</td>\n",
       "      <td>648</td>\n",
       "    </tr>\n",
       "  </tbody>\n",
       "</table>\n",
       "</div>"
      ],
      "text/plain": [
       "                      id                                             prompt  \\\n",
       "count               1642                                               1642   \n",
       "unique              1642                                               1641   \n",
       "top     1810.02575v1.pdf  Title:\\tA Sample ACM SIG Proceedings Paper in ...   \n",
       "freq                   1                                                  2   \n",
       "\n",
       "              answer  \n",
       "count           1642  \n",
       "unique           994  \n",
       "top     unanswerable  \n",
       "freq             648  "
      ]
     },
     "metadata": {},
     "output_type": "display_data"
    },
    {
     "name": "stdout",
     "output_type": "stream",
     "text": [
      "df_train_f2_squad_5 describe: \n"
     ]
    },
    {
     "data": {
      "text/html": [
       "<div>\n",
       "<style scoped>\n",
       "    .dataframe tbody tr th:only-of-type {\n",
       "        vertical-align: middle;\n",
       "    }\n",
       "\n",
       "    .dataframe tbody tr th {\n",
       "        vertical-align: top;\n",
       "    }\n",
       "\n",
       "    .dataframe thead th {\n",
       "        text-align: right;\n",
       "    }\n",
       "</style>\n",
       "<table border=\"1\" class=\"dataframe\">\n",
       "  <thead>\n",
       "    <tr style=\"text-align: right;\">\n",
       "      <th></th>\n",
       "      <th>id</th>\n",
       "      <th>prompt</th>\n",
       "      <th>answer</th>\n",
       "    </tr>\n",
       "  </thead>\n",
       "  <tbody>\n",
       "    <tr>\n",
       "      <th>count</th>\n",
       "      <td>12382</td>\n",
       "      <td>12382</td>\n",
       "      <td>12382</td>\n",
       "    </tr>\n",
       "    <tr>\n",
       "      <th>unique</th>\n",
       "      <td>12382</td>\n",
       "      <td>12311</td>\n",
       "      <td>7988</td>\n",
       "    </tr>\n",
       "    <tr>\n",
       "      <th>top</th>\n",
       "      <td>1707.03497v2.pdf</td>\n",
       "      <td>Title:\\t\\n\\nAbstract:\\t\\n\\n[image]\\n\\nIf it is...</td>\n",
       "      <td>unanswerable</td>\n",
       "    </tr>\n",
       "    <tr>\n",
       "      <th>freq</th>\n",
       "      <td>1</td>\n",
       "      <td>20</td>\n",
       "      <td>4383</td>\n",
       "    </tr>\n",
       "  </tbody>\n",
       "</table>\n",
       "</div>"
      ],
      "text/plain": [
       "                      id                                             prompt  \\\n",
       "count              12382                                              12382   \n",
       "unique             12382                                              12311   \n",
       "top     1707.03497v2.pdf  Title:\\t\\n\\nAbstract:\\t\\n\\n[image]\\n\\nIf it is...   \n",
       "freq                   1                                                 20   \n",
       "\n",
       "              answer  \n",
       "count          12382  \n",
       "unique          7988  \n",
       "top     unanswerable  \n",
       "freq            4383  "
      ]
     },
     "metadata": {},
     "output_type": "display_data"
    },
    {
     "name": "stdout",
     "output_type": "stream",
     "text": [
      "df_zeroshot_f1_squad_5 describe: \n"
     ]
    },
    {
     "data": {
      "text/html": [
       "<div>\n",
       "<style scoped>\n",
       "    .dataframe tbody tr th:only-of-type {\n",
       "        vertical-align: middle;\n",
       "    }\n",
       "\n",
       "    .dataframe tbody tr th {\n",
       "        vertical-align: top;\n",
       "    }\n",
       "\n",
       "    .dataframe thead th {\n",
       "        text-align: right;\n",
       "    }\n",
       "</style>\n",
       "<table border=\"1\" class=\"dataframe\">\n",
       "  <thead>\n",
       "    <tr style=\"text-align: right;\">\n",
       "      <th></th>\n",
       "      <th>id</th>\n",
       "      <th>prompt</th>\n",
       "      <th>answer</th>\n",
       "    </tr>\n",
       "  </thead>\n",
       "  <tbody>\n",
       "    <tr>\n",
       "      <th>count</th>\n",
       "      <td>1200</td>\n",
       "      <td>1200</td>\n",
       "      <td>1200</td>\n",
       "    </tr>\n",
       "    <tr>\n",
       "      <th>unique</th>\n",
       "      <td>1200</td>\n",
       "      <td>1197</td>\n",
       "      <td>653</td>\n",
       "    </tr>\n",
       "    <tr>\n",
       "      <th>top</th>\n",
       "      <td>2209.03182v1.pdf</td>\n",
       "      <td>Title:\\t\\n\\nAbstract:\\t\\n\\n[image]\\n\\nIf it is...</td>\n",
       "      <td>unanswerable</td>\n",
       "    </tr>\n",
       "    <tr>\n",
       "      <th>freq</th>\n",
       "      <td>1</td>\n",
       "      <td>3</td>\n",
       "      <td>548</td>\n",
       "    </tr>\n",
       "  </tbody>\n",
       "</table>\n",
       "</div>"
      ],
      "text/plain": [
       "                      id                                             prompt  \\\n",
       "count               1200                                               1200   \n",
       "unique              1200                                               1197   \n",
       "top     2209.03182v1.pdf  Title:\\t\\n\\nAbstract:\\t\\n\\n[image]\\n\\nIf it is...   \n",
       "freq                   1                                                  3   \n",
       "\n",
       "              answer  \n",
       "count           1200  \n",
       "unique           653  \n",
       "top     unanswerable  \n",
       "freq             548  "
      ]
     },
     "metadata": {},
     "output_type": "display_data"
    },
    {
     "name": "stdout",
     "output_type": "stream",
     "text": [
      "Downloading and preparing dataset parquet/default to /nfs/home/kabenamualus/.cache/huggingface/datasets/parquet/default-b857ef88461ed576/0.0.0/14a00e99c0d15a23649d0db8944380ac81082d4b021f398733dd84f3a6c569a7...\n"
     ]
    },
    {
     "data": {
      "application/vnd.jupyter.widget-view+json": {
       "model_id": "c0414f8b2d214d3084e0a4e95378c7b3",
       "version_major": 2,
       "version_minor": 0
      },
      "text/plain": [
       "Downloading data files:   0%|          | 0/1 [00:00<?, ?it/s]"
      ]
     },
     "metadata": {},
     "output_type": "display_data"
    },
    {
     "data": {
      "application/vnd.jupyter.widget-view+json": {
       "model_id": "6d0586a7f5734b558f7019eafd62201b",
       "version_major": 2,
       "version_minor": 0
      },
      "text/plain": [
       "Extracting data files:   0%|          | 0/1 [00:00<?, ?it/s]"
      ]
     },
     "metadata": {},
     "output_type": "display_data"
    },
    {
     "data": {
      "application/vnd.jupyter.widget-view+json": {
       "model_id": "30d5f05a4167420da7c91dec42049c02",
       "version_major": 2,
       "version_minor": 0
      },
      "text/plain": [
       "Generating train split: 0 examples [00:00, ? examples/s]"
      ]
     },
     "metadata": {},
     "output_type": "display_data"
    },
    {
     "name": "stdout",
     "output_type": "stream",
     "text": [
      "Dataset parquet downloaded and prepared to /nfs/home/kabenamualus/.cache/huggingface/datasets/parquet/default-b857ef88461ed576/0.0.0/14a00e99c0d15a23649d0db8944380ac81082d4b021f398733dd84f3a6c569a7. Subsequent calls will reuse this data.\n",
      "Downloading and preparing dataset parquet/default to /nfs/home/kabenamualus/.cache/huggingface/datasets/parquet/default-318231ee7e7f0285/0.0.0/14a00e99c0d15a23649d0db8944380ac81082d4b021f398733dd84f3a6c569a7...\n"
     ]
    },
    {
     "data": {
      "application/vnd.jupyter.widget-view+json": {
       "model_id": "923d518f441948dd8cd3908ca364e424",
       "version_major": 2,
       "version_minor": 0
      },
      "text/plain": [
       "Downloading data files:   0%|          | 0/1 [00:00<?, ?it/s]"
      ]
     },
     "metadata": {},
     "output_type": "display_data"
    },
    {
     "data": {
      "application/vnd.jupyter.widget-view+json": {
       "model_id": "facf0f592a184a2db99fca1f1529ad07",
       "version_major": 2,
       "version_minor": 0
      },
      "text/plain": [
       "Extracting data files:   0%|          | 0/1 [00:00<?, ?it/s]"
      ]
     },
     "metadata": {},
     "output_type": "display_data"
    },
    {
     "data": {
      "application/vnd.jupyter.widget-view+json": {
       "model_id": "b5fa4d45ad804d3a933fe076fe9b5d7a",
       "version_major": 2,
       "version_minor": 0
      },
      "text/plain": [
       "Generating train split: 0 examples [00:00, ? examples/s]"
      ]
     },
     "metadata": {},
     "output_type": "display_data"
    },
    {
     "name": "stdout",
     "output_type": "stream",
     "text": [
      "Dataset parquet downloaded and prepared to /nfs/home/kabenamualus/.cache/huggingface/datasets/parquet/default-318231ee7e7f0285/0.0.0/14a00e99c0d15a23649d0db8944380ac81082d4b021f398733dd84f3a6c569a7. Subsequent calls will reuse this data.\n",
      "Downloading and preparing dataset parquet/default to /nfs/home/kabenamualus/.cache/huggingface/datasets/parquet/default-197347fb5e0e23fc/0.0.0/14a00e99c0d15a23649d0db8944380ac81082d4b021f398733dd84f3a6c569a7...\n"
     ]
    },
    {
     "data": {
      "application/vnd.jupyter.widget-view+json": {
       "model_id": "7d2aec288dda45a1b9d6e35770fb94ce",
       "version_major": 2,
       "version_minor": 0
      },
      "text/plain": [
       "Downloading data files:   0%|          | 0/1 [00:00<?, ?it/s]"
      ]
     },
     "metadata": {},
     "output_type": "display_data"
    },
    {
     "data": {
      "application/vnd.jupyter.widget-view+json": {
       "model_id": "100b256b74014cdb9f4f3c00c06f67fa",
       "version_major": 2,
       "version_minor": 0
      },
      "text/plain": [
       "Extracting data files:   0%|          | 0/1 [00:00<?, ?it/s]"
      ]
     },
     "metadata": {},
     "output_type": "display_data"
    },
    {
     "data": {
      "application/vnd.jupyter.widget-view+json": {
       "model_id": "10719ce80d9a47739478cc3c15b13a92",
       "version_major": 2,
       "version_minor": 0
      },
      "text/plain": [
       "Generating train split: 0 examples [00:00, ? examples/s]"
      ]
     },
     "metadata": {},
     "output_type": "display_data"
    },
    {
     "name": "stdout",
     "output_type": "stream",
     "text": [
      "Dataset parquet downloaded and prepared to /nfs/home/kabenamualus/.cache/huggingface/datasets/parquet/default-197347fb5e0e23fc/0.0.0/14a00e99c0d15a23649d0db8944380ac81082d4b021f398733dd84f3a6c569a7. Subsequent calls will reuse this data.\n",
      "Downloading and preparing dataset parquet/default to /nfs/home/kabenamualus/.cache/huggingface/datasets/parquet/default-23cff2a2f7803abc/0.0.0/14a00e99c0d15a23649d0db8944380ac81082d4b021f398733dd84f3a6c569a7...\n"
     ]
    },
    {
     "data": {
      "application/vnd.jupyter.widget-view+json": {
       "model_id": "d5f092ac1eb141549b88fc9012dd8dc5",
       "version_major": 2,
       "version_minor": 0
      },
      "text/plain": [
       "Downloading data files:   0%|          | 0/1 [00:00<?, ?it/s]"
      ]
     },
     "metadata": {},
     "output_type": "display_data"
    },
    {
     "data": {
      "application/vnd.jupyter.widget-view+json": {
       "model_id": "9db58c174f57499cb6392f7d2413512c",
       "version_major": 2,
       "version_minor": 0
      },
      "text/plain": [
       "Extracting data files:   0%|          | 0/1 [00:00<?, ?it/s]"
      ]
     },
     "metadata": {},
     "output_type": "display_data"
    },
    {
     "data": {
      "application/vnd.jupyter.widget-view+json": {
       "model_id": "0b4fe1d4a9da43898fad1adae08b2197",
       "version_major": 2,
       "version_minor": 0
      },
      "text/plain": [
       "Generating train split: 0 examples [00:00, ? examples/s]"
      ]
     },
     "metadata": {},
     "output_type": "display_data"
    },
    {
     "name": "stdout",
     "output_type": "stream",
     "text": [
      "Dataset parquet downloaded and prepared to /nfs/home/kabenamualus/.cache/huggingface/datasets/parquet/default-23cff2a2f7803abc/0.0.0/14a00e99c0d15a23649d0db8944380ac81082d4b021f398733dd84f3a6c569a7. Subsequent calls will reuse this data.\n",
      "Downloading and preparing dataset parquet/default to /nfs/home/kabenamualus/.cache/huggingface/datasets/parquet/default-bcc178c719799679/0.0.0/14a00e99c0d15a23649d0db8944380ac81082d4b021f398733dd84f3a6c569a7...\n"
     ]
    },
    {
     "data": {
      "application/vnd.jupyter.widget-view+json": {
       "model_id": "64c408c81f6e426b88ac6fb91a779970",
       "version_major": 2,
       "version_minor": 0
      },
      "text/plain": [
       "Downloading data files:   0%|          | 0/1 [00:00<?, ?it/s]"
      ]
     },
     "metadata": {},
     "output_type": "display_data"
    },
    {
     "data": {
      "application/vnd.jupyter.widget-view+json": {
       "model_id": "04feaf9ef14e490ba542bda8f345a688",
       "version_major": 2,
       "version_minor": 0
      },
      "text/plain": [
       "Extracting data files:   0%|          | 0/1 [00:00<?, ?it/s]"
      ]
     },
     "metadata": {},
     "output_type": "display_data"
    },
    {
     "data": {
      "application/vnd.jupyter.widget-view+json": {
       "model_id": "e56a1c5dfb3e42e68998abfc4544f6ed",
       "version_major": 2,
       "version_minor": 0
      },
      "text/plain": [
       "Generating train split: 0 examples [00:00, ? examples/s]"
      ]
     },
     "metadata": {},
     "output_type": "display_data"
    },
    {
     "name": "stdout",
     "output_type": "stream",
     "text": [
      "Dataset parquet downloaded and prepared to /nfs/home/kabenamualus/.cache/huggingface/datasets/parquet/default-bcc178c719799679/0.0.0/14a00e99c0d15a23649d0db8944380ac81082d4b021f398733dd84f3a6c569a7. Subsequent calls will reuse this data.\n",
      "DatasetDict({\n",
      "    fold1: DatasetDict({\n",
      "        train: Dataset({\n",
      "            features: ['id', 'prompt', 'answer', '__index_level_0__'],\n",
      "            num_rows: 12388\n",
      "        })\n",
      "        validation: Dataset({\n",
      "            features: ['id', 'prompt', 'answer', '__index_level_0__'],\n",
      "            num_rows: 1642\n",
      "        })\n",
      "        zeroshot: Dataset({\n",
      "            features: ['id', 'prompt', 'answer', '__index_level_0__'],\n",
      "            num_rows: 1200\n",
      "        })\n",
      "    })\n",
      "    fold2: DatasetDict({\n",
      "        train: Dataset({\n",
      "            features: ['id', 'prompt', 'answer', '__index_level_0__'],\n",
      "            num_rows: 12382\n",
      "        })\n",
      "        validation: Dataset({\n",
      "            features: ['id', 'prompt', 'answer', '__index_level_0__'],\n",
      "            num_rows: 1648\n",
      "        })\n",
      "    })\n",
      "})\n"
     ]
    },
    {
     "data": {
      "application/vnd.jupyter.widget-view+json": {
       "model_id": "06b98dc00c364c33b664520aa3c97730",
       "version_major": 2,
       "version_minor": 0
      },
      "text/plain": [
       "Saving the dataset (0/1 shards):   0%|          | 0/12388 [00:00<?, ? examples/s]"
      ]
     },
     "metadata": {},
     "output_type": "display_data"
    },
    {
     "data": {
      "application/vnd.jupyter.widget-view+json": {
       "model_id": "d3d091a818034c18a874367a61cac1e6",
       "version_major": 2,
       "version_minor": 0
      },
      "text/plain": [
       "Saving the dataset (0/1 shards):   0%|          | 0/1642 [00:00<?, ? examples/s]"
      ]
     },
     "metadata": {},
     "output_type": "display_data"
    },
    {
     "data": {
      "application/vnd.jupyter.widget-view+json": {
       "model_id": "686c7190853c448086d18dd525f3312a",
       "version_major": 2,
       "version_minor": 0
      },
      "text/plain": [
       "Saving the dataset (0/1 shards):   0%|          | 0/1200 [00:00<?, ? examples/s]"
      ]
     },
     "metadata": {},
     "output_type": "display_data"
    },
    {
     "data": {
      "application/vnd.jupyter.widget-view+json": {
       "model_id": "a1df0bb4029540b28f8ba6a47f5d7ae1",
       "version_major": 2,
       "version_minor": 0
      },
      "text/plain": [
       "Saving the dataset (0/1 shards):   0%|          | 0/12382 [00:00<?, ? examples/s]"
      ]
     },
     "metadata": {},
     "output_type": "display_data"
    },
    {
     "data": {
      "application/vnd.jupyter.widget-view+json": {
       "model_id": "7c66fc5582c545aba3b430fa1c0aa0af",
       "version_major": 2,
       "version_minor": 0
      },
      "text/plain": [
       "Saving the dataset (0/1 shards):   0%|          | 0/1648 [00:00<?, ? examples/s]"
      ]
     },
     "metadata": {},
     "output_type": "display_data"
    }
   ],
   "source": [
    "df_train_f1_squad_5 = create_pandas_dataset_from_pandas(df_train_f1,\n",
    "                                                        squad_5 = True,\n",
    "                                                        ) \n",
    "df_dev_f1_squad_5 = create_pandas_dataset_from_pandas(df_dev_f1,\n",
    "                                                        squad_5 = True,\n",
    "                                                        ) \n",
    "df_zeroshot_f1_squad_5 = create_pandas_dataset_from_pandas(df_zeroshot_f1,\n",
    "                                                        squad_5 = True,\n",
    "                                                        ) \n",
    "\n",
    "df_train_f2_squad_5 = create_pandas_dataset_from_pandas(df_train_f2,\n",
    "                                                        squad_5 = True,\n",
    "                                                        ) \n",
    "df_dev_f2_squad_5 = create_pandas_dataset_from_pandas(df_dev_f2,\n",
    "                                                        squad_5 = True,\n",
    "                                                        ) \n",
    "\n",
    "print(\"df_train_f1_squad_5 describe: \")\n",
    "display(df_train_f1_squad_5.describe())\n",
    "print(\"df_dev_f1_squad_5 describe: \")\n",
    "display(df_dev_f1_squad_5.describe())\n",
    "print(\"df_dev_f1_squad_5 describe: \")\n",
    "display(df_dev_f1_squad_5.describe())\n",
    "\n",
    "print(\"df_train_f2_squad_5 describe: \")\n",
    "display(df_train_f2_squad_5.describe())\n",
    "print(\"df_zeroshot_f1_squad_5 describe: \")\n",
    "display(df_zeroshot_f1_squad_5.describe())\n",
    "\n",
    "df_train_f1_squad_5.to_parquet('../data/df_train_tdms_augmented_summarized_with_id_f1_squad_5.parquet')\n",
    "df_dev_f1_squad_5.to_parquet('../data/df_dev_tdms_augmented_summarized_with_id_f1_squad_5.parquet')\n",
    "df_zeroshot_f1_squad_5.to_parquet('../data/df_zeroshot_tdms_augmented_summarized_with_id_f1_squad_5.parquet')\n",
    "\n",
    "df_train_f2_squad_5.to_parquet('../data/df_train_tdms_augmented_summarized_with_id_f2_squad_5.parquet')\n",
    "df_dev_f2_squad_5.to_parquet('../data/df_dev_tdms_augmented_summarized_with_id_f2_squad_5.parquet')\n",
    "\n",
    "dataset = DatasetDict({\n",
    "    'fold1': DatasetDict({\n",
    "        \"train\": Dataset.from_parquet('../data/df_train_tdms_augmented_summarized_with_id_f1_squad_5.parquet'),\n",
    "        \"validation\": Dataset.from_parquet('../data/df_dev_tdms_augmented_summarized_with_id_f1_squad_5.parquet'),\n",
    "        \"zeroshot\": Dataset.from_parquet('../data/df_zeroshot_tdms_augmented_summarized_with_id_f1_squad_5.parquet')\n",
    "    }),\n",
    "    'fold2': DatasetDict({\n",
    "        \"train\": Dataset.from_parquet('../data/df_train_tdms_augmented_summarized_with_id_f2_squad_5.parquet'),\n",
    "        \"validation\": Dataset.from_parquet('../data/df_dev_tdms_augmented_summarized_with_id_f2_squad_5.parquet')\n",
    "    })\n",
    "})\n",
    "\n",
    "print(dataset)\n",
    "\n",
    "dataset.save_to_disk(\"../data/LLLM_AUGMENTED_SUMMARIZED_WITH_ID_ZEROSHOT_TDMS_SQUAD_5\")"
   ]
  },
  {
   "cell_type": "code",
   "execution_count": 93,
   "metadata": {},
   "outputs": [
    {
     "name": "stderr",
     "output_type": "stream",
     "text": [
      "100%|██████████| 12388/12388 [00:17<00:00, 702.69it/s]\n",
      "100%|██████████| 1642/1642 [00:02<00:00, 792.03it/s]\n",
      "100%|██████████| 1200/1200 [00:01<00:00, 796.28it/s]\n",
      "100%|██████████| 12382/12382 [00:17<00:00, 701.40it/s]\n",
      "100%|██████████| 1648/1648 [00:02<00:00, 793.09it/s]\n"
     ]
    },
    {
     "name": "stdout",
     "output_type": "stream",
     "text": [
      "df_train_f1_squad_6 describe: \n"
     ]
    },
    {
     "data": {
      "text/html": [
       "<div>\n",
       "<style scoped>\n",
       "    .dataframe tbody tr th:only-of-type {\n",
       "        vertical-align: middle;\n",
       "    }\n",
       "\n",
       "    .dataframe tbody tr th {\n",
       "        vertical-align: top;\n",
       "    }\n",
       "\n",
       "    .dataframe thead th {\n",
       "        text-align: right;\n",
       "    }\n",
       "</style>\n",
       "<table border=\"1\" class=\"dataframe\">\n",
       "  <thead>\n",
       "    <tr style=\"text-align: right;\">\n",
       "      <th></th>\n",
       "      <th>id</th>\n",
       "      <th>prompt</th>\n",
       "      <th>answer</th>\n",
       "    </tr>\n",
       "  </thead>\n",
       "  <tbody>\n",
       "    <tr>\n",
       "      <th>count</th>\n",
       "      <td>12388</td>\n",
       "      <td>12388</td>\n",
       "      <td>12388</td>\n",
       "    </tr>\n",
       "    <tr>\n",
       "      <th>unique</th>\n",
       "      <td>12388</td>\n",
       "      <td>12312</td>\n",
       "      <td>7976</td>\n",
       "    </tr>\n",
       "    <tr>\n",
       "      <th>top</th>\n",
       "      <td>1707.03497v2.pdf</td>\n",
       "      <td>Title:\\t\\n\\nAbstract:\\t\\n\\n[image]\\n\\n\\nAnswer...</td>\n",
       "      <td>unanswerable</td>\n",
       "    </tr>\n",
       "    <tr>\n",
       "      <th>freq</th>\n",
       "      <td>1</td>\n",
       "      <td>20</td>\n",
       "      <td>4401</td>\n",
       "    </tr>\n",
       "  </tbody>\n",
       "</table>\n",
       "</div>"
      ],
      "text/plain": [
       "                      id                                             prompt  \\\n",
       "count              12388                                              12388   \n",
       "unique             12388                                              12312   \n",
       "top     1707.03497v2.pdf  Title:\\t\\n\\nAbstract:\\t\\n\\n[image]\\n\\n\\nAnswer...   \n",
       "freq                   1                                                 20   \n",
       "\n",
       "              answer  \n",
       "count          12388  \n",
       "unique          7976  \n",
       "top     unanswerable  \n",
       "freq            4401  "
      ]
     },
     "metadata": {},
     "output_type": "display_data"
    },
    {
     "name": "stdout",
     "output_type": "stream",
     "text": [
      "df_dev_f1_squad_6 describe: \n"
     ]
    },
    {
     "data": {
      "text/html": [
       "<div>\n",
       "<style scoped>\n",
       "    .dataframe tbody tr th:only-of-type {\n",
       "        vertical-align: middle;\n",
       "    }\n",
       "\n",
       "    .dataframe tbody tr th {\n",
       "        vertical-align: top;\n",
       "    }\n",
       "\n",
       "    .dataframe thead th {\n",
       "        text-align: right;\n",
       "    }\n",
       "</style>\n",
       "<table border=\"1\" class=\"dataframe\">\n",
       "  <thead>\n",
       "    <tr style=\"text-align: right;\">\n",
       "      <th></th>\n",
       "      <th>id</th>\n",
       "      <th>prompt</th>\n",
       "      <th>answer</th>\n",
       "    </tr>\n",
       "  </thead>\n",
       "  <tbody>\n",
       "    <tr>\n",
       "      <th>count</th>\n",
       "      <td>1642</td>\n",
       "      <td>1642</td>\n",
       "      <td>1642</td>\n",
       "    </tr>\n",
       "    <tr>\n",
       "      <th>unique</th>\n",
       "      <td>1642</td>\n",
       "      <td>1641</td>\n",
       "      <td>994</td>\n",
       "    </tr>\n",
       "    <tr>\n",
       "      <th>top</th>\n",
       "      <td>1810.02575v1.pdf</td>\n",
       "      <td>Title:\\tA Sample ACM SIG Proceedings Paper in ...</td>\n",
       "      <td>unanswerable</td>\n",
       "    </tr>\n",
       "    <tr>\n",
       "      <th>freq</th>\n",
       "      <td>1</td>\n",
       "      <td>2</td>\n",
       "      <td>648</td>\n",
       "    </tr>\n",
       "  </tbody>\n",
       "</table>\n",
       "</div>"
      ],
      "text/plain": [
       "                      id                                             prompt  \\\n",
       "count               1642                                               1642   \n",
       "unique              1642                                               1641   \n",
       "top     1810.02575v1.pdf  Title:\\tA Sample ACM SIG Proceedings Paper in ...   \n",
       "freq                   1                                                  2   \n",
       "\n",
       "              answer  \n",
       "count           1642  \n",
       "unique           994  \n",
       "top     unanswerable  \n",
       "freq             648  "
      ]
     },
     "metadata": {},
     "output_type": "display_data"
    },
    {
     "name": "stdout",
     "output_type": "stream",
     "text": [
      "df_dev_f1_squad_6 describe: \n"
     ]
    },
    {
     "data": {
      "text/html": [
       "<div>\n",
       "<style scoped>\n",
       "    .dataframe tbody tr th:only-of-type {\n",
       "        vertical-align: middle;\n",
       "    }\n",
       "\n",
       "    .dataframe tbody tr th {\n",
       "        vertical-align: top;\n",
       "    }\n",
       "\n",
       "    .dataframe thead th {\n",
       "        text-align: right;\n",
       "    }\n",
       "</style>\n",
       "<table border=\"1\" class=\"dataframe\">\n",
       "  <thead>\n",
       "    <tr style=\"text-align: right;\">\n",
       "      <th></th>\n",
       "      <th>id</th>\n",
       "      <th>prompt</th>\n",
       "      <th>answer</th>\n",
       "    </tr>\n",
       "  </thead>\n",
       "  <tbody>\n",
       "    <tr>\n",
       "      <th>count</th>\n",
       "      <td>1642</td>\n",
       "      <td>1642</td>\n",
       "      <td>1642</td>\n",
       "    </tr>\n",
       "    <tr>\n",
       "      <th>unique</th>\n",
       "      <td>1642</td>\n",
       "      <td>1641</td>\n",
       "      <td>994</td>\n",
       "    </tr>\n",
       "    <tr>\n",
       "      <th>top</th>\n",
       "      <td>1810.02575v1.pdf</td>\n",
       "      <td>Title:\\tA Sample ACM SIG Proceedings Paper in ...</td>\n",
       "      <td>unanswerable</td>\n",
       "    </tr>\n",
       "    <tr>\n",
       "      <th>freq</th>\n",
       "      <td>1</td>\n",
       "      <td>2</td>\n",
       "      <td>648</td>\n",
       "    </tr>\n",
       "  </tbody>\n",
       "</table>\n",
       "</div>"
      ],
      "text/plain": [
       "                      id                                             prompt  \\\n",
       "count               1642                                               1642   \n",
       "unique              1642                                               1641   \n",
       "top     1810.02575v1.pdf  Title:\\tA Sample ACM SIG Proceedings Paper in ...   \n",
       "freq                   1                                                  2   \n",
       "\n",
       "              answer  \n",
       "count           1642  \n",
       "unique           994  \n",
       "top     unanswerable  \n",
       "freq             648  "
      ]
     },
     "metadata": {},
     "output_type": "display_data"
    },
    {
     "name": "stdout",
     "output_type": "stream",
     "text": [
      "df_train_f2_squad_6 describe: \n"
     ]
    },
    {
     "data": {
      "text/html": [
       "<div>\n",
       "<style scoped>\n",
       "    .dataframe tbody tr th:only-of-type {\n",
       "        vertical-align: middle;\n",
       "    }\n",
       "\n",
       "    .dataframe tbody tr th {\n",
       "        vertical-align: top;\n",
       "    }\n",
       "\n",
       "    .dataframe thead th {\n",
       "        text-align: right;\n",
       "    }\n",
       "</style>\n",
       "<table border=\"1\" class=\"dataframe\">\n",
       "  <thead>\n",
       "    <tr style=\"text-align: right;\">\n",
       "      <th></th>\n",
       "      <th>id</th>\n",
       "      <th>prompt</th>\n",
       "      <th>answer</th>\n",
       "    </tr>\n",
       "  </thead>\n",
       "  <tbody>\n",
       "    <tr>\n",
       "      <th>count</th>\n",
       "      <td>12382</td>\n",
       "      <td>12382</td>\n",
       "      <td>12382</td>\n",
       "    </tr>\n",
       "    <tr>\n",
       "      <th>unique</th>\n",
       "      <td>12382</td>\n",
       "      <td>12311</td>\n",
       "      <td>7988</td>\n",
       "    </tr>\n",
       "    <tr>\n",
       "      <th>top</th>\n",
       "      <td>1707.03497v2.pdf</td>\n",
       "      <td>Title:\\t\\n\\nAbstract:\\t\\n\\n[image]\\n\\n\\nAnswer...</td>\n",
       "      <td>unanswerable</td>\n",
       "    </tr>\n",
       "    <tr>\n",
       "      <th>freq</th>\n",
       "      <td>1</td>\n",
       "      <td>20</td>\n",
       "      <td>4383</td>\n",
       "    </tr>\n",
       "  </tbody>\n",
       "</table>\n",
       "</div>"
      ],
      "text/plain": [
       "                      id                                             prompt  \\\n",
       "count              12382                                              12382   \n",
       "unique             12382                                              12311   \n",
       "top     1707.03497v2.pdf  Title:\\t\\n\\nAbstract:\\t\\n\\n[image]\\n\\n\\nAnswer...   \n",
       "freq                   1                                                 20   \n",
       "\n",
       "              answer  \n",
       "count          12382  \n",
       "unique          7988  \n",
       "top     unanswerable  \n",
       "freq            4383  "
      ]
     },
     "metadata": {},
     "output_type": "display_data"
    },
    {
     "name": "stdout",
     "output_type": "stream",
     "text": [
      "df_zeroshot_f1_squad_6 describe: \n"
     ]
    },
    {
     "data": {
      "text/html": [
       "<div>\n",
       "<style scoped>\n",
       "    .dataframe tbody tr th:only-of-type {\n",
       "        vertical-align: middle;\n",
       "    }\n",
       "\n",
       "    .dataframe tbody tr th {\n",
       "        vertical-align: top;\n",
       "    }\n",
       "\n",
       "    .dataframe thead th {\n",
       "        text-align: right;\n",
       "    }\n",
       "</style>\n",
       "<table border=\"1\" class=\"dataframe\">\n",
       "  <thead>\n",
       "    <tr style=\"text-align: right;\">\n",
       "      <th></th>\n",
       "      <th>id</th>\n",
       "      <th>prompt</th>\n",
       "      <th>answer</th>\n",
       "    </tr>\n",
       "  </thead>\n",
       "  <tbody>\n",
       "    <tr>\n",
       "      <th>count</th>\n",
       "      <td>1200</td>\n",
       "      <td>1200</td>\n",
       "      <td>1200</td>\n",
       "    </tr>\n",
       "    <tr>\n",
       "      <th>unique</th>\n",
       "      <td>1200</td>\n",
       "      <td>1197</td>\n",
       "      <td>653</td>\n",
       "    </tr>\n",
       "    <tr>\n",
       "      <th>top</th>\n",
       "      <td>2209.03182v1.pdf</td>\n",
       "      <td>Title:\\t\\n\\nAbstract:\\t\\n\\n[image]\\n\\n\\nAnswer...</td>\n",
       "      <td>unanswerable</td>\n",
       "    </tr>\n",
       "    <tr>\n",
       "      <th>freq</th>\n",
       "      <td>1</td>\n",
       "      <td>3</td>\n",
       "      <td>548</td>\n",
       "    </tr>\n",
       "  </tbody>\n",
       "</table>\n",
       "</div>"
      ],
      "text/plain": [
       "                      id                                             prompt  \\\n",
       "count               1200                                               1200   \n",
       "unique              1200                                               1197   \n",
       "top     2209.03182v1.pdf  Title:\\t\\n\\nAbstract:\\t\\n\\n[image]\\n\\n\\nAnswer...   \n",
       "freq                   1                                                  3   \n",
       "\n",
       "              answer  \n",
       "count           1200  \n",
       "unique           653  \n",
       "top     unanswerable  \n",
       "freq             548  "
      ]
     },
     "metadata": {},
     "output_type": "display_data"
    },
    {
     "name": "stdout",
     "output_type": "stream",
     "text": [
      "Downloading and preparing dataset parquet/default to /nfs/home/kabenamualus/.cache/huggingface/datasets/parquet/default-4983c89c5e4db66c/0.0.0/14a00e99c0d15a23649d0db8944380ac81082d4b021f398733dd84f3a6c569a7...\n"
     ]
    },
    {
     "data": {
      "application/vnd.jupyter.widget-view+json": {
       "model_id": "e30b176b68f54611b2e5d9f982a89bfd",
       "version_major": 2,
       "version_minor": 0
      },
      "text/plain": [
       "Downloading data files:   0%|          | 0/1 [00:00<?, ?it/s]"
      ]
     },
     "metadata": {},
     "output_type": "display_data"
    },
    {
     "data": {
      "application/vnd.jupyter.widget-view+json": {
       "model_id": "c584888c812b435397ca72857b5f302d",
       "version_major": 2,
       "version_minor": 0
      },
      "text/plain": [
       "Extracting data files:   0%|          | 0/1 [00:00<?, ?it/s]"
      ]
     },
     "metadata": {},
     "output_type": "display_data"
    },
    {
     "data": {
      "application/vnd.jupyter.widget-view+json": {
       "model_id": "7e524510a4d14b2d9787dee4a9142d65",
       "version_major": 2,
       "version_minor": 0
      },
      "text/plain": [
       "Generating train split: 0 examples [00:00, ? examples/s]"
      ]
     },
     "metadata": {},
     "output_type": "display_data"
    },
    {
     "name": "stdout",
     "output_type": "stream",
     "text": [
      "Dataset parquet downloaded and prepared to /nfs/home/kabenamualus/.cache/huggingface/datasets/parquet/default-4983c89c5e4db66c/0.0.0/14a00e99c0d15a23649d0db8944380ac81082d4b021f398733dd84f3a6c569a7. Subsequent calls will reuse this data.\n",
      "Downloading and preparing dataset parquet/default to /nfs/home/kabenamualus/.cache/huggingface/datasets/parquet/default-019445dea7892eed/0.0.0/14a00e99c0d15a23649d0db8944380ac81082d4b021f398733dd84f3a6c569a7...\n"
     ]
    },
    {
     "data": {
      "application/vnd.jupyter.widget-view+json": {
       "model_id": "4954a34912d649209b28995890d5c658",
       "version_major": 2,
       "version_minor": 0
      },
      "text/plain": [
       "Downloading data files:   0%|          | 0/1 [00:00<?, ?it/s]"
      ]
     },
     "metadata": {},
     "output_type": "display_data"
    },
    {
     "data": {
      "application/vnd.jupyter.widget-view+json": {
       "model_id": "0e79ad5fbad044c5b310fa21afd9ac0d",
       "version_major": 2,
       "version_minor": 0
      },
      "text/plain": [
       "Extracting data files:   0%|          | 0/1 [00:00<?, ?it/s]"
      ]
     },
     "metadata": {},
     "output_type": "display_data"
    },
    {
     "data": {
      "application/vnd.jupyter.widget-view+json": {
       "model_id": "a5869ca9120045b7a894437fd56bf518",
       "version_major": 2,
       "version_minor": 0
      },
      "text/plain": [
       "Generating train split: 0 examples [00:00, ? examples/s]"
      ]
     },
     "metadata": {},
     "output_type": "display_data"
    },
    {
     "name": "stdout",
     "output_type": "stream",
     "text": [
      "Dataset parquet downloaded and prepared to /nfs/home/kabenamualus/.cache/huggingface/datasets/parquet/default-019445dea7892eed/0.0.0/14a00e99c0d15a23649d0db8944380ac81082d4b021f398733dd84f3a6c569a7. Subsequent calls will reuse this data.\n",
      "Downloading and preparing dataset parquet/default to /nfs/home/kabenamualus/.cache/huggingface/datasets/parquet/default-6c95b9c8f02b63aa/0.0.0/14a00e99c0d15a23649d0db8944380ac81082d4b021f398733dd84f3a6c569a7...\n"
     ]
    },
    {
     "data": {
      "application/vnd.jupyter.widget-view+json": {
       "model_id": "ce57318530584469bbdb58a526e76697",
       "version_major": 2,
       "version_minor": 0
      },
      "text/plain": [
       "Downloading data files:   0%|          | 0/1 [00:00<?, ?it/s]"
      ]
     },
     "metadata": {},
     "output_type": "display_data"
    },
    {
     "data": {
      "application/vnd.jupyter.widget-view+json": {
       "model_id": "445d295136eb47caa003ab1d5a0e7e6d",
       "version_major": 2,
       "version_minor": 0
      },
      "text/plain": [
       "Extracting data files:   0%|          | 0/1 [00:00<?, ?it/s]"
      ]
     },
     "metadata": {},
     "output_type": "display_data"
    },
    {
     "data": {
      "application/vnd.jupyter.widget-view+json": {
       "model_id": "df15f73f57c7465285a8430b3a9a1667",
       "version_major": 2,
       "version_minor": 0
      },
      "text/plain": [
       "Generating train split: 0 examples [00:00, ? examples/s]"
      ]
     },
     "metadata": {},
     "output_type": "display_data"
    },
    {
     "name": "stdout",
     "output_type": "stream",
     "text": [
      "Dataset parquet downloaded and prepared to /nfs/home/kabenamualus/.cache/huggingface/datasets/parquet/default-6c95b9c8f02b63aa/0.0.0/14a00e99c0d15a23649d0db8944380ac81082d4b021f398733dd84f3a6c569a7. Subsequent calls will reuse this data.\n",
      "Downloading and preparing dataset parquet/default to /nfs/home/kabenamualus/.cache/huggingface/datasets/parquet/default-3d5d10d615a4d93b/0.0.0/14a00e99c0d15a23649d0db8944380ac81082d4b021f398733dd84f3a6c569a7...\n"
     ]
    },
    {
     "data": {
      "application/vnd.jupyter.widget-view+json": {
       "model_id": "7a56c5b1aba94042a246326d06b4a48c",
       "version_major": 2,
       "version_minor": 0
      },
      "text/plain": [
       "Downloading data files:   0%|          | 0/1 [00:00<?, ?it/s]"
      ]
     },
     "metadata": {},
     "output_type": "display_data"
    },
    {
     "data": {
      "application/vnd.jupyter.widget-view+json": {
       "model_id": "d41e166fd3314591b70010c51a950dc5",
       "version_major": 2,
       "version_minor": 0
      },
      "text/plain": [
       "Extracting data files:   0%|          | 0/1 [00:00<?, ?it/s]"
      ]
     },
     "metadata": {},
     "output_type": "display_data"
    },
    {
     "data": {
      "application/vnd.jupyter.widget-view+json": {
       "model_id": "40f4c202e8a8474d92280303963bb975",
       "version_major": 2,
       "version_minor": 0
      },
      "text/plain": [
       "Generating train split: 0 examples [00:00, ? examples/s]"
      ]
     },
     "metadata": {},
     "output_type": "display_data"
    },
    {
     "name": "stdout",
     "output_type": "stream",
     "text": [
      "Dataset parquet downloaded and prepared to /nfs/home/kabenamualus/.cache/huggingface/datasets/parquet/default-3d5d10d615a4d93b/0.0.0/14a00e99c0d15a23649d0db8944380ac81082d4b021f398733dd84f3a6c569a7. Subsequent calls will reuse this data.\n",
      "Downloading and preparing dataset parquet/default to /nfs/home/kabenamualus/.cache/huggingface/datasets/parquet/default-014048db185496c6/0.0.0/14a00e99c0d15a23649d0db8944380ac81082d4b021f398733dd84f3a6c569a7...\n"
     ]
    },
    {
     "data": {
      "application/vnd.jupyter.widget-view+json": {
       "model_id": "f3cdc1cd86a5440889b468b10fb87c5b",
       "version_major": 2,
       "version_minor": 0
      },
      "text/plain": [
       "Downloading data files:   0%|          | 0/1 [00:00<?, ?it/s]"
      ]
     },
     "metadata": {},
     "output_type": "display_data"
    },
    {
     "data": {
      "application/vnd.jupyter.widget-view+json": {
       "model_id": "9b6fb69fb5b046d4afb70e59d060abfd",
       "version_major": 2,
       "version_minor": 0
      },
      "text/plain": [
       "Extracting data files:   0%|          | 0/1 [00:00<?, ?it/s]"
      ]
     },
     "metadata": {},
     "output_type": "display_data"
    },
    {
     "data": {
      "application/vnd.jupyter.widget-view+json": {
       "model_id": "3236829f99b94adc8ba8e8638ac3f5d0",
       "version_major": 2,
       "version_minor": 0
      },
      "text/plain": [
       "Generating train split: 0 examples [00:00, ? examples/s]"
      ]
     },
     "metadata": {},
     "output_type": "display_data"
    },
    {
     "name": "stdout",
     "output_type": "stream",
     "text": [
      "Dataset parquet downloaded and prepared to /nfs/home/kabenamualus/.cache/huggingface/datasets/parquet/default-014048db185496c6/0.0.0/14a00e99c0d15a23649d0db8944380ac81082d4b021f398733dd84f3a6c569a7. Subsequent calls will reuse this data.\n",
      "DatasetDict({\n",
      "    fold1: DatasetDict({\n",
      "        train: Dataset({\n",
      "            features: ['id', 'prompt', 'answer', '__index_level_0__'],\n",
      "            num_rows: 12388\n",
      "        })\n",
      "        validation: Dataset({\n",
      "            features: ['id', 'prompt', 'answer', '__index_level_0__'],\n",
      "            num_rows: 1642\n",
      "        })\n",
      "        zeroshot: Dataset({\n",
      "            features: ['id', 'prompt', 'answer', '__index_level_0__'],\n",
      "            num_rows: 1200\n",
      "        })\n",
      "    })\n",
      "    fold2: DatasetDict({\n",
      "        train: Dataset({\n",
      "            features: ['id', 'prompt', 'answer', '__index_level_0__'],\n",
      "            num_rows: 12382\n",
      "        })\n",
      "        validation: Dataset({\n",
      "            features: ['id', 'prompt', 'answer', '__index_level_0__'],\n",
      "            num_rows: 1648\n",
      "        })\n",
      "    })\n",
      "})\n"
     ]
    },
    {
     "data": {
      "application/vnd.jupyter.widget-view+json": {
       "model_id": "14c06a08afff442492ccea7ec3f8ce24",
       "version_major": 2,
       "version_minor": 0
      },
      "text/plain": [
       "Saving the dataset (0/1 shards):   0%|          | 0/12388 [00:00<?, ? examples/s]"
      ]
     },
     "metadata": {},
     "output_type": "display_data"
    },
    {
     "data": {
      "application/vnd.jupyter.widget-view+json": {
       "model_id": "36b0c52d77954123bf283a16b832a5ee",
       "version_major": 2,
       "version_minor": 0
      },
      "text/plain": [
       "Saving the dataset (0/1 shards):   0%|          | 0/1642 [00:00<?, ? examples/s]"
      ]
     },
     "metadata": {},
     "output_type": "display_data"
    },
    {
     "data": {
      "application/vnd.jupyter.widget-view+json": {
       "model_id": "9efc51e60c3a4e31b43a214eda3138c1",
       "version_major": 2,
       "version_minor": 0
      },
      "text/plain": [
       "Saving the dataset (0/1 shards):   0%|          | 0/1200 [00:00<?, ? examples/s]"
      ]
     },
     "metadata": {},
     "output_type": "display_data"
    },
    {
     "data": {
      "application/vnd.jupyter.widget-view+json": {
       "model_id": "0a95042deff84975b684c7adc37db100",
       "version_major": 2,
       "version_minor": 0
      },
      "text/plain": [
       "Saving the dataset (0/1 shards):   0%|          | 0/12382 [00:00<?, ? examples/s]"
      ]
     },
     "metadata": {},
     "output_type": "display_data"
    },
    {
     "data": {
      "application/vnd.jupyter.widget-view+json": {
       "model_id": "5f4377279b5645d0aa17749999f84518",
       "version_major": 2,
       "version_minor": 0
      },
      "text/plain": [
       "Saving the dataset (0/1 shards):   0%|          | 0/1648 [00:00<?, ? examples/s]"
      ]
     },
     "metadata": {},
     "output_type": "display_data"
    }
   ],
   "source": [
    "df_train_f1_squad_6 = create_pandas_dataset_from_pandas(df_train_f1,\n",
    "                                                        squad_6 = True,\n",
    "                                                        ) \n",
    "df_dev_f1_squad_6 = create_pandas_dataset_from_pandas(df_dev_f1,\n",
    "                                                        squad_6 = True,\n",
    "                                                        ) \n",
    "df_zeroshot_f1_squad_6 = create_pandas_dataset_from_pandas(df_zeroshot_f1,\n",
    "                                                        squad_6 = True,\n",
    "                                                        ) \n",
    "\n",
    "df_train_f2_squad_6 = create_pandas_dataset_from_pandas(df_train_f2,\n",
    "                                                        squad_6 = True,\n",
    "                                                        ) \n",
    "df_dev_f2_squad_6 = create_pandas_dataset_from_pandas(df_dev_f2,\n",
    "                                                        squad_6 = True,\n",
    "                                                        ) \n",
    "\n",
    "print(\"df_train_f1_squad_6 describe: \")\n",
    "display(df_train_f1_squad_6.describe())\n",
    "print(\"df_dev_f1_squad_6 describe: \")\n",
    "display(df_dev_f1_squad_6.describe())\n",
    "print(\"df_dev_f1_squad_6 describe: \")\n",
    "display(df_dev_f1_squad_6.describe())\n",
    "\n",
    "print(\"df_train_f2_squad_6 describe: \")\n",
    "display(df_train_f2_squad_6.describe())\n",
    "print(\"df_zeroshot_f1_squad_6 describe: \")\n",
    "display(df_zeroshot_f1_squad_6.describe())\n",
    "\n",
    "df_train_f1_squad_6.to_parquet('../data/df_train_tdms_augmented_summarized_with_id_f1_squad_6.parquet')\n",
    "df_dev_f1_squad_6.to_parquet('../data/df_dev_tdms_augmented_summarized_with_id_f1_squad_6.parquet')\n",
    "df_zeroshot_f1_squad_6.to_parquet('../data/df_zeroshot_tdms_augmented_summarized_with_id_f1_squad_6.parquet')\n",
    "\n",
    "df_train_f2_squad_6.to_parquet('../data/df_train_tdms_augmented_summarized_with_id_f2_squad_6.parquet')\n",
    "df_dev_f2_squad_6.to_parquet('../data/df_dev_tdms_augmented_summarized_with_id_f2_squad_6.parquet')\n",
    "\n",
    "dataset = DatasetDict({\n",
    "    'fold1': DatasetDict({\n",
    "        \"train\": Dataset.from_parquet('../data/df_train_tdms_augmented_summarized_with_id_f1_squad_6.parquet'),\n",
    "        \"validation\": Dataset.from_parquet('../data/df_dev_tdms_augmented_summarized_with_id_f1_squad_6.parquet'),\n",
    "        \"zeroshot\": Dataset.from_parquet('../data/df_zeroshot_tdms_augmented_summarized_with_id_f1_squad_6.parquet')\n",
    "    }),\n",
    "    'fold2': DatasetDict({\n",
    "        \"train\": Dataset.from_parquet('../data/df_train_tdms_augmented_summarized_with_id_f2_squad_6.parquet'),\n",
    "        \"validation\": Dataset.from_parquet('../data/df_dev_tdms_augmented_summarized_with_id_f2_squad_6.parquet')\n",
    "    })\n",
    "})\n",
    "\n",
    "print(dataset)\n",
    "\n",
    "dataset.save_to_disk(\"../data/LLLM_AUGMENTED_SUMMARIZED_WITH_ID_ZEROSHOT_TDMS_SQUAD_6\")"
   ]
  },
  {
   "cell_type": "code",
   "execution_count": 94,
   "metadata": {},
   "outputs": [
    {
     "name": "stderr",
     "output_type": "stream",
     "text": [
      "  8%|▊         | 1050/12388 [00:01<00:14, 786.27it/s]"
     ]
    },
    {
     "name": "stderr",
     "output_type": "stream",
     "text": [
      "100%|██████████| 12388/12388 [00:17<00:00, 702.76it/s]\n",
      "100%|██████████| 1642/1642 [00:02<00:00, 792.12it/s]\n",
      "100%|██████████| 1200/1200 [00:01<00:00, 794.69it/s]\n",
      "100%|██████████| 12382/12382 [00:17<00:00, 701.58it/s]\n",
      "100%|██████████| 1648/1648 [00:02<00:00, 793.40it/s]\n"
     ]
    },
    {
     "name": "stdout",
     "output_type": "stream",
     "text": [
      "df_train_f1_squad_7 describe: \n"
     ]
    },
    {
     "data": {
      "text/html": [
       "<div>\n",
       "<style scoped>\n",
       "    .dataframe tbody tr th:only-of-type {\n",
       "        vertical-align: middle;\n",
       "    }\n",
       "\n",
       "    .dataframe tbody tr th {\n",
       "        vertical-align: top;\n",
       "    }\n",
       "\n",
       "    .dataframe thead th {\n",
       "        text-align: right;\n",
       "    }\n",
       "</style>\n",
       "<table border=\"1\" class=\"dataframe\">\n",
       "  <thead>\n",
       "    <tr style=\"text-align: right;\">\n",
       "      <th></th>\n",
       "      <th>id</th>\n",
       "      <th>prompt</th>\n",
       "      <th>answer</th>\n",
       "    </tr>\n",
       "  </thead>\n",
       "  <tbody>\n",
       "    <tr>\n",
       "      <th>count</th>\n",
       "      <td>12388</td>\n",
       "      <td>12388</td>\n",
       "      <td>12388</td>\n",
       "    </tr>\n",
       "    <tr>\n",
       "      <th>unique</th>\n",
       "      <td>12388</td>\n",
       "      <td>12312</td>\n",
       "      <td>7976</td>\n",
       "    </tr>\n",
       "    <tr>\n",
       "      <th>top</th>\n",
       "      <td>1707.03497v2.pdf</td>\n",
       "      <td>Read this: Title:\\t\\n\\nAbstract:\\t\\n\\n[image]\\...</td>\n",
       "      <td>unanswerable</td>\n",
       "    </tr>\n",
       "    <tr>\n",
       "      <th>freq</th>\n",
       "      <td>1</td>\n",
       "      <td>20</td>\n",
       "      <td>4401</td>\n",
       "    </tr>\n",
       "  </tbody>\n",
       "</table>\n",
       "</div>"
      ],
      "text/plain": [
       "                      id                                             prompt  \\\n",
       "count              12388                                              12388   \n",
       "unique             12388                                              12312   \n",
       "top     1707.03497v2.pdf  Read this: Title:\\t\\n\\nAbstract:\\t\\n\\n[image]\\...   \n",
       "freq                   1                                                 20   \n",
       "\n",
       "              answer  \n",
       "count          12388  \n",
       "unique          7976  \n",
       "top     unanswerable  \n",
       "freq            4401  "
      ]
     },
     "metadata": {},
     "output_type": "display_data"
    },
    {
     "name": "stdout",
     "output_type": "stream",
     "text": [
      "df_dev_f1_squad_7 describe: \n"
     ]
    },
    {
     "data": {
      "text/html": [
       "<div>\n",
       "<style scoped>\n",
       "    .dataframe tbody tr th:only-of-type {\n",
       "        vertical-align: middle;\n",
       "    }\n",
       "\n",
       "    .dataframe tbody tr th {\n",
       "        vertical-align: top;\n",
       "    }\n",
       "\n",
       "    .dataframe thead th {\n",
       "        text-align: right;\n",
       "    }\n",
       "</style>\n",
       "<table border=\"1\" class=\"dataframe\">\n",
       "  <thead>\n",
       "    <tr style=\"text-align: right;\">\n",
       "      <th></th>\n",
       "      <th>id</th>\n",
       "      <th>prompt</th>\n",
       "      <th>answer</th>\n",
       "    </tr>\n",
       "  </thead>\n",
       "  <tbody>\n",
       "    <tr>\n",
       "      <th>count</th>\n",
       "      <td>1642</td>\n",
       "      <td>1642</td>\n",
       "      <td>1642</td>\n",
       "    </tr>\n",
       "    <tr>\n",
       "      <th>unique</th>\n",
       "      <td>1642</td>\n",
       "      <td>1641</td>\n",
       "      <td>994</td>\n",
       "    </tr>\n",
       "    <tr>\n",
       "      <th>top</th>\n",
       "      <td>1810.02575v1.pdf</td>\n",
       "      <td>Read this: Title:\\tA Sample ACM SIG Proceeding...</td>\n",
       "      <td>unanswerable</td>\n",
       "    </tr>\n",
       "    <tr>\n",
       "      <th>freq</th>\n",
       "      <td>1</td>\n",
       "      <td>2</td>\n",
       "      <td>648</td>\n",
       "    </tr>\n",
       "  </tbody>\n",
       "</table>\n",
       "</div>"
      ],
      "text/plain": [
       "                      id                                             prompt  \\\n",
       "count               1642                                               1642   \n",
       "unique              1642                                               1641   \n",
       "top     1810.02575v1.pdf  Read this: Title:\\tA Sample ACM SIG Proceeding...   \n",
       "freq                   1                                                  2   \n",
       "\n",
       "              answer  \n",
       "count           1642  \n",
       "unique           994  \n",
       "top     unanswerable  \n",
       "freq             648  "
      ]
     },
     "metadata": {},
     "output_type": "display_data"
    },
    {
     "name": "stdout",
     "output_type": "stream",
     "text": [
      "df_dev_f1_squad_7 describe: \n"
     ]
    },
    {
     "data": {
      "text/html": [
       "<div>\n",
       "<style scoped>\n",
       "    .dataframe tbody tr th:only-of-type {\n",
       "        vertical-align: middle;\n",
       "    }\n",
       "\n",
       "    .dataframe tbody tr th {\n",
       "        vertical-align: top;\n",
       "    }\n",
       "\n",
       "    .dataframe thead th {\n",
       "        text-align: right;\n",
       "    }\n",
       "</style>\n",
       "<table border=\"1\" class=\"dataframe\">\n",
       "  <thead>\n",
       "    <tr style=\"text-align: right;\">\n",
       "      <th></th>\n",
       "      <th>id</th>\n",
       "      <th>prompt</th>\n",
       "      <th>answer</th>\n",
       "    </tr>\n",
       "  </thead>\n",
       "  <tbody>\n",
       "    <tr>\n",
       "      <th>count</th>\n",
       "      <td>1642</td>\n",
       "      <td>1642</td>\n",
       "      <td>1642</td>\n",
       "    </tr>\n",
       "    <tr>\n",
       "      <th>unique</th>\n",
       "      <td>1642</td>\n",
       "      <td>1641</td>\n",
       "      <td>994</td>\n",
       "    </tr>\n",
       "    <tr>\n",
       "      <th>top</th>\n",
       "      <td>1810.02575v1.pdf</td>\n",
       "      <td>Read this: Title:\\tA Sample ACM SIG Proceeding...</td>\n",
       "      <td>unanswerable</td>\n",
       "    </tr>\n",
       "    <tr>\n",
       "      <th>freq</th>\n",
       "      <td>1</td>\n",
       "      <td>2</td>\n",
       "      <td>648</td>\n",
       "    </tr>\n",
       "  </tbody>\n",
       "</table>\n",
       "</div>"
      ],
      "text/plain": [
       "                      id                                             prompt  \\\n",
       "count               1642                                               1642   \n",
       "unique              1642                                               1641   \n",
       "top     1810.02575v1.pdf  Read this: Title:\\tA Sample ACM SIG Proceeding...   \n",
       "freq                   1                                                  2   \n",
       "\n",
       "              answer  \n",
       "count           1642  \n",
       "unique           994  \n",
       "top     unanswerable  \n",
       "freq             648  "
      ]
     },
     "metadata": {},
     "output_type": "display_data"
    },
    {
     "name": "stdout",
     "output_type": "stream",
     "text": [
      "df_train_f2_squad_7 describe: \n"
     ]
    },
    {
     "data": {
      "text/html": [
       "<div>\n",
       "<style scoped>\n",
       "    .dataframe tbody tr th:only-of-type {\n",
       "        vertical-align: middle;\n",
       "    }\n",
       "\n",
       "    .dataframe tbody tr th {\n",
       "        vertical-align: top;\n",
       "    }\n",
       "\n",
       "    .dataframe thead th {\n",
       "        text-align: right;\n",
       "    }\n",
       "</style>\n",
       "<table border=\"1\" class=\"dataframe\">\n",
       "  <thead>\n",
       "    <tr style=\"text-align: right;\">\n",
       "      <th></th>\n",
       "      <th>id</th>\n",
       "      <th>prompt</th>\n",
       "      <th>answer</th>\n",
       "    </tr>\n",
       "  </thead>\n",
       "  <tbody>\n",
       "    <tr>\n",
       "      <th>count</th>\n",
       "      <td>12382</td>\n",
       "      <td>12382</td>\n",
       "      <td>12382</td>\n",
       "    </tr>\n",
       "    <tr>\n",
       "      <th>unique</th>\n",
       "      <td>12382</td>\n",
       "      <td>12311</td>\n",
       "      <td>7988</td>\n",
       "    </tr>\n",
       "    <tr>\n",
       "      <th>top</th>\n",
       "      <td>1707.03497v2.pdf</td>\n",
       "      <td>Read this: Title:\\t\\n\\nAbstract:\\t\\n\\n[image]\\...</td>\n",
       "      <td>unanswerable</td>\n",
       "    </tr>\n",
       "    <tr>\n",
       "      <th>freq</th>\n",
       "      <td>1</td>\n",
       "      <td>20</td>\n",
       "      <td>4383</td>\n",
       "    </tr>\n",
       "  </tbody>\n",
       "</table>\n",
       "</div>"
      ],
      "text/plain": [
       "                      id                                             prompt  \\\n",
       "count              12382                                              12382   \n",
       "unique             12382                                              12311   \n",
       "top     1707.03497v2.pdf  Read this: Title:\\t\\n\\nAbstract:\\t\\n\\n[image]\\...   \n",
       "freq                   1                                                 20   \n",
       "\n",
       "              answer  \n",
       "count          12382  \n",
       "unique          7988  \n",
       "top     unanswerable  \n",
       "freq            4383  "
      ]
     },
     "metadata": {},
     "output_type": "display_data"
    },
    {
     "name": "stdout",
     "output_type": "stream",
     "text": [
      "df_zeroshot_f1_squad_7 describe: \n"
     ]
    },
    {
     "data": {
      "text/html": [
       "<div>\n",
       "<style scoped>\n",
       "    .dataframe tbody tr th:only-of-type {\n",
       "        vertical-align: middle;\n",
       "    }\n",
       "\n",
       "    .dataframe tbody tr th {\n",
       "        vertical-align: top;\n",
       "    }\n",
       "\n",
       "    .dataframe thead th {\n",
       "        text-align: right;\n",
       "    }\n",
       "</style>\n",
       "<table border=\"1\" class=\"dataframe\">\n",
       "  <thead>\n",
       "    <tr style=\"text-align: right;\">\n",
       "      <th></th>\n",
       "      <th>id</th>\n",
       "      <th>prompt</th>\n",
       "      <th>answer</th>\n",
       "    </tr>\n",
       "  </thead>\n",
       "  <tbody>\n",
       "    <tr>\n",
       "      <th>count</th>\n",
       "      <td>1200</td>\n",
       "      <td>1200</td>\n",
       "      <td>1200</td>\n",
       "    </tr>\n",
       "    <tr>\n",
       "      <th>unique</th>\n",
       "      <td>1200</td>\n",
       "      <td>1197</td>\n",
       "      <td>653</td>\n",
       "    </tr>\n",
       "    <tr>\n",
       "      <th>top</th>\n",
       "      <td>2209.03182v1.pdf</td>\n",
       "      <td>Read this: Title:\\t\\n\\nAbstract:\\t\\n\\n[image]\\...</td>\n",
       "      <td>unanswerable</td>\n",
       "    </tr>\n",
       "    <tr>\n",
       "      <th>freq</th>\n",
       "      <td>1</td>\n",
       "      <td>3</td>\n",
       "      <td>548</td>\n",
       "    </tr>\n",
       "  </tbody>\n",
       "</table>\n",
       "</div>"
      ],
      "text/plain": [
       "                      id                                             prompt  \\\n",
       "count               1200                                               1200   \n",
       "unique              1200                                               1197   \n",
       "top     2209.03182v1.pdf  Read this: Title:\\t\\n\\nAbstract:\\t\\n\\n[image]\\...   \n",
       "freq                   1                                                  3   \n",
       "\n",
       "              answer  \n",
       "count           1200  \n",
       "unique           653  \n",
       "top     unanswerable  \n",
       "freq             548  "
      ]
     },
     "metadata": {},
     "output_type": "display_data"
    },
    {
     "name": "stdout",
     "output_type": "stream",
     "text": [
      "Downloading and preparing dataset parquet/default to /nfs/home/kabenamualus/.cache/huggingface/datasets/parquet/default-dec483056c3f9249/0.0.0/14a00e99c0d15a23649d0db8944380ac81082d4b021f398733dd84f3a6c569a7...\n"
     ]
    },
    {
     "data": {
      "application/vnd.jupyter.widget-view+json": {
       "model_id": "19369f5f63d94dad976b19fd472ec47a",
       "version_major": 2,
       "version_minor": 0
      },
      "text/plain": [
       "Downloading data files:   0%|          | 0/1 [00:00<?, ?it/s]"
      ]
     },
     "metadata": {},
     "output_type": "display_data"
    },
    {
     "data": {
      "application/vnd.jupyter.widget-view+json": {
       "model_id": "1e74075ae8c64cf2a208982834bed3ff",
       "version_major": 2,
       "version_minor": 0
      },
      "text/plain": [
       "Extracting data files:   0%|          | 0/1 [00:00<?, ?it/s]"
      ]
     },
     "metadata": {},
     "output_type": "display_data"
    },
    {
     "data": {
      "application/vnd.jupyter.widget-view+json": {
       "model_id": "b869d3e86ae1484fb74879fd50046f3f",
       "version_major": 2,
       "version_minor": 0
      },
      "text/plain": [
       "Generating train split: 0 examples [00:00, ? examples/s]"
      ]
     },
     "metadata": {},
     "output_type": "display_data"
    },
    {
     "name": "stdout",
     "output_type": "stream",
     "text": [
      "Dataset parquet downloaded and prepared to /nfs/home/kabenamualus/.cache/huggingface/datasets/parquet/default-dec483056c3f9249/0.0.0/14a00e99c0d15a23649d0db8944380ac81082d4b021f398733dd84f3a6c569a7. Subsequent calls will reuse this data.\n",
      "Downloading and preparing dataset parquet/default to /nfs/home/kabenamualus/.cache/huggingface/datasets/parquet/default-44aaf699b5d106a5/0.0.0/14a00e99c0d15a23649d0db8944380ac81082d4b021f398733dd84f3a6c569a7...\n"
     ]
    },
    {
     "data": {
      "application/vnd.jupyter.widget-view+json": {
       "model_id": "4f27098b4d32479fb0484af2a50de057",
       "version_major": 2,
       "version_minor": 0
      },
      "text/plain": [
       "Downloading data files:   0%|          | 0/1 [00:00<?, ?it/s]"
      ]
     },
     "metadata": {},
     "output_type": "display_data"
    },
    {
     "data": {
      "application/vnd.jupyter.widget-view+json": {
       "model_id": "01d7547a0af042368bb17fc51cb0017f",
       "version_major": 2,
       "version_minor": 0
      },
      "text/plain": [
       "Extracting data files:   0%|          | 0/1 [00:00<?, ?it/s]"
      ]
     },
     "metadata": {},
     "output_type": "display_data"
    },
    {
     "data": {
      "application/vnd.jupyter.widget-view+json": {
       "model_id": "06d5f95cadb64b95a6f22f07343e47bc",
       "version_major": 2,
       "version_minor": 0
      },
      "text/plain": [
       "Generating train split: 0 examples [00:00, ? examples/s]"
      ]
     },
     "metadata": {},
     "output_type": "display_data"
    },
    {
     "name": "stdout",
     "output_type": "stream",
     "text": [
      "Dataset parquet downloaded and prepared to /nfs/home/kabenamualus/.cache/huggingface/datasets/parquet/default-44aaf699b5d106a5/0.0.0/14a00e99c0d15a23649d0db8944380ac81082d4b021f398733dd84f3a6c569a7. Subsequent calls will reuse this data.\n",
      "Downloading and preparing dataset parquet/default to /nfs/home/kabenamualus/.cache/huggingface/datasets/parquet/default-0fe75c188a3f72f1/0.0.0/14a00e99c0d15a23649d0db8944380ac81082d4b021f398733dd84f3a6c569a7...\n"
     ]
    },
    {
     "data": {
      "application/vnd.jupyter.widget-view+json": {
       "model_id": "4b933181ac3849aa994f84a8fab8d8cf",
       "version_major": 2,
       "version_minor": 0
      },
      "text/plain": [
       "Downloading data files:   0%|          | 0/1 [00:00<?, ?it/s]"
      ]
     },
     "metadata": {},
     "output_type": "display_data"
    },
    {
     "data": {
      "application/vnd.jupyter.widget-view+json": {
       "model_id": "b31445612abf40be843a987c05e199f4",
       "version_major": 2,
       "version_minor": 0
      },
      "text/plain": [
       "Extracting data files:   0%|          | 0/1 [00:00<?, ?it/s]"
      ]
     },
     "metadata": {},
     "output_type": "display_data"
    },
    {
     "data": {
      "application/vnd.jupyter.widget-view+json": {
       "model_id": "d99da6c2505e4e0a86ea557272bc4ca4",
       "version_major": 2,
       "version_minor": 0
      },
      "text/plain": [
       "Generating train split: 0 examples [00:00, ? examples/s]"
      ]
     },
     "metadata": {},
     "output_type": "display_data"
    },
    {
     "name": "stdout",
     "output_type": "stream",
     "text": [
      "Dataset parquet downloaded and prepared to /nfs/home/kabenamualus/.cache/huggingface/datasets/parquet/default-0fe75c188a3f72f1/0.0.0/14a00e99c0d15a23649d0db8944380ac81082d4b021f398733dd84f3a6c569a7. Subsequent calls will reuse this data.\n",
      "Downloading and preparing dataset parquet/default to /nfs/home/kabenamualus/.cache/huggingface/datasets/parquet/default-9766f0dc85ec529d/0.0.0/14a00e99c0d15a23649d0db8944380ac81082d4b021f398733dd84f3a6c569a7...\n"
     ]
    },
    {
     "data": {
      "application/vnd.jupyter.widget-view+json": {
       "model_id": "b5cd61506d9f489d8538c5c6fa5b8cd6",
       "version_major": 2,
       "version_minor": 0
      },
      "text/plain": [
       "Downloading data files:   0%|          | 0/1 [00:00<?, ?it/s]"
      ]
     },
     "metadata": {},
     "output_type": "display_data"
    },
    {
     "data": {
      "application/vnd.jupyter.widget-view+json": {
       "model_id": "0b5e6958748942dfbae6f42f7b441a50",
       "version_major": 2,
       "version_minor": 0
      },
      "text/plain": [
       "Extracting data files:   0%|          | 0/1 [00:00<?, ?it/s]"
      ]
     },
     "metadata": {},
     "output_type": "display_data"
    },
    {
     "data": {
      "application/vnd.jupyter.widget-view+json": {
       "model_id": "cd0329b02366406abc9de38ac3f4eb68",
       "version_major": 2,
       "version_minor": 0
      },
      "text/plain": [
       "Generating train split: 0 examples [00:00, ? examples/s]"
      ]
     },
     "metadata": {},
     "output_type": "display_data"
    },
    {
     "name": "stdout",
     "output_type": "stream",
     "text": [
      "Dataset parquet downloaded and prepared to /nfs/home/kabenamualus/.cache/huggingface/datasets/parquet/default-9766f0dc85ec529d/0.0.0/14a00e99c0d15a23649d0db8944380ac81082d4b021f398733dd84f3a6c569a7. Subsequent calls will reuse this data.\n",
      "Downloading and preparing dataset parquet/default to /nfs/home/kabenamualus/.cache/huggingface/datasets/parquet/default-6450d36e22fda91b/0.0.0/14a00e99c0d15a23649d0db8944380ac81082d4b021f398733dd84f3a6c569a7...\n"
     ]
    },
    {
     "data": {
      "application/vnd.jupyter.widget-view+json": {
       "model_id": "73fb5e2cdc664198b2664946001f381c",
       "version_major": 2,
       "version_minor": 0
      },
      "text/plain": [
       "Downloading data files:   0%|          | 0/1 [00:00<?, ?it/s]"
      ]
     },
     "metadata": {},
     "output_type": "display_data"
    },
    {
     "data": {
      "application/vnd.jupyter.widget-view+json": {
       "model_id": "6b6c4234bfbf4031bcad42a598316d42",
       "version_major": 2,
       "version_minor": 0
      },
      "text/plain": [
       "Extracting data files:   0%|          | 0/1 [00:00<?, ?it/s]"
      ]
     },
     "metadata": {},
     "output_type": "display_data"
    },
    {
     "data": {
      "application/vnd.jupyter.widget-view+json": {
       "model_id": "28f5ee0fa4964f2d99e4bafaef8ee3aa",
       "version_major": 2,
       "version_minor": 0
      },
      "text/plain": [
       "Generating train split: 0 examples [00:00, ? examples/s]"
      ]
     },
     "metadata": {},
     "output_type": "display_data"
    },
    {
     "name": "stdout",
     "output_type": "stream",
     "text": [
      "Dataset parquet downloaded and prepared to /nfs/home/kabenamualus/.cache/huggingface/datasets/parquet/default-6450d36e22fda91b/0.0.0/14a00e99c0d15a23649d0db8944380ac81082d4b021f398733dd84f3a6c569a7. Subsequent calls will reuse this data.\n",
      "DatasetDict({\n",
      "    fold1: DatasetDict({\n",
      "        train: Dataset({\n",
      "            features: ['id', 'prompt', 'answer', '__index_level_0__'],\n",
      "            num_rows: 12388\n",
      "        })\n",
      "        validation: Dataset({\n",
      "            features: ['id', 'prompt', 'answer', '__index_level_0__'],\n",
      "            num_rows: 1642\n",
      "        })\n",
      "        zeroshot: Dataset({\n",
      "            features: ['id', 'prompt', 'answer', '__index_level_0__'],\n",
      "            num_rows: 1200\n",
      "        })\n",
      "    })\n",
      "    fold2: DatasetDict({\n",
      "        train: Dataset({\n",
      "            features: ['id', 'prompt', 'answer', '__index_level_0__'],\n",
      "            num_rows: 12382\n",
      "        })\n",
      "        validation: Dataset({\n",
      "            features: ['id', 'prompt', 'answer', '__index_level_0__'],\n",
      "            num_rows: 1648\n",
      "        })\n",
      "    })\n",
      "})\n"
     ]
    },
    {
     "data": {
      "application/vnd.jupyter.widget-view+json": {
       "model_id": "96705774899f4bd58df03fe953711d35",
       "version_major": 2,
       "version_minor": 0
      },
      "text/plain": [
       "Saving the dataset (0/1 shards):   0%|          | 0/12388 [00:00<?, ? examples/s]"
      ]
     },
     "metadata": {},
     "output_type": "display_data"
    },
    {
     "data": {
      "application/vnd.jupyter.widget-view+json": {
       "model_id": "102f03a3544a415b85b80e38f7880feb",
       "version_major": 2,
       "version_minor": 0
      },
      "text/plain": [
       "Saving the dataset (0/1 shards):   0%|          | 0/1642 [00:00<?, ? examples/s]"
      ]
     },
     "metadata": {},
     "output_type": "display_data"
    },
    {
     "data": {
      "application/vnd.jupyter.widget-view+json": {
       "model_id": "c03761832c874916bb9eff472635d009",
       "version_major": 2,
       "version_minor": 0
      },
      "text/plain": [
       "Saving the dataset (0/1 shards):   0%|          | 0/1200 [00:00<?, ? examples/s]"
      ]
     },
     "metadata": {},
     "output_type": "display_data"
    },
    {
     "data": {
      "application/vnd.jupyter.widget-view+json": {
       "model_id": "e55b1efdff8544feb3b058ccb5f8901c",
       "version_major": 2,
       "version_minor": 0
      },
      "text/plain": [
       "Saving the dataset (0/1 shards):   0%|          | 0/12382 [00:00<?, ? examples/s]"
      ]
     },
     "metadata": {},
     "output_type": "display_data"
    },
    {
     "data": {
      "application/vnd.jupyter.widget-view+json": {
       "model_id": "cd6d940d1c3640179decdb9088c2e48e",
       "version_major": 2,
       "version_minor": 0
      },
      "text/plain": [
       "Saving the dataset (0/1 shards):   0%|          | 0/1648 [00:00<?, ? examples/s]"
      ]
     },
     "metadata": {},
     "output_type": "display_data"
    }
   ],
   "source": [
    "df_train_f1_squad_7 = create_pandas_dataset_from_pandas(df_train_f1,\n",
    "                                                        squad_7 = True,\n",
    "                                                        ) \n",
    "df_dev_f1_squad_7 = create_pandas_dataset_from_pandas(df_dev_f1,\n",
    "                                                        squad_7 = True,\n",
    "                                                        ) \n",
    "df_zeroshot_f1_squad_7 = create_pandas_dataset_from_pandas(df_zeroshot_f1,\n",
    "                                                        squad_7 = True,\n",
    "                                                        ) \n",
    "\n",
    "df_train_f2_squad_7 = create_pandas_dataset_from_pandas(df_train_f2,\n",
    "                                                        squad_7 = True,\n",
    "                                                        ) \n",
    "df_dev_f2_squad_7 = create_pandas_dataset_from_pandas(df_dev_f2,\n",
    "                                                        squad_7 = True,\n",
    "                                                        ) \n",
    "\n",
    "print(\"df_train_f1_squad_7 describe: \")\n",
    "display(df_train_f1_squad_7.describe())\n",
    "print(\"df_dev_f1_squad_7 describe: \")\n",
    "display(df_dev_f1_squad_7.describe())\n",
    "print(\"df_dev_f1_squad_7 describe: \")\n",
    "display(df_dev_f1_squad_7.describe())\n",
    "\n",
    "print(\"df_train_f2_squad_7 describe: \")\n",
    "display(df_train_f2_squad_7.describe())\n",
    "print(\"df_zeroshot_f1_squad_7 describe: \")\n",
    "display(df_zeroshot_f1_squad_7.describe())\n",
    "\n",
    "df_train_f1_squad_7.to_parquet('../data/df_train_tdms_augmented_summarized_with_id_f1_squad_7.parquet')\n",
    "df_dev_f1_squad_7.to_parquet('../data/df_dev_tdms_augmented_summarized_with_id_f1_squad_7.parquet')\n",
    "df_zeroshot_f1_squad_7.to_parquet('../data/df_zeroshot_tdms_augmented_summarized_with_id_f1_squad_7.parquet')\n",
    "\n",
    "df_train_f2_squad_7.to_parquet('../data/df_train_tdms_augmented_summarized_with_id_f2_squad_7.parquet')\n",
    "df_dev_f2_squad_7.to_parquet('../data/df_dev_tdms_augmented_summarized_with_id_f2_squad_7.parquet')\n",
    "\n",
    "dataset = DatasetDict({\n",
    "    'fold1': DatasetDict({\n",
    "        \"train\": Dataset.from_parquet('../data/df_train_tdms_augmented_summarized_with_id_f1_squad_7.parquet'),\n",
    "        \"validation\": Dataset.from_parquet('../data/df_dev_tdms_augmented_summarized_with_id_f1_squad_7.parquet'),\n",
    "        \"zeroshot\": Dataset.from_parquet('../data/df_zeroshot_tdms_augmented_summarized_with_id_f1_squad_7.parquet')\n",
    "    }),\n",
    "    'fold2': DatasetDict({\n",
    "        \"train\": Dataset.from_parquet('../data/df_train_tdms_augmented_summarized_with_id_f2_squad_7.parquet'),\n",
    "        \"validation\": Dataset.from_parquet('../data/df_dev_tdms_augmented_summarized_with_id_f2_squad_7.parquet')\n",
    "    })\n",
    "})\n",
    "\n",
    "print(dataset)\n",
    "\n",
    "dataset.save_to_disk(\"../data/LLLM_AUGMENTED_SUMMARIZED_WITH_ID_ZEROSHOT_TDMS_SQUAD_7\")"
   ]
  },
  {
   "cell_type": "code",
   "execution_count": 95,
   "metadata": {},
   "outputs": [
    {
     "name": "stderr",
     "output_type": "stream",
     "text": [
      "  0%|          | 0/12388 [00:00<?, ?it/s]"
     ]
    },
    {
     "name": "stderr",
     "output_type": "stream",
     "text": [
      "100%|██████████| 12388/12388 [00:17<00:00, 691.62it/s]\n",
      "100%|██████████| 1642/1642 [00:02<00:00, 782.75it/s]\n",
      "100%|██████████| 1200/1200 [00:01<00:00, 788.04it/s]\n",
      "100%|██████████| 12382/12382 [00:17<00:00, 695.02it/s]\n",
      "100%|██████████| 1648/1648 [00:02<00:00, 783.42it/s]\n"
     ]
    },
    {
     "name": "stdout",
     "output_type": "stream",
     "text": [
      "df_train_f1_squad_8 describe: \n"
     ]
    },
    {
     "data": {
      "text/html": [
       "<div>\n",
       "<style scoped>\n",
       "    .dataframe tbody tr th:only-of-type {\n",
       "        vertical-align: middle;\n",
       "    }\n",
       "\n",
       "    .dataframe tbody tr th {\n",
       "        vertical-align: top;\n",
       "    }\n",
       "\n",
       "    .dataframe thead th {\n",
       "        text-align: right;\n",
       "    }\n",
       "</style>\n",
       "<table border=\"1\" class=\"dataframe\">\n",
       "  <thead>\n",
       "    <tr style=\"text-align: right;\">\n",
       "      <th></th>\n",
       "      <th>id</th>\n",
       "      <th>prompt</th>\n",
       "      <th>answer</th>\n",
       "    </tr>\n",
       "  </thead>\n",
       "  <tbody>\n",
       "    <tr>\n",
       "      <th>count</th>\n",
       "      <td>12388</td>\n",
       "      <td>12388</td>\n",
       "      <td>12388</td>\n",
       "    </tr>\n",
       "    <tr>\n",
       "      <th>unique</th>\n",
       "      <td>12388</td>\n",
       "      <td>12312</td>\n",
       "      <td>7976</td>\n",
       "    </tr>\n",
       "    <tr>\n",
       "      <th>top</th>\n",
       "      <td>1707.03497v2.pdf</td>\n",
       "      <td>Read this: Title:\\t\\n\\nAbstract:\\t\\n\\n[image]\\...</td>\n",
       "      <td>unanswerable</td>\n",
       "    </tr>\n",
       "    <tr>\n",
       "      <th>freq</th>\n",
       "      <td>1</td>\n",
       "      <td>20</td>\n",
       "      <td>4401</td>\n",
       "    </tr>\n",
       "  </tbody>\n",
       "</table>\n",
       "</div>"
      ],
      "text/plain": [
       "                      id                                             prompt  \\\n",
       "count              12388                                              12388   \n",
       "unique             12388                                              12312   \n",
       "top     1707.03497v2.pdf  Read this: Title:\\t\\n\\nAbstract:\\t\\n\\n[image]\\...   \n",
       "freq                   1                                                 20   \n",
       "\n",
       "              answer  \n",
       "count          12388  \n",
       "unique          7976  \n",
       "top     unanswerable  \n",
       "freq            4401  "
      ]
     },
     "metadata": {},
     "output_type": "display_data"
    },
    {
     "name": "stdout",
     "output_type": "stream",
     "text": [
      "df_dev_f1_squad_8 describe: \n"
     ]
    },
    {
     "data": {
      "text/html": [
       "<div>\n",
       "<style scoped>\n",
       "    .dataframe tbody tr th:only-of-type {\n",
       "        vertical-align: middle;\n",
       "    }\n",
       "\n",
       "    .dataframe tbody tr th {\n",
       "        vertical-align: top;\n",
       "    }\n",
       "\n",
       "    .dataframe thead th {\n",
       "        text-align: right;\n",
       "    }\n",
       "</style>\n",
       "<table border=\"1\" class=\"dataframe\">\n",
       "  <thead>\n",
       "    <tr style=\"text-align: right;\">\n",
       "      <th></th>\n",
       "      <th>id</th>\n",
       "      <th>prompt</th>\n",
       "      <th>answer</th>\n",
       "    </tr>\n",
       "  </thead>\n",
       "  <tbody>\n",
       "    <tr>\n",
       "      <th>count</th>\n",
       "      <td>1642</td>\n",
       "      <td>1642</td>\n",
       "      <td>1642</td>\n",
       "    </tr>\n",
       "    <tr>\n",
       "      <th>unique</th>\n",
       "      <td>1642</td>\n",
       "      <td>1641</td>\n",
       "      <td>994</td>\n",
       "    </tr>\n",
       "    <tr>\n",
       "      <th>top</th>\n",
       "      <td>1810.02575v1.pdf</td>\n",
       "      <td>Read this: Title:\\tA Sample ACM SIG Proceeding...</td>\n",
       "      <td>unanswerable</td>\n",
       "    </tr>\n",
       "    <tr>\n",
       "      <th>freq</th>\n",
       "      <td>1</td>\n",
       "      <td>2</td>\n",
       "      <td>648</td>\n",
       "    </tr>\n",
       "  </tbody>\n",
       "</table>\n",
       "</div>"
      ],
      "text/plain": [
       "                      id                                             prompt  \\\n",
       "count               1642                                               1642   \n",
       "unique              1642                                               1641   \n",
       "top     1810.02575v1.pdf  Read this: Title:\\tA Sample ACM SIG Proceeding...   \n",
       "freq                   1                                                  2   \n",
       "\n",
       "              answer  \n",
       "count           1642  \n",
       "unique           994  \n",
       "top     unanswerable  \n",
       "freq             648  "
      ]
     },
     "metadata": {},
     "output_type": "display_data"
    },
    {
     "name": "stdout",
     "output_type": "stream",
     "text": [
      "df_dev_f1_squad_8 describe: \n"
     ]
    },
    {
     "data": {
      "text/html": [
       "<div>\n",
       "<style scoped>\n",
       "    .dataframe tbody tr th:only-of-type {\n",
       "        vertical-align: middle;\n",
       "    }\n",
       "\n",
       "    .dataframe tbody tr th {\n",
       "        vertical-align: top;\n",
       "    }\n",
       "\n",
       "    .dataframe thead th {\n",
       "        text-align: right;\n",
       "    }\n",
       "</style>\n",
       "<table border=\"1\" class=\"dataframe\">\n",
       "  <thead>\n",
       "    <tr style=\"text-align: right;\">\n",
       "      <th></th>\n",
       "      <th>id</th>\n",
       "      <th>prompt</th>\n",
       "      <th>answer</th>\n",
       "    </tr>\n",
       "  </thead>\n",
       "  <tbody>\n",
       "    <tr>\n",
       "      <th>count</th>\n",
       "      <td>1642</td>\n",
       "      <td>1642</td>\n",
       "      <td>1642</td>\n",
       "    </tr>\n",
       "    <tr>\n",
       "      <th>unique</th>\n",
       "      <td>1642</td>\n",
       "      <td>1641</td>\n",
       "      <td>994</td>\n",
       "    </tr>\n",
       "    <tr>\n",
       "      <th>top</th>\n",
       "      <td>1810.02575v1.pdf</td>\n",
       "      <td>Read this: Title:\\tA Sample ACM SIG Proceeding...</td>\n",
       "      <td>unanswerable</td>\n",
       "    </tr>\n",
       "    <tr>\n",
       "      <th>freq</th>\n",
       "      <td>1</td>\n",
       "      <td>2</td>\n",
       "      <td>648</td>\n",
       "    </tr>\n",
       "  </tbody>\n",
       "</table>\n",
       "</div>"
      ],
      "text/plain": [
       "                      id                                             prompt  \\\n",
       "count               1642                                               1642   \n",
       "unique              1642                                               1641   \n",
       "top     1810.02575v1.pdf  Read this: Title:\\tA Sample ACM SIG Proceeding...   \n",
       "freq                   1                                                  2   \n",
       "\n",
       "              answer  \n",
       "count           1642  \n",
       "unique           994  \n",
       "top     unanswerable  \n",
       "freq             648  "
      ]
     },
     "metadata": {},
     "output_type": "display_data"
    },
    {
     "name": "stdout",
     "output_type": "stream",
     "text": [
      "df_train_f2_squad_8 describe: \n"
     ]
    },
    {
     "data": {
      "text/html": [
       "<div>\n",
       "<style scoped>\n",
       "    .dataframe tbody tr th:only-of-type {\n",
       "        vertical-align: middle;\n",
       "    }\n",
       "\n",
       "    .dataframe tbody tr th {\n",
       "        vertical-align: top;\n",
       "    }\n",
       "\n",
       "    .dataframe thead th {\n",
       "        text-align: right;\n",
       "    }\n",
       "</style>\n",
       "<table border=\"1\" class=\"dataframe\">\n",
       "  <thead>\n",
       "    <tr style=\"text-align: right;\">\n",
       "      <th></th>\n",
       "      <th>id</th>\n",
       "      <th>prompt</th>\n",
       "      <th>answer</th>\n",
       "    </tr>\n",
       "  </thead>\n",
       "  <tbody>\n",
       "    <tr>\n",
       "      <th>count</th>\n",
       "      <td>12382</td>\n",
       "      <td>12382</td>\n",
       "      <td>12382</td>\n",
       "    </tr>\n",
       "    <tr>\n",
       "      <th>unique</th>\n",
       "      <td>12382</td>\n",
       "      <td>12311</td>\n",
       "      <td>7988</td>\n",
       "    </tr>\n",
       "    <tr>\n",
       "      <th>top</th>\n",
       "      <td>1707.03497v2.pdf</td>\n",
       "      <td>Read this: Title:\\t\\n\\nAbstract:\\t\\n\\n[image]\\...</td>\n",
       "      <td>unanswerable</td>\n",
       "    </tr>\n",
       "    <tr>\n",
       "      <th>freq</th>\n",
       "      <td>1</td>\n",
       "      <td>20</td>\n",
       "      <td>4383</td>\n",
       "    </tr>\n",
       "  </tbody>\n",
       "</table>\n",
       "</div>"
      ],
      "text/plain": [
       "                      id                                             prompt  \\\n",
       "count              12382                                              12382   \n",
       "unique             12382                                              12311   \n",
       "top     1707.03497v2.pdf  Read this: Title:\\t\\n\\nAbstract:\\t\\n\\n[image]\\...   \n",
       "freq                   1                                                 20   \n",
       "\n",
       "              answer  \n",
       "count          12382  \n",
       "unique          7988  \n",
       "top     unanswerable  \n",
       "freq            4383  "
      ]
     },
     "metadata": {},
     "output_type": "display_data"
    },
    {
     "name": "stdout",
     "output_type": "stream",
     "text": [
      "df_zeroshot_f1_squad_8 describe: \n"
     ]
    },
    {
     "data": {
      "text/html": [
       "<div>\n",
       "<style scoped>\n",
       "    .dataframe tbody tr th:only-of-type {\n",
       "        vertical-align: middle;\n",
       "    }\n",
       "\n",
       "    .dataframe tbody tr th {\n",
       "        vertical-align: top;\n",
       "    }\n",
       "\n",
       "    .dataframe thead th {\n",
       "        text-align: right;\n",
       "    }\n",
       "</style>\n",
       "<table border=\"1\" class=\"dataframe\">\n",
       "  <thead>\n",
       "    <tr style=\"text-align: right;\">\n",
       "      <th></th>\n",
       "      <th>id</th>\n",
       "      <th>prompt</th>\n",
       "      <th>answer</th>\n",
       "    </tr>\n",
       "  </thead>\n",
       "  <tbody>\n",
       "    <tr>\n",
       "      <th>count</th>\n",
       "      <td>1200</td>\n",
       "      <td>1200</td>\n",
       "      <td>1200</td>\n",
       "    </tr>\n",
       "    <tr>\n",
       "      <th>unique</th>\n",
       "      <td>1200</td>\n",
       "      <td>1197</td>\n",
       "      <td>653</td>\n",
       "    </tr>\n",
       "    <tr>\n",
       "      <th>top</th>\n",
       "      <td>2209.03182v1.pdf</td>\n",
       "      <td>Read this: Title:\\t\\n\\nAbstract:\\t\\n\\n[image]\\...</td>\n",
       "      <td>unanswerable</td>\n",
       "    </tr>\n",
       "    <tr>\n",
       "      <th>freq</th>\n",
       "      <td>1</td>\n",
       "      <td>3</td>\n",
       "      <td>548</td>\n",
       "    </tr>\n",
       "  </tbody>\n",
       "</table>\n",
       "</div>"
      ],
      "text/plain": [
       "                      id                                             prompt  \\\n",
       "count               1200                                               1200   \n",
       "unique              1200                                               1197   \n",
       "top     2209.03182v1.pdf  Read this: Title:\\t\\n\\nAbstract:\\t\\n\\n[image]\\...   \n",
       "freq                   1                                                  3   \n",
       "\n",
       "              answer  \n",
       "count           1200  \n",
       "unique           653  \n",
       "top     unanswerable  \n",
       "freq             548  "
      ]
     },
     "metadata": {},
     "output_type": "display_data"
    },
    {
     "name": "stdout",
     "output_type": "stream",
     "text": [
      "Downloading and preparing dataset parquet/default to /nfs/home/kabenamualus/.cache/huggingface/datasets/parquet/default-70482aebda0b8678/0.0.0/14a00e99c0d15a23649d0db8944380ac81082d4b021f398733dd84f3a6c569a7...\n"
     ]
    },
    {
     "data": {
      "application/vnd.jupyter.widget-view+json": {
       "model_id": "8ae342bb71d041f383e01c09f0ec85ae",
       "version_major": 2,
       "version_minor": 0
      },
      "text/plain": [
       "Downloading data files:   0%|          | 0/1 [00:00<?, ?it/s]"
      ]
     },
     "metadata": {},
     "output_type": "display_data"
    },
    {
     "data": {
      "application/vnd.jupyter.widget-view+json": {
       "model_id": "62913774bb8b408582369a949126a357",
       "version_major": 2,
       "version_minor": 0
      },
      "text/plain": [
       "Extracting data files:   0%|          | 0/1 [00:00<?, ?it/s]"
      ]
     },
     "metadata": {},
     "output_type": "display_data"
    },
    {
     "data": {
      "application/vnd.jupyter.widget-view+json": {
       "model_id": "aa78c109cd494deab87d6a268a111559",
       "version_major": 2,
       "version_minor": 0
      },
      "text/plain": [
       "Generating train split: 0 examples [00:00, ? examples/s]"
      ]
     },
     "metadata": {},
     "output_type": "display_data"
    },
    {
     "name": "stdout",
     "output_type": "stream",
     "text": [
      "Dataset parquet downloaded and prepared to /nfs/home/kabenamualus/.cache/huggingface/datasets/parquet/default-70482aebda0b8678/0.0.0/14a00e99c0d15a23649d0db8944380ac81082d4b021f398733dd84f3a6c569a7. Subsequent calls will reuse this data.\n",
      "Downloading and preparing dataset parquet/default to /nfs/home/kabenamualus/.cache/huggingface/datasets/parquet/default-b617964440d86e1a/0.0.0/14a00e99c0d15a23649d0db8944380ac81082d4b021f398733dd84f3a6c569a7...\n"
     ]
    },
    {
     "data": {
      "application/vnd.jupyter.widget-view+json": {
       "model_id": "a90dce0201f946bd943dc1628d305ea1",
       "version_major": 2,
       "version_minor": 0
      },
      "text/plain": [
       "Downloading data files:   0%|          | 0/1 [00:00<?, ?it/s]"
      ]
     },
     "metadata": {},
     "output_type": "display_data"
    },
    {
     "data": {
      "application/vnd.jupyter.widget-view+json": {
       "model_id": "625963932e51441fb83dbeb138685c46",
       "version_major": 2,
       "version_minor": 0
      },
      "text/plain": [
       "Extracting data files:   0%|          | 0/1 [00:00<?, ?it/s]"
      ]
     },
     "metadata": {},
     "output_type": "display_data"
    },
    {
     "data": {
      "application/vnd.jupyter.widget-view+json": {
       "model_id": "9d3aa2e5ad5144b8bbbb82d5f9357449",
       "version_major": 2,
       "version_minor": 0
      },
      "text/plain": [
       "Generating train split: 0 examples [00:00, ? examples/s]"
      ]
     },
     "metadata": {},
     "output_type": "display_data"
    },
    {
     "name": "stdout",
     "output_type": "stream",
     "text": [
      "Dataset parquet downloaded and prepared to /nfs/home/kabenamualus/.cache/huggingface/datasets/parquet/default-b617964440d86e1a/0.0.0/14a00e99c0d15a23649d0db8944380ac81082d4b021f398733dd84f3a6c569a7. Subsequent calls will reuse this data.\n",
      "Downloading and preparing dataset parquet/default to /nfs/home/kabenamualus/.cache/huggingface/datasets/parquet/default-8c8fd836908d40a5/0.0.0/14a00e99c0d15a23649d0db8944380ac81082d4b021f398733dd84f3a6c569a7...\n"
     ]
    },
    {
     "data": {
      "application/vnd.jupyter.widget-view+json": {
       "model_id": "b5ab099f8c92443b9954a70aa4887a62",
       "version_major": 2,
       "version_minor": 0
      },
      "text/plain": [
       "Downloading data files:   0%|          | 0/1 [00:00<?, ?it/s]"
      ]
     },
     "metadata": {},
     "output_type": "display_data"
    },
    {
     "data": {
      "application/vnd.jupyter.widget-view+json": {
       "model_id": "3ce962600727447e89de31565a088f7a",
       "version_major": 2,
       "version_minor": 0
      },
      "text/plain": [
       "Extracting data files:   0%|          | 0/1 [00:00<?, ?it/s]"
      ]
     },
     "metadata": {},
     "output_type": "display_data"
    },
    {
     "data": {
      "application/vnd.jupyter.widget-view+json": {
       "model_id": "208ed800ce454831b37312daac098661",
       "version_major": 2,
       "version_minor": 0
      },
      "text/plain": [
       "Generating train split: 0 examples [00:00, ? examples/s]"
      ]
     },
     "metadata": {},
     "output_type": "display_data"
    },
    {
     "name": "stdout",
     "output_type": "stream",
     "text": [
      "Dataset parquet downloaded and prepared to /nfs/home/kabenamualus/.cache/huggingface/datasets/parquet/default-8c8fd836908d40a5/0.0.0/14a00e99c0d15a23649d0db8944380ac81082d4b021f398733dd84f3a6c569a7. Subsequent calls will reuse this data.\n",
      "Downloading and preparing dataset parquet/default to /nfs/home/kabenamualus/.cache/huggingface/datasets/parquet/default-c9ddd73080f7c4d3/0.0.0/14a00e99c0d15a23649d0db8944380ac81082d4b021f398733dd84f3a6c569a7...\n"
     ]
    },
    {
     "data": {
      "application/vnd.jupyter.widget-view+json": {
       "model_id": "7b02f287770c444c9175b24ac6de2f40",
       "version_major": 2,
       "version_minor": 0
      },
      "text/plain": [
       "Downloading data files:   0%|          | 0/1 [00:00<?, ?it/s]"
      ]
     },
     "metadata": {},
     "output_type": "display_data"
    },
    {
     "data": {
      "application/vnd.jupyter.widget-view+json": {
       "model_id": "b3a868cbf378405ab46beefd53c06063",
       "version_major": 2,
       "version_minor": 0
      },
      "text/plain": [
       "Extracting data files:   0%|          | 0/1 [00:00<?, ?it/s]"
      ]
     },
     "metadata": {},
     "output_type": "display_data"
    },
    {
     "data": {
      "application/vnd.jupyter.widget-view+json": {
       "model_id": "d869759c470f409a937e067674d90509",
       "version_major": 2,
       "version_minor": 0
      },
      "text/plain": [
       "Generating train split: 0 examples [00:00, ? examples/s]"
      ]
     },
     "metadata": {},
     "output_type": "display_data"
    },
    {
     "name": "stdout",
     "output_type": "stream",
     "text": [
      "Dataset parquet downloaded and prepared to /nfs/home/kabenamualus/.cache/huggingface/datasets/parquet/default-c9ddd73080f7c4d3/0.0.0/14a00e99c0d15a23649d0db8944380ac81082d4b021f398733dd84f3a6c569a7. Subsequent calls will reuse this data.\n",
      "Downloading and preparing dataset parquet/default to /nfs/home/kabenamualus/.cache/huggingface/datasets/parquet/default-83b25a376de6a8ee/0.0.0/14a00e99c0d15a23649d0db8944380ac81082d4b021f398733dd84f3a6c569a7...\n"
     ]
    },
    {
     "data": {
      "application/vnd.jupyter.widget-view+json": {
       "model_id": "d8b179ae703e467ca76f1214036f9a79",
       "version_major": 2,
       "version_minor": 0
      },
      "text/plain": [
       "Downloading data files:   0%|          | 0/1 [00:00<?, ?it/s]"
      ]
     },
     "metadata": {},
     "output_type": "display_data"
    },
    {
     "data": {
      "application/vnd.jupyter.widget-view+json": {
       "model_id": "dcfe0285ec6447f08e37d55dc6f8b734",
       "version_major": 2,
       "version_minor": 0
      },
      "text/plain": [
       "Extracting data files:   0%|          | 0/1 [00:00<?, ?it/s]"
      ]
     },
     "metadata": {},
     "output_type": "display_data"
    },
    {
     "data": {
      "application/vnd.jupyter.widget-view+json": {
       "model_id": "c7378c4d51c3460d8f45f32e520c8bd5",
       "version_major": 2,
       "version_minor": 0
      },
      "text/plain": [
       "Generating train split: 0 examples [00:00, ? examples/s]"
      ]
     },
     "metadata": {},
     "output_type": "display_data"
    },
    {
     "name": "stdout",
     "output_type": "stream",
     "text": [
      "Dataset parquet downloaded and prepared to /nfs/home/kabenamualus/.cache/huggingface/datasets/parquet/default-83b25a376de6a8ee/0.0.0/14a00e99c0d15a23649d0db8944380ac81082d4b021f398733dd84f3a6c569a7. Subsequent calls will reuse this data.\n",
      "DatasetDict({\n",
      "    fold1: DatasetDict({\n",
      "        train: Dataset({\n",
      "            features: ['id', 'prompt', 'answer', '__index_level_0__'],\n",
      "            num_rows: 12388\n",
      "        })\n",
      "        validation: Dataset({\n",
      "            features: ['id', 'prompt', 'answer', '__index_level_0__'],\n",
      "            num_rows: 1642\n",
      "        })\n",
      "        zeroshot: Dataset({\n",
      "            features: ['id', 'prompt', 'answer', '__index_level_0__'],\n",
      "            num_rows: 1200\n",
      "        })\n",
      "    })\n",
      "    fold2: DatasetDict({\n",
      "        train: Dataset({\n",
      "            features: ['id', 'prompt', 'answer', '__index_level_0__'],\n",
      "            num_rows: 12382\n",
      "        })\n",
      "        validation: Dataset({\n",
      "            features: ['id', 'prompt', 'answer', '__index_level_0__'],\n",
      "            num_rows: 1648\n",
      "        })\n",
      "    })\n",
      "})\n"
     ]
    },
    {
     "data": {
      "application/vnd.jupyter.widget-view+json": {
       "model_id": "0b1789edffd046fbb763f3abdf072650",
       "version_major": 2,
       "version_minor": 0
      },
      "text/plain": [
       "Saving the dataset (0/1 shards):   0%|          | 0/12388 [00:00<?, ? examples/s]"
      ]
     },
     "metadata": {},
     "output_type": "display_data"
    },
    {
     "data": {
      "application/vnd.jupyter.widget-view+json": {
       "model_id": "5466f9f9603f48f68a78c24e411a52c7",
       "version_major": 2,
       "version_minor": 0
      },
      "text/plain": [
       "Saving the dataset (0/1 shards):   0%|          | 0/1642 [00:00<?, ? examples/s]"
      ]
     },
     "metadata": {},
     "output_type": "display_data"
    },
    {
     "data": {
      "application/vnd.jupyter.widget-view+json": {
       "model_id": "2fde9f7fc27046b48f9ae64a29c65a53",
       "version_major": 2,
       "version_minor": 0
      },
      "text/plain": [
       "Saving the dataset (0/1 shards):   0%|          | 0/1200 [00:00<?, ? examples/s]"
      ]
     },
     "metadata": {},
     "output_type": "display_data"
    },
    {
     "data": {
      "application/vnd.jupyter.widget-view+json": {
       "model_id": "bcb62a50988c4f958905650823efbd29",
       "version_major": 2,
       "version_minor": 0
      },
      "text/plain": [
       "Saving the dataset (0/1 shards):   0%|          | 0/12382 [00:00<?, ? examples/s]"
      ]
     },
     "metadata": {},
     "output_type": "display_data"
    },
    {
     "data": {
      "application/vnd.jupyter.widget-view+json": {
       "model_id": "0582570b44b845b3a4c617b399fd489a",
       "version_major": 2,
       "version_minor": 0
      },
      "text/plain": [
       "Saving the dataset (0/1 shards):   0%|          | 0/1648 [00:00<?, ? examples/s]"
      ]
     },
     "metadata": {},
     "output_type": "display_data"
    }
   ],
   "source": [
    "df_train_f1_squad_8 = create_pandas_dataset_from_pandas(df_train_f1,\n",
    "                                                        squad_8 = True,\n",
    "                                                        ) \n",
    "df_dev_f1_squad_8 = create_pandas_dataset_from_pandas(df_dev_f1,\n",
    "                                                        squad_8 = True,\n",
    "                                                        ) \n",
    "df_zeroshot_f1_squad_8 = create_pandas_dataset_from_pandas(df_zeroshot_f1,\n",
    "                                                        squad_8 = True,\n",
    "                                                        ) \n",
    "\n",
    "df_train_f2_squad_8 = create_pandas_dataset_from_pandas(df_train_f2,\n",
    "                                                        squad_8 = True,\n",
    "                                                        ) \n",
    "df_dev_f2_squad_8 = create_pandas_dataset_from_pandas(df_dev_f2,\n",
    "                                                        squad_8 = True,\n",
    "                                                        ) \n",
    "\n",
    "print(\"df_train_f1_squad_8 describe: \")\n",
    "display(df_train_f1_squad_8.describe())\n",
    "print(\"df_dev_f1_squad_8 describe: \")\n",
    "display(df_dev_f1_squad_8.describe())\n",
    "print(\"df_dev_f1_squad_8 describe: \")\n",
    "display(df_dev_f1_squad_8.describe())\n",
    "\n",
    "print(\"df_train_f2_squad_8 describe: \")\n",
    "display(df_train_f2_squad_8.describe())\n",
    "print(\"df_zeroshot_f1_squad_8 describe: \")\n",
    "display(df_zeroshot_f1_squad_8.describe())\n",
    "\n",
    "df_train_f1_squad_8.to_parquet('../data/df_train_tdms_augmented_summarized_with_id_f1_squad_8.parquet')\n",
    "df_dev_f1_squad_8.to_parquet('../data/df_dev_tdms_augmented_summarized_with_id_f1_squad_8.parquet')\n",
    "df_zeroshot_f1_squad_8.to_parquet('../data/df_zeroshot_tdms_augmented_summarized_with_id_f1_squad_8.parquet')\n",
    "\n",
    "df_train_f2_squad_8.to_parquet('../data/df_train_tdms_augmented_summarized_with_id_f2_squad_8.parquet')\n",
    "df_dev_f2_squad_8.to_parquet('../data/df_dev_tdms_augmented_summarized_with_id_f2_squad_8.parquet')\n",
    "\n",
    "dataset = DatasetDict({\n",
    "    'fold1': DatasetDict({\n",
    "        \"train\": Dataset.from_parquet('../data/df_train_tdms_augmented_summarized_with_id_f1_squad_8.parquet'),\n",
    "        \"validation\": Dataset.from_parquet('../data/df_dev_tdms_augmented_summarized_with_id_f1_squad_8.parquet'),\n",
    "        \"zeroshot\": Dataset.from_parquet('../data/df_zeroshot_tdms_augmented_summarized_with_id_f1_squad_8.parquet')\n",
    "    }),\n",
    "    'fold2': DatasetDict({\n",
    "        \"train\": Dataset.from_parquet('../data/df_train_tdms_augmented_summarized_with_id_f2_squad_8.parquet'),\n",
    "        \"validation\": Dataset.from_parquet('../data/df_dev_tdms_augmented_summarized_with_id_f2_squad_8.parquet')\n",
    "    })\n",
    "})\n",
    "\n",
    "print(dataset)\n",
    "\n",
    "dataset.save_to_disk(\"../data/LLLM_AUGMENTED_SUMMARIZED_WITH_ID_ZEROSHOT_TDMS_SQUAD_8\")"
   ]
  },
  {
   "cell_type": "markdown",
   "metadata": {},
   "source": [
    "## DROP"
   ]
  },
  {
   "cell_type": "code",
   "execution_count": 96,
   "metadata": {},
   "outputs": [
    {
     "name": "stderr",
     "output_type": "stream",
     "text": [
      "  1%|          | 81/12388 [00:00<00:15, 809.43it/s]"
     ]
    },
    {
     "name": "stderr",
     "output_type": "stream",
     "text": [
      "100%|██████████| 12388/12388 [00:17<00:00, 704.55it/s]\n",
      "100%|██████████| 1642/1642 [00:02<00:00, 790.66it/s]\n",
      "100%|██████████| 1200/1200 [00:01<00:00, 798.41it/s]\n",
      "100%|██████████| 12382/12382 [00:17<00:00, 703.88it/s]\n",
      "100%|██████████| 1648/1648 [00:02<00:00, 794.40it/s]\n"
     ]
    },
    {
     "name": "stdout",
     "output_type": "stream",
     "text": [
      "df_train_f1_drop_1 describe: \n"
     ]
    },
    {
     "data": {
      "text/html": [
       "<div>\n",
       "<style scoped>\n",
       "    .dataframe tbody tr th:only-of-type {\n",
       "        vertical-align: middle;\n",
       "    }\n",
       "\n",
       "    .dataframe tbody tr th {\n",
       "        vertical-align: top;\n",
       "    }\n",
       "\n",
       "    .dataframe thead th {\n",
       "        text-align: right;\n",
       "    }\n",
       "</style>\n",
       "<table border=\"1\" class=\"dataframe\">\n",
       "  <thead>\n",
       "    <tr style=\"text-align: right;\">\n",
       "      <th></th>\n",
       "      <th>id</th>\n",
       "      <th>prompt</th>\n",
       "      <th>answer</th>\n",
       "    </tr>\n",
       "  </thead>\n",
       "  <tbody>\n",
       "    <tr>\n",
       "      <th>count</th>\n",
       "      <td>12388</td>\n",
       "      <td>12388</td>\n",
       "      <td>12388</td>\n",
       "    </tr>\n",
       "    <tr>\n",
       "      <th>unique</th>\n",
       "      <td>12388</td>\n",
       "      <td>12312</td>\n",
       "      <td>7976</td>\n",
       "    </tr>\n",
       "    <tr>\n",
       "      <th>top</th>\n",
       "      <td>1707.03497v2.pdf</td>\n",
       "      <td>Answer based on context:\\n\\nTitle:\\t\\n\\nAbstra...</td>\n",
       "      <td>unanswerable</td>\n",
       "    </tr>\n",
       "    <tr>\n",
       "      <th>freq</th>\n",
       "      <td>1</td>\n",
       "      <td>20</td>\n",
       "      <td>4401</td>\n",
       "    </tr>\n",
       "  </tbody>\n",
       "</table>\n",
       "</div>"
      ],
      "text/plain": [
       "                      id                                             prompt  \\\n",
       "count              12388                                              12388   \n",
       "unique             12388                                              12312   \n",
       "top     1707.03497v2.pdf  Answer based on context:\\n\\nTitle:\\t\\n\\nAbstra...   \n",
       "freq                   1                                                 20   \n",
       "\n",
       "              answer  \n",
       "count          12388  \n",
       "unique          7976  \n",
       "top     unanswerable  \n",
       "freq            4401  "
      ]
     },
     "metadata": {},
     "output_type": "display_data"
    },
    {
     "name": "stdout",
     "output_type": "stream",
     "text": [
      "df_dev_f1_drop_1 describe: \n"
     ]
    },
    {
     "data": {
      "text/html": [
       "<div>\n",
       "<style scoped>\n",
       "    .dataframe tbody tr th:only-of-type {\n",
       "        vertical-align: middle;\n",
       "    }\n",
       "\n",
       "    .dataframe tbody tr th {\n",
       "        vertical-align: top;\n",
       "    }\n",
       "\n",
       "    .dataframe thead th {\n",
       "        text-align: right;\n",
       "    }\n",
       "</style>\n",
       "<table border=\"1\" class=\"dataframe\">\n",
       "  <thead>\n",
       "    <tr style=\"text-align: right;\">\n",
       "      <th></th>\n",
       "      <th>id</th>\n",
       "      <th>prompt</th>\n",
       "      <th>answer</th>\n",
       "    </tr>\n",
       "  </thead>\n",
       "  <tbody>\n",
       "    <tr>\n",
       "      <th>count</th>\n",
       "      <td>1642</td>\n",
       "      <td>1642</td>\n",
       "      <td>1642</td>\n",
       "    </tr>\n",
       "    <tr>\n",
       "      <th>unique</th>\n",
       "      <td>1642</td>\n",
       "      <td>1641</td>\n",
       "      <td>994</td>\n",
       "    </tr>\n",
       "    <tr>\n",
       "      <th>top</th>\n",
       "      <td>1810.02575v1.pdf</td>\n",
       "      <td>Answer based on context:\\n\\nTitle:\\tA Sample A...</td>\n",
       "      <td>unanswerable</td>\n",
       "    </tr>\n",
       "    <tr>\n",
       "      <th>freq</th>\n",
       "      <td>1</td>\n",
       "      <td>2</td>\n",
       "      <td>648</td>\n",
       "    </tr>\n",
       "  </tbody>\n",
       "</table>\n",
       "</div>"
      ],
      "text/plain": [
       "                      id                                             prompt  \\\n",
       "count               1642                                               1642   \n",
       "unique              1642                                               1641   \n",
       "top     1810.02575v1.pdf  Answer based on context:\\n\\nTitle:\\tA Sample A...   \n",
       "freq                   1                                                  2   \n",
       "\n",
       "              answer  \n",
       "count           1642  \n",
       "unique           994  \n",
       "top     unanswerable  \n",
       "freq             648  "
      ]
     },
     "metadata": {},
     "output_type": "display_data"
    },
    {
     "name": "stdout",
     "output_type": "stream",
     "text": [
      "df_dev_f1_drop_1 describe: \n"
     ]
    },
    {
     "data": {
      "text/html": [
       "<div>\n",
       "<style scoped>\n",
       "    .dataframe tbody tr th:only-of-type {\n",
       "        vertical-align: middle;\n",
       "    }\n",
       "\n",
       "    .dataframe tbody tr th {\n",
       "        vertical-align: top;\n",
       "    }\n",
       "\n",
       "    .dataframe thead th {\n",
       "        text-align: right;\n",
       "    }\n",
       "</style>\n",
       "<table border=\"1\" class=\"dataframe\">\n",
       "  <thead>\n",
       "    <tr style=\"text-align: right;\">\n",
       "      <th></th>\n",
       "      <th>id</th>\n",
       "      <th>prompt</th>\n",
       "      <th>answer</th>\n",
       "    </tr>\n",
       "  </thead>\n",
       "  <tbody>\n",
       "    <tr>\n",
       "      <th>count</th>\n",
       "      <td>1642</td>\n",
       "      <td>1642</td>\n",
       "      <td>1642</td>\n",
       "    </tr>\n",
       "    <tr>\n",
       "      <th>unique</th>\n",
       "      <td>1642</td>\n",
       "      <td>1641</td>\n",
       "      <td>994</td>\n",
       "    </tr>\n",
       "    <tr>\n",
       "      <th>top</th>\n",
       "      <td>1810.02575v1.pdf</td>\n",
       "      <td>Answer based on context:\\n\\nTitle:\\tA Sample A...</td>\n",
       "      <td>unanswerable</td>\n",
       "    </tr>\n",
       "    <tr>\n",
       "      <th>freq</th>\n",
       "      <td>1</td>\n",
       "      <td>2</td>\n",
       "      <td>648</td>\n",
       "    </tr>\n",
       "  </tbody>\n",
       "</table>\n",
       "</div>"
      ],
      "text/plain": [
       "                      id                                             prompt  \\\n",
       "count               1642                                               1642   \n",
       "unique              1642                                               1641   \n",
       "top     1810.02575v1.pdf  Answer based on context:\\n\\nTitle:\\tA Sample A...   \n",
       "freq                   1                                                  2   \n",
       "\n",
       "              answer  \n",
       "count           1642  \n",
       "unique           994  \n",
       "top     unanswerable  \n",
       "freq             648  "
      ]
     },
     "metadata": {},
     "output_type": "display_data"
    },
    {
     "name": "stdout",
     "output_type": "stream",
     "text": [
      "df_train_f2_drop_1 describe: \n"
     ]
    },
    {
     "data": {
      "text/html": [
       "<div>\n",
       "<style scoped>\n",
       "    .dataframe tbody tr th:only-of-type {\n",
       "        vertical-align: middle;\n",
       "    }\n",
       "\n",
       "    .dataframe tbody tr th {\n",
       "        vertical-align: top;\n",
       "    }\n",
       "\n",
       "    .dataframe thead th {\n",
       "        text-align: right;\n",
       "    }\n",
       "</style>\n",
       "<table border=\"1\" class=\"dataframe\">\n",
       "  <thead>\n",
       "    <tr style=\"text-align: right;\">\n",
       "      <th></th>\n",
       "      <th>id</th>\n",
       "      <th>prompt</th>\n",
       "      <th>answer</th>\n",
       "    </tr>\n",
       "  </thead>\n",
       "  <tbody>\n",
       "    <tr>\n",
       "      <th>count</th>\n",
       "      <td>12382</td>\n",
       "      <td>12382</td>\n",
       "      <td>12382</td>\n",
       "    </tr>\n",
       "    <tr>\n",
       "      <th>unique</th>\n",
       "      <td>12382</td>\n",
       "      <td>12311</td>\n",
       "      <td>7988</td>\n",
       "    </tr>\n",
       "    <tr>\n",
       "      <th>top</th>\n",
       "      <td>1707.03497v2.pdf</td>\n",
       "      <td>Answer based on context:\\n\\nTitle:\\t\\n\\nAbstra...</td>\n",
       "      <td>unanswerable</td>\n",
       "    </tr>\n",
       "    <tr>\n",
       "      <th>freq</th>\n",
       "      <td>1</td>\n",
       "      <td>20</td>\n",
       "      <td>4383</td>\n",
       "    </tr>\n",
       "  </tbody>\n",
       "</table>\n",
       "</div>"
      ],
      "text/plain": [
       "                      id                                             prompt  \\\n",
       "count              12382                                              12382   \n",
       "unique             12382                                              12311   \n",
       "top     1707.03497v2.pdf  Answer based on context:\\n\\nTitle:\\t\\n\\nAbstra...   \n",
       "freq                   1                                                 20   \n",
       "\n",
       "              answer  \n",
       "count          12382  \n",
       "unique          7988  \n",
       "top     unanswerable  \n",
       "freq            4383  "
      ]
     },
     "metadata": {},
     "output_type": "display_data"
    },
    {
     "name": "stdout",
     "output_type": "stream",
     "text": [
      "df_zeroshot_f1_drop_1 describe: \n"
     ]
    },
    {
     "data": {
      "text/html": [
       "<div>\n",
       "<style scoped>\n",
       "    .dataframe tbody tr th:only-of-type {\n",
       "        vertical-align: middle;\n",
       "    }\n",
       "\n",
       "    .dataframe tbody tr th {\n",
       "        vertical-align: top;\n",
       "    }\n",
       "\n",
       "    .dataframe thead th {\n",
       "        text-align: right;\n",
       "    }\n",
       "</style>\n",
       "<table border=\"1\" class=\"dataframe\">\n",
       "  <thead>\n",
       "    <tr style=\"text-align: right;\">\n",
       "      <th></th>\n",
       "      <th>id</th>\n",
       "      <th>prompt</th>\n",
       "      <th>answer</th>\n",
       "    </tr>\n",
       "  </thead>\n",
       "  <tbody>\n",
       "    <tr>\n",
       "      <th>count</th>\n",
       "      <td>1200</td>\n",
       "      <td>1200</td>\n",
       "      <td>1200</td>\n",
       "    </tr>\n",
       "    <tr>\n",
       "      <th>unique</th>\n",
       "      <td>1200</td>\n",
       "      <td>1197</td>\n",
       "      <td>653</td>\n",
       "    </tr>\n",
       "    <tr>\n",
       "      <th>top</th>\n",
       "      <td>2209.03182v1.pdf</td>\n",
       "      <td>Answer based on context:\\n\\nTitle:\\t\\n\\nAbstra...</td>\n",
       "      <td>unanswerable</td>\n",
       "    </tr>\n",
       "    <tr>\n",
       "      <th>freq</th>\n",
       "      <td>1</td>\n",
       "      <td>3</td>\n",
       "      <td>548</td>\n",
       "    </tr>\n",
       "  </tbody>\n",
       "</table>\n",
       "</div>"
      ],
      "text/plain": [
       "                      id                                             prompt  \\\n",
       "count               1200                                               1200   \n",
       "unique              1200                                               1197   \n",
       "top     2209.03182v1.pdf  Answer based on context:\\n\\nTitle:\\t\\n\\nAbstra...   \n",
       "freq                   1                                                  3   \n",
       "\n",
       "              answer  \n",
       "count           1200  \n",
       "unique           653  \n",
       "top     unanswerable  \n",
       "freq             548  "
      ]
     },
     "metadata": {},
     "output_type": "display_data"
    },
    {
     "name": "stdout",
     "output_type": "stream",
     "text": [
      "Downloading and preparing dataset parquet/default to /nfs/home/kabenamualus/.cache/huggingface/datasets/parquet/default-de2249b9a918c1ef/0.0.0/14a00e99c0d15a23649d0db8944380ac81082d4b021f398733dd84f3a6c569a7...\n"
     ]
    },
    {
     "data": {
      "application/vnd.jupyter.widget-view+json": {
       "model_id": "43470ea555514ce699c17458c26bcbf7",
       "version_major": 2,
       "version_minor": 0
      },
      "text/plain": [
       "Downloading data files:   0%|          | 0/1 [00:00<?, ?it/s]"
      ]
     },
     "metadata": {},
     "output_type": "display_data"
    },
    {
     "data": {
      "application/vnd.jupyter.widget-view+json": {
       "model_id": "4834abc88f9d4fd2aad6eebe97227c7c",
       "version_major": 2,
       "version_minor": 0
      },
      "text/plain": [
       "Extracting data files:   0%|          | 0/1 [00:00<?, ?it/s]"
      ]
     },
     "metadata": {},
     "output_type": "display_data"
    },
    {
     "data": {
      "application/vnd.jupyter.widget-view+json": {
       "model_id": "0bb1c0a5b60148d8aea5f9846fda9bed",
       "version_major": 2,
       "version_minor": 0
      },
      "text/plain": [
       "Generating train split: 0 examples [00:00, ? examples/s]"
      ]
     },
     "metadata": {},
     "output_type": "display_data"
    },
    {
     "name": "stdout",
     "output_type": "stream",
     "text": [
      "Dataset parquet downloaded and prepared to /nfs/home/kabenamualus/.cache/huggingface/datasets/parquet/default-de2249b9a918c1ef/0.0.0/14a00e99c0d15a23649d0db8944380ac81082d4b021f398733dd84f3a6c569a7. Subsequent calls will reuse this data.\n",
      "Downloading and preparing dataset parquet/default to /nfs/home/kabenamualus/.cache/huggingface/datasets/parquet/default-1bc2e87e72cd61e9/0.0.0/14a00e99c0d15a23649d0db8944380ac81082d4b021f398733dd84f3a6c569a7...\n"
     ]
    },
    {
     "data": {
      "application/vnd.jupyter.widget-view+json": {
       "model_id": "b8641b94a01645d897fcf7a32c6efe9d",
       "version_major": 2,
       "version_minor": 0
      },
      "text/plain": [
       "Downloading data files:   0%|          | 0/1 [00:00<?, ?it/s]"
      ]
     },
     "metadata": {},
     "output_type": "display_data"
    },
    {
     "data": {
      "application/vnd.jupyter.widget-view+json": {
       "model_id": "6a9d914c56254ad294e510953a60e772",
       "version_major": 2,
       "version_minor": 0
      },
      "text/plain": [
       "Extracting data files:   0%|          | 0/1 [00:00<?, ?it/s]"
      ]
     },
     "metadata": {},
     "output_type": "display_data"
    },
    {
     "data": {
      "application/vnd.jupyter.widget-view+json": {
       "model_id": "82c0f66f63e74ae9be220b833fc065ee",
       "version_major": 2,
       "version_minor": 0
      },
      "text/plain": [
       "Generating train split: 0 examples [00:00, ? examples/s]"
      ]
     },
     "metadata": {},
     "output_type": "display_data"
    },
    {
     "name": "stdout",
     "output_type": "stream",
     "text": [
      "Dataset parquet downloaded and prepared to /nfs/home/kabenamualus/.cache/huggingface/datasets/parquet/default-1bc2e87e72cd61e9/0.0.0/14a00e99c0d15a23649d0db8944380ac81082d4b021f398733dd84f3a6c569a7. Subsequent calls will reuse this data.\n",
      "Downloading and preparing dataset parquet/default to /nfs/home/kabenamualus/.cache/huggingface/datasets/parquet/default-84edeb3e5191a9b1/0.0.0/14a00e99c0d15a23649d0db8944380ac81082d4b021f398733dd84f3a6c569a7...\n"
     ]
    },
    {
     "data": {
      "application/vnd.jupyter.widget-view+json": {
       "model_id": "a3717938afce4e00b788fb3794691a98",
       "version_major": 2,
       "version_minor": 0
      },
      "text/plain": [
       "Downloading data files:   0%|          | 0/1 [00:00<?, ?it/s]"
      ]
     },
     "metadata": {},
     "output_type": "display_data"
    },
    {
     "data": {
      "application/vnd.jupyter.widget-view+json": {
       "model_id": "df99da7d290e44378291d3b9c7eeca48",
       "version_major": 2,
       "version_minor": 0
      },
      "text/plain": [
       "Extracting data files:   0%|          | 0/1 [00:00<?, ?it/s]"
      ]
     },
     "metadata": {},
     "output_type": "display_data"
    },
    {
     "data": {
      "application/vnd.jupyter.widget-view+json": {
       "model_id": "4592e04ab4aa4ec68849191d270c5d46",
       "version_major": 2,
       "version_minor": 0
      },
      "text/plain": [
       "Generating train split: 0 examples [00:00, ? examples/s]"
      ]
     },
     "metadata": {},
     "output_type": "display_data"
    },
    {
     "name": "stdout",
     "output_type": "stream",
     "text": [
      "Dataset parquet downloaded and prepared to /nfs/home/kabenamualus/.cache/huggingface/datasets/parquet/default-84edeb3e5191a9b1/0.0.0/14a00e99c0d15a23649d0db8944380ac81082d4b021f398733dd84f3a6c569a7. Subsequent calls will reuse this data.\n",
      "Downloading and preparing dataset parquet/default to /nfs/home/kabenamualus/.cache/huggingface/datasets/parquet/default-968b8842df0d2b8d/0.0.0/14a00e99c0d15a23649d0db8944380ac81082d4b021f398733dd84f3a6c569a7...\n"
     ]
    },
    {
     "data": {
      "application/vnd.jupyter.widget-view+json": {
       "model_id": "1097322fce78407da2d42cf10361c5df",
       "version_major": 2,
       "version_minor": 0
      },
      "text/plain": [
       "Downloading data files:   0%|          | 0/1 [00:00<?, ?it/s]"
      ]
     },
     "metadata": {},
     "output_type": "display_data"
    },
    {
     "data": {
      "application/vnd.jupyter.widget-view+json": {
       "model_id": "a654e76cd2ae4a64963d3531f201e5a1",
       "version_major": 2,
       "version_minor": 0
      },
      "text/plain": [
       "Extracting data files:   0%|          | 0/1 [00:00<?, ?it/s]"
      ]
     },
     "metadata": {},
     "output_type": "display_data"
    },
    {
     "data": {
      "application/vnd.jupyter.widget-view+json": {
       "model_id": "fb0b61cce8894ca680c6f870e6355cf3",
       "version_major": 2,
       "version_minor": 0
      },
      "text/plain": [
       "Generating train split: 0 examples [00:00, ? examples/s]"
      ]
     },
     "metadata": {},
     "output_type": "display_data"
    },
    {
     "name": "stdout",
     "output_type": "stream",
     "text": [
      "Dataset parquet downloaded and prepared to /nfs/home/kabenamualus/.cache/huggingface/datasets/parquet/default-968b8842df0d2b8d/0.0.0/14a00e99c0d15a23649d0db8944380ac81082d4b021f398733dd84f3a6c569a7. Subsequent calls will reuse this data.\n",
      "Downloading and preparing dataset parquet/default to /nfs/home/kabenamualus/.cache/huggingface/datasets/parquet/default-83feaf1f8f2a313c/0.0.0/14a00e99c0d15a23649d0db8944380ac81082d4b021f398733dd84f3a6c569a7...\n"
     ]
    },
    {
     "data": {
      "application/vnd.jupyter.widget-view+json": {
       "model_id": "87678997fa6b485db9d1ed3ebd719387",
       "version_major": 2,
       "version_minor": 0
      },
      "text/plain": [
       "Downloading data files:   0%|          | 0/1 [00:00<?, ?it/s]"
      ]
     },
     "metadata": {},
     "output_type": "display_data"
    },
    {
     "data": {
      "application/vnd.jupyter.widget-view+json": {
       "model_id": "dc79aeb049ae43c08c067f5965499c8b",
       "version_major": 2,
       "version_minor": 0
      },
      "text/plain": [
       "Extracting data files:   0%|          | 0/1 [00:00<?, ?it/s]"
      ]
     },
     "metadata": {},
     "output_type": "display_data"
    },
    {
     "data": {
      "application/vnd.jupyter.widget-view+json": {
       "model_id": "2a5038b98d154e4cb335612f3be03819",
       "version_major": 2,
       "version_minor": 0
      },
      "text/plain": [
       "Generating train split: 0 examples [00:00, ? examples/s]"
      ]
     },
     "metadata": {},
     "output_type": "display_data"
    },
    {
     "name": "stdout",
     "output_type": "stream",
     "text": [
      "Dataset parquet downloaded and prepared to /nfs/home/kabenamualus/.cache/huggingface/datasets/parquet/default-83feaf1f8f2a313c/0.0.0/14a00e99c0d15a23649d0db8944380ac81082d4b021f398733dd84f3a6c569a7. Subsequent calls will reuse this data.\n",
      "DatasetDict({\n",
      "    fold1: DatasetDict({\n",
      "        train: Dataset({\n",
      "            features: ['id', 'prompt', 'answer', '__index_level_0__'],\n",
      "            num_rows: 12388\n",
      "        })\n",
      "        validation: Dataset({\n",
      "            features: ['id', 'prompt', 'answer', '__index_level_0__'],\n",
      "            num_rows: 1642\n",
      "        })\n",
      "        zeroshot: Dataset({\n",
      "            features: ['id', 'prompt', 'answer', '__index_level_0__'],\n",
      "            num_rows: 1200\n",
      "        })\n",
      "    })\n",
      "    fold2: DatasetDict({\n",
      "        train: Dataset({\n",
      "            features: ['id', 'prompt', 'answer', '__index_level_0__'],\n",
      "            num_rows: 12382\n",
      "        })\n",
      "        validation: Dataset({\n",
      "            features: ['id', 'prompt', 'answer', '__index_level_0__'],\n",
      "            num_rows: 1648\n",
      "        })\n",
      "    })\n",
      "})\n"
     ]
    },
    {
     "data": {
      "application/vnd.jupyter.widget-view+json": {
       "model_id": "7adeb6032be24aff8c58725429c14e95",
       "version_major": 2,
       "version_minor": 0
      },
      "text/plain": [
       "Saving the dataset (0/1 shards):   0%|          | 0/12388 [00:00<?, ? examples/s]"
      ]
     },
     "metadata": {},
     "output_type": "display_data"
    },
    {
     "data": {
      "application/vnd.jupyter.widget-view+json": {
       "model_id": "d0e901a621b04525a6dfad15974c3c2e",
       "version_major": 2,
       "version_minor": 0
      },
      "text/plain": [
       "Saving the dataset (0/1 shards):   0%|          | 0/1642 [00:00<?, ? examples/s]"
      ]
     },
     "metadata": {},
     "output_type": "display_data"
    },
    {
     "data": {
      "application/vnd.jupyter.widget-view+json": {
       "model_id": "661122b00ea84053839ea197c95e4bd3",
       "version_major": 2,
       "version_minor": 0
      },
      "text/plain": [
       "Saving the dataset (0/1 shards):   0%|          | 0/1200 [00:00<?, ? examples/s]"
      ]
     },
     "metadata": {},
     "output_type": "display_data"
    },
    {
     "data": {
      "application/vnd.jupyter.widget-view+json": {
       "model_id": "baf6543b4fed4b3e8b340df4a8731fcf",
       "version_major": 2,
       "version_minor": 0
      },
      "text/plain": [
       "Saving the dataset (0/1 shards):   0%|          | 0/12382 [00:00<?, ? examples/s]"
      ]
     },
     "metadata": {},
     "output_type": "display_data"
    },
    {
     "data": {
      "application/vnd.jupyter.widget-view+json": {
       "model_id": "5934dbb19490403f8d4080c0b2016a17",
       "version_major": 2,
       "version_minor": 0
      },
      "text/plain": [
       "Saving the dataset (0/1 shards):   0%|          | 0/1648 [00:00<?, ? examples/s]"
      ]
     },
     "metadata": {},
     "output_type": "display_data"
    }
   ],
   "source": [
    "df_train_f1_drop_1 = create_pandas_dataset_from_pandas(df_train_f1,\n",
    "                                                        drop_1 = True,\n",
    "                                                        ) \n",
    "df_dev_f1_drop_1 = create_pandas_dataset_from_pandas(df_dev_f1,\n",
    "                                                        drop_1 = True,\n",
    "                                                        ) \n",
    "df_zeroshot_f1_drop_1 = create_pandas_dataset_from_pandas(df_zeroshot_f1,\n",
    "                                                        drop_1 = True,\n",
    "                                                        ) \n",
    "\n",
    "df_train_f2_drop_1 = create_pandas_dataset_from_pandas(df_train_f2,\n",
    "                                                        drop_1 = True,\n",
    "                                                        ) \n",
    "df_dev_f2_drop_1 = create_pandas_dataset_from_pandas(df_dev_f2,\n",
    "                                                        drop_1 = True,\n",
    "                                                        ) \n",
    "\n",
    "print(\"df_train_f1_drop_1 describe: \")\n",
    "display(df_train_f1_drop_1.describe())\n",
    "print(\"df_dev_f1_drop_1 describe: \")\n",
    "display(df_dev_f1_drop_1.describe())\n",
    "print(\"df_dev_f1_drop_1 describe: \")\n",
    "display(df_dev_f1_drop_1.describe())\n",
    "\n",
    "print(\"df_train_f2_drop_1 describe: \")\n",
    "display(df_train_f2_drop_1.describe())\n",
    "print(\"df_zeroshot_f1_drop_1 describe: \")\n",
    "display(df_zeroshot_f1_drop_1.describe())\n",
    "\n",
    "df_train_f1_drop_1.to_parquet('../data/df_train_tdms_augmented_summarized_with_id_f1_drop_1.parquet')\n",
    "df_dev_f1_drop_1.to_parquet('../data/df_dev_tdms_augmented_summarized_with_id_f1_drop_1.parquet')\n",
    "df_zeroshot_f1_drop_1.to_parquet('../data/df_zeroshot_tdms_augmented_summarized_with_id_f1_drop_1.parquet')\n",
    "\n",
    "df_train_f2_drop_1.to_parquet('../data/df_train_tdms_augmented_summarized_with_id_f2_drop_1.parquet')\n",
    "df_dev_f2_drop_1.to_parquet('../data/df_dev_tdms_augmented_summarized_with_id_f2_drop_1.parquet')\n",
    "\n",
    "dataset = DatasetDict({\n",
    "    'fold1': DatasetDict({\n",
    "        \"train\": Dataset.from_parquet('../data/df_train_tdms_augmented_summarized_with_id_f1_drop_1.parquet'),\n",
    "        \"validation\": Dataset.from_parquet('../data/df_dev_tdms_augmented_summarized_with_id_f1_drop_1.parquet'),\n",
    "        \"zeroshot\": Dataset.from_parquet('../data/df_zeroshot_tdms_augmented_summarized_with_id_f1_drop_1.parquet')\n",
    "    }),\n",
    "    'fold2': DatasetDict({\n",
    "        \"train\": Dataset.from_parquet('../data/df_train_tdms_augmented_summarized_with_id_f2_drop_1.parquet'),\n",
    "        \"validation\": Dataset.from_parquet('../data/df_dev_tdms_augmented_summarized_with_id_f2_drop_1.parquet')\n",
    "    })\n",
    "})\n",
    "\n",
    "print(dataset)\n",
    "\n",
    "dataset.save_to_disk(\"../data/LLLM_AUGMENTED_SUMMARIZED_WITH_ID_ZEROSHOT_TDMS_DROP_1\")"
   ]
  },
  {
   "cell_type": "code",
   "execution_count": 97,
   "metadata": {},
   "outputs": [
    {
     "name": "stderr",
     "output_type": "stream",
     "text": [
      "  0%|          | 0/12388 [00:00<?, ?it/s]"
     ]
    },
    {
     "name": "stderr",
     "output_type": "stream",
     "text": [
      "100%|██████████| 12388/12388 [00:17<00:00, 696.14it/s]\n",
      "100%|██████████| 1642/1642 [00:02<00:00, 787.45it/s]\n",
      "100%|██████████| 1200/1200 [00:01<00:00, 792.75it/s]\n",
      "100%|██████████| 12382/12382 [00:17<00:00, 697.07it/s]\n",
      "100%|██████████| 1648/1648 [00:02<00:00, 790.01it/s]\n"
     ]
    },
    {
     "name": "stdout",
     "output_type": "stream",
     "text": [
      "df_train_f1_drop_2 describe: \n"
     ]
    },
    {
     "data": {
      "text/html": [
       "<div>\n",
       "<style scoped>\n",
       "    .dataframe tbody tr th:only-of-type {\n",
       "        vertical-align: middle;\n",
       "    }\n",
       "\n",
       "    .dataframe tbody tr th {\n",
       "        vertical-align: top;\n",
       "    }\n",
       "\n",
       "    .dataframe thead th {\n",
       "        text-align: right;\n",
       "    }\n",
       "</style>\n",
       "<table border=\"1\" class=\"dataframe\">\n",
       "  <thead>\n",
       "    <tr style=\"text-align: right;\">\n",
       "      <th></th>\n",
       "      <th>id</th>\n",
       "      <th>prompt</th>\n",
       "      <th>answer</th>\n",
       "    </tr>\n",
       "  </thead>\n",
       "  <tbody>\n",
       "    <tr>\n",
       "      <th>count</th>\n",
       "      <td>12388</td>\n",
       "      <td>12388</td>\n",
       "      <td>12388</td>\n",
       "    </tr>\n",
       "    <tr>\n",
       "      <th>unique</th>\n",
       "      <td>12388</td>\n",
       "      <td>12312</td>\n",
       "      <td>7976</td>\n",
       "    </tr>\n",
       "    <tr>\n",
       "      <th>top</th>\n",
       "      <td>1707.03497v2.pdf</td>\n",
       "      <td>Title:\\t\\n\\nAbstract:\\t\\n\\n[image]\\n\\n\\nAnswer...</td>\n",
       "      <td>unanswerable</td>\n",
       "    </tr>\n",
       "    <tr>\n",
       "      <th>freq</th>\n",
       "      <td>1</td>\n",
       "      <td>20</td>\n",
       "      <td>4401</td>\n",
       "    </tr>\n",
       "  </tbody>\n",
       "</table>\n",
       "</div>"
      ],
      "text/plain": [
       "                      id                                             prompt  \\\n",
       "count              12388                                              12388   \n",
       "unique             12388                                              12312   \n",
       "top     1707.03497v2.pdf  Title:\\t\\n\\nAbstract:\\t\\n\\n[image]\\n\\n\\nAnswer...   \n",
       "freq                   1                                                 20   \n",
       "\n",
       "              answer  \n",
       "count          12388  \n",
       "unique          7976  \n",
       "top     unanswerable  \n",
       "freq            4401  "
      ]
     },
     "metadata": {},
     "output_type": "display_data"
    },
    {
     "name": "stdout",
     "output_type": "stream",
     "text": [
      "df_dev_f1_drop_2 describe: \n"
     ]
    },
    {
     "data": {
      "text/html": [
       "<div>\n",
       "<style scoped>\n",
       "    .dataframe tbody tr th:only-of-type {\n",
       "        vertical-align: middle;\n",
       "    }\n",
       "\n",
       "    .dataframe tbody tr th {\n",
       "        vertical-align: top;\n",
       "    }\n",
       "\n",
       "    .dataframe thead th {\n",
       "        text-align: right;\n",
       "    }\n",
       "</style>\n",
       "<table border=\"1\" class=\"dataframe\">\n",
       "  <thead>\n",
       "    <tr style=\"text-align: right;\">\n",
       "      <th></th>\n",
       "      <th>id</th>\n",
       "      <th>prompt</th>\n",
       "      <th>answer</th>\n",
       "    </tr>\n",
       "  </thead>\n",
       "  <tbody>\n",
       "    <tr>\n",
       "      <th>count</th>\n",
       "      <td>1642</td>\n",
       "      <td>1642</td>\n",
       "      <td>1642</td>\n",
       "    </tr>\n",
       "    <tr>\n",
       "      <th>unique</th>\n",
       "      <td>1642</td>\n",
       "      <td>1641</td>\n",
       "      <td>994</td>\n",
       "    </tr>\n",
       "    <tr>\n",
       "      <th>top</th>\n",
       "      <td>1810.02575v1.pdf</td>\n",
       "      <td>Title:\\tA Sample ACM SIG Proceedings Paper in ...</td>\n",
       "      <td>unanswerable</td>\n",
       "    </tr>\n",
       "    <tr>\n",
       "      <th>freq</th>\n",
       "      <td>1</td>\n",
       "      <td>2</td>\n",
       "      <td>648</td>\n",
       "    </tr>\n",
       "  </tbody>\n",
       "</table>\n",
       "</div>"
      ],
      "text/plain": [
       "                      id                                             prompt  \\\n",
       "count               1642                                               1642   \n",
       "unique              1642                                               1641   \n",
       "top     1810.02575v1.pdf  Title:\\tA Sample ACM SIG Proceedings Paper in ...   \n",
       "freq                   1                                                  2   \n",
       "\n",
       "              answer  \n",
       "count           1642  \n",
       "unique           994  \n",
       "top     unanswerable  \n",
       "freq             648  "
      ]
     },
     "metadata": {},
     "output_type": "display_data"
    },
    {
     "name": "stdout",
     "output_type": "stream",
     "text": [
      "df_dev_f1_drop_2 describe: \n"
     ]
    },
    {
     "data": {
      "text/html": [
       "<div>\n",
       "<style scoped>\n",
       "    .dataframe tbody tr th:only-of-type {\n",
       "        vertical-align: middle;\n",
       "    }\n",
       "\n",
       "    .dataframe tbody tr th {\n",
       "        vertical-align: top;\n",
       "    }\n",
       "\n",
       "    .dataframe thead th {\n",
       "        text-align: right;\n",
       "    }\n",
       "</style>\n",
       "<table border=\"1\" class=\"dataframe\">\n",
       "  <thead>\n",
       "    <tr style=\"text-align: right;\">\n",
       "      <th></th>\n",
       "      <th>id</th>\n",
       "      <th>prompt</th>\n",
       "      <th>answer</th>\n",
       "    </tr>\n",
       "  </thead>\n",
       "  <tbody>\n",
       "    <tr>\n",
       "      <th>count</th>\n",
       "      <td>1642</td>\n",
       "      <td>1642</td>\n",
       "      <td>1642</td>\n",
       "    </tr>\n",
       "    <tr>\n",
       "      <th>unique</th>\n",
       "      <td>1642</td>\n",
       "      <td>1641</td>\n",
       "      <td>994</td>\n",
       "    </tr>\n",
       "    <tr>\n",
       "      <th>top</th>\n",
       "      <td>1810.02575v1.pdf</td>\n",
       "      <td>Title:\\tA Sample ACM SIG Proceedings Paper in ...</td>\n",
       "      <td>unanswerable</td>\n",
       "    </tr>\n",
       "    <tr>\n",
       "      <th>freq</th>\n",
       "      <td>1</td>\n",
       "      <td>2</td>\n",
       "      <td>648</td>\n",
       "    </tr>\n",
       "  </tbody>\n",
       "</table>\n",
       "</div>"
      ],
      "text/plain": [
       "                      id                                             prompt  \\\n",
       "count               1642                                               1642   \n",
       "unique              1642                                               1641   \n",
       "top     1810.02575v1.pdf  Title:\\tA Sample ACM SIG Proceedings Paper in ...   \n",
       "freq                   1                                                  2   \n",
       "\n",
       "              answer  \n",
       "count           1642  \n",
       "unique           994  \n",
       "top     unanswerable  \n",
       "freq             648  "
      ]
     },
     "metadata": {},
     "output_type": "display_data"
    },
    {
     "name": "stdout",
     "output_type": "stream",
     "text": [
      "df_train_f2_drop_2 describe: \n"
     ]
    },
    {
     "data": {
      "text/html": [
       "<div>\n",
       "<style scoped>\n",
       "    .dataframe tbody tr th:only-of-type {\n",
       "        vertical-align: middle;\n",
       "    }\n",
       "\n",
       "    .dataframe tbody tr th {\n",
       "        vertical-align: top;\n",
       "    }\n",
       "\n",
       "    .dataframe thead th {\n",
       "        text-align: right;\n",
       "    }\n",
       "</style>\n",
       "<table border=\"1\" class=\"dataframe\">\n",
       "  <thead>\n",
       "    <tr style=\"text-align: right;\">\n",
       "      <th></th>\n",
       "      <th>id</th>\n",
       "      <th>prompt</th>\n",
       "      <th>answer</th>\n",
       "    </tr>\n",
       "  </thead>\n",
       "  <tbody>\n",
       "    <tr>\n",
       "      <th>count</th>\n",
       "      <td>12382</td>\n",
       "      <td>12382</td>\n",
       "      <td>12382</td>\n",
       "    </tr>\n",
       "    <tr>\n",
       "      <th>unique</th>\n",
       "      <td>12382</td>\n",
       "      <td>12311</td>\n",
       "      <td>7988</td>\n",
       "    </tr>\n",
       "    <tr>\n",
       "      <th>top</th>\n",
       "      <td>1707.03497v2.pdf</td>\n",
       "      <td>Title:\\t\\n\\nAbstract:\\t\\n\\n[image]\\n\\n\\nAnswer...</td>\n",
       "      <td>unanswerable</td>\n",
       "    </tr>\n",
       "    <tr>\n",
       "      <th>freq</th>\n",
       "      <td>1</td>\n",
       "      <td>20</td>\n",
       "      <td>4383</td>\n",
       "    </tr>\n",
       "  </tbody>\n",
       "</table>\n",
       "</div>"
      ],
      "text/plain": [
       "                      id                                             prompt  \\\n",
       "count              12382                                              12382   \n",
       "unique             12382                                              12311   \n",
       "top     1707.03497v2.pdf  Title:\\t\\n\\nAbstract:\\t\\n\\n[image]\\n\\n\\nAnswer...   \n",
       "freq                   1                                                 20   \n",
       "\n",
       "              answer  \n",
       "count          12382  \n",
       "unique          7988  \n",
       "top     unanswerable  \n",
       "freq            4383  "
      ]
     },
     "metadata": {},
     "output_type": "display_data"
    },
    {
     "name": "stdout",
     "output_type": "stream",
     "text": [
      "df_zeroshot_f1_drop_2 describe: \n"
     ]
    },
    {
     "data": {
      "text/html": [
       "<div>\n",
       "<style scoped>\n",
       "    .dataframe tbody tr th:only-of-type {\n",
       "        vertical-align: middle;\n",
       "    }\n",
       "\n",
       "    .dataframe tbody tr th {\n",
       "        vertical-align: top;\n",
       "    }\n",
       "\n",
       "    .dataframe thead th {\n",
       "        text-align: right;\n",
       "    }\n",
       "</style>\n",
       "<table border=\"1\" class=\"dataframe\">\n",
       "  <thead>\n",
       "    <tr style=\"text-align: right;\">\n",
       "      <th></th>\n",
       "      <th>id</th>\n",
       "      <th>prompt</th>\n",
       "      <th>answer</th>\n",
       "    </tr>\n",
       "  </thead>\n",
       "  <tbody>\n",
       "    <tr>\n",
       "      <th>count</th>\n",
       "      <td>1200</td>\n",
       "      <td>1200</td>\n",
       "      <td>1200</td>\n",
       "    </tr>\n",
       "    <tr>\n",
       "      <th>unique</th>\n",
       "      <td>1200</td>\n",
       "      <td>1197</td>\n",
       "      <td>653</td>\n",
       "    </tr>\n",
       "    <tr>\n",
       "      <th>top</th>\n",
       "      <td>2209.03182v1.pdf</td>\n",
       "      <td>Title:\\t\\n\\nAbstract:\\t\\n\\n[image]\\n\\n\\nAnswer...</td>\n",
       "      <td>unanswerable</td>\n",
       "    </tr>\n",
       "    <tr>\n",
       "      <th>freq</th>\n",
       "      <td>1</td>\n",
       "      <td>3</td>\n",
       "      <td>548</td>\n",
       "    </tr>\n",
       "  </tbody>\n",
       "</table>\n",
       "</div>"
      ],
      "text/plain": [
       "                      id                                             prompt  \\\n",
       "count               1200                                               1200   \n",
       "unique              1200                                               1197   \n",
       "top     2209.03182v1.pdf  Title:\\t\\n\\nAbstract:\\t\\n\\n[image]\\n\\n\\nAnswer...   \n",
       "freq                   1                                                  3   \n",
       "\n",
       "              answer  \n",
       "count           1200  \n",
       "unique           653  \n",
       "top     unanswerable  \n",
       "freq             548  "
      ]
     },
     "metadata": {},
     "output_type": "display_data"
    },
    {
     "name": "stdout",
     "output_type": "stream",
     "text": [
      "Downloading and preparing dataset parquet/default to /nfs/home/kabenamualus/.cache/huggingface/datasets/parquet/default-9dd1839fd6a8f8bf/0.0.0/14a00e99c0d15a23649d0db8944380ac81082d4b021f398733dd84f3a6c569a7...\n"
     ]
    },
    {
     "data": {
      "application/vnd.jupyter.widget-view+json": {
       "model_id": "e5c44496d85b4d7f85ff0fce0b2daed3",
       "version_major": 2,
       "version_minor": 0
      },
      "text/plain": [
       "Downloading data files:   0%|          | 0/1 [00:00<?, ?it/s]"
      ]
     },
     "metadata": {},
     "output_type": "display_data"
    },
    {
     "data": {
      "application/vnd.jupyter.widget-view+json": {
       "model_id": "bbbc69e9ddfa42a68ab24999c2e923ae",
       "version_major": 2,
       "version_minor": 0
      },
      "text/plain": [
       "Extracting data files:   0%|          | 0/1 [00:00<?, ?it/s]"
      ]
     },
     "metadata": {},
     "output_type": "display_data"
    },
    {
     "data": {
      "application/vnd.jupyter.widget-view+json": {
       "model_id": "3dfae92358d749aeb4304aa42de10d33",
       "version_major": 2,
       "version_minor": 0
      },
      "text/plain": [
       "Generating train split: 0 examples [00:00, ? examples/s]"
      ]
     },
     "metadata": {},
     "output_type": "display_data"
    },
    {
     "name": "stdout",
     "output_type": "stream",
     "text": [
      "Dataset parquet downloaded and prepared to /nfs/home/kabenamualus/.cache/huggingface/datasets/parquet/default-9dd1839fd6a8f8bf/0.0.0/14a00e99c0d15a23649d0db8944380ac81082d4b021f398733dd84f3a6c569a7. Subsequent calls will reuse this data.\n",
      "Downloading and preparing dataset parquet/default to /nfs/home/kabenamualus/.cache/huggingface/datasets/parquet/default-4a273ce0cedbd2c0/0.0.0/14a00e99c0d15a23649d0db8944380ac81082d4b021f398733dd84f3a6c569a7...\n"
     ]
    },
    {
     "data": {
      "application/vnd.jupyter.widget-view+json": {
       "model_id": "80948677437c4e53bac16585c56e458a",
       "version_major": 2,
       "version_minor": 0
      },
      "text/plain": [
       "Downloading data files:   0%|          | 0/1 [00:00<?, ?it/s]"
      ]
     },
     "metadata": {},
     "output_type": "display_data"
    },
    {
     "data": {
      "application/vnd.jupyter.widget-view+json": {
       "model_id": "40bcb4efad4c4e10bbf96ecd5e180da5",
       "version_major": 2,
       "version_minor": 0
      },
      "text/plain": [
       "Extracting data files:   0%|          | 0/1 [00:00<?, ?it/s]"
      ]
     },
     "metadata": {},
     "output_type": "display_data"
    },
    {
     "data": {
      "application/vnd.jupyter.widget-view+json": {
       "model_id": "1a485dbf19c84bd3b071546c5d9d6269",
       "version_major": 2,
       "version_minor": 0
      },
      "text/plain": [
       "Generating train split: 0 examples [00:00, ? examples/s]"
      ]
     },
     "metadata": {},
     "output_type": "display_data"
    },
    {
     "name": "stdout",
     "output_type": "stream",
     "text": [
      "Dataset parquet downloaded and prepared to /nfs/home/kabenamualus/.cache/huggingface/datasets/parquet/default-4a273ce0cedbd2c0/0.0.0/14a00e99c0d15a23649d0db8944380ac81082d4b021f398733dd84f3a6c569a7. Subsequent calls will reuse this data.\n",
      "Downloading and preparing dataset parquet/default to /nfs/home/kabenamualus/.cache/huggingface/datasets/parquet/default-1cfd3d6fff1f7485/0.0.0/14a00e99c0d15a23649d0db8944380ac81082d4b021f398733dd84f3a6c569a7...\n"
     ]
    },
    {
     "data": {
      "application/vnd.jupyter.widget-view+json": {
       "model_id": "98dd895331e1460dadb0e4aa32659d2e",
       "version_major": 2,
       "version_minor": 0
      },
      "text/plain": [
       "Downloading data files:   0%|          | 0/1 [00:00<?, ?it/s]"
      ]
     },
     "metadata": {},
     "output_type": "display_data"
    },
    {
     "data": {
      "application/vnd.jupyter.widget-view+json": {
       "model_id": "c53a9561f98b455d8b96a8f07f2507ea",
       "version_major": 2,
       "version_minor": 0
      },
      "text/plain": [
       "Extracting data files:   0%|          | 0/1 [00:00<?, ?it/s]"
      ]
     },
     "metadata": {},
     "output_type": "display_data"
    },
    {
     "data": {
      "application/vnd.jupyter.widget-view+json": {
       "model_id": "7dc8885701ec4ca09a904e513d58c55d",
       "version_major": 2,
       "version_minor": 0
      },
      "text/plain": [
       "Generating train split: 0 examples [00:00, ? examples/s]"
      ]
     },
     "metadata": {},
     "output_type": "display_data"
    },
    {
     "name": "stdout",
     "output_type": "stream",
     "text": [
      "Dataset parquet downloaded and prepared to /nfs/home/kabenamualus/.cache/huggingface/datasets/parquet/default-1cfd3d6fff1f7485/0.0.0/14a00e99c0d15a23649d0db8944380ac81082d4b021f398733dd84f3a6c569a7. Subsequent calls will reuse this data.\n",
      "Downloading and preparing dataset parquet/default to /nfs/home/kabenamualus/.cache/huggingface/datasets/parquet/default-6d5818fa064e7543/0.0.0/14a00e99c0d15a23649d0db8944380ac81082d4b021f398733dd84f3a6c569a7...\n"
     ]
    },
    {
     "data": {
      "application/vnd.jupyter.widget-view+json": {
       "model_id": "f74848f362434b2b8ff348a146f00e7a",
       "version_major": 2,
       "version_minor": 0
      },
      "text/plain": [
       "Downloading data files:   0%|          | 0/1 [00:00<?, ?it/s]"
      ]
     },
     "metadata": {},
     "output_type": "display_data"
    },
    {
     "data": {
      "application/vnd.jupyter.widget-view+json": {
       "model_id": "5f2ce97a1c8e4bb685d685d02f2de956",
       "version_major": 2,
       "version_minor": 0
      },
      "text/plain": [
       "Extracting data files:   0%|          | 0/1 [00:00<?, ?it/s]"
      ]
     },
     "metadata": {},
     "output_type": "display_data"
    },
    {
     "data": {
      "application/vnd.jupyter.widget-view+json": {
       "model_id": "fdf5f4330ad043669b8d8bcb2597ff2f",
       "version_major": 2,
       "version_minor": 0
      },
      "text/plain": [
       "Generating train split: 0 examples [00:00, ? examples/s]"
      ]
     },
     "metadata": {},
     "output_type": "display_data"
    },
    {
     "name": "stdout",
     "output_type": "stream",
     "text": [
      "Dataset parquet downloaded and prepared to /nfs/home/kabenamualus/.cache/huggingface/datasets/parquet/default-6d5818fa064e7543/0.0.0/14a00e99c0d15a23649d0db8944380ac81082d4b021f398733dd84f3a6c569a7. Subsequent calls will reuse this data.\n",
      "Downloading and preparing dataset parquet/default to /nfs/home/kabenamualus/.cache/huggingface/datasets/parquet/default-d0120036ee804298/0.0.0/14a00e99c0d15a23649d0db8944380ac81082d4b021f398733dd84f3a6c569a7...\n"
     ]
    },
    {
     "data": {
      "application/vnd.jupyter.widget-view+json": {
       "model_id": "39b5f36f60704208a05dea2b66d775cf",
       "version_major": 2,
       "version_minor": 0
      },
      "text/plain": [
       "Downloading data files:   0%|          | 0/1 [00:00<?, ?it/s]"
      ]
     },
     "metadata": {},
     "output_type": "display_data"
    },
    {
     "data": {
      "application/vnd.jupyter.widget-view+json": {
       "model_id": "9eb8fa4cb54947f9a6760d7e703f2956",
       "version_major": 2,
       "version_minor": 0
      },
      "text/plain": [
       "Extracting data files:   0%|          | 0/1 [00:00<?, ?it/s]"
      ]
     },
     "metadata": {},
     "output_type": "display_data"
    },
    {
     "data": {
      "application/vnd.jupyter.widget-view+json": {
       "model_id": "12a9067623264db9933ce8bbe4db8c31",
       "version_major": 2,
       "version_minor": 0
      },
      "text/plain": [
       "Generating train split: 0 examples [00:00, ? examples/s]"
      ]
     },
     "metadata": {},
     "output_type": "display_data"
    },
    {
     "name": "stdout",
     "output_type": "stream",
     "text": [
      "Dataset parquet downloaded and prepared to /nfs/home/kabenamualus/.cache/huggingface/datasets/parquet/default-d0120036ee804298/0.0.0/14a00e99c0d15a23649d0db8944380ac81082d4b021f398733dd84f3a6c569a7. Subsequent calls will reuse this data.\n",
      "DatasetDict({\n",
      "    fold1: DatasetDict({\n",
      "        train: Dataset({\n",
      "            features: ['id', 'prompt', 'answer', '__index_level_0__'],\n",
      "            num_rows: 12388\n",
      "        })\n",
      "        validation: Dataset({\n",
      "            features: ['id', 'prompt', 'answer', '__index_level_0__'],\n",
      "            num_rows: 1642\n",
      "        })\n",
      "        zeroshot: Dataset({\n",
      "            features: ['id', 'prompt', 'answer', '__index_level_0__'],\n",
      "            num_rows: 1200\n",
      "        })\n",
      "    })\n",
      "    fold2: DatasetDict({\n",
      "        train: Dataset({\n",
      "            features: ['id', 'prompt', 'answer', '__index_level_0__'],\n",
      "            num_rows: 12382\n",
      "        })\n",
      "        validation: Dataset({\n",
      "            features: ['id', 'prompt', 'answer', '__index_level_0__'],\n",
      "            num_rows: 1648\n",
      "        })\n",
      "    })\n",
      "})\n"
     ]
    },
    {
     "data": {
      "application/vnd.jupyter.widget-view+json": {
       "model_id": "b4a568eae5be4cc281f2e283f41ff9f3",
       "version_major": 2,
       "version_minor": 0
      },
      "text/plain": [
       "Saving the dataset (0/1 shards):   0%|          | 0/12388 [00:00<?, ? examples/s]"
      ]
     },
     "metadata": {},
     "output_type": "display_data"
    },
    {
     "data": {
      "application/vnd.jupyter.widget-view+json": {
       "model_id": "9e585a1e8d4a487a85a6d0caf0e9821b",
       "version_major": 2,
       "version_minor": 0
      },
      "text/plain": [
       "Saving the dataset (0/1 shards):   0%|          | 0/1642 [00:00<?, ? examples/s]"
      ]
     },
     "metadata": {},
     "output_type": "display_data"
    },
    {
     "data": {
      "application/vnd.jupyter.widget-view+json": {
       "model_id": "9cad69ed962446c7948e50b03bc40ea9",
       "version_major": 2,
       "version_minor": 0
      },
      "text/plain": [
       "Saving the dataset (0/1 shards):   0%|          | 0/1200 [00:00<?, ? examples/s]"
      ]
     },
     "metadata": {},
     "output_type": "display_data"
    },
    {
     "data": {
      "application/vnd.jupyter.widget-view+json": {
       "model_id": "d0cf6407c9234cd6aa9f6333d536f94e",
       "version_major": 2,
       "version_minor": 0
      },
      "text/plain": [
       "Saving the dataset (0/1 shards):   0%|          | 0/12382 [00:00<?, ? examples/s]"
      ]
     },
     "metadata": {},
     "output_type": "display_data"
    },
    {
     "data": {
      "application/vnd.jupyter.widget-view+json": {
       "model_id": "6d2dc5179a8f4c8d85eea1d3c8267064",
       "version_major": 2,
       "version_minor": 0
      },
      "text/plain": [
       "Saving the dataset (0/1 shards):   0%|          | 0/1648 [00:00<?, ? examples/s]"
      ]
     },
     "metadata": {},
     "output_type": "display_data"
    }
   ],
   "source": [
    "df_train_f1_drop_2 = create_pandas_dataset_from_pandas(df_train_f1,\n",
    "                                                        drop_2 = True,\n",
    "                                                        ) \n",
    "df_dev_f1_drop_2 = create_pandas_dataset_from_pandas(df_dev_f1,\n",
    "                                                        drop_2 = True,\n",
    "                                                        ) \n",
    "df_zeroshot_f1_drop_2 = create_pandas_dataset_from_pandas(df_zeroshot_f1,\n",
    "                                                        drop_2 = True,\n",
    "                                                        ) \n",
    "\n",
    "df_train_f2_drop_2 = create_pandas_dataset_from_pandas(df_train_f2,\n",
    "                                                        drop_2 = True,\n",
    "                                                        ) \n",
    "df_dev_f2_drop_2 = create_pandas_dataset_from_pandas(df_dev_f2,\n",
    "                                                        drop_2 = True,\n",
    "                                                        ) \n",
    "\n",
    "print(\"df_train_f1_drop_2 describe: \")\n",
    "display(df_train_f1_drop_2.describe())\n",
    "print(\"df_dev_f1_drop_2 describe: \")\n",
    "display(df_dev_f1_drop_2.describe())\n",
    "print(\"df_dev_f1_drop_2 describe: \")\n",
    "display(df_dev_f1_drop_2.describe())\n",
    "\n",
    "print(\"df_train_f2_drop_2 describe: \")\n",
    "display(df_train_f2_drop_2.describe())\n",
    "print(\"df_zeroshot_f1_drop_2 describe: \")\n",
    "display(df_zeroshot_f1_drop_2.describe())\n",
    "\n",
    "df_train_f1_drop_2.to_parquet('../data/df_train_tdms_augmented_summarized_with_id_f1_drop_2.parquet')\n",
    "df_dev_f1_drop_2.to_parquet('../data/df_dev_tdms_augmented_summarized_with_id_f1_drop_2.parquet')\n",
    "df_zeroshot_f1_drop_2.to_parquet('../data/df_zeroshot_tdms_augmented_summarized_with_id_f1_drop_2.parquet')\n",
    "\n",
    "df_train_f2_drop_2.to_parquet('../data/df_train_tdms_augmented_summarized_with_id_f2_drop_2.parquet')\n",
    "df_dev_f2_drop_2.to_parquet('../data/df_dev_tdms_augmented_summarized_with_id_f2_drop_2.parquet')\n",
    "\n",
    "dataset = DatasetDict({\n",
    "    'fold1': DatasetDict({\n",
    "        \"train\": Dataset.from_parquet('../data/df_train_tdms_augmented_summarized_with_id_f1_drop_2.parquet'),\n",
    "        \"validation\": Dataset.from_parquet('../data/df_dev_tdms_augmented_summarized_with_id_f1_drop_2.parquet'),\n",
    "        \"zeroshot\": Dataset.from_parquet('../data/df_zeroshot_tdms_augmented_summarized_with_id_f1_drop_2.parquet')\n",
    "    }),\n",
    "    'fold2': DatasetDict({\n",
    "        \"train\": Dataset.from_parquet('../data/df_train_tdms_augmented_summarized_with_id_f2_drop_2.parquet'),\n",
    "        \"validation\": Dataset.from_parquet('../data/df_dev_tdms_augmented_summarized_with_id_f2_drop_2.parquet')\n",
    "    })\n",
    "})\n",
    "\n",
    "print(dataset)\n",
    "\n",
    "dataset.save_to_disk(\"../data/LLLM_AUGMENTED_SUMMARIZED_WITH_ID_ZEROSHOT_TDMS_DROP_2\")"
   ]
  },
  {
   "cell_type": "code",
   "execution_count": 98,
   "metadata": {},
   "outputs": [
    {
     "name": "stderr",
     "output_type": "stream",
     "text": [
      "  1%|          | 82/12388 [00:00<00:15, 818.12it/s]"
     ]
    },
    {
     "name": "stderr",
     "output_type": "stream",
     "text": [
      "100%|██████████| 12388/12388 [00:17<00:00, 699.95it/s]\n",
      "100%|██████████| 1642/1642 [00:02<00:00, 789.87it/s]\n",
      "100%|██████████| 1200/1200 [00:01<00:00, 794.74it/s]\n",
      "100%|██████████| 12382/12382 [00:17<00:00, 702.96it/s]\n",
      "100%|██████████| 1648/1648 [00:02<00:00, 794.83it/s]\n"
     ]
    },
    {
     "name": "stdout",
     "output_type": "stream",
     "text": [
      "df_train_f1_drop_3 describe: \n"
     ]
    },
    {
     "data": {
      "text/html": [
       "<div>\n",
       "<style scoped>\n",
       "    .dataframe tbody tr th:only-of-type {\n",
       "        vertical-align: middle;\n",
       "    }\n",
       "\n",
       "    .dataframe tbody tr th {\n",
       "        vertical-align: top;\n",
       "    }\n",
       "\n",
       "    .dataframe thead th {\n",
       "        text-align: right;\n",
       "    }\n",
       "</style>\n",
       "<table border=\"1\" class=\"dataframe\">\n",
       "  <thead>\n",
       "    <tr style=\"text-align: right;\">\n",
       "      <th></th>\n",
       "      <th>id</th>\n",
       "      <th>prompt</th>\n",
       "      <th>answer</th>\n",
       "    </tr>\n",
       "  </thead>\n",
       "  <tbody>\n",
       "    <tr>\n",
       "      <th>count</th>\n",
       "      <td>12388</td>\n",
       "      <td>12388</td>\n",
       "      <td>12388</td>\n",
       "    </tr>\n",
       "    <tr>\n",
       "      <th>unique</th>\n",
       "      <td>12388</td>\n",
       "      <td>12312</td>\n",
       "      <td>7976</td>\n",
       "    </tr>\n",
       "    <tr>\n",
       "      <th>top</th>\n",
       "      <td>1707.03497v2.pdf</td>\n",
       "      <td>Title:\\t\\n\\nAbstract:\\t\\n\\n[image]\\n\\n\\nWhat a...</td>\n",
       "      <td>unanswerable</td>\n",
       "    </tr>\n",
       "    <tr>\n",
       "      <th>freq</th>\n",
       "      <td>1</td>\n",
       "      <td>20</td>\n",
       "      <td>4401</td>\n",
       "    </tr>\n",
       "  </tbody>\n",
       "</table>\n",
       "</div>"
      ],
      "text/plain": [
       "                      id                                             prompt  \\\n",
       "count              12388                                              12388   \n",
       "unique             12388                                              12312   \n",
       "top     1707.03497v2.pdf  Title:\\t\\n\\nAbstract:\\t\\n\\n[image]\\n\\n\\nWhat a...   \n",
       "freq                   1                                                 20   \n",
       "\n",
       "              answer  \n",
       "count          12388  \n",
       "unique          7976  \n",
       "top     unanswerable  \n",
       "freq            4401  "
      ]
     },
     "metadata": {},
     "output_type": "display_data"
    },
    {
     "name": "stdout",
     "output_type": "stream",
     "text": [
      "df_dev_f1_drop_3 describe: \n"
     ]
    },
    {
     "data": {
      "text/html": [
       "<div>\n",
       "<style scoped>\n",
       "    .dataframe tbody tr th:only-of-type {\n",
       "        vertical-align: middle;\n",
       "    }\n",
       "\n",
       "    .dataframe tbody tr th {\n",
       "        vertical-align: top;\n",
       "    }\n",
       "\n",
       "    .dataframe thead th {\n",
       "        text-align: right;\n",
       "    }\n",
       "</style>\n",
       "<table border=\"1\" class=\"dataframe\">\n",
       "  <thead>\n",
       "    <tr style=\"text-align: right;\">\n",
       "      <th></th>\n",
       "      <th>id</th>\n",
       "      <th>prompt</th>\n",
       "      <th>answer</th>\n",
       "    </tr>\n",
       "  </thead>\n",
       "  <tbody>\n",
       "    <tr>\n",
       "      <th>count</th>\n",
       "      <td>1642</td>\n",
       "      <td>1642</td>\n",
       "      <td>1642</td>\n",
       "    </tr>\n",
       "    <tr>\n",
       "      <th>unique</th>\n",
       "      <td>1642</td>\n",
       "      <td>1641</td>\n",
       "      <td>994</td>\n",
       "    </tr>\n",
       "    <tr>\n",
       "      <th>top</th>\n",
       "      <td>1810.02575v1.pdf</td>\n",
       "      <td>Title:\\tA Sample ACM SIG Proceedings Paper in ...</td>\n",
       "      <td>unanswerable</td>\n",
       "    </tr>\n",
       "    <tr>\n",
       "      <th>freq</th>\n",
       "      <td>1</td>\n",
       "      <td>2</td>\n",
       "      <td>648</td>\n",
       "    </tr>\n",
       "  </tbody>\n",
       "</table>\n",
       "</div>"
      ],
      "text/plain": [
       "                      id                                             prompt  \\\n",
       "count               1642                                               1642   \n",
       "unique              1642                                               1641   \n",
       "top     1810.02575v1.pdf  Title:\\tA Sample ACM SIG Proceedings Paper in ...   \n",
       "freq                   1                                                  2   \n",
       "\n",
       "              answer  \n",
       "count           1642  \n",
       "unique           994  \n",
       "top     unanswerable  \n",
       "freq             648  "
      ]
     },
     "metadata": {},
     "output_type": "display_data"
    },
    {
     "name": "stdout",
     "output_type": "stream",
     "text": [
      "df_dev_f1_drop_3 describe: \n"
     ]
    },
    {
     "data": {
      "text/html": [
       "<div>\n",
       "<style scoped>\n",
       "    .dataframe tbody tr th:only-of-type {\n",
       "        vertical-align: middle;\n",
       "    }\n",
       "\n",
       "    .dataframe tbody tr th {\n",
       "        vertical-align: top;\n",
       "    }\n",
       "\n",
       "    .dataframe thead th {\n",
       "        text-align: right;\n",
       "    }\n",
       "</style>\n",
       "<table border=\"1\" class=\"dataframe\">\n",
       "  <thead>\n",
       "    <tr style=\"text-align: right;\">\n",
       "      <th></th>\n",
       "      <th>id</th>\n",
       "      <th>prompt</th>\n",
       "      <th>answer</th>\n",
       "    </tr>\n",
       "  </thead>\n",
       "  <tbody>\n",
       "    <tr>\n",
       "      <th>count</th>\n",
       "      <td>1642</td>\n",
       "      <td>1642</td>\n",
       "      <td>1642</td>\n",
       "    </tr>\n",
       "    <tr>\n",
       "      <th>unique</th>\n",
       "      <td>1642</td>\n",
       "      <td>1641</td>\n",
       "      <td>994</td>\n",
       "    </tr>\n",
       "    <tr>\n",
       "      <th>top</th>\n",
       "      <td>1810.02575v1.pdf</td>\n",
       "      <td>Title:\\tA Sample ACM SIG Proceedings Paper in ...</td>\n",
       "      <td>unanswerable</td>\n",
       "    </tr>\n",
       "    <tr>\n",
       "      <th>freq</th>\n",
       "      <td>1</td>\n",
       "      <td>2</td>\n",
       "      <td>648</td>\n",
       "    </tr>\n",
       "  </tbody>\n",
       "</table>\n",
       "</div>"
      ],
      "text/plain": [
       "                      id                                             prompt  \\\n",
       "count               1642                                               1642   \n",
       "unique              1642                                               1641   \n",
       "top     1810.02575v1.pdf  Title:\\tA Sample ACM SIG Proceedings Paper in ...   \n",
       "freq                   1                                                  2   \n",
       "\n",
       "              answer  \n",
       "count           1642  \n",
       "unique           994  \n",
       "top     unanswerable  \n",
       "freq             648  "
      ]
     },
     "metadata": {},
     "output_type": "display_data"
    },
    {
     "name": "stdout",
     "output_type": "stream",
     "text": [
      "df_train_f2_drop_3 describe: \n"
     ]
    },
    {
     "data": {
      "text/html": [
       "<div>\n",
       "<style scoped>\n",
       "    .dataframe tbody tr th:only-of-type {\n",
       "        vertical-align: middle;\n",
       "    }\n",
       "\n",
       "    .dataframe tbody tr th {\n",
       "        vertical-align: top;\n",
       "    }\n",
       "\n",
       "    .dataframe thead th {\n",
       "        text-align: right;\n",
       "    }\n",
       "</style>\n",
       "<table border=\"1\" class=\"dataframe\">\n",
       "  <thead>\n",
       "    <tr style=\"text-align: right;\">\n",
       "      <th></th>\n",
       "      <th>id</th>\n",
       "      <th>prompt</th>\n",
       "      <th>answer</th>\n",
       "    </tr>\n",
       "  </thead>\n",
       "  <tbody>\n",
       "    <tr>\n",
       "      <th>count</th>\n",
       "      <td>12382</td>\n",
       "      <td>12382</td>\n",
       "      <td>12382</td>\n",
       "    </tr>\n",
       "    <tr>\n",
       "      <th>unique</th>\n",
       "      <td>12382</td>\n",
       "      <td>12311</td>\n",
       "      <td>7988</td>\n",
       "    </tr>\n",
       "    <tr>\n",
       "      <th>top</th>\n",
       "      <td>1707.03497v2.pdf</td>\n",
       "      <td>Title:\\t\\n\\nAbstract:\\t\\n\\n[image]\\n\\n\\nWhat a...</td>\n",
       "      <td>unanswerable</td>\n",
       "    </tr>\n",
       "    <tr>\n",
       "      <th>freq</th>\n",
       "      <td>1</td>\n",
       "      <td>20</td>\n",
       "      <td>4383</td>\n",
       "    </tr>\n",
       "  </tbody>\n",
       "</table>\n",
       "</div>"
      ],
      "text/plain": [
       "                      id                                             prompt  \\\n",
       "count              12382                                              12382   \n",
       "unique             12382                                              12311   \n",
       "top     1707.03497v2.pdf  Title:\\t\\n\\nAbstract:\\t\\n\\n[image]\\n\\n\\nWhat a...   \n",
       "freq                   1                                                 20   \n",
       "\n",
       "              answer  \n",
       "count          12382  \n",
       "unique          7988  \n",
       "top     unanswerable  \n",
       "freq            4383  "
      ]
     },
     "metadata": {},
     "output_type": "display_data"
    },
    {
     "name": "stdout",
     "output_type": "stream",
     "text": [
      "df_zeroshot_f1_drop_3 describe: \n"
     ]
    },
    {
     "data": {
      "text/html": [
       "<div>\n",
       "<style scoped>\n",
       "    .dataframe tbody tr th:only-of-type {\n",
       "        vertical-align: middle;\n",
       "    }\n",
       "\n",
       "    .dataframe tbody tr th {\n",
       "        vertical-align: top;\n",
       "    }\n",
       "\n",
       "    .dataframe thead th {\n",
       "        text-align: right;\n",
       "    }\n",
       "</style>\n",
       "<table border=\"1\" class=\"dataframe\">\n",
       "  <thead>\n",
       "    <tr style=\"text-align: right;\">\n",
       "      <th></th>\n",
       "      <th>id</th>\n",
       "      <th>prompt</th>\n",
       "      <th>answer</th>\n",
       "    </tr>\n",
       "  </thead>\n",
       "  <tbody>\n",
       "    <tr>\n",
       "      <th>count</th>\n",
       "      <td>1200</td>\n",
       "      <td>1200</td>\n",
       "      <td>1200</td>\n",
       "    </tr>\n",
       "    <tr>\n",
       "      <th>unique</th>\n",
       "      <td>1200</td>\n",
       "      <td>1197</td>\n",
       "      <td>653</td>\n",
       "    </tr>\n",
       "    <tr>\n",
       "      <th>top</th>\n",
       "      <td>2209.03182v1.pdf</td>\n",
       "      <td>Title:\\t\\n\\nAbstract:\\t\\n\\n[image]\\n\\n\\nWhat a...</td>\n",
       "      <td>unanswerable</td>\n",
       "    </tr>\n",
       "    <tr>\n",
       "      <th>freq</th>\n",
       "      <td>1</td>\n",
       "      <td>3</td>\n",
       "      <td>548</td>\n",
       "    </tr>\n",
       "  </tbody>\n",
       "</table>\n",
       "</div>"
      ],
      "text/plain": [
       "                      id                                             prompt  \\\n",
       "count               1200                                               1200   \n",
       "unique              1200                                               1197   \n",
       "top     2209.03182v1.pdf  Title:\\t\\n\\nAbstract:\\t\\n\\n[image]\\n\\n\\nWhat a...   \n",
       "freq                   1                                                  3   \n",
       "\n",
       "              answer  \n",
       "count           1200  \n",
       "unique           653  \n",
       "top     unanswerable  \n",
       "freq             548  "
      ]
     },
     "metadata": {},
     "output_type": "display_data"
    },
    {
     "name": "stdout",
     "output_type": "stream",
     "text": [
      "Downloading and preparing dataset parquet/default to /nfs/home/kabenamualus/.cache/huggingface/datasets/parquet/default-1e887097126e2fc6/0.0.0/14a00e99c0d15a23649d0db8944380ac81082d4b021f398733dd84f3a6c569a7...\n"
     ]
    },
    {
     "data": {
      "application/vnd.jupyter.widget-view+json": {
       "model_id": "c7271b5882d547f6acbc8d06bcdc17cf",
       "version_major": 2,
       "version_minor": 0
      },
      "text/plain": [
       "Downloading data files:   0%|          | 0/1 [00:00<?, ?it/s]"
      ]
     },
     "metadata": {},
     "output_type": "display_data"
    },
    {
     "data": {
      "application/vnd.jupyter.widget-view+json": {
       "model_id": "548738c403ac4daba8b8ad71b0eaf266",
       "version_major": 2,
       "version_minor": 0
      },
      "text/plain": [
       "Extracting data files:   0%|          | 0/1 [00:00<?, ?it/s]"
      ]
     },
     "metadata": {},
     "output_type": "display_data"
    },
    {
     "data": {
      "application/vnd.jupyter.widget-view+json": {
       "model_id": "f36e68ca73624db5b0e21afc1d637ff7",
       "version_major": 2,
       "version_minor": 0
      },
      "text/plain": [
       "Generating train split: 0 examples [00:00, ? examples/s]"
      ]
     },
     "metadata": {},
     "output_type": "display_data"
    },
    {
     "name": "stdout",
     "output_type": "stream",
     "text": [
      "Dataset parquet downloaded and prepared to /nfs/home/kabenamualus/.cache/huggingface/datasets/parquet/default-1e887097126e2fc6/0.0.0/14a00e99c0d15a23649d0db8944380ac81082d4b021f398733dd84f3a6c569a7. Subsequent calls will reuse this data.\n",
      "Downloading and preparing dataset parquet/default to /nfs/home/kabenamualus/.cache/huggingface/datasets/parquet/default-345e64dba63cf209/0.0.0/14a00e99c0d15a23649d0db8944380ac81082d4b021f398733dd84f3a6c569a7...\n"
     ]
    },
    {
     "data": {
      "application/vnd.jupyter.widget-view+json": {
       "model_id": "5e7293d23a6141ccbefe707c7ff5004e",
       "version_major": 2,
       "version_minor": 0
      },
      "text/plain": [
       "Downloading data files:   0%|          | 0/1 [00:00<?, ?it/s]"
      ]
     },
     "metadata": {},
     "output_type": "display_data"
    },
    {
     "data": {
      "application/vnd.jupyter.widget-view+json": {
       "model_id": "9eaa7a7bfc79428a8c9b58481d2cc86f",
       "version_major": 2,
       "version_minor": 0
      },
      "text/plain": [
       "Extracting data files:   0%|          | 0/1 [00:00<?, ?it/s]"
      ]
     },
     "metadata": {},
     "output_type": "display_data"
    },
    {
     "data": {
      "application/vnd.jupyter.widget-view+json": {
       "model_id": "095a1814a1be49c88dab96cb7286523f",
       "version_major": 2,
       "version_minor": 0
      },
      "text/plain": [
       "Generating train split: 0 examples [00:00, ? examples/s]"
      ]
     },
     "metadata": {},
     "output_type": "display_data"
    },
    {
     "name": "stdout",
     "output_type": "stream",
     "text": [
      "Dataset parquet downloaded and prepared to /nfs/home/kabenamualus/.cache/huggingface/datasets/parquet/default-345e64dba63cf209/0.0.0/14a00e99c0d15a23649d0db8944380ac81082d4b021f398733dd84f3a6c569a7. Subsequent calls will reuse this data.\n",
      "Downloading and preparing dataset parquet/default to /nfs/home/kabenamualus/.cache/huggingface/datasets/parquet/default-3d57c4fc9092f3f6/0.0.0/14a00e99c0d15a23649d0db8944380ac81082d4b021f398733dd84f3a6c569a7...\n"
     ]
    },
    {
     "data": {
      "application/vnd.jupyter.widget-view+json": {
       "model_id": "eb7af670e79b4d9e842c7ef3069cd3fd",
       "version_major": 2,
       "version_minor": 0
      },
      "text/plain": [
       "Downloading data files:   0%|          | 0/1 [00:00<?, ?it/s]"
      ]
     },
     "metadata": {},
     "output_type": "display_data"
    },
    {
     "data": {
      "application/vnd.jupyter.widget-view+json": {
       "model_id": "6e7b6e28cf4f4e739081140992175357",
       "version_major": 2,
       "version_minor": 0
      },
      "text/plain": [
       "Extracting data files:   0%|          | 0/1 [00:00<?, ?it/s]"
      ]
     },
     "metadata": {},
     "output_type": "display_data"
    },
    {
     "data": {
      "application/vnd.jupyter.widget-view+json": {
       "model_id": "4d1bdfbf1bca46338e4857c185db892b",
       "version_major": 2,
       "version_minor": 0
      },
      "text/plain": [
       "Generating train split: 0 examples [00:00, ? examples/s]"
      ]
     },
     "metadata": {},
     "output_type": "display_data"
    },
    {
     "name": "stdout",
     "output_type": "stream",
     "text": [
      "Dataset parquet downloaded and prepared to /nfs/home/kabenamualus/.cache/huggingface/datasets/parquet/default-3d57c4fc9092f3f6/0.0.0/14a00e99c0d15a23649d0db8944380ac81082d4b021f398733dd84f3a6c569a7. Subsequent calls will reuse this data.\n",
      "Downloading and preparing dataset parquet/default to /nfs/home/kabenamualus/.cache/huggingface/datasets/parquet/default-27d6f9748ccf79ca/0.0.0/14a00e99c0d15a23649d0db8944380ac81082d4b021f398733dd84f3a6c569a7...\n"
     ]
    },
    {
     "data": {
      "application/vnd.jupyter.widget-view+json": {
       "model_id": "b13da25cc477430d8c2c0d4bb93c41b6",
       "version_major": 2,
       "version_minor": 0
      },
      "text/plain": [
       "Downloading data files:   0%|          | 0/1 [00:00<?, ?it/s]"
      ]
     },
     "metadata": {},
     "output_type": "display_data"
    },
    {
     "data": {
      "application/vnd.jupyter.widget-view+json": {
       "model_id": "77da7ddf0d7547e3be8365e1bb7cf75a",
       "version_major": 2,
       "version_minor": 0
      },
      "text/plain": [
       "Extracting data files:   0%|          | 0/1 [00:00<?, ?it/s]"
      ]
     },
     "metadata": {},
     "output_type": "display_data"
    },
    {
     "data": {
      "application/vnd.jupyter.widget-view+json": {
       "model_id": "d0d4843199634fa7ab9c8ba8c4a70994",
       "version_major": 2,
       "version_minor": 0
      },
      "text/plain": [
       "Generating train split: 0 examples [00:00, ? examples/s]"
      ]
     },
     "metadata": {},
     "output_type": "display_data"
    },
    {
     "name": "stdout",
     "output_type": "stream",
     "text": [
      "Dataset parquet downloaded and prepared to /nfs/home/kabenamualus/.cache/huggingface/datasets/parquet/default-27d6f9748ccf79ca/0.0.0/14a00e99c0d15a23649d0db8944380ac81082d4b021f398733dd84f3a6c569a7. Subsequent calls will reuse this data.\n",
      "Downloading and preparing dataset parquet/default to /nfs/home/kabenamualus/.cache/huggingface/datasets/parquet/default-2b80392ceb7041d9/0.0.0/14a00e99c0d15a23649d0db8944380ac81082d4b021f398733dd84f3a6c569a7...\n"
     ]
    },
    {
     "data": {
      "application/vnd.jupyter.widget-view+json": {
       "model_id": "419551ea88e641b59743befdea4c9e30",
       "version_major": 2,
       "version_minor": 0
      },
      "text/plain": [
       "Downloading data files:   0%|          | 0/1 [00:00<?, ?it/s]"
      ]
     },
     "metadata": {},
     "output_type": "display_data"
    },
    {
     "data": {
      "application/vnd.jupyter.widget-view+json": {
       "model_id": "7a84d12fb856456bb3757c4d06b0c5b3",
       "version_major": 2,
       "version_minor": 0
      },
      "text/plain": [
       "Extracting data files:   0%|          | 0/1 [00:00<?, ?it/s]"
      ]
     },
     "metadata": {},
     "output_type": "display_data"
    },
    {
     "data": {
      "application/vnd.jupyter.widget-view+json": {
       "model_id": "f2c96e030a7c4660aec383761fe4f595",
       "version_major": 2,
       "version_minor": 0
      },
      "text/plain": [
       "Generating train split: 0 examples [00:00, ? examples/s]"
      ]
     },
     "metadata": {},
     "output_type": "display_data"
    },
    {
     "name": "stdout",
     "output_type": "stream",
     "text": [
      "Dataset parquet downloaded and prepared to /nfs/home/kabenamualus/.cache/huggingface/datasets/parquet/default-2b80392ceb7041d9/0.0.0/14a00e99c0d15a23649d0db8944380ac81082d4b021f398733dd84f3a6c569a7. Subsequent calls will reuse this data.\n",
      "DatasetDict({\n",
      "    fold1: DatasetDict({\n",
      "        train: Dataset({\n",
      "            features: ['id', 'prompt', 'answer', '__index_level_0__'],\n",
      "            num_rows: 12388\n",
      "        })\n",
      "        validation: Dataset({\n",
      "            features: ['id', 'prompt', 'answer', '__index_level_0__'],\n",
      "            num_rows: 1642\n",
      "        })\n",
      "        zeroshot: Dataset({\n",
      "            features: ['id', 'prompt', 'answer', '__index_level_0__'],\n",
      "            num_rows: 1200\n",
      "        })\n",
      "    })\n",
      "    fold2: DatasetDict({\n",
      "        train: Dataset({\n",
      "            features: ['id', 'prompt', 'answer', '__index_level_0__'],\n",
      "            num_rows: 12382\n",
      "        })\n",
      "        validation: Dataset({\n",
      "            features: ['id', 'prompt', 'answer', '__index_level_0__'],\n",
      "            num_rows: 1648\n",
      "        })\n",
      "    })\n",
      "})\n"
     ]
    },
    {
     "data": {
      "application/vnd.jupyter.widget-view+json": {
       "model_id": "f2172ae15ba5426cae2c0a4011cc8c1c",
       "version_major": 2,
       "version_minor": 0
      },
      "text/plain": [
       "Saving the dataset (0/1 shards):   0%|          | 0/12388 [00:00<?, ? examples/s]"
      ]
     },
     "metadata": {},
     "output_type": "display_data"
    },
    {
     "data": {
      "application/vnd.jupyter.widget-view+json": {
       "model_id": "41b9982913344a78b43abf8b25a711fe",
       "version_major": 2,
       "version_minor": 0
      },
      "text/plain": [
       "Saving the dataset (0/1 shards):   0%|          | 0/1642 [00:00<?, ? examples/s]"
      ]
     },
     "metadata": {},
     "output_type": "display_data"
    },
    {
     "data": {
      "application/vnd.jupyter.widget-view+json": {
       "model_id": "24424597556e43fc821042585076eeac",
       "version_major": 2,
       "version_minor": 0
      },
      "text/plain": [
       "Saving the dataset (0/1 shards):   0%|          | 0/1200 [00:00<?, ? examples/s]"
      ]
     },
     "metadata": {},
     "output_type": "display_data"
    },
    {
     "data": {
      "application/vnd.jupyter.widget-view+json": {
       "model_id": "bc2445db8b2546139780d3be675aedf2",
       "version_major": 2,
       "version_minor": 0
      },
      "text/plain": [
       "Saving the dataset (0/1 shards):   0%|          | 0/12382 [00:00<?, ? examples/s]"
      ]
     },
     "metadata": {},
     "output_type": "display_data"
    },
    {
     "data": {
      "application/vnd.jupyter.widget-view+json": {
       "model_id": "908d38f9550144bd8ab73f13c19dbedc",
       "version_major": 2,
       "version_minor": 0
      },
      "text/plain": [
       "Saving the dataset (0/1 shards):   0%|          | 0/1648 [00:00<?, ? examples/s]"
      ]
     },
     "metadata": {},
     "output_type": "display_data"
    }
   ],
   "source": [
    "df_train_f1_drop_3 = create_pandas_dataset_from_pandas(df_train_f1,\n",
    "                                                        drop_3 = True,\n",
    "                                                        ) \n",
    "df_dev_f1_drop_3 = create_pandas_dataset_from_pandas(df_dev_f1,\n",
    "                                                        drop_3 = True,\n",
    "                                                        ) \n",
    "df_zeroshot_f1_drop_3 = create_pandas_dataset_from_pandas(df_zeroshot_f1,\n",
    "                                                        drop_3 = True,\n",
    "                                                        ) \n",
    "\n",
    "df_train_f2_drop_3 = create_pandas_dataset_from_pandas(df_train_f2,\n",
    "                                                        drop_3 = True,\n",
    "                                                        ) \n",
    "df_dev_f2_drop_3 = create_pandas_dataset_from_pandas(df_dev_f2,\n",
    "                                                        drop_3 = True,\n",
    "                                                        ) \n",
    "\n",
    "print(\"df_train_f1_drop_3 describe: \")\n",
    "display(df_train_f1_drop_3.describe())\n",
    "print(\"df_dev_f1_drop_3 describe: \")\n",
    "display(df_dev_f1_drop_3.describe())\n",
    "print(\"df_dev_f1_drop_3 describe: \")\n",
    "display(df_dev_f1_drop_3.describe())\n",
    "\n",
    "print(\"df_train_f2_drop_3 describe: \")\n",
    "display(df_train_f2_drop_3.describe())\n",
    "print(\"df_zeroshot_f1_drop_3 describe: \")\n",
    "display(df_zeroshot_f1_drop_3.describe())\n",
    "\n",
    "df_train_f1_drop_3.to_parquet('../data/df_train_tdms_augmented_summarized_with_id_f1_drop_3.parquet')\n",
    "df_dev_f1_drop_3.to_parquet('../data/df_dev_tdms_augmented_summarized_with_id_f1_drop_3.parquet')\n",
    "df_zeroshot_f1_drop_3.to_parquet('../data/df_zeroshot_tdms_augmented_summarized_with_id_f1_drop_3.parquet')\n",
    "\n",
    "df_train_f2_drop_3.to_parquet('../data/df_train_tdms_augmented_summarized_with_id_f2_drop_3.parquet')\n",
    "df_dev_f2_drop_3.to_parquet('../data/df_dev_tdms_augmented_summarized_with_id_f2_drop_3.parquet')\n",
    "\n",
    "dataset = DatasetDict({\n",
    "    'fold1': DatasetDict({\n",
    "        \"train\": Dataset.from_parquet('../data/df_train_tdms_augmented_summarized_with_id_f1_drop_3.parquet'),\n",
    "        \"validation\": Dataset.from_parquet('../data/df_dev_tdms_augmented_summarized_with_id_f1_drop_3.parquet'),\n",
    "        \"zeroshot\": Dataset.from_parquet('../data/df_zeroshot_tdms_augmented_summarized_with_id_f1_drop_3.parquet')\n",
    "    }),\n",
    "    'fold2': DatasetDict({\n",
    "        \"train\": Dataset.from_parquet('../data/df_train_tdms_augmented_summarized_with_id_f2_drop_3.parquet'),\n",
    "        \"validation\": Dataset.from_parquet('../data/df_dev_tdms_augmented_summarized_with_id_f2_drop_3.parquet')\n",
    "    })\n",
    "})\n",
    "\n",
    "print(dataset)\n",
    "\n",
    "dataset.save_to_disk(\"../data/LLLM_AUGMENTED_SUMMARIZED_WITH_ID_ZEROSHOT_TDMS_DROP_3\")"
   ]
  },
  {
   "cell_type": "code",
   "execution_count": 99,
   "metadata": {},
   "outputs": [
    {
     "name": "stderr",
     "output_type": "stream",
     "text": [
      "  6%|▋         | 802/12388 [00:01<00:14, 779.80it/s]"
     ]
    },
    {
     "name": "stderr",
     "output_type": "stream",
     "text": [
      "100%|██████████| 12388/12388 [00:17<00:00, 694.01it/s]\n",
      "100%|██████████| 1642/1642 [00:02<00:00, 783.72it/s]\n",
      "100%|██████████| 1200/1200 [00:01<00:00, 789.15it/s]\n",
      "100%|██████████| 12382/12382 [00:17<00:00, 693.93it/s]\n",
      "100%|██████████| 1648/1648 [00:02<00:00, 785.91it/s]\n"
     ]
    },
    {
     "name": "stdout",
     "output_type": "stream",
     "text": [
      "df_train_f1_drop_4 describe: \n"
     ]
    },
    {
     "data": {
      "text/html": [
       "<div>\n",
       "<style scoped>\n",
       "    .dataframe tbody tr th:only-of-type {\n",
       "        vertical-align: middle;\n",
       "    }\n",
       "\n",
       "    .dataframe tbody tr th {\n",
       "        vertical-align: top;\n",
       "    }\n",
       "\n",
       "    .dataframe thead th {\n",
       "        text-align: right;\n",
       "    }\n",
       "</style>\n",
       "<table border=\"1\" class=\"dataframe\">\n",
       "  <thead>\n",
       "    <tr style=\"text-align: right;\">\n",
       "      <th></th>\n",
       "      <th>id</th>\n",
       "      <th>prompt</th>\n",
       "      <th>answer</th>\n",
       "    </tr>\n",
       "  </thead>\n",
       "  <tbody>\n",
       "    <tr>\n",
       "      <th>count</th>\n",
       "      <td>12388</td>\n",
       "      <td>12388</td>\n",
       "      <td>12388</td>\n",
       "    </tr>\n",
       "    <tr>\n",
       "      <th>unique</th>\n",
       "      <td>12388</td>\n",
       "      <td>12312</td>\n",
       "      <td>7976</td>\n",
       "    </tr>\n",
       "    <tr>\n",
       "      <th>top</th>\n",
       "      <td>1707.03497v2.pdf</td>\n",
       "      <td>Title:\\t\\n\\nAbstract:\\t\\n\\n[image]\\n\\nAnswer t...</td>\n",
       "      <td>unanswerable</td>\n",
       "    </tr>\n",
       "    <tr>\n",
       "      <th>freq</th>\n",
       "      <td>1</td>\n",
       "      <td>20</td>\n",
       "      <td>4401</td>\n",
       "    </tr>\n",
       "  </tbody>\n",
       "</table>\n",
       "</div>"
      ],
      "text/plain": [
       "                      id                                             prompt  \\\n",
       "count              12388                                              12388   \n",
       "unique             12388                                              12312   \n",
       "top     1707.03497v2.pdf  Title:\\t\\n\\nAbstract:\\t\\n\\n[image]\\n\\nAnswer t...   \n",
       "freq                   1                                                 20   \n",
       "\n",
       "              answer  \n",
       "count          12388  \n",
       "unique          7976  \n",
       "top     unanswerable  \n",
       "freq            4401  "
      ]
     },
     "metadata": {},
     "output_type": "display_data"
    },
    {
     "name": "stdout",
     "output_type": "stream",
     "text": [
      "df_dev_f1_drop_4 describe: \n"
     ]
    },
    {
     "data": {
      "text/html": [
       "<div>\n",
       "<style scoped>\n",
       "    .dataframe tbody tr th:only-of-type {\n",
       "        vertical-align: middle;\n",
       "    }\n",
       "\n",
       "    .dataframe tbody tr th {\n",
       "        vertical-align: top;\n",
       "    }\n",
       "\n",
       "    .dataframe thead th {\n",
       "        text-align: right;\n",
       "    }\n",
       "</style>\n",
       "<table border=\"1\" class=\"dataframe\">\n",
       "  <thead>\n",
       "    <tr style=\"text-align: right;\">\n",
       "      <th></th>\n",
       "      <th>id</th>\n",
       "      <th>prompt</th>\n",
       "      <th>answer</th>\n",
       "    </tr>\n",
       "  </thead>\n",
       "  <tbody>\n",
       "    <tr>\n",
       "      <th>count</th>\n",
       "      <td>1642</td>\n",
       "      <td>1642</td>\n",
       "      <td>1642</td>\n",
       "    </tr>\n",
       "    <tr>\n",
       "      <th>unique</th>\n",
       "      <td>1642</td>\n",
       "      <td>1641</td>\n",
       "      <td>994</td>\n",
       "    </tr>\n",
       "    <tr>\n",
       "      <th>top</th>\n",
       "      <td>1810.02575v1.pdf</td>\n",
       "      <td>Title:\\tA Sample ACM SIG Proceedings Paper in ...</td>\n",
       "      <td>unanswerable</td>\n",
       "    </tr>\n",
       "    <tr>\n",
       "      <th>freq</th>\n",
       "      <td>1</td>\n",
       "      <td>2</td>\n",
       "      <td>648</td>\n",
       "    </tr>\n",
       "  </tbody>\n",
       "</table>\n",
       "</div>"
      ],
      "text/plain": [
       "                      id                                             prompt  \\\n",
       "count               1642                                               1642   \n",
       "unique              1642                                               1641   \n",
       "top     1810.02575v1.pdf  Title:\\tA Sample ACM SIG Proceedings Paper in ...   \n",
       "freq                   1                                                  2   \n",
       "\n",
       "              answer  \n",
       "count           1642  \n",
       "unique           994  \n",
       "top     unanswerable  \n",
       "freq             648  "
      ]
     },
     "metadata": {},
     "output_type": "display_data"
    },
    {
     "name": "stdout",
     "output_type": "stream",
     "text": [
      "df_dev_f1_drop_4 describe: \n"
     ]
    },
    {
     "data": {
      "text/html": [
       "<div>\n",
       "<style scoped>\n",
       "    .dataframe tbody tr th:only-of-type {\n",
       "        vertical-align: middle;\n",
       "    }\n",
       "\n",
       "    .dataframe tbody tr th {\n",
       "        vertical-align: top;\n",
       "    }\n",
       "\n",
       "    .dataframe thead th {\n",
       "        text-align: right;\n",
       "    }\n",
       "</style>\n",
       "<table border=\"1\" class=\"dataframe\">\n",
       "  <thead>\n",
       "    <tr style=\"text-align: right;\">\n",
       "      <th></th>\n",
       "      <th>id</th>\n",
       "      <th>prompt</th>\n",
       "      <th>answer</th>\n",
       "    </tr>\n",
       "  </thead>\n",
       "  <tbody>\n",
       "    <tr>\n",
       "      <th>count</th>\n",
       "      <td>1642</td>\n",
       "      <td>1642</td>\n",
       "      <td>1642</td>\n",
       "    </tr>\n",
       "    <tr>\n",
       "      <th>unique</th>\n",
       "      <td>1642</td>\n",
       "      <td>1641</td>\n",
       "      <td>994</td>\n",
       "    </tr>\n",
       "    <tr>\n",
       "      <th>top</th>\n",
       "      <td>1810.02575v1.pdf</td>\n",
       "      <td>Title:\\tA Sample ACM SIG Proceedings Paper in ...</td>\n",
       "      <td>unanswerable</td>\n",
       "    </tr>\n",
       "    <tr>\n",
       "      <th>freq</th>\n",
       "      <td>1</td>\n",
       "      <td>2</td>\n",
       "      <td>648</td>\n",
       "    </tr>\n",
       "  </tbody>\n",
       "</table>\n",
       "</div>"
      ],
      "text/plain": [
       "                      id                                             prompt  \\\n",
       "count               1642                                               1642   \n",
       "unique              1642                                               1641   \n",
       "top     1810.02575v1.pdf  Title:\\tA Sample ACM SIG Proceedings Paper in ...   \n",
       "freq                   1                                                  2   \n",
       "\n",
       "              answer  \n",
       "count           1642  \n",
       "unique           994  \n",
       "top     unanswerable  \n",
       "freq             648  "
      ]
     },
     "metadata": {},
     "output_type": "display_data"
    },
    {
     "name": "stdout",
     "output_type": "stream",
     "text": [
      "df_train_f2_drop_4 describe: \n"
     ]
    },
    {
     "data": {
      "text/html": [
       "<div>\n",
       "<style scoped>\n",
       "    .dataframe tbody tr th:only-of-type {\n",
       "        vertical-align: middle;\n",
       "    }\n",
       "\n",
       "    .dataframe tbody tr th {\n",
       "        vertical-align: top;\n",
       "    }\n",
       "\n",
       "    .dataframe thead th {\n",
       "        text-align: right;\n",
       "    }\n",
       "</style>\n",
       "<table border=\"1\" class=\"dataframe\">\n",
       "  <thead>\n",
       "    <tr style=\"text-align: right;\">\n",
       "      <th></th>\n",
       "      <th>id</th>\n",
       "      <th>prompt</th>\n",
       "      <th>answer</th>\n",
       "    </tr>\n",
       "  </thead>\n",
       "  <tbody>\n",
       "    <tr>\n",
       "      <th>count</th>\n",
       "      <td>12382</td>\n",
       "      <td>12382</td>\n",
       "      <td>12382</td>\n",
       "    </tr>\n",
       "    <tr>\n",
       "      <th>unique</th>\n",
       "      <td>12382</td>\n",
       "      <td>12311</td>\n",
       "      <td>7988</td>\n",
       "    </tr>\n",
       "    <tr>\n",
       "      <th>top</th>\n",
       "      <td>1707.03497v2.pdf</td>\n",
       "      <td>Title:\\t\\n\\nAbstract:\\t\\n\\n[image]\\n\\nAnswer t...</td>\n",
       "      <td>unanswerable</td>\n",
       "    </tr>\n",
       "    <tr>\n",
       "      <th>freq</th>\n",
       "      <td>1</td>\n",
       "      <td>20</td>\n",
       "      <td>4383</td>\n",
       "    </tr>\n",
       "  </tbody>\n",
       "</table>\n",
       "</div>"
      ],
      "text/plain": [
       "                      id                                             prompt  \\\n",
       "count              12382                                              12382   \n",
       "unique             12382                                              12311   \n",
       "top     1707.03497v2.pdf  Title:\\t\\n\\nAbstract:\\t\\n\\n[image]\\n\\nAnswer t...   \n",
       "freq                   1                                                 20   \n",
       "\n",
       "              answer  \n",
       "count          12382  \n",
       "unique          7988  \n",
       "top     unanswerable  \n",
       "freq            4383  "
      ]
     },
     "metadata": {},
     "output_type": "display_data"
    },
    {
     "name": "stdout",
     "output_type": "stream",
     "text": [
      "df_zeroshot_f1_drop_4 describe: \n"
     ]
    },
    {
     "data": {
      "text/html": [
       "<div>\n",
       "<style scoped>\n",
       "    .dataframe tbody tr th:only-of-type {\n",
       "        vertical-align: middle;\n",
       "    }\n",
       "\n",
       "    .dataframe tbody tr th {\n",
       "        vertical-align: top;\n",
       "    }\n",
       "\n",
       "    .dataframe thead th {\n",
       "        text-align: right;\n",
       "    }\n",
       "</style>\n",
       "<table border=\"1\" class=\"dataframe\">\n",
       "  <thead>\n",
       "    <tr style=\"text-align: right;\">\n",
       "      <th></th>\n",
       "      <th>id</th>\n",
       "      <th>prompt</th>\n",
       "      <th>answer</th>\n",
       "    </tr>\n",
       "  </thead>\n",
       "  <tbody>\n",
       "    <tr>\n",
       "      <th>count</th>\n",
       "      <td>1200</td>\n",
       "      <td>1200</td>\n",
       "      <td>1200</td>\n",
       "    </tr>\n",
       "    <tr>\n",
       "      <th>unique</th>\n",
       "      <td>1200</td>\n",
       "      <td>1197</td>\n",
       "      <td>653</td>\n",
       "    </tr>\n",
       "    <tr>\n",
       "      <th>top</th>\n",
       "      <td>2209.03182v1.pdf</td>\n",
       "      <td>Title:\\t\\n\\nAbstract:\\t\\n\\n[image]\\n\\nAnswer t...</td>\n",
       "      <td>unanswerable</td>\n",
       "    </tr>\n",
       "    <tr>\n",
       "      <th>freq</th>\n",
       "      <td>1</td>\n",
       "      <td>3</td>\n",
       "      <td>548</td>\n",
       "    </tr>\n",
       "  </tbody>\n",
       "</table>\n",
       "</div>"
      ],
      "text/plain": [
       "                      id                                             prompt  \\\n",
       "count               1200                                               1200   \n",
       "unique              1200                                               1197   \n",
       "top     2209.03182v1.pdf  Title:\\t\\n\\nAbstract:\\t\\n\\n[image]\\n\\nAnswer t...   \n",
       "freq                   1                                                  3   \n",
       "\n",
       "              answer  \n",
       "count           1200  \n",
       "unique           653  \n",
       "top     unanswerable  \n",
       "freq             548  "
      ]
     },
     "metadata": {},
     "output_type": "display_data"
    },
    {
     "name": "stdout",
     "output_type": "stream",
     "text": [
      "Downloading and preparing dataset parquet/default to /nfs/home/kabenamualus/.cache/huggingface/datasets/parquet/default-55886ba5612e421c/0.0.0/14a00e99c0d15a23649d0db8944380ac81082d4b021f398733dd84f3a6c569a7...\n"
     ]
    },
    {
     "data": {
      "application/vnd.jupyter.widget-view+json": {
       "model_id": "5f18d127e1184a8f90b2599461867723",
       "version_major": 2,
       "version_minor": 0
      },
      "text/plain": [
       "Downloading data files:   0%|          | 0/1 [00:00<?, ?it/s]"
      ]
     },
     "metadata": {},
     "output_type": "display_data"
    },
    {
     "data": {
      "application/vnd.jupyter.widget-view+json": {
       "model_id": "160cc8b38eb24768873ff1b586210226",
       "version_major": 2,
       "version_minor": 0
      },
      "text/plain": [
       "Extracting data files:   0%|          | 0/1 [00:00<?, ?it/s]"
      ]
     },
     "metadata": {},
     "output_type": "display_data"
    },
    {
     "data": {
      "application/vnd.jupyter.widget-view+json": {
       "model_id": "754c0bf15cfa4885aa03d1d6bce50f59",
       "version_major": 2,
       "version_minor": 0
      },
      "text/plain": [
       "Generating train split: 0 examples [00:00, ? examples/s]"
      ]
     },
     "metadata": {},
     "output_type": "display_data"
    },
    {
     "name": "stdout",
     "output_type": "stream",
     "text": [
      "Dataset parquet downloaded and prepared to /nfs/home/kabenamualus/.cache/huggingface/datasets/parquet/default-55886ba5612e421c/0.0.0/14a00e99c0d15a23649d0db8944380ac81082d4b021f398733dd84f3a6c569a7. Subsequent calls will reuse this data.\n",
      "Downloading and preparing dataset parquet/default to /nfs/home/kabenamualus/.cache/huggingface/datasets/parquet/default-f1622ff6a942563b/0.0.0/14a00e99c0d15a23649d0db8944380ac81082d4b021f398733dd84f3a6c569a7...\n"
     ]
    },
    {
     "data": {
      "application/vnd.jupyter.widget-view+json": {
       "model_id": "9821e1f220314b91851eb685990e3578",
       "version_major": 2,
       "version_minor": 0
      },
      "text/plain": [
       "Downloading data files:   0%|          | 0/1 [00:00<?, ?it/s]"
      ]
     },
     "metadata": {},
     "output_type": "display_data"
    },
    {
     "data": {
      "application/vnd.jupyter.widget-view+json": {
       "model_id": "4503e8f0bfd44f48b42132bbffab118f",
       "version_major": 2,
       "version_minor": 0
      },
      "text/plain": [
       "Extracting data files:   0%|          | 0/1 [00:00<?, ?it/s]"
      ]
     },
     "metadata": {},
     "output_type": "display_data"
    },
    {
     "data": {
      "application/vnd.jupyter.widget-view+json": {
       "model_id": "629f9d3e7142404488fd6641f0afea55",
       "version_major": 2,
       "version_minor": 0
      },
      "text/plain": [
       "Generating train split: 0 examples [00:00, ? examples/s]"
      ]
     },
     "metadata": {},
     "output_type": "display_data"
    },
    {
     "name": "stdout",
     "output_type": "stream",
     "text": [
      "Dataset parquet downloaded and prepared to /nfs/home/kabenamualus/.cache/huggingface/datasets/parquet/default-f1622ff6a942563b/0.0.0/14a00e99c0d15a23649d0db8944380ac81082d4b021f398733dd84f3a6c569a7. Subsequent calls will reuse this data.\n",
      "Downloading and preparing dataset parquet/default to /nfs/home/kabenamualus/.cache/huggingface/datasets/parquet/default-a5334dc444c47e35/0.0.0/14a00e99c0d15a23649d0db8944380ac81082d4b021f398733dd84f3a6c569a7...\n"
     ]
    },
    {
     "data": {
      "application/vnd.jupyter.widget-view+json": {
       "model_id": "014f6bff8394463680bae19f716de800",
       "version_major": 2,
       "version_minor": 0
      },
      "text/plain": [
       "Downloading data files:   0%|          | 0/1 [00:00<?, ?it/s]"
      ]
     },
     "metadata": {},
     "output_type": "display_data"
    },
    {
     "data": {
      "application/vnd.jupyter.widget-view+json": {
       "model_id": "039d75147be9478492ffd193fdab0c87",
       "version_major": 2,
       "version_minor": 0
      },
      "text/plain": [
       "Extracting data files:   0%|          | 0/1 [00:00<?, ?it/s]"
      ]
     },
     "metadata": {},
     "output_type": "display_data"
    },
    {
     "data": {
      "application/vnd.jupyter.widget-view+json": {
       "model_id": "e2bf16abdd9942529c89b4c11316d4a3",
       "version_major": 2,
       "version_minor": 0
      },
      "text/plain": [
       "Generating train split: 0 examples [00:00, ? examples/s]"
      ]
     },
     "metadata": {},
     "output_type": "display_data"
    },
    {
     "name": "stdout",
     "output_type": "stream",
     "text": [
      "Dataset parquet downloaded and prepared to /nfs/home/kabenamualus/.cache/huggingface/datasets/parquet/default-a5334dc444c47e35/0.0.0/14a00e99c0d15a23649d0db8944380ac81082d4b021f398733dd84f3a6c569a7. Subsequent calls will reuse this data.\n",
      "Downloading and preparing dataset parquet/default to /nfs/home/kabenamualus/.cache/huggingface/datasets/parquet/default-be77d99bb0cf5de7/0.0.0/14a00e99c0d15a23649d0db8944380ac81082d4b021f398733dd84f3a6c569a7...\n"
     ]
    },
    {
     "data": {
      "application/vnd.jupyter.widget-view+json": {
       "model_id": "c69c6015652b49a1b98d96ff0476d1f4",
       "version_major": 2,
       "version_minor": 0
      },
      "text/plain": [
       "Downloading data files:   0%|          | 0/1 [00:00<?, ?it/s]"
      ]
     },
     "metadata": {},
     "output_type": "display_data"
    },
    {
     "data": {
      "application/vnd.jupyter.widget-view+json": {
       "model_id": "f54e326bbd894c77a96cc4ae40f414a9",
       "version_major": 2,
       "version_minor": 0
      },
      "text/plain": [
       "Extracting data files:   0%|          | 0/1 [00:00<?, ?it/s]"
      ]
     },
     "metadata": {},
     "output_type": "display_data"
    },
    {
     "data": {
      "application/vnd.jupyter.widget-view+json": {
       "model_id": "fe9af73c6118411286f0df539a1eee82",
       "version_major": 2,
       "version_minor": 0
      },
      "text/plain": [
       "Generating train split: 0 examples [00:00, ? examples/s]"
      ]
     },
     "metadata": {},
     "output_type": "display_data"
    },
    {
     "name": "stdout",
     "output_type": "stream",
     "text": [
      "Dataset parquet downloaded and prepared to /nfs/home/kabenamualus/.cache/huggingface/datasets/parquet/default-be77d99bb0cf5de7/0.0.0/14a00e99c0d15a23649d0db8944380ac81082d4b021f398733dd84f3a6c569a7. Subsequent calls will reuse this data.\n",
      "Downloading and preparing dataset parquet/default to /nfs/home/kabenamualus/.cache/huggingface/datasets/parquet/default-f41f023753d850e7/0.0.0/14a00e99c0d15a23649d0db8944380ac81082d4b021f398733dd84f3a6c569a7...\n"
     ]
    },
    {
     "data": {
      "application/vnd.jupyter.widget-view+json": {
       "model_id": "4e79855caa934e569d219028d42f4c62",
       "version_major": 2,
       "version_minor": 0
      },
      "text/plain": [
       "Downloading data files:   0%|          | 0/1 [00:00<?, ?it/s]"
      ]
     },
     "metadata": {},
     "output_type": "display_data"
    },
    {
     "data": {
      "application/vnd.jupyter.widget-view+json": {
       "model_id": "2da03786cfea4118ba0074047789bb6d",
       "version_major": 2,
       "version_minor": 0
      },
      "text/plain": [
       "Extracting data files:   0%|          | 0/1 [00:00<?, ?it/s]"
      ]
     },
     "metadata": {},
     "output_type": "display_data"
    },
    {
     "data": {
      "application/vnd.jupyter.widget-view+json": {
       "model_id": "5b7131c256904247afa5020cea9096dc",
       "version_major": 2,
       "version_minor": 0
      },
      "text/plain": [
       "Generating train split: 0 examples [00:00, ? examples/s]"
      ]
     },
     "metadata": {},
     "output_type": "display_data"
    },
    {
     "name": "stdout",
     "output_type": "stream",
     "text": [
      "Dataset parquet downloaded and prepared to /nfs/home/kabenamualus/.cache/huggingface/datasets/parquet/default-f41f023753d850e7/0.0.0/14a00e99c0d15a23649d0db8944380ac81082d4b021f398733dd84f3a6c569a7. Subsequent calls will reuse this data.\n",
      "DatasetDict({\n",
      "    fold1: DatasetDict({\n",
      "        train: Dataset({\n",
      "            features: ['id', 'prompt', 'answer', '__index_level_0__'],\n",
      "            num_rows: 12388\n",
      "        })\n",
      "        validation: Dataset({\n",
      "            features: ['id', 'prompt', 'answer', '__index_level_0__'],\n",
      "            num_rows: 1642\n",
      "        })\n",
      "        zeroshot: Dataset({\n",
      "            features: ['id', 'prompt', 'answer', '__index_level_0__'],\n",
      "            num_rows: 1200\n",
      "        })\n",
      "    })\n",
      "    fold2: DatasetDict({\n",
      "        train: Dataset({\n",
      "            features: ['id', 'prompt', 'answer', '__index_level_0__'],\n",
      "            num_rows: 12382\n",
      "        })\n",
      "        validation: Dataset({\n",
      "            features: ['id', 'prompt', 'answer', '__index_level_0__'],\n",
      "            num_rows: 1648\n",
      "        })\n",
      "    })\n",
      "})\n"
     ]
    },
    {
     "data": {
      "application/vnd.jupyter.widget-view+json": {
       "model_id": "7dc08d42a04c493f9a2a25e39569c53f",
       "version_major": 2,
       "version_minor": 0
      },
      "text/plain": [
       "Saving the dataset (0/1 shards):   0%|          | 0/12388 [00:00<?, ? examples/s]"
      ]
     },
     "metadata": {},
     "output_type": "display_data"
    },
    {
     "data": {
      "application/vnd.jupyter.widget-view+json": {
       "model_id": "c1163773dfb74db9806f2ce4aa14c6fb",
       "version_major": 2,
       "version_minor": 0
      },
      "text/plain": [
       "Saving the dataset (0/1 shards):   0%|          | 0/1642 [00:00<?, ? examples/s]"
      ]
     },
     "metadata": {},
     "output_type": "display_data"
    },
    {
     "data": {
      "application/vnd.jupyter.widget-view+json": {
       "model_id": "dd5dc803b31d4d6ca47a6f4f1420cd8e",
       "version_major": 2,
       "version_minor": 0
      },
      "text/plain": [
       "Saving the dataset (0/1 shards):   0%|          | 0/1200 [00:00<?, ? examples/s]"
      ]
     },
     "metadata": {},
     "output_type": "display_data"
    },
    {
     "data": {
      "application/vnd.jupyter.widget-view+json": {
       "model_id": "0b484bfa1f404ee5843197d36536ab8b",
       "version_major": 2,
       "version_minor": 0
      },
      "text/plain": [
       "Saving the dataset (0/1 shards):   0%|          | 0/12382 [00:00<?, ? examples/s]"
      ]
     },
     "metadata": {},
     "output_type": "display_data"
    },
    {
     "data": {
      "application/vnd.jupyter.widget-view+json": {
       "model_id": "785fedc2ce0748ed879e28d7076186e0",
       "version_major": 2,
       "version_minor": 0
      },
      "text/plain": [
       "Saving the dataset (0/1 shards):   0%|          | 0/1648 [00:00<?, ? examples/s]"
      ]
     },
     "metadata": {},
     "output_type": "display_data"
    }
   ],
   "source": [
    "df_train_f1_drop_4 = create_pandas_dataset_from_pandas(df_train_f1,\n",
    "                                                        drop_4 = True,\n",
    "                                                        ) \n",
    "df_dev_f1_drop_4 = create_pandas_dataset_from_pandas(df_dev_f1,\n",
    "                                                        drop_4 = True,\n",
    "                                                        ) \n",
    "df_zeroshot_f1_drop_4 = create_pandas_dataset_from_pandas(df_zeroshot_f1,\n",
    "                                                        drop_4 = True,\n",
    "                                                        ) \n",
    "\n",
    "df_train_f2_drop_4 = create_pandas_dataset_from_pandas(df_train_f2,\n",
    "                                                        drop_4 = True,\n",
    "                                                        ) \n",
    "df_dev_f2_drop_4 = create_pandas_dataset_from_pandas(df_dev_f2,\n",
    "                                                        drop_4 = True,\n",
    "                                                        ) \n",
    "\n",
    "print(\"df_train_f1_drop_4 describe: \")\n",
    "display(df_train_f1_drop_4.describe())\n",
    "print(\"df_dev_f1_drop_4 describe: \")\n",
    "display(df_dev_f1_drop_4.describe())\n",
    "print(\"df_dev_f1_drop_4 describe: \")\n",
    "display(df_dev_f1_drop_4.describe())\n",
    "\n",
    "print(\"df_train_f2_drop_4 describe: \")\n",
    "display(df_train_f2_drop_4.describe())\n",
    "print(\"df_zeroshot_f1_drop_4 describe: \")\n",
    "display(df_zeroshot_f1_drop_4.describe())\n",
    "\n",
    "df_train_f1_drop_4.to_parquet('../data/df_train_tdms_augmented_summarized_with_id_f1_drop_4.parquet')\n",
    "df_dev_f1_drop_4.to_parquet('../data/df_dev_tdms_augmented_summarized_with_id_f1_drop_4.parquet')\n",
    "df_zeroshot_f1_drop_4.to_parquet('../data/df_zeroshot_tdms_augmented_summarized_with_id_f1_drop_4.parquet')\n",
    "\n",
    "df_train_f2_drop_4.to_parquet('../data/df_train_tdms_augmented_summarized_with_id_f2_drop_4.parquet')\n",
    "df_dev_f2_drop_4.to_parquet('../data/df_dev_tdms_augmented_summarized_with_id_f2_drop_4.parquet')\n",
    "\n",
    "dataset = DatasetDict({\n",
    "    'fold1': DatasetDict({\n",
    "        \"train\": Dataset.from_parquet('../data/df_train_tdms_augmented_summarized_with_id_f1_drop_4.parquet'),\n",
    "        \"validation\": Dataset.from_parquet('../data/df_dev_tdms_augmented_summarized_with_id_f1_drop_4.parquet'),\n",
    "        \"zeroshot\": Dataset.from_parquet('../data/df_zeroshot_tdms_augmented_summarized_with_id_f1_drop_4.parquet')\n",
    "    }),\n",
    "    'fold2': DatasetDict({\n",
    "        \"train\": Dataset.from_parquet('../data/df_train_tdms_augmented_summarized_with_id_f2_drop_4.parquet'),\n",
    "        \"validation\": Dataset.from_parquet('../data/df_dev_tdms_augmented_summarized_with_id_f2_drop_4.parquet')\n",
    "    })\n",
    "})\n",
    "\n",
    "print(dataset)\n",
    "\n",
    "dataset.save_to_disk(\"../data/LLLM_AUGMENTED_SUMMARIZED_WITH_ID_ZEROSHOT_TDMS_DROP_4\")"
   ]
  },
  {
   "cell_type": "code",
   "execution_count": 100,
   "metadata": {},
   "outputs": [
    {
     "name": "stderr",
     "output_type": "stream",
     "text": [
      "  0%|          | 0/12388 [00:00<?, ?it/s]"
     ]
    },
    {
     "name": "stderr",
     "output_type": "stream",
     "text": [
      "100%|██████████| 12388/12388 [00:17<00:00, 701.26it/s]\n",
      "100%|██████████| 1642/1642 [00:02<00:00, 788.09it/s]\n",
      "100%|██████████| 1200/1200 [00:01<00:00, 796.01it/s]\n",
      "100%|██████████| 12382/12382 [00:17<00:00, 698.52it/s]\n",
      "100%|██████████| 1648/1648 [00:02<00:00, 791.49it/s]\n"
     ]
    },
    {
     "name": "stdout",
     "output_type": "stream",
     "text": [
      "df_train_f1_drop_5 describe: \n"
     ]
    },
    {
     "data": {
      "text/html": [
       "<div>\n",
       "<style scoped>\n",
       "    .dataframe tbody tr th:only-of-type {\n",
       "        vertical-align: middle;\n",
       "    }\n",
       "\n",
       "    .dataframe tbody tr th {\n",
       "        vertical-align: top;\n",
       "    }\n",
       "\n",
       "    .dataframe thead th {\n",
       "        text-align: right;\n",
       "    }\n",
       "</style>\n",
       "<table border=\"1\" class=\"dataframe\">\n",
       "  <thead>\n",
       "    <tr style=\"text-align: right;\">\n",
       "      <th></th>\n",
       "      <th>id</th>\n",
       "      <th>prompt</th>\n",
       "      <th>answer</th>\n",
       "    </tr>\n",
       "  </thead>\n",
       "  <tbody>\n",
       "    <tr>\n",
       "      <th>count</th>\n",
       "      <td>12388</td>\n",
       "      <td>12388</td>\n",
       "      <td>12388</td>\n",
       "    </tr>\n",
       "    <tr>\n",
       "      <th>unique</th>\n",
       "      <td>12388</td>\n",
       "      <td>12312</td>\n",
       "      <td>7976</td>\n",
       "    </tr>\n",
       "    <tr>\n",
       "      <th>top</th>\n",
       "      <td>1707.03497v2.pdf</td>\n",
       "      <td>Read this article and answer this question Tit...</td>\n",
       "      <td>unanswerable</td>\n",
       "    </tr>\n",
       "    <tr>\n",
       "      <th>freq</th>\n",
       "      <td>1</td>\n",
       "      <td>20</td>\n",
       "      <td>4401</td>\n",
       "    </tr>\n",
       "  </tbody>\n",
       "</table>\n",
       "</div>"
      ],
      "text/plain": [
       "                      id                                             prompt  \\\n",
       "count              12388                                              12388   \n",
       "unique             12388                                              12312   \n",
       "top     1707.03497v2.pdf  Read this article and answer this question Tit...   \n",
       "freq                   1                                                 20   \n",
       "\n",
       "              answer  \n",
       "count          12388  \n",
       "unique          7976  \n",
       "top     unanswerable  \n",
       "freq            4401  "
      ]
     },
     "metadata": {},
     "output_type": "display_data"
    },
    {
     "name": "stdout",
     "output_type": "stream",
     "text": [
      "df_dev_f1_drop_5 describe: \n"
     ]
    },
    {
     "data": {
      "text/html": [
       "<div>\n",
       "<style scoped>\n",
       "    .dataframe tbody tr th:only-of-type {\n",
       "        vertical-align: middle;\n",
       "    }\n",
       "\n",
       "    .dataframe tbody tr th {\n",
       "        vertical-align: top;\n",
       "    }\n",
       "\n",
       "    .dataframe thead th {\n",
       "        text-align: right;\n",
       "    }\n",
       "</style>\n",
       "<table border=\"1\" class=\"dataframe\">\n",
       "  <thead>\n",
       "    <tr style=\"text-align: right;\">\n",
       "      <th></th>\n",
       "      <th>id</th>\n",
       "      <th>prompt</th>\n",
       "      <th>answer</th>\n",
       "    </tr>\n",
       "  </thead>\n",
       "  <tbody>\n",
       "    <tr>\n",
       "      <th>count</th>\n",
       "      <td>1642</td>\n",
       "      <td>1642</td>\n",
       "      <td>1642</td>\n",
       "    </tr>\n",
       "    <tr>\n",
       "      <th>unique</th>\n",
       "      <td>1642</td>\n",
       "      <td>1641</td>\n",
       "      <td>994</td>\n",
       "    </tr>\n",
       "    <tr>\n",
       "      <th>top</th>\n",
       "      <td>1810.02575v1.pdf</td>\n",
       "      <td>Read this article and answer this question Tit...</td>\n",
       "      <td>unanswerable</td>\n",
       "    </tr>\n",
       "    <tr>\n",
       "      <th>freq</th>\n",
       "      <td>1</td>\n",
       "      <td>2</td>\n",
       "      <td>648</td>\n",
       "    </tr>\n",
       "  </tbody>\n",
       "</table>\n",
       "</div>"
      ],
      "text/plain": [
       "                      id                                             prompt  \\\n",
       "count               1642                                               1642   \n",
       "unique              1642                                               1641   \n",
       "top     1810.02575v1.pdf  Read this article and answer this question Tit...   \n",
       "freq                   1                                                  2   \n",
       "\n",
       "              answer  \n",
       "count           1642  \n",
       "unique           994  \n",
       "top     unanswerable  \n",
       "freq             648  "
      ]
     },
     "metadata": {},
     "output_type": "display_data"
    },
    {
     "name": "stdout",
     "output_type": "stream",
     "text": [
      "df_dev_f1_drop_5 describe: \n"
     ]
    },
    {
     "data": {
      "text/html": [
       "<div>\n",
       "<style scoped>\n",
       "    .dataframe tbody tr th:only-of-type {\n",
       "        vertical-align: middle;\n",
       "    }\n",
       "\n",
       "    .dataframe tbody tr th {\n",
       "        vertical-align: top;\n",
       "    }\n",
       "\n",
       "    .dataframe thead th {\n",
       "        text-align: right;\n",
       "    }\n",
       "</style>\n",
       "<table border=\"1\" class=\"dataframe\">\n",
       "  <thead>\n",
       "    <tr style=\"text-align: right;\">\n",
       "      <th></th>\n",
       "      <th>id</th>\n",
       "      <th>prompt</th>\n",
       "      <th>answer</th>\n",
       "    </tr>\n",
       "  </thead>\n",
       "  <tbody>\n",
       "    <tr>\n",
       "      <th>count</th>\n",
       "      <td>1642</td>\n",
       "      <td>1642</td>\n",
       "      <td>1642</td>\n",
       "    </tr>\n",
       "    <tr>\n",
       "      <th>unique</th>\n",
       "      <td>1642</td>\n",
       "      <td>1641</td>\n",
       "      <td>994</td>\n",
       "    </tr>\n",
       "    <tr>\n",
       "      <th>top</th>\n",
       "      <td>1810.02575v1.pdf</td>\n",
       "      <td>Read this article and answer this question Tit...</td>\n",
       "      <td>unanswerable</td>\n",
       "    </tr>\n",
       "    <tr>\n",
       "      <th>freq</th>\n",
       "      <td>1</td>\n",
       "      <td>2</td>\n",
       "      <td>648</td>\n",
       "    </tr>\n",
       "  </tbody>\n",
       "</table>\n",
       "</div>"
      ],
      "text/plain": [
       "                      id                                             prompt  \\\n",
       "count               1642                                               1642   \n",
       "unique              1642                                               1641   \n",
       "top     1810.02575v1.pdf  Read this article and answer this question Tit...   \n",
       "freq                   1                                                  2   \n",
       "\n",
       "              answer  \n",
       "count           1642  \n",
       "unique           994  \n",
       "top     unanswerable  \n",
       "freq             648  "
      ]
     },
     "metadata": {},
     "output_type": "display_data"
    },
    {
     "name": "stdout",
     "output_type": "stream",
     "text": [
      "df_train_f2_drop_5 describe: \n"
     ]
    },
    {
     "data": {
      "text/html": [
       "<div>\n",
       "<style scoped>\n",
       "    .dataframe tbody tr th:only-of-type {\n",
       "        vertical-align: middle;\n",
       "    }\n",
       "\n",
       "    .dataframe tbody tr th {\n",
       "        vertical-align: top;\n",
       "    }\n",
       "\n",
       "    .dataframe thead th {\n",
       "        text-align: right;\n",
       "    }\n",
       "</style>\n",
       "<table border=\"1\" class=\"dataframe\">\n",
       "  <thead>\n",
       "    <tr style=\"text-align: right;\">\n",
       "      <th></th>\n",
       "      <th>id</th>\n",
       "      <th>prompt</th>\n",
       "      <th>answer</th>\n",
       "    </tr>\n",
       "  </thead>\n",
       "  <tbody>\n",
       "    <tr>\n",
       "      <th>count</th>\n",
       "      <td>12382</td>\n",
       "      <td>12382</td>\n",
       "      <td>12382</td>\n",
       "    </tr>\n",
       "    <tr>\n",
       "      <th>unique</th>\n",
       "      <td>12382</td>\n",
       "      <td>12311</td>\n",
       "      <td>7988</td>\n",
       "    </tr>\n",
       "    <tr>\n",
       "      <th>top</th>\n",
       "      <td>1707.03497v2.pdf</td>\n",
       "      <td>Read this article and answer this question Tit...</td>\n",
       "      <td>unanswerable</td>\n",
       "    </tr>\n",
       "    <tr>\n",
       "      <th>freq</th>\n",
       "      <td>1</td>\n",
       "      <td>20</td>\n",
       "      <td>4383</td>\n",
       "    </tr>\n",
       "  </tbody>\n",
       "</table>\n",
       "</div>"
      ],
      "text/plain": [
       "                      id                                             prompt  \\\n",
       "count              12382                                              12382   \n",
       "unique             12382                                              12311   \n",
       "top     1707.03497v2.pdf  Read this article and answer this question Tit...   \n",
       "freq                   1                                                 20   \n",
       "\n",
       "              answer  \n",
       "count          12382  \n",
       "unique          7988  \n",
       "top     unanswerable  \n",
       "freq            4383  "
      ]
     },
     "metadata": {},
     "output_type": "display_data"
    },
    {
     "name": "stdout",
     "output_type": "stream",
     "text": [
      "df_zeroshot_f1_drop_5 describe: \n"
     ]
    },
    {
     "data": {
      "text/html": [
       "<div>\n",
       "<style scoped>\n",
       "    .dataframe tbody tr th:only-of-type {\n",
       "        vertical-align: middle;\n",
       "    }\n",
       "\n",
       "    .dataframe tbody tr th {\n",
       "        vertical-align: top;\n",
       "    }\n",
       "\n",
       "    .dataframe thead th {\n",
       "        text-align: right;\n",
       "    }\n",
       "</style>\n",
       "<table border=\"1\" class=\"dataframe\">\n",
       "  <thead>\n",
       "    <tr style=\"text-align: right;\">\n",
       "      <th></th>\n",
       "      <th>id</th>\n",
       "      <th>prompt</th>\n",
       "      <th>answer</th>\n",
       "    </tr>\n",
       "  </thead>\n",
       "  <tbody>\n",
       "    <tr>\n",
       "      <th>count</th>\n",
       "      <td>1200</td>\n",
       "      <td>1200</td>\n",
       "      <td>1200</td>\n",
       "    </tr>\n",
       "    <tr>\n",
       "      <th>unique</th>\n",
       "      <td>1200</td>\n",
       "      <td>1197</td>\n",
       "      <td>653</td>\n",
       "    </tr>\n",
       "    <tr>\n",
       "      <th>top</th>\n",
       "      <td>2209.03182v1.pdf</td>\n",
       "      <td>Read this article and answer this question Tit...</td>\n",
       "      <td>unanswerable</td>\n",
       "    </tr>\n",
       "    <tr>\n",
       "      <th>freq</th>\n",
       "      <td>1</td>\n",
       "      <td>3</td>\n",
       "      <td>548</td>\n",
       "    </tr>\n",
       "  </tbody>\n",
       "</table>\n",
       "</div>"
      ],
      "text/plain": [
       "                      id                                             prompt  \\\n",
       "count               1200                                               1200   \n",
       "unique              1200                                               1197   \n",
       "top     2209.03182v1.pdf  Read this article and answer this question Tit...   \n",
       "freq                   1                                                  3   \n",
       "\n",
       "              answer  \n",
       "count           1200  \n",
       "unique           653  \n",
       "top     unanswerable  \n",
       "freq             548  "
      ]
     },
     "metadata": {},
     "output_type": "display_data"
    },
    {
     "name": "stdout",
     "output_type": "stream",
     "text": [
      "Downloading and preparing dataset parquet/default to /nfs/home/kabenamualus/.cache/huggingface/datasets/parquet/default-27cdda53e44f08b2/0.0.0/14a00e99c0d15a23649d0db8944380ac81082d4b021f398733dd84f3a6c569a7...\n"
     ]
    },
    {
     "data": {
      "application/vnd.jupyter.widget-view+json": {
       "model_id": "1033fb172d7f4d1eba48be64d6e73a7f",
       "version_major": 2,
       "version_minor": 0
      },
      "text/plain": [
       "Downloading data files:   0%|          | 0/1 [00:00<?, ?it/s]"
      ]
     },
     "metadata": {},
     "output_type": "display_data"
    },
    {
     "data": {
      "application/vnd.jupyter.widget-view+json": {
       "model_id": "1794d387c0f2447fac201bcadbe50960",
       "version_major": 2,
       "version_minor": 0
      },
      "text/plain": [
       "Extracting data files:   0%|          | 0/1 [00:00<?, ?it/s]"
      ]
     },
     "metadata": {},
     "output_type": "display_data"
    },
    {
     "data": {
      "application/vnd.jupyter.widget-view+json": {
       "model_id": "f3ae7bb18250465688eaaacbe6504f9b",
       "version_major": 2,
       "version_minor": 0
      },
      "text/plain": [
       "Generating train split: 0 examples [00:00, ? examples/s]"
      ]
     },
     "metadata": {},
     "output_type": "display_data"
    },
    {
     "name": "stdout",
     "output_type": "stream",
     "text": [
      "Dataset parquet downloaded and prepared to /nfs/home/kabenamualus/.cache/huggingface/datasets/parquet/default-27cdda53e44f08b2/0.0.0/14a00e99c0d15a23649d0db8944380ac81082d4b021f398733dd84f3a6c569a7. Subsequent calls will reuse this data.\n",
      "Downloading and preparing dataset parquet/default to /nfs/home/kabenamualus/.cache/huggingface/datasets/parquet/default-8f8b06cfcb4f4402/0.0.0/14a00e99c0d15a23649d0db8944380ac81082d4b021f398733dd84f3a6c569a7...\n"
     ]
    },
    {
     "data": {
      "application/vnd.jupyter.widget-view+json": {
       "model_id": "8212e81d716240d58256b2114bcb284c",
       "version_major": 2,
       "version_minor": 0
      },
      "text/plain": [
       "Downloading data files:   0%|          | 0/1 [00:00<?, ?it/s]"
      ]
     },
     "metadata": {},
     "output_type": "display_data"
    },
    {
     "data": {
      "application/vnd.jupyter.widget-view+json": {
       "model_id": "2983de4d83a142ccbe7bdbf95241eb56",
       "version_major": 2,
       "version_minor": 0
      },
      "text/plain": [
       "Extracting data files:   0%|          | 0/1 [00:00<?, ?it/s]"
      ]
     },
     "metadata": {},
     "output_type": "display_data"
    },
    {
     "data": {
      "application/vnd.jupyter.widget-view+json": {
       "model_id": "ed970474cf96426b8bcb92f325289cb7",
       "version_major": 2,
       "version_minor": 0
      },
      "text/plain": [
       "Generating train split: 0 examples [00:00, ? examples/s]"
      ]
     },
     "metadata": {},
     "output_type": "display_data"
    },
    {
     "name": "stdout",
     "output_type": "stream",
     "text": [
      "Dataset parquet downloaded and prepared to /nfs/home/kabenamualus/.cache/huggingface/datasets/parquet/default-8f8b06cfcb4f4402/0.0.0/14a00e99c0d15a23649d0db8944380ac81082d4b021f398733dd84f3a6c569a7. Subsequent calls will reuse this data.\n",
      "Downloading and preparing dataset parquet/default to /nfs/home/kabenamualus/.cache/huggingface/datasets/parquet/default-ffa7a47cdf65bf57/0.0.0/14a00e99c0d15a23649d0db8944380ac81082d4b021f398733dd84f3a6c569a7...\n"
     ]
    },
    {
     "data": {
      "application/vnd.jupyter.widget-view+json": {
       "model_id": "17e2294cfc5240a888e6c6b2bc86be74",
       "version_major": 2,
       "version_minor": 0
      },
      "text/plain": [
       "Downloading data files:   0%|          | 0/1 [00:00<?, ?it/s]"
      ]
     },
     "metadata": {},
     "output_type": "display_data"
    },
    {
     "data": {
      "application/vnd.jupyter.widget-view+json": {
       "model_id": "167d209158a74253a29b4978e5bfea18",
       "version_major": 2,
       "version_minor": 0
      },
      "text/plain": [
       "Extracting data files:   0%|          | 0/1 [00:00<?, ?it/s]"
      ]
     },
     "metadata": {},
     "output_type": "display_data"
    },
    {
     "data": {
      "application/vnd.jupyter.widget-view+json": {
       "model_id": "cd2bf09acbc94e53babc3295e588fbd3",
       "version_major": 2,
       "version_minor": 0
      },
      "text/plain": [
       "Generating train split: 0 examples [00:00, ? examples/s]"
      ]
     },
     "metadata": {},
     "output_type": "display_data"
    },
    {
     "name": "stdout",
     "output_type": "stream",
     "text": [
      "Dataset parquet downloaded and prepared to /nfs/home/kabenamualus/.cache/huggingface/datasets/parquet/default-ffa7a47cdf65bf57/0.0.0/14a00e99c0d15a23649d0db8944380ac81082d4b021f398733dd84f3a6c569a7. Subsequent calls will reuse this data.\n",
      "Downloading and preparing dataset parquet/default to /nfs/home/kabenamualus/.cache/huggingface/datasets/parquet/default-f98edd716ca7181f/0.0.0/14a00e99c0d15a23649d0db8944380ac81082d4b021f398733dd84f3a6c569a7...\n"
     ]
    },
    {
     "data": {
      "application/vnd.jupyter.widget-view+json": {
       "model_id": "83d95a2976e74f28a931207a874e4b8b",
       "version_major": 2,
       "version_minor": 0
      },
      "text/plain": [
       "Downloading data files:   0%|          | 0/1 [00:00<?, ?it/s]"
      ]
     },
     "metadata": {},
     "output_type": "display_data"
    },
    {
     "data": {
      "application/vnd.jupyter.widget-view+json": {
       "model_id": "eaa0b05b47a948bf96c757715ef77a07",
       "version_major": 2,
       "version_minor": 0
      },
      "text/plain": [
       "Extracting data files:   0%|          | 0/1 [00:00<?, ?it/s]"
      ]
     },
     "metadata": {},
     "output_type": "display_data"
    },
    {
     "data": {
      "application/vnd.jupyter.widget-view+json": {
       "model_id": "5f45fb4dc6894efea4cddc9c160b9764",
       "version_major": 2,
       "version_minor": 0
      },
      "text/plain": [
       "Generating train split: 0 examples [00:00, ? examples/s]"
      ]
     },
     "metadata": {},
     "output_type": "display_data"
    },
    {
     "name": "stdout",
     "output_type": "stream",
     "text": [
      "Dataset parquet downloaded and prepared to /nfs/home/kabenamualus/.cache/huggingface/datasets/parquet/default-f98edd716ca7181f/0.0.0/14a00e99c0d15a23649d0db8944380ac81082d4b021f398733dd84f3a6c569a7. Subsequent calls will reuse this data.\n",
      "Downloading and preparing dataset parquet/default to /nfs/home/kabenamualus/.cache/huggingface/datasets/parquet/default-024de107f1aeda8b/0.0.0/14a00e99c0d15a23649d0db8944380ac81082d4b021f398733dd84f3a6c569a7...\n"
     ]
    },
    {
     "data": {
      "application/vnd.jupyter.widget-view+json": {
       "model_id": "c51c2c57d03b428fb8c0d4a60b9d3221",
       "version_major": 2,
       "version_minor": 0
      },
      "text/plain": [
       "Downloading data files:   0%|          | 0/1 [00:00<?, ?it/s]"
      ]
     },
     "metadata": {},
     "output_type": "display_data"
    },
    {
     "data": {
      "application/vnd.jupyter.widget-view+json": {
       "model_id": "3c35ef71118a476fbb4e99f41ebef507",
       "version_major": 2,
       "version_minor": 0
      },
      "text/plain": [
       "Extracting data files:   0%|          | 0/1 [00:00<?, ?it/s]"
      ]
     },
     "metadata": {},
     "output_type": "display_data"
    },
    {
     "data": {
      "application/vnd.jupyter.widget-view+json": {
       "model_id": "9e6b8c863926438081aacfa43006a9c3",
       "version_major": 2,
       "version_minor": 0
      },
      "text/plain": [
       "Generating train split: 0 examples [00:00, ? examples/s]"
      ]
     },
     "metadata": {},
     "output_type": "display_data"
    },
    {
     "name": "stdout",
     "output_type": "stream",
     "text": [
      "Dataset parquet downloaded and prepared to /nfs/home/kabenamualus/.cache/huggingface/datasets/parquet/default-024de107f1aeda8b/0.0.0/14a00e99c0d15a23649d0db8944380ac81082d4b021f398733dd84f3a6c569a7. Subsequent calls will reuse this data.\n",
      "DatasetDict({\n",
      "    fold1: DatasetDict({\n",
      "        train: Dataset({\n",
      "            features: ['id', 'prompt', 'answer', '__index_level_0__'],\n",
      "            num_rows: 12388\n",
      "        })\n",
      "        validation: Dataset({\n",
      "            features: ['id', 'prompt', 'answer', '__index_level_0__'],\n",
      "            num_rows: 1642\n",
      "        })\n",
      "        zeroshot: Dataset({\n",
      "            features: ['id', 'prompt', 'answer', '__index_level_0__'],\n",
      "            num_rows: 1200\n",
      "        })\n",
      "    })\n",
      "    fold2: DatasetDict({\n",
      "        train: Dataset({\n",
      "            features: ['id', 'prompt', 'answer', '__index_level_0__'],\n",
      "            num_rows: 12382\n",
      "        })\n",
      "        validation: Dataset({\n",
      "            features: ['id', 'prompt', 'answer', '__index_level_0__'],\n",
      "            num_rows: 1648\n",
      "        })\n",
      "    })\n",
      "})\n"
     ]
    },
    {
     "data": {
      "application/vnd.jupyter.widget-view+json": {
       "model_id": "c015b37cf28148b0881a781d94021b9c",
       "version_major": 2,
       "version_minor": 0
      },
      "text/plain": [
       "Saving the dataset (0/1 shards):   0%|          | 0/12388 [00:00<?, ? examples/s]"
      ]
     },
     "metadata": {},
     "output_type": "display_data"
    },
    {
     "data": {
      "application/vnd.jupyter.widget-view+json": {
       "model_id": "7a4d94ed72c84e289a19d28ccff77521",
       "version_major": 2,
       "version_minor": 0
      },
      "text/plain": [
       "Saving the dataset (0/1 shards):   0%|          | 0/1642 [00:00<?, ? examples/s]"
      ]
     },
     "metadata": {},
     "output_type": "display_data"
    },
    {
     "data": {
      "application/vnd.jupyter.widget-view+json": {
       "model_id": "6b5be10ff6674ec3962f64ec3fddf37d",
       "version_major": 2,
       "version_minor": 0
      },
      "text/plain": [
       "Saving the dataset (0/1 shards):   0%|          | 0/1200 [00:00<?, ? examples/s]"
      ]
     },
     "metadata": {},
     "output_type": "display_data"
    },
    {
     "data": {
      "application/vnd.jupyter.widget-view+json": {
       "model_id": "70a04727763b46ec8901a79da4329155",
       "version_major": 2,
       "version_minor": 0
      },
      "text/plain": [
       "Saving the dataset (0/1 shards):   0%|          | 0/12382 [00:00<?, ? examples/s]"
      ]
     },
     "metadata": {},
     "output_type": "display_data"
    },
    {
     "data": {
      "application/vnd.jupyter.widget-view+json": {
       "model_id": "e353c11595e94572acd12cd5200806fa",
       "version_major": 2,
       "version_minor": 0
      },
      "text/plain": [
       "Saving the dataset (0/1 shards):   0%|          | 0/1648 [00:00<?, ? examples/s]"
      ]
     },
     "metadata": {},
     "output_type": "display_data"
    }
   ],
   "source": [
    "df_train_f1_drop_5 = create_pandas_dataset_from_pandas(df_train_f1,\n",
    "                                                        drop_5 = True,\n",
    "                                                        ) \n",
    "df_dev_f1_drop_5 = create_pandas_dataset_from_pandas(df_dev_f1,\n",
    "                                                        drop_5 = True,\n",
    "                                                        ) \n",
    "df_zeroshot_f1_drop_5 = create_pandas_dataset_from_pandas(df_zeroshot_f1,\n",
    "                                                        drop_5 = True,\n",
    "                                                        ) \n",
    "\n",
    "df_train_f2_drop_5 = create_pandas_dataset_from_pandas(df_train_f2,\n",
    "                                                        drop_5 = True,\n",
    "                                                        ) \n",
    "df_dev_f2_drop_5 = create_pandas_dataset_from_pandas(df_dev_f2,\n",
    "                                                        drop_5 = True,\n",
    "                                                        ) \n",
    "\n",
    "print(\"df_train_f1_drop_5 describe: \")\n",
    "display(df_train_f1_drop_5.describe())\n",
    "print(\"df_dev_f1_drop_5 describe: \")\n",
    "display(df_dev_f1_drop_5.describe())\n",
    "print(\"df_dev_f1_drop_5 describe: \")\n",
    "display(df_dev_f1_drop_5.describe())\n",
    "\n",
    "print(\"df_train_f2_drop_5 describe: \")\n",
    "display(df_train_f2_drop_5.describe())\n",
    "print(\"df_zeroshot_f1_drop_5 describe: \")\n",
    "display(df_zeroshot_f1_drop_5.describe())\n",
    "\n",
    "df_train_f1_drop_5.to_parquet('../data/df_train_tdms_augmented_summarized_with_id_f1_drop_5.parquet')\n",
    "df_dev_f1_drop_5.to_parquet('../data/df_dev_tdms_augmented_summarized_with_id_f1_drop_5.parquet')\n",
    "df_zeroshot_f1_drop_5.to_parquet('../data/df_zeroshot_tdms_augmented_summarized_with_id_f1_drop_5.parquet')\n",
    "\n",
    "df_train_f2_drop_5.to_parquet('../data/df_train_tdms_augmented_summarized_with_id_f2_drop_5.parquet')\n",
    "df_dev_f2_drop_5.to_parquet('../data/df_dev_tdms_augmented_summarized_with_id_f2_drop_5.parquet')\n",
    "\n",
    "dataset = DatasetDict({\n",
    "    'fold1': DatasetDict({\n",
    "        \"train\": Dataset.from_parquet('../data/df_train_tdms_augmented_summarized_with_id_f1_drop_5.parquet'),\n",
    "        \"validation\": Dataset.from_parquet('../data/df_dev_tdms_augmented_summarized_with_id_f1_drop_5.parquet'),\n",
    "        \"zeroshot\": Dataset.from_parquet('../data/df_zeroshot_tdms_augmented_summarized_with_id_f1_drop_5.parquet')\n",
    "    }),\n",
    "    'fold2': DatasetDict({\n",
    "        \"train\": Dataset.from_parquet('../data/df_train_tdms_augmented_summarized_with_id_f2_drop_5.parquet'),\n",
    "        \"validation\": Dataset.from_parquet('../data/df_dev_tdms_augmented_summarized_with_id_f2_drop_5.parquet')\n",
    "    })\n",
    "})\n",
    "\n",
    "print(dataset)\n",
    "\n",
    "dataset.save_to_disk(\"../data/LLLM_AUGMENTED_SUMMARIZED_WITH_ID_ZEROSHOT_TDMS_DROP_5\")"
   ]
  },
  {
   "cell_type": "code",
   "execution_count": 101,
   "metadata": {},
   "outputs": [
    {
     "name": "stderr",
     "output_type": "stream",
     "text": [
      "  1%|          | 82/12388 [00:00<00:15, 812.74it/s]"
     ]
    },
    {
     "name": "stderr",
     "output_type": "stream",
     "text": [
      "100%|██████████| 12388/12388 [00:17<00:00, 700.32it/s]\n",
      "100%|██████████| 1642/1642 [00:02<00:00, 789.42it/s]\n",
      "100%|██████████| 1200/1200 [00:01<00:00, 794.17it/s]\n",
      "100%|██████████| 12382/12382 [00:17<00:00, 696.02it/s]\n",
      "100%|██████████| 1648/1648 [00:02<00:00, 785.20it/s]\n"
     ]
    },
    {
     "name": "stdout",
     "output_type": "stream",
     "text": [
      "df_train_f1_drop_6 describe: \n"
     ]
    },
    {
     "data": {
      "text/html": [
       "<div>\n",
       "<style scoped>\n",
       "    .dataframe tbody tr th:only-of-type {\n",
       "        vertical-align: middle;\n",
       "    }\n",
       "\n",
       "    .dataframe tbody tr th {\n",
       "        vertical-align: top;\n",
       "    }\n",
       "\n",
       "    .dataframe thead th {\n",
       "        text-align: right;\n",
       "    }\n",
       "</style>\n",
       "<table border=\"1\" class=\"dataframe\">\n",
       "  <thead>\n",
       "    <tr style=\"text-align: right;\">\n",
       "      <th></th>\n",
       "      <th>id</th>\n",
       "      <th>prompt</th>\n",
       "      <th>answer</th>\n",
       "    </tr>\n",
       "  </thead>\n",
       "  <tbody>\n",
       "    <tr>\n",
       "      <th>count</th>\n",
       "      <td>12388</td>\n",
       "      <td>12388</td>\n",
       "      <td>12388</td>\n",
       "    </tr>\n",
       "    <tr>\n",
       "      <th>unique</th>\n",
       "      <td>12388</td>\n",
       "      <td>12312</td>\n",
       "      <td>7976</td>\n",
       "    </tr>\n",
       "    <tr>\n",
       "      <th>top</th>\n",
       "      <td>1707.03497v2.pdf</td>\n",
       "      <td>Title:\\t\\n\\nAbstract:\\t\\n\\n[image]\\n\\n\\nBased ...</td>\n",
       "      <td>unanswerable</td>\n",
       "    </tr>\n",
       "    <tr>\n",
       "      <th>freq</th>\n",
       "      <td>1</td>\n",
       "      <td>20</td>\n",
       "      <td>4401</td>\n",
       "    </tr>\n",
       "  </tbody>\n",
       "</table>\n",
       "</div>"
      ],
      "text/plain": [
       "                      id                                             prompt  \\\n",
       "count              12388                                              12388   \n",
       "unique             12388                                              12312   \n",
       "top     1707.03497v2.pdf  Title:\\t\\n\\nAbstract:\\t\\n\\n[image]\\n\\n\\nBased ...   \n",
       "freq                   1                                                 20   \n",
       "\n",
       "              answer  \n",
       "count          12388  \n",
       "unique          7976  \n",
       "top     unanswerable  \n",
       "freq            4401  "
      ]
     },
     "metadata": {},
     "output_type": "display_data"
    },
    {
     "name": "stdout",
     "output_type": "stream",
     "text": [
      "df_dev_f1_drop_6 describe: \n"
     ]
    },
    {
     "data": {
      "text/html": [
       "<div>\n",
       "<style scoped>\n",
       "    .dataframe tbody tr th:only-of-type {\n",
       "        vertical-align: middle;\n",
       "    }\n",
       "\n",
       "    .dataframe tbody tr th {\n",
       "        vertical-align: top;\n",
       "    }\n",
       "\n",
       "    .dataframe thead th {\n",
       "        text-align: right;\n",
       "    }\n",
       "</style>\n",
       "<table border=\"1\" class=\"dataframe\">\n",
       "  <thead>\n",
       "    <tr style=\"text-align: right;\">\n",
       "      <th></th>\n",
       "      <th>id</th>\n",
       "      <th>prompt</th>\n",
       "      <th>answer</th>\n",
       "    </tr>\n",
       "  </thead>\n",
       "  <tbody>\n",
       "    <tr>\n",
       "      <th>count</th>\n",
       "      <td>1642</td>\n",
       "      <td>1642</td>\n",
       "      <td>1642</td>\n",
       "    </tr>\n",
       "    <tr>\n",
       "      <th>unique</th>\n",
       "      <td>1642</td>\n",
       "      <td>1641</td>\n",
       "      <td>994</td>\n",
       "    </tr>\n",
       "    <tr>\n",
       "      <th>top</th>\n",
       "      <td>1810.02575v1.pdf</td>\n",
       "      <td>Title:\\tA Sample ACM SIG Proceedings Paper in ...</td>\n",
       "      <td>unanswerable</td>\n",
       "    </tr>\n",
       "    <tr>\n",
       "      <th>freq</th>\n",
       "      <td>1</td>\n",
       "      <td>2</td>\n",
       "      <td>648</td>\n",
       "    </tr>\n",
       "  </tbody>\n",
       "</table>\n",
       "</div>"
      ],
      "text/plain": [
       "                      id                                             prompt  \\\n",
       "count               1642                                               1642   \n",
       "unique              1642                                               1641   \n",
       "top     1810.02575v1.pdf  Title:\\tA Sample ACM SIG Proceedings Paper in ...   \n",
       "freq                   1                                                  2   \n",
       "\n",
       "              answer  \n",
       "count           1642  \n",
       "unique           994  \n",
       "top     unanswerable  \n",
       "freq             648  "
      ]
     },
     "metadata": {},
     "output_type": "display_data"
    },
    {
     "name": "stdout",
     "output_type": "stream",
     "text": [
      "df_dev_f1_drop_6 describe: \n"
     ]
    },
    {
     "data": {
      "text/html": [
       "<div>\n",
       "<style scoped>\n",
       "    .dataframe tbody tr th:only-of-type {\n",
       "        vertical-align: middle;\n",
       "    }\n",
       "\n",
       "    .dataframe tbody tr th {\n",
       "        vertical-align: top;\n",
       "    }\n",
       "\n",
       "    .dataframe thead th {\n",
       "        text-align: right;\n",
       "    }\n",
       "</style>\n",
       "<table border=\"1\" class=\"dataframe\">\n",
       "  <thead>\n",
       "    <tr style=\"text-align: right;\">\n",
       "      <th></th>\n",
       "      <th>id</th>\n",
       "      <th>prompt</th>\n",
       "      <th>answer</th>\n",
       "    </tr>\n",
       "  </thead>\n",
       "  <tbody>\n",
       "    <tr>\n",
       "      <th>count</th>\n",
       "      <td>1642</td>\n",
       "      <td>1642</td>\n",
       "      <td>1642</td>\n",
       "    </tr>\n",
       "    <tr>\n",
       "      <th>unique</th>\n",
       "      <td>1642</td>\n",
       "      <td>1641</td>\n",
       "      <td>994</td>\n",
       "    </tr>\n",
       "    <tr>\n",
       "      <th>top</th>\n",
       "      <td>1810.02575v1.pdf</td>\n",
       "      <td>Title:\\tA Sample ACM SIG Proceedings Paper in ...</td>\n",
       "      <td>unanswerable</td>\n",
       "    </tr>\n",
       "    <tr>\n",
       "      <th>freq</th>\n",
       "      <td>1</td>\n",
       "      <td>2</td>\n",
       "      <td>648</td>\n",
       "    </tr>\n",
       "  </tbody>\n",
       "</table>\n",
       "</div>"
      ],
      "text/plain": [
       "                      id                                             prompt  \\\n",
       "count               1642                                               1642   \n",
       "unique              1642                                               1641   \n",
       "top     1810.02575v1.pdf  Title:\\tA Sample ACM SIG Proceedings Paper in ...   \n",
       "freq                   1                                                  2   \n",
       "\n",
       "              answer  \n",
       "count           1642  \n",
       "unique           994  \n",
       "top     unanswerable  \n",
       "freq             648  "
      ]
     },
     "metadata": {},
     "output_type": "display_data"
    },
    {
     "name": "stdout",
     "output_type": "stream",
     "text": [
      "df_train_f2_drop_6 describe: \n"
     ]
    },
    {
     "data": {
      "text/html": [
       "<div>\n",
       "<style scoped>\n",
       "    .dataframe tbody tr th:only-of-type {\n",
       "        vertical-align: middle;\n",
       "    }\n",
       "\n",
       "    .dataframe tbody tr th {\n",
       "        vertical-align: top;\n",
       "    }\n",
       "\n",
       "    .dataframe thead th {\n",
       "        text-align: right;\n",
       "    }\n",
       "</style>\n",
       "<table border=\"1\" class=\"dataframe\">\n",
       "  <thead>\n",
       "    <tr style=\"text-align: right;\">\n",
       "      <th></th>\n",
       "      <th>id</th>\n",
       "      <th>prompt</th>\n",
       "      <th>answer</th>\n",
       "    </tr>\n",
       "  </thead>\n",
       "  <tbody>\n",
       "    <tr>\n",
       "      <th>count</th>\n",
       "      <td>12382</td>\n",
       "      <td>12382</td>\n",
       "      <td>12382</td>\n",
       "    </tr>\n",
       "    <tr>\n",
       "      <th>unique</th>\n",
       "      <td>12382</td>\n",
       "      <td>12311</td>\n",
       "      <td>7988</td>\n",
       "    </tr>\n",
       "    <tr>\n",
       "      <th>top</th>\n",
       "      <td>1707.03497v2.pdf</td>\n",
       "      <td>Title:\\t\\n\\nAbstract:\\t\\n\\n[image]\\n\\n\\nBased ...</td>\n",
       "      <td>unanswerable</td>\n",
       "    </tr>\n",
       "    <tr>\n",
       "      <th>freq</th>\n",
       "      <td>1</td>\n",
       "      <td>20</td>\n",
       "      <td>4383</td>\n",
       "    </tr>\n",
       "  </tbody>\n",
       "</table>\n",
       "</div>"
      ],
      "text/plain": [
       "                      id                                             prompt  \\\n",
       "count              12382                                              12382   \n",
       "unique             12382                                              12311   \n",
       "top     1707.03497v2.pdf  Title:\\t\\n\\nAbstract:\\t\\n\\n[image]\\n\\n\\nBased ...   \n",
       "freq                   1                                                 20   \n",
       "\n",
       "              answer  \n",
       "count          12382  \n",
       "unique          7988  \n",
       "top     unanswerable  \n",
       "freq            4383  "
      ]
     },
     "metadata": {},
     "output_type": "display_data"
    },
    {
     "name": "stdout",
     "output_type": "stream",
     "text": [
      "df_zeroshot_f1_drop_6 describe: \n"
     ]
    },
    {
     "data": {
      "text/html": [
       "<div>\n",
       "<style scoped>\n",
       "    .dataframe tbody tr th:only-of-type {\n",
       "        vertical-align: middle;\n",
       "    }\n",
       "\n",
       "    .dataframe tbody tr th {\n",
       "        vertical-align: top;\n",
       "    }\n",
       "\n",
       "    .dataframe thead th {\n",
       "        text-align: right;\n",
       "    }\n",
       "</style>\n",
       "<table border=\"1\" class=\"dataframe\">\n",
       "  <thead>\n",
       "    <tr style=\"text-align: right;\">\n",
       "      <th></th>\n",
       "      <th>id</th>\n",
       "      <th>prompt</th>\n",
       "      <th>answer</th>\n",
       "    </tr>\n",
       "  </thead>\n",
       "  <tbody>\n",
       "    <tr>\n",
       "      <th>count</th>\n",
       "      <td>1200</td>\n",
       "      <td>1200</td>\n",
       "      <td>1200</td>\n",
       "    </tr>\n",
       "    <tr>\n",
       "      <th>unique</th>\n",
       "      <td>1200</td>\n",
       "      <td>1197</td>\n",
       "      <td>653</td>\n",
       "    </tr>\n",
       "    <tr>\n",
       "      <th>top</th>\n",
       "      <td>2209.03182v1.pdf</td>\n",
       "      <td>Title:\\t\\n\\nAbstract:\\t\\n\\n[image]\\n\\n\\nBased ...</td>\n",
       "      <td>unanswerable</td>\n",
       "    </tr>\n",
       "    <tr>\n",
       "      <th>freq</th>\n",
       "      <td>1</td>\n",
       "      <td>3</td>\n",
       "      <td>548</td>\n",
       "    </tr>\n",
       "  </tbody>\n",
       "</table>\n",
       "</div>"
      ],
      "text/plain": [
       "                      id                                             prompt  \\\n",
       "count               1200                                               1200   \n",
       "unique              1200                                               1197   \n",
       "top     2209.03182v1.pdf  Title:\\t\\n\\nAbstract:\\t\\n\\n[image]\\n\\n\\nBased ...   \n",
       "freq                   1                                                  3   \n",
       "\n",
       "              answer  \n",
       "count           1200  \n",
       "unique           653  \n",
       "top     unanswerable  \n",
       "freq             548  "
      ]
     },
     "metadata": {},
     "output_type": "display_data"
    },
    {
     "name": "stdout",
     "output_type": "stream",
     "text": [
      "Downloading and preparing dataset parquet/default to /nfs/home/kabenamualus/.cache/huggingface/datasets/parquet/default-1ea35f01197685fd/0.0.0/14a00e99c0d15a23649d0db8944380ac81082d4b021f398733dd84f3a6c569a7...\n"
     ]
    },
    {
     "data": {
      "application/vnd.jupyter.widget-view+json": {
       "model_id": "c43ee1c8e599477ab5cff9df0a4bfc9d",
       "version_major": 2,
       "version_minor": 0
      },
      "text/plain": [
       "Downloading data files:   0%|          | 0/1 [00:00<?, ?it/s]"
      ]
     },
     "metadata": {},
     "output_type": "display_data"
    },
    {
     "data": {
      "application/vnd.jupyter.widget-view+json": {
       "model_id": "8ba1839db53249d6a5029fc688f7acdc",
       "version_major": 2,
       "version_minor": 0
      },
      "text/plain": [
       "Extracting data files:   0%|          | 0/1 [00:00<?, ?it/s]"
      ]
     },
     "metadata": {},
     "output_type": "display_data"
    },
    {
     "data": {
      "application/vnd.jupyter.widget-view+json": {
       "model_id": "c3da0cc5409a43089b67f73dc1cd594a",
       "version_major": 2,
       "version_minor": 0
      },
      "text/plain": [
       "Generating train split: 0 examples [00:00, ? examples/s]"
      ]
     },
     "metadata": {},
     "output_type": "display_data"
    },
    {
     "name": "stdout",
     "output_type": "stream",
     "text": [
      "Dataset parquet downloaded and prepared to /nfs/home/kabenamualus/.cache/huggingface/datasets/parquet/default-1ea35f01197685fd/0.0.0/14a00e99c0d15a23649d0db8944380ac81082d4b021f398733dd84f3a6c569a7. Subsequent calls will reuse this data.\n",
      "Downloading and preparing dataset parquet/default to /nfs/home/kabenamualus/.cache/huggingface/datasets/parquet/default-8fc7b286c48b950b/0.0.0/14a00e99c0d15a23649d0db8944380ac81082d4b021f398733dd84f3a6c569a7...\n"
     ]
    },
    {
     "data": {
      "application/vnd.jupyter.widget-view+json": {
       "model_id": "80d56b0a9fae489eb9ca85a9be58d4de",
       "version_major": 2,
       "version_minor": 0
      },
      "text/plain": [
       "Downloading data files:   0%|          | 0/1 [00:00<?, ?it/s]"
      ]
     },
     "metadata": {},
     "output_type": "display_data"
    },
    {
     "data": {
      "application/vnd.jupyter.widget-view+json": {
       "model_id": "f4fe5bed52f64ccabe7ce03bc086db3f",
       "version_major": 2,
       "version_minor": 0
      },
      "text/plain": [
       "Extracting data files:   0%|          | 0/1 [00:00<?, ?it/s]"
      ]
     },
     "metadata": {},
     "output_type": "display_data"
    },
    {
     "data": {
      "application/vnd.jupyter.widget-view+json": {
       "model_id": "d0b609928288475bbc240afb7f9898c2",
       "version_major": 2,
       "version_minor": 0
      },
      "text/plain": [
       "Generating train split: 0 examples [00:00, ? examples/s]"
      ]
     },
     "metadata": {},
     "output_type": "display_data"
    },
    {
     "name": "stdout",
     "output_type": "stream",
     "text": [
      "Dataset parquet downloaded and prepared to /nfs/home/kabenamualus/.cache/huggingface/datasets/parquet/default-8fc7b286c48b950b/0.0.0/14a00e99c0d15a23649d0db8944380ac81082d4b021f398733dd84f3a6c569a7. Subsequent calls will reuse this data.\n",
      "Downloading and preparing dataset parquet/default to /nfs/home/kabenamualus/.cache/huggingface/datasets/parquet/default-edfaee265ce90e2d/0.0.0/14a00e99c0d15a23649d0db8944380ac81082d4b021f398733dd84f3a6c569a7...\n"
     ]
    },
    {
     "data": {
      "application/vnd.jupyter.widget-view+json": {
       "model_id": "505db91ba5834e3db7d765cf040ba264",
       "version_major": 2,
       "version_minor": 0
      },
      "text/plain": [
       "Downloading data files:   0%|          | 0/1 [00:00<?, ?it/s]"
      ]
     },
     "metadata": {},
     "output_type": "display_data"
    },
    {
     "data": {
      "application/vnd.jupyter.widget-view+json": {
       "model_id": "2b793def55cb4f3b8f0721994dfb8a45",
       "version_major": 2,
       "version_minor": 0
      },
      "text/plain": [
       "Extracting data files:   0%|          | 0/1 [00:00<?, ?it/s]"
      ]
     },
     "metadata": {},
     "output_type": "display_data"
    },
    {
     "data": {
      "application/vnd.jupyter.widget-view+json": {
       "model_id": "1e2628c3325c4dc5a8e7f7016167f7a9",
       "version_major": 2,
       "version_minor": 0
      },
      "text/plain": [
       "Generating train split: 0 examples [00:00, ? examples/s]"
      ]
     },
     "metadata": {},
     "output_type": "display_data"
    },
    {
     "name": "stdout",
     "output_type": "stream",
     "text": [
      "Dataset parquet downloaded and prepared to /nfs/home/kabenamualus/.cache/huggingface/datasets/parquet/default-edfaee265ce90e2d/0.0.0/14a00e99c0d15a23649d0db8944380ac81082d4b021f398733dd84f3a6c569a7. Subsequent calls will reuse this data.\n",
      "Downloading and preparing dataset parquet/default to /nfs/home/kabenamualus/.cache/huggingface/datasets/parquet/default-6c2baffec2ae5889/0.0.0/14a00e99c0d15a23649d0db8944380ac81082d4b021f398733dd84f3a6c569a7...\n"
     ]
    },
    {
     "data": {
      "application/vnd.jupyter.widget-view+json": {
       "model_id": "16c608cc9948406ebb22eb6a6028ce1d",
       "version_major": 2,
       "version_minor": 0
      },
      "text/plain": [
       "Downloading data files:   0%|          | 0/1 [00:00<?, ?it/s]"
      ]
     },
     "metadata": {},
     "output_type": "display_data"
    },
    {
     "data": {
      "application/vnd.jupyter.widget-view+json": {
       "model_id": "5611cf49dc2845bcaace951f1e84ca2b",
       "version_major": 2,
       "version_minor": 0
      },
      "text/plain": [
       "Extracting data files:   0%|          | 0/1 [00:00<?, ?it/s]"
      ]
     },
     "metadata": {},
     "output_type": "display_data"
    },
    {
     "data": {
      "application/vnd.jupyter.widget-view+json": {
       "model_id": "0dcca8d19fea455c878a7597f76def8b",
       "version_major": 2,
       "version_minor": 0
      },
      "text/plain": [
       "Generating train split: 0 examples [00:00, ? examples/s]"
      ]
     },
     "metadata": {},
     "output_type": "display_data"
    },
    {
     "name": "stdout",
     "output_type": "stream",
     "text": [
      "Dataset parquet downloaded and prepared to /nfs/home/kabenamualus/.cache/huggingface/datasets/parquet/default-6c2baffec2ae5889/0.0.0/14a00e99c0d15a23649d0db8944380ac81082d4b021f398733dd84f3a6c569a7. Subsequent calls will reuse this data.\n",
      "Downloading and preparing dataset parquet/default to /nfs/home/kabenamualus/.cache/huggingface/datasets/parquet/default-cb26de7e610d3091/0.0.0/14a00e99c0d15a23649d0db8944380ac81082d4b021f398733dd84f3a6c569a7...\n"
     ]
    },
    {
     "data": {
      "application/vnd.jupyter.widget-view+json": {
       "model_id": "2d5f1a6297a14b33af8d12e1ffc4b052",
       "version_major": 2,
       "version_minor": 0
      },
      "text/plain": [
       "Downloading data files:   0%|          | 0/1 [00:00<?, ?it/s]"
      ]
     },
     "metadata": {},
     "output_type": "display_data"
    },
    {
     "data": {
      "application/vnd.jupyter.widget-view+json": {
       "model_id": "4f3ee13b403542cfaf5b9ba8d5d828be",
       "version_major": 2,
       "version_minor": 0
      },
      "text/plain": [
       "Extracting data files:   0%|          | 0/1 [00:00<?, ?it/s]"
      ]
     },
     "metadata": {},
     "output_type": "display_data"
    },
    {
     "data": {
      "application/vnd.jupyter.widget-view+json": {
       "model_id": "f14c93ccda504d838a3e7b84a54545b0",
       "version_major": 2,
       "version_minor": 0
      },
      "text/plain": [
       "Generating train split: 0 examples [00:00, ? examples/s]"
      ]
     },
     "metadata": {},
     "output_type": "display_data"
    },
    {
     "name": "stdout",
     "output_type": "stream",
     "text": [
      "Dataset parquet downloaded and prepared to /nfs/home/kabenamualus/.cache/huggingface/datasets/parquet/default-cb26de7e610d3091/0.0.0/14a00e99c0d15a23649d0db8944380ac81082d4b021f398733dd84f3a6c569a7. Subsequent calls will reuse this data.\n",
      "DatasetDict({\n",
      "    fold1: DatasetDict({\n",
      "        train: Dataset({\n",
      "            features: ['id', 'prompt', 'answer', '__index_level_0__'],\n",
      "            num_rows: 12388\n",
      "        })\n",
      "        validation: Dataset({\n",
      "            features: ['id', 'prompt', 'answer', '__index_level_0__'],\n",
      "            num_rows: 1642\n",
      "        })\n",
      "        zeroshot: Dataset({\n",
      "            features: ['id', 'prompt', 'answer', '__index_level_0__'],\n",
      "            num_rows: 1200\n",
      "        })\n",
      "    })\n",
      "    fold2: DatasetDict({\n",
      "        train: Dataset({\n",
      "            features: ['id', 'prompt', 'answer', '__index_level_0__'],\n",
      "            num_rows: 12382\n",
      "        })\n",
      "        validation: Dataset({\n",
      "            features: ['id', 'prompt', 'answer', '__index_level_0__'],\n",
      "            num_rows: 1648\n",
      "        })\n",
      "    })\n",
      "})\n"
     ]
    },
    {
     "data": {
      "application/vnd.jupyter.widget-view+json": {
       "model_id": "5188d14faf304995831599f6d6b4aa7f",
       "version_major": 2,
       "version_minor": 0
      },
      "text/plain": [
       "Saving the dataset (0/1 shards):   0%|          | 0/12388 [00:00<?, ? examples/s]"
      ]
     },
     "metadata": {},
     "output_type": "display_data"
    },
    {
     "data": {
      "application/vnd.jupyter.widget-view+json": {
       "model_id": "3e07a0956db04934bfb94228c9d4a208",
       "version_major": 2,
       "version_minor": 0
      },
      "text/plain": [
       "Saving the dataset (0/1 shards):   0%|          | 0/1642 [00:00<?, ? examples/s]"
      ]
     },
     "metadata": {},
     "output_type": "display_data"
    },
    {
     "data": {
      "application/vnd.jupyter.widget-view+json": {
       "model_id": "5b686c0a2f554736a6adb207fac7fe70",
       "version_major": 2,
       "version_minor": 0
      },
      "text/plain": [
       "Saving the dataset (0/1 shards):   0%|          | 0/1200 [00:00<?, ? examples/s]"
      ]
     },
     "metadata": {},
     "output_type": "display_data"
    },
    {
     "data": {
      "application/vnd.jupyter.widget-view+json": {
       "model_id": "8d0a1b92193340e9983818247bb5ad71",
       "version_major": 2,
       "version_minor": 0
      },
      "text/plain": [
       "Saving the dataset (0/1 shards):   0%|          | 0/12382 [00:00<?, ? examples/s]"
      ]
     },
     "metadata": {},
     "output_type": "display_data"
    },
    {
     "data": {
      "application/vnd.jupyter.widget-view+json": {
       "model_id": "91392a1b493a4cf4b37349eeb312c4e0",
       "version_major": 2,
       "version_minor": 0
      },
      "text/plain": [
       "Saving the dataset (0/1 shards):   0%|          | 0/1648 [00:00<?, ? examples/s]"
      ]
     },
     "metadata": {},
     "output_type": "display_data"
    }
   ],
   "source": [
    "df_train_f1_drop_6 = create_pandas_dataset_from_pandas(df_train_f1,\n",
    "                                                        drop_6 = True,\n",
    "                                                        ) \n",
    "df_dev_f1_drop_6 = create_pandas_dataset_from_pandas(df_dev_f1,\n",
    "                                                        drop_6 = True,\n",
    "                                                        ) \n",
    "df_zeroshot_f1_drop_6 = create_pandas_dataset_from_pandas(df_zeroshot_f1,\n",
    "                                                        drop_6 = True,\n",
    "                                                        ) \n",
    "\n",
    "df_train_f2_drop_6 = create_pandas_dataset_from_pandas(df_train_f2,\n",
    "                                                        drop_6 = True,\n",
    "                                                        ) \n",
    "df_dev_f2_drop_6 = create_pandas_dataset_from_pandas(df_dev_f2,\n",
    "                                                        drop_6 = True,\n",
    "                                                        ) \n",
    "\n",
    "print(\"df_train_f1_drop_6 describe: \")\n",
    "display(df_train_f1_drop_6.describe())\n",
    "print(\"df_dev_f1_drop_6 describe: \")\n",
    "display(df_dev_f1_drop_6.describe())\n",
    "print(\"df_dev_f1_drop_6 describe: \")\n",
    "display(df_dev_f1_drop_6.describe())\n",
    "\n",
    "print(\"df_train_f2_drop_6 describe: \")\n",
    "display(df_train_f2_drop_6.describe())\n",
    "print(\"df_zeroshot_f1_drop_6 describe: \")\n",
    "display(df_zeroshot_f1_drop_6.describe())\n",
    "\n",
    "df_train_f1_drop_6.to_parquet('../data/df_train_tdms_augmented_summarized_with_id_f1_drop_6.parquet')\n",
    "df_dev_f1_drop_6.to_parquet('../data/df_dev_tdms_augmented_summarized_with_id_f1_drop_6.parquet')\n",
    "df_zeroshot_f1_drop_6.to_parquet('../data/df_zeroshot_tdms_augmented_summarized_with_id_f1_drop_6.parquet')\n",
    "\n",
    "df_train_f2_drop_6.to_parquet('../data/df_train_tdms_augmented_summarized_with_id_f2_drop_6.parquet')\n",
    "df_dev_f2_drop_6.to_parquet('../data/df_dev_tdms_augmented_summarized_with_id_f2_drop_6.parquet')\n",
    "\n",
    "dataset = DatasetDict({\n",
    "    'fold1': DatasetDict({\n",
    "        \"train\": Dataset.from_parquet('../data/df_train_tdms_augmented_summarized_with_id_f1_drop_6.parquet'),\n",
    "        \"validation\": Dataset.from_parquet('../data/df_dev_tdms_augmented_summarized_with_id_f1_drop_6.parquet'),\n",
    "        \"zeroshot\": Dataset.from_parquet('../data/df_zeroshot_tdms_augmented_summarized_with_id_f1_drop_6.parquet')\n",
    "    }),\n",
    "    'fold2': DatasetDict({\n",
    "        \"train\": Dataset.from_parquet('../data/df_train_tdms_augmented_summarized_with_id_f2_drop_6.parquet'),\n",
    "        \"validation\": Dataset.from_parquet('../data/df_dev_tdms_augmented_summarized_with_id_f2_drop_6.parquet')\n",
    "    })\n",
    "})\n",
    "\n",
    "print(dataset)\n",
    "\n",
    "dataset.save_to_disk(\"../data/LLLM_AUGMENTED_SUMMARIZED_WITH_ID_ZEROSHOT_TDMS_DROP_6\")"
   ]
  },
  {
   "cell_type": "code",
   "execution_count": 102,
   "metadata": {},
   "outputs": [
    {
     "name": "stderr",
     "output_type": "stream",
     "text": [
      "  1%|          | 82/12388 [00:00<00:15, 819.56it/s]"
     ]
    },
    {
     "name": "stderr",
     "output_type": "stream",
     "text": [
      "100%|██████████| 12388/12388 [00:17<00:00, 702.80it/s]\n",
      "100%|██████████| 1642/1642 [00:02<00:00, 791.31it/s]\n",
      "100%|██████████| 1200/1200 [00:01<00:00, 797.40it/s]\n",
      "100%|██████████| 12382/12382 [00:17<00:00, 699.10it/s]\n",
      "100%|██████████| 1648/1648 [00:02<00:00, 791.02it/s]\n"
     ]
    },
    {
     "name": "stdout",
     "output_type": "stream",
     "text": [
      "df_train_f1_drop_7 describe: \n"
     ]
    },
    {
     "data": {
      "text/html": [
       "<div>\n",
       "<style scoped>\n",
       "    .dataframe tbody tr th:only-of-type {\n",
       "        vertical-align: middle;\n",
       "    }\n",
       "\n",
       "    .dataframe tbody tr th {\n",
       "        vertical-align: top;\n",
       "    }\n",
       "\n",
       "    .dataframe thead th {\n",
       "        text-align: right;\n",
       "    }\n",
       "</style>\n",
       "<table border=\"1\" class=\"dataframe\">\n",
       "  <thead>\n",
       "    <tr style=\"text-align: right;\">\n",
       "      <th></th>\n",
       "      <th>id</th>\n",
       "      <th>prompt</th>\n",
       "      <th>answer</th>\n",
       "    </tr>\n",
       "  </thead>\n",
       "  <tbody>\n",
       "    <tr>\n",
       "      <th>count</th>\n",
       "      <td>12388</td>\n",
       "      <td>12388</td>\n",
       "      <td>12388</td>\n",
       "    </tr>\n",
       "    <tr>\n",
       "      <th>unique</th>\n",
       "      <td>12388</td>\n",
       "      <td>12312</td>\n",
       "      <td>7976</td>\n",
       "    </tr>\n",
       "    <tr>\n",
       "      <th>top</th>\n",
       "      <td>1707.03497v2.pdf</td>\n",
       "      <td>Context: Title:\\t\\n\\nAbstract:\\t\\n\\n[image]\\n\\...</td>\n",
       "      <td>unanswerable</td>\n",
       "    </tr>\n",
       "    <tr>\n",
       "      <th>freq</th>\n",
       "      <td>1</td>\n",
       "      <td>20</td>\n",
       "      <td>4401</td>\n",
       "    </tr>\n",
       "  </tbody>\n",
       "</table>\n",
       "</div>"
      ],
      "text/plain": [
       "                      id                                             prompt  \\\n",
       "count              12388                                              12388   \n",
       "unique             12388                                              12312   \n",
       "top     1707.03497v2.pdf  Context: Title:\\t\\n\\nAbstract:\\t\\n\\n[image]\\n\\...   \n",
       "freq                   1                                                 20   \n",
       "\n",
       "              answer  \n",
       "count          12388  \n",
       "unique          7976  \n",
       "top     unanswerable  \n",
       "freq            4401  "
      ]
     },
     "metadata": {},
     "output_type": "display_data"
    },
    {
     "name": "stdout",
     "output_type": "stream",
     "text": [
      "df_dev_f1_drop_7 describe: \n"
     ]
    },
    {
     "data": {
      "text/html": [
       "<div>\n",
       "<style scoped>\n",
       "    .dataframe tbody tr th:only-of-type {\n",
       "        vertical-align: middle;\n",
       "    }\n",
       "\n",
       "    .dataframe tbody tr th {\n",
       "        vertical-align: top;\n",
       "    }\n",
       "\n",
       "    .dataframe thead th {\n",
       "        text-align: right;\n",
       "    }\n",
       "</style>\n",
       "<table border=\"1\" class=\"dataframe\">\n",
       "  <thead>\n",
       "    <tr style=\"text-align: right;\">\n",
       "      <th></th>\n",
       "      <th>id</th>\n",
       "      <th>prompt</th>\n",
       "      <th>answer</th>\n",
       "    </tr>\n",
       "  </thead>\n",
       "  <tbody>\n",
       "    <tr>\n",
       "      <th>count</th>\n",
       "      <td>1642</td>\n",
       "      <td>1642</td>\n",
       "      <td>1642</td>\n",
       "    </tr>\n",
       "    <tr>\n",
       "      <th>unique</th>\n",
       "      <td>1642</td>\n",
       "      <td>1641</td>\n",
       "      <td>994</td>\n",
       "    </tr>\n",
       "    <tr>\n",
       "      <th>top</th>\n",
       "      <td>1810.02575v1.pdf</td>\n",
       "      <td>Context: Title:\\tA Sample ACM SIG Proceedings ...</td>\n",
       "      <td>unanswerable</td>\n",
       "    </tr>\n",
       "    <tr>\n",
       "      <th>freq</th>\n",
       "      <td>1</td>\n",
       "      <td>2</td>\n",
       "      <td>648</td>\n",
       "    </tr>\n",
       "  </tbody>\n",
       "</table>\n",
       "</div>"
      ],
      "text/plain": [
       "                      id                                             prompt  \\\n",
       "count               1642                                               1642   \n",
       "unique              1642                                               1641   \n",
       "top     1810.02575v1.pdf  Context: Title:\\tA Sample ACM SIG Proceedings ...   \n",
       "freq                   1                                                  2   \n",
       "\n",
       "              answer  \n",
       "count           1642  \n",
       "unique           994  \n",
       "top     unanswerable  \n",
       "freq             648  "
      ]
     },
     "metadata": {},
     "output_type": "display_data"
    },
    {
     "name": "stdout",
     "output_type": "stream",
     "text": [
      "df_dev_f1_drop_7 describe: \n"
     ]
    },
    {
     "data": {
      "text/html": [
       "<div>\n",
       "<style scoped>\n",
       "    .dataframe tbody tr th:only-of-type {\n",
       "        vertical-align: middle;\n",
       "    }\n",
       "\n",
       "    .dataframe tbody tr th {\n",
       "        vertical-align: top;\n",
       "    }\n",
       "\n",
       "    .dataframe thead th {\n",
       "        text-align: right;\n",
       "    }\n",
       "</style>\n",
       "<table border=\"1\" class=\"dataframe\">\n",
       "  <thead>\n",
       "    <tr style=\"text-align: right;\">\n",
       "      <th></th>\n",
       "      <th>id</th>\n",
       "      <th>prompt</th>\n",
       "      <th>answer</th>\n",
       "    </tr>\n",
       "  </thead>\n",
       "  <tbody>\n",
       "    <tr>\n",
       "      <th>count</th>\n",
       "      <td>1642</td>\n",
       "      <td>1642</td>\n",
       "      <td>1642</td>\n",
       "    </tr>\n",
       "    <tr>\n",
       "      <th>unique</th>\n",
       "      <td>1642</td>\n",
       "      <td>1641</td>\n",
       "      <td>994</td>\n",
       "    </tr>\n",
       "    <tr>\n",
       "      <th>top</th>\n",
       "      <td>1810.02575v1.pdf</td>\n",
       "      <td>Context: Title:\\tA Sample ACM SIG Proceedings ...</td>\n",
       "      <td>unanswerable</td>\n",
       "    </tr>\n",
       "    <tr>\n",
       "      <th>freq</th>\n",
       "      <td>1</td>\n",
       "      <td>2</td>\n",
       "      <td>648</td>\n",
       "    </tr>\n",
       "  </tbody>\n",
       "</table>\n",
       "</div>"
      ],
      "text/plain": [
       "                      id                                             prompt  \\\n",
       "count               1642                                               1642   \n",
       "unique              1642                                               1641   \n",
       "top     1810.02575v1.pdf  Context: Title:\\tA Sample ACM SIG Proceedings ...   \n",
       "freq                   1                                                  2   \n",
       "\n",
       "              answer  \n",
       "count           1642  \n",
       "unique           994  \n",
       "top     unanswerable  \n",
       "freq             648  "
      ]
     },
     "metadata": {},
     "output_type": "display_data"
    },
    {
     "name": "stdout",
     "output_type": "stream",
     "text": [
      "df_train_f2_drop_7 describe: \n"
     ]
    },
    {
     "data": {
      "text/html": [
       "<div>\n",
       "<style scoped>\n",
       "    .dataframe tbody tr th:only-of-type {\n",
       "        vertical-align: middle;\n",
       "    }\n",
       "\n",
       "    .dataframe tbody tr th {\n",
       "        vertical-align: top;\n",
       "    }\n",
       "\n",
       "    .dataframe thead th {\n",
       "        text-align: right;\n",
       "    }\n",
       "</style>\n",
       "<table border=\"1\" class=\"dataframe\">\n",
       "  <thead>\n",
       "    <tr style=\"text-align: right;\">\n",
       "      <th></th>\n",
       "      <th>id</th>\n",
       "      <th>prompt</th>\n",
       "      <th>answer</th>\n",
       "    </tr>\n",
       "  </thead>\n",
       "  <tbody>\n",
       "    <tr>\n",
       "      <th>count</th>\n",
       "      <td>12382</td>\n",
       "      <td>12382</td>\n",
       "      <td>12382</td>\n",
       "    </tr>\n",
       "    <tr>\n",
       "      <th>unique</th>\n",
       "      <td>12382</td>\n",
       "      <td>12311</td>\n",
       "      <td>7988</td>\n",
       "    </tr>\n",
       "    <tr>\n",
       "      <th>top</th>\n",
       "      <td>1707.03497v2.pdf</td>\n",
       "      <td>Context: Title:\\t\\n\\nAbstract:\\t\\n\\n[image]\\n\\...</td>\n",
       "      <td>unanswerable</td>\n",
       "    </tr>\n",
       "    <tr>\n",
       "      <th>freq</th>\n",
       "      <td>1</td>\n",
       "      <td>20</td>\n",
       "      <td>4383</td>\n",
       "    </tr>\n",
       "  </tbody>\n",
       "</table>\n",
       "</div>"
      ],
      "text/plain": [
       "                      id                                             prompt  \\\n",
       "count              12382                                              12382   \n",
       "unique             12382                                              12311   \n",
       "top     1707.03497v2.pdf  Context: Title:\\t\\n\\nAbstract:\\t\\n\\n[image]\\n\\...   \n",
       "freq                   1                                                 20   \n",
       "\n",
       "              answer  \n",
       "count          12382  \n",
       "unique          7988  \n",
       "top     unanswerable  \n",
       "freq            4383  "
      ]
     },
     "metadata": {},
     "output_type": "display_data"
    },
    {
     "name": "stdout",
     "output_type": "stream",
     "text": [
      "df_zeroshot_f1_drop_7 describe: \n"
     ]
    },
    {
     "data": {
      "text/html": [
       "<div>\n",
       "<style scoped>\n",
       "    .dataframe tbody tr th:only-of-type {\n",
       "        vertical-align: middle;\n",
       "    }\n",
       "\n",
       "    .dataframe tbody tr th {\n",
       "        vertical-align: top;\n",
       "    }\n",
       "\n",
       "    .dataframe thead th {\n",
       "        text-align: right;\n",
       "    }\n",
       "</style>\n",
       "<table border=\"1\" class=\"dataframe\">\n",
       "  <thead>\n",
       "    <tr style=\"text-align: right;\">\n",
       "      <th></th>\n",
       "      <th>id</th>\n",
       "      <th>prompt</th>\n",
       "      <th>answer</th>\n",
       "    </tr>\n",
       "  </thead>\n",
       "  <tbody>\n",
       "    <tr>\n",
       "      <th>count</th>\n",
       "      <td>1200</td>\n",
       "      <td>1200</td>\n",
       "      <td>1200</td>\n",
       "    </tr>\n",
       "    <tr>\n",
       "      <th>unique</th>\n",
       "      <td>1200</td>\n",
       "      <td>1197</td>\n",
       "      <td>653</td>\n",
       "    </tr>\n",
       "    <tr>\n",
       "      <th>top</th>\n",
       "      <td>2209.03182v1.pdf</td>\n",
       "      <td>Context: Title:\\t\\n\\nAbstract:\\t\\n\\n[image]\\n\\...</td>\n",
       "      <td>unanswerable</td>\n",
       "    </tr>\n",
       "    <tr>\n",
       "      <th>freq</th>\n",
       "      <td>1</td>\n",
       "      <td>3</td>\n",
       "      <td>548</td>\n",
       "    </tr>\n",
       "  </tbody>\n",
       "</table>\n",
       "</div>"
      ],
      "text/plain": [
       "                      id                                             prompt  \\\n",
       "count               1200                                               1200   \n",
       "unique              1200                                               1197   \n",
       "top     2209.03182v1.pdf  Context: Title:\\t\\n\\nAbstract:\\t\\n\\n[image]\\n\\...   \n",
       "freq                   1                                                  3   \n",
       "\n",
       "              answer  \n",
       "count           1200  \n",
       "unique           653  \n",
       "top     unanswerable  \n",
       "freq             548  "
      ]
     },
     "metadata": {},
     "output_type": "display_data"
    },
    {
     "name": "stdout",
     "output_type": "stream",
     "text": [
      "Downloading and preparing dataset parquet/default to /nfs/home/kabenamualus/.cache/huggingface/datasets/parquet/default-3eb837a333cfc933/0.0.0/14a00e99c0d15a23649d0db8944380ac81082d4b021f398733dd84f3a6c569a7...\n"
     ]
    },
    {
     "data": {
      "application/vnd.jupyter.widget-view+json": {
       "model_id": "85d0088adf274e8fa7554f43248c27ce",
       "version_major": 2,
       "version_minor": 0
      },
      "text/plain": [
       "Downloading data files:   0%|          | 0/1 [00:00<?, ?it/s]"
      ]
     },
     "metadata": {},
     "output_type": "display_data"
    },
    {
     "data": {
      "application/vnd.jupyter.widget-view+json": {
       "model_id": "c112462538e840b7871418258d2dda0f",
       "version_major": 2,
       "version_minor": 0
      },
      "text/plain": [
       "Extracting data files:   0%|          | 0/1 [00:00<?, ?it/s]"
      ]
     },
     "metadata": {},
     "output_type": "display_data"
    },
    {
     "data": {
      "application/vnd.jupyter.widget-view+json": {
       "model_id": "3bcb4e4f0e984b9d8732b840a5debe01",
       "version_major": 2,
       "version_minor": 0
      },
      "text/plain": [
       "Generating train split: 0 examples [00:00, ? examples/s]"
      ]
     },
     "metadata": {},
     "output_type": "display_data"
    },
    {
     "name": "stdout",
     "output_type": "stream",
     "text": [
      "Dataset parquet downloaded and prepared to /nfs/home/kabenamualus/.cache/huggingface/datasets/parquet/default-3eb837a333cfc933/0.0.0/14a00e99c0d15a23649d0db8944380ac81082d4b021f398733dd84f3a6c569a7. Subsequent calls will reuse this data.\n",
      "Downloading and preparing dataset parquet/default to /nfs/home/kabenamualus/.cache/huggingface/datasets/parquet/default-17e46d64b06d8b5c/0.0.0/14a00e99c0d15a23649d0db8944380ac81082d4b021f398733dd84f3a6c569a7...\n"
     ]
    },
    {
     "data": {
      "application/vnd.jupyter.widget-view+json": {
       "model_id": "9cd233fe417442fda0c1e1f1e5a33879",
       "version_major": 2,
       "version_minor": 0
      },
      "text/plain": [
       "Downloading data files:   0%|          | 0/1 [00:00<?, ?it/s]"
      ]
     },
     "metadata": {},
     "output_type": "display_data"
    },
    {
     "data": {
      "application/vnd.jupyter.widget-view+json": {
       "model_id": "117ab413dd6f49fca556dbbb508d4163",
       "version_major": 2,
       "version_minor": 0
      },
      "text/plain": [
       "Extracting data files:   0%|          | 0/1 [00:00<?, ?it/s]"
      ]
     },
     "metadata": {},
     "output_type": "display_data"
    },
    {
     "data": {
      "application/vnd.jupyter.widget-view+json": {
       "model_id": "6ddad145054b415e842737e770e8c38e",
       "version_major": 2,
       "version_minor": 0
      },
      "text/plain": [
       "Generating train split: 0 examples [00:00, ? examples/s]"
      ]
     },
     "metadata": {},
     "output_type": "display_data"
    },
    {
     "name": "stdout",
     "output_type": "stream",
     "text": [
      "Dataset parquet downloaded and prepared to /nfs/home/kabenamualus/.cache/huggingface/datasets/parquet/default-17e46d64b06d8b5c/0.0.0/14a00e99c0d15a23649d0db8944380ac81082d4b021f398733dd84f3a6c569a7. Subsequent calls will reuse this data.\n",
      "Downloading and preparing dataset parquet/default to /nfs/home/kabenamualus/.cache/huggingface/datasets/parquet/default-67ca9e6892994fe9/0.0.0/14a00e99c0d15a23649d0db8944380ac81082d4b021f398733dd84f3a6c569a7...\n"
     ]
    },
    {
     "data": {
      "application/vnd.jupyter.widget-view+json": {
       "model_id": "fac9dbfe96ad4bf8a790a3b5038dc40d",
       "version_major": 2,
       "version_minor": 0
      },
      "text/plain": [
       "Downloading data files:   0%|          | 0/1 [00:00<?, ?it/s]"
      ]
     },
     "metadata": {},
     "output_type": "display_data"
    },
    {
     "data": {
      "application/vnd.jupyter.widget-view+json": {
       "model_id": "5b64c2f8484d496b928e5dc084519115",
       "version_major": 2,
       "version_minor": 0
      },
      "text/plain": [
       "Extracting data files:   0%|          | 0/1 [00:00<?, ?it/s]"
      ]
     },
     "metadata": {},
     "output_type": "display_data"
    },
    {
     "data": {
      "application/vnd.jupyter.widget-view+json": {
       "model_id": "14ca80208bcd4759b263691056af73a6",
       "version_major": 2,
       "version_minor": 0
      },
      "text/plain": [
       "Generating train split: 0 examples [00:00, ? examples/s]"
      ]
     },
     "metadata": {},
     "output_type": "display_data"
    },
    {
     "name": "stdout",
     "output_type": "stream",
     "text": [
      "Dataset parquet downloaded and prepared to /nfs/home/kabenamualus/.cache/huggingface/datasets/parquet/default-67ca9e6892994fe9/0.0.0/14a00e99c0d15a23649d0db8944380ac81082d4b021f398733dd84f3a6c569a7. Subsequent calls will reuse this data.\n",
      "Downloading and preparing dataset parquet/default to /nfs/home/kabenamualus/.cache/huggingface/datasets/parquet/default-50b2abe59e79624b/0.0.0/14a00e99c0d15a23649d0db8944380ac81082d4b021f398733dd84f3a6c569a7...\n"
     ]
    },
    {
     "data": {
      "application/vnd.jupyter.widget-view+json": {
       "model_id": "2f734035378a4dd6b314c2598c7d30f7",
       "version_major": 2,
       "version_minor": 0
      },
      "text/plain": [
       "Downloading data files:   0%|          | 0/1 [00:00<?, ?it/s]"
      ]
     },
     "metadata": {},
     "output_type": "display_data"
    },
    {
     "data": {
      "application/vnd.jupyter.widget-view+json": {
       "model_id": "5fc62d52efcd4584941c3b5cddf227cd",
       "version_major": 2,
       "version_minor": 0
      },
      "text/plain": [
       "Extracting data files:   0%|          | 0/1 [00:00<?, ?it/s]"
      ]
     },
     "metadata": {},
     "output_type": "display_data"
    },
    {
     "data": {
      "application/vnd.jupyter.widget-view+json": {
       "model_id": "57e2ccd46fa34e5ca69f5763c8fef7b6",
       "version_major": 2,
       "version_minor": 0
      },
      "text/plain": [
       "Generating train split: 0 examples [00:00, ? examples/s]"
      ]
     },
     "metadata": {},
     "output_type": "display_data"
    },
    {
     "name": "stdout",
     "output_type": "stream",
     "text": [
      "Dataset parquet downloaded and prepared to /nfs/home/kabenamualus/.cache/huggingface/datasets/parquet/default-50b2abe59e79624b/0.0.0/14a00e99c0d15a23649d0db8944380ac81082d4b021f398733dd84f3a6c569a7. Subsequent calls will reuse this data.\n",
      "Downloading and preparing dataset parquet/default to /nfs/home/kabenamualus/.cache/huggingface/datasets/parquet/default-b4020d14b46e9075/0.0.0/14a00e99c0d15a23649d0db8944380ac81082d4b021f398733dd84f3a6c569a7...\n"
     ]
    },
    {
     "data": {
      "application/vnd.jupyter.widget-view+json": {
       "model_id": "5656a6c3237549e8aaa181306864a006",
       "version_major": 2,
       "version_minor": 0
      },
      "text/plain": [
       "Downloading data files:   0%|          | 0/1 [00:00<?, ?it/s]"
      ]
     },
     "metadata": {},
     "output_type": "display_data"
    },
    {
     "data": {
      "application/vnd.jupyter.widget-view+json": {
       "model_id": "5c3ab359e6a7474695028dff8798cbad",
       "version_major": 2,
       "version_minor": 0
      },
      "text/plain": [
       "Extracting data files:   0%|          | 0/1 [00:00<?, ?it/s]"
      ]
     },
     "metadata": {},
     "output_type": "display_data"
    },
    {
     "data": {
      "application/vnd.jupyter.widget-view+json": {
       "model_id": "aa234262582a4c5da6daf8230c2783b0",
       "version_major": 2,
       "version_minor": 0
      },
      "text/plain": [
       "Generating train split: 0 examples [00:00, ? examples/s]"
      ]
     },
     "metadata": {},
     "output_type": "display_data"
    },
    {
     "name": "stdout",
     "output_type": "stream",
     "text": [
      "Dataset parquet downloaded and prepared to /nfs/home/kabenamualus/.cache/huggingface/datasets/parquet/default-b4020d14b46e9075/0.0.0/14a00e99c0d15a23649d0db8944380ac81082d4b021f398733dd84f3a6c569a7. Subsequent calls will reuse this data.\n",
      "DatasetDict({\n",
      "    fold1: DatasetDict({\n",
      "        train: Dataset({\n",
      "            features: ['id', 'prompt', 'answer', '__index_level_0__'],\n",
      "            num_rows: 12388\n",
      "        })\n",
      "        validation: Dataset({\n",
      "            features: ['id', 'prompt', 'answer', '__index_level_0__'],\n",
      "            num_rows: 1642\n",
      "        })\n",
      "        zeroshot: Dataset({\n",
      "            features: ['id', 'prompt', 'answer', '__index_level_0__'],\n",
      "            num_rows: 1200\n",
      "        })\n",
      "    })\n",
      "    fold2: DatasetDict({\n",
      "        train: Dataset({\n",
      "            features: ['id', 'prompt', 'answer', '__index_level_0__'],\n",
      "            num_rows: 12382\n",
      "        })\n",
      "        validation: Dataset({\n",
      "            features: ['id', 'prompt', 'answer', '__index_level_0__'],\n",
      "            num_rows: 1648\n",
      "        })\n",
      "    })\n",
      "})\n"
     ]
    },
    {
     "data": {
      "application/vnd.jupyter.widget-view+json": {
       "model_id": "84ef52e53b324db491ae49ed7799ff9a",
       "version_major": 2,
       "version_minor": 0
      },
      "text/plain": [
       "Saving the dataset (0/1 shards):   0%|          | 0/12388 [00:00<?, ? examples/s]"
      ]
     },
     "metadata": {},
     "output_type": "display_data"
    },
    {
     "data": {
      "application/vnd.jupyter.widget-view+json": {
       "model_id": "4f856440f4bd428bac85dcfb5bc84402",
       "version_major": 2,
       "version_minor": 0
      },
      "text/plain": [
       "Saving the dataset (0/1 shards):   0%|          | 0/1642 [00:00<?, ? examples/s]"
      ]
     },
     "metadata": {},
     "output_type": "display_data"
    },
    {
     "data": {
      "application/vnd.jupyter.widget-view+json": {
       "model_id": "209adf11b826476b9b3f0c38f0bbd22a",
       "version_major": 2,
       "version_minor": 0
      },
      "text/plain": [
       "Saving the dataset (0/1 shards):   0%|          | 0/1200 [00:00<?, ? examples/s]"
      ]
     },
     "metadata": {},
     "output_type": "display_data"
    },
    {
     "data": {
      "application/vnd.jupyter.widget-view+json": {
       "model_id": "f070f2aef24f4390af6fe5d429d58f6c",
       "version_major": 2,
       "version_minor": 0
      },
      "text/plain": [
       "Saving the dataset (0/1 shards):   0%|          | 0/12382 [00:00<?, ? examples/s]"
      ]
     },
     "metadata": {},
     "output_type": "display_data"
    },
    {
     "data": {
      "application/vnd.jupyter.widget-view+json": {
       "model_id": "0c84b1b0ea534038b98d4a7ea2e81d0f",
       "version_major": 2,
       "version_minor": 0
      },
      "text/plain": [
       "Saving the dataset (0/1 shards):   0%|          | 0/1648 [00:00<?, ? examples/s]"
      ]
     },
     "metadata": {},
     "output_type": "display_data"
    }
   ],
   "source": [
    "df_train_f1_drop_7 = create_pandas_dataset_from_pandas(df_train_f1,\n",
    "                                                        drop_7 = True,\n",
    "                                                        ) \n",
    "df_dev_f1_drop_7 = create_pandas_dataset_from_pandas(df_dev_f1,\n",
    "                                                        drop_7 = True,\n",
    "                                                        ) \n",
    "df_zeroshot_f1_drop_7 = create_pandas_dataset_from_pandas(df_zeroshot_f1,\n",
    "                                                        drop_7 = True,\n",
    "                                                        ) \n",
    "\n",
    "df_train_f2_drop_7 = create_pandas_dataset_from_pandas(df_train_f2,\n",
    "                                                        drop_7 = True,\n",
    "                                                        ) \n",
    "df_dev_f2_drop_7 = create_pandas_dataset_from_pandas(df_dev_f2,\n",
    "                                                        drop_7 = True,\n",
    "                                                        ) \n",
    "\n",
    "print(\"df_train_f1_drop_7 describe: \")\n",
    "display(df_train_f1_drop_7.describe())\n",
    "print(\"df_dev_f1_drop_7 describe: \")\n",
    "display(df_dev_f1_drop_7.describe())\n",
    "print(\"df_dev_f1_drop_7 describe: \")\n",
    "display(df_dev_f1_drop_7.describe())\n",
    "\n",
    "print(\"df_train_f2_drop_7 describe: \")\n",
    "display(df_train_f2_drop_7.describe())\n",
    "print(\"df_zeroshot_f1_drop_7 describe: \")\n",
    "display(df_zeroshot_f1_drop_7.describe())\n",
    "\n",
    "df_train_f1_drop_7.to_parquet('../data/df_train_tdms_augmented_summarized_with_id_f1_drop_7.parquet')\n",
    "df_dev_f1_drop_7.to_parquet('../data/df_dev_tdms_augmented_summarized_with_id_f1_drop_7.parquet')\n",
    "df_zeroshot_f1_drop_7.to_parquet('../data/df_zeroshot_tdms_augmented_summarized_with_id_f1_drop_7.parquet')\n",
    "\n",
    "df_train_f2_drop_7.to_parquet('../data/df_train_tdms_augmented_summarized_with_id_f2_drop_7.parquet')\n",
    "df_dev_f2_drop_7.to_parquet('../data/df_dev_tdms_augmented_summarized_with_id_f2_drop_7.parquet')\n",
    "\n",
    "dataset = DatasetDict({\n",
    "    'fold1': DatasetDict({\n",
    "        \"train\": Dataset.from_parquet('../data/df_train_tdms_augmented_summarized_with_id_f1_drop_7.parquet'),\n",
    "        \"validation\": Dataset.from_parquet('../data/df_dev_tdms_augmented_summarized_with_id_f1_drop_7.parquet'),\n",
    "        \"zeroshot\": Dataset.from_parquet('../data/df_zeroshot_tdms_augmented_summarized_with_id_f1_drop_7.parquet')\n",
    "    }),\n",
    "    'fold2': DatasetDict({\n",
    "        \"train\": Dataset.from_parquet('../data/df_train_tdms_augmented_summarized_with_id_f2_drop_7.parquet'),\n",
    "        \"validation\": Dataset.from_parquet('../data/df_dev_tdms_augmented_summarized_with_id_f2_drop_7.parquet')\n",
    "    })\n",
    "})\n",
    "\n",
    "print(dataset)\n",
    "\n",
    "dataset.save_to_disk(\"../data/LLLM_AUGMENTED_SUMMARIZED_WITH_ID_ZEROSHOT_TDMS_DROP_7\")"
   ]
  },
  {
   "cell_type": "code",
   "execution_count": null,
   "metadata": {},
   "outputs": [],
   "source": []
  },
  {
   "cell_type": "code",
   "execution_count": 103,
   "metadata": {},
   "outputs": [
    {
     "data": {
      "text/plain": [
       "datasets.dataset_dict.DatasetDict"
      ]
     },
     "execution_count": 103,
     "metadata": {},
     "output_type": "execute_result"
    }
   ],
   "source": [
    "type(dataset)"
   ]
  },
  {
   "cell_type": "code",
   "execution_count": 104,
   "metadata": {},
   "outputs": [],
   "source": [
    "# root_directory = \"../data/LLLM_LONG_SUMMARIZED_TDMS_ALL_TEMPLATE\"\n",
    "root_directory = \"../data/LLLM_AUGMENTED_SUMMARIZED_WITH_ID_ZEROSHOT_TDMS_DROP_7\"\n",
    "\n",
    "\n",
    "# reloaded_encoded_dataset = datasets.load_from_disk(\"../data/dataset/LLLM_TDMS_ALL_TEMPLATE\")\n",
    "# reloaded_encoded_dataset = DatasetDict.load_from_disk(\"../data/LLLM_TDMS_ALL_TEMPLATE\")\n",
    "\n",
    "dataset_fold1 = DatasetDict.load_from_disk(f\"{root_directory}/fold1\")\n",
    "dataset_fold2 = DatasetDict.load_from_disk(f\"{root_directory}/fold2\")"
   ]
  },
  {
   "cell_type": "code",
   "execution_count": 105,
   "metadata": {},
   "outputs": [
    {
     "data": {
      "text/plain": [
       "{'id': '1707.03497v2.pdf',\n",
       " 'prompt': 'Context: Title:\\tValue Prediction Network\\n\\nAbstract:\\tThis paper proposes a novel deep reinforcement learning (RL) architecture, called Value Prediction Network (VPN), which integrates model-free and model-based RL methods into a single neural network. In contrast to typical model-based RL methods, VPN learns a dynamics model whose abstract states are trained to make option-conditional predictions of future values (discounted sum of rewards) rather than of future observations. Our experimental results show that VPN has several advantages over both model-free and model-based baselines in a stochastic environment where careful planning is required but building an accurate observation-prediction model is difficult. Furthermore, VPN outperforms Deep Q-Network (DQN) on several Atari games even with short-lookahead planning, demonstrating its potential as a new way of learning a good state representation.\\n\\nExperiments\\n\\nOur experiments investigated the following questions: 1) Does VPN outperform model-free baselines (e.g., DQN)? 2) What is the advantage of planning with a VPN over observation-based planning? 3) Is VPN useful for complex domains with high-dimensional sensory inputs, such as Atari games?\\n\\nExperimental Setting\\n\\nNetwork Architecture.\\n\\nA CNN was used as the encoding module of VPN, and the transition module consists of one option-conditional convolution layer which uses different weights depending on the option followed by a few more convolution layers. We used a residual connection\\xa0 from the previous abstract-state to the next abstract-state so that the transition module learns the change of the abstract-state. The outcome module is similar to the transition module except that it does not have a residual connection and two fully-connected layers are used to produce reward and discount. The value module consists of two fully-connected layers. The number of layers and hidden units vary depending on the domain. These details are described in the Appendix.\\n\\nImplementation Details.\\n\\nOur algorithm is based on asynchronous n-step Q-learning\\xa0 where n is 10 and 16 threads are used. The target network is synchronized after every 10K steps. We used the Adam optimizer\\xa0, and the best learning rate and its decay were chosen from {0.0001,0.0002,0.0005,0.001} and {0.98,0.95,0.9,0.8} respectively. The learning rate is multiplied by the decay every 1M steps. Our implementation is based on TensorFlow\\xa0.[1]\\n\\nVPN has four more hyperparameters: 1) the number of predictions steps (k) during training, 2) the plan depth (d_(train)) during training, 3) the plan depth (d_(test)) during evaluation, and 4) the branching factor (b) which indicates the number of options to be simulated for each expansion step during planning. We used k\\u2004=\\u2004d_(train)\\u2004=\\u2004d_(test) throughout the experiment unless otherwise stated. VPN(d) represents our model which learns to predict and simulate up to d-step futures during training and evaluation. The branching factor (b) was set to 4 until depth of 3 and set to 1 after depth of 3, which means that VPN simulates 4-best options up to depth of 3 and only the best option after that.\\n\\nBaselines.\\n\\nWe compared our approach to the following baselines.\\n\\n-   DQN: This baseline directly estimates Q-values as its output and is trained through asynchronous n-step Q-learning. Unlike the original DQN, however, our DQN baseline takes an option as additional input and applies an option-conditional convolution layer to the top of the last encoding convolution layer, which is very similar to our VPN architecture.[2]\\n\\n-   VPN(1): This is identical to our VPN with the same training procedure except that it performs only 1-step rollout to estimate Q-value as shown in Figure\\xa0[fig:1-step]. This can be viewed as a variation of DQN that predicts reward, discount, and the value of the next state as a decomposition of Q-value.\\n\\n-   OPN(d): We call this Observation Prediction Network (OPN), which is similar to VPN except that it directly predicts future observations. More specifically, we train two independent networks: a model network (f^(model)\\u2004:\\u2004x,\\u2006o\\u2004↦\\u2004r,\\u2006γ,\\u2006x′) which predicts reward, discount, and the next observation, and a value network (f^(value)\\u2004:\\u2004x\\u2004↦\\u2004V(x)) which estimates the value from the observation. The training scheme is similar to our algorithm except that a squared loss for observation prediction is used to train the model network. This baseline performs d-step planning like VPN(d).\\n\\nCollect Domain\\n\\nTask Description.\\n\\nWe defined a simple but challenging 2D navigation task where the agent should collect as many goals as possible within a time limit, as illustrated in Figure\\xa0[fig:collect]. In this task, the agent, goals, and walls are randomly placed for each episode. The agent has four options: move left/right/up/down to the first crossing branch or the end of the corridor in the chosen direction. The agent is given 20 steps for each episode and receives a positive reward (2.0) when it collects a goal by moving on top of it and a time-penalty (\\u2005−\\u20050.2) for each step. Although it is easy to learn a sub-optimal policy which collects nearby goals, finding the optimal trajectory in each episode requires careful planning because the optimal solution cannot be computed in polynomial time.\\n\\nAn observation is represented as a 3D tensor (ℝ^(3\\u2005×\\u200510\\u2005×\\u200510)) with binary values indicating the presence/absence of each object type. The time remaining is normalized to [0,1] and is concatenated to the 3rd convolution layer of the network as a channel.\\n\\nWe evaluated all architectures first in a deterministic environment and then investigated the robustness in a stochastic environment separately. In the stochastic environment, each goal moves by one block with probability of 0.3 for each step. In addition, each option can be repeated multiple times with probability of 0.3. This makes it difficult to predict and plan the future precisely.\\n\\n[]\\n\\nObservation\\n\\n[]\\n\\nDQN’s trajectory\\n\\n[]\\n\\nVPN’s trajectory\\n\\n[]\\n\\nPlan with 20 steps\\n\\n[]\\n\\nPlan with 12 steps\\n\\nExample of VPN’s plan. VPN can plan the best future options just from the current state. The figures show VPN’s different plans depending on the time limit.\\n\\n[]\\n\\nDeterministic\\n\\n[]\\n\\nStochastic\\n\\nLearning curves on Collect domain. ‘VPN(d)’ represents VPN with d-step planning, while ‘DQN’ and ‘OPN(d)’ are the baselines.\\n\\nOverall Performance.\\n\\nThe result is summarized in Figure\\xa04. To understand the quality of different policies, we implemented a greedy algorithm which always collects the nearest goal first and a shortest-path algorithm which finds the optimal solution through exhaustive search assuming that the environment is deterministic. Note that even a small gap in terms of reward can be qualitatively substantial as indicated by the small gap between greedy and shortest-path algorithms.\\n\\nThe results show that many architectures learned a better-than-greedy policy in the deterministic and stochastic environments except that OPN baselines perform poorly in the stochastic environment. In addition, the performance of VPN is improved as the plan depth increases, which implies that deeper predictions are reliable enough to provide more accurate value estimates of future states. As a result, VPN with 5-step planning represented by ‘VPN(5)’ performs best in both environments.\\n\\nComparison to Model-free Baselines.\\n\\nOur VPNs outperform DQN and VPN(1) baselines by a large margin as shown in Figure\\xa04. Figure\\xa0[fig:collect] (b-c) shows an example of trajectories of DQN and VPN(5) given the same initial state. Although DQN’s behavior is reasonable, it ended up with collecting one less goal compared to VPN(5). We hypothesize that 6 convolution layers used by DQN and VPN(1) are not expressive enough to find the best route in each episode because finding an optimal path requires a combinatorial search in this task. On the other hand, VPN can perform such a combinatorial search to some extent by simulating future abstract-states, which has advantages over model-free approaches for dealing with tasks that require careful planning.\\n\\nComparison to Observation-based Planning.\\n\\nCompared to OPNs which perform planning based on predicted observations, VPNs perform slightly better or equally well in the deterministic environment. We observed that OPNs can predict future observations very accurately because observations in this task are simple and the environment is deterministic. Nevertheless, VPNs learn faster than OPNs in most cases. We conjecture that it takes additional training steps for OPNs to learn to predict future observations. In contrast, VPNs learn to predict only minimal but sufficient information for planning: reward, discount, and the value of future abstract-states, which may be the reason why VPNs learn faster than OPNs.\\n\\nIn the stochastic Collect domain, VPNs significantly outperform OPNs. We observed that OPNs tend to predict the average of possible future observations (𝔼_(x)[x]) because OPN is deterministic. Estimating values on such blurry predictions leads to estimating V_(θ)(𝔼_(x)[x]) which is different from the true expected value 𝔼_(x)[V(x)]. On the other hand, VPN is trained to approximate the true expected value because there is no explicit constraint or loss for the predicted abstract state. We hypothesize that this key distinction allows VPN to learn different modes of possible future states more flexibly in the abstract state space. This result suggests that a value-prediction model can be more beneficial than an observation-prediction model when the environment is stochastic and building an accurate observation-prediction model is difficult.\\n\\nr0.46\\n\\n              Deterministic                 Stochastic         \\n  ---------- --------------- ------ ------ ------------ ------ ------\\n         2-4    Original      FGs    MWs     Original    FGs    MWs\\n      Greedy      8.61        5.13   7.79      7.58      4.48   7.04\\n    Shortest      9.71        5.82   8.98      7.64      4.36   7.22\\n         DQN      8.66        4.57   7.08      7.85      4.11   6.72\\n      VPN(1)      8.94        4.92   7.64      7.84      4.27   7.15\\n      OPN(5)      9.30        5.45   8.36      7.55      4.09   6.79\\n      VPN(5)      9.29        5.43   8.31      8.11      4.45   7.46\\n\\nGeneralization Performance.\\n\\nOne advantage of model-based RL approach is that it can generalize well to unseen environments as long as the dynamics of the environment remains similar. To see if our VPN has such a property, we evaluated all architectures on two types of previously unseen environments with either reduced number of goals (from 8 to 5) or increased number of walls. It turns out that our VPN is much more robust to the unseen environments compared to model-free baselines (DQN and VPN(1)), as shown in Table\\xa0[tab:generalization]. The model-free baselines perform worse than the greedy algorithm on unseen environments, whereas VPN still performs well. In addition, VPN generalizes as well as OPN which can learn a near-perfect model in the deterministic setting, and VPN significantly outperforms OPN in the stochastic setting. This suggests that VPN has a good generalization property like model-based RL methods and is robust to stochasticity.\\n\\nEffect of Planning Depth.\\n\\nr0.48 [image]\\n\\nTo further investigate the effect of planning depth in a VPN, we measured the average reward in the deterministic environment by varying the planning depth (d_(test)) from 1 to 10 during evaluation after training VPN with a fixed number of prediction steps and planning depth (k,\\u2006d_(train)), as shown in Figure\\xa0[fig:depth]. Since VPN does not learn to predict observations, there is no guarantee that it can perform deeper planning during evaluation (d_(test)) than the planning depth used during training (d_(train)). Interestingly, however, the result in Figure\\xa0[fig:depth] shows that if k\\u2004=\\u2004d_(train)\\u2004>\\u20042, VPN achieves better performance during evaluation through deeper tree search (d_(test)\\u2004>\\u2004d_(train)). We also tested a VPN with k\\u2004=\\u200410 and d_(train)\\u2004=\\u20045 and found that a planning depth of 10 achieved the best performance during evaluation. Thus, with a suitably large number of prediction steps during training, our VPN is able to benefit from deeper planning during evaluation relative to the planning depth during training. Figure\\xa01 shows examples of good plans of length greater than 5 found by a VPN trained with planning depth 5. Another observation from Figure\\xa0[fig:depth] is that the performance of planning depth of 1 (d_(test)\\u2004=\\u20041) degrades as the planning depth during training (d_(train)) increases. This means that a VPN can improve its value estimations through long-term planning at the expense of the quality of short-term planning.\\n\\nAtari Games\\n\\nTo investigate how VPN deals with complex visual observations, we evaluated it on several Atari games\\xa0. Unlike in the Collect domain, in Atari games most primitive actions have only small value consequences and it is difficult to hand-design useful extended options. Nevertheless, we explored if VPNs are useful in Atari games even with short-lookahead planning using simple options that repeat the same primitive action over extended time periods by using a frame-skip of 10.[3] We pre-processed the game screen to 84\\u2005×\\u200584 gray-scale images. All architectures take last 4 frames as input. We doubled the number of hidden units of the fully-connected layer for DQN to approximately match the number of parameters. VPN learns to predict rewards and values but not discount (since it is fixed), and was trained to make 3-option-step predictions for planning which means that the agent predicts up to 0.5 seconds ahead in real-time.\\n\\n         Frostbite   Seaquest   Enduro   Alien   Q*Bert   Ms. Pacman   Amidar   Krull   Crazy Climber\\n  ----- ----------- ---------- -------- ------- -------- ------------ -------- ------- ---------------\\n    DQN    3058        2951      326     1804    12592       2804       535     12438       41658\\n    VPN    3811        5628      382     1429    14517       2689       641     15930       54119\\n\\n  : Performance on Atari games. Each number represents average score over 5 top agents.\\n\\n[]\\n\\nLearning curves on Atari games. X-axis and y-axis correspond to steps and average reward over 100 episodes respectively.\\n\\n[]\\n\\nState\\n\\n[]\\n\\nPlan 1 (19.3)\\n\\n[]\\n\\nPlan 2 (18.7)\\n\\n[]\\n\\nPlan 3 (18.4)\\n\\n[]\\n\\nPlan 4 (17.1)\\n\\nExamples of VPN’s value estimates. Each figure shows trajectories of different sequences of actions from the initial state (a) along with VPN’s value estimates in the parentheses: r₁\\u2005+\\u2005γr₂\\u2005+\\u2005γ²r₃\\u2005+\\u2005γ³V(s₄). The action sequences are (b) DownRight-DownRightFire-RightFire, (c) Up-Up-Up, (d) Left-Left-Left, and (e) Up-Right-Right. VPN predicts the highest value for (b) where the agent kills the enemy and the lowest value for (e) where the agent is killed by the enemy.\\n\\nAs summarized in Table\\xa01 and Figure\\xa05, our VPN outperforms DQN baseline on 7 out of 9 Atari games and learned significantly faster than DQN on Seaquest, QBert, Krull, and Crazy Climber. One possible reason why VPN outperforms DQN is that even 3-step planning is indeed helpful for learning a better policy. Figure\\xa06 shows an example of VPN’s 3-step planning in Seaquest. Our VPN predicts reasonable values given different sequences of actions, which can potentially help choose a better action by looking at the short-term future. Another hypothesis is that the architecture of VPN itself, which has several auxiliary prediction tasks for multi-step future rewards and values, is useful for learning a good abstract-state representation as a model-free agent. Finally, our algorithm which performs planning to compute the target Q-value can potentially speed up learning by generating more accurate targets as it performs value backups multiple times from the simulated futures, as discussed in Section\\xa0[sec:relationship]. These results show that our approach is applicable to complex visual environments without needing to predict observations.\\n\\nConclusion\\n\\nWe introduced value prediction networks (VPNs) as a new deep RL way of integrating planning and learning while simultaneously learning the dynamics of abstract-states that make option-conditional predictions of future rewards/discount/values rather than future observations. Our empirical evaluations showed that VPNs outperform model-free DQN baselines in multiple domains, and outperform traditional observation-based planning in a stochastic domain. An interesting future direction would be to develop methods that automatically learn the options that allow good planning in VPNs.\\n\\n[1] The code is available on https://github.com/junhyukoh/value-prediction-network.\\n\\n[2] This architecture outperformed the original DQN architecture in our preliminary experiments.\\n\\n[3] Much of the previous work on Atari games has used a frame-skip of 4. Though using a larger frame-skip generally makes training easier, it may make training harder in some games if they require more fine-grained control\\xa0.\\n\\n\\nQuestion: What are the values for the following properties to construct a Leaderboard for the model introduced in this article: task, dataset, metric, and score?\\n\\nAnswer:',\n",
       " 'answer': \"[{'LEADERBOARD': {'Task': 'Atari Games', 'Dataset': 'Atari 2600 Ms. Pacman', 'Metric': 'Score', 'Score': '2689'}}, {'LEADERBOARD': {'Task': 'Atari Games', 'Dataset': 'Atari 2600 Q*Bert', 'Metric': 'Score', 'Score': '14517'}}, {'LEADERBOARD': {'Task': 'Atari Games', 'Dataset': 'Atari 2600 Enduro', 'Metric': 'Score', 'Score': '382'}}, {'LEADERBOARD': {'Task': 'Atari Games', 'Dataset': 'Atari 2600 Crazy Climber', 'Metric': 'Score', 'Score': '54119'}}, {'LEADERBOARD': {'Task': 'Atari Games', 'Dataset': 'Atari 2600 Amidar', 'Metric': 'Score', 'Score': '641'}}, {'LEADERBOARD': {'Task': 'Atari Games', 'Dataset': 'Atari 2600 Frostbite', 'Metric': 'Score', 'Score': '3811'}}, {'LEADERBOARD': {'Task': 'Atari Games', 'Dataset': 'Atari 2600 Seaquest', 'Metric': 'Score', 'Score': '5628'}}, {'LEADERBOARD': {'Task': 'Atari Games', 'Dataset': 'Atari 2600 Alien', 'Metric': 'Score', 'Score': '1429'}}, {'LEADERBOARD': {'Task': 'Atari Games', 'Dataset': 'Atari 2600 Krull', 'Metric': 'Score', 'Score': '15930'}}]\",\n",
       " '__index_level_0__': 0}"
      ]
     },
     "execution_count": 105,
     "metadata": {},
     "output_type": "execute_result"
    }
   ],
   "source": [
    "dataset_fold1['train'][0]"
   ]
  },
  {
   "cell_type": "code",
   "execution_count": null,
   "metadata": {},
   "outputs": [],
   "source": []
  }
 ],
 "metadata": {
  "accelerator": "GPU",
  "colab": {
   "provenance": []
  },
  "gpuClass": "standard",
  "kernelspec": {
   "display_name": "Python 3 (ipykernel)",
   "language": "python",
   "name": "python3"
  },
  "language_info": {
   "codemirror_mode": {
    "name": "ipython",
    "version": 3
   },
   "file_extension": ".py",
   "mimetype": "text/x-python",
   "name": "python",
   "nbconvert_exporter": "python",
   "pygments_lexer": "ipython3",
   "version": "3.7.10"
  },
  "widgets": {
   "application/vnd.jupyter.widget-state+json": {
    "036d1c9003ee43acb0c2b89783ef7317": {
     "model_module": "@jupyter-widgets/base",
     "model_module_version": "1.2.0",
     "model_name": "LayoutModel",
     "state": {
      "_model_module": "@jupyter-widgets/base",
      "_model_module_version": "1.2.0",
      "_model_name": "LayoutModel",
      "_view_count": null,
      "_view_module": "@jupyter-widgets/base",
      "_view_module_version": "1.2.0",
      "_view_name": "LayoutView",
      "align_content": null,
      "align_items": null,
      "align_self": null,
      "border": null,
      "bottom": null,
      "display": null,
      "flex": null,
      "flex_flow": null,
      "grid_area": null,
      "grid_auto_columns": null,
      "grid_auto_flow": null,
      "grid_auto_rows": null,
      "grid_column": null,
      "grid_gap": null,
      "grid_row": null,
      "grid_template_areas": null,
      "grid_template_columns": null,
      "grid_template_rows": null,
      "height": null,
      "justify_content": null,
      "justify_items": null,
      "left": null,
      "margin": null,
      "max_height": null,
      "max_width": null,
      "min_height": null,
      "min_width": null,
      "object_fit": null,
      "object_position": null,
      "order": null,
      "overflow": null,
      "overflow_x": null,
      "overflow_y": null,
      "padding": null,
      "right": null,
      "top": null,
      "visibility": null,
      "width": null
     }
    },
    "04be517c49014350a3a4aed13af1beb4": {
     "model_module": "@jupyter-widgets/controls",
     "model_module_version": "1.5.0",
     "model_name": "ProgressStyleModel",
     "state": {
      "_model_module": "@jupyter-widgets/controls",
      "_model_module_version": "1.5.0",
      "_model_name": "ProgressStyleModel",
      "_view_count": null,
      "_view_module": "@jupyter-widgets/base",
      "_view_module_version": "1.2.0",
      "_view_name": "StyleView",
      "bar_color": null,
      "description_width": ""
     }
    },
    "06c39c7b19ff4102a059335937096a77": {
     "model_module": "@jupyter-widgets/base",
     "model_module_version": "1.2.0",
     "model_name": "LayoutModel",
     "state": {
      "_model_module": "@jupyter-widgets/base",
      "_model_module_version": "1.2.0",
      "_model_name": "LayoutModel",
      "_view_count": null,
      "_view_module": "@jupyter-widgets/base",
      "_view_module_version": "1.2.0",
      "_view_name": "LayoutView",
      "align_content": null,
      "align_items": null,
      "align_self": null,
      "border": null,
      "bottom": null,
      "display": null,
      "flex": null,
      "flex_flow": null,
      "grid_area": null,
      "grid_auto_columns": null,
      "grid_auto_flow": null,
      "grid_auto_rows": null,
      "grid_column": null,
      "grid_gap": null,
      "grid_row": null,
      "grid_template_areas": null,
      "grid_template_columns": null,
      "grid_template_rows": null,
      "height": null,
      "justify_content": null,
      "justify_items": null,
      "left": null,
      "margin": null,
      "max_height": null,
      "max_width": null,
      "min_height": null,
      "min_width": null,
      "object_fit": null,
      "object_position": null,
      "order": null,
      "overflow": null,
      "overflow_x": null,
      "overflow_y": null,
      "padding": null,
      "right": null,
      "top": null,
      "visibility": null,
      "width": null
     }
    },
    "07e9a50ed7014724aaf6f083e481cc01": {
     "model_module": "@jupyter-widgets/controls",
     "model_module_version": "1.5.0",
     "model_name": "HTMLModel",
     "state": {
      "_dom_classes": [],
      "_model_module": "@jupyter-widgets/controls",
      "_model_module_version": "1.5.0",
      "_model_name": "HTMLModel",
      "_view_count": null,
      "_view_module": "@jupyter-widgets/controls",
      "_view_module_version": "1.5.0",
      "_view_name": "HTMLView",
      "description": "",
      "description_tooltip": null,
      "layout": "IPY_MODEL_aaa4609ff63a4451a2f27d87265b3f71",
      "placeholder": "​",
      "style": "IPY_MODEL_e8fcd026196044a08250eeb8f0c9bdd8",
      "value": " 792k/792k [00:01&lt;00:00, 537kB/s]"
     }
    },
    "080d2b5824c340848a99a988f65199bc": {
     "model_module": "@jupyter-widgets/controls",
     "model_module_version": "1.5.0",
     "model_name": "HBoxModel",
     "state": {
      "_dom_classes": [],
      "_model_module": "@jupyter-widgets/controls",
      "_model_module_version": "1.5.0",
      "_model_name": "HBoxModel",
      "_view_count": null,
      "_view_module": "@jupyter-widgets/controls",
      "_view_module_version": "1.5.0",
      "_view_name": "HBoxView",
      "box_style": "",
      "children": [
       "IPY_MODEL_b95b3978ff674a119683e3ac0fe936e9",
       "IPY_MODEL_dfae349d2c6e4efb93933fc4c011fe97",
       "IPY_MODEL_21a2c896f1c24781b4fe5834cea2454c"
      ],
      "layout": "IPY_MODEL_ba52a3af729042e9b11f1d4e22a553eb"
     }
    },
    "0effbee2d34943fc8d6d0d3a265d0766": {
     "model_module": "@jupyter-widgets/controls",
     "model_module_version": "1.5.0",
     "model_name": "ProgressStyleModel",
     "state": {
      "_model_module": "@jupyter-widgets/controls",
      "_model_module_version": "1.5.0",
      "_model_name": "ProgressStyleModel",
      "_view_count": null,
      "_view_module": "@jupyter-widgets/base",
      "_view_module_version": "1.2.0",
      "_view_name": "StyleView",
      "bar_color": null,
      "description_width": ""
     }
    },
    "0f2ce18b656a4e7ead8774f9c28b4eda": {
     "model_module": "@jupyter-widgets/base",
     "model_module_version": "1.2.0",
     "model_name": "LayoutModel",
     "state": {
      "_model_module": "@jupyter-widgets/base",
      "_model_module_version": "1.2.0",
      "_model_name": "LayoutModel",
      "_view_count": null,
      "_view_module": "@jupyter-widgets/base",
      "_view_module_version": "1.2.0",
      "_view_name": "LayoutView",
      "align_content": null,
      "align_items": null,
      "align_self": null,
      "border": null,
      "bottom": null,
      "display": "inline-flex",
      "flex": null,
      "flex_flow": "row wrap",
      "grid_area": null,
      "grid_auto_columns": null,
      "grid_auto_flow": null,
      "grid_auto_rows": null,
      "grid_column": null,
      "grid_gap": null,
      "grid_row": null,
      "grid_template_areas": null,
      "grid_template_columns": null,
      "grid_template_rows": null,
      "height": null,
      "justify_content": null,
      "justify_items": null,
      "left": null,
      "margin": null,
      "max_height": null,
      "max_width": null,
      "min_height": null,
      "min_width": null,
      "object_fit": null,
      "object_position": null,
      "order": null,
      "overflow": null,
      "overflow_x": null,
      "overflow_y": null,
      "padding": null,
      "right": null,
      "top": null,
      "visibility": null,
      "width": "100%"
     }
    },
    "1144779119e843109365495f972af363": {
     "model_module": "@jupyter-widgets/controls",
     "model_module_version": "1.5.0",
     "model_name": "FloatProgressModel",
     "state": {
      "_dom_classes": [],
      "_model_module": "@jupyter-widgets/controls",
      "_model_module_version": "1.5.0",
      "_model_name": "FloatProgressModel",
      "_view_count": null,
      "_view_module": "@jupyter-widgets/controls",
      "_view_module_version": "1.5.0",
      "_view_name": "ProgressView",
      "bar_style": "",
      "description": "",
      "description_tooltip": null,
      "layout": "IPY_MODEL_68df245747594d27b8db61a63ea30b36",
      "max": 2,
      "min": 0,
      "orientation": "horizontal",
      "style": "IPY_MODEL_4ea5fb72af6e46438af4ad47cbbd32d2",
      "value": 2
     }
    },
    "13466f14b2484f7dbfd7ffe2ecc395f7": {
     "model_module": "@jupyter-widgets/base",
     "model_module_version": "1.2.0",
     "model_name": "LayoutModel",
     "state": {
      "_model_module": "@jupyter-widgets/base",
      "_model_module_version": "1.2.0",
      "_model_name": "LayoutModel",
      "_view_count": null,
      "_view_module": "@jupyter-widgets/base",
      "_view_module_version": "1.2.0",
      "_view_name": "LayoutView",
      "align_content": null,
      "align_items": null,
      "align_self": null,
      "border": null,
      "bottom": null,
      "display": "inline-flex",
      "flex": null,
      "flex_flow": "row wrap",
      "grid_area": null,
      "grid_auto_columns": null,
      "grid_auto_flow": null,
      "grid_auto_rows": null,
      "grid_column": null,
      "grid_gap": null,
      "grid_row": null,
      "grid_template_areas": null,
      "grid_template_columns": null,
      "grid_template_rows": null,
      "height": null,
      "justify_content": null,
      "justify_items": null,
      "left": null,
      "margin": null,
      "max_height": null,
      "max_width": null,
      "min_height": null,
      "min_width": null,
      "object_fit": null,
      "object_position": null,
      "order": null,
      "overflow": null,
      "overflow_x": null,
      "overflow_y": null,
      "padding": null,
      "right": null,
      "top": null,
      "visibility": "hidden",
      "width": "100%"
     }
    },
    "13f3d839ed0249c082da5c8da1ebd386": {
     "model_module": "@jupyter-widgets/controls",
     "model_module_version": "1.5.0",
     "model_name": "FloatProgressModel",
     "state": {
      "_dom_classes": [],
      "_model_module": "@jupyter-widgets/controls",
      "_model_module_version": "1.5.0",
      "_model_name": "FloatProgressModel",
      "_view_count": null,
      "_view_module": "@jupyter-widgets/controls",
      "_view_module_version": "1.5.0",
      "_view_name": "ProgressView",
      "bar_style": "",
      "description": "",
      "description_tooltip": null,
      "layout": "IPY_MODEL_ee070df2cc9b42d6891e5ae557040066",
      "max": 500,
      "min": 0,
      "orientation": "horizontal",
      "style": "IPY_MODEL_a926a4c6b7f345b2a021410743ed5d53",
      "value": 500
     }
    },
    "1572ca2178b64d0d9accd4c7620d0f96": {
     "model_module": "@jupyter-widgets/base",
     "model_module_version": "1.2.0",
     "model_name": "LayoutModel",
     "state": {
      "_model_module": "@jupyter-widgets/base",
      "_model_module_version": "1.2.0",
      "_model_name": "LayoutModel",
      "_view_count": null,
      "_view_module": "@jupyter-widgets/base",
      "_view_module_version": "1.2.0",
      "_view_name": "LayoutView",
      "align_content": null,
      "align_items": null,
      "align_self": null,
      "border": null,
      "bottom": null,
      "display": null,
      "flex": null,
      "flex_flow": null,
      "grid_area": null,
      "grid_auto_columns": null,
      "grid_auto_flow": null,
      "grid_auto_rows": null,
      "grid_column": null,
      "grid_gap": null,
      "grid_row": null,
      "grid_template_areas": null,
      "grid_template_columns": null,
      "grid_template_rows": null,
      "height": null,
      "justify_content": null,
      "justify_items": null,
      "left": null,
      "margin": null,
      "max_height": null,
      "max_width": null,
      "min_height": null,
      "min_width": null,
      "object_fit": null,
      "object_position": null,
      "order": null,
      "overflow": null,
      "overflow_x": null,
      "overflow_y": null,
      "padding": null,
      "right": null,
      "top": null,
      "visibility": null,
      "width": null
     }
    },
    "16f0f99dbcfa4ff8b459aa5d3d9c74cd": {
     "model_module": "@jupyter-widgets/controls",
     "model_module_version": "1.5.0",
     "model_name": "DescriptionStyleModel",
     "state": {
      "_model_module": "@jupyter-widgets/controls",
      "_model_module_version": "1.5.0",
      "_model_name": "DescriptionStyleModel",
      "_view_count": null,
      "_view_module": "@jupyter-widgets/base",
      "_view_module_version": "1.2.0",
      "_view_name": "StyleView",
      "description_width": ""
     }
    },
    "170cc57e9f92469597b6aab8962a8ce3": {
     "model_module": "@jupyter-widgets/controls",
     "model_module_version": "1.5.0",
     "model_name": "DescriptionStyleModel",
     "state": {
      "_model_module": "@jupyter-widgets/controls",
      "_model_module_version": "1.5.0",
      "_model_name": "DescriptionStyleModel",
      "_view_count": null,
      "_view_module": "@jupyter-widgets/base",
      "_view_module_version": "1.2.0",
      "_view_name": "StyleView",
      "description_width": ""
     }
    },
    "1c607df922234a20b8f72f92b965c452": {
     "model_module": "@jupyter-widgets/controls",
     "model_module_version": "1.5.0",
     "model_name": "DescriptionStyleModel",
     "state": {
      "_model_module": "@jupyter-widgets/controls",
      "_model_module_version": "1.5.0",
      "_model_name": "DescriptionStyleModel",
      "_view_count": null,
      "_view_module": "@jupyter-widgets/base",
      "_view_module_version": "1.2.0",
      "_view_name": "StyleView",
      "description_width": ""
     }
    },
    "1e915a28fc764077977f06cf12c95c04": {
     "model_module": "@jupyter-widgets/base",
     "model_module_version": "1.2.0",
     "model_name": "LayoutModel",
     "state": {
      "_model_module": "@jupyter-widgets/base",
      "_model_module_version": "1.2.0",
      "_model_name": "LayoutModel",
      "_view_count": null,
      "_view_module": "@jupyter-widgets/base",
      "_view_module_version": "1.2.0",
      "_view_name": "LayoutView",
      "align_content": null,
      "align_items": null,
      "align_self": null,
      "border": null,
      "bottom": null,
      "display": null,
      "flex": null,
      "flex_flow": null,
      "grid_area": null,
      "grid_auto_columns": null,
      "grid_auto_flow": null,
      "grid_auto_rows": null,
      "grid_column": null,
      "grid_gap": null,
      "grid_row": null,
      "grid_template_areas": null,
      "grid_template_columns": null,
      "grid_template_rows": null,
      "height": null,
      "justify_content": null,
      "justify_items": null,
      "left": null,
      "margin": null,
      "max_height": null,
      "max_width": null,
      "min_height": null,
      "min_width": null,
      "object_fit": null,
      "object_position": null,
      "order": null,
      "overflow": null,
      "overflow_x": null,
      "overflow_y": null,
      "padding": null,
      "right": null,
      "top": null,
      "visibility": null,
      "width": null
     }
    },
    "21a2c896f1c24781b4fe5834cea2454c": {
     "model_module": "@jupyter-widgets/controls",
     "model_module_version": "1.5.0",
     "model_name": "HTMLModel",
     "state": {
      "_dom_classes": [],
      "_model_module": "@jupyter-widgets/controls",
      "_model_module_version": "1.5.0",
      "_model_name": "HTMLModel",
      "_view_count": null,
      "_view_module": "@jupyter-widgets/controls",
      "_view_module_version": "1.5.0",
      "_view_name": "HTMLView",
      "description": "",
      "description_tooltip": null,
      "layout": "IPY_MODEL_b410e5b0ca02405f9d71072f1e34b2ba",
      "placeholder": "​",
      "style": "IPY_MODEL_44389af5674642c1891cc2bf208838a6",
      "value": " 242M/242M [00:03&lt;00:00, 72.8MB/s]"
     }
    },
    "22702932b5dd4bdca2ca98bd75b20a93": {
     "model_module": "@jupyter-widgets/base",
     "model_module_version": "1.2.0",
     "model_name": "LayoutModel",
     "state": {
      "_model_module": "@jupyter-widgets/base",
      "_model_module_version": "1.2.0",
      "_model_name": "LayoutModel",
      "_view_count": null,
      "_view_module": "@jupyter-widgets/base",
      "_view_module_version": "1.2.0",
      "_view_name": "LayoutView",
      "align_content": null,
      "align_items": null,
      "align_self": null,
      "border": null,
      "bottom": null,
      "display": null,
      "flex": null,
      "flex_flow": null,
      "grid_area": null,
      "grid_auto_columns": null,
      "grid_auto_flow": null,
      "grid_auto_rows": null,
      "grid_column": null,
      "grid_gap": null,
      "grid_row": null,
      "grid_template_areas": null,
      "grid_template_columns": null,
      "grid_template_rows": null,
      "height": null,
      "justify_content": null,
      "justify_items": null,
      "left": null,
      "margin": null,
      "max_height": null,
      "max_width": null,
      "min_height": null,
      "min_width": null,
      "object_fit": null,
      "object_position": null,
      "order": null,
      "overflow": null,
      "overflow_x": null,
      "overflow_y": null,
      "padding": null,
      "right": null,
      "top": null,
      "visibility": null,
      "width": null
     }
    },
    "23fc564de44144718f5fd9bbe921ae80": {
     "model_module": "@jupyter-widgets/base",
     "model_module_version": "1.2.0",
     "model_name": "LayoutModel",
     "state": {
      "_model_module": "@jupyter-widgets/base",
      "_model_module_version": "1.2.0",
      "_model_name": "LayoutModel",
      "_view_count": null,
      "_view_module": "@jupyter-widgets/base",
      "_view_module_version": "1.2.0",
      "_view_name": "LayoutView",
      "align_content": null,
      "align_items": null,
      "align_self": null,
      "border": null,
      "bottom": null,
      "display": null,
      "flex": null,
      "flex_flow": null,
      "grid_area": null,
      "grid_auto_columns": null,
      "grid_auto_flow": null,
      "grid_auto_rows": null,
      "grid_column": null,
      "grid_gap": null,
      "grid_row": null,
      "grid_template_areas": null,
      "grid_template_columns": null,
      "grid_template_rows": null,
      "height": null,
      "justify_content": null,
      "justify_items": null,
      "left": null,
      "margin": null,
      "max_height": null,
      "max_width": null,
      "min_height": null,
      "min_width": null,
      "object_fit": null,
      "object_position": null,
      "order": null,
      "overflow": null,
      "overflow_x": null,
      "overflow_y": null,
      "padding": null,
      "right": null,
      "top": null,
      "visibility": null,
      "width": null
     }
    },
    "26ffcb55db4149d38c34570982fa0fca": {
     "model_module": "@jupyter-widgets/controls",
     "model_module_version": "1.5.0",
     "model_name": "ProgressStyleModel",
     "state": {
      "_model_module": "@jupyter-widgets/controls",
      "_model_module_version": "1.5.0",
      "_model_name": "ProgressStyleModel",
      "_view_count": null,
      "_view_module": "@jupyter-widgets/base",
      "_view_module_version": "1.2.0",
      "_view_name": "StyleView",
      "bar_color": null,
      "description_width": ""
     }
    },
    "2921977fec8c4f54b727f6aa12334d09": {
     "model_module": "@jupyter-widgets/controls",
     "model_module_version": "1.5.0",
     "model_name": "HTMLModel",
     "state": {
      "_dom_classes": [],
      "_model_module": "@jupyter-widgets/controls",
      "_model_module_version": "1.5.0",
      "_model_name": "HTMLModel",
      "_view_count": null,
      "_view_module": "@jupyter-widgets/controls",
      "_view_module_version": "1.5.0",
      "_view_name": "HTMLView",
      "description": "",
      "description_tooltip": null,
      "layout": "IPY_MODEL_8fb7ca7667254da58ef251e6c2e4483e",
      "placeholder": "​",
      "style": "IPY_MODEL_91f420fdfedb464a8455c52b05bbdaad",
      "value": "Downloading: 100%"
     }
    },
    "29edae08655f4c478cddb3e5441e8ae6": {
     "model_module": "@jupyter-widgets/base",
     "model_module_version": "1.2.0",
     "model_name": "LayoutModel",
     "state": {
      "_model_module": "@jupyter-widgets/base",
      "_model_module_version": "1.2.0",
      "_model_name": "LayoutModel",
      "_view_count": null,
      "_view_module": "@jupyter-widgets/base",
      "_view_module_version": "1.2.0",
      "_view_name": "LayoutView",
      "align_content": null,
      "align_items": null,
      "align_self": null,
      "border": null,
      "bottom": null,
      "display": null,
      "flex": null,
      "flex_flow": null,
      "grid_area": null,
      "grid_auto_columns": null,
      "grid_auto_flow": null,
      "grid_auto_rows": null,
      "grid_column": null,
      "grid_gap": null,
      "grid_row": null,
      "grid_template_areas": null,
      "grid_template_columns": null,
      "grid_template_rows": null,
      "height": null,
      "justify_content": null,
      "justify_items": null,
      "left": null,
      "margin": null,
      "max_height": null,
      "max_width": null,
      "min_height": null,
      "min_width": null,
      "object_fit": null,
      "object_position": null,
      "order": null,
      "overflow": null,
      "overflow_x": null,
      "overflow_y": null,
      "padding": null,
      "right": null,
      "top": null,
      "visibility": null,
      "width": null
     }
    },
    "40915c810d8e41f6a7bcc8faa84ba0bb": {
     "model_module": "@jupyter-widgets/controls",
     "model_module_version": "1.5.0",
     "model_name": "HTMLModel",
     "state": {
      "_dom_classes": [],
      "_model_module": "@jupyter-widgets/controls",
      "_model_module_version": "1.5.0",
      "_model_name": "HTMLModel",
      "_view_count": null,
      "_view_module": "@jupyter-widgets/controls",
      "_view_module_version": "1.5.0",
      "_view_name": "HTMLView",
      "description": "",
      "description_tooltip": null,
      "layout": "IPY_MODEL_7feb6429c4e24fd89aab0a3b0efd38eb",
      "placeholder": "​",
      "style": "IPY_MODEL_e88c4810f71346019c6d9765cacc3284",
      "value": " 500/500 [00:27&lt;00:00, 18.35it/s]"
     }
    },
    "44389af5674642c1891cc2bf208838a6": {
     "model_module": "@jupyter-widgets/controls",
     "model_module_version": "1.5.0",
     "model_name": "DescriptionStyleModel",
     "state": {
      "_model_module": "@jupyter-widgets/controls",
      "_model_module_version": "1.5.0",
      "_model_name": "DescriptionStyleModel",
      "_view_count": null,
      "_view_module": "@jupyter-widgets/base",
      "_view_module_version": "1.2.0",
      "_view_name": "StyleView",
      "description_width": ""
     }
    },
    "45746813cd3c4d82ada51bf58274a791": {
     "model_module": "@jupyter-widgets/controls",
     "model_module_version": "1.5.0",
     "model_name": "FloatProgressModel",
     "state": {
      "_dom_classes": [],
      "_model_module": "@jupyter-widgets/controls",
      "_model_module_version": "1.5.0",
      "_model_name": "FloatProgressModel",
      "_view_count": null,
      "_view_module": "@jupyter-widgets/controls",
      "_view_module_version": "1.5.0",
      "_view_name": "ProgressView",
      "bar_style": "",
      "description": "",
      "description_tooltip": null,
      "layout": "IPY_MODEL_b42a824910bf495289c9f56f241fc6f6",
      "max": 500,
      "min": 0,
      "orientation": "horizontal",
      "style": "IPY_MODEL_604014d142594f4f87ce70e164d94a14",
      "value": 500
     }
    },
    "4c02d0ce16fe4c6187a2c8b952e8419f": {
     "model_module": "@jupyter-widgets/controls",
     "model_module_version": "1.5.0",
     "model_name": "HTMLModel",
     "state": {
      "_dom_classes": [],
      "_model_module": "@jupyter-widgets/controls",
      "_model_module_version": "1.5.0",
      "_model_name": "HTMLModel",
      "_view_count": null,
      "_view_module": "@jupyter-widgets/controls",
      "_view_module_version": "1.5.0",
      "_view_name": "HTMLView",
      "description": "",
      "description_tooltip": null,
      "layout": "IPY_MODEL_22702932b5dd4bdca2ca98bd75b20a93",
      "placeholder": "​",
      "style": "IPY_MODEL_170cc57e9f92469597b6aab8962a8ce3",
      "value": "Downloading: 100%"
     }
    },
    "4ea5fb72af6e46438af4ad47cbbd32d2": {
     "model_module": "@jupyter-widgets/controls",
     "model_module_version": "1.5.0",
     "model_name": "ProgressStyleModel",
     "state": {
      "_model_module": "@jupyter-widgets/controls",
      "_model_module_version": "1.5.0",
      "_model_name": "ProgressStyleModel",
      "_view_count": null,
      "_view_module": "@jupyter-widgets/base",
      "_view_module_version": "1.2.0",
      "_view_name": "StyleView",
      "bar_color": null,
      "description_width": ""
     }
    },
    "4f45cc2640f44395a635a928f6d2f4f6": {
     "model_module": "@jupyter-widgets/controls",
     "model_module_version": "1.5.0",
     "model_name": "HBoxModel",
     "state": {
      "_dom_classes": [],
      "_model_module": "@jupyter-widgets/controls",
      "_model_module_version": "1.5.0",
      "_model_name": "HBoxModel",
      "_view_count": null,
      "_view_module": "@jupyter-widgets/controls",
      "_view_module_version": "1.5.0",
      "_view_name": "HBoxView",
      "box_style": "",
      "children": [
       "IPY_MODEL_ec023301cdad42cdabc32be9ee003f2a",
       "IPY_MODEL_cb9a3ee490e248398094c6789cc8526e",
       "IPY_MODEL_40915c810d8e41f6a7bcc8faa84ba0bb"
      ],
      "layout": "IPY_MODEL_96e050ff888943fc90182209e4d72227"
     }
    },
    "5f5740fe5a3e45289881a5ed5a498764": {
     "model_module": "@jupyter-widgets/base",
     "model_module_version": "1.2.0",
     "model_name": "LayoutModel",
     "state": {
      "_model_module": "@jupyter-widgets/base",
      "_model_module_version": "1.2.0",
      "_model_name": "LayoutModel",
      "_view_count": null,
      "_view_module": "@jupyter-widgets/base",
      "_view_module_version": "1.2.0",
      "_view_name": "LayoutView",
      "align_content": null,
      "align_items": null,
      "align_self": null,
      "border": null,
      "bottom": null,
      "display": null,
      "flex": "2",
      "flex_flow": null,
      "grid_area": null,
      "grid_auto_columns": null,
      "grid_auto_flow": null,
      "grid_auto_rows": null,
      "grid_column": null,
      "grid_gap": null,
      "grid_row": null,
      "grid_template_areas": null,
      "grid_template_columns": null,
      "grid_template_rows": null,
      "height": null,
      "justify_content": null,
      "justify_items": null,
      "left": null,
      "margin": null,
      "max_height": null,
      "max_width": null,
      "min_height": null,
      "min_width": null,
      "object_fit": null,
      "object_position": null,
      "order": null,
      "overflow": null,
      "overflow_x": null,
      "overflow_y": null,
      "padding": null,
      "right": null,
      "top": null,
      "visibility": null,
      "width": null
     }
    },
    "604014d142594f4f87ce70e164d94a14": {
     "model_module": "@jupyter-widgets/controls",
     "model_module_version": "1.5.0",
     "model_name": "ProgressStyleModel",
     "state": {
      "_model_module": "@jupyter-widgets/controls",
      "_model_module_version": "1.5.0",
      "_model_name": "ProgressStyleModel",
      "_view_count": null,
      "_view_module": "@jupyter-widgets/base",
      "_view_module_version": "1.2.0",
      "_view_name": "StyleView",
      "bar_color": null,
      "description_width": ""
     }
    },
    "6519d08cb83a4e7386bdda75f8f16861": {
     "model_module": "@jupyter-widgets/controls",
     "model_module_version": "1.5.0",
     "model_name": "DescriptionStyleModel",
     "state": {
      "_model_module": "@jupyter-widgets/controls",
      "_model_module_version": "1.5.0",
      "_model_name": "DescriptionStyleModel",
      "_view_count": null,
      "_view_module": "@jupyter-widgets/base",
      "_view_module_version": "1.2.0",
      "_view_name": "StyleView",
      "description_width": ""
     }
    },
    "68df245747594d27b8db61a63ea30b36": {
     "model_module": "@jupyter-widgets/base",
     "model_module_version": "1.2.0",
     "model_name": "LayoutModel",
     "state": {
      "_model_module": "@jupyter-widgets/base",
      "_model_module_version": "1.2.0",
      "_model_name": "LayoutModel",
      "_view_count": null,
      "_view_module": "@jupyter-widgets/base",
      "_view_module_version": "1.2.0",
      "_view_name": "LayoutView",
      "align_content": null,
      "align_items": null,
      "align_self": null,
      "border": null,
      "bottom": null,
      "display": null,
      "flex": "2",
      "flex_flow": null,
      "grid_area": null,
      "grid_auto_columns": null,
      "grid_auto_flow": null,
      "grid_auto_rows": null,
      "grid_column": null,
      "grid_gap": null,
      "grid_row": null,
      "grid_template_areas": null,
      "grid_template_columns": null,
      "grid_template_rows": null,
      "height": null,
      "justify_content": null,
      "justify_items": null,
      "left": null,
      "margin": null,
      "max_height": null,
      "max_width": null,
      "min_height": null,
      "min_width": null,
      "object_fit": null,
      "object_position": null,
      "order": null,
      "overflow": null,
      "overflow_x": null,
      "overflow_y": null,
      "padding": null,
      "right": null,
      "top": null,
      "visibility": null,
      "width": null
     }
    },
    "6c2c9da14016449a8c13e08b395f7b23": {
     "model_module": "@jupyter-widgets/controls",
     "model_module_version": "1.5.0",
     "model_name": "DescriptionStyleModel",
     "state": {
      "_model_module": "@jupyter-widgets/controls",
      "_model_module_version": "1.5.0",
      "_model_name": "DescriptionStyleModel",
      "_view_count": null,
      "_view_module": "@jupyter-widgets/base",
      "_view_module_version": "1.2.0",
      "_view_name": "StyleView",
      "description_width": ""
     }
    },
    "6cd3ede915c84c629bf46d234388b02c": {
     "model_module": "@jupyter-widgets/controls",
     "model_module_version": "1.5.0",
     "model_name": "HTMLModel",
     "state": {
      "_dom_classes": [],
      "_model_module": "@jupyter-widgets/controls",
      "_model_module_version": "1.5.0",
      "_model_name": "HTMLModel",
      "_view_count": null,
      "_view_module": "@jupyter-widgets/controls",
      "_view_module_version": "1.5.0",
      "_view_name": "HTMLView",
      "description": "",
      "description_tooltip": null,
      "layout": "IPY_MODEL_cbad20d361c6425cbb716354a9e8d328",
      "placeholder": "​",
      "style": "IPY_MODEL_96a9941107bd4e9b984755365e80df22",
      "value": " 500/500 [00:27&lt;00:00, 18.43it/s]"
     }
    },
    "6f01127a146d443a973c0c3674663559": {
     "model_module": "@jupyter-widgets/controls",
     "model_module_version": "1.5.0",
     "model_name": "HBoxModel",
     "state": {
      "_dom_classes": [],
      "_model_module": "@jupyter-widgets/controls",
      "_model_module_version": "1.5.0",
      "_model_name": "HBoxModel",
      "_view_count": null,
      "_view_module": "@jupyter-widgets/controls",
      "_view_module_version": "1.5.0",
      "_view_name": "HBoxView",
      "box_style": "",
      "children": [
       "IPY_MODEL_fc6fda81438846b8bd09a059bc0b5553",
       "IPY_MODEL_45746813cd3c4d82ada51bf58274a791",
       "IPY_MODEL_6cd3ede915c84c629bf46d234388b02c"
      ],
      "layout": "IPY_MODEL_13466f14b2484f7dbfd7ffe2ecc395f7"
     }
    },
    "71b01ab113c341fc8e4c8a2e36f336f9": {
     "model_module": "@jupyter-widgets/controls",
     "model_module_version": "1.5.0",
     "model_name": "HTMLModel",
     "state": {
      "_dom_classes": [],
      "_model_module": "@jupyter-widgets/controls",
      "_model_module_version": "1.5.0",
      "_model_name": "HTMLModel",
      "_view_count": null,
      "_view_module": "@jupyter-widgets/controls",
      "_view_module_version": "1.5.0",
      "_view_name": "HTMLView",
      "description": "",
      "description_tooltip": null,
      "layout": "IPY_MODEL_1e915a28fc764077977f06cf12c95c04",
      "placeholder": "​",
      "style": "IPY_MODEL_bffcb591f4d74ebab31550f134f89dca",
      "value": "Validation DataLoader 0: 100%"
     }
    },
    "74f7576971d74113aa0605f41eb5fb89": {
     "model_module": "@jupyter-widgets/controls",
     "model_module_version": "1.5.0",
     "model_name": "HTMLModel",
     "state": {
      "_dom_classes": [],
      "_model_module": "@jupyter-widgets/controls",
      "_model_module_version": "1.5.0",
      "_model_name": "HTMLModel",
      "_view_count": null,
      "_view_module": "@jupyter-widgets/controls",
      "_view_module_version": "1.5.0",
      "_view_name": "HTMLView",
      "description": "",
      "description_tooltip": null,
      "layout": "IPY_MODEL_c69b41b3fb8748cea2e7770562b47ce3",
      "placeholder": "​",
      "style": "IPY_MODEL_a04320425bd94c79a497cc7dd9b144ce",
      "value": " 1.21k/1.21k [00:00&lt;00:00, 69.2kB/s]"
     }
    },
    "7c90ba46512d4a94a1971f5f4b4d97d8": {
     "model_module": "@jupyter-widgets/base",
     "model_module_version": "1.2.0",
     "model_name": "LayoutModel",
     "state": {
      "_model_module": "@jupyter-widgets/base",
      "_model_module_version": "1.2.0",
      "_model_name": "LayoutModel",
      "_view_count": null,
      "_view_module": "@jupyter-widgets/base",
      "_view_module_version": "1.2.0",
      "_view_name": "LayoutView",
      "align_content": null,
      "align_items": null,
      "align_self": null,
      "border": null,
      "bottom": null,
      "display": null,
      "flex": null,
      "flex_flow": null,
      "grid_area": null,
      "grid_auto_columns": null,
      "grid_auto_flow": null,
      "grid_auto_rows": null,
      "grid_column": null,
      "grid_gap": null,
      "grid_row": null,
      "grid_template_areas": null,
      "grid_template_columns": null,
      "grid_template_rows": null,
      "height": null,
      "justify_content": null,
      "justify_items": null,
      "left": null,
      "margin": null,
      "max_height": null,
      "max_width": null,
      "min_height": null,
      "min_width": null,
      "object_fit": null,
      "object_position": null,
      "order": null,
      "overflow": null,
      "overflow_x": null,
      "overflow_y": null,
      "padding": null,
      "right": null,
      "top": null,
      "visibility": null,
      "width": null
     }
    },
    "7feb6429c4e24fd89aab0a3b0efd38eb": {
     "model_module": "@jupyter-widgets/base",
     "model_module_version": "1.2.0",
     "model_name": "LayoutModel",
     "state": {
      "_model_module": "@jupyter-widgets/base",
      "_model_module_version": "1.2.0",
      "_model_name": "LayoutModel",
      "_view_count": null,
      "_view_module": "@jupyter-widgets/base",
      "_view_module_version": "1.2.0",
      "_view_name": "LayoutView",
      "align_content": null,
      "align_items": null,
      "align_self": null,
      "border": null,
      "bottom": null,
      "display": null,
      "flex": null,
      "flex_flow": null,
      "grid_area": null,
      "grid_auto_columns": null,
      "grid_auto_flow": null,
      "grid_auto_rows": null,
      "grid_column": null,
      "grid_gap": null,
      "grid_row": null,
      "grid_template_areas": null,
      "grid_template_columns": null,
      "grid_template_rows": null,
      "height": null,
      "justify_content": null,
      "justify_items": null,
      "left": null,
      "margin": null,
      "max_height": null,
      "max_width": null,
      "min_height": null,
      "min_width": null,
      "object_fit": null,
      "object_position": null,
      "order": null,
      "overflow": null,
      "overflow_x": null,
      "overflow_y": null,
      "padding": null,
      "right": null,
      "top": null,
      "visibility": null,
      "width": null
     }
    },
    "853f16aaaa5c4d13a67b143f2e946c3a": {
     "model_module": "@jupyter-widgets/controls",
     "model_module_version": "1.5.0",
     "model_name": "HTMLModel",
     "state": {
      "_dom_classes": [],
      "_model_module": "@jupyter-widgets/controls",
      "_model_module_version": "1.5.0",
      "_model_name": "HTMLModel",
      "_view_count": null,
      "_view_module": "@jupyter-widgets/controls",
      "_view_module_version": "1.5.0",
      "_view_name": "HTMLView",
      "description": "",
      "description_tooltip": null,
      "layout": "IPY_MODEL_f4a7c18179414629ab20376d4180a8a7",
      "placeholder": "​",
      "style": "IPY_MODEL_d5e1a9a72304460a9021598550913edc",
      "value": " 1000/1000 [02:05&lt;00:00,  7.96it/s, loss=1.16, v_num=2]"
     }
    },
    "8a1d7051e6ce4cbe8ad268b12751f4ab": {
     "model_module": "@jupyter-widgets/controls",
     "model_module_version": "1.5.0",
     "model_name": "HBoxModel",
     "state": {
      "_dom_classes": [],
      "_model_module": "@jupyter-widgets/controls",
      "_model_module_version": "1.5.0",
      "_model_name": "HBoxModel",
      "_view_count": null,
      "_view_module": "@jupyter-widgets/controls",
      "_view_module_version": "1.5.0",
      "_view_name": "HBoxView",
      "box_style": "",
      "children": [
       "IPY_MODEL_4c02d0ce16fe4c6187a2c8b952e8419f",
       "IPY_MODEL_cffb3f880b7f45719ad19c6fbb082948",
       "IPY_MODEL_07e9a50ed7014724aaf6f083e481cc01"
      ],
      "layout": "IPY_MODEL_23fc564de44144718f5fd9bbe921ae80"
     }
    },
    "8fb7ca7667254da58ef251e6c2e4483e": {
     "model_module": "@jupyter-widgets/base",
     "model_module_version": "1.2.0",
     "model_name": "LayoutModel",
     "state": {
      "_model_module": "@jupyter-widgets/base",
      "_model_module_version": "1.2.0",
      "_model_name": "LayoutModel",
      "_view_count": null,
      "_view_module": "@jupyter-widgets/base",
      "_view_module_version": "1.2.0",
      "_view_name": "LayoutView",
      "align_content": null,
      "align_items": null,
      "align_self": null,
      "border": null,
      "bottom": null,
      "display": null,
      "flex": null,
      "flex_flow": null,
      "grid_area": null,
      "grid_auto_columns": null,
      "grid_auto_flow": null,
      "grid_auto_rows": null,
      "grid_column": null,
      "grid_gap": null,
      "grid_row": null,
      "grid_template_areas": null,
      "grid_template_columns": null,
      "grid_template_rows": null,
      "height": null,
      "justify_content": null,
      "justify_items": null,
      "left": null,
      "margin": null,
      "max_height": null,
      "max_width": null,
      "min_height": null,
      "min_width": null,
      "object_fit": null,
      "object_position": null,
      "order": null,
      "overflow": null,
      "overflow_x": null,
      "overflow_y": null,
      "padding": null,
      "right": null,
      "top": null,
      "visibility": null,
      "width": null
     }
    },
    "91f420fdfedb464a8455c52b05bbdaad": {
     "model_module": "@jupyter-widgets/controls",
     "model_module_version": "1.5.0",
     "model_name": "DescriptionStyleModel",
     "state": {
      "_model_module": "@jupyter-widgets/controls",
      "_model_module_version": "1.5.0",
      "_model_name": "DescriptionStyleModel",
      "_view_count": null,
      "_view_module": "@jupyter-widgets/base",
      "_view_module_version": "1.2.0",
      "_view_name": "StyleView",
      "description_width": ""
     }
    },
    "93adec39ba514f24a582ddbd529e01a0": {
     "model_module": "@jupyter-widgets/controls",
     "model_module_version": "1.5.0",
     "model_name": "ProgressStyleModel",
     "state": {
      "_model_module": "@jupyter-widgets/controls",
      "_model_module_version": "1.5.0",
      "_model_name": "ProgressStyleModel",
      "_view_count": null,
      "_view_module": "@jupyter-widgets/base",
      "_view_module_version": "1.2.0",
      "_view_name": "StyleView",
      "bar_color": null,
      "description_width": ""
     }
    },
    "96a9941107bd4e9b984755365e80df22": {
     "model_module": "@jupyter-widgets/controls",
     "model_module_version": "1.5.0",
     "model_name": "DescriptionStyleModel",
     "state": {
      "_model_module": "@jupyter-widgets/controls",
      "_model_module_version": "1.5.0",
      "_model_name": "DescriptionStyleModel",
      "_view_count": null,
      "_view_module": "@jupyter-widgets/base",
      "_view_module_version": "1.2.0",
      "_view_name": "StyleView",
      "description_width": ""
     }
    },
    "96e050ff888943fc90182209e4d72227": {
     "model_module": "@jupyter-widgets/base",
     "model_module_version": "1.2.0",
     "model_name": "LayoutModel",
     "state": {
      "_model_module": "@jupyter-widgets/base",
      "_model_module_version": "1.2.0",
      "_model_name": "LayoutModel",
      "_view_count": null,
      "_view_module": "@jupyter-widgets/base",
      "_view_module_version": "1.2.0",
      "_view_name": "LayoutView",
      "align_content": null,
      "align_items": null,
      "align_self": null,
      "border": null,
      "bottom": null,
      "display": "inline-flex",
      "flex": null,
      "flex_flow": "row wrap",
      "grid_area": null,
      "grid_auto_columns": null,
      "grid_auto_flow": null,
      "grid_auto_rows": null,
      "grid_column": null,
      "grid_gap": null,
      "grid_row": null,
      "grid_template_areas": null,
      "grid_template_columns": null,
      "grid_template_rows": null,
      "height": null,
      "justify_content": null,
      "justify_items": null,
      "left": null,
      "margin": null,
      "max_height": null,
      "max_width": null,
      "min_height": null,
      "min_width": null,
      "object_fit": null,
      "object_position": null,
      "order": null,
      "overflow": null,
      "overflow_x": null,
      "overflow_y": null,
      "padding": null,
      "right": null,
      "top": null,
      "visibility": "hidden",
      "width": "100%"
     }
    },
    "9ab910f3fc8540f591c0db3dffc74cb5": {
     "model_module": "@jupyter-widgets/controls",
     "model_module_version": "1.5.0",
     "model_name": "HTMLModel",
     "state": {
      "_dom_classes": [],
      "_model_module": "@jupyter-widgets/controls",
      "_model_module_version": "1.5.0",
      "_model_name": "HTMLModel",
      "_view_count": null,
      "_view_module": "@jupyter-widgets/controls",
      "_view_module_version": "1.5.0",
      "_view_name": "HTMLView",
      "description": "",
      "description_tooltip": null,
      "layout": "IPY_MODEL_bb3484e0e3d14bd7b8b7b0163fc6c81a",
      "placeholder": "​",
      "style": "IPY_MODEL_6519d08cb83a4e7386bdda75f8f16861",
      "value": " 2/2 [00:00&lt;00:00, 23.71it/s]"
     }
    },
    "9cfda34969e044acb3368d547caf95ef": {
     "model_module": "@jupyter-widgets/controls",
     "model_module_version": "1.5.0",
     "model_name": "HTMLModel",
     "state": {
      "_dom_classes": [],
      "_model_module": "@jupyter-widgets/controls",
      "_model_module_version": "1.5.0",
      "_model_name": "HTMLModel",
      "_view_count": null,
      "_view_module": "@jupyter-widgets/controls",
      "_view_module_version": "1.5.0",
      "_view_name": "HTMLView",
      "description": "",
      "description_tooltip": null,
      "layout": "IPY_MODEL_c2b40eec0a5d4ec189a327d95a1cfd90",
      "placeholder": "​",
      "style": "IPY_MODEL_f9fe48215ce14b91b0a57cd3c7096334",
      "value": "Sanity Checking DataLoader 0: 100%"
     }
    },
    "9d8a386189cc4a9c81b836fb41fa4f64": {
     "model_module": "@jupyter-widgets/controls",
     "model_module_version": "1.5.0",
     "model_name": "HTMLModel",
     "state": {
      "_dom_classes": [],
      "_model_module": "@jupyter-widgets/controls",
      "_model_module_version": "1.5.0",
      "_model_name": "HTMLModel",
      "_view_count": null,
      "_view_module": "@jupyter-widgets/controls",
      "_view_module_version": "1.5.0",
      "_view_name": "HTMLView",
      "description": "",
      "description_tooltip": null,
      "layout": "IPY_MODEL_29edae08655f4c478cddb3e5441e8ae6",
      "placeholder": "​",
      "style": "IPY_MODEL_de53a4b226e541d28da4547ac58579ff",
      "value": "Epoch 2: 100%"
     }
    },
    "9d96616dfac14f2d8535a07cc5e13711": {
     "model_module": "@jupyter-widgets/controls",
     "model_module_version": "1.5.0",
     "model_name": "HBoxModel",
     "state": {
      "_dom_classes": [],
      "_model_module": "@jupyter-widgets/controls",
      "_model_module_version": "1.5.0",
      "_model_name": "HBoxModel",
      "_view_count": null,
      "_view_module": "@jupyter-widgets/controls",
      "_view_module_version": "1.5.0",
      "_view_name": "HBoxView",
      "box_style": "",
      "children": [
       "IPY_MODEL_71b01ab113c341fc8e4c8a2e36f336f9",
       "IPY_MODEL_13f3d839ed0249c082da5c8da1ebd386",
       "IPY_MODEL_ab368c585dfa4b9ab4f97c7cd9d52f77"
      ],
      "layout": "IPY_MODEL_fdda03cbcaae4da1815b38ba5d40a7f0"
     }
    },
    "a04320425bd94c79a497cc7dd9b144ce": {
     "model_module": "@jupyter-widgets/controls",
     "model_module_version": "1.5.0",
     "model_name": "DescriptionStyleModel",
     "state": {
      "_model_module": "@jupyter-widgets/controls",
      "_model_module_version": "1.5.0",
      "_model_name": "DescriptionStyleModel",
      "_view_count": null,
      "_view_module": "@jupyter-widgets/base",
      "_view_module_version": "1.2.0",
      "_view_name": "StyleView",
      "description_width": ""
     }
    },
    "a926a4c6b7f345b2a021410743ed5d53": {
     "model_module": "@jupyter-widgets/controls",
     "model_module_version": "1.5.0",
     "model_name": "ProgressStyleModel",
     "state": {
      "_model_module": "@jupyter-widgets/controls",
      "_model_module_version": "1.5.0",
      "_model_name": "ProgressStyleModel",
      "_view_count": null,
      "_view_module": "@jupyter-widgets/base",
      "_view_module_version": "1.2.0",
      "_view_name": "StyleView",
      "bar_color": null,
      "description_width": ""
     }
    },
    "aa8d3f0d5edc43519b03b9360708f8b2": {
     "model_module": "@jupyter-widgets/base",
     "model_module_version": "1.2.0",
     "model_name": "LayoutModel",
     "state": {
      "_model_module": "@jupyter-widgets/base",
      "_model_module_version": "1.2.0",
      "_model_name": "LayoutModel",
      "_view_count": null,
      "_view_module": "@jupyter-widgets/base",
      "_view_module_version": "1.2.0",
      "_view_name": "LayoutView",
      "align_content": null,
      "align_items": null,
      "align_self": null,
      "border": null,
      "bottom": null,
      "display": null,
      "flex": null,
      "flex_flow": null,
      "grid_area": null,
      "grid_auto_columns": null,
      "grid_auto_flow": null,
      "grid_auto_rows": null,
      "grid_column": null,
      "grid_gap": null,
      "grid_row": null,
      "grid_template_areas": null,
      "grid_template_columns": null,
      "grid_template_rows": null,
      "height": null,
      "justify_content": null,
      "justify_items": null,
      "left": null,
      "margin": null,
      "max_height": null,
      "max_width": null,
      "min_height": null,
      "min_width": null,
      "object_fit": null,
      "object_position": null,
      "order": null,
      "overflow": null,
      "overflow_x": null,
      "overflow_y": null,
      "padding": null,
      "right": null,
      "top": null,
      "visibility": null,
      "width": null
     }
    },
    "aaa4609ff63a4451a2f27d87265b3f71": {
     "model_module": "@jupyter-widgets/base",
     "model_module_version": "1.2.0",
     "model_name": "LayoutModel",
     "state": {
      "_model_module": "@jupyter-widgets/base",
      "_model_module_version": "1.2.0",
      "_model_name": "LayoutModel",
      "_view_count": null,
      "_view_module": "@jupyter-widgets/base",
      "_view_module_version": "1.2.0",
      "_view_name": "LayoutView",
      "align_content": null,
      "align_items": null,
      "align_self": null,
      "border": null,
      "bottom": null,
      "display": null,
      "flex": null,
      "flex_flow": null,
      "grid_area": null,
      "grid_auto_columns": null,
      "grid_auto_flow": null,
      "grid_auto_rows": null,
      "grid_column": null,
      "grid_gap": null,
      "grid_row": null,
      "grid_template_areas": null,
      "grid_template_columns": null,
      "grid_template_rows": null,
      "height": null,
      "justify_content": null,
      "justify_items": null,
      "left": null,
      "margin": null,
      "max_height": null,
      "max_width": null,
      "min_height": null,
      "min_width": null,
      "object_fit": null,
      "object_position": null,
      "order": null,
      "overflow": null,
      "overflow_x": null,
      "overflow_y": null,
      "padding": null,
      "right": null,
      "top": null,
      "visibility": null,
      "width": null
     }
    },
    "ab368c585dfa4b9ab4f97c7cd9d52f77": {
     "model_module": "@jupyter-widgets/controls",
     "model_module_version": "1.5.0",
     "model_name": "HTMLModel",
     "state": {
      "_dom_classes": [],
      "_model_module": "@jupyter-widgets/controls",
      "_model_module_version": "1.5.0",
      "_model_name": "HTMLModel",
      "_view_count": null,
      "_view_module": "@jupyter-widgets/controls",
      "_view_module_version": "1.5.0",
      "_view_name": "HTMLView",
      "description": "",
      "description_tooltip": null,
      "layout": "IPY_MODEL_1572ca2178b64d0d9accd4c7620d0f96",
      "placeholder": "​",
      "style": "IPY_MODEL_c5ae98203edb4bdb83443d3f05b08247",
      "value": " 500/500 [00:27&lt;00:00, 18.34it/s]"
     }
    },
    "ae41b724aa4f469f8c408848d2a9de1f": {
     "model_module": "@jupyter-widgets/controls",
     "model_module_version": "1.5.0",
     "model_name": "FloatProgressModel",
     "state": {
      "_dom_classes": [],
      "_model_module": "@jupyter-widgets/controls",
      "_model_module_version": "1.5.0",
      "_model_name": "FloatProgressModel",
      "_view_count": null,
      "_view_module": "@jupyter-widgets/controls",
      "_view_module_version": "1.5.0",
      "_view_name": "ProgressView",
      "bar_style": "success",
      "description": "",
      "description_tooltip": null,
      "layout": "IPY_MODEL_fccbbd51784e428697cd8a47d9b94317",
      "max": 1206,
      "min": 0,
      "orientation": "horizontal",
      "style": "IPY_MODEL_04be517c49014350a3a4aed13af1beb4",
      "value": 1206
     }
    },
    "afa135917c1f4273bfdcc9e6f8c56683": {
     "model_module": "@jupyter-widgets/base",
     "model_module_version": "1.2.0",
     "model_name": "LayoutModel",
     "state": {
      "_model_module": "@jupyter-widgets/base",
      "_model_module_version": "1.2.0",
      "_model_name": "LayoutModel",
      "_view_count": null,
      "_view_module": "@jupyter-widgets/base",
      "_view_module_version": "1.2.0",
      "_view_name": "LayoutView",
      "align_content": null,
      "align_items": null,
      "align_self": null,
      "border": null,
      "bottom": null,
      "display": "inline-flex",
      "flex": null,
      "flex_flow": "row wrap",
      "grid_area": null,
      "grid_auto_columns": null,
      "grid_auto_flow": null,
      "grid_auto_rows": null,
      "grid_column": null,
      "grid_gap": null,
      "grid_row": null,
      "grid_template_areas": null,
      "grid_template_columns": null,
      "grid_template_rows": null,
      "height": null,
      "justify_content": null,
      "justify_items": null,
      "left": null,
      "margin": null,
      "max_height": null,
      "max_width": null,
      "min_height": null,
      "min_width": null,
      "object_fit": null,
      "object_position": null,
      "order": null,
      "overflow": null,
      "overflow_x": null,
      "overflow_y": null,
      "padding": null,
      "right": null,
      "top": null,
      "visibility": "hidden",
      "width": "100%"
     }
    },
    "b410e5b0ca02405f9d71072f1e34b2ba": {
     "model_module": "@jupyter-widgets/base",
     "model_module_version": "1.2.0",
     "model_name": "LayoutModel",
     "state": {
      "_model_module": "@jupyter-widgets/base",
      "_model_module_version": "1.2.0",
      "_model_name": "LayoutModel",
      "_view_count": null,
      "_view_module": "@jupyter-widgets/base",
      "_view_module_version": "1.2.0",
      "_view_name": "LayoutView",
      "align_content": null,
      "align_items": null,
      "align_self": null,
      "border": null,
      "bottom": null,
      "display": null,
      "flex": null,
      "flex_flow": null,
      "grid_area": null,
      "grid_auto_columns": null,
      "grid_auto_flow": null,
      "grid_auto_rows": null,
      "grid_column": null,
      "grid_gap": null,
      "grid_row": null,
      "grid_template_areas": null,
      "grid_template_columns": null,
      "grid_template_rows": null,
      "height": null,
      "justify_content": null,
      "justify_items": null,
      "left": null,
      "margin": null,
      "max_height": null,
      "max_width": null,
      "min_height": null,
      "min_width": null,
      "object_fit": null,
      "object_position": null,
      "order": null,
      "overflow": null,
      "overflow_x": null,
      "overflow_y": null,
      "padding": null,
      "right": null,
      "top": null,
      "visibility": null,
      "width": null
     }
    },
    "b42a824910bf495289c9f56f241fc6f6": {
     "model_module": "@jupyter-widgets/base",
     "model_module_version": "1.2.0",
     "model_name": "LayoutModel",
     "state": {
      "_model_module": "@jupyter-widgets/base",
      "_model_module_version": "1.2.0",
      "_model_name": "LayoutModel",
      "_view_count": null,
      "_view_module": "@jupyter-widgets/base",
      "_view_module_version": "1.2.0",
      "_view_name": "LayoutView",
      "align_content": null,
      "align_items": null,
      "align_self": null,
      "border": null,
      "bottom": null,
      "display": null,
      "flex": "2",
      "flex_flow": null,
      "grid_area": null,
      "grid_auto_columns": null,
      "grid_auto_flow": null,
      "grid_auto_rows": null,
      "grid_column": null,
      "grid_gap": null,
      "grid_row": null,
      "grid_template_areas": null,
      "grid_template_columns": null,
      "grid_template_rows": null,
      "height": null,
      "justify_content": null,
      "justify_items": null,
      "left": null,
      "margin": null,
      "max_height": null,
      "max_width": null,
      "min_height": null,
      "min_width": null,
      "object_fit": null,
      "object_position": null,
      "order": null,
      "overflow": null,
      "overflow_x": null,
      "overflow_y": null,
      "padding": null,
      "right": null,
      "top": null,
      "visibility": null,
      "width": null
     }
    },
    "b572e3cd384c46499d0e8e4f7d52123a": {
     "model_module": "@jupyter-widgets/base",
     "model_module_version": "1.2.0",
     "model_name": "LayoutModel",
     "state": {
      "_model_module": "@jupyter-widgets/base",
      "_model_module_version": "1.2.0",
      "_model_name": "LayoutModel",
      "_view_count": null,
      "_view_module": "@jupyter-widgets/base",
      "_view_module_version": "1.2.0",
      "_view_name": "LayoutView",
      "align_content": null,
      "align_items": null,
      "align_self": null,
      "border": null,
      "bottom": null,
      "display": null,
      "flex": "2",
      "flex_flow": null,
      "grid_area": null,
      "grid_auto_columns": null,
      "grid_auto_flow": null,
      "grid_auto_rows": null,
      "grid_column": null,
      "grid_gap": null,
      "grid_row": null,
      "grid_template_areas": null,
      "grid_template_columns": null,
      "grid_template_rows": null,
      "height": null,
      "justify_content": null,
      "justify_items": null,
      "left": null,
      "margin": null,
      "max_height": null,
      "max_width": null,
      "min_height": null,
      "min_width": null,
      "object_fit": null,
      "object_position": null,
      "order": null,
      "overflow": null,
      "overflow_x": null,
      "overflow_y": null,
      "padding": null,
      "right": null,
      "top": null,
      "visibility": null,
      "width": null
     }
    },
    "b95b3978ff674a119683e3ac0fe936e9": {
     "model_module": "@jupyter-widgets/controls",
     "model_module_version": "1.5.0",
     "model_name": "HTMLModel",
     "state": {
      "_dom_classes": [],
      "_model_module": "@jupyter-widgets/controls",
      "_model_module_version": "1.5.0",
      "_model_name": "HTMLModel",
      "_view_count": null,
      "_view_module": "@jupyter-widgets/controls",
      "_view_module_version": "1.5.0",
      "_view_name": "HTMLView",
      "description": "",
      "description_tooltip": null,
      "layout": "IPY_MODEL_eef3c52f6b534523870e3ea61223014b",
      "placeholder": "​",
      "style": "IPY_MODEL_1c607df922234a20b8f72f92b965c452",
      "value": "Downloading: 100%"
     }
    },
    "ba52a3af729042e9b11f1d4e22a553eb": {
     "model_module": "@jupyter-widgets/base",
     "model_module_version": "1.2.0",
     "model_name": "LayoutModel",
     "state": {
      "_model_module": "@jupyter-widgets/base",
      "_model_module_version": "1.2.0",
      "_model_name": "LayoutModel",
      "_view_count": null,
      "_view_module": "@jupyter-widgets/base",
      "_view_module_version": "1.2.0",
      "_view_name": "LayoutView",
      "align_content": null,
      "align_items": null,
      "align_self": null,
      "border": null,
      "bottom": null,
      "display": null,
      "flex": null,
      "flex_flow": null,
      "grid_area": null,
      "grid_auto_columns": null,
      "grid_auto_flow": null,
      "grid_auto_rows": null,
      "grid_column": null,
      "grid_gap": null,
      "grid_row": null,
      "grid_template_areas": null,
      "grid_template_columns": null,
      "grid_template_rows": null,
      "height": null,
      "justify_content": null,
      "justify_items": null,
      "left": null,
      "margin": null,
      "max_height": null,
      "max_width": null,
      "min_height": null,
      "min_width": null,
      "object_fit": null,
      "object_position": null,
      "order": null,
      "overflow": null,
      "overflow_x": null,
      "overflow_y": null,
      "padding": null,
      "right": null,
      "top": null,
      "visibility": null,
      "width": null
     }
    },
    "bb3484e0e3d14bd7b8b7b0163fc6c81a": {
     "model_module": "@jupyter-widgets/base",
     "model_module_version": "1.2.0",
     "model_name": "LayoutModel",
     "state": {
      "_model_module": "@jupyter-widgets/base",
      "_model_module_version": "1.2.0",
      "_model_name": "LayoutModel",
      "_view_count": null,
      "_view_module": "@jupyter-widgets/base",
      "_view_module_version": "1.2.0",
      "_view_name": "LayoutView",
      "align_content": null,
      "align_items": null,
      "align_self": null,
      "border": null,
      "bottom": null,
      "display": null,
      "flex": null,
      "flex_flow": null,
      "grid_area": null,
      "grid_auto_columns": null,
      "grid_auto_flow": null,
      "grid_auto_rows": null,
      "grid_column": null,
      "grid_gap": null,
      "grid_row": null,
      "grid_template_areas": null,
      "grid_template_columns": null,
      "grid_template_rows": null,
      "height": null,
      "justify_content": null,
      "justify_items": null,
      "left": null,
      "margin": null,
      "max_height": null,
      "max_width": null,
      "min_height": null,
      "min_width": null,
      "object_fit": null,
      "object_position": null,
      "order": null,
      "overflow": null,
      "overflow_x": null,
      "overflow_y": null,
      "padding": null,
      "right": null,
      "top": null,
      "visibility": null,
      "width": null
     }
    },
    "bffcb591f4d74ebab31550f134f89dca": {
     "model_module": "@jupyter-widgets/controls",
     "model_module_version": "1.5.0",
     "model_name": "DescriptionStyleModel",
     "state": {
      "_model_module": "@jupyter-widgets/controls",
      "_model_module_version": "1.5.0",
      "_model_name": "DescriptionStyleModel",
      "_view_count": null,
      "_view_module": "@jupyter-widgets/base",
      "_view_module_version": "1.2.0",
      "_view_name": "StyleView",
      "description_width": ""
     }
    },
    "c2b40eec0a5d4ec189a327d95a1cfd90": {
     "model_module": "@jupyter-widgets/base",
     "model_module_version": "1.2.0",
     "model_name": "LayoutModel",
     "state": {
      "_model_module": "@jupyter-widgets/base",
      "_model_module_version": "1.2.0",
      "_model_name": "LayoutModel",
      "_view_count": null,
      "_view_module": "@jupyter-widgets/base",
      "_view_module_version": "1.2.0",
      "_view_name": "LayoutView",
      "align_content": null,
      "align_items": null,
      "align_self": null,
      "border": null,
      "bottom": null,
      "display": null,
      "flex": null,
      "flex_flow": null,
      "grid_area": null,
      "grid_auto_columns": null,
      "grid_auto_flow": null,
      "grid_auto_rows": null,
      "grid_column": null,
      "grid_gap": null,
      "grid_row": null,
      "grid_template_areas": null,
      "grid_template_columns": null,
      "grid_template_rows": null,
      "height": null,
      "justify_content": null,
      "justify_items": null,
      "left": null,
      "margin": null,
      "max_height": null,
      "max_width": null,
      "min_height": null,
      "min_width": null,
      "object_fit": null,
      "object_position": null,
      "order": null,
      "overflow": null,
      "overflow_x": null,
      "overflow_y": null,
      "padding": null,
      "right": null,
      "top": null,
      "visibility": null,
      "width": null
     }
    },
    "c5ae98203edb4bdb83443d3f05b08247": {
     "model_module": "@jupyter-widgets/controls",
     "model_module_version": "1.5.0",
     "model_name": "DescriptionStyleModel",
     "state": {
      "_model_module": "@jupyter-widgets/controls",
      "_model_module_version": "1.5.0",
      "_model_name": "DescriptionStyleModel",
      "_view_count": null,
      "_view_module": "@jupyter-widgets/base",
      "_view_module_version": "1.2.0",
      "_view_name": "StyleView",
      "description_width": ""
     }
    },
    "c69b41b3fb8748cea2e7770562b47ce3": {
     "model_module": "@jupyter-widgets/base",
     "model_module_version": "1.2.0",
     "model_name": "LayoutModel",
     "state": {
      "_model_module": "@jupyter-widgets/base",
      "_model_module_version": "1.2.0",
      "_model_name": "LayoutModel",
      "_view_count": null,
      "_view_module": "@jupyter-widgets/base",
      "_view_module_version": "1.2.0",
      "_view_name": "LayoutView",
      "align_content": null,
      "align_items": null,
      "align_self": null,
      "border": null,
      "bottom": null,
      "display": null,
      "flex": null,
      "flex_flow": null,
      "grid_area": null,
      "grid_auto_columns": null,
      "grid_auto_flow": null,
      "grid_auto_rows": null,
      "grid_column": null,
      "grid_gap": null,
      "grid_row": null,
      "grid_template_areas": null,
      "grid_template_columns": null,
      "grid_template_rows": null,
      "height": null,
      "justify_content": null,
      "justify_items": null,
      "left": null,
      "margin": null,
      "max_height": null,
      "max_width": null,
      "min_height": null,
      "min_width": null,
      "object_fit": null,
      "object_position": null,
      "order": null,
      "overflow": null,
      "overflow_x": null,
      "overflow_y": null,
      "padding": null,
      "right": null,
      "top": null,
      "visibility": null,
      "width": null
     }
    },
    "c6ccf24b960c4b25a59265c68780a0e7": {
     "model_module": "@jupyter-widgets/controls",
     "model_module_version": "1.5.0",
     "model_name": "HBoxModel",
     "state": {
      "_dom_classes": [],
      "_model_module": "@jupyter-widgets/controls",
      "_model_module_version": "1.5.0",
      "_model_name": "HBoxModel",
      "_view_count": null,
      "_view_module": "@jupyter-widgets/controls",
      "_view_module_version": "1.5.0",
      "_view_name": "HBoxView",
      "box_style": "",
      "children": [
       "IPY_MODEL_9d8a386189cc4a9c81b836fb41fa4f64",
       "IPY_MODEL_e40763a82dc34304aca5e042c9e77375",
       "IPY_MODEL_853f16aaaa5c4d13a67b143f2e946c3a"
      ],
      "layout": "IPY_MODEL_0f2ce18b656a4e7ead8774f9c28b4eda"
     }
    },
    "cb9a3ee490e248398094c6789cc8526e": {
     "model_module": "@jupyter-widgets/controls",
     "model_module_version": "1.5.0",
     "model_name": "FloatProgressModel",
     "state": {
      "_dom_classes": [],
      "_model_module": "@jupyter-widgets/controls",
      "_model_module_version": "1.5.0",
      "_model_name": "FloatProgressModel",
      "_view_count": null,
      "_view_module": "@jupyter-widgets/controls",
      "_view_module_version": "1.5.0",
      "_view_name": "ProgressView",
      "bar_style": "",
      "description": "",
      "description_tooltip": null,
      "layout": "IPY_MODEL_b572e3cd384c46499d0e8e4f7d52123a",
      "max": 500,
      "min": 0,
      "orientation": "horizontal",
      "style": "IPY_MODEL_93adec39ba514f24a582ddbd529e01a0",
      "value": 500
     }
    },
    "cbad20d361c6425cbb716354a9e8d328": {
     "model_module": "@jupyter-widgets/base",
     "model_module_version": "1.2.0",
     "model_name": "LayoutModel",
     "state": {
      "_model_module": "@jupyter-widgets/base",
      "_model_module_version": "1.2.0",
      "_model_name": "LayoutModel",
      "_view_count": null,
      "_view_module": "@jupyter-widgets/base",
      "_view_module_version": "1.2.0",
      "_view_name": "LayoutView",
      "align_content": null,
      "align_items": null,
      "align_self": null,
      "border": null,
      "bottom": null,
      "display": null,
      "flex": null,
      "flex_flow": null,
      "grid_area": null,
      "grid_auto_columns": null,
      "grid_auto_flow": null,
      "grid_auto_rows": null,
      "grid_column": null,
      "grid_gap": null,
      "grid_row": null,
      "grid_template_areas": null,
      "grid_template_columns": null,
      "grid_template_rows": null,
      "height": null,
      "justify_content": null,
      "justify_items": null,
      "left": null,
      "margin": null,
      "max_height": null,
      "max_width": null,
      "min_height": null,
      "min_width": null,
      "object_fit": null,
      "object_position": null,
      "order": null,
      "overflow": null,
      "overflow_x": null,
      "overflow_y": null,
      "padding": null,
      "right": null,
      "top": null,
      "visibility": null,
      "width": null
     }
    },
    "cce9d70e2dc94fc398e63efce16ce4ca": {
     "model_module": "@jupyter-widgets/controls",
     "model_module_version": "1.5.0",
     "model_name": "HBoxModel",
     "state": {
      "_dom_classes": [],
      "_model_module": "@jupyter-widgets/controls",
      "_model_module_version": "1.5.0",
      "_model_name": "HBoxModel",
      "_view_count": null,
      "_view_module": "@jupyter-widgets/controls",
      "_view_module_version": "1.5.0",
      "_view_name": "HBoxView",
      "box_style": "",
      "children": [
       "IPY_MODEL_9cfda34969e044acb3368d547caf95ef",
       "IPY_MODEL_1144779119e843109365495f972af363",
       "IPY_MODEL_9ab910f3fc8540f591c0db3dffc74cb5"
      ],
      "layout": "IPY_MODEL_afa135917c1f4273bfdcc9e6f8c56683"
     }
    },
    "cffb3f880b7f45719ad19c6fbb082948": {
     "model_module": "@jupyter-widgets/controls",
     "model_module_version": "1.5.0",
     "model_name": "FloatProgressModel",
     "state": {
      "_dom_classes": [],
      "_model_module": "@jupyter-widgets/controls",
      "_model_module_version": "1.5.0",
      "_model_name": "FloatProgressModel",
      "_view_count": null,
      "_view_module": "@jupyter-widgets/controls",
      "_view_module_version": "1.5.0",
      "_view_name": "ProgressView",
      "bar_style": "success",
      "description": "",
      "description_tooltip": null,
      "layout": "IPY_MODEL_06c39c7b19ff4102a059335937096a77",
      "max": 791656,
      "min": 0,
      "orientation": "horizontal",
      "style": "IPY_MODEL_26ffcb55db4149d38c34570982fa0fca",
      "value": 791656
     }
    },
    "d5e1a9a72304460a9021598550913edc": {
     "model_module": "@jupyter-widgets/controls",
     "model_module_version": "1.5.0",
     "model_name": "DescriptionStyleModel",
     "state": {
      "_model_module": "@jupyter-widgets/controls",
      "_model_module_version": "1.5.0",
      "_model_name": "DescriptionStyleModel",
      "_view_count": null,
      "_view_module": "@jupyter-widgets/base",
      "_view_module_version": "1.2.0",
      "_view_name": "StyleView",
      "description_width": ""
     }
    },
    "da395e550e3f40379416bc4b2ae0acd0": {
     "model_module": "@jupyter-widgets/controls",
     "model_module_version": "1.5.0",
     "model_name": "ProgressStyleModel",
     "state": {
      "_model_module": "@jupyter-widgets/controls",
      "_model_module_version": "1.5.0",
      "_model_name": "ProgressStyleModel",
      "_view_count": null,
      "_view_module": "@jupyter-widgets/base",
      "_view_module_version": "1.2.0",
      "_view_name": "StyleView",
      "bar_color": null,
      "description_width": ""
     }
    },
    "de53a4b226e541d28da4547ac58579ff": {
     "model_module": "@jupyter-widgets/controls",
     "model_module_version": "1.5.0",
     "model_name": "DescriptionStyleModel",
     "state": {
      "_model_module": "@jupyter-widgets/controls",
      "_model_module_version": "1.5.0",
      "_model_name": "DescriptionStyleModel",
      "_view_count": null,
      "_view_module": "@jupyter-widgets/base",
      "_view_module_version": "1.2.0",
      "_view_name": "StyleView",
      "description_width": ""
     }
    },
    "dfae349d2c6e4efb93933fc4c011fe97": {
     "model_module": "@jupyter-widgets/controls",
     "model_module_version": "1.5.0",
     "model_name": "FloatProgressModel",
     "state": {
      "_dom_classes": [],
      "_model_module": "@jupyter-widgets/controls",
      "_model_module_version": "1.5.0",
      "_model_name": "FloatProgressModel",
      "_view_count": null,
      "_view_module": "@jupyter-widgets/controls",
      "_view_module_version": "1.5.0",
      "_view_name": "ProgressView",
      "bar_style": "success",
      "description": "",
      "description_tooltip": null,
      "layout": "IPY_MODEL_aa8d3f0d5edc43519b03b9360708f8b2",
      "max": 242065649,
      "min": 0,
      "orientation": "horizontal",
      "style": "IPY_MODEL_da395e550e3f40379416bc4b2ae0acd0",
      "value": 242065649
     }
    },
    "e340d5c2a56247918e94384810ea21d9": {
     "model_module": "@jupyter-widgets/base",
     "model_module_version": "1.2.0",
     "model_name": "LayoutModel",
     "state": {
      "_model_module": "@jupyter-widgets/base",
      "_model_module_version": "1.2.0",
      "_model_name": "LayoutModel",
      "_view_count": null,
      "_view_module": "@jupyter-widgets/base",
      "_view_module_version": "1.2.0",
      "_view_name": "LayoutView",
      "align_content": null,
      "align_items": null,
      "align_self": null,
      "border": null,
      "bottom": null,
      "display": null,
      "flex": null,
      "flex_flow": null,
      "grid_area": null,
      "grid_auto_columns": null,
      "grid_auto_flow": null,
      "grid_auto_rows": null,
      "grid_column": null,
      "grid_gap": null,
      "grid_row": null,
      "grid_template_areas": null,
      "grid_template_columns": null,
      "grid_template_rows": null,
      "height": null,
      "justify_content": null,
      "justify_items": null,
      "left": null,
      "margin": null,
      "max_height": null,
      "max_width": null,
      "min_height": null,
      "min_width": null,
      "object_fit": null,
      "object_position": null,
      "order": null,
      "overflow": null,
      "overflow_x": null,
      "overflow_y": null,
      "padding": null,
      "right": null,
      "top": null,
      "visibility": null,
      "width": null
     }
    },
    "e40763a82dc34304aca5e042c9e77375": {
     "model_module": "@jupyter-widgets/controls",
     "model_module_version": "1.5.0",
     "model_name": "FloatProgressModel",
     "state": {
      "_dom_classes": [],
      "_model_module": "@jupyter-widgets/controls",
      "_model_module_version": "1.5.0",
      "_model_name": "FloatProgressModel",
      "_view_count": null,
      "_view_module": "@jupyter-widgets/controls",
      "_view_module_version": "1.5.0",
      "_view_name": "ProgressView",
      "bar_style": "success",
      "description": "",
      "description_tooltip": null,
      "layout": "IPY_MODEL_5f5740fe5a3e45289881a5ed5a498764",
      "max": 1000,
      "min": 0,
      "orientation": "horizontal",
      "style": "IPY_MODEL_0effbee2d34943fc8d6d0d3a265d0766",
      "value": 1000
     }
    },
    "e88c4810f71346019c6d9765cacc3284": {
     "model_module": "@jupyter-widgets/controls",
     "model_module_version": "1.5.0",
     "model_name": "DescriptionStyleModel",
     "state": {
      "_model_module": "@jupyter-widgets/controls",
      "_model_module_version": "1.5.0",
      "_model_name": "DescriptionStyleModel",
      "_view_count": null,
      "_view_module": "@jupyter-widgets/base",
      "_view_module_version": "1.2.0",
      "_view_name": "StyleView",
      "description_width": ""
     }
    },
    "e8fcd026196044a08250eeb8f0c9bdd8": {
     "model_module": "@jupyter-widgets/controls",
     "model_module_version": "1.5.0",
     "model_name": "DescriptionStyleModel",
     "state": {
      "_model_module": "@jupyter-widgets/controls",
      "_model_module_version": "1.5.0",
      "_model_name": "DescriptionStyleModel",
      "_view_count": null,
      "_view_module": "@jupyter-widgets/base",
      "_view_module_version": "1.2.0",
      "_view_name": "StyleView",
      "description_width": ""
     }
    },
    "ebf189ef3899443fb90e40e5abd4f088": {
     "model_module": "@jupyter-widgets/controls",
     "model_module_version": "1.5.0",
     "model_name": "HBoxModel",
     "state": {
      "_dom_classes": [],
      "_model_module": "@jupyter-widgets/controls",
      "_model_module_version": "1.5.0",
      "_model_name": "HBoxModel",
      "_view_count": null,
      "_view_module": "@jupyter-widgets/controls",
      "_view_module_version": "1.5.0",
      "_view_name": "HBoxView",
      "box_style": "",
      "children": [
       "IPY_MODEL_2921977fec8c4f54b727f6aa12334d09",
       "IPY_MODEL_ae41b724aa4f469f8c408848d2a9de1f",
       "IPY_MODEL_74f7576971d74113aa0605f41eb5fb89"
      ],
      "layout": "IPY_MODEL_7c90ba46512d4a94a1971f5f4b4d97d8"
     }
    },
    "ec023301cdad42cdabc32be9ee003f2a": {
     "model_module": "@jupyter-widgets/controls",
     "model_module_version": "1.5.0",
     "model_name": "HTMLModel",
     "state": {
      "_dom_classes": [],
      "_model_module": "@jupyter-widgets/controls",
      "_model_module_version": "1.5.0",
      "_model_name": "HTMLModel",
      "_view_count": null,
      "_view_module": "@jupyter-widgets/controls",
      "_view_module_version": "1.5.0",
      "_view_name": "HTMLView",
      "description": "",
      "description_tooltip": null,
      "layout": "IPY_MODEL_e340d5c2a56247918e94384810ea21d9",
      "placeholder": "​",
      "style": "IPY_MODEL_6c2c9da14016449a8c13e08b395f7b23",
      "value": "Validation DataLoader 0: 100%"
     }
    },
    "ee070df2cc9b42d6891e5ae557040066": {
     "model_module": "@jupyter-widgets/base",
     "model_module_version": "1.2.0",
     "model_name": "LayoutModel",
     "state": {
      "_model_module": "@jupyter-widgets/base",
      "_model_module_version": "1.2.0",
      "_model_name": "LayoutModel",
      "_view_count": null,
      "_view_module": "@jupyter-widgets/base",
      "_view_module_version": "1.2.0",
      "_view_name": "LayoutView",
      "align_content": null,
      "align_items": null,
      "align_self": null,
      "border": null,
      "bottom": null,
      "display": null,
      "flex": "2",
      "flex_flow": null,
      "grid_area": null,
      "grid_auto_columns": null,
      "grid_auto_flow": null,
      "grid_auto_rows": null,
      "grid_column": null,
      "grid_gap": null,
      "grid_row": null,
      "grid_template_areas": null,
      "grid_template_columns": null,
      "grid_template_rows": null,
      "height": null,
      "justify_content": null,
      "justify_items": null,
      "left": null,
      "margin": null,
      "max_height": null,
      "max_width": null,
      "min_height": null,
      "min_width": null,
      "object_fit": null,
      "object_position": null,
      "order": null,
      "overflow": null,
      "overflow_x": null,
      "overflow_y": null,
      "padding": null,
      "right": null,
      "top": null,
      "visibility": null,
      "width": null
     }
    },
    "eef3c52f6b534523870e3ea61223014b": {
     "model_module": "@jupyter-widgets/base",
     "model_module_version": "1.2.0",
     "model_name": "LayoutModel",
     "state": {
      "_model_module": "@jupyter-widgets/base",
      "_model_module_version": "1.2.0",
      "_model_name": "LayoutModel",
      "_view_count": null,
      "_view_module": "@jupyter-widgets/base",
      "_view_module_version": "1.2.0",
      "_view_name": "LayoutView",
      "align_content": null,
      "align_items": null,
      "align_self": null,
      "border": null,
      "bottom": null,
      "display": null,
      "flex": null,
      "flex_flow": null,
      "grid_area": null,
      "grid_auto_columns": null,
      "grid_auto_flow": null,
      "grid_auto_rows": null,
      "grid_column": null,
      "grid_gap": null,
      "grid_row": null,
      "grid_template_areas": null,
      "grid_template_columns": null,
      "grid_template_rows": null,
      "height": null,
      "justify_content": null,
      "justify_items": null,
      "left": null,
      "margin": null,
      "max_height": null,
      "max_width": null,
      "min_height": null,
      "min_width": null,
      "object_fit": null,
      "object_position": null,
      "order": null,
      "overflow": null,
      "overflow_x": null,
      "overflow_y": null,
      "padding": null,
      "right": null,
      "top": null,
      "visibility": null,
      "width": null
     }
    },
    "f4a7c18179414629ab20376d4180a8a7": {
     "model_module": "@jupyter-widgets/base",
     "model_module_version": "1.2.0",
     "model_name": "LayoutModel",
     "state": {
      "_model_module": "@jupyter-widgets/base",
      "_model_module_version": "1.2.0",
      "_model_name": "LayoutModel",
      "_view_count": null,
      "_view_module": "@jupyter-widgets/base",
      "_view_module_version": "1.2.0",
      "_view_name": "LayoutView",
      "align_content": null,
      "align_items": null,
      "align_self": null,
      "border": null,
      "bottom": null,
      "display": null,
      "flex": null,
      "flex_flow": null,
      "grid_area": null,
      "grid_auto_columns": null,
      "grid_auto_flow": null,
      "grid_auto_rows": null,
      "grid_column": null,
      "grid_gap": null,
      "grid_row": null,
      "grid_template_areas": null,
      "grid_template_columns": null,
      "grid_template_rows": null,
      "height": null,
      "justify_content": null,
      "justify_items": null,
      "left": null,
      "margin": null,
      "max_height": null,
      "max_width": null,
      "min_height": null,
      "min_width": null,
      "object_fit": null,
      "object_position": null,
      "order": null,
      "overflow": null,
      "overflow_x": null,
      "overflow_y": null,
      "padding": null,
      "right": null,
      "top": null,
      "visibility": null,
      "width": null
     }
    },
    "f9fe48215ce14b91b0a57cd3c7096334": {
     "model_module": "@jupyter-widgets/controls",
     "model_module_version": "1.5.0",
     "model_name": "DescriptionStyleModel",
     "state": {
      "_model_module": "@jupyter-widgets/controls",
      "_model_module_version": "1.5.0",
      "_model_name": "DescriptionStyleModel",
      "_view_count": null,
      "_view_module": "@jupyter-widgets/base",
      "_view_module_version": "1.2.0",
      "_view_name": "StyleView",
      "description_width": ""
     }
    },
    "fc6fda81438846b8bd09a059bc0b5553": {
     "model_module": "@jupyter-widgets/controls",
     "model_module_version": "1.5.0",
     "model_name": "HTMLModel",
     "state": {
      "_dom_classes": [],
      "_model_module": "@jupyter-widgets/controls",
      "_model_module_version": "1.5.0",
      "_model_name": "HTMLModel",
      "_view_count": null,
      "_view_module": "@jupyter-widgets/controls",
      "_view_module_version": "1.5.0",
      "_view_name": "HTMLView",
      "description": "",
      "description_tooltip": null,
      "layout": "IPY_MODEL_036d1c9003ee43acb0c2b89783ef7317",
      "placeholder": "​",
      "style": "IPY_MODEL_16f0f99dbcfa4ff8b459aa5d3d9c74cd",
      "value": "Validation DataLoader 0: 100%"
     }
    },
    "fccbbd51784e428697cd8a47d9b94317": {
     "model_module": "@jupyter-widgets/base",
     "model_module_version": "1.2.0",
     "model_name": "LayoutModel",
     "state": {
      "_model_module": "@jupyter-widgets/base",
      "_model_module_version": "1.2.0",
      "_model_name": "LayoutModel",
      "_view_count": null,
      "_view_module": "@jupyter-widgets/base",
      "_view_module_version": "1.2.0",
      "_view_name": "LayoutView",
      "align_content": null,
      "align_items": null,
      "align_self": null,
      "border": null,
      "bottom": null,
      "display": null,
      "flex": null,
      "flex_flow": null,
      "grid_area": null,
      "grid_auto_columns": null,
      "grid_auto_flow": null,
      "grid_auto_rows": null,
      "grid_column": null,
      "grid_gap": null,
      "grid_row": null,
      "grid_template_areas": null,
      "grid_template_columns": null,
      "grid_template_rows": null,
      "height": null,
      "justify_content": null,
      "justify_items": null,
      "left": null,
      "margin": null,
      "max_height": null,
      "max_width": null,
      "min_height": null,
      "min_width": null,
      "object_fit": null,
      "object_position": null,
      "order": null,
      "overflow": null,
      "overflow_x": null,
      "overflow_y": null,
      "padding": null,
      "right": null,
      "top": null,
      "visibility": null,
      "width": null
     }
    },
    "fdda03cbcaae4da1815b38ba5d40a7f0": {
     "model_module": "@jupyter-widgets/base",
     "model_module_version": "1.2.0",
     "model_name": "LayoutModel",
     "state": {
      "_model_module": "@jupyter-widgets/base",
      "_model_module_version": "1.2.0",
      "_model_name": "LayoutModel",
      "_view_count": null,
      "_view_module": "@jupyter-widgets/base",
      "_view_module_version": "1.2.0",
      "_view_name": "LayoutView",
      "align_content": null,
      "align_items": null,
      "align_self": null,
      "border": null,
      "bottom": null,
      "display": "inline-flex",
      "flex": null,
      "flex_flow": "row wrap",
      "grid_area": null,
      "grid_auto_columns": null,
      "grid_auto_flow": null,
      "grid_auto_rows": null,
      "grid_column": null,
      "grid_gap": null,
      "grid_row": null,
      "grid_template_areas": null,
      "grid_template_columns": null,
      "grid_template_rows": null,
      "height": null,
      "justify_content": null,
      "justify_items": null,
      "left": null,
      "margin": null,
      "max_height": null,
      "max_width": null,
      "min_height": null,
      "min_width": null,
      "object_fit": null,
      "object_position": null,
      "order": null,
      "overflow": null,
      "overflow_x": null,
      "overflow_y": null,
      "padding": null,
      "right": null,
      "top": null,
      "visibility": "hidden",
      "width": "100%"
     }
    }
   }
  }
 },
 "nbformat": 4,
 "nbformat_minor": 4
}
