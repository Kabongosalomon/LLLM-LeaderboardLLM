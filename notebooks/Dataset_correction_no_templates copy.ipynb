{
 "cells": [
  {
   "cell_type": "code",
   "execution_count": 1,
   "id": "bfa5c7f4-8125-4f01-8710-4e7a62b973a8",
   "metadata": {},
   "outputs": [
    {
     "name": "stderr",
     "output_type": "stream",
     "text": [
      "/nfs/home/kabenamualus/anaconda3/envs/tdm/lib/python3.7/site-packages/fuzzywuzzy/fuzz.py:11: UserWarning: Using slow pure-python SequenceMatcher. Install python-Levenshtein to remove this warning\n",
      "  warnings.warn('Using slow pure-python SequenceMatcher. Install python-Levenshtein to remove this warning')\n"
     ]
    }
   ],
   "source": [
    "# imports\n",
    "import pandas as pd\n",
    "import os, ipdb, re\n",
    "import random, evaluate\n",
    "import string\n",
    "import numpy as np\n",
    "from collections import defaultdict\n",
    "from tqdm import tqdm\n",
    "from datasets import DatasetDict, Dataset, load_dataset\n",
    "import wandb\n",
    "import ast\n",
    "import re, os\n",
    "import subprocess\n",
    "\n",
    "from fuzzywuzzy import fuzz\n",
    "import matplotlib.pyplot as plt"
   ]
  },
  {
   "cell_type": "code",
   "execution_count": 2,
   "id": "ba3cd200",
   "metadata": {},
   "outputs": [],
   "source": [
    "def calculate_fuzz_ratio(text1, text2):\n",
    "    return fuzz.ratio(str(text1).strip().lower(), str(text2).strip().lower())\n",
    "\n",
    "def view_leaderboard_distribution(dfs):\n",
    "\n",
    "    dfs_zeroshot = dfs['zeroshot'].copy()\n",
    "    dfs_train = dfs['train'].copy()\n",
    "    dfs_validation = dfs['validation'].copy()\n",
    "\n",
    "    dfs_train['leaderboard'] = dfs_train.answer.apply(lambda x: \"no_lb\" if x == \"unanswerable\" else \"lb\")\n",
    "    # Count unique values in the column\n",
    "    counts_train = dfs_train['leaderboard'].value_counts()\n",
    "\n",
    "    # Plot pie chart\n",
    "    plt.figure(figsize=(8, 8))  # Optional: Adjusts the size of the figure\n",
    "    plt.pie(counts_train, labels=counts_train.index, autopct='%1.1f%%', startangle=140)\n",
    "    plt.title('Train Leaderboard vs No Leaderboard')\n",
    "    plt.show()\n",
    "    \n",
    "    dfs_validation['leaderboard'] = dfs_validation.answer.apply(lambda x: \"no_lb\" if x == \"unanswerable\" else \"lb\")\n",
    "    # Count unique values in the column\n",
    "    counts_validation = dfs_validation['leaderboard'].value_counts()\n",
    "\n",
    "    # Plot pie chart\n",
    "    plt.figure(figsize=(8, 8))  # Optional: Adjusts the size of the figure\n",
    "    plt.pie(counts_validation, labels=counts_validation.index, autopct='%1.1f%%', startangle=140)\n",
    "    plt.title('Validation Chart Leaderboard vs No Leaderboard')\n",
    "    plt.show()\n",
    "    \n",
    "    dfs_zeroshot['leaderboard'] = dfs_zeroshot.answer.apply(lambda x: \"no_lb\" if x == \"unanswerable\" else \"lb\")\n",
    "    # Count unique values in the column\n",
    "    counts = dfs_zeroshot['leaderboard'].value_counts()\n",
    "\n",
    "    # Plot pie chart\n",
    "    plt.figure(figsize=(8, 8))  # Optional: Adjusts the size of the figure\n",
    "    plt.pie(counts, labels=counts.index, autopct='%1.1f%%', startangle=140)\n",
    "    plt.title('Zeroshot Chart Leaderboard vs No Leaderboard')\n",
    "    plt.show()\n",
    "    \n",
    "    \n",
    "def verify_data_integrity_old(dfs):\n",
    "\n",
    "    zeroshot_paper_in_train = 0\n",
    "    for paper in dfs['zeroshot'].id.unique():\n",
    "        if paper in dfs['train'].id.to_list():\n",
    "            zeroshot_paper_in_train += 1\n",
    "        \n",
    "    zeroshot_paper_in_validation = 0\n",
    "    for paper in dfs['zeroshot'].id.unique():\n",
    "        if paper in dfs['validation'].id.to_list():\n",
    "            zeroshot_paper_in_validation += 1 \n",
    "\n",
    "    train_paper_in_validation = 0\n",
    "    for paper in dfs['train'].id.unique():\n",
    "        if paper in dfs['validation'].id.to_list():\n",
    "            train_paper_in_validation += 1   \n",
    "        \n",
    "    validation_paper_in_zeroshot = 0\n",
    "    for paper in dfs['validation'].id.unique():\n",
    "        if paper in dfs['zeroshot'].id.to_list():\n",
    "            validation_paper_in_zeroshot += 1     \n",
    "            \n",
    "    print(f\"zeroshot_paper_in_train: {zeroshot_paper_in_train}\")\n",
    "    print(f\"zeroshot_paper_in_validation: {zeroshot_paper_in_validation}\")\n",
    "    print(f\"train_paper_in_validation: {train_paper_in_validation}\")\n",
    "    print(f\"validation_paper_in_zeroshot: {validation_paper_in_zeroshot}\")\n",
    "    \n",
    "def verify_data_integrity(dfs, include_no_lb=True):\n",
    "\n",
    "    zeroshot_paper_in_train = 0\n",
    "    dfs_train = dfs['train'].copy()\n",
    "    dfs_train.drop_duplicates(subset='id', inplace=True)\n",
    "    dfs_validation = dfs['validation'].copy()\n",
    "    dfs_validation.drop_duplicates(subset='id', inplace=True)\n",
    "    dfs_zeroshot = dfs['zeroshot'].copy()\n",
    "    dfs_zeroshot.drop_duplicates(subset='id', inplace=True)\n",
    "    \n",
    "    records_zero_train = dfs_zeroshot.to_dict(\"records\")    \n",
    "    for row in records_zero_train:\n",
    "        if include_no_lb:\n",
    "            if row['id'] in dfs_train['id'].to_list():\n",
    "                zeroshot_paper_in_train += 1\n",
    "        else:\n",
    "            if row['id'] in dfs_train['id'].to_list() and row['leaderboard']!=\"no_lb\":\n",
    "                zeroshot_paper_in_train += 1\n",
    "        \n",
    "    zeroshot_paper_in_validation = 0\n",
    "    records_zero_val = dfs_zeroshot.to_dict(\"records\")\n",
    "    for row in records_zero_val:\n",
    "        if include_no_lb:\n",
    "            if row['id'] in dfs_validation['id'].to_list():\n",
    "                zeroshot_paper_in_validation += 1 \n",
    "        else:\n",
    "            if row['id'] in dfs_validation['id'].to_list() and row['leaderboard']!=\"no_lb\":\n",
    "                zeroshot_paper_in_validation += 1 \n",
    "\n",
    "    validation_paper_in_train = 0\n",
    "    records_val_train = dfs_validation.to_dict(\"records\")\n",
    "    for row in records_val_train:\n",
    "        if include_no_lb:\n",
    "            if row['id'] in dfs_train['id'].to_list():\n",
    "                validation_paper_in_train += 1   \n",
    "        else:\n",
    "            if row['id'] in dfs_train['id'].to_list() and row['leaderboard']!=\"no_lb\":\n",
    "                validation_paper_in_train += 1   \n",
    "        \n",
    "    validation_paper_in_zeroshot = 0\n",
    "    records_train_zero = dfs_validation.to_dict(\"records\")\n",
    "    for row in records_train_zero:\n",
    "            \n",
    "        if include_no_lb:\n",
    "            if row['id'] in dfs_zeroshot['id'].to_list():\n",
    "                validation_paper_in_zeroshot += 1     \n",
    "        else:\n",
    "            if row['id'] in dfs_zeroshot['id'].to_list() and row['leaderboard']!=\"no_lb\":\n",
    "                validation_paper_in_zeroshot += 1   \n",
    "            \n",
    "    print(f\"zeroshot_paper_in_train: {zeroshot_paper_in_train}\")\n",
    "    print(f\"zeroshot_paper_in_validation: {zeroshot_paper_in_validation}\")\n",
    "    print(f\"validation_paper_in_train: {validation_paper_in_train}\")\n",
    "    print(f\"validation_paper_in_zeroshot: {validation_paper_in_zeroshot}\")\n",
    "    \n",
    "def remove_data_leakage_old(dfs, source, target, THRESHOLD=90):\n",
    "    papers_to_drop = []\n",
    "    missed_parsing_zero = 0\n",
    "    \n",
    "    dfs[source].drop_duplicates(subset='id', inplace=True)\n",
    "    source_records = dfs[source].to_dict(\"records\")\n",
    "\n",
    "    for source_row in tqdm(source_records, total=len(source_records)):\n",
    "        to_drop_paper_found = False \n",
    "        source_paper_id = source_row[\"id\"]\n",
    "        source_tdms = source_row[\"answer\"]\n",
    "        \n",
    "        if source_tdms in \"unanswerable\" or source_tdms == \"missed\":\n",
    "            # ipdb.set_trace()\n",
    "            # if source_paper_id not in papers_to_drop:\n",
    "            #     papers_to_drop.append(source_paper_id)\n",
    "            continue \n",
    "        \n",
    "        source_tdms = ast.literal_eval(source_row[\"answer\"])\n",
    "        \n",
    "        for leaderboard_source in source_tdms:\n",
    "            \n",
    "            if to_drop_paper_found:\n",
    "                break\n",
    "            \n",
    "            source_task = leaderboard_source[\"LEADERBOARD\"][\"Task\"]\n",
    "            source_dataset = leaderboard_source[\"LEADERBOARD\"][\"Dataset\"]\n",
    "            source_metric = leaderboard_source[\"LEADERBOARD\"][\"Metric\"]\n",
    "            source_score = leaderboard_source[\"LEADERBOARD\"][\"Score\"]\n",
    " \n",
    "            dfs[target].drop_duplicates(subset='id', inplace=True)\n",
    "            \n",
    "            target_records = dfs[target].to_dict(\"records\")\n",
    "\n",
    "            for target_row in target_records:\n",
    "                \n",
    "                if to_drop_paper_found:\n",
    "                        break    \n",
    "                \n",
    "                target_paper_id = target_row[\"id\"]\n",
    "                target_tdms = target_row[\"answer\"]\n",
    "                \n",
    "                if target_tdms == \"unanswerable\" or target_tdms == \"missed\":\n",
    "                    # ipdb.set_trace()\n",
    "                    continue \n",
    "                \n",
    "                target_tdms = ast.literal_eval(target_row[\"answer\"])\n",
    "                \n",
    "                \n",
    "                for leaderboard_target in target_tdms:\n",
    "                    target_task = leaderboard_target[\"LEADERBOARD\"][\"Task\"]\n",
    "                    target_dataset = leaderboard_target[\"LEADERBOARD\"][\"Dataset\"]\n",
    "                    target_metric = leaderboard_target[\"LEADERBOARD\"][\"Metric\"]\n",
    "                    target_score = leaderboard_target[\"LEADERBOARD\"][\"Score\"]\n",
    "                    \n",
    "                    # A) Exact \n",
    "                    if (source_task == target_task and source_dataset == target_dataset and source_metric == target_metric) or (target_paper_id == source_paper_id):\n",
    "                        if source_paper_id not in papers_to_drop:\n",
    "                            papers_to_drop.append(source_paper_id)\n",
    "                        to_drop_paper_found = True \n",
    "                        break\n",
    "    \n",
    "                    # # B) Partial  or # A) Exact \n",
    "                    # if (calculate_fuzz_ratio(train_task, zeroshot_task) >= THRESHOLD and calculate_fuzz_ratio(train_dataset, zeroshot_dataset) >= THRESHOLD and calculate_fuzz_ratio(train_metric, zeroshot_metric) >= THRESHOLD) or (train_task == zeroshot_task and train_dataset == zeroshot_dataset and train_metric == zeroshot_metric):\n",
    "                    #     if paper_id not in papers_to_drop:\n",
    "                    #         papers_to_drop.append(paper_id)\n",
    "                    #         # ipdb.set_trace()\n",
    "                    #         break \n",
    "                    \n",
    "    print(f\"Missed_parsing_zero {missed_parsing_zero}\") \n",
    "    print(f\"Lenght papers_to_drop in {source} based on {target}: {len(papers_to_drop)}\")        \n",
    "    \n",
    "    return papers_to_drop\n",
    "\n",
    "\n",
    "def remove_data_leakage_id(dfs, source, target, THRESHOLD=90):\n",
    "    papers_to_drop = set()\n",
    "    missed_parsing_zero = 0\n",
    "    \n",
    "    dfs[source].drop_duplicates(subset='id', inplace=True)\n",
    "    records = dfs[source].to_dict(\"records\")\n",
    "\n",
    "    for row in tqdm(records, total=len(records)):\n",
    "        to_drop_paper_found = False \n",
    "        source_paper_id = row[\"id\"]\n",
    "        \n",
    "        dfs[target].drop_duplicates(subset='id', inplace=True)\n",
    "        target_records = dfs[target].to_dict(\"records\")\n",
    "\n",
    "        for row_target in target_records:  \n",
    "            \n",
    "            target_paper_id = row_target[\"id\"]\n",
    "            \n",
    "            # A) Exact \n",
    "            if (target_paper_id == source_paper_id):\n",
    "                papers_to_drop.add(source_paper_id)\n",
    "                to_drop_paper_found = True \n",
    "                break\n",
    "                    \n",
    "    print(f\"Missed_parsing_zero {missed_parsing_zero}\") \n",
    "    print(f\"Lenght papers_to_drop in {source} based on {target}: {len(papers_to_drop)}\")        \n",
    "    \n",
    "    return papers_to_drop\n",
    "\n",
    "\n",
    "def remove_data_leakage(dfs, source, target, THRESHOLD=90):\n",
    "    papers_to_drop = {\"id\": set(), \"tdm\":set()}\n",
    "    missed_parsing_zero = 0\n",
    "    \n",
    "    dfs_target = dfs[target].drop_duplicates(subset='id')\n",
    "    unique_paper_id_target = dfs_target.id.unique()\n",
    "    lists_target = [ast.literal_eval(lb) for lb in dfs_target[dfs_target.leaderboard ==\"lb\"].answer.to_list()]\n",
    "    # Flatten the list of lists\n",
    "    flattened_list_target = [item for sublist in lists_target for item in sublist]\n",
    "    # Extract unique tuples\n",
    "    unique_tuples_target = {(d['LEADERBOARD']['Task'], d['LEADERBOARD']['Dataset'], d['LEADERBOARD']['Metric']) for d in flattened_list_target}\n",
    "\n",
    "\n",
    "    dfs_source = dfs[source].drop_duplicates(subset='id')\n",
    "    source_records = dfs_source.to_dict(\"records\")\n",
    "    for source_row in tqdm(source_records, total=len(source_records)):\n",
    "        to_drop_paper_found = False \n",
    "        source_paper_id = source_row[\"id\"]\n",
    "        source_tdms = source_row[\"answer\"]\n",
    "        \n",
    "        if source_paper_id in unique_paper_id_target:\n",
    "            papers_to_drop[\"id\"].add(source_paper_id)\n",
    "            continue     \n",
    "        \n",
    "        if source_tdms in \"unanswerable\" or source_tdms == \"missed\":\n",
    "            # ipdb.set_trace()\n",
    "            # if source_paper_id not in papers_to_drop:\n",
    "            #     papers_to_drop.append(source_paper_id)\n",
    "            continue \n",
    "        \n",
    "        source_tdms = ast.literal_eval(source_row[\"answer\"])\n",
    "        # Extract unique tuples\n",
    "        unique_tuples_source = {(d['LEADERBOARD']['Task'], d['LEADERBOARD']['Dataset'], d['LEADERBOARD']['Metric']) for d in source_tdms} \n",
    "        \n",
    "        is_contained = unique_tuples_source.issubset(unique_tuples_target)\n",
    "    \n",
    "        if is_contained:\n",
    "            papers_to_drop[\"tdm\"].add(source_paper_id)\n",
    "            \n",
    "      \n",
    "        \n",
    "        # # B) Partial  or # A) Exact \n",
    "        # if (calculate_fuzz_ratio(train_task, zeroshot_task) >= THRESHOLD and calculate_fuzz_ratio(train_dataset, zeroshot_dataset) >= THRESHOLD and calculate_fuzz_ratio(train_metric, zeroshot_metric) >= THRESHOLD) or (train_task == zeroshot_task and train_dataset == zeroshot_dataset and train_metric == zeroshot_metric):\n",
    "        #     if paper_id not in papers_to_drop:\n",
    "        #         papers_to_drop.append(paper_id)\n",
    "        #         # ipdb.set_trace()\n",
    "        #         break \n",
    "                    \n",
    "    print(f\"Missed_parsing_zero {missed_parsing_zero}\") \n",
    "    print(f\"Lenght papers_to_drop in {source} based on {target} Title ID: {len(papers_to_drop['id'])}\") \n",
    "    print(f\"Lenght papers_to_drop in {source} based on {target} TDM Match: {len(papers_to_drop['tdm'])}\")   \n",
    "\n",
    "    print(f\"Lenght papers from {source} with lb: {len(dfs_source[dfs_source['leaderboard']=='lb'])}\") \n",
    "    print(f\"Lenght papers from {source} with no_lb: {len(dfs_source[dfs_source['leaderboard']=='no_lb'])}\") \n",
    "    print(f\"Lenght papers from {target} with lb: {len(dfs_target[dfs_target['leaderboard']=='lb'])}\") \n",
    "    print(f\"Lenght papers from {target} with no_lb: {len(dfs_target[dfs_target['leaderboard']=='no_lb'])}\") \n",
    "    \n",
    "    \n",
    "    return papers_to_drop"
   ]
  },
  {
   "cell_type": "markdown",
   "id": "02ff7a42",
   "metadata": {},
   "source": [
    "# No Templates"
   ]
  },
  {
   "cell_type": "markdown",
   "id": "25067d9c",
   "metadata": {},
   "source": [
    "## DOCTEAT"
   ]
  },
  {
   "cell_type": "markdown",
   "id": "680520e1",
   "metadata": {},
   "source": [
    "### STRICT"
   ]
  },
  {
   "cell_type": "code",
   "execution_count": 4,
   "id": "312ebcaa",
   "metadata": {},
   "outputs": [],
   "source": [
    "dataset_path = f\"../data/LLLM_AUGMENTED_SUMMARIZED_ZEROSHOT_TDMS_NO_TEMPLATE_DOCTEAT/fold1\"\n",
    "# dataset_path = f\"../data/LLLM_AUGMENTED_SUMMARIZED_WITH_ID_ZEROSHOT_TDMS_50_PERCENT/fold1\"\n",
    "\n",
    "dataset_dict = DatasetDict.load_from_disk(f\"{dataset_path}\")\n",
    "    \n",
    "dfs = {split: dataset.to_pandas() for split, dataset in dataset_dict.items()}\n",
    "\n",
    "dfs['train']['leaderboard'] = dfs['train'].answer.apply(lambda x: \"no_lb\" if x == \"unanswerable\" else \"lb\")\n",
    "dfs['validation']['leaderboard'] = dfs['validation'].answer.apply(lambda x: \"no_lb\" if x == \"unanswerable\" else \"lb\")\n",
    "dfs['zeroshot']['leaderboard'] = dfs['zeroshot'].answer.apply(lambda x: \"no_lb\" if x == \"unanswerable\" else \"lb\")"
   ]
  },
  {
   "cell_type": "code",
   "execution_count": 5,
   "id": "872b81bc",
   "metadata": {},
   "outputs": [
    {
     "data": {
      "text/html": [
       "<div>\n",
       "<style scoped>\n",
       "    .dataframe tbody tr th:only-of-type {\n",
       "        vertical-align: middle;\n",
       "    }\n",
       "\n",
       "    .dataframe tbody tr th {\n",
       "        vertical-align: top;\n",
       "    }\n",
       "\n",
       "    .dataframe thead th {\n",
       "        text-align: right;\n",
       "    }\n",
       "</style>\n",
       "<table border=\"1\" class=\"dataframe\">\n",
       "  <thead>\n",
       "    <tr style=\"text-align: right;\">\n",
       "      <th></th>\n",
       "      <th>id</th>\n",
       "      <th>prompt</th>\n",
       "      <th>answer</th>\n",
       "      <th>template</th>\n",
       "      <th>leaderboard</th>\n",
       "    </tr>\n",
       "  </thead>\n",
       "  <tbody>\n",
       "    <tr>\n",
       "      <th>count</th>\n",
       "      <td>150870</td>\n",
       "      <td>150870</td>\n",
       "      <td>150870</td>\n",
       "      <td>150870</td>\n",
       "      <td>150870</td>\n",
       "    </tr>\n",
       "    <tr>\n",
       "      <th>unique</th>\n",
       "      <td>10058</td>\n",
       "      <td>10004</td>\n",
       "      <td>7016</td>\n",
       "      <td>1</td>\n",
       "      <td>2</td>\n",
       "    </tr>\n",
       "    <tr>\n",
       "      <th>top</th>\n",
       "      <td>1707.03497v2.pdf</td>\n",
       "      <td>Author Guidelines for ECCV Submission The abst...</td>\n",
       "      <td>unanswerable</td>\n",
       "      <td>drop_3</td>\n",
       "      <td>lb</td>\n",
       "    </tr>\n",
       "    <tr>\n",
       "      <th>freq</th>\n",
       "      <td>15</td>\n",
       "      <td>105</td>\n",
       "      <td>45495</td>\n",
       "      <td>150870</td>\n",
       "      <td>105375</td>\n",
       "    </tr>\n",
       "  </tbody>\n",
       "</table>\n",
       "</div>"
      ],
      "text/plain": [
       "                      id                                             prompt  \\\n",
       "count             150870                                             150870   \n",
       "unique             10058                                              10004   \n",
       "top     1707.03497v2.pdf  Author Guidelines for ECCV Submission The abst...   \n",
       "freq                  15                                                105   \n",
       "\n",
       "              answer template leaderboard  \n",
       "count         150870   150870      150870  \n",
       "unique          7016        1           2  \n",
       "top     unanswerable   drop_3          lb  \n",
       "freq           45495   150870      105375  "
      ]
     },
     "execution_count": 5,
     "metadata": {},
     "output_type": "execute_result"
    }
   ],
   "source": [
    "dfs['train'].drop([\"prompt lenght\", \"__index_level_0__\"], axis=1).describe()"
   ]
  },
  {
   "cell_type": "code",
   "execution_count": 6,
   "id": "f966644d",
   "metadata": {},
   "outputs": [
    {
     "data": {
      "image/png": "[encoded data removed]",
      "text/plain": [
       "<Figure size 576x576 with 1 Axes>"
      ]
     },
     "metadata": {},
     "output_type": "display_data"
    },
    {
     "data": {
      "image/png": "[encoded data removed]",
      "text/plain": [
       "<Figure size 576x576 with 1 Axes>"
      ]
     },
     "metadata": {},
     "output_type": "display_data"
    },
    {
     "data": {
      "image/png": "[encoded data removed]",
      "text/plain": [
       "<Figure size 576x576 with 1 Axes>"
      ]
     },
     "metadata": {},
     "output_type": "display_data"
    }
   ],
   "source": [
    "view_leaderboard_distribution(dfs)"
   ]
  },
  {
   "cell_type": "code",
   "execution_count": 7,
   "metadata": {},
   "outputs": [
    {
     "name": "stderr",
     "output_type": "stream",
     "text": [
      "100%|██████████| 926/926 [00:00<00:00, 5799.68it/s]\n"
     ]
    },
    {
     "name": "stdout",
     "output_type": "stream",
     "text": [
      "Missed_parsing_zero 0\n",
      "Lenght papers_to_drop in zeroshot based on train Title ID: 518\n",
      "Lenght papers_to_drop in zeroshot based on train TDM Match: 44\n",
      "Lenght papers from zeroshot with lb: 573\n",
      "Lenght papers from zeroshot with no_lb: 353\n",
      "Lenght papers from train with lb: 7025\n",
      "Lenght papers from train with no_lb: 3033\n",
      "\n",
      "validation\n",
      "\n"
     ]
    },
    {
     "name": "stderr",
     "output_type": "stream",
     "text": [
      "100%|██████████| 1347/1347 [00:00<00:00, 8108.81it/s]"
     ]
    },
    {
     "name": "stdout",
     "output_type": "stream",
     "text": [
      "Missed_parsing_zero 0\n",
      "Lenght papers_to_drop in validation based on train Title ID: 0\n",
      "Lenght papers_to_drop in validation based on train TDM Match: 661\n",
      "Lenght papers from validation with lb: 903\n",
      "Lenght papers from validation with no_lb: 444\n",
      "Lenght papers from train with lb: 7025\n",
      "Lenght papers from train with no_lb: 3033\n"
     ]
    },
    {
     "name": "stderr",
     "output_type": "stream",
     "text": [
      "\n"
     ]
    }
   ],
   "source": [
    "zeroshot_papers_to_drop = remove_data_leakage(dfs, source=\"zeroshot\", target=\"train\", THRESHOLD=90)\n",
    "print(\"\\nvalidation\\n\")\n",
    "validation_papers_to_drop = remove_data_leakage(dfs, source=\"validation\", target=\"train\", THRESHOLD=90)"
   ]
  },
  {
   "cell_type": "code",
   "execution_count": 8,
   "id": "70596a30",
   "metadata": {},
   "outputs": [
    {
     "name": "stdout",
     "output_type": "stream",
     "text": [
      "len(dfs['zeroshot']): 13890\n",
      "len(dfs['validation']): 20205\n",
      "len(dfs['zeroshot']): 6120\n",
      "len(dfs['validation']): 20205\n"
     ]
    }
   ],
   "source": [
    "print(f\"len(dfs['zeroshot']): {len(dfs['zeroshot'])}\")\n",
    "print(f\"len(dfs['validation']): {len(dfs['validation'])}\")\n",
    "\n",
    "dfs['zeroshot'] = dfs['zeroshot'][~dfs['zeroshot']['id'].isin(zeroshot_papers_to_drop['id'])]\n",
    "dfs['validation'] = dfs['validation'][~dfs['validation']['id'].isin(validation_papers_to_drop['id'])]\n",
    "\n",
    "print(f\"len(dfs['zeroshot']): {len(dfs['zeroshot'])}\")\n",
    "print(f\"len(dfs['validation']): {len(dfs['validation'])}\")"
   ]
  },
  {
   "cell_type": "code",
   "execution_count": 9,
   "id": "fe38824f",
   "metadata": {},
   "outputs": [
    {
     "name": "stderr",
     "output_type": "stream",
     "text": [
      "100%|██████████| 408/408 [00:00<00:00, 10681.86it/s]\n"
     ]
    },
    {
     "name": "stdout",
     "output_type": "stream",
     "text": [
      "Missed_parsing_zero 0\n",
      "Lenght papers_to_drop in zeroshot based on train Title ID: 0\n",
      "Lenght papers_to_drop in zeroshot based on train TDM Match: 44\n",
      "Lenght papers from zeroshot with lb: 55\n",
      "Lenght papers from zeroshot with no_lb: 353\n",
      "Lenght papers from train with lb: 7025\n",
      "Lenght papers from train with no_lb: 3033\n",
      "\n",
      "validation\n",
      "\n"
     ]
    },
    {
     "name": "stderr",
     "output_type": "stream",
     "text": [
      "100%|██████████| 1347/1347 [00:00<00:00, 8136.64it/s]"
     ]
    },
    {
     "name": "stdout",
     "output_type": "stream",
     "text": [
      "Missed_parsing_zero 0\n",
      "Lenght papers_to_drop in validation based on train Title ID: 0\n",
      "Lenght papers_to_drop in validation based on train TDM Match: 661\n",
      "Lenght papers from validation with lb: 903\n",
      "Lenght papers from validation with no_lb: 444\n",
      "Lenght papers from train with lb: 7025\n",
      "Lenght papers from train with no_lb: 3033\n"
     ]
    },
    {
     "name": "stderr",
     "output_type": "stream",
     "text": [
      "\n"
     ]
    }
   ],
   "source": [
    "# In zeroshot means paper to remove from zero-shot to make it real zershot, in the sense that \n",
    "# At least one of the leaderboard was not seen at training time \n",
    "zeroshot_papers_to_drop = remove_data_leakage(dfs, source=\"zeroshot\", target=\"train\", THRESHOLD=90)\n",
    "\n",
    "print(\"\\nvalidation\\n\")\n",
    "# in validation this means paper to keep as part of few shot \n",
    "validation_papers_to_drop = remove_data_leakage(dfs, source=\"validation\", target=\"train\", THRESHOLD=90)"
   ]
  },
  {
   "cell_type": "code",
   "execution_count": 10,
   "metadata": {},
   "outputs": [
    {
     "name": "stdout",
     "output_type": "stream",
     "text": [
      "len(zeroshot_concat): 9750\n",
      "len(validation_concat): 20865\n"
     ]
    }
   ],
   "source": [
    "zeroshot_concat = pd.concat([dfs['zeroshot'], dfs['validation'][~(dfs['validation']['id'].isin(validation_papers_to_drop['tdm'])) & (dfs['validation']['leaderboard']==\"lb\")]], ignore_index=True)\n",
    "print(f\"len(zeroshot_concat): {len(zeroshot_concat)}\")\n",
    "# zeroshot_concat = dfs['zeroshot']\n",
    "# print(f\"len(zeroshot_concat): {len(zeroshot_concat)}\")\n",
    "\n",
    "validation_concat = pd.concat([dfs['validation'], dfs['zeroshot'][dfs['zeroshot']['id'].isin(zeroshot_papers_to_drop['tdm'])]], ignore_index=True)\n",
    "print(f\"len(validation_concat): {len(validation_concat)}\")"
   ]
  },
  {
   "cell_type": "code",
   "execution_count": 11,
   "id": "68f36d62",
   "metadata": {},
   "outputs": [
    {
     "data": {
      "text/html": [
       "<div>\n",
       "<style scoped>\n",
       "    .dataframe tbody tr th:only-of-type {\n",
       "        vertical-align: middle;\n",
       "    }\n",
       "\n",
       "    .dataframe tbody tr th {\n",
       "        vertical-align: top;\n",
       "    }\n",
       "\n",
       "    .dataframe thead th {\n",
       "        text-align: right;\n",
       "    }\n",
       "</style>\n",
       "<table border=\"1\" class=\"dataframe\">\n",
       "  <thead>\n",
       "    <tr style=\"text-align: right;\">\n",
       "      <th></th>\n",
       "      <th>id</th>\n",
       "      <th>prompt</th>\n",
       "      <th>answer</th>\n",
       "      <th>template</th>\n",
       "      <th>leaderboard</th>\n",
       "    </tr>\n",
       "  </thead>\n",
       "  <tbody>\n",
       "    <tr>\n",
       "      <th>count</th>\n",
       "      <td>595</td>\n",
       "      <td>595</td>\n",
       "      <td>595</td>\n",
       "      <td>595</td>\n",
       "      <td>595</td>\n",
       "    </tr>\n",
       "    <tr>\n",
       "      <th>unique</th>\n",
       "      <td>595</td>\n",
       "      <td>595</td>\n",
       "      <td>243</td>\n",
       "      <td>1</td>\n",
       "      <td>2</td>\n",
       "    </tr>\n",
       "    <tr>\n",
       "      <th>top</th>\n",
       "      <td>2006.04026v1.pdf</td>\n",
       "      <td>SharinGAN: Combining Synthetic and Real Data f...</td>\n",
       "      <td>unanswerable</td>\n",
       "      <td>drop_3</td>\n",
       "      <td>no_lb</td>\n",
       "    </tr>\n",
       "    <tr>\n",
       "      <th>freq</th>\n",
       "      <td>1</td>\n",
       "      <td>1</td>\n",
       "      <td>353</td>\n",
       "      <td>595</td>\n",
       "      <td>353</td>\n",
       "    </tr>\n",
       "  </tbody>\n",
       "</table>\n",
       "</div>"
      ],
      "text/plain": [
       "                      id                                             prompt  \\\n",
       "count                595                                                595   \n",
       "unique               595                                                595   \n",
       "top     2006.04026v1.pdf  SharinGAN: Combining Synthetic and Real Data f...   \n",
       "freq                   1                                                  1   \n",
       "\n",
       "              answer template leaderboard  \n",
       "count            595      595         595  \n",
       "unique           243        1           2  \n",
       "top     unanswerable   drop_3       no_lb  \n",
       "freq             353      595         353  "
      ]
     },
     "execution_count": 11,
     "metadata": {},
     "output_type": "execute_result"
    }
   ],
   "source": [
    "# Filtering the DataFrame\n",
    "dfs['zeroshot'] = zeroshot_concat.copy()\n",
    "\n",
    "dfs['zeroshot'] = dfs['zeroshot'][~dfs['zeroshot']['id'].isin(zeroshot_papers_to_drop['tdm'])]\n",
    "\n",
    "# dfs.loc[condition, 'column_to_modify'] = new_value\n",
    "# dfs['zeroshot'] = dfs['zeroshot'].loc[~(dfs['zeroshot'].loc['id'].isin(zeroshot_papers_to_drop['tdm'])), :]\n",
    "\n",
    "dfs['zeroshot'].drop_duplicates(subset='id', inplace=True)\n",
    "dfs['zeroshot'].drop([\"prompt lenght\", \"__index_level_0__\"], axis=1).describe()"
   ]
  },
  {
   "cell_type": "code",
   "execution_count": 12,
   "id": "3c901fe6",
   "metadata": {},
   "outputs": [
    {
     "data": {
      "text/html": [
       "<div>\n",
       "<style scoped>\n",
       "    .dataframe tbody tr th:only-of-type {\n",
       "        vertical-align: middle;\n",
       "    }\n",
       "\n",
       "    .dataframe tbody tr th {\n",
       "        vertical-align: top;\n",
       "    }\n",
       "\n",
       "    .dataframe thead th {\n",
       "        text-align: right;\n",
       "    }\n",
       "</style>\n",
       "<table border=\"1\" class=\"dataframe\">\n",
       "  <thead>\n",
       "    <tr style=\"text-align: right;\">\n",
       "      <th></th>\n",
       "      <th>id</th>\n",
       "      <th>prompt</th>\n",
       "      <th>answer</th>\n",
       "      <th>template</th>\n",
       "      <th>leaderboard</th>\n",
       "    </tr>\n",
       "  </thead>\n",
       "  <tbody>\n",
       "    <tr>\n",
       "      <th>count</th>\n",
       "      <td>1105</td>\n",
       "      <td>1105</td>\n",
       "      <td>1105</td>\n",
       "      <td>1105</td>\n",
       "      <td>1105</td>\n",
       "    </tr>\n",
       "    <tr>\n",
       "      <th>unique</th>\n",
       "      <td>1105</td>\n",
       "      <td>1105</td>\n",
       "      <td>661</td>\n",
       "      <td>1</td>\n",
       "      <td>2</td>\n",
       "    </tr>\n",
       "    <tr>\n",
       "      <th>top</th>\n",
       "      <td>1810.02575v1.pdf</td>\n",
       "      <td>Dark Model Adaptation: Semantic Image Segmenta...</td>\n",
       "      <td>unanswerable</td>\n",
       "      <td>drop_3</td>\n",
       "      <td>lb</td>\n",
       "    </tr>\n",
       "    <tr>\n",
       "      <th>freq</th>\n",
       "      <td>1</td>\n",
       "      <td>1</td>\n",
       "      <td>444</td>\n",
       "      <td>1105</td>\n",
       "      <td>661</td>\n",
       "    </tr>\n",
       "  </tbody>\n",
       "</table>\n",
       "</div>"
      ],
      "text/plain": [
       "                      id                                             prompt  \\\n",
       "count               1105                                               1105   \n",
       "unique              1105                                               1105   \n",
       "top     1810.02575v1.pdf  Dark Model Adaptation: Semantic Image Segmenta...   \n",
       "freq                   1                                                  1   \n",
       "\n",
       "              answer template leaderboard  \n",
       "count           1105     1105        1105  \n",
       "unique           661        1           2  \n",
       "top     unanswerable   drop_3          lb  \n",
       "freq             444     1105         661  "
      ]
     },
     "execution_count": 12,
     "metadata": {},
     "output_type": "execute_result"
    }
   ],
   "source": [
    "# Filtering the DataFrame\n",
    "dfs['validation'] = validation_concat.copy()\n",
    "# I want to keep all the no leaderboard papers in validation \n",
    "dfs['validation'] = dfs['validation'][(dfs['validation']['id'].isin(validation_papers_to_drop['tdm'])) | (dfs['validation']['leaderboard']==\"no_lb\")]\n",
    "dfs['validation'].drop_duplicates(subset='id', inplace=True)\n",
    "dfs['validation'].drop([\"prompt lenght\", \"__index_level_0__\"], axis=1).describe()"
   ]
  },
  {
   "cell_type": "code",
   "execution_count": 13,
   "id": "f3c554ea",
   "metadata": {},
   "outputs": [
    {
     "name": "stderr",
     "output_type": "stream",
     "text": [
      "100%|██████████| 595/595 [00:00<00:00, 8986.07it/s]\n"
     ]
    },
    {
     "name": "stdout",
     "output_type": "stream",
     "text": [
      "Missed_parsing_zero 0\n",
      "Lenght papers_to_drop in zeroshot based on train Title ID: 0\n",
      "Lenght papers_to_drop in zeroshot based on train TDM Match: 0\n",
      "Lenght papers from zeroshot with lb: 242\n",
      "Lenght papers from zeroshot with no_lb: 353\n",
      "Lenght papers from train with lb: 7025\n",
      "Lenght papers from train with no_lb: 3033\n",
      "\n",
      "validation\n",
      "\n"
     ]
    },
    {
     "name": "stderr",
     "output_type": "stream",
     "text": [
      "100%|██████████| 1105/1105 [00:00<00:00, 8575.82it/s]"
     ]
    },
    {
     "name": "stdout",
     "output_type": "stream",
     "text": [
      "Missed_parsing_zero 0\n",
      "Lenght papers_to_drop in validation based on train Title ID: 0\n",
      "Lenght papers_to_drop in validation based on train TDM Match: 661\n",
      "Lenght papers from validation with lb: 661\n",
      "Lenght papers from validation with no_lb: 444\n",
      "Lenght papers from train with lb: 7025\n",
      "Lenght papers from train with no_lb: 3033\n"
     ]
    },
    {
     "name": "stderr",
     "output_type": "stream",
     "text": [
      "\n"
     ]
    }
   ],
   "source": [
    "zeroshot_papers_to_drop = remove_data_leakage(dfs, source=\"zeroshot\", target=\"train\", THRESHOLD=90)\n",
    "print(\"\\nvalidation\\n\")\n",
    "validation_papers_to_drop = remove_data_leakage(dfs, source=\"validation\", target=\"train\", THRESHOLD=90)"
   ]
  },
  {
   "cell_type": "code",
   "execution_count": 14,
   "id": "8ca83864",
   "metadata": {},
   "outputs": [
    {
     "data": {
      "text/html": [
       "<div>\n",
       "<style scoped>\n",
       "    .dataframe tbody tr th:only-of-type {\n",
       "        vertical-align: middle;\n",
       "    }\n",
       "\n",
       "    .dataframe tbody tr th {\n",
       "        vertical-align: top;\n",
       "    }\n",
       "\n",
       "    .dataframe thead th {\n",
       "        text-align: right;\n",
       "    }\n",
       "</style>\n",
       "<table border=\"1\" class=\"dataframe\">\n",
       "  <thead>\n",
       "    <tr style=\"text-align: right;\">\n",
       "      <th></th>\n",
       "      <th>id</th>\n",
       "      <th>prompt</th>\n",
       "      <th>answer</th>\n",
       "      <th>template</th>\n",
       "      <th>leaderboard</th>\n",
       "    </tr>\n",
       "  </thead>\n",
       "  <tbody>\n",
       "    <tr>\n",
       "      <th>count</th>\n",
       "      <td>10058</td>\n",
       "      <td>10058</td>\n",
       "      <td>10058</td>\n",
       "      <td>10058</td>\n",
       "      <td>10058</td>\n",
       "    </tr>\n",
       "    <tr>\n",
       "      <th>unique</th>\n",
       "      <td>10058</td>\n",
       "      <td>10004</td>\n",
       "      <td>7016</td>\n",
       "      <td>1</td>\n",
       "      <td>2</td>\n",
       "    </tr>\n",
       "    <tr>\n",
       "      <th>top</th>\n",
       "      <td>1707.03497v2.pdf</td>\n",
       "      <td>Author Guidelines for ECCV Submission The abst...</td>\n",
       "      <td>unanswerable</td>\n",
       "      <td>drop_3</td>\n",
       "      <td>lb</td>\n",
       "    </tr>\n",
       "    <tr>\n",
       "      <th>freq</th>\n",
       "      <td>1</td>\n",
       "      <td>7</td>\n",
       "      <td>3033</td>\n",
       "      <td>10058</td>\n",
       "      <td>7025</td>\n",
       "    </tr>\n",
       "  </tbody>\n",
       "</table>\n",
       "</div>"
      ],
      "text/plain": [
       "                      id                                             prompt  \\\n",
       "count              10058                                              10058   \n",
       "unique             10058                                              10004   \n",
       "top     1707.03497v2.pdf  Author Guidelines for ECCV Submission The abst...   \n",
       "freq                   1                                                  7   \n",
       "\n",
       "              answer template leaderboard  \n",
       "count          10058    10058       10058  \n",
       "unique          7016        1           2  \n",
       "top     unanswerable   drop_3          lb  \n",
       "freq            3033    10058        7025  "
      ]
     },
     "execution_count": 14,
     "metadata": {},
     "output_type": "execute_result"
    }
   ],
   "source": [
    "# Filtering the DataFrame\n",
    "dfs['train'].drop_duplicates(subset='id', inplace=True)\n",
    "dfs['train'].drop([\"prompt lenght\", \"__index_level_0__\"], axis=1).describe()"
   ]
  },
  {
   "cell_type": "code",
   "execution_count": 15,
   "id": "348512dc",
   "metadata": {},
   "outputs": [],
   "source": [
    "dfs['train'].drop([\"__index_level_0__\"], inplace=True, axis=1)\n",
    "dfs['validation'].drop([\"__index_level_0__\"], inplace=True, axis=1)\n",
    "dfs['zeroshot'].drop([\"__index_level_0__\"], inplace=True, axis=1)"
   ]
  },
  {
   "cell_type": "code",
   "execution_count": 16,
   "id": "77c86308",
   "metadata": {},
   "outputs": [
    {
     "data": {
      "text/html": [
       "<div>\n",
       "<style scoped>\n",
       "    .dataframe tbody tr th:only-of-type {\n",
       "        vertical-align: middle;\n",
       "    }\n",
       "\n",
       "    .dataframe tbody tr th {\n",
       "        vertical-align: top;\n",
       "    }\n",
       "\n",
       "    .dataframe thead th {\n",
       "        text-align: right;\n",
       "    }\n",
       "</style>\n",
       "<table border=\"1\" class=\"dataframe\">\n",
       "  <thead>\n",
       "    <tr style=\"text-align: right;\">\n",
       "      <th></th>\n",
       "      <th>id</th>\n",
       "      <th>prompt</th>\n",
       "      <th>answer</th>\n",
       "      <th>template</th>\n",
       "      <th>prompt lenght</th>\n",
       "      <th>leaderboard</th>\n",
       "    </tr>\n",
       "  </thead>\n",
       "  <tbody>\n",
       "    <tr>\n",
       "      <th>150795</th>\n",
       "      <td>1401.6576.pdf</td>\n",
       "      <td>Adding modular predicates to first-order fragm...</td>\n",
       "      <td>unanswerable</td>\n",
       "      <td>drop_3</td>\n",
       "      <td>206</td>\n",
       "      <td>no_lb</td>\n",
       "    </tr>\n",
       "    <tr>\n",
       "      <th>150810</th>\n",
       "      <td>1304.4691.pdf</td>\n",
       "      <td>Efficient Calculation of Determinants of Symbo...</td>\n",
       "      <td>unanswerable</td>\n",
       "      <td>drop_3</td>\n",
       "      <td>128</td>\n",
       "      <td>no_lb</td>\n",
       "    </tr>\n",
       "    <tr>\n",
       "      <th>150825</th>\n",
       "      <td>1001.3388.pdf</td>\n",
       "      <td>Approximate Privacy: PARs for Set Problems In ...</td>\n",
       "      <td>unanswerable</td>\n",
       "      <td>drop_3</td>\n",
       "      <td>183</td>\n",
       "      <td>no_lb</td>\n",
       "    </tr>\n",
       "    <tr>\n",
       "      <th>150840</th>\n",
       "      <td>0706.2010.pdf</td>\n",
       "      <td>Information-theoretic securitywithout an hones...</td>\n",
       "      <td>unanswerable</td>\n",
       "      <td>drop_3</td>\n",
       "      <td>131</td>\n",
       "      <td>no_lb</td>\n",
       "    </tr>\n",
       "    <tr>\n",
       "      <th>150855</th>\n",
       "      <td>1111.2942.pdf</td>\n",
       "      <td>Down the Rabbit Hole: Robust Proximity Search ...</td>\n",
       "      <td>unanswerable</td>\n",
       "      <td>drop_3</td>\n",
       "      <td>232</td>\n",
       "      <td>no_lb</td>\n",
       "    </tr>\n",
       "  </tbody>\n",
       "</table>\n",
       "</div>"
      ],
      "text/plain": [
       "                   id                                             prompt  \\\n",
       "150795  1401.6576.pdf  Adding modular predicates to first-order fragm...   \n",
       "150810  1304.4691.pdf  Efficient Calculation of Determinants of Symbo...   \n",
       "150825  1001.3388.pdf  Approximate Privacy: PARs for Set Problems In ...   \n",
       "150840  0706.2010.pdf  Information-theoretic securitywithout an hones...   \n",
       "150855  1111.2942.pdf  Down the Rabbit Hole: Robust Proximity Search ...   \n",
       "\n",
       "              answer template  prompt lenght leaderboard  \n",
       "150795  unanswerable   drop_3            206       no_lb  \n",
       "150810  unanswerable   drop_3            128       no_lb  \n",
       "150825  unanswerable   drop_3            183       no_lb  \n",
       "150840  unanswerable   drop_3            131       no_lb  \n",
       "150855  unanswerable   drop_3            232       no_lb  "
      ]
     },
     "execution_count": 16,
     "metadata": {},
     "output_type": "execute_result"
    }
   ],
   "source": [
    "dfs['train'].tail()"
   ]
  },
  {
   "cell_type": "code",
   "execution_count": 17,
   "id": "65001ec0",
   "metadata": {},
   "outputs": [
    {
     "data": {
      "image/png": "[encoded data removed]",
      "text/plain": [
       "<Figure size 576x576 with 1 Axes>"
      ]
     },
     "metadata": {},
     "output_type": "display_data"
    },
    {
     "data": {
      "image/png": "[encoded data removed]",
      "text/plain": [
       "<Figure size 576x576 with 1 Axes>"
      ]
     },
     "metadata": {},
     "output_type": "display_data"
    },
    {
     "data": {
      "image/png": "[encoded data removed]",
      "text/plain": [
       "<Figure size 576x576 with 1 Axes>"
      ]
     },
     "metadata": {},
     "output_type": "display_data"
    }
   ],
   "source": [
    "view_leaderboard_distribution(dfs)"
   ]
  },
  {
   "cell_type": "code",
   "execution_count": 18,
   "id": "4f00a9fb",
   "metadata": {},
   "outputs": [
    {
     "name": "stdout",
     "output_type": "stream",
     "text": [
      "zeroshot_paper_in_train: 0\n",
      "zeroshot_paper_in_validation: 353\n",
      "validation_paper_in_train: 0\n",
      "validation_paper_in_zeroshot: 353\n"
     ]
    }
   ],
   "source": [
    "verify_data_integrity(dfs)"
   ]
  },
  {
   "cell_type": "code",
   "execution_count": 19,
   "id": "02868e5e",
   "metadata": {},
   "outputs": [
    {
     "name": "stdout",
     "output_type": "stream",
     "text": [
      "zeroshot_paper_in_train: 0\n",
      "zeroshot_paper_in_validation: 0\n",
      "validation_paper_in_train: 0\n",
      "validation_paper_in_zeroshot: 0\n"
     ]
    }
   ],
   "source": [
    "# no leaderboard paper can be shared between few-shot and zero-shot\n",
    "verify_data_integrity(dfs, include_no_lb=False)"
   ]
  },
  {
   "cell_type": "code",
   "execution_count": 20,
   "id": "600ce69a",
   "metadata": {},
   "outputs": [
    {
     "data": {
      "application/vnd.jupyter.widget-view+json": {
       "model_id": "cfb277df9e2141c788225f983995931c",
       "version_major": 2,
       "version_minor": 0
      },
      "text/plain": [
       "Saving the dataset (0/1 shards):   0%|          | 0/10058 [00:00<?, ? examples/s]"
      ]
     },
     "metadata": {},
     "output_type": "display_data"
    },
    {
     "data": {
      "application/vnd.jupyter.widget-view+json": {
       "model_id": "a10c25b89f1c4c009f71c25c3993dcf9",
       "version_major": 2,
       "version_minor": 0
      },
      "text/plain": [
       "Saving the dataset (0/1 shards):   0%|          | 0/1105 [00:00<?, ? examples/s]"
      ]
     },
     "metadata": {},
     "output_type": "display_data"
    },
    {
     "data": {
      "application/vnd.jupyter.widget-view+json": {
       "model_id": "2de02f7a439d4214acf4a5f0a9381b99",
       "version_major": 2,
       "version_minor": 0
      },
      "text/plain": [
       "Saving the dataset (0/1 shards):   0%|          | 0/595 [00:00<?, ? examples/s]"
      ]
     },
     "metadata": {},
     "output_type": "display_data"
    }
   ],
   "source": [
    "dataset = DatasetDict({\n",
    "        \"train\": Dataset.from_pandas(dfs['train']),\n",
    "        \"validation\": Dataset.from_pandas(dfs['validation']),\n",
    "        \"zeroshot\": Dataset.from_pandas(dfs['zeroshot'])\n",
    "    })\n",
    "\n",
    "dataset.save_to_disk(\"../data/LEADERBOARDS_DOCTEAT_TDMS_NO_TEMPLATES_STRICT\")"
   ]
  },
  {
   "cell_type": "markdown",
   "id": "5f8dd205",
   "metadata": {},
   "source": [
    "### Template Specific"
   ]
  },
  {
   "cell_type": "code",
   "execution_count": 22,
   "id": "f452d2d9",
   "metadata": {},
   "outputs": [
    {
     "name": "stdout",
     "output_type": "stream",
     "text": [
      "SQUAD: 1\n",
      "\n",
      "Zeroshot\n",
      "\n"
     ]
    },
    {
     "name": "stderr",
     "output_type": "stream",
     "text": [
      "100%|██████████| 926/926 [00:00<00:00, 5868.06it/s]\n"
     ]
    },
    {
     "name": "stdout",
     "output_type": "stream",
     "text": [
      "Missed_parsing_zero 0\n",
      "Lenght papers_to_drop in zeroshot based on train Title ID: 518\n",
      "Lenght papers_to_drop in zeroshot based on train TDM Match: 44\n",
      "Lenght papers from zeroshot with lb: 573\n",
      "Lenght papers from zeroshot with no_lb: 353\n",
      "Lenght papers from train with lb: 7025\n",
      "Lenght papers from train with no_lb: 3033\n",
      "\n",
      "validation\n",
      "\n"
     ]
    },
    {
     "name": "stderr",
     "output_type": "stream",
     "text": [
      "100%|██████████| 1347/1347 [00:00<00:00, 8150.67it/s]\n"
     ]
    },
    {
     "name": "stdout",
     "output_type": "stream",
     "text": [
      "Missed_parsing_zero 0\n",
      "Lenght papers_to_drop in validation based on train Title ID: 0\n",
      "Lenght papers_to_drop in validation based on train TDM Match: 661\n",
      "Lenght papers from validation with lb: 903\n",
      "Lenght papers from validation with no_lb: 444\n",
      "Lenght papers from train with lb: 7025\n",
      "Lenght papers from train with no_lb: 3033\n",
      "len(dfs['zeroshot']): 926\n",
      "len(dfs['validation']): 1347\n",
      "len(dfs['zeroshot']): 408\n",
      "len(dfs['validation']): 1347\n",
      "\n",
      "Zeroshot\n",
      "\n"
     ]
    },
    {
     "name": "stderr",
     "output_type": "stream",
     "text": [
      "100%|██████████| 408/408 [00:00<00:00, 10623.50it/s]\n"
     ]
    },
    {
     "name": "stdout",
     "output_type": "stream",
     "text": [
      "Missed_parsing_zero 0\n",
      "Lenght papers_to_drop in zeroshot based on train Title ID: 0\n",
      "Lenght papers_to_drop in zeroshot based on train TDM Match: 44\n",
      "Lenght papers from zeroshot with lb: 55\n",
      "Lenght papers from zeroshot with no_lb: 353\n",
      "Lenght papers from train with lb: 7025\n",
      "Lenght papers from train with no_lb: 3033\n",
      "\n",
      "validation\n",
      "\n"
     ]
    },
    {
     "name": "stderr",
     "output_type": "stream",
     "text": [
      "100%|██████████| 1347/1347 [00:00<00:00, 8160.78it/s]\n"
     ]
    },
    {
     "name": "stdout",
     "output_type": "stream",
     "text": [
      "Missed_parsing_zero 0\n",
      "Lenght papers_to_drop in validation based on train Title ID: 0\n",
      "Lenght papers_to_drop in validation based on train TDM Match: 661\n",
      "Lenght papers from validation with lb: 903\n",
      "Lenght papers from validation with no_lb: 444\n",
      "Lenght papers from train with lb: 7025\n",
      "Lenght papers from train with no_lb: 3033\n",
      "len(zeroshot_concat): 650\n",
      "len(validation_concat): 1391\n",
      "\n",
      "Zeroshot\n",
      "\n"
     ]
    },
    {
     "name": "stderr",
     "output_type": "stream",
     "text": [
      "100%|██████████| 595/595 [00:00<00:00, 9033.26it/s]\n"
     ]
    },
    {
     "name": "stdout",
     "output_type": "stream",
     "text": [
      "Missed_parsing_zero 0\n",
      "Lenght papers_to_drop in zeroshot based on train Title ID: 0\n",
      "Lenght papers_to_drop in zeroshot based on train TDM Match: 0\n",
      "Lenght papers from zeroshot with lb: 242\n",
      "Lenght papers from zeroshot with no_lb: 353\n",
      "Lenght papers from train with lb: 7025\n",
      "Lenght papers from train with no_lb: 3033\n",
      "\n",
      "validation\n",
      "\n"
     ]
    },
    {
     "name": "stderr",
     "output_type": "stream",
     "text": [
      "100%|██████████| 1105/1105 [00:00<00:00, 8560.39it/s]\n"
     ]
    },
    {
     "name": "stdout",
     "output_type": "stream",
     "text": [
      "Missed_parsing_zero 0\n",
      "Lenght papers_to_drop in validation based on train Title ID: 0\n",
      "Lenght papers_to_drop in validation based on train TDM Match: 661\n",
      "Lenght papers from validation with lb: 661\n",
      "Lenght papers from validation with no_lb: 444\n",
      "Lenght papers from train with lb: 7025\n",
      "Lenght papers from train with no_lb: 3033\n",
      "zeroshot_paper_in_train: 0\n",
      "zeroshot_paper_in_validation: 0\n",
      "validation_paper_in_train: 0\n",
      "validation_paper_in_zeroshot: 0\n"
     ]
    },
    {
     "data": {
      "text/html": [
       "<div>\n",
       "<style scoped>\n",
       "    .dataframe tbody tr th:only-of-type {\n",
       "        vertical-align: middle;\n",
       "    }\n",
       "\n",
       "    .dataframe tbody tr th {\n",
       "        vertical-align: top;\n",
       "    }\n",
       "\n",
       "    .dataframe thead th {\n",
       "        text-align: right;\n",
       "    }\n",
       "</style>\n",
       "<table border=\"1\" class=\"dataframe\">\n",
       "  <thead>\n",
       "    <tr style=\"text-align: right;\">\n",
       "      <th></th>\n",
       "      <th>id</th>\n",
       "      <th>prompt</th>\n",
       "      <th>answer</th>\n",
       "      <th>template</th>\n",
       "      <th>leaderboard</th>\n",
       "    </tr>\n",
       "  </thead>\n",
       "  <tbody>\n",
       "    <tr>\n",
       "      <th>count</th>\n",
       "      <td>595</td>\n",
       "      <td>595</td>\n",
       "      <td>595</td>\n",
       "      <td>595</td>\n",
       "      <td>595</td>\n",
       "    </tr>\n",
       "    <tr>\n",
       "      <th>unique</th>\n",
       "      <td>595</td>\n",
       "      <td>595</td>\n",
       "      <td>243</td>\n",
       "      <td>1</td>\n",
       "      <td>2</td>\n",
       "    </tr>\n",
       "    <tr>\n",
       "      <th>top</th>\n",
       "      <td>2006.04026v1.pdf</td>\n",
       "      <td>SharinGAN: Combining Synthetic and Real Data f...</td>\n",
       "      <td>unanswerable</td>\n",
       "      <td>squad_1</td>\n",
       "      <td>no_lb</td>\n",
       "    </tr>\n",
       "    <tr>\n",
       "      <th>freq</th>\n",
       "      <td>1</td>\n",
       "      <td>1</td>\n",
       "      <td>353</td>\n",
       "      <td>595</td>\n",
       "      <td>353</td>\n",
       "    </tr>\n",
       "  </tbody>\n",
       "</table>\n",
       "</div>"
      ],
      "text/plain": [
       "                      id                                             prompt  \\\n",
       "count                595                                                595   \n",
       "unique               595                                                595   \n",
       "top     2006.04026v1.pdf  SharinGAN: Combining Synthetic and Real Data f...   \n",
       "freq                   1                                                  1   \n",
       "\n",
       "              answer template leaderboard  \n",
       "count            595      595         595  \n",
       "unique           243        1           2  \n",
       "top     unanswerable  squad_1       no_lb  \n",
       "freq             353      595         353  "
      ]
     },
     "metadata": {},
     "output_type": "display_data"
    },
    {
     "data": {
      "application/vnd.jupyter.widget-view+json": {
       "model_id": "2111481576e043aa86442cd36fd436f7",
       "version_major": 2,
       "version_minor": 0
      },
      "text/plain": [
       "Saving the dataset (0/1 shards):   0%|          | 0/10058 [00:00<?, ? examples/s]"
      ]
     },
     "metadata": {},
     "output_type": "display_data"
    },
    {
     "data": {
      "application/vnd.jupyter.widget-view+json": {
       "model_id": "0f0f84fcf9e94af19a40b8f6b8afd1fe",
       "version_major": 2,
       "version_minor": 0
      },
      "text/plain": [
       "Saving the dataset (0/1 shards):   0%|          | 0/1105 [00:00<?, ? examples/s]"
      ]
     },
     "metadata": {},
     "output_type": "display_data"
    },
    {
     "data": {
      "application/vnd.jupyter.widget-view+json": {
       "model_id": "10bc7bac4efc46ac87db2946d4ec7398",
       "version_major": 2,
       "version_minor": 0
      },
      "text/plain": [
       "Saving the dataset (0/1 shards):   0%|          | 0/595 [00:00<?, ? examples/s]"
      ]
     },
     "metadata": {},
     "output_type": "display_data"
    },
    {
     "name": "stdout",
     "output_type": "stream",
     "text": [
      "SQUAD: 2\n",
      "\n",
      "Zeroshot\n",
      "\n"
     ]
    },
    {
     "name": "stderr",
     "output_type": "stream",
     "text": [
      "100%|██████████| 926/926 [00:00<00:00, 11688.50it/s]\n"
     ]
    },
    {
     "name": "stdout",
     "output_type": "stream",
     "text": [
      "Missed_parsing_zero 0\n",
      "Lenght papers_to_drop in zeroshot based on train Title ID: 518\n",
      "Lenght papers_to_drop in zeroshot based on train TDM Match: 44\n",
      "Lenght papers from zeroshot with lb: 573\n",
      "Lenght papers from zeroshot with no_lb: 353\n",
      "Lenght papers from train with lb: 7025\n",
      "Lenght papers from train with no_lb: 3033\n",
      "\n",
      "validation\n",
      "\n"
     ]
    },
    {
     "name": "stderr",
     "output_type": "stream",
     "text": [
      "100%|██████████| 1347/1347 [00:00<00:00, 8038.69it/s]\n"
     ]
    },
    {
     "name": "stdout",
     "output_type": "stream",
     "text": [
      "Missed_parsing_zero 0\n",
      "Lenght papers_to_drop in validation based on train Title ID: 0\n",
      "Lenght papers_to_drop in validation based on train TDM Match: 661\n",
      "Lenght papers from validation with lb: 903\n",
      "Lenght papers from validation with no_lb: 444\n",
      "Lenght papers from train with lb: 7025\n",
      "Lenght papers from train with no_lb: 3033\n",
      "len(dfs['zeroshot']): 926\n",
      "len(dfs['validation']): 1347\n",
      "len(dfs['zeroshot']): 408\n",
      "len(dfs['validation']): 1347\n",
      "\n",
      "Zeroshot\n",
      "\n"
     ]
    },
    {
     "name": "stderr",
     "output_type": "stream",
     "text": [
      "100%|██████████| 408/408 [00:00<00:00, 10597.25it/s]\n"
     ]
    },
    {
     "name": "stdout",
     "output_type": "stream",
     "text": [
      "Missed_parsing_zero 0\n",
      "Lenght papers_to_drop in zeroshot based on train Title ID: 0\n",
      "Lenght papers_to_drop in zeroshot based on train TDM Match: 44\n",
      "Lenght papers from zeroshot with lb: 55\n",
      "Lenght papers from zeroshot with no_lb: 353\n",
      "Lenght papers from train with lb: 7025\n",
      "Lenght papers from train with no_lb: 3033\n",
      "\n",
      "validation\n",
      "\n"
     ]
    },
    {
     "name": "stderr",
     "output_type": "stream",
     "text": [
      "100%|██████████| 1347/1347 [00:00<00:00, 8135.89it/s]\n"
     ]
    },
    {
     "name": "stdout",
     "output_type": "stream",
     "text": [
      "Missed_parsing_zero 0\n",
      "Lenght papers_to_drop in validation based on train Title ID: 0\n",
      "Lenght papers_to_drop in validation based on train TDM Match: 661\n",
      "Lenght papers from validation with lb: 903\n",
      "Lenght papers from validation with no_lb: 444\n",
      "Lenght papers from train with lb: 7025\n",
      "Lenght papers from train with no_lb: 3033\n",
      "len(zeroshot_concat): 650\n",
      "len(validation_concat): 1391\n",
      "\n",
      "Zeroshot\n",
      "\n"
     ]
    },
    {
     "name": "stderr",
     "output_type": "stream",
     "text": [
      "100%|██████████| 595/595 [00:00<00:00, 8969.63it/s]\n"
     ]
    },
    {
     "name": "stdout",
     "output_type": "stream",
     "text": [
      "Missed_parsing_zero 0\n",
      "Lenght papers_to_drop in zeroshot based on train Title ID: 0\n",
      "Lenght papers_to_drop in zeroshot based on train TDM Match: 0\n",
      "Lenght papers from zeroshot with lb: 242\n",
      "Lenght papers from zeroshot with no_lb: 353\n",
      "Lenght papers from train with lb: 7025\n",
      "Lenght papers from train with no_lb: 3033\n",
      "\n",
      "validation\n",
      "\n"
     ]
    },
    {
     "name": "stderr",
     "output_type": "stream",
     "text": [
      "100%|██████████| 1105/1105 [00:00<00:00, 8718.16it/s]\n"
     ]
    },
    {
     "name": "stdout",
     "output_type": "stream",
     "text": [
      "Missed_parsing_zero 0\n",
      "Lenght papers_to_drop in validation based on train Title ID: 0\n",
      "Lenght papers_to_drop in validation based on train TDM Match: 661\n",
      "Lenght papers from validation with lb: 661\n",
      "Lenght papers from validation with no_lb: 444\n",
      "Lenght papers from train with lb: 7025\n",
      "Lenght papers from train with no_lb: 3033\n",
      "zeroshot_paper_in_train: 0\n",
      "zeroshot_paper_in_validation: 0\n",
      "validation_paper_in_train: 0\n",
      "validation_paper_in_zeroshot: 0\n"
     ]
    },
    {
     "data": {
      "text/html": [
       "<div>\n",
       "<style scoped>\n",
       "    .dataframe tbody tr th:only-of-type {\n",
       "        vertical-align: middle;\n",
       "    }\n",
       "\n",
       "    .dataframe tbody tr th {\n",
       "        vertical-align: top;\n",
       "    }\n",
       "\n",
       "    .dataframe thead th {\n",
       "        text-align: right;\n",
       "    }\n",
       "</style>\n",
       "<table border=\"1\" class=\"dataframe\">\n",
       "  <thead>\n",
       "    <tr style=\"text-align: right;\">\n",
       "      <th></th>\n",
       "      <th>id</th>\n",
       "      <th>prompt</th>\n",
       "      <th>answer</th>\n",
       "      <th>template</th>\n",
       "      <th>leaderboard</th>\n",
       "    </tr>\n",
       "  </thead>\n",
       "  <tbody>\n",
       "    <tr>\n",
       "      <th>count</th>\n",
       "      <td>595</td>\n",
       "      <td>595</td>\n",
       "      <td>595</td>\n",
       "      <td>595</td>\n",
       "      <td>595</td>\n",
       "    </tr>\n",
       "    <tr>\n",
       "      <th>unique</th>\n",
       "      <td>595</td>\n",
       "      <td>595</td>\n",
       "      <td>243</td>\n",
       "      <td>1</td>\n",
       "      <td>2</td>\n",
       "    </tr>\n",
       "    <tr>\n",
       "      <th>top</th>\n",
       "      <td>2006.04026v1.pdf</td>\n",
       "      <td>Read this and answer the question. If the ques...</td>\n",
       "      <td>unanswerable</td>\n",
       "      <td>squad_2</td>\n",
       "      <td>no_lb</td>\n",
       "    </tr>\n",
       "    <tr>\n",
       "      <th>freq</th>\n",
       "      <td>1</td>\n",
       "      <td>1</td>\n",
       "      <td>353</td>\n",
       "      <td>595</td>\n",
       "      <td>353</td>\n",
       "    </tr>\n",
       "  </tbody>\n",
       "</table>\n",
       "</div>"
      ],
      "text/plain": [
       "                      id                                             prompt  \\\n",
       "count                595                                                595   \n",
       "unique               595                                                595   \n",
       "top     2006.04026v1.pdf  Read this and answer the question. If the ques...   \n",
       "freq                   1                                                  1   \n",
       "\n",
       "              answer template leaderboard  \n",
       "count            595      595         595  \n",
       "unique           243        1           2  \n",
       "top     unanswerable  squad_2       no_lb  \n",
       "freq             353      595         353  "
      ]
     },
     "metadata": {},
     "output_type": "display_data"
    },
    {
     "data": {
      "application/vnd.jupyter.widget-view+json": {
       "model_id": "dd4c7ba09c744374b807225dc05699a0",
       "version_major": 2,
       "version_minor": 0
      },
      "text/plain": [
       "Saving the dataset (0/1 shards):   0%|          | 0/10058 [00:00<?, ? examples/s]"
      ]
     },
     "metadata": {},
     "output_type": "display_data"
    },
    {
     "data": {
      "application/vnd.jupyter.widget-view+json": {
       "model_id": "d44f65f32a954381810d29afd95aa610",
       "version_major": 2,
       "version_minor": 0
      },
      "text/plain": [
       "Saving the dataset (0/1 shards):   0%|          | 0/1105 [00:00<?, ? examples/s]"
      ]
     },
     "metadata": {},
     "output_type": "display_data"
    },
    {
     "data": {
      "application/vnd.jupyter.widget-view+json": {
       "model_id": "573db1d836d0483682b87c65f02ad459",
       "version_major": 2,
       "version_minor": 0
      },
      "text/plain": [
       "Saving the dataset (0/1 shards):   0%|          | 0/595 [00:00<?, ? examples/s]"
      ]
     },
     "metadata": {},
     "output_type": "display_data"
    },
    {
     "name": "stdout",
     "output_type": "stream",
     "text": [
      "SQUAD: 3\n",
      "\n",
      "Zeroshot\n",
      "\n"
     ]
    },
    {
     "name": "stderr",
     "output_type": "stream",
     "text": [
      "100%|██████████| 926/926 [00:00<00:00, 5902.07it/s]\n"
     ]
    },
    {
     "name": "stdout",
     "output_type": "stream",
     "text": [
      "Missed_parsing_zero 0\n",
      "Lenght papers_to_drop in zeroshot based on train Title ID: 518\n",
      "Lenght papers_to_drop in zeroshot based on train TDM Match: 44\n",
      "Lenght papers from zeroshot with lb: 573\n",
      "Lenght papers from zeroshot with no_lb: 353\n",
      "Lenght papers from train with lb: 7025\n",
      "Lenght papers from train with no_lb: 3033\n",
      "\n",
      "validation\n",
      "\n"
     ]
    },
    {
     "name": "stderr",
     "output_type": "stream",
     "text": [
      "100%|██████████| 1347/1347 [00:00<00:00, 8064.79it/s]\n"
     ]
    },
    {
     "name": "stdout",
     "output_type": "stream",
     "text": [
      "Missed_parsing_zero 0\n",
      "Lenght papers_to_drop in validation based on train Title ID: 0\n",
      "Lenght papers_to_drop in validation based on train TDM Match: 661\n",
      "Lenght papers from validation with lb: 903\n",
      "Lenght papers from validation with no_lb: 444\n",
      "Lenght papers from train with lb: 7025\n",
      "Lenght papers from train with no_lb: 3033\n",
      "len(dfs['zeroshot']): 926\n",
      "len(dfs['validation']): 1347\n",
      "len(dfs['zeroshot']): 408\n",
      "len(dfs['validation']): 1347\n",
      "\n",
      "Zeroshot\n",
      "\n"
     ]
    },
    {
     "name": "stderr",
     "output_type": "stream",
     "text": [
      "100%|██████████| 408/408 [00:00<00:00, 10624.36it/s]\n"
     ]
    },
    {
     "name": "stdout",
     "output_type": "stream",
     "text": [
      "Missed_parsing_zero 0\n",
      "Lenght papers_to_drop in zeroshot based on train Title ID: 0\n",
      "Lenght papers_to_drop in zeroshot based on train TDM Match: 44\n",
      "Lenght papers from zeroshot with lb: 55\n",
      "Lenght papers from zeroshot with no_lb: 353\n",
      "Lenght papers from train with lb: 7025\n",
      "Lenght papers from train with no_lb: 3033\n",
      "\n",
      "validation\n",
      "\n"
     ]
    },
    {
     "name": "stderr",
     "output_type": "stream",
     "text": [
      "100%|██████████| 1347/1347 [00:00<00:00, 8088.99it/s]\n"
     ]
    },
    {
     "name": "stdout",
     "output_type": "stream",
     "text": [
      "Missed_parsing_zero 0\n",
      "Lenght papers_to_drop in validation based on train Title ID: 0\n",
      "Lenght papers_to_drop in validation based on train TDM Match: 661\n",
      "Lenght papers from validation with lb: 903\n",
      "Lenght papers from validation with no_lb: 444\n",
      "Lenght papers from train with lb: 7025\n",
      "Lenght papers from train with no_lb: 3033\n",
      "len(zeroshot_concat): 650\n",
      "len(validation_concat): 1391\n",
      "\n",
      "Zeroshot\n",
      "\n"
     ]
    },
    {
     "name": "stderr",
     "output_type": "stream",
     "text": [
      "100%|██████████| 595/595 [00:00<00:00, 8927.08it/s]\n"
     ]
    },
    {
     "name": "stdout",
     "output_type": "stream",
     "text": [
      "Missed_parsing_zero 0\n",
      "Lenght papers_to_drop in zeroshot based on train Title ID: 0\n",
      "Lenght papers_to_drop in zeroshot based on train TDM Match: 0\n",
      "Lenght papers from zeroshot with lb: 242\n",
      "Lenght papers from zeroshot with no_lb: 353\n",
      "Lenght papers from train with lb: 7025\n",
      "Lenght papers from train with no_lb: 3033\n",
      "\n",
      "validation\n",
      "\n"
     ]
    },
    {
     "name": "stderr",
     "output_type": "stream",
     "text": [
      "100%|██████████| 1105/1105 [00:00<00:00, 8576.83it/s]\n"
     ]
    },
    {
     "name": "stdout",
     "output_type": "stream",
     "text": [
      "Missed_parsing_zero 0\n",
      "Lenght papers_to_drop in validation based on train Title ID: 0\n",
      "Lenght papers_to_drop in validation based on train TDM Match: 661\n",
      "Lenght papers from validation with lb: 661\n",
      "Lenght papers from validation with no_lb: 444\n",
      "Lenght papers from train with lb: 7025\n",
      "Lenght papers from train with no_lb: 3033\n",
      "zeroshot_paper_in_train: 0\n",
      "zeroshot_paper_in_validation: 0\n",
      "validation_paper_in_train: 0\n",
      "validation_paper_in_zeroshot: 0\n"
     ]
    },
    {
     "data": {
      "text/html": [
       "<div>\n",
       "<style scoped>\n",
       "    .dataframe tbody tr th:only-of-type {\n",
       "        vertical-align: middle;\n",
       "    }\n",
       "\n",
       "    .dataframe tbody tr th {\n",
       "        vertical-align: top;\n",
       "    }\n",
       "\n",
       "    .dataframe thead th {\n",
       "        text-align: right;\n",
       "    }\n",
       "</style>\n",
       "<table border=\"1\" class=\"dataframe\">\n",
       "  <thead>\n",
       "    <tr style=\"text-align: right;\">\n",
       "      <th></th>\n",
       "      <th>id</th>\n",
       "      <th>prompt</th>\n",
       "      <th>answer</th>\n",
       "      <th>template</th>\n",
       "      <th>leaderboard</th>\n",
       "    </tr>\n",
       "  </thead>\n",
       "  <tbody>\n",
       "    <tr>\n",
       "      <th>count</th>\n",
       "      <td>595</td>\n",
       "      <td>595</td>\n",
       "      <td>595</td>\n",
       "      <td>595</td>\n",
       "      <td>595</td>\n",
       "    </tr>\n",
       "    <tr>\n",
       "      <th>unique</th>\n",
       "      <td>595</td>\n",
       "      <td>595</td>\n",
       "      <td>243</td>\n",
       "      <td>1</td>\n",
       "      <td>2</td>\n",
       "    </tr>\n",
       "    <tr>\n",
       "      <th>top</th>\n",
       "      <td>2006.04026v1.pdf</td>\n",
       "      <td>SharinGAN: Combining Synthetic and Real Data f...</td>\n",
       "      <td>unanswerable</td>\n",
       "      <td>squad_3</td>\n",
       "      <td>no_lb</td>\n",
       "    </tr>\n",
       "    <tr>\n",
       "      <th>freq</th>\n",
       "      <td>1</td>\n",
       "      <td>1</td>\n",
       "      <td>353</td>\n",
       "      <td>595</td>\n",
       "      <td>353</td>\n",
       "    </tr>\n",
       "  </tbody>\n",
       "</table>\n",
       "</div>"
      ],
      "text/plain": [
       "                      id                                             prompt  \\\n",
       "count                595                                                595   \n",
       "unique               595                                                595   \n",
       "top     2006.04026v1.pdf  SharinGAN: Combining Synthetic and Real Data f...   \n",
       "freq                   1                                                  1   \n",
       "\n",
       "              answer template leaderboard  \n",
       "count            595      595         595  \n",
       "unique           243        1           2  \n",
       "top     unanswerable  squad_3       no_lb  \n",
       "freq             353      595         353  "
      ]
     },
     "metadata": {},
     "output_type": "display_data"
    },
    {
     "data": {
      "application/vnd.jupyter.widget-view+json": {
       "model_id": "d95b210331884e85b92ef6478b755c28",
       "version_major": 2,
       "version_minor": 0
      },
      "text/plain": [
       "Saving the dataset (0/1 shards):   0%|          | 0/10058 [00:00<?, ? examples/s]"
      ]
     },
     "metadata": {},
     "output_type": "display_data"
    },
    {
     "data": {
      "application/vnd.jupyter.widget-view+json": {
       "model_id": "46df3b25b8ad47d382244aa3260e802d",
       "version_major": 2,
       "version_minor": 0
      },
      "text/plain": [
       "Saving the dataset (0/1 shards):   0%|          | 0/1105 [00:00<?, ? examples/s]"
      ]
     },
     "metadata": {},
     "output_type": "display_data"
    },
    {
     "data": {
      "application/vnd.jupyter.widget-view+json": {
       "model_id": "dd6bc1c3ce43437cbedbae046ac73bab",
       "version_major": 2,
       "version_minor": 0
      },
      "text/plain": [
       "Saving the dataset (0/1 shards):   0%|          | 0/595 [00:00<?, ? examples/s]"
      ]
     },
     "metadata": {},
     "output_type": "display_data"
    },
    {
     "name": "stdout",
     "output_type": "stream",
     "text": [
      "SQUAD: 4\n",
      "\n",
      "Zeroshot\n",
      "\n"
     ]
    },
    {
     "name": "stderr",
     "output_type": "stream",
     "text": [
      "100%|██████████| 926/926 [00:00<00:00, 11650.91it/s]\n"
     ]
    },
    {
     "name": "stdout",
     "output_type": "stream",
     "text": [
      "Missed_parsing_zero 0\n",
      "Lenght papers_to_drop in zeroshot based on train Title ID: 518\n",
      "Lenght papers_to_drop in zeroshot based on train TDM Match: 44\n",
      "Lenght papers from zeroshot with lb: 573\n",
      "Lenght papers from zeroshot with no_lb: 353\n",
      "Lenght papers from train with lb: 7025\n",
      "Lenght papers from train with no_lb: 3033\n",
      "\n",
      "validation\n",
      "\n"
     ]
    },
    {
     "name": "stderr",
     "output_type": "stream",
     "text": [
      "100%|██████████| 1347/1347 [00:00<00:00, 7988.57it/s]\n"
     ]
    },
    {
     "name": "stdout",
     "output_type": "stream",
     "text": [
      "Missed_parsing_zero 0\n",
      "Lenght papers_to_drop in validation based on train Title ID: 0\n",
      "Lenght papers_to_drop in validation based on train TDM Match: 661\n",
      "Lenght papers from validation with lb: 903\n",
      "Lenght papers from validation with no_lb: 444\n",
      "Lenght papers from train with lb: 7025\n",
      "Lenght papers from train with no_lb: 3033\n",
      "len(dfs['zeroshot']): 926\n",
      "len(dfs['validation']): 1347\n",
      "len(dfs['zeroshot']): 408\n",
      "len(dfs['validation']): 1347\n",
      "\n",
      "Zeroshot\n",
      "\n"
     ]
    },
    {
     "name": "stderr",
     "output_type": "stream",
     "text": [
      "100%|██████████| 408/408 [00:00<00:00, 10841.02it/s]\n"
     ]
    },
    {
     "name": "stdout",
     "output_type": "stream",
     "text": [
      "Missed_parsing_zero 0\n",
      "Lenght papers_to_drop in zeroshot based on train Title ID: 0\n",
      "Lenght papers_to_drop in zeroshot based on train TDM Match: 44\n",
      "Lenght papers from zeroshot with lb: 55\n",
      "Lenght papers from zeroshot with no_lb: 353\n",
      "Lenght papers from train with lb: 7025\n",
      "Lenght papers from train with no_lb: 3033\n",
      "\n",
      "validation\n",
      "\n"
     ]
    },
    {
     "name": "stderr",
     "output_type": "stream",
     "text": [
      "100%|██████████| 1347/1347 [00:00<00:00, 8015.23it/s]\n"
     ]
    },
    {
     "name": "stdout",
     "output_type": "stream",
     "text": [
      "Missed_parsing_zero 0\n",
      "Lenght papers_to_drop in validation based on train Title ID: 0\n",
      "Lenght papers_to_drop in validation based on train TDM Match: 661\n",
      "Lenght papers from validation with lb: 903\n",
      "Lenght papers from validation with no_lb: 444\n",
      "Lenght papers from train with lb: 7025\n",
      "Lenght papers from train with no_lb: 3033\n",
      "len(zeroshot_concat): 650\n",
      "len(validation_concat): 1391\n",
      "\n",
      "Zeroshot\n",
      "\n"
     ]
    },
    {
     "name": "stderr",
     "output_type": "stream",
     "text": [
      "100%|██████████| 595/595 [00:00<00:00, 8963.31it/s]\n"
     ]
    },
    {
     "name": "stdout",
     "output_type": "stream",
     "text": [
      "Missed_parsing_zero 0\n",
      "Lenght papers_to_drop in zeroshot based on train Title ID: 0\n",
      "Lenght papers_to_drop in zeroshot based on train TDM Match: 0\n",
      "Lenght papers from zeroshot with lb: 242\n",
      "Lenght papers from zeroshot with no_lb: 353\n",
      "Lenght papers from train with lb: 7025\n",
      "Lenght papers from train with no_lb: 3033\n",
      "\n",
      "validation\n",
      "\n"
     ]
    },
    {
     "name": "stderr",
     "output_type": "stream",
     "text": [
      "100%|██████████| 1105/1105 [00:00<00:00, 8526.17it/s]\n"
     ]
    },
    {
     "name": "stdout",
     "output_type": "stream",
     "text": [
      "Missed_parsing_zero 0\n",
      "Lenght papers_to_drop in validation based on train Title ID: 0\n",
      "Lenght papers_to_drop in validation based on train TDM Match: 661\n",
      "Lenght papers from validation with lb: 661\n",
      "Lenght papers from validation with no_lb: 444\n",
      "Lenght papers from train with lb: 7025\n",
      "Lenght papers from train with no_lb: 3033\n",
      "zeroshot_paper_in_train: 0\n",
      "zeroshot_paper_in_validation: 0\n",
      "validation_paper_in_train: 0\n",
      "validation_paper_in_zeroshot: 0\n"
     ]
    },
    {
     "data": {
      "text/html": [
       "<div>\n",
       "<style scoped>\n",
       "    .dataframe tbody tr th:only-of-type {\n",
       "        vertical-align: middle;\n",
       "    }\n",
       "\n",
       "    .dataframe tbody tr th {\n",
       "        vertical-align: top;\n",
       "    }\n",
       "\n",
       "    .dataframe thead th {\n",
       "        text-align: right;\n",
       "    }\n",
       "</style>\n",
       "<table border=\"1\" class=\"dataframe\">\n",
       "  <thead>\n",
       "    <tr style=\"text-align: right;\">\n",
       "      <th></th>\n",
       "      <th>id</th>\n",
       "      <th>prompt</th>\n",
       "      <th>answer</th>\n",
       "      <th>template</th>\n",
       "      <th>leaderboard</th>\n",
       "    </tr>\n",
       "  </thead>\n",
       "  <tbody>\n",
       "    <tr>\n",
       "      <th>count</th>\n",
       "      <td>595</td>\n",
       "      <td>595</td>\n",
       "      <td>595</td>\n",
       "      <td>595</td>\n",
       "      <td>595</td>\n",
       "    </tr>\n",
       "    <tr>\n",
       "      <th>unique</th>\n",
       "      <td>595</td>\n",
       "      <td>595</td>\n",
       "      <td>243</td>\n",
       "      <td>1</td>\n",
       "      <td>2</td>\n",
       "    </tr>\n",
       "    <tr>\n",
       "      <th>top</th>\n",
       "      <td>2006.04026v1.pdf</td>\n",
       "      <td>SharinGAN: Combining Synthetic and Real Data f...</td>\n",
       "      <td>unanswerable</td>\n",
       "      <td>squad_4</td>\n",
       "      <td>no_lb</td>\n",
       "    </tr>\n",
       "    <tr>\n",
       "      <th>freq</th>\n",
       "      <td>1</td>\n",
       "      <td>1</td>\n",
       "      <td>353</td>\n",
       "      <td>595</td>\n",
       "      <td>353</td>\n",
       "    </tr>\n",
       "  </tbody>\n",
       "</table>\n",
       "</div>"
      ],
      "text/plain": [
       "                      id                                             prompt  \\\n",
       "count                595                                                595   \n",
       "unique               595                                                595   \n",
       "top     2006.04026v1.pdf  SharinGAN: Combining Synthetic and Real Data f...   \n",
       "freq                   1                                                  1   \n",
       "\n",
       "              answer template leaderboard  \n",
       "count            595      595         595  \n",
       "unique           243        1           2  \n",
       "top     unanswerable  squad_4       no_lb  \n",
       "freq             353      595         353  "
      ]
     },
     "metadata": {},
     "output_type": "display_data"
    },
    {
     "data": {
      "application/vnd.jupyter.widget-view+json": {
       "model_id": "c82990b0742149bdbb3664165e23ab9b",
       "version_major": 2,
       "version_minor": 0
      },
      "text/plain": [
       "Saving the dataset (0/1 shards):   0%|          | 0/10058 [00:00<?, ? examples/s]"
      ]
     },
     "metadata": {},
     "output_type": "display_data"
    },
    {
     "data": {
      "application/vnd.jupyter.widget-view+json": {
       "model_id": "8d2d7888eb524baba676a0e6d24b4dba",
       "version_major": 2,
       "version_minor": 0
      },
      "text/plain": [
       "Saving the dataset (0/1 shards):   0%|          | 0/1105 [00:00<?, ? examples/s]"
      ]
     },
     "metadata": {},
     "output_type": "display_data"
    },
    {
     "data": {
      "application/vnd.jupyter.widget-view+json": {
       "model_id": "393446f6999c48ceb0c986ffbcaea09e",
       "version_major": 2,
       "version_minor": 0
      },
      "text/plain": [
       "Saving the dataset (0/1 shards):   0%|          | 0/595 [00:00<?, ? examples/s]"
      ]
     },
     "metadata": {},
     "output_type": "display_data"
    },
    {
     "name": "stdout",
     "output_type": "stream",
     "text": [
      "SQUAD: 5\n",
      "\n",
      "Zeroshot\n",
      "\n"
     ]
    },
    {
     "name": "stderr",
     "output_type": "stream",
     "text": [
      "100%|██████████| 926/926 [00:00<00:00, 5886.81it/s]\n"
     ]
    },
    {
     "name": "stdout",
     "output_type": "stream",
     "text": [
      "Missed_parsing_zero 0\n",
      "Lenght papers_to_drop in zeroshot based on train Title ID: 518\n",
      "Lenght papers_to_drop in zeroshot based on train TDM Match: 44\n",
      "Lenght papers from zeroshot with lb: 573\n",
      "Lenght papers from zeroshot with no_lb: 353\n",
      "Lenght papers from train with lb: 7025\n",
      "Lenght papers from train with no_lb: 3033\n",
      "\n",
      "validation\n",
      "\n"
     ]
    },
    {
     "name": "stderr",
     "output_type": "stream",
     "text": [
      "100%|██████████| 1347/1347 [00:00<00:00, 5667.13it/s]\n"
     ]
    },
    {
     "name": "stdout",
     "output_type": "stream",
     "text": [
      "Missed_parsing_zero 0\n",
      "Lenght papers_to_drop in validation based on train Title ID: 0\n",
      "Lenght papers_to_drop in validation based on train TDM Match: 661\n",
      "Lenght papers from validation with lb: 903\n",
      "Lenght papers from validation with no_lb: 444\n",
      "Lenght papers from train with lb: 7025\n",
      "Lenght papers from train with no_lb: 3033\n",
      "len(dfs['zeroshot']): 926\n",
      "len(dfs['validation']): 1347\n",
      "len(dfs['zeroshot']): 408\n",
      "len(dfs['validation']): 1347\n",
      "\n",
      "Zeroshot\n",
      "\n"
     ]
    },
    {
     "name": "stderr",
     "output_type": "stream",
     "text": [
      "100%|██████████| 408/408 [00:00<00:00, 10844.52it/s]\n"
     ]
    },
    {
     "name": "stdout",
     "output_type": "stream",
     "text": [
      "Missed_parsing_zero 0\n",
      "Lenght papers_to_drop in zeroshot based on train Title ID: 0\n",
      "Lenght papers_to_drop in zeroshot based on train TDM Match: 44\n",
      "Lenght papers from zeroshot with lb: 55\n",
      "Lenght papers from zeroshot with no_lb: 353\n",
      "Lenght papers from train with lb: 7025\n",
      "Lenght papers from train with no_lb: 3033\n",
      "\n",
      "validation\n",
      "\n"
     ]
    },
    {
     "name": "stderr",
     "output_type": "stream",
     "text": [
      "100%|██████████| 1347/1347 [00:00<00:00, 8081.64it/s]\n"
     ]
    },
    {
     "name": "stdout",
     "output_type": "stream",
     "text": [
      "Missed_parsing_zero 0\n",
      "Lenght papers_to_drop in validation based on train Title ID: 0\n",
      "Lenght papers_to_drop in validation based on train TDM Match: 661\n",
      "Lenght papers from validation with lb: 903\n",
      "Lenght papers from validation with no_lb: 444\n",
      "Lenght papers from train with lb: 7025\n",
      "Lenght papers from train with no_lb: 3033\n",
      "len(zeroshot_concat): 650\n",
      "len(validation_concat): 1391\n",
      "\n",
      "Zeroshot\n",
      "\n"
     ]
    },
    {
     "name": "stderr",
     "output_type": "stream",
     "text": [
      "100%|██████████| 595/595 [00:00<00:00, 8980.93it/s]\n"
     ]
    },
    {
     "name": "stdout",
     "output_type": "stream",
     "text": [
      "Missed_parsing_zero 0\n",
      "Lenght papers_to_drop in zeroshot based on train Title ID: 0\n",
      "Lenght papers_to_drop in zeroshot based on train TDM Match: 0\n",
      "Lenght papers from zeroshot with lb: 242\n",
      "Lenght papers from zeroshot with no_lb: 353\n",
      "Lenght papers from train with lb: 7025\n",
      "Lenght papers from train with no_lb: 3033\n",
      "\n",
      "validation\n",
      "\n"
     ]
    },
    {
     "name": "stderr",
     "output_type": "stream",
     "text": [
      "100%|██████████| 1105/1105 [00:00<00:00, 8541.91it/s]\n"
     ]
    },
    {
     "name": "stdout",
     "output_type": "stream",
     "text": [
      "Missed_parsing_zero 0\n",
      "Lenght papers_to_drop in validation based on train Title ID: 0\n",
      "Lenght papers_to_drop in validation based on train TDM Match: 661\n",
      "Lenght papers from validation with lb: 661\n",
      "Lenght papers from validation with no_lb: 444\n",
      "Lenght papers from train with lb: 7025\n",
      "Lenght papers from train with no_lb: 3033\n",
      "zeroshot_paper_in_train: 0\n",
      "zeroshot_paper_in_validation: 0\n",
      "validation_paper_in_train: 0\n",
      "validation_paper_in_zeroshot: 0\n"
     ]
    },
    {
     "data": {
      "text/html": [
       "<div>\n",
       "<style scoped>\n",
       "    .dataframe tbody tr th:only-of-type {\n",
       "        vertical-align: middle;\n",
       "    }\n",
       "\n",
       "    .dataframe tbody tr th {\n",
       "        vertical-align: top;\n",
       "    }\n",
       "\n",
       "    .dataframe thead th {\n",
       "        text-align: right;\n",
       "    }\n",
       "</style>\n",
       "<table border=\"1\" class=\"dataframe\">\n",
       "  <thead>\n",
       "    <tr style=\"text-align: right;\">\n",
       "      <th></th>\n",
       "      <th>id</th>\n",
       "      <th>prompt</th>\n",
       "      <th>answer</th>\n",
       "      <th>template</th>\n",
       "      <th>leaderboard</th>\n",
       "    </tr>\n",
       "  </thead>\n",
       "  <tbody>\n",
       "    <tr>\n",
       "      <th>count</th>\n",
       "      <td>595</td>\n",
       "      <td>595</td>\n",
       "      <td>595</td>\n",
       "      <td>595</td>\n",
       "      <td>595</td>\n",
       "    </tr>\n",
       "    <tr>\n",
       "      <th>unique</th>\n",
       "      <td>595</td>\n",
       "      <td>595</td>\n",
       "      <td>243</td>\n",
       "      <td>1</td>\n",
       "      <td>2</td>\n",
       "    </tr>\n",
       "    <tr>\n",
       "      <th>top</th>\n",
       "      <td>2006.04026v1.pdf</td>\n",
       "      <td>SharinGAN: Combining Synthetic and Real Data f...</td>\n",
       "      <td>unanswerable</td>\n",
       "      <td>squad_5</td>\n",
       "      <td>no_lb</td>\n",
       "    </tr>\n",
       "    <tr>\n",
       "      <th>freq</th>\n",
       "      <td>1</td>\n",
       "      <td>1</td>\n",
       "      <td>353</td>\n",
       "      <td>595</td>\n",
       "      <td>353</td>\n",
       "    </tr>\n",
       "  </tbody>\n",
       "</table>\n",
       "</div>"
      ],
      "text/plain": [
       "                      id                                             prompt  \\\n",
       "count                595                                                595   \n",
       "unique               595                                                595   \n",
       "top     2006.04026v1.pdf  SharinGAN: Combining Synthetic and Real Data f...   \n",
       "freq                   1                                                  1   \n",
       "\n",
       "              answer template leaderboard  \n",
       "count            595      595         595  \n",
       "unique           243        1           2  \n",
       "top     unanswerable  squad_5       no_lb  \n",
       "freq             353      595         353  "
      ]
     },
     "metadata": {},
     "output_type": "display_data"
    },
    {
     "data": {
      "application/vnd.jupyter.widget-view+json": {
       "model_id": "0aa1ab84e7d947cdaba6591abd780285",
       "version_major": 2,
       "version_minor": 0
      },
      "text/plain": [
       "Saving the dataset (0/1 shards):   0%|          | 0/10058 [00:00<?, ? examples/s]"
      ]
     },
     "metadata": {},
     "output_type": "display_data"
    },
    {
     "data": {
      "application/vnd.jupyter.widget-view+json": {
       "model_id": "fb56486da5cd45bc8fa8e191fb343bca",
       "version_major": 2,
       "version_minor": 0
      },
      "text/plain": [
       "Saving the dataset (0/1 shards):   0%|          | 0/1105 [00:00<?, ? examples/s]"
      ]
     },
     "metadata": {},
     "output_type": "display_data"
    },
    {
     "data": {
      "application/vnd.jupyter.widget-view+json": {
       "model_id": "1c203ea1b873433b9810c096416dc97a",
       "version_major": 2,
       "version_minor": 0
      },
      "text/plain": [
       "Saving the dataset (0/1 shards):   0%|          | 0/595 [00:00<?, ? examples/s]"
      ]
     },
     "metadata": {},
     "output_type": "display_data"
    },
    {
     "name": "stdout",
     "output_type": "stream",
     "text": [
      "SQUAD: 6\n",
      "\n",
      "Zeroshot\n",
      "\n"
     ]
    },
    {
     "name": "stderr",
     "output_type": "stream",
     "text": [
      "100%|██████████| 926/926 [00:00<00:00, 5843.64it/s]\n"
     ]
    },
    {
     "name": "stdout",
     "output_type": "stream",
     "text": [
      "Missed_parsing_zero 0\n",
      "Lenght papers_to_drop in zeroshot based on train Title ID: 518\n",
      "Lenght papers_to_drop in zeroshot based on train TDM Match: 44\n",
      "Lenght papers from zeroshot with lb: 573\n",
      "Lenght papers from zeroshot with no_lb: 353\n",
      "Lenght papers from train with lb: 7025\n",
      "Lenght papers from train with no_lb: 3033\n",
      "\n",
      "validation\n",
      "\n"
     ]
    },
    {
     "name": "stderr",
     "output_type": "stream",
     "text": [
      "100%|██████████| 1347/1347 [00:00<00:00, 5605.42it/s]\n"
     ]
    },
    {
     "name": "stdout",
     "output_type": "stream",
     "text": [
      "Missed_parsing_zero 0\n",
      "Lenght papers_to_drop in validation based on train Title ID: 0\n",
      "Lenght papers_to_drop in validation based on train TDM Match: 661\n",
      "Lenght papers from validation with lb: 903\n",
      "Lenght papers from validation with no_lb: 444\n",
      "Lenght papers from train with lb: 7025\n",
      "Lenght papers from train with no_lb: 3033\n",
      "len(dfs['zeroshot']): 926\n",
      "len(dfs['validation']): 1347\n",
      "len(dfs['zeroshot']): 408\n",
      "len(dfs['validation']): 1347\n",
      "\n",
      "Zeroshot\n",
      "\n"
     ]
    },
    {
     "name": "stderr",
     "output_type": "stream",
     "text": [
      "100%|██████████| 408/408 [00:00<00:00, 10667.61it/s]\n"
     ]
    },
    {
     "name": "stdout",
     "output_type": "stream",
     "text": [
      "Missed_parsing_zero 0\n",
      "Lenght papers_to_drop in zeroshot based on train Title ID: 0\n",
      "Lenght papers_to_drop in zeroshot based on train TDM Match: 44\n",
      "Lenght papers from zeroshot with lb: 55\n",
      "Lenght papers from zeroshot with no_lb: 353\n",
      "Lenght papers from train with lb: 7025\n",
      "Lenght papers from train with no_lb: 3033\n",
      "\n",
      "validation\n",
      "\n"
     ]
    },
    {
     "name": "stderr",
     "output_type": "stream",
     "text": [
      "100%|██████████| 1347/1347 [00:00<00:00, 8011.42it/s]\n"
     ]
    },
    {
     "name": "stdout",
     "output_type": "stream",
     "text": [
      "Missed_parsing_zero 0\n",
      "Lenght papers_to_drop in validation based on train Title ID: 0\n",
      "Lenght papers_to_drop in validation based on train TDM Match: 661\n",
      "Lenght papers from validation with lb: 903\n",
      "Lenght papers from validation with no_lb: 444\n",
      "Lenght papers from train with lb: 7025\n",
      "Lenght papers from train with no_lb: 3033\n",
      "len(zeroshot_concat): 650\n",
      "len(validation_concat): 1391\n",
      "\n",
      "Zeroshot\n",
      "\n"
     ]
    },
    {
     "name": "stderr",
     "output_type": "stream",
     "text": [
      "100%|██████████| 595/595 [00:00<00:00, 8948.95it/s]\n"
     ]
    },
    {
     "name": "stdout",
     "output_type": "stream",
     "text": [
      "Missed_parsing_zero 0\n",
      "Lenght papers_to_drop in zeroshot based on train Title ID: 0\n",
      "Lenght papers_to_drop in zeroshot based on train TDM Match: 0\n",
      "Lenght papers from zeroshot with lb: 242\n",
      "Lenght papers from zeroshot with no_lb: 353\n",
      "Lenght papers from train with lb: 7025\n",
      "Lenght papers from train with no_lb: 3033\n",
      "\n",
      "validation\n",
      "\n"
     ]
    },
    {
     "name": "stderr",
     "output_type": "stream",
     "text": [
      "100%|██████████| 1105/1105 [00:00<00:00, 8450.89it/s]\n"
     ]
    },
    {
     "name": "stdout",
     "output_type": "stream",
     "text": [
      "Missed_parsing_zero 0\n",
      "Lenght papers_to_drop in validation based on train Title ID: 0\n",
      "Lenght papers_to_drop in validation based on train TDM Match: 661\n",
      "Lenght papers from validation with lb: 661\n",
      "Lenght papers from validation with no_lb: 444\n",
      "Lenght papers from train with lb: 7025\n",
      "Lenght papers from train with no_lb: 3033\n",
      "zeroshot_paper_in_train: 0\n",
      "zeroshot_paper_in_validation: 0\n",
      "validation_paper_in_train: 0\n",
      "validation_paper_in_zeroshot: 0\n"
     ]
    },
    {
     "data": {
      "text/html": [
       "<div>\n",
       "<style scoped>\n",
       "    .dataframe tbody tr th:only-of-type {\n",
       "        vertical-align: middle;\n",
       "    }\n",
       "\n",
       "    .dataframe tbody tr th {\n",
       "        vertical-align: top;\n",
       "    }\n",
       "\n",
       "    .dataframe thead th {\n",
       "        text-align: right;\n",
       "    }\n",
       "</style>\n",
       "<table border=\"1\" class=\"dataframe\">\n",
       "  <thead>\n",
       "    <tr style=\"text-align: right;\">\n",
       "      <th></th>\n",
       "      <th>id</th>\n",
       "      <th>prompt</th>\n",
       "      <th>answer</th>\n",
       "      <th>template</th>\n",
       "      <th>leaderboard</th>\n",
       "    </tr>\n",
       "  </thead>\n",
       "  <tbody>\n",
       "    <tr>\n",
       "      <th>count</th>\n",
       "      <td>595</td>\n",
       "      <td>595</td>\n",
       "      <td>595</td>\n",
       "      <td>595</td>\n",
       "      <td>595</td>\n",
       "    </tr>\n",
       "    <tr>\n",
       "      <th>unique</th>\n",
       "      <td>595</td>\n",
       "      <td>595</td>\n",
       "      <td>243</td>\n",
       "      <td>1</td>\n",
       "      <td>2</td>\n",
       "    </tr>\n",
       "    <tr>\n",
       "      <th>top</th>\n",
       "      <td>2006.04026v1.pdf</td>\n",
       "      <td>SharinGAN: Combining Synthetic and Real Data f...</td>\n",
       "      <td>unanswerable</td>\n",
       "      <td>squad_6</td>\n",
       "      <td>no_lb</td>\n",
       "    </tr>\n",
       "    <tr>\n",
       "      <th>freq</th>\n",
       "      <td>1</td>\n",
       "      <td>1</td>\n",
       "      <td>353</td>\n",
       "      <td>595</td>\n",
       "      <td>353</td>\n",
       "    </tr>\n",
       "  </tbody>\n",
       "</table>\n",
       "</div>"
      ],
      "text/plain": [
       "                      id                                             prompt  \\\n",
       "count                595                                                595   \n",
       "unique               595                                                595   \n",
       "top     2006.04026v1.pdf  SharinGAN: Combining Synthetic and Real Data f...   \n",
       "freq                   1                                                  1   \n",
       "\n",
       "              answer template leaderboard  \n",
       "count            595      595         595  \n",
       "unique           243        1           2  \n",
       "top     unanswerable  squad_6       no_lb  \n",
       "freq             353      595         353  "
      ]
     },
     "metadata": {},
     "output_type": "display_data"
    },
    {
     "data": {
      "application/vnd.jupyter.widget-view+json": {
       "model_id": "d52bea4562324634a3581b8ede737c6d",
       "version_major": 2,
       "version_minor": 0
      },
      "text/plain": [
       "Saving the dataset (0/1 shards):   0%|          | 0/10058 [00:00<?, ? examples/s]"
      ]
     },
     "metadata": {},
     "output_type": "display_data"
    },
    {
     "data": {
      "application/vnd.jupyter.widget-view+json": {
       "model_id": "9e259bd627154a3bb30df8a2eb1bf3e1",
       "version_major": 2,
       "version_minor": 0
      },
      "text/plain": [
       "Saving the dataset (0/1 shards):   0%|          | 0/1105 [00:00<?, ? examples/s]"
      ]
     },
     "metadata": {},
     "output_type": "display_data"
    },
    {
     "data": {
      "application/vnd.jupyter.widget-view+json": {
       "model_id": "614784f390b843cf94a97c238e3c8ab2",
       "version_major": 2,
       "version_minor": 0
      },
      "text/plain": [
       "Saving the dataset (0/1 shards):   0%|          | 0/595 [00:00<?, ? examples/s]"
      ]
     },
     "metadata": {},
     "output_type": "display_data"
    },
    {
     "name": "stdout",
     "output_type": "stream",
     "text": [
      "SQUAD: 7\n",
      "\n",
      "Zeroshot\n",
      "\n"
     ]
    },
    {
     "name": "stderr",
     "output_type": "stream",
     "text": [
      "100%|██████████| 926/926 [00:00<00:00, 5858.77it/s]\n"
     ]
    },
    {
     "name": "stdout",
     "output_type": "stream",
     "text": [
      "Missed_parsing_zero 0\n",
      "Lenght papers_to_drop in zeroshot based on train Title ID: 518\n",
      "Lenght papers_to_drop in zeroshot based on train TDM Match: 44\n",
      "Lenght papers from zeroshot with lb: 573\n",
      "Lenght papers from zeroshot with no_lb: 353\n",
      "Lenght papers from train with lb: 7025\n",
      "Lenght papers from train with no_lb: 3033\n",
      "\n",
      "validation\n",
      "\n"
     ]
    },
    {
     "name": "stderr",
     "output_type": "stream",
     "text": [
      "100%|██████████| 1347/1347 [00:00<00:00, 7914.35it/s]\n"
     ]
    },
    {
     "name": "stdout",
     "output_type": "stream",
     "text": [
      "Missed_parsing_zero 0\n",
      "Lenght papers_to_drop in validation based on train Title ID: 0\n",
      "Lenght papers_to_drop in validation based on train TDM Match: 661\n",
      "Lenght papers from validation with lb: 903\n",
      "Lenght papers from validation with no_lb: 444\n",
      "Lenght papers from train with lb: 7025\n",
      "Lenght papers from train with no_lb: 3033\n",
      "len(dfs['zeroshot']): 926\n",
      "len(dfs['validation']): 1347\n",
      "len(dfs['zeroshot']): 408\n",
      "len(dfs['validation']): 1347\n",
      "\n",
      "Zeroshot\n",
      "\n"
     ]
    },
    {
     "name": "stderr",
     "output_type": "stream",
     "text": [
      "100%|██████████| 408/408 [00:00<00:00, 10640.61it/s]\n"
     ]
    },
    {
     "name": "stdout",
     "output_type": "stream",
     "text": [
      "Missed_parsing_zero 0\n",
      "Lenght papers_to_drop in zeroshot based on train Title ID: 0\n",
      "Lenght papers_to_drop in zeroshot based on train TDM Match: 44\n",
      "Lenght papers from zeroshot with lb: 55\n",
      "Lenght papers from zeroshot with no_lb: 353\n",
      "Lenght papers from train with lb: 7025\n",
      "Lenght papers from train with no_lb: 3033\n",
      "\n",
      "validation\n",
      "\n"
     ]
    },
    {
     "name": "stderr",
     "output_type": "stream",
     "text": [
      "100%|██████████| 1347/1347 [00:00<00:00, 8122.17it/s]\n"
     ]
    },
    {
     "name": "stdout",
     "output_type": "stream",
     "text": [
      "Missed_parsing_zero 0\n",
      "Lenght papers_to_drop in validation based on train Title ID: 0\n",
      "Lenght papers_to_drop in validation based on train TDM Match: 661\n",
      "Lenght papers from validation with lb: 903\n",
      "Lenght papers from validation with no_lb: 444\n",
      "Lenght papers from train with lb: 7025\n",
      "Lenght papers from train with no_lb: 3033\n",
      "len(zeroshot_concat): 650\n",
      "len(validation_concat): 1391\n",
      "\n",
      "Zeroshot\n",
      "\n"
     ]
    },
    {
     "name": "stderr",
     "output_type": "stream",
     "text": [
      "100%|██████████| 595/595 [00:00<00:00, 9043.44it/s]\n"
     ]
    },
    {
     "name": "stdout",
     "output_type": "stream",
     "text": [
      "Missed_parsing_zero 0\n",
      "Lenght papers_to_drop in zeroshot based on train Title ID: 0\n",
      "Lenght papers_to_drop in zeroshot based on train TDM Match: 0\n",
      "Lenght papers from zeroshot with lb: 242\n",
      "Lenght papers from zeroshot with no_lb: 353\n",
      "Lenght papers from train with lb: 7025\n",
      "Lenght papers from train with no_lb: 3033\n",
      "\n",
      "validation\n",
      "\n"
     ]
    },
    {
     "name": "stderr",
     "output_type": "stream",
     "text": [
      "100%|██████████| 1105/1105 [00:00<00:00, 8544.45it/s]\n"
     ]
    },
    {
     "name": "stdout",
     "output_type": "stream",
     "text": [
      "Missed_parsing_zero 0\n",
      "Lenght papers_to_drop in validation based on train Title ID: 0\n",
      "Lenght papers_to_drop in validation based on train TDM Match: 661\n",
      "Lenght papers from validation with lb: 661\n",
      "Lenght papers from validation with no_lb: 444\n",
      "Lenght papers from train with lb: 7025\n",
      "Lenght papers from train with no_lb: 3033\n",
      "zeroshot_paper_in_train: 0\n",
      "zeroshot_paper_in_validation: 0\n",
      "validation_paper_in_train: 0\n",
      "validation_paper_in_zeroshot: 0\n"
     ]
    },
    {
     "data": {
      "text/html": [
       "<div>\n",
       "<style scoped>\n",
       "    .dataframe tbody tr th:only-of-type {\n",
       "        vertical-align: middle;\n",
       "    }\n",
       "\n",
       "    .dataframe tbody tr th {\n",
       "        vertical-align: top;\n",
       "    }\n",
       "\n",
       "    .dataframe thead th {\n",
       "        text-align: right;\n",
       "    }\n",
       "</style>\n",
       "<table border=\"1\" class=\"dataframe\">\n",
       "  <thead>\n",
       "    <tr style=\"text-align: right;\">\n",
       "      <th></th>\n",
       "      <th>id</th>\n",
       "      <th>prompt</th>\n",
       "      <th>answer</th>\n",
       "      <th>template</th>\n",
       "      <th>leaderboard</th>\n",
       "    </tr>\n",
       "  </thead>\n",
       "  <tbody>\n",
       "    <tr>\n",
       "      <th>count</th>\n",
       "      <td>595</td>\n",
       "      <td>595</td>\n",
       "      <td>595</td>\n",
       "      <td>595</td>\n",
       "      <td>595</td>\n",
       "    </tr>\n",
       "    <tr>\n",
       "      <th>unique</th>\n",
       "      <td>595</td>\n",
       "      <td>595</td>\n",
       "      <td>243</td>\n",
       "      <td>1</td>\n",
       "      <td>2</td>\n",
       "    </tr>\n",
       "    <tr>\n",
       "      <th>top</th>\n",
       "      <td>2006.04026v1.pdf</td>\n",
       "      <td>Read this: SharinGAN: Combining Synthetic and ...</td>\n",
       "      <td>unanswerable</td>\n",
       "      <td>squad_7</td>\n",
       "      <td>no_lb</td>\n",
       "    </tr>\n",
       "    <tr>\n",
       "      <th>freq</th>\n",
       "      <td>1</td>\n",
       "      <td>1</td>\n",
       "      <td>353</td>\n",
       "      <td>595</td>\n",
       "      <td>353</td>\n",
       "    </tr>\n",
       "  </tbody>\n",
       "</table>\n",
       "</div>"
      ],
      "text/plain": [
       "                      id                                             prompt  \\\n",
       "count                595                                                595   \n",
       "unique               595                                                595   \n",
       "top     2006.04026v1.pdf  Read this: SharinGAN: Combining Synthetic and ...   \n",
       "freq                   1                                                  1   \n",
       "\n",
       "              answer template leaderboard  \n",
       "count            595      595         595  \n",
       "unique           243        1           2  \n",
       "top     unanswerable  squad_7       no_lb  \n",
       "freq             353      595         353  "
      ]
     },
     "metadata": {},
     "output_type": "display_data"
    },
    {
     "data": {
      "application/vnd.jupyter.widget-view+json": {
       "model_id": "cd4e94c5a6c448158dba4dd6bdcb0c68",
       "version_major": 2,
       "version_minor": 0
      },
      "text/plain": [
       "Saving the dataset (0/1 shards):   0%|          | 0/10058 [00:00<?, ? examples/s]"
      ]
     },
     "metadata": {},
     "output_type": "display_data"
    },
    {
     "data": {
      "application/vnd.jupyter.widget-view+json": {
       "model_id": "7eab5f4a8d5b4aad9e959b73b8177a87",
       "version_major": 2,
       "version_minor": 0
      },
      "text/plain": [
       "Saving the dataset (0/1 shards):   0%|          | 0/1105 [00:00<?, ? examples/s]"
      ]
     },
     "metadata": {},
     "output_type": "display_data"
    },
    {
     "data": {
      "application/vnd.jupyter.widget-view+json": {
       "model_id": "2926f4b7aa994d3ab2750e9783242bf8",
       "version_major": 2,
       "version_minor": 0
      },
      "text/plain": [
       "Saving the dataset (0/1 shards):   0%|          | 0/595 [00:00<?, ? examples/s]"
      ]
     },
     "metadata": {},
     "output_type": "display_data"
    },
    {
     "name": "stdout",
     "output_type": "stream",
     "text": [
      "SQUAD: 8\n",
      "\n",
      "Zeroshot\n",
      "\n"
     ]
    },
    {
     "name": "stderr",
     "output_type": "stream",
     "text": [
      "100%|██████████| 926/926 [00:00<00:00, 11683.40it/s]\n"
     ]
    },
    {
     "name": "stdout",
     "output_type": "stream",
     "text": [
      "Missed_parsing_zero 0\n",
      "Lenght papers_to_drop in zeroshot based on train Title ID: 518\n",
      "Lenght papers_to_drop in zeroshot based on train TDM Match: 44\n",
      "Lenght papers from zeroshot with lb: 573\n",
      "Lenght papers from zeroshot with no_lb: 353\n",
      "Lenght papers from train with lb: 7025\n",
      "Lenght papers from train with no_lb: 3033\n",
      "\n",
      "validation\n",
      "\n"
     ]
    },
    {
     "name": "stderr",
     "output_type": "stream",
     "text": [
      "100%|██████████| 1347/1347 [00:00<00:00, 8032.87it/s]\n"
     ]
    },
    {
     "name": "stdout",
     "output_type": "stream",
     "text": [
      "Missed_parsing_zero 0\n",
      "Lenght papers_to_drop in validation based on train Title ID: 0\n",
      "Lenght papers_to_drop in validation based on train TDM Match: 661\n",
      "Lenght papers from validation with lb: 903\n",
      "Lenght papers from validation with no_lb: 444\n",
      "Lenght papers from train with lb: 7025\n",
      "Lenght papers from train with no_lb: 3033\n",
      "len(dfs['zeroshot']): 926\n",
      "len(dfs['validation']): 1347\n",
      "len(dfs['zeroshot']): 408\n",
      "len(dfs['validation']): 1347\n",
      "\n",
      "Zeroshot\n",
      "\n"
     ]
    },
    {
     "name": "stderr",
     "output_type": "stream",
     "text": [
      "100%|██████████| 408/408 [00:00<00:00, 10620.67it/s]\n"
     ]
    },
    {
     "name": "stdout",
     "output_type": "stream",
     "text": [
      "Missed_parsing_zero 0\n",
      "Lenght papers_to_drop in zeroshot based on train Title ID: 0\n",
      "Lenght papers_to_drop in zeroshot based on train TDM Match: 44\n",
      "Lenght papers from zeroshot with lb: 55\n",
      "Lenght papers from zeroshot with no_lb: 353\n",
      "Lenght papers from train with lb: 7025\n",
      "Lenght papers from train with no_lb: 3033\n",
      "\n",
      "validation\n",
      "\n"
     ]
    },
    {
     "name": "stderr",
     "output_type": "stream",
     "text": [
      "100%|██████████| 1347/1347 [00:00<00:00, 8059.39it/s]\n"
     ]
    },
    {
     "name": "stdout",
     "output_type": "stream",
     "text": [
      "Missed_parsing_zero 0\n",
      "Lenght papers_to_drop in validation based on train Title ID: 0\n",
      "Lenght papers_to_drop in validation based on train TDM Match: 661\n",
      "Lenght papers from validation with lb: 903\n",
      "Lenght papers from validation with no_lb: 444\n",
      "Lenght papers from train with lb: 7025\n",
      "Lenght papers from train with no_lb: 3033\n",
      "len(zeroshot_concat): 650\n",
      "len(validation_concat): 1391\n",
      "\n",
      "Zeroshot\n",
      "\n"
     ]
    },
    {
     "name": "stderr",
     "output_type": "stream",
     "text": [
      "100%|██████████| 595/595 [00:00<00:00, 8948.53it/s]\n"
     ]
    },
    {
     "name": "stdout",
     "output_type": "stream",
     "text": [
      "Missed_parsing_zero 0\n",
      "Lenght papers_to_drop in zeroshot based on train Title ID: 0\n",
      "Lenght papers_to_drop in zeroshot based on train TDM Match: 0\n",
      "Lenght papers from zeroshot with lb: 242\n",
      "Lenght papers from zeroshot with no_lb: 353\n",
      "Lenght papers from train with lb: 7025\n",
      "Lenght papers from train with no_lb: 3033\n",
      "\n",
      "validation\n",
      "\n"
     ]
    },
    {
     "name": "stderr",
     "output_type": "stream",
     "text": [
      "100%|██████████| 1105/1105 [00:00<00:00, 8589.25it/s]\n"
     ]
    },
    {
     "name": "stdout",
     "output_type": "stream",
     "text": [
      "Missed_parsing_zero 0\n",
      "Lenght papers_to_drop in validation based on train Title ID: 0\n",
      "Lenght papers_to_drop in validation based on train TDM Match: 661\n",
      "Lenght papers from validation with lb: 661\n",
      "Lenght papers from validation with no_lb: 444\n",
      "Lenght papers from train with lb: 7025\n",
      "Lenght papers from train with no_lb: 3033\n",
      "zeroshot_paper_in_train: 0\n",
      "zeroshot_paper_in_validation: 0\n",
      "validation_paper_in_train: 0\n",
      "validation_paper_in_zeroshot: 0\n"
     ]
    },
    {
     "data": {
      "text/html": [
       "<div>\n",
       "<style scoped>\n",
       "    .dataframe tbody tr th:only-of-type {\n",
       "        vertical-align: middle;\n",
       "    }\n",
       "\n",
       "    .dataframe tbody tr th {\n",
       "        vertical-align: top;\n",
       "    }\n",
       "\n",
       "    .dataframe thead th {\n",
       "        text-align: right;\n",
       "    }\n",
       "</style>\n",
       "<table border=\"1\" class=\"dataframe\">\n",
       "  <thead>\n",
       "    <tr style=\"text-align: right;\">\n",
       "      <th></th>\n",
       "      <th>id</th>\n",
       "      <th>prompt</th>\n",
       "      <th>answer</th>\n",
       "      <th>template</th>\n",
       "      <th>leaderboard</th>\n",
       "    </tr>\n",
       "  </thead>\n",
       "  <tbody>\n",
       "    <tr>\n",
       "      <th>count</th>\n",
       "      <td>595</td>\n",
       "      <td>595</td>\n",
       "      <td>595</td>\n",
       "      <td>595</td>\n",
       "      <td>595</td>\n",
       "    </tr>\n",
       "    <tr>\n",
       "      <th>unique</th>\n",
       "      <td>595</td>\n",
       "      <td>595</td>\n",
       "      <td>243</td>\n",
       "      <td>1</td>\n",
       "      <td>2</td>\n",
       "    </tr>\n",
       "    <tr>\n",
       "      <th>top</th>\n",
       "      <td>2006.04026v1.pdf</td>\n",
       "      <td>Read this: SharinGAN: Combining Synthetic and ...</td>\n",
       "      <td>unanswerable</td>\n",
       "      <td>squad_8</td>\n",
       "      <td>no_lb</td>\n",
       "    </tr>\n",
       "    <tr>\n",
       "      <th>freq</th>\n",
       "      <td>1</td>\n",
       "      <td>1</td>\n",
       "      <td>353</td>\n",
       "      <td>595</td>\n",
       "      <td>353</td>\n",
       "    </tr>\n",
       "  </tbody>\n",
       "</table>\n",
       "</div>"
      ],
      "text/plain": [
       "                      id                                             prompt  \\\n",
       "count                595                                                595   \n",
       "unique               595                                                595   \n",
       "top     2006.04026v1.pdf  Read this: SharinGAN: Combining Synthetic and ...   \n",
       "freq                   1                                                  1   \n",
       "\n",
       "              answer template leaderboard  \n",
       "count            595      595         595  \n",
       "unique           243        1           2  \n",
       "top     unanswerable  squad_8       no_lb  \n",
       "freq             353      595         353  "
      ]
     },
     "metadata": {},
     "output_type": "display_data"
    },
    {
     "data": {
      "application/vnd.jupyter.widget-view+json": {
       "model_id": "acd57e96839648f4a461430b88c508e0",
       "version_major": 2,
       "version_minor": 0
      },
      "text/plain": [
       "Saving the dataset (0/1 shards):   0%|          | 0/10058 [00:00<?, ? examples/s]"
      ]
     },
     "metadata": {},
     "output_type": "display_data"
    },
    {
     "data": {
      "application/vnd.jupyter.widget-view+json": {
       "model_id": "215c7938cdb94ddb823402f7f1a46cd6",
       "version_major": 2,
       "version_minor": 0
      },
      "text/plain": [
       "Saving the dataset (0/1 shards):   0%|          | 0/1105 [00:00<?, ? examples/s]"
      ]
     },
     "metadata": {},
     "output_type": "display_data"
    },
    {
     "data": {
      "application/vnd.jupyter.widget-view+json": {
       "model_id": "ca31edbbe9754abf9cdb628bbf9b0050",
       "version_major": 2,
       "version_minor": 0
      },
      "text/plain": [
       "Saving the dataset (0/1 shards):   0%|          | 0/595 [00:00<?, ? examples/s]"
      ]
     },
     "metadata": {},
     "output_type": "display_data"
    }
   ],
   "source": [
    "for squad_id in range(1, 9):\n",
    "    print(f\"SQUAD: {squad_id}\")\n",
    "    dataset_path = f\"../data/LLLM_AUGMENTED_SUMMARIZED_WITH_ID_ZEROSHOT_TDMS_SQUAD_{squad_id}_DOCTEAT/fold1\"\n",
    "\n",
    "    dataset_dict = DatasetDict.load_from_disk(f\"{dataset_path}\")\n",
    "        \n",
    "    dfs = {split: dataset.to_pandas() for split, dataset in dataset_dict.items()}\n",
    "    dfs['train']['leaderboard'] = dfs['train'].answer.apply(lambda x: \"no_lb\" if x == \"unanswerable\" else \"lb\")\n",
    "    dfs['validation']['leaderboard'] = dfs['validation'].answer.apply(lambda x: \"no_lb\" if x == \"unanswerable\" else \"lb\")\n",
    "    dfs['zeroshot']['leaderboard'] = dfs['zeroshot'].answer.apply(lambda x: \"no_lb\" if x == \"unanswerable\" else \"lb\")\n",
    "    \n",
    "    print(\"\\nZeroshot\\n\")\n",
    "    zeroshot_papers_to_drop = remove_data_leakage(dfs, source=\"zeroshot\", target=\"train\", THRESHOLD=90)\n",
    "    print(\"\\nvalidation\\n\")\n",
    "    validation_papers_to_drop = remove_data_leakage(dfs, source=\"validation\", target=\"train\", THRESHOLD=90)\n",
    "    \n",
    "    print(f\"len(dfs['zeroshot']): {len(dfs['zeroshot'])}\")\n",
    "    print(f\"len(dfs['validation']): {len(dfs['validation'])}\")\n",
    "\n",
    "    dfs['zeroshot'] = dfs['zeroshot'][~dfs['zeroshot']['id'].isin(zeroshot_papers_to_drop['id'])]\n",
    "    dfs['validation'] = dfs['validation'][~dfs['validation']['id'].isin(validation_papers_to_drop['id'])]\n",
    "\n",
    "    print(f\"len(dfs['zeroshot']): {len(dfs['zeroshot'])}\")\n",
    "    print(f\"len(dfs['validation']): {len(dfs['validation'])}\")\n",
    "    \n",
    "    # In zeroshot means paper to remove from zero-shot to make it real zershot, in the sense that \n",
    "    # At least one of the leaderboard was not seen at training time \n",
    "    print(\"\\nZeroshot\\n\")\n",
    "    zeroshot_papers_to_drop = remove_data_leakage(dfs, source=\"zeroshot\", target=\"train\", THRESHOLD=90)\n",
    "    print(\"\\nvalidation\\n\")\n",
    "    # in validation this means paper to keep as part of few shot \n",
    "    validation_papers_to_drop = remove_data_leakage(dfs, source=\"validation\", target=\"train\", THRESHOLD=90)\n",
    "    \n",
    "    zeroshot_concat = pd.concat([dfs['zeroshot'], dfs['validation'][~(dfs['validation']['id'].isin(validation_papers_to_drop['tdm'])) & (dfs['validation']['leaderboard']==\"lb\")]], ignore_index=True)\n",
    "    print(f\"len(zeroshot_concat): {len(zeroshot_concat)}\")\n",
    "\n",
    "    validation_concat = pd.concat([dfs['validation'], dfs['zeroshot'][dfs['zeroshot']['id'].isin(zeroshot_papers_to_drop['tdm'])]], ignore_index=True)\n",
    "    print(f\"len(validation_concat): {len(validation_concat)}\")\n",
    "    \n",
    "    # Filtering the DataFrame\n",
    "    dfs['zeroshot'] = zeroshot_concat.copy()\n",
    "    dfs['zeroshot'] = dfs['zeroshot'][~dfs['zeroshot']['id'].isin(zeroshot_papers_to_drop['tdm'])]\n",
    "    dfs['zeroshot'].drop_duplicates(subset='id', inplace=True)\n",
    "    dfs['zeroshot'].drop([\"prompt lenght\", \"__index_level_0__\"], axis=1).describe()\n",
    "    \n",
    "    # Filtering the DataFrame\n",
    "    dfs['validation'] = validation_concat.copy()\n",
    "    # I want to keep all the no leaderboard papers in validation \n",
    "    dfs['validation'] = dfs['validation'][(dfs['validation']['id'].isin(validation_papers_to_drop['tdm'])) | (dfs['validation']['leaderboard']==\"no_lb\")]\n",
    "    dfs['validation'].drop_duplicates(subset='id', inplace=True)\n",
    "    dfs['validation'].drop([\"prompt lenght\", \"__index_level_0__\"], axis=1).describe()\n",
    "    \n",
    "    print(\"\\nZeroshot\\n\")\n",
    "    zeroshot_papers_to_drop = remove_data_leakage(dfs, source=\"zeroshot\", target=\"train\", THRESHOLD=90)\n",
    "    print(\"\\nvalidation\\n\")\n",
    "    validation_papers_to_drop = remove_data_leakage(dfs, source=\"validation\", target=\"train\", THRESHOLD=90)\n",
    "    \n",
    "    dfs['train'].drop([\"__index_level_0__\"], inplace=True, axis=1)\n",
    "    dfs['validation'].drop([\"__index_level_0__\"], inplace=True, axis=1)\n",
    "    dfs['zeroshot'].drop([\"__index_level_0__\"], inplace=True, axis=1)\n",
    "\n",
    "    # no leaderboard paper can be shared between few-shot and zero-shot\n",
    "    verify_data_integrity(dfs, include_no_lb=False)\n",
    "    \n",
    "    display(dfs['zeroshot'].drop([\"prompt lenght\"], axis=1).describe())\n",
    "    \n",
    "    dataset = DatasetDict({\n",
    "        \"train\": Dataset.from_pandas(dfs['train']),\n",
    "        \"validation\": Dataset.from_pandas(dfs['validation']),\n",
    "        \"zeroshot\": Dataset.from_pandas(dfs['zeroshot'])\n",
    "    })\n",
    "\n",
    "    dataset.save_to_disk(f\"../data/LEADERBOARDS_DOCTEAT_TDMS_NO_TEMPLATES_SQUAD_{squad_id}_STRICT\")"
   ]
  },
  {
   "cell_type": "code",
   "execution_count": 23,
   "id": "3f8583f4",
   "metadata": {},
   "outputs": [
    {
     "name": "stdout",
     "output_type": "stream",
     "text": [
      "DROP: 1\n"
     ]
    },
    {
     "name": "stdout",
     "output_type": "stream",
     "text": [
      "\n",
      "Zeroshot\n",
      "\n"
     ]
    },
    {
     "name": "stderr",
     "output_type": "stream",
     "text": [
      "100%|██████████| 926/926 [00:00<00:00, 11699.24it/s]\n"
     ]
    },
    {
     "name": "stdout",
     "output_type": "stream",
     "text": [
      "Missed_parsing_zero 0\n",
      "Lenght papers_to_drop in zeroshot based on train Title ID: 518\n",
      "Lenght papers_to_drop in zeroshot based on train TDM Match: 44\n",
      "Lenght papers from zeroshot with lb: 573\n",
      "Lenght papers from zeroshot with no_lb: 353\n",
      "Lenght papers from train with lb: 7025\n",
      "Lenght papers from train with no_lb: 3033\n",
      "\n",
      "validation\n",
      "\n"
     ]
    },
    {
     "name": "stderr",
     "output_type": "stream",
     "text": [
      "100%|██████████| 1347/1347 [00:00<00:00, 7988.70it/s]\n"
     ]
    },
    {
     "name": "stdout",
     "output_type": "stream",
     "text": [
      "Missed_parsing_zero 0\n",
      "Lenght papers_to_drop in validation based on train Title ID: 0\n",
      "Lenght papers_to_drop in validation based on train TDM Match: 661\n",
      "Lenght papers from validation with lb: 903\n",
      "Lenght papers from validation with no_lb: 444\n",
      "Lenght papers from train with lb: 7025\n",
      "Lenght papers from train with no_lb: 3033\n",
      "len(dfs['zeroshot']): 926\n",
      "len(dfs['validation']): 1347\n",
      "len(dfs['zeroshot']): 408\n",
      "len(dfs['validation']): 1347\n",
      "\n",
      "Zeroshot\n",
      "\n"
     ]
    },
    {
     "name": "stderr",
     "output_type": "stream",
     "text": [
      "100%|██████████| 408/408 [00:00<00:00, 10652.93it/s]\n"
     ]
    },
    {
     "name": "stdout",
     "output_type": "stream",
     "text": [
      "Missed_parsing_zero 0\n",
      "Lenght papers_to_drop in zeroshot based on train Title ID: 0\n",
      "Lenght papers_to_drop in zeroshot based on train TDM Match: 44\n",
      "Lenght papers from zeroshot with lb: 55\n",
      "Lenght papers from zeroshot with no_lb: 353\n",
      "Lenght papers from train with lb: 7025\n",
      "Lenght papers from train with no_lb: 3033\n",
      "\n",
      "validation\n",
      "\n"
     ]
    },
    {
     "name": "stderr",
     "output_type": "stream",
     "text": [
      "100%|██████████| 1347/1347 [00:00<00:00, 8022.98it/s]\n"
     ]
    },
    {
     "name": "stdout",
     "output_type": "stream",
     "text": [
      "Missed_parsing_zero 0\n",
      "Lenght papers_to_drop in validation based on train Title ID: 0\n",
      "Lenght papers_to_drop in validation based on train TDM Match: 661\n",
      "Lenght papers from validation with lb: 903\n",
      "Lenght papers from validation with no_lb: 444\n",
      "Lenght papers from train with lb: 7025\n",
      "Lenght papers from train with no_lb: 3033\n",
      "len(zeroshot_concat): 650\n",
      "len(validation_concat): 1391\n",
      "\n",
      "Zeroshot\n",
      "\n"
     ]
    },
    {
     "name": "stderr",
     "output_type": "stream",
     "text": [
      "100%|██████████| 595/595 [00:00<00:00, 8946.77it/s]\n"
     ]
    },
    {
     "name": "stdout",
     "output_type": "stream",
     "text": [
      "Missed_parsing_zero 0\n",
      "Lenght papers_to_drop in zeroshot based on train Title ID: 0\n",
      "Lenght papers_to_drop in zeroshot based on train TDM Match: 0\n",
      "Lenght papers from zeroshot with lb: 242\n",
      "Lenght papers from zeroshot with no_lb: 353\n",
      "Lenght papers from train with lb: 7025\n",
      "Lenght papers from train with no_lb: 3033\n",
      "\n",
      "validation\n",
      "\n"
     ]
    },
    {
     "name": "stderr",
     "output_type": "stream",
     "text": [
      "100%|██████████| 1105/1105 [00:00<00:00, 8516.78it/s]\n"
     ]
    },
    {
     "name": "stdout",
     "output_type": "stream",
     "text": [
      "Missed_parsing_zero 0\n",
      "Lenght papers_to_drop in validation based on train Title ID: 0\n",
      "Lenght papers_to_drop in validation based on train TDM Match: 661\n",
      "Lenght papers from validation with lb: 661\n",
      "Lenght papers from validation with no_lb: 444\n",
      "Lenght papers from train with lb: 7025\n",
      "Lenght papers from train with no_lb: 3033\n",
      "zeroshot_paper_in_train: 0\n",
      "zeroshot_paper_in_validation: 0\n",
      "validation_paper_in_train: 0\n",
      "validation_paper_in_zeroshot: 0\n"
     ]
    },
    {
     "data": {
      "text/html": [
       "<div>\n",
       "<style scoped>\n",
       "    .dataframe tbody tr th:only-of-type {\n",
       "        vertical-align: middle;\n",
       "    }\n",
       "\n",
       "    .dataframe tbody tr th {\n",
       "        vertical-align: top;\n",
       "    }\n",
       "\n",
       "    .dataframe thead th {\n",
       "        text-align: right;\n",
       "    }\n",
       "</style>\n",
       "<table border=\"1\" class=\"dataframe\">\n",
       "  <thead>\n",
       "    <tr style=\"text-align: right;\">\n",
       "      <th></th>\n",
       "      <th>id</th>\n",
       "      <th>prompt</th>\n",
       "      <th>answer</th>\n",
       "      <th>template</th>\n",
       "      <th>leaderboard</th>\n",
       "    </tr>\n",
       "  </thead>\n",
       "  <tbody>\n",
       "    <tr>\n",
       "      <th>count</th>\n",
       "      <td>595</td>\n",
       "      <td>595</td>\n",
       "      <td>595</td>\n",
       "      <td>595</td>\n",
       "      <td>595</td>\n",
       "    </tr>\n",
       "    <tr>\n",
       "      <th>unique</th>\n",
       "      <td>595</td>\n",
       "      <td>595</td>\n",
       "      <td>243</td>\n",
       "      <td>1</td>\n",
       "      <td>2</td>\n",
       "    </tr>\n",
       "    <tr>\n",
       "      <th>top</th>\n",
       "      <td>2006.04026v1.pdf</td>\n",
       "      <td>Answer based on context:\\n\\nSharinGAN: Combini...</td>\n",
       "      <td>unanswerable</td>\n",
       "      <td>drop_1</td>\n",
       "      <td>no_lb</td>\n",
       "    </tr>\n",
       "    <tr>\n",
       "      <th>freq</th>\n",
       "      <td>1</td>\n",
       "      <td>1</td>\n",
       "      <td>353</td>\n",
       "      <td>595</td>\n",
       "      <td>353</td>\n",
       "    </tr>\n",
       "  </tbody>\n",
       "</table>\n",
       "</div>"
      ],
      "text/plain": [
       "                      id                                             prompt  \\\n",
       "count                595                                                595   \n",
       "unique               595                                                595   \n",
       "top     2006.04026v1.pdf  Answer based on context:\\n\\nSharinGAN: Combini...   \n",
       "freq                   1                                                  1   \n",
       "\n",
       "              answer template leaderboard  \n",
       "count            595      595         595  \n",
       "unique           243        1           2  \n",
       "top     unanswerable   drop_1       no_lb  \n",
       "freq             353      595         353  "
      ]
     },
     "metadata": {},
     "output_type": "display_data"
    },
    {
     "data": {
      "application/vnd.jupyter.widget-view+json": {
       "model_id": "286134e93397445dac6943c1d06128e3",
       "version_major": 2,
       "version_minor": 0
      },
      "text/plain": [
       "Saving the dataset (0/1 shards):   0%|          | 0/10058 [00:00<?, ? examples/s]"
      ]
     },
     "metadata": {},
     "output_type": "display_data"
    },
    {
     "data": {
      "application/vnd.jupyter.widget-view+json": {
       "model_id": "bf160495a4084277bd72df11851f8b89",
       "version_major": 2,
       "version_minor": 0
      },
      "text/plain": [
       "Saving the dataset (0/1 shards):   0%|          | 0/1105 [00:00<?, ? examples/s]"
      ]
     },
     "metadata": {},
     "output_type": "display_data"
    },
    {
     "data": {
      "application/vnd.jupyter.widget-view+json": {
       "model_id": "15830854d9314152a7d0f785b46c79a8",
       "version_major": 2,
       "version_minor": 0
      },
      "text/plain": [
       "Saving the dataset (0/1 shards):   0%|          | 0/595 [00:00<?, ? examples/s]"
      ]
     },
     "metadata": {},
     "output_type": "display_data"
    },
    {
     "name": "stdout",
     "output_type": "stream",
     "text": [
      "DROP: 2\n",
      "\n",
      "Zeroshot\n",
      "\n"
     ]
    },
    {
     "name": "stderr",
     "output_type": "stream",
     "text": [
      "100%|██████████| 926/926 [00:00<00:00, 5914.78it/s]\n"
     ]
    },
    {
     "name": "stdout",
     "output_type": "stream",
     "text": [
      "Missed_parsing_zero 0\n",
      "Lenght papers_to_drop in zeroshot based on train Title ID: 518\n",
      "Lenght papers_to_drop in zeroshot based on train TDM Match: 44\n",
      "Lenght papers from zeroshot with lb: 573\n",
      "Lenght papers from zeroshot with no_lb: 353\n",
      "Lenght papers from train with lb: 7025\n",
      "Lenght papers from train with no_lb: 3033\n",
      "\n",
      "validation\n",
      "\n"
     ]
    },
    {
     "name": "stderr",
     "output_type": "stream",
     "text": [
      "100%|██████████| 1347/1347 [00:00<00:00, 6266.08it/s]\n"
     ]
    },
    {
     "name": "stdout",
     "output_type": "stream",
     "text": [
      "Missed_parsing_zero 0\n",
      "Lenght papers_to_drop in validation based on train Title ID: 0\n",
      "Lenght papers_to_drop in validation based on train TDM Match: 661\n",
      "Lenght papers from validation with lb: 903\n",
      "Lenght papers from validation with no_lb: 444\n",
      "Lenght papers from train with lb: 7025\n",
      "Lenght papers from train with no_lb: 3033\n",
      "len(dfs['zeroshot']): 926\n",
      "len(dfs['validation']): 1347\n",
      "len(dfs['zeroshot']): 408\n",
      "len(dfs['validation']): 1347\n",
      "\n",
      "Zeroshot\n",
      "\n"
     ]
    },
    {
     "name": "stderr",
     "output_type": "stream",
     "text": [
      "100%|██████████| 408/408 [00:00<00:00, 10716.77it/s]\n"
     ]
    },
    {
     "name": "stdout",
     "output_type": "stream",
     "text": [
      "Missed_parsing_zero 0\n",
      "Lenght papers_to_drop in zeroshot based on train Title ID: 0\n",
      "Lenght papers_to_drop in zeroshot based on train TDM Match: 44\n",
      "Lenght papers from zeroshot with lb: 55\n",
      "Lenght papers from zeroshot with no_lb: 353\n",
      "Lenght papers from train with lb: 7025\n",
      "Lenght papers from train with no_lb: 3033\n",
      "\n",
      "validation\n",
      "\n"
     ]
    },
    {
     "name": "stderr",
     "output_type": "stream",
     "text": [
      "100%|██████████| 1347/1347 [00:00<00:00, 8068.40it/s]\n"
     ]
    },
    {
     "name": "stdout",
     "output_type": "stream",
     "text": [
      "Missed_parsing_zero 0\n",
      "Lenght papers_to_drop in validation based on train Title ID: 0\n",
      "Lenght papers_to_drop in validation based on train TDM Match: 661\n",
      "Lenght papers from validation with lb: 903\n",
      "Lenght papers from validation with no_lb: 444\n",
      "Lenght papers from train with lb: 7025\n",
      "Lenght papers from train with no_lb: 3033\n",
      "len(zeroshot_concat): 650\n",
      "len(validation_concat): 1391\n",
      "\n",
      "Zeroshot\n",
      "\n"
     ]
    },
    {
     "name": "stderr",
     "output_type": "stream",
     "text": [
      "100%|██████████| 595/595 [00:00<00:00, 8987.82it/s]\n"
     ]
    },
    {
     "name": "stdout",
     "output_type": "stream",
     "text": [
      "Missed_parsing_zero 0\n",
      "Lenght papers_to_drop in zeroshot based on train Title ID: 0\n",
      "Lenght papers_to_drop in zeroshot based on train TDM Match: 0\n",
      "Lenght papers from zeroshot with lb: 242\n",
      "Lenght papers from zeroshot with no_lb: 353\n",
      "Lenght papers from train with lb: 7025\n",
      "Lenght papers from train with no_lb: 3033\n",
      "\n",
      "validation\n",
      "\n"
     ]
    },
    {
     "name": "stderr",
     "output_type": "stream",
     "text": [
      "100%|██████████| 1105/1105 [00:00<00:00, 8505.56it/s]\n"
     ]
    },
    {
     "name": "stdout",
     "output_type": "stream",
     "text": [
      "Missed_parsing_zero 0\n",
      "Lenght papers_to_drop in validation based on train Title ID: 0\n",
      "Lenght papers_to_drop in validation based on train TDM Match: 661\n",
      "Lenght papers from validation with lb: 661\n",
      "Lenght papers from validation with no_lb: 444\n",
      "Lenght papers from train with lb: 7025\n",
      "Lenght papers from train with no_lb: 3033\n",
      "zeroshot_paper_in_train: 0\n",
      "zeroshot_paper_in_validation: 0\n",
      "validation_paper_in_train: 0\n",
      "validation_paper_in_zeroshot: 0\n"
     ]
    },
    {
     "data": {
      "text/html": [
       "<div>\n",
       "<style scoped>\n",
       "    .dataframe tbody tr th:only-of-type {\n",
       "        vertical-align: middle;\n",
       "    }\n",
       "\n",
       "    .dataframe tbody tr th {\n",
       "        vertical-align: top;\n",
       "    }\n",
       "\n",
       "    .dataframe thead th {\n",
       "        text-align: right;\n",
       "    }\n",
       "</style>\n",
       "<table border=\"1\" class=\"dataframe\">\n",
       "  <thead>\n",
       "    <tr style=\"text-align: right;\">\n",
       "      <th></th>\n",
       "      <th>id</th>\n",
       "      <th>prompt</th>\n",
       "      <th>answer</th>\n",
       "      <th>template</th>\n",
       "      <th>leaderboard</th>\n",
       "    </tr>\n",
       "  </thead>\n",
       "  <tbody>\n",
       "    <tr>\n",
       "      <th>count</th>\n",
       "      <td>595</td>\n",
       "      <td>595</td>\n",
       "      <td>595</td>\n",
       "      <td>595</td>\n",
       "      <td>595</td>\n",
       "    </tr>\n",
       "    <tr>\n",
       "      <th>unique</th>\n",
       "      <td>595</td>\n",
       "      <td>595</td>\n",
       "      <td>243</td>\n",
       "      <td>1</td>\n",
       "      <td>2</td>\n",
       "    </tr>\n",
       "    <tr>\n",
       "      <th>top</th>\n",
       "      <td>2006.04026v1.pdf</td>\n",
       "      <td>SharinGAN: Combining Synthetic and Real Data f...</td>\n",
       "      <td>unanswerable</td>\n",
       "      <td>drop_2</td>\n",
       "      <td>no_lb</td>\n",
       "    </tr>\n",
       "    <tr>\n",
       "      <th>freq</th>\n",
       "      <td>1</td>\n",
       "      <td>1</td>\n",
       "      <td>353</td>\n",
       "      <td>595</td>\n",
       "      <td>353</td>\n",
       "    </tr>\n",
       "  </tbody>\n",
       "</table>\n",
       "</div>"
      ],
      "text/plain": [
       "                      id                                             prompt  \\\n",
       "count                595                                                595   \n",
       "unique               595                                                595   \n",
       "top     2006.04026v1.pdf  SharinGAN: Combining Synthetic and Real Data f...   \n",
       "freq                   1                                                  1   \n",
       "\n",
       "              answer template leaderboard  \n",
       "count            595      595         595  \n",
       "unique           243        1           2  \n",
       "top     unanswerable   drop_2       no_lb  \n",
       "freq             353      595         353  "
      ]
     },
     "metadata": {},
     "output_type": "display_data"
    },
    {
     "data": {
      "application/vnd.jupyter.widget-view+json": {
       "model_id": "d8a45511ef9c4b22bd76c043802d0f91",
       "version_major": 2,
       "version_minor": 0
      },
      "text/plain": [
       "Saving the dataset (0/1 shards):   0%|          | 0/10058 [00:00<?, ? examples/s]"
      ]
     },
     "metadata": {},
     "output_type": "display_data"
    },
    {
     "data": {
      "application/vnd.jupyter.widget-view+json": {
       "model_id": "94b6fa6d581246b4898e0846eb4465e2",
       "version_major": 2,
       "version_minor": 0
      },
      "text/plain": [
       "Saving the dataset (0/1 shards):   0%|          | 0/1105 [00:00<?, ? examples/s]"
      ]
     },
     "metadata": {},
     "output_type": "display_data"
    },
    {
     "data": {
      "application/vnd.jupyter.widget-view+json": {
       "model_id": "684819e2f35c4fcb97904911d2ec0a77",
       "version_major": 2,
       "version_minor": 0
      },
      "text/plain": [
       "Saving the dataset (0/1 shards):   0%|          | 0/595 [00:00<?, ? examples/s]"
      ]
     },
     "metadata": {},
     "output_type": "display_data"
    },
    {
     "name": "stdout",
     "output_type": "stream",
     "text": [
      "DROP: 3\n",
      "\n",
      "Zeroshot\n",
      "\n"
     ]
    },
    {
     "name": "stderr",
     "output_type": "stream",
     "text": [
      "100%|██████████| 924/924 [00:00<00:00, 11734.63it/s]\n"
     ]
    },
    {
     "name": "stdout",
     "output_type": "stream",
     "text": [
      "Missed_parsing_zero 0\n",
      "Lenght papers_to_drop in zeroshot based on train Title ID: 517\n",
      "Lenght papers_to_drop in zeroshot based on train TDM Match: 44\n",
      "Lenght papers from zeroshot with lb: 572\n",
      "Lenght papers from zeroshot with no_lb: 352\n",
      "Lenght papers from train with lb: 7019\n",
      "Lenght papers from train with no_lb: 3032\n",
      "\n",
      "validation\n",
      "\n"
     ]
    },
    {
     "name": "stderr",
     "output_type": "stream",
     "text": [
      "100%|██████████| 1344/1344 [00:00<00:00, 8150.97it/s]\n"
     ]
    },
    {
     "name": "stdout",
     "output_type": "stream",
     "text": [
      "Missed_parsing_zero 0\n",
      "Lenght papers_to_drop in validation based on train Title ID: 0\n",
      "Lenght papers_to_drop in validation based on train TDM Match: 659\n",
      "Lenght papers from validation with lb: 901\n",
      "Lenght papers from validation with no_lb: 443\n",
      "Lenght papers from train with lb: 7019\n",
      "Lenght papers from train with no_lb: 3032\n",
      "len(dfs['zeroshot']): 924\n",
      "len(dfs['validation']): 1344\n",
      "len(dfs['zeroshot']): 407\n",
      "len(dfs['validation']): 1344\n",
      "\n",
      "Zeroshot\n",
      "\n"
     ]
    },
    {
     "name": "stderr",
     "output_type": "stream",
     "text": [
      "100%|██████████| 407/407 [00:00<00:00, 10707.67it/s]\n"
     ]
    },
    {
     "name": "stdout",
     "output_type": "stream",
     "text": [
      "Missed_parsing_zero 0\n",
      "Lenght papers_to_drop in zeroshot based on train Title ID: 0\n",
      "Lenght papers_to_drop in zeroshot based on train TDM Match: 44\n",
      "Lenght papers from zeroshot with lb: 55\n",
      "Lenght papers from zeroshot with no_lb: 352\n",
      "Lenght papers from train with lb: 7019\n",
      "Lenght papers from train with no_lb: 3032\n",
      "\n",
      "validation\n",
      "\n"
     ]
    },
    {
     "name": "stderr",
     "output_type": "stream",
     "text": [
      "100%|██████████| 1344/1344 [00:00<00:00, 8109.46it/s]\n"
     ]
    },
    {
     "name": "stdout",
     "output_type": "stream",
     "text": [
      "Missed_parsing_zero 0\n",
      "Lenght papers_to_drop in validation based on train Title ID: 0\n",
      "Lenght papers_to_drop in validation based on train TDM Match: 659\n",
      "Lenght papers from validation with lb: 901\n",
      "Lenght papers from validation with no_lb: 443\n",
      "Lenght papers from train with lb: 7019\n",
      "Lenght papers from train with no_lb: 3032\n",
      "len(zeroshot_concat): 649\n",
      "len(validation_concat): 1388\n",
      "\n",
      "Zeroshot\n",
      "\n"
     ]
    },
    {
     "name": "stderr",
     "output_type": "stream",
     "text": [
      "100%|██████████| 594/594 [00:00<00:00, 8985.72it/s]\n"
     ]
    },
    {
     "name": "stdout",
     "output_type": "stream",
     "text": [
      "Missed_parsing_zero 0\n",
      "Lenght papers_to_drop in zeroshot based on train Title ID: 0\n",
      "Lenght papers_to_drop in zeroshot based on train TDM Match: 0\n",
      "Lenght papers from zeroshot with lb: 242\n",
      "Lenght papers from zeroshot with no_lb: 352\n",
      "Lenght papers from train with lb: 7019\n",
      "Lenght papers from train with no_lb: 3032\n",
      "\n",
      "validation\n",
      "\n"
     ]
    },
    {
     "name": "stderr",
     "output_type": "stream",
     "text": [
      "100%|██████████| 1102/1102 [00:00<00:00, 8581.83it/s]\n"
     ]
    },
    {
     "name": "stdout",
     "output_type": "stream",
     "text": [
      "Missed_parsing_zero 0\n",
      "Lenght papers_to_drop in validation based on train Title ID: 0\n",
      "Lenght papers_to_drop in validation based on train TDM Match: 659\n",
      "Lenght papers from validation with lb: 659\n",
      "Lenght papers from validation with no_lb: 443\n",
      "Lenght papers from train with lb: 7019\n",
      "Lenght papers from train with no_lb: 3032\n",
      "zeroshot_paper_in_train: 0\n",
      "zeroshot_paper_in_validation: 0\n",
      "validation_paper_in_train: 0\n",
      "validation_paper_in_zeroshot: 0\n"
     ]
    },
    {
     "data": {
      "text/html": [
       "<div>\n",
       "<style scoped>\n",
       "    .dataframe tbody tr th:only-of-type {\n",
       "        vertical-align: middle;\n",
       "    }\n",
       "\n",
       "    .dataframe tbody tr th {\n",
       "        vertical-align: top;\n",
       "    }\n",
       "\n",
       "    .dataframe thead th {\n",
       "        text-align: right;\n",
       "    }\n",
       "</style>\n",
       "<table border=\"1\" class=\"dataframe\">\n",
       "  <thead>\n",
       "    <tr style=\"text-align: right;\">\n",
       "      <th></th>\n",
       "      <th>id</th>\n",
       "      <th>prompt</th>\n",
       "      <th>answer</th>\n",
       "      <th>template</th>\n",
       "      <th>leaderboard</th>\n",
       "    </tr>\n",
       "  </thead>\n",
       "  <tbody>\n",
       "    <tr>\n",
       "      <th>count</th>\n",
       "      <td>594</td>\n",
       "      <td>594</td>\n",
       "      <td>594</td>\n",
       "      <td>594</td>\n",
       "      <td>594</td>\n",
       "    </tr>\n",
       "    <tr>\n",
       "      <th>unique</th>\n",
       "      <td>594</td>\n",
       "      <td>594</td>\n",
       "      <td>243</td>\n",
       "      <td>1</td>\n",
       "      <td>2</td>\n",
       "    </tr>\n",
       "    <tr>\n",
       "      <th>top</th>\n",
       "      <td>2006.04026v1.pdf</td>\n",
       "      <td>SharinGAN: Combining Synthetic and Real Data f...</td>\n",
       "      <td>unanswerable</td>\n",
       "      <td>drop_3</td>\n",
       "      <td>no_lb</td>\n",
       "    </tr>\n",
       "    <tr>\n",
       "      <th>freq</th>\n",
       "      <td>1</td>\n",
       "      <td>1</td>\n",
       "      <td>352</td>\n",
       "      <td>594</td>\n",
       "      <td>352</td>\n",
       "    </tr>\n",
       "  </tbody>\n",
       "</table>\n",
       "</div>"
      ],
      "text/plain": [
       "                      id                                             prompt  \\\n",
       "count                594                                                594   \n",
       "unique               594                                                594   \n",
       "top     2006.04026v1.pdf  SharinGAN: Combining Synthetic and Real Data f...   \n",
       "freq                   1                                                  1   \n",
       "\n",
       "              answer template leaderboard  \n",
       "count            594      594         594  \n",
       "unique           243        1           2  \n",
       "top     unanswerable   drop_3       no_lb  \n",
       "freq             352      594         352  "
      ]
     },
     "metadata": {},
     "output_type": "display_data"
    },
    {
     "data": {
      "application/vnd.jupyter.widget-view+json": {
       "model_id": "119a08fd4aef435a99e663ed2aa6aafe",
       "version_major": 2,
       "version_minor": 0
      },
      "text/plain": [
       "Saving the dataset (0/1 shards):   0%|          | 0/10051 [00:00<?, ? examples/s]"
      ]
     },
     "metadata": {},
     "output_type": "display_data"
    },
    {
     "data": {
      "application/vnd.jupyter.widget-view+json": {
       "model_id": "2e6369046af34896987d388cab915157",
       "version_major": 2,
       "version_minor": 0
      },
      "text/plain": [
       "Saving the dataset (0/1 shards):   0%|          | 0/1102 [00:00<?, ? examples/s]"
      ]
     },
     "metadata": {},
     "output_type": "display_data"
    },
    {
     "data": {
      "application/vnd.jupyter.widget-view+json": {
       "model_id": "05efe9d4a7eb49fb917bdcad7c39cc38",
       "version_major": 2,
       "version_minor": 0
      },
      "text/plain": [
       "Saving the dataset (0/1 shards):   0%|          | 0/594 [00:00<?, ? examples/s]"
      ]
     },
     "metadata": {},
     "output_type": "display_data"
    },
    {
     "name": "stdout",
     "output_type": "stream",
     "text": [
      "DROP: 4\n",
      "\n",
      "Zeroshot\n",
      "\n"
     ]
    },
    {
     "name": "stderr",
     "output_type": "stream",
     "text": [
      "100%|██████████| 926/926 [00:00<00:00, 11960.96it/s]\n"
     ]
    },
    {
     "name": "stdout",
     "output_type": "stream",
     "text": [
      "Missed_parsing_zero 0\n",
      "Lenght papers_to_drop in zeroshot based on train Title ID: 518\n",
      "Lenght papers_to_drop in zeroshot based on train TDM Match: 44\n",
      "Lenght papers from zeroshot with lb: 573\n",
      "Lenght papers from zeroshot with no_lb: 353\n",
      "Lenght papers from train with lb: 7025\n",
      "Lenght papers from train with no_lb: 3033\n",
      "\n",
      "validation\n",
      "\n"
     ]
    },
    {
     "name": "stderr",
     "output_type": "stream",
     "text": [
      "100%|██████████| 1347/1347 [00:00<00:00, 8039.56it/s]\n"
     ]
    },
    {
     "name": "stdout",
     "output_type": "stream",
     "text": [
      "Missed_parsing_zero 0\n",
      "Lenght papers_to_drop in validation based on train Title ID: 0\n",
      "Lenght papers_to_drop in validation based on train TDM Match: 661\n",
      "Lenght papers from validation with lb: 903\n",
      "Lenght papers from validation with no_lb: 444\n",
      "Lenght papers from train with lb: 7025\n",
      "Lenght papers from train with no_lb: 3033\n",
      "len(dfs['zeroshot']): 926\n",
      "len(dfs['validation']): 1347\n",
      "len(dfs['zeroshot']): 408\n",
      "len(dfs['validation']): 1347\n",
      "\n",
      "Zeroshot\n",
      "\n"
     ]
    },
    {
     "name": "stderr",
     "output_type": "stream",
     "text": [
      "100%|██████████| 408/408 [00:00<00:00, 10733.38it/s]\n"
     ]
    },
    {
     "name": "stdout",
     "output_type": "stream",
     "text": [
      "Missed_parsing_zero 0\n",
      "Lenght papers_to_drop in zeroshot based on train Title ID: 0\n",
      "Lenght papers_to_drop in zeroshot based on train TDM Match: 44\n",
      "Lenght papers from zeroshot with lb: 55\n",
      "Lenght papers from zeroshot with no_lb: 353\n",
      "Lenght papers from train with lb: 7025\n",
      "Lenght papers from train with no_lb: 3033\n",
      "\n",
      "validation\n",
      "\n"
     ]
    },
    {
     "name": "stderr",
     "output_type": "stream",
     "text": [
      "100%|██████████| 1347/1347 [00:00<00:00, 8104.35it/s]\n"
     ]
    },
    {
     "name": "stdout",
     "output_type": "stream",
     "text": [
      "Missed_parsing_zero 0\n",
      "Lenght papers_to_drop in validation based on train Title ID: 0\n",
      "Lenght papers_to_drop in validation based on train TDM Match: 661\n",
      "Lenght papers from validation with lb: 903\n",
      "Lenght papers from validation with no_lb: 444\n",
      "Lenght papers from train with lb: 7025\n",
      "Lenght papers from train with no_lb: 3033\n",
      "len(zeroshot_concat): 650\n",
      "len(validation_concat): 1391\n",
      "\n",
      "Zeroshot\n",
      "\n"
     ]
    },
    {
     "name": "stderr",
     "output_type": "stream",
     "text": [
      "100%|██████████| 595/595 [00:00<00:00, 9031.04it/s]\n"
     ]
    },
    {
     "name": "stdout",
     "output_type": "stream",
     "text": [
      "Missed_parsing_zero 0\n",
      "Lenght papers_to_drop in zeroshot based on train Title ID: 0\n",
      "Lenght papers_to_drop in zeroshot based on train TDM Match: 0\n",
      "Lenght papers from zeroshot with lb: 242\n",
      "Lenght papers from zeroshot with no_lb: 353\n",
      "Lenght papers from train with lb: 7025\n",
      "Lenght papers from train with no_lb: 3033\n",
      "\n",
      "validation\n",
      "\n"
     ]
    },
    {
     "name": "stderr",
     "output_type": "stream",
     "text": [
      "100%|██████████| 1105/1105 [00:00<00:00, 8590.42it/s]\n"
     ]
    },
    {
     "name": "stdout",
     "output_type": "stream",
     "text": [
      "Missed_parsing_zero 0\n",
      "Lenght papers_to_drop in validation based on train Title ID: 0\n",
      "Lenght papers_to_drop in validation based on train TDM Match: 661\n",
      "Lenght papers from validation with lb: 661\n",
      "Lenght papers from validation with no_lb: 444\n",
      "Lenght papers from train with lb: 7025\n",
      "Lenght papers from train with no_lb: 3033\n",
      "zeroshot_paper_in_train: 0\n",
      "zeroshot_paper_in_validation: 0\n",
      "validation_paper_in_train: 0\n",
      "validation_paper_in_zeroshot: 0\n"
     ]
    },
    {
     "data": {
      "text/html": [
       "<div>\n",
       "<style scoped>\n",
       "    .dataframe tbody tr th:only-of-type {\n",
       "        vertical-align: middle;\n",
       "    }\n",
       "\n",
       "    .dataframe tbody tr th {\n",
       "        vertical-align: top;\n",
       "    }\n",
       "\n",
       "    .dataframe thead th {\n",
       "        text-align: right;\n",
       "    }\n",
       "</style>\n",
       "<table border=\"1\" class=\"dataframe\">\n",
       "  <thead>\n",
       "    <tr style=\"text-align: right;\">\n",
       "      <th></th>\n",
       "      <th>id</th>\n",
       "      <th>prompt</th>\n",
       "      <th>answer</th>\n",
       "      <th>template</th>\n",
       "      <th>leaderboard</th>\n",
       "    </tr>\n",
       "  </thead>\n",
       "  <tbody>\n",
       "    <tr>\n",
       "      <th>count</th>\n",
       "      <td>595</td>\n",
       "      <td>595</td>\n",
       "      <td>595</td>\n",
       "      <td>595</td>\n",
       "      <td>595</td>\n",
       "    </tr>\n",
       "    <tr>\n",
       "      <th>unique</th>\n",
       "      <td>595</td>\n",
       "      <td>595</td>\n",
       "      <td>243</td>\n",
       "      <td>1</td>\n",
       "      <td>2</td>\n",
       "    </tr>\n",
       "    <tr>\n",
       "      <th>top</th>\n",
       "      <td>2006.04026v1.pdf</td>\n",
       "      <td>SharinGAN: Combining Synthetic and Real Data f...</td>\n",
       "      <td>unanswerable</td>\n",
       "      <td>drop_4</td>\n",
       "      <td>no_lb</td>\n",
       "    </tr>\n",
       "    <tr>\n",
       "      <th>freq</th>\n",
       "      <td>1</td>\n",
       "      <td>1</td>\n",
       "      <td>353</td>\n",
       "      <td>595</td>\n",
       "      <td>353</td>\n",
       "    </tr>\n",
       "  </tbody>\n",
       "</table>\n",
       "</div>"
      ],
      "text/plain": [
       "                      id                                             prompt  \\\n",
       "count                595                                                595   \n",
       "unique               595                                                595   \n",
       "top     2006.04026v1.pdf  SharinGAN: Combining Synthetic and Real Data f...   \n",
       "freq                   1                                                  1   \n",
       "\n",
       "              answer template leaderboard  \n",
       "count            595      595         595  \n",
       "unique           243        1           2  \n",
       "top     unanswerable   drop_4       no_lb  \n",
       "freq             353      595         353  "
      ]
     },
     "metadata": {},
     "output_type": "display_data"
    },
    {
     "data": {
      "application/vnd.jupyter.widget-view+json": {
       "model_id": "c78b5b52a7e24b1ba65eefd3abb1ddf8",
       "version_major": 2,
       "version_minor": 0
      },
      "text/plain": [
       "Saving the dataset (0/1 shards):   0%|          | 0/10058 [00:00<?, ? examples/s]"
      ]
     },
     "metadata": {},
     "output_type": "display_data"
    },
    {
     "data": {
      "application/vnd.jupyter.widget-view+json": {
       "model_id": "c5c527d4828840bda16d690c0d5012d6",
       "version_major": 2,
       "version_minor": 0
      },
      "text/plain": [
       "Saving the dataset (0/1 shards):   0%|          | 0/1105 [00:00<?, ? examples/s]"
      ]
     },
     "metadata": {},
     "output_type": "display_data"
    },
    {
     "data": {
      "application/vnd.jupyter.widget-view+json": {
       "model_id": "99ff30d66a8540b6a9369549750629bc",
       "version_major": 2,
       "version_minor": 0
      },
      "text/plain": [
       "Saving the dataset (0/1 shards):   0%|          | 0/595 [00:00<?, ? examples/s]"
      ]
     },
     "metadata": {},
     "output_type": "display_data"
    },
    {
     "name": "stdout",
     "output_type": "stream",
     "text": [
      "DROP: 5\n",
      "\n",
      "Zeroshot\n",
      "\n"
     ]
    },
    {
     "name": "stderr",
     "output_type": "stream",
     "text": [
      "100%|██████████| 926/926 [00:00<00:00, 11674.55it/s]\n"
     ]
    },
    {
     "name": "stdout",
     "output_type": "stream",
     "text": [
      "Missed_parsing_zero 0\n",
      "Lenght papers_to_drop in zeroshot based on train Title ID: 518\n",
      "Lenght papers_to_drop in zeroshot based on train TDM Match: 44\n",
      "Lenght papers from zeroshot with lb: 573\n",
      "Lenght papers from zeroshot with no_lb: 353\n",
      "Lenght papers from train with lb: 7025\n",
      "Lenght papers from train with no_lb: 3033\n",
      "\n",
      "validation\n",
      "\n"
     ]
    },
    {
     "name": "stderr",
     "output_type": "stream",
     "text": [
      "100%|██████████| 1347/1347 [00:00<00:00, 8089.78it/s]\n"
     ]
    },
    {
     "name": "stdout",
     "output_type": "stream",
     "text": [
      "Missed_parsing_zero 0\n",
      "Lenght papers_to_drop in validation based on train Title ID: 0\n",
      "Lenght papers_to_drop in validation based on train TDM Match: 661\n",
      "Lenght papers from validation with lb: 903\n",
      "Lenght papers from validation with no_lb: 444\n",
      "Lenght papers from train with lb: 7025\n",
      "Lenght papers from train with no_lb: 3033\n",
      "len(dfs['zeroshot']): 926\n",
      "len(dfs['validation']): 1347\n",
      "len(dfs['zeroshot']): 408\n",
      "len(dfs['validation']): 1347\n",
      "\n",
      "Zeroshot\n",
      "\n"
     ]
    },
    {
     "name": "stderr",
     "output_type": "stream",
     "text": [
      "100%|██████████| 408/408 [00:00<00:00, 10643.65it/s]\n"
     ]
    },
    {
     "name": "stdout",
     "output_type": "stream",
     "text": [
      "Missed_parsing_zero 0\n",
      "Lenght papers_to_drop in zeroshot based on train Title ID: 0\n",
      "Lenght papers_to_drop in zeroshot based on train TDM Match: 44\n",
      "Lenght papers from zeroshot with lb: 55\n",
      "Lenght papers from zeroshot with no_lb: 353\n",
      "Lenght papers from train with lb: 7025\n",
      "Lenght papers from train with no_lb: 3033\n",
      "\n",
      "validation\n",
      "\n"
     ]
    },
    {
     "name": "stderr",
     "output_type": "stream",
     "text": [
      "100%|██████████| 1347/1347 [00:00<00:00, 8182.92it/s]\n"
     ]
    },
    {
     "name": "stdout",
     "output_type": "stream",
     "text": [
      "Missed_parsing_zero 0\n",
      "Lenght papers_to_drop in validation based on train Title ID: 0\n",
      "Lenght papers_to_drop in validation based on train TDM Match: 661\n",
      "Lenght papers from validation with lb: 903\n",
      "Lenght papers from validation with no_lb: 444\n",
      "Lenght papers from train with lb: 7025\n",
      "Lenght papers from train with no_lb: 3033\n",
      "len(zeroshot_concat): 650\n",
      "len(validation_concat): 1391\n",
      "\n",
      "Zeroshot\n",
      "\n"
     ]
    },
    {
     "name": "stderr",
     "output_type": "stream",
     "text": [
      "100%|██████████| 595/595 [00:00<00:00, 9027.84it/s]\n"
     ]
    },
    {
     "name": "stdout",
     "output_type": "stream",
     "text": [
      "Missed_parsing_zero 0\n",
      "Lenght papers_to_drop in zeroshot based on train Title ID: 0\n",
      "Lenght papers_to_drop in zeroshot based on train TDM Match: 0\n",
      "Lenght papers from zeroshot with lb: 242\n",
      "Lenght papers from zeroshot with no_lb: 353\n",
      "Lenght papers from train with lb: 7025\n",
      "Lenght papers from train with no_lb: 3033\n",
      "\n",
      "validation\n",
      "\n"
     ]
    },
    {
     "name": "stderr",
     "output_type": "stream",
     "text": [
      "100%|██████████| 1105/1105 [00:00<00:00, 8695.33it/s]\n"
     ]
    },
    {
     "name": "stdout",
     "output_type": "stream",
     "text": [
      "Missed_parsing_zero 0\n",
      "Lenght papers_to_drop in validation based on train Title ID: 0\n",
      "Lenght papers_to_drop in validation based on train TDM Match: 661\n",
      "Lenght papers from validation with lb: 661\n",
      "Lenght papers from validation with no_lb: 444\n",
      "Lenght papers from train with lb: 7025\n",
      "Lenght papers from train with no_lb: 3033\n",
      "zeroshot_paper_in_train: 0\n",
      "zeroshot_paper_in_validation: 0\n",
      "validation_paper_in_train: 0\n",
      "validation_paper_in_zeroshot: 0\n"
     ]
    },
    {
     "data": {
      "text/html": [
       "<div>\n",
       "<style scoped>\n",
       "    .dataframe tbody tr th:only-of-type {\n",
       "        vertical-align: middle;\n",
       "    }\n",
       "\n",
       "    .dataframe tbody tr th {\n",
       "        vertical-align: top;\n",
       "    }\n",
       "\n",
       "    .dataframe thead th {\n",
       "        text-align: right;\n",
       "    }\n",
       "</style>\n",
       "<table border=\"1\" class=\"dataframe\">\n",
       "  <thead>\n",
       "    <tr style=\"text-align: right;\">\n",
       "      <th></th>\n",
       "      <th>id</th>\n",
       "      <th>prompt</th>\n",
       "      <th>answer</th>\n",
       "      <th>template</th>\n",
       "      <th>leaderboard</th>\n",
       "    </tr>\n",
       "  </thead>\n",
       "  <tbody>\n",
       "    <tr>\n",
       "      <th>count</th>\n",
       "      <td>595</td>\n",
       "      <td>595</td>\n",
       "      <td>595</td>\n",
       "      <td>595</td>\n",
       "      <td>595</td>\n",
       "    </tr>\n",
       "    <tr>\n",
       "      <th>unique</th>\n",
       "      <td>595</td>\n",
       "      <td>595</td>\n",
       "      <td>243</td>\n",
       "      <td>1</td>\n",
       "      <td>2</td>\n",
       "    </tr>\n",
       "    <tr>\n",
       "      <th>top</th>\n",
       "      <td>2006.04026v1.pdf</td>\n",
       "      <td>Read this article and answer this question Sha...</td>\n",
       "      <td>unanswerable</td>\n",
       "      <td>drop_5</td>\n",
       "      <td>no_lb</td>\n",
       "    </tr>\n",
       "    <tr>\n",
       "      <th>freq</th>\n",
       "      <td>1</td>\n",
       "      <td>1</td>\n",
       "      <td>353</td>\n",
       "      <td>595</td>\n",
       "      <td>353</td>\n",
       "    </tr>\n",
       "  </tbody>\n",
       "</table>\n",
       "</div>"
      ],
      "text/plain": [
       "                      id                                             prompt  \\\n",
       "count                595                                                595   \n",
       "unique               595                                                595   \n",
       "top     2006.04026v1.pdf  Read this article and answer this question Sha...   \n",
       "freq                   1                                                  1   \n",
       "\n",
       "              answer template leaderboard  \n",
       "count            595      595         595  \n",
       "unique           243        1           2  \n",
       "top     unanswerable   drop_5       no_lb  \n",
       "freq             353      595         353  "
      ]
     },
     "metadata": {},
     "output_type": "display_data"
    },
    {
     "data": {
      "application/vnd.jupyter.widget-view+json": {
       "model_id": "6a9a6b0863f24e289cbe9a7985c802b5",
       "version_major": 2,
       "version_minor": 0
      },
      "text/plain": [
       "Saving the dataset (0/1 shards):   0%|          | 0/10058 [00:00<?, ? examples/s]"
      ]
     },
     "metadata": {},
     "output_type": "display_data"
    },
    {
     "data": {
      "application/vnd.jupyter.widget-view+json": {
       "model_id": "57d92c0e69ea446a9447dfabcf57888f",
       "version_major": 2,
       "version_minor": 0
      },
      "text/plain": [
       "Saving the dataset (0/1 shards):   0%|          | 0/1105 [00:00<?, ? examples/s]"
      ]
     },
     "metadata": {},
     "output_type": "display_data"
    },
    {
     "data": {
      "application/vnd.jupyter.widget-view+json": {
       "model_id": "fcaa9cc807964d928741c3f3472dfad3",
       "version_major": 2,
       "version_minor": 0
      },
      "text/plain": [
       "Saving the dataset (0/1 shards):   0%|          | 0/595 [00:00<?, ? examples/s]"
      ]
     },
     "metadata": {},
     "output_type": "display_data"
    },
    {
     "name": "stdout",
     "output_type": "stream",
     "text": [
      "DROP: 6\n",
      "\n",
      "Zeroshot\n",
      "\n"
     ]
    },
    {
     "name": "stderr",
     "output_type": "stream",
     "text": [
      "100%|██████████| 926/926 [00:00<00:00, 5861.23it/s]\n"
     ]
    },
    {
     "name": "stdout",
     "output_type": "stream",
     "text": [
      "Missed_parsing_zero 0\n",
      "Lenght papers_to_drop in zeroshot based on train Title ID: 518\n",
      "Lenght papers_to_drop in zeroshot based on train TDM Match: 44\n",
      "Lenght papers from zeroshot with lb: 573\n",
      "Lenght papers from zeroshot with no_lb: 353\n",
      "Lenght papers from train with lb: 7025\n",
      "Lenght papers from train with no_lb: 3033\n",
      "\n",
      "validation\n",
      "\n"
     ]
    },
    {
     "name": "stderr",
     "output_type": "stream",
     "text": [
      "100%|██████████| 1347/1347 [00:00<00:00, 6182.74it/s]\n"
     ]
    },
    {
     "name": "stdout",
     "output_type": "stream",
     "text": [
      "Missed_parsing_zero 0\n",
      "Lenght papers_to_drop in validation based on train Title ID: 0\n",
      "Lenght papers_to_drop in validation based on train TDM Match: 661\n",
      "Lenght papers from validation with lb: 903\n",
      "Lenght papers from validation with no_lb: 444\n",
      "Lenght papers from train with lb: 7025\n",
      "Lenght papers from train with no_lb: 3033\n",
      "len(dfs['zeroshot']): 926\n",
      "len(dfs['validation']): 1347\n",
      "len(dfs['zeroshot']): 408\n",
      "len(dfs['validation']): 1347\n",
      "\n",
      "Zeroshot\n",
      "\n"
     ]
    },
    {
     "name": "stderr",
     "output_type": "stream",
     "text": [
      "100%|██████████| 408/408 [00:00<00:00, 10661.69it/s]\n"
     ]
    },
    {
     "name": "stdout",
     "output_type": "stream",
     "text": [
      "Missed_parsing_zero 0\n",
      "Lenght papers_to_drop in zeroshot based on train Title ID: 0\n",
      "Lenght papers_to_drop in zeroshot based on train TDM Match: 44\n",
      "Lenght papers from zeroshot with lb: 55\n",
      "Lenght papers from zeroshot with no_lb: 353\n",
      "Lenght papers from train with lb: 7025\n",
      "Lenght papers from train with no_lb: 3033\n",
      "\n",
      "validation\n",
      "\n"
     ]
    },
    {
     "name": "stderr",
     "output_type": "stream",
     "text": [
      "100%|██████████| 1347/1347 [00:00<00:00, 8082.63it/s]\n"
     ]
    },
    {
     "name": "stdout",
     "output_type": "stream",
     "text": [
      "Missed_parsing_zero 0\n",
      "Lenght papers_to_drop in validation based on train Title ID: 0\n",
      "Lenght papers_to_drop in validation based on train TDM Match: 661\n",
      "Lenght papers from validation with lb: 903\n",
      "Lenght papers from validation with no_lb: 444\n",
      "Lenght papers from train with lb: 7025\n",
      "Lenght papers from train with no_lb: 3033\n",
      "len(zeroshot_concat): 650\n",
      "len(validation_concat): 1391\n",
      "\n",
      "Zeroshot\n",
      "\n"
     ]
    },
    {
     "name": "stderr",
     "output_type": "stream",
     "text": [
      "100%|██████████| 595/595 [00:00<00:00, 9041.84it/s]\n"
     ]
    },
    {
     "name": "stdout",
     "output_type": "stream",
     "text": [
      "Missed_parsing_zero 0\n",
      "Lenght papers_to_drop in zeroshot based on train Title ID: 0\n",
      "Lenght papers_to_drop in zeroshot based on train TDM Match: 0\n",
      "Lenght papers from zeroshot with lb: 242\n",
      "Lenght papers from zeroshot with no_lb: 353\n",
      "Lenght papers from train with lb: 7025\n",
      "Lenght papers from train with no_lb: 3033\n",
      "\n",
      "validation\n",
      "\n"
     ]
    },
    {
     "name": "stderr",
     "output_type": "stream",
     "text": [
      "100%|██████████| 1105/1105 [00:00<00:00, 8580.61it/s]\n"
     ]
    },
    {
     "name": "stdout",
     "output_type": "stream",
     "text": [
      "Missed_parsing_zero 0\n",
      "Lenght papers_to_drop in validation based on train Title ID: 0\n",
      "Lenght papers_to_drop in validation based on train TDM Match: 661\n",
      "Lenght papers from validation with lb: 661\n",
      "Lenght papers from validation with no_lb: 444\n",
      "Lenght papers from train with lb: 7025\n",
      "Lenght papers from train with no_lb: 3033\n",
      "zeroshot_paper_in_train: 0\n",
      "zeroshot_paper_in_validation: 0\n",
      "validation_paper_in_train: 0\n",
      "validation_paper_in_zeroshot: 0\n"
     ]
    },
    {
     "data": {
      "text/html": [
       "<div>\n",
       "<style scoped>\n",
       "    .dataframe tbody tr th:only-of-type {\n",
       "        vertical-align: middle;\n",
       "    }\n",
       "\n",
       "    .dataframe tbody tr th {\n",
       "        vertical-align: top;\n",
       "    }\n",
       "\n",
       "    .dataframe thead th {\n",
       "        text-align: right;\n",
       "    }\n",
       "</style>\n",
       "<table border=\"1\" class=\"dataframe\">\n",
       "  <thead>\n",
       "    <tr style=\"text-align: right;\">\n",
       "      <th></th>\n",
       "      <th>id</th>\n",
       "      <th>prompt</th>\n",
       "      <th>answer</th>\n",
       "      <th>template</th>\n",
       "      <th>leaderboard</th>\n",
       "    </tr>\n",
       "  </thead>\n",
       "  <tbody>\n",
       "    <tr>\n",
       "      <th>count</th>\n",
       "      <td>595</td>\n",
       "      <td>595</td>\n",
       "      <td>595</td>\n",
       "      <td>595</td>\n",
       "      <td>595</td>\n",
       "    </tr>\n",
       "    <tr>\n",
       "      <th>unique</th>\n",
       "      <td>595</td>\n",
       "      <td>595</td>\n",
       "      <td>243</td>\n",
       "      <td>1</td>\n",
       "      <td>2</td>\n",
       "    </tr>\n",
       "    <tr>\n",
       "      <th>top</th>\n",
       "      <td>2006.04026v1.pdf</td>\n",
       "      <td>SharinGAN: Combining Synthetic and Real Data f...</td>\n",
       "      <td>unanswerable</td>\n",
       "      <td>drop_6</td>\n",
       "      <td>no_lb</td>\n",
       "    </tr>\n",
       "    <tr>\n",
       "      <th>freq</th>\n",
       "      <td>1</td>\n",
       "      <td>1</td>\n",
       "      <td>353</td>\n",
       "      <td>595</td>\n",
       "      <td>353</td>\n",
       "    </tr>\n",
       "  </tbody>\n",
       "</table>\n",
       "</div>"
      ],
      "text/plain": [
       "                      id                                             prompt  \\\n",
       "count                595                                                595   \n",
       "unique               595                                                595   \n",
       "top     2006.04026v1.pdf  SharinGAN: Combining Synthetic and Real Data f...   \n",
       "freq                   1                                                  1   \n",
       "\n",
       "              answer template leaderboard  \n",
       "count            595      595         595  \n",
       "unique           243        1           2  \n",
       "top     unanswerable   drop_6       no_lb  \n",
       "freq             353      595         353  "
      ]
     },
     "metadata": {},
     "output_type": "display_data"
    },
    {
     "data": {
      "application/vnd.jupyter.widget-view+json": {
       "model_id": "494bfc1a5e574d92b7fd87857378f84f",
       "version_major": 2,
       "version_minor": 0
      },
      "text/plain": [
       "Saving the dataset (0/1 shards):   0%|          | 0/10058 [00:00<?, ? examples/s]"
      ]
     },
     "metadata": {},
     "output_type": "display_data"
    },
    {
     "data": {
      "application/vnd.jupyter.widget-view+json": {
       "model_id": "dd63b03ea9bd44d9af990ad5b61182de",
       "version_major": 2,
       "version_minor": 0
      },
      "text/plain": [
       "Saving the dataset (0/1 shards):   0%|          | 0/1105 [00:00<?, ? examples/s]"
      ]
     },
     "metadata": {},
     "output_type": "display_data"
    },
    {
     "data": {
      "application/vnd.jupyter.widget-view+json": {
       "model_id": "232d7f8fc6ba4d199c2518c66ef35118",
       "version_major": 2,
       "version_minor": 0
      },
      "text/plain": [
       "Saving the dataset (0/1 shards):   0%|          | 0/595 [00:00<?, ? examples/s]"
      ]
     },
     "metadata": {},
     "output_type": "display_data"
    },
    {
     "name": "stdout",
     "output_type": "stream",
     "text": [
      "DROP: 7\n",
      "\n",
      "Zeroshot\n",
      "\n"
     ]
    },
    {
     "name": "stderr",
     "output_type": "stream",
     "text": [
      "100%|██████████| 926/926 [00:00<00:00, 11958.05it/s]\n"
     ]
    },
    {
     "name": "stdout",
     "output_type": "stream",
     "text": [
      "Missed_parsing_zero 0\n",
      "Lenght papers_to_drop in zeroshot based on train Title ID: 518\n",
      "Lenght papers_to_drop in zeroshot based on train TDM Match: 44\n",
      "Lenght papers from zeroshot with lb: 573\n",
      "Lenght papers from zeroshot with no_lb: 353\n",
      "Lenght papers from train with lb: 7025\n",
      "Lenght papers from train with no_lb: 3033\n",
      "\n",
      "validation\n",
      "\n"
     ]
    },
    {
     "name": "stderr",
     "output_type": "stream",
     "text": [
      "100%|██████████| 1347/1347 [00:00<00:00, 8041.25it/s]\n"
     ]
    },
    {
     "name": "stdout",
     "output_type": "stream",
     "text": [
      "Missed_parsing_zero 0\n",
      "Lenght papers_to_drop in validation based on train Title ID: 0\n",
      "Lenght papers_to_drop in validation based on train TDM Match: 661\n",
      "Lenght papers from validation with lb: 903\n",
      "Lenght papers from validation with no_lb: 444\n",
      "Lenght papers from train with lb: 7025\n",
      "Lenght papers from train with no_lb: 3033\n",
      "len(dfs['zeroshot']): 928\n",
      "len(dfs['validation']): 1350\n",
      "len(dfs['zeroshot']): 409\n",
      "len(dfs['validation']): 1350\n",
      "\n",
      "Zeroshot\n",
      "\n"
     ]
    },
    {
     "name": "stderr",
     "output_type": "stream",
     "text": [
      "100%|██████████| 408/408 [00:00<00:00, 10703.70it/s]\n"
     ]
    },
    {
     "name": "stdout",
     "output_type": "stream",
     "text": [
      "Missed_parsing_zero 0\n",
      "Lenght papers_to_drop in zeroshot based on train Title ID: 0\n",
      "Lenght papers_to_drop in zeroshot based on train TDM Match: 44\n",
      "Lenght papers from zeroshot with lb: 55\n",
      "Lenght papers from zeroshot with no_lb: 353\n",
      "Lenght papers from train with lb: 7025\n",
      "Lenght papers from train with no_lb: 3033\n",
      "\n",
      "validation\n",
      "\n"
     ]
    },
    {
     "name": "stderr",
     "output_type": "stream",
     "text": [
      "100%|██████████| 1347/1347 [00:00<00:00, 8037.79it/s]\n"
     ]
    },
    {
     "name": "stdout",
     "output_type": "stream",
     "text": [
      "Missed_parsing_zero 0\n",
      "Lenght papers_to_drop in validation based on train Title ID: 0\n",
      "Lenght papers_to_drop in validation based on train TDM Match: 661\n",
      "Lenght papers from validation with lb: 903\n",
      "Lenght papers from validation with no_lb: 444\n",
      "Lenght papers from train with lb: 7025\n",
      "Lenght papers from train with no_lb: 3033\n",
      "len(zeroshot_concat): 651\n",
      "len(validation_concat): 1394\n",
      "\n",
      "Zeroshot\n",
      "\n"
     ]
    },
    {
     "name": "stderr",
     "output_type": "stream",
     "text": [
      "100%|██████████| 595/595 [00:00<00:00, 9003.74it/s]\n"
     ]
    },
    {
     "name": "stdout",
     "output_type": "stream",
     "text": [
      "Missed_parsing_zero 0\n",
      "Lenght papers_to_drop in zeroshot based on train Title ID: 0\n",
      "Lenght papers_to_drop in zeroshot based on train TDM Match: 0\n",
      "Lenght papers from zeroshot with lb: 242\n",
      "Lenght papers from zeroshot with no_lb: 353\n",
      "Lenght papers from train with lb: 7025\n",
      "Lenght papers from train with no_lb: 3033\n",
      "\n",
      "validation\n",
      "\n"
     ]
    },
    {
     "name": "stderr",
     "output_type": "stream",
     "text": [
      "100%|██████████| 1105/1105 [00:00<00:00, 8570.50it/s]\n"
     ]
    },
    {
     "name": "stdout",
     "output_type": "stream",
     "text": [
      "Missed_parsing_zero 0\n",
      "Lenght papers_to_drop in validation based on train Title ID: 0\n",
      "Lenght papers_to_drop in validation based on train TDM Match: 661\n",
      "Lenght papers from validation with lb: 661\n",
      "Lenght papers from validation with no_lb: 444\n",
      "Lenght papers from train with lb: 7025\n",
      "Lenght papers from train with no_lb: 3033\n",
      "zeroshot_paper_in_train: 0\n",
      "zeroshot_paper_in_validation: 0\n",
      "validation_paper_in_train: 0\n",
      "validation_paper_in_zeroshot: 0\n"
     ]
    },
    {
     "data": {
      "text/html": [
       "<div>\n",
       "<style scoped>\n",
       "    .dataframe tbody tr th:only-of-type {\n",
       "        vertical-align: middle;\n",
       "    }\n",
       "\n",
       "    .dataframe tbody tr th {\n",
       "        vertical-align: top;\n",
       "    }\n",
       "\n",
       "    .dataframe thead th {\n",
       "        text-align: right;\n",
       "    }\n",
       "</style>\n",
       "<table border=\"1\" class=\"dataframe\">\n",
       "  <thead>\n",
       "    <tr style=\"text-align: right;\">\n",
       "      <th></th>\n",
       "      <th>id</th>\n",
       "      <th>prompt</th>\n",
       "      <th>answer</th>\n",
       "      <th>template</th>\n",
       "      <th>leaderboard</th>\n",
       "    </tr>\n",
       "  </thead>\n",
       "  <tbody>\n",
       "    <tr>\n",
       "      <th>count</th>\n",
       "      <td>595</td>\n",
       "      <td>595</td>\n",
       "      <td>595</td>\n",
       "      <td>595</td>\n",
       "      <td>595</td>\n",
       "    </tr>\n",
       "    <tr>\n",
       "      <th>unique</th>\n",
       "      <td>595</td>\n",
       "      <td>595</td>\n",
       "      <td>243</td>\n",
       "      <td>1</td>\n",
       "      <td>2</td>\n",
       "    </tr>\n",
       "    <tr>\n",
       "      <th>top</th>\n",
       "      <td>2006.04026v1.pdf</td>\n",
       "      <td>Context: SharinGAN: Combining Synthetic and Re...</td>\n",
       "      <td>unanswerable</td>\n",
       "      <td>drop_7</td>\n",
       "      <td>no_lb</td>\n",
       "    </tr>\n",
       "    <tr>\n",
       "      <th>freq</th>\n",
       "      <td>1</td>\n",
       "      <td>1</td>\n",
       "      <td>353</td>\n",
       "      <td>595</td>\n",
       "      <td>353</td>\n",
       "    </tr>\n",
       "  </tbody>\n",
       "</table>\n",
       "</div>"
      ],
      "text/plain": [
       "                      id                                             prompt  \\\n",
       "count                595                                                595   \n",
       "unique               595                                                595   \n",
       "top     2006.04026v1.pdf  Context: SharinGAN: Combining Synthetic and Re...   \n",
       "freq                   1                                                  1   \n",
       "\n",
       "              answer template leaderboard  \n",
       "count            595      595         595  \n",
       "unique           243        1           2  \n",
       "top     unanswerable   drop_7       no_lb  \n",
       "freq             353      595         353  "
      ]
     },
     "metadata": {},
     "output_type": "display_data"
    },
    {
     "data": {
      "application/vnd.jupyter.widget-view+json": {
       "model_id": "8a1cc43f17d445b6bc1fde9ce441a4c0",
       "version_major": 2,
       "version_minor": 0
      },
      "text/plain": [
       "Saving the dataset (0/1 shards):   0%|          | 0/10065 [00:00<?, ? examples/s]"
      ]
     },
     "metadata": {},
     "output_type": "display_data"
    },
    {
     "data": {
      "application/vnd.jupyter.widget-view+json": {
       "model_id": "0b90a20161d44c5c8f7eb7b8e669b5d6",
       "version_major": 2,
       "version_minor": 0
      },
      "text/plain": [
       "Saving the dataset (0/1 shards):   0%|          | 0/1105 [00:00<?, ? examples/s]"
      ]
     },
     "metadata": {},
     "output_type": "display_data"
    },
    {
     "data": {
      "application/vnd.jupyter.widget-view+json": {
       "model_id": "2abab905a4124ffdb9121027199f6f6e",
       "version_major": 2,
       "version_minor": 0
      },
      "text/plain": [
       "Saving the dataset (0/1 shards):   0%|          | 0/595 [00:00<?, ? examples/s]"
      ]
     },
     "metadata": {},
     "output_type": "display_data"
    }
   ],
   "source": [
    "for drop_id in range(1, 8):\n",
    "    print(f\"DROP: {drop_id}\")\n",
    "    dataset_path = f\"../data/LLLM_AUGMENTED_SUMMARIZED_WITH_ID_ZEROSHOT_TDMS_DROP_{drop_id}_DOCTEAT/fold1\"\n",
    "\n",
    "    dataset_dict = DatasetDict.load_from_disk(f\"{dataset_path}\")\n",
    "        \n",
    "    dfs = {split: dataset.to_pandas() for split, dataset in dataset_dict.items()}\n",
    "    dfs['train']['leaderboard'] = dfs['train'].answer.apply(lambda x: \"no_lb\" if x == \"unanswerable\" else \"lb\")\n",
    "    dfs['validation']['leaderboard'] = dfs['validation'].answer.apply(lambda x: \"no_lb\" if x == \"unanswerable\" else \"lb\")\n",
    "    dfs['zeroshot']['leaderboard'] = dfs['zeroshot'].answer.apply(lambda x: \"no_lb\" if x == \"unanswerable\" else \"lb\")\n",
    "    \n",
    "    print(\"\\nZeroshot\\n\")\n",
    "    zeroshot_papers_to_drop = remove_data_leakage(dfs, source=\"zeroshot\", target=\"train\", THRESHOLD=90)\n",
    "    print(\"\\nvalidation\\n\")\n",
    "    validation_papers_to_drop = remove_data_leakage(dfs, source=\"validation\", target=\"train\", THRESHOLD=90)\n",
    "    \n",
    "    print(f\"len(dfs['zeroshot']): {len(dfs['zeroshot'])}\")\n",
    "    print(f\"len(dfs['validation']): {len(dfs['validation'])}\")\n",
    "\n",
    "    dfs['zeroshot'] = dfs['zeroshot'][~dfs['zeroshot']['id'].isin(zeroshot_papers_to_drop['id'])]\n",
    "    dfs['validation'] = dfs['validation'][~dfs['validation']['id'].isin(validation_papers_to_drop['id'])]\n",
    "\n",
    "    print(f\"len(dfs['zeroshot']): {len(dfs['zeroshot'])}\")\n",
    "    print(f\"len(dfs['validation']): {len(dfs['validation'])}\")\n",
    "    \n",
    "    # In zeroshot means paper to remove from zero-shot to make it real zershot, in the sense that \n",
    "    # At least one of the leaderboard was not seen at training time \n",
    "    print(\"\\nZeroshot\\n\")\n",
    "    zeroshot_papers_to_drop = remove_data_leakage(dfs, source=\"zeroshot\", target=\"train\", THRESHOLD=90)\n",
    "    print(\"\\nvalidation\\n\")\n",
    "    # in validation this means paper to keep as part of few shot \n",
    "    validation_papers_to_drop = remove_data_leakage(dfs, source=\"validation\", target=\"train\", THRESHOLD=90)\n",
    "    \n",
    "    zeroshot_concat = pd.concat([dfs['zeroshot'], dfs['validation'][~(dfs['validation']['id'].isin(validation_papers_to_drop['tdm'])) & (dfs['validation']['leaderboard']==\"lb\")]], ignore_index=True)\n",
    "    print(f\"len(zeroshot_concat): {len(zeroshot_concat)}\")\n",
    "\n",
    "    validation_concat = pd.concat([dfs['validation'], dfs['zeroshot'][dfs['zeroshot']['id'].isin(zeroshot_papers_to_drop['tdm'])]], ignore_index=True)\n",
    "    print(f\"len(validation_concat): {len(validation_concat)}\")\n",
    "    \n",
    "    # Filtering the DataFrame\n",
    "    dfs['zeroshot'] = zeroshot_concat.copy()\n",
    "    dfs['zeroshot'] = dfs['zeroshot'][~dfs['zeroshot']['id'].isin(zeroshot_papers_to_drop['tdm'])]\n",
    "    dfs['zeroshot'].drop_duplicates(subset='id', inplace=True)\n",
    "    dfs['zeroshot'].drop([\"prompt lenght\", \"__index_level_0__\"], axis=1).describe()\n",
    "    \n",
    "    # Filtering the DataFrame\n",
    "    dfs['validation'] = validation_concat.copy()\n",
    "    # I want to keep all the no leaderboard papers in validation \n",
    "    dfs['validation'] = dfs['validation'][(dfs['validation']['id'].isin(validation_papers_to_drop['tdm'])) | (dfs['validation']['leaderboard']==\"no_lb\")]\n",
    "    dfs['validation'].drop_duplicates(subset='id', inplace=True)\n",
    "    dfs['validation'].drop([\"prompt lenght\", \"__index_level_0__\"], axis=1).describe()\n",
    "    \n",
    "    print(\"\\nZeroshot\\n\")\n",
    "    zeroshot_papers_to_drop = remove_data_leakage(dfs, source=\"zeroshot\", target=\"train\", THRESHOLD=90)\n",
    "    print(\"\\nvalidation\\n\")\n",
    "    validation_papers_to_drop = remove_data_leakage(dfs, source=\"validation\", target=\"train\", THRESHOLD=90)\n",
    "    \n",
    "    dfs['train'].drop([\"__index_level_0__\"], inplace=True, axis=1)\n",
    "    dfs['validation'].drop([\"__index_level_0__\"], inplace=True, axis=1)\n",
    "    dfs['zeroshot'].drop([\"__index_level_0__\"], inplace=True, axis=1)\n",
    "\n",
    "    # no leaderboard paper can be shared between few-shot and zero-shot\n",
    "    verify_data_integrity(dfs, include_no_lb=False)\n",
    "    \n",
    "    display(dfs['zeroshot'].drop([\"prompt lenght\"], axis=1).describe())\n",
    "    \n",
    "    dataset = DatasetDict({\n",
    "        \"train\": Dataset.from_pandas(dfs['train']),\n",
    "        \"validation\": Dataset.from_pandas(dfs['validation']),\n",
    "        \"zeroshot\": Dataset.from_pandas(dfs['zeroshot'])\n",
    "    })\n",
    "\n",
    "    dataset.save_to_disk(f\"../data/LEADERBOARDS_DOCTEAT_TDMS_NO_TEMPLATES_DROP_{drop_id}_STRICT\")"
   ]
  },
  {
   "cell_type": "markdown",
   "id": "5457854a",
   "metadata": {},
   "source": [
    "## DOCTEAT"
   ]
  },
  {
   "cell_type": "markdown",
   "id": "fe5c30b2",
   "metadata": {},
   "source": [
    "### RELAX"
   ]
  },
  {
   "cell_type": "code",
   "execution_count": 20,
   "id": "29575aef",
   "metadata": {},
   "outputs": [],
   "source": [
    "dataset_path = f\"../data/LLLM_AUGMENTED_SUMMARIZED_ZEROSHOT_TDMS_NO_TEMPLATE_DOCTEAT/fold1\"\n",
    "\n",
    "dataset_dict = DatasetDict.load_from_disk(f\"{dataset_path}\")\n",
    "    \n",
    "dfs = {split: dataset.to_pandas() for split, dataset in dataset_dict.items()}"
   ]
  },
  {
   "cell_type": "code",
   "execution_count": 21,
   "id": "ffe90a66",
   "metadata": {},
   "outputs": [
    {
     "data": {
      "text/html": [
       "<div>\n",
       "<style scoped>\n",
       "    .dataframe tbody tr th:only-of-type {\n",
       "        vertical-align: middle;\n",
       "    }\n",
       "\n",
       "    .dataframe tbody tr th {\n",
       "        vertical-align: top;\n",
       "    }\n",
       "\n",
       "    .dataframe thead th {\n",
       "        text-align: right;\n",
       "    }\n",
       "</style>\n",
       "<table border=\"1\" class=\"dataframe\">\n",
       "  <thead>\n",
       "    <tr style=\"text-align: right;\">\n",
       "      <th></th>\n",
       "      <th>prompt lenght</th>\n",
       "      <th>__index_level_0__</th>\n",
       "    </tr>\n",
       "  </thead>\n",
       "  <tbody>\n",
       "    <tr>\n",
       "      <th>count</th>\n",
       "      <td>150870.000000</td>\n",
       "      <td>150870.000000</td>\n",
       "    </tr>\n",
       "    <tr>\n",
       "      <th>mean</th>\n",
       "      <td>485.707298</td>\n",
       "      <td>75434.500000</td>\n",
       "    </tr>\n",
       "    <tr>\n",
       "      <th>std</th>\n",
       "      <td>398.720864</td>\n",
       "      <td>43552.561894</td>\n",
       "    </tr>\n",
       "    <tr>\n",
       "      <th>min</th>\n",
       "      <td>27.000000</td>\n",
       "      <td>0.000000</td>\n",
       "    </tr>\n",
       "    <tr>\n",
       "      <th>25%</th>\n",
       "      <td>216.000000</td>\n",
       "      <td>37717.250000</td>\n",
       "    </tr>\n",
       "    <tr>\n",
       "      <th>50%</th>\n",
       "      <td>392.000000</td>\n",
       "      <td>75434.500000</td>\n",
       "    </tr>\n",
       "    <tr>\n",
       "      <th>75%</th>\n",
       "      <td>640.000000</td>\n",
       "      <td>113151.750000</td>\n",
       "    </tr>\n",
       "    <tr>\n",
       "      <th>max</th>\n",
       "      <td>7344.000000</td>\n",
       "      <td>150869.000000</td>\n",
       "    </tr>\n",
       "  </tbody>\n",
       "</table>\n",
       "</div>"
      ],
      "text/plain": [
       "       prompt lenght  __index_level_0__\n",
       "count  150870.000000      150870.000000\n",
       "mean      485.707298       75434.500000\n",
       "std       398.720864       43552.561894\n",
       "min        27.000000           0.000000\n",
       "25%       216.000000       37717.250000\n",
       "50%       392.000000       75434.500000\n",
       "75%       640.000000      113151.750000\n",
       "max      7344.000000      150869.000000"
      ]
     },
     "execution_count": 21,
     "metadata": {},
     "output_type": "execute_result"
    }
   ],
   "source": [
    "dfs['train'].describe()"
   ]
  },
  {
   "cell_type": "code",
   "execution_count": 22,
   "id": "066ed3b8",
   "metadata": {},
   "outputs": [
    {
     "data": {
      "text/html": [
       "<div>\n",
       "<style scoped>\n",
       "    .dataframe tbody tr th:only-of-type {\n",
       "        vertical-align: middle;\n",
       "    }\n",
       "\n",
       "    .dataframe tbody tr th {\n",
       "        vertical-align: top;\n",
       "    }\n",
       "\n",
       "    .dataframe thead th {\n",
       "        text-align: right;\n",
       "    }\n",
       "</style>\n",
       "<table border=\"1\" class=\"dataframe\">\n",
       "  <thead>\n",
       "    <tr style=\"text-align: right;\">\n",
       "      <th></th>\n",
       "      <th>prompt lenght</th>\n",
       "      <th>__index_level_0__</th>\n",
       "    </tr>\n",
       "  </thead>\n",
       "  <tbody>\n",
       "    <tr>\n",
       "      <th>count</th>\n",
       "      <td>20205.000000</td>\n",
       "      <td>20205.00000</td>\n",
       "    </tr>\n",
       "    <tr>\n",
       "      <th>mean</th>\n",
       "      <td>473.135857</td>\n",
       "      <td>10102.00000</td>\n",
       "    </tr>\n",
       "    <tr>\n",
       "      <th>std</th>\n",
       "      <td>352.229574</td>\n",
       "      <td>5832.82543</td>\n",
       "    </tr>\n",
       "    <tr>\n",
       "      <th>min</th>\n",
       "      <td>26.000000</td>\n",
       "      <td>0.00000</td>\n",
       "    </tr>\n",
       "    <tr>\n",
       "      <th>25%</th>\n",
       "      <td>222.000000</td>\n",
       "      <td>5051.00000</td>\n",
       "    </tr>\n",
       "    <tr>\n",
       "      <th>50%</th>\n",
       "      <td>387.000000</td>\n",
       "      <td>10102.00000</td>\n",
       "    </tr>\n",
       "    <tr>\n",
       "      <th>75%</th>\n",
       "      <td>614.000000</td>\n",
       "      <td>15153.00000</td>\n",
       "    </tr>\n",
       "    <tr>\n",
       "      <th>max</th>\n",
       "      <td>3431.000000</td>\n",
       "      <td>20204.00000</td>\n",
       "    </tr>\n",
       "  </tbody>\n",
       "</table>\n",
       "</div>"
      ],
      "text/plain": [
       "       prompt lenght  __index_level_0__\n",
       "count   20205.000000        20205.00000\n",
       "mean      473.135857        10102.00000\n",
       "std       352.229574         5832.82543\n",
       "min        26.000000            0.00000\n",
       "25%       222.000000         5051.00000\n",
       "50%       387.000000        10102.00000\n",
       "75%       614.000000        15153.00000\n",
       "max      3431.000000        20204.00000"
      ]
     },
     "execution_count": 22,
     "metadata": {},
     "output_type": "execute_result"
    }
   ],
   "source": [
    "dfs['validation'].describe()"
   ]
  },
  {
   "cell_type": "code",
   "execution_count": 23,
   "id": "6e68d252",
   "metadata": {},
   "outputs": [
    {
     "data": {
      "text/html": [
       "<div>\n",
       "<style scoped>\n",
       "    .dataframe tbody tr th:only-of-type {\n",
       "        vertical-align: middle;\n",
       "    }\n",
       "\n",
       "    .dataframe tbody tr th {\n",
       "        vertical-align: top;\n",
       "    }\n",
       "\n",
       "    .dataframe thead th {\n",
       "        text-align: right;\n",
       "    }\n",
       "</style>\n",
       "<table border=\"1\" class=\"dataframe\">\n",
       "  <thead>\n",
       "    <tr style=\"text-align: right;\">\n",
       "      <th></th>\n",
       "      <th>prompt lenght</th>\n",
       "      <th>__index_level_0__</th>\n",
       "    </tr>\n",
       "  </thead>\n",
       "  <tbody>\n",
       "    <tr>\n",
       "      <th>count</th>\n",
       "      <td>13890.000000</td>\n",
       "      <td>13890.000000</td>\n",
       "    </tr>\n",
       "    <tr>\n",
       "      <th>mean</th>\n",
       "      <td>444.615551</td>\n",
       "      <td>6944.500000</td>\n",
       "    </tr>\n",
       "    <tr>\n",
       "      <th>std</th>\n",
       "      <td>405.101173</td>\n",
       "      <td>4009.841954</td>\n",
       "    </tr>\n",
       "    <tr>\n",
       "      <th>min</th>\n",
       "      <td>29.000000</td>\n",
       "      <td>0.000000</td>\n",
       "    </tr>\n",
       "    <tr>\n",
       "      <th>25%</th>\n",
       "      <td>199.000000</td>\n",
       "      <td>3472.250000</td>\n",
       "    </tr>\n",
       "    <tr>\n",
       "      <th>50%</th>\n",
       "      <td>342.000000</td>\n",
       "      <td>6944.500000</td>\n",
       "    </tr>\n",
       "    <tr>\n",
       "      <th>75%</th>\n",
       "      <td>582.000000</td>\n",
       "      <td>10416.750000</td>\n",
       "    </tr>\n",
       "    <tr>\n",
       "      <th>max</th>\n",
       "      <td>7344.000000</td>\n",
       "      <td>13889.000000</td>\n",
       "    </tr>\n",
       "  </tbody>\n",
       "</table>\n",
       "</div>"
      ],
      "text/plain": [
       "       prompt lenght  __index_level_0__\n",
       "count   13890.000000       13890.000000\n",
       "mean      444.615551        6944.500000\n",
       "std       405.101173        4009.841954\n",
       "min        29.000000           0.000000\n",
       "25%       199.000000        3472.250000\n",
       "50%       342.000000        6944.500000\n",
       "75%       582.000000       10416.750000\n",
       "max      7344.000000       13889.000000"
      ]
     },
     "execution_count": 23,
     "metadata": {},
     "output_type": "execute_result"
    }
   ],
   "source": [
    "dfs['zeroshot'].describe()"
   ]
  },
  {
   "cell_type": "code",
   "execution_count": 24,
   "id": "6725e44d",
   "metadata": {},
   "outputs": [
    {
     "name": "stderr",
     "output_type": "stream",
     "text": [
      "  0%|          | 0/926 [00:00<?, ?it/s]"
     ]
    },
    {
     "name": "stderr",
     "output_type": "stream",
     "text": [
      "100%|██████████| 926/926 [09:12<00:00,  1.68it/s] "
     ]
    },
    {
     "name": "stdout",
     "output_type": "stream",
     "text": [
      "Missed_parsing_zero 0\n",
      "Lenght papers_to_drop in zeroshot based on train: 573\n"
     ]
    },
    {
     "name": "stderr",
     "output_type": "stream",
     "text": [
      "\n"
     ]
    }
   ],
   "source": [
    "zeroshot_papers_to_drop_no_lb = remove_data_leakage(dfs, source=\"zeroshot\", target=\"train\", THRESHOLD=90)"
   ]
  },
  {
   "cell_type": "code",
   "execution_count": 25,
   "id": "c4862fd8",
   "metadata": {},
   "outputs": [
    {
     "name": "stderr",
     "output_type": "stream",
     "text": [
      "100%|██████████| 926/926 [00:00<00:00, 3200.91it/s]"
     ]
    },
    {
     "name": "stdout",
     "output_type": "stream",
     "text": [
      "408\n"
     ]
    },
    {
     "name": "stderr",
     "output_type": "stream",
     "text": [
      "\n"
     ]
    }
   ],
   "source": [
    "# validation_papers_to_drop_no_lb = remove_data_leakage(dfs, source=\"validation\", target=\"zeroshot\", THRESHOLD=90)\n",
    "\n",
    "records = dfs['zeroshot'].to_dict(\"records\")\n",
    "validation_papers_to_drop_no_lb = set()\n",
    "for row in tqdm(records, total=len(records)):\n",
    "    # if row['id'] in dfs['train']['id'].to_list():\n",
    "    #     duplicate+=1\n",
    "    if row['id'] in dfs['validation']['id'].to_list():\n",
    "        validation_papers_to_drop_no_lb.add(row['id'])\n",
    "        \n",
    "print(len(validation_papers_to_drop_no_lb))"
   ]
  },
  {
   "cell_type": "code",
   "execution_count": 26,
   "id": "86b4f0e1",
   "metadata": {},
   "outputs": [
    {
     "data": {
      "text/html": [
       "<div>\n",
       "<style scoped>\n",
       "    .dataframe tbody tr th:only-of-type {\n",
       "        vertical-align: middle;\n",
       "    }\n",
       "\n",
       "    .dataframe tbody tr th {\n",
       "        vertical-align: top;\n",
       "    }\n",
       "\n",
       "    .dataframe thead th {\n",
       "        text-align: right;\n",
       "    }\n",
       "</style>\n",
       "<table border=\"1\" class=\"dataframe\">\n",
       "  <thead>\n",
       "    <tr style=\"text-align: right;\">\n",
       "      <th></th>\n",
       "      <th>prompt lenght</th>\n",
       "      <th>__index_level_0__</th>\n",
       "    </tr>\n",
       "  </thead>\n",
       "  <tbody>\n",
       "    <tr>\n",
       "      <th>count</th>\n",
       "      <td>353.000000</td>\n",
       "      <td>353.00000</td>\n",
       "    </tr>\n",
       "    <tr>\n",
       "      <th>mean</th>\n",
       "      <td>197.560907</td>\n",
       "      <td>11235.00000</td>\n",
       "    </tr>\n",
       "    <tr>\n",
       "      <th>std</th>\n",
       "      <td>99.668184</td>\n",
       "      <td>1530.69837</td>\n",
       "    </tr>\n",
       "    <tr>\n",
       "      <th>min</th>\n",
       "      <td>29.000000</td>\n",
       "      <td>8595.00000</td>\n",
       "    </tr>\n",
       "    <tr>\n",
       "      <th>25%</th>\n",
       "      <td>138.000000</td>\n",
       "      <td>9915.00000</td>\n",
       "    </tr>\n",
       "    <tr>\n",
       "      <th>50%</th>\n",
       "      <td>192.000000</td>\n",
       "      <td>11235.00000</td>\n",
       "    </tr>\n",
       "    <tr>\n",
       "      <th>75%</th>\n",
       "      <td>234.000000</td>\n",
       "      <td>12555.00000</td>\n",
       "    </tr>\n",
       "    <tr>\n",
       "      <th>max</th>\n",
       "      <td>677.000000</td>\n",
       "      <td>13875.00000</td>\n",
       "    </tr>\n",
       "  </tbody>\n",
       "</table>\n",
       "</div>"
      ],
      "text/plain": [
       "       prompt lenght  __index_level_0__\n",
       "count     353.000000          353.00000\n",
       "mean      197.560907        11235.00000\n",
       "std        99.668184         1530.69837\n",
       "min        29.000000         8595.00000\n",
       "25%       138.000000         9915.00000\n",
       "50%       192.000000        11235.00000\n",
       "75%       234.000000        12555.00000\n",
       "max       677.000000        13875.00000"
      ]
     },
     "execution_count": 26,
     "metadata": {},
     "output_type": "execute_result"
    }
   ],
   "source": [
    "# Filtering the DataFrame\n",
    "dfs['zeroshot'] = dfs['zeroshot'][~dfs['zeroshot']['id'].isin(zeroshot_papers_to_drop_no_lb)]\n",
    "dfs['zeroshot'].describe()"
   ]
  },
  {
   "cell_type": "code",
   "execution_count": 27,
   "id": "7771877f",
   "metadata": {},
   "outputs": [
    {
     "data": {
      "text/html": [
       "<div>\n",
       "<style scoped>\n",
       "    .dataframe tbody tr th:only-of-type {\n",
       "        vertical-align: middle;\n",
       "    }\n",
       "\n",
       "    .dataframe tbody tr th {\n",
       "        vertical-align: top;\n",
       "    }\n",
       "\n",
       "    .dataframe thead th {\n",
       "        text-align: right;\n",
       "    }\n",
       "</style>\n",
       "<table border=\"1\" class=\"dataframe\">\n",
       "  <thead>\n",
       "    <tr style=\"text-align: right;\">\n",
       "      <th></th>\n",
       "      <th>prompt lenght</th>\n",
       "      <th>__index_level_0__</th>\n",
       "    </tr>\n",
       "  </thead>\n",
       "  <tbody>\n",
       "    <tr>\n",
       "      <th>count</th>\n",
       "      <td>14085.000000</td>\n",
       "      <td>14085.000000</td>\n",
       "    </tr>\n",
       "    <tr>\n",
       "      <th>mean</th>\n",
       "      <td>568.654952</td>\n",
       "      <td>7441.408946</td>\n",
       "    </tr>\n",
       "    <tr>\n",
       "      <th>std</th>\n",
       "      <td>357.924884</td>\n",
       "      <td>4298.798394</td>\n",
       "    </tr>\n",
       "    <tr>\n",
       "      <th>min</th>\n",
       "      <td>26.000000</td>\n",
       "      <td>0.000000</td>\n",
       "    </tr>\n",
       "    <tr>\n",
       "      <th>25%</th>\n",
       "      <td>325.000000</td>\n",
       "      <td>3716.000000</td>\n",
       "    </tr>\n",
       "    <tr>\n",
       "      <th>50%</th>\n",
       "      <td>497.000000</td>\n",
       "      <td>7432.000000</td>\n",
       "    </tr>\n",
       "    <tr>\n",
       "      <th>75%</th>\n",
       "      <td>709.000000</td>\n",
       "      <td>11148.000000</td>\n",
       "    </tr>\n",
       "    <tr>\n",
       "      <th>max</th>\n",
       "      <td>3431.000000</td>\n",
       "      <td>14909.000000</td>\n",
       "    </tr>\n",
       "  </tbody>\n",
       "</table>\n",
       "</div>"
      ],
      "text/plain": [
       "       prompt lenght  __index_level_0__\n",
       "count   14085.000000       14085.000000\n",
       "mean      568.654952        7441.408946\n",
       "std       357.924884        4298.798394\n",
       "min        26.000000           0.000000\n",
       "25%       325.000000        3716.000000\n",
       "50%       497.000000        7432.000000\n",
       "75%       709.000000       11148.000000\n",
       "max      3431.000000       14909.000000"
      ]
     },
     "execution_count": 27,
     "metadata": {},
     "output_type": "execute_result"
    }
   ],
   "source": [
    "# Filtering the DataFrame\n",
    "dfs['validation'] = dfs['validation'][~dfs['validation']['id'].isin(validation_papers_to_drop_no_lb)]\n",
    "dfs['validation'].describe()"
   ]
  },
  {
   "cell_type": "code",
   "execution_count": 28,
   "id": "983e362b",
   "metadata": {},
   "outputs": [
    {
     "data": {
      "text/html": [
       "<div>\n",
       "<style scoped>\n",
       "    .dataframe tbody tr th:only-of-type {\n",
       "        vertical-align: middle;\n",
       "    }\n",
       "\n",
       "    .dataframe tbody tr th {\n",
       "        vertical-align: top;\n",
       "    }\n",
       "\n",
       "    .dataframe thead th {\n",
       "        text-align: right;\n",
       "    }\n",
       "</style>\n",
       "<table border=\"1\" class=\"dataframe\">\n",
       "  <thead>\n",
       "    <tr style=\"text-align: right;\">\n",
       "      <th></th>\n",
       "      <th>prompt lenght</th>\n",
       "      <th>__index_level_0__</th>\n",
       "    </tr>\n",
       "  </thead>\n",
       "  <tbody>\n",
       "    <tr>\n",
       "      <th>count</th>\n",
       "      <td>10058.000000</td>\n",
       "      <td>10058.000000</td>\n",
       "    </tr>\n",
       "    <tr>\n",
       "      <th>mean</th>\n",
       "      <td>485.707298</td>\n",
       "      <td>75427.500000</td>\n",
       "    </tr>\n",
       "    <tr>\n",
       "      <th>std</th>\n",
       "      <td>398.739365</td>\n",
       "      <td>43554.582566</td>\n",
       "    </tr>\n",
       "    <tr>\n",
       "      <th>min</th>\n",
       "      <td>27.000000</td>\n",
       "      <td>0.000000</td>\n",
       "    </tr>\n",
       "    <tr>\n",
       "      <th>25%</th>\n",
       "      <td>216.000000</td>\n",
       "      <td>37713.750000</td>\n",
       "    </tr>\n",
       "    <tr>\n",
       "      <th>50%</th>\n",
       "      <td>392.000000</td>\n",
       "      <td>75427.500000</td>\n",
       "    </tr>\n",
       "    <tr>\n",
       "      <th>75%</th>\n",
       "      <td>640.000000</td>\n",
       "      <td>113141.250000</td>\n",
       "    </tr>\n",
       "    <tr>\n",
       "      <th>max</th>\n",
       "      <td>7344.000000</td>\n",
       "      <td>150855.000000</td>\n",
       "    </tr>\n",
       "  </tbody>\n",
       "</table>\n",
       "</div>"
      ],
      "text/plain": [
       "       prompt lenght  __index_level_0__\n",
       "count   10058.000000       10058.000000\n",
       "mean      485.707298       75427.500000\n",
       "std       398.739365       43554.582566\n",
       "min        27.000000           0.000000\n",
       "25%       216.000000       37713.750000\n",
       "50%       392.000000       75427.500000\n",
       "75%       640.000000      113141.250000\n",
       "max      7344.000000      150855.000000"
      ]
     },
     "execution_count": 28,
     "metadata": {},
     "output_type": "execute_result"
    }
   ],
   "source": [
    "# Filtering the DataFrame\n",
    "dfs['train'].describe()"
   ]
  },
  {
   "cell_type": "code",
   "execution_count": 29,
   "id": "69b74d03",
   "metadata": {},
   "outputs": [],
   "source": [
    "dfs['train'].drop([\"template\", \"__index_level_0__\"], inplace=True, axis=1)\n",
    "dfs['validation'].drop([\"template\", \"__index_level_0__\"], inplace=True, axis=1)\n",
    "dfs['zeroshot'].drop([\"template\", \"__index_level_0__\"], inplace=True, axis=1)"
   ]
  },
  {
   "cell_type": "code",
   "execution_count": 30,
   "id": "e6663540",
   "metadata": {},
   "outputs": [
    {
     "data": {
      "text/html": [
       "<div>\n",
       "<style scoped>\n",
       "    .dataframe tbody tr th:only-of-type {\n",
       "        vertical-align: middle;\n",
       "    }\n",
       "\n",
       "    .dataframe tbody tr th {\n",
       "        vertical-align: top;\n",
       "    }\n",
       "\n",
       "    .dataframe thead th {\n",
       "        text-align: right;\n",
       "    }\n",
       "</style>\n",
       "<table border=\"1\" class=\"dataframe\">\n",
       "  <thead>\n",
       "    <tr style=\"text-align: right;\">\n",
       "      <th></th>\n",
       "      <th>id</th>\n",
       "      <th>prompt</th>\n",
       "      <th>answer</th>\n",
       "      <th>prompt lenght</th>\n",
       "    </tr>\n",
       "  </thead>\n",
       "  <tbody>\n",
       "    <tr>\n",
       "      <th>150795</th>\n",
       "      <td>1401.6576.pdf</td>\n",
       "      <td>Adding modular predicates to first-order fragm...</td>\n",
       "      <td>unanswerable</td>\n",
       "      <td>206</td>\n",
       "    </tr>\n",
       "    <tr>\n",
       "      <th>150810</th>\n",
       "      <td>1304.4691.pdf</td>\n",
       "      <td>Efficient Calculation of Determinants of Symbo...</td>\n",
       "      <td>unanswerable</td>\n",
       "      <td>128</td>\n",
       "    </tr>\n",
       "    <tr>\n",
       "      <th>150825</th>\n",
       "      <td>1001.3388.pdf</td>\n",
       "      <td>Approximate Privacy: PARs for Set Problems In ...</td>\n",
       "      <td>unanswerable</td>\n",
       "      <td>183</td>\n",
       "    </tr>\n",
       "    <tr>\n",
       "      <th>150840</th>\n",
       "      <td>0706.2010.pdf</td>\n",
       "      <td>Information-theoretic securitywithout an hones...</td>\n",
       "      <td>unanswerable</td>\n",
       "      <td>131</td>\n",
       "    </tr>\n",
       "    <tr>\n",
       "      <th>150855</th>\n",
       "      <td>1111.2942.pdf</td>\n",
       "      <td>Down the Rabbit Hole: Robust Proximity Search ...</td>\n",
       "      <td>unanswerable</td>\n",
       "      <td>232</td>\n",
       "    </tr>\n",
       "  </tbody>\n",
       "</table>\n",
       "</div>"
      ],
      "text/plain": [
       "                   id                                             prompt  \\\n",
       "150795  1401.6576.pdf  Adding modular predicates to first-order fragm...   \n",
       "150810  1304.4691.pdf  Efficient Calculation of Determinants of Symbo...   \n",
       "150825  1001.3388.pdf  Approximate Privacy: PARs for Set Problems In ...   \n",
       "150840  0706.2010.pdf  Information-theoretic securitywithout an hones...   \n",
       "150855  1111.2942.pdf  Down the Rabbit Hole: Robust Proximity Search ...   \n",
       "\n",
       "              answer  prompt lenght  \n",
       "150795  unanswerable            206  \n",
       "150810  unanswerable            128  \n",
       "150825  unanswerable            183  \n",
       "150840  unanswerable            131  \n",
       "150855  unanswerable            232  "
      ]
     },
     "execution_count": 30,
     "metadata": {},
     "output_type": "execute_result"
    }
   ],
   "source": [
    "dfs['train'].tail()"
   ]
  },
  {
   "cell_type": "code",
   "execution_count": 31,
   "id": "bfd8d757",
   "metadata": {},
   "outputs": [
    {
     "data": {
      "text/plain": [
       "10058"
      ]
     },
     "execution_count": 31,
     "metadata": {},
     "output_type": "execute_result"
    }
   ],
   "source": [
    "dfs['train'].id.nunique()"
   ]
  },
  {
   "cell_type": "code",
   "execution_count": 32,
   "id": "e39a940f",
   "metadata": {},
   "outputs": [
    {
     "name": "stdout",
     "output_type": "stream",
     "text": [
      "zeroshot_paper_in_train: 0\n",
      "zeroshot_paper_in_validation: 0\n",
      "train_paper_in_validation: 0\n",
      "validation_paper_in_zeroshot: 0\n"
     ]
    }
   ],
   "source": [
    "verify_data_integrity(dfs)"
   ]
  },
  {
   "cell_type": "code",
   "execution_count": 33,
   "id": "2a098c9c",
   "metadata": {},
   "outputs": [
    {
     "data": {
      "application/vnd.jupyter.widget-view+json": {
       "model_id": "e79f882641d34436beea91ca666dd332",
       "version_major": 2,
       "version_minor": 0
      },
      "text/plain": [
       "Saving the dataset (0/1 shards):   0%|          | 0/10058 [00:00<?, ? examples/s]"
      ]
     },
     "metadata": {},
     "output_type": "display_data"
    },
    {
     "data": {
      "application/vnd.jupyter.widget-view+json": {
       "model_id": "4240b4afef7a4a75bb8ee5499598bda7",
       "version_major": 2,
       "version_minor": 0
      },
      "text/plain": [
       "Saving the dataset (0/1 shards):   0%|          | 0/14085 [00:00<?, ? examples/s]"
      ]
     },
     "metadata": {},
     "output_type": "display_data"
    },
    {
     "data": {
      "application/vnd.jupyter.widget-view+json": {
       "model_id": "8e7adc82276443f6b9afda45ac77980d",
       "version_major": 2,
       "version_minor": 0
      },
      "text/plain": [
       "Saving the dataset (0/1 shards):   0%|          | 0/353 [00:00<?, ? examples/s]"
      ]
     },
     "metadata": {},
     "output_type": "display_data"
    }
   ],
   "source": [
    "dataset = DatasetDict({\n",
    "        \"train\": Dataset.from_pandas(dfs['train']),\n",
    "        \"validation\": Dataset.from_pandas(dfs['validation']),\n",
    "        \"zeroshot\": Dataset.from_pandas(dfs['zeroshot'])\n",
    "    })\n",
    "\n",
    "dataset.save_to_disk(\"../data/LEADERBOARDS_DOCTEAT_TDMS_NO_TEMPLATES_RELAX\")"
   ]
  },
  {
   "cell_type": "markdown",
   "id": "26ecbb9a",
   "metadata": {},
   "source": [
    "### Templates Specific"
   ]
  },
  {
   "cell_type": "code",
   "execution_count": 34,
   "id": "94aa88a2",
   "metadata": {},
   "outputs": [
    {
     "name": "stdout",
     "output_type": "stream",
     "text": [
      "SQUAD: 1\n"
     ]
    },
    {
     "name": "stderr",
     "output_type": "stream",
     "text": [
      "  0%|          | 0/926 [00:00<?, ?it/s]"
     ]
    },
    {
     "name": "stderr",
     "output_type": "stream",
     "text": [
      "100%|██████████| 926/926 [09:13<00:00,  1.67it/s] \n"
     ]
    },
    {
     "name": "stdout",
     "output_type": "stream",
     "text": [
      "Missed_parsing_zero 0\n",
      "Lenght papers_to_drop in zeroshot based on train: 573\n"
     ]
    },
    {
     "name": "stderr",
     "output_type": "stream",
     "text": [
      "100%|██████████| 926/926 [00:00<00:00, 74059.94it/s]"
     ]
    },
    {
     "name": "stdout",
     "output_type": "stream",
     "text": [
      "408\n"
     ]
    },
    {
     "name": "stderr",
     "output_type": "stream",
     "text": [
      "\n"
     ]
    },
    {
     "data": {
      "text/html": [
       "<div>\n",
       "<style scoped>\n",
       "    .dataframe tbody tr th:only-of-type {\n",
       "        vertical-align: middle;\n",
       "    }\n",
       "\n",
       "    .dataframe tbody tr th {\n",
       "        vertical-align: top;\n",
       "    }\n",
       "\n",
       "    .dataframe thead th {\n",
       "        text-align: right;\n",
       "    }\n",
       "</style>\n",
       "<table border=\"1\" class=\"dataframe\">\n",
       "  <thead>\n",
       "    <tr style=\"text-align: right;\">\n",
       "      <th></th>\n",
       "      <th>prompt lenght</th>\n",
       "      <th>__index_level_0__</th>\n",
       "    </tr>\n",
       "  </thead>\n",
       "  <tbody>\n",
       "    <tr>\n",
       "      <th>count</th>\n",
       "      <td>10058.000000</td>\n",
       "      <td>10058.000000</td>\n",
       "    </tr>\n",
       "    <tr>\n",
       "      <th>mean</th>\n",
       "      <td>498.707298</td>\n",
       "      <td>75427.500000</td>\n",
       "    </tr>\n",
       "    <tr>\n",
       "      <th>std</th>\n",
       "      <td>398.739365</td>\n",
       "      <td>43554.582566</td>\n",
       "    </tr>\n",
       "    <tr>\n",
       "      <th>min</th>\n",
       "      <td>40.000000</td>\n",
       "      <td>0.000000</td>\n",
       "    </tr>\n",
       "    <tr>\n",
       "      <th>25%</th>\n",
       "      <td>229.000000</td>\n",
       "      <td>37713.750000</td>\n",
       "    </tr>\n",
       "    <tr>\n",
       "      <th>50%</th>\n",
       "      <td>405.000000</td>\n",
       "      <td>75427.500000</td>\n",
       "    </tr>\n",
       "    <tr>\n",
       "      <th>75%</th>\n",
       "      <td>653.000000</td>\n",
       "      <td>113141.250000</td>\n",
       "    </tr>\n",
       "    <tr>\n",
       "      <th>max</th>\n",
       "      <td>7357.000000</td>\n",
       "      <td>150855.000000</td>\n",
       "    </tr>\n",
       "  </tbody>\n",
       "</table>\n",
       "</div>"
      ],
      "text/plain": [
       "       prompt lenght  __index_level_0__\n",
       "count   10058.000000       10058.000000\n",
       "mean      498.707298       75427.500000\n",
       "std       398.739365       43554.582566\n",
       "min        40.000000           0.000000\n",
       "25%       229.000000       37713.750000\n",
       "50%       405.000000       75427.500000\n",
       "75%       653.000000      113141.250000\n",
       "max      7357.000000      150855.000000"
      ]
     },
     "metadata": {},
     "output_type": "display_data"
    },
    {
     "data": {
      "text/html": [
       "<div>\n",
       "<style scoped>\n",
       "    .dataframe tbody tr th:only-of-type {\n",
       "        vertical-align: middle;\n",
       "    }\n",
       "\n",
       "    .dataframe tbody tr th {\n",
       "        vertical-align: top;\n",
       "    }\n",
       "\n",
       "    .dataframe thead th {\n",
       "        text-align: right;\n",
       "    }\n",
       "</style>\n",
       "<table border=\"1\" class=\"dataframe\">\n",
       "  <thead>\n",
       "    <tr style=\"text-align: right;\">\n",
       "      <th></th>\n",
       "      <th>prompt lenght</th>\n",
       "      <th>__index_level_0__</th>\n",
       "    </tr>\n",
       "  </thead>\n",
       "  <tbody>\n",
       "    <tr>\n",
       "      <th>count</th>\n",
       "      <td>939.000000</td>\n",
       "      <td>939.000000</td>\n",
       "    </tr>\n",
       "    <tr>\n",
       "      <th>mean</th>\n",
       "      <td>581.654952</td>\n",
       "      <td>7434.408946</td>\n",
       "    </tr>\n",
       "    <tr>\n",
       "      <th>std</th>\n",
       "      <td>358.102912</td>\n",
       "      <td>4300.934395</td>\n",
       "    </tr>\n",
       "    <tr>\n",
       "      <th>min</th>\n",
       "      <td>39.000000</td>\n",
       "      <td>0.000000</td>\n",
       "    </tr>\n",
       "    <tr>\n",
       "      <th>25%</th>\n",
       "      <td>338.000000</td>\n",
       "      <td>3712.500000</td>\n",
       "    </tr>\n",
       "    <tr>\n",
       "      <th>50%</th>\n",
       "      <td>510.000000</td>\n",
       "      <td>7425.000000</td>\n",
       "    </tr>\n",
       "    <tr>\n",
       "      <th>75%</th>\n",
       "      <td>720.500000</td>\n",
       "      <td>11137.500000</td>\n",
       "    </tr>\n",
       "    <tr>\n",
       "      <th>max</th>\n",
       "      <td>3444.000000</td>\n",
       "      <td>14895.000000</td>\n",
       "    </tr>\n",
       "  </tbody>\n",
       "</table>\n",
       "</div>"
      ],
      "text/plain": [
       "       prompt lenght  __index_level_0__\n",
       "count     939.000000         939.000000\n",
       "mean      581.654952        7434.408946\n",
       "std       358.102912        4300.934395\n",
       "min        39.000000           0.000000\n",
       "25%       338.000000        3712.500000\n",
       "50%       510.000000        7425.000000\n",
       "75%       720.500000       11137.500000\n",
       "max      3444.000000       14895.000000"
      ]
     },
     "metadata": {},
     "output_type": "display_data"
    },
    {
     "data": {
      "text/html": [
       "<div>\n",
       "<style scoped>\n",
       "    .dataframe tbody tr th:only-of-type {\n",
       "        vertical-align: middle;\n",
       "    }\n",
       "\n",
       "    .dataframe tbody tr th {\n",
       "        vertical-align: top;\n",
       "    }\n",
       "\n",
       "    .dataframe thead th {\n",
       "        text-align: right;\n",
       "    }\n",
       "</style>\n",
       "<table border=\"1\" class=\"dataframe\">\n",
       "  <thead>\n",
       "    <tr style=\"text-align: right;\">\n",
       "      <th></th>\n",
       "      <th>prompt lenght</th>\n",
       "      <th>__index_level_0__</th>\n",
       "    </tr>\n",
       "  </thead>\n",
       "  <tbody>\n",
       "    <tr>\n",
       "      <th>count</th>\n",
       "      <td>353.000000</td>\n",
       "      <td>353.00000</td>\n",
       "    </tr>\n",
       "    <tr>\n",
       "      <th>mean</th>\n",
       "      <td>210.560907</td>\n",
       "      <td>11235.00000</td>\n",
       "    </tr>\n",
       "    <tr>\n",
       "      <th>std</th>\n",
       "      <td>99.668184</td>\n",
       "      <td>1530.69837</td>\n",
       "    </tr>\n",
       "    <tr>\n",
       "      <th>min</th>\n",
       "      <td>42.000000</td>\n",
       "      <td>8595.00000</td>\n",
       "    </tr>\n",
       "    <tr>\n",
       "      <th>25%</th>\n",
       "      <td>151.000000</td>\n",
       "      <td>9915.00000</td>\n",
       "    </tr>\n",
       "    <tr>\n",
       "      <th>50%</th>\n",
       "      <td>205.000000</td>\n",
       "      <td>11235.00000</td>\n",
       "    </tr>\n",
       "    <tr>\n",
       "      <th>75%</th>\n",
       "      <td>247.000000</td>\n",
       "      <td>12555.00000</td>\n",
       "    </tr>\n",
       "    <tr>\n",
       "      <th>max</th>\n",
       "      <td>690.000000</td>\n",
       "      <td>13875.00000</td>\n",
       "    </tr>\n",
       "  </tbody>\n",
       "</table>\n",
       "</div>"
      ],
      "text/plain": [
       "       prompt lenght  __index_level_0__\n",
       "count     353.000000          353.00000\n",
       "mean      210.560907        11235.00000\n",
       "std        99.668184         1530.69837\n",
       "min        42.000000         8595.00000\n",
       "25%       151.000000         9915.00000\n",
       "50%       205.000000        11235.00000\n",
       "75%       247.000000        12555.00000\n",
       "max       690.000000        13875.00000"
      ]
     },
     "metadata": {},
     "output_type": "display_data"
    },
    {
     "name": "stdout",
     "output_type": "stream",
     "text": [
      "zeroshot_paper_in_train: 0\n",
      "zeroshot_paper_in_validation: 0\n",
      "train_paper_in_validation: 0\n",
      "validation_paper_in_zeroshot: 0\n"
     ]
    },
    {
     "data": {
      "application/vnd.jupyter.widget-view+json": {
       "model_id": "2332ff6016b74348b84beda38726a08a",
       "version_major": 2,
       "version_minor": 0
      },
      "text/plain": [
       "Saving the dataset (0/1 shards):   0%|          | 0/10058 [00:00<?, ? examples/s]"
      ]
     },
     "metadata": {},
     "output_type": "display_data"
    },
    {
     "data": {
      "application/vnd.jupyter.widget-view+json": {
       "model_id": "7c7de31ce37d4dc287999c98b94f992d",
       "version_major": 2,
       "version_minor": 0
      },
      "text/plain": [
       "Saving the dataset (0/1 shards):   0%|          | 0/939 [00:00<?, ? examples/s]"
      ]
     },
     "metadata": {},
     "output_type": "display_data"
    },
    {
     "data": {
      "application/vnd.jupyter.widget-view+json": {
       "model_id": "dd3c88fbeb714f95959699d23fa77092",
       "version_major": 2,
       "version_minor": 0
      },
      "text/plain": [
       "Saving the dataset (0/1 shards):   0%|          | 0/353 [00:00<?, ? examples/s]"
      ]
     },
     "metadata": {},
     "output_type": "display_data"
    },
    {
     "name": "stdout",
     "output_type": "stream",
     "text": [
      "SQUAD: 2\n"
     ]
    },
    {
     "name": "stderr",
     "output_type": "stream",
     "text": [
      "100%|██████████| 926/926 [09:12<00:00,  1.67it/s] \n"
     ]
    },
    {
     "name": "stdout",
     "output_type": "stream",
     "text": [
      "Missed_parsing_zero 0\n",
      "Lenght papers_to_drop in zeroshot based on train: 573\n"
     ]
    },
    {
     "name": "stderr",
     "output_type": "stream",
     "text": [
      "100%|██████████| 926/926 [00:00<00:00, 73973.90it/s]"
     ]
    },
    {
     "name": "stdout",
     "output_type": "stream",
     "text": [
      "408\n"
     ]
    },
    {
     "name": "stderr",
     "output_type": "stream",
     "text": [
      "\n"
     ]
    },
    {
     "data": {
      "text/html": [
       "<div>\n",
       "<style scoped>\n",
       "    .dataframe tbody tr th:only-of-type {\n",
       "        vertical-align: middle;\n",
       "    }\n",
       "\n",
       "    .dataframe tbody tr th {\n",
       "        vertical-align: top;\n",
       "    }\n",
       "\n",
       "    .dataframe thead th {\n",
       "        text-align: right;\n",
       "    }\n",
       "</style>\n",
       "<table border=\"1\" class=\"dataframe\">\n",
       "  <thead>\n",
       "    <tr style=\"text-align: right;\">\n",
       "      <th></th>\n",
       "      <th>prompt lenght</th>\n",
       "      <th>__index_level_0__</th>\n",
       "    </tr>\n",
       "  </thead>\n",
       "  <tbody>\n",
       "    <tr>\n",
       "      <th>count</th>\n",
       "      <td>10058.000000</td>\n",
       "      <td>10058.000000</td>\n",
       "    </tr>\n",
       "    <tr>\n",
       "      <th>mean</th>\n",
       "      <td>497.707298</td>\n",
       "      <td>75428.500000</td>\n",
       "    </tr>\n",
       "    <tr>\n",
       "      <th>std</th>\n",
       "      <td>398.739365</td>\n",
       "      <td>43554.582566</td>\n",
       "    </tr>\n",
       "    <tr>\n",
       "      <th>min</th>\n",
       "      <td>39.000000</td>\n",
       "      <td>1.000000</td>\n",
       "    </tr>\n",
       "    <tr>\n",
       "      <th>25%</th>\n",
       "      <td>228.000000</td>\n",
       "      <td>37714.750000</td>\n",
       "    </tr>\n",
       "    <tr>\n",
       "      <th>50%</th>\n",
       "      <td>404.000000</td>\n",
       "      <td>75428.500000</td>\n",
       "    </tr>\n",
       "    <tr>\n",
       "      <th>75%</th>\n",
       "      <td>652.000000</td>\n",
       "      <td>113142.250000</td>\n",
       "    </tr>\n",
       "    <tr>\n",
       "      <th>max</th>\n",
       "      <td>7356.000000</td>\n",
       "      <td>150856.000000</td>\n",
       "    </tr>\n",
       "  </tbody>\n",
       "</table>\n",
       "</div>"
      ],
      "text/plain": [
       "       prompt lenght  __index_level_0__\n",
       "count   10058.000000       10058.000000\n",
       "mean      497.707298       75428.500000\n",
       "std       398.739365       43554.582566\n",
       "min        39.000000           1.000000\n",
       "25%       228.000000       37714.750000\n",
       "50%       404.000000       75428.500000\n",
       "75%       652.000000      113142.250000\n",
       "max      7356.000000      150856.000000"
      ]
     },
     "metadata": {},
     "output_type": "display_data"
    },
    {
     "data": {
      "text/html": [
       "<div>\n",
       "<style scoped>\n",
       "    .dataframe tbody tr th:only-of-type {\n",
       "        vertical-align: middle;\n",
       "    }\n",
       "\n",
       "    .dataframe tbody tr th {\n",
       "        vertical-align: top;\n",
       "    }\n",
       "\n",
       "    .dataframe thead th {\n",
       "        text-align: right;\n",
       "    }\n",
       "</style>\n",
       "<table border=\"1\" class=\"dataframe\">\n",
       "  <thead>\n",
       "    <tr style=\"text-align: right;\">\n",
       "      <th></th>\n",
       "      <th>prompt lenght</th>\n",
       "      <th>__index_level_0__</th>\n",
       "    </tr>\n",
       "  </thead>\n",
       "  <tbody>\n",
       "    <tr>\n",
       "      <th>count</th>\n",
       "      <td>939.000000</td>\n",
       "      <td>939.000000</td>\n",
       "    </tr>\n",
       "    <tr>\n",
       "      <th>mean</th>\n",
       "      <td>580.654952</td>\n",
       "      <td>7435.408946</td>\n",
       "    </tr>\n",
       "    <tr>\n",
       "      <th>std</th>\n",
       "      <td>358.102912</td>\n",
       "      <td>4300.934395</td>\n",
       "    </tr>\n",
       "    <tr>\n",
       "      <th>min</th>\n",
       "      <td>38.000000</td>\n",
       "      <td>1.000000</td>\n",
       "    </tr>\n",
       "    <tr>\n",
       "      <th>25%</th>\n",
       "      <td>337.000000</td>\n",
       "      <td>3713.500000</td>\n",
       "    </tr>\n",
       "    <tr>\n",
       "      <th>50%</th>\n",
       "      <td>509.000000</td>\n",
       "      <td>7426.000000</td>\n",
       "    </tr>\n",
       "    <tr>\n",
       "      <th>75%</th>\n",
       "      <td>719.500000</td>\n",
       "      <td>11138.500000</td>\n",
       "    </tr>\n",
       "    <tr>\n",
       "      <th>max</th>\n",
       "      <td>3443.000000</td>\n",
       "      <td>14896.000000</td>\n",
       "    </tr>\n",
       "  </tbody>\n",
       "</table>\n",
       "</div>"
      ],
      "text/plain": [
       "       prompt lenght  __index_level_0__\n",
       "count     939.000000         939.000000\n",
       "mean      580.654952        7435.408946\n",
       "std       358.102912        4300.934395\n",
       "min        38.000000           1.000000\n",
       "25%       337.000000        3713.500000\n",
       "50%       509.000000        7426.000000\n",
       "75%       719.500000       11138.500000\n",
       "max      3443.000000       14896.000000"
      ]
     },
     "metadata": {},
     "output_type": "display_data"
    },
    {
     "data": {
      "text/html": [
       "<div>\n",
       "<style scoped>\n",
       "    .dataframe tbody tr th:only-of-type {\n",
       "        vertical-align: middle;\n",
       "    }\n",
       "\n",
       "    .dataframe tbody tr th {\n",
       "        vertical-align: top;\n",
       "    }\n",
       "\n",
       "    .dataframe thead th {\n",
       "        text-align: right;\n",
       "    }\n",
       "</style>\n",
       "<table border=\"1\" class=\"dataframe\">\n",
       "  <thead>\n",
       "    <tr style=\"text-align: right;\">\n",
       "      <th></th>\n",
       "      <th>prompt lenght</th>\n",
       "      <th>__index_level_0__</th>\n",
       "    </tr>\n",
       "  </thead>\n",
       "  <tbody>\n",
       "    <tr>\n",
       "      <th>count</th>\n",
       "      <td>353.000000</td>\n",
       "      <td>353.00000</td>\n",
       "    </tr>\n",
       "    <tr>\n",
       "      <th>mean</th>\n",
       "      <td>209.560907</td>\n",
       "      <td>11236.00000</td>\n",
       "    </tr>\n",
       "    <tr>\n",
       "      <th>std</th>\n",
       "      <td>99.668184</td>\n",
       "      <td>1530.69837</td>\n",
       "    </tr>\n",
       "    <tr>\n",
       "      <th>min</th>\n",
       "      <td>41.000000</td>\n",
       "      <td>8596.00000</td>\n",
       "    </tr>\n",
       "    <tr>\n",
       "      <th>25%</th>\n",
       "      <td>150.000000</td>\n",
       "      <td>9916.00000</td>\n",
       "    </tr>\n",
       "    <tr>\n",
       "      <th>50%</th>\n",
       "      <td>204.000000</td>\n",
       "      <td>11236.00000</td>\n",
       "    </tr>\n",
       "    <tr>\n",
       "      <th>75%</th>\n",
       "      <td>246.000000</td>\n",
       "      <td>12556.00000</td>\n",
       "    </tr>\n",
       "    <tr>\n",
       "      <th>max</th>\n",
       "      <td>689.000000</td>\n",
       "      <td>13876.00000</td>\n",
       "    </tr>\n",
       "  </tbody>\n",
       "</table>\n",
       "</div>"
      ],
      "text/plain": [
       "       prompt lenght  __index_level_0__\n",
       "count     353.000000          353.00000\n",
       "mean      209.560907        11236.00000\n",
       "std        99.668184         1530.69837\n",
       "min        41.000000         8596.00000\n",
       "25%       150.000000         9916.00000\n",
       "50%       204.000000        11236.00000\n",
       "75%       246.000000        12556.00000\n",
       "max       689.000000        13876.00000"
      ]
     },
     "metadata": {},
     "output_type": "display_data"
    },
    {
     "name": "stdout",
     "output_type": "stream",
     "text": [
      "zeroshot_paper_in_train: 0\n",
      "zeroshot_paper_in_validation: 0\n",
      "train_paper_in_validation: 0\n",
      "validation_paper_in_zeroshot: 0\n"
     ]
    },
    {
     "data": {
      "application/vnd.jupyter.widget-view+json": {
       "model_id": "271a7f482c2b4e7193b446584e4642c6",
       "version_major": 2,
       "version_minor": 0
      },
      "text/plain": [
       "Saving the dataset (0/1 shards):   0%|          | 0/10058 [00:00<?, ? examples/s]"
      ]
     },
     "metadata": {},
     "output_type": "display_data"
    },
    {
     "data": {
      "application/vnd.jupyter.widget-view+json": {
       "model_id": "6b3a9e62a7964e408c167ad2a050bfa2",
       "version_major": 2,
       "version_minor": 0
      },
      "text/plain": [
       "Saving the dataset (0/1 shards):   0%|          | 0/939 [00:00<?, ? examples/s]"
      ]
     },
     "metadata": {},
     "output_type": "display_data"
    },
    {
     "data": {
      "application/vnd.jupyter.widget-view+json": {
       "model_id": "487e5742a2eb4d61bd4e03691aa6af7e",
       "version_major": 2,
       "version_minor": 0
      },
      "text/plain": [
       "Saving the dataset (0/1 shards):   0%|          | 0/353 [00:00<?, ? examples/s]"
      ]
     },
     "metadata": {},
     "output_type": "display_data"
    },
    {
     "name": "stdout",
     "output_type": "stream",
     "text": [
      "SQUAD: 3\n"
     ]
    },
    {
     "name": "stderr",
     "output_type": "stream",
     "text": [
      "100%|██████████| 926/926 [09:13<00:00,  1.67it/s] \n"
     ]
    },
    {
     "name": "stdout",
     "output_type": "stream",
     "text": [
      "Missed_parsing_zero 0\n",
      "Lenght papers_to_drop in zeroshot based on train: 573\n"
     ]
    },
    {
     "name": "stderr",
     "output_type": "stream",
     "text": [
      "100%|██████████| 926/926 [00:00<00:00, 77535.84it/s]"
     ]
    },
    {
     "name": "stdout",
     "output_type": "stream",
     "text": [
      "408\n"
     ]
    },
    {
     "name": "stderr",
     "output_type": "stream",
     "text": [
      "\n"
     ]
    },
    {
     "data": {
      "text/html": [
       "<div>\n",
       "<style scoped>\n",
       "    .dataframe tbody tr th:only-of-type {\n",
       "        vertical-align: middle;\n",
       "    }\n",
       "\n",
       "    .dataframe tbody tr th {\n",
       "        vertical-align: top;\n",
       "    }\n",
       "\n",
       "    .dataframe thead th {\n",
       "        text-align: right;\n",
       "    }\n",
       "</style>\n",
       "<table border=\"1\" class=\"dataframe\">\n",
       "  <thead>\n",
       "    <tr style=\"text-align: right;\">\n",
       "      <th></th>\n",
       "      <th>prompt lenght</th>\n",
       "      <th>__index_level_0__</th>\n",
       "    </tr>\n",
       "  </thead>\n",
       "  <tbody>\n",
       "    <tr>\n",
       "      <th>count</th>\n",
       "      <td>10058.000000</td>\n",
       "      <td>10058.000000</td>\n",
       "    </tr>\n",
       "    <tr>\n",
       "      <th>mean</th>\n",
       "      <td>491.707298</td>\n",
       "      <td>75429.500000</td>\n",
       "    </tr>\n",
       "    <tr>\n",
       "      <th>std</th>\n",
       "      <td>398.739365</td>\n",
       "      <td>43554.582566</td>\n",
       "    </tr>\n",
       "    <tr>\n",
       "      <th>min</th>\n",
       "      <td>33.000000</td>\n",
       "      <td>2.000000</td>\n",
       "    </tr>\n",
       "    <tr>\n",
       "      <th>25%</th>\n",
       "      <td>222.000000</td>\n",
       "      <td>37715.750000</td>\n",
       "    </tr>\n",
       "    <tr>\n",
       "      <th>50%</th>\n",
       "      <td>398.000000</td>\n",
       "      <td>75429.500000</td>\n",
       "    </tr>\n",
       "    <tr>\n",
       "      <th>75%</th>\n",
       "      <td>646.000000</td>\n",
       "      <td>113143.250000</td>\n",
       "    </tr>\n",
       "    <tr>\n",
       "      <th>max</th>\n",
       "      <td>7350.000000</td>\n",
       "      <td>150857.000000</td>\n",
       "    </tr>\n",
       "  </tbody>\n",
       "</table>\n",
       "</div>"
      ],
      "text/plain": [
       "       prompt lenght  __index_level_0__\n",
       "count   10058.000000       10058.000000\n",
       "mean      491.707298       75429.500000\n",
       "std       398.739365       43554.582566\n",
       "min        33.000000           2.000000\n",
       "25%       222.000000       37715.750000\n",
       "50%       398.000000       75429.500000\n",
       "75%       646.000000      113143.250000\n",
       "max      7350.000000      150857.000000"
      ]
     },
     "metadata": {},
     "output_type": "display_data"
    },
    {
     "data": {
      "text/html": [
       "<div>\n",
       "<style scoped>\n",
       "    .dataframe tbody tr th:only-of-type {\n",
       "        vertical-align: middle;\n",
       "    }\n",
       "\n",
       "    .dataframe tbody tr th {\n",
       "        vertical-align: top;\n",
       "    }\n",
       "\n",
       "    .dataframe thead th {\n",
       "        text-align: right;\n",
       "    }\n",
       "</style>\n",
       "<table border=\"1\" class=\"dataframe\">\n",
       "  <thead>\n",
       "    <tr style=\"text-align: right;\">\n",
       "      <th></th>\n",
       "      <th>prompt lenght</th>\n",
       "      <th>__index_level_0__</th>\n",
       "    </tr>\n",
       "  </thead>\n",
       "  <tbody>\n",
       "    <tr>\n",
       "      <th>count</th>\n",
       "      <td>939.000000</td>\n",
       "      <td>939.000000</td>\n",
       "    </tr>\n",
       "    <tr>\n",
       "      <th>mean</th>\n",
       "      <td>574.654952</td>\n",
       "      <td>7436.408946</td>\n",
       "    </tr>\n",
       "    <tr>\n",
       "      <th>std</th>\n",
       "      <td>358.102912</td>\n",
       "      <td>4300.934395</td>\n",
       "    </tr>\n",
       "    <tr>\n",
       "      <th>min</th>\n",
       "      <td>32.000000</td>\n",
       "      <td>2.000000</td>\n",
       "    </tr>\n",
       "    <tr>\n",
       "      <th>25%</th>\n",
       "      <td>331.000000</td>\n",
       "      <td>3714.500000</td>\n",
       "    </tr>\n",
       "    <tr>\n",
       "      <th>50%</th>\n",
       "      <td>503.000000</td>\n",
       "      <td>7427.000000</td>\n",
       "    </tr>\n",
       "    <tr>\n",
       "      <th>75%</th>\n",
       "      <td>713.500000</td>\n",
       "      <td>11139.500000</td>\n",
       "    </tr>\n",
       "    <tr>\n",
       "      <th>max</th>\n",
       "      <td>3437.000000</td>\n",
       "      <td>14897.000000</td>\n",
       "    </tr>\n",
       "  </tbody>\n",
       "</table>\n",
       "</div>"
      ],
      "text/plain": [
       "       prompt lenght  __index_level_0__\n",
       "count     939.000000         939.000000\n",
       "mean      574.654952        7436.408946\n",
       "std       358.102912        4300.934395\n",
       "min        32.000000           2.000000\n",
       "25%       331.000000        3714.500000\n",
       "50%       503.000000        7427.000000\n",
       "75%       713.500000       11139.500000\n",
       "max      3437.000000       14897.000000"
      ]
     },
     "metadata": {},
     "output_type": "display_data"
    },
    {
     "data": {
      "text/html": [
       "<div>\n",
       "<style scoped>\n",
       "    .dataframe tbody tr th:only-of-type {\n",
       "        vertical-align: middle;\n",
       "    }\n",
       "\n",
       "    .dataframe tbody tr th {\n",
       "        vertical-align: top;\n",
       "    }\n",
       "\n",
       "    .dataframe thead th {\n",
       "        text-align: right;\n",
       "    }\n",
       "</style>\n",
       "<table border=\"1\" class=\"dataframe\">\n",
       "  <thead>\n",
       "    <tr style=\"text-align: right;\">\n",
       "      <th></th>\n",
       "      <th>prompt lenght</th>\n",
       "      <th>__index_level_0__</th>\n",
       "    </tr>\n",
       "  </thead>\n",
       "  <tbody>\n",
       "    <tr>\n",
       "      <th>count</th>\n",
       "      <td>353.000000</td>\n",
       "      <td>353.00000</td>\n",
       "    </tr>\n",
       "    <tr>\n",
       "      <th>mean</th>\n",
       "      <td>203.560907</td>\n",
       "      <td>11237.00000</td>\n",
       "    </tr>\n",
       "    <tr>\n",
       "      <th>std</th>\n",
       "      <td>99.668184</td>\n",
       "      <td>1530.69837</td>\n",
       "    </tr>\n",
       "    <tr>\n",
       "      <th>min</th>\n",
       "      <td>35.000000</td>\n",
       "      <td>8597.00000</td>\n",
       "    </tr>\n",
       "    <tr>\n",
       "      <th>25%</th>\n",
       "      <td>144.000000</td>\n",
       "      <td>9917.00000</td>\n",
       "    </tr>\n",
       "    <tr>\n",
       "      <th>50%</th>\n",
       "      <td>198.000000</td>\n",
       "      <td>11237.00000</td>\n",
       "    </tr>\n",
       "    <tr>\n",
       "      <th>75%</th>\n",
       "      <td>240.000000</td>\n",
       "      <td>12557.00000</td>\n",
       "    </tr>\n",
       "    <tr>\n",
       "      <th>max</th>\n",
       "      <td>683.000000</td>\n",
       "      <td>13877.00000</td>\n",
       "    </tr>\n",
       "  </tbody>\n",
       "</table>\n",
       "</div>"
      ],
      "text/plain": [
       "       prompt lenght  __index_level_0__\n",
       "count     353.000000          353.00000\n",
       "mean      203.560907        11237.00000\n",
       "std        99.668184         1530.69837\n",
       "min        35.000000         8597.00000\n",
       "25%       144.000000         9917.00000\n",
       "50%       198.000000        11237.00000\n",
       "75%       240.000000        12557.00000\n",
       "max       683.000000        13877.00000"
      ]
     },
     "metadata": {},
     "output_type": "display_data"
    },
    {
     "name": "stdout",
     "output_type": "stream",
     "text": [
      "zeroshot_paper_in_train: 0\n",
      "zeroshot_paper_in_validation: 0\n",
      "train_paper_in_validation: 0\n",
      "validation_paper_in_zeroshot: 0\n"
     ]
    },
    {
     "data": {
      "application/vnd.jupyter.widget-view+json": {
       "model_id": "0fa57bf1724d4724bbf665f407cca77f",
       "version_major": 2,
       "version_minor": 0
      },
      "text/plain": [
       "Saving the dataset (0/1 shards):   0%|          | 0/10058 [00:00<?, ? examples/s]"
      ]
     },
     "metadata": {},
     "output_type": "display_data"
    },
    {
     "data": {
      "application/vnd.jupyter.widget-view+json": {
       "model_id": "44d360d87b504932a7c38fbbe485e2d0",
       "version_major": 2,
       "version_minor": 0
      },
      "text/plain": [
       "Saving the dataset (0/1 shards):   0%|          | 0/939 [00:00<?, ? examples/s]"
      ]
     },
     "metadata": {},
     "output_type": "display_data"
    },
    {
     "data": {
      "application/vnd.jupyter.widget-view+json": {
       "model_id": "1ca640eaa49a4218a14343d360b79b6f",
       "version_major": 2,
       "version_minor": 0
      },
      "text/plain": [
       "Saving the dataset (0/1 shards):   0%|          | 0/353 [00:00<?, ? examples/s]"
      ]
     },
     "metadata": {},
     "output_type": "display_data"
    },
    {
     "name": "stdout",
     "output_type": "stream",
     "text": [
      "SQUAD: 4\n"
     ]
    },
    {
     "name": "stderr",
     "output_type": "stream",
     "text": [
      "100%|██████████| 926/926 [09:13<00:00,  1.67it/s] \n"
     ]
    },
    {
     "name": "stdout",
     "output_type": "stream",
     "text": [
      "Missed_parsing_zero 0\n",
      "Lenght papers_to_drop in zeroshot based on train: 573\n"
     ]
    },
    {
     "name": "stderr",
     "output_type": "stream",
     "text": [
      "100%|██████████| 926/926 [00:00<00:00, 77882.56it/s]"
     ]
    },
    {
     "name": "stdout",
     "output_type": "stream",
     "text": [
      "408\n"
     ]
    },
    {
     "name": "stderr",
     "output_type": "stream",
     "text": [
      "\n"
     ]
    },
    {
     "data": {
      "text/html": [
       "<div>\n",
       "<style scoped>\n",
       "    .dataframe tbody tr th:only-of-type {\n",
       "        vertical-align: middle;\n",
       "    }\n",
       "\n",
       "    .dataframe tbody tr th {\n",
       "        vertical-align: top;\n",
       "    }\n",
       "\n",
       "    .dataframe thead th {\n",
       "        text-align: right;\n",
       "    }\n",
       "</style>\n",
       "<table border=\"1\" class=\"dataframe\">\n",
       "  <thead>\n",
       "    <tr style=\"text-align: right;\">\n",
       "      <th></th>\n",
       "      <th>prompt lenght</th>\n",
       "      <th>__index_level_0__</th>\n",
       "    </tr>\n",
       "  </thead>\n",
       "  <tbody>\n",
       "    <tr>\n",
       "      <th>count</th>\n",
       "      <td>10058.000000</td>\n",
       "      <td>10058.000000</td>\n",
       "    </tr>\n",
       "    <tr>\n",
       "      <th>mean</th>\n",
       "      <td>494.707298</td>\n",
       "      <td>75430.500000</td>\n",
       "    </tr>\n",
       "    <tr>\n",
       "      <th>std</th>\n",
       "      <td>398.739365</td>\n",
       "      <td>43554.582566</td>\n",
       "    </tr>\n",
       "    <tr>\n",
       "      <th>min</th>\n",
       "      <td>36.000000</td>\n",
       "      <td>3.000000</td>\n",
       "    </tr>\n",
       "    <tr>\n",
       "      <th>25%</th>\n",
       "      <td>225.000000</td>\n",
       "      <td>37716.750000</td>\n",
       "    </tr>\n",
       "    <tr>\n",
       "      <th>50%</th>\n",
       "      <td>401.000000</td>\n",
       "      <td>75430.500000</td>\n",
       "    </tr>\n",
       "    <tr>\n",
       "      <th>75%</th>\n",
       "      <td>649.000000</td>\n",
       "      <td>113144.250000</td>\n",
       "    </tr>\n",
       "    <tr>\n",
       "      <th>max</th>\n",
       "      <td>7353.000000</td>\n",
       "      <td>150858.000000</td>\n",
       "    </tr>\n",
       "  </tbody>\n",
       "</table>\n",
       "</div>"
      ],
      "text/plain": [
       "       prompt lenght  __index_level_0__\n",
       "count   10058.000000       10058.000000\n",
       "mean      494.707298       75430.500000\n",
       "std       398.739365       43554.582566\n",
       "min        36.000000           3.000000\n",
       "25%       225.000000       37716.750000\n",
       "50%       401.000000       75430.500000\n",
       "75%       649.000000      113144.250000\n",
       "max      7353.000000      150858.000000"
      ]
     },
     "metadata": {},
     "output_type": "display_data"
    },
    {
     "data": {
      "text/html": [
       "<div>\n",
       "<style scoped>\n",
       "    .dataframe tbody tr th:only-of-type {\n",
       "        vertical-align: middle;\n",
       "    }\n",
       "\n",
       "    .dataframe tbody tr th {\n",
       "        vertical-align: top;\n",
       "    }\n",
       "\n",
       "    .dataframe thead th {\n",
       "        text-align: right;\n",
       "    }\n",
       "</style>\n",
       "<table border=\"1\" class=\"dataframe\">\n",
       "  <thead>\n",
       "    <tr style=\"text-align: right;\">\n",
       "      <th></th>\n",
       "      <th>prompt lenght</th>\n",
       "      <th>__index_level_0__</th>\n",
       "    </tr>\n",
       "  </thead>\n",
       "  <tbody>\n",
       "    <tr>\n",
       "      <th>count</th>\n",
       "      <td>939.000000</td>\n",
       "      <td>939.000000</td>\n",
       "    </tr>\n",
       "    <tr>\n",
       "      <th>mean</th>\n",
       "      <td>577.654952</td>\n",
       "      <td>7437.408946</td>\n",
       "    </tr>\n",
       "    <tr>\n",
       "      <th>std</th>\n",
       "      <td>358.102912</td>\n",
       "      <td>4300.934395</td>\n",
       "    </tr>\n",
       "    <tr>\n",
       "      <th>min</th>\n",
       "      <td>35.000000</td>\n",
       "      <td>3.000000</td>\n",
       "    </tr>\n",
       "    <tr>\n",
       "      <th>25%</th>\n",
       "      <td>334.000000</td>\n",
       "      <td>3715.500000</td>\n",
       "    </tr>\n",
       "    <tr>\n",
       "      <th>50%</th>\n",
       "      <td>506.000000</td>\n",
       "      <td>7428.000000</td>\n",
       "    </tr>\n",
       "    <tr>\n",
       "      <th>75%</th>\n",
       "      <td>716.500000</td>\n",
       "      <td>11140.500000</td>\n",
       "    </tr>\n",
       "    <tr>\n",
       "      <th>max</th>\n",
       "      <td>3440.000000</td>\n",
       "      <td>14898.000000</td>\n",
       "    </tr>\n",
       "  </tbody>\n",
       "</table>\n",
       "</div>"
      ],
      "text/plain": [
       "       prompt lenght  __index_level_0__\n",
       "count     939.000000         939.000000\n",
       "mean      577.654952        7437.408946\n",
       "std       358.102912        4300.934395\n",
       "min        35.000000           3.000000\n",
       "25%       334.000000        3715.500000\n",
       "50%       506.000000        7428.000000\n",
       "75%       716.500000       11140.500000\n",
       "max      3440.000000       14898.000000"
      ]
     },
     "metadata": {},
     "output_type": "display_data"
    },
    {
     "data": {
      "text/html": [
       "<div>\n",
       "<style scoped>\n",
       "    .dataframe tbody tr th:only-of-type {\n",
       "        vertical-align: middle;\n",
       "    }\n",
       "\n",
       "    .dataframe tbody tr th {\n",
       "        vertical-align: top;\n",
       "    }\n",
       "\n",
       "    .dataframe thead th {\n",
       "        text-align: right;\n",
       "    }\n",
       "</style>\n",
       "<table border=\"1\" class=\"dataframe\">\n",
       "  <thead>\n",
       "    <tr style=\"text-align: right;\">\n",
       "      <th></th>\n",
       "      <th>prompt lenght</th>\n",
       "      <th>__index_level_0__</th>\n",
       "    </tr>\n",
       "  </thead>\n",
       "  <tbody>\n",
       "    <tr>\n",
       "      <th>count</th>\n",
       "      <td>353.000000</td>\n",
       "      <td>353.00000</td>\n",
       "    </tr>\n",
       "    <tr>\n",
       "      <th>mean</th>\n",
       "      <td>206.560907</td>\n",
       "      <td>11238.00000</td>\n",
       "    </tr>\n",
       "    <tr>\n",
       "      <th>std</th>\n",
       "      <td>99.668184</td>\n",
       "      <td>1530.69837</td>\n",
       "    </tr>\n",
       "    <tr>\n",
       "      <th>min</th>\n",
       "      <td>38.000000</td>\n",
       "      <td>8598.00000</td>\n",
       "    </tr>\n",
       "    <tr>\n",
       "      <th>25%</th>\n",
       "      <td>147.000000</td>\n",
       "      <td>9918.00000</td>\n",
       "    </tr>\n",
       "    <tr>\n",
       "      <th>50%</th>\n",
       "      <td>201.000000</td>\n",
       "      <td>11238.00000</td>\n",
       "    </tr>\n",
       "    <tr>\n",
       "      <th>75%</th>\n",
       "      <td>243.000000</td>\n",
       "      <td>12558.00000</td>\n",
       "    </tr>\n",
       "    <tr>\n",
       "      <th>max</th>\n",
       "      <td>686.000000</td>\n",
       "      <td>13878.00000</td>\n",
       "    </tr>\n",
       "  </tbody>\n",
       "</table>\n",
       "</div>"
      ],
      "text/plain": [
       "       prompt lenght  __index_level_0__\n",
       "count     353.000000          353.00000\n",
       "mean      206.560907        11238.00000\n",
       "std        99.668184         1530.69837\n",
       "min        38.000000         8598.00000\n",
       "25%       147.000000         9918.00000\n",
       "50%       201.000000        11238.00000\n",
       "75%       243.000000        12558.00000\n",
       "max       686.000000        13878.00000"
      ]
     },
     "metadata": {},
     "output_type": "display_data"
    },
    {
     "name": "stdout",
     "output_type": "stream",
     "text": [
      "zeroshot_paper_in_train: 0\n",
      "zeroshot_paper_in_validation: 0\n",
      "train_paper_in_validation: 0\n",
      "validation_paper_in_zeroshot: 0\n"
     ]
    },
    {
     "data": {
      "application/vnd.jupyter.widget-view+json": {
       "model_id": "3c770c91aa92476d814288796fd1ec6b",
       "version_major": 2,
       "version_minor": 0
      },
      "text/plain": [
       "Saving the dataset (0/1 shards):   0%|          | 0/10058 [00:00<?, ? examples/s]"
      ]
     },
     "metadata": {},
     "output_type": "display_data"
    },
    {
     "data": {
      "application/vnd.jupyter.widget-view+json": {
       "model_id": "e7cb5459b5a14e06bcca0a5f1aa48a02",
       "version_major": 2,
       "version_minor": 0
      },
      "text/plain": [
       "Saving the dataset (0/1 shards):   0%|          | 0/939 [00:00<?, ? examples/s]"
      ]
     },
     "metadata": {},
     "output_type": "display_data"
    },
    {
     "data": {
      "application/vnd.jupyter.widget-view+json": {
       "model_id": "954fa93f353f4a3789247f9517c93f3a",
       "version_major": 2,
       "version_minor": 0
      },
      "text/plain": [
       "Saving the dataset (0/1 shards):   0%|          | 0/353 [00:00<?, ? examples/s]"
      ]
     },
     "metadata": {},
     "output_type": "display_data"
    },
    {
     "name": "stdout",
     "output_type": "stream",
     "text": [
      "SQUAD: 5\n"
     ]
    },
    {
     "name": "stderr",
     "output_type": "stream",
     "text": [
      "100%|██████████| 926/926 [09:15<00:00,  1.67it/s] \n"
     ]
    },
    {
     "name": "stdout",
     "output_type": "stream",
     "text": [
      "Missed_parsing_zero 0\n",
      "Lenght papers_to_drop in zeroshot based on train: 573\n"
     ]
    },
    {
     "name": "stderr",
     "output_type": "stream",
     "text": [
      "100%|██████████| 926/926 [00:00<00:00, 73070.67it/s]"
     ]
    },
    {
     "name": "stdout",
     "output_type": "stream",
     "text": [
      "408\n"
     ]
    },
    {
     "name": "stderr",
     "output_type": "stream",
     "text": [
      "\n"
     ]
    },
    {
     "data": {
      "text/html": [
       "<div>\n",
       "<style scoped>\n",
       "    .dataframe tbody tr th:only-of-type {\n",
       "        vertical-align: middle;\n",
       "    }\n",
       "\n",
       "    .dataframe tbody tr th {\n",
       "        vertical-align: top;\n",
       "    }\n",
       "\n",
       "    .dataframe thead th {\n",
       "        text-align: right;\n",
       "    }\n",
       "</style>\n",
       "<table border=\"1\" class=\"dataframe\">\n",
       "  <thead>\n",
       "    <tr style=\"text-align: right;\">\n",
       "      <th></th>\n",
       "      <th>prompt lenght</th>\n",
       "      <th>__index_level_0__</th>\n",
       "    </tr>\n",
       "  </thead>\n",
       "  <tbody>\n",
       "    <tr>\n",
       "      <th>count</th>\n",
       "      <td>10058.000000</td>\n",
       "      <td>10058.000000</td>\n",
       "    </tr>\n",
       "    <tr>\n",
       "      <th>mean</th>\n",
       "      <td>499.707298</td>\n",
       "      <td>75431.500000</td>\n",
       "    </tr>\n",
       "    <tr>\n",
       "      <th>std</th>\n",
       "      <td>398.739365</td>\n",
       "      <td>43554.582566</td>\n",
       "    </tr>\n",
       "    <tr>\n",
       "      <th>min</th>\n",
       "      <td>41.000000</td>\n",
       "      <td>4.000000</td>\n",
       "    </tr>\n",
       "    <tr>\n",
       "      <th>25%</th>\n",
       "      <td>230.000000</td>\n",
       "      <td>37717.750000</td>\n",
       "    </tr>\n",
       "    <tr>\n",
       "      <th>50%</th>\n",
       "      <td>406.000000</td>\n",
       "      <td>75431.500000</td>\n",
       "    </tr>\n",
       "    <tr>\n",
       "      <th>75%</th>\n",
       "      <td>654.000000</td>\n",
       "      <td>113145.250000</td>\n",
       "    </tr>\n",
       "    <tr>\n",
       "      <th>max</th>\n",
       "      <td>7358.000000</td>\n",
       "      <td>150859.000000</td>\n",
       "    </tr>\n",
       "  </tbody>\n",
       "</table>\n",
       "</div>"
      ],
      "text/plain": [
       "       prompt lenght  __index_level_0__\n",
       "count   10058.000000       10058.000000\n",
       "mean      499.707298       75431.500000\n",
       "std       398.739365       43554.582566\n",
       "min        41.000000           4.000000\n",
       "25%       230.000000       37717.750000\n",
       "50%       406.000000       75431.500000\n",
       "75%       654.000000      113145.250000\n",
       "max      7358.000000      150859.000000"
      ]
     },
     "metadata": {},
     "output_type": "display_data"
    },
    {
     "data": {
      "text/html": [
       "<div>\n",
       "<style scoped>\n",
       "    .dataframe tbody tr th:only-of-type {\n",
       "        vertical-align: middle;\n",
       "    }\n",
       "\n",
       "    .dataframe tbody tr th {\n",
       "        vertical-align: top;\n",
       "    }\n",
       "\n",
       "    .dataframe thead th {\n",
       "        text-align: right;\n",
       "    }\n",
       "</style>\n",
       "<table border=\"1\" class=\"dataframe\">\n",
       "  <thead>\n",
       "    <tr style=\"text-align: right;\">\n",
       "      <th></th>\n",
       "      <th>prompt lenght</th>\n",
       "      <th>__index_level_0__</th>\n",
       "    </tr>\n",
       "  </thead>\n",
       "  <tbody>\n",
       "    <tr>\n",
       "      <th>count</th>\n",
       "      <td>939.000000</td>\n",
       "      <td>939.000000</td>\n",
       "    </tr>\n",
       "    <tr>\n",
       "      <th>mean</th>\n",
       "      <td>582.654952</td>\n",
       "      <td>7438.408946</td>\n",
       "    </tr>\n",
       "    <tr>\n",
       "      <th>std</th>\n",
       "      <td>358.102912</td>\n",
       "      <td>4300.934395</td>\n",
       "    </tr>\n",
       "    <tr>\n",
       "      <th>min</th>\n",
       "      <td>40.000000</td>\n",
       "      <td>4.000000</td>\n",
       "    </tr>\n",
       "    <tr>\n",
       "      <th>25%</th>\n",
       "      <td>339.000000</td>\n",
       "      <td>3716.500000</td>\n",
       "    </tr>\n",
       "    <tr>\n",
       "      <th>50%</th>\n",
       "      <td>511.000000</td>\n",
       "      <td>7429.000000</td>\n",
       "    </tr>\n",
       "    <tr>\n",
       "      <th>75%</th>\n",
       "      <td>721.500000</td>\n",
       "      <td>11141.500000</td>\n",
       "    </tr>\n",
       "    <tr>\n",
       "      <th>max</th>\n",
       "      <td>3445.000000</td>\n",
       "      <td>14899.000000</td>\n",
       "    </tr>\n",
       "  </tbody>\n",
       "</table>\n",
       "</div>"
      ],
      "text/plain": [
       "       prompt lenght  __index_level_0__\n",
       "count     939.000000         939.000000\n",
       "mean      582.654952        7438.408946\n",
       "std       358.102912        4300.934395\n",
       "min        40.000000           4.000000\n",
       "25%       339.000000        3716.500000\n",
       "50%       511.000000        7429.000000\n",
       "75%       721.500000       11141.500000\n",
       "max      3445.000000       14899.000000"
      ]
     },
     "metadata": {},
     "output_type": "display_data"
    },
    {
     "data": {
      "text/html": [
       "<div>\n",
       "<style scoped>\n",
       "    .dataframe tbody tr th:only-of-type {\n",
       "        vertical-align: middle;\n",
       "    }\n",
       "\n",
       "    .dataframe tbody tr th {\n",
       "        vertical-align: top;\n",
       "    }\n",
       "\n",
       "    .dataframe thead th {\n",
       "        text-align: right;\n",
       "    }\n",
       "</style>\n",
       "<table border=\"1\" class=\"dataframe\">\n",
       "  <thead>\n",
       "    <tr style=\"text-align: right;\">\n",
       "      <th></th>\n",
       "      <th>prompt lenght</th>\n",
       "      <th>__index_level_0__</th>\n",
       "    </tr>\n",
       "  </thead>\n",
       "  <tbody>\n",
       "    <tr>\n",
       "      <th>count</th>\n",
       "      <td>353.000000</td>\n",
       "      <td>353.00000</td>\n",
       "    </tr>\n",
       "    <tr>\n",
       "      <th>mean</th>\n",
       "      <td>211.560907</td>\n",
       "      <td>11239.00000</td>\n",
       "    </tr>\n",
       "    <tr>\n",
       "      <th>std</th>\n",
       "      <td>99.668184</td>\n",
       "      <td>1530.69837</td>\n",
       "    </tr>\n",
       "    <tr>\n",
       "      <th>min</th>\n",
       "      <td>43.000000</td>\n",
       "      <td>8599.00000</td>\n",
       "    </tr>\n",
       "    <tr>\n",
       "      <th>25%</th>\n",
       "      <td>152.000000</td>\n",
       "      <td>9919.00000</td>\n",
       "    </tr>\n",
       "    <tr>\n",
       "      <th>50%</th>\n",
       "      <td>206.000000</td>\n",
       "      <td>11239.00000</td>\n",
       "    </tr>\n",
       "    <tr>\n",
       "      <th>75%</th>\n",
       "      <td>248.000000</td>\n",
       "      <td>12559.00000</td>\n",
       "    </tr>\n",
       "    <tr>\n",
       "      <th>max</th>\n",
       "      <td>691.000000</td>\n",
       "      <td>13879.00000</td>\n",
       "    </tr>\n",
       "  </tbody>\n",
       "</table>\n",
       "</div>"
      ],
      "text/plain": [
       "       prompt lenght  __index_level_0__\n",
       "count     353.000000          353.00000\n",
       "mean      211.560907        11239.00000\n",
       "std        99.668184         1530.69837\n",
       "min        43.000000         8599.00000\n",
       "25%       152.000000         9919.00000\n",
       "50%       206.000000        11239.00000\n",
       "75%       248.000000        12559.00000\n",
       "max       691.000000        13879.00000"
      ]
     },
     "metadata": {},
     "output_type": "display_data"
    },
    {
     "name": "stdout",
     "output_type": "stream",
     "text": [
      "zeroshot_paper_in_train: 0\n",
      "zeroshot_paper_in_validation: 0\n",
      "train_paper_in_validation: 0\n",
      "validation_paper_in_zeroshot: 0\n"
     ]
    },
    {
     "data": {
      "application/vnd.jupyter.widget-view+json": {
       "model_id": "0a36906c75d3481fa131b4b9eb03dbff",
       "version_major": 2,
       "version_minor": 0
      },
      "text/plain": [
       "Saving the dataset (0/1 shards):   0%|          | 0/10058 [00:00<?, ? examples/s]"
      ]
     },
     "metadata": {},
     "output_type": "display_data"
    },
    {
     "data": {
      "application/vnd.jupyter.widget-view+json": {
       "model_id": "7759a561cc1546eca59e3771dd6fd2b3",
       "version_major": 2,
       "version_minor": 0
      },
      "text/plain": [
       "Saving the dataset (0/1 shards):   0%|          | 0/939 [00:00<?, ? examples/s]"
      ]
     },
     "metadata": {},
     "output_type": "display_data"
    },
    {
     "data": {
      "application/vnd.jupyter.widget-view+json": {
       "model_id": "c16a58fec5414da09b420d628760e1e9",
       "version_major": 2,
       "version_minor": 0
      },
      "text/plain": [
       "Saving the dataset (0/1 shards):   0%|          | 0/353 [00:00<?, ? examples/s]"
      ]
     },
     "metadata": {},
     "output_type": "display_data"
    },
    {
     "name": "stdout",
     "output_type": "stream",
     "text": [
      "SQUAD: 6\n"
     ]
    },
    {
     "name": "stderr",
     "output_type": "stream",
     "text": [
      "100%|██████████| 926/926 [09:11<00:00,  1.68it/s] \n"
     ]
    },
    {
     "name": "stdout",
     "output_type": "stream",
     "text": [
      "Missed_parsing_zero 0\n",
      "Lenght papers_to_drop in zeroshot based on train: 573\n"
     ]
    },
    {
     "name": "stderr",
     "output_type": "stream",
     "text": [
      "100%|██████████| 926/926 [00:00<00:00, 74397.58it/s]"
     ]
    },
    {
     "name": "stdout",
     "output_type": "stream",
     "text": [
      "408\n"
     ]
    },
    {
     "name": "stderr",
     "output_type": "stream",
     "text": [
      "\n"
     ]
    },
    {
     "data": {
      "text/html": [
       "<div>\n",
       "<style scoped>\n",
       "    .dataframe tbody tr th:only-of-type {\n",
       "        vertical-align: middle;\n",
       "    }\n",
       "\n",
       "    .dataframe tbody tr th {\n",
       "        vertical-align: top;\n",
       "    }\n",
       "\n",
       "    .dataframe thead th {\n",
       "        text-align: right;\n",
       "    }\n",
       "</style>\n",
       "<table border=\"1\" class=\"dataframe\">\n",
       "  <thead>\n",
       "    <tr style=\"text-align: right;\">\n",
       "      <th></th>\n",
       "      <th>prompt lenght</th>\n",
       "      <th>__index_level_0__</th>\n",
       "    </tr>\n",
       "  </thead>\n",
       "  <tbody>\n",
       "    <tr>\n",
       "      <th>count</th>\n",
       "      <td>10058.000000</td>\n",
       "      <td>10058.000000</td>\n",
       "    </tr>\n",
       "    <tr>\n",
       "      <th>mean</th>\n",
       "      <td>493.707298</td>\n",
       "      <td>75432.500000</td>\n",
       "    </tr>\n",
       "    <tr>\n",
       "      <th>std</th>\n",
       "      <td>398.739365</td>\n",
       "      <td>43554.582566</td>\n",
       "    </tr>\n",
       "    <tr>\n",
       "      <th>min</th>\n",
       "      <td>35.000000</td>\n",
       "      <td>5.000000</td>\n",
       "    </tr>\n",
       "    <tr>\n",
       "      <th>25%</th>\n",
       "      <td>224.000000</td>\n",
       "      <td>37718.750000</td>\n",
       "    </tr>\n",
       "    <tr>\n",
       "      <th>50%</th>\n",
       "      <td>400.000000</td>\n",
       "      <td>75432.500000</td>\n",
       "    </tr>\n",
       "    <tr>\n",
       "      <th>75%</th>\n",
       "      <td>648.000000</td>\n",
       "      <td>113146.250000</td>\n",
       "    </tr>\n",
       "    <tr>\n",
       "      <th>max</th>\n",
       "      <td>7352.000000</td>\n",
       "      <td>150860.000000</td>\n",
       "    </tr>\n",
       "  </tbody>\n",
       "</table>\n",
       "</div>"
      ],
      "text/plain": [
       "       prompt lenght  __index_level_0__\n",
       "count   10058.000000       10058.000000\n",
       "mean      493.707298       75432.500000\n",
       "std       398.739365       43554.582566\n",
       "min        35.000000           5.000000\n",
       "25%       224.000000       37718.750000\n",
       "50%       400.000000       75432.500000\n",
       "75%       648.000000      113146.250000\n",
       "max      7352.000000      150860.000000"
      ]
     },
     "metadata": {},
     "output_type": "display_data"
    },
    {
     "data": {
      "text/html": [
       "<div>\n",
       "<style scoped>\n",
       "    .dataframe tbody tr th:only-of-type {\n",
       "        vertical-align: middle;\n",
       "    }\n",
       "\n",
       "    .dataframe tbody tr th {\n",
       "        vertical-align: top;\n",
       "    }\n",
       "\n",
       "    .dataframe thead th {\n",
       "        text-align: right;\n",
       "    }\n",
       "</style>\n",
       "<table border=\"1\" class=\"dataframe\">\n",
       "  <thead>\n",
       "    <tr style=\"text-align: right;\">\n",
       "      <th></th>\n",
       "      <th>prompt lenght</th>\n",
       "      <th>__index_level_0__</th>\n",
       "    </tr>\n",
       "  </thead>\n",
       "  <tbody>\n",
       "    <tr>\n",
       "      <th>count</th>\n",
       "      <td>939.000000</td>\n",
       "      <td>939.000000</td>\n",
       "    </tr>\n",
       "    <tr>\n",
       "      <th>mean</th>\n",
       "      <td>576.654952</td>\n",
       "      <td>7439.408946</td>\n",
       "    </tr>\n",
       "    <tr>\n",
       "      <th>std</th>\n",
       "      <td>358.102912</td>\n",
       "      <td>4300.934395</td>\n",
       "    </tr>\n",
       "    <tr>\n",
       "      <th>min</th>\n",
       "      <td>34.000000</td>\n",
       "      <td>5.000000</td>\n",
       "    </tr>\n",
       "    <tr>\n",
       "      <th>25%</th>\n",
       "      <td>333.000000</td>\n",
       "      <td>3717.500000</td>\n",
       "    </tr>\n",
       "    <tr>\n",
       "      <th>50%</th>\n",
       "      <td>505.000000</td>\n",
       "      <td>7430.000000</td>\n",
       "    </tr>\n",
       "    <tr>\n",
       "      <th>75%</th>\n",
       "      <td>715.500000</td>\n",
       "      <td>11142.500000</td>\n",
       "    </tr>\n",
       "    <tr>\n",
       "      <th>max</th>\n",
       "      <td>3439.000000</td>\n",
       "      <td>14900.000000</td>\n",
       "    </tr>\n",
       "  </tbody>\n",
       "</table>\n",
       "</div>"
      ],
      "text/plain": [
       "       prompt lenght  __index_level_0__\n",
       "count     939.000000         939.000000\n",
       "mean      576.654952        7439.408946\n",
       "std       358.102912        4300.934395\n",
       "min        34.000000           5.000000\n",
       "25%       333.000000        3717.500000\n",
       "50%       505.000000        7430.000000\n",
       "75%       715.500000       11142.500000\n",
       "max      3439.000000       14900.000000"
      ]
     },
     "metadata": {},
     "output_type": "display_data"
    },
    {
     "data": {
      "text/html": [
       "<div>\n",
       "<style scoped>\n",
       "    .dataframe tbody tr th:only-of-type {\n",
       "        vertical-align: middle;\n",
       "    }\n",
       "\n",
       "    .dataframe tbody tr th {\n",
       "        vertical-align: top;\n",
       "    }\n",
       "\n",
       "    .dataframe thead th {\n",
       "        text-align: right;\n",
       "    }\n",
       "</style>\n",
       "<table border=\"1\" class=\"dataframe\">\n",
       "  <thead>\n",
       "    <tr style=\"text-align: right;\">\n",
       "      <th></th>\n",
       "      <th>prompt lenght</th>\n",
       "      <th>__index_level_0__</th>\n",
       "    </tr>\n",
       "  </thead>\n",
       "  <tbody>\n",
       "    <tr>\n",
       "      <th>count</th>\n",
       "      <td>353.000000</td>\n",
       "      <td>353.00000</td>\n",
       "    </tr>\n",
       "    <tr>\n",
       "      <th>mean</th>\n",
       "      <td>205.560907</td>\n",
       "      <td>11240.00000</td>\n",
       "    </tr>\n",
       "    <tr>\n",
       "      <th>std</th>\n",
       "      <td>99.668184</td>\n",
       "      <td>1530.69837</td>\n",
       "    </tr>\n",
       "    <tr>\n",
       "      <th>min</th>\n",
       "      <td>37.000000</td>\n",
       "      <td>8600.00000</td>\n",
       "    </tr>\n",
       "    <tr>\n",
       "      <th>25%</th>\n",
       "      <td>146.000000</td>\n",
       "      <td>9920.00000</td>\n",
       "    </tr>\n",
       "    <tr>\n",
       "      <th>50%</th>\n",
       "      <td>200.000000</td>\n",
       "      <td>11240.00000</td>\n",
       "    </tr>\n",
       "    <tr>\n",
       "      <th>75%</th>\n",
       "      <td>242.000000</td>\n",
       "      <td>12560.00000</td>\n",
       "    </tr>\n",
       "    <tr>\n",
       "      <th>max</th>\n",
       "      <td>685.000000</td>\n",
       "      <td>13880.00000</td>\n",
       "    </tr>\n",
       "  </tbody>\n",
       "</table>\n",
       "</div>"
      ],
      "text/plain": [
       "       prompt lenght  __index_level_0__\n",
       "count     353.000000          353.00000\n",
       "mean      205.560907        11240.00000\n",
       "std        99.668184         1530.69837\n",
       "min        37.000000         8600.00000\n",
       "25%       146.000000         9920.00000\n",
       "50%       200.000000        11240.00000\n",
       "75%       242.000000        12560.00000\n",
       "max       685.000000        13880.00000"
      ]
     },
     "metadata": {},
     "output_type": "display_data"
    },
    {
     "name": "stdout",
     "output_type": "stream",
     "text": [
      "zeroshot_paper_in_train: 0\n",
      "zeroshot_paper_in_validation: 0\n",
      "train_paper_in_validation: 0\n",
      "validation_paper_in_zeroshot: 0\n"
     ]
    },
    {
     "data": {
      "application/vnd.jupyter.widget-view+json": {
       "model_id": "b2126b3a74d141af9a0c70a654bf75a8",
       "version_major": 2,
       "version_minor": 0
      },
      "text/plain": [
       "Saving the dataset (0/1 shards):   0%|          | 0/10058 [00:00<?, ? examples/s]"
      ]
     },
     "metadata": {},
     "output_type": "display_data"
    },
    {
     "data": {
      "application/vnd.jupyter.widget-view+json": {
       "model_id": "6e1f4da8bd28423b8d309aef96f067b3",
       "version_major": 2,
       "version_minor": 0
      },
      "text/plain": [
       "Saving the dataset (0/1 shards):   0%|          | 0/939 [00:00<?, ? examples/s]"
      ]
     },
     "metadata": {},
     "output_type": "display_data"
    },
    {
     "data": {
      "application/vnd.jupyter.widget-view+json": {
       "model_id": "7e3fbb44fb254e9ab74895f0580e0754",
       "version_major": 2,
       "version_minor": 0
      },
      "text/plain": [
       "Saving the dataset (0/1 shards):   0%|          | 0/353 [00:00<?, ? examples/s]"
      ]
     },
     "metadata": {},
     "output_type": "display_data"
    },
    {
     "name": "stdout",
     "output_type": "stream",
     "text": [
      "SQUAD: 7\n"
     ]
    },
    {
     "name": "stderr",
     "output_type": "stream",
     "text": [
      "100%|██████████| 926/926 [09:13<00:00,  1.67it/s] \n"
     ]
    },
    {
     "name": "stdout",
     "output_type": "stream",
     "text": [
      "Missed_parsing_zero 0\n",
      "Lenght papers_to_drop in zeroshot based on train: 573\n"
     ]
    },
    {
     "name": "stderr",
     "output_type": "stream",
     "text": [
      "100%|██████████| 926/926 [00:00<00:00, 75894.98it/s]"
     ]
    },
    {
     "name": "stdout",
     "output_type": "stream",
     "text": [
      "408\n"
     ]
    },
    {
     "name": "stderr",
     "output_type": "stream",
     "text": [
      "\n"
     ]
    },
    {
     "data": {
      "text/html": [
       "<div>\n",
       "<style scoped>\n",
       "    .dataframe tbody tr th:only-of-type {\n",
       "        vertical-align: middle;\n",
       "    }\n",
       "\n",
       "    .dataframe tbody tr th {\n",
       "        vertical-align: top;\n",
       "    }\n",
       "\n",
       "    .dataframe thead th {\n",
       "        text-align: right;\n",
       "    }\n",
       "</style>\n",
       "<table border=\"1\" class=\"dataframe\">\n",
       "  <thead>\n",
       "    <tr style=\"text-align: right;\">\n",
       "      <th></th>\n",
       "      <th>prompt lenght</th>\n",
       "      <th>__index_level_0__</th>\n",
       "    </tr>\n",
       "  </thead>\n",
       "  <tbody>\n",
       "    <tr>\n",
       "      <th>count</th>\n",
       "      <td>10058.000000</td>\n",
       "      <td>10058.000000</td>\n",
       "    </tr>\n",
       "    <tr>\n",
       "      <th>mean</th>\n",
       "      <td>497.707298</td>\n",
       "      <td>75433.500000</td>\n",
       "    </tr>\n",
       "    <tr>\n",
       "      <th>std</th>\n",
       "      <td>398.739365</td>\n",
       "      <td>43554.582566</td>\n",
       "    </tr>\n",
       "    <tr>\n",
       "      <th>min</th>\n",
       "      <td>39.000000</td>\n",
       "      <td>6.000000</td>\n",
       "    </tr>\n",
       "    <tr>\n",
       "      <th>25%</th>\n",
       "      <td>228.000000</td>\n",
       "      <td>37719.750000</td>\n",
       "    </tr>\n",
       "    <tr>\n",
       "      <th>50%</th>\n",
       "      <td>404.000000</td>\n",
       "      <td>75433.500000</td>\n",
       "    </tr>\n",
       "    <tr>\n",
       "      <th>75%</th>\n",
       "      <td>652.000000</td>\n",
       "      <td>113147.250000</td>\n",
       "    </tr>\n",
       "    <tr>\n",
       "      <th>max</th>\n",
       "      <td>7356.000000</td>\n",
       "      <td>150861.000000</td>\n",
       "    </tr>\n",
       "  </tbody>\n",
       "</table>\n",
       "</div>"
      ],
      "text/plain": [
       "       prompt lenght  __index_level_0__\n",
       "count   10058.000000       10058.000000\n",
       "mean      497.707298       75433.500000\n",
       "std       398.739365       43554.582566\n",
       "min        39.000000           6.000000\n",
       "25%       228.000000       37719.750000\n",
       "50%       404.000000       75433.500000\n",
       "75%       652.000000      113147.250000\n",
       "max      7356.000000      150861.000000"
      ]
     },
     "metadata": {},
     "output_type": "display_data"
    },
    {
     "data": {
      "text/html": [
       "<div>\n",
       "<style scoped>\n",
       "    .dataframe tbody tr th:only-of-type {\n",
       "        vertical-align: middle;\n",
       "    }\n",
       "\n",
       "    .dataframe tbody tr th {\n",
       "        vertical-align: top;\n",
       "    }\n",
       "\n",
       "    .dataframe thead th {\n",
       "        text-align: right;\n",
       "    }\n",
       "</style>\n",
       "<table border=\"1\" class=\"dataframe\">\n",
       "  <thead>\n",
       "    <tr style=\"text-align: right;\">\n",
       "      <th></th>\n",
       "      <th>prompt lenght</th>\n",
       "      <th>__index_level_0__</th>\n",
       "    </tr>\n",
       "  </thead>\n",
       "  <tbody>\n",
       "    <tr>\n",
       "      <th>count</th>\n",
       "      <td>939.000000</td>\n",
       "      <td>939.000000</td>\n",
       "    </tr>\n",
       "    <tr>\n",
       "      <th>mean</th>\n",
       "      <td>580.654952</td>\n",
       "      <td>7440.408946</td>\n",
       "    </tr>\n",
       "    <tr>\n",
       "      <th>std</th>\n",
       "      <td>358.102912</td>\n",
       "      <td>4300.934395</td>\n",
       "    </tr>\n",
       "    <tr>\n",
       "      <th>min</th>\n",
       "      <td>38.000000</td>\n",
       "      <td>6.000000</td>\n",
       "    </tr>\n",
       "    <tr>\n",
       "      <th>25%</th>\n",
       "      <td>337.000000</td>\n",
       "      <td>3718.500000</td>\n",
       "    </tr>\n",
       "    <tr>\n",
       "      <th>50%</th>\n",
       "      <td>509.000000</td>\n",
       "      <td>7431.000000</td>\n",
       "    </tr>\n",
       "    <tr>\n",
       "      <th>75%</th>\n",
       "      <td>719.500000</td>\n",
       "      <td>11143.500000</td>\n",
       "    </tr>\n",
       "    <tr>\n",
       "      <th>max</th>\n",
       "      <td>3443.000000</td>\n",
       "      <td>14901.000000</td>\n",
       "    </tr>\n",
       "  </tbody>\n",
       "</table>\n",
       "</div>"
      ],
      "text/plain": [
       "       prompt lenght  __index_level_0__\n",
       "count     939.000000         939.000000\n",
       "mean      580.654952        7440.408946\n",
       "std       358.102912        4300.934395\n",
       "min        38.000000           6.000000\n",
       "25%       337.000000        3718.500000\n",
       "50%       509.000000        7431.000000\n",
       "75%       719.500000       11143.500000\n",
       "max      3443.000000       14901.000000"
      ]
     },
     "metadata": {},
     "output_type": "display_data"
    },
    {
     "data": {
      "text/html": [
       "<div>\n",
       "<style scoped>\n",
       "    .dataframe tbody tr th:only-of-type {\n",
       "        vertical-align: middle;\n",
       "    }\n",
       "\n",
       "    .dataframe tbody tr th {\n",
       "        vertical-align: top;\n",
       "    }\n",
       "\n",
       "    .dataframe thead th {\n",
       "        text-align: right;\n",
       "    }\n",
       "</style>\n",
       "<table border=\"1\" class=\"dataframe\">\n",
       "  <thead>\n",
       "    <tr style=\"text-align: right;\">\n",
       "      <th></th>\n",
       "      <th>prompt lenght</th>\n",
       "      <th>__index_level_0__</th>\n",
       "    </tr>\n",
       "  </thead>\n",
       "  <tbody>\n",
       "    <tr>\n",
       "      <th>count</th>\n",
       "      <td>353.000000</td>\n",
       "      <td>353.00000</td>\n",
       "    </tr>\n",
       "    <tr>\n",
       "      <th>mean</th>\n",
       "      <td>209.560907</td>\n",
       "      <td>11241.00000</td>\n",
       "    </tr>\n",
       "    <tr>\n",
       "      <th>std</th>\n",
       "      <td>99.668184</td>\n",
       "      <td>1530.69837</td>\n",
       "    </tr>\n",
       "    <tr>\n",
       "      <th>min</th>\n",
       "      <td>41.000000</td>\n",
       "      <td>8601.00000</td>\n",
       "    </tr>\n",
       "    <tr>\n",
       "      <th>25%</th>\n",
       "      <td>150.000000</td>\n",
       "      <td>9921.00000</td>\n",
       "    </tr>\n",
       "    <tr>\n",
       "      <th>50%</th>\n",
       "      <td>204.000000</td>\n",
       "      <td>11241.00000</td>\n",
       "    </tr>\n",
       "    <tr>\n",
       "      <th>75%</th>\n",
       "      <td>246.000000</td>\n",
       "      <td>12561.00000</td>\n",
       "    </tr>\n",
       "    <tr>\n",
       "      <th>max</th>\n",
       "      <td>689.000000</td>\n",
       "      <td>13881.00000</td>\n",
       "    </tr>\n",
       "  </tbody>\n",
       "</table>\n",
       "</div>"
      ],
      "text/plain": [
       "       prompt lenght  __index_level_0__\n",
       "count     353.000000          353.00000\n",
       "mean      209.560907        11241.00000\n",
       "std        99.668184         1530.69837\n",
       "min        41.000000         8601.00000\n",
       "25%       150.000000         9921.00000\n",
       "50%       204.000000        11241.00000\n",
       "75%       246.000000        12561.00000\n",
       "max       689.000000        13881.00000"
      ]
     },
     "metadata": {},
     "output_type": "display_data"
    },
    {
     "name": "stdout",
     "output_type": "stream",
     "text": [
      "zeroshot_paper_in_train: 0\n",
      "zeroshot_paper_in_validation: 0\n",
      "train_paper_in_validation: 0\n",
      "validation_paper_in_zeroshot: 0\n"
     ]
    },
    {
     "data": {
      "application/vnd.jupyter.widget-view+json": {
       "model_id": "96b42e72a0394b6dad45e214d76af8af",
       "version_major": 2,
       "version_minor": 0
      },
      "text/plain": [
       "Saving the dataset (0/1 shards):   0%|          | 0/10058 [00:00<?, ? examples/s]"
      ]
     },
     "metadata": {},
     "output_type": "display_data"
    },
    {
     "data": {
      "application/vnd.jupyter.widget-view+json": {
       "model_id": "db21e6f1ca214c1ba5c03d937212a5a6",
       "version_major": 2,
       "version_minor": 0
      },
      "text/plain": [
       "Saving the dataset (0/1 shards):   0%|          | 0/939 [00:00<?, ? examples/s]"
      ]
     },
     "metadata": {},
     "output_type": "display_data"
    },
    {
     "data": {
      "application/vnd.jupyter.widget-view+json": {
       "model_id": "dd31e1b61eb3413f85970d34281443a3",
       "version_major": 2,
       "version_minor": 0
      },
      "text/plain": [
       "Saving the dataset (0/1 shards):   0%|          | 0/353 [00:00<?, ? examples/s]"
      ]
     },
     "metadata": {},
     "output_type": "display_data"
    },
    {
     "name": "stdout",
     "output_type": "stream",
     "text": [
      "SQUAD: 8\n"
     ]
    },
    {
     "name": "stderr",
     "output_type": "stream",
     "text": [
      "100%|██████████| 926/926 [09:12<00:00,  1.67it/s] \n"
     ]
    },
    {
     "name": "stdout",
     "output_type": "stream",
     "text": [
      "Missed_parsing_zero 0\n",
      "Lenght papers_to_drop in zeroshot based on train: 573\n"
     ]
    },
    {
     "name": "stderr",
     "output_type": "stream",
     "text": [
      "100%|██████████| 926/926 [00:00<00:00, 73921.80it/s]"
     ]
    },
    {
     "name": "stdout",
     "output_type": "stream",
     "text": [
      "408\n"
     ]
    },
    {
     "name": "stderr",
     "output_type": "stream",
     "text": [
      "\n"
     ]
    },
    {
     "data": {
      "text/html": [
       "<div>\n",
       "<style scoped>\n",
       "    .dataframe tbody tr th:only-of-type {\n",
       "        vertical-align: middle;\n",
       "    }\n",
       "\n",
       "    .dataframe tbody tr th {\n",
       "        vertical-align: top;\n",
       "    }\n",
       "\n",
       "    .dataframe thead th {\n",
       "        text-align: right;\n",
       "    }\n",
       "</style>\n",
       "<table border=\"1\" class=\"dataframe\">\n",
       "  <thead>\n",
       "    <tr style=\"text-align: right;\">\n",
       "      <th></th>\n",
       "      <th>prompt lenght</th>\n",
       "      <th>__index_level_0__</th>\n",
       "    </tr>\n",
       "  </thead>\n",
       "  <tbody>\n",
       "    <tr>\n",
       "      <th>count</th>\n",
       "      <td>10058.000000</td>\n",
       "      <td>10058.000000</td>\n",
       "    </tr>\n",
       "    <tr>\n",
       "      <th>mean</th>\n",
       "      <td>502.707298</td>\n",
       "      <td>75434.500000</td>\n",
       "    </tr>\n",
       "    <tr>\n",
       "      <th>std</th>\n",
       "      <td>398.739365</td>\n",
       "      <td>43554.582566</td>\n",
       "    </tr>\n",
       "    <tr>\n",
       "      <th>min</th>\n",
       "      <td>44.000000</td>\n",
       "      <td>7.000000</td>\n",
       "    </tr>\n",
       "    <tr>\n",
       "      <th>25%</th>\n",
       "      <td>233.000000</td>\n",
       "      <td>37720.750000</td>\n",
       "    </tr>\n",
       "    <tr>\n",
       "      <th>50%</th>\n",
       "      <td>409.000000</td>\n",
       "      <td>75434.500000</td>\n",
       "    </tr>\n",
       "    <tr>\n",
       "      <th>75%</th>\n",
       "      <td>657.000000</td>\n",
       "      <td>113148.250000</td>\n",
       "    </tr>\n",
       "    <tr>\n",
       "      <th>max</th>\n",
       "      <td>7361.000000</td>\n",
       "      <td>150862.000000</td>\n",
       "    </tr>\n",
       "  </tbody>\n",
       "</table>\n",
       "</div>"
      ],
      "text/plain": [
       "       prompt lenght  __index_level_0__\n",
       "count   10058.000000       10058.000000\n",
       "mean      502.707298       75434.500000\n",
       "std       398.739365       43554.582566\n",
       "min        44.000000           7.000000\n",
       "25%       233.000000       37720.750000\n",
       "50%       409.000000       75434.500000\n",
       "75%       657.000000      113148.250000\n",
       "max      7361.000000      150862.000000"
      ]
     },
     "metadata": {},
     "output_type": "display_data"
    },
    {
     "data": {
      "text/html": [
       "<div>\n",
       "<style scoped>\n",
       "    .dataframe tbody tr th:only-of-type {\n",
       "        vertical-align: middle;\n",
       "    }\n",
       "\n",
       "    .dataframe tbody tr th {\n",
       "        vertical-align: top;\n",
       "    }\n",
       "\n",
       "    .dataframe thead th {\n",
       "        text-align: right;\n",
       "    }\n",
       "</style>\n",
       "<table border=\"1\" class=\"dataframe\">\n",
       "  <thead>\n",
       "    <tr style=\"text-align: right;\">\n",
       "      <th></th>\n",
       "      <th>prompt lenght</th>\n",
       "      <th>__index_level_0__</th>\n",
       "    </tr>\n",
       "  </thead>\n",
       "  <tbody>\n",
       "    <tr>\n",
       "      <th>count</th>\n",
       "      <td>939.000000</td>\n",
       "      <td>939.000000</td>\n",
       "    </tr>\n",
       "    <tr>\n",
       "      <th>mean</th>\n",
       "      <td>585.654952</td>\n",
       "      <td>7441.408946</td>\n",
       "    </tr>\n",
       "    <tr>\n",
       "      <th>std</th>\n",
       "      <td>358.102912</td>\n",
       "      <td>4300.934395</td>\n",
       "    </tr>\n",
       "    <tr>\n",
       "      <th>min</th>\n",
       "      <td>43.000000</td>\n",
       "      <td>7.000000</td>\n",
       "    </tr>\n",
       "    <tr>\n",
       "      <th>25%</th>\n",
       "      <td>342.000000</td>\n",
       "      <td>3719.500000</td>\n",
       "    </tr>\n",
       "    <tr>\n",
       "      <th>50%</th>\n",
       "      <td>514.000000</td>\n",
       "      <td>7432.000000</td>\n",
       "    </tr>\n",
       "    <tr>\n",
       "      <th>75%</th>\n",
       "      <td>724.500000</td>\n",
       "      <td>11144.500000</td>\n",
       "    </tr>\n",
       "    <tr>\n",
       "      <th>max</th>\n",
       "      <td>3448.000000</td>\n",
       "      <td>14902.000000</td>\n",
       "    </tr>\n",
       "  </tbody>\n",
       "</table>\n",
       "</div>"
      ],
      "text/plain": [
       "       prompt lenght  __index_level_0__\n",
       "count     939.000000         939.000000\n",
       "mean      585.654952        7441.408946\n",
       "std       358.102912        4300.934395\n",
       "min        43.000000           7.000000\n",
       "25%       342.000000        3719.500000\n",
       "50%       514.000000        7432.000000\n",
       "75%       724.500000       11144.500000\n",
       "max      3448.000000       14902.000000"
      ]
     },
     "metadata": {},
     "output_type": "display_data"
    },
    {
     "data": {
      "text/html": [
       "<div>\n",
       "<style scoped>\n",
       "    .dataframe tbody tr th:only-of-type {\n",
       "        vertical-align: middle;\n",
       "    }\n",
       "\n",
       "    .dataframe tbody tr th {\n",
       "        vertical-align: top;\n",
       "    }\n",
       "\n",
       "    .dataframe thead th {\n",
       "        text-align: right;\n",
       "    }\n",
       "</style>\n",
       "<table border=\"1\" class=\"dataframe\">\n",
       "  <thead>\n",
       "    <tr style=\"text-align: right;\">\n",
       "      <th></th>\n",
       "      <th>prompt lenght</th>\n",
       "      <th>__index_level_0__</th>\n",
       "    </tr>\n",
       "  </thead>\n",
       "  <tbody>\n",
       "    <tr>\n",
       "      <th>count</th>\n",
       "      <td>353.000000</td>\n",
       "      <td>353.00000</td>\n",
       "    </tr>\n",
       "    <tr>\n",
       "      <th>mean</th>\n",
       "      <td>214.560907</td>\n",
       "      <td>11242.00000</td>\n",
       "    </tr>\n",
       "    <tr>\n",
       "      <th>std</th>\n",
       "      <td>99.668184</td>\n",
       "      <td>1530.69837</td>\n",
       "    </tr>\n",
       "    <tr>\n",
       "      <th>min</th>\n",
       "      <td>46.000000</td>\n",
       "      <td>8602.00000</td>\n",
       "    </tr>\n",
       "    <tr>\n",
       "      <th>25%</th>\n",
       "      <td>155.000000</td>\n",
       "      <td>9922.00000</td>\n",
       "    </tr>\n",
       "    <tr>\n",
       "      <th>50%</th>\n",
       "      <td>209.000000</td>\n",
       "      <td>11242.00000</td>\n",
       "    </tr>\n",
       "    <tr>\n",
       "      <th>75%</th>\n",
       "      <td>251.000000</td>\n",
       "      <td>12562.00000</td>\n",
       "    </tr>\n",
       "    <tr>\n",
       "      <th>max</th>\n",
       "      <td>694.000000</td>\n",
       "      <td>13882.00000</td>\n",
       "    </tr>\n",
       "  </tbody>\n",
       "</table>\n",
       "</div>"
      ],
      "text/plain": [
       "       prompt lenght  __index_level_0__\n",
       "count     353.000000          353.00000\n",
       "mean      214.560907        11242.00000\n",
       "std        99.668184         1530.69837\n",
       "min        46.000000         8602.00000\n",
       "25%       155.000000         9922.00000\n",
       "50%       209.000000        11242.00000\n",
       "75%       251.000000        12562.00000\n",
       "max       694.000000        13882.00000"
      ]
     },
     "metadata": {},
     "output_type": "display_data"
    },
    {
     "name": "stdout",
     "output_type": "stream",
     "text": [
      "zeroshot_paper_in_train: 0\n",
      "zeroshot_paper_in_validation: 0\n",
      "train_paper_in_validation: 0\n",
      "validation_paper_in_zeroshot: 0\n"
     ]
    },
    {
     "data": {
      "application/vnd.jupyter.widget-view+json": {
       "model_id": "3a28b399fa144528910858894421c1da",
       "version_major": 2,
       "version_minor": 0
      },
      "text/plain": [
       "Saving the dataset (0/1 shards):   0%|          | 0/10058 [00:00<?, ? examples/s]"
      ]
     },
     "metadata": {},
     "output_type": "display_data"
    },
    {
     "data": {
      "application/vnd.jupyter.widget-view+json": {
       "model_id": "7d873f820c3a4f7bbfa9b34cd2f25d0e",
       "version_major": 2,
       "version_minor": 0
      },
      "text/plain": [
       "Saving the dataset (0/1 shards):   0%|          | 0/939 [00:00<?, ? examples/s]"
      ]
     },
     "metadata": {},
     "output_type": "display_data"
    },
    {
     "data": {
      "application/vnd.jupyter.widget-view+json": {
       "model_id": "1caedd0aeffa4c02a632e7069f1cb11a",
       "version_major": 2,
       "version_minor": 0
      },
      "text/plain": [
       "Saving the dataset (0/1 shards):   0%|          | 0/353 [00:00<?, ? examples/s]"
      ]
     },
     "metadata": {},
     "output_type": "display_data"
    }
   ],
   "source": [
    "for squad_id in range(1, 9):\n",
    "    print(f\"SQUAD: {squad_id}\")\n",
    "    dataset_path = f\"../data/LLLM_AUGMENTED_SUMMARIZED_WITH_ID_ZEROSHOT_TDMS_SQUAD_{squad_id}_DOCTEAT/fold1\"\n",
    "\n",
    "    dataset_dict = DatasetDict.load_from_disk(f\"{dataset_path}\")\n",
    "        \n",
    "    dfs = {split: dataset.to_pandas() for split, dataset in dataset_dict.items()}\n",
    "    \n",
    "    zeroshot_papers_to_drop_no_lb = remove_data_leakage(dfs, source=\"zeroshot\", target=\"train\", THRESHOLD=90)\n",
    "    \n",
    "    records = dfs['zeroshot'].to_dict(\"records\")\n",
    "    validation_papers_to_drop_no_lb = set()\n",
    "    for row in tqdm(records, total=len(records)):\n",
    "        # if row['id'] in dfs['train']['id'].to_list():\n",
    "        #     duplicate+=1\n",
    "        if row['id'] in dfs['validation']['id'].to_list():\n",
    "            validation_papers_to_drop_no_lb.add(row['id'])\n",
    "            \n",
    "    print(len(validation_papers_to_drop_no_lb))\n",
    "    \n",
    "    # Filtering the DataFrame\n",
    "    display(dfs['train'].describe())\n",
    "\n",
    "    # Filtering the DataFrame\n",
    "    dfs['validation'] = dfs['validation'][~dfs['validation']['id'].isin(validation_papers_to_drop_no_lb)]\n",
    "    display(dfs['validation'].describe())\n",
    "\n",
    "    # Filtering the DataFrame\n",
    "    dfs['zeroshot'] = dfs['zeroshot'][~dfs['zeroshot']['id'].isin(zeroshot_papers_to_drop_no_lb)]\n",
    "    display(dfs['zeroshot'].describe())\n",
    "    \n",
    "    dfs['train'].drop([\"template\", \"__index_level_0__\"], inplace=True, axis=1)\n",
    "    dfs['validation'].drop([\"template\", \"__index_level_0__\"], inplace=True, axis=1)\n",
    "    dfs['zeroshot'].drop([\"template\", \"__index_level_0__\"], inplace=True, axis=1)\n",
    "\n",
    "    verify_data_integrity(dfs)\n",
    "    \n",
    "    dataset = DatasetDict({\n",
    "        \"train\": Dataset.from_pandas(dfs['train']),\n",
    "        \"validation\": Dataset.from_pandas(dfs['validation']),\n",
    "        \"zeroshot\": Dataset.from_pandas(dfs['zeroshot'])\n",
    "    })\n",
    "\n",
    "    dataset.save_to_disk(f\"../data/LEADERBOARDS_DOCTEAT_TDMS_NO_TEMPLATES_SQUAD_{squad_id}_RELAX\")"
   ]
  },
  {
   "cell_type": "code",
   "execution_count": 35,
   "id": "2a5ff94d",
   "metadata": {},
   "outputs": [
    {
     "name": "stdout",
     "output_type": "stream",
     "text": [
      "DROP: 1\n"
     ]
    },
    {
     "name": "stderr",
     "output_type": "stream",
     "text": [
      "100%|██████████| 926/926 [09:16<00:00,  1.66it/s] \n"
     ]
    },
    {
     "name": "stdout",
     "output_type": "stream",
     "text": [
      "Missed_parsing_zero 0\n",
      "Lenght papers_to_drop in zeroshot based on train: 573\n"
     ]
    },
    {
     "name": "stderr",
     "output_type": "stream",
     "text": [
      "100%|██████████| 926/926 [00:00<00:00, 77881.00it/s]"
     ]
    },
    {
     "name": "stdout",
     "output_type": "stream",
     "text": [
      "408\n"
     ]
    },
    {
     "name": "stderr",
     "output_type": "stream",
     "text": [
      "\n"
     ]
    },
    {
     "data": {
      "text/html": [
       "<div>\n",
       "<style scoped>\n",
       "    .dataframe tbody tr th:only-of-type {\n",
       "        vertical-align: middle;\n",
       "    }\n",
       "\n",
       "    .dataframe tbody tr th {\n",
       "        vertical-align: top;\n",
       "    }\n",
       "\n",
       "    .dataframe thead th {\n",
       "        text-align: right;\n",
       "    }\n",
       "</style>\n",
       "<table border=\"1\" class=\"dataframe\">\n",
       "  <thead>\n",
       "    <tr style=\"text-align: right;\">\n",
       "      <th></th>\n",
       "      <th>prompt lenght</th>\n",
       "      <th>__index_level_0__</th>\n",
       "    </tr>\n",
       "  </thead>\n",
       "  <tbody>\n",
       "    <tr>\n",
       "      <th>count</th>\n",
       "      <td>10058.000000</td>\n",
       "      <td>10058.000000</td>\n",
       "    </tr>\n",
       "    <tr>\n",
       "      <th>mean</th>\n",
       "      <td>488.707298</td>\n",
       "      <td>75435.500000</td>\n",
       "    </tr>\n",
       "    <tr>\n",
       "      <th>std</th>\n",
       "      <td>398.739365</td>\n",
       "      <td>43554.582566</td>\n",
       "    </tr>\n",
       "    <tr>\n",
       "      <th>min</th>\n",
       "      <td>30.000000</td>\n",
       "      <td>8.000000</td>\n",
       "    </tr>\n",
       "    <tr>\n",
       "      <th>25%</th>\n",
       "      <td>219.000000</td>\n",
       "      <td>37721.750000</td>\n",
       "    </tr>\n",
       "    <tr>\n",
       "      <th>50%</th>\n",
       "      <td>395.000000</td>\n",
       "      <td>75435.500000</td>\n",
       "    </tr>\n",
       "    <tr>\n",
       "      <th>75%</th>\n",
       "      <td>643.000000</td>\n",
       "      <td>113149.250000</td>\n",
       "    </tr>\n",
       "    <tr>\n",
       "      <th>max</th>\n",
       "      <td>7347.000000</td>\n",
       "      <td>150863.000000</td>\n",
       "    </tr>\n",
       "  </tbody>\n",
       "</table>\n",
       "</div>"
      ],
      "text/plain": [
       "       prompt lenght  __index_level_0__\n",
       "count   10058.000000       10058.000000\n",
       "mean      488.707298       75435.500000\n",
       "std       398.739365       43554.582566\n",
       "min        30.000000           8.000000\n",
       "25%       219.000000       37721.750000\n",
       "50%       395.000000       75435.500000\n",
       "75%       643.000000      113149.250000\n",
       "max      7347.000000      150863.000000"
      ]
     },
     "metadata": {},
     "output_type": "display_data"
    },
    {
     "data": {
      "text/html": [
       "<div>\n",
       "<style scoped>\n",
       "    .dataframe tbody tr th:only-of-type {\n",
       "        vertical-align: middle;\n",
       "    }\n",
       "\n",
       "    .dataframe tbody tr th {\n",
       "        vertical-align: top;\n",
       "    }\n",
       "\n",
       "    .dataframe thead th {\n",
       "        text-align: right;\n",
       "    }\n",
       "</style>\n",
       "<table border=\"1\" class=\"dataframe\">\n",
       "  <thead>\n",
       "    <tr style=\"text-align: right;\">\n",
       "      <th></th>\n",
       "      <th>prompt lenght</th>\n",
       "      <th>__index_level_0__</th>\n",
       "    </tr>\n",
       "  </thead>\n",
       "  <tbody>\n",
       "    <tr>\n",
       "      <th>count</th>\n",
       "      <td>939.000000</td>\n",
       "      <td>939.000000</td>\n",
       "    </tr>\n",
       "    <tr>\n",
       "      <th>mean</th>\n",
       "      <td>571.654952</td>\n",
       "      <td>7442.408946</td>\n",
       "    </tr>\n",
       "    <tr>\n",
       "      <th>std</th>\n",
       "      <td>358.102912</td>\n",
       "      <td>4300.934395</td>\n",
       "    </tr>\n",
       "    <tr>\n",
       "      <th>min</th>\n",
       "      <td>29.000000</td>\n",
       "      <td>8.000000</td>\n",
       "    </tr>\n",
       "    <tr>\n",
       "      <th>25%</th>\n",
       "      <td>328.000000</td>\n",
       "      <td>3720.500000</td>\n",
       "    </tr>\n",
       "    <tr>\n",
       "      <th>50%</th>\n",
       "      <td>500.000000</td>\n",
       "      <td>7433.000000</td>\n",
       "    </tr>\n",
       "    <tr>\n",
       "      <th>75%</th>\n",
       "      <td>710.500000</td>\n",
       "      <td>11145.500000</td>\n",
       "    </tr>\n",
       "    <tr>\n",
       "      <th>max</th>\n",
       "      <td>3434.000000</td>\n",
       "      <td>14903.000000</td>\n",
       "    </tr>\n",
       "  </tbody>\n",
       "</table>\n",
       "</div>"
      ],
      "text/plain": [
       "       prompt lenght  __index_level_0__\n",
       "count     939.000000         939.000000\n",
       "mean      571.654952        7442.408946\n",
       "std       358.102912        4300.934395\n",
       "min        29.000000           8.000000\n",
       "25%       328.000000        3720.500000\n",
       "50%       500.000000        7433.000000\n",
       "75%       710.500000       11145.500000\n",
       "max      3434.000000       14903.000000"
      ]
     },
     "metadata": {},
     "output_type": "display_data"
    },
    {
     "data": {
      "text/html": [
       "<div>\n",
       "<style scoped>\n",
       "    .dataframe tbody tr th:only-of-type {\n",
       "        vertical-align: middle;\n",
       "    }\n",
       "\n",
       "    .dataframe tbody tr th {\n",
       "        vertical-align: top;\n",
       "    }\n",
       "\n",
       "    .dataframe thead th {\n",
       "        text-align: right;\n",
       "    }\n",
       "</style>\n",
       "<table border=\"1\" class=\"dataframe\">\n",
       "  <thead>\n",
       "    <tr style=\"text-align: right;\">\n",
       "      <th></th>\n",
       "      <th>prompt lenght</th>\n",
       "      <th>__index_level_0__</th>\n",
       "    </tr>\n",
       "  </thead>\n",
       "  <tbody>\n",
       "    <tr>\n",
       "      <th>count</th>\n",
       "      <td>353.000000</td>\n",
       "      <td>353.00000</td>\n",
       "    </tr>\n",
       "    <tr>\n",
       "      <th>mean</th>\n",
       "      <td>200.560907</td>\n",
       "      <td>11243.00000</td>\n",
       "    </tr>\n",
       "    <tr>\n",
       "      <th>std</th>\n",
       "      <td>99.668184</td>\n",
       "      <td>1530.69837</td>\n",
       "    </tr>\n",
       "    <tr>\n",
       "      <th>min</th>\n",
       "      <td>32.000000</td>\n",
       "      <td>8603.00000</td>\n",
       "    </tr>\n",
       "    <tr>\n",
       "      <th>25%</th>\n",
       "      <td>141.000000</td>\n",
       "      <td>9923.00000</td>\n",
       "    </tr>\n",
       "    <tr>\n",
       "      <th>50%</th>\n",
       "      <td>195.000000</td>\n",
       "      <td>11243.00000</td>\n",
       "    </tr>\n",
       "    <tr>\n",
       "      <th>75%</th>\n",
       "      <td>237.000000</td>\n",
       "      <td>12563.00000</td>\n",
       "    </tr>\n",
       "    <tr>\n",
       "      <th>max</th>\n",
       "      <td>680.000000</td>\n",
       "      <td>13883.00000</td>\n",
       "    </tr>\n",
       "  </tbody>\n",
       "</table>\n",
       "</div>"
      ],
      "text/plain": [
       "       prompt lenght  __index_level_0__\n",
       "count     353.000000          353.00000\n",
       "mean      200.560907        11243.00000\n",
       "std        99.668184         1530.69837\n",
       "min        32.000000         8603.00000\n",
       "25%       141.000000         9923.00000\n",
       "50%       195.000000        11243.00000\n",
       "75%       237.000000        12563.00000\n",
       "max       680.000000        13883.00000"
      ]
     },
     "metadata": {},
     "output_type": "display_data"
    },
    {
     "name": "stdout",
     "output_type": "stream",
     "text": [
      "zeroshot_paper_in_train: 0\n",
      "zeroshot_paper_in_validation: 0\n",
      "train_paper_in_validation: 0\n",
      "validation_paper_in_zeroshot: 0\n"
     ]
    },
    {
     "data": {
      "application/vnd.jupyter.widget-view+json": {
       "model_id": "baede487466c4d99b634b894dfacb8fb",
       "version_major": 2,
       "version_minor": 0
      },
      "text/plain": [
       "Saving the dataset (0/1 shards):   0%|          | 0/10058 [00:00<?, ? examples/s]"
      ]
     },
     "metadata": {},
     "output_type": "display_data"
    },
    {
     "data": {
      "application/vnd.jupyter.widget-view+json": {
       "model_id": "27798795031549a8be99a4b6ee431ae8",
       "version_major": 2,
       "version_minor": 0
      },
      "text/plain": [
       "Saving the dataset (0/1 shards):   0%|          | 0/939 [00:00<?, ? examples/s]"
      ]
     },
     "metadata": {},
     "output_type": "display_data"
    },
    {
     "data": {
      "application/vnd.jupyter.widget-view+json": {
       "model_id": "ad555575d7e947b99ab9b52ec01d9113",
       "version_major": 2,
       "version_minor": 0
      },
      "text/plain": [
       "Saving the dataset (0/1 shards):   0%|          | 0/353 [00:00<?, ? examples/s]"
      ]
     },
     "metadata": {},
     "output_type": "display_data"
    },
    {
     "name": "stdout",
     "output_type": "stream",
     "text": [
      "DROP: 2\n"
     ]
    },
    {
     "name": "stderr",
     "output_type": "stream",
     "text": [
      "100%|██████████| 926/926 [09:11<00:00,  1.68it/s] \n"
     ]
    },
    {
     "name": "stdout",
     "output_type": "stream",
     "text": [
      "Missed_parsing_zero 0\n",
      "Lenght papers_to_drop in zeroshot based on train: 573\n"
     ]
    },
    {
     "name": "stderr",
     "output_type": "stream",
     "text": [
      "100%|██████████| 926/926 [00:00<00:00, 78145.82it/s]"
     ]
    },
    {
     "name": "stdout",
     "output_type": "stream",
     "text": [
      "408\n"
     ]
    },
    {
     "name": "stderr",
     "output_type": "stream",
     "text": [
      "\n"
     ]
    },
    {
     "data": {
      "text/html": [
       "<div>\n",
       "<style scoped>\n",
       "    .dataframe tbody tr th:only-of-type {\n",
       "        vertical-align: middle;\n",
       "    }\n",
       "\n",
       "    .dataframe tbody tr th {\n",
       "        vertical-align: top;\n",
       "    }\n",
       "\n",
       "    .dataframe thead th {\n",
       "        text-align: right;\n",
       "    }\n",
       "</style>\n",
       "<table border=\"1\" class=\"dataframe\">\n",
       "  <thead>\n",
       "    <tr style=\"text-align: right;\">\n",
       "      <th></th>\n",
       "      <th>prompt lenght</th>\n",
       "      <th>__index_level_0__</th>\n",
       "    </tr>\n",
       "  </thead>\n",
       "  <tbody>\n",
       "    <tr>\n",
       "      <th>count</th>\n",
       "      <td>10058.000000</td>\n",
       "      <td>10058.000000</td>\n",
       "    </tr>\n",
       "    <tr>\n",
       "      <th>mean</th>\n",
       "      <td>491.707298</td>\n",
       "      <td>75436.500000</td>\n",
       "    </tr>\n",
       "    <tr>\n",
       "      <th>std</th>\n",
       "      <td>398.739365</td>\n",
       "      <td>43554.582566</td>\n",
       "    </tr>\n",
       "    <tr>\n",
       "      <th>min</th>\n",
       "      <td>33.000000</td>\n",
       "      <td>9.000000</td>\n",
       "    </tr>\n",
       "    <tr>\n",
       "      <th>25%</th>\n",
       "      <td>222.000000</td>\n",
       "      <td>37722.750000</td>\n",
       "    </tr>\n",
       "    <tr>\n",
       "      <th>50%</th>\n",
       "      <td>398.000000</td>\n",
       "      <td>75436.500000</td>\n",
       "    </tr>\n",
       "    <tr>\n",
       "      <th>75%</th>\n",
       "      <td>646.000000</td>\n",
       "      <td>113150.250000</td>\n",
       "    </tr>\n",
       "    <tr>\n",
       "      <th>max</th>\n",
       "      <td>7350.000000</td>\n",
       "      <td>150864.000000</td>\n",
       "    </tr>\n",
       "  </tbody>\n",
       "</table>\n",
       "</div>"
      ],
      "text/plain": [
       "       prompt lenght  __index_level_0__\n",
       "count   10058.000000       10058.000000\n",
       "mean      491.707298       75436.500000\n",
       "std       398.739365       43554.582566\n",
       "min        33.000000           9.000000\n",
       "25%       222.000000       37722.750000\n",
       "50%       398.000000       75436.500000\n",
       "75%       646.000000      113150.250000\n",
       "max      7350.000000      150864.000000"
      ]
     },
     "metadata": {},
     "output_type": "display_data"
    },
    {
     "data": {
      "text/html": [
       "<div>\n",
       "<style scoped>\n",
       "    .dataframe tbody tr th:only-of-type {\n",
       "        vertical-align: middle;\n",
       "    }\n",
       "\n",
       "    .dataframe tbody tr th {\n",
       "        vertical-align: top;\n",
       "    }\n",
       "\n",
       "    .dataframe thead th {\n",
       "        text-align: right;\n",
       "    }\n",
       "</style>\n",
       "<table border=\"1\" class=\"dataframe\">\n",
       "  <thead>\n",
       "    <tr style=\"text-align: right;\">\n",
       "      <th></th>\n",
       "      <th>prompt lenght</th>\n",
       "      <th>__index_level_0__</th>\n",
       "    </tr>\n",
       "  </thead>\n",
       "  <tbody>\n",
       "    <tr>\n",
       "      <th>count</th>\n",
       "      <td>939.000000</td>\n",
       "      <td>939.000000</td>\n",
       "    </tr>\n",
       "    <tr>\n",
       "      <th>mean</th>\n",
       "      <td>574.654952</td>\n",
       "      <td>7443.408946</td>\n",
       "    </tr>\n",
       "    <tr>\n",
       "      <th>std</th>\n",
       "      <td>358.102912</td>\n",
       "      <td>4300.934395</td>\n",
       "    </tr>\n",
       "    <tr>\n",
       "      <th>min</th>\n",
       "      <td>32.000000</td>\n",
       "      <td>9.000000</td>\n",
       "    </tr>\n",
       "    <tr>\n",
       "      <th>25%</th>\n",
       "      <td>331.000000</td>\n",
       "      <td>3721.500000</td>\n",
       "    </tr>\n",
       "    <tr>\n",
       "      <th>50%</th>\n",
       "      <td>503.000000</td>\n",
       "      <td>7434.000000</td>\n",
       "    </tr>\n",
       "    <tr>\n",
       "      <th>75%</th>\n",
       "      <td>713.500000</td>\n",
       "      <td>11146.500000</td>\n",
       "    </tr>\n",
       "    <tr>\n",
       "      <th>max</th>\n",
       "      <td>3437.000000</td>\n",
       "      <td>14904.000000</td>\n",
       "    </tr>\n",
       "  </tbody>\n",
       "</table>\n",
       "</div>"
      ],
      "text/plain": [
       "       prompt lenght  __index_level_0__\n",
       "count     939.000000         939.000000\n",
       "mean      574.654952        7443.408946\n",
       "std       358.102912        4300.934395\n",
       "min        32.000000           9.000000\n",
       "25%       331.000000        3721.500000\n",
       "50%       503.000000        7434.000000\n",
       "75%       713.500000       11146.500000\n",
       "max      3437.000000       14904.000000"
      ]
     },
     "metadata": {},
     "output_type": "display_data"
    },
    {
     "data": {
      "text/html": [
       "<div>\n",
       "<style scoped>\n",
       "    .dataframe tbody tr th:only-of-type {\n",
       "        vertical-align: middle;\n",
       "    }\n",
       "\n",
       "    .dataframe tbody tr th {\n",
       "        vertical-align: top;\n",
       "    }\n",
       "\n",
       "    .dataframe thead th {\n",
       "        text-align: right;\n",
       "    }\n",
       "</style>\n",
       "<table border=\"1\" class=\"dataframe\">\n",
       "  <thead>\n",
       "    <tr style=\"text-align: right;\">\n",
       "      <th></th>\n",
       "      <th>prompt lenght</th>\n",
       "      <th>__index_level_0__</th>\n",
       "    </tr>\n",
       "  </thead>\n",
       "  <tbody>\n",
       "    <tr>\n",
       "      <th>count</th>\n",
       "      <td>353.000000</td>\n",
       "      <td>353.00000</td>\n",
       "    </tr>\n",
       "    <tr>\n",
       "      <th>mean</th>\n",
       "      <td>203.560907</td>\n",
       "      <td>11244.00000</td>\n",
       "    </tr>\n",
       "    <tr>\n",
       "      <th>std</th>\n",
       "      <td>99.668184</td>\n",
       "      <td>1530.69837</td>\n",
       "    </tr>\n",
       "    <tr>\n",
       "      <th>min</th>\n",
       "      <td>35.000000</td>\n",
       "      <td>8604.00000</td>\n",
       "    </tr>\n",
       "    <tr>\n",
       "      <th>25%</th>\n",
       "      <td>144.000000</td>\n",
       "      <td>9924.00000</td>\n",
       "    </tr>\n",
       "    <tr>\n",
       "      <th>50%</th>\n",
       "      <td>198.000000</td>\n",
       "      <td>11244.00000</td>\n",
       "    </tr>\n",
       "    <tr>\n",
       "      <th>75%</th>\n",
       "      <td>240.000000</td>\n",
       "      <td>12564.00000</td>\n",
       "    </tr>\n",
       "    <tr>\n",
       "      <th>max</th>\n",
       "      <td>683.000000</td>\n",
       "      <td>13884.00000</td>\n",
       "    </tr>\n",
       "  </tbody>\n",
       "</table>\n",
       "</div>"
      ],
      "text/plain": [
       "       prompt lenght  __index_level_0__\n",
       "count     353.000000          353.00000\n",
       "mean      203.560907        11244.00000\n",
       "std        99.668184         1530.69837\n",
       "min        35.000000         8604.00000\n",
       "25%       144.000000         9924.00000\n",
       "50%       198.000000        11244.00000\n",
       "75%       240.000000        12564.00000\n",
       "max       683.000000        13884.00000"
      ]
     },
     "metadata": {},
     "output_type": "display_data"
    },
    {
     "name": "stdout",
     "output_type": "stream",
     "text": [
      "zeroshot_paper_in_train: 0\n",
      "zeroshot_paper_in_validation: 0\n",
      "train_paper_in_validation: 0\n",
      "validation_paper_in_zeroshot: 0\n"
     ]
    },
    {
     "data": {
      "application/vnd.jupyter.widget-view+json": {
       "model_id": "f11f07bed1a04ccdb0d749d4b0870e68",
       "version_major": 2,
       "version_minor": 0
      },
      "text/plain": [
       "Saving the dataset (0/1 shards):   0%|          | 0/10058 [00:00<?, ? examples/s]"
      ]
     },
     "metadata": {},
     "output_type": "display_data"
    },
    {
     "data": {
      "application/vnd.jupyter.widget-view+json": {
       "model_id": "0de3d5097b7a4c5b89e7b7fc7b130b0d",
       "version_major": 2,
       "version_minor": 0
      },
      "text/plain": [
       "Saving the dataset (0/1 shards):   0%|          | 0/939 [00:00<?, ? examples/s]"
      ]
     },
     "metadata": {},
     "output_type": "display_data"
    },
    {
     "data": {
      "application/vnd.jupyter.widget-view+json": {
       "model_id": "567ebc32b369452388a5bbefe3e315de",
       "version_major": 2,
       "version_minor": 0
      },
      "text/plain": [
       "Saving the dataset (0/1 shards):   0%|          | 0/353 [00:00<?, ? examples/s]"
      ]
     },
     "metadata": {},
     "output_type": "display_data"
    },
    {
     "name": "stdout",
     "output_type": "stream",
     "text": [
      "DROP: 3\n"
     ]
    },
    {
     "name": "stderr",
     "output_type": "stream",
     "text": [
      "100%|██████████| 924/924 [09:15<00:00,  1.66it/s] \n"
     ]
    },
    {
     "name": "stdout",
     "output_type": "stream",
     "text": [
      "Missed_parsing_zero 0\n",
      "Lenght papers_to_drop in zeroshot based on train: 572\n"
     ]
    },
    {
     "name": "stderr",
     "output_type": "stream",
     "text": [
      "100%|██████████| 924/924 [00:00<00:00, 72919.71it/s]"
     ]
    },
    {
     "name": "stdout",
     "output_type": "stream",
     "text": [
      "407\n"
     ]
    },
    {
     "name": "stderr",
     "output_type": "stream",
     "text": [
      "\n"
     ]
    },
    {
     "data": {
      "text/html": [
       "<div>\n",
       "<style scoped>\n",
       "    .dataframe tbody tr th:only-of-type {\n",
       "        vertical-align: middle;\n",
       "    }\n",
       "\n",
       "    .dataframe tbody tr th {\n",
       "        vertical-align: top;\n",
       "    }\n",
       "\n",
       "    .dataframe thead th {\n",
       "        text-align: right;\n",
       "    }\n",
       "</style>\n",
       "<table border=\"1\" class=\"dataframe\">\n",
       "  <thead>\n",
       "    <tr style=\"text-align: right;\">\n",
       "      <th></th>\n",
       "      <th>prompt lenght</th>\n",
       "      <th>__index_level_0__</th>\n",
       "    </tr>\n",
       "  </thead>\n",
       "  <tbody>\n",
       "    <tr>\n",
       "      <th>count</th>\n",
       "      <td>10051.000000</td>\n",
       "      <td>10051.000000</td>\n",
       "    </tr>\n",
       "    <tr>\n",
       "      <th>mean</th>\n",
       "      <td>484.701622</td>\n",
       "      <td>75455.098995</td>\n",
       "    </tr>\n",
       "    <tr>\n",
       "      <th>std</th>\n",
       "      <td>398.858367</td>\n",
       "      <td>43559.044436</td>\n",
       "    </tr>\n",
       "    <tr>\n",
       "      <th>min</th>\n",
       "      <td>26.000000</td>\n",
       "      <td>10.000000</td>\n",
       "    </tr>\n",
       "    <tr>\n",
       "      <th>25%</th>\n",
       "      <td>215.000000</td>\n",
       "      <td>37742.500000</td>\n",
       "    </tr>\n",
       "    <tr>\n",
       "      <th>50%</th>\n",
       "      <td>391.000000</td>\n",
       "      <td>75475.000000</td>\n",
       "    </tr>\n",
       "    <tr>\n",
       "      <th>75%</th>\n",
       "      <td>639.500000</td>\n",
       "      <td>113177.500000</td>\n",
       "    </tr>\n",
       "    <tr>\n",
       "      <th>max</th>\n",
       "      <td>7343.000000</td>\n",
       "      <td>150865.000000</td>\n",
       "    </tr>\n",
       "  </tbody>\n",
       "</table>\n",
       "</div>"
      ],
      "text/plain": [
       "       prompt lenght  __index_level_0__\n",
       "count   10051.000000       10051.000000\n",
       "mean      484.701622       75455.098995\n",
       "std       398.858367       43559.044436\n",
       "min        26.000000          10.000000\n",
       "25%       215.000000       37742.500000\n",
       "50%       391.000000       75475.000000\n",
       "75%       639.500000      113177.500000\n",
       "max      7343.000000      150865.000000"
      ]
     },
     "metadata": {},
     "output_type": "display_data"
    },
    {
     "data": {
      "text/html": [
       "<div>\n",
       "<style scoped>\n",
       "    .dataframe tbody tr th:only-of-type {\n",
       "        vertical-align: middle;\n",
       "    }\n",
       "\n",
       "    .dataframe tbody tr th {\n",
       "        vertical-align: top;\n",
       "    }\n",
       "\n",
       "    .dataframe thead th {\n",
       "        text-align: right;\n",
       "    }\n",
       "</style>\n",
       "<table border=\"1\" class=\"dataframe\">\n",
       "  <thead>\n",
       "    <tr style=\"text-align: right;\">\n",
       "      <th></th>\n",
       "      <th>prompt lenght</th>\n",
       "      <th>__index_level_0__</th>\n",
       "    </tr>\n",
       "  </thead>\n",
       "  <tbody>\n",
       "    <tr>\n",
       "      <th>count</th>\n",
       "      <td>937.000000</td>\n",
       "      <td>937.000000</td>\n",
       "    </tr>\n",
       "    <tr>\n",
       "      <th>mean</th>\n",
       "      <td>567.586980</td>\n",
       "      <td>7445.021345</td>\n",
       "    </tr>\n",
       "    <tr>\n",
       "      <th>std</th>\n",
       "      <td>358.481939</td>\n",
       "      <td>4304.324351</td>\n",
       "    </tr>\n",
       "    <tr>\n",
       "      <th>min</th>\n",
       "      <td>25.000000</td>\n",
       "      <td>10.000000</td>\n",
       "    </tr>\n",
       "    <tr>\n",
       "      <th>25%</th>\n",
       "      <td>324.000000</td>\n",
       "      <td>3715.000000</td>\n",
       "    </tr>\n",
       "    <tr>\n",
       "      <th>50%</th>\n",
       "      <td>495.000000</td>\n",
       "      <td>7435.000000</td>\n",
       "    </tr>\n",
       "    <tr>\n",
       "      <th>75%</th>\n",
       "      <td>708.000000</td>\n",
       "      <td>11155.000000</td>\n",
       "    </tr>\n",
       "    <tr>\n",
       "      <th>max</th>\n",
       "      <td>3430.000000</td>\n",
       "      <td>14905.000000</td>\n",
       "    </tr>\n",
       "  </tbody>\n",
       "</table>\n",
       "</div>"
      ],
      "text/plain": [
       "       prompt lenght  __index_level_0__\n",
       "count     937.000000         937.000000\n",
       "mean      567.586980        7445.021345\n",
       "std       358.481939        4304.324351\n",
       "min        25.000000          10.000000\n",
       "25%       324.000000        3715.000000\n",
       "50%       495.000000        7435.000000\n",
       "75%       708.000000       11155.000000\n",
       "max      3430.000000       14905.000000"
      ]
     },
     "metadata": {},
     "output_type": "display_data"
    },
    {
     "data": {
      "text/html": [
       "<div>\n",
       "<style scoped>\n",
       "    .dataframe tbody tr th:only-of-type {\n",
       "        vertical-align: middle;\n",
       "    }\n",
       "\n",
       "    .dataframe tbody tr th {\n",
       "        vertical-align: top;\n",
       "    }\n",
       "\n",
       "    .dataframe thead th {\n",
       "        text-align: right;\n",
       "    }\n",
       "</style>\n",
       "<table border=\"1\" class=\"dataframe\">\n",
       "  <thead>\n",
       "    <tr style=\"text-align: right;\">\n",
       "      <th></th>\n",
       "      <th>prompt lenght</th>\n",
       "      <th>__index_level_0__</th>\n",
       "    </tr>\n",
       "  </thead>\n",
       "  <tbody>\n",
       "    <tr>\n",
       "      <th>count</th>\n",
       "      <td>352.000000</td>\n",
       "      <td>352.000000</td>\n",
       "    </tr>\n",
       "    <tr>\n",
       "      <th>mean</th>\n",
       "      <td>196.417614</td>\n",
       "      <td>11240.951705</td>\n",
       "    </tr>\n",
       "    <tr>\n",
       "      <th>std</th>\n",
       "      <td>99.773641</td>\n",
       "      <td>1530.983713</td>\n",
       "    </tr>\n",
       "    <tr>\n",
       "      <th>min</th>\n",
       "      <td>28.000000</td>\n",
       "      <td>8605.000000</td>\n",
       "    </tr>\n",
       "    <tr>\n",
       "      <th>25%</th>\n",
       "      <td>137.000000</td>\n",
       "      <td>9921.250000</td>\n",
       "    </tr>\n",
       "    <tr>\n",
       "      <th>50%</th>\n",
       "      <td>191.000000</td>\n",
       "      <td>11237.500000</td>\n",
       "    </tr>\n",
       "    <tr>\n",
       "      <th>75%</th>\n",
       "      <td>233.000000</td>\n",
       "      <td>12553.750000</td>\n",
       "    </tr>\n",
       "    <tr>\n",
       "      <th>max</th>\n",
       "      <td>676.000000</td>\n",
       "      <td>13885.000000</td>\n",
       "    </tr>\n",
       "  </tbody>\n",
       "</table>\n",
       "</div>"
      ],
      "text/plain": [
       "       prompt lenght  __index_level_0__\n",
       "count     352.000000         352.000000\n",
       "mean      196.417614       11240.951705\n",
       "std        99.773641        1530.983713\n",
       "min        28.000000        8605.000000\n",
       "25%       137.000000        9921.250000\n",
       "50%       191.000000       11237.500000\n",
       "75%       233.000000       12553.750000\n",
       "max       676.000000       13885.000000"
      ]
     },
     "metadata": {},
     "output_type": "display_data"
    },
    {
     "name": "stdout",
     "output_type": "stream",
     "text": [
      "zeroshot_paper_in_train: 0\n",
      "zeroshot_paper_in_validation: 0\n",
      "train_paper_in_validation: 0\n",
      "validation_paper_in_zeroshot: 0\n"
     ]
    },
    {
     "data": {
      "application/vnd.jupyter.widget-view+json": {
       "model_id": "a3959cc53b6a4ee692c6849906990a47",
       "version_major": 2,
       "version_minor": 0
      },
      "text/plain": [
       "Saving the dataset (0/1 shards):   0%|          | 0/10051 [00:00<?, ? examples/s]"
      ]
     },
     "metadata": {},
     "output_type": "display_data"
    },
    {
     "data": {
      "application/vnd.jupyter.widget-view+json": {
       "model_id": "9c16aab8168944a8bce91ae4f6dc083e",
       "version_major": 2,
       "version_minor": 0
      },
      "text/plain": [
       "Saving the dataset (0/1 shards):   0%|          | 0/937 [00:00<?, ? examples/s]"
      ]
     },
     "metadata": {},
     "output_type": "display_data"
    },
    {
     "data": {
      "application/vnd.jupyter.widget-view+json": {
       "model_id": "323214bc78474833bc664dc9be0d2632",
       "version_major": 2,
       "version_minor": 0
      },
      "text/plain": [
       "Saving the dataset (0/1 shards):   0%|          | 0/352 [00:00<?, ? examples/s]"
      ]
     },
     "metadata": {},
     "output_type": "display_data"
    },
    {
     "name": "stdout",
     "output_type": "stream",
     "text": [
      "DROP: 4\n"
     ]
    },
    {
     "name": "stderr",
     "output_type": "stream",
     "text": [
      "100%|██████████| 926/926 [09:12<00:00,  1.68it/s] \n"
     ]
    },
    {
     "name": "stdout",
     "output_type": "stream",
     "text": [
      "Missed_parsing_zero 0\n",
      "Lenght papers_to_drop in zeroshot based on train: 573\n"
     ]
    },
    {
     "name": "stderr",
     "output_type": "stream",
     "text": [
      "100%|██████████| 926/926 [00:00<00:00, 77138.54it/s]"
     ]
    },
    {
     "name": "stdout",
     "output_type": "stream",
     "text": [
      "408\n"
     ]
    },
    {
     "name": "stderr",
     "output_type": "stream",
     "text": [
      "\n"
     ]
    },
    {
     "data": {
      "text/html": [
       "<div>\n",
       "<style scoped>\n",
       "    .dataframe tbody tr th:only-of-type {\n",
       "        vertical-align: middle;\n",
       "    }\n",
       "\n",
       "    .dataframe tbody tr th {\n",
       "        vertical-align: top;\n",
       "    }\n",
       "\n",
       "    .dataframe thead th {\n",
       "        text-align: right;\n",
       "    }\n",
       "</style>\n",
       "<table border=\"1\" class=\"dataframe\">\n",
       "  <thead>\n",
       "    <tr style=\"text-align: right;\">\n",
       "      <th></th>\n",
       "      <th>prompt lenght</th>\n",
       "      <th>__index_level_0__</th>\n",
       "    </tr>\n",
       "  </thead>\n",
       "  <tbody>\n",
       "    <tr>\n",
       "      <th>count</th>\n",
       "      <td>10058.000000</td>\n",
       "      <td>10058.000000</td>\n",
       "    </tr>\n",
       "    <tr>\n",
       "      <th>mean</th>\n",
       "      <td>487.707298</td>\n",
       "      <td>75438.500000</td>\n",
       "    </tr>\n",
       "    <tr>\n",
       "      <th>std</th>\n",
       "      <td>398.739365</td>\n",
       "      <td>43554.582566</td>\n",
       "    </tr>\n",
       "    <tr>\n",
       "      <th>min</th>\n",
       "      <td>29.000000</td>\n",
       "      <td>11.000000</td>\n",
       "    </tr>\n",
       "    <tr>\n",
       "      <th>25%</th>\n",
       "      <td>218.000000</td>\n",
       "      <td>37724.750000</td>\n",
       "    </tr>\n",
       "    <tr>\n",
       "      <th>50%</th>\n",
       "      <td>394.000000</td>\n",
       "      <td>75438.500000</td>\n",
       "    </tr>\n",
       "    <tr>\n",
       "      <th>75%</th>\n",
       "      <td>642.000000</td>\n",
       "      <td>113152.250000</td>\n",
       "    </tr>\n",
       "    <tr>\n",
       "      <th>max</th>\n",
       "      <td>7346.000000</td>\n",
       "      <td>150866.000000</td>\n",
       "    </tr>\n",
       "  </tbody>\n",
       "</table>\n",
       "</div>"
      ],
      "text/plain": [
       "       prompt lenght  __index_level_0__\n",
       "count   10058.000000       10058.000000\n",
       "mean      487.707298       75438.500000\n",
       "std       398.739365       43554.582566\n",
       "min        29.000000          11.000000\n",
       "25%       218.000000       37724.750000\n",
       "50%       394.000000       75438.500000\n",
       "75%       642.000000      113152.250000\n",
       "max      7346.000000      150866.000000"
      ]
     },
     "metadata": {},
     "output_type": "display_data"
    },
    {
     "data": {
      "text/html": [
       "<div>\n",
       "<style scoped>\n",
       "    .dataframe tbody tr th:only-of-type {\n",
       "        vertical-align: middle;\n",
       "    }\n",
       "\n",
       "    .dataframe tbody tr th {\n",
       "        vertical-align: top;\n",
       "    }\n",
       "\n",
       "    .dataframe thead th {\n",
       "        text-align: right;\n",
       "    }\n",
       "</style>\n",
       "<table border=\"1\" class=\"dataframe\">\n",
       "  <thead>\n",
       "    <tr style=\"text-align: right;\">\n",
       "      <th></th>\n",
       "      <th>prompt lenght</th>\n",
       "      <th>__index_level_0__</th>\n",
       "    </tr>\n",
       "  </thead>\n",
       "  <tbody>\n",
       "    <tr>\n",
       "      <th>count</th>\n",
       "      <td>939.000000</td>\n",
       "      <td>939.000000</td>\n",
       "    </tr>\n",
       "    <tr>\n",
       "      <th>mean</th>\n",
       "      <td>570.654952</td>\n",
       "      <td>7445.408946</td>\n",
       "    </tr>\n",
       "    <tr>\n",
       "      <th>std</th>\n",
       "      <td>358.102912</td>\n",
       "      <td>4300.934395</td>\n",
       "    </tr>\n",
       "    <tr>\n",
       "      <th>min</th>\n",
       "      <td>28.000000</td>\n",
       "      <td>11.000000</td>\n",
       "    </tr>\n",
       "    <tr>\n",
       "      <th>25%</th>\n",
       "      <td>327.000000</td>\n",
       "      <td>3723.500000</td>\n",
       "    </tr>\n",
       "    <tr>\n",
       "      <th>50%</th>\n",
       "      <td>499.000000</td>\n",
       "      <td>7436.000000</td>\n",
       "    </tr>\n",
       "    <tr>\n",
       "      <th>75%</th>\n",
       "      <td>709.500000</td>\n",
       "      <td>11148.500000</td>\n",
       "    </tr>\n",
       "    <tr>\n",
       "      <th>max</th>\n",
       "      <td>3433.000000</td>\n",
       "      <td>14906.000000</td>\n",
       "    </tr>\n",
       "  </tbody>\n",
       "</table>\n",
       "</div>"
      ],
      "text/plain": [
       "       prompt lenght  __index_level_0__\n",
       "count     939.000000         939.000000\n",
       "mean      570.654952        7445.408946\n",
       "std       358.102912        4300.934395\n",
       "min        28.000000          11.000000\n",
       "25%       327.000000        3723.500000\n",
       "50%       499.000000        7436.000000\n",
       "75%       709.500000       11148.500000\n",
       "max      3433.000000       14906.000000"
      ]
     },
     "metadata": {},
     "output_type": "display_data"
    },
    {
     "data": {
      "text/html": [
       "<div>\n",
       "<style scoped>\n",
       "    .dataframe tbody tr th:only-of-type {\n",
       "        vertical-align: middle;\n",
       "    }\n",
       "\n",
       "    .dataframe tbody tr th {\n",
       "        vertical-align: top;\n",
       "    }\n",
       "\n",
       "    .dataframe thead th {\n",
       "        text-align: right;\n",
       "    }\n",
       "</style>\n",
       "<table border=\"1\" class=\"dataframe\">\n",
       "  <thead>\n",
       "    <tr style=\"text-align: right;\">\n",
       "      <th></th>\n",
       "      <th>prompt lenght</th>\n",
       "      <th>__index_level_0__</th>\n",
       "    </tr>\n",
       "  </thead>\n",
       "  <tbody>\n",
       "    <tr>\n",
       "      <th>count</th>\n",
       "      <td>353.000000</td>\n",
       "      <td>353.00000</td>\n",
       "    </tr>\n",
       "    <tr>\n",
       "      <th>mean</th>\n",
       "      <td>199.560907</td>\n",
       "      <td>11246.00000</td>\n",
       "    </tr>\n",
       "    <tr>\n",
       "      <th>std</th>\n",
       "      <td>99.668184</td>\n",
       "      <td>1530.69837</td>\n",
       "    </tr>\n",
       "    <tr>\n",
       "      <th>min</th>\n",
       "      <td>31.000000</td>\n",
       "      <td>8606.00000</td>\n",
       "    </tr>\n",
       "    <tr>\n",
       "      <th>25%</th>\n",
       "      <td>140.000000</td>\n",
       "      <td>9926.00000</td>\n",
       "    </tr>\n",
       "    <tr>\n",
       "      <th>50%</th>\n",
       "      <td>194.000000</td>\n",
       "      <td>11246.00000</td>\n",
       "    </tr>\n",
       "    <tr>\n",
       "      <th>75%</th>\n",
       "      <td>236.000000</td>\n",
       "      <td>12566.00000</td>\n",
       "    </tr>\n",
       "    <tr>\n",
       "      <th>max</th>\n",
       "      <td>679.000000</td>\n",
       "      <td>13886.00000</td>\n",
       "    </tr>\n",
       "  </tbody>\n",
       "</table>\n",
       "</div>"
      ],
      "text/plain": [
       "       prompt lenght  __index_level_0__\n",
       "count     353.000000          353.00000\n",
       "mean      199.560907        11246.00000\n",
       "std        99.668184         1530.69837\n",
       "min        31.000000         8606.00000\n",
       "25%       140.000000         9926.00000\n",
       "50%       194.000000        11246.00000\n",
       "75%       236.000000        12566.00000\n",
       "max       679.000000        13886.00000"
      ]
     },
     "metadata": {},
     "output_type": "display_data"
    },
    {
     "name": "stdout",
     "output_type": "stream",
     "text": [
      "zeroshot_paper_in_train: 0\n",
      "zeroshot_paper_in_validation: 0\n",
      "train_paper_in_validation: 0\n",
      "validation_paper_in_zeroshot: 0\n"
     ]
    },
    {
     "data": {
      "application/vnd.jupyter.widget-view+json": {
       "model_id": "68040bca01534b4ea310d88f28193733",
       "version_major": 2,
       "version_minor": 0
      },
      "text/plain": [
       "Saving the dataset (0/1 shards):   0%|          | 0/10058 [00:00<?, ? examples/s]"
      ]
     },
     "metadata": {},
     "output_type": "display_data"
    },
    {
     "data": {
      "application/vnd.jupyter.widget-view+json": {
       "model_id": "da4b39383c66455ab5333ece1eae0df9",
       "version_major": 2,
       "version_minor": 0
      },
      "text/plain": [
       "Saving the dataset (0/1 shards):   0%|          | 0/939 [00:00<?, ? examples/s]"
      ]
     },
     "metadata": {},
     "output_type": "display_data"
    },
    {
     "data": {
      "application/vnd.jupyter.widget-view+json": {
       "model_id": "ec8f4bbee99244e4b559e1d35c11b7a3",
       "version_major": 2,
       "version_minor": 0
      },
      "text/plain": [
       "Saving the dataset (0/1 shards):   0%|          | 0/353 [00:00<?, ? examples/s]"
      ]
     },
     "metadata": {},
     "output_type": "display_data"
    },
    {
     "name": "stdout",
     "output_type": "stream",
     "text": [
      "DROP: 5\n"
     ]
    },
    {
     "name": "stderr",
     "output_type": "stream",
     "text": [
      "100%|██████████| 926/926 [09:15<00:00,  1.67it/s] \n"
     ]
    },
    {
     "name": "stdout",
     "output_type": "stream",
     "text": [
      "Missed_parsing_zero 0\n",
      "Lenght papers_to_drop in zeroshot based on train: 573\n"
     ]
    },
    {
     "name": "stderr",
     "output_type": "stream",
     "text": [
      "100%|██████████| 926/926 [00:00<00:00, 75822.38it/s]"
     ]
    },
    {
     "name": "stdout",
     "output_type": "stream",
     "text": [
      "408\n"
     ]
    },
    {
     "name": "stderr",
     "output_type": "stream",
     "text": [
      "\n"
     ]
    },
    {
     "data": {
      "text/html": [
       "<div>\n",
       "<style scoped>\n",
       "    .dataframe tbody tr th:only-of-type {\n",
       "        vertical-align: middle;\n",
       "    }\n",
       "\n",
       "    .dataframe tbody tr th {\n",
       "        vertical-align: top;\n",
       "    }\n",
       "\n",
       "    .dataframe thead th {\n",
       "        text-align: right;\n",
       "    }\n",
       "</style>\n",
       "<table border=\"1\" class=\"dataframe\">\n",
       "  <thead>\n",
       "    <tr style=\"text-align: right;\">\n",
       "      <th></th>\n",
       "      <th>prompt lenght</th>\n",
       "      <th>__index_level_0__</th>\n",
       "    </tr>\n",
       "  </thead>\n",
       "  <tbody>\n",
       "    <tr>\n",
       "      <th>count</th>\n",
       "      <td>10058.000000</td>\n",
       "      <td>10058.000000</td>\n",
       "    </tr>\n",
       "    <tr>\n",
       "      <th>mean</th>\n",
       "      <td>491.707298</td>\n",
       "      <td>75439.500000</td>\n",
       "    </tr>\n",
       "    <tr>\n",
       "      <th>std</th>\n",
       "      <td>398.739365</td>\n",
       "      <td>43554.582566</td>\n",
       "    </tr>\n",
       "    <tr>\n",
       "      <th>min</th>\n",
       "      <td>33.000000</td>\n",
       "      <td>12.000000</td>\n",
       "    </tr>\n",
       "    <tr>\n",
       "      <th>25%</th>\n",
       "      <td>222.000000</td>\n",
       "      <td>37725.750000</td>\n",
       "    </tr>\n",
       "    <tr>\n",
       "      <th>50%</th>\n",
       "      <td>398.000000</td>\n",
       "      <td>75439.500000</td>\n",
       "    </tr>\n",
       "    <tr>\n",
       "      <th>75%</th>\n",
       "      <td>646.000000</td>\n",
       "      <td>113153.250000</td>\n",
       "    </tr>\n",
       "    <tr>\n",
       "      <th>max</th>\n",
       "      <td>7350.000000</td>\n",
       "      <td>150867.000000</td>\n",
       "    </tr>\n",
       "  </tbody>\n",
       "</table>\n",
       "</div>"
      ],
      "text/plain": [
       "       prompt lenght  __index_level_0__\n",
       "count   10058.000000       10058.000000\n",
       "mean      491.707298       75439.500000\n",
       "std       398.739365       43554.582566\n",
       "min        33.000000          12.000000\n",
       "25%       222.000000       37725.750000\n",
       "50%       398.000000       75439.500000\n",
       "75%       646.000000      113153.250000\n",
       "max      7350.000000      150867.000000"
      ]
     },
     "metadata": {},
     "output_type": "display_data"
    },
    {
     "data": {
      "text/html": [
       "<div>\n",
       "<style scoped>\n",
       "    .dataframe tbody tr th:only-of-type {\n",
       "        vertical-align: middle;\n",
       "    }\n",
       "\n",
       "    .dataframe tbody tr th {\n",
       "        vertical-align: top;\n",
       "    }\n",
       "\n",
       "    .dataframe thead th {\n",
       "        text-align: right;\n",
       "    }\n",
       "</style>\n",
       "<table border=\"1\" class=\"dataframe\">\n",
       "  <thead>\n",
       "    <tr style=\"text-align: right;\">\n",
       "      <th></th>\n",
       "      <th>prompt lenght</th>\n",
       "      <th>__index_level_0__</th>\n",
       "    </tr>\n",
       "  </thead>\n",
       "  <tbody>\n",
       "    <tr>\n",
       "      <th>count</th>\n",
       "      <td>939.000000</td>\n",
       "      <td>939.000000</td>\n",
       "    </tr>\n",
       "    <tr>\n",
       "      <th>mean</th>\n",
       "      <td>574.654952</td>\n",
       "      <td>7446.408946</td>\n",
       "    </tr>\n",
       "    <tr>\n",
       "      <th>std</th>\n",
       "      <td>358.102912</td>\n",
       "      <td>4300.934395</td>\n",
       "    </tr>\n",
       "    <tr>\n",
       "      <th>min</th>\n",
       "      <td>32.000000</td>\n",
       "      <td>12.000000</td>\n",
       "    </tr>\n",
       "    <tr>\n",
       "      <th>25%</th>\n",
       "      <td>331.000000</td>\n",
       "      <td>3724.500000</td>\n",
       "    </tr>\n",
       "    <tr>\n",
       "      <th>50%</th>\n",
       "      <td>503.000000</td>\n",
       "      <td>7437.000000</td>\n",
       "    </tr>\n",
       "    <tr>\n",
       "      <th>75%</th>\n",
       "      <td>713.500000</td>\n",
       "      <td>11149.500000</td>\n",
       "    </tr>\n",
       "    <tr>\n",
       "      <th>max</th>\n",
       "      <td>3437.000000</td>\n",
       "      <td>14907.000000</td>\n",
       "    </tr>\n",
       "  </tbody>\n",
       "</table>\n",
       "</div>"
      ],
      "text/plain": [
       "       prompt lenght  __index_level_0__\n",
       "count     939.000000         939.000000\n",
       "mean      574.654952        7446.408946\n",
       "std       358.102912        4300.934395\n",
       "min        32.000000          12.000000\n",
       "25%       331.000000        3724.500000\n",
       "50%       503.000000        7437.000000\n",
       "75%       713.500000       11149.500000\n",
       "max      3437.000000       14907.000000"
      ]
     },
     "metadata": {},
     "output_type": "display_data"
    },
    {
     "data": {
      "text/html": [
       "<div>\n",
       "<style scoped>\n",
       "    .dataframe tbody tr th:only-of-type {\n",
       "        vertical-align: middle;\n",
       "    }\n",
       "\n",
       "    .dataframe tbody tr th {\n",
       "        vertical-align: top;\n",
       "    }\n",
       "\n",
       "    .dataframe thead th {\n",
       "        text-align: right;\n",
       "    }\n",
       "</style>\n",
       "<table border=\"1\" class=\"dataframe\">\n",
       "  <thead>\n",
       "    <tr style=\"text-align: right;\">\n",
       "      <th></th>\n",
       "      <th>prompt lenght</th>\n",
       "      <th>__index_level_0__</th>\n",
       "    </tr>\n",
       "  </thead>\n",
       "  <tbody>\n",
       "    <tr>\n",
       "      <th>count</th>\n",
       "      <td>353.000000</td>\n",
       "      <td>353.00000</td>\n",
       "    </tr>\n",
       "    <tr>\n",
       "      <th>mean</th>\n",
       "      <td>203.560907</td>\n",
       "      <td>11247.00000</td>\n",
       "    </tr>\n",
       "    <tr>\n",
       "      <th>std</th>\n",
       "      <td>99.668184</td>\n",
       "      <td>1530.69837</td>\n",
       "    </tr>\n",
       "    <tr>\n",
       "      <th>min</th>\n",
       "      <td>35.000000</td>\n",
       "      <td>8607.00000</td>\n",
       "    </tr>\n",
       "    <tr>\n",
       "      <th>25%</th>\n",
       "      <td>144.000000</td>\n",
       "      <td>9927.00000</td>\n",
       "    </tr>\n",
       "    <tr>\n",
       "      <th>50%</th>\n",
       "      <td>198.000000</td>\n",
       "      <td>11247.00000</td>\n",
       "    </tr>\n",
       "    <tr>\n",
       "      <th>75%</th>\n",
       "      <td>240.000000</td>\n",
       "      <td>12567.00000</td>\n",
       "    </tr>\n",
       "    <tr>\n",
       "      <th>max</th>\n",
       "      <td>683.000000</td>\n",
       "      <td>13887.00000</td>\n",
       "    </tr>\n",
       "  </tbody>\n",
       "</table>\n",
       "</div>"
      ],
      "text/plain": [
       "       prompt lenght  __index_level_0__\n",
       "count     353.000000          353.00000\n",
       "mean      203.560907        11247.00000\n",
       "std        99.668184         1530.69837\n",
       "min        35.000000         8607.00000\n",
       "25%       144.000000         9927.00000\n",
       "50%       198.000000        11247.00000\n",
       "75%       240.000000        12567.00000\n",
       "max       683.000000        13887.00000"
      ]
     },
     "metadata": {},
     "output_type": "display_data"
    },
    {
     "name": "stdout",
     "output_type": "stream",
     "text": [
      "zeroshot_paper_in_train: 0\n",
      "zeroshot_paper_in_validation: 0\n",
      "train_paper_in_validation: 0\n",
      "validation_paper_in_zeroshot: 0\n"
     ]
    },
    {
     "data": {
      "application/vnd.jupyter.widget-view+json": {
       "model_id": "bdda62e843324616bd3f0d447f2ff693",
       "version_major": 2,
       "version_minor": 0
      },
      "text/plain": [
       "Saving the dataset (0/1 shards):   0%|          | 0/10058 [00:00<?, ? examples/s]"
      ]
     },
     "metadata": {},
     "output_type": "display_data"
    },
    {
     "data": {
      "application/vnd.jupyter.widget-view+json": {
       "model_id": "4adea9195ff44d64bdc489d47452160a",
       "version_major": 2,
       "version_minor": 0
      },
      "text/plain": [
       "Saving the dataset (0/1 shards):   0%|          | 0/939 [00:00<?, ? examples/s]"
      ]
     },
     "metadata": {},
     "output_type": "display_data"
    },
    {
     "data": {
      "application/vnd.jupyter.widget-view+json": {
       "model_id": "a8c70ccf1d2e4a6f91fd63872d616e4c",
       "version_major": 2,
       "version_minor": 0
      },
      "text/plain": [
       "Saving the dataset (0/1 shards):   0%|          | 0/353 [00:00<?, ? examples/s]"
      ]
     },
     "metadata": {},
     "output_type": "display_data"
    },
    {
     "name": "stdout",
     "output_type": "stream",
     "text": [
      "DROP: 6\n"
     ]
    },
    {
     "name": "stderr",
     "output_type": "stream",
     "text": [
      "100%|██████████| 926/926 [09:14<00:00,  1.67it/s] \n"
     ]
    },
    {
     "name": "stdout",
     "output_type": "stream",
     "text": [
      "Missed_parsing_zero 0\n",
      "Lenght papers_to_drop in zeroshot based on train: 573\n"
     ]
    },
    {
     "name": "stderr",
     "output_type": "stream",
     "text": [
      "100%|██████████| 926/926 [00:00<00:00, 77846.66it/s]"
     ]
    },
    {
     "name": "stdout",
     "output_type": "stream",
     "text": [
      "408\n"
     ]
    },
    {
     "name": "stderr",
     "output_type": "stream",
     "text": [
      "\n"
     ]
    },
    {
     "data": {
      "text/html": [
       "<div>\n",
       "<style scoped>\n",
       "    .dataframe tbody tr th:only-of-type {\n",
       "        vertical-align: middle;\n",
       "    }\n",
       "\n",
       "    .dataframe tbody tr th {\n",
       "        vertical-align: top;\n",
       "    }\n",
       "\n",
       "    .dataframe thead th {\n",
       "        text-align: right;\n",
       "    }\n",
       "</style>\n",
       "<table border=\"1\" class=\"dataframe\">\n",
       "  <thead>\n",
       "    <tr style=\"text-align: right;\">\n",
       "      <th></th>\n",
       "      <th>prompt lenght</th>\n",
       "      <th>__index_level_0__</th>\n",
       "    </tr>\n",
       "  </thead>\n",
       "  <tbody>\n",
       "    <tr>\n",
       "      <th>count</th>\n",
       "      <td>10058.000000</td>\n",
       "      <td>10058.000000</td>\n",
       "    </tr>\n",
       "    <tr>\n",
       "      <th>mean</th>\n",
       "      <td>492.707298</td>\n",
       "      <td>75440.500000</td>\n",
       "    </tr>\n",
       "    <tr>\n",
       "      <th>std</th>\n",
       "      <td>398.739365</td>\n",
       "      <td>43554.582566</td>\n",
       "    </tr>\n",
       "    <tr>\n",
       "      <th>min</th>\n",
       "      <td>34.000000</td>\n",
       "      <td>13.000000</td>\n",
       "    </tr>\n",
       "    <tr>\n",
       "      <th>25%</th>\n",
       "      <td>223.000000</td>\n",
       "      <td>37726.750000</td>\n",
       "    </tr>\n",
       "    <tr>\n",
       "      <th>50%</th>\n",
       "      <td>399.000000</td>\n",
       "      <td>75440.500000</td>\n",
       "    </tr>\n",
       "    <tr>\n",
       "      <th>75%</th>\n",
       "      <td>647.000000</td>\n",
       "      <td>113154.250000</td>\n",
       "    </tr>\n",
       "    <tr>\n",
       "      <th>max</th>\n",
       "      <td>7351.000000</td>\n",
       "      <td>150868.000000</td>\n",
       "    </tr>\n",
       "  </tbody>\n",
       "</table>\n",
       "</div>"
      ],
      "text/plain": [
       "       prompt lenght  __index_level_0__\n",
       "count   10058.000000       10058.000000\n",
       "mean      492.707298       75440.500000\n",
       "std       398.739365       43554.582566\n",
       "min        34.000000          13.000000\n",
       "25%       223.000000       37726.750000\n",
       "50%       399.000000       75440.500000\n",
       "75%       647.000000      113154.250000\n",
       "max      7351.000000      150868.000000"
      ]
     },
     "metadata": {},
     "output_type": "display_data"
    },
    {
     "data": {
      "text/html": [
       "<div>\n",
       "<style scoped>\n",
       "    .dataframe tbody tr th:only-of-type {\n",
       "        vertical-align: middle;\n",
       "    }\n",
       "\n",
       "    .dataframe tbody tr th {\n",
       "        vertical-align: top;\n",
       "    }\n",
       "\n",
       "    .dataframe thead th {\n",
       "        text-align: right;\n",
       "    }\n",
       "</style>\n",
       "<table border=\"1\" class=\"dataframe\">\n",
       "  <thead>\n",
       "    <tr style=\"text-align: right;\">\n",
       "      <th></th>\n",
       "      <th>prompt lenght</th>\n",
       "      <th>__index_level_0__</th>\n",
       "    </tr>\n",
       "  </thead>\n",
       "  <tbody>\n",
       "    <tr>\n",
       "      <th>count</th>\n",
       "      <td>939.000000</td>\n",
       "      <td>939.000000</td>\n",
       "    </tr>\n",
       "    <tr>\n",
       "      <th>mean</th>\n",
       "      <td>575.654952</td>\n",
       "      <td>7447.408946</td>\n",
       "    </tr>\n",
       "    <tr>\n",
       "      <th>std</th>\n",
       "      <td>358.102912</td>\n",
       "      <td>4300.934395</td>\n",
       "    </tr>\n",
       "    <tr>\n",
       "      <th>min</th>\n",
       "      <td>33.000000</td>\n",
       "      <td>13.000000</td>\n",
       "    </tr>\n",
       "    <tr>\n",
       "      <th>25%</th>\n",
       "      <td>332.000000</td>\n",
       "      <td>3725.500000</td>\n",
       "    </tr>\n",
       "    <tr>\n",
       "      <th>50%</th>\n",
       "      <td>504.000000</td>\n",
       "      <td>7438.000000</td>\n",
       "    </tr>\n",
       "    <tr>\n",
       "      <th>75%</th>\n",
       "      <td>714.500000</td>\n",
       "      <td>11150.500000</td>\n",
       "    </tr>\n",
       "    <tr>\n",
       "      <th>max</th>\n",
       "      <td>3438.000000</td>\n",
       "      <td>14908.000000</td>\n",
       "    </tr>\n",
       "  </tbody>\n",
       "</table>\n",
       "</div>"
      ],
      "text/plain": [
       "       prompt lenght  __index_level_0__\n",
       "count     939.000000         939.000000\n",
       "mean      575.654952        7447.408946\n",
       "std       358.102912        4300.934395\n",
       "min        33.000000          13.000000\n",
       "25%       332.000000        3725.500000\n",
       "50%       504.000000        7438.000000\n",
       "75%       714.500000       11150.500000\n",
       "max      3438.000000       14908.000000"
      ]
     },
     "metadata": {},
     "output_type": "display_data"
    },
    {
     "data": {
      "text/html": [
       "<div>\n",
       "<style scoped>\n",
       "    .dataframe tbody tr th:only-of-type {\n",
       "        vertical-align: middle;\n",
       "    }\n",
       "\n",
       "    .dataframe tbody tr th {\n",
       "        vertical-align: top;\n",
       "    }\n",
       "\n",
       "    .dataframe thead th {\n",
       "        text-align: right;\n",
       "    }\n",
       "</style>\n",
       "<table border=\"1\" class=\"dataframe\">\n",
       "  <thead>\n",
       "    <tr style=\"text-align: right;\">\n",
       "      <th></th>\n",
       "      <th>prompt lenght</th>\n",
       "      <th>__index_level_0__</th>\n",
       "    </tr>\n",
       "  </thead>\n",
       "  <tbody>\n",
       "    <tr>\n",
       "      <th>count</th>\n",
       "      <td>353.000000</td>\n",
       "      <td>353.00000</td>\n",
       "    </tr>\n",
       "    <tr>\n",
       "      <th>mean</th>\n",
       "      <td>204.560907</td>\n",
       "      <td>11248.00000</td>\n",
       "    </tr>\n",
       "    <tr>\n",
       "      <th>std</th>\n",
       "      <td>99.668184</td>\n",
       "      <td>1530.69837</td>\n",
       "    </tr>\n",
       "    <tr>\n",
       "      <th>min</th>\n",
       "      <td>36.000000</td>\n",
       "      <td>8608.00000</td>\n",
       "    </tr>\n",
       "    <tr>\n",
       "      <th>25%</th>\n",
       "      <td>145.000000</td>\n",
       "      <td>9928.00000</td>\n",
       "    </tr>\n",
       "    <tr>\n",
       "      <th>50%</th>\n",
       "      <td>199.000000</td>\n",
       "      <td>11248.00000</td>\n",
       "    </tr>\n",
       "    <tr>\n",
       "      <th>75%</th>\n",
       "      <td>241.000000</td>\n",
       "      <td>12568.00000</td>\n",
       "    </tr>\n",
       "    <tr>\n",
       "      <th>max</th>\n",
       "      <td>684.000000</td>\n",
       "      <td>13888.00000</td>\n",
       "    </tr>\n",
       "  </tbody>\n",
       "</table>\n",
       "</div>"
      ],
      "text/plain": [
       "       prompt lenght  __index_level_0__\n",
       "count     353.000000          353.00000\n",
       "mean      204.560907        11248.00000\n",
       "std        99.668184         1530.69837\n",
       "min        36.000000         8608.00000\n",
       "25%       145.000000         9928.00000\n",
       "50%       199.000000        11248.00000\n",
       "75%       241.000000        12568.00000\n",
       "max       684.000000        13888.00000"
      ]
     },
     "metadata": {},
     "output_type": "display_data"
    },
    {
     "name": "stdout",
     "output_type": "stream",
     "text": [
      "zeroshot_paper_in_train: 0\n",
      "zeroshot_paper_in_validation: 0\n",
      "train_paper_in_validation: 0\n",
      "validation_paper_in_zeroshot: 0\n"
     ]
    },
    {
     "data": {
      "application/vnd.jupyter.widget-view+json": {
       "model_id": "cb6076127ac14ae78b80b236fa81f39a",
       "version_major": 2,
       "version_minor": 0
      },
      "text/plain": [
       "Saving the dataset (0/1 shards):   0%|          | 0/10058 [00:00<?, ? examples/s]"
      ]
     },
     "metadata": {},
     "output_type": "display_data"
    },
    {
     "data": {
      "application/vnd.jupyter.widget-view+json": {
       "model_id": "e9dc026aefb6470a942bef6e0cae2fc3",
       "version_major": 2,
       "version_minor": 0
      },
      "text/plain": [
       "Saving the dataset (0/1 shards):   0%|          | 0/939 [00:00<?, ? examples/s]"
      ]
     },
     "metadata": {},
     "output_type": "display_data"
    },
    {
     "data": {
      "application/vnd.jupyter.widget-view+json": {
       "model_id": "b648b26b9189435ba5e74b28f998d560",
       "version_major": 2,
       "version_minor": 0
      },
      "text/plain": [
       "Saving the dataset (0/1 shards):   0%|          | 0/353 [00:00<?, ? examples/s]"
      ]
     },
     "metadata": {},
     "output_type": "display_data"
    },
    {
     "name": "stdout",
     "output_type": "stream",
     "text": [
      "DROP: 7\n"
     ]
    },
    {
     "name": "stderr",
     "output_type": "stream",
     "text": [
      "100%|██████████| 926/926 [09:13<00:00,  1.67it/s] \n"
     ]
    },
    {
     "name": "stdout",
     "output_type": "stream",
     "text": [
      "Missed_parsing_zero 0\n",
      "Lenght papers_to_drop in zeroshot based on train: 573\n"
     ]
    },
    {
     "name": "stderr",
     "output_type": "stream",
     "text": [
      "100%|██████████| 926/926 [00:00<00:00, 77610.21it/s]"
     ]
    },
    {
     "name": "stdout",
     "output_type": "stream",
     "text": [
      "408\n"
     ]
    },
    {
     "name": "stderr",
     "output_type": "stream",
     "text": [
      "\n"
     ]
    },
    {
     "data": {
      "text/html": [
       "<div>\n",
       "<style scoped>\n",
       "    .dataframe tbody tr th:only-of-type {\n",
       "        vertical-align: middle;\n",
       "    }\n",
       "\n",
       "    .dataframe tbody tr th {\n",
       "        vertical-align: top;\n",
       "    }\n",
       "\n",
       "    .dataframe thead th {\n",
       "        text-align: right;\n",
       "    }\n",
       "</style>\n",
       "<table border=\"1\" class=\"dataframe\">\n",
       "  <thead>\n",
       "    <tr style=\"text-align: right;\">\n",
       "      <th></th>\n",
       "      <th>prompt lenght</th>\n",
       "      <th>__index_level_0__</th>\n",
       "    </tr>\n",
       "  </thead>\n",
       "  <tbody>\n",
       "    <tr>\n",
       "      <th>count</th>\n",
       "      <td>10058.000000</td>\n",
       "      <td>10058.000000</td>\n",
       "    </tr>\n",
       "    <tr>\n",
       "      <th>mean</th>\n",
       "      <td>487.707298</td>\n",
       "      <td>75441.497216</td>\n",
       "    </tr>\n",
       "    <tr>\n",
       "      <th>std</th>\n",
       "      <td>398.739365</td>\n",
       "      <td>43554.584181</td>\n",
       "    </tr>\n",
       "    <tr>\n",
       "      <th>min</th>\n",
       "      <td>29.000000</td>\n",
       "      <td>14.000000</td>\n",
       "    </tr>\n",
       "    <tr>\n",
       "      <th>25%</th>\n",
       "      <td>218.000000</td>\n",
       "      <td>37727.750000</td>\n",
       "    </tr>\n",
       "    <tr>\n",
       "      <th>50%</th>\n",
       "      <td>394.000000</td>\n",
       "      <td>75441.500000</td>\n",
       "    </tr>\n",
       "    <tr>\n",
       "      <th>75%</th>\n",
       "      <td>642.000000</td>\n",
       "      <td>113155.250000</td>\n",
       "    </tr>\n",
       "    <tr>\n",
       "      <th>max</th>\n",
       "      <td>7346.000000</td>\n",
       "      <td>150869.000000</td>\n",
       "    </tr>\n",
       "  </tbody>\n",
       "</table>\n",
       "</div>"
      ],
      "text/plain": [
       "       prompt lenght  __index_level_0__\n",
       "count   10058.000000       10058.000000\n",
       "mean      487.707298       75441.497216\n",
       "std       398.739365       43554.584181\n",
       "min        29.000000          14.000000\n",
       "25%       218.000000       37727.750000\n",
       "50%       394.000000       75441.500000\n",
       "75%       642.000000      113155.250000\n",
       "max      7346.000000      150869.000000"
      ]
     },
     "metadata": {},
     "output_type": "display_data"
    },
    {
     "data": {
      "text/html": [
       "<div>\n",
       "<style scoped>\n",
       "    .dataframe tbody tr th:only-of-type {\n",
       "        vertical-align: middle;\n",
       "    }\n",
       "\n",
       "    .dataframe tbody tr th {\n",
       "        vertical-align: top;\n",
       "    }\n",
       "\n",
       "    .dataframe thead th {\n",
       "        text-align: right;\n",
       "    }\n",
       "</style>\n",
       "<table border=\"1\" class=\"dataframe\">\n",
       "  <thead>\n",
       "    <tr style=\"text-align: right;\">\n",
       "      <th></th>\n",
       "      <th>prompt lenght</th>\n",
       "      <th>__index_level_0__</th>\n",
       "    </tr>\n",
       "  </thead>\n",
       "  <tbody>\n",
       "    <tr>\n",
       "      <th>count</th>\n",
       "      <td>941.000000</td>\n",
       "      <td>941.000000</td>\n",
       "    </tr>\n",
       "    <tr>\n",
       "      <th>mean</th>\n",
       "      <td>570.722635</td>\n",
       "      <td>7447.790648</td>\n",
       "    </tr>\n",
       "    <tr>\n",
       "      <th>std</th>\n",
       "      <td>357.725086</td>\n",
       "      <td>4297.556692</td>\n",
       "    </tr>\n",
       "    <tr>\n",
       "      <th>min</th>\n",
       "      <td>28.000000</td>\n",
       "      <td>14.000000</td>\n",
       "    </tr>\n",
       "    <tr>\n",
       "      <th>25%</th>\n",
       "      <td>327.000000</td>\n",
       "      <td>3734.000000</td>\n",
       "    </tr>\n",
       "    <tr>\n",
       "      <th>50%</th>\n",
       "      <td>499.000000</td>\n",
       "      <td>7439.000000</td>\n",
       "    </tr>\n",
       "    <tr>\n",
       "      <th>75%</th>\n",
       "      <td>708.000000</td>\n",
       "      <td>11144.000000</td>\n",
       "    </tr>\n",
       "    <tr>\n",
       "      <th>max</th>\n",
       "      <td>3433.000000</td>\n",
       "      <td>14909.000000</td>\n",
       "    </tr>\n",
       "  </tbody>\n",
       "</table>\n",
       "</div>"
      ],
      "text/plain": [
       "       prompt lenght  __index_level_0__\n",
       "count     941.000000         941.000000\n",
       "mean      570.722635        7447.790648\n",
       "std       357.725086        4297.556692\n",
       "min        28.000000          14.000000\n",
       "25%       327.000000        3734.000000\n",
       "50%       499.000000        7439.000000\n",
       "75%       708.000000       11144.000000\n",
       "max      3433.000000       14909.000000"
      ]
     },
     "metadata": {},
     "output_type": "display_data"
    },
    {
     "data": {
      "text/html": [
       "<div>\n",
       "<style scoped>\n",
       "    .dataframe tbody tr th:only-of-type {\n",
       "        vertical-align: middle;\n",
       "    }\n",
       "\n",
       "    .dataframe tbody tr th {\n",
       "        vertical-align: top;\n",
       "    }\n",
       "\n",
       "    .dataframe thead th {\n",
       "        text-align: right;\n",
       "    }\n",
       "</style>\n",
       "<table border=\"1\" class=\"dataframe\">\n",
       "  <thead>\n",
       "    <tr style=\"text-align: right;\">\n",
       "      <th></th>\n",
       "      <th>prompt lenght</th>\n",
       "      <th>__index_level_0__</th>\n",
       "    </tr>\n",
       "  </thead>\n",
       "  <tbody>\n",
       "    <tr>\n",
       "      <th>count</th>\n",
       "      <td>353.000000</td>\n",
       "      <td>353.000000</td>\n",
       "    </tr>\n",
       "    <tr>\n",
       "      <th>mean</th>\n",
       "      <td>199.560907</td>\n",
       "      <td>11248.988669</td>\n",
       "    </tr>\n",
       "    <tr>\n",
       "      <th>std</th>\n",
       "      <td>99.668184</td>\n",
       "      <td>1530.687806</td>\n",
       "    </tr>\n",
       "    <tr>\n",
       "      <th>min</th>\n",
       "      <td>31.000000</td>\n",
       "      <td>8609.000000</td>\n",
       "    </tr>\n",
       "    <tr>\n",
       "      <th>25%</th>\n",
       "      <td>140.000000</td>\n",
       "      <td>9929.000000</td>\n",
       "    </tr>\n",
       "    <tr>\n",
       "      <th>50%</th>\n",
       "      <td>194.000000</td>\n",
       "      <td>11249.000000</td>\n",
       "    </tr>\n",
       "    <tr>\n",
       "      <th>75%</th>\n",
       "      <td>236.000000</td>\n",
       "      <td>12569.000000</td>\n",
       "    </tr>\n",
       "    <tr>\n",
       "      <th>max</th>\n",
       "      <td>679.000000</td>\n",
       "      <td>13889.000000</td>\n",
       "    </tr>\n",
       "  </tbody>\n",
       "</table>\n",
       "</div>"
      ],
      "text/plain": [
       "       prompt lenght  __index_level_0__\n",
       "count     353.000000         353.000000\n",
       "mean      199.560907       11248.988669\n",
       "std        99.668184        1530.687806\n",
       "min        31.000000        8609.000000\n",
       "25%       140.000000        9929.000000\n",
       "50%       194.000000       11249.000000\n",
       "75%       236.000000       12569.000000\n",
       "max       679.000000       13889.000000"
      ]
     },
     "metadata": {},
     "output_type": "display_data"
    },
    {
     "name": "stdout",
     "output_type": "stream",
     "text": [
      "zeroshot_paper_in_train: 0\n",
      "zeroshot_paper_in_validation: 0\n",
      "train_paper_in_validation: 0\n",
      "validation_paper_in_zeroshot: 0\n"
     ]
    },
    {
     "data": {
      "application/vnd.jupyter.widget-view+json": {
       "model_id": "dca6746c401942d084ee7c7d98069bf6",
       "version_major": 2,
       "version_minor": 0
      },
      "text/plain": [
       "Saving the dataset (0/1 shards):   0%|          | 0/10058 [00:00<?, ? examples/s]"
      ]
     },
     "metadata": {},
     "output_type": "display_data"
    },
    {
     "data": {
      "application/vnd.jupyter.widget-view+json": {
       "model_id": "4f81255c01bc402186c851ead94a3988",
       "version_major": 2,
       "version_minor": 0
      },
      "text/plain": [
       "Saving the dataset (0/1 shards):   0%|          | 0/941 [00:00<?, ? examples/s]"
      ]
     },
     "metadata": {},
     "output_type": "display_data"
    },
    {
     "data": {
      "application/vnd.jupyter.widget-view+json": {
       "model_id": "816da8b3444246f69cf4173aa670ef36",
       "version_major": 2,
       "version_minor": 0
      },
      "text/plain": [
       "Saving the dataset (0/1 shards):   0%|          | 0/353 [00:00<?, ? examples/s]"
      ]
     },
     "metadata": {},
     "output_type": "display_data"
    }
   ],
   "source": [
    "for drop_id in range(1, 8):\n",
    "    print(f\"DROP: {drop_id}\")\n",
    "    dataset_path = f\"../data/LLLM_AUGMENTED_SUMMARIZED_WITH_ID_ZEROSHOT_TDMS_DROP_{drop_id}_DOCTEAT/fold1\"\n",
    "\n",
    "    dataset_dict = DatasetDict.load_from_disk(f\"{dataset_path}\")\n",
    "        \n",
    "    dfs = {split: dataset.to_pandas() for split, dataset in dataset_dict.items()}\n",
    "    \n",
    "    zeroshot_papers_to_drop_no_lb = remove_data_leakage(dfs, source=\"zeroshot\", target=\"train\", THRESHOLD=90)\n",
    "    \n",
    "    dfs['zeroshot'].drop_duplicates(subset='id', inplace=True)\n",
    "    records = dfs['zeroshot'].to_dict(\"records\")\n",
    "    validation_papers_to_drop_no_lb = set()\n",
    "    for row in tqdm(records, total=len(records)):\n",
    "        # if row['id'] in dfs['train']['id'].to_list():\n",
    "        #     duplicate+=1\n",
    "        if row['id'] in dfs['validation']['id'].to_list():\n",
    "            validation_papers_to_drop_no_lb.add(row['id'])\n",
    "            \n",
    "    print(len(validation_papers_to_drop_no_lb))\n",
    "    \n",
    "    # Filtering the DataFrame\n",
    "    display(dfs['train'].describe())\n",
    "\n",
    "    # Filtering the DataFrame\n",
    "    dfs['validation'] = dfs['validation'][~dfs['validation']['id'].isin(validation_papers_to_drop_no_lb)]\n",
    "    display(dfs['validation'].describe())\n",
    "\n",
    "    # Filtering the DataFrame\n",
    "    dfs['zeroshot'] = dfs['zeroshot'][~dfs['zeroshot']['id'].isin(zeroshot_papers_to_drop_no_lb)]\n",
    "    display(dfs['zeroshot'].describe())\n",
    "    \n",
    "    dfs['train'].drop([\"template\", \"__index_level_0__\"], inplace=True, axis=1)\n",
    "    dfs['validation'].drop([\"template\", \"__index_level_0__\"], inplace=True, axis=1)\n",
    "    dfs['zeroshot'].drop([\"template\", \"__index_level_0__\"], inplace=True, axis=1)\n",
    "\n",
    "    verify_data_integrity(dfs)\n",
    "    \n",
    "    dataset = DatasetDict({\n",
    "        \"train\": Dataset.from_pandas(dfs['train']),\n",
    "        \"validation\": Dataset.from_pandas(dfs['validation']),\n",
    "        \"zeroshot\": Dataset.from_pandas(dfs['zeroshot'])\n",
    "    })\n",
    "\n",
    "    dataset.save_to_disk(f\"../data/LEADERBOARDS_DOCTEAT_TDMS_NO_TEMPLATES_DROP_{drop_id}_RELAX\")"
   ]
  },
  {
   "cell_type": "code",
   "execution_count": null,
   "id": "f3c46f79",
   "metadata": {},
   "outputs": [],
   "source": []
  }
 ],
 "metadata": {
  "kernelspec": {
   "display_name": "Python 3 (ipykernel)",
   "language": "python",
   "name": "python3"
  },
  "language_info": {
   "codemirror_mode": {
    "name": "ipython",
    "version": 3
   },
   "file_extension": ".py",
   "mimetype": "text/x-python",
   "name": "python",
   "nbconvert_exporter": "python",
   "pygments_lexer": "ipython3",
   "version": "3.7.10"
  }
 },
 "nbformat": 4,
 "nbformat_minor": 5
}
