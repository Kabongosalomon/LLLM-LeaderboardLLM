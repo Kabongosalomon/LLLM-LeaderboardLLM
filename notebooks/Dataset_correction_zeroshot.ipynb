{
 "cells": [
  {
   "cell_type": "code",
   "execution_count": 1,
   "id": "bfa5c7f4-8125-4f01-8710-4e7a62b973a8",
   "metadata": {},
   "outputs": [
    {
     "name": "stderr",
     "output_type": "stream",
     "text": [
      "/nfs/home/kabenamualus/anaconda3/envs/tdm/lib/python3.7/site-packages/fuzzywuzzy/fuzz.py:11: UserWarning: Using slow pure-python SequenceMatcher. Install python-Levenshtein to remove this warning\n",
      "  warnings.warn('Using slow pure-python SequenceMatcher. Install python-Levenshtein to remove this warning')\n"
     ]
    }
   ],
   "source": [
    "# imports\n",
    "import pandas as pd\n",
    "import os, ipdb, re\n",
    "import random, evaluate\n",
    "import string\n",
    "import numpy as np\n",
    "from collections import defaultdict\n",
    "from tqdm import tqdm\n",
    "from datasets import DatasetDict, Dataset, load_dataset\n",
    "import wandb\n",
    "import ast\n",
    "import re, os\n",
    "import subprocess\n",
    "\n",
    "from fuzzywuzzy import fuzz\n",
    "import matplotlib.pyplot as plt"
   ]
  },
  {
   "cell_type": "code",
   "execution_count": 2,
   "id": "f18136c8-f242-4d57-a727-17a4c0b61d43",
   "metadata": {},
   "outputs": [],
   "source": [
    "# # dataset_path = \"../data/LLLM_AUGMENTED_SUMMARIZED_WITH_ID_ZEROSHOT_TDMS_ALL_TEMPLATE/fold1\"\n",
    "# # dataset_path = f\"../data/LLLM_AUGMENTED_SUMMARIZED_WITH_ID_ZEROSHOT_TDMS_50_PERCENT/fold1\"\n",
    "# # dataset_path = f\"../data/LLLM_AUGMENTED_SUMMARIZED_ZEROSHOT_TDMS_50_PERCENT_LONG/fold1\"\n",
    "# # dataset_path = f\"../data/LLLM_AUGMENTED_SUMMARIZED_ZEROSHOT_TDMS_50_PERCENT_DOCTEAT/fold1\"\n",
    "# dataset_path = f\"../data/LLLM_AUGMENTED_SUMMARIZED_ZEROSHOT_TDMS_NO_TEMPLATE_DOCTEAT/fold1\"\n",
    "\n",
    "# dataset_dict = DatasetDict.load_from_disk(f\"{dataset_path}\")\n",
    "    \n",
    "# dfs = {split: dataset.to_pandas() for split, dataset in dataset_dict.items()}"
   ]
  },
  {
   "cell_type": "code",
   "execution_count": 3,
   "id": "ba3cd200",
   "metadata": {},
   "outputs": [],
   "source": [
    "def calculate_fuzz_ratio(text1, text2):\n",
    "    return fuzz.ratio(str(text1).strip().lower(), str(text2).strip().lower())\n",
    "\n",
    "def view_leaderboard_distribution(dfs):\n",
    "    dfs['train']['leaderboard'] = dfs['train'].answer.apply(lambda x: \"no_lb\" if x == \"unanswerable\" else \"lb\")\n",
    "    # Count unique values in the column\n",
    "    counts_train = dfs['train']['leaderboard'].value_counts()\n",
    "\n",
    "    # Plot pie chart\n",
    "    plt.figure(figsize=(8, 8))  # Optional: Adjusts the size of the figure\n",
    "    plt.pie(counts_train, labels=counts_train.index, autopct='%1.1f%%', startangle=140)\n",
    "    plt.title('Train Leaderboard vs No Leaderboard')\n",
    "    plt.show()\n",
    "    \n",
    "    dfs['validation']['leaderboard'] = dfs['validation'].answer.apply(lambda x: \"no_lb\" if x == \"unanswerable\" else \"lb\")\n",
    "    # Count unique values in the column\n",
    "    counts_validation = dfs['validation']['leaderboard'].value_counts()\n",
    "\n",
    "    # Plot pie chart\n",
    "    plt.figure(figsize=(8, 8))  # Optional: Adjusts the size of the figure\n",
    "    plt.pie(counts_validation, labels=counts_validation.index, autopct='%1.1f%%', startangle=140)\n",
    "    plt.title('Validation Chart Leaderboard vs No Leaderboard')\n",
    "    plt.show()\n",
    "    \n",
    "    dfs['zeroshot']['leaderboard'] = dfs['zeroshot'].answer.apply(lambda x: \"no_lb\" if x == \"unanswerable\" else \"lb\")\n",
    "    # Count unique values in the column\n",
    "    counts = dfs['zeroshot']['leaderboard'].value_counts()\n",
    "\n",
    "    # Plot pie chart\n",
    "    plt.figure(figsize=(8, 8))  # Optional: Adjusts the size of the figure\n",
    "    plt.pie(counts, labels=counts.index, autopct='%1.1f%%', startangle=140)\n",
    "    plt.title('Zeroshot Chart Leaderboard vs No Leaderboard')\n",
    "    plt.show()\n",
    "    \n",
    "    \n",
    "def verify_data_integrity(dfs):\n",
    "\n",
    "    zeroshot_paper_in_train = 0\n",
    "    for paper in dfs['zeroshot'].id.unique():\n",
    "        if paper in dfs['train'].id.to_list():\n",
    "            zeroshot_paper_in_train += 1\n",
    "        \n",
    "    zeroshot_paper_in_validation = 0\n",
    "    for paper in dfs['zeroshot'].id.unique():\n",
    "        if paper in dfs['validation'].id.to_list():\n",
    "            zeroshot_paper_in_validation += 1 \n",
    "\n",
    "    train_paper_in_validation = 0\n",
    "    for paper in dfs['train'].id.unique():\n",
    "        if paper in dfs['validation'].id.to_list():\n",
    "            train_paper_in_validation += 1   \n",
    "        \n",
    "    validation_paper_in_zeroshot = 0\n",
    "    for paper in dfs['validation'].id.unique():\n",
    "        if paper in dfs['zeroshot'].id.to_list():\n",
    "            validation_paper_in_zeroshot += 1     \n",
    "            \n",
    "    print(f\"zeroshot_paper_in_train: {zeroshot_paper_in_train}\")\n",
    "    print(f\"zeroshot_paper_in_validation: {zeroshot_paper_in_validation}\")\n",
    "    print(f\"train_paper_in_validation: {train_paper_in_validation}\")\n",
    "    print(f\"validation_paper_in_zeroshot: {validation_paper_in_zeroshot}\")\n",
    "    \n",
    "    \n",
    "def remove_data_leakage_old(dfs, source, target, THRESHOLD=90):\n",
    "    papers_to_drop = []\n",
    "    missed_parsing_zero = 0\n",
    "    \n",
    "    dfs[source].drop_duplicates(subset='id', inplace=True)\n",
    "    source_records = dfs[source].to_dict(\"records\")\n",
    "\n",
    "    for source_row in tqdm(source_records, total=len(source_records)):\n",
    "        to_drop_paper_found = False \n",
    "        source_paper_id = source_row[\"id\"]\n",
    "        source_tdms = source_row[\"answer\"]\n",
    "        \n",
    "        if source_tdms in \"unanswerable\" or source_tdms == \"missed\":\n",
    "            # ipdb.set_trace()\n",
    "            # if source_paper_id not in papers_to_drop:\n",
    "            #     papers_to_drop.append(source_paper_id)\n",
    "            continue \n",
    "        \n",
    "        source_tdms = ast.literal_eval(source_row[\"answer\"])\n",
    "        \n",
    "        for leaderboard_source in source_tdms:\n",
    "            \n",
    "            if to_drop_paper_found:\n",
    "                break\n",
    "            \n",
    "            source_task = leaderboard_source[\"LEADERBOARD\"][\"Task\"]\n",
    "            source_dataset = leaderboard_source[\"LEADERBOARD\"][\"Dataset\"]\n",
    "            source_metric = leaderboard_source[\"LEADERBOARD\"][\"Metric\"]\n",
    "            source_score = leaderboard_source[\"LEADERBOARD\"][\"Score\"]\n",
    " \n",
    "            dfs[target].drop_duplicates(subset='id', inplace=True)\n",
    "            \n",
    "            target_records = dfs[target].to_dict(\"records\")\n",
    "\n",
    "            for target_row in target_records:\n",
    "                \n",
    "                if to_drop_paper_found:\n",
    "                        break    \n",
    "                \n",
    "                target_paper_id = target_row[\"id\"]\n",
    "                target_tdms = target_row[\"answer\"]\n",
    "                \n",
    "                if target_tdms == \"unanswerable\" or target_tdms == \"missed\":\n",
    "                    # ipdb.set_trace()\n",
    "                    continue \n",
    "                \n",
    "                target_tdms = ast.literal_eval(target_row[\"answer\"])\n",
    "                \n",
    "                \n",
    "                for leaderboard_target in target_tdms:\n",
    "                    target_task = leaderboard_target[\"LEADERBOARD\"][\"Task\"]\n",
    "                    target_dataset = leaderboard_target[\"LEADERBOARD\"][\"Dataset\"]\n",
    "                    target_metric = leaderboard_target[\"LEADERBOARD\"][\"Metric\"]\n",
    "                    target_score = leaderboard_target[\"LEADERBOARD\"][\"Score\"]\n",
    "                    \n",
    "                    # A) Exact \n",
    "                    if (source_task == target_task and source_dataset == target_dataset and source_metric == target_metric) or (target_paper_id == source_paper_id):\n",
    "                        if source_paper_id not in papers_to_drop:\n",
    "                            papers_to_drop.append(source_paper_id)\n",
    "                        to_drop_paper_found = True \n",
    "                        break\n",
    "    \n",
    "                    # # B) Partial  or # A) Exact \n",
    "                    # if (calculate_fuzz_ratio(train_task, zeroshot_task) >= THRESHOLD and calculate_fuzz_ratio(train_dataset, zeroshot_dataset) >= THRESHOLD and calculate_fuzz_ratio(train_metric, zeroshot_metric) >= THRESHOLD) or (train_task == zeroshot_task and train_dataset == zeroshot_dataset and train_metric == zeroshot_metric):\n",
    "                    #     if paper_id not in papers_to_drop:\n",
    "                    #         papers_to_drop.append(paper_id)\n",
    "                    #         # ipdb.set_trace()\n",
    "                    #         break \n",
    "                    \n",
    "    print(f\"Missed_parsing_zero {missed_parsing_zero}\") \n",
    "    print(f\"Lenght papers_to_drop in {source} based on {target}: {len(papers_to_drop)}\")        \n",
    "    \n",
    "    return papers_to_drop\n",
    "\n",
    "\n",
    "def remove_data_leakage_id(dfs, source, target, THRESHOLD=90):\n",
    "    papers_to_drop = set()\n",
    "    missed_parsing_zero = 0\n",
    "    \n",
    "    dfs[source].drop_duplicates(subset='id', inplace=True)\n",
    "    records = dfs[source].to_dict(\"records\")\n",
    "\n",
    "    for row in tqdm(records, total=len(records)):\n",
    "        to_drop_paper_found = False \n",
    "        source_paper_id = row[\"id\"]\n",
    "        \n",
    "        dfs[target].drop_duplicates(subset='id', inplace=True)\n",
    "        target_records = dfs[target].to_dict(\"records\")\n",
    "\n",
    "        for row_target in target_records:  \n",
    "            \n",
    "            target_paper_id = row_target[\"id\"]\n",
    "            \n",
    "            # A) Exact \n",
    "            if (target_paper_id == source_paper_id):\n",
    "                papers_to_drop.add(source_paper_id)\n",
    "                to_drop_paper_found = True \n",
    "                break\n",
    "                    \n",
    "    print(f\"Missed_parsing_zero {missed_parsing_zero}\") \n",
    "    print(f\"Lenght papers_to_drop in {source} based on {target}: {len(papers_to_drop)}\")        \n",
    "    \n",
    "    return papers_to_drop\n",
    "\n",
    "\n",
    "def remove_data_leakage(dfs, source, target, THRESHOLD=90):\n",
    "    papers_to_drop = set()\n",
    "    missed_parsing_zero = 0\n",
    "    \n",
    "    dfs[target].drop_duplicates(subset='id', inplace=True)\n",
    "    unique_paper_id_target = dfs[target].id.unique()\n",
    "    dfs[target]['lb']= dfs[target].answer.apply(lambda x: \"no_lb\" if x == \"unanswerable\" else \"lb\")\n",
    "    lists_target = [ast.literal_eval(lb) for lb in dfs[target][dfs[target].lb ==\"lb\"].answer.to_list()]\n",
    "    # Flatten the list of lists\n",
    "    flattened_list_target = [item for sublist in lists_target for item in sublist]\n",
    "    # Extract unique tuples\n",
    "    unique_tuples_target = {(d['LEADERBOARD']['Task'], d['LEADERBOARD']['Dataset'], d['LEADERBOARD']['Metric']) for d in flattened_list_target}\n",
    "\n",
    "\n",
    "    dfs[source].drop_duplicates(subset='id', inplace=True)\n",
    "    source_records = dfs[source].to_dict(\"records\")\n",
    "    for source_row in tqdm(source_records, total=len(source_records)):\n",
    "        to_drop_paper_found = False \n",
    "        source_paper_id = source_row[\"id\"]\n",
    "        source_tdms = source_row[\"answer\"]\n",
    "        \n",
    "        if source_paper_id in unique_paper_id_target:\n",
    "            papers_to_drop.add(source_paper_id)\n",
    "            continue     \n",
    "        \n",
    "        if source_tdms in \"unanswerable\" or source_tdms == \"missed\":\n",
    "            # ipdb.set_trace()\n",
    "            # if source_paper_id not in papers_to_drop:\n",
    "            #     papers_to_drop.append(source_paper_id)\n",
    "            continue \n",
    "        \n",
    "        source_tdms = ast.literal_eval(source_row[\"answer\"])\n",
    "        # Extract unique tuples\n",
    "        unique_tuples_source = {(d['LEADERBOARD']['Task'], d['LEADERBOARD']['Dataset'], d['LEADERBOARD']['Metric']) for d in source_tdms} \n",
    "        \n",
    "        is_contained = unique_tuples_source.issubset(unique_tuples_target)\n",
    "    \n",
    "        if is_contained:\n",
    "            papers_to_drop.add(source_paper_id)\n",
    "            \n",
    "      \n",
    "        \n",
    "        # # B) Partial  or # A) Exact \n",
    "        # if (calculate_fuzz_ratio(train_task, zeroshot_task) >= THRESHOLD and calculate_fuzz_ratio(train_dataset, zeroshot_dataset) >= THRESHOLD and calculate_fuzz_ratio(train_metric, zeroshot_metric) >= THRESHOLD) or (train_task == zeroshot_task and train_dataset == zeroshot_dataset and train_metric == zeroshot_metric):\n",
    "        #     if paper_id not in papers_to_drop:\n",
    "        #         papers_to_drop.append(paper_id)\n",
    "        #         # ipdb.set_trace()\n",
    "        #         break \n",
    "                    \n",
    "    print(f\"Missed_parsing_zero {missed_parsing_zero}\") \n",
    "    print(f\"Lenght papers_to_drop in {source} based on {target}: {len(papers_to_drop)}\")        \n",
    "    \n",
    "    return papers_to_drop\n",
    "\n",
    "# zeroshot_papers_to_drop_no_lb = remove_data_leakage_v2(dfs, source=\"zeroshot\", target=\"train\", THRESHOLD=90)\n"
   ]
  },
  {
   "cell_type": "code",
   "execution_count": 4,
   "id": "312ebcaa",
   "metadata": {},
   "outputs": [],
   "source": [
    "dataset_path = f\"../data/LLLM_AUGMENTED_SUMMARIZED_ZEROSHOT_TDMS_ALL_TEMPLATE_DOCTEAT/fold1\"\n",
    "\n",
    "Docteat_dataset_dict = DatasetDict.load_from_disk(f\"{dataset_path}\")\n",
    "    \n",
    "Docteat_dfs = {split: dataset.to_pandas() for split, dataset in Docteat_dataset_dict.items()}\n",
    "\n",
    "Rec_dataset_path = f\"../data/LLLM_AUGMENTED_SUMMARIZED_WITH_ID_ZEROSHOT_TDMS_50_PERCENT/fold1\"\n",
    "\n",
    "Rec_dataset_dict = DatasetDict.load_from_disk(f\"{Rec_dataset_path}\")\n",
    "    \n",
    "Rec_dfs = {split: dataset.to_pandas() for split, dataset in Rec_dataset_dict.items()}\n",
    "\n",
    "Long_dataset_path = f\"../data/LLLM_AUGMENTED_SUMMARIZED_ZEROSHOT_TDMS_50_PERCENT_LONG/fold1\"\n",
    "\n",
    "Long_dataset_dict = DatasetDict.load_from_disk(f\"{Long_dataset_path}\")\n",
    "    \n",
    "Long_dfs = {split: dataset.to_pandas() for split, dataset in Long_dataset_dict.items()}"
   ]
  },
  {
   "cell_type": "code",
   "execution_count": 5,
   "id": "872b81bc",
   "metadata": {},
   "outputs": [],
   "source": [
    "# dfs['train'].drop([\"prompt lenght\", \"__index_level_0__\"], axis=1).describe()"
   ]
  },
  {
   "cell_type": "code",
   "execution_count": 6,
   "id": "45e0a9ff",
   "metadata": {},
   "outputs": [
    {
     "data": {
      "image/png": "[encoded data removed]",
      "text/plain": [
       "<Figure size 576x576 with 1 Axes>"
      ]
     },
     "metadata": {},
     "output_type": "display_data"
    },
    {
     "data": {
      "image/png": "[encoded data removed]",
      "text/plain": [
       "<Figure size 576x576 with 1 Axes>"
      ]
     },
     "metadata": {},
     "output_type": "display_data"
    },
    {
     "data": {
      "image/png": "[encoded data removed]",
      "text/plain": [
       "<Figure size 576x576 with 1 Axes>"
      ]
     },
     "metadata": {},
     "output_type": "display_data"
    }
   ],
   "source": [
    "view_leaderboard_distribution(Docteat_dfs)"
   ]
  },
  {
   "cell_type": "code",
   "execution_count": 22,
   "id": "87159cdf",
   "metadata": {},
   "outputs": [
    {
     "data": {
      "image/png": "[encoded data removed]",
      "text/plain": [
       "<Figure size 576x576 with 1 Axes>"
      ]
     },
     "metadata": {},
     "output_type": "display_data"
    },
    {
     "data": {
      "image/png": "[encoded data removed]",
      "text/plain": [
       "<Figure size 576x576 with 1 Axes>"
      ]
     },
     "metadata": {},
     "output_type": "display_data"
    },
    {
     "data": {
      "image/png": "[encoded data removed]",
      "text/plain": [
       "<Figure size 576x576 with 1 Axes>"
      ]
     },
     "metadata": {},
     "output_type": "display_data"
    }
   ],
   "source": [
    "view_leaderboard_distribution(Rec_dfs)"
   ]
  },
  {
   "cell_type": "code",
   "execution_count": 23,
   "id": "28ddbc1c",
   "metadata": {},
   "outputs": [
    {
     "data": {
      "image/png": "[encoded data removed]",
      "text/plain": [
       "<Figure size 576x576 with 1 Axes>"
      ]
     },
     "metadata": {},
     "output_type": "display_data"
    },
    {
     "data": {
      "image/png": "[encoded data removed]",
      "text/plain": [
       "<Figure size 576x576 with 1 Axes>"
      ]
     },
     "metadata": {},
     "output_type": "display_data"
    },
    {
     "data": {
      "image/png": "[encoded data removed]",
      "text/plain": [
       "<Figure size 576x576 with 1 Axes>"
      ]
     },
     "metadata": {},
     "output_type": "display_data"
    }
   ],
   "source": [
    "view_leaderboard_distribution(Long_dfs)"
   ]
  },
  {
   "cell_type": "code",
   "execution_count": 24,
   "id": "6716339f",
   "metadata": {},
   "outputs": [],
   "source": [
    "paper_in_train_validation = set(list(Docteat_dfs['train'].id.unique())+list(Docteat_dfs['validation'].id.unique())+list(Rec_dfs['train'].id.unique())+list(Rec_dfs['validation'].id.unique())+list(Long_dfs['train'].id.unique())+list(Long_dfs['validation'].id.unique()))"
   ]
  },
  {
   "cell_type": "code",
   "execution_count": 25,
   "id": "c168157c",
   "metadata": {},
   "outputs": [
    {
     "data": {
      "text/plain": [
       "14030"
      ]
     },
     "execution_count": 25,
     "metadata": {},
     "output_type": "execute_result"
    }
   ],
   "source": [
    "# This includes paper without leaderboard \n",
    "len(paper_in_train_validation)"
   ]
  },
  {
   "cell_type": "code",
   "execution_count": null,
   "id": "122b0786",
   "metadata": {},
   "outputs": [],
   "source": []
  },
  {
   "cell_type": "code",
   "execution_count": 26,
   "metadata": {},
   "outputs": [
    {
     "name": "stderr",
     "output_type": "stream",
     "text": [
      "100%|██████████| 1642/1642 [00:00<00:00, 5548.79it/s]"
     ]
    },
    {
     "name": "stdout",
     "output_type": "stream",
     "text": [
      "Missed_parsing_zero 0\n",
      "Lenght papers_to_drop in validation based on train: 753\n"
     ]
    },
    {
     "name": "stderr",
     "output_type": "stream",
     "text": [
      "\n"
     ]
    }
   ],
   "source": [
    "validation_papers_to_drop_no_lb = remove_data_leakage(Rec_dfs, source=\"validation\", target=\"train\", THRESHOLD=90)"
   ]
  },
  {
   "cell_type": "code",
   "execution_count": 14,
   "id": "a5bc58c9",
   "metadata": {},
   "outputs": [
    {
     "data": {
      "text/html": [
       "<div>\n",
       "<style scoped>\n",
       "    .dataframe tbody tr th:only-of-type {\n",
       "        vertical-align: middle;\n",
       "    }\n",
       "\n",
       "    .dataframe tbody tr th {\n",
       "        vertical-align: top;\n",
       "    }\n",
       "\n",
       "    .dataframe thead th {\n",
       "        text-align: right;\n",
       "    }\n",
       "</style>\n",
       "<table border=\"1\" class=\"dataframe\">\n",
       "  <thead>\n",
       "    <tr style=\"text-align: right;\">\n",
       "      <th></th>\n",
       "      <th>id</th>\n",
       "      <th>prompt</th>\n",
       "      <th>answer</th>\n",
       "      <th>template</th>\n",
       "      <th>leaderboard</th>\n",
       "    </tr>\n",
       "  </thead>\n",
       "  <tbody>\n",
       "    <tr>\n",
       "      <th>count</th>\n",
       "      <td>889</td>\n",
       "      <td>889</td>\n",
       "      <td>889</td>\n",
       "      <td>889</td>\n",
       "      <td>889</td>\n",
       "    </tr>\n",
       "    <tr>\n",
       "      <th>unique</th>\n",
       "      <td>889</td>\n",
       "      <td>889</td>\n",
       "      <td>242</td>\n",
       "      <td>9</td>\n",
       "      <td>2</td>\n",
       "    </tr>\n",
       "    <tr>\n",
       "      <th>top</th>\n",
       "      <td>1508.01819v1.pdf</td>\n",
       "      <td>Title:\\tSpectral Clustering and Block Models: ...</td>\n",
       "      <td>unanswerable</td>\n",
       "      <td>squad_1</td>\n",
       "      <td>no_lb</td>\n",
       "    </tr>\n",
       "    <tr>\n",
       "      <th>freq</th>\n",
       "      <td>1</td>\n",
       "      <td>1</td>\n",
       "      <td>648</td>\n",
       "      <td>424</td>\n",
       "      <td>648</td>\n",
       "    </tr>\n",
       "  </tbody>\n",
       "</table>\n",
       "</div>"
      ],
      "text/plain": [
       "                      id                                             prompt  \\\n",
       "count                889                                                889   \n",
       "unique               889                                                889   \n",
       "top     1508.01819v1.pdf  Title:\\tSpectral Clustering and Block Models: ...   \n",
       "freq                   1                                                  1   \n",
       "\n",
       "              answer template leaderboard  \n",
       "count            889      889         889  \n",
       "unique           242        9           2  \n",
       "top     unanswerable  squad_1       no_lb  \n",
       "freq             648      424         648  "
      ]
     },
     "execution_count": 14,
     "metadata": {},
     "output_type": "execute_result"
    }
   ],
   "source": [
    "# Filtering the DataFrame\n",
    "Rec_dfs['validation'] = Rec_dfs['validation'][~Rec_dfs['validation']['id'].isin(validation_papers_to_drop_no_lb)]\n",
    "Rec_dfs['validation'].drop_duplicates(subset='id', inplace=True)\n",
    "Rec_dfs['validation'].describe()"
   ]
  },
  {
   "cell_type": "code",
   "execution_count": 16,
   "id": "df92fc01",
   "metadata": {},
   "outputs": [
    {
     "data": {
      "text/plain": [
       "889"
      ]
     },
     "execution_count": 16,
     "metadata": {},
     "output_type": "execute_result"
    }
   ],
   "source": [
    "len(Rec_dfs['validation'].id.unique())"
   ]
  },
  {
   "cell_type": "code",
   "execution_count": 15,
   "id": "a5073c2c",
   "metadata": {},
   "outputs": [
    {
     "data": {
      "image/png": "[encoded data removed]",
      "text/plain": [
       "<Figure size 576x576 with 1 Axes>"
      ]
     },
     "metadata": {},
     "output_type": "display_data"
    },
    {
     "data": {
      "image/png": "[encoded data removed]",
      "text/plain": [
       "<Figure size 576x576 with 1 Axes>"
      ]
     },
     "metadata": {},
     "output_type": "display_data"
    },
    {
     "data": {
      "image/png": "[encoded data removed]",
      "text/plain": [
       "<Figure size 576x576 with 1 Axes>"
      ]
     },
     "metadata": {},
     "output_type": "display_data"
    }
   ],
   "source": [
    "view_leaderboard_distribution(Rec_dfs)"
   ]
  },
  {
   "cell_type": "code",
   "execution_count": 27,
   "metadata": {},
   "outputs": [
    {
     "data": {
      "text/html": [
       "<div>\n",
       "<style scoped>\n",
       "    .dataframe tbody tr th:only-of-type {\n",
       "        vertical-align: middle;\n",
       "    }\n",
       "\n",
       "    .dataframe tbody tr th {\n",
       "        vertical-align: top;\n",
       "    }\n",
       "\n",
       "    .dataframe thead th {\n",
       "        text-align: right;\n",
       "    }\n",
       "</style>\n",
       "<table border=\"1\" class=\"dataframe\">\n",
       "  <thead>\n",
       "    <tr style=\"text-align: right;\">\n",
       "      <th></th>\n",
       "      <th>id</th>\n",
       "      <th>prompt</th>\n",
       "      <th>answer</th>\n",
       "      <th>template</th>\n",
       "      <th>leaderboard</th>\n",
       "    </tr>\n",
       "  </thead>\n",
       "  <tbody>\n",
       "    <tr>\n",
       "      <th>0</th>\n",
       "      <td>1712.02047v1.pdf</td>\n",
       "      <td>Title:\\tDistance-based Self-Attention Network ...</td>\n",
       "      <td>[{'LEADERBOARD': {'Task': 'Natural Language In...</td>\n",
       "      <td>squad_1</td>\n",
       "      <td>lb</td>\n",
       "    </tr>\n",
       "    <tr>\n",
       "      <th>7</th>\n",
       "      <td>1310.1757v2.pdf</td>\n",
       "      <td>Title:\\t\\n\\nAbstract:\\tThe Neural Autoregressi...</td>\n",
       "      <td>[{'LEADERBOARD': {'Task': 'Image Generation', ...</td>\n",
       "      <td>squad_1</td>\n",
       "      <td>lb</td>\n",
       "    </tr>\n",
       "    <tr>\n",
       "      <th>8</th>\n",
       "      <td>1808.01340v1.pdf</td>\n",
       "      <td>Title:\\tA Short Note about Kinetics-600\\n\\nAbs...</td>\n",
       "      <td>[{'LEADERBOARD': {'Task': 'Action Classificati...</td>\n",
       "      <td>squad_1</td>\n",
       "      <td>lb</td>\n",
       "    </tr>\n",
       "    <tr>\n",
       "      <th>10</th>\n",
       "      <td>2005.06734v2.pdf</td>\n",
       "      <td>Title:\\tDense-Resolution Network for Point Clo...</td>\n",
       "      <td>[{'LEADERBOARD': {'Task': '3D Part Segmentatio...</td>\n",
       "      <td>squad_1</td>\n",
       "      <td>lb</td>\n",
       "    </tr>\n",
       "    <tr>\n",
       "      <th>12</th>\n",
       "      <td>1905.03704v1.pdf</td>\n",
       "      <td>Title:\\tAgnostic Lane Detection\\n\\nAbstract:\\t...</td>\n",
       "      <td>[{'LEADERBOARD': {'Task': 'Lane Detection', 'D...</td>\n",
       "      <td>squad_1</td>\n",
       "      <td>lb</td>\n",
       "    </tr>\n",
       "    <tr>\n",
       "      <th>...</th>\n",
       "      <td>...</td>\n",
       "      <td>...</td>\n",
       "      <td>...</td>\n",
       "      <td>...</td>\n",
       "      <td>...</td>\n",
       "    </tr>\n",
       "    <tr>\n",
       "      <th>5688</th>\n",
       "      <td>1603.02754v3.pdf</td>\n",
       "      <td>Read this: Title:\\tXGBoost: A Scalable Tree Bo...</td>\n",
       "      <td>[{'LEADERBOARD': {'Task': 'Humor Detection', '...</td>\n",
       "      <td>squad_7</td>\n",
       "      <td>lb</td>\n",
       "    </tr>\n",
       "    <tr>\n",
       "      <th>6151</th>\n",
       "      <td>2006.00269v2.pdf</td>\n",
       "      <td>Read this: Title:\\tIs Depth Really Necessary f...</td>\n",
       "      <td>[{'LEADERBOARD': {'Task': 'RGB-D Salient Objec...</td>\n",
       "      <td>squad_8</td>\n",
       "      <td>lb</td>\n",
       "    </tr>\n",
       "    <tr>\n",
       "      <th>7190</th>\n",
       "      <td>2009.07641v5.pdf</td>\n",
       "      <td>Answer based on context:\\n\\nTitle:\\tBSN++: Com...</td>\n",
       "      <td>[{'LEADERBOARD': {'Task': 'Temporal Action Loc...</td>\n",
       "      <td>drop_1</td>\n",
       "      <td>lb</td>\n",
       "    </tr>\n",
       "    <tr>\n",
       "      <th>7673</th>\n",
       "      <td>1903.03096v4.pdf</td>\n",
       "      <td>Title:\\tMeta-Dataset: A Dataset of Datasets fo...</td>\n",
       "      <td>[{'LEADERBOARD': {'Task': 'Few-Shot Image Clas...</td>\n",
       "      <td>drop_2</td>\n",
       "      <td>lb</td>\n",
       "    </tr>\n",
       "    <tr>\n",
       "      <th>8699</th>\n",
       "      <td>2103.02782v2.pdf</td>\n",
       "      <td>Title:\\t Feature Boosting, Suppression, and Di...</td>\n",
       "      <td>[{'LEADERBOARD': {'Task': 'Fine-Grained Image ...</td>\n",
       "      <td>drop_3</td>\n",
       "      <td>lb</td>\n",
       "    </tr>\n",
       "  </tbody>\n",
       "</table>\n",
       "<p>753 rows × 5 columns</p>\n",
       "</div>"
      ],
      "text/plain": [
       "                    id                                             prompt  \\\n",
       "0     1712.02047v1.pdf  Title:\\tDistance-based Self-Attention Network ...   \n",
       "7      1310.1757v2.pdf  Title:\\t\\n\\nAbstract:\\tThe Neural Autoregressi...   \n",
       "8     1808.01340v1.pdf  Title:\\tA Short Note about Kinetics-600\\n\\nAbs...   \n",
       "10    2005.06734v2.pdf  Title:\\tDense-Resolution Network for Point Clo...   \n",
       "12    1905.03704v1.pdf  Title:\\tAgnostic Lane Detection\\n\\nAbstract:\\t...   \n",
       "...                ...                                                ...   \n",
       "5688  1603.02754v3.pdf  Read this: Title:\\tXGBoost: A Scalable Tree Bo...   \n",
       "6151  2006.00269v2.pdf  Read this: Title:\\tIs Depth Really Necessary f...   \n",
       "7190  2009.07641v5.pdf  Answer based on context:\\n\\nTitle:\\tBSN++: Com...   \n",
       "7673  1903.03096v4.pdf  Title:\\tMeta-Dataset: A Dataset of Datasets fo...   \n",
       "8699  2103.02782v2.pdf  Title:\\t Feature Boosting, Suppression, and Di...   \n",
       "\n",
       "                                                 answer template leaderboard  \n",
       "0     [{'LEADERBOARD': {'Task': 'Natural Language In...  squad_1          lb  \n",
       "7     [{'LEADERBOARD': {'Task': 'Image Generation', ...  squad_1          lb  \n",
       "8     [{'LEADERBOARD': {'Task': 'Action Classificati...  squad_1          lb  \n",
       "10    [{'LEADERBOARD': {'Task': '3D Part Segmentatio...  squad_1          lb  \n",
       "12    [{'LEADERBOARD': {'Task': 'Lane Detection', 'D...  squad_1          lb  \n",
       "...                                                 ...      ...         ...  \n",
       "5688  [{'LEADERBOARD': {'Task': 'Humor Detection', '...  squad_7          lb  \n",
       "6151  [{'LEADERBOARD': {'Task': 'RGB-D Salient Objec...  squad_8          lb  \n",
       "7190  [{'LEADERBOARD': {'Task': 'Temporal Action Loc...   drop_1          lb  \n",
       "7673  [{'LEADERBOARD': {'Task': 'Few-Shot Image Clas...   drop_2          lb  \n",
       "8699  [{'LEADERBOARD': {'Task': 'Fine-Grained Image ...   drop_3          lb  \n",
       "\n",
       "[753 rows x 5 columns]"
      ]
     },
     "execution_count": 27,
     "metadata": {},
     "output_type": "execute_result"
    }
   ],
   "source": [
    "Rec_dfs['validation'][Rec_dfs['validation']['id'].isin(validation_papers_to_drop_no_lb)]"
   ]
  },
  {
   "cell_type": "code",
   "execution_count": null,
   "id": "e55d0804",
   "metadata": {},
   "outputs": [],
   "source": []
  },
  {
   "cell_type": "code",
   "execution_count": null,
   "metadata": {},
   "outputs": [],
   "source": []
  },
  {
   "cell_type": "code",
   "execution_count": null,
   "metadata": {},
   "outputs": [],
   "source": [
    "aaa"
   ]
  },
  {
   "cell_type": "code",
   "execution_count": 9,
   "id": "c90ba9a2",
   "metadata": {},
   "outputs": [
    {
     "data": {
      "text/plain": [
       "10058"
      ]
     },
     "execution_count": 9,
     "metadata": {},
     "output_type": "execute_result"
    }
   ],
   "source": [
    "len(dfs['train'].id.unique())"
   ]
  },
  {
   "cell_type": "code",
   "execution_count": 10,
   "id": "3c6cff4f",
   "metadata": {},
   "outputs": [
    {
     "data": {
      "text/plain": [
       "1347"
      ]
     },
     "execution_count": 10,
     "metadata": {},
     "output_type": "execute_result"
    }
   ],
   "source": [
    "len(dfs['validation'].id.unique())"
   ]
  },
  {
   "cell_type": "code",
   "execution_count": 11,
   "metadata": {},
   "outputs": [
    {
     "data": {
      "text/plain": [
       "926"
      ]
     },
     "execution_count": 11,
     "metadata": {},
     "output_type": "execute_result"
    }
   ],
   "source": [
    "len(dfs['zeroshot'].id.unique())"
   ]
  },
  {
   "cell_type": "code",
   "execution_count": 13,
   "id": "a5a98f9b",
   "metadata": {},
   "outputs": [
    {
     "data": {
      "text/plain": [
       "12331"
      ]
     },
     "execution_count": 13,
     "metadata": {},
     "output_type": "execute_result"
    }
   ],
   "source": [
    "len(list(dfs['train'].id.unique())+list(dfs['validation'].id.unique())+list(dfs['zeroshot'].id.unique()))"
   ]
  },
  {
   "cell_type": "code",
   "execution_count": 14,
   "id": "87e044c6",
   "metadata": {},
   "outputs": [
    {
     "data": {
      "text/plain": [
       "11405"
      ]
     },
     "execution_count": 14,
     "metadata": {},
     "output_type": "execute_result"
    }
   ],
   "source": [
    "len(set(list(dfs['train'].id.unique())+list(dfs['validation'].id.unique())+list(dfs['zeroshot'].id.unique())))"
   ]
  },
  {
   "cell_type": "code",
   "execution_count": 8,
   "metadata": {},
   "outputs": [
    {
     "name": "stderr",
     "output_type": "stream",
     "text": [
      "100%|██████████| 926/926 [09:11<00:00,  1.68it/s] "
     ]
    },
    {
     "name": "stdout",
     "output_type": "stream",
     "text": [
      "Missed_parsing_zero 0\n",
      "Lenght papers_to_drop in zeroshot based on train: 573\n"
     ]
    },
    {
     "name": "stderr",
     "output_type": "stream",
     "text": [
      "\n"
     ]
    }
   ],
   "source": [
    "zeroshot_papers_to_drop_no_lb = remove_data_leakage(dfs, source=\"zeroshot\", target=\"train\", THRESHOLD=90)"
   ]
  },
  {
   "cell_type": "code",
   "execution_count": 9,
   "id": "8c698ef7",
   "metadata": {},
   "outputs": [
    {
     "name": "stderr",
     "output_type": "stream",
     "text": [
      "100%|██████████| 926/926 [00:00<00:00, 6354.35it/s]"
     ]
    },
    {
     "name": "stdout",
     "output_type": "stream",
     "text": [
      "408\n"
     ]
    },
    {
     "name": "stderr",
     "output_type": "stream",
     "text": [
      "\n"
     ]
    }
   ],
   "source": [
    "# validation_papers_to_drop_no_lb = remove_data_leakage(dfs, source=\"validation\", target=\"zeroshot\", THRESHOLD=90)\n",
    "\n",
    "dfs['zeroshot'].drop_duplicates(subset='id', inplace=True)\n",
    "records = dfs['zeroshot'].to_dict(\"records\")\n",
    "validation_papers_to_drop_no_lb = set()\n",
    "for row in tqdm(records, total=len(records)):\n",
    "    # if row['id'] in dfs['train']['id'].to_list():\n",
    "    #     duplicate+=1\n",
    "    if row['id'] in dfs['validation']['id'].to_list():\n",
    "        validation_papers_to_drop_no_lb.add(row['id'])\n",
    "        \n",
    "print(len(validation_papers_to_drop_no_lb))"
   ]
  },
  {
   "cell_type": "code",
   "execution_count": 10,
   "id": "68f36d62",
   "metadata": {},
   "outputs": [
    {
     "data": {
      "text/html": [
       "<div>\n",
       "<style scoped>\n",
       "    .dataframe tbody tr th:only-of-type {\n",
       "        vertical-align: middle;\n",
       "    }\n",
       "\n",
       "    .dataframe tbody tr th {\n",
       "        vertical-align: top;\n",
       "    }\n",
       "\n",
       "    .dataframe thead th {\n",
       "        text-align: right;\n",
       "    }\n",
       "</style>\n",
       "<table border=\"1\" class=\"dataframe\">\n",
       "  <thead>\n",
       "    <tr style=\"text-align: right;\">\n",
       "      <th></th>\n",
       "      <th>prompt lenght</th>\n",
       "      <th>__index_level_0__</th>\n",
       "    </tr>\n",
       "  </thead>\n",
       "  <tbody>\n",
       "    <tr>\n",
       "      <th>count</th>\n",
       "      <td>353.000000</td>\n",
       "      <td>353.00000</td>\n",
       "    </tr>\n",
       "    <tr>\n",
       "      <th>mean</th>\n",
       "      <td>197.560907</td>\n",
       "      <td>11235.00000</td>\n",
       "    </tr>\n",
       "    <tr>\n",
       "      <th>std</th>\n",
       "      <td>99.668184</td>\n",
       "      <td>1530.69837</td>\n",
       "    </tr>\n",
       "    <tr>\n",
       "      <th>min</th>\n",
       "      <td>29.000000</td>\n",
       "      <td>8595.00000</td>\n",
       "    </tr>\n",
       "    <tr>\n",
       "      <th>25%</th>\n",
       "      <td>138.000000</td>\n",
       "      <td>9915.00000</td>\n",
       "    </tr>\n",
       "    <tr>\n",
       "      <th>50%</th>\n",
       "      <td>192.000000</td>\n",
       "      <td>11235.00000</td>\n",
       "    </tr>\n",
       "    <tr>\n",
       "      <th>75%</th>\n",
       "      <td>234.000000</td>\n",
       "      <td>12555.00000</td>\n",
       "    </tr>\n",
       "    <tr>\n",
       "      <th>max</th>\n",
       "      <td>677.000000</td>\n",
       "      <td>13875.00000</td>\n",
       "    </tr>\n",
       "  </tbody>\n",
       "</table>\n",
       "</div>"
      ],
      "text/plain": [
       "       prompt lenght  __index_level_0__\n",
       "count     353.000000          353.00000\n",
       "mean      197.560907        11235.00000\n",
       "std        99.668184         1530.69837\n",
       "min        29.000000         8595.00000\n",
       "25%       138.000000         9915.00000\n",
       "50%       192.000000        11235.00000\n",
       "75%       234.000000        12555.00000\n",
       "max       677.000000        13875.00000"
      ]
     },
     "execution_count": 10,
     "metadata": {},
     "output_type": "execute_result"
    }
   ],
   "source": [
    "# Filtering the DataFrame\n",
    "dfs['zeroshot'] = dfs['zeroshot'][~dfs['zeroshot']['id'].isin(zeroshot_papers_to_drop_no_lb)]\n",
    "dfs['zeroshot'].drop_duplicates(subset='id', inplace=True)\n",
    "dfs['zeroshot'].describe()"
   ]
  },
  {
   "cell_type": "code",
   "execution_count": 11,
   "id": "3c901fe6",
   "metadata": {},
   "outputs": [
    {
     "data": {
      "text/html": [
       "<div>\n",
       "<style scoped>\n",
       "    .dataframe tbody tr th:only-of-type {\n",
       "        vertical-align: middle;\n",
       "    }\n",
       "\n",
       "    .dataframe tbody tr th {\n",
       "        vertical-align: top;\n",
       "    }\n",
       "\n",
       "    .dataframe thead th {\n",
       "        text-align: right;\n",
       "    }\n",
       "</style>\n",
       "<table border=\"1\" class=\"dataframe\">\n",
       "  <thead>\n",
       "    <tr style=\"text-align: right;\">\n",
       "      <th></th>\n",
       "      <th>prompt lenght</th>\n",
       "      <th>__index_level_0__</th>\n",
       "    </tr>\n",
       "  </thead>\n",
       "  <tbody>\n",
       "    <tr>\n",
       "      <th>count</th>\n",
       "      <td>939.000000</td>\n",
       "      <td>939.000000</td>\n",
       "    </tr>\n",
       "    <tr>\n",
       "      <th>mean</th>\n",
       "      <td>568.654952</td>\n",
       "      <td>7434.408946</td>\n",
       "    </tr>\n",
       "    <tr>\n",
       "      <th>std</th>\n",
       "      <td>358.102912</td>\n",
       "      <td>4300.934395</td>\n",
       "    </tr>\n",
       "    <tr>\n",
       "      <th>min</th>\n",
       "      <td>26.000000</td>\n",
       "      <td>0.000000</td>\n",
       "    </tr>\n",
       "    <tr>\n",
       "      <th>25%</th>\n",
       "      <td>325.000000</td>\n",
       "      <td>3712.500000</td>\n",
       "    </tr>\n",
       "    <tr>\n",
       "      <th>50%</th>\n",
       "      <td>497.000000</td>\n",
       "      <td>7425.000000</td>\n",
       "    </tr>\n",
       "    <tr>\n",
       "      <th>75%</th>\n",
       "      <td>707.500000</td>\n",
       "      <td>11137.500000</td>\n",
       "    </tr>\n",
       "    <tr>\n",
       "      <th>max</th>\n",
       "      <td>3431.000000</td>\n",
       "      <td>14895.000000</td>\n",
       "    </tr>\n",
       "  </tbody>\n",
       "</table>\n",
       "</div>"
      ],
      "text/plain": [
       "       prompt lenght  __index_level_0__\n",
       "count     939.000000         939.000000\n",
       "mean      568.654952        7434.408946\n",
       "std       358.102912        4300.934395\n",
       "min        26.000000           0.000000\n",
       "25%       325.000000        3712.500000\n",
       "50%       497.000000        7425.000000\n",
       "75%       707.500000       11137.500000\n",
       "max      3431.000000       14895.000000"
      ]
     },
     "execution_count": 11,
     "metadata": {},
     "output_type": "execute_result"
    }
   ],
   "source": [
    "# Filtering the DataFrame\n",
    "dfs['validation'] = dfs['validation'][~dfs['validation']['id'].isin(validation_papers_to_drop_no_lb)]\n",
    "dfs['validation'].drop_duplicates(subset='id', inplace=True)\n",
    "dfs['validation'].describe()"
   ]
  },
  {
   "cell_type": "code",
   "execution_count": 12,
   "id": "8ca83864",
   "metadata": {},
   "outputs": [
    {
     "data": {
      "text/html": [
       "<div>\n",
       "<style scoped>\n",
       "    .dataframe tbody tr th:only-of-type {\n",
       "        vertical-align: middle;\n",
       "    }\n",
       "\n",
       "    .dataframe tbody tr th {\n",
       "        vertical-align: top;\n",
       "    }\n",
       "\n",
       "    .dataframe thead th {\n",
       "        text-align: right;\n",
       "    }\n",
       "</style>\n",
       "<table border=\"1\" class=\"dataframe\">\n",
       "  <thead>\n",
       "    <tr style=\"text-align: right;\">\n",
       "      <th></th>\n",
       "      <th>prompt lenght</th>\n",
       "      <th>__index_level_0__</th>\n",
       "    </tr>\n",
       "  </thead>\n",
       "  <tbody>\n",
       "    <tr>\n",
       "      <th>count</th>\n",
       "      <td>10058.000000</td>\n",
       "      <td>10058.000000</td>\n",
       "    </tr>\n",
       "    <tr>\n",
       "      <th>mean</th>\n",
       "      <td>485.707298</td>\n",
       "      <td>75427.500000</td>\n",
       "    </tr>\n",
       "    <tr>\n",
       "      <th>std</th>\n",
       "      <td>398.739365</td>\n",
       "      <td>43554.582566</td>\n",
       "    </tr>\n",
       "    <tr>\n",
       "      <th>min</th>\n",
       "      <td>27.000000</td>\n",
       "      <td>0.000000</td>\n",
       "    </tr>\n",
       "    <tr>\n",
       "      <th>25%</th>\n",
       "      <td>216.000000</td>\n",
       "      <td>37713.750000</td>\n",
       "    </tr>\n",
       "    <tr>\n",
       "      <th>50%</th>\n",
       "      <td>392.000000</td>\n",
       "      <td>75427.500000</td>\n",
       "    </tr>\n",
       "    <tr>\n",
       "      <th>75%</th>\n",
       "      <td>640.000000</td>\n",
       "      <td>113141.250000</td>\n",
       "    </tr>\n",
       "    <tr>\n",
       "      <th>max</th>\n",
       "      <td>7344.000000</td>\n",
       "      <td>150855.000000</td>\n",
       "    </tr>\n",
       "  </tbody>\n",
       "</table>\n",
       "</div>"
      ],
      "text/plain": [
       "       prompt lenght  __index_level_0__\n",
       "count   10058.000000       10058.000000\n",
       "mean      485.707298       75427.500000\n",
       "std       398.739365       43554.582566\n",
       "min        27.000000           0.000000\n",
       "25%       216.000000       37713.750000\n",
       "50%       392.000000       75427.500000\n",
       "75%       640.000000      113141.250000\n",
       "max      7344.000000      150855.000000"
      ]
     },
     "execution_count": 12,
     "metadata": {},
     "output_type": "execute_result"
    }
   ],
   "source": [
    "# Filtering the DataFrame\n",
    "dfs['train'].drop_duplicates(subset='id', inplace=True)\n",
    "dfs['train'].describe()"
   ]
  },
  {
   "cell_type": "code",
   "execution_count": 13,
   "id": "348512dc",
   "metadata": {},
   "outputs": [],
   "source": [
    "dfs['train'].drop([\"template\", \"__index_level_0__\"], inplace=True, axis=1)\n",
    "dfs['validation'].drop([\"template\", \"__index_level_0__\"], inplace=True, axis=1)\n",
    "dfs['zeroshot'].drop([\"template\", \"__index_level_0__\"], inplace=True, axis=1)"
   ]
  },
  {
   "cell_type": "code",
   "execution_count": 14,
   "id": "77c86308",
   "metadata": {},
   "outputs": [
    {
     "data": {
      "text/html": [
       "<div>\n",
       "<style scoped>\n",
       "    .dataframe tbody tr th:only-of-type {\n",
       "        vertical-align: middle;\n",
       "    }\n",
       "\n",
       "    .dataframe tbody tr th {\n",
       "        vertical-align: top;\n",
       "    }\n",
       "\n",
       "    .dataframe thead th {\n",
       "        text-align: right;\n",
       "    }\n",
       "</style>\n",
       "<table border=\"1\" class=\"dataframe\">\n",
       "  <thead>\n",
       "    <tr style=\"text-align: right;\">\n",
       "      <th></th>\n",
       "      <th>id</th>\n",
       "      <th>prompt</th>\n",
       "      <th>answer</th>\n",
       "      <th>prompt lenght</th>\n",
       "    </tr>\n",
       "  </thead>\n",
       "  <tbody>\n",
       "    <tr>\n",
       "      <th>150795</th>\n",
       "      <td>1401.6576.pdf</td>\n",
       "      <td>Adding modular predicates to first-order fragm...</td>\n",
       "      <td>unanswerable</td>\n",
       "      <td>206</td>\n",
       "    </tr>\n",
       "    <tr>\n",
       "      <th>150810</th>\n",
       "      <td>1304.4691.pdf</td>\n",
       "      <td>Efficient Calculation of Determinants of Symbo...</td>\n",
       "      <td>unanswerable</td>\n",
       "      <td>128</td>\n",
       "    </tr>\n",
       "    <tr>\n",
       "      <th>150825</th>\n",
       "      <td>1001.3388.pdf</td>\n",
       "      <td>Approximate Privacy: PARs for Set Problems In ...</td>\n",
       "      <td>unanswerable</td>\n",
       "      <td>183</td>\n",
       "    </tr>\n",
       "    <tr>\n",
       "      <th>150840</th>\n",
       "      <td>0706.2010.pdf</td>\n",
       "      <td>Information-theoretic securitywithout an hones...</td>\n",
       "      <td>unanswerable</td>\n",
       "      <td>131</td>\n",
       "    </tr>\n",
       "    <tr>\n",
       "      <th>150855</th>\n",
       "      <td>1111.2942.pdf</td>\n",
       "      <td>Down the Rabbit Hole: Robust Proximity Search ...</td>\n",
       "      <td>unanswerable</td>\n",
       "      <td>232</td>\n",
       "    </tr>\n",
       "  </tbody>\n",
       "</table>\n",
       "</div>"
      ],
      "text/plain": [
       "                   id                                             prompt  \\\n",
       "150795  1401.6576.pdf  Adding modular predicates to first-order fragm...   \n",
       "150810  1304.4691.pdf  Efficient Calculation of Determinants of Symbo...   \n",
       "150825  1001.3388.pdf  Approximate Privacy: PARs for Set Problems In ...   \n",
       "150840  0706.2010.pdf  Information-theoretic securitywithout an hones...   \n",
       "150855  1111.2942.pdf  Down the Rabbit Hole: Robust Proximity Search ...   \n",
       "\n",
       "              answer  prompt lenght  \n",
       "150795  unanswerable            206  \n",
       "150810  unanswerable            128  \n",
       "150825  unanswerable            183  \n",
       "150840  unanswerable            131  \n",
       "150855  unanswerable            232  "
      ]
     },
     "execution_count": 14,
     "metadata": {},
     "output_type": "execute_result"
    }
   ],
   "source": [
    "dfs['train'].tail()"
   ]
  },
  {
   "cell_type": "code",
   "execution_count": 15,
   "id": "d6fcc28e",
   "metadata": {},
   "outputs": [
    {
     "data": {
      "text/plain": [
       "10058"
      ]
     },
     "execution_count": 15,
     "metadata": {},
     "output_type": "execute_result"
    }
   ],
   "source": [
    "dfs['train'].id.nunique()"
   ]
  },
  {
   "cell_type": "code",
   "execution_count": 16,
   "id": "d26d73fc",
   "metadata": {},
   "outputs": [],
   "source": [
    "def verify_data_integrity(dfs):\n",
    "\n",
    "    zeroshot_paper_in_train = 0\n",
    "    for paper in dfs['zeroshot'].id.unique():\n",
    "        if paper in dfs['train'].id.to_list():\n",
    "            zeroshot_paper_in_train += 1\n",
    "        \n",
    "    zeroshot_paper_in_validation = 0\n",
    "    for paper in dfs['zeroshot'].id.unique():\n",
    "        if paper in dfs['validation'].id.to_list():\n",
    "            zeroshot_paper_in_validation += 1 \n",
    "\n",
    "    train_paper_in_validation = 0\n",
    "    for paper in dfs['train'].id.unique():\n",
    "        if paper in dfs['validation'].id.to_list():\n",
    "            train_paper_in_validation += 1   \n",
    "        \n",
    "    validation_paper_in_zeroshot = 0\n",
    "    for paper in dfs['validation'].id.unique():\n",
    "        if paper in dfs['zeroshot'].id.to_list():\n",
    "            validation_paper_in_zeroshot += 1     \n",
    "            \n",
    "    print(f\"zeroshot_paper_in_train: {zeroshot_paper_in_train}\")\n",
    "    print(f\"zeroshot_paper_in_validation: {zeroshot_paper_in_validation}\")\n",
    "    print(f\"train_paper_in_validation: {train_paper_in_validation}\")\n",
    "    print(f\"validation_paper_in_zeroshot: {validation_paper_in_zeroshot}\")"
   ]
  },
  {
   "cell_type": "code",
   "execution_count": 17,
   "id": "4f00a9fb",
   "metadata": {},
   "outputs": [
    {
     "name": "stdout",
     "output_type": "stream",
     "text": [
      "zeroshot_paper_in_train: 0\n",
      "zeroshot_paper_in_validation: 0\n",
      "train_paper_in_validation: 0\n",
      "validation_paper_in_zeroshot: 0\n"
     ]
    }
   ],
   "source": [
    "verify_data_integrity(dfs)"
   ]
  },
  {
   "cell_type": "code",
   "execution_count": 18,
   "id": "600ce69a",
   "metadata": {},
   "outputs": [
    {
     "data": {
      "application/vnd.jupyter.widget-view+json": {
       "model_id": "1f131eed619c45f7aca4c7d00ef83875",
       "version_major": 2,
       "version_minor": 0
      },
      "text/plain": [
       "Saving the dataset (0/1 shards):   0%|          | 0/10058 [00:00<?, ? examples/s]"
      ]
     },
     "metadata": {},
     "output_type": "display_data"
    },
    {
     "data": {
      "application/vnd.jupyter.widget-view+json": {
       "model_id": "5d89a343a5b247ec821d1aa40ee81631",
       "version_major": 2,
       "version_minor": 0
      },
      "text/plain": [
       "Saving the dataset (0/1 shards):   0%|          | 0/939 [00:00<?, ? examples/s]"
      ]
     },
     "metadata": {},
     "output_type": "display_data"
    },
    {
     "data": {
      "application/vnd.jupyter.widget-view+json": {
       "model_id": "941e749b1e744447ba057c1dc867b942",
       "version_major": 2,
       "version_minor": 0
      },
      "text/plain": [
       "Saving the dataset (0/1 shards):   0%|          | 0/353 [00:00<?, ? examples/s]"
      ]
     },
     "metadata": {},
     "output_type": "display_data"
    }
   ],
   "source": [
    "dataset = DatasetDict({\n",
    "        \"train\": Dataset.from_pandas(dfs['train']),\n",
    "        \"validation\": Dataset.from_pandas(dfs['validation']),\n",
    "        \"zeroshot\": Dataset.from_pandas(dfs['zeroshot'])\n",
    "    })\n",
    "\n",
    "dataset.save_to_disk(\"../data/LEADERBOARDS_DOCTEAT_TDMS_NO_TEMPLATES_STRICT\")"
   ]
  },
  {
   "cell_type": "markdown",
   "id": "5f8dd205",
   "metadata": {},
   "source": [
    "### Template Specific"
   ]
  },
  {
   "cell_type": "code",
   "execution_count": 19,
   "id": "f452d2d9",
   "metadata": {},
   "outputs": [
    {
     "name": "stdout",
     "output_type": "stream",
     "text": [
      "SQUAD: 1\n"
     ]
    },
    {
     "name": "stderr",
     "output_type": "stream",
     "text": [
      "  0%|          | 0/926 [00:00<?, ?it/s]"
     ]
    },
    {
     "name": "stderr",
     "output_type": "stream",
     "text": [
      " 28%|██▊       | 262/926 [05:04<10:02,  1.10it/s] "
     ]
    }
   ],
   "source": [
    "for squad_id in range(1, 9):\n",
    "    print(f\"SQUAD: {squad_id}\")\n",
    "    dataset_path = f\"../data/LLLM_AUGMENTED_SUMMARIZED_WITH_ID_ZEROSHOT_TDMS_SQUAD_{squad_id}_DOCTEAT/fold1\"\n",
    "\n",
    "    dataset_dict = DatasetDict.load_from_disk(f\"{dataset_path}\")\n",
    "        \n",
    "    dfs = {split: dataset.to_pandas() for split, dataset in dataset_dict.items()}\n",
    "    \n",
    "    zeroshot_papers_to_drop_no_lb = remove_data_leakage(dfs, source=\"zeroshot\", target=\"train\", THRESHOLD=90)\n",
    "    \n",
    "    dfs['zeroshot'].drop_duplicates(subset='id', inplace=True)\n",
    "    records = dfs['zeroshot'].to_dict(\"records\")\n",
    "    validation_papers_to_drop_no_lb = set()\n",
    "    for row in tqdm(records, total=len(records)):\n",
    "        # if row['id'] in dfs['train']['id'].to_list():\n",
    "        #     duplicate+=1\n",
    "        if row['id'] in dfs['validation']['id'].to_list():\n",
    "            validation_papers_to_drop_no_lb.add(row['id'])\n",
    "            \n",
    "    print(len(validation_papers_to_drop_no_lb))\n",
    "    \n",
    "    # Filtering the DataFrame\n",
    "    dfs['train'].drop_duplicates(subset='id', inplace=True)\n",
    "    display(dfs['train'].describe())\n",
    "\n",
    "    # Filtering the DataFrame\n",
    "    dfs['validation'] = dfs['validation'][~dfs['validation']['id'].isin(validation_papers_to_drop_no_lb)]\n",
    "    dfs['validation'].drop_duplicates(subset='id', inplace=True)\n",
    "    display(dfs['validation'].describe())\n",
    "\n",
    "    # Filtering the DataFrame\n",
    "    dfs['zeroshot'] = dfs['zeroshot'][~dfs['zeroshot']['id'].isin(zeroshot_papers_to_drop_no_lb)]\n",
    "    dfs['zeroshot'].drop_duplicates(subset='id', inplace=True)\n",
    "    display(dfs['zeroshot'].describe())\n",
    "    \n",
    "    dfs['train'].drop([\"template\", \"__index_level_0__\"], inplace=True, axis=1)\n",
    "    dfs['validation'].drop([\"template\", \"__index_level_0__\"], inplace=True, axis=1)\n",
    "    dfs['zeroshot'].drop([\"template\", \"__index_level_0__\"], inplace=True, axis=1)\n",
    "\n",
    "    verify_data_integrity(dfs)\n",
    "    \n",
    "    dataset = DatasetDict({\n",
    "        \"train\": Dataset.from_pandas(dfs['train']),\n",
    "        \"validation\": Dataset.from_pandas(dfs['validation']),\n",
    "        \"zeroshot\": Dataset.from_pandas(dfs['zeroshot'])\n",
    "    })\n",
    "\n",
    "    dataset.save_to_disk(f\"../data/LEADERBOARDS_DOCTEAT_TDMS_NO_TEMPLATES_SQUAD_{squad_id}_STRICT\")"
   ]
  },
  {
   "cell_type": "code",
   "execution_count": null,
   "id": "3f8583f4",
   "metadata": {},
   "outputs": [
    {
     "name": "stderr",
     "output_type": "stream",
     "text": [
      "100%|██████████| 926/926 [09:08<00:00,  1.69it/s] \n"
     ]
    },
    {
     "name": "stdout",
     "output_type": "stream",
     "text": [
      "Missed_parsing_zero 0\n",
      "Lenght papers_to_drop in zeroshot based on train: 573\n"
     ]
    },
    {
     "name": "stderr",
     "output_type": "stream",
     "text": [
      "100%|██████████| 926/926 [00:00<00:00, 75687.92it/s]"
     ]
    },
    {
     "name": "stdout",
     "output_type": "stream",
     "text": [
      "408\n"
     ]
    },
    {
     "name": "stderr",
     "output_type": "stream",
     "text": [
      "\n"
     ]
    },
    {
     "data": {
      "text/html": [
       "<div>\n",
       "<style scoped>\n",
       "    .dataframe tbody tr th:only-of-type {\n",
       "        vertical-align: middle;\n",
       "    }\n",
       "\n",
       "    .dataframe tbody tr th {\n",
       "        vertical-align: top;\n",
       "    }\n",
       "\n",
       "    .dataframe thead th {\n",
       "        text-align: right;\n",
       "    }\n",
       "</style>\n",
       "<table border=\"1\" class=\"dataframe\">\n",
       "  <thead>\n",
       "    <tr style=\"text-align: right;\">\n",
       "      <th></th>\n",
       "      <th>prompt lenght</th>\n",
       "      <th>__index_level_0__</th>\n",
       "    </tr>\n",
       "  </thead>\n",
       "  <tbody>\n",
       "    <tr>\n",
       "      <th>count</th>\n",
       "      <td>10058.000000</td>\n",
       "      <td>10058.000000</td>\n",
       "    </tr>\n",
       "    <tr>\n",
       "      <th>mean</th>\n",
       "      <td>488.707298</td>\n",
       "      <td>75435.500000</td>\n",
       "    </tr>\n",
       "    <tr>\n",
       "      <th>std</th>\n",
       "      <td>398.739365</td>\n",
       "      <td>43554.582566</td>\n",
       "    </tr>\n",
       "    <tr>\n",
       "      <th>min</th>\n",
       "      <td>30.000000</td>\n",
       "      <td>8.000000</td>\n",
       "    </tr>\n",
       "    <tr>\n",
       "      <th>25%</th>\n",
       "      <td>219.000000</td>\n",
       "      <td>37721.750000</td>\n",
       "    </tr>\n",
       "    <tr>\n",
       "      <th>50%</th>\n",
       "      <td>395.000000</td>\n",
       "      <td>75435.500000</td>\n",
       "    </tr>\n",
       "    <tr>\n",
       "      <th>75%</th>\n",
       "      <td>643.000000</td>\n",
       "      <td>113149.250000</td>\n",
       "    </tr>\n",
       "    <tr>\n",
       "      <th>max</th>\n",
       "      <td>7347.000000</td>\n",
       "      <td>150863.000000</td>\n",
       "    </tr>\n",
       "  </tbody>\n",
       "</table>\n",
       "</div>"
      ],
      "text/plain": [
       "       prompt lenght  __index_level_0__\n",
       "count   10058.000000       10058.000000\n",
       "mean      488.707298       75435.500000\n",
       "std       398.739365       43554.582566\n",
       "min        30.000000           8.000000\n",
       "25%       219.000000       37721.750000\n",
       "50%       395.000000       75435.500000\n",
       "75%       643.000000      113149.250000\n",
       "max      7347.000000      150863.000000"
      ]
     },
     "metadata": {},
     "output_type": "display_data"
    },
    {
     "data": {
      "text/html": [
       "<div>\n",
       "<style scoped>\n",
       "    .dataframe tbody tr th:only-of-type {\n",
       "        vertical-align: middle;\n",
       "    }\n",
       "\n",
       "    .dataframe tbody tr th {\n",
       "        vertical-align: top;\n",
       "    }\n",
       "\n",
       "    .dataframe thead th {\n",
       "        text-align: right;\n",
       "    }\n",
       "</style>\n",
       "<table border=\"1\" class=\"dataframe\">\n",
       "  <thead>\n",
       "    <tr style=\"text-align: right;\">\n",
       "      <th></th>\n",
       "      <th>prompt lenght</th>\n",
       "      <th>__index_level_0__</th>\n",
       "    </tr>\n",
       "  </thead>\n",
       "  <tbody>\n",
       "    <tr>\n",
       "      <th>count</th>\n",
       "      <td>939.000000</td>\n",
       "      <td>939.000000</td>\n",
       "    </tr>\n",
       "    <tr>\n",
       "      <th>mean</th>\n",
       "      <td>571.654952</td>\n",
       "      <td>7442.408946</td>\n",
       "    </tr>\n",
       "    <tr>\n",
       "      <th>std</th>\n",
       "      <td>358.102912</td>\n",
       "      <td>4300.934395</td>\n",
       "    </tr>\n",
       "    <tr>\n",
       "      <th>min</th>\n",
       "      <td>29.000000</td>\n",
       "      <td>8.000000</td>\n",
       "    </tr>\n",
       "    <tr>\n",
       "      <th>25%</th>\n",
       "      <td>328.000000</td>\n",
       "      <td>3720.500000</td>\n",
       "    </tr>\n",
       "    <tr>\n",
       "      <th>50%</th>\n",
       "      <td>500.000000</td>\n",
       "      <td>7433.000000</td>\n",
       "    </tr>\n",
       "    <tr>\n",
       "      <th>75%</th>\n",
       "      <td>710.500000</td>\n",
       "      <td>11145.500000</td>\n",
       "    </tr>\n",
       "    <tr>\n",
       "      <th>max</th>\n",
       "      <td>3434.000000</td>\n",
       "      <td>14903.000000</td>\n",
       "    </tr>\n",
       "  </tbody>\n",
       "</table>\n",
       "</div>"
      ],
      "text/plain": [
       "       prompt lenght  __index_level_0__\n",
       "count     939.000000         939.000000\n",
       "mean      571.654952        7442.408946\n",
       "std       358.102912        4300.934395\n",
       "min        29.000000           8.000000\n",
       "25%       328.000000        3720.500000\n",
       "50%       500.000000        7433.000000\n",
       "75%       710.500000       11145.500000\n",
       "max      3434.000000       14903.000000"
      ]
     },
     "metadata": {},
     "output_type": "display_data"
    },
    {
     "data": {
      "text/html": [
       "<div>\n",
       "<style scoped>\n",
       "    .dataframe tbody tr th:only-of-type {\n",
       "        vertical-align: middle;\n",
       "    }\n",
       "\n",
       "    .dataframe tbody tr th {\n",
       "        vertical-align: top;\n",
       "    }\n",
       "\n",
       "    .dataframe thead th {\n",
       "        text-align: right;\n",
       "    }\n",
       "</style>\n",
       "<table border=\"1\" class=\"dataframe\">\n",
       "  <thead>\n",
       "    <tr style=\"text-align: right;\">\n",
       "      <th></th>\n",
       "      <th>prompt lenght</th>\n",
       "      <th>__index_level_0__</th>\n",
       "    </tr>\n",
       "  </thead>\n",
       "  <tbody>\n",
       "    <tr>\n",
       "      <th>count</th>\n",
       "      <td>353.000000</td>\n",
       "      <td>353.00000</td>\n",
       "    </tr>\n",
       "    <tr>\n",
       "      <th>mean</th>\n",
       "      <td>200.560907</td>\n",
       "      <td>11243.00000</td>\n",
       "    </tr>\n",
       "    <tr>\n",
       "      <th>std</th>\n",
       "      <td>99.668184</td>\n",
       "      <td>1530.69837</td>\n",
       "    </tr>\n",
       "    <tr>\n",
       "      <th>min</th>\n",
       "      <td>32.000000</td>\n",
       "      <td>8603.00000</td>\n",
       "    </tr>\n",
       "    <tr>\n",
       "      <th>25%</th>\n",
       "      <td>141.000000</td>\n",
       "      <td>9923.00000</td>\n",
       "    </tr>\n",
       "    <tr>\n",
       "      <th>50%</th>\n",
       "      <td>195.000000</td>\n",
       "      <td>11243.00000</td>\n",
       "    </tr>\n",
       "    <tr>\n",
       "      <th>75%</th>\n",
       "      <td>237.000000</td>\n",
       "      <td>12563.00000</td>\n",
       "    </tr>\n",
       "    <tr>\n",
       "      <th>max</th>\n",
       "      <td>680.000000</td>\n",
       "      <td>13883.00000</td>\n",
       "    </tr>\n",
       "  </tbody>\n",
       "</table>\n",
       "</div>"
      ],
      "text/plain": [
       "       prompt lenght  __index_level_0__\n",
       "count     353.000000          353.00000\n",
       "mean      200.560907        11243.00000\n",
       "std        99.668184         1530.69837\n",
       "min        32.000000         8603.00000\n",
       "25%       141.000000         9923.00000\n",
       "50%       195.000000        11243.00000\n",
       "75%       237.000000        12563.00000\n",
       "max       680.000000        13883.00000"
      ]
     },
     "metadata": {},
     "output_type": "display_data"
    },
    {
     "name": "stdout",
     "output_type": "stream",
     "text": [
      "zeroshot_paper_in_train: 0\n",
      "zeroshot_paper_in_validation: 0\n",
      "train_paper_in_validation: 0\n",
      "validation_paper_in_zeroshot: 0\n"
     ]
    },
    {
     "data": {
      "application/vnd.jupyter.widget-view+json": {
       "model_id": "c361e54fc1e9461ab5669f31cd78e8c5",
       "version_major": 2,
       "version_minor": 0
      },
      "text/plain": [
       "Saving the dataset (0/1 shards):   0%|          | 0/10058 [00:00<?, ? examples/s]"
      ]
     },
     "metadata": {},
     "output_type": "display_data"
    },
    {
     "data": {
      "application/vnd.jupyter.widget-view+json": {
       "model_id": "1ff252847cff453d9778bd1fbccb705d",
       "version_major": 2,
       "version_minor": 0
      },
      "text/plain": [
       "Saving the dataset (0/1 shards):   0%|          | 0/939 [00:00<?, ? examples/s]"
      ]
     },
     "metadata": {},
     "output_type": "display_data"
    },
    {
     "data": {
      "application/vnd.jupyter.widget-view+json": {
       "model_id": "0ac5f00f80c74e76bfd8f6e2855790e4",
       "version_major": 2,
       "version_minor": 0
      },
      "text/plain": [
       "Saving the dataset (0/1 shards):   0%|          | 0/353 [00:00<?, ? examples/s]"
      ]
     },
     "metadata": {},
     "output_type": "display_data"
    },
    {
     "name": "stderr",
     "output_type": "stream",
     "text": [
      "100%|██████████| 926/926 [09:10<00:00,  1.68it/s] \n"
     ]
    },
    {
     "name": "stdout",
     "output_type": "stream",
     "text": [
      "Missed_parsing_zero 0\n",
      "Lenght papers_to_drop in zeroshot based on train: 573\n"
     ]
    },
    {
     "name": "stderr",
     "output_type": "stream",
     "text": [
      "100%|██████████| 926/926 [00:00<00:00, 77613.31it/s]"
     ]
    },
    {
     "name": "stdout",
     "output_type": "stream",
     "text": [
      "408\n"
     ]
    },
    {
     "name": "stderr",
     "output_type": "stream",
     "text": [
      "\n"
     ]
    },
    {
     "data": {
      "text/html": [
       "<div>\n",
       "<style scoped>\n",
       "    .dataframe tbody tr th:only-of-type {\n",
       "        vertical-align: middle;\n",
       "    }\n",
       "\n",
       "    .dataframe tbody tr th {\n",
       "        vertical-align: top;\n",
       "    }\n",
       "\n",
       "    .dataframe thead th {\n",
       "        text-align: right;\n",
       "    }\n",
       "</style>\n",
       "<table border=\"1\" class=\"dataframe\">\n",
       "  <thead>\n",
       "    <tr style=\"text-align: right;\">\n",
       "      <th></th>\n",
       "      <th>prompt lenght</th>\n",
       "      <th>__index_level_0__</th>\n",
       "    </tr>\n",
       "  </thead>\n",
       "  <tbody>\n",
       "    <tr>\n",
       "      <th>count</th>\n",
       "      <td>10058.000000</td>\n",
       "      <td>10058.000000</td>\n",
       "    </tr>\n",
       "    <tr>\n",
       "      <th>mean</th>\n",
       "      <td>491.707298</td>\n",
       "      <td>75436.500000</td>\n",
       "    </tr>\n",
       "    <tr>\n",
       "      <th>std</th>\n",
       "      <td>398.739365</td>\n",
       "      <td>43554.582566</td>\n",
       "    </tr>\n",
       "    <tr>\n",
       "      <th>min</th>\n",
       "      <td>33.000000</td>\n",
       "      <td>9.000000</td>\n",
       "    </tr>\n",
       "    <tr>\n",
       "      <th>25%</th>\n",
       "      <td>222.000000</td>\n",
       "      <td>37722.750000</td>\n",
       "    </tr>\n",
       "    <tr>\n",
       "      <th>50%</th>\n",
       "      <td>398.000000</td>\n",
       "      <td>75436.500000</td>\n",
       "    </tr>\n",
       "    <tr>\n",
       "      <th>75%</th>\n",
       "      <td>646.000000</td>\n",
       "      <td>113150.250000</td>\n",
       "    </tr>\n",
       "    <tr>\n",
       "      <th>max</th>\n",
       "      <td>7350.000000</td>\n",
       "      <td>150864.000000</td>\n",
       "    </tr>\n",
       "  </tbody>\n",
       "</table>\n",
       "</div>"
      ],
      "text/plain": [
       "       prompt lenght  __index_level_0__\n",
       "count   10058.000000       10058.000000\n",
       "mean      491.707298       75436.500000\n",
       "std       398.739365       43554.582566\n",
       "min        33.000000           9.000000\n",
       "25%       222.000000       37722.750000\n",
       "50%       398.000000       75436.500000\n",
       "75%       646.000000      113150.250000\n",
       "max      7350.000000      150864.000000"
      ]
     },
     "metadata": {},
     "output_type": "display_data"
    },
    {
     "data": {
      "text/html": [
       "<div>\n",
       "<style scoped>\n",
       "    .dataframe tbody tr th:only-of-type {\n",
       "        vertical-align: middle;\n",
       "    }\n",
       "\n",
       "    .dataframe tbody tr th {\n",
       "        vertical-align: top;\n",
       "    }\n",
       "\n",
       "    .dataframe thead th {\n",
       "        text-align: right;\n",
       "    }\n",
       "</style>\n",
       "<table border=\"1\" class=\"dataframe\">\n",
       "  <thead>\n",
       "    <tr style=\"text-align: right;\">\n",
       "      <th></th>\n",
       "      <th>prompt lenght</th>\n",
       "      <th>__index_level_0__</th>\n",
       "    </tr>\n",
       "  </thead>\n",
       "  <tbody>\n",
       "    <tr>\n",
       "      <th>count</th>\n",
       "      <td>939.000000</td>\n",
       "      <td>939.000000</td>\n",
       "    </tr>\n",
       "    <tr>\n",
       "      <th>mean</th>\n",
       "      <td>574.654952</td>\n",
       "      <td>7443.408946</td>\n",
       "    </tr>\n",
       "    <tr>\n",
       "      <th>std</th>\n",
       "      <td>358.102912</td>\n",
       "      <td>4300.934395</td>\n",
       "    </tr>\n",
       "    <tr>\n",
       "      <th>min</th>\n",
       "      <td>32.000000</td>\n",
       "      <td>9.000000</td>\n",
       "    </tr>\n",
       "    <tr>\n",
       "      <th>25%</th>\n",
       "      <td>331.000000</td>\n",
       "      <td>3721.500000</td>\n",
       "    </tr>\n",
       "    <tr>\n",
       "      <th>50%</th>\n",
       "      <td>503.000000</td>\n",
       "      <td>7434.000000</td>\n",
       "    </tr>\n",
       "    <tr>\n",
       "      <th>75%</th>\n",
       "      <td>713.500000</td>\n",
       "      <td>11146.500000</td>\n",
       "    </tr>\n",
       "    <tr>\n",
       "      <th>max</th>\n",
       "      <td>3437.000000</td>\n",
       "      <td>14904.000000</td>\n",
       "    </tr>\n",
       "  </tbody>\n",
       "</table>\n",
       "</div>"
      ],
      "text/plain": [
       "       prompt lenght  __index_level_0__\n",
       "count     939.000000         939.000000\n",
       "mean      574.654952        7443.408946\n",
       "std       358.102912        4300.934395\n",
       "min        32.000000           9.000000\n",
       "25%       331.000000        3721.500000\n",
       "50%       503.000000        7434.000000\n",
       "75%       713.500000       11146.500000\n",
       "max      3437.000000       14904.000000"
      ]
     },
     "metadata": {},
     "output_type": "display_data"
    },
    {
     "data": {
      "text/html": [
       "<div>\n",
       "<style scoped>\n",
       "    .dataframe tbody tr th:only-of-type {\n",
       "        vertical-align: middle;\n",
       "    }\n",
       "\n",
       "    .dataframe tbody tr th {\n",
       "        vertical-align: top;\n",
       "    }\n",
       "\n",
       "    .dataframe thead th {\n",
       "        text-align: right;\n",
       "    }\n",
       "</style>\n",
       "<table border=\"1\" class=\"dataframe\">\n",
       "  <thead>\n",
       "    <tr style=\"text-align: right;\">\n",
       "      <th></th>\n",
       "      <th>prompt lenght</th>\n",
       "      <th>__index_level_0__</th>\n",
       "    </tr>\n",
       "  </thead>\n",
       "  <tbody>\n",
       "    <tr>\n",
       "      <th>count</th>\n",
       "      <td>353.000000</td>\n",
       "      <td>353.00000</td>\n",
       "    </tr>\n",
       "    <tr>\n",
       "      <th>mean</th>\n",
       "      <td>203.560907</td>\n",
       "      <td>11244.00000</td>\n",
       "    </tr>\n",
       "    <tr>\n",
       "      <th>std</th>\n",
       "      <td>99.668184</td>\n",
       "      <td>1530.69837</td>\n",
       "    </tr>\n",
       "    <tr>\n",
       "      <th>min</th>\n",
       "      <td>35.000000</td>\n",
       "      <td>8604.00000</td>\n",
       "    </tr>\n",
       "    <tr>\n",
       "      <th>25%</th>\n",
       "      <td>144.000000</td>\n",
       "      <td>9924.00000</td>\n",
       "    </tr>\n",
       "    <tr>\n",
       "      <th>50%</th>\n",
       "      <td>198.000000</td>\n",
       "      <td>11244.00000</td>\n",
       "    </tr>\n",
       "    <tr>\n",
       "      <th>75%</th>\n",
       "      <td>240.000000</td>\n",
       "      <td>12564.00000</td>\n",
       "    </tr>\n",
       "    <tr>\n",
       "      <th>max</th>\n",
       "      <td>683.000000</td>\n",
       "      <td>13884.00000</td>\n",
       "    </tr>\n",
       "  </tbody>\n",
       "</table>\n",
       "</div>"
      ],
      "text/plain": [
       "       prompt lenght  __index_level_0__\n",
       "count     353.000000          353.00000\n",
       "mean      203.560907        11244.00000\n",
       "std        99.668184         1530.69837\n",
       "min        35.000000         8604.00000\n",
       "25%       144.000000         9924.00000\n",
       "50%       198.000000        11244.00000\n",
       "75%       240.000000        12564.00000\n",
       "max       683.000000        13884.00000"
      ]
     },
     "metadata": {},
     "output_type": "display_data"
    },
    {
     "name": "stdout",
     "output_type": "stream",
     "text": [
      "zeroshot_paper_in_train: 0\n",
      "zeroshot_paper_in_validation: 0\n",
      "train_paper_in_validation: 0\n",
      "validation_paper_in_zeroshot: 0\n"
     ]
    },
    {
     "data": {
      "application/vnd.jupyter.widget-view+json": {
       "model_id": "cf268a48b6ae48769d2f0c44c31b7354",
       "version_major": 2,
       "version_minor": 0
      },
      "text/plain": [
       "Saving the dataset (0/1 shards):   0%|          | 0/10058 [00:00<?, ? examples/s]"
      ]
     },
     "metadata": {},
     "output_type": "display_data"
    },
    {
     "data": {
      "application/vnd.jupyter.widget-view+json": {
       "model_id": "9c083b165ab34268ae2d5c8c3c51241c",
       "version_major": 2,
       "version_minor": 0
      },
      "text/plain": [
       "Saving the dataset (0/1 shards):   0%|          | 0/939 [00:00<?, ? examples/s]"
      ]
     },
     "metadata": {},
     "output_type": "display_data"
    },
    {
     "data": {
      "application/vnd.jupyter.widget-view+json": {
       "model_id": "e319780f39b04378a2618293576fd61c",
       "version_major": 2,
       "version_minor": 0
      },
      "text/plain": [
       "Saving the dataset (0/1 shards):   0%|          | 0/353 [00:00<?, ? examples/s]"
      ]
     },
     "metadata": {},
     "output_type": "display_data"
    },
    {
     "name": "stderr",
     "output_type": "stream",
     "text": [
      "100%|██████████| 924/924 [09:12<00:00,  1.67it/s] \n"
     ]
    },
    {
     "name": "stdout",
     "output_type": "stream",
     "text": [
      "Missed_parsing_zero 0\n",
      "Lenght papers_to_drop in zeroshot based on train: 572\n"
     ]
    },
    {
     "name": "stderr",
     "output_type": "stream",
     "text": [
      "100%|██████████| 924/924 [00:00<00:00, 75726.62it/s]"
     ]
    },
    {
     "name": "stdout",
     "output_type": "stream",
     "text": [
      "407\n"
     ]
    },
    {
     "name": "stderr",
     "output_type": "stream",
     "text": [
      "\n"
     ]
    },
    {
     "data": {
      "text/html": [
       "<div>\n",
       "<style scoped>\n",
       "    .dataframe tbody tr th:only-of-type {\n",
       "        vertical-align: middle;\n",
       "    }\n",
       "\n",
       "    .dataframe tbody tr th {\n",
       "        vertical-align: top;\n",
       "    }\n",
       "\n",
       "    .dataframe thead th {\n",
       "        text-align: right;\n",
       "    }\n",
       "</style>\n",
       "<table border=\"1\" class=\"dataframe\">\n",
       "  <thead>\n",
       "    <tr style=\"text-align: right;\">\n",
       "      <th></th>\n",
       "      <th>prompt lenght</th>\n",
       "      <th>__index_level_0__</th>\n",
       "    </tr>\n",
       "  </thead>\n",
       "  <tbody>\n",
       "    <tr>\n",
       "      <th>count</th>\n",
       "      <td>10051.000000</td>\n",
       "      <td>10051.000000</td>\n",
       "    </tr>\n",
       "    <tr>\n",
       "      <th>mean</th>\n",
       "      <td>484.701622</td>\n",
       "      <td>75455.098995</td>\n",
       "    </tr>\n",
       "    <tr>\n",
       "      <th>std</th>\n",
       "      <td>398.858367</td>\n",
       "      <td>43559.044436</td>\n",
       "    </tr>\n",
       "    <tr>\n",
       "      <th>min</th>\n",
       "      <td>26.000000</td>\n",
       "      <td>10.000000</td>\n",
       "    </tr>\n",
       "    <tr>\n",
       "      <th>25%</th>\n",
       "      <td>215.000000</td>\n",
       "      <td>37742.500000</td>\n",
       "    </tr>\n",
       "    <tr>\n",
       "      <th>50%</th>\n",
       "      <td>391.000000</td>\n",
       "      <td>75475.000000</td>\n",
       "    </tr>\n",
       "    <tr>\n",
       "      <th>75%</th>\n",
       "      <td>639.500000</td>\n",
       "      <td>113177.500000</td>\n",
       "    </tr>\n",
       "    <tr>\n",
       "      <th>max</th>\n",
       "      <td>7343.000000</td>\n",
       "      <td>150865.000000</td>\n",
       "    </tr>\n",
       "  </tbody>\n",
       "</table>\n",
       "</div>"
      ],
      "text/plain": [
       "       prompt lenght  __index_level_0__\n",
       "count   10051.000000       10051.000000\n",
       "mean      484.701622       75455.098995\n",
       "std       398.858367       43559.044436\n",
       "min        26.000000          10.000000\n",
       "25%       215.000000       37742.500000\n",
       "50%       391.000000       75475.000000\n",
       "75%       639.500000      113177.500000\n",
       "max      7343.000000      150865.000000"
      ]
     },
     "metadata": {},
     "output_type": "display_data"
    },
    {
     "data": {
      "text/html": [
       "<div>\n",
       "<style scoped>\n",
       "    .dataframe tbody tr th:only-of-type {\n",
       "        vertical-align: middle;\n",
       "    }\n",
       "\n",
       "    .dataframe tbody tr th {\n",
       "        vertical-align: top;\n",
       "    }\n",
       "\n",
       "    .dataframe thead th {\n",
       "        text-align: right;\n",
       "    }\n",
       "</style>\n",
       "<table border=\"1\" class=\"dataframe\">\n",
       "  <thead>\n",
       "    <tr style=\"text-align: right;\">\n",
       "      <th></th>\n",
       "      <th>prompt lenght</th>\n",
       "      <th>__index_level_0__</th>\n",
       "    </tr>\n",
       "  </thead>\n",
       "  <tbody>\n",
       "    <tr>\n",
       "      <th>count</th>\n",
       "      <td>937.000000</td>\n",
       "      <td>937.000000</td>\n",
       "    </tr>\n",
       "    <tr>\n",
       "      <th>mean</th>\n",
       "      <td>567.586980</td>\n",
       "      <td>7445.021345</td>\n",
       "    </tr>\n",
       "    <tr>\n",
       "      <th>std</th>\n",
       "      <td>358.481939</td>\n",
       "      <td>4304.324351</td>\n",
       "    </tr>\n",
       "    <tr>\n",
       "      <th>min</th>\n",
       "      <td>25.000000</td>\n",
       "      <td>10.000000</td>\n",
       "    </tr>\n",
       "    <tr>\n",
       "      <th>25%</th>\n",
       "      <td>324.000000</td>\n",
       "      <td>3715.000000</td>\n",
       "    </tr>\n",
       "    <tr>\n",
       "      <th>50%</th>\n",
       "      <td>495.000000</td>\n",
       "      <td>7435.000000</td>\n",
       "    </tr>\n",
       "    <tr>\n",
       "      <th>75%</th>\n",
       "      <td>708.000000</td>\n",
       "      <td>11155.000000</td>\n",
       "    </tr>\n",
       "    <tr>\n",
       "      <th>max</th>\n",
       "      <td>3430.000000</td>\n",
       "      <td>14905.000000</td>\n",
       "    </tr>\n",
       "  </tbody>\n",
       "</table>\n",
       "</div>"
      ],
      "text/plain": [
       "       prompt lenght  __index_level_0__\n",
       "count     937.000000         937.000000\n",
       "mean      567.586980        7445.021345\n",
       "std       358.481939        4304.324351\n",
       "min        25.000000          10.000000\n",
       "25%       324.000000        3715.000000\n",
       "50%       495.000000        7435.000000\n",
       "75%       708.000000       11155.000000\n",
       "max      3430.000000       14905.000000"
      ]
     },
     "metadata": {},
     "output_type": "display_data"
    },
    {
     "data": {
      "text/html": [
       "<div>\n",
       "<style scoped>\n",
       "    .dataframe tbody tr th:only-of-type {\n",
       "        vertical-align: middle;\n",
       "    }\n",
       "\n",
       "    .dataframe tbody tr th {\n",
       "        vertical-align: top;\n",
       "    }\n",
       "\n",
       "    .dataframe thead th {\n",
       "        text-align: right;\n",
       "    }\n",
       "</style>\n",
       "<table border=\"1\" class=\"dataframe\">\n",
       "  <thead>\n",
       "    <tr style=\"text-align: right;\">\n",
       "      <th></th>\n",
       "      <th>prompt lenght</th>\n",
       "      <th>__index_level_0__</th>\n",
       "    </tr>\n",
       "  </thead>\n",
       "  <tbody>\n",
       "    <tr>\n",
       "      <th>count</th>\n",
       "      <td>352.000000</td>\n",
       "      <td>352.000000</td>\n",
       "    </tr>\n",
       "    <tr>\n",
       "      <th>mean</th>\n",
       "      <td>196.417614</td>\n",
       "      <td>11240.951705</td>\n",
       "    </tr>\n",
       "    <tr>\n",
       "      <th>std</th>\n",
       "      <td>99.773641</td>\n",
       "      <td>1530.983713</td>\n",
       "    </tr>\n",
       "    <tr>\n",
       "      <th>min</th>\n",
       "      <td>28.000000</td>\n",
       "      <td>8605.000000</td>\n",
       "    </tr>\n",
       "    <tr>\n",
       "      <th>25%</th>\n",
       "      <td>137.000000</td>\n",
       "      <td>9921.250000</td>\n",
       "    </tr>\n",
       "    <tr>\n",
       "      <th>50%</th>\n",
       "      <td>191.000000</td>\n",
       "      <td>11237.500000</td>\n",
       "    </tr>\n",
       "    <tr>\n",
       "      <th>75%</th>\n",
       "      <td>233.000000</td>\n",
       "      <td>12553.750000</td>\n",
       "    </tr>\n",
       "    <tr>\n",
       "      <th>max</th>\n",
       "      <td>676.000000</td>\n",
       "      <td>13885.000000</td>\n",
       "    </tr>\n",
       "  </tbody>\n",
       "</table>\n",
       "</div>"
      ],
      "text/plain": [
       "       prompt lenght  __index_level_0__\n",
       "count     352.000000         352.000000\n",
       "mean      196.417614       11240.951705\n",
       "std        99.773641        1530.983713\n",
       "min        28.000000        8605.000000\n",
       "25%       137.000000        9921.250000\n",
       "50%       191.000000       11237.500000\n",
       "75%       233.000000       12553.750000\n",
       "max       676.000000       13885.000000"
      ]
     },
     "metadata": {},
     "output_type": "display_data"
    },
    {
     "name": "stdout",
     "output_type": "stream",
     "text": [
      "zeroshot_paper_in_train: 0\n",
      "zeroshot_paper_in_validation: 0\n",
      "train_paper_in_validation: 0\n",
      "validation_paper_in_zeroshot: 0\n"
     ]
    },
    {
     "data": {
      "application/vnd.jupyter.widget-view+json": {
       "model_id": "3efddcec6a744657b9120115ce09d638",
       "version_major": 2,
       "version_minor": 0
      },
      "text/plain": [
       "Saving the dataset (0/1 shards):   0%|          | 0/10051 [00:00<?, ? examples/s]"
      ]
     },
     "metadata": {},
     "output_type": "display_data"
    },
    {
     "data": {
      "application/vnd.jupyter.widget-view+json": {
       "model_id": "4d3e773cc21c48f08be280eea6c0d4a2",
       "version_major": 2,
       "version_minor": 0
      },
      "text/plain": [
       "Saving the dataset (0/1 shards):   0%|          | 0/937 [00:00<?, ? examples/s]"
      ]
     },
     "metadata": {},
     "output_type": "display_data"
    },
    {
     "data": {
      "application/vnd.jupyter.widget-view+json": {
       "model_id": "d6010c9aaac0419c8708716cc666eac9",
       "version_major": 2,
       "version_minor": 0
      },
      "text/plain": [
       "Saving the dataset (0/1 shards):   0%|          | 0/352 [00:00<?, ? examples/s]"
      ]
     },
     "metadata": {},
     "output_type": "display_data"
    },
    {
     "name": "stderr",
     "output_type": "stream",
     "text": [
      "100%|██████████| 926/926 [09:13<00:00,  1.67it/s] \n"
     ]
    },
    {
     "name": "stdout",
     "output_type": "stream",
     "text": [
      "Missed_parsing_zero 0\n",
      "Lenght papers_to_drop in zeroshot based on train: 573\n"
     ]
    },
    {
     "name": "stderr",
     "output_type": "stream",
     "text": [
      "100%|██████████| 926/926 [00:00<00:00, 76326.01it/s]"
     ]
    },
    {
     "name": "stdout",
     "output_type": "stream",
     "text": [
      "408\n"
     ]
    },
    {
     "name": "stderr",
     "output_type": "stream",
     "text": [
      "\n"
     ]
    },
    {
     "data": {
      "text/html": [
       "<div>\n",
       "<style scoped>\n",
       "    .dataframe tbody tr th:only-of-type {\n",
       "        vertical-align: middle;\n",
       "    }\n",
       "\n",
       "    .dataframe tbody tr th {\n",
       "        vertical-align: top;\n",
       "    }\n",
       "\n",
       "    .dataframe thead th {\n",
       "        text-align: right;\n",
       "    }\n",
       "</style>\n",
       "<table border=\"1\" class=\"dataframe\">\n",
       "  <thead>\n",
       "    <tr style=\"text-align: right;\">\n",
       "      <th></th>\n",
       "      <th>prompt lenght</th>\n",
       "      <th>__index_level_0__</th>\n",
       "    </tr>\n",
       "  </thead>\n",
       "  <tbody>\n",
       "    <tr>\n",
       "      <th>count</th>\n",
       "      <td>10058.000000</td>\n",
       "      <td>10058.000000</td>\n",
       "    </tr>\n",
       "    <tr>\n",
       "      <th>mean</th>\n",
       "      <td>487.707298</td>\n",
       "      <td>75438.500000</td>\n",
       "    </tr>\n",
       "    <tr>\n",
       "      <th>std</th>\n",
       "      <td>398.739365</td>\n",
       "      <td>43554.582566</td>\n",
       "    </tr>\n",
       "    <tr>\n",
       "      <th>min</th>\n",
       "      <td>29.000000</td>\n",
       "      <td>11.000000</td>\n",
       "    </tr>\n",
       "    <tr>\n",
       "      <th>25%</th>\n",
       "      <td>218.000000</td>\n",
       "      <td>37724.750000</td>\n",
       "    </tr>\n",
       "    <tr>\n",
       "      <th>50%</th>\n",
       "      <td>394.000000</td>\n",
       "      <td>75438.500000</td>\n",
       "    </tr>\n",
       "    <tr>\n",
       "      <th>75%</th>\n",
       "      <td>642.000000</td>\n",
       "      <td>113152.250000</td>\n",
       "    </tr>\n",
       "    <tr>\n",
       "      <th>max</th>\n",
       "      <td>7346.000000</td>\n",
       "      <td>150866.000000</td>\n",
       "    </tr>\n",
       "  </tbody>\n",
       "</table>\n",
       "</div>"
      ],
      "text/plain": [
       "       prompt lenght  __index_level_0__\n",
       "count   10058.000000       10058.000000\n",
       "mean      487.707298       75438.500000\n",
       "std       398.739365       43554.582566\n",
       "min        29.000000          11.000000\n",
       "25%       218.000000       37724.750000\n",
       "50%       394.000000       75438.500000\n",
       "75%       642.000000      113152.250000\n",
       "max      7346.000000      150866.000000"
      ]
     },
     "metadata": {},
     "output_type": "display_data"
    },
    {
     "data": {
      "text/html": [
       "<div>\n",
       "<style scoped>\n",
       "    .dataframe tbody tr th:only-of-type {\n",
       "        vertical-align: middle;\n",
       "    }\n",
       "\n",
       "    .dataframe tbody tr th {\n",
       "        vertical-align: top;\n",
       "    }\n",
       "\n",
       "    .dataframe thead th {\n",
       "        text-align: right;\n",
       "    }\n",
       "</style>\n",
       "<table border=\"1\" class=\"dataframe\">\n",
       "  <thead>\n",
       "    <tr style=\"text-align: right;\">\n",
       "      <th></th>\n",
       "      <th>prompt lenght</th>\n",
       "      <th>__index_level_0__</th>\n",
       "    </tr>\n",
       "  </thead>\n",
       "  <tbody>\n",
       "    <tr>\n",
       "      <th>count</th>\n",
       "      <td>939.000000</td>\n",
       "      <td>939.000000</td>\n",
       "    </tr>\n",
       "    <tr>\n",
       "      <th>mean</th>\n",
       "      <td>570.654952</td>\n",
       "      <td>7445.408946</td>\n",
       "    </tr>\n",
       "    <tr>\n",
       "      <th>std</th>\n",
       "      <td>358.102912</td>\n",
       "      <td>4300.934395</td>\n",
       "    </tr>\n",
       "    <tr>\n",
       "      <th>min</th>\n",
       "      <td>28.000000</td>\n",
       "      <td>11.000000</td>\n",
       "    </tr>\n",
       "    <tr>\n",
       "      <th>25%</th>\n",
       "      <td>327.000000</td>\n",
       "      <td>3723.500000</td>\n",
       "    </tr>\n",
       "    <tr>\n",
       "      <th>50%</th>\n",
       "      <td>499.000000</td>\n",
       "      <td>7436.000000</td>\n",
       "    </tr>\n",
       "    <tr>\n",
       "      <th>75%</th>\n",
       "      <td>709.500000</td>\n",
       "      <td>11148.500000</td>\n",
       "    </tr>\n",
       "    <tr>\n",
       "      <th>max</th>\n",
       "      <td>3433.000000</td>\n",
       "      <td>14906.000000</td>\n",
       "    </tr>\n",
       "  </tbody>\n",
       "</table>\n",
       "</div>"
      ],
      "text/plain": [
       "       prompt lenght  __index_level_0__\n",
       "count     939.000000         939.000000\n",
       "mean      570.654952        7445.408946\n",
       "std       358.102912        4300.934395\n",
       "min        28.000000          11.000000\n",
       "25%       327.000000        3723.500000\n",
       "50%       499.000000        7436.000000\n",
       "75%       709.500000       11148.500000\n",
       "max      3433.000000       14906.000000"
      ]
     },
     "metadata": {},
     "output_type": "display_data"
    },
    {
     "data": {
      "text/html": [
       "<div>\n",
       "<style scoped>\n",
       "    .dataframe tbody tr th:only-of-type {\n",
       "        vertical-align: middle;\n",
       "    }\n",
       "\n",
       "    .dataframe tbody tr th {\n",
       "        vertical-align: top;\n",
       "    }\n",
       "\n",
       "    .dataframe thead th {\n",
       "        text-align: right;\n",
       "    }\n",
       "</style>\n",
       "<table border=\"1\" class=\"dataframe\">\n",
       "  <thead>\n",
       "    <tr style=\"text-align: right;\">\n",
       "      <th></th>\n",
       "      <th>prompt lenght</th>\n",
       "      <th>__index_level_0__</th>\n",
       "    </tr>\n",
       "  </thead>\n",
       "  <tbody>\n",
       "    <tr>\n",
       "      <th>count</th>\n",
       "      <td>353.000000</td>\n",
       "      <td>353.00000</td>\n",
       "    </tr>\n",
       "    <tr>\n",
       "      <th>mean</th>\n",
       "      <td>199.560907</td>\n",
       "      <td>11246.00000</td>\n",
       "    </tr>\n",
       "    <tr>\n",
       "      <th>std</th>\n",
       "      <td>99.668184</td>\n",
       "      <td>1530.69837</td>\n",
       "    </tr>\n",
       "    <tr>\n",
       "      <th>min</th>\n",
       "      <td>31.000000</td>\n",
       "      <td>8606.00000</td>\n",
       "    </tr>\n",
       "    <tr>\n",
       "      <th>25%</th>\n",
       "      <td>140.000000</td>\n",
       "      <td>9926.00000</td>\n",
       "    </tr>\n",
       "    <tr>\n",
       "      <th>50%</th>\n",
       "      <td>194.000000</td>\n",
       "      <td>11246.00000</td>\n",
       "    </tr>\n",
       "    <tr>\n",
       "      <th>75%</th>\n",
       "      <td>236.000000</td>\n",
       "      <td>12566.00000</td>\n",
       "    </tr>\n",
       "    <tr>\n",
       "      <th>max</th>\n",
       "      <td>679.000000</td>\n",
       "      <td>13886.00000</td>\n",
       "    </tr>\n",
       "  </tbody>\n",
       "</table>\n",
       "</div>"
      ],
      "text/plain": [
       "       prompt lenght  __index_level_0__\n",
       "count     353.000000          353.00000\n",
       "mean      199.560907        11246.00000\n",
       "std        99.668184         1530.69837\n",
       "min        31.000000         8606.00000\n",
       "25%       140.000000         9926.00000\n",
       "50%       194.000000        11246.00000\n",
       "75%       236.000000        12566.00000\n",
       "max       679.000000        13886.00000"
      ]
     },
     "metadata": {},
     "output_type": "display_data"
    },
    {
     "name": "stdout",
     "output_type": "stream",
     "text": [
      "zeroshot_paper_in_train: 0\n",
      "zeroshot_paper_in_validation: 0\n",
      "train_paper_in_validation: 0\n",
      "validation_paper_in_zeroshot: 0\n"
     ]
    },
    {
     "data": {
      "application/vnd.jupyter.widget-view+json": {
       "model_id": "e26b439b41094372a418f8f6a085ca0d",
       "version_major": 2,
       "version_minor": 0
      },
      "text/plain": [
       "Saving the dataset (0/1 shards):   0%|          | 0/10058 [00:00<?, ? examples/s]"
      ]
     },
     "metadata": {},
     "output_type": "display_data"
    },
    {
     "data": {
      "application/vnd.jupyter.widget-view+json": {
       "model_id": "c95f76af460547259bcb1991f0450431",
       "version_major": 2,
       "version_minor": 0
      },
      "text/plain": [
       "Saving the dataset (0/1 shards):   0%|          | 0/939 [00:00<?, ? examples/s]"
      ]
     },
     "metadata": {},
     "output_type": "display_data"
    },
    {
     "data": {
      "application/vnd.jupyter.widget-view+json": {
       "model_id": "49f4659760774988a33cece9cfe58eab",
       "version_major": 2,
       "version_minor": 0
      },
      "text/plain": [
       "Saving the dataset (0/1 shards):   0%|          | 0/353 [00:00<?, ? examples/s]"
      ]
     },
     "metadata": {},
     "output_type": "display_data"
    },
    {
     "name": "stderr",
     "output_type": "stream",
     "text": [
      "100%|██████████| 926/926 [09:11<00:00,  1.68it/s] \n"
     ]
    },
    {
     "name": "stdout",
     "output_type": "stream",
     "text": [
      "Missed_parsing_zero 0\n",
      "Lenght papers_to_drop in zeroshot based on train: 573\n"
     ]
    },
    {
     "name": "stderr",
     "output_type": "stream",
     "text": [
      "100%|██████████| 926/926 [00:00<00:00, 77192.20it/s]"
     ]
    },
    {
     "name": "stdout",
     "output_type": "stream",
     "text": [
      "408\n"
     ]
    },
    {
     "name": "stderr",
     "output_type": "stream",
     "text": [
      "\n"
     ]
    },
    {
     "data": {
      "text/html": [
       "<div>\n",
       "<style scoped>\n",
       "    .dataframe tbody tr th:only-of-type {\n",
       "        vertical-align: middle;\n",
       "    }\n",
       "\n",
       "    .dataframe tbody tr th {\n",
       "        vertical-align: top;\n",
       "    }\n",
       "\n",
       "    .dataframe thead th {\n",
       "        text-align: right;\n",
       "    }\n",
       "</style>\n",
       "<table border=\"1\" class=\"dataframe\">\n",
       "  <thead>\n",
       "    <tr style=\"text-align: right;\">\n",
       "      <th></th>\n",
       "      <th>prompt lenght</th>\n",
       "      <th>__index_level_0__</th>\n",
       "    </tr>\n",
       "  </thead>\n",
       "  <tbody>\n",
       "    <tr>\n",
       "      <th>count</th>\n",
       "      <td>10058.000000</td>\n",
       "      <td>10058.000000</td>\n",
       "    </tr>\n",
       "    <tr>\n",
       "      <th>mean</th>\n",
       "      <td>491.707298</td>\n",
       "      <td>75439.500000</td>\n",
       "    </tr>\n",
       "    <tr>\n",
       "      <th>std</th>\n",
       "      <td>398.739365</td>\n",
       "      <td>43554.582566</td>\n",
       "    </tr>\n",
       "    <tr>\n",
       "      <th>min</th>\n",
       "      <td>33.000000</td>\n",
       "      <td>12.000000</td>\n",
       "    </tr>\n",
       "    <tr>\n",
       "      <th>25%</th>\n",
       "      <td>222.000000</td>\n",
       "      <td>37725.750000</td>\n",
       "    </tr>\n",
       "    <tr>\n",
       "      <th>50%</th>\n",
       "      <td>398.000000</td>\n",
       "      <td>75439.500000</td>\n",
       "    </tr>\n",
       "    <tr>\n",
       "      <th>75%</th>\n",
       "      <td>646.000000</td>\n",
       "      <td>113153.250000</td>\n",
       "    </tr>\n",
       "    <tr>\n",
       "      <th>max</th>\n",
       "      <td>7350.000000</td>\n",
       "      <td>150867.000000</td>\n",
       "    </tr>\n",
       "  </tbody>\n",
       "</table>\n",
       "</div>"
      ],
      "text/plain": [
       "       prompt lenght  __index_level_0__\n",
       "count   10058.000000       10058.000000\n",
       "mean      491.707298       75439.500000\n",
       "std       398.739365       43554.582566\n",
       "min        33.000000          12.000000\n",
       "25%       222.000000       37725.750000\n",
       "50%       398.000000       75439.500000\n",
       "75%       646.000000      113153.250000\n",
       "max      7350.000000      150867.000000"
      ]
     },
     "metadata": {},
     "output_type": "display_data"
    },
    {
     "data": {
      "text/html": [
       "<div>\n",
       "<style scoped>\n",
       "    .dataframe tbody tr th:only-of-type {\n",
       "        vertical-align: middle;\n",
       "    }\n",
       "\n",
       "    .dataframe tbody tr th {\n",
       "        vertical-align: top;\n",
       "    }\n",
       "\n",
       "    .dataframe thead th {\n",
       "        text-align: right;\n",
       "    }\n",
       "</style>\n",
       "<table border=\"1\" class=\"dataframe\">\n",
       "  <thead>\n",
       "    <tr style=\"text-align: right;\">\n",
       "      <th></th>\n",
       "      <th>prompt lenght</th>\n",
       "      <th>__index_level_0__</th>\n",
       "    </tr>\n",
       "  </thead>\n",
       "  <tbody>\n",
       "    <tr>\n",
       "      <th>count</th>\n",
       "      <td>939.000000</td>\n",
       "      <td>939.000000</td>\n",
       "    </tr>\n",
       "    <tr>\n",
       "      <th>mean</th>\n",
       "      <td>574.654952</td>\n",
       "      <td>7446.408946</td>\n",
       "    </tr>\n",
       "    <tr>\n",
       "      <th>std</th>\n",
       "      <td>358.102912</td>\n",
       "      <td>4300.934395</td>\n",
       "    </tr>\n",
       "    <tr>\n",
       "      <th>min</th>\n",
       "      <td>32.000000</td>\n",
       "      <td>12.000000</td>\n",
       "    </tr>\n",
       "    <tr>\n",
       "      <th>25%</th>\n",
       "      <td>331.000000</td>\n",
       "      <td>3724.500000</td>\n",
       "    </tr>\n",
       "    <tr>\n",
       "      <th>50%</th>\n",
       "      <td>503.000000</td>\n",
       "      <td>7437.000000</td>\n",
       "    </tr>\n",
       "    <tr>\n",
       "      <th>75%</th>\n",
       "      <td>713.500000</td>\n",
       "      <td>11149.500000</td>\n",
       "    </tr>\n",
       "    <tr>\n",
       "      <th>max</th>\n",
       "      <td>3437.000000</td>\n",
       "      <td>14907.000000</td>\n",
       "    </tr>\n",
       "  </tbody>\n",
       "</table>\n",
       "</div>"
      ],
      "text/plain": [
       "       prompt lenght  __index_level_0__\n",
       "count     939.000000         939.000000\n",
       "mean      574.654952        7446.408946\n",
       "std       358.102912        4300.934395\n",
       "min        32.000000          12.000000\n",
       "25%       331.000000        3724.500000\n",
       "50%       503.000000        7437.000000\n",
       "75%       713.500000       11149.500000\n",
       "max      3437.000000       14907.000000"
      ]
     },
     "metadata": {},
     "output_type": "display_data"
    },
    {
     "data": {
      "text/html": [
       "<div>\n",
       "<style scoped>\n",
       "    .dataframe tbody tr th:only-of-type {\n",
       "        vertical-align: middle;\n",
       "    }\n",
       "\n",
       "    .dataframe tbody tr th {\n",
       "        vertical-align: top;\n",
       "    }\n",
       "\n",
       "    .dataframe thead th {\n",
       "        text-align: right;\n",
       "    }\n",
       "</style>\n",
       "<table border=\"1\" class=\"dataframe\">\n",
       "  <thead>\n",
       "    <tr style=\"text-align: right;\">\n",
       "      <th></th>\n",
       "      <th>prompt lenght</th>\n",
       "      <th>__index_level_0__</th>\n",
       "    </tr>\n",
       "  </thead>\n",
       "  <tbody>\n",
       "    <tr>\n",
       "      <th>count</th>\n",
       "      <td>353.000000</td>\n",
       "      <td>353.00000</td>\n",
       "    </tr>\n",
       "    <tr>\n",
       "      <th>mean</th>\n",
       "      <td>203.560907</td>\n",
       "      <td>11247.00000</td>\n",
       "    </tr>\n",
       "    <tr>\n",
       "      <th>std</th>\n",
       "      <td>99.668184</td>\n",
       "      <td>1530.69837</td>\n",
       "    </tr>\n",
       "    <tr>\n",
       "      <th>min</th>\n",
       "      <td>35.000000</td>\n",
       "      <td>8607.00000</td>\n",
       "    </tr>\n",
       "    <tr>\n",
       "      <th>25%</th>\n",
       "      <td>144.000000</td>\n",
       "      <td>9927.00000</td>\n",
       "    </tr>\n",
       "    <tr>\n",
       "      <th>50%</th>\n",
       "      <td>198.000000</td>\n",
       "      <td>11247.00000</td>\n",
       "    </tr>\n",
       "    <tr>\n",
       "      <th>75%</th>\n",
       "      <td>240.000000</td>\n",
       "      <td>12567.00000</td>\n",
       "    </tr>\n",
       "    <tr>\n",
       "      <th>max</th>\n",
       "      <td>683.000000</td>\n",
       "      <td>13887.00000</td>\n",
       "    </tr>\n",
       "  </tbody>\n",
       "</table>\n",
       "</div>"
      ],
      "text/plain": [
       "       prompt lenght  __index_level_0__\n",
       "count     353.000000          353.00000\n",
       "mean      203.560907        11247.00000\n",
       "std        99.668184         1530.69837\n",
       "min        35.000000         8607.00000\n",
       "25%       144.000000         9927.00000\n",
       "50%       198.000000        11247.00000\n",
       "75%       240.000000        12567.00000\n",
       "max       683.000000        13887.00000"
      ]
     },
     "metadata": {},
     "output_type": "display_data"
    },
    {
     "name": "stdout",
     "output_type": "stream",
     "text": [
      "zeroshot_paper_in_train: 0\n",
      "zeroshot_paper_in_validation: 0\n",
      "train_paper_in_validation: 0\n",
      "validation_paper_in_zeroshot: 0\n"
     ]
    },
    {
     "data": {
      "application/vnd.jupyter.widget-view+json": {
       "model_id": "b60ce91bb735401a82a63d183eb1f6f5",
       "version_major": 2,
       "version_minor": 0
      },
      "text/plain": [
       "Saving the dataset (0/1 shards):   0%|          | 0/10058 [00:00<?, ? examples/s]"
      ]
     },
     "metadata": {},
     "output_type": "display_data"
    },
    {
     "data": {
      "application/vnd.jupyter.widget-view+json": {
       "model_id": "cf57f84e755f4cb79c26ab18713802f1",
       "version_major": 2,
       "version_minor": 0
      },
      "text/plain": [
       "Saving the dataset (0/1 shards):   0%|          | 0/939 [00:00<?, ? examples/s]"
      ]
     },
     "metadata": {},
     "output_type": "display_data"
    },
    {
     "data": {
      "application/vnd.jupyter.widget-view+json": {
       "model_id": "b4046decb63a4f459722180d0eb01f55",
       "version_major": 2,
       "version_minor": 0
      },
      "text/plain": [
       "Saving the dataset (0/1 shards):   0%|          | 0/353 [00:00<?, ? examples/s]"
      ]
     },
     "metadata": {},
     "output_type": "display_data"
    },
    {
     "name": "stderr",
     "output_type": "stream",
     "text": [
      "100%|██████████| 926/926 [09:12<00:00,  1.68it/s] \n"
     ]
    },
    {
     "name": "stdout",
     "output_type": "stream",
     "text": [
      "Missed_parsing_zero 0\n",
      "Lenght papers_to_drop in zeroshot based on train: 573\n"
     ]
    },
    {
     "name": "stderr",
     "output_type": "stream",
     "text": [
      "100%|██████████| 926/926 [00:00<00:00, 76809.03it/s]"
     ]
    },
    {
     "name": "stdout",
     "output_type": "stream",
     "text": [
      "408\n"
     ]
    },
    {
     "name": "stderr",
     "output_type": "stream",
     "text": [
      "\n"
     ]
    },
    {
     "data": {
      "text/html": [
       "<div>\n",
       "<style scoped>\n",
       "    .dataframe tbody tr th:only-of-type {\n",
       "        vertical-align: middle;\n",
       "    }\n",
       "\n",
       "    .dataframe tbody tr th {\n",
       "        vertical-align: top;\n",
       "    }\n",
       "\n",
       "    .dataframe thead th {\n",
       "        text-align: right;\n",
       "    }\n",
       "</style>\n",
       "<table border=\"1\" class=\"dataframe\">\n",
       "  <thead>\n",
       "    <tr style=\"text-align: right;\">\n",
       "      <th></th>\n",
       "      <th>prompt lenght</th>\n",
       "      <th>__index_level_0__</th>\n",
       "    </tr>\n",
       "  </thead>\n",
       "  <tbody>\n",
       "    <tr>\n",
       "      <th>count</th>\n",
       "      <td>10058.000000</td>\n",
       "      <td>10058.000000</td>\n",
       "    </tr>\n",
       "    <tr>\n",
       "      <th>mean</th>\n",
       "      <td>492.707298</td>\n",
       "      <td>75440.500000</td>\n",
       "    </tr>\n",
       "    <tr>\n",
       "      <th>std</th>\n",
       "      <td>398.739365</td>\n",
       "      <td>43554.582566</td>\n",
       "    </tr>\n",
       "    <tr>\n",
       "      <th>min</th>\n",
       "      <td>34.000000</td>\n",
       "      <td>13.000000</td>\n",
       "    </tr>\n",
       "    <tr>\n",
       "      <th>25%</th>\n",
       "      <td>223.000000</td>\n",
       "      <td>37726.750000</td>\n",
       "    </tr>\n",
       "    <tr>\n",
       "      <th>50%</th>\n",
       "      <td>399.000000</td>\n",
       "      <td>75440.500000</td>\n",
       "    </tr>\n",
       "    <tr>\n",
       "      <th>75%</th>\n",
       "      <td>647.000000</td>\n",
       "      <td>113154.250000</td>\n",
       "    </tr>\n",
       "    <tr>\n",
       "      <th>max</th>\n",
       "      <td>7351.000000</td>\n",
       "      <td>150868.000000</td>\n",
       "    </tr>\n",
       "  </tbody>\n",
       "</table>\n",
       "</div>"
      ],
      "text/plain": [
       "       prompt lenght  __index_level_0__\n",
       "count   10058.000000       10058.000000\n",
       "mean      492.707298       75440.500000\n",
       "std       398.739365       43554.582566\n",
       "min        34.000000          13.000000\n",
       "25%       223.000000       37726.750000\n",
       "50%       399.000000       75440.500000\n",
       "75%       647.000000      113154.250000\n",
       "max      7351.000000      150868.000000"
      ]
     },
     "metadata": {},
     "output_type": "display_data"
    },
    {
     "data": {
      "text/html": [
       "<div>\n",
       "<style scoped>\n",
       "    .dataframe tbody tr th:only-of-type {\n",
       "        vertical-align: middle;\n",
       "    }\n",
       "\n",
       "    .dataframe tbody tr th {\n",
       "        vertical-align: top;\n",
       "    }\n",
       "\n",
       "    .dataframe thead th {\n",
       "        text-align: right;\n",
       "    }\n",
       "</style>\n",
       "<table border=\"1\" class=\"dataframe\">\n",
       "  <thead>\n",
       "    <tr style=\"text-align: right;\">\n",
       "      <th></th>\n",
       "      <th>prompt lenght</th>\n",
       "      <th>__index_level_0__</th>\n",
       "    </tr>\n",
       "  </thead>\n",
       "  <tbody>\n",
       "    <tr>\n",
       "      <th>count</th>\n",
       "      <td>939.000000</td>\n",
       "      <td>939.000000</td>\n",
       "    </tr>\n",
       "    <tr>\n",
       "      <th>mean</th>\n",
       "      <td>575.654952</td>\n",
       "      <td>7447.408946</td>\n",
       "    </tr>\n",
       "    <tr>\n",
       "      <th>std</th>\n",
       "      <td>358.102912</td>\n",
       "      <td>4300.934395</td>\n",
       "    </tr>\n",
       "    <tr>\n",
       "      <th>min</th>\n",
       "      <td>33.000000</td>\n",
       "      <td>13.000000</td>\n",
       "    </tr>\n",
       "    <tr>\n",
       "      <th>25%</th>\n",
       "      <td>332.000000</td>\n",
       "      <td>3725.500000</td>\n",
       "    </tr>\n",
       "    <tr>\n",
       "      <th>50%</th>\n",
       "      <td>504.000000</td>\n",
       "      <td>7438.000000</td>\n",
       "    </tr>\n",
       "    <tr>\n",
       "      <th>75%</th>\n",
       "      <td>714.500000</td>\n",
       "      <td>11150.500000</td>\n",
       "    </tr>\n",
       "    <tr>\n",
       "      <th>max</th>\n",
       "      <td>3438.000000</td>\n",
       "      <td>14908.000000</td>\n",
       "    </tr>\n",
       "  </tbody>\n",
       "</table>\n",
       "</div>"
      ],
      "text/plain": [
       "       prompt lenght  __index_level_0__\n",
       "count     939.000000         939.000000\n",
       "mean      575.654952        7447.408946\n",
       "std       358.102912        4300.934395\n",
       "min        33.000000          13.000000\n",
       "25%       332.000000        3725.500000\n",
       "50%       504.000000        7438.000000\n",
       "75%       714.500000       11150.500000\n",
       "max      3438.000000       14908.000000"
      ]
     },
     "metadata": {},
     "output_type": "display_data"
    },
    {
     "data": {
      "text/html": [
       "<div>\n",
       "<style scoped>\n",
       "    .dataframe tbody tr th:only-of-type {\n",
       "        vertical-align: middle;\n",
       "    }\n",
       "\n",
       "    .dataframe tbody tr th {\n",
       "        vertical-align: top;\n",
       "    }\n",
       "\n",
       "    .dataframe thead th {\n",
       "        text-align: right;\n",
       "    }\n",
       "</style>\n",
       "<table border=\"1\" class=\"dataframe\">\n",
       "  <thead>\n",
       "    <tr style=\"text-align: right;\">\n",
       "      <th></th>\n",
       "      <th>prompt lenght</th>\n",
       "      <th>__index_level_0__</th>\n",
       "    </tr>\n",
       "  </thead>\n",
       "  <tbody>\n",
       "    <tr>\n",
       "      <th>count</th>\n",
       "      <td>353.000000</td>\n",
       "      <td>353.00000</td>\n",
       "    </tr>\n",
       "    <tr>\n",
       "      <th>mean</th>\n",
       "      <td>204.560907</td>\n",
       "      <td>11248.00000</td>\n",
       "    </tr>\n",
       "    <tr>\n",
       "      <th>std</th>\n",
       "      <td>99.668184</td>\n",
       "      <td>1530.69837</td>\n",
       "    </tr>\n",
       "    <tr>\n",
       "      <th>min</th>\n",
       "      <td>36.000000</td>\n",
       "      <td>8608.00000</td>\n",
       "    </tr>\n",
       "    <tr>\n",
       "      <th>25%</th>\n",
       "      <td>145.000000</td>\n",
       "      <td>9928.00000</td>\n",
       "    </tr>\n",
       "    <tr>\n",
       "      <th>50%</th>\n",
       "      <td>199.000000</td>\n",
       "      <td>11248.00000</td>\n",
       "    </tr>\n",
       "    <tr>\n",
       "      <th>75%</th>\n",
       "      <td>241.000000</td>\n",
       "      <td>12568.00000</td>\n",
       "    </tr>\n",
       "    <tr>\n",
       "      <th>max</th>\n",
       "      <td>684.000000</td>\n",
       "      <td>13888.00000</td>\n",
       "    </tr>\n",
       "  </tbody>\n",
       "</table>\n",
       "</div>"
      ],
      "text/plain": [
       "       prompt lenght  __index_level_0__\n",
       "count     353.000000          353.00000\n",
       "mean      204.560907        11248.00000\n",
       "std        99.668184         1530.69837\n",
       "min        36.000000         8608.00000\n",
       "25%       145.000000         9928.00000\n",
       "50%       199.000000        11248.00000\n",
       "75%       241.000000        12568.00000\n",
       "max       684.000000        13888.00000"
      ]
     },
     "metadata": {},
     "output_type": "display_data"
    },
    {
     "name": "stdout",
     "output_type": "stream",
     "text": [
      "zeroshot_paper_in_train: 0\n",
      "zeroshot_paper_in_validation: 0\n",
      "train_paper_in_validation: 0\n",
      "validation_paper_in_zeroshot: 0\n"
     ]
    },
    {
     "data": {
      "application/vnd.jupyter.widget-view+json": {
       "model_id": "58eaf0dcfaf640cdb7301d3a43af0f3f",
       "version_major": 2,
       "version_minor": 0
      },
      "text/plain": [
       "Saving the dataset (0/1 shards):   0%|          | 0/10058 [00:00<?, ? examples/s]"
      ]
     },
     "metadata": {},
     "output_type": "display_data"
    },
    {
     "data": {
      "application/vnd.jupyter.widget-view+json": {
       "model_id": "a59523cb52de4954ba8a0485e9260f68",
       "version_major": 2,
       "version_minor": 0
      },
      "text/plain": [
       "Saving the dataset (0/1 shards):   0%|          | 0/939 [00:00<?, ? examples/s]"
      ]
     },
     "metadata": {},
     "output_type": "display_data"
    },
    {
     "data": {
      "application/vnd.jupyter.widget-view+json": {
       "model_id": "0581ceaf0b3a430d8d11aada892e6760",
       "version_major": 2,
       "version_minor": 0
      },
      "text/plain": [
       "Saving the dataset (0/1 shards):   0%|          | 0/353 [00:00<?, ? examples/s]"
      ]
     },
     "metadata": {},
     "output_type": "display_data"
    },
    {
     "name": "stderr",
     "output_type": "stream",
     "text": [
      "100%|██████████| 926/926 [09:11<00:00,  1.68it/s] \n"
     ]
    },
    {
     "name": "stdout",
     "output_type": "stream",
     "text": [
      "Missed_parsing_zero 0\n",
      "Lenght papers_to_drop in zeroshot based on train: 573\n"
     ]
    },
    {
     "name": "stderr",
     "output_type": "stream",
     "text": [
      "100%|██████████| 926/926 [00:00<00:00, 78289.17it/s]"
     ]
    },
    {
     "name": "stdout",
     "output_type": "stream",
     "text": [
      "408\n"
     ]
    },
    {
     "name": "stderr",
     "output_type": "stream",
     "text": [
      "\n"
     ]
    },
    {
     "data": {
      "text/html": [
       "<div>\n",
       "<style scoped>\n",
       "    .dataframe tbody tr th:only-of-type {\n",
       "        vertical-align: middle;\n",
       "    }\n",
       "\n",
       "    .dataframe tbody tr th {\n",
       "        vertical-align: top;\n",
       "    }\n",
       "\n",
       "    .dataframe thead th {\n",
       "        text-align: right;\n",
       "    }\n",
       "</style>\n",
       "<table border=\"1\" class=\"dataframe\">\n",
       "  <thead>\n",
       "    <tr style=\"text-align: right;\">\n",
       "      <th></th>\n",
       "      <th>prompt lenght</th>\n",
       "      <th>__index_level_0__</th>\n",
       "    </tr>\n",
       "  </thead>\n",
       "  <tbody>\n",
       "    <tr>\n",
       "      <th>count</th>\n",
       "      <td>10058.000000</td>\n",
       "      <td>10058.000000</td>\n",
       "    </tr>\n",
       "    <tr>\n",
       "      <th>mean</th>\n",
       "      <td>487.707298</td>\n",
       "      <td>75441.497216</td>\n",
       "    </tr>\n",
       "    <tr>\n",
       "      <th>std</th>\n",
       "      <td>398.739365</td>\n",
       "      <td>43554.584181</td>\n",
       "    </tr>\n",
       "    <tr>\n",
       "      <th>min</th>\n",
       "      <td>29.000000</td>\n",
       "      <td>14.000000</td>\n",
       "    </tr>\n",
       "    <tr>\n",
       "      <th>25%</th>\n",
       "      <td>218.000000</td>\n",
       "      <td>37727.750000</td>\n",
       "    </tr>\n",
       "    <tr>\n",
       "      <th>50%</th>\n",
       "      <td>394.000000</td>\n",
       "      <td>75441.500000</td>\n",
       "    </tr>\n",
       "    <tr>\n",
       "      <th>75%</th>\n",
       "      <td>642.000000</td>\n",
       "      <td>113155.250000</td>\n",
       "    </tr>\n",
       "    <tr>\n",
       "      <th>max</th>\n",
       "      <td>7346.000000</td>\n",
       "      <td>150869.000000</td>\n",
       "    </tr>\n",
       "  </tbody>\n",
       "</table>\n",
       "</div>"
      ],
      "text/plain": [
       "       prompt lenght  __index_level_0__\n",
       "count   10058.000000       10058.000000\n",
       "mean      487.707298       75441.497216\n",
       "std       398.739365       43554.584181\n",
       "min        29.000000          14.000000\n",
       "25%       218.000000       37727.750000\n",
       "50%       394.000000       75441.500000\n",
       "75%       642.000000      113155.250000\n",
       "max      7346.000000      150869.000000"
      ]
     },
     "metadata": {},
     "output_type": "display_data"
    },
    {
     "data": {
      "text/html": [
       "<div>\n",
       "<style scoped>\n",
       "    .dataframe tbody tr th:only-of-type {\n",
       "        vertical-align: middle;\n",
       "    }\n",
       "\n",
       "    .dataframe tbody tr th {\n",
       "        vertical-align: top;\n",
       "    }\n",
       "\n",
       "    .dataframe thead th {\n",
       "        text-align: right;\n",
       "    }\n",
       "</style>\n",
       "<table border=\"1\" class=\"dataframe\">\n",
       "  <thead>\n",
       "    <tr style=\"text-align: right;\">\n",
       "      <th></th>\n",
       "      <th>prompt lenght</th>\n",
       "      <th>__index_level_0__</th>\n",
       "    </tr>\n",
       "  </thead>\n",
       "  <tbody>\n",
       "    <tr>\n",
       "      <th>count</th>\n",
       "      <td>939.000000</td>\n",
       "      <td>939.000000</td>\n",
       "    </tr>\n",
       "    <tr>\n",
       "      <th>mean</th>\n",
       "      <td>570.654952</td>\n",
       "      <td>7448.400426</td>\n",
       "    </tr>\n",
       "    <tr>\n",
       "      <th>std</th>\n",
       "      <td>358.102912</td>\n",
       "      <td>4300.934968</td>\n",
       "    </tr>\n",
       "    <tr>\n",
       "      <th>min</th>\n",
       "      <td>28.000000</td>\n",
       "      <td>14.000000</td>\n",
       "    </tr>\n",
       "    <tr>\n",
       "      <th>25%</th>\n",
       "      <td>327.000000</td>\n",
       "      <td>3726.500000</td>\n",
       "    </tr>\n",
       "    <tr>\n",
       "      <th>50%</th>\n",
       "      <td>499.000000</td>\n",
       "      <td>7439.000000</td>\n",
       "    </tr>\n",
       "    <tr>\n",
       "      <th>75%</th>\n",
       "      <td>709.500000</td>\n",
       "      <td>11151.500000</td>\n",
       "    </tr>\n",
       "    <tr>\n",
       "      <th>max</th>\n",
       "      <td>3433.000000</td>\n",
       "      <td>14909.000000</td>\n",
       "    </tr>\n",
       "  </tbody>\n",
       "</table>\n",
       "</div>"
      ],
      "text/plain": [
       "       prompt lenght  __index_level_0__\n",
       "count     939.000000         939.000000\n",
       "mean      570.654952        7448.400426\n",
       "std       358.102912        4300.934968\n",
       "min        28.000000          14.000000\n",
       "25%       327.000000        3726.500000\n",
       "50%       499.000000        7439.000000\n",
       "75%       709.500000       11151.500000\n",
       "max      3433.000000       14909.000000"
      ]
     },
     "metadata": {},
     "output_type": "display_data"
    },
    {
     "data": {
      "text/html": [
       "<div>\n",
       "<style scoped>\n",
       "    .dataframe tbody tr th:only-of-type {\n",
       "        vertical-align: middle;\n",
       "    }\n",
       "\n",
       "    .dataframe tbody tr th {\n",
       "        vertical-align: top;\n",
       "    }\n",
       "\n",
       "    .dataframe thead th {\n",
       "        text-align: right;\n",
       "    }\n",
       "</style>\n",
       "<table border=\"1\" class=\"dataframe\">\n",
       "  <thead>\n",
       "    <tr style=\"text-align: right;\">\n",
       "      <th></th>\n",
       "      <th>prompt lenght</th>\n",
       "      <th>__index_level_0__</th>\n",
       "    </tr>\n",
       "  </thead>\n",
       "  <tbody>\n",
       "    <tr>\n",
       "      <th>count</th>\n",
       "      <td>353.000000</td>\n",
       "      <td>353.000000</td>\n",
       "    </tr>\n",
       "    <tr>\n",
       "      <th>mean</th>\n",
       "      <td>199.560907</td>\n",
       "      <td>11248.988669</td>\n",
       "    </tr>\n",
       "    <tr>\n",
       "      <th>std</th>\n",
       "      <td>99.668184</td>\n",
       "      <td>1530.687806</td>\n",
       "    </tr>\n",
       "    <tr>\n",
       "      <th>min</th>\n",
       "      <td>31.000000</td>\n",
       "      <td>8609.000000</td>\n",
       "    </tr>\n",
       "    <tr>\n",
       "      <th>25%</th>\n",
       "      <td>140.000000</td>\n",
       "      <td>9929.000000</td>\n",
       "    </tr>\n",
       "    <tr>\n",
       "      <th>50%</th>\n",
       "      <td>194.000000</td>\n",
       "      <td>11249.000000</td>\n",
       "    </tr>\n",
       "    <tr>\n",
       "      <th>75%</th>\n",
       "      <td>236.000000</td>\n",
       "      <td>12569.000000</td>\n",
       "    </tr>\n",
       "    <tr>\n",
       "      <th>max</th>\n",
       "      <td>679.000000</td>\n",
       "      <td>13889.000000</td>\n",
       "    </tr>\n",
       "  </tbody>\n",
       "</table>\n",
       "</div>"
      ],
      "text/plain": [
       "       prompt lenght  __index_level_0__\n",
       "count     353.000000         353.000000\n",
       "mean      199.560907       11248.988669\n",
       "std        99.668184        1530.687806\n",
       "min        31.000000        8609.000000\n",
       "25%       140.000000        9929.000000\n",
       "50%       194.000000       11249.000000\n",
       "75%       236.000000       12569.000000\n",
       "max       679.000000       13889.000000"
      ]
     },
     "metadata": {},
     "output_type": "display_data"
    },
    {
     "name": "stdout",
     "output_type": "stream",
     "text": [
      "zeroshot_paper_in_train: 0\n",
      "zeroshot_paper_in_validation: 0\n",
      "train_paper_in_validation: 0\n",
      "validation_paper_in_zeroshot: 0\n"
     ]
    },
    {
     "data": {
      "application/vnd.jupyter.widget-view+json": {
       "model_id": "0516371413ae4970ad1590283d31e64e",
       "version_major": 2,
       "version_minor": 0
      },
      "text/plain": [
       "Saving the dataset (0/1 shards):   0%|          | 0/10058 [00:00<?, ? examples/s]"
      ]
     },
     "metadata": {},
     "output_type": "display_data"
    },
    {
     "data": {
      "application/vnd.jupyter.widget-view+json": {
       "model_id": "c046e7cf374c4fcebb3473fb92563942",
       "version_major": 2,
       "version_minor": 0
      },
      "text/plain": [
       "Saving the dataset (0/1 shards):   0%|          | 0/939 [00:00<?, ? examples/s]"
      ]
     },
     "metadata": {},
     "output_type": "display_data"
    },
    {
     "data": {
      "application/vnd.jupyter.widget-view+json": {
       "model_id": "b7cb739af9a4409bbc2051425bbad147",
       "version_major": 2,
       "version_minor": 0
      },
      "text/plain": [
       "Saving the dataset (0/1 shards):   0%|          | 0/353 [00:00<?, ? examples/s]"
      ]
     },
     "metadata": {},
     "output_type": "display_data"
    }
   ],
   "source": [
    "for drop_id in range(1, 8):\n",
    "    print(f\"DROP: {drop_id}\")\n",
    "    dataset_path = f\"../data/LLLM_AUGMENTED_SUMMARIZED_WITH_ID_ZEROSHOT_TDMS_DROP_{drop_id}_DOCTEAT/fold1\"\n",
    "\n",
    "    dataset_dict = DatasetDict.load_from_disk(f\"{dataset_path}\")\n",
    "        \n",
    "    dfs = {split: dataset.to_pandas() for split, dataset in dataset_dict.items()}\n",
    "    \n",
    "    zeroshot_papers_to_drop_no_lb = remove_data_leakage(dfs, source=\"zeroshot\", target=\"train\", THRESHOLD=90)\n",
    "    \n",
    "    dfs['zeroshot'].drop_duplicates(subset='id', inplace=True)\n",
    "    records = dfs['zeroshot'].to_dict(\"records\")\n",
    "    validation_papers_to_drop_no_lb = set()\n",
    "    for row in tqdm(records, total=len(records)):\n",
    "        # if row['id'] in dfs['train']['id'].to_list():\n",
    "        #     duplicate+=1\n",
    "        if row['id'] in dfs['validation']['id'].to_list():\n",
    "            validation_papers_to_drop_no_lb.add(row['id'])\n",
    "            \n",
    "    print(len(validation_papers_to_drop_no_lb))\n",
    "    \n",
    "    # Filtering the DataFrame\n",
    "    dfs['train'].drop_duplicates(subset='id', inplace=True)\n",
    "    display(dfs['train'].describe())\n",
    "\n",
    "    # Filtering the DataFrame\n",
    "    dfs['validation'] = dfs['validation'][~dfs['validation']['id'].isin(validation_papers_to_drop_no_lb)]\n",
    "    dfs['validation'].drop_duplicates(subset='id', inplace=True)\n",
    "    display(dfs['validation'].describe())\n",
    "\n",
    "    # Filtering the DataFrame\n",
    "    dfs['zeroshot'] = dfs['zeroshot'][~dfs['zeroshot']['id'].isin(zeroshot_papers_to_drop_no_lb)]\n",
    "    dfs['zeroshot'].drop_duplicates(subset='id', inplace=True)\n",
    "    display(dfs['zeroshot'].describe())\n",
    "    \n",
    "    dfs['train'].drop([\"template\", \"__index_level_0__\"], inplace=True, axis=1)\n",
    "    dfs['validation'].drop([\"template\", \"__index_level_0__\"], inplace=True, axis=1)\n",
    "    dfs['zeroshot'].drop([\"template\", \"__index_level_0__\"], inplace=True, axis=1)\n",
    "\n",
    "    verify_data_integrity(dfs)\n",
    "    \n",
    "    dataset = DatasetDict({\n",
    "        \"train\": Dataset.from_pandas(dfs['train']),\n",
    "        \"validation\": Dataset.from_pandas(dfs['validation']),\n",
    "        \"zeroshot\": Dataset.from_pandas(dfs['zeroshot'])\n",
    "    })\n",
    "\n",
    "    dataset.save_to_disk(f\"../data/LEADERBOARDS_DOCTEAT_TDMS_NO_TEMPLATES_DROP_{drop_id}_STRICT\")"
   ]
  },
  {
   "cell_type": "markdown",
   "id": "5457854a",
   "metadata": {},
   "source": [
    "## DOCTEAT"
   ]
  },
  {
   "cell_type": "markdown",
   "id": "fe5c30b2",
   "metadata": {},
   "source": [
    "### RELAX"
   ]
  },
  {
   "cell_type": "code",
   "execution_count": null,
   "id": "29575aef",
   "metadata": {},
   "outputs": [],
   "source": [
    "dataset_path = f\"../data/LLLM_AUGMENTED_SUMMARIZED_ZEROSHOT_TDMS_NO_TEMPLATE_DOCTEAT/fold1\"\n",
    "\n",
    "dataset_dict = DatasetDict.load_from_disk(f\"{dataset_path}\")\n",
    "    \n",
    "dfs = {split: dataset.to_pandas() for split, dataset in dataset_dict.items()}"
   ]
  },
  {
   "cell_type": "code",
   "execution_count": null,
   "id": "ffe90a66",
   "metadata": {},
   "outputs": [
    {
     "data": {
      "text/html": [
       "<div>\n",
       "<style scoped>\n",
       "    .dataframe tbody tr th:only-of-type {\n",
       "        vertical-align: middle;\n",
       "    }\n",
       "\n",
       "    .dataframe tbody tr th {\n",
       "        vertical-align: top;\n",
       "    }\n",
       "\n",
       "    .dataframe thead th {\n",
       "        text-align: right;\n",
       "    }\n",
       "</style>\n",
       "<table border=\"1\" class=\"dataframe\">\n",
       "  <thead>\n",
       "    <tr style=\"text-align: right;\">\n",
       "      <th></th>\n",
       "      <th>prompt lenght</th>\n",
       "      <th>__index_level_0__</th>\n",
       "    </tr>\n",
       "  </thead>\n",
       "  <tbody>\n",
       "    <tr>\n",
       "      <th>count</th>\n",
       "      <td>150870.000000</td>\n",
       "      <td>150870.000000</td>\n",
       "    </tr>\n",
       "    <tr>\n",
       "      <th>mean</th>\n",
       "      <td>485.707298</td>\n",
       "      <td>75434.500000</td>\n",
       "    </tr>\n",
       "    <tr>\n",
       "      <th>std</th>\n",
       "      <td>398.720864</td>\n",
       "      <td>43552.561894</td>\n",
       "    </tr>\n",
       "    <tr>\n",
       "      <th>min</th>\n",
       "      <td>27.000000</td>\n",
       "      <td>0.000000</td>\n",
       "    </tr>\n",
       "    <tr>\n",
       "      <th>25%</th>\n",
       "      <td>216.000000</td>\n",
       "      <td>37717.250000</td>\n",
       "    </tr>\n",
       "    <tr>\n",
       "      <th>50%</th>\n",
       "      <td>392.000000</td>\n",
       "      <td>75434.500000</td>\n",
       "    </tr>\n",
       "    <tr>\n",
       "      <th>75%</th>\n",
       "      <td>640.000000</td>\n",
       "      <td>113151.750000</td>\n",
       "    </tr>\n",
       "    <tr>\n",
       "      <th>max</th>\n",
       "      <td>7344.000000</td>\n",
       "      <td>150869.000000</td>\n",
       "    </tr>\n",
       "  </tbody>\n",
       "</table>\n",
       "</div>"
      ],
      "text/plain": [
       "       prompt lenght  __index_level_0__\n",
       "count  150870.000000      150870.000000\n",
       "mean      485.707298       75434.500000\n",
       "std       398.720864       43552.561894\n",
       "min        27.000000           0.000000\n",
       "25%       216.000000       37717.250000\n",
       "50%       392.000000       75434.500000\n",
       "75%       640.000000      113151.750000\n",
       "max      7344.000000      150869.000000"
      ]
     },
     "execution_count": 33,
     "metadata": {},
     "output_type": "execute_result"
    }
   ],
   "source": [
    "dfs['train'].describe()"
   ]
  },
  {
   "cell_type": "code",
   "execution_count": null,
   "id": "066ed3b8",
   "metadata": {},
   "outputs": [
    {
     "data": {
      "text/html": [
       "<div>\n",
       "<style scoped>\n",
       "    .dataframe tbody tr th:only-of-type {\n",
       "        vertical-align: middle;\n",
       "    }\n",
       "\n",
       "    .dataframe tbody tr th {\n",
       "        vertical-align: top;\n",
       "    }\n",
       "\n",
       "    .dataframe thead th {\n",
       "        text-align: right;\n",
       "    }\n",
       "</style>\n",
       "<table border=\"1\" class=\"dataframe\">\n",
       "  <thead>\n",
       "    <tr style=\"text-align: right;\">\n",
       "      <th></th>\n",
       "      <th>prompt lenght</th>\n",
       "      <th>__index_level_0__</th>\n",
       "    </tr>\n",
       "  </thead>\n",
       "  <tbody>\n",
       "    <tr>\n",
       "      <th>count</th>\n",
       "      <td>20205.000000</td>\n",
       "      <td>20205.00000</td>\n",
       "    </tr>\n",
       "    <tr>\n",
       "      <th>mean</th>\n",
       "      <td>473.135857</td>\n",
       "      <td>10102.00000</td>\n",
       "    </tr>\n",
       "    <tr>\n",
       "      <th>std</th>\n",
       "      <td>352.229574</td>\n",
       "      <td>5832.82543</td>\n",
       "    </tr>\n",
       "    <tr>\n",
       "      <th>min</th>\n",
       "      <td>26.000000</td>\n",
       "      <td>0.00000</td>\n",
       "    </tr>\n",
       "    <tr>\n",
       "      <th>25%</th>\n",
       "      <td>222.000000</td>\n",
       "      <td>5051.00000</td>\n",
       "    </tr>\n",
       "    <tr>\n",
       "      <th>50%</th>\n",
       "      <td>387.000000</td>\n",
       "      <td>10102.00000</td>\n",
       "    </tr>\n",
       "    <tr>\n",
       "      <th>75%</th>\n",
       "      <td>614.000000</td>\n",
       "      <td>15153.00000</td>\n",
       "    </tr>\n",
       "    <tr>\n",
       "      <th>max</th>\n",
       "      <td>3431.000000</td>\n",
       "      <td>20204.00000</td>\n",
       "    </tr>\n",
       "  </tbody>\n",
       "</table>\n",
       "</div>"
      ],
      "text/plain": [
       "       prompt lenght  __index_level_0__\n",
       "count   20205.000000        20205.00000\n",
       "mean      473.135857        10102.00000\n",
       "std       352.229574         5832.82543\n",
       "min        26.000000            0.00000\n",
       "25%       222.000000         5051.00000\n",
       "50%       387.000000        10102.00000\n",
       "75%       614.000000        15153.00000\n",
       "max      3431.000000        20204.00000"
      ]
     },
     "execution_count": 35,
     "metadata": {},
     "output_type": "execute_result"
    }
   ],
   "source": [
    "dfs['validation'].describe()"
   ]
  },
  {
   "cell_type": "code",
   "execution_count": null,
   "id": "6e68d252",
   "metadata": {},
   "outputs": [
    {
     "data": {
      "text/html": [
       "<div>\n",
       "<style scoped>\n",
       "    .dataframe tbody tr th:only-of-type {\n",
       "        vertical-align: middle;\n",
       "    }\n",
       "\n",
       "    .dataframe tbody tr th {\n",
       "        vertical-align: top;\n",
       "    }\n",
       "\n",
       "    .dataframe thead th {\n",
       "        text-align: right;\n",
       "    }\n",
       "</style>\n",
       "<table border=\"1\" class=\"dataframe\">\n",
       "  <thead>\n",
       "    <tr style=\"text-align: right;\">\n",
       "      <th></th>\n",
       "      <th>prompt lenght</th>\n",
       "      <th>__index_level_0__</th>\n",
       "    </tr>\n",
       "  </thead>\n",
       "  <tbody>\n",
       "    <tr>\n",
       "      <th>count</th>\n",
       "      <td>13890.000000</td>\n",
       "      <td>13890.000000</td>\n",
       "    </tr>\n",
       "    <tr>\n",
       "      <th>mean</th>\n",
       "      <td>444.615551</td>\n",
       "      <td>6944.500000</td>\n",
       "    </tr>\n",
       "    <tr>\n",
       "      <th>std</th>\n",
       "      <td>405.101173</td>\n",
       "      <td>4009.841954</td>\n",
       "    </tr>\n",
       "    <tr>\n",
       "      <th>min</th>\n",
       "      <td>29.000000</td>\n",
       "      <td>0.000000</td>\n",
       "    </tr>\n",
       "    <tr>\n",
       "      <th>25%</th>\n",
       "      <td>199.000000</td>\n",
       "      <td>3472.250000</td>\n",
       "    </tr>\n",
       "    <tr>\n",
       "      <th>50%</th>\n",
       "      <td>342.000000</td>\n",
       "      <td>6944.500000</td>\n",
       "    </tr>\n",
       "    <tr>\n",
       "      <th>75%</th>\n",
       "      <td>582.000000</td>\n",
       "      <td>10416.750000</td>\n",
       "    </tr>\n",
       "    <tr>\n",
       "      <th>max</th>\n",
       "      <td>7344.000000</td>\n",
       "      <td>13889.000000</td>\n",
       "    </tr>\n",
       "  </tbody>\n",
       "</table>\n",
       "</div>"
      ],
      "text/plain": [
       "       prompt lenght  __index_level_0__\n",
       "count   13890.000000       13890.000000\n",
       "mean      444.615551        6944.500000\n",
       "std       405.101173        4009.841954\n",
       "min        29.000000           0.000000\n",
       "25%       199.000000        3472.250000\n",
       "50%       342.000000        6944.500000\n",
       "75%       582.000000       10416.750000\n",
       "max      7344.000000       13889.000000"
      ]
     },
     "execution_count": 36,
     "metadata": {},
     "output_type": "execute_result"
    }
   ],
   "source": [
    "dfs['zeroshot'].describe()"
   ]
  },
  {
   "cell_type": "code",
   "execution_count": null,
   "id": "6725e44d",
   "metadata": {},
   "outputs": [
    {
     "name": "stderr",
     "output_type": "stream",
     "text": [
      " 35%|███▌      | 328/926 [06:04<04:14,  2.35it/s] "
     ]
    }
   ],
   "source": [
    "zeroshot_papers_to_drop_no_lb = remove_data_leakage(dfs, source=\"zeroshot\", target=\"train\", THRESHOLD=90)"
   ]
  },
  {
   "cell_type": "code",
   "execution_count": null,
   "id": "c4862fd8",
   "metadata": {},
   "outputs": [
    {
     "name": "stderr",
     "output_type": "stream",
     "text": [
      "100%|██████████| 926/926 [00:00<00:00, 6443.53it/s]"
     ]
    },
    {
     "name": "stdout",
     "output_type": "stream",
     "text": [
      "408\n"
     ]
    },
    {
     "name": "stderr",
     "output_type": "stream",
     "text": [
      "\n"
     ]
    }
   ],
   "source": [
    "# validation_papers_to_drop_no_lb = remove_data_leakage(dfs, source=\"validation\", target=\"zeroshot\", THRESHOLD=90)\n",
    "\n",
    "records = dfs['zeroshot'].to_dict(\"records\")\n",
    "validation_papers_to_drop_no_lb = set()\n",
    "for row in tqdm(records, total=len(records)):\n",
    "    # if row['id'] in dfs['train']['id'].to_list():\n",
    "    #     duplicate+=1\n",
    "    if row['id'] in dfs['validation']['id'].to_list():\n",
    "        validation_papers_to_drop_no_lb.add(row['id'])\n",
    "        \n",
    "print(len(validation_papers_to_drop_no_lb))"
   ]
  },
  {
   "cell_type": "code",
   "execution_count": null,
   "id": "86b4f0e1",
   "metadata": {},
   "outputs": [
    {
     "data": {
      "text/html": [
       "<div>\n",
       "<style scoped>\n",
       "    .dataframe tbody tr th:only-of-type {\n",
       "        vertical-align: middle;\n",
       "    }\n",
       "\n",
       "    .dataframe tbody tr th {\n",
       "        vertical-align: top;\n",
       "    }\n",
       "\n",
       "    .dataframe thead th {\n",
       "        text-align: right;\n",
       "    }\n",
       "</style>\n",
       "<table border=\"1\" class=\"dataframe\">\n",
       "  <thead>\n",
       "    <tr style=\"text-align: right;\">\n",
       "      <th></th>\n",
       "      <th>prompt lenght</th>\n",
       "      <th>__index_level_0__</th>\n",
       "    </tr>\n",
       "  </thead>\n",
       "  <tbody>\n",
       "    <tr>\n",
       "      <th>count</th>\n",
       "      <td>353.000000</td>\n",
       "      <td>353.00000</td>\n",
       "    </tr>\n",
       "    <tr>\n",
       "      <th>mean</th>\n",
       "      <td>197.560907</td>\n",
       "      <td>11235.00000</td>\n",
       "    </tr>\n",
       "    <tr>\n",
       "      <th>std</th>\n",
       "      <td>99.668184</td>\n",
       "      <td>1530.69837</td>\n",
       "    </tr>\n",
       "    <tr>\n",
       "      <th>min</th>\n",
       "      <td>29.000000</td>\n",
       "      <td>8595.00000</td>\n",
       "    </tr>\n",
       "    <tr>\n",
       "      <th>25%</th>\n",
       "      <td>138.000000</td>\n",
       "      <td>9915.00000</td>\n",
       "    </tr>\n",
       "    <tr>\n",
       "      <th>50%</th>\n",
       "      <td>192.000000</td>\n",
       "      <td>11235.00000</td>\n",
       "    </tr>\n",
       "    <tr>\n",
       "      <th>75%</th>\n",
       "      <td>234.000000</td>\n",
       "      <td>12555.00000</td>\n",
       "    </tr>\n",
       "    <tr>\n",
       "      <th>max</th>\n",
       "      <td>677.000000</td>\n",
       "      <td>13875.00000</td>\n",
       "    </tr>\n",
       "  </tbody>\n",
       "</table>\n",
       "</div>"
      ],
      "text/plain": [
       "       prompt lenght  __index_level_0__\n",
       "count     353.000000          353.00000\n",
       "mean      197.560907        11235.00000\n",
       "std        99.668184         1530.69837\n",
       "min        29.000000         8595.00000\n",
       "25%       138.000000         9915.00000\n",
       "50%       192.000000        11235.00000\n",
       "75%       234.000000        12555.00000\n",
       "max       677.000000        13875.00000"
      ]
     },
     "metadata": {},
     "output_type": "display_data"
    }
   ],
   "source": [
    "# Filtering the DataFrame\n",
    "dfs['zeroshot'] = dfs['zeroshot'][~dfs['zeroshot']['id'].isin(zeroshot_papers_to_drop_no_lb)]\n",
    "dfs['zeroshot'].describe()"
   ]
  },
  {
   "cell_type": "code",
   "execution_count": null,
   "id": "7771877f",
   "metadata": {},
   "outputs": [
    {
     "data": {
      "text/html": [
       "<div>\n",
       "<style scoped>\n",
       "    .dataframe tbody tr th:only-of-type {\n",
       "        vertical-align: middle;\n",
       "    }\n",
       "\n",
       "    .dataframe tbody tr th {\n",
       "        vertical-align: top;\n",
       "    }\n",
       "\n",
       "    .dataframe thead th {\n",
       "        text-align: right;\n",
       "    }\n",
       "</style>\n",
       "<table border=\"1\" class=\"dataframe\">\n",
       "  <thead>\n",
       "    <tr style=\"text-align: right;\">\n",
       "      <th></th>\n",
       "      <th>prompt lenght</th>\n",
       "      <th>__index_level_0__</th>\n",
       "    </tr>\n",
       "  </thead>\n",
       "  <tbody>\n",
       "    <tr>\n",
       "      <th>count</th>\n",
       "      <td>939.000000</td>\n",
       "      <td>939.000000</td>\n",
       "    </tr>\n",
       "    <tr>\n",
       "      <th>mean</th>\n",
       "      <td>568.654952</td>\n",
       "      <td>7434.408946</td>\n",
       "    </tr>\n",
       "    <tr>\n",
       "      <th>std</th>\n",
       "      <td>358.102912</td>\n",
       "      <td>4300.934395</td>\n",
       "    </tr>\n",
       "    <tr>\n",
       "      <th>min</th>\n",
       "      <td>26.000000</td>\n",
       "      <td>0.000000</td>\n",
       "    </tr>\n",
       "    <tr>\n",
       "      <th>25%</th>\n",
       "      <td>325.000000</td>\n",
       "      <td>3712.500000</td>\n",
       "    </tr>\n",
       "    <tr>\n",
       "      <th>50%</th>\n",
       "      <td>497.000000</td>\n",
       "      <td>7425.000000</td>\n",
       "    </tr>\n",
       "    <tr>\n",
       "      <th>75%</th>\n",
       "      <td>707.500000</td>\n",
       "      <td>11137.500000</td>\n",
       "    </tr>\n",
       "    <tr>\n",
       "      <th>max</th>\n",
       "      <td>3431.000000</td>\n",
       "      <td>14895.000000</td>\n",
       "    </tr>\n",
       "  </tbody>\n",
       "</table>\n",
       "</div>"
      ],
      "text/plain": [
       "       prompt lenght  __index_level_0__\n",
       "count     939.000000         939.000000\n",
       "mean      568.654952        7434.408946\n",
       "std       358.102912        4300.934395\n",
       "min        26.000000           0.000000\n",
       "25%       325.000000        3712.500000\n",
       "50%       497.000000        7425.000000\n",
       "75%       707.500000       11137.500000\n",
       "max      3431.000000       14895.000000"
      ]
     },
     "metadata": {},
     "output_type": "display_data"
    }
   ],
   "source": [
    "# Filtering the DataFrame\n",
    "dfs['validation'] = dfs['validation'][~dfs['validation']['id'].isin(validation_papers_to_drop_no_lb)]\n",
    "dfs['validation'].describe()"
   ]
  },
  {
   "cell_type": "code",
   "execution_count": null,
   "id": "983e362b",
   "metadata": {},
   "outputs": [
    {
     "data": {
      "text/html": [
       "<div>\n",
       "<style scoped>\n",
       "    .dataframe tbody tr th:only-of-type {\n",
       "        vertical-align: middle;\n",
       "    }\n",
       "\n",
       "    .dataframe tbody tr th {\n",
       "        vertical-align: top;\n",
       "    }\n",
       "\n",
       "    .dataframe thead th {\n",
       "        text-align: right;\n",
       "    }\n",
       "</style>\n",
       "<table border=\"1\" class=\"dataframe\">\n",
       "  <thead>\n",
       "    <tr style=\"text-align: right;\">\n",
       "      <th></th>\n",
       "      <th>prompt lenght</th>\n",
       "      <th>__index_level_0__</th>\n",
       "    </tr>\n",
       "  </thead>\n",
       "  <tbody>\n",
       "    <tr>\n",
       "      <th>count</th>\n",
       "      <td>10058.000000</td>\n",
       "      <td>10058.000000</td>\n",
       "    </tr>\n",
       "    <tr>\n",
       "      <th>mean</th>\n",
       "      <td>485.707298</td>\n",
       "      <td>75427.500000</td>\n",
       "    </tr>\n",
       "    <tr>\n",
       "      <th>std</th>\n",
       "      <td>398.739365</td>\n",
       "      <td>43554.582566</td>\n",
       "    </tr>\n",
       "    <tr>\n",
       "      <th>min</th>\n",
       "      <td>27.000000</td>\n",
       "      <td>0.000000</td>\n",
       "    </tr>\n",
       "    <tr>\n",
       "      <th>25%</th>\n",
       "      <td>216.000000</td>\n",
       "      <td>37713.750000</td>\n",
       "    </tr>\n",
       "    <tr>\n",
       "      <th>50%</th>\n",
       "      <td>392.000000</td>\n",
       "      <td>75427.500000</td>\n",
       "    </tr>\n",
       "    <tr>\n",
       "      <th>75%</th>\n",
       "      <td>640.000000</td>\n",
       "      <td>113141.250000</td>\n",
       "    </tr>\n",
       "    <tr>\n",
       "      <th>max</th>\n",
       "      <td>7344.000000</td>\n",
       "      <td>150855.000000</td>\n",
       "    </tr>\n",
       "  </tbody>\n",
       "</table>\n",
       "</div>"
      ],
      "text/plain": [
       "       prompt lenght  __index_level_0__\n",
       "count   10058.000000       10058.000000\n",
       "mean      485.707298       75427.500000\n",
       "std       398.739365       43554.582566\n",
       "min        27.000000           0.000000\n",
       "25%       216.000000       37713.750000\n",
       "50%       392.000000       75427.500000\n",
       "75%       640.000000      113141.250000\n",
       "max      7344.000000      150855.000000"
      ]
     },
     "metadata": {},
     "output_type": "display_data"
    }
   ],
   "source": [
    "# Filtering the DataFrame\n",
    "dfs['train'].describe()"
   ]
  },
  {
   "cell_type": "code",
   "execution_count": null,
   "id": "69b74d03",
   "metadata": {},
   "outputs": [],
   "source": [
    "dfs['train'].drop([\"template\", \"__index_level_0__\"], inplace=True, axis=1)\n",
    "dfs['validation'].drop([\"template\", \"__index_level_0__\"], inplace=True, axis=1)\n",
    "dfs['zeroshot'].drop([\"template\", \"__index_level_0__\"], inplace=True, axis=1)"
   ]
  },
  {
   "cell_type": "code",
   "execution_count": null,
   "id": "e6663540",
   "metadata": {},
   "outputs": [
    {
     "data": {
      "text/html": [
       "<div>\n",
       "<style scoped>\n",
       "    .dataframe tbody tr th:only-of-type {\n",
       "        vertical-align: middle;\n",
       "    }\n",
       "\n",
       "    .dataframe tbody tr th {\n",
       "        vertical-align: top;\n",
       "    }\n",
       "\n",
       "    .dataframe thead th {\n",
       "        text-align: right;\n",
       "    }\n",
       "</style>\n",
       "<table border=\"1\" class=\"dataframe\">\n",
       "  <thead>\n",
       "    <tr style=\"text-align: right;\">\n",
       "      <th></th>\n",
       "      <th>id</th>\n",
       "      <th>prompt</th>\n",
       "      <th>answer</th>\n",
       "      <th>prompt lenght</th>\n",
       "    </tr>\n",
       "  </thead>\n",
       "  <tbody>\n",
       "    <tr>\n",
       "      <th>150795</th>\n",
       "      <td>1401.6576.pdf</td>\n",
       "      <td>Adding modular predicates to first-order fragm...</td>\n",
       "      <td>unanswerable</td>\n",
       "      <td>206</td>\n",
       "    </tr>\n",
       "    <tr>\n",
       "      <th>150810</th>\n",
       "      <td>1304.4691.pdf</td>\n",
       "      <td>Efficient Calculation of Determinants of Symbo...</td>\n",
       "      <td>unanswerable</td>\n",
       "      <td>128</td>\n",
       "    </tr>\n",
       "    <tr>\n",
       "      <th>150825</th>\n",
       "      <td>1001.3388.pdf</td>\n",
       "      <td>Approximate Privacy: PARs for Set Problems In ...</td>\n",
       "      <td>unanswerable</td>\n",
       "      <td>183</td>\n",
       "    </tr>\n",
       "    <tr>\n",
       "      <th>150840</th>\n",
       "      <td>0706.2010.pdf</td>\n",
       "      <td>Information-theoretic securitywithout an hones...</td>\n",
       "      <td>unanswerable</td>\n",
       "      <td>131</td>\n",
       "    </tr>\n",
       "    <tr>\n",
       "      <th>150855</th>\n",
       "      <td>1111.2942.pdf</td>\n",
       "      <td>Down the Rabbit Hole: Robust Proximity Search ...</td>\n",
       "      <td>unanswerable</td>\n",
       "      <td>232</td>\n",
       "    </tr>\n",
       "  </tbody>\n",
       "</table>\n",
       "</div>"
      ],
      "text/plain": [
       "                   id                                             prompt  \\\n",
       "150795  1401.6576.pdf  Adding modular predicates to first-order fragm...   \n",
       "150810  1304.4691.pdf  Efficient Calculation of Determinants of Symbo...   \n",
       "150825  1001.3388.pdf  Approximate Privacy: PARs for Set Problems In ...   \n",
       "150840  0706.2010.pdf  Information-theoretic securitywithout an hones...   \n",
       "150855  1111.2942.pdf  Down the Rabbit Hole: Robust Proximity Search ...   \n",
       "\n",
       "              answer  prompt lenght  \n",
       "150795  unanswerable            206  \n",
       "150810  unanswerable            128  \n",
       "150825  unanswerable            183  \n",
       "150840  unanswerable            131  \n",
       "150855  unanswerable            232  "
      ]
     },
     "metadata": {},
     "output_type": "display_data"
    }
   ],
   "source": [
    "dfs['train'].tail()"
   ]
  },
  {
   "cell_type": "code",
   "execution_count": null,
   "id": "bfd8d757",
   "metadata": {},
   "outputs": [
    {
     "data": {
      "text/plain": [
       "10058"
      ]
     },
     "metadata": {},
     "output_type": "display_data"
    }
   ],
   "source": [
    "dfs['train'].id.nunique()"
   ]
  },
  {
   "cell_type": "code",
   "execution_count": null,
   "id": "e39a940f",
   "metadata": {},
   "outputs": [
    {
     "name": "stdout",
     "output_type": "stream",
     "text": [
      "zeroshot_paper_in_train: 0\n",
      "zeroshot_paper_in_validation: 0\n",
      "train_paper_in_validation: 0\n",
      "validation_paper_in_zeroshot: 0\n"
     ]
    }
   ],
   "source": [
    "verify_data_integrity(dfs)"
   ]
  },
  {
   "cell_type": "code",
   "execution_count": null,
   "id": "2a098c9c",
   "metadata": {},
   "outputs": [
    {
     "data": {
      "application/vnd.jupyter.widget-view+json": {
       "model_id": "9ab57bdf3f7f4a779840c6cad30987f6",
       "version_major": 2,
       "version_minor": 0
      },
      "text/plain": [
       "Saving the dataset (0/1 shards):   0%|          | 0/10058 [00:00<?, ? examples/s]"
      ]
     },
     "metadata": {},
     "output_type": "display_data"
    },
    {
     "data": {
      "application/vnd.jupyter.widget-view+json": {
       "model_id": "810528d4f72144f18a771d351251f2ee",
       "version_major": 2,
       "version_minor": 0
      },
      "text/plain": [
       "Saving the dataset (0/1 shards):   0%|          | 0/939 [00:00<?, ? examples/s]"
      ]
     },
     "metadata": {},
     "output_type": "display_data"
    },
    {
     "data": {
      "application/vnd.jupyter.widget-view+json": {
       "model_id": "3b55ef1e81a84df6b2356f70a60ad056",
       "version_major": 2,
       "version_minor": 0
      },
      "text/plain": [
       "Saving the dataset (0/1 shards):   0%|          | 0/353 [00:00<?, ? examples/s]"
      ]
     },
     "metadata": {},
     "output_type": "display_data"
    }
   ],
   "source": [
    "dataset = DatasetDict({\n",
    "        \"train\": Dataset.from_pandas(dfs['train']),\n",
    "        \"validation\": Dataset.from_pandas(dfs['validation']),\n",
    "        \"zeroshot\": Dataset.from_pandas(dfs['zeroshot'])\n",
    "    })\n",
    "\n",
    "dataset.save_to_disk(\"../data/LEADERBOARDS_DOCTEAT_TDMS_NO_TEMPLATES_RELAX\")"
   ]
  },
  {
   "cell_type": "markdown",
   "id": "26ecbb9a",
   "metadata": {},
   "source": [
    "### Templates Specific"
   ]
  },
  {
   "cell_type": "code",
   "execution_count": null,
   "id": "94aa88a2",
   "metadata": {},
   "outputs": [
    {
     "name": "stderr",
     "output_type": "stream",
     "text": [
      "100%|██████████| 926/926 [09:07<00:00,  1.69it/s] \n"
     ]
    }
   ],
   "source": [
    "for squad_id in range(1, 9):\n",
    "    print(f\"SQUAD: {squad_id}\")\n",
    "    dataset_path = f\"../data/LLLM_AUGMENTED_SUMMARIZED_WITH_ID_ZEROSHOT_TDMS_SQUAD_{squad_id}_DOCTEAT/fold1\"\n",
    "\n",
    "    dataset_dict = DatasetDict.load_from_disk(f\"{dataset_path}\")\n",
    "        \n",
    "    dfs = {split: dataset.to_pandas() for split, dataset in dataset_dict.items()}\n",
    "    \n",
    "    zeroshot_papers_to_drop_no_lb = remove_data_leakage(dfs, source=\"zeroshot\", target=\"train\", THRESHOLD=90)\n",
    "    \n",
    "    records = dfs['zeroshot'].to_dict(\"records\")\n",
    "    validation_papers_to_drop_no_lb = set()\n",
    "    for row in tqdm(records, total=len(records)):\n",
    "        # if row['id'] in dfs['train']['id'].to_list():\n",
    "        #     duplicate+=1\n",
    "        if row['id'] in dfs['validation']['id'].to_list():\n",
    "            validation_papers_to_drop_no_lb.add(row['id'])\n",
    "            \n",
    "    print(len(validation_papers_to_drop_no_lb))\n",
    "    \n",
    "    # Filtering the DataFrame\n",
    "    display(dfs['train'].describe())\n",
    "\n",
    "    # Filtering the DataFrame\n",
    "    dfs['validation'] = dfs['validation'][~dfs['validation']['id'].isin(validation_papers_to_drop_no_lb)]\n",
    "    display(dfs['validation'].describe())\n",
    "\n",
    "    # Filtering the DataFrame\n",
    "    dfs['zeroshot'] = dfs['zeroshot'][~dfs['zeroshot']['id'].isin(zeroshot_papers_to_drop_no_lb)]\n",
    "    display(dfs['zeroshot'].describe())\n",
    "    \n",
    "    dfs['train'].drop([\"template\", \"__index_level_0__\"], inplace=True, axis=1)\n",
    "    dfs['validation'].drop([\"template\", \"__index_level_0__\"], inplace=True, axis=1)\n",
    "    dfs['zeroshot'].drop([\"template\", \"__index_level_0__\"], inplace=True, axis=1)\n",
    "\n",
    "    verify_data_integrity(dfs)\n",
    "    \n",
    "    dataset = DatasetDict({\n",
    "        \"train\": Dataset.from_pandas(dfs['train']),\n",
    "        \"validation\": Dataset.from_pandas(dfs['validation']),\n",
    "        \"zeroshot\": Dataset.from_pandas(dfs['zeroshot'])\n",
    "    })\n",
    "\n",
    "    dataset.save_to_disk(f\"../data/LEADERBOARDS_DOCTEAT_TDMS_NO_TEMPLATES_SQUAD_{squad_id}_RELAX\")"
   ]
  },
  {
   "cell_type": "code",
   "execution_count": null,
   "id": "2a5ff94d",
   "metadata": {},
   "outputs": [],
   "source": [
    "for drop_id in range(1, 8):\n",
    "    print(f\"DROP: {drop_id}\")\n",
    "    dataset_path = f\"../data/LLLM_AUGMENTED_SUMMARIZED_WITH_ID_ZEROSHOT_TDMS_DROP_{drop_id}_DOCTEAT/fold1\"\n",
    "\n",
    "    dataset_dict = DatasetDict.load_from_disk(f\"{dataset_path}\")\n",
    "        \n",
    "    dfs = {split: dataset.to_pandas() for split, dataset in dataset_dict.items()}\n",
    "    \n",
    "    zeroshot_papers_to_drop_no_lb = remove_data_leakage(dfs, source=\"zeroshot\", target=\"train\", THRESHOLD=90)\n",
    "    \n",
    "    dfs['zeroshot'].drop_duplicates(subset='id', inplace=True)\n",
    "    records = dfs['zeroshot'].to_dict(\"records\")\n",
    "    validation_papers_to_drop_no_lb = set()\n",
    "    for row in tqdm(records, total=len(records)):\n",
    "        # if row['id'] in dfs['train']['id'].to_list():\n",
    "        #     duplicate+=1\n",
    "        if row['id'] in dfs['validation']['id'].to_list():\n",
    "            validation_papers_to_drop_no_lb.add(row['id'])\n",
    "            \n",
    "    print(len(validation_papers_to_drop_no_lb))\n",
    "    \n",
    "    # Filtering the DataFrame\n",
    "    display(dfs['train'].describe())\n",
    "\n",
    "    # Filtering the DataFrame\n",
    "    dfs['validation'] = dfs['validation'][~dfs['validation']['id'].isin(validation_papers_to_drop_no_lb)]\n",
    "    display(dfs['validation'].describe())\n",
    "\n",
    "    # Filtering the DataFrame\n",
    "    dfs['zeroshot'] = dfs['zeroshot'][~dfs['zeroshot']['id'].isin(zeroshot_papers_to_drop_no_lb)]\n",
    "    display(dfs['zeroshot'].describe())\n",
    "    \n",
    "    dfs['train'].drop([\"template\", \"__index_level_0__\"], inplace=True, axis=1)\n",
    "    dfs['validation'].drop([\"template\", \"__index_level_0__\"], inplace=True, axis=1)\n",
    "    dfs['zeroshot'].drop([\"template\", \"__index_level_0__\"], inplace=True, axis=1)\n",
    "\n",
    "    verify_data_integrity(dfs)\n",
    "    \n",
    "    dataset = DatasetDict({\n",
    "        \"train\": Dataset.from_pandas(dfs['train']),\n",
    "        \"validation\": Dataset.from_pandas(dfs['validation']),\n",
    "        \"zeroshot\": Dataset.from_pandas(dfs['zeroshot'])\n",
    "    })\n",
    "\n",
    "    dataset.save_to_disk(f\"../data/LEADERBOARDS_DOCTEAT_TDMS_NO_TEMPLATES_DROP_{drop_id}_RELAX\")"
   ]
  },
  {
   "cell_type": "code",
   "execution_count": null,
   "id": "f3c46f79",
   "metadata": {},
   "outputs": [],
   "source": []
  }
 ],
 "metadata": {
  "kernelspec": {
   "display_name": "Python 3 (ipykernel)",
   "language": "python",
   "name": "python3"
  },
  "language_info": {
   "codemirror_mode": {
    "name": "ipython",
    "version": 3
   },
   "file_extension": ".py",
   "mimetype": "text/x-python",
   "name": "python",
   "nbconvert_exporter": "python",
   "pygments_lexer": "ipython3",
   "version": "3.7.10"
  }
 },
 "nbformat": 4,
 "nbformat_minor": 5
}
