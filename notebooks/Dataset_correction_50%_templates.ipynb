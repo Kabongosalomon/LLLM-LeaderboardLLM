{
 "cells": [
  {
   "cell_type": "code",
   "execution_count": 1,
   "id": "bfa5c7f4-8125-4f01-8710-4e7a62b973a8",
   "metadata": {},
   "outputs": [
    {
     "name": "stderr",
     "output_type": "stream",
     "text": [
      "/nfs/home/kabenamualus/anaconda3/envs/tdm/lib/python3.7/site-packages/fuzzywuzzy/fuzz.py:11: UserWarning: Using slow pure-python SequenceMatcher. Install python-Levenshtein to remove this warning\n",
      "  warnings.warn('Using slow pure-python SequenceMatcher. Install python-Levenshtein to remove this warning')\n"
     ]
    }
   ],
   "source": [
    "# imports\n",
    "import pandas as pd\n",
    "import os, ipdb, re\n",
    "import random, evaluate\n",
    "import string\n",
    "import numpy as np\n",
    "from collections import defaultdict\n",
    "from tqdm import tqdm\n",
    "from datasets import DatasetDict, Dataset, load_dataset\n",
    "import wandb\n",
    "import ast\n",
    "import re, os\n",
    "import subprocess\n",
    "\n",
    "from fuzzywuzzy import fuzz\n",
    "import matplotlib.pyplot as plt"
   ]
  },
  {
   "cell_type": "code",
   "execution_count": 2,
   "id": "f18136c8-f242-4d57-a727-17a4c0b61d43",
   "metadata": {},
   "outputs": [],
   "source": [
    "# # dataset_path = \"../data/LLLM_AUGMENTED_SUMMARIZED_WITH_ID_ZEROSHOT_TDMS_ALL_TEMPLATE/fold1\"\n",
    "# # dataset_path = f\"../data/LLLM_AUGMENTED_SUMMARIZED_WITH_ID_ZEROSHOT_TDMS_50_PERCENT/fold1\"\n",
    "# # dataset_path = f\"../data/LLLM_AUGMENTED_SUMMARIZED_ZEROSHOT_TDMS_50_PERCENT_LONG/fold1\"\n",
    "# # dataset_path = f\"../data/LLLM_AUGMENTED_SUMMARIZED_ZEROSHOT_TDMS_50_PERCENT_DOCTEAT/fold1\"\n",
    "# dataset_path = f\"../data/LLLM_AUGMENTED_SUMMARIZED_ZEROSHOT_TDMS_NO_TEMPLATE_DOCTEAT/fold1\"\n",
    "\n",
    "# dataset_dict = DatasetDict.load_from_disk(f\"{dataset_path}\")\n",
    "    \n",
    "# dfs = {split: dataset.to_pandas() for split, dataset in dataset_dict.items()}"
   ]
  },
  {
   "cell_type": "code",
   "execution_count": 3,
   "id": "ba3cd200",
   "metadata": {},
   "outputs": [],
   "source": [
    "def calculate_fuzz_ratio(text1, text2):\n",
    "    return fuzz.ratio(str(text1).strip().lower(), str(text2).strip().lower())\n",
    "\n",
    "def view_leaderboard_distribution(dfs):\n",
    "\n",
    "    dfs_zeroshot = dfs['zeroshot'].copy()\n",
    "    dfs_train = dfs['train'].copy()\n",
    "    dfs_validation = dfs['validation'].copy()\n",
    "\n",
    "    dfs_train['leaderboard'] = dfs_train.answer.apply(lambda x: \"no_lb\" if x == \"unanswerable\" else \"lb\")\n",
    "    # Count unique values in the column\n",
    "    counts_train = dfs_train['leaderboard'].value_counts()\n",
    "\n",
    "    # Plot pie chart\n",
    "    plt.figure(figsize=(8, 8))  # Optional: Adjusts the size of the figure\n",
    "    plt.pie(counts_train, labels=counts_train.index, autopct='%1.1f%%', startangle=140)\n",
    "    plt.title('Train Leaderboard vs No Leaderboard')\n",
    "    plt.show()\n",
    "    \n",
    "    dfs_validation['leaderboard'] = dfs_validation.answer.apply(lambda x: \"no_lb\" if x == \"unanswerable\" else \"lb\")\n",
    "    # Count unique values in the column\n",
    "    counts_validation = dfs_validation['leaderboard'].value_counts()\n",
    "\n",
    "    # Plot pie chart\n",
    "    plt.figure(figsize=(8, 8))  # Optional: Adjusts the size of the figure\n",
    "    plt.pie(counts_validation, labels=counts_validation.index, autopct='%1.1f%%', startangle=140)\n",
    "    plt.title('Validation Chart Leaderboard vs No Leaderboard')\n",
    "    plt.show()\n",
    "    \n",
    "    dfs_zeroshot['leaderboard'] = dfs_zeroshot.answer.apply(lambda x: \"no_lb\" if x == \"unanswerable\" else \"lb\")\n",
    "    # Count unique values in the column\n",
    "    counts = dfs_zeroshot['leaderboard'].value_counts()\n",
    "\n",
    "    # Plot pie chart\n",
    "    plt.figure(figsize=(8, 8))  # Optional: Adjusts the size of the figure\n",
    "    plt.pie(counts, labels=counts.index, autopct='%1.1f%%', startangle=140)\n",
    "    plt.title('Zeroshot Chart Leaderboard vs No Leaderboard')\n",
    "    plt.show()\n",
    "    \n",
    "    \n",
    "def verify_data_integrity_old(dfs):\n",
    "\n",
    "    zeroshot_paper_in_train = 0\n",
    "    for paper in dfs['zeroshot'].id.unique():\n",
    "        if paper in dfs['train'].id.to_list():\n",
    "            zeroshot_paper_in_train += 1\n",
    "        \n",
    "    zeroshot_paper_in_validation = 0\n",
    "    for paper in dfs['zeroshot'].id.unique():\n",
    "        if paper in dfs['validation'].id.to_list():\n",
    "            zeroshot_paper_in_validation += 1 \n",
    "\n",
    "    train_paper_in_validation = 0\n",
    "    for paper in dfs['train'].id.unique():\n",
    "        if paper in dfs['validation'].id.to_list():\n",
    "            train_paper_in_validation += 1   \n",
    "        \n",
    "    validation_paper_in_zeroshot = 0\n",
    "    for paper in dfs['validation'].id.unique():\n",
    "        if paper in dfs['zeroshot'].id.to_list():\n",
    "            validation_paper_in_zeroshot += 1     \n",
    "            \n",
    "    print(f\"zeroshot_paper_in_train: {zeroshot_paper_in_train}\")\n",
    "    print(f\"zeroshot_paper_in_validation: {zeroshot_paper_in_validation}\")\n",
    "    print(f\"train_paper_in_validation: {train_paper_in_validation}\")\n",
    "    print(f\"validation_paper_in_zeroshot: {validation_paper_in_zeroshot}\")\n",
    "    \n",
    "def verify_data_integrity(dfs, include_no_lb=True):\n",
    "\n",
    "    zeroshot_paper_in_train = 0\n",
    "    dfs_train = dfs['train'].copy()\n",
    "    dfs_train.drop_duplicates(subset='id', inplace=True)\n",
    "    dfs_validation = dfs['validation'].copy()\n",
    "    dfs_validation.drop_duplicates(subset='id', inplace=True)\n",
    "    dfs_zeroshot = dfs['zeroshot'].copy()\n",
    "    dfs_zeroshot.drop_duplicates(subset='id', inplace=True)\n",
    "    \n",
    "    records_zero_train = dfs_zeroshot.to_dict(\"records\")    \n",
    "    for row in records_zero_train:\n",
    "        if include_no_lb:\n",
    "            if row['id'] in dfs_train['id'].to_list():\n",
    "                zeroshot_paper_in_train += 1\n",
    "        else:\n",
    "            if row['id'] in dfs_train['id'].to_list() and row['leaderboard']!=\"no_lb\":\n",
    "                zeroshot_paper_in_train += 1\n",
    "        \n",
    "    zeroshot_paper_in_validation = 0\n",
    "    records_zero_val = dfs_zeroshot.to_dict(\"records\")\n",
    "    for row in records_zero_val:\n",
    "        if include_no_lb:\n",
    "            if row['id'] in dfs_validation['id'].to_list():\n",
    "                zeroshot_paper_in_validation += 1 \n",
    "        else:\n",
    "            if row['id'] in dfs_validation['id'].to_list() and row['leaderboard']!=\"no_lb\":\n",
    "                zeroshot_paper_in_validation += 1 \n",
    "\n",
    "    validation_paper_in_train = 0\n",
    "    records_val_train = dfs_validation.to_dict(\"records\")\n",
    "    for row in records_val_train:\n",
    "        if include_no_lb:\n",
    "            if row['id'] in dfs_train['id'].to_list():\n",
    "                validation_paper_in_train += 1   \n",
    "        else:\n",
    "            if row['id'] in dfs_train['id'].to_list() and row['leaderboard']!=\"no_lb\":\n",
    "                validation_paper_in_train += 1   \n",
    "        \n",
    "    validation_paper_in_zeroshot = 0\n",
    "    records_train_zero = dfs_validation.to_dict(\"records\")\n",
    "    for row in records_train_zero:\n",
    "            \n",
    "        if include_no_lb:\n",
    "            if row['id'] in dfs_zeroshot['id'].to_list():\n",
    "                validation_paper_in_zeroshot += 1     \n",
    "        else:\n",
    "            if row['id'] in dfs_zeroshot['id'].to_list() and row['leaderboard']!=\"no_lb\":\n",
    "                validation_paper_in_zeroshot += 1   \n",
    "            \n",
    "    print(f\"zeroshot_paper_in_train: {zeroshot_paper_in_train}\")\n",
    "    print(f\"zeroshot_paper_in_validation: {zeroshot_paper_in_validation}\")\n",
    "    print(f\"validation_paper_in_train: {validation_paper_in_train}\")\n",
    "    print(f\"validation_paper_in_zeroshot: {validation_paper_in_zeroshot}\")\n",
    "    \n",
    "def remove_data_leakage_old(dfs, source, target, THRESHOLD=90):\n",
    "    papers_to_drop = []\n",
    "    missed_parsing_zero = 0\n",
    "    \n",
    "    dfs[source].drop_duplicates(subset='id', inplace=True)\n",
    "    source_records = dfs[source].to_dict(\"records\")\n",
    "\n",
    "    for source_row in tqdm(source_records, total=len(source_records)):\n",
    "        to_drop_paper_found = False \n",
    "        source_paper_id = source_row[\"id\"]\n",
    "        source_tdms = source_row[\"answer\"]\n",
    "        \n",
    "        if source_tdms in \"unanswerable\" or source_tdms == \"missed\":\n",
    "            # ipdb.set_trace()\n",
    "            # if source_paper_id not in papers_to_drop:\n",
    "            #     papers_to_drop.append(source_paper_id)\n",
    "            continue \n",
    "        \n",
    "        source_tdms = ast.literal_eval(source_row[\"answer\"])\n",
    "        \n",
    "        for leaderboard_source in source_tdms:\n",
    "            \n",
    "            if to_drop_paper_found:\n",
    "                break\n",
    "            \n",
    "            source_task = leaderboard_source[\"LEADERBOARD\"][\"Task\"]\n",
    "            source_dataset = leaderboard_source[\"LEADERBOARD\"][\"Dataset\"]\n",
    "            source_metric = leaderboard_source[\"LEADERBOARD\"][\"Metric\"]\n",
    "            source_score = leaderboard_source[\"LEADERBOARD\"][\"Score\"]\n",
    " \n",
    "            dfs[target].drop_duplicates(subset='id', inplace=True)\n",
    "            \n",
    "            target_records = dfs[target].to_dict(\"records\")\n",
    "\n",
    "            for target_row in target_records:\n",
    "                \n",
    "                if to_drop_paper_found:\n",
    "                        break    \n",
    "                \n",
    "                target_paper_id = target_row[\"id\"]\n",
    "                target_tdms = target_row[\"answer\"]\n",
    "                \n",
    "                if target_tdms == \"unanswerable\" or target_tdms == \"missed\":\n",
    "                    # ipdb.set_trace()\n",
    "                    continue \n",
    "                \n",
    "                target_tdms = ast.literal_eval(target_row[\"answer\"])\n",
    "                \n",
    "                \n",
    "                for leaderboard_target in target_tdms:\n",
    "                    target_task = leaderboard_target[\"LEADERBOARD\"][\"Task\"]\n",
    "                    target_dataset = leaderboard_target[\"LEADERBOARD\"][\"Dataset\"]\n",
    "                    target_metric = leaderboard_target[\"LEADERBOARD\"][\"Metric\"]\n",
    "                    target_score = leaderboard_target[\"LEADERBOARD\"][\"Score\"]\n",
    "                    \n",
    "                    # A) Exact \n",
    "                    if (source_task == target_task and source_dataset == target_dataset and source_metric == target_metric) or (target_paper_id == source_paper_id):\n",
    "                        if source_paper_id not in papers_to_drop:\n",
    "                            papers_to_drop.append(source_paper_id)\n",
    "                        to_drop_paper_found = True \n",
    "                        break\n",
    "    \n",
    "                    # # B) Partial  or # A) Exact \n",
    "                    # if (calculate_fuzz_ratio(train_task, zeroshot_task) >= THRESHOLD and calculate_fuzz_ratio(train_dataset, zeroshot_dataset) >= THRESHOLD and calculate_fuzz_ratio(train_metric, zeroshot_metric) >= THRESHOLD) or (train_task == zeroshot_task and train_dataset == zeroshot_dataset and train_metric == zeroshot_metric):\n",
    "                    #     if paper_id not in papers_to_drop:\n",
    "                    #         papers_to_drop.append(paper_id)\n",
    "                    #         # ipdb.set_trace()\n",
    "                    #         break \n",
    "                    \n",
    "    print(f\"Missed_parsing_zero {missed_parsing_zero}\") \n",
    "    print(f\"Lenght papers_to_drop in {source} based on {target}: {len(papers_to_drop)}\")        \n",
    "    \n",
    "    return papers_to_drop\n",
    "\n",
    "\n",
    "def remove_data_leakage_id(dfs, source, target, THRESHOLD=90):\n",
    "    papers_to_drop = set()\n",
    "    missed_parsing_zero = 0\n",
    "    \n",
    "    dfs[source].drop_duplicates(subset='id', inplace=True)\n",
    "    records = dfs[source].to_dict(\"records\")\n",
    "\n",
    "    for row in tqdm(records, total=len(records)):\n",
    "        to_drop_paper_found = False \n",
    "        source_paper_id = row[\"id\"]\n",
    "        \n",
    "        dfs[target].drop_duplicates(subset='id', inplace=True)\n",
    "        target_records = dfs[target].to_dict(\"records\")\n",
    "\n",
    "        for row_target in target_records:  \n",
    "            \n",
    "            target_paper_id = row_target[\"id\"]\n",
    "            \n",
    "            # A) Exact \n",
    "            if (target_paper_id == source_paper_id):\n",
    "                papers_to_drop.add(source_paper_id)\n",
    "                to_drop_paper_found = True \n",
    "                break\n",
    "                    \n",
    "    print(f\"Missed_parsing_zero {missed_parsing_zero}\") \n",
    "    print(f\"Lenght papers_to_drop in {source} based on {target}: {len(papers_to_drop)}\")        \n",
    "    \n",
    "    return papers_to_drop\n",
    "\n",
    "\n",
    "def remove_data_leakage(dfs, source, target, THRESHOLD=90):\n",
    "    papers_to_drop = {\"id\": set(), \"tdm\":set()}\n",
    "    missed_parsing_zero = 0\n",
    "    \n",
    "    dfs_target = dfs[target].drop_duplicates(subset='id')\n",
    "    unique_paper_id_target = dfs_target.id.unique()\n",
    "    lists_target = [ast.literal_eval(lb) for lb in dfs_target[dfs_target.leaderboard ==\"lb\"].answer.to_list()]\n",
    "    # Flatten the list of lists\n",
    "    flattened_list_target = [item for sublist in lists_target for item in sublist]\n",
    "    # Extract unique tuples\n",
    "    unique_tuples_target = {(d['LEADERBOARD']['Task'], d['LEADERBOARD']['Dataset'], d['LEADERBOARD']['Metric']) for d in flattened_list_target}\n",
    "\n",
    "\n",
    "    dfs_source = dfs[source].drop_duplicates(subset='id')\n",
    "    source_records = dfs_source.to_dict(\"records\")\n",
    "    for source_row in tqdm(source_records, total=len(source_records)):\n",
    "        to_drop_paper_found = False \n",
    "        source_paper_id = source_row[\"id\"]\n",
    "        source_tdms = source_row[\"answer\"]\n",
    "        \n",
    "        if source_paper_id in unique_paper_id_target:\n",
    "            papers_to_drop[\"id\"].add(source_paper_id)\n",
    "            continue     \n",
    "        \n",
    "        if source_tdms in \"unanswerable\" or source_tdms == \"missed\":\n",
    "            # ipdb.set_trace()\n",
    "            # if source_paper_id not in papers_to_drop:\n",
    "            #     papers_to_drop.append(source_paper_id)\n",
    "            continue \n",
    "        \n",
    "        source_tdms = ast.literal_eval(source_row[\"answer\"])\n",
    "        # Extract unique tuples\n",
    "        unique_tuples_source = {(d['LEADERBOARD']['Task'], d['LEADERBOARD']['Dataset'], d['LEADERBOARD']['Metric']) for d in source_tdms} \n",
    "        \n",
    "        is_contained = unique_tuples_source.issubset(unique_tuples_target)\n",
    "    \n",
    "        if is_contained:\n",
    "            papers_to_drop[\"tdm\"].add(source_paper_id)\n",
    "            \n",
    "      \n",
    "        \n",
    "        # # B) Partial  or # A) Exact \n",
    "        # if (calculate_fuzz_ratio(train_task, zeroshot_task) >= THRESHOLD and calculate_fuzz_ratio(train_dataset, zeroshot_dataset) >= THRESHOLD and calculate_fuzz_ratio(train_metric, zeroshot_metric) >= THRESHOLD) or (train_task == zeroshot_task and train_dataset == zeroshot_dataset and train_metric == zeroshot_metric):\n",
    "        #     if paper_id not in papers_to_drop:\n",
    "        #         papers_to_drop.append(paper_id)\n",
    "        #         # ipdb.set_trace()\n",
    "        #         break \n",
    "                    \n",
    "    print(f\"Missed_parsing_zero {missed_parsing_zero}\") \n",
    "    print(f\"Lenght papers_to_drop in {source} based on {target} Title ID: {len(papers_to_drop['id'])}\") \n",
    "    print(f\"Lenght papers_to_drop in {source} based on {target} TDM Match: {len(papers_to_drop['tdm'])}\")   \n",
    "\n",
    "    print(f\"Lenght papers from {source} with lb: {len(dfs_source[dfs_source['leaderboard']=='lb'])}\") \n",
    "    print(f\"Lenght papers from {source} with no_lb: {len(dfs_source[dfs_source['leaderboard']=='no_lb'])}\") \n",
    "    print(f\"Lenght papers from {target} with lb: {len(dfs_target[dfs_target['leaderboard']=='lb'])}\") \n",
    "    print(f\"Lenght papers from {target} with no_lb: {len(dfs_target[dfs_target['leaderboard']=='no_lb'])}\") \n",
    "    \n",
    "    \n",
    "    return papers_to_drop"
   ]
  },
  {
   "cell_type": "markdown",
   "id": "640709ec",
   "metadata": {},
   "source": [
    "## REC"
   ]
  },
  {
   "cell_type": "code",
   "execution_count": 4,
   "id": "68d035cf",
   "metadata": {},
   "outputs": [],
   "source": [
    "dataset_path = f\"../data/LLLM_AUGMENTED_SUMMARIZED_WITH_ID_ZEROSHOT_TDMS_50_PERCENT/fold1\"\n",
    "\n",
    "dataset_dict = DatasetDict.load_from_disk(f\"{dataset_path}\")\n",
    "    \n",
    "dfs = {split: dataset.to_pandas() for split, dataset in dataset_dict.items()}\n",
    "\n",
    "dfs['train']['leaderboard'] = dfs['train'].answer.apply(lambda x: \"no_lb\" if x == \"unanswerable\" else \"lb\")\n",
    "dfs['validation']['leaderboard'] = dfs['validation'].answer.apply(lambda x: \"no_lb\" if x == \"unanswerable\" else \"lb\")\n",
    "dfs['zeroshot']['leaderboard'] = dfs['zeroshot'].answer.apply(lambda x: \"no_lb\" if x == \"unanswerable\" else \"lb\")"
   ]
  },
  {
   "cell_type": "code",
   "execution_count": 5,
   "id": "7ac89294",
   "metadata": {},
   "outputs": [
    {
     "data": {
      "text/html": [
       "<div>\n",
       "<style scoped>\n",
       "    .dataframe tbody tr th:only-of-type {\n",
       "        vertical-align: middle;\n",
       "    }\n",
       "\n",
       "    .dataframe tbody tr th {\n",
       "        vertical-align: top;\n",
       "    }\n",
       "\n",
       "    .dataframe thead th {\n",
       "        text-align: right;\n",
       "    }\n",
       "</style>\n",
       "<table border=\"1\" class=\"dataframe\">\n",
       "  <thead>\n",
       "    <tr style=\"text-align: right;\">\n",
       "      <th></th>\n",
       "      <th>id</th>\n",
       "      <th>prompt</th>\n",
       "      <th>answer</th>\n",
       "      <th>template</th>\n",
       "      <th>leaderboard</th>\n",
       "    </tr>\n",
       "  </thead>\n",
       "  <tbody>\n",
       "    <tr>\n",
       "      <th>count</th>\n",
       "      <td>92910</td>\n",
       "      <td>92910</td>\n",
       "      <td>92910</td>\n",
       "      <td>92910</td>\n",
       "      <td>92910</td>\n",
       "    </tr>\n",
       "    <tr>\n",
       "      <th>unique</th>\n",
       "      <td>12388</td>\n",
       "      <td>92545</td>\n",
       "      <td>7976</td>\n",
       "      <td>15</td>\n",
       "      <td>2</td>\n",
       "    </tr>\n",
       "    <tr>\n",
       "      <th>top</th>\n",
       "      <td>1704.06326v2.pdf</td>\n",
       "      <td>Title:\\t\\n\\nAbstract:\\t\\n\\n[image]\\n\\nTry to a...</td>\n",
       "      <td>unanswerable</td>\n",
       "      <td>drop_7</td>\n",
       "      <td>lb</td>\n",
       "    </tr>\n",
       "    <tr>\n",
       "      <th>freq</th>\n",
       "      <td>14</td>\n",
       "      <td>17</td>\n",
       "      <td>33072</td>\n",
       "      <td>6198</td>\n",
       "      <td>59838</td>\n",
       "    </tr>\n",
       "  </tbody>\n",
       "</table>\n",
       "</div>"
      ],
      "text/plain": [
       "                      id                                             prompt  \\\n",
       "count              92910                                              92910   \n",
       "unique             12388                                              92545   \n",
       "top     1704.06326v2.pdf  Title:\\t\\n\\nAbstract:\\t\\n\\n[image]\\n\\nTry to a...   \n",
       "freq                  14                                                 17   \n",
       "\n",
       "              answer template leaderboard  \n",
       "count          92910    92910       92910  \n",
       "unique          7976       15           2  \n",
       "top     unanswerable   drop_7          lb  \n",
       "freq           33072     6198       59838  "
      ]
     },
     "execution_count": 5,
     "metadata": {},
     "output_type": "execute_result"
    }
   ],
   "source": [
    "dfs['train'].describe()"
   ]
  },
  {
   "cell_type": "code",
   "execution_count": 6,
   "id": "27e6677e",
   "metadata": {},
   "outputs": [
    {
     "data": {
      "text/html": [
       "<div>\n",
       "<style scoped>\n",
       "    .dataframe tbody tr th:only-of-type {\n",
       "        vertical-align: middle;\n",
       "    }\n",
       "\n",
       "    .dataframe tbody tr th {\n",
       "        vertical-align: top;\n",
       "    }\n",
       "\n",
       "    .dataframe thead th {\n",
       "        text-align: right;\n",
       "    }\n",
       "</style>\n",
       "<table border=\"1\" class=\"dataframe\">\n",
       "  <thead>\n",
       "    <tr style=\"text-align: right;\">\n",
       "      <th></th>\n",
       "      <th>id</th>\n",
       "      <th>prompt</th>\n",
       "      <th>answer</th>\n",
       "      <th>template</th>\n",
       "      <th>leaderboard</th>\n",
       "    </tr>\n",
       "  </thead>\n",
       "  <tbody>\n",
       "    <tr>\n",
       "      <th>count</th>\n",
       "      <td>12315</td>\n",
       "      <td>12315</td>\n",
       "      <td>12315</td>\n",
       "      <td>12315</td>\n",
       "      <td>12315</td>\n",
       "    </tr>\n",
       "    <tr>\n",
       "      <th>unique</th>\n",
       "      <td>1642</td>\n",
       "      <td>12314</td>\n",
       "      <td>994</td>\n",
       "      <td>15</td>\n",
       "      <td>2</td>\n",
       "    </tr>\n",
       "    <tr>\n",
       "      <th>top</th>\n",
       "      <td>1101.0552.pdf</td>\n",
       "      <td>Title:\\tA Sample ACM SIG Proceedings Paper in ...</td>\n",
       "      <td>unanswerable</td>\n",
       "      <td>drop_7</td>\n",
       "      <td>lb</td>\n",
       "    </tr>\n",
       "    <tr>\n",
       "      <th>freq</th>\n",
       "      <td>14</td>\n",
       "      <td>2</td>\n",
       "      <td>4902</td>\n",
       "      <td>822</td>\n",
       "      <td>7413</td>\n",
       "    </tr>\n",
       "  </tbody>\n",
       "</table>\n",
       "</div>"
      ],
      "text/plain": [
       "                   id                                             prompt  \\\n",
       "count           12315                                              12315   \n",
       "unique           1642                                              12314   \n",
       "top     1101.0552.pdf  Title:\\tA Sample ACM SIG Proceedings Paper in ...   \n",
       "freq               14                                                  2   \n",
       "\n",
       "              answer template leaderboard  \n",
       "count          12315    12315       12315  \n",
       "unique           994       15           2  \n",
       "top     unanswerable   drop_7          lb  \n",
       "freq            4902      822        7413  "
      ]
     },
     "execution_count": 6,
     "metadata": {},
     "output_type": "execute_result"
    }
   ],
   "source": [
    "dfs['validation'].describe()"
   ]
  },
  {
   "cell_type": "code",
   "execution_count": 7,
   "id": "98665bb4",
   "metadata": {},
   "outputs": [
    {
     "data": {
      "text/html": [
       "<div>\n",
       "<style scoped>\n",
       "    .dataframe tbody tr th:only-of-type {\n",
       "        vertical-align: middle;\n",
       "    }\n",
       "\n",
       "    .dataframe tbody tr th {\n",
       "        vertical-align: top;\n",
       "    }\n",
       "\n",
       "    .dataframe thead th {\n",
       "        text-align: right;\n",
       "    }\n",
       "</style>\n",
       "<table border=\"1\" class=\"dataframe\">\n",
       "  <thead>\n",
       "    <tr style=\"text-align: right;\">\n",
       "      <th></th>\n",
       "      <th>id</th>\n",
       "      <th>prompt</th>\n",
       "      <th>answer</th>\n",
       "      <th>template</th>\n",
       "      <th>leaderboard</th>\n",
       "    </tr>\n",
       "  </thead>\n",
       "  <tbody>\n",
       "    <tr>\n",
       "      <th>count</th>\n",
       "      <td>9000</td>\n",
       "      <td>9000</td>\n",
       "      <td>9000</td>\n",
       "      <td>9000</td>\n",
       "      <td>9000</td>\n",
       "    </tr>\n",
       "    <tr>\n",
       "      <th>unique</th>\n",
       "      <td>1200</td>\n",
       "      <td>8984</td>\n",
       "      <td>653</td>\n",
       "      <td>15</td>\n",
       "      <td>2</td>\n",
       "    </tr>\n",
       "    <tr>\n",
       "      <th>top</th>\n",
       "      <td>1812.01936v1.pdf</td>\n",
       "      <td>Read this and answer the question. If the ques...</td>\n",
       "      <td>unanswerable</td>\n",
       "      <td>drop_7</td>\n",
       "      <td>lb</td>\n",
       "    </tr>\n",
       "    <tr>\n",
       "      <th>freq</th>\n",
       "      <td>14</td>\n",
       "      <td>3</td>\n",
       "      <td>4122</td>\n",
       "      <td>601</td>\n",
       "      <td>4878</td>\n",
       "    </tr>\n",
       "  </tbody>\n",
       "</table>\n",
       "</div>"
      ],
      "text/plain": [
       "                      id                                             prompt  \\\n",
       "count               9000                                               9000   \n",
       "unique              1200                                               8984   \n",
       "top     1812.01936v1.pdf  Read this and answer the question. If the ques...   \n",
       "freq                  14                                                  3   \n",
       "\n",
       "              answer template leaderboard  \n",
       "count           9000     9000        9000  \n",
       "unique           653       15           2  \n",
       "top     unanswerable   drop_7          lb  \n",
       "freq            4122      601        4878  "
      ]
     },
     "execution_count": 7,
     "metadata": {},
     "output_type": "execute_result"
    }
   ],
   "source": [
    "dfs['zeroshot'].describe()"
   ]
  },
  {
   "cell_type": "code",
   "execution_count": 8,
   "id": "8dcd3f67",
   "metadata": {},
   "outputs": [
    {
     "data": {
      "image/png": "[encoded data removed]",
      "text/plain": [
       "<Figure size 576x576 with 1 Axes>"
      ]
     },
     "metadata": {},
     "output_type": "display_data"
    },
    {
     "data": {
      "image/png": "[encoded data removed]",
      "text/plain": [
       "<Figure size 576x576 with 1 Axes>"
      ]
     },
     "metadata": {},
     "output_type": "display_data"
    },
    {
     "data": {
      "image/png": "[encoded data removed]",
      "text/plain": [
       "<Figure size 576x576 with 1 Axes>"
      ]
     },
     "metadata": {},
     "output_type": "display_data"
    }
   ],
   "source": [
    "view_leaderboard_distribution(dfs)"
   ]
  },
  {
   "cell_type": "code",
   "execution_count": 9,
   "id": "6fa39072",
   "metadata": {},
   "outputs": [
    {
     "name": "stderr",
     "output_type": "stream",
     "text": [
      "100%|██████████| 1200/1200 [00:00<00:00, 7165.36it/s]\n"
     ]
    },
    {
     "name": "stdout",
     "output_type": "stream",
     "text": [
      "Missed_parsing_zero 0\n",
      "Lenght papers_to_drop in zeroshot based on train Title ID: 592\n",
      "Lenght papers_to_drop in zeroshot based on train TDM Match: 50\n",
      "Lenght papers from zeroshot with lb: 652\n",
      "Lenght papers from zeroshot with no_lb: 548\n",
      "Lenght papers from train with lb: 7987\n",
      "Lenght papers from train with no_lb: 4401\n",
      "\n",
      "validation\n",
      "\n"
     ]
    },
    {
     "name": "stderr",
     "output_type": "stream",
     "text": [
      "100%|██████████| 1642/1642 [00:00<00:00, 5530.71it/s]\n"
     ]
    },
    {
     "name": "stdout",
     "output_type": "stream",
     "text": [
      "Missed_parsing_zero 0\n",
      "Lenght papers_to_drop in validation based on train Title ID: 0\n",
      "Lenght papers_to_drop in validation based on train TDM Match: 753\n",
      "Lenght papers from validation with lb: 994\n",
      "Lenght papers from validation with no_lb: 648\n",
      "Lenght papers from train with lb: 7987\n",
      "Lenght papers from train with no_lb: 4401\n"
     ]
    }
   ],
   "source": [
    "zeroshot_papers_to_drop = remove_data_leakage(dfs, source=\"zeroshot\", target=\"train\", THRESHOLD=90)\n",
    "print(\"\\nvalidation\\n\")\n",
    "validation_papers_to_drop = remove_data_leakage(dfs, source=\"validation\", target=\"train\", THRESHOLD=90)"
   ]
  },
  {
   "cell_type": "code",
   "execution_count": 10,
   "id": "c5bac94b",
   "metadata": {},
   "outputs": [
    {
     "data": {
      "text/html": [
       "<div>\n",
       "<style scoped>\n",
       "    .dataframe tbody tr th:only-of-type {\n",
       "        vertical-align: middle;\n",
       "    }\n",
       "\n",
       "    .dataframe tbody tr th {\n",
       "        vertical-align: top;\n",
       "    }\n",
       "\n",
       "    .dataframe thead th {\n",
       "        text-align: right;\n",
       "    }\n",
       "</style>\n",
       "<table border=\"1\" class=\"dataframe\">\n",
       "  <thead>\n",
       "    <tr style=\"text-align: right;\">\n",
       "      <th></th>\n",
       "      <th>id</th>\n",
       "      <th>prompt</th>\n",
       "      <th>answer</th>\n",
       "      <th>template</th>\n",
       "      <th>leaderboard</th>\n",
       "    </tr>\n",
       "  </thead>\n",
       "  <tbody>\n",
       "    <tr>\n",
       "      <th>count</th>\n",
       "      <td>9000</td>\n",
       "      <td>9000</td>\n",
       "      <td>9000</td>\n",
       "      <td>9000</td>\n",
       "      <td>9000</td>\n",
       "    </tr>\n",
       "    <tr>\n",
       "      <th>unique</th>\n",
       "      <td>1200</td>\n",
       "      <td>8984</td>\n",
       "      <td>653</td>\n",
       "      <td>15</td>\n",
       "      <td>2</td>\n",
       "    </tr>\n",
       "    <tr>\n",
       "      <th>top</th>\n",
       "      <td>1812.01936v1.pdf</td>\n",
       "      <td>Read this and answer the question. If the ques...</td>\n",
       "      <td>unanswerable</td>\n",
       "      <td>drop_7</td>\n",
       "      <td>lb</td>\n",
       "    </tr>\n",
       "    <tr>\n",
       "      <th>freq</th>\n",
       "      <td>14</td>\n",
       "      <td>3</td>\n",
       "      <td>4122</td>\n",
       "      <td>601</td>\n",
       "      <td>4878</td>\n",
       "    </tr>\n",
       "  </tbody>\n",
       "</table>\n",
       "</div>"
      ],
      "text/plain": [
       "                      id                                             prompt  \\\n",
       "count               9000                                               9000   \n",
       "unique              1200                                               8984   \n",
       "top     1812.01936v1.pdf  Read this and answer the question. If the ques...   \n",
       "freq                  14                                                  3   \n",
       "\n",
       "              answer template leaderboard  \n",
       "count           9000     9000        9000  \n",
       "unique           653       15           2  \n",
       "top     unanswerable   drop_7          lb  \n",
       "freq            4122      601        4878  "
      ]
     },
     "execution_count": 10,
     "metadata": {},
     "output_type": "execute_result"
    }
   ],
   "source": [
    "dfs['zeroshot'].describe()"
   ]
  },
  {
   "cell_type": "code",
   "execution_count": 11,
   "id": "399e49c7",
   "metadata": {},
   "outputs": [
    {
     "name": "stdout",
     "output_type": "stream",
     "text": [
      "len(dfs['zeroshot']): 9000\n",
      "len(dfs['validation']): 12315\n",
      "len(dfs['zeroshot']): 4580\n",
      "len(dfs['validation']): 12315\n"
     ]
    }
   ],
   "source": [
    "print(f\"len(dfs['zeroshot']): {len(dfs['zeroshot'])}\")\n",
    "print(f\"len(dfs['validation']): {len(dfs['validation'])}\")\n",
    "\n",
    "dfs['zeroshot'] = dfs['zeroshot'][~dfs['zeroshot']['id'].isin(zeroshot_papers_to_drop['id'])]\n",
    "dfs['validation'] = dfs['validation'][~dfs['validation']['id'].isin(validation_papers_to_drop['id'])]\n",
    "\n",
    "print(f\"len(dfs['zeroshot']): {len(dfs['zeroshot'])}\")\n",
    "print(f\"len(dfs['validation']): {len(dfs['validation'])}\")"
   ]
  },
  {
   "cell_type": "code",
   "execution_count": 12,
   "id": "cb6ccd73",
   "metadata": {},
   "outputs": [
    {
     "data": {
      "text/html": [
       "<div>\n",
       "<style scoped>\n",
       "    .dataframe tbody tr th:only-of-type {\n",
       "        vertical-align: middle;\n",
       "    }\n",
       "\n",
       "    .dataframe tbody tr th {\n",
       "        vertical-align: top;\n",
       "    }\n",
       "\n",
       "    .dataframe thead th {\n",
       "        text-align: right;\n",
       "    }\n",
       "</style>\n",
       "<table border=\"1\" class=\"dataframe\">\n",
       "  <thead>\n",
       "    <tr style=\"text-align: right;\">\n",
       "      <th></th>\n",
       "      <th>id</th>\n",
       "      <th>prompt</th>\n",
       "      <th>answer</th>\n",
       "      <th>template</th>\n",
       "      <th>leaderboard</th>\n",
       "    </tr>\n",
       "  </thead>\n",
       "  <tbody>\n",
       "    <tr>\n",
       "      <th>count</th>\n",
       "      <td>4580</td>\n",
       "      <td>4580</td>\n",
       "      <td>4580</td>\n",
       "      <td>4580</td>\n",
       "      <td>4580</td>\n",
       "    </tr>\n",
       "    <tr>\n",
       "      <th>unique</th>\n",
       "      <td>608</td>\n",
       "      <td>4572</td>\n",
       "      <td>61</td>\n",
       "      <td>15</td>\n",
       "      <td>2</td>\n",
       "    </tr>\n",
       "    <tr>\n",
       "      <th>top</th>\n",
       "      <td>1409.8098.pdf</td>\n",
       "      <td>Answer based on context:\\n\\nTitle:\\tA Sample A...</td>\n",
       "      <td>unanswerable</td>\n",
       "      <td>squad_8</td>\n",
       "      <td>no_lb</td>\n",
       "    </tr>\n",
       "    <tr>\n",
       "      <th>freq</th>\n",
       "      <td>13</td>\n",
       "      <td>2</td>\n",
       "      <td>4122</td>\n",
       "      <td>323</td>\n",
       "      <td>4122</td>\n",
       "    </tr>\n",
       "  </tbody>\n",
       "</table>\n",
       "</div>"
      ],
      "text/plain": [
       "                   id                                             prompt  \\\n",
       "count            4580                                               4580   \n",
       "unique            608                                               4572   \n",
       "top     1409.8098.pdf  Answer based on context:\\n\\nTitle:\\tA Sample A...   \n",
       "freq               13                                                  2   \n",
       "\n",
       "              answer template leaderboard  \n",
       "count           4580     4580        4580  \n",
       "unique            61       15           2  \n",
       "top     unanswerable  squad_8       no_lb  \n",
       "freq            4122      323        4122  "
      ]
     },
     "execution_count": 12,
     "metadata": {},
     "output_type": "execute_result"
    }
   ],
   "source": [
    "dfs['zeroshot'].describe()"
   ]
  },
  {
   "cell_type": "code",
   "execution_count": 13,
   "id": "b597c431",
   "metadata": {},
   "outputs": [
    {
     "name": "stderr",
     "output_type": "stream",
     "text": [
      "100%|██████████| 608/608 [00:00<00:00, 7727.03it/s]\n"
     ]
    },
    {
     "name": "stdout",
     "output_type": "stream",
     "text": [
      "Missed_parsing_zero 0\n",
      "Lenght papers_to_drop in zeroshot based on train Title ID: 0\n",
      "Lenght papers_to_drop in zeroshot based on train TDM Match: 50\n",
      "Lenght papers from zeroshot with lb: 60\n",
      "Lenght papers from zeroshot with no_lb: 548\n",
      "Lenght papers from train with lb: 7987\n",
      "Lenght papers from train with no_lb: 4401\n",
      "\n",
      "validation\n",
      "\n"
     ]
    },
    {
     "name": "stderr",
     "output_type": "stream",
     "text": [
      "100%|██████████| 1642/1642 [00:00<00:00, 5540.06it/s]\n"
     ]
    },
    {
     "name": "stdout",
     "output_type": "stream",
     "text": [
      "Missed_parsing_zero 0\n",
      "Lenght papers_to_drop in validation based on train Title ID: 0\n",
      "Lenght papers_to_drop in validation based on train TDM Match: 753\n",
      "Lenght papers from validation with lb: 994\n",
      "Lenght papers from validation with no_lb: 648\n",
      "Lenght papers from train with lb: 7987\n",
      "Lenght papers from train with no_lb: 4401\n"
     ]
    }
   ],
   "source": [
    "# In zeroshot means paper to remove from zero-shot to make it real zershot, in the sense that \n",
    "# At least one of the leaderboard was not seen at training time \n",
    "zeroshot_papers_to_drop = remove_data_leakage(dfs, source=\"zeroshot\", target=\"train\", THRESHOLD=90)\n",
    "\n",
    "print(\"\\nvalidation\\n\")\n",
    "# in validation this means paper to keep as part of few shot \n",
    "validation_papers_to_drop = remove_data_leakage(dfs, source=\"validation\", target=\"train\", THRESHOLD=90)"
   ]
  },
  {
   "cell_type": "code",
   "execution_count": 14,
   "id": "2e2bd255",
   "metadata": {},
   "outputs": [
    {
     "name": "stdout",
     "output_type": "stream",
     "text": [
      "len(zeroshot_concat): 6394\n",
      "len(validation_concat): 12703\n"
     ]
    }
   ],
   "source": [
    "zeroshot_concat = pd.concat([dfs['zeroshot'], dfs['validation'][~(dfs['validation']['id'].isin(validation_papers_to_drop['tdm'])) & (dfs['validation']['leaderboard']==\"lb\")]], ignore_index=True)\n",
    "print(f\"len(zeroshot_concat): {len(zeroshot_concat)}\")\n",
    "# zeroshot_concat = dfs['zeroshot']\n",
    "# print(f\"len(zeroshot_concat): {len(zeroshot_concat)}\")\n",
    "\n",
    "validation_concat = pd.concat([dfs['validation'], dfs['zeroshot'][dfs['zeroshot']['id'].isin(zeroshot_papers_to_drop['tdm'])]], ignore_index=True)\n",
    "print(f\"len(validation_concat): {len(validation_concat)}\")"
   ]
  },
  {
   "cell_type": "code",
   "execution_count": 15,
   "id": "9b6b7dbd",
   "metadata": {},
   "outputs": [
    {
     "data": {
      "text/html": [
       "<div>\n",
       "<style scoped>\n",
       "    .dataframe tbody tr th:only-of-type {\n",
       "        vertical-align: middle;\n",
       "    }\n",
       "\n",
       "    .dataframe tbody tr th {\n",
       "        vertical-align: top;\n",
       "    }\n",
       "\n",
       "    .dataframe thead th {\n",
       "        text-align: right;\n",
       "    }\n",
       "</style>\n",
       "<table border=\"1\" class=\"dataframe\">\n",
       "  <thead>\n",
       "    <tr style=\"text-align: right;\">\n",
       "      <th></th>\n",
       "      <th>id</th>\n",
       "      <th>prompt</th>\n",
       "      <th>answer</th>\n",
       "      <th>template</th>\n",
       "      <th>leaderboard</th>\n",
       "    </tr>\n",
       "  </thead>\n",
       "  <tbody>\n",
       "    <tr>\n",
       "      <th>count</th>\n",
       "      <td>6006</td>\n",
       "      <td>6006</td>\n",
       "      <td>6006</td>\n",
       "      <td>6006</td>\n",
       "      <td>6006</td>\n",
       "    </tr>\n",
       "    <tr>\n",
       "      <th>unique</th>\n",
       "      <td>789</td>\n",
       "      <td>5968</td>\n",
       "      <td>242</td>\n",
       "      <td>15</td>\n",
       "      <td>2</td>\n",
       "    </tr>\n",
       "    <tr>\n",
       "      <th>top</th>\n",
       "      <td>1810.11408v2.pdf</td>\n",
       "      <td>Title:\\tRecognition of Instrument-Tissue Inter...</td>\n",
       "      <td>unanswerable</td>\n",
       "      <td>squad_8</td>\n",
       "      <td>no_lb</td>\n",
       "    </tr>\n",
       "    <tr>\n",
       "      <th>freq</th>\n",
       "      <td>19</td>\n",
       "      <td>2</td>\n",
       "      <td>4122</td>\n",
       "      <td>420</td>\n",
       "      <td>4122</td>\n",
       "    </tr>\n",
       "  </tbody>\n",
       "</table>\n",
       "</div>"
      ],
      "text/plain": [
       "                      id                                             prompt  \\\n",
       "count               6006                                               6006   \n",
       "unique               789                                               5968   \n",
       "top     1810.11408v2.pdf  Title:\\tRecognition of Instrument-Tissue Inter...   \n",
       "freq                  19                                                  2   \n",
       "\n",
       "              answer template leaderboard  \n",
       "count           6006     6006        6006  \n",
       "unique           242       15           2  \n",
       "top     unanswerable  squad_8       no_lb  \n",
       "freq            4122      420        4122  "
      ]
     },
     "execution_count": 15,
     "metadata": {},
     "output_type": "execute_result"
    }
   ],
   "source": [
    "# Filtering the DataFrame\n",
    "dfs['zeroshot'] = zeroshot_concat.copy()\n",
    "\n",
    "dfs['zeroshot'] = dfs['zeroshot'][~dfs['zeroshot']['id'].isin(zeroshot_papers_to_drop['tdm'])]\n",
    "\n",
    "dfs['zeroshot'].describe()"
   ]
  },
  {
   "cell_type": "code",
   "execution_count": 16,
   "id": "1fb279bc",
   "metadata": {},
   "outputs": [
    {
     "data": {
      "text/html": [
       "<div>\n",
       "<style scoped>\n",
       "    .dataframe tbody tr th:only-of-type {\n",
       "        vertical-align: middle;\n",
       "    }\n",
       "\n",
       "    .dataframe tbody tr th {\n",
       "        vertical-align: top;\n",
       "    }\n",
       "\n",
       "    .dataframe thead th {\n",
       "        text-align: right;\n",
       "    }\n",
       "</style>\n",
       "<table border=\"1\" class=\"dataframe\">\n",
       "  <thead>\n",
       "    <tr style=\"text-align: right;\">\n",
       "      <th></th>\n",
       "      <th>id</th>\n",
       "      <th>prompt</th>\n",
       "      <th>answer</th>\n",
       "      <th>template</th>\n",
       "      <th>leaderboard</th>\n",
       "    </tr>\n",
       "  </thead>\n",
       "  <tbody>\n",
       "    <tr>\n",
       "      <th>count</th>\n",
       "      <td>10889</td>\n",
       "      <td>10889</td>\n",
       "      <td>10889</td>\n",
       "      <td>10889</td>\n",
       "      <td>10889</td>\n",
       "    </tr>\n",
       "    <tr>\n",
       "      <th>unique</th>\n",
       "      <td>1401</td>\n",
       "      <td>10697</td>\n",
       "      <td>753</td>\n",
       "      <td>15</td>\n",
       "      <td>2</td>\n",
       "    </tr>\n",
       "    <tr>\n",
       "      <th>top</th>\n",
       "      <td>2006.13164v3.pdf</td>\n",
       "      <td>Read this: Title:\\tLearning to Compose Dynamic...</td>\n",
       "      <td>unanswerable</td>\n",
       "      <td>squad_1</td>\n",
       "      <td>lb</td>\n",
       "    </tr>\n",
       "    <tr>\n",
       "      <th>freq</th>\n",
       "      <td>21</td>\n",
       "      <td>2</td>\n",
       "      <td>4902</td>\n",
       "      <td>739</td>\n",
       "      <td>5987</td>\n",
       "    </tr>\n",
       "  </tbody>\n",
       "</table>\n",
       "</div>"
      ],
      "text/plain": [
       "                      id                                             prompt  \\\n",
       "count              10889                                              10889   \n",
       "unique              1401                                              10697   \n",
       "top     2006.13164v3.pdf  Read this: Title:\\tLearning to Compose Dynamic...   \n",
       "freq                  21                                                  2   \n",
       "\n",
       "              answer template leaderboard  \n",
       "count          10889    10889       10889  \n",
       "unique           753       15           2  \n",
       "top     unanswerable  squad_1          lb  \n",
       "freq            4902      739        5987  "
      ]
     },
     "execution_count": 16,
     "metadata": {},
     "output_type": "execute_result"
    }
   ],
   "source": [
    "# Filtering the DataFrame\n",
    "dfs['validation'] = validation_concat.copy()\n",
    "# I want to keep all the no leaderboard papers in validation \n",
    "dfs['validation'] = dfs['validation'][(dfs['validation']['id'].isin(validation_papers_to_drop['tdm'])) | (dfs['validation']['leaderboard']==\"no_lb\")]\n",
    "\n",
    "dfs['validation'].describe()"
   ]
  },
  {
   "cell_type": "code",
   "execution_count": 17,
   "id": "8810c733",
   "metadata": {},
   "outputs": [
    {
     "name": "stderr",
     "output_type": "stream",
     "text": [
      "100%|██████████| 789/789 [00:00<00:00, 6597.82it/s]\n"
     ]
    },
    {
     "name": "stdout",
     "output_type": "stream",
     "text": [
      "Missed_parsing_zero 0\n",
      "Lenght papers_to_drop in zeroshot based on train Title ID: 0\n",
      "Lenght papers_to_drop in zeroshot based on train TDM Match: 0\n",
      "Lenght papers from zeroshot with lb: 241\n",
      "Lenght papers from zeroshot with no_lb: 548\n",
      "Lenght papers from train with lb: 7987\n",
      "Lenght papers from train with no_lb: 4401\n",
      "\n",
      "validation\n",
      "\n"
     ]
    },
    {
     "name": "stderr",
     "output_type": "stream",
     "text": [
      "100%|██████████| 1401/1401 [00:00<00:00, 5838.04it/s]"
     ]
    },
    {
     "name": "stdout",
     "output_type": "stream",
     "text": [
      "Missed_parsing_zero 0\n",
      "Lenght papers_to_drop in validation based on train Title ID: 0\n",
      "Lenght papers_to_drop in validation based on train TDM Match: 753\n",
      "Lenght papers from validation with lb: 753\n",
      "Lenght papers from validation with no_lb: 648\n",
      "Lenght papers from train with lb: 7987\n",
      "Lenght papers from train with no_lb: 4401\n"
     ]
    },
    {
     "name": "stderr",
     "output_type": "stream",
     "text": [
      "\n"
     ]
    }
   ],
   "source": [
    "zeroshot_papers_to_drop = remove_data_leakage(dfs, source=\"zeroshot\", target=\"train\", THRESHOLD=90)\n",
    "print(\"\\nvalidation\\n\")\n",
    "validation_papers_to_drop = remove_data_leakage(dfs, source=\"validation\", target=\"train\", THRESHOLD=90)"
   ]
  },
  {
   "cell_type": "code",
   "execution_count": 18,
   "id": "4b3b6e09",
   "metadata": {},
   "outputs": [
    {
     "data": {
      "text/html": [
       "<div>\n",
       "<style scoped>\n",
       "    .dataframe tbody tr th:only-of-type {\n",
       "        vertical-align: middle;\n",
       "    }\n",
       "\n",
       "    .dataframe tbody tr th {\n",
       "        vertical-align: top;\n",
       "    }\n",
       "\n",
       "    .dataframe thead th {\n",
       "        text-align: right;\n",
       "    }\n",
       "</style>\n",
       "<table border=\"1\" class=\"dataframe\">\n",
       "  <thead>\n",
       "    <tr style=\"text-align: right;\">\n",
       "      <th></th>\n",
       "      <th>id</th>\n",
       "      <th>prompt</th>\n",
       "      <th>answer</th>\n",
       "      <th>template</th>\n",
       "      <th>leaderboard</th>\n",
       "    </tr>\n",
       "  </thead>\n",
       "  <tbody>\n",
       "    <tr>\n",
       "      <th>92905</th>\n",
       "      <td>1807.01511v1.pdf</td>\n",
       "      <td>Context: Title:\\tDeep Autoencoder for Combined...</td>\n",
       "      <td>[{'LEADERBOARD': {'Task': '3D Human Pose Estim...</td>\n",
       "      <td>drop_7</td>\n",
       "      <td>lb</td>\n",
       "    </tr>\n",
       "    <tr>\n",
       "      <th>92906</th>\n",
       "      <td>1907.05091v1.pdf</td>\n",
       "      <td>Context: Title:\\tEfficient Semantic Scene Comp...</td>\n",
       "      <td>[{'LEADERBOARD': {'Task': '3D Semantic Scene C...</td>\n",
       "      <td>drop_7</td>\n",
       "      <td>lb</td>\n",
       "    </tr>\n",
       "    <tr>\n",
       "      <th>92907</th>\n",
       "      <td>1410.1282.pdf</td>\n",
       "      <td>Context: Title:\\tCapacity Estimation for Vehic...</td>\n",
       "      <td>unanswerable</td>\n",
       "      <td>drop_7</td>\n",
       "      <td>no_lb</td>\n",
       "    </tr>\n",
       "    <tr>\n",
       "      <th>92908</th>\n",
       "      <td>1605.01627.pdf</td>\n",
       "      <td>Context: Title:\\tA Sensing Contribution-based ...</td>\n",
       "      <td>unanswerable</td>\n",
       "      <td>drop_7</td>\n",
       "      <td>no_lb</td>\n",
       "    </tr>\n",
       "    <tr>\n",
       "      <th>92909</th>\n",
       "      <td>1312.7217.pdf</td>\n",
       "      <td>Context: Title:\\tDistributed and Parallel Algo...</td>\n",
       "      <td>unanswerable</td>\n",
       "      <td>drop_7</td>\n",
       "      <td>no_lb</td>\n",
       "    </tr>\n",
       "  </tbody>\n",
       "</table>\n",
       "</div>"
      ],
      "text/plain": [
       "                     id                                             prompt  \\\n",
       "92905  1807.01511v1.pdf  Context: Title:\\tDeep Autoencoder for Combined...   \n",
       "92906  1907.05091v1.pdf  Context: Title:\\tEfficient Semantic Scene Comp...   \n",
       "92907     1410.1282.pdf  Context: Title:\\tCapacity Estimation for Vehic...   \n",
       "92908    1605.01627.pdf  Context: Title:\\tA Sensing Contribution-based ...   \n",
       "92909     1312.7217.pdf  Context: Title:\\tDistributed and Parallel Algo...   \n",
       "\n",
       "                                                  answer template leaderboard  \n",
       "92905  [{'LEADERBOARD': {'Task': '3D Human Pose Estim...   drop_7          lb  \n",
       "92906  [{'LEADERBOARD': {'Task': '3D Semantic Scene C...   drop_7          lb  \n",
       "92907                                       unanswerable   drop_7       no_lb  \n",
       "92908                                       unanswerable   drop_7       no_lb  \n",
       "92909                                       unanswerable   drop_7       no_lb  "
      ]
     },
     "execution_count": 18,
     "metadata": {},
     "output_type": "execute_result"
    }
   ],
   "source": [
    "dfs['train'].tail()"
   ]
  },
  {
   "cell_type": "code",
   "execution_count": 19,
   "id": "53e26e82",
   "metadata": {},
   "outputs": [
    {
     "data": {
      "image/png": "[encoded data removed]",
      "text/plain": [
       "<Figure size 576x576 with 1 Axes>"
      ]
     },
     "metadata": {},
     "output_type": "display_data"
    },
    {
     "data": {
      "image/png": "[encoded data removed]",
      "text/plain": [
       "<Figure size 576x576 with 1 Axes>"
      ]
     },
     "metadata": {},
     "output_type": "display_data"
    },
    {
     "data": {
      "image/png": "[encoded data removed]",
      "text/plain": [
       "<Figure size 576x576 with 1 Axes>"
      ]
     },
     "metadata": {},
     "output_type": "display_data"
    }
   ],
   "source": [
    "view_leaderboard_distribution(dfs)"
   ]
  },
  {
   "cell_type": "code",
   "execution_count": 20,
   "id": "72a2c5a0",
   "metadata": {},
   "outputs": [
    {
     "name": "stdout",
     "output_type": "stream",
     "text": [
      "zeroshot_paper_in_train: 0\n",
      "zeroshot_paper_in_validation: 0\n",
      "validation_paper_in_train: 0\n",
      "validation_paper_in_zeroshot: 0\n"
     ]
    }
   ],
   "source": [
    "verify_data_integrity(dfs, include_no_lb=False)"
   ]
  },
  {
   "cell_type": "code",
   "execution_count": 21,
   "metadata": {},
   "outputs": [
    {
     "data": {
      "text/html": [
       "<div>\n",
       "<style scoped>\n",
       "    .dataframe tbody tr th:only-of-type {\n",
       "        vertical-align: middle;\n",
       "    }\n",
       "\n",
       "    .dataframe tbody tr th {\n",
       "        vertical-align: top;\n",
       "    }\n",
       "\n",
       "    .dataframe thead th {\n",
       "        text-align: right;\n",
       "    }\n",
       "</style>\n",
       "<table border=\"1\" class=\"dataframe\">\n",
       "  <thead>\n",
       "    <tr style=\"text-align: right;\">\n",
       "      <th></th>\n",
       "      <th>id</th>\n",
       "      <th>prompt</th>\n",
       "      <th>answer</th>\n",
       "      <th>template</th>\n",
       "      <th>leaderboard</th>\n",
       "    </tr>\n",
       "  </thead>\n",
       "  <tbody>\n",
       "    <tr>\n",
       "      <th>count</th>\n",
       "      <td>6006</td>\n",
       "      <td>6006</td>\n",
       "      <td>6006</td>\n",
       "      <td>6006</td>\n",
       "      <td>6006</td>\n",
       "    </tr>\n",
       "    <tr>\n",
       "      <th>unique</th>\n",
       "      <td>789</td>\n",
       "      <td>5968</td>\n",
       "      <td>242</td>\n",
       "      <td>15</td>\n",
       "      <td>2</td>\n",
       "    </tr>\n",
       "    <tr>\n",
       "      <th>top</th>\n",
       "      <td>1810.11408v2.pdf</td>\n",
       "      <td>Title:\\tRecognition of Instrument-Tissue Inter...</td>\n",
       "      <td>unanswerable</td>\n",
       "      <td>squad_8</td>\n",
       "      <td>no_lb</td>\n",
       "    </tr>\n",
       "    <tr>\n",
       "      <th>freq</th>\n",
       "      <td>19</td>\n",
       "      <td>2</td>\n",
       "      <td>4122</td>\n",
       "      <td>420</td>\n",
       "      <td>4122</td>\n",
       "    </tr>\n",
       "  </tbody>\n",
       "</table>\n",
       "</div>"
      ],
      "text/plain": [
       "                      id                                             prompt  \\\n",
       "count               6006                                               6006   \n",
       "unique               789                                               5968   \n",
       "top     1810.11408v2.pdf  Title:\\tRecognition of Instrument-Tissue Inter...   \n",
       "freq                  19                                                  2   \n",
       "\n",
       "              answer template leaderboard  \n",
       "count           6006     6006        6006  \n",
       "unique           242       15           2  \n",
       "top     unanswerable  squad_8       no_lb  \n",
       "freq            4122      420        4122  "
      ]
     },
     "execution_count": 21,
     "metadata": {},
     "output_type": "execute_result"
    }
   ],
   "source": [
    "dfs['zeroshot'].describe()"
   ]
  },
  {
   "cell_type": "code",
   "execution_count": 22,
   "id": "a2c98552",
   "metadata": {},
   "outputs": [
    {
     "data": {
      "application/vnd.jupyter.widget-view+json": {
       "model_id": "569b1a932a874162831a94a178cde36d",
       "version_major": 2,
       "version_minor": 0
      },
      "text/plain": [
       "Saving the dataset (0/3 shards):   0%|          | 0/92910 [00:00<?, ? examples/s]"
      ]
     },
     "metadata": {},
     "output_type": "display_data"
    },
    {
     "data": {
      "application/vnd.jupyter.widget-view+json": {
       "model_id": "57fa6f4f94934bb8bf6fc227090e6219",
       "version_major": 2,
       "version_minor": 0
      },
      "text/plain": [
       "Saving the dataset (0/1 shards):   0%|          | 0/10889 [00:00<?, ? examples/s]"
      ]
     },
     "metadata": {},
     "output_type": "display_data"
    },
    {
     "data": {
      "application/vnd.jupyter.widget-view+json": {
       "model_id": "2bfac35ad6b7411784f63854ef4b64ae",
       "version_major": 2,
       "version_minor": 0
      },
      "text/plain": [
       "Saving the dataset (0/1 shards):   0%|          | 0/6006 [00:00<?, ? examples/s]"
      ]
     },
     "metadata": {},
     "output_type": "display_data"
    }
   ],
   "source": [
    "dataset = DatasetDict({\n",
    "        \"train\": Dataset.from_pandas(dfs['train']),\n",
    "        \"validation\": Dataset.from_pandas(dfs['validation']),\n",
    "        \"zeroshot\": Dataset.from_pandas(dfs['zeroshot'])\n",
    "    })\n",
    "\n",
    "dataset.save_to_disk(\"../data/LEADERBOARDS_REC_TDMS_50_PERCENT_TEMPLATES\")\n",
    "# LLLM_AUGMENTED_SUMMARIZED_WITH_ID_ZEROSHOT_TDMS_50_PERCENT"
   ]
  },
  {
   "cell_type": "markdown",
   "id": "87779144",
   "metadata": {},
   "source": [
    "## LONG"
   ]
  },
  {
   "cell_type": "code",
   "execution_count": 23,
   "id": "ae1202f4",
   "metadata": {},
   "outputs": [],
   "source": [
    "dataset_path = f\"../data/LLLM_AUGMENTED_SUMMARIZED_ZEROSHOT_TDMS_50_PERCENT_LONG/fold1\"\n",
    "\n",
    "dataset_dict = DatasetDict.load_from_disk(f\"{dataset_path}\")\n",
    "    \n",
    "dfs = {split: dataset.to_pandas() for split, dataset in dataset_dict.items()}\n",
    "\n",
    "dfs['train']['leaderboard'] = dfs['train'].answer.apply(lambda x: \"no_lb\" if x == \"unanswerable\" else \"lb\")\n",
    "dfs['validation']['leaderboard'] = dfs['validation'].answer.apply(lambda x: \"no_lb\" if x == \"unanswerable\" else \"lb\")\n",
    "dfs['zeroshot']['leaderboard'] = dfs['zeroshot'].answer.apply(lambda x: \"no_lb\" if x == \"unanswerable\" else \"lb\")"
   ]
  },
  {
   "cell_type": "code",
   "execution_count": 24,
   "id": "58080503",
   "metadata": {},
   "outputs": [
    {
     "data": {
      "text/html": [
       "<div>\n",
       "<style scoped>\n",
       "    .dataframe tbody tr th:only-of-type {\n",
       "        vertical-align: middle;\n",
       "    }\n",
       "\n",
       "    .dataframe tbody tr th {\n",
       "        vertical-align: top;\n",
       "    }\n",
       "\n",
       "    .dataframe thead th {\n",
       "        text-align: right;\n",
       "    }\n",
       "</style>\n",
       "<table border=\"1\" class=\"dataframe\">\n",
       "  <thead>\n",
       "    <tr style=\"text-align: right;\">\n",
       "      <th></th>\n",
       "      <th>id</th>\n",
       "      <th>prompt</th>\n",
       "      <th>answer</th>\n",
       "      <th>template</th>\n",
       "      <th>leaderboard</th>\n",
       "    </tr>\n",
       "  </thead>\n",
       "  <tbody>\n",
       "    <tr>\n",
       "      <th>count</th>\n",
       "      <td>88535</td>\n",
       "      <td>88535</td>\n",
       "      <td>88535</td>\n",
       "      <td>88535</td>\n",
       "      <td>88535</td>\n",
       "    </tr>\n",
       "    <tr>\n",
       "      <th>unique</th>\n",
       "      <td>11807</td>\n",
       "      <td>88382</td>\n",
       "      <td>7733</td>\n",
       "      <td>15</td>\n",
       "      <td>2</td>\n",
       "    </tr>\n",
       "    <tr>\n",
       "      <th>top</th>\n",
       "      <td>1302.6454.pdf</td>\n",
       "      <td>Title:\\t\\n\\nAbstract:\\t\\n\\n    [caption={Demon...</td>\n",
       "      <td>unanswerable</td>\n",
       "      <td>squad_2</td>\n",
       "      <td>lb</td>\n",
       "    </tr>\n",
       "    <tr>\n",
       "      <th>freq</th>\n",
       "      <td>14</td>\n",
       "      <td>4</td>\n",
       "      <td>30569</td>\n",
       "      <td>5934</td>\n",
       "      <td>57966</td>\n",
       "    </tr>\n",
       "  </tbody>\n",
       "</table>\n",
       "</div>"
      ],
      "text/plain": [
       "                   id                                             prompt  \\\n",
       "count           88535                                              88535   \n",
       "unique          11807                                              88382   \n",
       "top     1302.6454.pdf  Title:\\t\\n\\nAbstract:\\t\\n\\n    [caption={Demon...   \n",
       "freq               14                                                  4   \n",
       "\n",
       "              answer template leaderboard  \n",
       "count          88535    88535       88535  \n",
       "unique          7733       15           2  \n",
       "top     unanswerable  squad_2          lb  \n",
       "freq           30569     5934       57966  "
      ]
     },
     "execution_count": 24,
     "metadata": {},
     "output_type": "execute_result"
    }
   ],
   "source": [
    "dfs['train'].drop([\"prompt lenght\", \"__index_level_0__\"], axis=1).describe()"
   ]
  },
  {
   "cell_type": "code",
   "execution_count": 25,
   "id": "f9852e62",
   "metadata": {},
   "outputs": [
    {
     "data": {
      "text/html": [
       "<div>\n",
       "<style scoped>\n",
       "    .dataframe tbody tr th:only-of-type {\n",
       "        vertical-align: middle;\n",
       "    }\n",
       "\n",
       "    .dataframe tbody tr th {\n",
       "        vertical-align: top;\n",
       "    }\n",
       "\n",
       "    .dataframe thead th {\n",
       "        text-align: right;\n",
       "    }\n",
       "</style>\n",
       "<table border=\"1\" class=\"dataframe\">\n",
       "  <thead>\n",
       "    <tr style=\"text-align: right;\">\n",
       "      <th></th>\n",
       "      <th>id</th>\n",
       "      <th>prompt</th>\n",
       "      <th>answer</th>\n",
       "      <th>template</th>\n",
       "      <th>leaderboard</th>\n",
       "    </tr>\n",
       "  </thead>\n",
       "  <tbody>\n",
       "    <tr>\n",
       "      <th>count</th>\n",
       "      <td>11725</td>\n",
       "      <td>11725</td>\n",
       "      <td>11725</td>\n",
       "      <td>11725</td>\n",
       "      <td>11725</td>\n",
       "    </tr>\n",
       "    <tr>\n",
       "      <th>unique</th>\n",
       "      <td>1565</td>\n",
       "      <td>11723</td>\n",
       "      <td>961</td>\n",
       "      <td>15</td>\n",
       "      <td>2</td>\n",
       "    </tr>\n",
       "    <tr>\n",
       "      <th>top</th>\n",
       "      <td>1905.09272v3.pdf</td>\n",
       "      <td>Title:\\tA Sample ACM SIG Proceedings Paper in ...</td>\n",
       "      <td>unanswerable</td>\n",
       "      <td>squad_3</td>\n",
       "      <td>lb</td>\n",
       "    </tr>\n",
       "    <tr>\n",
       "      <th>freq</th>\n",
       "      <td>14</td>\n",
       "      <td>2</td>\n",
       "      <td>4565</td>\n",
       "      <td>792</td>\n",
       "      <td>7160</td>\n",
       "    </tr>\n",
       "  </tbody>\n",
       "</table>\n",
       "</div>"
      ],
      "text/plain": [
       "                      id                                             prompt  \\\n",
       "count              11725                                              11725   \n",
       "unique              1565                                              11723   \n",
       "top     1905.09272v3.pdf  Title:\\tA Sample ACM SIG Proceedings Paper in ...   \n",
       "freq                  14                                                  2   \n",
       "\n",
       "              answer template leaderboard  \n",
       "count          11725    11725       11725  \n",
       "unique           961       15           2  \n",
       "top     unanswerable  squad_3          lb  \n",
       "freq            4565      792        7160  "
      ]
     },
     "execution_count": 25,
     "metadata": {},
     "output_type": "execute_result"
    }
   ],
   "source": [
    "dfs['validation'].drop([\"prompt lenght\", \"__index_level_0__\"], axis=1).describe()"
   ]
  },
  {
   "cell_type": "code",
   "execution_count": 26,
   "id": "024eb54e",
   "metadata": {},
   "outputs": [
    {
     "data": {
      "text/html": [
       "<div>\n",
       "<style scoped>\n",
       "    .dataframe tbody tr th:only-of-type {\n",
       "        vertical-align: middle;\n",
       "    }\n",
       "\n",
       "    .dataframe tbody tr th {\n",
       "        vertical-align: top;\n",
       "    }\n",
       "\n",
       "    .dataframe thead th {\n",
       "        text-align: right;\n",
       "    }\n",
       "</style>\n",
       "<table border=\"1\" class=\"dataframe\">\n",
       "  <thead>\n",
       "    <tr style=\"text-align: right;\">\n",
       "      <th></th>\n",
       "      <th>id</th>\n",
       "      <th>prompt</th>\n",
       "      <th>answer</th>\n",
       "      <th>template</th>\n",
       "      <th>leaderboard</th>\n",
       "    </tr>\n",
       "  </thead>\n",
       "  <tbody>\n",
       "    <tr>\n",
       "      <th>count</th>\n",
       "      <td>8504</td>\n",
       "      <td>8504</td>\n",
       "      <td>8504</td>\n",
       "      <td>8504</td>\n",
       "      <td>8504</td>\n",
       "    </tr>\n",
       "    <tr>\n",
       "      <th>unique</th>\n",
       "      <td>1137</td>\n",
       "      <td>8496</td>\n",
       "      <td>631</td>\n",
       "      <td>15</td>\n",
       "      <td>2</td>\n",
       "    </tr>\n",
       "    <tr>\n",
       "      <th>top</th>\n",
       "      <td>1812.01936v1.pdf</td>\n",
       "      <td>Title:\\tA Sample ACM SIG Proceedings Paper in ...</td>\n",
       "      <td>unanswerable</td>\n",
       "      <td>squad_6</td>\n",
       "      <td>lb</td>\n",
       "    </tr>\n",
       "    <tr>\n",
       "      <th>freq</th>\n",
       "      <td>14</td>\n",
       "      <td>2</td>\n",
       "      <td>3804</td>\n",
       "      <td>575</td>\n",
       "      <td>4700</td>\n",
       "    </tr>\n",
       "  </tbody>\n",
       "</table>\n",
       "</div>"
      ],
      "text/plain": [
       "                      id                                             prompt  \\\n",
       "count               8504                                               8504   \n",
       "unique              1137                                               8496   \n",
       "top     1812.01936v1.pdf  Title:\\tA Sample ACM SIG Proceedings Paper in ...   \n",
       "freq                  14                                                  2   \n",
       "\n",
       "              answer template leaderboard  \n",
       "count           8504     8504        8504  \n",
       "unique           631       15           2  \n",
       "top     unanswerable  squad_6          lb  \n",
       "freq            3804      575        4700  "
      ]
     },
     "execution_count": 26,
     "metadata": {},
     "output_type": "execute_result"
    }
   ],
   "source": [
    "dfs['zeroshot'].drop([\"prompt lenght\", \"__index_level_0__\"], axis=1).describe()"
   ]
  },
  {
   "cell_type": "code",
   "execution_count": 27,
   "id": "6dcf5fb7",
   "metadata": {},
   "outputs": [
    {
     "data": {
      "image/png": "[encoded data removed]",
      "text/plain": [
       "<Figure size 576x576 with 1 Axes>"
      ]
     },
     "metadata": {},
     "output_type": "display_data"
    },
    {
     "data": {
      "image/png": "[encoded data removed]",
      "text/plain": [
       "<Figure size 576x576 with 1 Axes>"
      ]
     },
     "metadata": {},
     "output_type": "display_data"
    },
    {
     "data": {
      "image/png": "[encoded data removed]",
      "text/plain": [
       "<Figure size 576x576 with 1 Axes>"
      ]
     },
     "metadata": {},
     "output_type": "display_data"
    }
   ],
   "source": [
    "view_leaderboard_distribution(dfs)"
   ]
  },
  {
   "cell_type": "code",
   "execution_count": 28,
   "id": "8fc345bd",
   "metadata": {},
   "outputs": [
    {
     "name": "stderr",
     "output_type": "stream",
     "text": [
      "100%|██████████| 1137/1137 [00:00<00:00, 7536.21it/s]\n"
     ]
    },
    {
     "name": "stdout",
     "output_type": "stream",
     "text": [
      "Missed_parsing_zero 0\n",
      "Lenght papers_to_drop in zeroshot based on train Title ID: 572\n",
      "Lenght papers_to_drop in zeroshot based on train TDM Match: 48\n",
      "Lenght papers from zeroshot with lb: 630\n",
      "Lenght papers from zeroshot with no_lb: 507\n",
      "Lenght papers from train with lb: 7744\n",
      "Lenght papers from train with no_lb: 4063\n",
      "\n",
      "validation\n",
      "\n"
     ]
    },
    {
     "name": "stderr",
     "output_type": "stream",
     "text": [
      "100%|██████████| 1565/1565 [00:00<00:00, 5752.35it/s]"
     ]
    },
    {
     "name": "stdout",
     "output_type": "stream",
     "text": [
      "Missed_parsing_zero 0\n",
      "Lenght papers_to_drop in validation based on train Title ID: 0\n",
      "Lenght papers_to_drop in validation based on train TDM Match: 722\n",
      "Lenght papers from validation with lb: 961\n",
      "Lenght papers from validation with no_lb: 604\n",
      "Lenght papers from train with lb: 7744\n",
      "Lenght papers from train with no_lb: 4063\n"
     ]
    },
    {
     "name": "stderr",
     "output_type": "stream",
     "text": [
      "\n"
     ]
    }
   ],
   "source": [
    "zeroshot_papers_to_drop = remove_data_leakage(dfs, source=\"zeroshot\", target=\"train\", THRESHOLD=90)\n",
    "print(\"\\nvalidation\\n\")\n",
    "validation_papers_to_drop = remove_data_leakage(dfs, source=\"validation\", target=\"train\", THRESHOLD=90)"
   ]
  },
  {
   "cell_type": "code",
   "execution_count": 29,
   "id": "8530e113",
   "metadata": {},
   "outputs": [
    {
     "data": {
      "text/html": [
       "<div>\n",
       "<style scoped>\n",
       "    .dataframe tbody tr th:only-of-type {\n",
       "        vertical-align: middle;\n",
       "    }\n",
       "\n",
       "    .dataframe tbody tr th {\n",
       "        vertical-align: top;\n",
       "    }\n",
       "\n",
       "    .dataframe thead th {\n",
       "        text-align: right;\n",
       "    }\n",
       "</style>\n",
       "<table border=\"1\" class=\"dataframe\">\n",
       "  <thead>\n",
       "    <tr style=\"text-align: right;\">\n",
       "      <th></th>\n",
       "      <th>id</th>\n",
       "      <th>prompt</th>\n",
       "      <th>answer</th>\n",
       "      <th>template</th>\n",
       "      <th>leaderboard</th>\n",
       "    </tr>\n",
       "  </thead>\n",
       "  <tbody>\n",
       "    <tr>\n",
       "      <th>count</th>\n",
       "      <td>8504</td>\n",
       "      <td>8504</td>\n",
       "      <td>8504</td>\n",
       "      <td>8504</td>\n",
       "      <td>8504</td>\n",
       "    </tr>\n",
       "    <tr>\n",
       "      <th>unique</th>\n",
       "      <td>1137</td>\n",
       "      <td>8496</td>\n",
       "      <td>631</td>\n",
       "      <td>15</td>\n",
       "      <td>2</td>\n",
       "    </tr>\n",
       "    <tr>\n",
       "      <th>top</th>\n",
       "      <td>1812.01936v1.pdf</td>\n",
       "      <td>Title:\\tA Sample ACM SIG Proceedings Paper in ...</td>\n",
       "      <td>unanswerable</td>\n",
       "      <td>squad_6</td>\n",
       "      <td>lb</td>\n",
       "    </tr>\n",
       "    <tr>\n",
       "      <th>freq</th>\n",
       "      <td>14</td>\n",
       "      <td>2</td>\n",
       "      <td>3804</td>\n",
       "      <td>575</td>\n",
       "      <td>4700</td>\n",
       "    </tr>\n",
       "  </tbody>\n",
       "</table>\n",
       "</div>"
      ],
      "text/plain": [
       "                      id                                             prompt  \\\n",
       "count               8504                                               8504   \n",
       "unique              1137                                               8496   \n",
       "top     1812.01936v1.pdf  Title:\\tA Sample ACM SIG Proceedings Paper in ...   \n",
       "freq                  14                                                  2   \n",
       "\n",
       "              answer template leaderboard  \n",
       "count           8504     8504        8504  \n",
       "unique           631       15           2  \n",
       "top     unanswerable  squad_6          lb  \n",
       "freq            3804      575        4700  "
      ]
     },
     "execution_count": 29,
     "metadata": {},
     "output_type": "execute_result"
    }
   ],
   "source": [
    "dfs['zeroshot'].drop([\"prompt lenght\", \"__index_level_0__\"], axis=1).describe()"
   ]
  },
  {
   "cell_type": "code",
   "execution_count": 30,
   "id": "81182ae6",
   "metadata": {},
   "outputs": [
    {
     "name": "stdout",
     "output_type": "stream",
     "text": [
      "len(dfs['zeroshot']): 8504\n",
      "len(dfs['validation']): 11725\n",
      "len(dfs['zeroshot']): 4245\n",
      "len(dfs['validation']): 11725\n"
     ]
    }
   ],
   "source": [
    "print(f\"len(dfs['zeroshot']): {len(dfs['zeroshot'])}\")\n",
    "print(f\"len(dfs['validation']): {len(dfs['validation'])}\")\n",
    "\n",
    "dfs['zeroshot'] = dfs['zeroshot'][~dfs['zeroshot']['id'].isin(zeroshot_papers_to_drop['id'])]\n",
    "dfs['validation'] = dfs['validation'][~dfs['validation']['id'].isin(validation_papers_to_drop['id'])]\n",
    "\n",
    "print(f\"len(dfs['zeroshot']): {len(dfs['zeroshot'])}\")\n",
    "print(f\"len(dfs['validation']): {len(dfs['validation'])}\")"
   ]
  },
  {
   "cell_type": "code",
   "execution_count": 31,
   "id": "4befbb92",
   "metadata": {},
   "outputs": [
    {
     "data": {
      "text/html": [
       "<div>\n",
       "<style scoped>\n",
       "    .dataframe tbody tr th:only-of-type {\n",
       "        vertical-align: middle;\n",
       "    }\n",
       "\n",
       "    .dataframe tbody tr th {\n",
       "        vertical-align: top;\n",
       "    }\n",
       "\n",
       "    .dataframe thead th {\n",
       "        text-align: right;\n",
       "    }\n",
       "</style>\n",
       "<table border=\"1\" class=\"dataframe\">\n",
       "  <thead>\n",
       "    <tr style=\"text-align: right;\">\n",
       "      <th></th>\n",
       "      <th>id</th>\n",
       "      <th>prompt</th>\n",
       "      <th>answer</th>\n",
       "      <th>template</th>\n",
       "      <th>leaderboard</th>\n",
       "    </tr>\n",
       "  </thead>\n",
       "  <tbody>\n",
       "    <tr>\n",
       "      <th>count</th>\n",
       "      <td>4245</td>\n",
       "      <td>4245</td>\n",
       "      <td>4245</td>\n",
       "      <td>4245</td>\n",
       "      <td>4245</td>\n",
       "    </tr>\n",
       "    <tr>\n",
       "      <th>unique</th>\n",
       "      <td>565</td>\n",
       "      <td>4237</td>\n",
       "      <td>59</td>\n",
       "      <td>15</td>\n",
       "      <td>2</td>\n",
       "    </tr>\n",
       "    <tr>\n",
       "      <th>top</th>\n",
       "      <td>1409.8098.pdf</td>\n",
       "      <td>Read this and answer the question. If the ques...</td>\n",
       "      <td>unanswerable</td>\n",
       "      <td>drop_6</td>\n",
       "      <td>no_lb</td>\n",
       "    </tr>\n",
       "    <tr>\n",
       "      <th>freq</th>\n",
       "      <td>13</td>\n",
       "      <td>2</td>\n",
       "      <td>3804</td>\n",
       "      <td>297</td>\n",
       "      <td>3804</td>\n",
       "    </tr>\n",
       "  </tbody>\n",
       "</table>\n",
       "</div>"
      ],
      "text/plain": [
       "                   id                                             prompt  \\\n",
       "count            4245                                               4245   \n",
       "unique            565                                               4237   \n",
       "top     1409.8098.pdf  Read this and answer the question. If the ques...   \n",
       "freq               13                                                  2   \n",
       "\n",
       "              answer template leaderboard  \n",
       "count           4245     4245        4245  \n",
       "unique            59       15           2  \n",
       "top     unanswerable   drop_6       no_lb  \n",
       "freq            3804      297        3804  "
      ]
     },
     "execution_count": 31,
     "metadata": {},
     "output_type": "execute_result"
    }
   ],
   "source": [
    "dfs['zeroshot'].drop([\"prompt lenght\", \"__index_level_0__\"], axis=1).describe()"
   ]
  },
  {
   "cell_type": "code",
   "execution_count": 32,
   "id": "f5ed89a1",
   "metadata": {},
   "outputs": [
    {
     "name": "stderr",
     "output_type": "stream",
     "text": [
      "100%|██████████| 565/565 [00:00<00:00, 8214.40it/s]\n"
     ]
    },
    {
     "name": "stdout",
     "output_type": "stream",
     "text": [
      "Missed_parsing_zero 0\n",
      "Lenght papers_to_drop in zeroshot based on train Title ID: 0\n",
      "Lenght papers_to_drop in zeroshot based on train TDM Match: 48\n",
      "Lenght papers from zeroshot with lb: 58\n",
      "Lenght papers from zeroshot with no_lb: 507\n",
      "Lenght papers from train with lb: 7744\n",
      "Lenght papers from train with no_lb: 4063\n",
      "\n",
      "validation\n",
      "\n"
     ]
    },
    {
     "name": "stderr",
     "output_type": "stream",
     "text": [
      "100%|██████████| 1565/1565 [00:00<00:00, 5856.92it/s]"
     ]
    },
    {
     "name": "stdout",
     "output_type": "stream",
     "text": [
      "Missed_parsing_zero 0\n",
      "Lenght papers_to_drop in validation based on train Title ID: 0\n",
      "Lenght papers_to_drop in validation based on train TDM Match: 722\n",
      "Lenght papers from validation with lb: 961\n",
      "Lenght papers from validation with no_lb: 604\n",
      "Lenght papers from train with lb: 7744\n",
      "Lenght papers from train with no_lb: 4063\n"
     ]
    },
    {
     "name": "stderr",
     "output_type": "stream",
     "text": [
      "\n"
     ]
    }
   ],
   "source": [
    "# In zeroshot means paper to remove from zero-shot to make it real zershot, in the sense that \n",
    "# At least one of the leaderboard was not seen at training time \n",
    "zeroshot_papers_to_drop = remove_data_leakage(dfs, source=\"zeroshot\", target=\"train\", THRESHOLD=90)\n",
    "\n",
    "print(\"\\nvalidation\\n\")\n",
    "# in validation this means paper to keep as part of few shot \n",
    "validation_papers_to_drop = remove_data_leakage(dfs, source=\"validation\", target=\"train\", THRESHOLD=90)"
   ]
  },
  {
   "cell_type": "code",
   "execution_count": 33,
   "id": "55071e98",
   "metadata": {},
   "outputs": [
    {
     "name": "stdout",
     "output_type": "stream",
     "text": [
      "len(zeroshot_concat): 6045\n",
      "len(validation_concat): 12096\n"
     ]
    }
   ],
   "source": [
    "zeroshot_concat = pd.concat([dfs['zeroshot'], dfs['validation'][~(dfs['validation']['id'].isin(validation_papers_to_drop['tdm'])) & (dfs['validation']['leaderboard']==\"lb\")]], ignore_index=True)\n",
    "print(f\"len(zeroshot_concat): {len(zeroshot_concat)}\")\n",
    "# zeroshot_concat = dfs['zeroshot']\n",
    "# print(f\"len(zeroshot_concat): {len(zeroshot_concat)}\")\n",
    "\n",
    "validation_concat = pd.concat([dfs['validation'], dfs['zeroshot'][dfs['zeroshot']['id'].isin(zeroshot_papers_to_drop['tdm'])]], ignore_index=True)\n",
    "print(f\"len(validation_concat): {len(validation_concat)}\")"
   ]
  },
  {
   "cell_type": "code",
   "execution_count": 34,
   "id": "689e1cc1",
   "metadata": {},
   "outputs": [
    {
     "data": {
      "text/html": [
       "<div>\n",
       "<style scoped>\n",
       "    .dataframe tbody tr th:only-of-type {\n",
       "        vertical-align: middle;\n",
       "    }\n",
       "\n",
       "    .dataframe tbody tr th {\n",
       "        vertical-align: top;\n",
       "    }\n",
       "\n",
       "    .dataframe thead th {\n",
       "        text-align: right;\n",
       "    }\n",
       "</style>\n",
       "<table border=\"1\" class=\"dataframe\">\n",
       "  <thead>\n",
       "    <tr style=\"text-align: right;\">\n",
       "      <th></th>\n",
       "      <th>id</th>\n",
       "      <th>prompt</th>\n",
       "      <th>answer</th>\n",
       "      <th>template</th>\n",
       "      <th>leaderboard</th>\n",
       "    </tr>\n",
       "  </thead>\n",
       "  <tbody>\n",
       "    <tr>\n",
       "      <th>count</th>\n",
       "      <td>5674</td>\n",
       "      <td>5674</td>\n",
       "      <td>5674</td>\n",
       "      <td>5674</td>\n",
       "      <td>5674</td>\n",
       "    </tr>\n",
       "    <tr>\n",
       "      <th>unique</th>\n",
       "      <td>746</td>\n",
       "      <td>5636</td>\n",
       "      <td>240</td>\n",
       "      <td>15</td>\n",
       "      <td>2</td>\n",
       "    </tr>\n",
       "    <tr>\n",
       "      <th>top</th>\n",
       "      <td>1810.11408v2.pdf</td>\n",
       "      <td>Title:\\tESRGAN: Enhanced Super-Resolution Gene...</td>\n",
       "      <td>unanswerable</td>\n",
       "      <td>squad_3</td>\n",
       "      <td>no_lb</td>\n",
       "    </tr>\n",
       "    <tr>\n",
       "      <th>freq</th>\n",
       "      <td>19</td>\n",
       "      <td>2</td>\n",
       "      <td>3804</td>\n",
       "      <td>399</td>\n",
       "      <td>3804</td>\n",
       "    </tr>\n",
       "  </tbody>\n",
       "</table>\n",
       "</div>"
      ],
      "text/plain": [
       "                      id                                             prompt  \\\n",
       "count               5674                                               5674   \n",
       "unique               746                                               5636   \n",
       "top     1810.11408v2.pdf  Title:\\tESRGAN: Enhanced Super-Resolution Gene...   \n",
       "freq                  19                                                  2   \n",
       "\n",
       "              answer template leaderboard  \n",
       "count           5674     5674        5674  \n",
       "unique           240       15           2  \n",
       "top     unanswerable  squad_3       no_lb  \n",
       "freq            3804      399        3804  "
      ]
     },
     "execution_count": 34,
     "metadata": {},
     "output_type": "execute_result"
    }
   ],
   "source": [
    "# Filtering the DataFrame\n",
    "dfs['zeroshot'] = zeroshot_concat.copy()\n",
    "\n",
    "dfs['zeroshot'] = dfs['zeroshot'][~dfs['zeroshot']['id'].isin(zeroshot_papers_to_drop['tdm'])]\n",
    "\n",
    "dfs['zeroshot'].drop([\"prompt lenght\", \"__index_level_0__\"], axis=1).describe()"
   ]
  },
  {
   "cell_type": "code",
   "execution_count": 35,
   "id": "71546e35",
   "metadata": {},
   "outputs": [
    {
     "data": {
      "text/html": [
       "<div>\n",
       "<style scoped>\n",
       "    .dataframe tbody tr th:only-of-type {\n",
       "        vertical-align: middle;\n",
       "    }\n",
       "\n",
       "    .dataframe tbody tr th {\n",
       "        vertical-align: top;\n",
       "    }\n",
       "\n",
       "    .dataframe thead th {\n",
       "        text-align: right;\n",
       "    }\n",
       "</style>\n",
       "<table border=\"1\" class=\"dataframe\">\n",
       "  <thead>\n",
       "    <tr style=\"text-align: right;\">\n",
       "      <th></th>\n",
       "      <th>id</th>\n",
       "      <th>prompt</th>\n",
       "      <th>answer</th>\n",
       "      <th>template</th>\n",
       "      <th>leaderboard</th>\n",
       "    </tr>\n",
       "  </thead>\n",
       "  <tbody>\n",
       "    <tr>\n",
       "      <th>count</th>\n",
       "      <td>10296</td>\n",
       "      <td>10296</td>\n",
       "      <td>10296</td>\n",
       "      <td>10296</td>\n",
       "      <td>10296</td>\n",
       "    </tr>\n",
       "    <tr>\n",
       "      <th>unique</th>\n",
       "      <td>1326</td>\n",
       "      <td>10110</td>\n",
       "      <td>722</td>\n",
       "      <td>15</td>\n",
       "      <td>2</td>\n",
       "    </tr>\n",
       "    <tr>\n",
       "      <th>top</th>\n",
       "      <td>2006.13164v3.pdf</td>\n",
       "      <td>Title:\\tSoftmax Splatting for Video Frame Inte...</td>\n",
       "      <td>unanswerable</td>\n",
       "      <td>drop_5</td>\n",
       "      <td>lb</td>\n",
       "    </tr>\n",
       "    <tr>\n",
       "      <th>freq</th>\n",
       "      <td>21</td>\n",
       "      <td>2</td>\n",
       "      <td>4565</td>\n",
       "      <td>697</td>\n",
       "      <td>5731</td>\n",
       "    </tr>\n",
       "  </tbody>\n",
       "</table>\n",
       "</div>"
      ],
      "text/plain": [
       "                      id                                             prompt  \\\n",
       "count              10296                                              10296   \n",
       "unique              1326                                              10110   \n",
       "top     2006.13164v3.pdf  Title:\\tSoftmax Splatting for Video Frame Inte...   \n",
       "freq                  21                                                  2   \n",
       "\n",
       "              answer template leaderboard  \n",
       "count          10296    10296       10296  \n",
       "unique           722       15           2  \n",
       "top     unanswerable   drop_5          lb  \n",
       "freq            4565      697        5731  "
      ]
     },
     "execution_count": 35,
     "metadata": {},
     "output_type": "execute_result"
    }
   ],
   "source": [
    "# Filtering the DataFrame\n",
    "dfs['validation'] = validation_concat.copy()\n",
    "# I want to keep all the no leaderboard papers in validation \n",
    "dfs['validation'] = dfs['validation'][(dfs['validation']['id'].isin(validation_papers_to_drop['tdm'])) | (dfs['validation']['leaderboard']==\"no_lb\")]\n",
    "\n",
    "dfs['validation'].drop([\"prompt lenght\", \"__index_level_0__\"], axis=1).describe()"
   ]
  },
  {
   "cell_type": "code",
   "execution_count": 36,
   "metadata": {},
   "outputs": [
    {
     "name": "stderr",
     "output_type": "stream",
     "text": [
      "100%|██████████| 746/746 [00:00<00:00, 3506.99it/s]\n"
     ]
    },
    {
     "name": "stdout",
     "output_type": "stream",
     "text": [
      "Missed_parsing_zero 0\n",
      "Lenght papers_to_drop in zeroshot based on train Title ID: 0\n",
      "Lenght papers_to_drop in zeroshot based on train TDM Match: 0\n",
      "Lenght papers from zeroshot with lb: 239\n",
      "Lenght papers from zeroshot with no_lb: 507\n",
      "Lenght papers from train with lb: 7744\n",
      "Lenght papers from train with no_lb: 4063\n",
      "\n",
      "validation\n",
      "\n"
     ]
    },
    {
     "name": "stderr",
     "output_type": "stream",
     "text": [
      "100%|██████████| 1326/1326 [00:00<00:00, 6065.34it/s]"
     ]
    },
    {
     "name": "stdout",
     "output_type": "stream",
     "text": [
      "Missed_parsing_zero 0\n",
      "Lenght papers_to_drop in validation based on train Title ID: 0\n",
      "Lenght papers_to_drop in validation based on train TDM Match: 722\n",
      "Lenght papers from validation with lb: 722\n",
      "Lenght papers from validation with no_lb: 604\n",
      "Lenght papers from train with lb: 7744\n",
      "Lenght papers from train with no_lb: 4063\n"
     ]
    },
    {
     "name": "stderr",
     "output_type": "stream",
     "text": [
      "\n"
     ]
    }
   ],
   "source": [
    "zeroshot_papers_to_drop = remove_data_leakage(dfs, source=\"zeroshot\", target=\"train\", THRESHOLD=90)\n",
    "print(\"\\nvalidation\\n\")\n",
    "validation_papers_to_drop = remove_data_leakage(dfs, source=\"validation\", target=\"train\", THRESHOLD=90)"
   ]
  },
  {
   "cell_type": "code",
   "execution_count": 37,
   "id": "9957d5a1",
   "metadata": {},
   "outputs": [],
   "source": [
    "dfs['train'].drop([\"__index_level_0__\"], inplace=True, axis=1)\n",
    "dfs['validation'].drop([\"__index_level_0__\"], inplace=True, axis=1)\n",
    "dfs['zeroshot'].drop([\"__index_level_0__\"], inplace=True, axis=1)"
   ]
  },
  {
   "cell_type": "code",
   "execution_count": 38,
   "id": "f1681eea",
   "metadata": {},
   "outputs": [
    {
     "data": {
      "text/html": [
       "<div>\n",
       "<style scoped>\n",
       "    .dataframe tbody tr th:only-of-type {\n",
       "        vertical-align: middle;\n",
       "    }\n",
       "\n",
       "    .dataframe tbody tr th {\n",
       "        vertical-align: top;\n",
       "    }\n",
       "\n",
       "    .dataframe thead th {\n",
       "        text-align: right;\n",
       "    }\n",
       "</style>\n",
       "<table border=\"1\" class=\"dataframe\">\n",
       "  <thead>\n",
       "    <tr style=\"text-align: right;\">\n",
       "      <th></th>\n",
       "      <th>id</th>\n",
       "      <th>prompt</th>\n",
       "      <th>answer</th>\n",
       "      <th>template</th>\n",
       "      <th>prompt lenght</th>\n",
       "      <th>leaderboard</th>\n",
       "    </tr>\n",
       "  </thead>\n",
       "  <tbody>\n",
       "    <tr>\n",
       "      <th>88530</th>\n",
       "      <td>1909.09314v2.pdf</td>\n",
       "      <td>Context: Title:\\t\\n\\nAbstract:\\t\\n\\nExperiment...</td>\n",
       "      <td>[{'LEADERBOARD': {'Task': 'MuJoCo Games', 'Dat...</td>\n",
       "      <td>drop_7</td>\n",
       "      <td>1297</td>\n",
       "      <td>lb</td>\n",
       "    </tr>\n",
       "    <tr>\n",
       "      <th>88531</th>\n",
       "      <td>1907.05091v1.pdf</td>\n",
       "      <td>Context: Title:\\tEfficient Semantic Scene Comp...</td>\n",
       "      <td>[{'LEADERBOARD': {'Task': '3D Semantic Scene C...</td>\n",
       "      <td>drop_7</td>\n",
       "      <td>4925</td>\n",
       "      <td>lb</td>\n",
       "    </tr>\n",
       "    <tr>\n",
       "      <th>88532</th>\n",
       "      <td>1410.1282.pdf</td>\n",
       "      <td>Context: Title:\\tCapacity Estimation for Vehic...</td>\n",
       "      <td>unanswerable</td>\n",
       "      <td>drop_7</td>\n",
       "      <td>8442</td>\n",
       "      <td>no_lb</td>\n",
       "    </tr>\n",
       "    <tr>\n",
       "      <th>88533</th>\n",
       "      <td>1605.01627.pdf</td>\n",
       "      <td>Context: Title:\\tA Sensing Contribution-based ...</td>\n",
       "      <td>unanswerable</td>\n",
       "      <td>drop_7</td>\n",
       "      <td>7466</td>\n",
       "      <td>no_lb</td>\n",
       "    </tr>\n",
       "    <tr>\n",
       "      <th>88534</th>\n",
       "      <td>1312.7217.pdf</td>\n",
       "      <td>Context: Title:\\tDistributed and Parallel Algo...</td>\n",
       "      <td>unanswerable</td>\n",
       "      <td>drop_7</td>\n",
       "      <td>11583</td>\n",
       "      <td>no_lb</td>\n",
       "    </tr>\n",
       "  </tbody>\n",
       "</table>\n",
       "</div>"
      ],
      "text/plain": [
       "                     id                                             prompt  \\\n",
       "88530  1909.09314v2.pdf  Context: Title:\\t\\n\\nAbstract:\\t\\n\\nExperiment...   \n",
       "88531  1907.05091v1.pdf  Context: Title:\\tEfficient Semantic Scene Comp...   \n",
       "88532     1410.1282.pdf  Context: Title:\\tCapacity Estimation for Vehic...   \n",
       "88533    1605.01627.pdf  Context: Title:\\tA Sensing Contribution-based ...   \n",
       "88534     1312.7217.pdf  Context: Title:\\tDistributed and Parallel Algo...   \n",
       "\n",
       "                                                  answer template  \\\n",
       "88530  [{'LEADERBOARD': {'Task': 'MuJoCo Games', 'Dat...   drop_7   \n",
       "88531  [{'LEADERBOARD': {'Task': '3D Semantic Scene C...   drop_7   \n",
       "88532                                       unanswerable   drop_7   \n",
       "88533                                       unanswerable   drop_7   \n",
       "88534                                       unanswerable   drop_7   \n",
       "\n",
       "       prompt lenght leaderboard  \n",
       "88530           1297          lb  \n",
       "88531           4925          lb  \n",
       "88532           8442       no_lb  \n",
       "88533           7466       no_lb  \n",
       "88534          11583       no_lb  "
      ]
     },
     "execution_count": 38,
     "metadata": {},
     "output_type": "execute_result"
    }
   ],
   "source": [
    "dfs['train'].tail()"
   ]
  },
  {
   "cell_type": "code",
   "execution_count": 39,
   "id": "6ad31adf",
   "metadata": {},
   "outputs": [
    {
     "data": {
      "image/png": "[encoded data removed]",
      "text/plain": [
       "<Figure size 576x576 with 1 Axes>"
      ]
     },
     "metadata": {},
     "output_type": "display_data"
    },
    {
     "data": {
      "image/png": "[encoded data removed]",
      "text/plain": [
       "<Figure size 576x576 with 1 Axes>"
      ]
     },
     "metadata": {},
     "output_type": "display_data"
    },
    {
     "data": {
      "image/png": "[encoded data removed]",
      "text/plain": [
       "<Figure size 576x576 with 1 Axes>"
      ]
     },
     "metadata": {},
     "output_type": "display_data"
    }
   ],
   "source": [
    "view_leaderboard_distribution(dfs)"
   ]
  },
  {
   "cell_type": "code",
   "execution_count": 40,
   "id": "57994e98",
   "metadata": {},
   "outputs": [
    {
     "name": "stdout",
     "output_type": "stream",
     "text": [
      "zeroshot_paper_in_train: 0\n",
      "zeroshot_paper_in_validation: 0\n",
      "validation_paper_in_train: 0\n",
      "validation_paper_in_zeroshot: 0\n"
     ]
    }
   ],
   "source": [
    "verify_data_integrity(dfs, include_no_lb=False)"
   ]
  },
  {
   "cell_type": "code",
   "execution_count": 41,
   "id": "54b2338f",
   "metadata": {},
   "outputs": [
    {
     "data": {
      "text/html": [
       "<div>\n",
       "<style scoped>\n",
       "    .dataframe tbody tr th:only-of-type {\n",
       "        vertical-align: middle;\n",
       "    }\n",
       "\n",
       "    .dataframe tbody tr th {\n",
       "        vertical-align: top;\n",
       "    }\n",
       "\n",
       "    .dataframe thead th {\n",
       "        text-align: right;\n",
       "    }\n",
       "</style>\n",
       "<table border=\"1\" class=\"dataframe\">\n",
       "  <thead>\n",
       "    <tr style=\"text-align: right;\">\n",
       "      <th></th>\n",
       "      <th>id</th>\n",
       "      <th>prompt</th>\n",
       "      <th>answer</th>\n",
       "      <th>template</th>\n",
       "      <th>leaderboard</th>\n",
       "    </tr>\n",
       "  </thead>\n",
       "  <tbody>\n",
       "    <tr>\n",
       "      <th>count</th>\n",
       "      <td>5674</td>\n",
       "      <td>5674</td>\n",
       "      <td>5674</td>\n",
       "      <td>5674</td>\n",
       "      <td>5674</td>\n",
       "    </tr>\n",
       "    <tr>\n",
       "      <th>unique</th>\n",
       "      <td>746</td>\n",
       "      <td>5636</td>\n",
       "      <td>240</td>\n",
       "      <td>15</td>\n",
       "      <td>2</td>\n",
       "    </tr>\n",
       "    <tr>\n",
       "      <th>top</th>\n",
       "      <td>1810.11408v2.pdf</td>\n",
       "      <td>Title:\\tESRGAN: Enhanced Super-Resolution Gene...</td>\n",
       "      <td>unanswerable</td>\n",
       "      <td>squad_3</td>\n",
       "      <td>no_lb</td>\n",
       "    </tr>\n",
       "    <tr>\n",
       "      <th>freq</th>\n",
       "      <td>19</td>\n",
       "      <td>2</td>\n",
       "      <td>3804</td>\n",
       "      <td>399</td>\n",
       "      <td>3804</td>\n",
       "    </tr>\n",
       "  </tbody>\n",
       "</table>\n",
       "</div>"
      ],
      "text/plain": [
       "                      id                                             prompt  \\\n",
       "count               5674                                               5674   \n",
       "unique               746                                               5636   \n",
       "top     1810.11408v2.pdf  Title:\\tESRGAN: Enhanced Super-Resolution Gene...   \n",
       "freq                  19                                                  2   \n",
       "\n",
       "              answer template leaderboard  \n",
       "count           5674     5674        5674  \n",
       "unique           240       15           2  \n",
       "top     unanswerable  squad_3       no_lb  \n",
       "freq            3804      399        3804  "
      ]
     },
     "execution_count": 41,
     "metadata": {},
     "output_type": "execute_result"
    }
   ],
   "source": [
    "dfs['zeroshot'].drop([\"prompt lenght\"], axis=1).describe()"
   ]
  },
  {
   "cell_type": "code",
   "execution_count": 42,
   "id": "04dcee1a",
   "metadata": {},
   "outputs": [
    {
     "data": {
      "application/vnd.jupyter.widget-view+json": {
       "model_id": "2f7e2b237ea84ede9ba35e2cbadc320a",
       "version_major": 2,
       "version_minor": 0
      },
      "text/plain": [
       "Saving the dataset (0/8 shards):   0%|          | 0/88535 [00:00<?, ? examples/s]"
      ]
     },
     "metadata": {},
     "output_type": "display_data"
    },
    {
     "data": {
      "application/vnd.jupyter.widget-view+json": {
       "model_id": "ec8af06e4c184750a497f347d3555ab1",
       "version_major": 2,
       "version_minor": 0
      },
      "text/plain": [
       "Saving the dataset (0/1 shards):   0%|          | 0/10296 [00:00<?, ? examples/s]"
      ]
     },
     "metadata": {},
     "output_type": "display_data"
    },
    {
     "data": {
      "application/vnd.jupyter.widget-view+json": {
       "model_id": "dbcce23bc47341bbb280ba631300bd5b",
       "version_major": 2,
       "version_minor": 0
      },
      "text/plain": [
       "Saving the dataset (0/1 shards):   0%|          | 0/5674 [00:00<?, ? examples/s]"
      ]
     },
     "metadata": {},
     "output_type": "display_data"
    }
   ],
   "source": [
    "dataset = DatasetDict({\n",
    "        \"train\": Dataset.from_pandas(dfs['train']),\n",
    "        \"validation\": Dataset.from_pandas(dfs['validation']),\n",
    "        \"zeroshot\": Dataset.from_pandas(dfs['zeroshot'])\n",
    "    })\n",
    "\n",
    "dataset.save_to_disk(\"../data/LEADERBOARDS_LONG_TDMS_50_PERCENT_TEMPLATES\")"
   ]
  },
  {
   "cell_type": "markdown",
   "id": "8d73d1cc",
   "metadata": {},
   "source": [
    "## DOCTEAT"
   ]
  },
  {
   "cell_type": "code",
   "execution_count": 43,
   "id": "af260d94",
   "metadata": {},
   "outputs": [],
   "source": [
    "dataset_path = f\"../data/LLLM_AUGMENTED_SUMMARIZED_ZEROSHOT_TDMS_50_PERCENT_DOCTEAT/fold1\"\n",
    "\n",
    "dataset_dict = DatasetDict.load_from_disk(f\"{dataset_path}\")\n",
    "    \n",
    "dfs = {split: dataset.to_pandas() for split, dataset in dataset_dict.items()}\n",
    "\n",
    "dfs['train']['leaderboard'] = dfs['train'].answer.apply(lambda x: \"no_lb\" if x == \"unanswerable\" else \"lb\")\n",
    "dfs['validation']['leaderboard'] = dfs['validation'].answer.apply(lambda x: \"no_lb\" if x == \"unanswerable\" else \"lb\")\n",
    "dfs['zeroshot']['leaderboard'] = dfs['zeroshot'].answer.apply(lambda x: \"no_lb\" if x == \"unanswerable\" else \"lb\")"
   ]
  },
  {
   "cell_type": "code",
   "execution_count": 44,
   "id": "fd481d61",
   "metadata": {},
   "outputs": [
    {
     "data": {
      "text/html": [
       "<div>\n",
       "<style scoped>\n",
       "    .dataframe tbody tr th:only-of-type {\n",
       "        vertical-align: middle;\n",
       "    }\n",
       "\n",
       "    .dataframe tbody tr th {\n",
       "        vertical-align: top;\n",
       "    }\n",
       "\n",
       "    .dataframe thead th {\n",
       "        text-align: right;\n",
       "    }\n",
       "</style>\n",
       "<table border=\"1\" class=\"dataframe\">\n",
       "  <thead>\n",
       "    <tr style=\"text-align: right;\">\n",
       "      <th></th>\n",
       "      <th>id</th>\n",
       "      <th>prompt</th>\n",
       "      <th>answer</th>\n",
       "      <th>template</th>\n",
       "      <th>leaderboard</th>\n",
       "    </tr>\n",
       "  </thead>\n",
       "  <tbody>\n",
       "    <tr>\n",
       "      <th>count</th>\n",
       "      <td>75396</td>\n",
       "      <td>75396</td>\n",
       "      <td>75396</td>\n",
       "      <td>75396</td>\n",
       "      <td>75396</td>\n",
       "    </tr>\n",
       "    <tr>\n",
       "      <th>unique</th>\n",
       "      <td>10058</td>\n",
       "      <td>75181</td>\n",
       "      <td>7016</td>\n",
       "      <td>15</td>\n",
       "      <td>2</td>\n",
       "    </tr>\n",
       "    <tr>\n",
       "      <th>top</th>\n",
       "      <td>1603.00856v3.pdf</td>\n",
       "      <td>Author Guidelines for ECCV Submission The abst...</td>\n",
       "      <td>unanswerable</td>\n",
       "      <td>drop_6</td>\n",
       "      <td>lb</td>\n",
       "    </tr>\n",
       "    <tr>\n",
       "      <th>freq</th>\n",
       "      <td>14</td>\n",
       "      <td>6</td>\n",
       "      <td>22800</td>\n",
       "      <td>5068</td>\n",
       "      <td>52596</td>\n",
       "    </tr>\n",
       "  </tbody>\n",
       "</table>\n",
       "</div>"
      ],
      "text/plain": [
       "                      id                                             prompt  \\\n",
       "count              75396                                              75396   \n",
       "unique             10058                                              75181   \n",
       "top     1603.00856v3.pdf  Author Guidelines for ECCV Submission The abst...   \n",
       "freq                  14                                                  6   \n",
       "\n",
       "              answer template leaderboard  \n",
       "count          75396    75396       75396  \n",
       "unique          7016       15           2  \n",
       "top     unanswerable   drop_6          lb  \n",
       "freq           22800     5068       52596  "
      ]
     },
     "execution_count": 44,
     "metadata": {},
     "output_type": "execute_result"
    }
   ],
   "source": [
    "dfs['train'].drop([\"prompt lenght\", \"__index_level_0__\"], axis=1).describe()"
   ]
  },
  {
   "cell_type": "code",
   "execution_count": 45,
   "id": "aaa4276b",
   "metadata": {},
   "outputs": [
    {
     "data": {
      "text/html": [
       "<div>\n",
       "<style scoped>\n",
       "    .dataframe tbody tr th:only-of-type {\n",
       "        vertical-align: middle;\n",
       "    }\n",
       "\n",
       "    .dataframe tbody tr th {\n",
       "        vertical-align: top;\n",
       "    }\n",
       "\n",
       "    .dataframe thead th {\n",
       "        text-align: right;\n",
       "    }\n",
       "</style>\n",
       "<table border=\"1\" class=\"dataframe\">\n",
       "  <thead>\n",
       "    <tr style=\"text-align: right;\">\n",
       "      <th></th>\n",
       "      <th>id</th>\n",
       "      <th>prompt</th>\n",
       "      <th>answer</th>\n",
       "      <th>template</th>\n",
       "      <th>leaderboard</th>\n",
       "    </tr>\n",
       "  </thead>\n",
       "  <tbody>\n",
       "    <tr>\n",
       "      <th>count</th>\n",
       "      <td>10103</td>\n",
       "      <td>10103</td>\n",
       "      <td>10103</td>\n",
       "      <td>10103</td>\n",
       "      <td>10103</td>\n",
       "    </tr>\n",
       "    <tr>\n",
       "      <th>unique</th>\n",
       "      <td>1347</td>\n",
       "      <td>10102</td>\n",
       "      <td>903</td>\n",
       "      <td>15</td>\n",
       "      <td>2</td>\n",
       "    </tr>\n",
       "    <tr>\n",
       "      <th>top</th>\n",
       "      <td>1101.0552.pdf</td>\n",
       "      <td>Context: Segmentation Transformer: Object-Cont...</td>\n",
       "      <td>unanswerable</td>\n",
       "      <td>squad_3</td>\n",
       "      <td>lb</td>\n",
       "    </tr>\n",
       "    <tr>\n",
       "      <th>freq</th>\n",
       "      <td>14</td>\n",
       "      <td>2</td>\n",
       "      <td>3355</td>\n",
       "      <td>690</td>\n",
       "      <td>6748</td>\n",
       "    </tr>\n",
       "  </tbody>\n",
       "</table>\n",
       "</div>"
      ],
      "text/plain": [
       "                   id                                             prompt  \\\n",
       "count           10103                                              10103   \n",
       "unique           1347                                              10102   \n",
       "top     1101.0552.pdf  Context: Segmentation Transformer: Object-Cont...   \n",
       "freq               14                                                  2   \n",
       "\n",
       "              answer template leaderboard  \n",
       "count          10103    10103       10103  \n",
       "unique           903       15           2  \n",
       "top     unanswerable  squad_3          lb  \n",
       "freq            3355      690        6748  "
      ]
     },
     "execution_count": 45,
     "metadata": {},
     "output_type": "execute_result"
    }
   ],
   "source": [
    "dfs['validation'].drop([\"prompt lenght\", \"__index_level_0__\"], axis=1).describe()"
   ]
  },
  {
   "cell_type": "code",
   "execution_count": 46,
   "id": "e4abc28f",
   "metadata": {},
   "outputs": [
    {
     "data": {
      "text/html": [
       "<div>\n",
       "<style scoped>\n",
       "    .dataframe tbody tr th:only-of-type {\n",
       "        vertical-align: middle;\n",
       "    }\n",
       "\n",
       "    .dataframe tbody tr th {\n",
       "        vertical-align: top;\n",
       "    }\n",
       "\n",
       "    .dataframe thead th {\n",
       "        text-align: right;\n",
       "    }\n",
       "</style>\n",
       "<table border=\"1\" class=\"dataframe\">\n",
       "  <thead>\n",
       "    <tr style=\"text-align: right;\">\n",
       "      <th></th>\n",
       "      <th>id</th>\n",
       "      <th>prompt</th>\n",
       "      <th>answer</th>\n",
       "      <th>template</th>\n",
       "      <th>leaderboard</th>\n",
       "    </tr>\n",
       "  </thead>\n",
       "  <tbody>\n",
       "    <tr>\n",
       "      <th>count</th>\n",
       "      <td>6903</td>\n",
       "      <td>6903</td>\n",
       "      <td>6903</td>\n",
       "      <td>6903</td>\n",
       "      <td>6903</td>\n",
       "    </tr>\n",
       "    <tr>\n",
       "      <th>unique</th>\n",
       "      <td>926</td>\n",
       "      <td>6903</td>\n",
       "      <td>574</td>\n",
       "      <td>15</td>\n",
       "      <td>2</td>\n",
       "    </tr>\n",
       "    <tr>\n",
       "      <th>top</th>\n",
       "      <td>1812.01936v1.pdf</td>\n",
       "      <td>Very Deep Transformers for Neural Machine Tran...</td>\n",
       "      <td>unanswerable</td>\n",
       "      <td>drop_5</td>\n",
       "      <td>lb</td>\n",
       "    </tr>\n",
       "    <tr>\n",
       "      <th>freq</th>\n",
       "      <td>14</td>\n",
       "      <td>1</td>\n",
       "      <td>2622</td>\n",
       "      <td>471</td>\n",
       "      <td>4281</td>\n",
       "    </tr>\n",
       "  </tbody>\n",
       "</table>\n",
       "</div>"
      ],
      "text/plain": [
       "                      id                                             prompt  \\\n",
       "count               6903                                               6903   \n",
       "unique               926                                               6903   \n",
       "top     1812.01936v1.pdf  Very Deep Transformers for Neural Machine Tran...   \n",
       "freq                  14                                                  1   \n",
       "\n",
       "              answer template leaderboard  \n",
       "count           6903     6903        6903  \n",
       "unique           574       15           2  \n",
       "top     unanswerable   drop_5          lb  \n",
       "freq            2622      471        4281  "
      ]
     },
     "execution_count": 46,
     "metadata": {},
     "output_type": "execute_result"
    }
   ],
   "source": [
    "dfs['zeroshot'].drop([\"prompt lenght\", \"__index_level_0__\"], axis=1).describe()"
   ]
  },
  {
   "cell_type": "code",
   "execution_count": 47,
   "id": "41dc7a2d",
   "metadata": {},
   "outputs": [
    {
     "data": {
      "image/png": "[encoded data removed]",
      "text/plain": [
       "<Figure size 576x576 with 1 Axes>"
      ]
     },
     "metadata": {},
     "output_type": "display_data"
    },
    {
     "data": {
      "image/png": "[encoded data removed]",
      "text/plain": [
       "<Figure size 576x576 with 1 Axes>"
      ]
     },
     "metadata": {},
     "output_type": "display_data"
    },
    {
     "data": {
      "image/png": "[encoded data removed]",
      "text/plain": [
       "<Figure size 576x576 with 1 Axes>"
      ]
     },
     "metadata": {},
     "output_type": "display_data"
    }
   ],
   "source": [
    "view_leaderboard_distribution(dfs)"
   ]
  },
  {
   "cell_type": "code",
   "execution_count": 48,
   "id": "06b4a20f",
   "metadata": {},
   "outputs": [
    {
     "name": "stderr",
     "output_type": "stream",
     "text": [
      "100%|██████████| 926/926 [00:00<00:00, 4496.97it/s]\n"
     ]
    },
    {
     "name": "stdout",
     "output_type": "stream",
     "text": [
      "Missed_parsing_zero 0\n",
      "Lenght papers_to_drop in zeroshot based on train Title ID: 518\n",
      "Lenght papers_to_drop in zeroshot based on train TDM Match: 44\n",
      "Lenght papers from zeroshot with lb: 573\n",
      "Lenght papers from zeroshot with no_lb: 353\n",
      "Lenght papers from train with lb: 7025\n",
      "Lenght papers from train with no_lb: 3033\n",
      "\n",
      "validation\n",
      "\n"
     ]
    },
    {
     "name": "stderr",
     "output_type": "stream",
     "text": [
      "100%|██████████| 1347/1347 [00:00<00:00, 6527.10it/s]"
     ]
    },
    {
     "name": "stdout",
     "output_type": "stream",
     "text": [
      "Missed_parsing_zero 0\n",
      "Lenght papers_to_drop in validation based on train Title ID: 0\n",
      "Lenght papers_to_drop in validation based on train TDM Match: 661\n",
      "Lenght papers from validation with lb: 903\n",
      "Lenght papers from validation with no_lb: 444\n",
      "Lenght papers from train with lb: 7025\n",
      "Lenght papers from train with no_lb: 3033\n"
     ]
    },
    {
     "name": "stderr",
     "output_type": "stream",
     "text": [
      "\n"
     ]
    }
   ],
   "source": [
    "zeroshot_papers_to_drop = remove_data_leakage(dfs, source=\"zeroshot\", target=\"train\", THRESHOLD=90)\n",
    "print(\"\\nvalidation\\n\")\n",
    "validation_papers_to_drop = remove_data_leakage(dfs, source=\"validation\", target=\"train\", THRESHOLD=90)"
   ]
  },
  {
   "cell_type": "code",
   "execution_count": 49,
   "metadata": {},
   "outputs": [
    {
     "data": {
      "text/html": [
       "<div>\n",
       "<style scoped>\n",
       "    .dataframe tbody tr th:only-of-type {\n",
       "        vertical-align: middle;\n",
       "    }\n",
       "\n",
       "    .dataframe tbody tr th {\n",
       "        vertical-align: top;\n",
       "    }\n",
       "\n",
       "    .dataframe thead th {\n",
       "        text-align: right;\n",
       "    }\n",
       "</style>\n",
       "<table border=\"1\" class=\"dataframe\">\n",
       "  <thead>\n",
       "    <tr style=\"text-align: right;\">\n",
       "      <th></th>\n",
       "      <th>id</th>\n",
       "      <th>prompt</th>\n",
       "      <th>answer</th>\n",
       "      <th>template</th>\n",
       "      <th>leaderboard</th>\n",
       "    </tr>\n",
       "  </thead>\n",
       "  <tbody>\n",
       "    <tr>\n",
       "      <th>count</th>\n",
       "      <td>6903</td>\n",
       "      <td>6903</td>\n",
       "      <td>6903</td>\n",
       "      <td>6903</td>\n",
       "      <td>6903</td>\n",
       "    </tr>\n",
       "    <tr>\n",
       "      <th>unique</th>\n",
       "      <td>926</td>\n",
       "      <td>6903</td>\n",
       "      <td>574</td>\n",
       "      <td>15</td>\n",
       "      <td>2</td>\n",
       "    </tr>\n",
       "    <tr>\n",
       "      <th>top</th>\n",
       "      <td>1812.01936v1.pdf</td>\n",
       "      <td>Very Deep Transformers for Neural Machine Tran...</td>\n",
       "      <td>unanswerable</td>\n",
       "      <td>drop_5</td>\n",
       "      <td>lb</td>\n",
       "    </tr>\n",
       "    <tr>\n",
       "      <th>freq</th>\n",
       "      <td>14</td>\n",
       "      <td>1</td>\n",
       "      <td>2622</td>\n",
       "      <td>471</td>\n",
       "      <td>4281</td>\n",
       "    </tr>\n",
       "  </tbody>\n",
       "</table>\n",
       "</div>"
      ],
      "text/plain": [
       "                      id                                             prompt  \\\n",
       "count               6903                                               6903   \n",
       "unique               926                                               6903   \n",
       "top     1812.01936v1.pdf  Very Deep Transformers for Neural Machine Tran...   \n",
       "freq                  14                                                  1   \n",
       "\n",
       "              answer template leaderboard  \n",
       "count           6903     6903        6903  \n",
       "unique           574       15           2  \n",
       "top     unanswerable   drop_5          lb  \n",
       "freq            2622      471        4281  "
      ]
     },
     "execution_count": 49,
     "metadata": {},
     "output_type": "execute_result"
    }
   ],
   "source": [
    "dfs['zeroshot'].drop([\"prompt lenght\", \"__index_level_0__\"], axis=1).describe()"
   ]
  },
  {
   "cell_type": "code",
   "execution_count": 50,
   "id": "c1c74195",
   "metadata": {},
   "outputs": [
    {
     "name": "stdout",
     "output_type": "stream",
     "text": [
      "len(dfs['zeroshot']): 6903\n",
      "len(dfs['validation']): 10103\n",
      "len(dfs['zeroshot']): 3043\n",
      "len(dfs['validation']): 10103\n"
     ]
    }
   ],
   "source": [
    "print(f\"len(dfs['zeroshot']): {len(dfs['zeroshot'])}\")\n",
    "print(f\"len(dfs['validation']): {len(dfs['validation'])}\")\n",
    "\n",
    "dfs['zeroshot'] = dfs['zeroshot'][~dfs['zeroshot']['id'].isin(zeroshot_papers_to_drop['id'])]\n",
    "dfs['validation'] = dfs['validation'][~dfs['validation']['id'].isin(validation_papers_to_drop['id'])]\n",
    "\n",
    "print(f\"len(dfs['zeroshot']): {len(dfs['zeroshot'])}\")\n",
    "print(f\"len(dfs['validation']): {len(dfs['validation'])}\")"
   ]
  },
  {
   "cell_type": "code",
   "execution_count": 51,
   "id": "81d8a9fd",
   "metadata": {},
   "outputs": [
    {
     "data": {
      "text/html": [
       "<div>\n",
       "<style scoped>\n",
       "    .dataframe tbody tr th:only-of-type {\n",
       "        vertical-align: middle;\n",
       "    }\n",
       "\n",
       "    .dataframe tbody tr th {\n",
       "        vertical-align: top;\n",
       "    }\n",
       "\n",
       "    .dataframe thead th {\n",
       "        text-align: right;\n",
       "    }\n",
       "</style>\n",
       "<table border=\"1\" class=\"dataframe\">\n",
       "  <thead>\n",
       "    <tr style=\"text-align: right;\">\n",
       "      <th></th>\n",
       "      <th>id</th>\n",
       "      <th>prompt</th>\n",
       "      <th>answer</th>\n",
       "      <th>template</th>\n",
       "      <th>leaderboard</th>\n",
       "    </tr>\n",
       "  </thead>\n",
       "  <tbody>\n",
       "    <tr>\n",
       "      <th>count</th>\n",
       "      <td>3043</td>\n",
       "      <td>3043</td>\n",
       "      <td>3043</td>\n",
       "      <td>3043</td>\n",
       "      <td>3043</td>\n",
       "    </tr>\n",
       "    <tr>\n",
       "      <th>unique</th>\n",
       "      <td>408</td>\n",
       "      <td>3043</td>\n",
       "      <td>56</td>\n",
       "      <td>15</td>\n",
       "      <td>2</td>\n",
       "    </tr>\n",
       "    <tr>\n",
       "      <th>top</th>\n",
       "      <td>1409.8098.pdf</td>\n",
       "      <td>Edge-b-coloring Trees    Partially supported b...</td>\n",
       "      <td>unanswerable</td>\n",
       "      <td>drop_6</td>\n",
       "      <td>no_lb</td>\n",
       "    </tr>\n",
       "    <tr>\n",
       "      <th>freq</th>\n",
       "      <td>13</td>\n",
       "      <td>1</td>\n",
       "      <td>2622</td>\n",
       "      <td>218</td>\n",
       "      <td>2622</td>\n",
       "    </tr>\n",
       "  </tbody>\n",
       "</table>\n",
       "</div>"
      ],
      "text/plain": [
       "                   id                                             prompt  \\\n",
       "count            3043                                               3043   \n",
       "unique            408                                               3043   \n",
       "top     1409.8098.pdf  Edge-b-coloring Trees    Partially supported b...   \n",
       "freq               13                                                  1   \n",
       "\n",
       "              answer template leaderboard  \n",
       "count           3043     3043        3043  \n",
       "unique            56       15           2  \n",
       "top     unanswerable   drop_6       no_lb  \n",
       "freq            2622      218        2622  "
      ]
     },
     "execution_count": 51,
     "metadata": {},
     "output_type": "execute_result"
    }
   ],
   "source": [
    "dfs['zeroshot'].drop([\"prompt lenght\", \"__index_level_0__\"], axis=1).describe()"
   ]
  },
  {
   "cell_type": "code",
   "execution_count": 52,
   "id": "b2972f53",
   "metadata": {},
   "outputs": [
    {
     "name": "stderr",
     "output_type": "stream",
     "text": [
      "100%|██████████| 408/408 [00:00<00:00, 9465.39it/s]\n"
     ]
    },
    {
     "name": "stdout",
     "output_type": "stream",
     "text": [
      "Missed_parsing_zero 0\n",
      "Lenght papers_to_drop in zeroshot based on train Title ID: 0\n",
      "Lenght papers_to_drop in zeroshot based on train TDM Match: 44\n",
      "Lenght papers from zeroshot with lb: 55\n",
      "Lenght papers from zeroshot with no_lb: 353\n",
      "Lenght papers from train with lb: 7025\n",
      "Lenght papers from train with no_lb: 3033\n",
      "\n",
      "validation\n",
      "\n"
     ]
    },
    {
     "name": "stderr",
     "output_type": "stream",
     "text": [
      "100%|██████████| 1347/1347 [00:00<00:00, 6501.11it/s]"
     ]
    },
    {
     "name": "stdout",
     "output_type": "stream",
     "text": [
      "Missed_parsing_zero 0\n",
      "Lenght papers_to_drop in validation based on train Title ID: 0\n",
      "Lenght papers_to_drop in validation based on train TDM Match: 661\n",
      "Lenght papers from validation with lb: 903\n",
      "Lenght papers from validation with no_lb: 444\n",
      "Lenght papers from train with lb: 7025\n",
      "Lenght papers from train with no_lb: 3033\n"
     ]
    },
    {
     "name": "stderr",
     "output_type": "stream",
     "text": [
      "\n"
     ]
    }
   ],
   "source": [
    "# In zeroshot means paper to remove from zero-shot to make it real zershot, in the sense that \n",
    "# At least one of the leaderboard was not seen at training time \n",
    "zeroshot_papers_to_drop = remove_data_leakage(dfs, source=\"zeroshot\", target=\"train\", THRESHOLD=90)\n",
    "\n",
    "print(\"\\nvalidation\\n\")\n",
    "# in validation this means paper to keep as part of few shot \n",
    "validation_papers_to_drop = remove_data_leakage(dfs, source=\"validation\", target=\"train\", THRESHOLD=90)"
   ]
  },
  {
   "cell_type": "code",
   "execution_count": 53,
   "id": "a5ddd327",
   "metadata": {},
   "outputs": [
    {
     "name": "stdout",
     "output_type": "stream",
     "text": [
      "len(zeroshot_concat): 4871\n",
      "len(validation_concat): 10442\n"
     ]
    }
   ],
   "source": [
    "zeroshot_concat = pd.concat([dfs['zeroshot'], dfs['validation'][~(dfs['validation']['id'].isin(validation_papers_to_drop['tdm'])) & (dfs['validation']['leaderboard']==\"lb\")]], ignore_index=True)\n",
    "print(f\"len(zeroshot_concat): {len(zeroshot_concat)}\")\n",
    "# zeroshot_concat = dfs['zeroshot']\n",
    "# print(f\"len(zeroshot_concat): {len(zeroshot_concat)}\")\n",
    "\n",
    "validation_concat = pd.concat([dfs['validation'], dfs['zeroshot'][dfs['zeroshot']['id'].isin(zeroshot_papers_to_drop['tdm'])]], ignore_index=True)\n",
    "print(f\"len(validation_concat): {len(validation_concat)}\")"
   ]
  },
  {
   "cell_type": "code",
   "execution_count": 54,
   "id": "a6abb181",
   "metadata": {},
   "outputs": [
    {
     "data": {
      "text/html": [
       "<div>\n",
       "<style scoped>\n",
       "    .dataframe tbody tr th:only-of-type {\n",
       "        vertical-align: middle;\n",
       "    }\n",
       "\n",
       "    .dataframe tbody tr th {\n",
       "        vertical-align: top;\n",
       "    }\n",
       "\n",
       "    .dataframe thead th {\n",
       "        text-align: right;\n",
       "    }\n",
       "</style>\n",
       "<table border=\"1\" class=\"dataframe\">\n",
       "  <thead>\n",
       "    <tr style=\"text-align: right;\">\n",
       "      <th></th>\n",
       "      <th>id</th>\n",
       "      <th>prompt</th>\n",
       "      <th>answer</th>\n",
       "      <th>template</th>\n",
       "      <th>leaderboard</th>\n",
       "    </tr>\n",
       "  </thead>\n",
       "  <tbody>\n",
       "    <tr>\n",
       "      <th>count</th>\n",
       "      <td>4532</td>\n",
       "      <td>4532</td>\n",
       "      <td>4532</td>\n",
       "      <td>4532</td>\n",
       "      <td>4532</td>\n",
       "    </tr>\n",
       "    <tr>\n",
       "      <th>unique</th>\n",
       "      <td>595</td>\n",
       "      <td>4495</td>\n",
       "      <td>243</td>\n",
       "      <td>15</td>\n",
       "      <td>2</td>\n",
       "    </tr>\n",
       "    <tr>\n",
       "      <th>top</th>\n",
       "      <td>1810.11408v2.pdf</td>\n",
       "      <td>Read this: Anytime Stereo Image Depth Estimati...</td>\n",
       "      <td>unanswerable</td>\n",
       "      <td>drop_3</td>\n",
       "      <td>no_lb</td>\n",
       "    </tr>\n",
       "    <tr>\n",
       "      <th>freq</th>\n",
       "      <td>19</td>\n",
       "      <td>2</td>\n",
       "      <td>2622</td>\n",
       "      <td>322</td>\n",
       "      <td>2622</td>\n",
       "    </tr>\n",
       "  </tbody>\n",
       "</table>\n",
       "</div>"
      ],
      "text/plain": [
       "                      id                                             prompt  \\\n",
       "count               4532                                               4532   \n",
       "unique               595                                               4495   \n",
       "top     1810.11408v2.pdf  Read this: Anytime Stereo Image Depth Estimati...   \n",
       "freq                  19                                                  2   \n",
       "\n",
       "              answer template leaderboard  \n",
       "count           4532     4532        4532  \n",
       "unique           243       15           2  \n",
       "top     unanswerable   drop_3       no_lb  \n",
       "freq            2622      322        2622  "
      ]
     },
     "execution_count": 54,
     "metadata": {},
     "output_type": "execute_result"
    }
   ],
   "source": [
    "# Filtering the DataFrame\n",
    "dfs['zeroshot'] = zeroshot_concat.copy()\n",
    "\n",
    "dfs['zeroshot'] = dfs['zeroshot'][~dfs['zeroshot']['id'].isin(zeroshot_papers_to_drop['tdm'])]\n",
    "\n",
    "dfs['zeroshot'].drop([\"prompt lenght\", \"__index_level_0__\"], axis=1).describe()"
   ]
  },
  {
   "cell_type": "code",
   "execution_count": 55,
   "id": "06e72991",
   "metadata": {},
   "outputs": [
    {
     "data": {
      "text/html": [
       "<div>\n",
       "<style scoped>\n",
       "    .dataframe tbody tr th:only-of-type {\n",
       "        vertical-align: middle;\n",
       "    }\n",
       "\n",
       "    .dataframe tbody tr th {\n",
       "        vertical-align: top;\n",
       "    }\n",
       "\n",
       "    .dataframe thead th {\n",
       "        text-align: right;\n",
       "    }\n",
       "</style>\n",
       "<table border=\"1\" class=\"dataframe\">\n",
       "  <thead>\n",
       "    <tr style=\"text-align: right;\">\n",
       "      <th></th>\n",
       "      <th>id</th>\n",
       "      <th>prompt</th>\n",
       "      <th>answer</th>\n",
       "      <th>template</th>\n",
       "      <th>leaderboard</th>\n",
       "    </tr>\n",
       "  </thead>\n",
       "  <tbody>\n",
       "    <tr>\n",
       "      <th>count</th>\n",
       "      <td>8614</td>\n",
       "      <td>8614</td>\n",
       "      <td>8614</td>\n",
       "      <td>8614</td>\n",
       "      <td>8614</td>\n",
       "    </tr>\n",
       "    <tr>\n",
       "      <th>unique</th>\n",
       "      <td>1105</td>\n",
       "      <td>8442</td>\n",
       "      <td>661</td>\n",
       "      <td>15</td>\n",
       "      <td>2</td>\n",
       "    </tr>\n",
       "    <tr>\n",
       "      <th>top</th>\n",
       "      <td>2007.07875v2.pdf</td>\n",
       "      <td>INTERRUPTED AND CASCADED PERMUTATION INVARIANT...</td>\n",
       "      <td>unanswerable</td>\n",
       "      <td>drop_5</td>\n",
       "      <td>lb</td>\n",
       "    </tr>\n",
       "    <tr>\n",
       "      <th>freq</th>\n",
       "      <td>21</td>\n",
       "      <td>2</td>\n",
       "      <td>3355</td>\n",
       "      <td>586</td>\n",
       "      <td>5259</td>\n",
       "    </tr>\n",
       "  </tbody>\n",
       "</table>\n",
       "</div>"
      ],
      "text/plain": [
       "                      id                                             prompt  \\\n",
       "count               8614                                               8614   \n",
       "unique              1105                                               8442   \n",
       "top     2007.07875v2.pdf  INTERRUPTED AND CASCADED PERMUTATION INVARIANT...   \n",
       "freq                  21                                                  2   \n",
       "\n",
       "              answer template leaderboard  \n",
       "count           8614     8614        8614  \n",
       "unique           661       15           2  \n",
       "top     unanswerable   drop_5          lb  \n",
       "freq            3355      586        5259  "
      ]
     },
     "execution_count": 55,
     "metadata": {},
     "output_type": "execute_result"
    }
   ],
   "source": [
    "# Filtering the DataFrame\n",
    "dfs['validation'] = validation_concat.copy()\n",
    "# I want to keep all the no leaderboard papers in validation \n",
    "dfs['validation'] = dfs['validation'][(dfs['validation']['id'].isin(validation_papers_to_drop['tdm'])) | (dfs['validation']['leaderboard']==\"no_lb\")]\n",
    "\n",
    "dfs['validation'].drop([\"prompt lenght\", \"__index_level_0__\"], axis=1).describe()"
   ]
  },
  {
   "cell_type": "code",
   "execution_count": 56,
   "metadata": {},
   "outputs": [
    {
     "name": "stderr",
     "output_type": "stream",
     "text": [
      "100%|██████████| 595/595 [00:00<00:00, 7615.12it/s]\n"
     ]
    },
    {
     "name": "stdout",
     "output_type": "stream",
     "text": [
      "Missed_parsing_zero 0\n",
      "Lenght papers_to_drop in zeroshot based on train Title ID: 0\n",
      "Lenght papers_to_drop in zeroshot based on train TDM Match: 0\n",
      "Lenght papers from zeroshot with lb: 242\n",
      "Lenght papers from zeroshot with no_lb: 353\n",
      "Lenght papers from train with lb: 7025\n",
      "Lenght papers from train with no_lb: 3033\n",
      "\n",
      "validation\n",
      "\n"
     ]
    },
    {
     "name": "stderr",
     "output_type": "stream",
     "text": [
      "100%|██████████| 1105/1105 [00:00<00:00, 6959.35it/s]"
     ]
    },
    {
     "name": "stdout",
     "output_type": "stream",
     "text": [
      "Missed_parsing_zero 0\n",
      "Lenght papers_to_drop in validation based on train Title ID: 0\n",
      "Lenght papers_to_drop in validation based on train TDM Match: 661\n",
      "Lenght papers from validation with lb: 661\n",
      "Lenght papers from validation with no_lb: 444\n",
      "Lenght papers from train with lb: 7025\n",
      "Lenght papers from train with no_lb: 3033\n"
     ]
    },
    {
     "name": "stderr",
     "output_type": "stream",
     "text": [
      "\n"
     ]
    }
   ],
   "source": [
    "zeroshot_papers_to_drop = remove_data_leakage(dfs, source=\"zeroshot\", target=\"train\", THRESHOLD=90)\n",
    "print(\"\\nvalidation\\n\")\n",
    "validation_papers_to_drop = remove_data_leakage(dfs, source=\"validation\", target=\"train\", THRESHOLD=90)"
   ]
  },
  {
   "cell_type": "code",
   "execution_count": 57,
   "id": "18008b6b",
   "metadata": {},
   "outputs": [],
   "source": [
    "dfs['train'].drop([\"__index_level_0__\"], inplace=True, axis=1)\n",
    "dfs['validation'].drop([\"__index_level_0__\"], inplace=True, axis=1)\n",
    "dfs['zeroshot'].drop([\"__index_level_0__\"], inplace=True, axis=1)"
   ]
  },
  {
   "cell_type": "code",
   "execution_count": 58,
   "id": "dba0e1b2",
   "metadata": {},
   "outputs": [
    {
     "data": {
      "text/html": [
       "<div>\n",
       "<style scoped>\n",
       "    .dataframe tbody tr th:only-of-type {\n",
       "        vertical-align: middle;\n",
       "    }\n",
       "\n",
       "    .dataframe tbody tr th {\n",
       "        vertical-align: top;\n",
       "    }\n",
       "\n",
       "    .dataframe thead th {\n",
       "        text-align: right;\n",
       "    }\n",
       "</style>\n",
       "<table border=\"1\" class=\"dataframe\">\n",
       "  <thead>\n",
       "    <tr style=\"text-align: right;\">\n",
       "      <th></th>\n",
       "      <th>id</th>\n",
       "      <th>prompt</th>\n",
       "      <th>answer</th>\n",
       "      <th>template</th>\n",
       "      <th>prompt lenght</th>\n",
       "      <th>leaderboard</th>\n",
       "    </tr>\n",
       "  </thead>\n",
       "  <tbody>\n",
       "    <tr>\n",
       "      <th>75391</th>\n",
       "      <td>1909.09314v2.pdf</td>\n",
       "      <td>Context: In this section, we seek to investiga...</td>\n",
       "      <td>[{'LEADERBOARD': {'Task': 'MuJoCo Games', 'Dat...</td>\n",
       "      <td>drop_7</td>\n",
       "      <td>230</td>\n",
       "      <td>lb</td>\n",
       "    </tr>\n",
       "    <tr>\n",
       "      <th>75392</th>\n",
       "      <td>1907.05091v1.pdf</td>\n",
       "      <td>Context: Efficient Semantic Scene Completion N...</td>\n",
       "      <td>[{'LEADERBOARD': {'Task': '3D Semantic Scene C...</td>\n",
       "      <td>drop_7</td>\n",
       "      <td>366</td>\n",
       "      <td>lb</td>\n",
       "    </tr>\n",
       "    <tr>\n",
       "      <th>75393</th>\n",
       "      <td>1410.1282.pdf</td>\n",
       "      <td>Context: Capacity Estimation for Vehicle-to-Gr...</td>\n",
       "      <td>unanswerable</td>\n",
       "      <td>drop_7</td>\n",
       "      <td>232</td>\n",
       "      <td>no_lb</td>\n",
       "    </tr>\n",
       "    <tr>\n",
       "      <th>75394</th>\n",
       "      <td>1605.01627.pdf</td>\n",
       "      <td>Context: A Sensing Contribution-based Two-laye...</td>\n",
       "      <td>unanswerable</td>\n",
       "      <td>drop_7</td>\n",
       "      <td>238</td>\n",
       "      <td>no_lb</td>\n",
       "    </tr>\n",
       "    <tr>\n",
       "      <th>75395</th>\n",
       "      <td>1312.7217.pdf</td>\n",
       "      <td>Context: Distributed and Parallel Algorithms f...</td>\n",
       "      <td>unanswerable</td>\n",
       "      <td>drop_7</td>\n",
       "      <td>123</td>\n",
       "      <td>no_lb</td>\n",
       "    </tr>\n",
       "  </tbody>\n",
       "</table>\n",
       "</div>"
      ],
      "text/plain": [
       "                     id                                             prompt  \\\n",
       "75391  1909.09314v2.pdf  Context: In this section, we seek to investiga...   \n",
       "75392  1907.05091v1.pdf  Context: Efficient Semantic Scene Completion N...   \n",
       "75393     1410.1282.pdf  Context: Capacity Estimation for Vehicle-to-Gr...   \n",
       "75394    1605.01627.pdf  Context: A Sensing Contribution-based Two-laye...   \n",
       "75395     1312.7217.pdf  Context: Distributed and Parallel Algorithms f...   \n",
       "\n",
       "                                                  answer template  \\\n",
       "75391  [{'LEADERBOARD': {'Task': 'MuJoCo Games', 'Dat...   drop_7   \n",
       "75392  [{'LEADERBOARD': {'Task': '3D Semantic Scene C...   drop_7   \n",
       "75393                                       unanswerable   drop_7   \n",
       "75394                                       unanswerable   drop_7   \n",
       "75395                                       unanswerable   drop_7   \n",
       "\n",
       "       prompt lenght leaderboard  \n",
       "75391            230          lb  \n",
       "75392            366          lb  \n",
       "75393            232       no_lb  \n",
       "75394            238       no_lb  \n",
       "75395            123       no_lb  "
      ]
     },
     "execution_count": 58,
     "metadata": {},
     "output_type": "execute_result"
    }
   ],
   "source": [
    "dfs['train'].tail()"
   ]
  },
  {
   "cell_type": "code",
   "execution_count": 59,
   "id": "fb2fb5eb",
   "metadata": {},
   "outputs": [
    {
     "data": {
      "image/png": "[encoded data removed]",
      "text/plain": [
       "<Figure size 576x576 with 1 Axes>"
      ]
     },
     "metadata": {},
     "output_type": "display_data"
    },
    {
     "data": {
      "image/png": "[encoded data removed]",
      "text/plain": [
       "<Figure size 576x576 with 1 Axes>"
      ]
     },
     "metadata": {},
     "output_type": "display_data"
    },
    {
     "data": {
      "image/png": "[encoded data removed]",
      "text/plain": [
       "<Figure size 576x576 with 1 Axes>"
      ]
     },
     "metadata": {},
     "output_type": "display_data"
    }
   ],
   "source": [
    "view_leaderboard_distribution(dfs)"
   ]
  },
  {
   "cell_type": "code",
   "execution_count": 60,
   "id": "2e1da33d",
   "metadata": {},
   "outputs": [
    {
     "name": "stdout",
     "output_type": "stream",
     "text": [
      "zeroshot_paper_in_train: 0\n",
      "zeroshot_paper_in_validation: 0\n",
      "validation_paper_in_train: 0\n",
      "validation_paper_in_zeroshot: 0\n"
     ]
    }
   ],
   "source": [
    "verify_data_integrity(dfs, include_no_lb=False)"
   ]
  },
  {
   "cell_type": "code",
   "execution_count": 61,
   "id": "70338e42",
   "metadata": {},
   "outputs": [
    {
     "data": {
      "text/html": [
       "<div>\n",
       "<style scoped>\n",
       "    .dataframe tbody tr th:only-of-type {\n",
       "        vertical-align: middle;\n",
       "    }\n",
       "\n",
       "    .dataframe tbody tr th {\n",
       "        vertical-align: top;\n",
       "    }\n",
       "\n",
       "    .dataframe thead th {\n",
       "        text-align: right;\n",
       "    }\n",
       "</style>\n",
       "<table border=\"1\" class=\"dataframe\">\n",
       "  <thead>\n",
       "    <tr style=\"text-align: right;\">\n",
       "      <th></th>\n",
       "      <th>id</th>\n",
       "      <th>prompt</th>\n",
       "      <th>answer</th>\n",
       "      <th>template</th>\n",
       "      <th>leaderboard</th>\n",
       "    </tr>\n",
       "  </thead>\n",
       "  <tbody>\n",
       "    <tr>\n",
       "      <th>count</th>\n",
       "      <td>4532</td>\n",
       "      <td>4532</td>\n",
       "      <td>4532</td>\n",
       "      <td>4532</td>\n",
       "      <td>4532</td>\n",
       "    </tr>\n",
       "    <tr>\n",
       "      <th>unique</th>\n",
       "      <td>595</td>\n",
       "      <td>4495</td>\n",
       "      <td>243</td>\n",
       "      <td>15</td>\n",
       "      <td>2</td>\n",
       "    </tr>\n",
       "    <tr>\n",
       "      <th>top</th>\n",
       "      <td>1810.11408v2.pdf</td>\n",
       "      <td>Read this: Anytime Stereo Image Depth Estimati...</td>\n",
       "      <td>unanswerable</td>\n",
       "      <td>drop_3</td>\n",
       "      <td>no_lb</td>\n",
       "    </tr>\n",
       "    <tr>\n",
       "      <th>freq</th>\n",
       "      <td>19</td>\n",
       "      <td>2</td>\n",
       "      <td>2622</td>\n",
       "      <td>322</td>\n",
       "      <td>2622</td>\n",
       "    </tr>\n",
       "  </tbody>\n",
       "</table>\n",
       "</div>"
      ],
      "text/plain": [
       "                      id                                             prompt  \\\n",
       "count               4532                                               4532   \n",
       "unique               595                                               4495   \n",
       "top     1810.11408v2.pdf  Read this: Anytime Stereo Image Depth Estimati...   \n",
       "freq                  19                                                  2   \n",
       "\n",
       "              answer template leaderboard  \n",
       "count           4532     4532        4532  \n",
       "unique           243       15           2  \n",
       "top     unanswerable   drop_3       no_lb  \n",
       "freq            2622      322        2622  "
      ]
     },
     "execution_count": 61,
     "metadata": {},
     "output_type": "execute_result"
    }
   ],
   "source": [
    "dfs['zeroshot'].drop([\"prompt lenght\"], axis=1).describe()"
   ]
  },
  {
   "cell_type": "code",
   "execution_count": 62,
   "id": "f164366a",
   "metadata": {},
   "outputs": [
    {
     "data": {
      "application/vnd.jupyter.widget-view+json": {
       "model_id": "8b71d0c27eaf4a20a3ceb0be8e75354d",
       "version_major": 2,
       "version_minor": 0
      },
      "text/plain": [
       "Saving the dataset (0/1 shards):   0%|          | 0/75396 [00:00<?, ? examples/s]"
      ]
     },
     "metadata": {},
     "output_type": "display_data"
    },
    {
     "data": {
      "application/vnd.jupyter.widget-view+json": {
       "model_id": "2f35e396358349fcbc6ae837c740331e",
       "version_major": 2,
       "version_minor": 0
      },
      "text/plain": [
       "Saving the dataset (0/1 shards):   0%|          | 0/8614 [00:00<?, ? examples/s]"
      ]
     },
     "metadata": {},
     "output_type": "display_data"
    },
    {
     "data": {
      "application/vnd.jupyter.widget-view+json": {
       "model_id": "a2ea3105493542a891a3fa266d2ac99f",
       "version_major": 2,
       "version_minor": 0
      },
      "text/plain": [
       "Saving the dataset (0/1 shards):   0%|          | 0/4532 [00:00<?, ? examples/s]"
      ]
     },
     "metadata": {},
     "output_type": "display_data"
    }
   ],
   "source": [
    "dataset = DatasetDict({\n",
    "        \"train\": Dataset.from_pandas(dfs['train']),\n",
    "        \"validation\": Dataset.from_pandas(dfs['validation']),\n",
    "        \"zeroshot\": Dataset.from_pandas(dfs['zeroshot'])\n",
    "    })\n",
    "\n",
    "dataset.save_to_disk(\"../data/LEADERBOARDS_DOCTEAT_TDMS_50_PERCENT_TEMPLATES\")\n"
   ]
  },
  {
   "cell_type": "code",
   "execution_count": null,
   "id": "65aea75c",
   "metadata": {},
   "outputs": [],
   "source": []
  }
 ],
 "metadata": {
  "kernelspec": {
   "display_name": "Python 3 (ipykernel)",
   "language": "python",
   "name": "python3"
  },
  "language_info": {
   "codemirror_mode": {
    "name": "ipython",
    "version": 3
   },
   "file_extension": ".py",
   "mimetype": "text/x-python",
   "name": "python",
   "nbconvert_exporter": "python",
   "pygments_lexer": "ipython3",
   "version": "3.7.10"
  }
 },
 "nbformat": 4,
 "nbformat_minor": 5
}
