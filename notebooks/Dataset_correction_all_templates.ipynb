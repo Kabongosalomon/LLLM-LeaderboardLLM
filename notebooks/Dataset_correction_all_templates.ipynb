{
 "cells": [
  {
   "cell_type": "code",
   "execution_count": 1,
   "id": "bfa5c7f4-8125-4f01-8710-4e7a62b973a8",
   "metadata": {},
   "outputs": [
    {
     "name": "stderr",
     "output_type": "stream",
     "text": [
      "/nfs/home/kabenamualus/anaconda3/envs/tdm/lib/python3.7/site-packages/fuzzywuzzy/fuzz.py:11: UserWarning: Using slow pure-python SequenceMatcher. Install python-Levenshtein to remove this warning\n",
      "  warnings.warn('Using slow pure-python SequenceMatcher. Install python-Levenshtein to remove this warning')\n"
     ]
    }
   ],
   "source": [
    "# imports\n",
    "import pandas as pd\n",
    "import os, ipdb, re\n",
    "import random, evaluate\n",
    "import string\n",
    "import numpy as np\n",
    "from collections import defaultdict\n",
    "from tqdm import tqdm\n",
    "from datasets import DatasetDict, Dataset, load_dataset\n",
    "import wandb\n",
    "import ast\n",
    "import re, os\n",
    "import subprocess\n",
    "\n",
    "from fuzzywuzzy import fuzz\n",
    "import matplotlib.pyplot as plt"
   ]
  },
  {
   "cell_type": "code",
   "execution_count": 2,
   "id": "f18136c8-f242-4d57-a727-17a4c0b61d43",
   "metadata": {},
   "outputs": [],
   "source": [
    "# # dataset_path = \"../data/LLLM_AUGMENTED_SUMMARIZED_WITH_ID_ZEROSHOT_TDMS_ALL_TEMPLATE/fold1\"\n",
    "# # dataset_path = f\"../data/LLLM_AUGMENTED_SUMMARIZED_WITH_ID_ZEROSHOT_TDMS_50_PERCENT/fold1\"\n",
    "# # dataset_path = f\"../data/LLLM_AUGMENTED_SUMMARIZED_ZEROSHOT_TDMS_50_PERCENT_LONG/fold1\"\n",
    "# # dataset_path = f\"../data/LLLM_AUGMENTED_SUMMARIZED_ZEROSHOT_TDMS_50_PERCENT_DOCTEAT/fold1\"\n",
    "# dataset_path = f\"../data/LLLM_AUGMENTED_SUMMARIZED_ZEROSHOT_TDMS_NO_TEMPLATE_DOCTEAT/fold1\"\n",
    "\n",
    "# dataset_dict = DatasetDict.load_from_disk(f\"{dataset_path}\")\n",
    "    \n",
    "# dfs = {split: dataset.to_pandas() for split, dataset in dataset_dict.items()}"
   ]
  },
  {
   "cell_type": "code",
   "execution_count": 3,
   "id": "ba3cd200",
   "metadata": {},
   "outputs": [],
   "source": [
    "def calculate_fuzz_ratio(text1, text2):\n",
    "    return fuzz.ratio(str(text1).strip().lower(), str(text2).strip().lower())\n",
    "\n",
    "def view_leaderboard_distribution(dfs):\n",
    "\n",
    "    dfs_zeroshot = dfs['zeroshot'].copy()\n",
    "    dfs_train = dfs['train'].copy()\n",
    "    dfs_validation = dfs['validation'].copy()\n",
    "\n",
    "    dfs_train['leaderboard'] = dfs_train.answer.apply(lambda x: \"no_lb\" if x == \"unanswerable\" else \"lb\")\n",
    "    # Count unique values in the column\n",
    "    counts_train = dfs_train['leaderboard'].value_counts()\n",
    "\n",
    "    # Plot pie chart\n",
    "    plt.figure(figsize=(8, 8))  # Optional: Adjusts the size of the figure\n",
    "    plt.pie(counts_train, labels=counts_train.index, autopct='%1.1f%%', startangle=140)\n",
    "    plt.title('Train Leaderboard vs No Leaderboard')\n",
    "    plt.show()\n",
    "    \n",
    "    dfs_validation['leaderboard'] = dfs_validation.answer.apply(lambda x: \"no_lb\" if x == \"unanswerable\" else \"lb\")\n",
    "    # Count unique values in the column\n",
    "    counts_validation = dfs_validation['leaderboard'].value_counts()\n",
    "\n",
    "    # Plot pie chart\n",
    "    plt.figure(figsize=(8, 8))  # Optional: Adjusts the size of the figure\n",
    "    plt.pie(counts_validation, labels=counts_validation.index, autopct='%1.1f%%', startangle=140)\n",
    "    plt.title('Validation Chart Leaderboard vs No Leaderboard')\n",
    "    plt.show()\n",
    "    \n",
    "    dfs_zeroshot['leaderboard'] = dfs_zeroshot.answer.apply(lambda x: \"no_lb\" if x == \"unanswerable\" else \"lb\")\n",
    "    # Count unique values in the column\n",
    "    counts = dfs_zeroshot['leaderboard'].value_counts()\n",
    "\n",
    "    # Plot pie chart\n",
    "    plt.figure(figsize=(8, 8))  # Optional: Adjusts the size of the figure\n",
    "    plt.pie(counts, labels=counts.index, autopct='%1.1f%%', startangle=140)\n",
    "    plt.title('Zeroshot Chart Leaderboard vs No Leaderboard')\n",
    "    plt.show()\n",
    "    \n",
    "    \n",
    "def verify_data_integrity_old(dfs):\n",
    "\n",
    "    zeroshot_paper_in_train = 0\n",
    "    for paper in dfs['zeroshot'].id.unique():\n",
    "        if paper in dfs['train'].id.to_list():\n",
    "            zeroshot_paper_in_train += 1\n",
    "        \n",
    "    zeroshot_paper_in_validation = 0\n",
    "    for paper in dfs['zeroshot'].id.unique():\n",
    "        if paper in dfs['validation'].id.to_list():\n",
    "            zeroshot_paper_in_validation += 1 \n",
    "\n",
    "    train_paper_in_validation = 0\n",
    "    for paper in dfs['train'].id.unique():\n",
    "        if paper in dfs['validation'].id.to_list():\n",
    "            train_paper_in_validation += 1   \n",
    "        \n",
    "    validation_paper_in_zeroshot = 0\n",
    "    for paper in dfs['validation'].id.unique():\n",
    "        if paper in dfs['zeroshot'].id.to_list():\n",
    "            validation_paper_in_zeroshot += 1     \n",
    "            \n",
    "    print(f\"zeroshot_paper_in_train: {zeroshot_paper_in_train}\")\n",
    "    print(f\"zeroshot_paper_in_validation: {zeroshot_paper_in_validation}\")\n",
    "    print(f\"train_paper_in_validation: {train_paper_in_validation}\")\n",
    "    print(f\"validation_paper_in_zeroshot: {validation_paper_in_zeroshot}\")\n",
    "    \n",
    "def verify_data_integrity(dfs, include_no_lb=True):\n",
    "\n",
    "    zeroshot_paper_in_train = 0\n",
    "    dfs_train = dfs['train'].copy()\n",
    "    dfs_train.drop_duplicates(subset='id', inplace=True)\n",
    "    dfs_validation = dfs['validation'].copy()\n",
    "    dfs_validation.drop_duplicates(subset='id', inplace=True)\n",
    "    dfs_zeroshot = dfs['zeroshot'].copy()\n",
    "    dfs_zeroshot.drop_duplicates(subset='id', inplace=True)\n",
    "    \n",
    "    records_zero_train = dfs_zeroshot.to_dict(\"records\")    \n",
    "    for row in records_zero_train:\n",
    "        if include_no_lb:\n",
    "            if row['id'] in dfs_train['id'].to_list():\n",
    "                zeroshot_paper_in_train += 1\n",
    "        else:\n",
    "            if row['id'] in dfs_train['id'].to_list() and row['leaderboard']!=\"no_lb\":\n",
    "                zeroshot_paper_in_train += 1\n",
    "        \n",
    "    zeroshot_paper_in_validation = 0\n",
    "    records_zero_val = dfs_zeroshot.to_dict(\"records\")\n",
    "    for row in records_zero_val:\n",
    "        if include_no_lb:\n",
    "            if row['id'] in dfs_validation['id'].to_list():\n",
    "                zeroshot_paper_in_validation += 1 \n",
    "        else:\n",
    "            if row['id'] in dfs_validation['id'].to_list() and row['leaderboard']!=\"no_lb\":\n",
    "                zeroshot_paper_in_validation += 1 \n",
    "\n",
    "    validation_paper_in_train = 0\n",
    "    records_val_train = dfs_validation.to_dict(\"records\")\n",
    "    for row in records_val_train:\n",
    "        if include_no_lb:\n",
    "            if row['id'] in dfs_train['id'].to_list():\n",
    "                validation_paper_in_train += 1   \n",
    "        else:\n",
    "            if row['id'] in dfs_train['id'].to_list() and row['leaderboard']!=\"no_lb\":\n",
    "                validation_paper_in_train += 1   \n",
    "        \n",
    "    validation_paper_in_zeroshot = 0\n",
    "    records_train_zero = dfs_validation.to_dict(\"records\")\n",
    "    for row in records_train_zero:\n",
    "            \n",
    "        if include_no_lb:\n",
    "            if row['id'] in dfs_zeroshot['id'].to_list():\n",
    "                validation_paper_in_zeroshot += 1     \n",
    "        else:\n",
    "            if row['id'] in dfs_zeroshot['id'].to_list() and row['leaderboard']!=\"no_lb\":\n",
    "                validation_paper_in_zeroshot += 1   \n",
    "            \n",
    "    print(f\"zeroshot_paper_in_train: {zeroshot_paper_in_train}\")\n",
    "    print(f\"zeroshot_paper_in_validation: {zeroshot_paper_in_validation}\")\n",
    "    print(f\"validation_paper_in_train: {validation_paper_in_train}\")\n",
    "    print(f\"validation_paper_in_zeroshot: {validation_paper_in_zeroshot}\")\n",
    "    \n",
    "def remove_data_leakage_old(dfs, source, target, THRESHOLD=90):\n",
    "    papers_to_drop = []\n",
    "    missed_parsing_zero = 0\n",
    "    \n",
    "    dfs[source].drop_duplicates(subset='id', inplace=True)\n",
    "    source_records = dfs[source].to_dict(\"records\")\n",
    "\n",
    "    for source_row in tqdm(source_records, total=len(source_records)):\n",
    "        to_drop_paper_found = False \n",
    "        source_paper_id = source_row[\"id\"]\n",
    "        source_tdms = source_row[\"answer\"]\n",
    "        \n",
    "        if source_tdms in \"unanswerable\" or source_tdms == \"missed\":\n",
    "            # ipdb.set_trace()\n",
    "            # if source_paper_id not in papers_to_drop:\n",
    "            #     papers_to_drop.append(source_paper_id)\n",
    "            continue \n",
    "        \n",
    "        source_tdms = ast.literal_eval(source_row[\"answer\"])\n",
    "        \n",
    "        for leaderboard_source in source_tdms:\n",
    "            \n",
    "            if to_drop_paper_found:\n",
    "                break\n",
    "            \n",
    "            source_task = leaderboard_source[\"LEADERBOARD\"][\"Task\"]\n",
    "            source_dataset = leaderboard_source[\"LEADERBOARD\"][\"Dataset\"]\n",
    "            source_metric = leaderboard_source[\"LEADERBOARD\"][\"Metric\"]\n",
    "            source_score = leaderboard_source[\"LEADERBOARD\"][\"Score\"]\n",
    " \n",
    "            dfs[target].drop_duplicates(subset='id', inplace=True)\n",
    "            \n",
    "            target_records = dfs[target].to_dict(\"records\")\n",
    "\n",
    "            for target_row in target_records:\n",
    "                \n",
    "                if to_drop_paper_found:\n",
    "                        break    \n",
    "                \n",
    "                target_paper_id = target_row[\"id\"]\n",
    "                target_tdms = target_row[\"answer\"]\n",
    "                \n",
    "                if target_tdms == \"unanswerable\" or target_tdms == \"missed\":\n",
    "                    # ipdb.set_trace()\n",
    "                    continue \n",
    "                \n",
    "                target_tdms = ast.literal_eval(target_row[\"answer\"])\n",
    "                \n",
    "                \n",
    "                for leaderboard_target in target_tdms:\n",
    "                    target_task = leaderboard_target[\"LEADERBOARD\"][\"Task\"]\n",
    "                    target_dataset = leaderboard_target[\"LEADERBOARD\"][\"Dataset\"]\n",
    "                    target_metric = leaderboard_target[\"LEADERBOARD\"][\"Metric\"]\n",
    "                    target_score = leaderboard_target[\"LEADERBOARD\"][\"Score\"]\n",
    "                    \n",
    "                    # A) Exact \n",
    "                    if (source_task == target_task and source_dataset == target_dataset and source_metric == target_metric) or (target_paper_id == source_paper_id):\n",
    "                        if source_paper_id not in papers_to_drop:\n",
    "                            papers_to_drop.append(source_paper_id)\n",
    "                        to_drop_paper_found = True \n",
    "                        break\n",
    "    \n",
    "                    # # B) Partial  or # A) Exact \n",
    "                    # if (calculate_fuzz_ratio(train_task, zeroshot_task) >= THRESHOLD and calculate_fuzz_ratio(train_dataset, zeroshot_dataset) >= THRESHOLD and calculate_fuzz_ratio(train_metric, zeroshot_metric) >= THRESHOLD) or (train_task == zeroshot_task and train_dataset == zeroshot_dataset and train_metric == zeroshot_metric):\n",
    "                    #     if paper_id not in papers_to_drop:\n",
    "                    #         papers_to_drop.append(paper_id)\n",
    "                    #         # ipdb.set_trace()\n",
    "                    #         break \n",
    "                    \n",
    "    print(f\"Missed_parsing_zero {missed_parsing_zero}\") \n",
    "    print(f\"Lenght papers_to_drop in {source} based on {target}: {len(papers_to_drop)}\")        \n",
    "    \n",
    "    return papers_to_drop\n",
    "\n",
    "\n",
    "def remove_data_leakage_id(dfs, source, target, THRESHOLD=90):\n",
    "    papers_to_drop = set()\n",
    "    missed_parsing_zero = 0\n",
    "    \n",
    "    dfs[source].drop_duplicates(subset='id', inplace=True)\n",
    "    records = dfs[source].to_dict(\"records\")\n",
    "\n",
    "    for row in tqdm(records, total=len(records)):\n",
    "        to_drop_paper_found = False \n",
    "        source_paper_id = row[\"id\"]\n",
    "        \n",
    "        dfs[target].drop_duplicates(subset='id', inplace=True)\n",
    "        target_records = dfs[target].to_dict(\"records\")\n",
    "\n",
    "        for row_target in target_records:  \n",
    "            \n",
    "            target_paper_id = row_target[\"id\"]\n",
    "            \n",
    "            # A) Exact \n",
    "            if (target_paper_id == source_paper_id):\n",
    "                papers_to_drop.add(source_paper_id)\n",
    "                to_drop_paper_found = True \n",
    "                break\n",
    "                    \n",
    "    print(f\"Missed_parsing_zero {missed_parsing_zero}\") \n",
    "    print(f\"Lenght papers_to_drop in {source} based on {target}: {len(papers_to_drop)}\")        \n",
    "    \n",
    "    return papers_to_drop\n",
    "\n",
    "\n",
    "def remove_data_leakage(dfs, source, target, THRESHOLD=90):\n",
    "    papers_to_drop = {\"id\": set(), \"tdm\":set()}\n",
    "    missed_parsing_zero = 0\n",
    "    \n",
    "    dfs_target = dfs[target].drop_duplicates(subset='id')\n",
    "    unique_paper_id_target = dfs_target.id.unique()\n",
    "    lists_target = [ast.literal_eval(lb) for lb in dfs_target[dfs_target.leaderboard ==\"lb\"].answer.to_list()]\n",
    "    # Flatten the list of lists\n",
    "    flattened_list_target = [item for sublist in lists_target for item in sublist]\n",
    "    # Extract unique tuples\n",
    "    unique_tuples_target = {(d['LEADERBOARD']['Task'], d['LEADERBOARD']['Dataset'], d['LEADERBOARD']['Metric']) for d in flattened_list_target}\n",
    "\n",
    "\n",
    "    dfs_source = dfs[source].drop_duplicates(subset='id')\n",
    "    source_records = dfs_source.to_dict(\"records\")\n",
    "    for source_row in tqdm(source_records, total=len(source_records)):\n",
    "        to_drop_paper_found = False \n",
    "        source_paper_id = source_row[\"id\"]\n",
    "        source_tdms = source_row[\"answer\"]\n",
    "        \n",
    "        if source_paper_id in unique_paper_id_target:\n",
    "            papers_to_drop[\"id\"].add(source_paper_id)\n",
    "            continue     \n",
    "        \n",
    "        if source_tdms in \"unanswerable\" or source_tdms == \"missed\":\n",
    "            # ipdb.set_trace()\n",
    "            # if source_paper_id not in papers_to_drop:\n",
    "            #     papers_to_drop.append(source_paper_id)\n",
    "            continue \n",
    "        \n",
    "        source_tdms = ast.literal_eval(source_row[\"answer\"])\n",
    "        # Extract unique tuples\n",
    "        unique_tuples_source = {(d['LEADERBOARD']['Task'], d['LEADERBOARD']['Dataset'], d['LEADERBOARD']['Metric']) for d in source_tdms} \n",
    "        \n",
    "        is_contained = unique_tuples_source.issubset(unique_tuples_target)\n",
    "    \n",
    "        if is_contained:\n",
    "            papers_to_drop[\"tdm\"].add(source_paper_id)\n",
    "            \n",
    "      \n",
    "        \n",
    "        # # B) Partial  or # A) Exact \n",
    "        # if (calculate_fuzz_ratio(train_task, zeroshot_task) >= THRESHOLD and calculate_fuzz_ratio(train_dataset, zeroshot_dataset) >= THRESHOLD and calculate_fuzz_ratio(train_metric, zeroshot_metric) >= THRESHOLD) or (train_task == zeroshot_task and train_dataset == zeroshot_dataset and train_metric == zeroshot_metric):\n",
    "        #     if paper_id not in papers_to_drop:\n",
    "        #         papers_to_drop.append(paper_id)\n",
    "        #         # ipdb.set_trace()\n",
    "        #         break \n",
    "                    \n",
    "    print(f\"Missed_parsing_zero {missed_parsing_zero}\") \n",
    "    print(f\"Lenght papers_to_drop in {source} based on {target} Title ID: {len(papers_to_drop['id'])}\") \n",
    "    print(f\"Lenght papers_to_drop in {source} based on {target} TDM Match: {len(papers_to_drop['tdm'])}\")   \n",
    "\n",
    "    print(f\"Lenght papers from {source} with lb: {len(dfs_source[dfs_source['leaderboard']=='lb'])}\") \n",
    "    print(f\"Lenght papers from {source} with no_lb: {len(dfs_source[dfs_source['leaderboard']=='no_lb'])}\") \n",
    "    print(f\"Lenght papers from {target} with lb: {len(dfs_target[dfs_target['leaderboard']=='lb'])}\") \n",
    "    print(f\"Lenght papers from {target} with no_lb: {len(dfs_target[dfs_target['leaderboard']=='no_lb'])}\") \n",
    "    \n",
    "    \n",
    "    return papers_to_drop"
   ]
  },
  {
   "cell_type": "markdown",
   "id": "45cf9fbf",
   "metadata": {},
   "source": [
    "## DOCTEAT ALL TEMPLATES"
   ]
  },
  {
   "cell_type": "code",
   "execution_count": 4,
   "id": "5062c174",
   "metadata": {},
   "outputs": [],
   "source": [
    "dataset_path = f\"../data/LLLM_AUGMENTED_SUMMARIZED_ZEROSHOT_TDMS_ALL_TEMPLATE_DOCTEAT/fold1\"\n",
    "\n",
    "dataset_dict = DatasetDict.load_from_disk(f\"{dataset_path}\")\n",
    "    \n",
    "dfs = {split: dataset.to_pandas() for split, dataset in dataset_dict.items()}\n",
    "\n",
    "dfs['train']['leaderboard'] = dfs['train'].answer.apply(lambda x: \"no_lb\" if x == \"unanswerable\" else \"lb\")\n",
    "dfs['validation']['leaderboard'] = dfs['validation'].answer.apply(lambda x: \"no_lb\" if x == \"unanswerable\" else \"lb\")\n",
    "dfs['zeroshot']['leaderboard'] = dfs['zeroshot'].answer.apply(lambda x: \"no_lb\" if x == \"unanswerable\" else \"lb\")"
   ]
  },
  {
   "cell_type": "code",
   "execution_count": 5,
   "id": "0af355b5",
   "metadata": {},
   "outputs": [
    {
     "data": {
      "text/html": [
       "<div>\n",
       "<style scoped>\n",
       "    .dataframe tbody tr th:only-of-type {\n",
       "        vertical-align: middle;\n",
       "    }\n",
       "\n",
       "    .dataframe tbody tr th {\n",
       "        vertical-align: top;\n",
       "    }\n",
       "\n",
       "    .dataframe thead th {\n",
       "        text-align: right;\n",
       "    }\n",
       "</style>\n",
       "<table border=\"1\" class=\"dataframe\">\n",
       "  <thead>\n",
       "    <tr style=\"text-align: right;\">\n",
       "      <th></th>\n",
       "      <th>id</th>\n",
       "      <th>prompt</th>\n",
       "      <th>answer</th>\n",
       "      <th>template</th>\n",
       "      <th>leaderboard</th>\n",
       "    </tr>\n",
       "  </thead>\n",
       "  <tbody>\n",
       "    <tr>\n",
       "      <th>count</th>\n",
       "      <td>150870</td>\n",
       "      <td>150870</td>\n",
       "      <td>150870</td>\n",
       "      <td>150870</td>\n",
       "      <td>150870</td>\n",
       "    </tr>\n",
       "    <tr>\n",
       "      <th>unique</th>\n",
       "      <td>10058</td>\n",
       "      <td>150053</td>\n",
       "      <td>7016</td>\n",
       "      <td>15</td>\n",
       "      <td>2</td>\n",
       "    </tr>\n",
       "    <tr>\n",
       "      <th>top</th>\n",
       "      <td>1707.03497v2.pdf</td>\n",
       "      <td>Author Guidelines for ECCV Submission The abst...</td>\n",
       "      <td>unanswerable</td>\n",
       "      <td>drop_7</td>\n",
       "      <td>lb</td>\n",
       "    </tr>\n",
       "    <tr>\n",
       "      <th>freq</th>\n",
       "      <td>15</td>\n",
       "      <td>7</td>\n",
       "      <td>45495</td>\n",
       "      <td>10065</td>\n",
       "      <td>105375</td>\n",
       "    </tr>\n",
       "  </tbody>\n",
       "</table>\n",
       "</div>"
      ],
      "text/plain": [
       "                      id                                             prompt  \\\n",
       "count             150870                                             150870   \n",
       "unique             10058                                             150053   \n",
       "top     1707.03497v2.pdf  Author Guidelines for ECCV Submission The abst...   \n",
       "freq                  15                                                  7   \n",
       "\n",
       "              answer template leaderboard  \n",
       "count         150870   150870      150870  \n",
       "unique          7016       15           2  \n",
       "top     unanswerable   drop_7          lb  \n",
       "freq           45495    10065      105375  "
      ]
     },
     "execution_count": 5,
     "metadata": {},
     "output_type": "execute_result"
    }
   ],
   "source": [
    "dfs['train'].drop([\"prompt lenght\", \"__index_level_0__\"], axis=1).describe()"
   ]
  },
  {
   "cell_type": "code",
   "execution_count": 6,
   "id": "49ce3f6d",
   "metadata": {},
   "outputs": [
    {
     "data": {
      "text/html": [
       "<div>\n",
       "<style scoped>\n",
       "    .dataframe tbody tr th:only-of-type {\n",
       "        vertical-align: middle;\n",
       "    }\n",
       "\n",
       "    .dataframe tbody tr th {\n",
       "        vertical-align: top;\n",
       "    }\n",
       "\n",
       "    .dataframe thead th {\n",
       "        text-align: right;\n",
       "    }\n",
       "</style>\n",
       "<table border=\"1\" class=\"dataframe\">\n",
       "  <thead>\n",
       "    <tr style=\"text-align: right;\">\n",
       "      <th></th>\n",
       "      <th>id</th>\n",
       "      <th>prompt</th>\n",
       "      <th>answer</th>\n",
       "      <th>template</th>\n",
       "      <th>leaderboard</th>\n",
       "    </tr>\n",
       "  </thead>\n",
       "  <tbody>\n",
       "    <tr>\n",
       "      <th>count</th>\n",
       "      <td>20205</td>\n",
       "      <td>20205</td>\n",
       "      <td>20205</td>\n",
       "      <td>20205</td>\n",
       "      <td>20205</td>\n",
       "    </tr>\n",
       "    <tr>\n",
       "      <th>unique</th>\n",
       "      <td>1347</td>\n",
       "      <td>20202</td>\n",
       "      <td>903</td>\n",
       "      <td>15</td>\n",
       "      <td>2</td>\n",
       "    </tr>\n",
       "    <tr>\n",
       "      <th>top</th>\n",
       "      <td>1810.02575v1.pdf</td>\n",
       "      <td>Context: Incorporating Glosses into Neural Wor...</td>\n",
       "      <td>unanswerable</td>\n",
       "      <td>drop_7</td>\n",
       "      <td>lb</td>\n",
       "    </tr>\n",
       "    <tr>\n",
       "      <th>freq</th>\n",
       "      <td>15</td>\n",
       "      <td>2</td>\n",
       "      <td>6660</td>\n",
       "      <td>1350</td>\n",
       "      <td>13545</td>\n",
       "    </tr>\n",
       "  </tbody>\n",
       "</table>\n",
       "</div>"
      ],
      "text/plain": [
       "                      id                                             prompt  \\\n",
       "count              20205                                              20205   \n",
       "unique              1347                                              20202   \n",
       "top     1810.02575v1.pdf  Context: Incorporating Glosses into Neural Wor...   \n",
       "freq                  15                                                  2   \n",
       "\n",
       "              answer template leaderboard  \n",
       "count          20205    20205       20205  \n",
       "unique           903       15           2  \n",
       "top     unanswerable   drop_7          lb  \n",
       "freq            6660     1350       13545  "
      ]
     },
     "execution_count": 6,
     "metadata": {},
     "output_type": "execute_result"
    }
   ],
   "source": [
    "dfs['validation'].drop([\"prompt lenght\", \"__index_level_0__\"], axis=1).describe()"
   ]
  },
  {
   "cell_type": "code",
   "execution_count": 7,
   "id": "6cc7d63a",
   "metadata": {},
   "outputs": [
    {
     "data": {
      "text/html": [
       "<div>\n",
       "<style scoped>\n",
       "    .dataframe tbody tr th:only-of-type {\n",
       "        vertical-align: middle;\n",
       "    }\n",
       "\n",
       "    .dataframe tbody tr th {\n",
       "        vertical-align: top;\n",
       "    }\n",
       "\n",
       "    .dataframe thead th {\n",
       "        text-align: right;\n",
       "    }\n",
       "</style>\n",
       "<table border=\"1\" class=\"dataframe\">\n",
       "  <thead>\n",
       "    <tr style=\"text-align: right;\">\n",
       "      <th></th>\n",
       "      <th>id</th>\n",
       "      <th>prompt</th>\n",
       "      <th>answer</th>\n",
       "      <th>template</th>\n",
       "      <th>leaderboard</th>\n",
       "    </tr>\n",
       "  </thead>\n",
       "  <tbody>\n",
       "    <tr>\n",
       "      <th>count</th>\n",
       "      <td>13890</td>\n",
       "      <td>13890</td>\n",
       "      <td>13890</td>\n",
       "      <td>13890</td>\n",
       "      <td>13890</td>\n",
       "    </tr>\n",
       "    <tr>\n",
       "      <th>unique</th>\n",
       "      <td>926</td>\n",
       "      <td>13888</td>\n",
       "      <td>574</td>\n",
       "      <td>15</td>\n",
       "      <td>2</td>\n",
       "    </tr>\n",
       "    <tr>\n",
       "      <th>top</th>\n",
       "      <td>2209.03182v1.pdf</td>\n",
       "      <td>Context: Applications of the Gauss-Jordan algo...</td>\n",
       "      <td>unanswerable</td>\n",
       "      <td>drop_7</td>\n",
       "      <td>lb</td>\n",
       "    </tr>\n",
       "    <tr>\n",
       "      <th>freq</th>\n",
       "      <td>15</td>\n",
       "      <td>2</td>\n",
       "      <td>5295</td>\n",
       "      <td>928</td>\n",
       "      <td>8595</td>\n",
       "    </tr>\n",
       "  </tbody>\n",
       "</table>\n",
       "</div>"
      ],
      "text/plain": [
       "                      id                                             prompt  \\\n",
       "count              13890                                              13890   \n",
       "unique               926                                              13888   \n",
       "top     2209.03182v1.pdf  Context: Applications of the Gauss-Jordan algo...   \n",
       "freq                  15                                                  2   \n",
       "\n",
       "              answer template leaderboard  \n",
       "count          13890    13890       13890  \n",
       "unique           574       15           2  \n",
       "top     unanswerable   drop_7          lb  \n",
       "freq            5295      928        8595  "
      ]
     },
     "execution_count": 7,
     "metadata": {},
     "output_type": "execute_result"
    }
   ],
   "source": [
    "dfs['zeroshot'].drop([\"prompt lenght\", \"__index_level_0__\"], axis=1).describe()"
   ]
  },
  {
   "cell_type": "code",
   "execution_count": 8,
   "id": "7de57003",
   "metadata": {},
   "outputs": [
    {
     "data": {
      "image/png": "[encoded data removed]",
      "text/plain": [
       "<Figure size 576x576 with 1 Axes>"
      ]
     },
     "metadata": {},
     "output_type": "display_data"
    },
    {
     "data": {
      "image/png": "[encoded data removed]",
      "text/plain": [
       "<Figure size 576x576 with 1 Axes>"
      ]
     },
     "metadata": {},
     "output_type": "display_data"
    },
    {
     "data": {
      "image/png": "[encoded data removed]",
      "text/plain": [
       "<Figure size 576x576 with 1 Axes>"
      ]
     },
     "metadata": {},
     "output_type": "display_data"
    }
   ],
   "source": [
    "view_leaderboard_distribution(dfs)"
   ]
  },
  {
   "cell_type": "code",
   "execution_count": 9,
   "id": "34fd2b94",
   "metadata": {},
   "outputs": [
    {
     "name": "stderr",
     "output_type": "stream",
     "text": [
      "100%|██████████| 926/926 [00:00<00:00, 9774.18it/s]\n"
     ]
    },
    {
     "name": "stdout",
     "output_type": "stream",
     "text": [
      "Missed_parsing_zero 0\n",
      "Lenght papers_to_drop in zeroshot based on train Title ID: 518\n",
      "Lenght papers_to_drop in zeroshot based on train TDM Match: 44\n",
      "Lenght papers from zeroshot with lb: 573\n",
      "Lenght papers from zeroshot with no_lb: 353\n",
      "Lenght papers from train with lb: 7025\n",
      "Lenght papers from train with no_lb: 3033\n",
      "\n",
      "validation\n",
      "\n"
     ]
    },
    {
     "name": "stderr",
     "output_type": "stream",
     "text": [
      "100%|██████████| 1347/1347 [00:00<00:00, 8088.13it/s]"
     ]
    },
    {
     "name": "stdout",
     "output_type": "stream",
     "text": [
      "Missed_parsing_zero 0\n",
      "Lenght papers_to_drop in validation based on train Title ID: 0\n",
      "Lenght papers_to_drop in validation based on train TDM Match: 661\n",
      "Lenght papers from validation with lb: 903\n",
      "Lenght papers from validation with no_lb: 444\n",
      "Lenght papers from train with lb: 7025\n",
      "Lenght papers from train with no_lb: 3033\n"
     ]
    },
    {
     "name": "stderr",
     "output_type": "stream",
     "text": [
      "\n"
     ]
    }
   ],
   "source": [
    "zeroshot_papers_to_drop = remove_data_leakage(dfs, source=\"zeroshot\", target=\"train\", THRESHOLD=90)\n",
    "print(\"\\nvalidation\\n\")\n",
    "validation_papers_to_drop = remove_data_leakage(dfs, source=\"validation\", target=\"train\", THRESHOLD=90)"
   ]
  },
  {
   "cell_type": "code",
   "execution_count": 10,
   "id": "07711bdb",
   "metadata": {},
   "outputs": [
    {
     "data": {
      "text/html": [
       "<div>\n",
       "<style scoped>\n",
       "    .dataframe tbody tr th:only-of-type {\n",
       "        vertical-align: middle;\n",
       "    }\n",
       "\n",
       "    .dataframe tbody tr th {\n",
       "        vertical-align: top;\n",
       "    }\n",
       "\n",
       "    .dataframe thead th {\n",
       "        text-align: right;\n",
       "    }\n",
       "</style>\n",
       "<table border=\"1\" class=\"dataframe\">\n",
       "  <thead>\n",
       "    <tr style=\"text-align: right;\">\n",
       "      <th></th>\n",
       "      <th>id</th>\n",
       "      <th>prompt</th>\n",
       "      <th>answer</th>\n",
       "      <th>template</th>\n",
       "      <th>leaderboard</th>\n",
       "    </tr>\n",
       "  </thead>\n",
       "  <tbody>\n",
       "    <tr>\n",
       "      <th>count</th>\n",
       "      <td>13890</td>\n",
       "      <td>13890</td>\n",
       "      <td>13890</td>\n",
       "      <td>13890</td>\n",
       "      <td>13890</td>\n",
       "    </tr>\n",
       "    <tr>\n",
       "      <th>unique</th>\n",
       "      <td>926</td>\n",
       "      <td>13888</td>\n",
       "      <td>574</td>\n",
       "      <td>15</td>\n",
       "      <td>2</td>\n",
       "    </tr>\n",
       "    <tr>\n",
       "      <th>top</th>\n",
       "      <td>2209.03182v1.pdf</td>\n",
       "      <td>Context: Applications of the Gauss-Jordan algo...</td>\n",
       "      <td>unanswerable</td>\n",
       "      <td>drop_7</td>\n",
       "      <td>lb</td>\n",
       "    </tr>\n",
       "    <tr>\n",
       "      <th>freq</th>\n",
       "      <td>15</td>\n",
       "      <td>2</td>\n",
       "      <td>5295</td>\n",
       "      <td>928</td>\n",
       "      <td>8595</td>\n",
       "    </tr>\n",
       "  </tbody>\n",
       "</table>\n",
       "</div>"
      ],
      "text/plain": [
       "                      id                                             prompt  \\\n",
       "count              13890                                              13890   \n",
       "unique               926                                              13888   \n",
       "top     2209.03182v1.pdf  Context: Applications of the Gauss-Jordan algo...   \n",
       "freq                  15                                                  2   \n",
       "\n",
       "              answer template leaderboard  \n",
       "count          13890    13890       13890  \n",
       "unique           574       15           2  \n",
       "top     unanswerable   drop_7          lb  \n",
       "freq            5295      928        8595  "
      ]
     },
     "execution_count": 10,
     "metadata": {},
     "output_type": "execute_result"
    }
   ],
   "source": [
    "dfs['zeroshot'].drop([\"prompt lenght\", \"__index_level_0__\"], axis=1).describe()"
   ]
  },
  {
   "cell_type": "code",
   "execution_count": 11,
   "id": "fc50ba90",
   "metadata": {},
   "outputs": [
    {
     "name": "stdout",
     "output_type": "stream",
     "text": [
      "len(dfs['zeroshot']): 13890\n",
      "len(dfs['validation']): 20205\n",
      "len(dfs['zeroshot']): 6120\n",
      "len(dfs['validation']): 20205\n"
     ]
    }
   ],
   "source": [
    "print(f\"len(dfs['zeroshot']): {len(dfs['zeroshot'])}\")\n",
    "print(f\"len(dfs['validation']): {len(dfs['validation'])}\")\n",
    "\n",
    "dfs['zeroshot'] = dfs['zeroshot'][~dfs['zeroshot']['id'].isin(zeroshot_papers_to_drop['id'])]\n",
    "dfs['validation'] = dfs['validation'][~dfs['validation']['id'].isin(validation_papers_to_drop['id'])]\n",
    "\n",
    "print(f\"len(dfs['zeroshot']): {len(dfs['zeroshot'])}\")\n",
    "print(f\"len(dfs['validation']): {len(dfs['validation'])}\")"
   ]
  },
  {
   "cell_type": "code",
   "execution_count": 12,
   "id": "2e41b276",
   "metadata": {},
   "outputs": [
    {
     "data": {
      "text/html": [
       "<div>\n",
       "<style scoped>\n",
       "    .dataframe tbody tr th:only-of-type {\n",
       "        vertical-align: middle;\n",
       "    }\n",
       "\n",
       "    .dataframe tbody tr th {\n",
       "        vertical-align: top;\n",
       "    }\n",
       "\n",
       "    .dataframe thead th {\n",
       "        text-align: right;\n",
       "    }\n",
       "</style>\n",
       "<table border=\"1\" class=\"dataframe\">\n",
       "  <thead>\n",
       "    <tr style=\"text-align: right;\">\n",
       "      <th></th>\n",
       "      <th>id</th>\n",
       "      <th>prompt</th>\n",
       "      <th>answer</th>\n",
       "      <th>template</th>\n",
       "      <th>leaderboard</th>\n",
       "    </tr>\n",
       "  </thead>\n",
       "  <tbody>\n",
       "    <tr>\n",
       "      <th>count</th>\n",
       "      <td>6120</td>\n",
       "      <td>6120</td>\n",
       "      <td>6120</td>\n",
       "      <td>6120</td>\n",
       "      <td>6120</td>\n",
       "    </tr>\n",
       "    <tr>\n",
       "      <th>unique</th>\n",
       "      <td>408</td>\n",
       "      <td>6119</td>\n",
       "      <td>56</td>\n",
       "      <td>15</td>\n",
       "      <td>2</td>\n",
       "    </tr>\n",
       "    <tr>\n",
       "      <th>top</th>\n",
       "      <td>2004.13665v2.pdf</td>\n",
       "      <td>Context: Applications of the Gauss-Jordan algo...</td>\n",
       "      <td>unanswerable</td>\n",
       "      <td>drop_7</td>\n",
       "      <td>no_lb</td>\n",
       "    </tr>\n",
       "    <tr>\n",
       "      <th>freq</th>\n",
       "      <td>15</td>\n",
       "      <td>2</td>\n",
       "      <td>5295</td>\n",
       "      <td>409</td>\n",
       "      <td>5295</td>\n",
       "    </tr>\n",
       "  </tbody>\n",
       "</table>\n",
       "</div>"
      ],
      "text/plain": [
       "                      id                                             prompt  \\\n",
       "count               6120                                               6120   \n",
       "unique               408                                               6119   \n",
       "top     2004.13665v2.pdf  Context: Applications of the Gauss-Jordan algo...   \n",
       "freq                  15                                                  2   \n",
       "\n",
       "              answer template leaderboard  \n",
       "count           6120     6120        6120  \n",
       "unique            56       15           2  \n",
       "top     unanswerable   drop_7       no_lb  \n",
       "freq            5295      409        5295  "
      ]
     },
     "execution_count": 12,
     "metadata": {},
     "output_type": "execute_result"
    }
   ],
   "source": [
    "dfs['zeroshot'].drop([\"prompt lenght\", \"__index_level_0__\"], axis=1).describe()"
   ]
  },
  {
   "cell_type": "code",
   "execution_count": 13,
   "id": "d50c0e31",
   "metadata": {},
   "outputs": [
    {
     "name": "stderr",
     "output_type": "stream",
     "text": [
      "100%|██████████| 408/408 [00:00<00:00, 10707.25it/s]\n"
     ]
    },
    {
     "name": "stdout",
     "output_type": "stream",
     "text": [
      "Missed_parsing_zero 0\n",
      "Lenght papers_to_drop in zeroshot based on train Title ID: 0\n",
      "Lenght papers_to_drop in zeroshot based on train TDM Match: 44\n",
      "Lenght papers from zeroshot with lb: 55\n",
      "Lenght papers from zeroshot with no_lb: 353\n",
      "Lenght papers from train with lb: 7025\n",
      "Lenght papers from train with no_lb: 3033\n",
      "\n",
      "validation\n",
      "\n"
     ]
    },
    {
     "name": "stderr",
     "output_type": "stream",
     "text": [
      "100%|██████████| 1347/1347 [00:00<00:00, 8093.70it/s]"
     ]
    },
    {
     "name": "stdout",
     "output_type": "stream",
     "text": [
      "Missed_parsing_zero 0\n",
      "Lenght papers_to_drop in validation based on train Title ID: 0\n",
      "Lenght papers_to_drop in validation based on train TDM Match: 661\n",
      "Lenght papers from validation with lb: 903\n",
      "Lenght papers from validation with no_lb: 444\n",
      "Lenght papers from train with lb: 7025\n",
      "Lenght papers from train with no_lb: 3033\n"
     ]
    },
    {
     "name": "stderr",
     "output_type": "stream",
     "text": [
      "\n"
     ]
    }
   ],
   "source": [
    "# In zeroshot means paper to remove from zero-shot to make it real zershot, in the sense that \n",
    "# At least one of the leaderboard was not seen at training time \n",
    "zeroshot_papers_to_drop = remove_data_leakage(dfs, source=\"zeroshot\", target=\"train\", THRESHOLD=90)\n",
    "\n",
    "print(\"\\nvalidation\\n\")\n",
    "# in validation this means paper to keep as part of few shot \n",
    "validation_papers_to_drop = remove_data_leakage(dfs, source=\"validation\", target=\"train\", THRESHOLD=90)"
   ]
  },
  {
   "cell_type": "code",
   "execution_count": 14,
   "id": "4d975eb0",
   "metadata": {},
   "outputs": [
    {
     "name": "stdout",
     "output_type": "stream",
     "text": [
      "len(zeroshot_concat): 9750\n",
      "len(validation_concat): 20865\n"
     ]
    }
   ],
   "source": [
    "zeroshot_concat = pd.concat([dfs['zeroshot'], dfs['validation'][~(dfs['validation']['id'].isin(validation_papers_to_drop['tdm'])) & (dfs['validation']['leaderboard']==\"lb\")]], ignore_index=True)\n",
    "print(f\"len(zeroshot_concat): {len(zeroshot_concat)}\")\n",
    "# zeroshot_concat = dfs['zeroshot']\n",
    "# print(f\"len(zeroshot_concat): {len(zeroshot_concat)}\")\n",
    "\n",
    "validation_concat = pd.concat([dfs['validation'], dfs['zeroshot'][dfs['zeroshot']['id'].isin(zeroshot_papers_to_drop['tdm'])]], ignore_index=True)\n",
    "print(f\"len(validation_concat): {len(validation_concat)}\")"
   ]
  },
  {
   "cell_type": "code",
   "execution_count": 15,
   "id": "88cd651c",
   "metadata": {},
   "outputs": [
    {
     "data": {
      "text/html": [
       "<div>\n",
       "<style scoped>\n",
       "    .dataframe tbody tr th:only-of-type {\n",
       "        vertical-align: middle;\n",
       "    }\n",
       "\n",
       "    .dataframe tbody tr th {\n",
       "        vertical-align: top;\n",
       "    }\n",
       "\n",
       "    .dataframe thead th {\n",
       "        text-align: right;\n",
       "    }\n",
       "</style>\n",
       "<table border=\"1\" class=\"dataframe\">\n",
       "  <thead>\n",
       "    <tr style=\"text-align: right;\">\n",
       "      <th></th>\n",
       "      <th>id</th>\n",
       "      <th>prompt</th>\n",
       "      <th>answer</th>\n",
       "      <th>template</th>\n",
       "      <th>leaderboard</th>\n",
       "    </tr>\n",
       "  </thead>\n",
       "  <tbody>\n",
       "    <tr>\n",
       "      <th>count</th>\n",
       "      <td>9090</td>\n",
       "      <td>9090</td>\n",
       "      <td>9090</td>\n",
       "      <td>9090</td>\n",
       "      <td>9090</td>\n",
       "    </tr>\n",
       "    <tr>\n",
       "      <th>unique</th>\n",
       "      <td>595</td>\n",
       "      <td>8924</td>\n",
       "      <td>243</td>\n",
       "      <td>15</td>\n",
       "      <td>2</td>\n",
       "    </tr>\n",
       "    <tr>\n",
       "      <th>top</th>\n",
       "      <td>2006.04026v1.pdf</td>\n",
       "      <td>SharinGAN: Combining Synthetic and Real Data f...</td>\n",
       "      <td>unanswerable</td>\n",
       "      <td>drop_7</td>\n",
       "      <td>no_lb</td>\n",
       "    </tr>\n",
       "    <tr>\n",
       "      <th>freq</th>\n",
       "      <td>30</td>\n",
       "      <td>2</td>\n",
       "      <td>5295</td>\n",
       "      <td>607</td>\n",
       "      <td>5295</td>\n",
       "    </tr>\n",
       "  </tbody>\n",
       "</table>\n",
       "</div>"
      ],
      "text/plain": [
       "                      id                                             prompt  \\\n",
       "count               9090                                               9090   \n",
       "unique               595                                               8924   \n",
       "top     2006.04026v1.pdf  SharinGAN: Combining Synthetic and Real Data f...   \n",
       "freq                  30                                                  2   \n",
       "\n",
       "              answer template leaderboard  \n",
       "count           9090     9090        9090  \n",
       "unique           243       15           2  \n",
       "top     unanswerable   drop_7       no_lb  \n",
       "freq            5295      607        5295  "
      ]
     },
     "execution_count": 15,
     "metadata": {},
     "output_type": "execute_result"
    }
   ],
   "source": [
    "# Filtering the DataFrame\n",
    "dfs['zeroshot'] = zeroshot_concat.copy()\n",
    "\n",
    "dfs['zeroshot'] = dfs['zeroshot'][~dfs['zeroshot']['id'].isin(zeroshot_papers_to_drop['tdm'])]\n",
    "\n",
    "dfs['zeroshot'].drop([\"prompt lenght\", \"__index_level_0__\"], axis=1).describe()"
   ]
  },
  {
   "cell_type": "code",
   "execution_count": 16,
   "id": "3ee6eb67",
   "metadata": {},
   "outputs": [
    {
     "data": {
      "text/html": [
       "<div>\n",
       "<style scoped>\n",
       "    .dataframe tbody tr th:only-of-type {\n",
       "        vertical-align: middle;\n",
       "    }\n",
       "\n",
       "    .dataframe tbody tr th {\n",
       "        vertical-align: top;\n",
       "    }\n",
       "\n",
       "    .dataframe thead th {\n",
       "        text-align: right;\n",
       "    }\n",
       "</style>\n",
       "<table border=\"1\" class=\"dataframe\">\n",
       "  <thead>\n",
       "    <tr style=\"text-align: right;\">\n",
       "      <th></th>\n",
       "      <th>id</th>\n",
       "      <th>prompt</th>\n",
       "      <th>answer</th>\n",
       "      <th>template</th>\n",
       "      <th>leaderboard</th>\n",
       "    </tr>\n",
       "  </thead>\n",
       "  <tbody>\n",
       "    <tr>\n",
       "      <th>count</th>\n",
       "      <td>17235</td>\n",
       "      <td>17235</td>\n",
       "      <td>17235</td>\n",
       "      <td>17235</td>\n",
       "      <td>17235</td>\n",
       "    </tr>\n",
       "    <tr>\n",
       "      <th>unique</th>\n",
       "      <td>1105</td>\n",
       "      <td>16572</td>\n",
       "      <td>661</td>\n",
       "      <td>15</td>\n",
       "      <td>2</td>\n",
       "    </tr>\n",
       "    <tr>\n",
       "      <th>top</th>\n",
       "      <td>2005.07150v3.pdf</td>\n",
       "      <td>Read this: Named Entity Recognition as Depende...</td>\n",
       "      <td>unanswerable</td>\n",
       "      <td>drop_7</td>\n",
       "      <td>lb</td>\n",
       "    </tr>\n",
       "    <tr>\n",
       "      <th>freq</th>\n",
       "      <td>30</td>\n",
       "      <td>2</td>\n",
       "      <td>6660</td>\n",
       "      <td>1152</td>\n",
       "      <td>10575</td>\n",
       "    </tr>\n",
       "  </tbody>\n",
       "</table>\n",
       "</div>"
      ],
      "text/plain": [
       "                      id                                             prompt  \\\n",
       "count              17235                                              17235   \n",
       "unique              1105                                              16572   \n",
       "top     2005.07150v3.pdf  Read this: Named Entity Recognition as Depende...   \n",
       "freq                  30                                                  2   \n",
       "\n",
       "              answer template leaderboard  \n",
       "count          17235    17235       17235  \n",
       "unique           661       15           2  \n",
       "top     unanswerable   drop_7          lb  \n",
       "freq            6660     1152       10575  "
      ]
     },
     "execution_count": 16,
     "metadata": {},
     "output_type": "execute_result"
    }
   ],
   "source": [
    "# Filtering the DataFrame\n",
    "dfs['validation'] = validation_concat.copy()\n",
    "# I want to keep all the no leaderboard papers in validation \n",
    "dfs['validation'] = dfs['validation'][(dfs['validation']['id'].isin(validation_papers_to_drop['tdm'])) | (dfs['validation']['leaderboard']==\"no_lb\")]\n",
    "\n",
    "dfs['validation'].drop([\"prompt lenght\", \"__index_level_0__\"], axis=1).describe()"
   ]
  },
  {
   "cell_type": "code",
   "execution_count": 17,
   "id": "0b393cde",
   "metadata": {},
   "outputs": [
    {
     "name": "stderr",
     "output_type": "stream",
     "text": [
      "100%|██████████| 595/595 [00:00<00:00, 9199.32it/s]\n"
     ]
    },
    {
     "name": "stdout",
     "output_type": "stream",
     "text": [
      "Missed_parsing_zero 0\n",
      "Lenght papers_to_drop in zeroshot based on train Title ID: 0\n",
      "Lenght papers_to_drop in zeroshot based on train TDM Match: 0\n",
      "Lenght papers from zeroshot with lb: 242\n",
      "Lenght papers from zeroshot with no_lb: 353\n",
      "Lenght papers from train with lb: 7025\n",
      "Lenght papers from train with no_lb: 3033\n",
      "\n",
      "validation\n",
      "\n"
     ]
    },
    {
     "name": "stderr",
     "output_type": "stream",
     "text": [
      "100%|██████████| 1105/1105 [00:00<00:00, 8460.97it/s]"
     ]
    },
    {
     "name": "stdout",
     "output_type": "stream",
     "text": [
      "Missed_parsing_zero 0\n",
      "Lenght papers_to_drop in validation based on train Title ID: 0\n",
      "Lenght papers_to_drop in validation based on train TDM Match: 661\n",
      "Lenght papers from validation with lb: 661\n",
      "Lenght papers from validation with no_lb: 444\n",
      "Lenght papers from train with lb: 7025\n",
      "Lenght papers from train with no_lb: 3033\n"
     ]
    },
    {
     "name": "stderr",
     "output_type": "stream",
     "text": [
      "\n"
     ]
    }
   ],
   "source": [
    "zeroshot_papers_to_drop = remove_data_leakage(dfs, source=\"zeroshot\", target=\"train\", THRESHOLD=90)\n",
    "print(\"\\nvalidation\\n\")\n",
    "validation_papers_to_drop = remove_data_leakage(dfs, source=\"validation\", target=\"train\", THRESHOLD=90)"
   ]
  },
  {
   "cell_type": "code",
   "execution_count": 18,
   "id": "70d3826e",
   "metadata": {},
   "outputs": [],
   "source": [
    "dfs['train'].drop([\"__index_level_0__\"], inplace=True, axis=1)\n",
    "dfs['validation'].drop([\"__index_level_0__\"], inplace=True, axis=1)\n",
    "dfs['zeroshot'].drop([\"__index_level_0__\"], inplace=True, axis=1)"
   ]
  },
  {
   "cell_type": "code",
   "execution_count": 19,
   "id": "a132ef24",
   "metadata": {},
   "outputs": [
    {
     "data": {
      "text/html": [
       "<div>\n",
       "<style scoped>\n",
       "    .dataframe tbody tr th:only-of-type {\n",
       "        vertical-align: middle;\n",
       "    }\n",
       "\n",
       "    .dataframe tbody tr th {\n",
       "        vertical-align: top;\n",
       "    }\n",
       "\n",
       "    .dataframe thead th {\n",
       "        text-align: right;\n",
       "    }\n",
       "</style>\n",
       "<table border=\"1\" class=\"dataframe\">\n",
       "  <thead>\n",
       "    <tr style=\"text-align: right;\">\n",
       "      <th></th>\n",
       "      <th>id</th>\n",
       "      <th>prompt</th>\n",
       "      <th>answer</th>\n",
       "      <th>template</th>\n",
       "      <th>prompt lenght</th>\n",
       "      <th>leaderboard</th>\n",
       "    </tr>\n",
       "  </thead>\n",
       "  <tbody>\n",
       "    <tr>\n",
       "      <th>150865</th>\n",
       "      <td>1111.2942.pdf</td>\n",
       "      <td>Down the Rabbit Hole: Robust Proximity Search ...</td>\n",
       "      <td>unanswerable</td>\n",
       "      <td>drop_3</td>\n",
       "      <td>231</td>\n",
       "      <td>no_lb</td>\n",
       "    </tr>\n",
       "    <tr>\n",
       "      <th>150866</th>\n",
       "      <td>1111.2942.pdf</td>\n",
       "      <td>Down the Rabbit Hole: Robust Proximity Search ...</td>\n",
       "      <td>unanswerable</td>\n",
       "      <td>drop_4</td>\n",
       "      <td>234</td>\n",
       "      <td>no_lb</td>\n",
       "    </tr>\n",
       "    <tr>\n",
       "      <th>150867</th>\n",
       "      <td>1111.2942.pdf</td>\n",
       "      <td>Read this article and answer this question Dow...</td>\n",
       "      <td>unanswerable</td>\n",
       "      <td>drop_5</td>\n",
       "      <td>238</td>\n",
       "      <td>no_lb</td>\n",
       "    </tr>\n",
       "    <tr>\n",
       "      <th>150868</th>\n",
       "      <td>1111.2942.pdf</td>\n",
       "      <td>Down the Rabbit Hole: Robust Proximity Search ...</td>\n",
       "      <td>unanswerable</td>\n",
       "      <td>drop_6</td>\n",
       "      <td>239</td>\n",
       "      <td>no_lb</td>\n",
       "    </tr>\n",
       "    <tr>\n",
       "      <th>150869</th>\n",
       "      <td>1111.2942.pdf</td>\n",
       "      <td>Context: Down the Rabbit Hole: Robust Proximit...</td>\n",
       "      <td>unanswerable</td>\n",
       "      <td>drop_7</td>\n",
       "      <td>234</td>\n",
       "      <td>no_lb</td>\n",
       "    </tr>\n",
       "  </tbody>\n",
       "</table>\n",
       "</div>"
      ],
      "text/plain": [
       "                   id                                             prompt  \\\n",
       "150865  1111.2942.pdf  Down the Rabbit Hole: Robust Proximity Search ...   \n",
       "150866  1111.2942.pdf  Down the Rabbit Hole: Robust Proximity Search ...   \n",
       "150867  1111.2942.pdf  Read this article and answer this question Dow...   \n",
       "150868  1111.2942.pdf  Down the Rabbit Hole: Robust Proximity Search ...   \n",
       "150869  1111.2942.pdf  Context: Down the Rabbit Hole: Robust Proximit...   \n",
       "\n",
       "              answer template  prompt lenght leaderboard  \n",
       "150865  unanswerable   drop_3            231       no_lb  \n",
       "150866  unanswerable   drop_4            234       no_lb  \n",
       "150867  unanswerable   drop_5            238       no_lb  \n",
       "150868  unanswerable   drop_6            239       no_lb  \n",
       "150869  unanswerable   drop_7            234       no_lb  "
      ]
     },
     "execution_count": 19,
     "metadata": {},
     "output_type": "execute_result"
    }
   ],
   "source": [
    "dfs['train'].tail()"
   ]
  },
  {
   "cell_type": "code",
   "execution_count": 20,
   "id": "34c83f97",
   "metadata": {},
   "outputs": [
    {
     "data": {
      "image/png": "[encoded data removed]",
      "text/plain": [
       "<Figure size 576x576 with 1 Axes>"
      ]
     },
     "metadata": {},
     "output_type": "display_data"
    },
    {
     "data": {
      "image/png": "[encoded data removed]",
      "text/plain": [
       "<Figure size 576x576 with 1 Axes>"
      ]
     },
     "metadata": {},
     "output_type": "display_data"
    },
    {
     "data": {
      "image/png": "[encoded data removed]",
      "text/plain": [
       "<Figure size 576x576 with 1 Axes>"
      ]
     },
     "metadata": {},
     "output_type": "display_data"
    }
   ],
   "source": [
    "view_leaderboard_distribution(dfs)"
   ]
  },
  {
   "cell_type": "code",
   "execution_count": 21,
   "id": "93bda167",
   "metadata": {},
   "outputs": [
    {
     "name": "stdout",
     "output_type": "stream",
     "text": [
      "zeroshot_paper_in_train: 0\n",
      "zeroshot_paper_in_validation: 0\n",
      "validation_paper_in_train: 0\n",
      "validation_paper_in_zeroshot: 0\n"
     ]
    }
   ],
   "source": [
    "verify_data_integrity(dfs, include_no_lb=False)"
   ]
  },
  {
   "cell_type": "code",
   "execution_count": 22,
   "id": "bf4297f0",
   "metadata": {},
   "outputs": [
    {
     "data": {
      "text/html": [
       "<div>\n",
       "<style scoped>\n",
       "    .dataframe tbody tr th:only-of-type {\n",
       "        vertical-align: middle;\n",
       "    }\n",
       "\n",
       "    .dataframe tbody tr th {\n",
       "        vertical-align: top;\n",
       "    }\n",
       "\n",
       "    .dataframe thead th {\n",
       "        text-align: right;\n",
       "    }\n",
       "</style>\n",
       "<table border=\"1\" class=\"dataframe\">\n",
       "  <thead>\n",
       "    <tr style=\"text-align: right;\">\n",
       "      <th></th>\n",
       "      <th>id</th>\n",
       "      <th>prompt</th>\n",
       "      <th>answer</th>\n",
       "      <th>template</th>\n",
       "      <th>leaderboard</th>\n",
       "    </tr>\n",
       "  </thead>\n",
       "  <tbody>\n",
       "    <tr>\n",
       "      <th>count</th>\n",
       "      <td>9090</td>\n",
       "      <td>9090</td>\n",
       "      <td>9090</td>\n",
       "      <td>9090</td>\n",
       "      <td>9090</td>\n",
       "    </tr>\n",
       "    <tr>\n",
       "      <th>unique</th>\n",
       "      <td>595</td>\n",
       "      <td>8924</td>\n",
       "      <td>243</td>\n",
       "      <td>15</td>\n",
       "      <td>2</td>\n",
       "    </tr>\n",
       "    <tr>\n",
       "      <th>top</th>\n",
       "      <td>2006.04026v1.pdf</td>\n",
       "      <td>SharinGAN: Combining Synthetic and Real Data f...</td>\n",
       "      <td>unanswerable</td>\n",
       "      <td>drop_7</td>\n",
       "      <td>no_lb</td>\n",
       "    </tr>\n",
       "    <tr>\n",
       "      <th>freq</th>\n",
       "      <td>30</td>\n",
       "      <td>2</td>\n",
       "      <td>5295</td>\n",
       "      <td>607</td>\n",
       "      <td>5295</td>\n",
       "    </tr>\n",
       "  </tbody>\n",
       "</table>\n",
       "</div>"
      ],
      "text/plain": [
       "                      id                                             prompt  \\\n",
       "count               9090                                               9090   \n",
       "unique               595                                               8924   \n",
       "top     2006.04026v1.pdf  SharinGAN: Combining Synthetic and Real Data f...   \n",
       "freq                  30                                                  2   \n",
       "\n",
       "              answer template leaderboard  \n",
       "count           9090     9090        9090  \n",
       "unique           243       15           2  \n",
       "top     unanswerable   drop_7       no_lb  \n",
       "freq            5295      607        5295  "
      ]
     },
     "execution_count": 22,
     "metadata": {},
     "output_type": "execute_result"
    }
   ],
   "source": [
    "dfs['zeroshot'].drop([\"prompt lenght\"], axis=1).describe()"
   ]
  },
  {
   "cell_type": "code",
   "execution_count": 23,
   "id": "fd03c089",
   "metadata": {},
   "outputs": [
    {
     "data": {
      "application/vnd.jupyter.widget-view+json": {
       "model_id": "80c6afe511a34b88b89d8cb48d0441df",
       "version_major": 2,
       "version_minor": 0
      },
      "text/plain": [
       "Saving the dataset (0/2 shards):   0%|          | 0/150870 [00:00<?, ? examples/s]"
      ]
     },
     "metadata": {},
     "output_type": "display_data"
    },
    {
     "data": {
      "application/vnd.jupyter.widget-view+json": {
       "model_id": "9544ac126e4d40aead34f0a7c451c938",
       "version_major": 2,
       "version_minor": 0
      },
      "text/plain": [
       "Saving the dataset (0/1 shards):   0%|          | 0/17235 [00:00<?, ? examples/s]"
      ]
     },
     "metadata": {},
     "output_type": "display_data"
    },
    {
     "data": {
      "application/vnd.jupyter.widget-view+json": {
       "model_id": "7ded013aba6a45739725af638c11281f",
       "version_major": 2,
       "version_minor": 0
      },
      "text/plain": [
       "Saving the dataset (0/1 shards):   0%|          | 0/9090 [00:00<?, ? examples/s]"
      ]
     },
     "metadata": {},
     "output_type": "display_data"
    }
   ],
   "source": [
    "dataset = DatasetDict({\n",
    "        \"train\": Dataset.from_pandas(dfs['train']),\n",
    "        \"validation\": Dataset.from_pandas(dfs['validation']),\n",
    "        \"zeroshot\": Dataset.from_pandas(dfs['zeroshot'])\n",
    "    })\n",
    "\n",
    "dataset.save_to_disk(\"../data/LEADERBOARDS_DOCTEAT_TDMS_ALL_TEMPLATES\")"
   ]
  },
  {
   "cell_type": "markdown",
   "id": "4623dbbc",
   "metadata": {},
   "source": [
    "### Templates Specific"
   ]
  },
  {
   "cell_type": "code",
   "execution_count": 24,
   "id": "34540842",
   "metadata": {},
   "outputs": [
    {
     "name": "stdout",
     "output_type": "stream",
     "text": [
      "SQUAD: 1\n",
      "\n",
      "Zeroshot\n",
      "\n"
     ]
    },
    {
     "name": "stderr",
     "output_type": "stream",
     "text": [
      "100%|██████████| 926/926 [00:00<00:00, 5775.47it/s]\n"
     ]
    },
    {
     "name": "stdout",
     "output_type": "stream",
     "text": [
      "Missed_parsing_zero 0\n",
      "Lenght papers_to_drop in zeroshot based on train Title ID: 518\n",
      "Lenght papers_to_drop in zeroshot based on train TDM Match: 44\n",
      "Lenght papers from zeroshot with lb: 573\n",
      "Lenght papers from zeroshot with no_lb: 353\n",
      "Lenght papers from train with lb: 7025\n",
      "Lenght papers from train with no_lb: 3033\n",
      "\n",
      "validation\n",
      "\n"
     ]
    },
    {
     "name": "stderr",
     "output_type": "stream",
     "text": [
      "100%|██████████| 1347/1347 [00:00<00:00, 4801.15it/s]\n"
     ]
    },
    {
     "name": "stdout",
     "output_type": "stream",
     "text": [
      "Missed_parsing_zero 0\n",
      "Lenght papers_to_drop in validation based on train Title ID: 0\n",
      "Lenght papers_to_drop in validation based on train TDM Match: 661\n",
      "Lenght papers from validation with lb: 903\n",
      "Lenght papers from validation with no_lb: 444\n",
      "Lenght papers from train with lb: 7025\n",
      "Lenght papers from train with no_lb: 3033\n",
      "len(dfs['zeroshot']): 926\n",
      "len(dfs['validation']): 1347\n",
      "len(dfs['zeroshot']): 408\n",
      "len(dfs['validation']): 1347\n",
      "\n",
      "Zeroshot\n",
      "\n"
     ]
    },
    {
     "name": "stderr",
     "output_type": "stream",
     "text": [
      "100%|██████████| 408/408 [00:00<00:00, 10575.71it/s]\n"
     ]
    },
    {
     "name": "stdout",
     "output_type": "stream",
     "text": [
      "Missed_parsing_zero 0\n",
      "Lenght papers_to_drop in zeroshot based on train Title ID: 0\n",
      "Lenght papers_to_drop in zeroshot based on train TDM Match: 44\n",
      "Lenght papers from zeroshot with lb: 55\n",
      "Lenght papers from zeroshot with no_lb: 353\n",
      "Lenght papers from train with lb: 7025\n",
      "Lenght papers from train with no_lb: 3033\n",
      "\n",
      "validation\n",
      "\n"
     ]
    },
    {
     "name": "stderr",
     "output_type": "stream",
     "text": [
      "100%|██████████| 1347/1347 [00:00<00:00, 8048.06it/s]\n"
     ]
    },
    {
     "name": "stdout",
     "output_type": "stream",
     "text": [
      "Missed_parsing_zero 0\n",
      "Lenght papers_to_drop in validation based on train Title ID: 0\n",
      "Lenght papers_to_drop in validation based on train TDM Match: 661\n",
      "Lenght papers from validation with lb: 903\n",
      "Lenght papers from validation with no_lb: 444\n",
      "Lenght papers from train with lb: 7025\n",
      "Lenght papers from train with no_lb: 3033\n",
      "len(zeroshot_concat): 650\n",
      "len(validation_concat): 1391\n",
      "\n",
      "Zeroshot\n",
      "\n"
     ]
    },
    {
     "name": "stderr",
     "output_type": "stream",
     "text": [
      "100%|██████████| 595/595 [00:00<00:00, 8950.97it/s]\n"
     ]
    },
    {
     "name": "stdout",
     "output_type": "stream",
     "text": [
      "Missed_parsing_zero 0\n",
      "Lenght papers_to_drop in zeroshot based on train Title ID: 0\n",
      "Lenght papers_to_drop in zeroshot based on train TDM Match: 0\n",
      "Lenght papers from zeroshot with lb: 242\n",
      "Lenght papers from zeroshot with no_lb: 353\n",
      "Lenght papers from train with lb: 7025\n",
      "Lenght papers from train with no_lb: 3033\n",
      "\n",
      "validation\n",
      "\n"
     ]
    },
    {
     "name": "stderr",
     "output_type": "stream",
     "text": [
      "100%|██████████| 1105/1105 [00:00<00:00, 8539.90it/s]\n"
     ]
    },
    {
     "name": "stdout",
     "output_type": "stream",
     "text": [
      "Missed_parsing_zero 0\n",
      "Lenght papers_to_drop in validation based on train Title ID: 0\n",
      "Lenght papers_to_drop in validation based on train TDM Match: 661\n",
      "Lenght papers from validation with lb: 661\n",
      "Lenght papers from validation with no_lb: 444\n",
      "Lenght papers from train with lb: 7025\n",
      "Lenght papers from train with no_lb: 3033\n",
      "zeroshot_paper_in_train: 0\n",
      "zeroshot_paper_in_validation: 0\n",
      "validation_paper_in_train: 0\n",
      "validation_paper_in_zeroshot: 0\n"
     ]
    },
    {
     "data": {
      "text/html": [
       "<div>\n",
       "<style scoped>\n",
       "    .dataframe tbody tr th:only-of-type {\n",
       "        vertical-align: middle;\n",
       "    }\n",
       "\n",
       "    .dataframe tbody tr th {\n",
       "        vertical-align: top;\n",
       "    }\n",
       "\n",
       "    .dataframe thead th {\n",
       "        text-align: right;\n",
       "    }\n",
       "</style>\n",
       "<table border=\"1\" class=\"dataframe\">\n",
       "  <thead>\n",
       "    <tr style=\"text-align: right;\">\n",
       "      <th></th>\n",
       "      <th>id</th>\n",
       "      <th>prompt</th>\n",
       "      <th>answer</th>\n",
       "      <th>template</th>\n",
       "      <th>leaderboard</th>\n",
       "    </tr>\n",
       "  </thead>\n",
       "  <tbody>\n",
       "    <tr>\n",
       "      <th>count</th>\n",
       "      <td>606</td>\n",
       "      <td>606</td>\n",
       "      <td>606</td>\n",
       "      <td>606</td>\n",
       "      <td>606</td>\n",
       "    </tr>\n",
       "    <tr>\n",
       "      <th>unique</th>\n",
       "      <td>595</td>\n",
       "      <td>595</td>\n",
       "      <td>243</td>\n",
       "      <td>1</td>\n",
       "      <td>2</td>\n",
       "    </tr>\n",
       "    <tr>\n",
       "      <th>top</th>\n",
       "      <td>2006.04026v1.pdf</td>\n",
       "      <td>SharinGAN: Combining Synthetic and Real Data f...</td>\n",
       "      <td>unanswerable</td>\n",
       "      <td>squad_1</td>\n",
       "      <td>no_lb</td>\n",
       "    </tr>\n",
       "    <tr>\n",
       "      <th>freq</th>\n",
       "      <td>2</td>\n",
       "      <td>2</td>\n",
       "      <td>353</td>\n",
       "      <td>606</td>\n",
       "      <td>353</td>\n",
       "    </tr>\n",
       "  </tbody>\n",
       "</table>\n",
       "</div>"
      ],
      "text/plain": [
       "                      id                                             prompt  \\\n",
       "count                606                                                606   \n",
       "unique               595                                                595   \n",
       "top     2006.04026v1.pdf  SharinGAN: Combining Synthetic and Real Data f...   \n",
       "freq                   2                                                  2   \n",
       "\n",
       "              answer template leaderboard  \n",
       "count            606      606         606  \n",
       "unique           243        1           2  \n",
       "top     unanswerable  squad_1       no_lb  \n",
       "freq             353      606         353  "
      ]
     },
     "metadata": {},
     "output_type": "display_data"
    },
    {
     "data": {
      "application/vnd.jupyter.widget-view+json": {
       "model_id": "5f5bf394175c4217bf22f2c2c715c7d0",
       "version_major": 2,
       "version_minor": 0
      },
      "text/plain": [
       "Saving the dataset (0/1 shards):   0%|          | 0/10058 [00:00<?, ? examples/s]"
      ]
     },
     "metadata": {},
     "output_type": "display_data"
    },
    {
     "data": {
      "application/vnd.jupyter.widget-view+json": {
       "model_id": "c31277b23d2a46e6a3763fa3efe00cb7",
       "version_major": 2,
       "version_minor": 0
      },
      "text/plain": [
       "Saving the dataset (0/1 shards):   0%|          | 0/1149 [00:00<?, ? examples/s]"
      ]
     },
     "metadata": {},
     "output_type": "display_data"
    },
    {
     "data": {
      "application/vnd.jupyter.widget-view+json": {
       "model_id": "b802acaef61440ff99ca15983d56f627",
       "version_major": 2,
       "version_minor": 0
      },
      "text/plain": [
       "Saving the dataset (0/1 shards):   0%|          | 0/606 [00:00<?, ? examples/s]"
      ]
     },
     "metadata": {},
     "output_type": "display_data"
    },
    {
     "name": "stdout",
     "output_type": "stream",
     "text": [
      "SQUAD: 2\n",
      "\n",
      "Zeroshot\n",
      "\n"
     ]
    },
    {
     "name": "stderr",
     "output_type": "stream",
     "text": [
      "100%|██████████| 926/926 [00:00<00:00, 11902.34it/s]\n"
     ]
    },
    {
     "name": "stdout",
     "output_type": "stream",
     "text": [
      "Missed_parsing_zero 0\n",
      "Lenght papers_to_drop in zeroshot based on train Title ID: 518\n",
      "Lenght papers_to_drop in zeroshot based on train TDM Match: 44\n",
      "Lenght papers from zeroshot with lb: 573\n",
      "Lenght papers from zeroshot with no_lb: 353\n",
      "Lenght papers from train with lb: 7025\n",
      "Lenght papers from train with no_lb: 3033\n",
      "\n",
      "validation\n",
      "\n"
     ]
    },
    {
     "name": "stderr",
     "output_type": "stream",
     "text": [
      "100%|██████████| 1347/1347 [00:00<00:00, 7966.62it/s]\n"
     ]
    },
    {
     "name": "stdout",
     "output_type": "stream",
     "text": [
      "Missed_parsing_zero 0\n",
      "Lenght papers_to_drop in validation based on train Title ID: 0\n",
      "Lenght papers_to_drop in validation based on train TDM Match: 661\n",
      "Lenght papers from validation with lb: 903\n",
      "Lenght papers from validation with no_lb: 444\n",
      "Lenght papers from train with lb: 7025\n",
      "Lenght papers from train with no_lb: 3033\n",
      "len(dfs['zeroshot']): 926\n",
      "len(dfs['validation']): 1347\n",
      "len(dfs['zeroshot']): 408\n",
      "len(dfs['validation']): 1347\n",
      "\n",
      "Zeroshot\n",
      "\n"
     ]
    },
    {
     "name": "stderr",
     "output_type": "stream",
     "text": [
      "100%|██████████| 408/408 [00:00<00:00, 10639.88it/s]\n"
     ]
    },
    {
     "name": "stdout",
     "output_type": "stream",
     "text": [
      "Missed_parsing_zero 0\n",
      "Lenght papers_to_drop in zeroshot based on train Title ID: 0\n",
      "Lenght papers_to_drop in zeroshot based on train TDM Match: 44\n",
      "Lenght papers from zeroshot with lb: 55\n",
      "Lenght papers from zeroshot with no_lb: 353\n",
      "Lenght papers from train with lb: 7025\n",
      "Lenght papers from train with no_lb: 3033\n",
      "\n",
      "validation\n",
      "\n"
     ]
    },
    {
     "name": "stderr",
     "output_type": "stream",
     "text": [
      "100%|██████████| 1347/1347 [00:00<00:00, 8078.06it/s]\n"
     ]
    },
    {
     "name": "stdout",
     "output_type": "stream",
     "text": [
      "Missed_parsing_zero 0\n",
      "Lenght papers_to_drop in validation based on train Title ID: 0\n",
      "Lenght papers_to_drop in validation based on train TDM Match: 661\n",
      "Lenght papers from validation with lb: 903\n",
      "Lenght papers from validation with no_lb: 444\n",
      "Lenght papers from train with lb: 7025\n",
      "Lenght papers from train with no_lb: 3033\n",
      "len(zeroshot_concat): 650\n",
      "len(validation_concat): 1391\n",
      "\n",
      "Zeroshot\n",
      "\n"
     ]
    },
    {
     "name": "stderr",
     "output_type": "stream",
     "text": [
      "100%|██████████| 595/595 [00:00<00:00, 8897.10it/s]\n"
     ]
    },
    {
     "name": "stdout",
     "output_type": "stream",
     "text": [
      "Missed_parsing_zero 0\n",
      "Lenght papers_to_drop in zeroshot based on train Title ID: 0\n",
      "Lenght papers_to_drop in zeroshot based on train TDM Match: 0\n",
      "Lenght papers from zeroshot with lb: 242\n",
      "Lenght papers from zeroshot with no_lb: 353\n",
      "Lenght papers from train with lb: 7025\n",
      "Lenght papers from train with no_lb: 3033\n",
      "\n",
      "validation\n",
      "\n"
     ]
    },
    {
     "name": "stderr",
     "output_type": "stream",
     "text": [
      "100%|██████████| 1105/1105 [00:00<00:00, 8159.51it/s]\n"
     ]
    },
    {
     "name": "stdout",
     "output_type": "stream",
     "text": [
      "Missed_parsing_zero 0\n",
      "Lenght papers_to_drop in validation based on train Title ID: 0\n",
      "Lenght papers_to_drop in validation based on train TDM Match: 661\n",
      "Lenght papers from validation with lb: 661\n",
      "Lenght papers from validation with no_lb: 444\n",
      "Lenght papers from train with lb: 7025\n",
      "Lenght papers from train with no_lb: 3033\n",
      "zeroshot_paper_in_train: 0\n",
      "zeroshot_paper_in_validation: 0\n",
      "validation_paper_in_train: 0\n",
      "validation_paper_in_zeroshot: 0\n"
     ]
    },
    {
     "data": {
      "text/html": [
       "<div>\n",
       "<style scoped>\n",
       "    .dataframe tbody tr th:only-of-type {\n",
       "        vertical-align: middle;\n",
       "    }\n",
       "\n",
       "    .dataframe tbody tr th {\n",
       "        vertical-align: top;\n",
       "    }\n",
       "\n",
       "    .dataframe thead th {\n",
       "        text-align: right;\n",
       "    }\n",
       "</style>\n",
       "<table border=\"1\" class=\"dataframe\">\n",
       "  <thead>\n",
       "    <tr style=\"text-align: right;\">\n",
       "      <th></th>\n",
       "      <th>id</th>\n",
       "      <th>prompt</th>\n",
       "      <th>answer</th>\n",
       "      <th>template</th>\n",
       "      <th>leaderboard</th>\n",
       "    </tr>\n",
       "  </thead>\n",
       "  <tbody>\n",
       "    <tr>\n",
       "      <th>count</th>\n",
       "      <td>606</td>\n",
       "      <td>606</td>\n",
       "      <td>606</td>\n",
       "      <td>606</td>\n",
       "      <td>606</td>\n",
       "    </tr>\n",
       "    <tr>\n",
       "      <th>unique</th>\n",
       "      <td>595</td>\n",
       "      <td>595</td>\n",
       "      <td>243</td>\n",
       "      <td>1</td>\n",
       "      <td>2</td>\n",
       "    </tr>\n",
       "    <tr>\n",
       "      <th>top</th>\n",
       "      <td>2006.04026v1.pdf</td>\n",
       "      <td>Read this and answer the question. If the ques...</td>\n",
       "      <td>unanswerable</td>\n",
       "      <td>squad_2</td>\n",
       "      <td>no_lb</td>\n",
       "    </tr>\n",
       "    <tr>\n",
       "      <th>freq</th>\n",
       "      <td>2</td>\n",
       "      <td>2</td>\n",
       "      <td>353</td>\n",
       "      <td>606</td>\n",
       "      <td>353</td>\n",
       "    </tr>\n",
       "  </tbody>\n",
       "</table>\n",
       "</div>"
      ],
      "text/plain": [
       "                      id                                             prompt  \\\n",
       "count                606                                                606   \n",
       "unique               595                                                595   \n",
       "top     2006.04026v1.pdf  Read this and answer the question. If the ques...   \n",
       "freq                   2                                                  2   \n",
       "\n",
       "              answer template leaderboard  \n",
       "count            606      606         606  \n",
       "unique           243        1           2  \n",
       "top     unanswerable  squad_2       no_lb  \n",
       "freq             353      606         353  "
      ]
     },
     "metadata": {},
     "output_type": "display_data"
    },
    {
     "data": {
      "application/vnd.jupyter.widget-view+json": {
       "model_id": "9d35f943e16445bdaed45181e0734ee4",
       "version_major": 2,
       "version_minor": 0
      },
      "text/plain": [
       "Saving the dataset (0/1 shards):   0%|          | 0/10058 [00:00<?, ? examples/s]"
      ]
     },
     "metadata": {},
     "output_type": "display_data"
    },
    {
     "data": {
      "application/vnd.jupyter.widget-view+json": {
       "model_id": "3f6d3d48431b478c9d45e988b559c486",
       "version_major": 2,
       "version_minor": 0
      },
      "text/plain": [
       "Saving the dataset (0/1 shards):   0%|          | 0/1149 [00:00<?, ? examples/s]"
      ]
     },
     "metadata": {},
     "output_type": "display_data"
    },
    {
     "data": {
      "application/vnd.jupyter.widget-view+json": {
       "model_id": "0945ec8e9f324783805123d938e643b7",
       "version_major": 2,
       "version_minor": 0
      },
      "text/plain": [
       "Saving the dataset (0/1 shards):   0%|          | 0/606 [00:00<?, ? examples/s]"
      ]
     },
     "metadata": {},
     "output_type": "display_data"
    },
    {
     "name": "stdout",
     "output_type": "stream",
     "text": [
      "SQUAD: 3\n",
      "\n",
      "Zeroshot\n",
      "\n"
     ]
    },
    {
     "name": "stderr",
     "output_type": "stream",
     "text": [
      "100%|██████████| 926/926 [00:00<00:00, 11537.63it/s]\n"
     ]
    },
    {
     "name": "stdout",
     "output_type": "stream",
     "text": [
      "Missed_parsing_zero 0\n",
      "Lenght papers_to_drop in zeroshot based on train Title ID: 518\n",
      "Lenght papers_to_drop in zeroshot based on train TDM Match: 44\n",
      "Lenght papers from zeroshot with lb: 573\n",
      "Lenght papers from zeroshot with no_lb: 353\n",
      "Lenght papers from train with lb: 7025\n",
      "Lenght papers from train with no_lb: 3033\n",
      "\n",
      "validation\n",
      "\n"
     ]
    },
    {
     "name": "stderr",
     "output_type": "stream",
     "text": [
      "100%|██████████| 1347/1347 [00:00<00:00, 7713.33it/s]\n"
     ]
    },
    {
     "name": "stdout",
     "output_type": "stream",
     "text": [
      "Missed_parsing_zero 0\n",
      "Lenght papers_to_drop in validation based on train Title ID: 0\n",
      "Lenght papers_to_drop in validation based on train TDM Match: 661\n",
      "Lenght papers from validation with lb: 903\n",
      "Lenght papers from validation with no_lb: 444\n",
      "Lenght papers from train with lb: 7025\n",
      "Lenght papers from train with no_lb: 3033\n",
      "len(dfs['zeroshot']): 926\n",
      "len(dfs['validation']): 1347\n",
      "len(dfs['zeroshot']): 408\n",
      "len(dfs['validation']): 1347\n",
      "\n",
      "Zeroshot\n",
      "\n"
     ]
    },
    {
     "name": "stderr",
     "output_type": "stream",
     "text": [
      "100%|██████████| 408/408 [00:00<00:00, 9804.27it/s]\n"
     ]
    },
    {
     "name": "stdout",
     "output_type": "stream",
     "text": [
      "Missed_parsing_zero 0\n",
      "Lenght papers_to_drop in zeroshot based on train Title ID: 0\n",
      "Lenght papers_to_drop in zeroshot based on train TDM Match: 44\n",
      "Lenght papers from zeroshot with lb: 55\n",
      "Lenght papers from zeroshot with no_lb: 353\n",
      "Lenght papers from train with lb: 7025\n",
      "Lenght papers from train with no_lb: 3033\n",
      "\n",
      "validation\n",
      "\n"
     ]
    },
    {
     "name": "stderr",
     "output_type": "stream",
     "text": [
      "100%|██████████| 1347/1347 [00:00<00:00, 7466.13it/s]\n"
     ]
    },
    {
     "name": "stdout",
     "output_type": "stream",
     "text": [
      "Missed_parsing_zero 0\n",
      "Lenght papers_to_drop in validation based on train Title ID: 0\n",
      "Lenght papers_to_drop in validation based on train TDM Match: 661\n",
      "Lenght papers from validation with lb: 903\n",
      "Lenght papers from validation with no_lb: 444\n",
      "Lenght papers from train with lb: 7025\n",
      "Lenght papers from train with no_lb: 3033\n",
      "len(zeroshot_concat): 650\n",
      "len(validation_concat): 1391\n",
      "\n",
      "Zeroshot\n",
      "\n"
     ]
    },
    {
     "name": "stderr",
     "output_type": "stream",
     "text": [
      "100%|██████████| 595/595 [00:00<00:00, 8358.04it/s]\n"
     ]
    },
    {
     "name": "stdout",
     "output_type": "stream",
     "text": [
      "Missed_parsing_zero 0\n",
      "Lenght papers_to_drop in zeroshot based on train Title ID: 0\n",
      "Lenght papers_to_drop in zeroshot based on train TDM Match: 0\n",
      "Lenght papers from zeroshot with lb: 242\n",
      "Lenght papers from zeroshot with no_lb: 353\n",
      "Lenght papers from train with lb: 7025\n",
      "Lenght papers from train with no_lb: 3033\n",
      "\n",
      "validation\n",
      "\n"
     ]
    },
    {
     "name": "stderr",
     "output_type": "stream",
     "text": [
      "100%|██████████| 1105/1105 [00:00<00:00, 8225.61it/s]\n"
     ]
    },
    {
     "name": "stdout",
     "output_type": "stream",
     "text": [
      "Missed_parsing_zero 0\n",
      "Lenght papers_to_drop in validation based on train Title ID: 0\n",
      "Lenght papers_to_drop in validation based on train TDM Match: 661\n",
      "Lenght papers from validation with lb: 661\n",
      "Lenght papers from validation with no_lb: 444\n",
      "Lenght papers from train with lb: 7025\n",
      "Lenght papers from train with no_lb: 3033\n",
      "zeroshot_paper_in_train: 0\n",
      "zeroshot_paper_in_validation: 0\n",
      "validation_paper_in_train: 0\n",
      "validation_paper_in_zeroshot: 0\n"
     ]
    },
    {
     "data": {
      "text/html": [
       "<div>\n",
       "<style scoped>\n",
       "    .dataframe tbody tr th:only-of-type {\n",
       "        vertical-align: middle;\n",
       "    }\n",
       "\n",
       "    .dataframe tbody tr th {\n",
       "        vertical-align: top;\n",
       "    }\n",
       "\n",
       "    .dataframe thead th {\n",
       "        text-align: right;\n",
       "    }\n",
       "</style>\n",
       "<table border=\"1\" class=\"dataframe\">\n",
       "  <thead>\n",
       "    <tr style=\"text-align: right;\">\n",
       "      <th></th>\n",
       "      <th>id</th>\n",
       "      <th>prompt</th>\n",
       "      <th>answer</th>\n",
       "      <th>template</th>\n",
       "      <th>leaderboard</th>\n",
       "    </tr>\n",
       "  </thead>\n",
       "  <tbody>\n",
       "    <tr>\n",
       "      <th>count</th>\n",
       "      <td>606</td>\n",
       "      <td>606</td>\n",
       "      <td>606</td>\n",
       "      <td>606</td>\n",
       "      <td>606</td>\n",
       "    </tr>\n",
       "    <tr>\n",
       "      <th>unique</th>\n",
       "      <td>595</td>\n",
       "      <td>595</td>\n",
       "      <td>243</td>\n",
       "      <td>1</td>\n",
       "      <td>2</td>\n",
       "    </tr>\n",
       "    <tr>\n",
       "      <th>top</th>\n",
       "      <td>2006.04026v1.pdf</td>\n",
       "      <td>SharinGAN: Combining Synthetic and Real Data f...</td>\n",
       "      <td>unanswerable</td>\n",
       "      <td>squad_3</td>\n",
       "      <td>no_lb</td>\n",
       "    </tr>\n",
       "    <tr>\n",
       "      <th>freq</th>\n",
       "      <td>2</td>\n",
       "      <td>2</td>\n",
       "      <td>353</td>\n",
       "      <td>606</td>\n",
       "      <td>353</td>\n",
       "    </tr>\n",
       "  </tbody>\n",
       "</table>\n",
       "</div>"
      ],
      "text/plain": [
       "                      id                                             prompt  \\\n",
       "count                606                                                606   \n",
       "unique               595                                                595   \n",
       "top     2006.04026v1.pdf  SharinGAN: Combining Synthetic and Real Data f...   \n",
       "freq                   2                                                  2   \n",
       "\n",
       "              answer template leaderboard  \n",
       "count            606      606         606  \n",
       "unique           243        1           2  \n",
       "top     unanswerable  squad_3       no_lb  \n",
       "freq             353      606         353  "
      ]
     },
     "metadata": {},
     "output_type": "display_data"
    },
    {
     "data": {
      "application/vnd.jupyter.widget-view+json": {
       "model_id": "6635d1a0129d4473b13a83ca62949b5c",
       "version_major": 2,
       "version_minor": 0
      },
      "text/plain": [
       "Saving the dataset (0/1 shards):   0%|          | 0/10058 [00:00<?, ? examples/s]"
      ]
     },
     "metadata": {},
     "output_type": "display_data"
    },
    {
     "data": {
      "application/vnd.jupyter.widget-view+json": {
       "model_id": "8c4e98c802d246a2b780e47744def403",
       "version_major": 2,
       "version_minor": 0
      },
      "text/plain": [
       "Saving the dataset (0/1 shards):   0%|          | 0/1149 [00:00<?, ? examples/s]"
      ]
     },
     "metadata": {},
     "output_type": "display_data"
    },
    {
     "data": {
      "application/vnd.jupyter.widget-view+json": {
       "model_id": "a2e6405b67d44fca8503e6b293ca300d",
       "version_major": 2,
       "version_minor": 0
      },
      "text/plain": [
       "Saving the dataset (0/1 shards):   0%|          | 0/606 [00:00<?, ? examples/s]"
      ]
     },
     "metadata": {},
     "output_type": "display_data"
    },
    {
     "name": "stdout",
     "output_type": "stream",
     "text": [
      "SQUAD: 4\n",
      "\n",
      "Zeroshot\n",
      "\n"
     ]
    },
    {
     "name": "stderr",
     "output_type": "stream",
     "text": [
      "100%|██████████| 926/926 [00:00<00:00, 5894.61it/s]\n"
     ]
    },
    {
     "name": "stdout",
     "output_type": "stream",
     "text": [
      "Missed_parsing_zero 0\n",
      "Lenght papers_to_drop in zeroshot based on train Title ID: 518\n",
      "Lenght papers_to_drop in zeroshot based on train TDM Match: 44\n",
      "Lenght papers from zeroshot with lb: 573\n",
      "Lenght papers from zeroshot with no_lb: 353\n",
      "Lenght papers from train with lb: 7025\n",
      "Lenght papers from train with no_lb: 3033\n",
      "\n",
      "validation\n",
      "\n"
     ]
    },
    {
     "name": "stderr",
     "output_type": "stream",
     "text": [
      "100%|██████████| 1347/1347 [00:00<00:00, 7939.43it/s]\n"
     ]
    },
    {
     "name": "stdout",
     "output_type": "stream",
     "text": [
      "Missed_parsing_zero 0\n",
      "Lenght papers_to_drop in validation based on train Title ID: 0\n",
      "Lenght papers_to_drop in validation based on train TDM Match: 661\n",
      "Lenght papers from validation with lb: 903\n",
      "Lenght papers from validation with no_lb: 444\n",
      "Lenght papers from train with lb: 7025\n",
      "Lenght papers from train with no_lb: 3033\n",
      "len(dfs['zeroshot']): 926\n",
      "len(dfs['validation']): 1347\n",
      "len(dfs['zeroshot']): 408\n",
      "len(dfs['validation']): 1347\n",
      "\n",
      "Zeroshot\n",
      "\n"
     ]
    },
    {
     "name": "stderr",
     "output_type": "stream",
     "text": [
      "100%|██████████| 408/408 [00:00<00:00, 10588.07it/s]\n"
     ]
    },
    {
     "name": "stdout",
     "output_type": "stream",
     "text": [
      "Missed_parsing_zero 0\n",
      "Lenght papers_to_drop in zeroshot based on train Title ID: 0\n",
      "Lenght papers_to_drop in zeroshot based on train TDM Match: 44\n",
      "Lenght papers from zeroshot with lb: 55\n",
      "Lenght papers from zeroshot with no_lb: 353\n",
      "Lenght papers from train with lb: 7025\n",
      "Lenght papers from train with no_lb: 3033\n",
      "\n",
      "validation\n",
      "\n"
     ]
    },
    {
     "name": "stderr",
     "output_type": "stream",
     "text": [
      "100%|██████████| 1347/1347 [00:00<00:00, 8003.47it/s]\n"
     ]
    },
    {
     "name": "stdout",
     "output_type": "stream",
     "text": [
      "Missed_parsing_zero 0\n",
      "Lenght papers_to_drop in validation based on train Title ID: 0\n",
      "Lenght papers_to_drop in validation based on train TDM Match: 661\n",
      "Lenght papers from validation with lb: 903\n",
      "Lenght papers from validation with no_lb: 444\n",
      "Lenght papers from train with lb: 7025\n",
      "Lenght papers from train with no_lb: 3033\n",
      "len(zeroshot_concat): 650\n",
      "len(validation_concat): 1391\n",
      "\n",
      "Zeroshot\n",
      "\n"
     ]
    },
    {
     "name": "stderr",
     "output_type": "stream",
     "text": [
      "100%|██████████| 595/595 [00:00<00:00, 8890.99it/s]\n"
     ]
    },
    {
     "name": "stdout",
     "output_type": "stream",
     "text": [
      "Missed_parsing_zero 0\n",
      "Lenght papers_to_drop in zeroshot based on train Title ID: 0\n",
      "Lenght papers_to_drop in zeroshot based on train TDM Match: 0\n",
      "Lenght papers from zeroshot with lb: 242\n",
      "Lenght papers from zeroshot with no_lb: 353\n",
      "Lenght papers from train with lb: 7025\n",
      "Lenght papers from train with no_lb: 3033\n",
      "\n",
      "validation\n",
      "\n"
     ]
    },
    {
     "name": "stderr",
     "output_type": "stream",
     "text": [
      "100%|██████████| 1105/1105 [00:00<00:00, 8459.59it/s]\n"
     ]
    },
    {
     "name": "stdout",
     "output_type": "stream",
     "text": [
      "Missed_parsing_zero 0\n",
      "Lenght papers_to_drop in validation based on train Title ID: 0\n",
      "Lenght papers_to_drop in validation based on train TDM Match: 661\n",
      "Lenght papers from validation with lb: 661\n",
      "Lenght papers from validation with no_lb: 444\n",
      "Lenght papers from train with lb: 7025\n",
      "Lenght papers from train with no_lb: 3033\n",
      "zeroshot_paper_in_train: 0\n",
      "zeroshot_paper_in_validation: 0\n",
      "validation_paper_in_train: 0\n",
      "validation_paper_in_zeroshot: 0\n"
     ]
    },
    {
     "data": {
      "text/html": [
       "<div>\n",
       "<style scoped>\n",
       "    .dataframe tbody tr th:only-of-type {\n",
       "        vertical-align: middle;\n",
       "    }\n",
       "\n",
       "    .dataframe tbody tr th {\n",
       "        vertical-align: top;\n",
       "    }\n",
       "\n",
       "    .dataframe thead th {\n",
       "        text-align: right;\n",
       "    }\n",
       "</style>\n",
       "<table border=\"1\" class=\"dataframe\">\n",
       "  <thead>\n",
       "    <tr style=\"text-align: right;\">\n",
       "      <th></th>\n",
       "      <th>id</th>\n",
       "      <th>prompt</th>\n",
       "      <th>answer</th>\n",
       "      <th>template</th>\n",
       "      <th>leaderboard</th>\n",
       "    </tr>\n",
       "  </thead>\n",
       "  <tbody>\n",
       "    <tr>\n",
       "      <th>count</th>\n",
       "      <td>606</td>\n",
       "      <td>606</td>\n",
       "      <td>606</td>\n",
       "      <td>606</td>\n",
       "      <td>606</td>\n",
       "    </tr>\n",
       "    <tr>\n",
       "      <th>unique</th>\n",
       "      <td>595</td>\n",
       "      <td>595</td>\n",
       "      <td>243</td>\n",
       "      <td>1</td>\n",
       "      <td>2</td>\n",
       "    </tr>\n",
       "    <tr>\n",
       "      <th>top</th>\n",
       "      <td>2006.04026v1.pdf</td>\n",
       "      <td>SharinGAN: Combining Synthetic and Real Data f...</td>\n",
       "      <td>unanswerable</td>\n",
       "      <td>squad_4</td>\n",
       "      <td>no_lb</td>\n",
       "    </tr>\n",
       "    <tr>\n",
       "      <th>freq</th>\n",
       "      <td>2</td>\n",
       "      <td>2</td>\n",
       "      <td>353</td>\n",
       "      <td>606</td>\n",
       "      <td>353</td>\n",
       "    </tr>\n",
       "  </tbody>\n",
       "</table>\n",
       "</div>"
      ],
      "text/plain": [
       "                      id                                             prompt  \\\n",
       "count                606                                                606   \n",
       "unique               595                                                595   \n",
       "top     2006.04026v1.pdf  SharinGAN: Combining Synthetic and Real Data f...   \n",
       "freq                   2                                                  2   \n",
       "\n",
       "              answer template leaderboard  \n",
       "count            606      606         606  \n",
       "unique           243        1           2  \n",
       "top     unanswerable  squad_4       no_lb  \n",
       "freq             353      606         353  "
      ]
     },
     "metadata": {},
     "output_type": "display_data"
    },
    {
     "data": {
      "application/vnd.jupyter.widget-view+json": {
       "model_id": "3fa28fed553744ea97ea7c6f1e853089",
       "version_major": 2,
       "version_minor": 0
      },
      "text/plain": [
       "Saving the dataset (0/1 shards):   0%|          | 0/10058 [00:00<?, ? examples/s]"
      ]
     },
     "metadata": {},
     "output_type": "display_data"
    },
    {
     "data": {
      "application/vnd.jupyter.widget-view+json": {
       "model_id": "2140a085dc194121a2ae5127967504ba",
       "version_major": 2,
       "version_minor": 0
      },
      "text/plain": [
       "Saving the dataset (0/1 shards):   0%|          | 0/1149 [00:00<?, ? examples/s]"
      ]
     },
     "metadata": {},
     "output_type": "display_data"
    },
    {
     "data": {
      "application/vnd.jupyter.widget-view+json": {
       "model_id": "cd1948558e0943ecbffef3bb5931eff7",
       "version_major": 2,
       "version_minor": 0
      },
      "text/plain": [
       "Saving the dataset (0/1 shards):   0%|          | 0/606 [00:00<?, ? examples/s]"
      ]
     },
     "metadata": {},
     "output_type": "display_data"
    },
    {
     "name": "stdout",
     "output_type": "stream",
     "text": [
      "SQUAD: 5\n",
      "\n",
      "Zeroshot\n",
      "\n"
     ]
    },
    {
     "name": "stderr",
     "output_type": "stream",
     "text": [
      "100%|██████████| 926/926 [00:00<00:00, 5730.75it/s]\n"
     ]
    },
    {
     "name": "stdout",
     "output_type": "stream",
     "text": [
      "Missed_parsing_zero 0\n",
      "Lenght papers_to_drop in zeroshot based on train Title ID: 518\n",
      "Lenght papers_to_drop in zeroshot based on train TDM Match: 44\n",
      "Lenght papers from zeroshot with lb: 573\n",
      "Lenght papers from zeroshot with no_lb: 353\n",
      "Lenght papers from train with lb: 7025\n",
      "Lenght papers from train with no_lb: 3033\n",
      "\n",
      "validation\n",
      "\n"
     ]
    },
    {
     "name": "stderr",
     "output_type": "stream",
     "text": [
      "100%|██████████| 1347/1347 [00:00<00:00, 7613.51it/s]\n"
     ]
    },
    {
     "name": "stdout",
     "output_type": "stream",
     "text": [
      "Missed_parsing_zero 0\n",
      "Lenght papers_to_drop in validation based on train Title ID: 0\n",
      "Lenght papers_to_drop in validation based on train TDM Match: 661\n",
      "Lenght papers from validation with lb: 903\n",
      "Lenght papers from validation with no_lb: 444\n",
      "Lenght papers from train with lb: 7025\n",
      "Lenght papers from train with no_lb: 3033\n",
      "len(dfs['zeroshot']): 926\n",
      "len(dfs['validation']): 1347\n",
      "len(dfs['zeroshot']): 408\n",
      "len(dfs['validation']): 1347\n",
      "\n",
      "Zeroshot\n",
      "\n"
     ]
    },
    {
     "name": "stderr",
     "output_type": "stream",
     "text": [
      "100%|██████████| 408/408 [00:00<00:00, 9488.80it/s]\n"
     ]
    },
    {
     "name": "stdout",
     "output_type": "stream",
     "text": [
      "Missed_parsing_zero 0\n",
      "Lenght papers_to_drop in zeroshot based on train Title ID: 0\n",
      "Lenght papers_to_drop in zeroshot based on train TDM Match: 44\n",
      "Lenght papers from zeroshot with lb: 55\n",
      "Lenght papers from zeroshot with no_lb: 353\n",
      "Lenght papers from train with lb: 7025\n",
      "Lenght papers from train with no_lb: 3033\n",
      "\n",
      "validation\n",
      "\n"
     ]
    },
    {
     "name": "stderr",
     "output_type": "stream",
     "text": [
      "100%|██████████| 1347/1347 [00:00<00:00, 4647.16it/s]\n"
     ]
    },
    {
     "name": "stdout",
     "output_type": "stream",
     "text": [
      "Missed_parsing_zero 0\n",
      "Lenght papers_to_drop in validation based on train Title ID: 0\n",
      "Lenght papers_to_drop in validation based on train TDM Match: 661\n",
      "Lenght papers from validation with lb: 903\n",
      "Lenght papers from validation with no_lb: 444\n",
      "Lenght papers from train with lb: 7025\n",
      "Lenght papers from train with no_lb: 3033\n",
      "len(zeroshot_concat): 650\n",
      "len(validation_concat): 1391\n",
      "\n",
      "Zeroshot\n",
      "\n"
     ]
    },
    {
     "name": "stderr",
     "output_type": "stream",
     "text": [
      "100%|██████████| 595/595 [00:00<00:00, 8412.64it/s]\n"
     ]
    },
    {
     "name": "stdout",
     "output_type": "stream",
     "text": [
      "Missed_parsing_zero 0\n",
      "Lenght papers_to_drop in zeroshot based on train Title ID: 0\n",
      "Lenght papers_to_drop in zeroshot based on train TDM Match: 0\n",
      "Lenght papers from zeroshot with lb: 242\n",
      "Lenght papers from zeroshot with no_lb: 353\n",
      "Lenght papers from train with lb: 7025\n",
      "Lenght papers from train with no_lb: 3033\n",
      "\n",
      "validation\n",
      "\n"
     ]
    },
    {
     "name": "stderr",
     "output_type": "stream",
     "text": [
      "100%|██████████| 1105/1105 [00:00<00:00, 7992.75it/s]\n"
     ]
    },
    {
     "name": "stdout",
     "output_type": "stream",
     "text": [
      "Missed_parsing_zero 0\n",
      "Lenght papers_to_drop in validation based on train Title ID: 0\n",
      "Lenght papers_to_drop in validation based on train TDM Match: 661\n",
      "Lenght papers from validation with lb: 661\n",
      "Lenght papers from validation with no_lb: 444\n",
      "Lenght papers from train with lb: 7025\n",
      "Lenght papers from train with no_lb: 3033\n",
      "zeroshot_paper_in_train: 0\n",
      "zeroshot_paper_in_validation: 0\n",
      "validation_paper_in_train: 0\n",
      "validation_paper_in_zeroshot: 0\n"
     ]
    },
    {
     "data": {
      "text/html": [
       "<div>\n",
       "<style scoped>\n",
       "    .dataframe tbody tr th:only-of-type {\n",
       "        vertical-align: middle;\n",
       "    }\n",
       "\n",
       "    .dataframe tbody tr th {\n",
       "        vertical-align: top;\n",
       "    }\n",
       "\n",
       "    .dataframe thead th {\n",
       "        text-align: right;\n",
       "    }\n",
       "</style>\n",
       "<table border=\"1\" class=\"dataframe\">\n",
       "  <thead>\n",
       "    <tr style=\"text-align: right;\">\n",
       "      <th></th>\n",
       "      <th>id</th>\n",
       "      <th>prompt</th>\n",
       "      <th>answer</th>\n",
       "      <th>template</th>\n",
       "      <th>leaderboard</th>\n",
       "    </tr>\n",
       "  </thead>\n",
       "  <tbody>\n",
       "    <tr>\n",
       "      <th>count</th>\n",
       "      <td>606</td>\n",
       "      <td>606</td>\n",
       "      <td>606</td>\n",
       "      <td>606</td>\n",
       "      <td>606</td>\n",
       "    </tr>\n",
       "    <tr>\n",
       "      <th>unique</th>\n",
       "      <td>595</td>\n",
       "      <td>595</td>\n",
       "      <td>243</td>\n",
       "      <td>1</td>\n",
       "      <td>2</td>\n",
       "    </tr>\n",
       "    <tr>\n",
       "      <th>top</th>\n",
       "      <td>2006.04026v1.pdf</td>\n",
       "      <td>SharinGAN: Combining Synthetic and Real Data f...</td>\n",
       "      <td>unanswerable</td>\n",
       "      <td>squad_5</td>\n",
       "      <td>no_lb</td>\n",
       "    </tr>\n",
       "    <tr>\n",
       "      <th>freq</th>\n",
       "      <td>2</td>\n",
       "      <td>2</td>\n",
       "      <td>353</td>\n",
       "      <td>606</td>\n",
       "      <td>353</td>\n",
       "    </tr>\n",
       "  </tbody>\n",
       "</table>\n",
       "</div>"
      ],
      "text/plain": [
       "                      id                                             prompt  \\\n",
       "count                606                                                606   \n",
       "unique               595                                                595   \n",
       "top     2006.04026v1.pdf  SharinGAN: Combining Synthetic and Real Data f...   \n",
       "freq                   2                                                  2   \n",
       "\n",
       "              answer template leaderboard  \n",
       "count            606      606         606  \n",
       "unique           243        1           2  \n",
       "top     unanswerable  squad_5       no_lb  \n",
       "freq             353      606         353  "
      ]
     },
     "metadata": {},
     "output_type": "display_data"
    },
    {
     "data": {
      "application/vnd.jupyter.widget-view+json": {
       "model_id": "f1eef0bebdaa4aee93d1414238d0da6c",
       "version_major": 2,
       "version_minor": 0
      },
      "text/plain": [
       "Saving the dataset (0/1 shards):   0%|          | 0/10058 [00:00<?, ? examples/s]"
      ]
     },
     "metadata": {},
     "output_type": "display_data"
    },
    {
     "data": {
      "application/vnd.jupyter.widget-view+json": {
       "model_id": "1fd90c639a924985af5b3a40ce70699c",
       "version_major": 2,
       "version_minor": 0
      },
      "text/plain": [
       "Saving the dataset (0/1 shards):   0%|          | 0/1149 [00:00<?, ? examples/s]"
      ]
     },
     "metadata": {},
     "output_type": "display_data"
    },
    {
     "data": {
      "application/vnd.jupyter.widget-view+json": {
       "model_id": "cca6d955523d46a2b512fd4535724818",
       "version_major": 2,
       "version_minor": 0
      },
      "text/plain": [
       "Saving the dataset (0/1 shards):   0%|          | 0/606 [00:00<?, ? examples/s]"
      ]
     },
     "metadata": {},
     "output_type": "display_data"
    },
    {
     "name": "stdout",
     "output_type": "stream",
     "text": [
      "SQUAD: 6\n",
      "\n",
      "Zeroshot\n",
      "\n"
     ]
    },
    {
     "name": "stderr",
     "output_type": "stream",
     "text": [
      "100%|██████████| 926/926 [00:00<00:00, 5859.66it/s]\n"
     ]
    },
    {
     "name": "stdout",
     "output_type": "stream",
     "text": [
      "Missed_parsing_zero 0\n",
      "Lenght papers_to_drop in zeroshot based on train Title ID: 518\n",
      "Lenght papers_to_drop in zeroshot based on train TDM Match: 44\n",
      "Lenght papers from zeroshot with lb: 573\n",
      "Lenght papers from zeroshot with no_lb: 353\n",
      "Lenght papers from train with lb: 7025\n",
      "Lenght papers from train with no_lb: 3033\n",
      "\n",
      "validation\n",
      "\n"
     ]
    },
    {
     "name": "stderr",
     "output_type": "stream",
     "text": [
      "100%|██████████| 1347/1347 [00:00<00:00, 8068.63it/s]\n"
     ]
    },
    {
     "name": "stdout",
     "output_type": "stream",
     "text": [
      "Missed_parsing_zero 0\n",
      "Lenght papers_to_drop in validation based on train Title ID: 0\n",
      "Lenght papers_to_drop in validation based on train TDM Match: 661\n",
      "Lenght papers from validation with lb: 903\n",
      "Lenght papers from validation with no_lb: 444\n",
      "Lenght papers from train with lb: 7025\n",
      "Lenght papers from train with no_lb: 3033\n",
      "len(dfs['zeroshot']): 926\n",
      "len(dfs['validation']): 1347\n",
      "len(dfs['zeroshot']): 408\n",
      "len(dfs['validation']): 1347\n",
      "\n",
      "Zeroshot\n",
      "\n"
     ]
    },
    {
     "name": "stderr",
     "output_type": "stream",
     "text": [
      "100%|██████████| 408/408 [00:00<00:00, 10565.39it/s]\n"
     ]
    },
    {
     "name": "stdout",
     "output_type": "stream",
     "text": [
      "Missed_parsing_zero 0\n",
      "Lenght papers_to_drop in zeroshot based on train Title ID: 0\n",
      "Lenght papers_to_drop in zeroshot based on train TDM Match: 44\n",
      "Lenght papers from zeroshot with lb: 55\n",
      "Lenght papers from zeroshot with no_lb: 353\n",
      "Lenght papers from train with lb: 7025\n",
      "Lenght papers from train with no_lb: 3033\n",
      "\n",
      "validation\n",
      "\n"
     ]
    },
    {
     "name": "stderr",
     "output_type": "stream",
     "text": [
      "100%|██████████| 1347/1347 [00:00<00:00, 8048.78it/s]\n"
     ]
    },
    {
     "name": "stdout",
     "output_type": "stream",
     "text": [
      "Missed_parsing_zero 0\n",
      "Lenght papers_to_drop in validation based on train Title ID: 0\n",
      "Lenght papers_to_drop in validation based on train TDM Match: 661\n",
      "Lenght papers from validation with lb: 903\n",
      "Lenght papers from validation with no_lb: 444\n",
      "Lenght papers from train with lb: 7025\n",
      "Lenght papers from train with no_lb: 3033\n",
      "len(zeroshot_concat): 650\n",
      "len(validation_concat): 1391\n",
      "\n",
      "Zeroshot\n",
      "\n"
     ]
    },
    {
     "name": "stderr",
     "output_type": "stream",
     "text": [
      "100%|██████████| 595/595 [00:00<00:00, 8800.81it/s]\n"
     ]
    },
    {
     "name": "stdout",
     "output_type": "stream",
     "text": [
      "Missed_parsing_zero 0\n",
      "Lenght papers_to_drop in zeroshot based on train Title ID: 0\n",
      "Lenght papers_to_drop in zeroshot based on train TDM Match: 0\n",
      "Lenght papers from zeroshot with lb: 242\n",
      "Lenght papers from zeroshot with no_lb: 353\n",
      "Lenght papers from train with lb: 7025\n",
      "Lenght papers from train with no_lb: 3033\n",
      "\n",
      "validation\n",
      "\n"
     ]
    },
    {
     "name": "stderr",
     "output_type": "stream",
     "text": [
      "100%|██████████| 1105/1105 [00:00<00:00, 8507.01it/s]\n"
     ]
    },
    {
     "name": "stdout",
     "output_type": "stream",
     "text": [
      "Missed_parsing_zero 0\n",
      "Lenght papers_to_drop in validation based on train Title ID: 0\n",
      "Lenght papers_to_drop in validation based on train TDM Match: 661\n",
      "Lenght papers from validation with lb: 661\n",
      "Lenght papers from validation with no_lb: 444\n",
      "Lenght papers from train with lb: 7025\n",
      "Lenght papers from train with no_lb: 3033\n",
      "zeroshot_paper_in_train: 0\n",
      "zeroshot_paper_in_validation: 0\n",
      "validation_paper_in_train: 0\n",
      "validation_paper_in_zeroshot: 0\n"
     ]
    },
    {
     "data": {
      "text/html": [
       "<div>\n",
       "<style scoped>\n",
       "    .dataframe tbody tr th:only-of-type {\n",
       "        vertical-align: middle;\n",
       "    }\n",
       "\n",
       "    .dataframe tbody tr th {\n",
       "        vertical-align: top;\n",
       "    }\n",
       "\n",
       "    .dataframe thead th {\n",
       "        text-align: right;\n",
       "    }\n",
       "</style>\n",
       "<table border=\"1\" class=\"dataframe\">\n",
       "  <thead>\n",
       "    <tr style=\"text-align: right;\">\n",
       "      <th></th>\n",
       "      <th>id</th>\n",
       "      <th>prompt</th>\n",
       "      <th>answer</th>\n",
       "      <th>template</th>\n",
       "      <th>leaderboard</th>\n",
       "    </tr>\n",
       "  </thead>\n",
       "  <tbody>\n",
       "    <tr>\n",
       "      <th>count</th>\n",
       "      <td>606</td>\n",
       "      <td>606</td>\n",
       "      <td>606</td>\n",
       "      <td>606</td>\n",
       "      <td>606</td>\n",
       "    </tr>\n",
       "    <tr>\n",
       "      <th>unique</th>\n",
       "      <td>595</td>\n",
       "      <td>595</td>\n",
       "      <td>243</td>\n",
       "      <td>1</td>\n",
       "      <td>2</td>\n",
       "    </tr>\n",
       "    <tr>\n",
       "      <th>top</th>\n",
       "      <td>2006.04026v1.pdf</td>\n",
       "      <td>SharinGAN: Combining Synthetic and Real Data f...</td>\n",
       "      <td>unanswerable</td>\n",
       "      <td>squad_6</td>\n",
       "      <td>no_lb</td>\n",
       "    </tr>\n",
       "    <tr>\n",
       "      <th>freq</th>\n",
       "      <td>2</td>\n",
       "      <td>2</td>\n",
       "      <td>353</td>\n",
       "      <td>606</td>\n",
       "      <td>353</td>\n",
       "    </tr>\n",
       "  </tbody>\n",
       "</table>\n",
       "</div>"
      ],
      "text/plain": [
       "                      id                                             prompt  \\\n",
       "count                606                                                606   \n",
       "unique               595                                                595   \n",
       "top     2006.04026v1.pdf  SharinGAN: Combining Synthetic and Real Data f...   \n",
       "freq                   2                                                  2   \n",
       "\n",
       "              answer template leaderboard  \n",
       "count            606      606         606  \n",
       "unique           243        1           2  \n",
       "top     unanswerable  squad_6       no_lb  \n",
       "freq             353      606         353  "
      ]
     },
     "metadata": {},
     "output_type": "display_data"
    },
    {
     "data": {
      "application/vnd.jupyter.widget-view+json": {
       "model_id": "4bc7efcca6fb4b67be3bfc6a394ff206",
       "version_major": 2,
       "version_minor": 0
      },
      "text/plain": [
       "Saving the dataset (0/1 shards):   0%|          | 0/10058 [00:00<?, ? examples/s]"
      ]
     },
     "metadata": {},
     "output_type": "display_data"
    },
    {
     "data": {
      "application/vnd.jupyter.widget-view+json": {
       "model_id": "e841a38723c743328b46cf2de16c877d",
       "version_major": 2,
       "version_minor": 0
      },
      "text/plain": [
       "Saving the dataset (0/1 shards):   0%|          | 0/1149 [00:00<?, ? examples/s]"
      ]
     },
     "metadata": {},
     "output_type": "display_data"
    },
    {
     "data": {
      "application/vnd.jupyter.widget-view+json": {
       "model_id": "41bc575b994940b4a53ba9dc7b9ea5a7",
       "version_major": 2,
       "version_minor": 0
      },
      "text/plain": [
       "Saving the dataset (0/1 shards):   0%|          | 0/606 [00:00<?, ? examples/s]"
      ]
     },
     "metadata": {},
     "output_type": "display_data"
    },
    {
     "name": "stdout",
     "output_type": "stream",
     "text": [
      "SQUAD: 7\n",
      "\n",
      "Zeroshot\n",
      "\n"
     ]
    },
    {
     "name": "stderr",
     "output_type": "stream",
     "text": [
      "100%|██████████| 926/926 [00:00<00:00, 11678.91it/s]\n"
     ]
    },
    {
     "name": "stdout",
     "output_type": "stream",
     "text": [
      "Missed_parsing_zero 0\n",
      "Lenght papers_to_drop in zeroshot based on train Title ID: 518\n",
      "Lenght papers_to_drop in zeroshot based on train TDM Match: 44\n",
      "Lenght papers from zeroshot with lb: 573\n",
      "Lenght papers from zeroshot with no_lb: 353\n",
      "Lenght papers from train with lb: 7025\n",
      "Lenght papers from train with no_lb: 3033\n",
      "\n",
      "validation\n",
      "\n"
     ]
    },
    {
     "name": "stderr",
     "output_type": "stream",
     "text": [
      "100%|██████████| 1347/1347 [00:00<00:00, 8063.74it/s]\n"
     ]
    },
    {
     "name": "stdout",
     "output_type": "stream",
     "text": [
      "Missed_parsing_zero 0\n",
      "Lenght papers_to_drop in validation based on train Title ID: 0\n",
      "Lenght papers_to_drop in validation based on train TDM Match: 661\n",
      "Lenght papers from validation with lb: 903\n",
      "Lenght papers from validation with no_lb: 444\n",
      "Lenght papers from train with lb: 7025\n",
      "Lenght papers from train with no_lb: 3033\n",
      "len(dfs['zeroshot']): 926\n",
      "len(dfs['validation']): 1347\n",
      "len(dfs['zeroshot']): 408\n",
      "len(dfs['validation']): 1347\n",
      "\n",
      "Zeroshot\n",
      "\n"
     ]
    },
    {
     "name": "stderr",
     "output_type": "stream",
     "text": [
      "100%|██████████| 408/408 [00:00<00:00, 10535.79it/s]\n"
     ]
    },
    {
     "name": "stdout",
     "output_type": "stream",
     "text": [
      "Missed_parsing_zero 0\n",
      "Lenght papers_to_drop in zeroshot based on train Title ID: 0\n",
      "Lenght papers_to_drop in zeroshot based on train TDM Match: 44\n",
      "Lenght papers from zeroshot with lb: 55\n",
      "Lenght papers from zeroshot with no_lb: 353\n",
      "Lenght papers from train with lb: 7025\n",
      "Lenght papers from train with no_lb: 3033\n",
      "\n",
      "validation\n",
      "\n"
     ]
    },
    {
     "name": "stderr",
     "output_type": "stream",
     "text": [
      "100%|██████████| 1347/1347 [00:00<00:00, 8135.18it/s]\n"
     ]
    },
    {
     "name": "stdout",
     "output_type": "stream",
     "text": [
      "Missed_parsing_zero 0\n",
      "Lenght papers_to_drop in validation based on train Title ID: 0\n",
      "Lenght papers_to_drop in validation based on train TDM Match: 661\n",
      "Lenght papers from validation with lb: 903\n",
      "Lenght papers from validation with no_lb: 444\n",
      "Lenght papers from train with lb: 7025\n",
      "Lenght papers from train with no_lb: 3033\n",
      "len(zeroshot_concat): 650\n",
      "len(validation_concat): 1391\n",
      "\n",
      "Zeroshot\n",
      "\n"
     ]
    },
    {
     "name": "stderr",
     "output_type": "stream",
     "text": [
      "100%|██████████| 595/595 [00:00<00:00, 9082.21it/s]\n"
     ]
    },
    {
     "name": "stdout",
     "output_type": "stream",
     "text": [
      "Missed_parsing_zero 0\n",
      "Lenght papers_to_drop in zeroshot based on train Title ID: 0\n",
      "Lenght papers_to_drop in zeroshot based on train TDM Match: 0\n",
      "Lenght papers from zeroshot with lb: 242\n",
      "Lenght papers from zeroshot with no_lb: 353\n",
      "Lenght papers from train with lb: 7025\n",
      "Lenght papers from train with no_lb: 3033\n",
      "\n",
      "validation\n",
      "\n"
     ]
    },
    {
     "name": "stderr",
     "output_type": "stream",
     "text": [
      "100%|██████████| 1105/1105 [00:00<00:00, 8333.76it/s]\n"
     ]
    },
    {
     "name": "stdout",
     "output_type": "stream",
     "text": [
      "Missed_parsing_zero 0\n",
      "Lenght papers_to_drop in validation based on train Title ID: 0\n",
      "Lenght papers_to_drop in validation based on train TDM Match: 661\n",
      "Lenght papers from validation with lb: 661\n",
      "Lenght papers from validation with no_lb: 444\n",
      "Lenght papers from train with lb: 7025\n",
      "Lenght papers from train with no_lb: 3033\n",
      "zeroshot_paper_in_train: 0\n",
      "zeroshot_paper_in_validation: 0\n",
      "validation_paper_in_train: 0\n",
      "validation_paper_in_zeroshot: 0\n"
     ]
    },
    {
     "data": {
      "text/html": [
       "<div>\n",
       "<style scoped>\n",
       "    .dataframe tbody tr th:only-of-type {\n",
       "        vertical-align: middle;\n",
       "    }\n",
       "\n",
       "    .dataframe tbody tr th {\n",
       "        vertical-align: top;\n",
       "    }\n",
       "\n",
       "    .dataframe thead th {\n",
       "        text-align: right;\n",
       "    }\n",
       "</style>\n",
       "<table border=\"1\" class=\"dataframe\">\n",
       "  <thead>\n",
       "    <tr style=\"text-align: right;\">\n",
       "      <th></th>\n",
       "      <th>id</th>\n",
       "      <th>prompt</th>\n",
       "      <th>answer</th>\n",
       "      <th>template</th>\n",
       "      <th>leaderboard</th>\n",
       "    </tr>\n",
       "  </thead>\n",
       "  <tbody>\n",
       "    <tr>\n",
       "      <th>count</th>\n",
       "      <td>606</td>\n",
       "      <td>606</td>\n",
       "      <td>606</td>\n",
       "      <td>606</td>\n",
       "      <td>606</td>\n",
       "    </tr>\n",
       "    <tr>\n",
       "      <th>unique</th>\n",
       "      <td>595</td>\n",
       "      <td>595</td>\n",
       "      <td>243</td>\n",
       "      <td>1</td>\n",
       "      <td>2</td>\n",
       "    </tr>\n",
       "    <tr>\n",
       "      <th>top</th>\n",
       "      <td>2006.04026v1.pdf</td>\n",
       "      <td>Read this: SharinGAN: Combining Synthetic and ...</td>\n",
       "      <td>unanswerable</td>\n",
       "      <td>squad_7</td>\n",
       "      <td>no_lb</td>\n",
       "    </tr>\n",
       "    <tr>\n",
       "      <th>freq</th>\n",
       "      <td>2</td>\n",
       "      <td>2</td>\n",
       "      <td>353</td>\n",
       "      <td>606</td>\n",
       "      <td>353</td>\n",
       "    </tr>\n",
       "  </tbody>\n",
       "</table>\n",
       "</div>"
      ],
      "text/plain": [
       "                      id                                             prompt  \\\n",
       "count                606                                                606   \n",
       "unique               595                                                595   \n",
       "top     2006.04026v1.pdf  Read this: SharinGAN: Combining Synthetic and ...   \n",
       "freq                   2                                                  2   \n",
       "\n",
       "              answer template leaderboard  \n",
       "count            606      606         606  \n",
       "unique           243        1           2  \n",
       "top     unanswerable  squad_7       no_lb  \n",
       "freq             353      606         353  "
      ]
     },
     "metadata": {},
     "output_type": "display_data"
    },
    {
     "data": {
      "application/vnd.jupyter.widget-view+json": {
       "model_id": "3170d435cf35453c8125538c3708d5e8",
       "version_major": 2,
       "version_minor": 0
      },
      "text/plain": [
       "Saving the dataset (0/1 shards):   0%|          | 0/10058 [00:00<?, ? examples/s]"
      ]
     },
     "metadata": {},
     "output_type": "display_data"
    },
    {
     "data": {
      "application/vnd.jupyter.widget-view+json": {
       "model_id": "d241d87c7b03486eb2637620360f351b",
       "version_major": 2,
       "version_minor": 0
      },
      "text/plain": [
       "Saving the dataset (0/1 shards):   0%|          | 0/1149 [00:00<?, ? examples/s]"
      ]
     },
     "metadata": {},
     "output_type": "display_data"
    },
    {
     "data": {
      "application/vnd.jupyter.widget-view+json": {
       "model_id": "c87a71c1a4254d51b3e72837c1513488",
       "version_major": 2,
       "version_minor": 0
      },
      "text/plain": [
       "Saving the dataset (0/1 shards):   0%|          | 0/606 [00:00<?, ? examples/s]"
      ]
     },
     "metadata": {},
     "output_type": "display_data"
    },
    {
     "name": "stdout",
     "output_type": "stream",
     "text": [
      "SQUAD: 8\n",
      "\n",
      "Zeroshot\n",
      "\n"
     ]
    },
    {
     "name": "stderr",
     "output_type": "stream",
     "text": [
      "100%|██████████| 926/926 [00:00<00:00, 5853.20it/s]\n"
     ]
    },
    {
     "name": "stdout",
     "output_type": "stream",
     "text": [
      "Missed_parsing_zero 0\n",
      "Lenght papers_to_drop in zeroshot based on train Title ID: 518\n",
      "Lenght papers_to_drop in zeroshot based on train TDM Match: 44\n",
      "Lenght papers from zeroshot with lb: 573\n",
      "Lenght papers from zeroshot with no_lb: 353\n",
      "Lenght papers from train with lb: 7025\n",
      "Lenght papers from train with no_lb: 3033\n",
      "\n",
      "validation\n",
      "\n"
     ]
    },
    {
     "name": "stderr",
     "output_type": "stream",
     "text": [
      "100%|██████████| 1347/1347 [00:00<00:00, 4153.17it/s]\n"
     ]
    },
    {
     "name": "stdout",
     "output_type": "stream",
     "text": [
      "Missed_parsing_zero 0\n",
      "Lenght papers_to_drop in validation based on train Title ID: 0\n",
      "Lenght papers_to_drop in validation based on train TDM Match: 661\n",
      "Lenght papers from validation with lb: 903\n",
      "Lenght papers from validation with no_lb: 444\n",
      "Lenght papers from train with lb: 7025\n",
      "Lenght papers from train with no_lb: 3033\n",
      "len(dfs['zeroshot']): 926\n",
      "len(dfs['validation']): 1347\n",
      "len(dfs['zeroshot']): 408\n",
      "len(dfs['validation']): 1347\n",
      "\n",
      "Zeroshot\n",
      "\n"
     ]
    },
    {
     "name": "stderr",
     "output_type": "stream",
     "text": [
      "100%|██████████| 408/408 [00:00<00:00, 8840.38it/s]\n"
     ]
    },
    {
     "name": "stdout",
     "output_type": "stream",
     "text": [
      "Missed_parsing_zero 0\n",
      "Lenght papers_to_drop in zeroshot based on train Title ID: 0\n",
      "Lenght papers_to_drop in zeroshot based on train TDM Match: 44\n",
      "Lenght papers from zeroshot with lb: 55\n",
      "Lenght papers from zeroshot with no_lb: 353\n",
      "Lenght papers from train with lb: 7025\n",
      "Lenght papers from train with no_lb: 3033\n",
      "\n",
      "validation\n",
      "\n"
     ]
    },
    {
     "name": "stderr",
     "output_type": "stream",
     "text": [
      "100%|██████████| 1347/1347 [00:00<00:00, 8023.05it/s]\n"
     ]
    },
    {
     "name": "stdout",
     "output_type": "stream",
     "text": [
      "Missed_parsing_zero 0\n",
      "Lenght papers_to_drop in validation based on train Title ID: 0\n",
      "Lenght papers_to_drop in validation based on train TDM Match: 661\n",
      "Lenght papers from validation with lb: 903\n",
      "Lenght papers from validation with no_lb: 444\n",
      "Lenght papers from train with lb: 7025\n",
      "Lenght papers from train with no_lb: 3033\n",
      "len(zeroshot_concat): 650\n",
      "len(validation_concat): 1391\n",
      "\n",
      "Zeroshot\n",
      "\n"
     ]
    },
    {
     "name": "stderr",
     "output_type": "stream",
     "text": [
      "100%|██████████| 595/595 [00:00<00:00, 6968.33it/s]\n"
     ]
    },
    {
     "name": "stdout",
     "output_type": "stream",
     "text": [
      "Missed_parsing_zero 0\n",
      "Lenght papers_to_drop in zeroshot based on train Title ID: 0\n",
      "Lenght papers_to_drop in zeroshot based on train TDM Match: 0\n",
      "Lenght papers from zeroshot with lb: 242\n",
      "Lenght papers from zeroshot with no_lb: 353\n",
      "Lenght papers from train with lb: 7025\n",
      "Lenght papers from train with no_lb: 3033\n",
      "\n",
      "validation\n",
      "\n"
     ]
    },
    {
     "name": "stderr",
     "output_type": "stream",
     "text": [
      "100%|██████████| 1105/1105 [00:00<00:00, 8474.67it/s]\n"
     ]
    },
    {
     "name": "stdout",
     "output_type": "stream",
     "text": [
      "Missed_parsing_zero 0\n",
      "Lenght papers_to_drop in validation based on train Title ID: 0\n",
      "Lenght papers_to_drop in validation based on train TDM Match: 661\n",
      "Lenght papers from validation with lb: 661\n",
      "Lenght papers from validation with no_lb: 444\n",
      "Lenght papers from train with lb: 7025\n",
      "Lenght papers from train with no_lb: 3033\n",
      "zeroshot_paper_in_train: 0\n",
      "zeroshot_paper_in_validation: 0\n",
      "validation_paper_in_train: 0\n",
      "validation_paper_in_zeroshot: 0\n"
     ]
    },
    {
     "data": {
      "text/html": [
       "<div>\n",
       "<style scoped>\n",
       "    .dataframe tbody tr th:only-of-type {\n",
       "        vertical-align: middle;\n",
       "    }\n",
       "\n",
       "    .dataframe tbody tr th {\n",
       "        vertical-align: top;\n",
       "    }\n",
       "\n",
       "    .dataframe thead th {\n",
       "        text-align: right;\n",
       "    }\n",
       "</style>\n",
       "<table border=\"1\" class=\"dataframe\">\n",
       "  <thead>\n",
       "    <tr style=\"text-align: right;\">\n",
       "      <th></th>\n",
       "      <th>id</th>\n",
       "      <th>prompt</th>\n",
       "      <th>answer</th>\n",
       "      <th>template</th>\n",
       "      <th>leaderboard</th>\n",
       "    </tr>\n",
       "  </thead>\n",
       "  <tbody>\n",
       "    <tr>\n",
       "      <th>count</th>\n",
       "      <td>606</td>\n",
       "      <td>606</td>\n",
       "      <td>606</td>\n",
       "      <td>606</td>\n",
       "      <td>606</td>\n",
       "    </tr>\n",
       "    <tr>\n",
       "      <th>unique</th>\n",
       "      <td>595</td>\n",
       "      <td>595</td>\n",
       "      <td>243</td>\n",
       "      <td>1</td>\n",
       "      <td>2</td>\n",
       "    </tr>\n",
       "    <tr>\n",
       "      <th>top</th>\n",
       "      <td>2006.04026v1.pdf</td>\n",
       "      <td>Read this: SharinGAN: Combining Synthetic and ...</td>\n",
       "      <td>unanswerable</td>\n",
       "      <td>squad_8</td>\n",
       "      <td>no_lb</td>\n",
       "    </tr>\n",
       "    <tr>\n",
       "      <th>freq</th>\n",
       "      <td>2</td>\n",
       "      <td>2</td>\n",
       "      <td>353</td>\n",
       "      <td>606</td>\n",
       "      <td>353</td>\n",
       "    </tr>\n",
       "  </tbody>\n",
       "</table>\n",
       "</div>"
      ],
      "text/plain": [
       "                      id                                             prompt  \\\n",
       "count                606                                                606   \n",
       "unique               595                                                595   \n",
       "top     2006.04026v1.pdf  Read this: SharinGAN: Combining Synthetic and ...   \n",
       "freq                   2                                                  2   \n",
       "\n",
       "              answer template leaderboard  \n",
       "count            606      606         606  \n",
       "unique           243        1           2  \n",
       "top     unanswerable  squad_8       no_lb  \n",
       "freq             353      606         353  "
      ]
     },
     "metadata": {},
     "output_type": "display_data"
    },
    {
     "data": {
      "application/vnd.jupyter.widget-view+json": {
       "model_id": "860fec3fce624bb791f99f5c3b3dcf20",
       "version_major": 2,
       "version_minor": 0
      },
      "text/plain": [
       "Saving the dataset (0/1 shards):   0%|          | 0/10058 [00:00<?, ? examples/s]"
      ]
     },
     "metadata": {},
     "output_type": "display_data"
    },
    {
     "data": {
      "application/vnd.jupyter.widget-view+json": {
       "model_id": "256f78ce61a146749e6fc05dae2b8ddd",
       "version_major": 2,
       "version_minor": 0
      },
      "text/plain": [
       "Saving the dataset (0/1 shards):   0%|          | 0/1149 [00:00<?, ? examples/s]"
      ]
     },
     "metadata": {},
     "output_type": "display_data"
    },
    {
     "data": {
      "application/vnd.jupyter.widget-view+json": {
       "model_id": "41f3c4bb8be6475a9419d90de1f621df",
       "version_major": 2,
       "version_minor": 0
      },
      "text/plain": [
       "Saving the dataset (0/1 shards):   0%|          | 0/606 [00:00<?, ? examples/s]"
      ]
     },
     "metadata": {},
     "output_type": "display_data"
    }
   ],
   "source": [
    "for squad_id in range(1, 9):\n",
    "    print(f\"SQUAD: {squad_id}\")\n",
    "    dataset_path = f\"../data/LLLM_AUGMENTED_SUMMARIZED_WITH_ID_ZEROSHOT_TDMS_SQUAD_{squad_id}_DOCTEAT/fold1\"\n",
    "\n",
    "    dataset_dict = DatasetDict.load_from_disk(f\"{dataset_path}\")\n",
    "        \n",
    "    dfs = {split: dataset.to_pandas() for split, dataset in dataset_dict.items()}\n",
    "    dfs['train']['leaderboard'] = dfs['train'].answer.apply(lambda x: \"no_lb\" if x == \"unanswerable\" else \"lb\")\n",
    "    dfs['validation']['leaderboard'] = dfs['validation'].answer.apply(lambda x: \"no_lb\" if x == \"unanswerable\" else \"lb\")\n",
    "    dfs['zeroshot']['leaderboard'] = dfs['zeroshot'].answer.apply(lambda x: \"no_lb\" if x == \"unanswerable\" else \"lb\")\n",
    "    \n",
    "    print(\"\\nZeroshot\\n\")\n",
    "    zeroshot_papers_to_drop = remove_data_leakage(dfs, source=\"zeroshot\", target=\"train\", THRESHOLD=90)\n",
    "    print(\"\\nvalidation\\n\")\n",
    "    validation_papers_to_drop = remove_data_leakage(dfs, source=\"validation\", target=\"train\", THRESHOLD=90)\n",
    "    \n",
    "    print(f\"len(dfs['zeroshot']): {len(dfs['zeroshot'])}\")\n",
    "    print(f\"len(dfs['validation']): {len(dfs['validation'])}\")\n",
    "\n",
    "    dfs['zeroshot'] = dfs['zeroshot'][~dfs['zeroshot']['id'].isin(zeroshot_papers_to_drop['id'])]\n",
    "    dfs['validation'] = dfs['validation'][~dfs['validation']['id'].isin(validation_papers_to_drop['id'])]\n",
    "\n",
    "    print(f\"len(dfs['zeroshot']): {len(dfs['zeroshot'])}\")\n",
    "    print(f\"len(dfs['validation']): {len(dfs['validation'])}\")\n",
    "    \n",
    "    # In zeroshot means paper to remove from zero-shot to make it real zershot, in the sense that \n",
    "    # At least one of the leaderboard was not seen at training time \n",
    "    print(\"\\nZeroshot\\n\")\n",
    "    zeroshot_papers_to_drop = remove_data_leakage(dfs, source=\"zeroshot\", target=\"train\", THRESHOLD=90)\n",
    "    print(\"\\nvalidation\\n\")\n",
    "    # in validation this means paper to keep as part of few shot \n",
    "    validation_papers_to_drop = remove_data_leakage(dfs, source=\"validation\", target=\"train\", THRESHOLD=90)\n",
    "    \n",
    "    zeroshot_concat = pd.concat([dfs['zeroshot'], dfs['validation'][~(dfs['validation']['id'].isin(validation_papers_to_drop['tdm'])) & (dfs['validation']['leaderboard']==\"lb\")]], ignore_index=True)\n",
    "    print(f\"len(zeroshot_concat): {len(zeroshot_concat)}\")\n",
    "\n",
    "    validation_concat = pd.concat([dfs['validation'], dfs['zeroshot'][dfs['zeroshot']['id'].isin(zeroshot_papers_to_drop['tdm'])]], ignore_index=True)\n",
    "    print(f\"len(validation_concat): {len(validation_concat)}\")\n",
    "    \n",
    "    # Filtering the DataFrame\n",
    "    dfs['zeroshot'] = zeroshot_concat.copy()\n",
    "    dfs['zeroshot'] = dfs['zeroshot'][~dfs['zeroshot']['id'].isin(zeroshot_papers_to_drop['tdm'])]\n",
    "    # dfs['zeroshot'].drop_duplicates(subset='id', inplace=True)\n",
    "    dfs['zeroshot'].drop([\"prompt lenght\", \"__index_level_0__\"], axis=1).describe()\n",
    "    \n",
    "    # Filtering the DataFrame\n",
    "    dfs['validation'] = validation_concat.copy()\n",
    "    # I want to keep all the no leaderboard papers in validation \n",
    "    dfs['validation'] = dfs['validation'][(dfs['validation']['id'].isin(validation_papers_to_drop['tdm'])) | (dfs['validation']['leaderboard']==\"no_lb\")]\n",
    "    # dfs['validation'].drop_duplicates(subset='id', inplace=True)\n",
    "    dfs['validation'].drop([\"prompt lenght\", \"__index_level_0__\"], axis=1).describe()\n",
    "    \n",
    "    print(\"\\nZeroshot\\n\")\n",
    "    zeroshot_papers_to_drop = remove_data_leakage(dfs, source=\"zeroshot\", target=\"train\", THRESHOLD=90)\n",
    "    print(\"\\nvalidation\\n\")\n",
    "    validation_papers_to_drop = remove_data_leakage(dfs, source=\"validation\", target=\"train\", THRESHOLD=90)\n",
    "    \n",
    "    dfs['train'].drop([\"__index_level_0__\"], inplace=True, axis=1)\n",
    "    dfs['validation'].drop([\"__index_level_0__\"], inplace=True, axis=1)\n",
    "    dfs['zeroshot'].drop([\"__index_level_0__\"], inplace=True, axis=1)\n",
    "\n",
    "    # no leaderboard paper can be shared between few-shot and zero-shot\n",
    "    verify_data_integrity(dfs, include_no_lb=False)\n",
    "    \n",
    "    display(dfs['zeroshot'].drop([\"prompt lenght\"], axis=1).describe())\n",
    "    \n",
    "    dataset = DatasetDict({\n",
    "        \"train\": Dataset.from_pandas(dfs['train']),\n",
    "        \"validation\": Dataset.from_pandas(dfs['validation']),\n",
    "        \"zeroshot\": Dataset.from_pandas(dfs['zeroshot'])\n",
    "    })\n",
    "\n",
    "    dataset.save_to_disk(f\"../data/LEADERBOARDS_DOCTEAT_TDMS_SQUAD_{squad_id}\")"
   ]
  },
  {
   "cell_type": "code",
   "execution_count": 25,
   "id": "38ed604c",
   "metadata": {},
   "outputs": [
    {
     "name": "stdout",
     "output_type": "stream",
     "text": [
      "DROP: 1\n",
      "\n",
      "Zeroshot\n",
      "\n"
     ]
    },
    {
     "name": "stderr",
     "output_type": "stream",
     "text": [
      "100%|██████████| 926/926 [00:00<00:00, 5812.30it/s]\n"
     ]
    },
    {
     "name": "stdout",
     "output_type": "stream",
     "text": [
      "Missed_parsing_zero 0\n",
      "Lenght papers_to_drop in zeroshot based on train Title ID: 518\n",
      "Lenght papers_to_drop in zeroshot based on train TDM Match: 44\n",
      "Lenght papers from zeroshot with lb: 573\n",
      "Lenght papers from zeroshot with no_lb: 353\n",
      "Lenght papers from train with lb: 7025\n",
      "Lenght papers from train with no_lb: 3033\n",
      "\n",
      "validation\n",
      "\n"
     ]
    },
    {
     "name": "stderr",
     "output_type": "stream",
     "text": [
      "100%|██████████| 1347/1347 [00:00<00:00, 7956.04it/s]\n"
     ]
    },
    {
     "name": "stdout",
     "output_type": "stream",
     "text": [
      "Missed_parsing_zero 0\n",
      "Lenght papers_to_drop in validation based on train Title ID: 0\n",
      "Lenght papers_to_drop in validation based on train TDM Match: 661\n",
      "Lenght papers from validation with lb: 903\n",
      "Lenght papers from validation with no_lb: 444\n",
      "Lenght papers from train with lb: 7025\n",
      "Lenght papers from train with no_lb: 3033\n",
      "len(dfs['zeroshot']): 926\n",
      "len(dfs['validation']): 1347\n",
      "len(dfs['zeroshot']): 408\n",
      "len(dfs['validation']): 1347\n",
      "\n",
      "Zeroshot\n",
      "\n"
     ]
    },
    {
     "name": "stderr",
     "output_type": "stream",
     "text": [
      "100%|██████████| 408/408 [00:00<00:00, 10570.28it/s]\n"
     ]
    },
    {
     "name": "stdout",
     "output_type": "stream",
     "text": [
      "Missed_parsing_zero 0\n",
      "Lenght papers_to_drop in zeroshot based on train Title ID: 0\n",
      "Lenght papers_to_drop in zeroshot based on train TDM Match: 44\n",
      "Lenght papers from zeroshot with lb: 55\n",
      "Lenght papers from zeroshot with no_lb: 353\n",
      "Lenght papers from train with lb: 7025\n",
      "Lenght papers from train with no_lb: 3033\n",
      "\n",
      "validation\n",
      "\n"
     ]
    },
    {
     "name": "stderr",
     "output_type": "stream",
     "text": [
      "100%|██████████| 1347/1347 [00:00<00:00, 7994.43it/s]\n"
     ]
    },
    {
     "name": "stdout",
     "output_type": "stream",
     "text": [
      "Missed_parsing_zero 0\n",
      "Lenght papers_to_drop in validation based on train Title ID: 0\n",
      "Lenght papers_to_drop in validation based on train TDM Match: 661\n",
      "Lenght papers from validation with lb: 903\n",
      "Lenght papers from validation with no_lb: 444\n",
      "Lenght papers from train with lb: 7025\n",
      "Lenght papers from train with no_lb: 3033\n",
      "len(zeroshot_concat): 650\n",
      "len(validation_concat): 1391\n",
      "\n",
      "Zeroshot\n",
      "\n"
     ]
    },
    {
     "name": "stderr",
     "output_type": "stream",
     "text": [
      "100%|██████████| 595/595 [00:00<00:00, 8858.32it/s]\n"
     ]
    },
    {
     "name": "stdout",
     "output_type": "stream",
     "text": [
      "Missed_parsing_zero 0\n",
      "Lenght papers_to_drop in zeroshot based on train Title ID: 0\n",
      "Lenght papers_to_drop in zeroshot based on train TDM Match: 0\n",
      "Lenght papers from zeroshot with lb: 242\n",
      "Lenght papers from zeroshot with no_lb: 353\n",
      "Lenght papers from train with lb: 7025\n",
      "Lenght papers from train with no_lb: 3033\n",
      "\n",
      "validation\n",
      "\n"
     ]
    },
    {
     "name": "stderr",
     "output_type": "stream",
     "text": [
      "100%|██████████| 1105/1105 [00:00<00:00, 8196.65it/s]\n"
     ]
    },
    {
     "name": "stdout",
     "output_type": "stream",
     "text": [
      "Missed_parsing_zero 0\n",
      "Lenght papers_to_drop in validation based on train Title ID: 0\n",
      "Lenght papers_to_drop in validation based on train TDM Match: 661\n",
      "Lenght papers from validation with lb: 661\n",
      "Lenght papers from validation with no_lb: 444\n",
      "Lenght papers from train with lb: 7025\n",
      "Lenght papers from train with no_lb: 3033\n",
      "zeroshot_paper_in_train: 0\n",
      "zeroshot_paper_in_validation: 0\n",
      "validation_paper_in_train: 0\n",
      "validation_paper_in_zeroshot: 0\n"
     ]
    },
    {
     "data": {
      "text/html": [
       "<div>\n",
       "<style scoped>\n",
       "    .dataframe tbody tr th:only-of-type {\n",
       "        vertical-align: middle;\n",
       "    }\n",
       "\n",
       "    .dataframe tbody tr th {\n",
       "        vertical-align: top;\n",
       "    }\n",
       "\n",
       "    .dataframe thead th {\n",
       "        text-align: right;\n",
       "    }\n",
       "</style>\n",
       "<table border=\"1\" class=\"dataframe\">\n",
       "  <thead>\n",
       "    <tr style=\"text-align: right;\">\n",
       "      <th></th>\n",
       "      <th>id</th>\n",
       "      <th>prompt</th>\n",
       "      <th>answer</th>\n",
       "      <th>template</th>\n",
       "      <th>leaderboard</th>\n",
       "    </tr>\n",
       "  </thead>\n",
       "  <tbody>\n",
       "    <tr>\n",
       "      <th>count</th>\n",
       "      <td>606</td>\n",
       "      <td>606</td>\n",
       "      <td>606</td>\n",
       "      <td>606</td>\n",
       "      <td>606</td>\n",
       "    </tr>\n",
       "    <tr>\n",
       "      <th>unique</th>\n",
       "      <td>595</td>\n",
       "      <td>595</td>\n",
       "      <td>243</td>\n",
       "      <td>1</td>\n",
       "      <td>2</td>\n",
       "    </tr>\n",
       "    <tr>\n",
       "      <th>top</th>\n",
       "      <td>2006.04026v1.pdf</td>\n",
       "      <td>Answer based on context:\\n\\nSharinGAN: Combini...</td>\n",
       "      <td>unanswerable</td>\n",
       "      <td>drop_1</td>\n",
       "      <td>no_lb</td>\n",
       "    </tr>\n",
       "    <tr>\n",
       "      <th>freq</th>\n",
       "      <td>2</td>\n",
       "      <td>2</td>\n",
       "      <td>353</td>\n",
       "      <td>606</td>\n",
       "      <td>353</td>\n",
       "    </tr>\n",
       "  </tbody>\n",
       "</table>\n",
       "</div>"
      ],
      "text/plain": [
       "                      id                                             prompt  \\\n",
       "count                606                                                606   \n",
       "unique               595                                                595   \n",
       "top     2006.04026v1.pdf  Answer based on context:\\n\\nSharinGAN: Combini...   \n",
       "freq                   2                                                  2   \n",
       "\n",
       "              answer template leaderboard  \n",
       "count            606      606         606  \n",
       "unique           243        1           2  \n",
       "top     unanswerable   drop_1       no_lb  \n",
       "freq             353      606         353  "
      ]
     },
     "metadata": {},
     "output_type": "display_data"
    },
    {
     "data": {
      "application/vnd.jupyter.widget-view+json": {
       "model_id": "1b606ae774354d5dbbb4e6d4454220bc",
       "version_major": 2,
       "version_minor": 0
      },
      "text/plain": [
       "Saving the dataset (0/1 shards):   0%|          | 0/10058 [00:00<?, ? examples/s]"
      ]
     },
     "metadata": {},
     "output_type": "display_data"
    },
    {
     "data": {
      "application/vnd.jupyter.widget-view+json": {
       "model_id": "b6e9af9de90f4364919992477ab3a2c2",
       "version_major": 2,
       "version_minor": 0
      },
      "text/plain": [
       "Saving the dataset (0/1 shards):   0%|          | 0/1149 [00:00<?, ? examples/s]"
      ]
     },
     "metadata": {},
     "output_type": "display_data"
    },
    {
     "data": {
      "application/vnd.jupyter.widget-view+json": {
       "model_id": "aec944c739b144fcab050e50e82d2eed",
       "version_major": 2,
       "version_minor": 0
      },
      "text/plain": [
       "Saving the dataset (0/1 shards):   0%|          | 0/606 [00:00<?, ? examples/s]"
      ]
     },
     "metadata": {},
     "output_type": "display_data"
    },
    {
     "name": "stdout",
     "output_type": "stream",
     "text": [
      "DROP: 2\n",
      "\n",
      "Zeroshot\n",
      "\n"
     ]
    },
    {
     "name": "stderr",
     "output_type": "stream",
     "text": [
      "100%|██████████| 926/926 [00:00<00:00, 5873.11it/s]\n"
     ]
    },
    {
     "name": "stdout",
     "output_type": "stream",
     "text": [
      "Missed_parsing_zero 0\n",
      "Lenght papers_to_drop in zeroshot based on train Title ID: 518\n",
      "Lenght papers_to_drop in zeroshot based on train TDM Match: 44\n",
      "Lenght papers from zeroshot with lb: 573\n",
      "Lenght papers from zeroshot with no_lb: 353\n",
      "Lenght papers from train with lb: 7025\n",
      "Lenght papers from train with no_lb: 3033\n",
      "\n",
      "validation\n",
      "\n"
     ]
    },
    {
     "name": "stderr",
     "output_type": "stream",
     "text": [
      "100%|██████████| 1347/1347 [00:00<00:00, 7896.17it/s]\n"
     ]
    },
    {
     "name": "stdout",
     "output_type": "stream",
     "text": [
      "Missed_parsing_zero 0\n",
      "Lenght papers_to_drop in validation based on train Title ID: 0\n",
      "Lenght papers_to_drop in validation based on train TDM Match: 661\n",
      "Lenght papers from validation with lb: 903\n",
      "Lenght papers from validation with no_lb: 444\n",
      "Lenght papers from train with lb: 7025\n",
      "Lenght papers from train with no_lb: 3033\n",
      "len(dfs['zeroshot']): 926\n",
      "len(dfs['validation']): 1347\n",
      "len(dfs['zeroshot']): 408\n",
      "len(dfs['validation']): 1347\n",
      "\n",
      "Zeroshot\n",
      "\n"
     ]
    },
    {
     "name": "stderr",
     "output_type": "stream",
     "text": [
      "100%|██████████| 408/408 [00:00<00:00, 10531.71it/s]\n"
     ]
    },
    {
     "name": "stdout",
     "output_type": "stream",
     "text": [
      "Missed_parsing_zero 0\n",
      "Lenght papers_to_drop in zeroshot based on train Title ID: 0\n",
      "Lenght papers_to_drop in zeroshot based on train TDM Match: 44\n",
      "Lenght papers from zeroshot with lb: 55\n",
      "Lenght papers from zeroshot with no_lb: 353\n",
      "Lenght papers from train with lb: 7025\n",
      "Lenght papers from train with no_lb: 3033\n",
      "\n",
      "validation\n",
      "\n"
     ]
    },
    {
     "name": "stderr",
     "output_type": "stream",
     "text": [
      "100%|██████████| 1347/1347 [00:00<00:00, 7912.57it/s]\n"
     ]
    },
    {
     "name": "stdout",
     "output_type": "stream",
     "text": [
      "Missed_parsing_zero 0\n",
      "Lenght papers_to_drop in validation based on train Title ID: 0\n",
      "Lenght papers_to_drop in validation based on train TDM Match: 661\n",
      "Lenght papers from validation with lb: 903\n",
      "Lenght papers from validation with no_lb: 444\n",
      "Lenght papers from train with lb: 7025\n",
      "Lenght papers from train with no_lb: 3033\n",
      "len(zeroshot_concat): 650\n",
      "len(validation_concat): 1391\n",
      "\n",
      "Zeroshot\n",
      "\n"
     ]
    },
    {
     "name": "stderr",
     "output_type": "stream",
     "text": [
      "100%|██████████| 595/595 [00:00<00:00, 8935.23it/s]\n"
     ]
    },
    {
     "name": "stdout",
     "output_type": "stream",
     "text": [
      "Missed_parsing_zero 0\n",
      "Lenght papers_to_drop in zeroshot based on train Title ID: 0\n",
      "Lenght papers_to_drop in zeroshot based on train TDM Match: 0\n",
      "Lenght papers from zeroshot with lb: 242\n",
      "Lenght papers from zeroshot with no_lb: 353\n",
      "Lenght papers from train with lb: 7025\n",
      "Lenght papers from train with no_lb: 3033\n",
      "\n",
      "validation\n",
      "\n"
     ]
    },
    {
     "name": "stderr",
     "output_type": "stream",
     "text": [
      "100%|██████████| 1105/1105 [00:00<00:00, 8462.57it/s]\n"
     ]
    },
    {
     "name": "stdout",
     "output_type": "stream",
     "text": [
      "Missed_parsing_zero 0\n",
      "Lenght papers_to_drop in validation based on train Title ID: 0\n",
      "Lenght papers_to_drop in validation based on train TDM Match: 661\n",
      "Lenght papers from validation with lb: 661\n",
      "Lenght papers from validation with no_lb: 444\n",
      "Lenght papers from train with lb: 7025\n",
      "Lenght papers from train with no_lb: 3033\n",
      "zeroshot_paper_in_train: 0\n",
      "zeroshot_paper_in_validation: 0\n",
      "validation_paper_in_train: 0\n",
      "validation_paper_in_zeroshot: 0\n"
     ]
    },
    {
     "data": {
      "text/html": [
       "<div>\n",
       "<style scoped>\n",
       "    .dataframe tbody tr th:only-of-type {\n",
       "        vertical-align: middle;\n",
       "    }\n",
       "\n",
       "    .dataframe tbody tr th {\n",
       "        vertical-align: top;\n",
       "    }\n",
       "\n",
       "    .dataframe thead th {\n",
       "        text-align: right;\n",
       "    }\n",
       "</style>\n",
       "<table border=\"1\" class=\"dataframe\">\n",
       "  <thead>\n",
       "    <tr style=\"text-align: right;\">\n",
       "      <th></th>\n",
       "      <th>id</th>\n",
       "      <th>prompt</th>\n",
       "      <th>answer</th>\n",
       "      <th>template</th>\n",
       "      <th>leaderboard</th>\n",
       "    </tr>\n",
       "  </thead>\n",
       "  <tbody>\n",
       "    <tr>\n",
       "      <th>count</th>\n",
       "      <td>606</td>\n",
       "      <td>606</td>\n",
       "      <td>606</td>\n",
       "      <td>606</td>\n",
       "      <td>606</td>\n",
       "    </tr>\n",
       "    <tr>\n",
       "      <th>unique</th>\n",
       "      <td>595</td>\n",
       "      <td>595</td>\n",
       "      <td>243</td>\n",
       "      <td>1</td>\n",
       "      <td>2</td>\n",
       "    </tr>\n",
       "    <tr>\n",
       "      <th>top</th>\n",
       "      <td>2006.04026v1.pdf</td>\n",
       "      <td>SharinGAN: Combining Synthetic and Real Data f...</td>\n",
       "      <td>unanswerable</td>\n",
       "      <td>drop_2</td>\n",
       "      <td>no_lb</td>\n",
       "    </tr>\n",
       "    <tr>\n",
       "      <th>freq</th>\n",
       "      <td>2</td>\n",
       "      <td>2</td>\n",
       "      <td>353</td>\n",
       "      <td>606</td>\n",
       "      <td>353</td>\n",
       "    </tr>\n",
       "  </tbody>\n",
       "</table>\n",
       "</div>"
      ],
      "text/plain": [
       "                      id                                             prompt  \\\n",
       "count                606                                                606   \n",
       "unique               595                                                595   \n",
       "top     2006.04026v1.pdf  SharinGAN: Combining Synthetic and Real Data f...   \n",
       "freq                   2                                                  2   \n",
       "\n",
       "              answer template leaderboard  \n",
       "count            606      606         606  \n",
       "unique           243        1           2  \n",
       "top     unanswerable   drop_2       no_lb  \n",
       "freq             353      606         353  "
      ]
     },
     "metadata": {},
     "output_type": "display_data"
    },
    {
     "data": {
      "application/vnd.jupyter.widget-view+json": {
       "model_id": "109498562d874292960b7a1fe0ec4e80",
       "version_major": 2,
       "version_minor": 0
      },
      "text/plain": [
       "Saving the dataset (0/1 shards):   0%|          | 0/10058 [00:00<?, ? examples/s]"
      ]
     },
     "metadata": {},
     "output_type": "display_data"
    },
    {
     "data": {
      "application/vnd.jupyter.widget-view+json": {
       "model_id": "a4a9096979414cbf8e299d96a0f6cd93",
       "version_major": 2,
       "version_minor": 0
      },
      "text/plain": [
       "Saving the dataset (0/1 shards):   0%|          | 0/1149 [00:00<?, ? examples/s]"
      ]
     },
     "metadata": {},
     "output_type": "display_data"
    },
    {
     "data": {
      "application/vnd.jupyter.widget-view+json": {
       "model_id": "c3cc5d2d8e2342f289c57f577ac40be9",
       "version_major": 2,
       "version_minor": 0
      },
      "text/plain": [
       "Saving the dataset (0/1 shards):   0%|          | 0/606 [00:00<?, ? examples/s]"
      ]
     },
     "metadata": {},
     "output_type": "display_data"
    },
    {
     "name": "stdout",
     "output_type": "stream",
     "text": [
      "DROP: 3\n",
      "\n",
      "Zeroshot\n",
      "\n"
     ]
    },
    {
     "name": "stderr",
     "output_type": "stream",
     "text": [
      "100%|██████████| 924/924 [00:00<00:00, 11477.02it/s]\n"
     ]
    },
    {
     "name": "stdout",
     "output_type": "stream",
     "text": [
      "Missed_parsing_zero 0\n",
      "Lenght papers_to_drop in zeroshot based on train Title ID: 517\n",
      "Lenght papers_to_drop in zeroshot based on train TDM Match: 44\n",
      "Lenght papers from zeroshot with lb: 572\n",
      "Lenght papers from zeroshot with no_lb: 352\n",
      "Lenght papers from train with lb: 7019\n",
      "Lenght papers from train with no_lb: 3032\n",
      "\n",
      "validation\n",
      "\n"
     ]
    },
    {
     "name": "stderr",
     "output_type": "stream",
     "text": [
      "100%|██████████| 1344/1344 [00:00<00:00, 7941.49it/s]\n"
     ]
    },
    {
     "name": "stdout",
     "output_type": "stream",
     "text": [
      "Missed_parsing_zero 0\n",
      "Lenght papers_to_drop in validation based on train Title ID: 0\n",
      "Lenght papers_to_drop in validation based on train TDM Match: 659\n",
      "Lenght papers from validation with lb: 901\n",
      "Lenght papers from validation with no_lb: 443\n",
      "Lenght papers from train with lb: 7019\n",
      "Lenght papers from train with no_lb: 3032\n",
      "len(dfs['zeroshot']): 924\n",
      "len(dfs['validation']): 1344\n",
      "len(dfs['zeroshot']): 407\n",
      "len(dfs['validation']): 1344\n",
      "\n",
      "Zeroshot\n",
      "\n"
     ]
    },
    {
     "name": "stderr",
     "output_type": "stream",
     "text": [
      "100%|██████████| 407/407 [00:00<00:00, 10575.60it/s]\n"
     ]
    },
    {
     "name": "stdout",
     "output_type": "stream",
     "text": [
      "Missed_parsing_zero 0\n",
      "Lenght papers_to_drop in zeroshot based on train Title ID: 0\n",
      "Lenght papers_to_drop in zeroshot based on train TDM Match: 44\n",
      "Lenght papers from zeroshot with lb: 55\n",
      "Lenght papers from zeroshot with no_lb: 352\n",
      "Lenght papers from train with lb: 7019\n",
      "Lenght papers from train with no_lb: 3032\n",
      "\n",
      "validation\n",
      "\n"
     ]
    },
    {
     "name": "stderr",
     "output_type": "stream",
     "text": [
      "100%|██████████| 1344/1344 [00:00<00:00, 4628.43it/s]\n"
     ]
    },
    {
     "name": "stdout",
     "output_type": "stream",
     "text": [
      "Missed_parsing_zero 0\n",
      "Lenght papers_to_drop in validation based on train Title ID: 0\n",
      "Lenght papers_to_drop in validation based on train TDM Match: 659\n",
      "Lenght papers from validation with lb: 901\n",
      "Lenght papers from validation with no_lb: 443\n",
      "Lenght papers from train with lb: 7019\n",
      "Lenght papers from train with no_lb: 3032\n",
      "len(zeroshot_concat): 649\n",
      "len(validation_concat): 1388\n",
      "\n",
      "Zeroshot\n",
      "\n"
     ]
    },
    {
     "name": "stderr",
     "output_type": "stream",
     "text": [
      "100%|██████████| 594/594 [00:00<00:00, 8942.98it/s]\n"
     ]
    },
    {
     "name": "stdout",
     "output_type": "stream",
     "text": [
      "Missed_parsing_zero 0\n",
      "Lenght papers_to_drop in zeroshot based on train Title ID: 0\n",
      "Lenght papers_to_drop in zeroshot based on train TDM Match: 0\n",
      "Lenght papers from zeroshot with lb: 242\n",
      "Lenght papers from zeroshot with no_lb: 352\n",
      "Lenght papers from train with lb: 7019\n",
      "Lenght papers from train with no_lb: 3032\n",
      "\n",
      "validation\n",
      "\n"
     ]
    },
    {
     "name": "stderr",
     "output_type": "stream",
     "text": [
      "100%|██████████| 1102/1102 [00:00<00:00, 8481.75it/s]\n"
     ]
    },
    {
     "name": "stdout",
     "output_type": "stream",
     "text": [
      "Missed_parsing_zero 0\n",
      "Lenght papers_to_drop in validation based on train Title ID: 0\n",
      "Lenght papers_to_drop in validation based on train TDM Match: 659\n",
      "Lenght papers from validation with lb: 659\n",
      "Lenght papers from validation with no_lb: 443\n",
      "Lenght papers from train with lb: 7019\n",
      "Lenght papers from train with no_lb: 3032\n",
      "zeroshot_paper_in_train: 0\n",
      "zeroshot_paper_in_validation: 0\n",
      "validation_paper_in_train: 0\n",
      "validation_paper_in_zeroshot: 0\n"
     ]
    },
    {
     "data": {
      "text/html": [
       "<div>\n",
       "<style scoped>\n",
       "    .dataframe tbody tr th:only-of-type {\n",
       "        vertical-align: middle;\n",
       "    }\n",
       "\n",
       "    .dataframe tbody tr th {\n",
       "        vertical-align: top;\n",
       "    }\n",
       "\n",
       "    .dataframe thead th {\n",
       "        text-align: right;\n",
       "    }\n",
       "</style>\n",
       "<table border=\"1\" class=\"dataframe\">\n",
       "  <thead>\n",
       "    <tr style=\"text-align: right;\">\n",
       "      <th></th>\n",
       "      <th>id</th>\n",
       "      <th>prompt</th>\n",
       "      <th>answer</th>\n",
       "      <th>template</th>\n",
       "      <th>leaderboard</th>\n",
       "    </tr>\n",
       "  </thead>\n",
       "  <tbody>\n",
       "    <tr>\n",
       "      <th>count</th>\n",
       "      <td>605</td>\n",
       "      <td>605</td>\n",
       "      <td>605</td>\n",
       "      <td>605</td>\n",
       "      <td>605</td>\n",
       "    </tr>\n",
       "    <tr>\n",
       "      <th>unique</th>\n",
       "      <td>594</td>\n",
       "      <td>594</td>\n",
       "      <td>243</td>\n",
       "      <td>1</td>\n",
       "      <td>2</td>\n",
       "    </tr>\n",
       "    <tr>\n",
       "      <th>top</th>\n",
       "      <td>2006.04026v1.pdf</td>\n",
       "      <td>SharinGAN: Combining Synthetic and Real Data f...</td>\n",
       "      <td>unanswerable</td>\n",
       "      <td>drop_3</td>\n",
       "      <td>no_lb</td>\n",
       "    </tr>\n",
       "    <tr>\n",
       "      <th>freq</th>\n",
       "      <td>2</td>\n",
       "      <td>2</td>\n",
       "      <td>352</td>\n",
       "      <td>605</td>\n",
       "      <td>352</td>\n",
       "    </tr>\n",
       "  </tbody>\n",
       "</table>\n",
       "</div>"
      ],
      "text/plain": [
       "                      id                                             prompt  \\\n",
       "count                605                                                605   \n",
       "unique               594                                                594   \n",
       "top     2006.04026v1.pdf  SharinGAN: Combining Synthetic and Real Data f...   \n",
       "freq                   2                                                  2   \n",
       "\n",
       "              answer template leaderboard  \n",
       "count            605      605         605  \n",
       "unique           243        1           2  \n",
       "top     unanswerable   drop_3       no_lb  \n",
       "freq             352      605         352  "
      ]
     },
     "metadata": {},
     "output_type": "display_data"
    },
    {
     "data": {
      "application/vnd.jupyter.widget-view+json": {
       "model_id": "33b9e278b2ef47208dbbdb51e4b000cf",
       "version_major": 2,
       "version_minor": 0
      },
      "text/plain": [
       "Saving the dataset (0/1 shards):   0%|          | 0/10051 [00:00<?, ? examples/s]"
      ]
     },
     "metadata": {},
     "output_type": "display_data"
    },
    {
     "data": {
      "application/vnd.jupyter.widget-view+json": {
       "model_id": "934928787db044e7a85890ed3d3dad9e",
       "version_major": 2,
       "version_minor": 0
      },
      "text/plain": [
       "Saving the dataset (0/1 shards):   0%|          | 0/1146 [00:00<?, ? examples/s]"
      ]
     },
     "metadata": {},
     "output_type": "display_data"
    },
    {
     "data": {
      "application/vnd.jupyter.widget-view+json": {
       "model_id": "2bf37f2afefb477b967f92286179bdc9",
       "version_major": 2,
       "version_minor": 0
      },
      "text/plain": [
       "Saving the dataset (0/1 shards):   0%|          | 0/605 [00:00<?, ? examples/s]"
      ]
     },
     "metadata": {},
     "output_type": "display_data"
    },
    {
     "name": "stdout",
     "output_type": "stream",
     "text": [
      "DROP: 4\n",
      "\n",
      "Zeroshot\n",
      "\n"
     ]
    },
    {
     "name": "stderr",
     "output_type": "stream",
     "text": [
      "100%|██████████| 926/926 [00:00<00:00, 11651.12it/s]\n"
     ]
    },
    {
     "name": "stdout",
     "output_type": "stream",
     "text": [
      "Missed_parsing_zero 0\n",
      "Lenght papers_to_drop in zeroshot based on train Title ID: 518\n",
      "Lenght papers_to_drop in zeroshot based on train TDM Match: 44\n",
      "Lenght papers from zeroshot with lb: 573\n",
      "Lenght papers from zeroshot with no_lb: 353\n",
      "Lenght papers from train with lb: 7025\n",
      "Lenght papers from train with no_lb: 3033\n",
      "\n",
      "validation\n",
      "\n"
     ]
    },
    {
     "name": "stderr",
     "output_type": "stream",
     "text": [
      "100%|██████████| 1347/1347 [00:00<00:00, 7860.29it/s]\n"
     ]
    },
    {
     "name": "stdout",
     "output_type": "stream",
     "text": [
      "Missed_parsing_zero 0\n",
      "Lenght papers_to_drop in validation based on train Title ID: 0\n",
      "Lenght papers_to_drop in validation based on train TDM Match: 661\n",
      "Lenght papers from validation with lb: 903\n",
      "Lenght papers from validation with no_lb: 444\n",
      "Lenght papers from train with lb: 7025\n",
      "Lenght papers from train with no_lb: 3033\n",
      "len(dfs['zeroshot']): 926\n",
      "len(dfs['validation']): 1347\n",
      "len(dfs['zeroshot']): 408\n",
      "len(dfs['validation']): 1347\n",
      "\n",
      "Zeroshot\n",
      "\n"
     ]
    },
    {
     "name": "stderr",
     "output_type": "stream",
     "text": [
      "100%|██████████| 408/408 [00:00<00:00, 8373.54it/s]\n"
     ]
    },
    {
     "name": "stdout",
     "output_type": "stream",
     "text": [
      "Missed_parsing_zero 0\n",
      "Lenght papers_to_drop in zeroshot based on train Title ID: 0\n",
      "Lenght papers_to_drop in zeroshot based on train TDM Match: 44\n",
      "Lenght papers from zeroshot with lb: 55\n",
      "Lenght papers from zeroshot with no_lb: 353\n",
      "Lenght papers from train with lb: 7025\n",
      "Lenght papers from train with no_lb: 3033\n",
      "\n",
      "validation\n",
      "\n"
     ]
    },
    {
     "name": "stderr",
     "output_type": "stream",
     "text": [
      "100%|██████████| 1347/1347 [00:00<00:00, 7624.41it/s]\n"
     ]
    },
    {
     "name": "stdout",
     "output_type": "stream",
     "text": [
      "Missed_parsing_zero 0\n",
      "Lenght papers_to_drop in validation based on train Title ID: 0\n",
      "Lenght papers_to_drop in validation based on train TDM Match: 661\n",
      "Lenght papers from validation with lb: 903\n",
      "Lenght papers from validation with no_lb: 444\n",
      "Lenght papers from train with lb: 7025\n",
      "Lenght papers from train with no_lb: 3033\n",
      "len(zeroshot_concat): 650\n",
      "len(validation_concat): 1391\n",
      "\n",
      "Zeroshot\n",
      "\n"
     ]
    },
    {
     "name": "stderr",
     "output_type": "stream",
     "text": [
      "100%|██████████| 595/595 [00:00<00:00, 8635.09it/s]\n"
     ]
    },
    {
     "name": "stdout",
     "output_type": "stream",
     "text": [
      "Missed_parsing_zero 0\n",
      "Lenght papers_to_drop in zeroshot based on train Title ID: 0\n",
      "Lenght papers_to_drop in zeroshot based on train TDM Match: 0\n",
      "Lenght papers from zeroshot with lb: 242\n",
      "Lenght papers from zeroshot with no_lb: 353\n",
      "Lenght papers from train with lb: 7025\n",
      "Lenght papers from train with no_lb: 3033\n",
      "\n",
      "validation\n",
      "\n"
     ]
    },
    {
     "name": "stderr",
     "output_type": "stream",
     "text": [
      "100%|██████████| 1105/1105 [00:00<00:00, 8487.63it/s]\n"
     ]
    },
    {
     "name": "stdout",
     "output_type": "stream",
     "text": [
      "Missed_parsing_zero 0\n",
      "Lenght papers_to_drop in validation based on train Title ID: 0\n",
      "Lenght papers_to_drop in validation based on train TDM Match: 661\n",
      "Lenght papers from validation with lb: 661\n",
      "Lenght papers from validation with no_lb: 444\n",
      "Lenght papers from train with lb: 7025\n",
      "Lenght papers from train with no_lb: 3033\n",
      "zeroshot_paper_in_train: 0\n",
      "zeroshot_paper_in_validation: 0\n",
      "validation_paper_in_train: 0\n",
      "validation_paper_in_zeroshot: 0\n"
     ]
    },
    {
     "data": {
      "text/html": [
       "<div>\n",
       "<style scoped>\n",
       "    .dataframe tbody tr th:only-of-type {\n",
       "        vertical-align: middle;\n",
       "    }\n",
       "\n",
       "    .dataframe tbody tr th {\n",
       "        vertical-align: top;\n",
       "    }\n",
       "\n",
       "    .dataframe thead th {\n",
       "        text-align: right;\n",
       "    }\n",
       "</style>\n",
       "<table border=\"1\" class=\"dataframe\">\n",
       "  <thead>\n",
       "    <tr style=\"text-align: right;\">\n",
       "      <th></th>\n",
       "      <th>id</th>\n",
       "      <th>prompt</th>\n",
       "      <th>answer</th>\n",
       "      <th>template</th>\n",
       "      <th>leaderboard</th>\n",
       "    </tr>\n",
       "  </thead>\n",
       "  <tbody>\n",
       "    <tr>\n",
       "      <th>count</th>\n",
       "      <td>606</td>\n",
       "      <td>606</td>\n",
       "      <td>606</td>\n",
       "      <td>606</td>\n",
       "      <td>606</td>\n",
       "    </tr>\n",
       "    <tr>\n",
       "      <th>unique</th>\n",
       "      <td>595</td>\n",
       "      <td>595</td>\n",
       "      <td>243</td>\n",
       "      <td>1</td>\n",
       "      <td>2</td>\n",
       "    </tr>\n",
       "    <tr>\n",
       "      <th>top</th>\n",
       "      <td>2006.04026v1.pdf</td>\n",
       "      <td>SharinGAN: Combining Synthetic and Real Data f...</td>\n",
       "      <td>unanswerable</td>\n",
       "      <td>drop_4</td>\n",
       "      <td>no_lb</td>\n",
       "    </tr>\n",
       "    <tr>\n",
       "      <th>freq</th>\n",
       "      <td>2</td>\n",
       "      <td>2</td>\n",
       "      <td>353</td>\n",
       "      <td>606</td>\n",
       "      <td>353</td>\n",
       "    </tr>\n",
       "  </tbody>\n",
       "</table>\n",
       "</div>"
      ],
      "text/plain": [
       "                      id                                             prompt  \\\n",
       "count                606                                                606   \n",
       "unique               595                                                595   \n",
       "top     2006.04026v1.pdf  SharinGAN: Combining Synthetic and Real Data f...   \n",
       "freq                   2                                                  2   \n",
       "\n",
       "              answer template leaderboard  \n",
       "count            606      606         606  \n",
       "unique           243        1           2  \n",
       "top     unanswerable   drop_4       no_lb  \n",
       "freq             353      606         353  "
      ]
     },
     "metadata": {},
     "output_type": "display_data"
    },
    {
     "data": {
      "application/vnd.jupyter.widget-view+json": {
       "model_id": "96d6ab9f0a9a434084acc0869d56bfd6",
       "version_major": 2,
       "version_minor": 0
      },
      "text/plain": [
       "Saving the dataset (0/1 shards):   0%|          | 0/10058 [00:00<?, ? examples/s]"
      ]
     },
     "metadata": {},
     "output_type": "display_data"
    },
    {
     "data": {
      "application/vnd.jupyter.widget-view+json": {
       "model_id": "da901255f9fa4d5ba1a48aa5c4cee34e",
       "version_major": 2,
       "version_minor": 0
      },
      "text/plain": [
       "Saving the dataset (0/1 shards):   0%|          | 0/1149 [00:00<?, ? examples/s]"
      ]
     },
     "metadata": {},
     "output_type": "display_data"
    },
    {
     "data": {
      "application/vnd.jupyter.widget-view+json": {
       "model_id": "25fed0e7d75b4fdd8098a7d77f842017",
       "version_major": 2,
       "version_minor": 0
      },
      "text/plain": [
       "Saving the dataset (0/1 shards):   0%|          | 0/606 [00:00<?, ? examples/s]"
      ]
     },
     "metadata": {},
     "output_type": "display_data"
    },
    {
     "name": "stdout",
     "output_type": "stream",
     "text": [
      "DROP: 5\n",
      "\n",
      "Zeroshot\n",
      "\n"
     ]
    },
    {
     "name": "stderr",
     "output_type": "stream",
     "text": [
      "100%|██████████| 926/926 [00:00<00:00, 11670.87it/s]\n"
     ]
    },
    {
     "name": "stdout",
     "output_type": "stream",
     "text": [
      "Missed_parsing_zero 0\n",
      "Lenght papers_to_drop in zeroshot based on train Title ID: 518\n",
      "Lenght papers_to_drop in zeroshot based on train TDM Match: 44\n",
      "Lenght papers from zeroshot with lb: 573\n",
      "Lenght papers from zeroshot with no_lb: 353\n",
      "Lenght papers from train with lb: 7025\n",
      "Lenght papers from train with no_lb: 3033\n",
      "\n",
      "validation\n",
      "\n"
     ]
    },
    {
     "name": "stderr",
     "output_type": "stream",
     "text": [
      "100%|██████████| 1347/1347 [00:00<00:00, 7883.98it/s]\n"
     ]
    },
    {
     "name": "stdout",
     "output_type": "stream",
     "text": [
      "Missed_parsing_zero 0\n",
      "Lenght papers_to_drop in validation based on train Title ID: 0\n",
      "Lenght papers_to_drop in validation based on train TDM Match: 661\n",
      "Lenght papers from validation with lb: 903\n",
      "Lenght papers from validation with no_lb: 444\n",
      "Lenght papers from train with lb: 7025\n",
      "Lenght papers from train with no_lb: 3033\n",
      "len(dfs['zeroshot']): 926\n",
      "len(dfs['validation']): 1347\n",
      "len(dfs['zeroshot']): 408\n",
      "len(dfs['validation']): 1347\n",
      "\n",
      "Zeroshot\n",
      "\n"
     ]
    },
    {
     "name": "stderr",
     "output_type": "stream",
     "text": [
      "100%|██████████| 408/408 [00:00<00:00, 10440.08it/s]\n"
     ]
    },
    {
     "name": "stdout",
     "output_type": "stream",
     "text": [
      "Missed_parsing_zero 0\n",
      "Lenght papers_to_drop in zeroshot based on train Title ID: 0\n",
      "Lenght papers_to_drop in zeroshot based on train TDM Match: 44\n",
      "Lenght papers from zeroshot with lb: 55\n",
      "Lenght papers from zeroshot with no_lb: 353\n",
      "Lenght papers from train with lb: 7025\n",
      "Lenght papers from train with no_lb: 3033\n",
      "\n",
      "validation\n",
      "\n"
     ]
    },
    {
     "name": "stderr",
     "output_type": "stream",
     "text": [
      "100%|██████████| 1347/1347 [00:00<00:00, 7769.00it/s]\n"
     ]
    },
    {
     "name": "stdout",
     "output_type": "stream",
     "text": [
      "Missed_parsing_zero 0\n",
      "Lenght papers_to_drop in validation based on train Title ID: 0\n",
      "Lenght papers_to_drop in validation based on train TDM Match: 661\n",
      "Lenght papers from validation with lb: 903\n",
      "Lenght papers from validation with no_lb: 444\n",
      "Lenght papers from train with lb: 7025\n",
      "Lenght papers from train with no_lb: 3033\n",
      "len(zeroshot_concat): 650\n",
      "len(validation_concat): 1391\n",
      "\n",
      "Zeroshot\n",
      "\n"
     ]
    },
    {
     "name": "stderr",
     "output_type": "stream",
     "text": [
      "100%|██████████| 595/595 [00:00<00:00, 8513.72it/s]\n"
     ]
    },
    {
     "name": "stdout",
     "output_type": "stream",
     "text": [
      "Missed_parsing_zero 0\n",
      "Lenght papers_to_drop in zeroshot based on train Title ID: 0\n",
      "Lenght papers_to_drop in zeroshot based on train TDM Match: 0\n",
      "Lenght papers from zeroshot with lb: 242\n",
      "Lenght papers from zeroshot with no_lb: 353\n",
      "Lenght papers from train with lb: 7025\n",
      "Lenght papers from train with no_lb: 3033\n",
      "\n",
      "validation\n",
      "\n"
     ]
    },
    {
     "name": "stderr",
     "output_type": "stream",
     "text": [
      "100%|██████████| 1105/1105 [00:00<00:00, 8416.56it/s]\n"
     ]
    },
    {
     "name": "stdout",
     "output_type": "stream",
     "text": [
      "Missed_parsing_zero 0\n",
      "Lenght papers_to_drop in validation based on train Title ID: 0\n",
      "Lenght papers_to_drop in validation based on train TDM Match: 661\n",
      "Lenght papers from validation with lb: 661\n",
      "Lenght papers from validation with no_lb: 444\n",
      "Lenght papers from train with lb: 7025\n",
      "Lenght papers from train with no_lb: 3033\n",
      "zeroshot_paper_in_train: 0\n",
      "zeroshot_paper_in_validation: 0\n",
      "validation_paper_in_train: 0\n",
      "validation_paper_in_zeroshot: 0\n"
     ]
    },
    {
     "data": {
      "text/html": [
       "<div>\n",
       "<style scoped>\n",
       "    .dataframe tbody tr th:only-of-type {\n",
       "        vertical-align: middle;\n",
       "    }\n",
       "\n",
       "    .dataframe tbody tr th {\n",
       "        vertical-align: top;\n",
       "    }\n",
       "\n",
       "    .dataframe thead th {\n",
       "        text-align: right;\n",
       "    }\n",
       "</style>\n",
       "<table border=\"1\" class=\"dataframe\">\n",
       "  <thead>\n",
       "    <tr style=\"text-align: right;\">\n",
       "      <th></th>\n",
       "      <th>id</th>\n",
       "      <th>prompt</th>\n",
       "      <th>answer</th>\n",
       "      <th>template</th>\n",
       "      <th>leaderboard</th>\n",
       "    </tr>\n",
       "  </thead>\n",
       "  <tbody>\n",
       "    <tr>\n",
       "      <th>count</th>\n",
       "      <td>606</td>\n",
       "      <td>606</td>\n",
       "      <td>606</td>\n",
       "      <td>606</td>\n",
       "      <td>606</td>\n",
       "    </tr>\n",
       "    <tr>\n",
       "      <th>unique</th>\n",
       "      <td>595</td>\n",
       "      <td>595</td>\n",
       "      <td>243</td>\n",
       "      <td>1</td>\n",
       "      <td>2</td>\n",
       "    </tr>\n",
       "    <tr>\n",
       "      <th>top</th>\n",
       "      <td>2006.04026v1.pdf</td>\n",
       "      <td>Read this article and answer this question Sha...</td>\n",
       "      <td>unanswerable</td>\n",
       "      <td>drop_5</td>\n",
       "      <td>no_lb</td>\n",
       "    </tr>\n",
       "    <tr>\n",
       "      <th>freq</th>\n",
       "      <td>2</td>\n",
       "      <td>2</td>\n",
       "      <td>353</td>\n",
       "      <td>606</td>\n",
       "      <td>353</td>\n",
       "    </tr>\n",
       "  </tbody>\n",
       "</table>\n",
       "</div>"
      ],
      "text/plain": [
       "                      id                                             prompt  \\\n",
       "count                606                                                606   \n",
       "unique               595                                                595   \n",
       "top     2006.04026v1.pdf  Read this article and answer this question Sha...   \n",
       "freq                   2                                                  2   \n",
       "\n",
       "              answer template leaderboard  \n",
       "count            606      606         606  \n",
       "unique           243        1           2  \n",
       "top     unanswerable   drop_5       no_lb  \n",
       "freq             353      606         353  "
      ]
     },
     "metadata": {},
     "output_type": "display_data"
    },
    {
     "data": {
      "application/vnd.jupyter.widget-view+json": {
       "model_id": "66b7b84dd1544acfaaeb0ecd05afd956",
       "version_major": 2,
       "version_minor": 0
      },
      "text/plain": [
       "Saving the dataset (0/1 shards):   0%|          | 0/10058 [00:00<?, ? examples/s]"
      ]
     },
     "metadata": {},
     "output_type": "display_data"
    },
    {
     "data": {
      "application/vnd.jupyter.widget-view+json": {
       "model_id": "c6874ac6d513431994cd5cf2a9c35210",
       "version_major": 2,
       "version_minor": 0
      },
      "text/plain": [
       "Saving the dataset (0/1 shards):   0%|          | 0/1149 [00:00<?, ? examples/s]"
      ]
     },
     "metadata": {},
     "output_type": "display_data"
    },
    {
     "data": {
      "application/vnd.jupyter.widget-view+json": {
       "model_id": "7270b420b38a45efaece0c7c26f6263c",
       "version_major": 2,
       "version_minor": 0
      },
      "text/plain": [
       "Saving the dataset (0/1 shards):   0%|          | 0/606 [00:00<?, ? examples/s]"
      ]
     },
     "metadata": {},
     "output_type": "display_data"
    },
    {
     "name": "stdout",
     "output_type": "stream",
     "text": [
      "DROP: 6\n",
      "\n",
      "Zeroshot\n",
      "\n"
     ]
    },
    {
     "name": "stderr",
     "output_type": "stream",
     "text": [
      "100%|██████████| 926/926 [00:00<00:00, 5863.40it/s]\n"
     ]
    },
    {
     "name": "stdout",
     "output_type": "stream",
     "text": [
      "Missed_parsing_zero 0\n",
      "Lenght papers_to_drop in zeroshot based on train Title ID: 518\n",
      "Lenght papers_to_drop in zeroshot based on train TDM Match: 44\n",
      "Lenght papers from zeroshot with lb: 573\n",
      "Lenght papers from zeroshot with no_lb: 353\n",
      "Lenght papers from train with lb: 7025\n",
      "Lenght papers from train with no_lb: 3033\n",
      "\n",
      "validation\n",
      "\n"
     ]
    },
    {
     "name": "stderr",
     "output_type": "stream",
     "text": [
      "100%|██████████| 1347/1347 [00:00<00:00, 7640.49it/s]\n"
     ]
    },
    {
     "name": "stdout",
     "output_type": "stream",
     "text": [
      "Missed_parsing_zero 0\n",
      "Lenght papers_to_drop in validation based on train Title ID: 0\n",
      "Lenght papers_to_drop in validation based on train TDM Match: 661\n",
      "Lenght papers from validation with lb: 903\n",
      "Lenght papers from validation with no_lb: 444\n",
      "Lenght papers from train with lb: 7025\n",
      "Lenght papers from train with no_lb: 3033\n",
      "len(dfs['zeroshot']): 926\n",
      "len(dfs['validation']): 1347\n",
      "len(dfs['zeroshot']): 408\n",
      "len(dfs['validation']): 1347\n",
      "\n",
      "Zeroshot\n",
      "\n"
     ]
    },
    {
     "name": "stderr",
     "output_type": "stream",
     "text": [
      "100%|██████████| 408/408 [00:00<00:00, 9734.72it/s]\n"
     ]
    },
    {
     "name": "stdout",
     "output_type": "stream",
     "text": [
      "Missed_parsing_zero 0\n",
      "Lenght papers_to_drop in zeroshot based on train Title ID: 0\n",
      "Lenght papers_to_drop in zeroshot based on train TDM Match: 44\n",
      "Lenght papers from zeroshot with lb: 55\n",
      "Lenght papers from zeroshot with no_lb: 353\n",
      "Lenght papers from train with lb: 7025\n",
      "Lenght papers from train with no_lb: 3033\n",
      "\n",
      "validation\n",
      "\n"
     ]
    },
    {
     "name": "stderr",
     "output_type": "stream",
     "text": [
      "100%|██████████| 1347/1347 [00:00<00:00, 7935.72it/s]\n"
     ]
    },
    {
     "name": "stdout",
     "output_type": "stream",
     "text": [
      "Missed_parsing_zero 0\n",
      "Lenght papers_to_drop in validation based on train Title ID: 0\n",
      "Lenght papers_to_drop in validation based on train TDM Match: 661\n",
      "Lenght papers from validation with lb: 903\n",
      "Lenght papers from validation with no_lb: 444\n",
      "Lenght papers from train with lb: 7025\n",
      "Lenght papers from train with no_lb: 3033\n",
      "len(zeroshot_concat): 650\n",
      "len(validation_concat): 1391\n",
      "\n",
      "Zeroshot\n",
      "\n"
     ]
    },
    {
     "name": "stderr",
     "output_type": "stream",
     "text": [
      "100%|██████████| 595/595 [00:00<00:00, 9114.16it/s]\n"
     ]
    },
    {
     "name": "stdout",
     "output_type": "stream",
     "text": [
      "Missed_parsing_zero 0\n",
      "Lenght papers_to_drop in zeroshot based on train Title ID: 0\n",
      "Lenght papers_to_drop in zeroshot based on train TDM Match: 0\n",
      "Lenght papers from zeroshot with lb: 242\n",
      "Lenght papers from zeroshot with no_lb: 353\n",
      "Lenght papers from train with lb: 7025\n",
      "Lenght papers from train with no_lb: 3033\n",
      "\n",
      "validation\n",
      "\n"
     ]
    },
    {
     "name": "stderr",
     "output_type": "stream",
     "text": [
      "100%|██████████| 1105/1105 [00:00<00:00, 8590.39it/s]\n"
     ]
    },
    {
     "name": "stdout",
     "output_type": "stream",
     "text": [
      "Missed_parsing_zero 0\n",
      "Lenght papers_to_drop in validation based on train Title ID: 0\n",
      "Lenght papers_to_drop in validation based on train TDM Match: 661\n",
      "Lenght papers from validation with lb: 661\n",
      "Lenght papers from validation with no_lb: 444\n",
      "Lenght papers from train with lb: 7025\n",
      "Lenght papers from train with no_lb: 3033\n",
      "zeroshot_paper_in_train: 0\n",
      "zeroshot_paper_in_validation: 0\n",
      "validation_paper_in_train: 0\n",
      "validation_paper_in_zeroshot: 0\n"
     ]
    },
    {
     "data": {
      "text/html": [
       "<div>\n",
       "<style scoped>\n",
       "    .dataframe tbody tr th:only-of-type {\n",
       "        vertical-align: middle;\n",
       "    }\n",
       "\n",
       "    .dataframe tbody tr th {\n",
       "        vertical-align: top;\n",
       "    }\n",
       "\n",
       "    .dataframe thead th {\n",
       "        text-align: right;\n",
       "    }\n",
       "</style>\n",
       "<table border=\"1\" class=\"dataframe\">\n",
       "  <thead>\n",
       "    <tr style=\"text-align: right;\">\n",
       "      <th></th>\n",
       "      <th>id</th>\n",
       "      <th>prompt</th>\n",
       "      <th>answer</th>\n",
       "      <th>template</th>\n",
       "      <th>leaderboard</th>\n",
       "    </tr>\n",
       "  </thead>\n",
       "  <tbody>\n",
       "    <tr>\n",
       "      <th>count</th>\n",
       "      <td>606</td>\n",
       "      <td>606</td>\n",
       "      <td>606</td>\n",
       "      <td>606</td>\n",
       "      <td>606</td>\n",
       "    </tr>\n",
       "    <tr>\n",
       "      <th>unique</th>\n",
       "      <td>595</td>\n",
       "      <td>595</td>\n",
       "      <td>243</td>\n",
       "      <td>1</td>\n",
       "      <td>2</td>\n",
       "    </tr>\n",
       "    <tr>\n",
       "      <th>top</th>\n",
       "      <td>2006.04026v1.pdf</td>\n",
       "      <td>SharinGAN: Combining Synthetic and Real Data f...</td>\n",
       "      <td>unanswerable</td>\n",
       "      <td>drop_6</td>\n",
       "      <td>no_lb</td>\n",
       "    </tr>\n",
       "    <tr>\n",
       "      <th>freq</th>\n",
       "      <td>2</td>\n",
       "      <td>2</td>\n",
       "      <td>353</td>\n",
       "      <td>606</td>\n",
       "      <td>353</td>\n",
       "    </tr>\n",
       "  </tbody>\n",
       "</table>\n",
       "</div>"
      ],
      "text/plain": [
       "                      id                                             prompt  \\\n",
       "count                606                                                606   \n",
       "unique               595                                                595   \n",
       "top     2006.04026v1.pdf  SharinGAN: Combining Synthetic and Real Data f...   \n",
       "freq                   2                                                  2   \n",
       "\n",
       "              answer template leaderboard  \n",
       "count            606      606         606  \n",
       "unique           243        1           2  \n",
       "top     unanswerable   drop_6       no_lb  \n",
       "freq             353      606         353  "
      ]
     },
     "metadata": {},
     "output_type": "display_data"
    },
    {
     "data": {
      "application/vnd.jupyter.widget-view+json": {
       "model_id": "855d7f0ade2a4a3cb2d77c0752d8fd75",
       "version_major": 2,
       "version_minor": 0
      },
      "text/plain": [
       "Saving the dataset (0/1 shards):   0%|          | 0/10058 [00:00<?, ? examples/s]"
      ]
     },
     "metadata": {},
     "output_type": "display_data"
    },
    {
     "data": {
      "application/vnd.jupyter.widget-view+json": {
       "model_id": "95326602d76847d0b4a8940c7bb8626b",
       "version_major": 2,
       "version_minor": 0
      },
      "text/plain": [
       "Saving the dataset (0/1 shards):   0%|          | 0/1149 [00:00<?, ? examples/s]"
      ]
     },
     "metadata": {},
     "output_type": "display_data"
    },
    {
     "data": {
      "application/vnd.jupyter.widget-view+json": {
       "model_id": "2dc4c7143a7149a9a5619837df4f7fa4",
       "version_major": 2,
       "version_minor": 0
      },
      "text/plain": [
       "Saving the dataset (0/1 shards):   0%|          | 0/606 [00:00<?, ? examples/s]"
      ]
     },
     "metadata": {},
     "output_type": "display_data"
    },
    {
     "name": "stdout",
     "output_type": "stream",
     "text": [
      "DROP: 7\n",
      "\n",
      "Zeroshot\n",
      "\n"
     ]
    },
    {
     "name": "stderr",
     "output_type": "stream",
     "text": [
      "100%|██████████| 926/926 [00:00<00:00, 5916.05it/s]\n"
     ]
    },
    {
     "name": "stdout",
     "output_type": "stream",
     "text": [
      "Missed_parsing_zero 0\n",
      "Lenght papers_to_drop in zeroshot based on train Title ID: 518\n",
      "Lenght papers_to_drop in zeroshot based on train TDM Match: 44\n",
      "Lenght papers from zeroshot with lb: 573\n",
      "Lenght papers from zeroshot with no_lb: 353\n",
      "Lenght papers from train with lb: 7025\n",
      "Lenght papers from train with no_lb: 3033\n",
      "\n",
      "validation\n",
      "\n"
     ]
    },
    {
     "name": "stderr",
     "output_type": "stream",
     "text": [
      "100%|██████████| 1347/1347 [00:00<00:00, 8106.46it/s]\n"
     ]
    },
    {
     "name": "stdout",
     "output_type": "stream",
     "text": [
      "Missed_parsing_zero 0\n",
      "Lenght papers_to_drop in validation based on train Title ID: 0\n",
      "Lenght papers_to_drop in validation based on train TDM Match: 661\n",
      "Lenght papers from validation with lb: 903\n",
      "Lenght papers from validation with no_lb: 444\n",
      "Lenght papers from train with lb: 7025\n",
      "Lenght papers from train with no_lb: 3033\n",
      "len(dfs['zeroshot']): 928\n",
      "len(dfs['validation']): 1350\n",
      "len(dfs['zeroshot']): 409\n",
      "len(dfs['validation']): 1350\n",
      "\n",
      "Zeroshot\n",
      "\n"
     ]
    },
    {
     "name": "stderr",
     "output_type": "stream",
     "text": [
      "100%|██████████| 408/408 [00:00<00:00, 10773.52it/s]\n"
     ]
    },
    {
     "name": "stdout",
     "output_type": "stream",
     "text": [
      "Missed_parsing_zero 0\n",
      "Lenght papers_to_drop in zeroshot based on train Title ID: 0\n",
      "Lenght papers_to_drop in zeroshot based on train TDM Match: 44\n",
      "Lenght papers from zeroshot with lb: 55\n",
      "Lenght papers from zeroshot with no_lb: 353\n",
      "Lenght papers from train with lb: 7025\n",
      "Lenght papers from train with no_lb: 3033\n",
      "\n",
      "validation\n",
      "\n"
     ]
    },
    {
     "name": "stderr",
     "output_type": "stream",
     "text": [
      "100%|██████████| 1347/1347 [00:00<00:00, 8171.56it/s]\n"
     ]
    },
    {
     "name": "stdout",
     "output_type": "stream",
     "text": [
      "Missed_parsing_zero 0\n",
      "Lenght papers_to_drop in validation based on train Title ID: 0\n",
      "Lenght papers_to_drop in validation based on train TDM Match: 661\n",
      "Lenght papers from validation with lb: 903\n",
      "Lenght papers from validation with no_lb: 444\n",
      "Lenght papers from train with lb: 7025\n",
      "Lenght papers from train with no_lb: 3033\n",
      "len(zeroshot_concat): 651\n",
      "len(validation_concat): 1394\n",
      "\n",
      "Zeroshot\n",
      "\n"
     ]
    },
    {
     "name": "stderr",
     "output_type": "stream",
     "text": [
      "100%|██████████| 595/595 [00:00<00:00, 9012.03it/s]\n"
     ]
    },
    {
     "name": "stdout",
     "output_type": "stream",
     "text": [
      "Missed_parsing_zero 0\n",
      "Lenght papers_to_drop in zeroshot based on train Title ID: 0\n",
      "Lenght papers_to_drop in zeroshot based on train TDM Match: 0\n",
      "Lenght papers from zeroshot with lb: 242\n",
      "Lenght papers from zeroshot with no_lb: 353\n",
      "Lenght papers from train with lb: 7025\n",
      "Lenght papers from train with no_lb: 3033\n",
      "\n",
      "validation\n",
      "\n"
     ]
    },
    {
     "name": "stderr",
     "output_type": "stream",
     "text": [
      "100%|██████████| 1105/1105 [00:00<00:00, 8574.66it/s]\n"
     ]
    },
    {
     "name": "stdout",
     "output_type": "stream",
     "text": [
      "Missed_parsing_zero 0\n",
      "Lenght papers_to_drop in validation based on train Title ID: 0\n",
      "Lenght papers_to_drop in validation based on train TDM Match: 661\n",
      "Lenght papers from validation with lb: 661\n",
      "Lenght papers from validation with no_lb: 444\n",
      "Lenght papers from train with lb: 7025\n",
      "Lenght papers from train with no_lb: 3033\n",
      "zeroshot_paper_in_train: 0\n",
      "zeroshot_paper_in_validation: 0\n",
      "validation_paper_in_train: 0\n",
      "validation_paper_in_zeroshot: 0\n"
     ]
    },
    {
     "data": {
      "text/html": [
       "<div>\n",
       "<style scoped>\n",
       "    .dataframe tbody tr th:only-of-type {\n",
       "        vertical-align: middle;\n",
       "    }\n",
       "\n",
       "    .dataframe tbody tr th {\n",
       "        vertical-align: top;\n",
       "    }\n",
       "\n",
       "    .dataframe thead th {\n",
       "        text-align: right;\n",
       "    }\n",
       "</style>\n",
       "<table border=\"1\" class=\"dataframe\">\n",
       "  <thead>\n",
       "    <tr style=\"text-align: right;\">\n",
       "      <th></th>\n",
       "      <th>id</th>\n",
       "      <th>prompt</th>\n",
       "      <th>answer</th>\n",
       "      <th>template</th>\n",
       "      <th>leaderboard</th>\n",
       "    </tr>\n",
       "  </thead>\n",
       "  <tbody>\n",
       "    <tr>\n",
       "      <th>count</th>\n",
       "      <td>607</td>\n",
       "      <td>607</td>\n",
       "      <td>607</td>\n",
       "      <td>607</td>\n",
       "      <td>607</td>\n",
       "    </tr>\n",
       "    <tr>\n",
       "      <th>unique</th>\n",
       "      <td>595</td>\n",
       "      <td>595</td>\n",
       "      <td>243</td>\n",
       "      <td>1</td>\n",
       "      <td>2</td>\n",
       "    </tr>\n",
       "    <tr>\n",
       "      <th>top</th>\n",
       "      <td>2006.04026v1.pdf</td>\n",
       "      <td>Context: SharinGAN: Combining Synthetic and Re...</td>\n",
       "      <td>unanswerable</td>\n",
       "      <td>drop_7</td>\n",
       "      <td>no_lb</td>\n",
       "    </tr>\n",
       "    <tr>\n",
       "      <th>freq</th>\n",
       "      <td>2</td>\n",
       "      <td>2</td>\n",
       "      <td>354</td>\n",
       "      <td>607</td>\n",
       "      <td>354</td>\n",
       "    </tr>\n",
       "  </tbody>\n",
       "</table>\n",
       "</div>"
      ],
      "text/plain": [
       "                      id                                             prompt  \\\n",
       "count                607                                                607   \n",
       "unique               595                                                595   \n",
       "top     2006.04026v1.pdf  Context: SharinGAN: Combining Synthetic and Re...   \n",
       "freq                   2                                                  2   \n",
       "\n",
       "              answer template leaderboard  \n",
       "count            607      607         607  \n",
       "unique           243        1           2  \n",
       "top     unanswerable   drop_7       no_lb  \n",
       "freq             354      607         354  "
      ]
     },
     "metadata": {},
     "output_type": "display_data"
    },
    {
     "data": {
      "application/vnd.jupyter.widget-view+json": {
       "model_id": "d7c3b402ad0144a7beb3930777cc94f3",
       "version_major": 2,
       "version_minor": 0
      },
      "text/plain": [
       "Saving the dataset (0/1 shards):   0%|          | 0/10065 [00:00<?, ? examples/s]"
      ]
     },
     "metadata": {},
     "output_type": "display_data"
    },
    {
     "data": {
      "application/vnd.jupyter.widget-view+json": {
       "model_id": "16343ee8ee7048ada876f61bd57750f9",
       "version_major": 2,
       "version_minor": 0
      },
      "text/plain": [
       "Saving the dataset (0/1 shards):   0%|          | 0/1152 [00:00<?, ? examples/s]"
      ]
     },
     "metadata": {},
     "output_type": "display_data"
    },
    {
     "data": {
      "application/vnd.jupyter.widget-view+json": {
       "model_id": "d1feb16c5cb443e2b68d6ba34082fd8c",
       "version_major": 2,
       "version_minor": 0
      },
      "text/plain": [
       "Saving the dataset (0/1 shards):   0%|          | 0/607 [00:00<?, ? examples/s]"
      ]
     },
     "metadata": {},
     "output_type": "display_data"
    }
   ],
   "source": [
    "for drop_id in range(1, 8):\n",
    "    print(f\"DROP: {drop_id}\")\n",
    "    dataset_path = f\"../data/LLLM_AUGMENTED_SUMMARIZED_WITH_ID_ZEROSHOT_TDMS_DROP_{drop_id}_DOCTEAT/fold1\"\n",
    "\n",
    "    dataset_dict = DatasetDict.load_from_disk(f\"{dataset_path}\")\n",
    "        \n",
    "    dfs = {split: dataset.to_pandas() for split, dataset in dataset_dict.items()}\n",
    "    dfs['train']['leaderboard'] = dfs['train'].answer.apply(lambda x: \"no_lb\" if x == \"unanswerable\" else \"lb\")\n",
    "    dfs['validation']['leaderboard'] = dfs['validation'].answer.apply(lambda x: \"no_lb\" if x == \"unanswerable\" else \"lb\")\n",
    "    dfs['zeroshot']['leaderboard'] = dfs['zeroshot'].answer.apply(lambda x: \"no_lb\" if x == \"unanswerable\" else \"lb\")\n",
    "    \n",
    "    print(\"\\nZeroshot\\n\")\n",
    "    zeroshot_papers_to_drop = remove_data_leakage(dfs, source=\"zeroshot\", target=\"train\", THRESHOLD=90)\n",
    "    print(\"\\nvalidation\\n\")\n",
    "    validation_papers_to_drop = remove_data_leakage(dfs, source=\"validation\", target=\"train\", THRESHOLD=90)\n",
    "    \n",
    "    print(f\"len(dfs['zeroshot']): {len(dfs['zeroshot'])}\")\n",
    "    print(f\"len(dfs['validation']): {len(dfs['validation'])}\")\n",
    "\n",
    "    dfs['zeroshot'] = dfs['zeroshot'][~dfs['zeroshot']['id'].isin(zeroshot_papers_to_drop['id'])]\n",
    "    dfs['validation'] = dfs['validation'][~dfs['validation']['id'].isin(validation_papers_to_drop['id'])]\n",
    "\n",
    "    print(f\"len(dfs['zeroshot']): {len(dfs['zeroshot'])}\")\n",
    "    print(f\"len(dfs['validation']): {len(dfs['validation'])}\")\n",
    "    \n",
    "    # In zeroshot means paper to remove from zero-shot to make it real zershot, in the sense that \n",
    "    # At least one of the leaderboard was not seen at training time \n",
    "    print(\"\\nZeroshot\\n\")\n",
    "    zeroshot_papers_to_drop = remove_data_leakage(dfs, source=\"zeroshot\", target=\"train\", THRESHOLD=90)\n",
    "    print(\"\\nvalidation\\n\")\n",
    "    # in validation this means paper to keep as part of few shot \n",
    "    validation_papers_to_drop = remove_data_leakage(dfs, source=\"validation\", target=\"train\", THRESHOLD=90)\n",
    "    \n",
    "    zeroshot_concat = pd.concat([dfs['zeroshot'], dfs['validation'][~(dfs['validation']['id'].isin(validation_papers_to_drop['tdm'])) & (dfs['validation']['leaderboard']==\"lb\")]], ignore_index=True)\n",
    "    print(f\"len(zeroshot_concat): {len(zeroshot_concat)}\")\n",
    "\n",
    "    validation_concat = pd.concat([dfs['validation'], dfs['zeroshot'][dfs['zeroshot']['id'].isin(zeroshot_papers_to_drop['tdm'])]], ignore_index=True)\n",
    "    print(f\"len(validation_concat): {len(validation_concat)}\")\n",
    "    \n",
    "    # Filtering the DataFrame\n",
    "    dfs['zeroshot'] = zeroshot_concat.copy()\n",
    "    dfs['zeroshot'] = dfs['zeroshot'][~dfs['zeroshot']['id'].isin(zeroshot_papers_to_drop['tdm'])]\n",
    "    # dfs['zeroshot'].drop_duplicates(subset='id', inplace=True)\n",
    "    dfs['zeroshot'].drop([\"prompt lenght\", \"__index_level_0__\"], axis=1).describe()\n",
    "    \n",
    "    # Filtering the DataFrame\n",
    "    dfs['validation'] = validation_concat.copy()\n",
    "    # I want to keep all the no leaderboard papers in validation \n",
    "    dfs['validation'] = dfs['validation'][(dfs['validation']['id'].isin(validation_papers_to_drop['tdm'])) | (dfs['validation']['leaderboard']==\"no_lb\")]\n",
    "    # dfs['validation'].drop_duplicates(subset='id', inplace=True)\n",
    "    dfs['validation'].drop([\"prompt lenght\", \"__index_level_0__\"], axis=1).describe()\n",
    "    \n",
    "    print(\"\\nZeroshot\\n\")\n",
    "    zeroshot_papers_to_drop = remove_data_leakage(dfs, source=\"zeroshot\", target=\"train\", THRESHOLD=90)\n",
    "    print(\"\\nvalidation\\n\")\n",
    "    validation_papers_to_drop = remove_data_leakage(dfs, source=\"validation\", target=\"train\", THRESHOLD=90)\n",
    "    \n",
    "    dfs['train'].drop([\"__index_level_0__\"], inplace=True, axis=1)\n",
    "    dfs['validation'].drop([\"__index_level_0__\"], inplace=True, axis=1)\n",
    "    dfs['zeroshot'].drop([\"__index_level_0__\"], inplace=True, axis=1)\n",
    "\n",
    "    # no leaderboard paper can be shared between few-shot and zero-shot\n",
    "    verify_data_integrity(dfs, include_no_lb=False)\n",
    "    \n",
    "    display(dfs['zeroshot'].drop([\"prompt lenght\"], axis=1).describe())\n",
    "    \n",
    "    dataset = DatasetDict({\n",
    "        \"train\": Dataset.from_pandas(dfs['train']),\n",
    "        \"validation\": Dataset.from_pandas(dfs['validation']),\n",
    "        \"zeroshot\": Dataset.from_pandas(dfs['zeroshot'])\n",
    "    })\n",
    "\n",
    "    dataset.save_to_disk(f\"../data/LEADERBOARDS_DOCTEAT_TDMS_DROP_{drop_id}\")"
   ]
  },
  {
   "cell_type": "code",
   "execution_count": null,
   "id": "65aea75c",
   "metadata": {},
   "outputs": [],
   "source": []
  }
 ],
 "metadata": {
  "kernelspec": {
   "display_name": "Python 3 (ipykernel)",
   "language": "python",
   "name": "python3"
  },
  "language_info": {
   "codemirror_mode": {
    "name": "ipython",
    "version": 3
   },
   "file_extension": ".py",
   "mimetype": "text/x-python",
   "name": "python",
   "nbconvert_exporter": "python",
   "pygments_lexer": "ipython3",
   "version": "3.7.10"
  }
 },
 "nbformat": 4,
 "nbformat_minor": 5
}
