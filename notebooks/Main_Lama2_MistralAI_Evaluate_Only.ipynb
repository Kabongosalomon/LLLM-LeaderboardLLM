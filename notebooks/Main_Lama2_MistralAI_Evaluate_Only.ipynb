{
 "cells": [
  {
   "cell_type": "code",
   "execution_count": 1,
   "id": "0ca666f6-07c3-4239-84da-68accc4205c3",
   "metadata": {},
   "outputs": [],
   "source": [
    "# imports\n",
    "import pandas as pd\n",
    "import os, ipdb, json\n",
    "import random, evaluate\n",
    "\n",
    "import random\n",
    "import string\n",
    "\n",
    "# Fine-Tune Llama2-7b on custom dataset\n",
    "import os, ipdb\n",
    "from dataclasses import dataclass, field\n",
    "from typing import Optional\n",
    "import numpy as np\n",
    "import torch, random\n",
    "from datasets import DatasetDict, Dataset, load_dataset\n",
    "from tqdm import tqdm\n",
    "# from ../evaluation_metrics import Metrics\n",
    "seed = 42\n",
    "torch.cuda.manual_seed_all(seed)\n",
    "np.random.seed(seed)\n",
    "random.seed(seed)\n",
    "\n",
    "from evaluation_metrics import Metrics, THRESHOLD"
   ]
  },
  {
   "cell_type": "code",
   "execution_count": 2,
   "id": "7b711c4d-d7ed-4d0a-9f9a-bf9614d33af2",
   "metadata": {},
   "outputs": [],
   "source": [
    "\n",
    "size = \"7b\"\n",
    "seq_length = 2400\n",
    "\n",
    "test_ckpt = \"checkpoint-35000\" # \"checkpoint-5000\"\n",
    "\n",
    "test_dataset = \"../data/LLLM_AUGMENTED_SUMMARIZED_WITH_ID_ZEROSHOT_TDMS_50_PERCENT/fold1\"\n",
    "dataset_name = \"../data/LLLM_AUGMENTED_SUMMARIZED_WITH_ID_ZEROSHOT_TDMS_50_PERCENT/fold1\"\n",
    "\n",
    "# test_dataset = \"./data/LLLM_AUGMENTED_SUMMARIZED_ZEROSHOT_TDMS_50_PERCENT_LONG/fold1\"\n",
    "# dataset_name = \"./data/LLLM_AUGMENTED_SUMMARIZED_ZEROSHOT_TDMS_50_PERCENT_LONG/fold1\"\n",
    "\n",
    "# test_dataset = \"./data/LLLM_AUGMENTED_SUMMARIZED_ZEROSHOT_TDMS_50_PERCENT_DOCTEAT/fold1\"\n",
    "# dataset_name = \"./data/LLLM_AUGMENTED_SUMMARIZED_ZEROSHOT_TDMS_50_PERCENT_DOCTEAT/fold1\"\n",
    "\n",
    "\n",
    "model_name = \"meta-llama/Llama-2-7b-hf\"\n",
    "output_dir = f\"../model_ckpt/augmented_summ_with_id_zeroshot_llama2_{size}_tdms_f1_50_percent_seq_len_{seq_length}\"\n",
    "run_name = f\"eval_sft_augmented_summ_with_id_zeroshot_llama2_{size}_tdms_50_percent_seq_len_{seq_length}\"\n",
    "\n",
    "\n",
    "# model_name = \"mistralai/Mistral-7B-v0.1\"\n",
    "# output_dir = f\"../model_ckpt/augmented_summ_with_id_zeroshot_mistralai_{size}_tdms_f1_50_percent_seq_len_{seq_length}\"\n",
    "# run_name = f\"eval_sft_augmented_summ_with_id_zeroshot_mistralai_{size}_tdms_50_percent_seq_len_{seq_length}\"\n",
    "\n",
    "\n",
    "\n",
    "save_strategy = \"steps\" #\"epoch\"\n",
    "evaluation_strategy= \"steps\" #\"epoch\",\n",
    "\n",
    "mode = \"validation\"\n",
    "# mode = \"zeroshot\""
   ]
  },
  {
   "cell_type": "code",
   "execution_count": 3,
   "id": "29c7e144-381b-42f6-894a-b92ab23b5264",
   "metadata": {},
   "outputs": [
    {
     "name": "stderr",
     "output_type": "stream",
     "text": [
      "Loading cached shuffled indices for dataset at /nfs/home/kabenamualus/Research/LLLM-LeaderboardLLM/data/LLLM_AUGMENTED_SUMMARIZED_WITH_ID_ZEROSHOT_TDMS_50_PERCENT/fold1/validation/cache-deace4d80191e26b.arrow\n"
     ]
    }
   ],
   "source": [
    "dataset = DatasetDict.load_from_disk(f\"{test_dataset}\")\n",
    "    \n",
    "valid_data = dataset[mode].shuffle(seed=42)"
   ]
  },
  {
   "cell_type": "code",
   "execution_count": 4,
   "id": "89f3741a-b5a7-40f3-b92d-6322771dc80a",
   "metadata": {},
   "outputs": [],
   "source": [
    "# labels = []\n",
    "# preds = []\n",
    "# idx_skip = []\n",
    "# processed_paper = []\n",
    "# # template_selected = \"drop_1\"\n",
    "# # i = 0\n",
    "# # array(['squad_1', 'squad_2', 'squad_3', 'squad_4', 'squad_5', 'squad_6',\n",
    "# #        'squad_7', 'squad_8', 'drop_1', 'drop_2', 'drop_3', 'drop_4',\n",
    "# #        'drop_5', 'drop_6', 'drop_7'], dtype=object)\n",
    "\n",
    "\n",
    "# for idx, valid_ex in tqdm(enumerate(valid_data), total=len(valid_data)):\n",
    "\n",
    "#     if valid_ex['id'] in processed_paper :\n",
    "#         continue\n",
    "        \n",
    "\n",
    "#     # preds.append(predictions.split(\"Answer: \")[-1].replace(\"</s>\", \"\"))\n",
    "#     labels.append(valid_ex['answer'])    "
   ]
  },
  {
   "cell_type": "code",
   "execution_count": 5,
   "id": "dd6dad01",
   "metadata": {},
   "outputs": [],
   "source": [
    "# output_dir = \"./\"\n",
    "# try:\n",
    "#     with open(f'{output_dir}/labels_{mode}_{test_ckpt}_{THRESHOLD}.json', 'w') as fp:\n",
    "#         json.dump(labels, fp, indent=4)\n",
    "\n",
    "#     # with open(f'{output_dir}/preds_{mode}_{test_ckpt}_{THRESHOLD}.json', 'w') as fp:\n",
    "#     #     json.dump(preds, fp, indent=4)\n",
    "# except:\n",
    "#     print(\"failed to save jsons\")"
   ]
  },
  {
   "cell_type": "code",
   "execution_count": 8,
   "id": "179d52c9",
   "metadata": {},
   "outputs": [],
   "source": [
    "\n",
    "# output_dir = \"./\"\n",
    "try:\n",
    "    with open(f'{output_dir}/labels_{mode}_{test_ckpt}_{THRESHOLD}.json') as json_file:\n",
    "        labels = json.load(json_file)\n",
    "\n",
    "    with open(f'{output_dir}/preds_{mode}_{test_ckpt}_{THRESHOLD}.json') as json_file:\n",
    "        preds = json.load(json_file)\n",
    "except:\n",
    "    print(\"failed to save jsons\")"
   ]
  },
  {
   "cell_type": "code",
   "execution_count": 10,
   "id": "c577eac1",
   "metadata": {},
   "outputs": [
    {
     "data": {
      "text/plain": [
       "[\"[{'LEADERBOARD': {'Task': 'Image Classification', 'Dataset': 'STL-10', 'Metric': 'Percentage correct', 'Score': '71.12'}}, {'LEADERBOARD': {'Task': 'Image Classification', 'Dataset': 'STL-10', 'Metric': 'Percentage correct', 'Score': '69.15'}}, {'LEADERBOARD': {'Task': 'Image Classification', 'Dataset': 'STL-10', 'Metric': 'Percentage correct', 'Score': '68.19'}}, {'LEADERBOARD': {'Task': 'Image Classification', 'Dataset': 'STL-10', 'Metric': 'Percentage correct', 'Score': '63.13'}}]\",\n",
       " \"[{'LEADERBOARD': {'Task': 'Text Classification', 'Dataset': 'WeeBit (Readability Assessment)', 'Metric': 'Accuracy (5-fold)', 'Score': '0.803'}}]\"]"
      ]
     },
     "execution_count": 10,
     "metadata": {},
     "output_type": "execute_result"
    }
   ],
   "source": [
    "labels[:2]"
   ]
  },
  {
   "cell_type": "code",
   "execution_count": 11,
   "metadata": {},
   "outputs": [
    {
     "data": {
      "text/plain": [
       "[\"[{'LEADERBOARD': {'Task': 'Self-Supervised Learning', 'Dataset': 'STL-10', 'Metric': 'Accuracy', 'Score': '84.9'}}, {'LEADERBOARD': {'Task': 'Self-Supervised Learning', 'Dataset': 'STL-10', 'Metric': 'Accuracy', 'Score': '83.6'}}, {'LEADERBOARD': {'Task': 'Self-Supervised Learning', 'Dataset': 'STL-10', 'Metric': 'Accuracy', 'Score': '82.2'}}, {'LEADERBOARD': {'Task': 'Self-Supervised Learning', 'Dataset': 'STL-10', 'Metric': 'Accuracy', 'Score': '81.4'}}, {'LEADERBOARD': {'Task': 'Self-Supervised Learning', 'Dataset': 'STL-10', 'Metric': 'Accuracy', 'Score': '79.4'}}, {'LEADERBOARD': {'Task': 'Self-Supervised Learning\",\n",
       " \"[{'LEADERBOARD': {'Task': 'Readability Assessment', 'Dataset': 'L2', 'Metric': 'PCC', 'Score': '0.938'}}, {'LEADERBOARD': {'Task': 'Readability Assessment', 'Dataset': 'L2', 'Metric': 'ACC', 'Score': '0.785'}}, {'LEADERBOARD': {'Task': 'Readability Assessment', 'Dataset': 'L2', 'Metric': 'PCC', 'Score': '0.924'}}, {'LEADERBOARD': {'Task': 'Readability Assessment', 'Dataset': 'L2', 'Metric': 'ACC', 'Score': '0.707'}}, {'LEADERBOARD': {'Task': 'Readability Assessment', 'Dataset': 'L2', 'Metric': 'PCC', 'Score': '0.899'}}, {'LEADERBOARD': {'Task': 'Readability Assessment', 'Dataset': 'L2', 'Metric': 'AC\"]"
      ]
     },
     "execution_count": 11,
     "metadata": {},
     "output_type": "execute_result"
    }
   ],
   "source": [
    "preds[:2]"
   ]
  },
  {
   "cell_type": "code",
   "execution_count": 19,
   "id": "a466da71-73f1-4578-bfaf-286accbce767",
   "metadata": {},
   "outputs": [
    {
     "name": "stdout",
     "output_type": "stream",
     "text": [
      "Test data ../data/LLLM_AUGMENTED_SUMMARIZED_WITH_ID_ZEROSHOT_TDMS_50_PERCENT/fold1\n",
      "Test ckpt checkpoint-35000\n",
      "Partial THRESHOLD 50\n",
      "MODE validation\n",
      "##################################################################################\n",
      "Results:\n",
      "general_accuracy: 84.41\n",
      "exact_recalls_task: 5.94\n",
      "exact_recalls_dataset: 3.39\n",
      "exact_recalls_metric: 3.62\n",
      "exact_recalls_Score: 0.8\n",
      "exact_recalls_overall: 3.44\n",
      "partial_recalls_task: 9.08\n",
      "partial_recalls_dataset: 5.87\n",
      "partial_recalls_metric: 5.92\n",
      "partial_recalls_Score: 0.96\n",
      "partial_recalls_overall: 5.46\n",
      "exact_precisions_task: 33.89\n",
      "exact_precisions_dataset: 19.68\n",
      "exact_precisions_metric: 20.63\n",
      "exact_precisions_Score: 4.58\n",
      "exact_precisions_overall: 19.7\n",
      "partial_precisions_task: 51.82\n",
      "partial_precisions_dataset: 34.13\n",
      "partial_precisions_metric: 33.8\n",
      "partial_precisions_Score: 5.51\n",
      "partial_precisions_overall: 31.31\n",
      "exact_f1s_task: 10.11\n",
      "exact_f1s_dataset: 5.78\n",
      "exact_f1s_metric: 6.15\n",
      "exact_f1s_Score: 1.37\n",
      "exact_f1s_overall: 5.85\n",
      "partial_f1s_task: 15.45\n",
      "partial_f1s_dataset: 10.02\n",
      "partial_f1s_metric: 10.08\n",
      "partial_f1s_Score: 1.64\n",
      "partial_f1s_overall: 9.3\n",
      "##################################################################################\n"
     ]
    }
   ],
   "source": [
    "results = Metrics.evaluate_property_wise_json_based(label_list=labels, prediction_list=preds)\n",
    "# results.update(Metrics.evaluate_rouge(label_list=labels, prediction_list=preds))\n",
    "\n",
    "print(f\"Test data {test_dataset}\")\n",
    "print(f\"Test ckpt {test_ckpt}\")\n",
    "print(f\"Partial THRESHOLD {THRESHOLD}\")\n",
    "print(f\"MODE {mode}\")\n",
    "\n",
    "print(\"##################################################################################\")\n",
    "print(f\"Results:\")\n",
    "for key, value in results.items():\n",
    "    print(f\"{key}: {value}\")\n",
    "print(\"##################################################################################\")"
   ]
  },
  {
   "cell_type": "code",
   "execution_count": null,
   "id": "24dca4de",
   "metadata": {},
   "outputs": [],
   "source": []
  },
  {
   "cell_type": "code",
   "execution_count": null,
   "metadata": {},
   "outputs": [],
   "source": []
  },
  {
   "cell_type": "code",
   "execution_count": null,
   "id": "62cfce60",
   "metadata": {},
   "outputs": [],
   "source": []
  },
  {
   "cell_type": "code",
   "execution_count": null,
   "metadata": {},
   "outputs": [],
   "source": []
  }
 ],
 "metadata": {
  "kernelspec": {
   "display_name": "Python 3 (ipykernel)",
   "language": "python",
   "name": "python3"
  },
  "language_info": {
   "codemirror_mode": {
    "name": "ipython",
    "version": 3
   },
   "file_extension": ".py",
   "mimetype": "text/x-python",
   "name": "python",
   "nbconvert_exporter": "python",
   "pygments_lexer": "ipython3",
   "version": "3.7.10"
  }
 },
 "nbformat": 4,
 "nbformat_minor": 5
}
