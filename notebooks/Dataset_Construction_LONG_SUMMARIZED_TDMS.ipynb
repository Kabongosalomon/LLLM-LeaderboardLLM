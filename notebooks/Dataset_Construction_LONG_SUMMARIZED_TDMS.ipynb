{
 "cells": [
  {
   "cell_type": "code",
   "execution_count": 1,
   "metadata": {
    "colab": {
     "base_uri": "https://localhost:8080/"
    },
    "id": "jMeOslZ9Qxlx",
    "outputId": "dc92a995-ef87-404f-e1da-2a9da7fbb6d6"
   },
   "outputs": [],
   "source": [
    "# !pip install --quiet  datasets #to access squad dataset\n",
    "# !pip install --quiet pyarrow   #to deal with parquet files for saving dataset if required\n",
    "# !pip install --quiet  tqdm     #for progress bars\n",
    "# !pip install --quiet transformers # for t5 model\n",
    "# !pip install --quiet tokenizers  #tokenizers from HuggingFace\n",
    "# !pip install --quiet sentencepiece #subword tokenizer used by T5\n",
    "# !pip install --quiet pytorch-lightning # pytorch wrapper \n",
    "# !pip install --quiet torchtext # text utilities"
   ]
  },
  {
   "cell_type": "markdown",
   "metadata": {
    "id": "SnkwYBQ6TWB4"
   },
   "source": [
    "# Fetching Datasets"
   ]
  },
  {
   "cell_type": "code",
   "execution_count": 2,
   "metadata": {
    "id": "QnjddTNlS6Dz"
   },
   "outputs": [],
   "source": [
    "#imports\n",
    "import pandas as pd\n",
    "import torch\n",
    "from tqdm import tqdm\n",
    "from datasets import DatasetDict, Dataset, load_from_disk\n",
    "# from torch.utils.data import Dataset, DataLoader\n",
    "from pprint import pprint\n",
    "import copy\n",
    "import numpy as np\n",
    "from collections import defaultdict\n",
    "import ipdb"
   ]
  },
  {
   "cell_type": "code",
   "execution_count": 3,
   "metadata": {
    "id": "INC4ECm5AFip"
   },
   "outputs": [
    {
     "data": {
      "text/plain": [
       "'cuda'"
      ]
     },
     "execution_count": 3,
     "metadata": {},
     "output_type": "execute_result"
    }
   ],
   "source": [
    "device  = 'cuda' if torch.cuda.is_available() else \"cpu\"\n",
    "device"
   ]
  },
  {
   "cell_type": "code",
   "execution_count": 4,
   "metadata": {},
   "outputs": [],
   "source": [
    "# path_to_source = f\"/nfs/home/kabenamualus/Research/task-dataset-metric-nli-extraction/data/pwc_ibm_full_5_10_10000_clone_latex_compare/10Neg10000unk/twofoldwithunk\"\n",
    "path_to_csv = f\"/nfs/home/kabenamualus/Research/task-dataset-metric-nli-extraction/data/pwc_ibm_150_5_10_10000/10Neg10000unk/twofoldwithunk\"\n",
    "\n",
    "fold1 = \"fold1\"\n",
    "train_f1_pd = pd.read_csv(f\"{path_to_csv}/{fold1}/train.tsv\", \n",
    "                    sep=\"\\t\", names=[\"label\", \"title\", \"TDM\", \"Context\"])\n",
    "dev_f1_pd = pd.read_csv(f\"{path_to_csv}/{fold1}/dev.tsv\", \n",
    "                    sep=\"\\t\", names=[\"label\", \"title\", \"TDM\", \"Context\"])\n",
    "\n",
    "fold2 = \"fold2\"\n",
    "train_f2_pd = pd.read_csv(f\"{path_to_csv}/{fold2}/train.tsv\", \n",
    "                    sep=\"\\t\", names=[\"label\", \"title\", \"TDM\", \"Context\"])\n",
    "dev_f2_pd = pd.read_csv(f\"{path_to_csv}/{fold2}/dev.tsv\", \n",
    "                    sep=\"\\t\", names=[\"label\", \"title\", \"TDM\", \"Context\"])"
   ]
  },
  {
   "cell_type": "code",
   "execution_count": 5,
   "metadata": {},
   "outputs": [
    {
     "data": {
      "text/html": [
       "<div>\n",
       "<style scoped>\n",
       "    .dataframe tbody tr th:only-of-type {\n",
       "        vertical-align: middle;\n",
       "    }\n",
       "\n",
       "    .dataframe tbody tr th {\n",
       "        vertical-align: top;\n",
       "    }\n",
       "\n",
       "    .dataframe thead th {\n",
       "        text-align: right;\n",
       "    }\n",
       "</style>\n",
       "<table border=\"1\" class=\"dataframe\">\n",
       "  <thead>\n",
       "    <tr style=\"text-align: right;\">\n",
       "      <th></th>\n",
       "      <th>title</th>\n",
       "      <th>Context</th>\n",
       "    </tr>\n",
       "  </thead>\n",
       "  <tbody>\n",
       "    <tr>\n",
       "      <th>count</th>\n",
       "      <td>4369</td>\n",
       "      <td>4369</td>\n",
       "    </tr>\n",
       "    <tr>\n",
       "      <th>unique</th>\n",
       "      <td>4369</td>\n",
       "      <td>4365</td>\n",
       "    </tr>\n",
       "    <tr>\n",
       "      <th>top</th>\n",
       "      <td>0912.4438.pdf</td>\n",
       "      <td>! !</td>\n",
       "    </tr>\n",
       "    <tr>\n",
       "      <th>freq</th>\n",
       "      <td>1</td>\n",
       "      <td>2</td>\n",
       "    </tr>\n",
       "  </tbody>\n",
       "</table>\n",
       "</div>"
      ],
      "text/plain": [
       "                title Context\n",
       "count            4369    4369\n",
       "unique           4369    4365\n",
       "top     0912.4438.pdf     ! !\n",
       "freq                1       2"
      ]
     },
     "execution_count": 5,
     "metadata": {},
     "output_type": "execute_result"
    }
   ],
   "source": [
    "# no_leaderboard_pd = pd.read_csv(f\"/nfs/home/kabenamualus/Research/T5-Leaderboard-QA/data_proccess/arxiv_no_leaderboard_links_pdf_short/DocTAET_full.tsv\", \n",
    "#                     sep=\"\\t\", names=[\"title\", \"Context\"])\n",
    "\n",
    "no_leaderboard_pd = pd.read_csv(f\"/nfs/home/kabenamualus/Research/T5-Leaderboard-QA/data_proccess/arxiv_no_leaderboard_links_pdf_short/DocTAET_150.tsv\", \n",
    "                    sep=\"\\t\", names=[\"title\", \"Context\"])\n",
    "\n",
    "no_leaderboard_pd.describe()"
   ]
  },
  {
   "cell_type": "code",
   "execution_count": 6,
   "metadata": {},
   "outputs": [
    {
     "data": {
      "text/html": [
       "<div>\n",
       "<style scoped>\n",
       "    .dataframe tbody tr th:only-of-type {\n",
       "        vertical-align: middle;\n",
       "    }\n",
       "\n",
       "    .dataframe tbody tr th {\n",
       "        vertical-align: top;\n",
       "    }\n",
       "\n",
       "    .dataframe thead th {\n",
       "        text-align: right;\n",
       "    }\n",
       "</style>\n",
       "<table border=\"1\" class=\"dataframe\">\n",
       "  <thead>\n",
       "    <tr style=\"text-align: right;\">\n",
       "      <th></th>\n",
       "      <th>Title</th>\n",
       "      <th>TDMSs</th>\n",
       "    </tr>\n",
       "  </thead>\n",
       "  <tbody>\n",
       "    <tr>\n",
       "      <th>0</th>\n",
       "      <td>1704.03549v4.pdf</td>\n",
       "      <td>Optical Character Recognition#FSNS - Test#Sequ...</td>\n",
       "    </tr>\n",
       "    <tr>\n",
       "      <th>1</th>\n",
       "      <td>1712.05404.pdf</td>\n",
       "      <td>Optical Character Recognition#FSNS - Test#Sequ...</td>\n",
       "    </tr>\n",
       "    <tr>\n",
       "      <th>2</th>\n",
       "      <td>1702.03970v1.pdf</td>\n",
       "      <td>Optical Character Recognition#FSNS - Test#Sequ...</td>\n",
       "    </tr>\n",
       "    <tr>\n",
       "      <th>3</th>\n",
       "      <td>2104.02324v1.pdf</td>\n",
       "      <td>Active Object Detection#COCO#AP#(7.3, 13.8, 16...</td>\n",
       "    </tr>\n",
       "    <tr>\n",
       "      <th>4</th>\n",
       "      <td>2008.12995v3.pdf</td>\n",
       "      <td>Handwriting Recognition#BanglaLekha Isolated D...</td>\n",
       "    </tr>\n",
       "    <tr>\n",
       "      <th>...</th>\n",
       "      <td>...</td>\n",
       "      <td>...</td>\n",
       "    </tr>\n",
       "    <tr>\n",
       "      <th>5724</th>\n",
       "      <td>2104.01378v1.pdf</td>\n",
       "      <td>Phone-level pronunciation scoring#speechocean7...</td>\n",
       "    </tr>\n",
       "    <tr>\n",
       "      <th>5725</th>\n",
       "      <td>2104.10283v1.pdf</td>\n",
       "      <td>Graph Question Answering#GQA#Accuracy#96.30</td>\n",
       "    </tr>\n",
       "    <tr>\n",
       "      <th>5726</th>\n",
       "      <td>2104.11980v1.pdf</td>\n",
       "      <td>Trajectory Modeling#NBA SportVU#1x1 NLL#0.472</td>\n",
       "    </tr>\n",
       "    <tr>\n",
       "      <th>5727</th>\n",
       "      <td>1704.00077v1.pdf</td>\n",
       "      <td>Video Segmentation#SegTrack v2#Accuracy#86.86</td>\n",
       "    </tr>\n",
       "    <tr>\n",
       "      <th>5728</th>\n",
       "      <td>2004.07922v1.pdf</td>\n",
       "      <td>Document Text Classification#Tobacco small-348...</td>\n",
       "    </tr>\n",
       "  </tbody>\n",
       "</table>\n",
       "<p>5729 rows × 2 columns</p>\n",
       "</div>"
      ],
      "text/plain": [
       "                 Title                                              TDMSs\n",
       "0     1704.03549v4.pdf  Optical Character Recognition#FSNS - Test#Sequ...\n",
       "1       1712.05404.pdf  Optical Character Recognition#FSNS - Test#Sequ...\n",
       "2     1702.03970v1.pdf  Optical Character Recognition#FSNS - Test#Sequ...\n",
       "3     2104.02324v1.pdf  Active Object Detection#COCO#AP#(7.3, 13.8, 16...\n",
       "4     2008.12995v3.pdf  Handwriting Recognition#BanglaLekha Isolated D...\n",
       "...                ...                                                ...\n",
       "5724  2104.01378v1.pdf  Phone-level pronunciation scoring#speechocean7...\n",
       "5725  2104.10283v1.pdf        Graph Question Answering#GQA#Accuracy#96.30\n",
       "5726  2104.11980v1.pdf      Trajectory Modeling#NBA SportVU#1x1 NLL#0.472\n",
       "5727  1704.00077v1.pdf      Video Segmentation#SegTrack v2#Accuracy#86.86\n",
       "5728  2004.07922v1.pdf  Document Text Classification#Tobacco small-348...\n",
       "\n",
       "[5729 rows x 2 columns]"
      ]
     },
     "execution_count": 6,
     "metadata": {},
     "output_type": "execute_result"
    }
   ],
   "source": [
    "resultsAnnotation_pd = pd.read_csv(f\"/nfs/home/kabenamualus/Research/task-dataset-metric-nli-extraction/data/annotations_final/resultsAnnotation.tsv\",\n",
    "                                   sep=\"\\t\", names=[\"Title\", \"TDMSs\"])\n",
    "resultsAnnotation_pd = resultsAnnotation_pd.fillna(\"NAN\")\n",
    "resultsAnnotation_pd"
   ]
  },
  {
   "cell_type": "code",
   "execution_count": 7,
   "metadata": {},
   "outputs": [
    {
     "name": "stderr",
     "output_type": "stream",
     "text": [
      "100%|██████████| 5729/5729 [00:00<00:00, 30819.43it/s]\n"
     ]
    }
   ],
   "source": [
    "\"\"\"\n",
    "This will take care of papers with more than one learderboard \n",
    "\"\"\"\n",
    "records = resultsAnnotation_pd.to_dict(\"records\")\n",
    "\n",
    "title_to_tdms_dict = defaultdict(\n",
    "    lambda : \n",
    "        list()\n",
    "    )\n",
    "\n",
    "for i, row in tqdm(enumerate(records), total = len(records)):\n",
    "    if row['TDMSs'] == 'NAN':\n",
    "        continue\n",
    "\n",
    "    for tdms in row['TDMSs'].split(\"$\"):\n",
    "        if len(tdms.split(\"#\")) != 4:\n",
    "            # ipdb.set_trace()\n",
    "            continue \n",
    "        t, d, m, s = tdms.split(\"#\")\n",
    "        title_to_tdms_dict[row['Title']].append(\n",
    "            {\n",
    "                \"LEADERBOARD\": {\n",
    "                    \"Task\": t,\n",
    "                    \"Dataset\": d,\n",
    "                    \"Metric\": m,\n",
    "                    \"Score\": s,\n",
    "                }\n",
    "            }            \n",
    "        )"
   ]
  },
  {
   "cell_type": "code",
   "execution_count": 8,
   "metadata": {},
   "outputs": [
    {
     "data": {
      "text/plain": [
       "5725"
      ]
     },
     "execution_count": 8,
     "metadata": {},
     "output_type": "execute_result"
    }
   ],
   "source": [
    "len(title_to_tdms_dict)"
   ]
  },
  {
   "cell_type": "code",
   "execution_count": 9,
   "metadata": {},
   "outputs": [],
   "source": [
    "# title_to_tdms_dict"
   ]
  },
  {
   "cell_type": "code",
   "execution_count": 10,
   "metadata": {},
   "outputs": [
    {
     "name": "stdout",
     "output_type": "stream",
     "text": [
      "train_f1_pd\n"
     ]
    },
    {
     "data": {
      "text/html": [
       "<div>\n",
       "<style scoped>\n",
       "    .dataframe tbody tr th:only-of-type {\n",
       "        vertical-align: middle;\n",
       "    }\n",
       "\n",
       "    .dataframe tbody tr th {\n",
       "        vertical-align: top;\n",
       "    }\n",
       "\n",
       "    .dataframe thead th {\n",
       "        text-align: right;\n",
       "    }\n",
       "</style>\n",
       "<table border=\"1\" class=\"dataframe\">\n",
       "  <thead>\n",
       "    <tr style=\"text-align: right;\">\n",
       "      <th></th>\n",
       "      <th>label</th>\n",
       "      <th>title</th>\n",
       "      <th>TDM</th>\n",
       "      <th>Context</th>\n",
       "    </tr>\n",
       "  </thead>\n",
       "  <tbody>\n",
       "    <tr>\n",
       "      <th>count</th>\n",
       "      <td>12613</td>\n",
       "      <td>12613</td>\n",
       "      <td>12613</td>\n",
       "      <td>12613</td>\n",
       "    </tr>\n",
       "    <tr>\n",
       "      <th>unique</th>\n",
       "      <td>1</td>\n",
       "      <td>3753</td>\n",
       "      <td>1792</td>\n",
       "      <td>3747</td>\n",
       "    </tr>\n",
       "    <tr>\n",
       "      <th>top</th>\n",
       "      <td>True</td>\n",
       "      <td>1803.00933v1.pdf</td>\n",
       "      <td>unknown</td>\n",
       "      <td>IMPALA: Scalable Distributed Deep-RL with Impo...</td>\n",
       "    </tr>\n",
       "    <tr>\n",
       "      <th>freq</th>\n",
       "      <td>12613</td>\n",
       "      <td>58</td>\n",
       "      <td>923</td>\n",
       "      <td>58</td>\n",
       "    </tr>\n",
       "  </tbody>\n",
       "</table>\n",
       "</div>"
      ],
      "text/plain": [
       "        label             title      TDM  \\\n",
       "count   12613             12613    12613   \n",
       "unique      1              3753     1792   \n",
       "top      True  1803.00933v1.pdf  unknown   \n",
       "freq    12613                58      923   \n",
       "\n",
       "                                                  Context  \n",
       "count                                               12613  \n",
       "unique                                               3747  \n",
       "top     IMPALA: Scalable Distributed Deep-RL with Impo...  \n",
       "freq                                                   58  "
      ]
     },
     "metadata": {},
     "output_type": "display_data"
    },
    {
     "name": "stdout",
     "output_type": "stream",
     "text": [
      "dev_f1_pd\n"
     ]
    },
    {
     "data": {
      "text/html": [
       "<div>\n",
       "<style scoped>\n",
       "    .dataframe tbody tr th:only-of-type {\n",
       "        vertical-align: middle;\n",
       "    }\n",
       "\n",
       "    .dataframe tbody tr th {\n",
       "        vertical-align: top;\n",
       "    }\n",
       "\n",
       "    .dataframe thead th {\n",
       "        text-align: right;\n",
       "    }\n",
       "</style>\n",
       "<table border=\"1\" class=\"dataframe\">\n",
       "  <thead>\n",
       "    <tr style=\"text-align: right;\">\n",
       "      <th></th>\n",
       "      <th>label</th>\n",
       "      <th>title</th>\n",
       "      <th>TDM</th>\n",
       "      <th>Context</th>\n",
       "    </tr>\n",
       "  </thead>\n",
       "  <tbody>\n",
       "    <tr>\n",
       "      <th>count</th>\n",
       "      <td>5472</td>\n",
       "      <td>5472</td>\n",
       "      <td>5472</td>\n",
       "      <td>5472</td>\n",
       "    </tr>\n",
       "    <tr>\n",
       "      <th>unique</th>\n",
       "      <td>1</td>\n",
       "      <td>1608</td>\n",
       "      <td>1557</td>\n",
       "      <td>1606</td>\n",
       "    </tr>\n",
       "    <tr>\n",
       "      <th>top</th>\n",
       "      <td>True</td>\n",
       "      <td>1911.08265v2.pdf</td>\n",
       "      <td>unknown</td>\n",
       "      <td>Mastering Atari, Go, Chess and Shogi by Planni...</td>\n",
       "    </tr>\n",
       "    <tr>\n",
       "      <th>freq</th>\n",
       "      <td>5472</td>\n",
       "      <td>58</td>\n",
       "      <td>378</td>\n",
       "      <td>58</td>\n",
       "    </tr>\n",
       "  </tbody>\n",
       "</table>\n",
       "</div>"
      ],
      "text/plain": [
       "       label             title      TDM  \\\n",
       "count   5472              5472     5472   \n",
       "unique     1              1608     1557   \n",
       "top     True  1911.08265v2.pdf  unknown   \n",
       "freq    5472                58      378   \n",
       "\n",
       "                                                  Context  \n",
       "count                                                5472  \n",
       "unique                                               1606  \n",
       "top     Mastering Atari, Go, Chess and Shogi by Planni...  \n",
       "freq                                                   58  "
      ]
     },
     "metadata": {},
     "output_type": "display_data"
    },
    {
     "name": "stdout",
     "output_type": "stream",
     "text": [
      "train_f2_pd\n"
     ]
    },
    {
     "data": {
      "text/html": [
       "<div>\n",
       "<style scoped>\n",
       "    .dataframe tbody tr th:only-of-type {\n",
       "        vertical-align: middle;\n",
       "    }\n",
       "\n",
       "    .dataframe tbody tr th {\n",
       "        vertical-align: top;\n",
       "    }\n",
       "\n",
       "    .dataframe thead th {\n",
       "        text-align: right;\n",
       "    }\n",
       "</style>\n",
       "<table border=\"1\" class=\"dataframe\">\n",
       "  <thead>\n",
       "    <tr style=\"text-align: right;\">\n",
       "      <th></th>\n",
       "      <th>label</th>\n",
       "      <th>title</th>\n",
       "      <th>TDM</th>\n",
       "      <th>Context</th>\n",
       "    </tr>\n",
       "  </thead>\n",
       "  <tbody>\n",
       "    <tr>\n",
       "      <th>count</th>\n",
       "      <td>12677</td>\n",
       "      <td>12677</td>\n",
       "      <td>12677</td>\n",
       "      <td>12677</td>\n",
       "    </tr>\n",
       "    <tr>\n",
       "      <th>unique</th>\n",
       "      <td>1</td>\n",
       "      <td>3753</td>\n",
       "      <td>1821</td>\n",
       "      <td>3749</td>\n",
       "    </tr>\n",
       "    <tr>\n",
       "      <th>top</th>\n",
       "      <td>True</td>\n",
       "      <td>1911.08265v2.pdf</td>\n",
       "      <td>unknown</td>\n",
       "      <td>Mastering Atari, Go, Chess and Shogi by Planni...</td>\n",
       "    </tr>\n",
       "    <tr>\n",
       "      <th>freq</th>\n",
       "      <td>12677</td>\n",
       "      <td>58</td>\n",
       "      <td>920</td>\n",
       "      <td>58</td>\n",
       "    </tr>\n",
       "  </tbody>\n",
       "</table>\n",
       "</div>"
      ],
      "text/plain": [
       "        label             title      TDM  \\\n",
       "count   12677             12677    12677   \n",
       "unique      1              3753     1821   \n",
       "top      True  1911.08265v2.pdf  unknown   \n",
       "freq    12677                58      920   \n",
       "\n",
       "                                                  Context  \n",
       "count                                               12677  \n",
       "unique                                               3749  \n",
       "top     Mastering Atari, Go, Chess and Shogi by Planni...  \n",
       "freq                                                   58  "
      ]
     },
     "metadata": {},
     "output_type": "display_data"
    },
    {
     "name": "stdout",
     "output_type": "stream",
     "text": [
      "dev_f2_pd\n"
     ]
    },
    {
     "data": {
      "text/html": [
       "<div>\n",
       "<style scoped>\n",
       "    .dataframe tbody tr th:only-of-type {\n",
       "        vertical-align: middle;\n",
       "    }\n",
       "\n",
       "    .dataframe tbody tr th {\n",
       "        vertical-align: top;\n",
       "    }\n",
       "\n",
       "    .dataframe thead th {\n",
       "        text-align: right;\n",
       "    }\n",
       "</style>\n",
       "<table border=\"1\" class=\"dataframe\">\n",
       "  <thead>\n",
       "    <tr style=\"text-align: right;\">\n",
       "      <th></th>\n",
       "      <th>label</th>\n",
       "      <th>title</th>\n",
       "      <th>TDM</th>\n",
       "      <th>Context</th>\n",
       "    </tr>\n",
       "  </thead>\n",
       "  <tbody>\n",
       "    <tr>\n",
       "      <th>count</th>\n",
       "      <td>5408</td>\n",
       "      <td>5408</td>\n",
       "      <td>5408</td>\n",
       "      <td>5408</td>\n",
       "    </tr>\n",
       "    <tr>\n",
       "      <th>unique</th>\n",
       "      <td>1</td>\n",
       "      <td>1608</td>\n",
       "      <td>1542</td>\n",
       "      <td>1608</td>\n",
       "    </tr>\n",
       "    <tr>\n",
       "      <th>top</th>\n",
       "      <td>True</td>\n",
       "      <td>1802.01561v3.pdf</td>\n",
       "      <td>unknown</td>\n",
       "      <td>IMPALA: Scalable Distributed Deep-RL with Impo...</td>\n",
       "    </tr>\n",
       "    <tr>\n",
       "      <th>freq</th>\n",
       "      <td>5408</td>\n",
       "      <td>58</td>\n",
       "      <td>381</td>\n",
       "      <td>58</td>\n",
       "    </tr>\n",
       "  </tbody>\n",
       "</table>\n",
       "</div>"
      ],
      "text/plain": [
       "       label             title      TDM  \\\n",
       "count   5408              5408     5408   \n",
       "unique     1              1608     1542   \n",
       "top     True  1802.01561v3.pdf  unknown   \n",
       "freq    5408                58      381   \n",
       "\n",
       "                                                  Context  \n",
       "count                                                5408  \n",
       "unique                                               1608  \n",
       "top     IMPALA: Scalable Distributed Deep-RL with Impo...  \n",
       "freq                                                   58  "
      ]
     },
     "metadata": {},
     "output_type": "display_data"
    }
   ],
   "source": [
    "# No need for negative instances, but will still have 'duplicate' for paper with more than one leaderboard\n",
    "train_f1_pd = train_f1_pd[train_f1_pd.label==True]\n",
    "print(\"train_f1_pd\")\n",
    "display(train_f1_pd.describe())\n",
    "\n",
    "dev_f1_pd = dev_f1_pd[dev_f1_pd.label==True]\n",
    "print(\"dev_f1_pd\")\n",
    "display(dev_f1_pd.describe())\n",
    "\n",
    "train_f2_pd = train_f2_pd[train_f2_pd.label==True]\n",
    "print(\"train_f2_pd\")\n",
    "display(train_f2_pd.describe())\n",
    "\n",
    "dev_f2_pd = dev_f2_pd[dev_f2_pd.label==True]\n",
    "print(\"dev_f2_pd\")\n",
    "display(dev_f2_pd.describe())"
   ]
  },
  {
   "cell_type": "code",
   "execution_count": 11,
   "metadata": {},
   "outputs": [],
   "source": [
    "# len(train_pd.title.unique())\n",
    "records_train_f1 = train_f1_pd.to_dict(\"records\")\n",
    "records_dev_f1 = dev_f1_pd.to_dict(\"records\")\n",
    "records_train_f2 = train_f2_pd.to_dict(\"records\")\n",
    "records_dev_f2 = dev_f2_pd.to_dict(\"records\")"
   ]
  },
  {
   "cell_type": "code",
   "execution_count": 12,
   "metadata": {},
   "outputs": [
    {
     "data": {
      "text/plain": [
       "'1707.03497v2'"
      ]
     },
     "execution_count": 12,
     "metadata": {},
     "output_type": "execute_result"
    }
   ],
   "source": [
    "title_id = records_train_f1[0][\"title\"].split(\".pdf\")[0]\n",
    "title_id"
   ]
  },
  {
   "cell_type": "code",
   "execution_count": null,
   "metadata": {},
   "outputs": [],
   "source": []
  },
  {
   "cell_type": "code",
   "execution_count": 13,
   "metadata": {},
   "outputs": [
    {
     "data": {
      "text/plain": [
       "2"
      ]
     },
     "execution_count": 13,
     "metadata": {},
     "output_type": "execute_result"
    }
   ],
   "source": [
    "with open(f'/nfs/home/kabenamualus/Research/LLLM-LeaderboardLLM/data_proccess/arxiv_no_leaderboard_txt_summarised/0704.0062_summarised.txt', 'r') as file:\n",
    "    # Read the file\n",
    "    data = file.read()\n",
    "\n",
    "len(data.split())\n",
    "\n",
    "# data"
   ]
  },
  {
   "cell_type": "code",
   "execution_count": 14,
   "metadata": {},
   "outputs": [
    {
     "name": "stderr",
     "output_type": "stream",
     "text": [
      "100%|██████████| 12613/12613 [00:00<00:00, 17311.10it/s]\n"
     ]
    },
    {
     "name": "stdout",
     "output_type": "stream",
     "text": [
      "train_f1 missed long context: 4063/12613\n",
      "\n"
     ]
    },
    {
     "name": "stderr",
     "output_type": "stream",
     "text": [
      "100%|██████████| 5472/5472 [00:00<00:00, 6470.28it/s]\n"
     ]
    },
    {
     "name": "stdout",
     "output_type": "stream",
     "text": [
      "dev_f1 missed long context: 1886/5472\n",
      "\n"
     ]
    },
    {
     "name": "stderr",
     "output_type": "stream",
     "text": [
      "100%|██████████| 12677/12677 [00:01<00:00, 8296.62it/s]\n"
     ]
    },
    {
     "name": "stdout",
     "output_type": "stream",
     "text": [
      "train_f2 missed long context: 4142/12677\n",
      "\n"
     ]
    },
    {
     "name": "stderr",
     "output_type": "stream",
     "text": [
      "100%|██████████| 5408/5408 [00:00<00:00, 18321.46it/s]"
     ]
    },
    {
     "name": "stdout",
     "output_type": "stream",
     "text": [
      "train_f2 missed long context: 1807/5408\n"
     ]
    },
    {
     "name": "stderr",
     "output_type": "stream",
     "text": [
      "\n"
     ]
    }
   ],
   "source": [
    "# title_to_tdms_dict = defaultdict(lambda : defaultdict(lambda : str(\"| \")))\n",
    "title_to_content = {\n",
    "    \"train_f1\":{},\n",
    "    \"dev_f1\":{},\n",
    "    \"train_f2\":{},\n",
    "    \"dev_f2\":{},\n",
    "    }\n",
    "\n",
    "# arxiv_leaderboard_full_txt = \"/nfs/home/kabenamualus/Research/LLLM-LeaderboardLLM/data_proccess/arxiv_leaderboard_full_txt\"\n",
    "arxiv_leaderboard_full_txt = \"/nfs/home/kabenamualus/Research/LLLM-LeaderboardLLM/data_proccess/arxiv_txt_summarised\"\n",
    "\n",
    "missed = 0\n",
    "for i, row in tqdm(enumerate(records_train_f1), total = len(records_train_f1)):\n",
    "    title_id = row['title'].split(\".pdf\")[0]\n",
    "    \n",
    "    if row['title'] in title_to_content[\"train_f1\"]:\n",
    "        # ipdb.set_trace()\n",
    "        continue \n",
    "    else:\n",
    "        try:\n",
    "            with open(f'{arxiv_leaderboard_full_txt}/{title_id}_summarised.txt', 'r') as file:\n",
    "                # Read the file\n",
    "                data = file.read()\n",
    "\n",
    "        except Exception as e:\n",
    "            # Code that runs if the exception occurs\n",
    "            # except Exception as e:\n",
    "            # print(f\"Error on file {row['title']}\")\n",
    "            data = \"\" \n",
    "            missed += 1\n",
    "            # ipdb.set_trace()\n",
    "            continue\n",
    "\n",
    "        if len(data.split()) < 10:\n",
    "            # ipdb.set_trace()\n",
    "            continue\n",
    "        else:\n",
    "            title_to_content[\"train_f1\"][row['title']] = data\n",
    "            \n",
    "        # title_to_content[\"train_f1\"][row['title']] = row['Context'] if len(data.split()) < 100 else data\n",
    "        # title_to_content[\"train_f1\"][row['title']] = row['Context']\n",
    "\n",
    "print(f\"train_f1 missed long context: {missed}/{len(records_train_f1)}\\n\")\n",
    "\n",
    "missed = 0\n",
    "for i, row in tqdm(enumerate(records_dev_f1), total = len(records_dev_f1)):\n",
    "    title_id = row['title'].split(\".pdf\")[0]\n",
    "    if row['title'] in title_to_content[\"dev_f1\"]:\n",
    "        continue \n",
    "    else:\n",
    "        try:\n",
    "            with open(f'{arxiv_leaderboard_full_txt}/{title_id}_summarised.txt', 'r') as file:\n",
    "                # Read the file\n",
    "                data = file.read()\n",
    "                \n",
    "        except Exception as e:\n",
    "            # except Exception as e:\n",
    "            # print(f\"Error on file {row['title']}\")\n",
    "            data = \"\"\n",
    "            missed += 1\n",
    "            continue \n",
    "\n",
    "        if len(data.split()) < 10:\n",
    "            continue\n",
    "        else:\n",
    "            title_to_content[\"dev_f1\"][row['title']] = data\n",
    "            \n",
    "        # title_to_content[\"dev_f1\"][row['title']] = row['Context'] if len(data.split()) < 100 else data\n",
    "\n",
    "print(f\"dev_f1 missed long context: {missed}/{len(records_dev_f1)}\\n\")       \n",
    "        \n",
    "missed = 0        \n",
    "for i, row in tqdm(enumerate(records_train_f2), total = len(records_train_f2)):\n",
    "    title_id = row['title'].split(\".pdf\")[0]\n",
    "    if row['title'] in title_to_content[\"train_f2\"]:\n",
    "        continue \n",
    "    else:\n",
    "        try:\n",
    "            with open(f'{arxiv_leaderboard_full_txt}/{title_id}_summarised.txt', 'r') as file:\n",
    "                # Read the file\n",
    "                data = file.read()\n",
    "                \n",
    "        except Exception as e:\n",
    "            # except Exception as e:\n",
    "            # print(f\"Error on file {row['title']}\")\n",
    "            data = \"\"\n",
    "            missed += 1\n",
    "            continue\n",
    "\n",
    "        if len(data.split()) < 10:\n",
    "            continue\n",
    "        else:\n",
    "            title_to_content[\"train_f2\"][row['title']] = data\n",
    "            \n",
    "        # title_to_content[\"train_f2\"][row['title']] = row['Context'] if len(data.split()) < 100 else data\n",
    "           \n",
    "print(f\"train_f2 missed long context: {missed}/{len(records_train_f2)}\\n\")       \n",
    "\n",
    "missed = 0\n",
    "for i, row in tqdm(enumerate(records_dev_f2), total = len(records_dev_f2)):\n",
    "    title_id = row['title'].split(\".pdf\")[0]\n",
    "    if row['title'] in title_to_content[\"dev_f2\"]:\n",
    "        continue \n",
    "    else:\n",
    "        try:\n",
    "            with open(f'{arxiv_leaderboard_full_txt}/{title_id}_summarised.txt', 'r') as file:\n",
    "                # Read the file\n",
    "                data = file.read()\n",
    "                \n",
    "        except Exception as e:\n",
    "            # except Exception as e:\n",
    "            # print(f\"Error on file {row['title']}\")\n",
    "            data = \"\"\n",
    "            missed += 1\n",
    "            continue\n",
    "\n",
    "        if len(data.split()) < 10:\n",
    "            continue\n",
    "        else:\n",
    "            title_to_content[\"dev_f2\"][row['title']] = data\n",
    "            \n",
    "        # title_to_content[\"dev_f2\"][row['title']] = row['Context'] if len(data.split()) < 100 else data\n",
    "        # title_to_content[\"dev_f2\"][row['title']] = row['Context']\n",
    "\n",
    "print(f\"train_f2 missed long context: {missed}/{len(records_dev_f2)}\")       "
   ]
  },
  {
   "cell_type": "code",
   "execution_count": 15,
   "metadata": {},
   "outputs": [
    {
     "data": {
      "text/plain": [
       "2514"
      ]
     },
     "execution_count": 15,
     "metadata": {},
     "output_type": "execute_result"
    }
   ],
   "source": [
    "len(title_to_content[\"train_f1\"])"
   ]
  },
  {
   "cell_type": "code",
   "execution_count": 16,
   "metadata": {},
   "outputs": [
    {
     "data": {
      "text/plain": [
       "1057"
      ]
     },
     "execution_count": 16,
     "metadata": {},
     "output_type": "execute_result"
    }
   ],
   "source": [
    "len(title_to_content[\"dev_f1\"])"
   ]
  },
  {
   "cell_type": "code",
   "execution_count": 17,
   "metadata": {},
   "outputs": [
    {
     "name": "stdout",
     "output_type": "stream",
     "text": [
      "no_leaderboard_pourcentage_train_f1: 562\n",
      "no_leaderboard_pourcentage_dev_f1: 241\n",
      "no_leaderboard_pourcentage_train_f2: 562\n",
      "no_leaderboard_pourcentage_dev_f2: 241\n"
     ]
    }
   ],
   "source": [
    "ratio = 15/100\n",
    "no_leaderboard_pourcentage_train_f1 = int(len(train_f1_pd.title.unique())*ratio)\n",
    "no_leaderboard_pourcentage_dev_f1 = int(len(dev_f1_pd.title.unique())*ratio)\n",
    "no_leaderboard_pourcentage_train_f2 = int(len(train_f2_pd.title.unique())*ratio)\n",
    "no_leaderboard_pourcentage_dev_f2 = int(len(dev_f2_pd.title.unique())*ratio)\n",
    "\n",
    "print(f\"no_leaderboard_pourcentage_train_f1: {no_leaderboard_pourcentage_train_f1}\")\n",
    "print(f\"no_leaderboard_pourcentage_dev_f1: {no_leaderboard_pourcentage_dev_f1}\")\n",
    "print(f\"no_leaderboard_pourcentage_train_f2: {no_leaderboard_pourcentage_train_f2}\")\n",
    "print(f\"no_leaderboard_pourcentage_dev_f2: {no_leaderboard_pourcentage_dev_f2}\")"
   ]
  },
  {
   "cell_type": "code",
   "execution_count": 18,
   "metadata": {},
   "outputs": [],
   "source": [
    "# no_leaderboard_pourcentage = int(len(train_pd.title.unique())*50/100)\n",
    "# no_leaderboard_pourcentage"
   ]
  },
  {
   "cell_type": "code",
   "execution_count": 19,
   "metadata": {},
   "outputs": [
    {
     "name": "stderr",
     "output_type": "stream",
     "text": [
      " 34%|███▍      | 1485/4369 [00:01<00:02, 1367.36it/s]\n"
     ]
    },
    {
     "name": "stdout",
     "output_type": "stream",
     "text": [
      "train_f1 missed long context: 99/12613\n",
      "\n"
     ]
    },
    {
     "name": "stderr",
     "output_type": "stream",
     "text": [
      " 49%|████▊     | 2121/4369 [00:01<00:01, 2063.14it/s]\n"
     ]
    },
    {
     "name": "stdout",
     "output_type": "stream",
     "text": [
      "dev_f1 missed long context: 144/5472\n",
      "\n"
     ]
    },
    {
     "name": "stderr",
     "output_type": "stream",
     "text": [
      " 79%|███████▉  | 3468/4369 [00:01<00:00, 1856.64it/s]\n"
     ]
    },
    {
     "name": "stdout",
     "output_type": "stream",
     "text": [
      "train_f2 missed long context: 222/12677\n",
      "\n"
     ]
    },
    {
     "name": "stderr",
     "output_type": "stream",
     "text": [
      " 92%|█████████▏| 4004/4369 [00:01<00:00, 2267.51it/s]"
     ]
    },
    {
     "name": "stdout",
     "output_type": "stream",
     "text": [
      "train_f2 missed long context: 257/5408\n"
     ]
    },
    {
     "name": "stderr",
     "output_type": "stream",
     "text": [
      "\n"
     ]
    }
   ],
   "source": [
    "records = no_leaderboard_pd.to_dict(\"records\")\n",
    "\n",
    "# For train only F1\n",
    "# already_seen = no_lead_papers_train_f1\n",
    "\n",
    "already_seen = []\n",
    "no_lead_papers_train_f1 = []\n",
    "i = 0\n",
    "# count_i = 0\n",
    "# arxiv_no_leaderboard_full_txt = \"/nfs/home/kabenamualus/Research/LLLM-LeaderboardLLM/data_proccess/arxiv_no_leaderboard_full_txt\"\n",
    "arxiv_no_leaderboard_full_txt = \"/nfs/home/kabenamualus/Research/LLLM-LeaderboardLLM/data_proccess/arxiv_no_leaderboard_txt_summarised\"\n",
    "\n",
    "missed = 0\n",
    "for _, row in tqdm(enumerate(records), total = len(records)):\n",
    "    title_id = row['title'].split(\".pdf\")[0]\n",
    "    if row['title'] in already_seen:\n",
    "        continue \n",
    "        \n",
    "    if i >= no_leaderboard_pourcentage_train_f1:\n",
    "        break \n",
    "    \n",
    "    try:\n",
    "        with open(f'{arxiv_no_leaderboard_full_txt}/{title_id}_summarised.txt', 'r') as file:\n",
    "            # Read the file\n",
    "            data = file.read()\n",
    "            \n",
    "    except Exception as e:\n",
    "        # print(f\"Error on file {row['title']}\")\n",
    "        data = \"\"\n",
    "        missed += 1\n",
    "        continue\n",
    "\n",
    "    if len(data.split()) < 10:\n",
    "        continue\n",
    "    else:\n",
    "        # count_i += 1\n",
    "        title_to_content[\"train_f1\"][row['title']] = data\n",
    "        no_lead_papers_train_f1.append(row['title'])\n",
    "        already_seen.append(row['title'])\n",
    "        i += 1\n",
    "        \n",
    "    # title_to_content[\"train_f1\"][row['title']] = row['Context'] if len(data.split()) < 100 else data\n",
    "    # no_lead_papers_train_f1.append(row['title'])\n",
    "    # i += 1\n",
    "\n",
    "print(f\"train_f1 missed long context: {missed}/{len(records_train_f1)}\\n\")\n",
    "\n",
    "    \n",
    "# no_lead_papers_dev_f1 = no_lead_papers_train_f1\n",
    "# already_seen = no_lead_papers_dev_f1\n",
    "no_lead_papers_dev_f1 = []\n",
    "i = 0\n",
    "missed = 0\n",
    "for _, row in tqdm(enumerate(records), total = len(records)):\n",
    "    title_id = row['title'].split(\".pdf\")[0]\n",
    "    if row['title'] in already_seen:\n",
    "        continue \n",
    "        \n",
    "    if i >= no_leaderboard_pourcentage_dev_f1:\n",
    "        break \n",
    "     \n",
    "    try:\n",
    "        with open(f'{arxiv_no_leaderboard_full_txt}/{title_id}_summarised.txt', 'r') as file:\n",
    "            # Read the file\n",
    "            data = file.read()\n",
    "            \n",
    "    except Exception as e:\n",
    "        # print(f\"Error on file {row['title']}\")\n",
    "        data = \"\"\n",
    "        missed += 1\n",
    "        continue\n",
    "\n",
    "    if len(data.split()) < 10:\n",
    "        continue\n",
    "    else:\n",
    "        title_to_content[\"dev_f1\"][row['title']] = data\n",
    "        no_lead_papers_dev_f1.append(row['title'])\n",
    "        already_seen.append(row['title'])\n",
    "        i += 1\n",
    "           \n",
    "    # title_to_content[\"dev_f1\"][row['title']] = row['Context'] if len(data.split()) < 100 else data\n",
    "    # no_lead_papers_dev_f1.append(row['title'])  \n",
    "    # i += 1\n",
    "\n",
    "print(f\"dev_f1 missed long context: {missed}/{len(records_dev_f1)}\\n\")       \n",
    "\n",
    "    \n",
    "# For train only F2\n",
    "# no_lead_papers_train_f2 = []\n",
    "\n",
    "# already_seen = no_lead_papers_train_f2\n",
    "no_lead_papers_train_f2 = []\n",
    "j = 0\n",
    "missed = 0\n",
    "for _, row in tqdm(enumerate(records), total = len(records)):\n",
    "    title_id = row['title'].split(\".pdf\")[0]\n",
    "    if row['title'] in already_seen:\n",
    "        continue \n",
    "        \n",
    "    if j >= no_leaderboard_pourcentage_train_f2:\n",
    "        break \n",
    "    \n",
    "    try:\n",
    "        with open(f'{arxiv_no_leaderboard_full_txt}/{title_id}_summarised.txt', 'r') as file:\n",
    "            # Read the file\n",
    "            data = file.read()\n",
    "            \n",
    "    except Exception as e:\n",
    "        # print(f\"Error on file {row['title']}\")\n",
    "        data = \"\"\n",
    "        missed += 1\n",
    "        continue\n",
    "\n",
    "    if len(data.split()) < 10:\n",
    "        continue\n",
    "    else:\n",
    "        title_to_content[\"train_f2\"][row['title']] = data\n",
    "        no_lead_papers_train_f2.append(row['title'])\n",
    "        already_seen.append(row['title'])\n",
    "        j += 1\n",
    "        \n",
    "    # title_to_content[\"train_f2\"][row['title']] = row['Context'] if len(data.split()) < 100 else data\n",
    "    # no_lead_papers_train_f2.append(row['title'])\n",
    "    # j += 1\n",
    "\n",
    "print(f\"train_f2 missed long context: {missed}/{len(records_train_f2)}\\n\")       \n",
    "    \n",
    "# no_lead_papers_dev_f2 = no_lead_papers_train_f2\n",
    "# already_seen = no_lead_papers_dev_f2\n",
    "no_lead_papers_dev_f2 = []\n",
    "j = 0\n",
    "missed = 0\n",
    "for _, row in tqdm(enumerate(records), total = len(records)):\n",
    "    title_id = row['title'].split(\".pdf\")[0]\n",
    "    if row['title'] in already_seen:\n",
    "        continue \n",
    "        \n",
    "    if j >= no_leaderboard_pourcentage_dev_f2:\n",
    "        break \n",
    "        \n",
    "    try:\n",
    "        with open(f'{arxiv_no_leaderboard_full_txt}/{title_id}_summarised.txt', 'r') as file:\n",
    "            # Read the file\n",
    "            data = file.read()\n",
    "            \n",
    "    except Exception as e:\n",
    "        # print(f\"Error on file {row['title']}\")\n",
    "        data = \"\"\n",
    "        missed += 1\n",
    "        continue\n",
    "\n",
    "    if len(data.split()) < 10:\n",
    "        continue\n",
    "    else:\n",
    "        title_to_content[\"dev_f2\"][row['title']] = data\n",
    "        no_lead_papers_dev_f2.append(row['title'])\n",
    "        already_seen.append(row['title'])\n",
    "        j += 1\n",
    "        \n",
    "    # title_to_content[\"dev_f2\"][row['title']] = row['Context'] if len(data.split()) < 100 else data\n",
    "    # no_lead_papers_dev_f2.append(row['title'])\n",
    "    # j += 1\n",
    "\n",
    "print(f\"train_f2 missed long context: {missed}/{len(records_dev_f2)}\")       "
   ]
  },
  {
   "cell_type": "code",
   "execution_count": 20,
   "metadata": {},
   "outputs": [
    {
     "data": {
      "text/plain": [
       "['0912.4438.pdf',\n",
       " '0801.3581.pdf',\n",
       " '0706.0014.pdf',\n",
       " '0909.4094.pdf',\n",
       " '0812.0581.pdf']"
      ]
     },
     "execution_count": 20,
     "metadata": {},
     "output_type": "execute_result"
    }
   ],
   "source": [
    "no_lead_papers_train_f1[:5]"
   ]
  },
  {
   "cell_type": "code",
   "execution_count": 21,
   "metadata": {},
   "outputs": [
    {
     "data": {
      "text/plain": [
       "['0907.2076.pdf',\n",
       " '0707.1515.pdf',\n",
       " '0905.3432.pdf',\n",
       " '0901.4747.pdf',\n",
       " '0806.0081.pdf']"
      ]
     },
     "execution_count": 21,
     "metadata": {},
     "output_type": "execute_result"
    }
   ],
   "source": [
    "no_lead_papers_train_f2[:5]"
   ]
  },
  {
   "cell_type": "code",
   "execution_count": 22,
   "metadata": {},
   "outputs": [
    {
     "data": {
      "text/plain": [
       "['0908.1805.pdf',\n",
       " '1003.5783.pdf',\n",
       " '0901.0911.pdf',\n",
       " '0812.2423.pdf',\n",
       " '1005.0600.pdf']"
      ]
     },
     "execution_count": 22,
     "metadata": {},
     "output_type": "execute_result"
    }
   ],
   "source": [
    "no_lead_papers_dev_f1[:5]"
   ]
  },
  {
   "cell_type": "code",
   "execution_count": 26,
   "metadata": {},
   "outputs": [],
   "source": [
    "train_f1_pd[\"Lenght context\"] = train_f1_pd.Context.apply(lambda x: len(x.split()))\n",
    "dev_f1_pd[\"Lenght context\"] = dev_f1_pd.Context.apply(lambda x: len(x.split()))\n",
    "train_f2_pd[\"Lenght context\"] = train_f2_pd.Context.apply(lambda x: len(x.split()))\n",
    "dev_f2_pd[\"Lenght context\"] = dev_f2_pd.Context.apply(lambda x: len(x.split()))"
   ]
  },
  {
   "cell_type": "code",
   "execution_count": 27,
   "metadata": {},
   "outputs": [],
   "source": [
    "# train_pd[train_pd[\"Lenght context\"] < 400]"
   ]
  },
  {
   "cell_type": "code",
   "execution_count": 28,
   "metadata": {},
   "outputs": [],
   "source": [
    "# train_pd = train_pd[train_pd[\"Lenght context\"] < 400]"
   ]
  },
  {
   "cell_type": "code",
   "execution_count": 29,
   "metadata": {},
   "outputs": [
    {
     "name": "stdout",
     "output_type": "stream",
     "text": [
      "train_f1_pd describe: \n"
     ]
    },
    {
     "data": {
      "text/html": [
       "<div>\n",
       "<style scoped>\n",
       "    .dataframe tbody tr th:only-of-type {\n",
       "        vertical-align: middle;\n",
       "    }\n",
       "\n",
       "    .dataframe tbody tr th {\n",
       "        vertical-align: top;\n",
       "    }\n",
       "\n",
       "    .dataframe thead th {\n",
       "        text-align: right;\n",
       "    }\n",
       "</style>\n",
       "<table border=\"1\" class=\"dataframe\">\n",
       "  <thead>\n",
       "    <tr style=\"text-align: right;\">\n",
       "      <th></th>\n",
       "      <th>Lenght context</th>\n",
       "    </tr>\n",
       "  </thead>\n",
       "  <tbody>\n",
       "    <tr>\n",
       "      <th>count</th>\n",
       "      <td>12613.000000</td>\n",
       "    </tr>\n",
       "    <tr>\n",
       "      <th>mean</th>\n",
       "      <td>381.659558</td>\n",
       "    </tr>\n",
       "    <tr>\n",
       "      <th>std</th>\n",
       "      <td>120.573700</td>\n",
       "    </tr>\n",
       "    <tr>\n",
       "      <th>min</th>\n",
       "      <td>5.000000</td>\n",
       "    </tr>\n",
       "    <tr>\n",
       "      <th>25%</th>\n",
       "      <td>310.000000</td>\n",
       "    </tr>\n",
       "    <tr>\n",
       "      <th>50%</th>\n",
       "      <td>379.000000</td>\n",
       "    </tr>\n",
       "    <tr>\n",
       "      <th>75%</th>\n",
       "      <td>448.000000</td>\n",
       "    </tr>\n",
       "    <tr>\n",
       "      <th>max</th>\n",
       "      <td>2161.000000</td>\n",
       "    </tr>\n",
       "  </tbody>\n",
       "</table>\n",
       "</div>"
      ],
      "text/plain": [
       "       Lenght context\n",
       "count    12613.000000\n",
       "mean       381.659558\n",
       "std        120.573700\n",
       "min          5.000000\n",
       "25%        310.000000\n",
       "50%        379.000000\n",
       "75%        448.000000\n",
       "max       2161.000000"
      ]
     },
     "metadata": {},
     "output_type": "display_data"
    },
    {
     "name": "stdout",
     "output_type": "stream",
     "text": [
      "dev_f1_pd describe: \n"
     ]
    },
    {
     "data": {
      "text/html": [
       "<div>\n",
       "<style scoped>\n",
       "    .dataframe tbody tr th:only-of-type {\n",
       "        vertical-align: middle;\n",
       "    }\n",
       "\n",
       "    .dataframe tbody tr th {\n",
       "        vertical-align: top;\n",
       "    }\n",
       "\n",
       "    .dataframe thead th {\n",
       "        text-align: right;\n",
       "    }\n",
       "</style>\n",
       "<table border=\"1\" class=\"dataframe\">\n",
       "  <thead>\n",
       "    <tr style=\"text-align: right;\">\n",
       "      <th></th>\n",
       "      <th>Lenght context</th>\n",
       "    </tr>\n",
       "  </thead>\n",
       "  <tbody>\n",
       "    <tr>\n",
       "      <th>count</th>\n",
       "      <td>5472.000000</td>\n",
       "    </tr>\n",
       "    <tr>\n",
       "      <th>mean</th>\n",
       "      <td>383.148757</td>\n",
       "    </tr>\n",
       "    <tr>\n",
       "      <th>std</th>\n",
       "      <td>114.608898</td>\n",
       "    </tr>\n",
       "    <tr>\n",
       "      <th>min</th>\n",
       "      <td>31.000000</td>\n",
       "    </tr>\n",
       "    <tr>\n",
       "      <th>25%</th>\n",
       "      <td>316.000000</td>\n",
       "    </tr>\n",
       "    <tr>\n",
       "      <th>50%</th>\n",
       "      <td>374.000000</td>\n",
       "    </tr>\n",
       "    <tr>\n",
       "      <th>75%</th>\n",
       "      <td>448.000000</td>\n",
       "    </tr>\n",
       "    <tr>\n",
       "      <th>max</th>\n",
       "      <td>1750.000000</td>\n",
       "    </tr>\n",
       "  </tbody>\n",
       "</table>\n",
       "</div>"
      ],
      "text/plain": [
       "       Lenght context\n",
       "count     5472.000000\n",
       "mean       383.148757\n",
       "std        114.608898\n",
       "min         31.000000\n",
       "25%        316.000000\n",
       "50%        374.000000\n",
       "75%        448.000000\n",
       "max       1750.000000"
      ]
     },
     "metadata": {},
     "output_type": "display_data"
    },
    {
     "name": "stdout",
     "output_type": "stream",
     "text": [
      "train_f2_pd describe: \n"
     ]
    },
    {
     "data": {
      "text/html": [
       "<div>\n",
       "<style scoped>\n",
       "    .dataframe tbody tr th:only-of-type {\n",
       "        vertical-align: middle;\n",
       "    }\n",
       "\n",
       "    .dataframe tbody tr th {\n",
       "        vertical-align: top;\n",
       "    }\n",
       "\n",
       "    .dataframe thead th {\n",
       "        text-align: right;\n",
       "    }\n",
       "</style>\n",
       "<table border=\"1\" class=\"dataframe\">\n",
       "  <thead>\n",
       "    <tr style=\"text-align: right;\">\n",
       "      <th></th>\n",
       "      <th>Lenght context</th>\n",
       "    </tr>\n",
       "  </thead>\n",
       "  <tbody>\n",
       "    <tr>\n",
       "      <th>count</th>\n",
       "      <td>12677.000000</td>\n",
       "    </tr>\n",
       "    <tr>\n",
       "      <th>mean</th>\n",
       "      <td>384.411927</td>\n",
       "    </tr>\n",
       "    <tr>\n",
       "      <th>std</th>\n",
       "      <td>122.812891</td>\n",
       "    </tr>\n",
       "    <tr>\n",
       "      <th>min</th>\n",
       "      <td>10.000000</td>\n",
       "    </tr>\n",
       "    <tr>\n",
       "      <th>25%</th>\n",
       "      <td>315.000000</td>\n",
       "    </tr>\n",
       "    <tr>\n",
       "      <th>50%</th>\n",
       "      <td>381.000000</td>\n",
       "    </tr>\n",
       "    <tr>\n",
       "      <th>75%</th>\n",
       "      <td>450.000000</td>\n",
       "    </tr>\n",
       "    <tr>\n",
       "      <th>max</th>\n",
       "      <td>2161.000000</td>\n",
       "    </tr>\n",
       "  </tbody>\n",
       "</table>\n",
       "</div>"
      ],
      "text/plain": [
       "       Lenght context\n",
       "count    12677.000000\n",
       "mean       384.411927\n",
       "std        122.812891\n",
       "min         10.000000\n",
       "25%        315.000000\n",
       "50%        381.000000\n",
       "75%        450.000000\n",
       "max       2161.000000"
      ]
     },
     "metadata": {},
     "output_type": "display_data"
    },
    {
     "name": "stdout",
     "output_type": "stream",
     "text": [
      "dev_f2_pd describe: \n"
     ]
    },
    {
     "data": {
      "text/html": [
       "<div>\n",
       "<style scoped>\n",
       "    .dataframe tbody tr th:only-of-type {\n",
       "        vertical-align: middle;\n",
       "    }\n",
       "\n",
       "    .dataframe tbody tr th {\n",
       "        vertical-align: top;\n",
       "    }\n",
       "\n",
       "    .dataframe thead th {\n",
       "        text-align: right;\n",
       "    }\n",
       "</style>\n",
       "<table border=\"1\" class=\"dataframe\">\n",
       "  <thead>\n",
       "    <tr style=\"text-align: right;\">\n",
       "      <th></th>\n",
       "      <th>Lenght context</th>\n",
       "    </tr>\n",
       "  </thead>\n",
       "  <tbody>\n",
       "    <tr>\n",
       "      <th>count</th>\n",
       "      <td>5408.000000</td>\n",
       "    </tr>\n",
       "    <tr>\n",
       "      <th>mean</th>\n",
       "      <td>376.714497</td>\n",
       "    </tr>\n",
       "    <tr>\n",
       "      <th>std</th>\n",
       "      <td>108.632246</td>\n",
       "    </tr>\n",
       "    <tr>\n",
       "      <th>min</th>\n",
       "      <td>5.000000</td>\n",
       "    </tr>\n",
       "    <tr>\n",
       "      <th>25%</th>\n",
       "      <td>307.000000</td>\n",
       "    </tr>\n",
       "    <tr>\n",
       "      <th>50%</th>\n",
       "      <td>372.000000</td>\n",
       "    </tr>\n",
       "    <tr>\n",
       "      <th>75%</th>\n",
       "      <td>442.000000</td>\n",
       "    </tr>\n",
       "    <tr>\n",
       "      <th>max</th>\n",
       "      <td>1481.000000</td>\n",
       "    </tr>\n",
       "  </tbody>\n",
       "</table>\n",
       "</div>"
      ],
      "text/plain": [
       "       Lenght context\n",
       "count     5408.000000\n",
       "mean       376.714497\n",
       "std        108.632246\n",
       "min          5.000000\n",
       "25%        307.000000\n",
       "50%        372.000000\n",
       "75%        442.000000\n",
       "max       1481.000000"
      ]
     },
     "metadata": {},
     "output_type": "display_data"
    }
   ],
   "source": [
    "print(\"train_f1_pd describe: \")\n",
    "display(train_f1_pd.describe())\n",
    "print(\"dev_f1_pd describe: \")\n",
    "display(dev_f1_pd.describe())\n",
    "\n",
    "print(\"train_f2_pd describe: \")\n",
    "display(train_f2_pd.describe())\n",
    "print(\"dev_f2_pd describe: \")\n",
    "display(dev_f2_pd.describe())"
   ]
  },
  {
   "cell_type": "code",
   "execution_count": 30,
   "metadata": {},
   "outputs": [
    {
     "name": "stderr",
     "output_type": "stream",
     "text": [
      "100%|██████████| 3076/3076 [00:01<00:00, 1758.29it/s]"
     ]
    },
    {
     "name": "stdout",
     "output_type": "stream",
     "text": [
      "df_train_f1 describe: \n"
     ]
    },
    {
     "name": "stderr",
     "output_type": "stream",
     "text": [
      "\n"
     ]
    },
    {
     "data": {
      "text/html": [
       "<div>\n",
       "<style scoped>\n",
       "    .dataframe tbody tr th:only-of-type {\n",
       "        vertical-align: middle;\n",
       "    }\n",
       "\n",
       "    .dataframe tbody tr th {\n",
       "        vertical-align: top;\n",
       "    }\n",
       "\n",
       "    .dataframe thead th {\n",
       "        text-align: right;\n",
       "    }\n",
       "</style>\n",
       "<table border=\"1\" class=\"dataframe\">\n",
       "  <thead>\n",
       "    <tr style=\"text-align: right;\">\n",
       "      <th></th>\n",
       "      <th>Lenght Context</th>\n",
       "      <th>Lenght TDMSs</th>\n",
       "    </tr>\n",
       "  </thead>\n",
       "  <tbody>\n",
       "    <tr>\n",
       "      <th>count</th>\n",
       "      <td>3075.000000</td>\n",
       "      <td>3075.000000</td>\n",
       "    </tr>\n",
       "    <tr>\n",
       "      <th>mean</th>\n",
       "      <td>1632.739187</td>\n",
       "      <td>55.449756</td>\n",
       "    </tr>\n",
       "    <tr>\n",
       "      <th>std</th>\n",
       "      <td>1149.200513</td>\n",
       "      <td>104.680918</td>\n",
       "    </tr>\n",
       "    <tr>\n",
       "      <th>min</th>\n",
       "      <td>10.000000</td>\n",
       "      <td>1.000000</td>\n",
       "    </tr>\n",
       "    <tr>\n",
       "      <th>25%</th>\n",
       "      <td>747.500000</td>\n",
       "      <td>11.000000</td>\n",
       "    </tr>\n",
       "    <tr>\n",
       "      <th>50%</th>\n",
       "      <td>1644.000000</td>\n",
       "      <td>27.000000</td>\n",
       "    </tr>\n",
       "    <tr>\n",
       "      <th>75%</th>\n",
       "      <td>2251.000000</td>\n",
       "      <td>64.000000</td>\n",
       "    </tr>\n",
       "    <tr>\n",
       "      <th>max</th>\n",
       "      <td>16453.000000</td>\n",
       "      <td>2561.000000</td>\n",
       "    </tr>\n",
       "  </tbody>\n",
       "</table>\n",
       "</div>"
      ],
      "text/plain": [
       "       Lenght Context  Lenght TDMSs\n",
       "count     3075.000000   3075.000000\n",
       "mean      1632.739187     55.449756\n",
       "std       1149.200513    104.680918\n",
       "min         10.000000      1.000000\n",
       "25%        747.500000     11.000000\n",
       "50%       1644.000000     27.000000\n",
       "75%       2251.000000     64.000000\n",
       "max      16453.000000   2561.000000"
      ]
     },
     "metadata": {},
     "output_type": "display_data"
    },
    {
     "name": "stderr",
     "output_type": "stream",
     "text": [
      "100%|██████████| 1298/1298 [00:00<00:00, 1933.12it/s]"
     ]
    },
    {
     "name": "stdout",
     "output_type": "stream",
     "text": [
      "df_dev_f1 describe: \n"
     ]
    },
    {
     "name": "stderr",
     "output_type": "stream",
     "text": [
      "\n"
     ]
    },
    {
     "data": {
      "text/html": [
       "<div>\n",
       "<style scoped>\n",
       "    .dataframe tbody tr th:only-of-type {\n",
       "        vertical-align: middle;\n",
       "    }\n",
       "\n",
       "    .dataframe tbody tr th {\n",
       "        vertical-align: top;\n",
       "    }\n",
       "\n",
       "    .dataframe thead th {\n",
       "        text-align: right;\n",
       "    }\n",
       "</style>\n",
       "<table border=\"1\" class=\"dataframe\">\n",
       "  <thead>\n",
       "    <tr style=\"text-align: right;\">\n",
       "      <th></th>\n",
       "      <th>Lenght Context</th>\n",
       "      <th>Lenght TDMSs</th>\n",
       "    </tr>\n",
       "  </thead>\n",
       "  <tbody>\n",
       "    <tr>\n",
       "      <th>count</th>\n",
       "      <td>1298.000000</td>\n",
       "      <td>1298.000000</td>\n",
       "    </tr>\n",
       "    <tr>\n",
       "      <th>mean</th>\n",
       "      <td>1604.204931</td>\n",
       "      <td>54.721109</td>\n",
       "    </tr>\n",
       "    <tr>\n",
       "      <th>std</th>\n",
       "      <td>1097.751424</td>\n",
       "      <td>94.978970</td>\n",
       "    </tr>\n",
       "    <tr>\n",
       "      <th>min</th>\n",
       "      <td>11.000000</td>\n",
       "      <td>1.000000</td>\n",
       "    </tr>\n",
       "    <tr>\n",
       "      <th>25%</th>\n",
       "      <td>763.000000</td>\n",
       "      <td>11.000000</td>\n",
       "    </tr>\n",
       "    <tr>\n",
       "      <th>50%</th>\n",
       "      <td>1618.000000</td>\n",
       "      <td>26.000000</td>\n",
       "    </tr>\n",
       "    <tr>\n",
       "      <th>75%</th>\n",
       "      <td>2211.750000</td>\n",
       "      <td>64.000000</td>\n",
       "    </tr>\n",
       "    <tr>\n",
       "      <th>max</th>\n",
       "      <td>10552.000000</td>\n",
       "      <td>1870.000000</td>\n",
       "    </tr>\n",
       "  </tbody>\n",
       "</table>\n",
       "</div>"
      ],
      "text/plain": [
       "       Lenght Context  Lenght TDMSs\n",
       "count     1298.000000   1298.000000\n",
       "mean      1604.204931     54.721109\n",
       "std       1097.751424     94.978970\n",
       "min         11.000000      1.000000\n",
       "25%        763.000000     11.000000\n",
       "50%       1618.000000     26.000000\n",
       "75%       2211.750000     64.000000\n",
       "max      10552.000000   1870.000000"
      ]
     },
     "metadata": {},
     "output_type": "display_data"
    },
    {
     "name": "stderr",
     "output_type": "stream",
     "text": [
      "100%|██████████| 3083/3083 [00:01<00:00, 1770.92it/s]"
     ]
    },
    {
     "name": "stdout",
     "output_type": "stream",
     "text": [
      "df_train_f2 describe: \n"
     ]
    },
    {
     "name": "stderr",
     "output_type": "stream",
     "text": [
      "\n"
     ]
    },
    {
     "data": {
      "text/html": [
       "<div>\n",
       "<style scoped>\n",
       "    .dataframe tbody tr th:only-of-type {\n",
       "        vertical-align: middle;\n",
       "    }\n",
       "\n",
       "    .dataframe tbody tr th {\n",
       "        vertical-align: top;\n",
       "    }\n",
       "\n",
       "    .dataframe thead th {\n",
       "        text-align: right;\n",
       "    }\n",
       "</style>\n",
       "<table border=\"1\" class=\"dataframe\">\n",
       "  <thead>\n",
       "    <tr style=\"text-align: right;\">\n",
       "      <th></th>\n",
       "      <th>Lenght Context</th>\n",
       "      <th>Lenght TDMSs</th>\n",
       "    </tr>\n",
       "  </thead>\n",
       "  <tbody>\n",
       "    <tr>\n",
       "      <th>count</th>\n",
       "      <td>3082.000000</td>\n",
       "      <td>3082.000000</td>\n",
       "    </tr>\n",
       "    <tr>\n",
       "      <th>mean</th>\n",
       "      <td>1629.446788</td>\n",
       "      <td>55.408501</td>\n",
       "    </tr>\n",
       "    <tr>\n",
       "      <th>std</th>\n",
       "      <td>1124.350335</td>\n",
       "      <td>100.978942</td>\n",
       "    </tr>\n",
       "    <tr>\n",
       "      <th>min</th>\n",
       "      <td>10.000000</td>\n",
       "      <td>1.000000</td>\n",
       "    </tr>\n",
       "    <tr>\n",
       "      <th>25%</th>\n",
       "      <td>775.500000</td>\n",
       "      <td>11.000000</td>\n",
       "    </tr>\n",
       "    <tr>\n",
       "      <th>50%</th>\n",
       "      <td>1642.000000</td>\n",
       "      <td>27.000000</td>\n",
       "    </tr>\n",
       "    <tr>\n",
       "      <th>75%</th>\n",
       "      <td>2242.500000</td>\n",
       "      <td>65.000000</td>\n",
       "    </tr>\n",
       "    <tr>\n",
       "      <th>max</th>\n",
       "      <td>15714.000000</td>\n",
       "      <td>2561.000000</td>\n",
       "    </tr>\n",
       "  </tbody>\n",
       "</table>\n",
       "</div>"
      ],
      "text/plain": [
       "       Lenght Context  Lenght TDMSs\n",
       "count     3082.000000   3082.000000\n",
       "mean      1629.446788     55.408501\n",
       "std       1124.350335    100.978942\n",
       "min         10.000000      1.000000\n",
       "25%        775.500000     11.000000\n",
       "50%       1642.000000     27.000000\n",
       "75%       2242.500000     65.000000\n",
       "max      15714.000000   2561.000000"
      ]
     },
     "metadata": {},
     "output_type": "display_data"
    },
    {
     "name": "stderr",
     "output_type": "stream",
     "text": [
      "100%|██████████| 1291/1291 [00:00<00:00, 1665.79it/s]"
     ]
    },
    {
     "name": "stdout",
     "output_type": "stream",
     "text": [
      "df_dev_f2 describe: \n"
     ]
    },
    {
     "name": "stderr",
     "output_type": "stream",
     "text": [
      "\n"
     ]
    },
    {
     "data": {
      "text/html": [
       "<div>\n",
       "<style scoped>\n",
       "    .dataframe tbody tr th:only-of-type {\n",
       "        vertical-align: middle;\n",
       "    }\n",
       "\n",
       "    .dataframe tbody tr th {\n",
       "        vertical-align: top;\n",
       "    }\n",
       "\n",
       "    .dataframe thead th {\n",
       "        text-align: right;\n",
       "    }\n",
       "</style>\n",
       "<table border=\"1\" class=\"dataframe\">\n",
       "  <thead>\n",
       "    <tr style=\"text-align: right;\">\n",
       "      <th></th>\n",
       "      <th>Lenght Context</th>\n",
       "      <th>Lenght TDMSs</th>\n",
       "    </tr>\n",
       "  </thead>\n",
       "  <tbody>\n",
       "    <tr>\n",
       "      <th>count</th>\n",
       "      <td>1291.000000</td>\n",
       "      <td>1291.000000</td>\n",
       "    </tr>\n",
       "    <tr>\n",
       "      <th>mean</th>\n",
       "      <td>1616.931061</td>\n",
       "      <td>54.815647</td>\n",
       "    </tr>\n",
       "    <tr>\n",
       "      <th>std</th>\n",
       "      <td>1114.174900</td>\n",
       "      <td>104.062497</td>\n",
       "    </tr>\n",
       "    <tr>\n",
       "      <th>min</th>\n",
       "      <td>11.000000</td>\n",
       "      <td>1.000000</td>\n",
       "    </tr>\n",
       "    <tr>\n",
       "      <th>25%</th>\n",
       "      <td>691.000000</td>\n",
       "      <td>11.000000</td>\n",
       "    </tr>\n",
       "    <tr>\n",
       "      <th>50%</th>\n",
       "      <td>1644.000000</td>\n",
       "      <td>28.000000</td>\n",
       "    </tr>\n",
       "    <tr>\n",
       "      <th>75%</th>\n",
       "      <td>2237.000000</td>\n",
       "      <td>63.000000</td>\n",
       "    </tr>\n",
       "    <tr>\n",
       "      <th>max</th>\n",
       "      <td>15834.000000</td>\n",
       "      <td>1829.000000</td>\n",
       "    </tr>\n",
       "  </tbody>\n",
       "</table>\n",
       "</div>"
      ],
      "text/plain": [
       "       Lenght Context  Lenght TDMSs\n",
       "count     1291.000000   1291.000000\n",
       "mean      1616.931061     54.815647\n",
       "std       1114.174900    104.062497\n",
       "min         11.000000      1.000000\n",
       "25%        691.000000     11.000000\n",
       "50%       1644.000000     28.000000\n",
       "75%       2237.000000     63.000000\n",
       "max      15834.000000   1829.000000"
      ]
     },
     "metadata": {},
     "output_type": "display_data"
    }
   ],
   "source": [
    "df_train_f1 = pd.DataFrame(columns = [\"Title\", \"TDMSs\", \"Context\"])\n",
    "for i, title in tqdm(enumerate(title_to_content[\"train_f1\"].keys()), total = len(title_to_content[\"train_f1\"].keys())):\n",
    "    \n",
    "    if (len(title_to_content[\"train_f1\"][title]) < 10):\n",
    "        continue \n",
    "    \n",
    "    if (title not in no_lead_papers_train_f1) :\n",
    "        if (title_to_tdms_dict[title] == []):\n",
    "             continue\n",
    "\n",
    "    df_train_f1 = pd.concat([df_train_f1, pd.DataFrame.from_records(\n",
    "        [\n",
    "            {\n",
    "                'Title' : title, \n",
    "                'TDMSs' : title_to_tdms_dict[title] if title in title_to_tdms_dict.keys() else \"unanswerable\",\n",
    "                'Context' : title_to_content[\"train_f1\"][title],\n",
    "                'Lenght Context': len(title_to_content[\"train_f1\"][title].split()),\n",
    "                'Lenght TDMSs': len(str(title_to_tdms_dict[title] if title in title_to_tdms_dict.keys() else \"unanswerable\").split())\n",
    "            }\n",
    "        ])], ignore_index = True)\n",
    "print(\"df_train_f1 describe: \")\n",
    "display(df_train_f1.describe())  \n",
    "\n",
    "df_dev_f1 = pd.DataFrame(columns = [\"Title\", \"TDMSs\", \"Context\"])  \n",
    "for i, title in tqdm(enumerate(title_to_content[\"dev_f1\"].keys()), total = len(title_to_content[\"dev_f1\"].keys())):\n",
    "    \n",
    "    if (len(title_to_content[\"dev_f1\"][title]) < 10):\n",
    "        continue \n",
    "    \n",
    "    if (title not in no_lead_papers_dev_f1) :\n",
    "        if (title_to_tdms_dict[title] == []):\n",
    "             continue\n",
    "\n",
    "    df_dev_f1 = pd.concat([df_dev_f1, pd.DataFrame.from_records(\n",
    "        [\n",
    "            {\n",
    "                'Title' : title, \n",
    "                'TDMSs' : title_to_tdms_dict[title] if title in title_to_tdms_dict.keys() else \"unanswerable\",\n",
    "                'Context' : title_to_content[\"dev_f1\"][title],\n",
    "                'Lenght Context': len(title_to_content[\"dev_f1\"][title].split()),\n",
    "                'Lenght TDMSs': len(str(title_to_tdms_dict[title] if title in title_to_tdms_dict.keys() else \"unanswerable\").split())\n",
    "            }\n",
    "        ])], ignore_index = True)\n",
    "print(\"df_dev_f1 describe: \")\n",
    "display(df_dev_f1.describe())  \n",
    "\n",
    "df_train_f2 = pd.DataFrame(columns = [\"Title\", \"TDMSs\", \"Context\"])\n",
    "for i, title in tqdm(enumerate(title_to_content[\"train_f2\"].keys()), total = len(title_to_content[\"train_f2\"].keys())):\n",
    "    \n",
    "    if (len(title_to_content[\"train_f2\"][title]) < 10):\n",
    "        continue \n",
    "    \n",
    "    if (title not in no_lead_papers_train_f2) :\n",
    "        if (title_to_tdms_dict[title] == []):\n",
    "             continue\n",
    "\n",
    "    df_train_f2 = pd.concat([df_train_f2, pd.DataFrame.from_records(\n",
    "        [\n",
    "            {\n",
    "                'Title' : title, \n",
    "                'TDMSs' : title_to_tdms_dict[title] if title in title_to_tdms_dict.keys() else \"unanswerable\",\n",
    "                'Context' : title_to_content[\"train_f2\"][title],\n",
    "                'Lenght Context': len(title_to_content[\"train_f2\"][title].split()),\n",
    "                'Lenght TDMSs': len(str(title_to_tdms_dict[title] if title in title_to_tdms_dict.keys() else \"unanswerable\").split())\n",
    "            }\n",
    "        ])], ignore_index = True)\n",
    "print(\"df_train_f2 describe: \")\n",
    "display(df_train_f2.describe())  \n",
    " \n",
    "df_dev_f2 = pd.DataFrame(columns = [\"Title\", \"TDMSs\", \"Context\"])  \n",
    "for i, title in tqdm(enumerate(title_to_content[\"dev_f2\"].keys()), total = len(title_to_content[\"dev_f2\"].keys())):\n",
    "    \n",
    "    if (len(title_to_content[\"dev_f2\"][title]) < 10):\n",
    "        continue \n",
    "    \n",
    "    if (title not in no_lead_papers_dev_f2) :\n",
    "        if (title_to_tdms_dict[title] == []):\n",
    "             continue\n",
    "\n",
    "    df_dev_f2 = pd.concat([df_dev_f2, pd.DataFrame.from_records(\n",
    "        [\n",
    "            {\n",
    "                'Title' : title, \n",
    "                'TDMSs' : title_to_tdms_dict[title] if title in title_to_tdms_dict.keys() else \"unanswerable\",\n",
    "                'Context' : title_to_content[\"dev_f2\"][title],\n",
    "                'Lenght Context': len(title_to_content[\"dev_f2\"][title].split()),\n",
    "                'Lenght TDMSs': len(str(title_to_tdms_dict[title] if title in title_to_tdms_dict.keys() else \"unanswerable\").split())\n",
    "            }\n",
    "        ])], ignore_index = True)\n",
    "print(\"df_dev_f2 describe: \")\n",
    "display(df_dev_f2.describe())  "
   ]
  },
  {
   "cell_type": "code",
   "execution_count": null,
   "metadata": {},
   "outputs": [],
   "source": []
  },
  {
   "cell_type": "code",
   "execution_count": 31,
   "metadata": {},
   "outputs": [
    {
     "data": {
      "text/html": [
       "<div>\n",
       "<style scoped>\n",
       "    .dataframe tbody tr th:only-of-type {\n",
       "        vertical-align: middle;\n",
       "    }\n",
       "\n",
       "    .dataframe tbody tr th {\n",
       "        vertical-align: top;\n",
       "    }\n",
       "\n",
       "    .dataframe thead th {\n",
       "        text-align: right;\n",
       "    }\n",
       "</style>\n",
       "<table border=\"1\" class=\"dataframe\">\n",
       "  <thead>\n",
       "    <tr style=\"text-align: right;\">\n",
       "      <th></th>\n",
       "      <th>Title</th>\n",
       "      <th>TDMSs</th>\n",
       "      <th>Context</th>\n",
       "      <th>Lenght Context</th>\n",
       "      <th>Lenght TDMSs</th>\n",
       "    </tr>\n",
       "  </thead>\n",
       "  <tbody>\n",
       "    <tr>\n",
       "      <th>0</th>\n",
       "      <td>2006.10721v2.pdf</td>\n",
       "      <td>[{'LEADERBOARD': {'Task': 'Visual Object Track...</td>\n",
       "      <td>Title:\\tOcean: Object-aware Anchor-free Tracki...</td>\n",
       "      <td>2986.0</td>\n",
       "      <td>53.0</td>\n",
       "    </tr>\n",
       "    <tr>\n",
       "      <th>1</th>\n",
       "      <td>2105.02209v1.pdf</td>\n",
       "      <td>[{'LEADERBOARD': {'Task': 'Image Relighting', ...</td>\n",
       "      <td>Title:\\t Physically Inspired Dense Fusion Netw...</td>\n",
       "      <td>1024.0</td>\n",
       "      <td>60.0</td>\n",
       "    </tr>\n",
       "    <tr>\n",
       "      <th>2</th>\n",
       "      <td>1906.09826v1.pdf</td>\n",
       "      <td>[{'LEADERBOARD': {'Task': 'Semantic Segmentati...</td>\n",
       "      <td>Title:\\tESNet: An Efficient Symmetric Network ...</td>\n",
       "      <td>1104.0</td>\n",
       "      <td>51.0</td>\n",
       "    </tr>\n",
       "    <tr>\n",
       "      <th>3</th>\n",
       "      <td>1902.09314v2.pdf</td>\n",
       "      <td>[{'LEADERBOARD': {'Task': 'Sentiment Analysis'...</td>\n",
       "      <td>Title:\\tAttentional Encoder Network for Target...</td>\n",
       "      <td>1330.0</td>\n",
       "      <td>201.0</td>\n",
       "    </tr>\n",
       "    <tr>\n",
       "      <th>4</th>\n",
       "      <td>1901.00392v2.pdf</td>\n",
       "      <td>[{'LEADERBOARD': {'Task': 'Person Re-Identific...</td>\n",
       "      <td>Title:\\tAttribute-Aware Attention Model for Fi...</td>\n",
       "      <td>2024.0</td>\n",
       "      <td>42.0</td>\n",
       "    </tr>\n",
       "  </tbody>\n",
       "</table>\n",
       "</div>"
      ],
      "text/plain": [
       "              Title                                              TDMSs  \\\n",
       "0  2006.10721v2.pdf  [{'LEADERBOARD': {'Task': 'Visual Object Track...   \n",
       "1  2105.02209v1.pdf  [{'LEADERBOARD': {'Task': 'Image Relighting', ...   \n",
       "2  1906.09826v1.pdf  [{'LEADERBOARD': {'Task': 'Semantic Segmentati...   \n",
       "3  1902.09314v2.pdf  [{'LEADERBOARD': {'Task': 'Sentiment Analysis'...   \n",
       "4  1901.00392v2.pdf  [{'LEADERBOARD': {'Task': 'Person Re-Identific...   \n",
       "\n",
       "                                             Context  Lenght Context  \\\n",
       "0  Title:\\tOcean: Object-aware Anchor-free Tracki...          2986.0   \n",
       "1  Title:\\t Physically Inspired Dense Fusion Netw...          1024.0   \n",
       "2  Title:\\tESNet: An Efficient Symmetric Network ...          1104.0   \n",
       "3  Title:\\tAttentional Encoder Network for Target...          1330.0   \n",
       "4  Title:\\tAttribute-Aware Attention Model for Fi...          2024.0   \n",
       "\n",
       "   Lenght TDMSs  \n",
       "0          53.0  \n",
       "1          60.0  \n",
       "2          51.0  \n",
       "3         201.0  \n",
       "4          42.0  "
      ]
     },
     "execution_count": 31,
     "metadata": {},
     "output_type": "execute_result"
    }
   ],
   "source": [
    "df_dev_f2.head()"
   ]
  },
  {
   "cell_type": "code",
   "execution_count": 34,
   "metadata": {},
   "outputs": [
    {
     "data": {
      "text/plain": [
       "'Title:\\tOcean: Object-aware Anchor-free Tracking\\n\\nAbstract:\\tAnchor-based Siamese trackers have achieved remarkable advancements in accuracy, yet the further improvement is restricted by the lagged tracking robustness. We find the underlying reason is that the regression network in anchor-based methods is only trained on the positive anchor boxes (i.e.., IoU\\u2004≥\\u20040.6). This mechanism makes it difficult to refine the anchors whose overlap with the target objects are small. In this paper, we propose a novel object-aware anchor-free network to address this issue. First, instead of refining the reference anchor boxes, we directly predict the position and scale of target objects in an anchor-free fashion. Since each pixel in groundtruth boxes is well trained, the tracker is capable of rectifying inexact predictions of target objects during inference. Second, we introduce a feature alignment module to learn an object-aware feature from predicted bounding boxes. The object-aware feature can further contribute to the classification of target objects and background. Moreover, we present a novel tracking framework based on the anchor-free model. The experiments show that our anchor-free tracker achieves state-of-the-art performance on five benchmarks, including VOT-2018, VOT-2019, OTB-100, GOT-10k and LaSOT. The source code is available at https://github.com/researchmm/TracKit.\\n\\nExperiments\\n\\nThis section presents the results of our Ocean tracker on five tracking benchmark datasets, with comparisons to the state-of-the-art algorithms. Experimental analysis is provided to evaluate the effects of each component in our model.\\n\\nImplementation Details\\n\\nTraining. The backbone network is initialized with the parameters pretrained on ImageNet . The proposed trackers are trained on the datasets of Youtube-BB , ImageNet VID , ImageNet DET , GOT-10k and COCO . The size of input exemplar image is 127\\u2005×\\u2005127 pixels, while the search image is 255\\u2005×\\u2005255 pixels. We use synchronized SGD on 8 GPUs, with each GPU hosting 32 images, hence the mini-batch size is 256 images per iteration. There are 50 epochs in total. Each epoch uses 6\\u2005×\\u200510⁵ training pairs. For the first 5 epochs, we start with a warmup learning rate of 10⁻³ to train the object-aware anchor-free networks, while freezing the parameters of the backbone. For the remaining epochs, the backbone network is unfrozen, and the whole network is trained end-to-end with a learning rate exponentially decayed from 5\\u2005×\\u200510⁻³ to 10⁻⁵. The weight decay and momentum are set to 10⁻³ and 0.9, respectively. The threshold R of the classification label in Eq. ([Eq3]) is set to 16 pixels. The weight parameters λ₁ and λ₂ in Eq. ([Eq7]) are set to 1 and 1.2, respectively.\\n\\nWe noticed that the training settings (data selection, iterations, etc..) are often different in recent trackers, e.g.., SiamRPN , SiamRPN++, ATOM and DiMP . It is difficult to compare different models under a unified training schedule. But for a fair comparison, we additionally evaluate our method and SiamRPN++\\xa0 under the same training setting, as discussed in Sec. 1.3.\\n\\nTesting. For the offline model, tracking follows the same protocols as in . The feature of the target object is computed once at the first frame, and then is continuously matched to subsequent search images. The fusion weight ω of the object-aware classification score in Eq. ([Eq9]) is set to 0.07, while the weight ω′ in Eq. ([Eq11]) is set to 0.5. The hyperparameter k in Eq. ([Eq10]) for the penalty of large scale change is set to 0.021, while the scale weight β is set to 0.7. These hyper-parameters in testing are selected with the tracking toolkit\\xa0, which contains an automated parameter tuning algorithm. Our trackers are implemented using Python 3.6 and PyTorch 1.1.0. The experiments are conducted on a server with 8 Tesla V100 GPUs and a Xeon E5-2690 2.60GHz CPU. Note that we run the proposed tracker three times, the standard deviation of the performance is \\u2005±\\u20050.5%, demonstrating the stability of our model. We report the average performance of the three-time runs in the following comparisons.\\n\\n  ------- ------- ------- ------- ------- ------- ------- ----------- ------- --------- -------- --\\n           CRPN     ECO    STRCF   LADCF   ATOM    SRCNN   SiamRPN++   DiMP     Ocean    Ocean   \\n                                                                               offline   online  \\n  EAO ↑    0.273   0.280   0.345   0.389   0.401   0.408     0.414     0.440    0.467    0.489   \\n  A ↑      0.550   0.484   0.523   0.503   0.590   0.609     0.600     0.597    0.598    0.592   \\n  R ↓      0.320   0.276   0.215   0.159   0.204   0.220     0.234     0.153    0.169    0.117   \\n  ------- ------- ------- ------- ------- ------- ------- ----------- ------- --------- -------- --\\n\\n  ------- -------- ---------- ----------- ------- ------- ---------- ---------- --------- -------- -- --\\n           MemDTC   SiamMASK   SiamRPN++   ATOM     STN    DiMP^(r)   DiMP^(b)    Ocean    Ocean      \\n                                                                                 offline   online     \\n   EAO ↑   0.228     0.287       0.292     0.301   0.314    0.321      0.379      0.327    0.350      \\n    A ↑    0.485     0.594       0.580     0.603   0.589    0.582      0.594      0.590    0.594      \\n    R ↓    0.587     0.461       0.446     0.411   0.349    0.371      0.278      0.376    0.316      \\n  ------- -------- ---------- ----------- ------- ------- ---------- ---------- --------- -------- -- --\\n\\n  : Performance comparisons on VOT-2019. The “DiMP^(r)” and “DiMP^(b)” indicate realtime and baseline performances of DiMP, as reported in .\\n\\n  ------------ ------- ------- -------- ------- ------- ----------- ------- ------- --------- --------\\n                CFNet   MDNet   SiamFC    ECO    DSiam   SiamRPN++   ATOM    DiMP     Ocean    Ocean\\n                                                                                     offline   online\\n  AO ↑          0.261   0.299   0.392    0.395   0.417     0.518     0.556   0.611    0.592    0.611\\n  SR_(0.5) ↑    0.243   0.303   0.406    0.407   0.461     0.618     0.634   0.712    0.695    0.721\\n  ------------ ------- ------- -------- ------- ------- ----------- ------- ------- --------- --------\\n\\n  : Performance comparisons on GOT-10k test set.\\n\\nEvaluation datasets and metrics. We use five benchmark datasets including VOT-2018 , VOT-2019 , OTB-100 , GOT-10k and LaSOT for tracking performance evaluation. In particular, VOT-2018 contains 60 sequences. VOT-2019 is developed by replacing the 20% least challenging videos in VOT-2018\\xa0. We adopt the Expected Average Overlap (EAO)\\xa0 which takes both accuracy (A) and robustness (R) into account to evaluate overall performance. The standardized OTB-100 benchmark consists of 100 videos. Two metrics, i.e.., precision (Prec.) and area under curve (AUC) are used to rank the trackers. GOT-10k is a large-scale dataset containing over 10 thousand videos. The trackers are evaluated using an online server on a test set of 180 videos. It employs the widely used average overlap (AO) and success rate (SR) as performance indicators. Compared to these benchmark datasets, LaSOT has longer sequences, with an average of 2,500 frames per sequence. Success (SUC) and precision (Prec.) are used to evaluate tracking performance.\\n\\nState-of-the-art Comparison\\n\\nTo extensively evaluate the proposed method, we compare it with 22 state-of-the-art trackers, which cover most of current representative methods. There are 9 anchor-based Siamese framework based methods (SiamFC , GradNet , DSiam , MemDTC , SiamRPN , C-RPN , SiamMASK , SiamRPN++ and SiamRCNN ), 8 discriminative correlation filter based methods (CFNet , ECO , STRCF , LADCF , UDT , STN , ATOM and DiMP ), 3 multi-domain learning based methods (MDNet , RT-MDNet and VITAL ), 1 graph network based method (GCT ) and 1 meta-learning based tracker (MetaCREST ). The results are summarized in Tab. [VOT18TAB] - 2 and Fig. [OTBFIG].\\n\\nr0.6\\n\\n[image]\\n\\n[image]\\n\\nVOT-2018. The evaluation on VOT-2018 is performed by the official toolkit . As shown in Tab. [VOT18TAB], Our offline Ocean tracker outperforms the champion method of VOT-2018, i.e.., (LADCF ), by 7.8 points. Compared to the state-of-the-art offline tracker SiamRPN++ , our offline model achieves EAO improvements of 5.3 points, while running faster, as shown in Fig.\\xa0[VOT18FIG]. It is worth noting that the improvements mainly come from the robustness score, which obtains 27.8% relative increases over SiamRPN++. Moreover, our offline model is superior to the recent online trackers ATOM and DiMP . The online augmented model further improves our tracker by 2.2 points in terms of EAO.\\n\\nVOT-2019. Tab. 1 reports the evaluation results with the comparisons to recent prevailing trackers on VOT-2019. We can see that the recent proposed DiMP achieves the best performance, while our method ranks second. However, in real-time testing scenarios, our offline Ocean tracker achieves the best performance, surpassing DiMP^(r) by 0.6 points in terms of EAO. Moreover, the EAO of our offline model surpasses SiamRPN++ by 3.5 points.\\n\\nGOT-10k. The evaluation on GOT-10k follows the protocols in . The proposed offline Ocean tracker model achieves the state-of-the-art AO score of 0.592, outperforming SiamRPN++ , as shown in Tab. 2. Our online model improves the AO by 4.5 points over ATOM , while outperforming DiMP\\xa0 by 0.9 points in terms of success rate.\\n\\nOTB-100. The last evaluation in short-term tracking is performed on the classical OTB-100 benchmark. As reported in Fig.\\xa0[OTBFIG], among the compared methods, our online tracker achieves the best precision score of 0.920, while DiMP achieves best AUC score of 0.686.\\n\\nLaSOT. To further evaluate the proposed models, we report the results on LaSOT, which is larger and more challenging than previous benchmarks. The results on the 280 videos test set is presented in Fig. [OTBFIG]. Our offline Ocean tracker achieves SUC score of 0.527, outperforming SiamRPN++ with score of 0.496. Compared to ATOM , our online tracker improves the SUC score by 4.6 points, giving comparable results to top-ranked tracker DiMP-50 . Moreover, the proposed online tracker achieves the best precision score of 0.566.\\n\\n   #Num  \\xa0Components                       \\xa0EAO\\xa0\\n  ------ -------------------------------- -------\\n    1⃝    \\xa0baseline                         0.358\\n    2⃝    \\xa0+ centralized sampling\\xa0          0.396\\n    3⃝    \\xa0+ feature combination \\xa0          0.438\\n    4⃝    \\xa0+ object-aware classification    0.467\\n    5⃝    \\xa0+ online update \\xa0                0.489\\n\\n  : Analysis of the impact of different strides over dilated convolution in the feature combination module.\\n\\n   #Num \\xa0  \\xa0Dilated Kernels\\xa0\\xa0\\xa0\\xa0\\xa0    \\xa0\\xa0EAO\\xa0\\xa0\\n  -------- ----------------------- ---------\\n     1⃝     \\xa0\\xa0Φ₁₁                     0.425\\n     2⃝     \\xa0 Φ₁₁Φ₁₁                  0.433\\n     3⃝     \\xa0 Φ₁₁Φ₁₂ \\xa0                0.446\\n     4⃝     \\xa0 Φ₁₁Φ₂₁                  0.443\\n     5⃝     \\xa0 Φ₁₁Φ₁₂Φ₂₁               0.467\\n\\n  : Analysis of the impact of different strides over dilated convolution in the feature combination module.\\n\\nAnalysis of the Proposed Method\\n\\nComponent-wise analysis. To verify the efficacy of the proposed method, we perform a component-wise analysis on the VOT-2018 benchmark, as presented in Tab. [COMTAB]. The baseline model consists of a backbone network (detailed in Sec. [Sec4.1]), an anchor-free regression network (detailed in Sec. [Sec3.1]) and a classification network using regular-region feature (detailed in Sec. [Sec3.2]). In the training of baseline model, all pixels in the groundtruth box are considered as positive samples. The baseline model obtains an EAO of 0.358. In 2⃝, the “centralized sampling” indicates that we only consider the pixels closing to the target’s center as positive samples in the training of classification (formulated as Eq. ([Eq3])). It brings significant gains, i.e.., 3.8 points on EAO (2⃝ vs..1⃝). This verifies that the sampling helps to learn a robust similarity metric for region matching. Adding the feature combination module (detailed in Sec. [Sec4.1]) can bring a large improvement of 4.2 points in terms of EAO (3⃝ vs..2⃝). This demonstrates the effectiveness of the proposed irregular dilated convolution module. It introduces a multi-scale modeling of target objects, without increasing much computation overhead. Furthermore, the object-aware classification (detailed in Sec. [Sec3.2]) can also bring an improvement of 2.9 points in terms of EAO (4⃝ vs..3⃝). This shows that the object-aware features generated by the proposed feature alignment module contribute significantly to the tracker. Finally, the tracker equipped with the plug-in online update module (detailed in Sec. [Sec4.2]) yields another improvement of 2.2 points (5⃝ vs..4⃝), showing the scalability of the proposed framework.\\n\\nFeature combination. We further evaluate the impact of dilated convolutions in the feature combination module and report the results on VOT-2018 in Tab. 4. The baseline setting is a normal convolution with dilation stride of 1 along both the X-axis and Y-axis, i.e.., Φ₁₁. We observe that adding a standard convolution Φ₁₁ brings an improvement of 0.8 points in terms of EAO (2⃝ vs..1⃝). This indicates that the proposed parallel convolutions in the feature combination module is effective. It is very interesting to see that if we modify the dilation strides along X and Y directions to be different, the performance can be further improved, e.g.., 1.3 points gains for 3⃝ vs..2⃝ while 1.0 points gains for 4⃝ vs..2⃝. This verifies that the irregular dilations is effective to enhance feature representability. A combination of the three dilation kernels with different strides obtains the best results in our experiment. It is worth noting that the feature combination module with irregular dilations is extremely lightweight, and it has large potentials to be plugged into other models in both tracking and detection.\\n\\n   #Num  \\xa0Settings                   \\xa0EAO\\xa0\\n  ------ -------------------------- -------\\n    1⃝    \\xa0SiamRPN++\\xa0                 0.414\\n    2⃝    \\xa0Ocean tracker (ours)       0.455\\n    3⃝    \\xa0+ GOT-10k in training \\xa0    0.467\\n    4⃝    \\xa0+ LaSOT in training \\xa0      0.462\\n\\n  : Visualization of (a) the regular-region feature and (b) the object-aware feature over the video “ants1\" in VOT-2018 dataset.\\n\\n[image]\\n\\nTraining setting. We conduct another ablation study to evaluate the impact of training settings. For a fair comparison, we follow the same setting as the well-performing SiamRPN++, i.e... training on YTB , VID , DET and COCO datasets for 20 epochs and using 6\\u2005×\\u200510⁵ image pairs in each epoch. As the results presented in Tab.\\xa0[SETTAB] (2⃝ v.s. 1⃝), our model surpasses SiamRPN++ by 4.1 points in terms of EAO under the same training settings. Moreover, we further add GOT-10k\\xa0 images into training, and observe that it brings an improvement of 1.2 points (3⃝ v.s. 2⃝). This demonstrates that the main performance gains are induced by the proposed model. If we continue to add LaSOT into training, the performance cannot improve further (4⃝ v.s. 3⃝). One possible reason is that the object categories in LaSOT have been covered by other datasets, thus it cannot further elevate model capacities.\\n\\nFeature visualization. We visualize the features extracted before and after the alignment, i.e.., the regular-region feature and object-aware feature, in Fig. 5. We observe that the object-aware feature focuses on the entire object, while the regular-region feature concentrates on the center part of the target. The former improves the reliability of the classification since it provides a global view of the target. The latter contributes more to localize the object centerness since the features are more sensitive to local changes.\\n\\nConclusion\\n\\nIn this work, we propose a novel object-aware anchor-free tracking framework (Ocean) based upon the observation that the anchor-based method is difficult to refine the anchors whose overlap with the target objects are small. Our model directly regresses the positions of target objects in a video frame instead of predicting offsets for predefined anchors. Moreover, the learned object-aware feature by the alignment module provides a global description of the target, contributing to the reliable matching of objects. The experiments demonstrate that the proposed tracker achieves state-of-the-art performance on five benchmark datasets. In the future work, we will study the update of the parameters in the object-aware classification network without integrating an additional online branch. Besides, applying our framework to other online video tasks, e.g.., video object detection and segmentation, is also a potential direction.\\n\\n——————— Supplementary Material ———————–\\nThe supplementary material presents the additional experiments of Section 5:\\n\\n) We provide additional ablation experiments.\\n\\n) We provide qualitative comparisons of our tracker with state-of-the-arts.\\n\\nImpact of the convolution layers in the anchor-free networks.\\n\\nFor both of the regression network and regular-region classification network (i.e., “Conv” of the anchor-free networks in the Fig. [FRAMEWORKFIG], we use four convolution layers to predict the fine-grained regression and classification score maps. To study the impact of the number of convolution layers in these two networks, we perform an ablation experiment on OTB-100 , as shown in Tab. 6. We can see that as the number of convolution layers increases, the performance (i.e., AUC) becomes saturated. The balanced choice between performance and speed is 3 or 4 in our model.\\n\\n    The number of layers\\xa0      \\xa0\\xa0\\xa00\\xa0\\xa0\\xa0      \\xa0\\xa0\\xa01\\xa0\\xa0\\xa0      \\xa0\\xa0\\xa02\\xa0\\xa0\\xa0     \\xa0\\xa0\\xa03\\xa0\\xa0\\xa0     \\xa0\\xa0\\xa04\\xa0\\xa0\\xa0      \\xa0\\xa0\\xa05\\xa0\\xa0\\xa0\\n  ------------------------- ------------- ------------ ----------- ----------- ----------- -------------\\n   \\xa0\\xa0Performance (AUC ↑)\\xa0\\xa0   \\xa0\\xa0 0.645 \\xa0\\xa0   \\xa0\\xa0 0.657\\xa0\\xa0   \\xa0\\xa00.665\\xa0\\xa0   \\xa0\\xa00.672\\xa0\\xa0   \\xa0\\xa00.673\\xa0\\xa0   \\xa0\\xa0 0.670 \\xa0\\xa0\\n\\n  : Impact of the number of layers in the anchor-free networks.\\n\\nAnalysis of rectification capacity. The rectification capacity indicates the prediction accuracy (mIoU) of the model when the tracker drifts from the target. To evaluate the rectification capacity, we first sample exemplar and search image pairs from adjacent frames in the VOT-2018 dataset . We sample locations on the score maps away from the target to simulate weak predictions, and the shifting magnitude is illustrated in the first row of Tab. 7. Then we compute the overlap between the predicted bounding box and the groundtruth, i.e., mIoU in Tab. 7. Larger mIoU means that the regression network can better rectify the inaccurate prediction. We can see that the performance (mIoU) of the proposed model outperforms SiamRPN++ when the tracker drifts away from the target’s center. This demonstrates the superior robustness of our tracker compared to the anchor-based method.\\n\\n      Distance (pixels) \\xa0      \\xa0\\xa0\\xa0\\xa08\\xa0\\xa0\\xa0\\xa0   \\xa0\\xa0\\xa0\\xa016\\xa0\\xa0\\xa0\\xa0   \\xa0\\xa0\\xa0\\xa024\\xa0\\xa0\\xa0\\xa0   \\xa0\\xa0\\xa0\\xa032\\xa0\\xa0\\xa0\\xa0   \\xa0\\xa0\\xa0\\xa040\\xa0\\xa0\\xa0\\xa0   \\xa0\\xa0\\xa0\\xa048\\xa0\\xa0\\xa0\\xa0   \\xa0\\xa0\\xa0\\xa056\\xa0\\xa0\\xa0\\xa0  \\n  --------------------------- ----------- ------------ ------------ ------------ ------------ ------------ ------------ --\\n    \\xa0\\xa0 mIoU of SiamRPN++ \\xa0\\xa0      0.65         0.48         0.36         0.30         0.28         0.25         0.21     \\n   \\xa0\\xa0 mIoU of our tracker \\xa0\\xa0     0.73         0.73         0.72         0.71         0.71         0.72         0.54     \\n\\n  : Comparisons of rectification capacity between SiamRPN++ and our model. mIoU indicates mean IoU. Distance indicates shifting magnitude (ℓ₁ distance) for generating search images.\\n\\nQualitative comparisons. Fig. 1 qualitatively compares the results of recent top-performing trackers: DiMP , ATOM , SiamRPN++ and our Ocean tracker on 6 challenging sequences. SiamRPN++ drifts from the target when fast motion occurs (soccer). The underlying reason is that fast motion results in imprecise prediction, which is difficult to be rectified by the anchor-based method. By contrast, our model performs better in this case, since it is capable of rectifying inaccurate bounding boxes and robust to noisy predictions. This verifies the advancement of our anchor-free regression mechanism compared to anchor-based methods. When the target undergoes large deformation or rotation, e.g., dinasour and motocross1, the predicted locations of ATOM and DiMP are not accurate enough. One of the reasons is that the regular-region sampling strategy in these approaches may lack global information to generate discriminative appearance features. Benefiting from the object-aware feature, our model can predict better results in this case. The visualization results demonstrate the robustness and effectiveness of the proposed tracker.\\n\\n[Visual comparisons of our tracker with statr-of-the-art trackers on 6 video sequences: basketball, dinasour, fernando, girl, motocross1 and soccer.]\\n\\n[1] Work performed when Zhipeng was an intern of Microsoft Research. † Corresponding author.\\n'"
      ]
     },
     "execution_count": 34,
     "metadata": {},
     "output_type": "execute_result"
    }
   ],
   "source": [
    "df_dev_f2.loc[0][\"Context\"]"
   ]
  },
  {
   "cell_type": "code",
   "execution_count": 35,
   "metadata": {},
   "outputs": [
    {
     "data": {
      "text/plain": [
       "[{'LEADERBOARD': {'Task': 'Visual Object Tracking',\n",
       "   'Dataset': 'VOT2019',\n",
       "   'Metric': 'Expected Average Overlap (EAO)',\n",
       "   'Score': '0.327'}},\n",
       " {'LEADERBOARD': {'Task': 'Visual Object Tracking',\n",
       "   'Dataset': 'VOT2018',\n",
       "   'Metric': 'Expected Average Overlap (EAO)',\n",
       "   'Score': '0.467'}},\n",
       " {'LEADERBOARD': {'Task': 'Visual Object Tracking',\n",
       "   'Dataset': 'GOT-10k',\n",
       "   'Metric': 'Average Overlap',\n",
       "   'Score': '61.1'}},\n",
       " {'LEADERBOARD': {'Task': 'Visual Object Tracking',\n",
       "   'Dataset': 'GOT-10k',\n",
       "   'Metric': 'Success Rate 0.5',\n",
       "   'Score': '72.1'}}]"
      ]
     },
     "execution_count": 35,
     "metadata": {},
     "output_type": "execute_result"
    }
   ],
   "source": [
    "df_dev_f2.loc[0][\"TDMSs\"]"
   ]
  },
  {
   "cell_type": "code",
   "execution_count": null,
   "metadata": {},
   "outputs": [],
   "source": []
  },
  {
   "cell_type": "code",
   "execution_count": 36,
   "metadata": {},
   "outputs": [
    {
     "data": {
      "text/plain": [
       "['Please answer a question about this article. If the question is unanswerable, say \"unanswerable\"',\n",
       " 'Read this and answer the question. If the question is unanswerable, say \"unanswerable\".',\n",
       " 'If the question is unanswerable, say \"unanswerable\"',\n",
       " 'Try to answer this question if possible (otherwise reply \"unanswerable\"',\n",
       " 'If it is possible to answer this question, answer it for me (else, reply \"unanswerable\"',\n",
       " 'Answer this question, if possible (if impossible, reply \"unanswerable\"',\n",
       " 'Read this: What is the answer? (If it cannot be answered, return \"unanswerable\"',\n",
       " 'Read this: Now answer this question, if there is an answer (If it cannot be answered, return \"unanswerable\"',\n",
       " 'Answer based on context:',\n",
       " 'Answer this question based on the article:',\n",
       " 'Answer this question:',\n",
       " 'Read this article and answer this question',\n",
       " 'Based on the above article, answer a question.']"
      ]
     },
     "execution_count": 36,
     "metadata": {},
     "output_type": "execute_result"
    }
   ],
   "source": [
    "template = ['Please answer a question about this article. If the question is unanswerable, say \\\"unanswerable\\\"',\n",
    "'Read this and answer the question. If the question is unanswerable, say \\\"unanswerable\\\".',\n",
    "'If the question is unanswerable, say \\\"unanswerable\\\"',\n",
    "'Try to answer this question if possible (otherwise reply \\\"unanswerable\\\"',\n",
    "'If it is possible to answer this question, answer it for me (else, reply \\\"unanswerable\\\"',\n",
    "'Answer this question, if possible (if impossible, reply \\\"unanswerable\\\"',\n",
    "'Read this: What is the answer? (If it cannot be answered, return \\\"unanswerable\\\"',\n",
    "'Read this: Now answer this question, if there is an answer (If it cannot be answered, return \\\"unanswerable\\\"',\n",
    "'Answer based on context:',\n",
    "'Answer this question based on the article:',\n",
    "# (\"{context}\\n\\n{question}\", \"{answer}\"),\n",
    "'Answer this question:',\n",
    "'Read this article and answer this question',\n",
    "'Based on the above article, answer a question.',\n",
    "# 'Context: {context}\\n\\nQuestion: {question}\\n\\nAnswer:\", \"{answer}\"),\n",
    "]\n",
    "\n",
    "template"
   ]
  },
  {
   "cell_type": "code",
   "execution_count": 37,
   "metadata": {},
   "outputs": [],
   "source": [
    "# df.head(2)"
   ]
  },
  {
   "cell_type": "code",
   "execution_count": 38,
   "metadata": {
    "id": "cRRLG8gZ1IcN"
   },
   "outputs": [],
   "source": [
    "def create_pandas_dataset_from_pandas(df,\n",
    "                                      squad_1 = False,\n",
    "                                      squad_2 = False,\n",
    "                                      squad_3 = False,\n",
    "                                      squad_4 = False,\n",
    "                                      squad_5 = False,\n",
    "                                      squad_6 = False,\n",
    "                                      squad_7 = False,\n",
    "                                      squad_8 = False,\n",
    "                                      drop_1 = False,\n",
    "                                      drop_2 = False,\n",
    "                                      drop_3 = False,\n",
    "                                      drop_4 = False,\n",
    "                                      drop_5 = False,\n",
    "                                      drop_6 = False,\n",
    "                                      drop_7 = False\n",
    "                         ):\n",
    "\n",
    "  ''' Create a Pandas Dataframe from pandas.\n",
    "  Params:\n",
    "        answer_threshold: Only consider those Question Answer pairs where the Answer is short.\n",
    "  '''\n",
    "  count_index = 0\n",
    "  result_df  = pd.DataFrame(columns = ['prompt', 'answer'])   \n",
    "  # q_type_1 = \"Which Tasks are addressed in this article\"\n",
    "  # q_type_2 = \"Which Datasets are addressed in this article\"\n",
    "  # q_type_3 = \"Which Metrics are addressed in this article\"\n",
    "  # q_type_4 = \"Which Tasks, Datasets, Metrics are addressed in this article\"\n",
    "  # q_type_5 = \"Which Tasks, Datasets, Metrics and Scores are addressed in this article\" \n",
    "  \n",
    "  # q_types = [\n",
    "  #   {\"q\": \"Which Tasks are addressed in this article\", \"a_key\": \"Tasks\"}, \n",
    "  #   {\"q\": \"Which Datasets are addressed in this article\", \"a_key\": \"Datasets\"}, \n",
    "  #   {\"q\": \"Which Metrics are addressed in this article\", \"a_key\": \"Metrics\"},\n",
    "  #   {\"q\": \"Which Tasks, Datasets, Metrics are addressed in this article\", \"a_key\": \"TDMs\"},\n",
    "  #   {\"q\": \"Which Tasks, Datasets, Metrics and Scores are addressed in this article\", \"a_key\": \"TDMSs\"}\n",
    "  #   ]\n",
    "  \n",
    "  q_types = [\n",
    "    # {\"q\": \"What are the values for the following properties to construct a Leaderboard for the model introduced in this article: task, dataset, and metric?\", \"a_key\": \"TDMSs\"},\n",
    "    {\"q\": \"What are the values for the following properties to construct a Leaderboard for the model introduced in this article: task, dataset, metric, and score?\", \"a_key\": \"TDMSs\"},\n",
    "    ]\n",
    "  \n",
    "  records = df.to_dict(\"records\")\n",
    "  # db_dict = defaultdict(lambda : list())\n",
    "  for i, row in tqdm(enumerate(records), total = len(records)):        \n",
    "      for q_type in q_types:\n",
    "        \n",
    "        # Squad_v2 \n",
    "        if squad_1:\n",
    "          result_df.loc[count_index] = [f'{row[\"Context\"]}\\n\\nPlease answer a question about this article. If the question is unanswerable, say \\\"unanswerable\\\". {q_type[\"q\"]}'] \\\n",
    "            + [str(row[q_type[\"a_key\"]])] \n",
    "          count_index += 1\n",
    "        \n",
    "        if squad_2:\n",
    "          result_df.loc[count_index] = [f'Read this and answer the question. If the question is unanswerable, say \\\"unanswerable\\\".\\n\\n{row[\"Context\"]}\\n\\n{q_type[\"q\"]}'\n",
    "  ] \\\n",
    "            + [str(row[q_type[\"a_key\"]])] \n",
    "          count_index += 1\n",
    "        \n",
    "        if squad_3:\n",
    "          result_df.loc[count_index] = [f'{row[\"Context\"]}\\n{q_type[\"q\"]} (If the question is unanswerable, say \\\"unanswerable\\\"'] \\\n",
    "            + [str(row[q_type[\"a_key\"]])] \n",
    "          count_index += 1\n",
    "        \n",
    "        if squad_4:\n",
    "          result_df.loc[count_index] = [f'{row[\"Context\"]}\\nTry to answer this question if possible (otherwise reply \\\"unanswerable\\\"): {q_type[\"q\"]}'] \\\n",
    "            + [str(row[q_type[\"a_key\"]])] \n",
    "          count_index += 1\n",
    "        \n",
    "        if squad_5:\n",
    "          result_df.loc[count_index] = [f'{row[\"Context\"]}\\nIf it is possible to answer this question, answer it for me (else, reply \\\"unanswerable\\\"): {q_type[\"q\"]}'] \\\n",
    "            + [str(row[q_type[\"a_key\"]])] \n",
    "          count_index += 1\n",
    "        \n",
    "        if squad_6:\n",
    "          result_df.loc[count_index] = [f'{row[\"Context\"]}\\n\\nAnswer this question, if possible (if impossible, reply \\\"unanswerable\\\"): {q_type[\"q\"]}'] \\\n",
    "            + [str(row[q_type[\"a_key\"]])] \n",
    "          count_index += 1\n",
    "        \n",
    "        if squad_7:\n",
    "          result_df.loc[count_index] = [f'Read this: {row[\"Context\"]}\\n\\n{q_type[\"q\"]}\\nWhat is the answer? (If it cannot be answered, return \\\"unanswerable\\\")'] \\\n",
    "            + [str(row[q_type[\"a_key\"]])] \n",
    "          count_index += 1\n",
    "        \n",
    "        if squad_8:\n",
    "          result_df.loc[count_index] = [f'Read this: {row[\"Context\"]}\\nNow answer this question, if there is an answer (If it cannot be answered, return \\\"unanswerable\\\"): {q_type[\"q\"]}'] \\\n",
    "            + [str(row[q_type[\"a_key\"]])] \n",
    "          count_index += 1\n",
    "        \n",
    "        \n",
    "        # Drop\n",
    "        if drop_1:\n",
    "          result_df.loc[count_index] = [f'Answer based on context:\\n\\n{row[\"Context\"]}\\n\\n{q_type[\"q\"]}'] \\\n",
    "            + [str(row[q_type[\"a_key\"]])] \n",
    "          count_index += 1\n",
    "        \n",
    "        if drop_2:\n",
    "          result_df.loc[count_index] = [f'{row[\"Context\"]}\\n\\nAnswer this question based on the article: {q_type[\"q\"]}'] \\\n",
    "            + [str(row[q_type[\"a_key\"]])] \n",
    "          count_index += 1\n",
    "        \n",
    "        if drop_3:\n",
    "          result_df.loc[count_index] = [f'{row[\"Context\"]}\\n\\n{q_type[\"q\"]}'] \\\n",
    "            + [str(row[q_type[\"a_key\"]])] \n",
    "          count_index += 1\n",
    "        \n",
    "        if drop_4:\n",
    "          result_df.loc[count_index] = [f'{row[\"Context\"]}\\nAnswer this question: {q_type[\"q\"]}'] \\\n",
    "            + [str(row[q_type[\"a_key\"]])] \n",
    "          count_index += 1\n",
    "        \n",
    "        if drop_5:\n",
    "          result_df.loc[count_index] = [f'Read this article and answer this question {row[\"Context\"]}\\n{q_type[\"q\"]}'] \\\n",
    "            + [str(row[q_type[\"a_key\"]])] \n",
    "          count_index += 1\n",
    "        \n",
    "        if drop_6:\n",
    "          result_df.loc[count_index] = [f'{row[\"Context\"]}\\n\\nBased on the above article, answer a question. {q_type[\"q\"]}'] \\\n",
    "            + [str(row[q_type[\"a_key\"]])] \n",
    "          count_index += 1\n",
    "        \n",
    "        if drop_7:\n",
    "          result_df.loc[count_index] = [f'Context: {row[\"Context\"]}\\n\\nQuestion: {q_type[\"q\"]}\\n\\nAnswer:'] \\\n",
    "            + [str(row[q_type[\"a_key\"]])] \n",
    "          count_index += 1\n",
    "         \n",
    "  return result_df"
   ]
  },
  {
   "cell_type": "code",
   "execution_count": 39,
   "metadata": {},
   "outputs": [
    {
     "name": "stderr",
     "output_type": "stream",
     "text": [
      "100%|██████████| 3075/3075 [01:04<00:00, 47.60it/s]\n",
      "100%|██████████| 1298/1298 [00:16<00:00, 80.45it/s]\n",
      "100%|██████████| 3082/3082 [01:05<00:00, 47.16it/s]\n",
      "100%|██████████| 1291/1291 [00:15<00:00, 81.23it/s]\n"
     ]
    },
    {
     "name": "stdout",
     "output_type": "stream",
     "text": [
      "df_train_f1_all_templates describe: \n"
     ]
    },
    {
     "data": {
      "text/html": [
       "<div>\n",
       "<style scoped>\n",
       "    .dataframe tbody tr th:only-of-type {\n",
       "        vertical-align: middle;\n",
       "    }\n",
       "\n",
       "    .dataframe tbody tr th {\n",
       "        vertical-align: top;\n",
       "    }\n",
       "\n",
       "    .dataframe thead th {\n",
       "        text-align: right;\n",
       "    }\n",
       "</style>\n",
       "<table border=\"1\" class=\"dataframe\">\n",
       "  <thead>\n",
       "    <tr style=\"text-align: right;\">\n",
       "      <th></th>\n",
       "      <th>prompt</th>\n",
       "      <th>answer</th>\n",
       "    </tr>\n",
       "  </thead>\n",
       "  <tbody>\n",
       "    <tr>\n",
       "      <th>count</th>\n",
       "      <td>46125</td>\n",
       "      <td>46125</td>\n",
       "    </tr>\n",
       "    <tr>\n",
       "      <th>unique</th>\n",
       "      <td>46035</td>\n",
       "      <td>2510</td>\n",
       "    </tr>\n",
       "    <tr>\n",
       "      <th>top</th>\n",
       "      <td>Title:\\t\\n\\nAbstract:\\tThis document provides ...</td>\n",
       "      <td>unanswerable</td>\n",
       "    </tr>\n",
       "    <tr>\n",
       "      <th>freq</th>\n",
       "      <td>2</td>\n",
       "      <td>8430</td>\n",
       "    </tr>\n",
       "  </tbody>\n",
       "</table>\n",
       "</div>"
      ],
      "text/plain": [
       "                                                   prompt        answer\n",
       "count                                               46125         46125\n",
       "unique                                              46035          2510\n",
       "top     Title:\\t\\n\\nAbstract:\\tThis document provides ...  unanswerable\n",
       "freq                                                    2          8430"
      ]
     },
     "metadata": {},
     "output_type": "display_data"
    },
    {
     "name": "stdout",
     "output_type": "stream",
     "text": [
      "df_dev_f1_all_templates describe: \n"
     ]
    },
    {
     "data": {
      "text/html": [
       "<div>\n",
       "<style scoped>\n",
       "    .dataframe tbody tr th:only-of-type {\n",
       "        vertical-align: middle;\n",
       "    }\n",
       "\n",
       "    .dataframe tbody tr th {\n",
       "        vertical-align: top;\n",
       "    }\n",
       "\n",
       "    .dataframe thead th {\n",
       "        text-align: right;\n",
       "    }\n",
       "</style>\n",
       "<table border=\"1\" class=\"dataframe\">\n",
       "  <thead>\n",
       "    <tr style=\"text-align: right;\">\n",
       "      <th></th>\n",
       "      <th>prompt</th>\n",
       "      <th>answer</th>\n",
       "    </tr>\n",
       "  </thead>\n",
       "  <tbody>\n",
       "    <tr>\n",
       "      <th>count</th>\n",
       "      <td>19470</td>\n",
       "      <td>19470</td>\n",
       "    </tr>\n",
       "    <tr>\n",
       "      <th>unique</th>\n",
       "      <td>19470</td>\n",
       "      <td>1057</td>\n",
       "    </tr>\n",
       "    <tr>\n",
       "      <th>top</th>\n",
       "      <td>Title:\\t Dark Model Adaptation: Semantic Image...</td>\n",
       "      <td>unanswerable</td>\n",
       "    </tr>\n",
       "    <tr>\n",
       "      <th>freq</th>\n",
       "      <td>1</td>\n",
       "      <td>3615</td>\n",
       "    </tr>\n",
       "  </tbody>\n",
       "</table>\n",
       "</div>"
      ],
      "text/plain": [
       "                                                   prompt        answer\n",
       "count                                               19470         19470\n",
       "unique                                              19470          1057\n",
       "top     Title:\\t Dark Model Adaptation: Semantic Image...  unanswerable\n",
       "freq                                                    1          3615"
      ]
     },
     "metadata": {},
     "output_type": "display_data"
    },
    {
     "name": "stdout",
     "output_type": "stream",
     "text": [
      "df_train_f2_all_templates describe: \n"
     ]
    },
    {
     "data": {
      "text/html": [
       "<div>\n",
       "<style scoped>\n",
       "    .dataframe tbody tr th:only-of-type {\n",
       "        vertical-align: middle;\n",
       "    }\n",
       "\n",
       "    .dataframe tbody tr th {\n",
       "        vertical-align: top;\n",
       "    }\n",
       "\n",
       "    .dataframe thead th {\n",
       "        text-align: right;\n",
       "    }\n",
       "</style>\n",
       "<table border=\"1\" class=\"dataframe\">\n",
       "  <thead>\n",
       "    <tr style=\"text-align: right;\">\n",
       "      <th></th>\n",
       "      <th>prompt</th>\n",
       "      <th>answer</th>\n",
       "    </tr>\n",
       "  </thead>\n",
       "  <tbody>\n",
       "    <tr>\n",
       "      <th>count</th>\n",
       "      <td>46230</td>\n",
       "      <td>46230</td>\n",
       "    </tr>\n",
       "    <tr>\n",
       "      <th>unique</th>\n",
       "      <td>46140</td>\n",
       "      <td>2517</td>\n",
       "    </tr>\n",
       "    <tr>\n",
       "      <th>top</th>\n",
       "      <td>Title:\\tBare Demo of IEEEtran.cls\\nfor IEEE Co...</td>\n",
       "      <td>unanswerable</td>\n",
       "    </tr>\n",
       "    <tr>\n",
       "      <th>freq</th>\n",
       "      <td>2</td>\n",
       "      <td>8430</td>\n",
       "    </tr>\n",
       "  </tbody>\n",
       "</table>\n",
       "</div>"
      ],
      "text/plain": [
       "                                                   prompt        answer\n",
       "count                                               46230         46230\n",
       "unique                                              46140          2517\n",
       "top     Title:\\tBare Demo of IEEEtran.cls\\nfor IEEE Co...  unanswerable\n",
       "freq                                                    2          8430"
      ]
     },
     "metadata": {},
     "output_type": "display_data"
    },
    {
     "name": "stdout",
     "output_type": "stream",
     "text": [
      "df_dev_f2_all_templates describe: \n"
     ]
    },
    {
     "data": {
      "text/html": [
       "<div>\n",
       "<style scoped>\n",
       "    .dataframe tbody tr th:only-of-type {\n",
       "        vertical-align: middle;\n",
       "    }\n",
       "\n",
       "    .dataframe tbody tr th {\n",
       "        vertical-align: top;\n",
       "    }\n",
       "\n",
       "    .dataframe thead th {\n",
       "        text-align: right;\n",
       "    }\n",
       "</style>\n",
       "<table border=\"1\" class=\"dataframe\">\n",
       "  <thead>\n",
       "    <tr style=\"text-align: right;\">\n",
       "      <th></th>\n",
       "      <th>prompt</th>\n",
       "      <th>answer</th>\n",
       "    </tr>\n",
       "  </thead>\n",
       "  <tbody>\n",
       "    <tr>\n",
       "      <th>count</th>\n",
       "      <td>19365</td>\n",
       "      <td>19365</td>\n",
       "    </tr>\n",
       "    <tr>\n",
       "      <th>unique</th>\n",
       "      <td>19350</td>\n",
       "      <td>1051</td>\n",
       "    </tr>\n",
       "    <tr>\n",
       "      <th>top</th>\n",
       "      <td>Read this: Title:\\tTFNet: Multi-Semantic Featu...</td>\n",
       "      <td>unanswerable</td>\n",
       "    </tr>\n",
       "    <tr>\n",
       "      <th>freq</th>\n",
       "      <td>2</td>\n",
       "      <td>3615</td>\n",
       "    </tr>\n",
       "  </tbody>\n",
       "</table>\n",
       "</div>"
      ],
      "text/plain": [
       "                                                   prompt        answer\n",
       "count                                               19365         19365\n",
       "unique                                              19350          1051\n",
       "top     Read this: Title:\\tTFNet: Multi-Semantic Featu...  unanswerable\n",
       "freq                                                    2          3615"
      ]
     },
     "metadata": {},
     "output_type": "display_data"
    }
   ],
   "source": [
    "df_train_f1_all_templates = create_pandas_dataset_from_pandas(df_train_f1,\n",
    "                                                                squad_1 = True,\n",
    "                                                                squad_2 = True,\n",
    "                                                                squad_3 = True,\n",
    "                                                                squad_4 = True,\n",
    "                                                                squad_5 = True,\n",
    "                                                                squad_6 = True,\n",
    "                                                                squad_7 = True,\n",
    "                                                                squad_8 = True,\n",
    "                                                                drop_1 = True,\n",
    "                                                                drop_2 = True,\n",
    "                                                                drop_3 = True,\n",
    "                                                                drop_4 = True,\n",
    "                                                                drop_5 = True,\n",
    "                                                                drop_6 = True,\n",
    "                                                                drop_7 = True\n",
    "                                                              ) \n",
    "df_dev_f1_all_templates = create_pandas_dataset_from_pandas(df_dev_f1,\n",
    "                                                            squad_1 = True,\n",
    "                                                            squad_2 = True,\n",
    "                                                            squad_3 = True,\n",
    "                                                            squad_4 = True,\n",
    "                                                            squad_5 = True,\n",
    "                                                            squad_6 = True,\n",
    "                                                            squad_7 = True,\n",
    "                                                            squad_8 = True,\n",
    "                                                            drop_1 = True,\n",
    "                                                            drop_2 = True,\n",
    "                                                            drop_3 = True,\n",
    "                                                            drop_4 = True,\n",
    "                                                            drop_5 = True,\n",
    "                                                            drop_6 = True,\n",
    "                                                            drop_7 = True\n",
    "                                                            ) \n",
    "df_train_f2_all_templates = create_pandas_dataset_from_pandas(df_train_f2,\n",
    "                                                            squad_1 = True,\n",
    "                                                            squad_2 = True,\n",
    "                                                            squad_3 = True,\n",
    "                                                            squad_4 = True,\n",
    "                                                            squad_5 = True,\n",
    "                                                            squad_6 = True,\n",
    "                                                            squad_7 = True,\n",
    "                                                            squad_8 = True,\n",
    "                                                            drop_1 = True,\n",
    "                                                            drop_2 = True,\n",
    "                                                            drop_3 = True,\n",
    "                                                            drop_4 = True,\n",
    "                                                            drop_5 = True,\n",
    "                                                            drop_6 = True,\n",
    "                                                            drop_7 = True\n",
    "                                                              ) \n",
    "df_dev_f2_all_templates = create_pandas_dataset_from_pandas(df_dev_f2,\n",
    "                                                            squad_1 = True,\n",
    "                                                            squad_2 = True,\n",
    "                                                            squad_3 = True,\n",
    "                                                            squad_4 = True,\n",
    "                                                            squad_5 = True,\n",
    "                                                            squad_6 = True,\n",
    "                                                            squad_7 = True,\n",
    "                                                            squad_8 = True,\n",
    "                                                            drop_1 = True,\n",
    "                                                            drop_2 = True,\n",
    "                                                            drop_3 = True,\n",
    "                                                            drop_4 = True,\n",
    "                                                            drop_5 = True,\n",
    "                                                            drop_6 = True,\n",
    "                                                            drop_7 = True \n",
    "                                                            ) \n",
    "\n",
    "print(\"df_train_f1_all_templates describe: \")\n",
    "display(df_train_f1_all_templates.describe())\n",
    "print(\"df_dev_f1_all_templates describe: \")\n",
    "display(df_dev_f1_all_templates.describe())\n",
    "\n",
    "print(\"df_train_f2_all_templates describe: \")\n",
    "display(df_train_f2_all_templates.describe())\n",
    "print(\"df_dev_f2_all_templates describe: \")\n",
    "display(df_dev_f2_all_templates.describe())"
   ]
  },
  {
   "cell_type": "code",
   "execution_count": 40,
   "metadata": {},
   "outputs": [
    {
     "data": {
      "text/html": [
       "<div>\n",
       "<style scoped>\n",
       "    .dataframe tbody tr th:only-of-type {\n",
       "        vertical-align: middle;\n",
       "    }\n",
       "\n",
       "    .dataframe tbody tr th {\n",
       "        vertical-align: top;\n",
       "    }\n",
       "\n",
       "    .dataframe thead th {\n",
       "        text-align: right;\n",
       "    }\n",
       "</style>\n",
       "<table border=\"1\" class=\"dataframe\">\n",
       "  <thead>\n",
       "    <tr style=\"text-align: right;\">\n",
       "      <th></th>\n",
       "      <th>prompt</th>\n",
       "      <th>answer</th>\n",
       "    </tr>\n",
       "  </thead>\n",
       "  <tbody>\n",
       "    <tr>\n",
       "      <th>count</th>\n",
       "      <td>46125</td>\n",
       "      <td>46125</td>\n",
       "    </tr>\n",
       "    <tr>\n",
       "      <th>unique</th>\n",
       "      <td>46035</td>\n",
       "      <td>2510</td>\n",
       "    </tr>\n",
       "    <tr>\n",
       "      <th>top</th>\n",
       "      <td>Title:\\t\\n\\nAbstract:\\tThis document provides ...</td>\n",
       "      <td>unanswerable</td>\n",
       "    </tr>\n",
       "    <tr>\n",
       "      <th>freq</th>\n",
       "      <td>2</td>\n",
       "      <td>8430</td>\n",
       "    </tr>\n",
       "  </tbody>\n",
       "</table>\n",
       "</div>"
      ],
      "text/plain": [
       "                                                   prompt        answer\n",
       "count                                               46125         46125\n",
       "unique                                              46035          2510\n",
       "top     Title:\\t\\n\\nAbstract:\\tThis document provides ...  unanswerable\n",
       "freq                                                    2          8430"
      ]
     },
     "execution_count": 40,
     "metadata": {},
     "output_type": "execute_result"
    }
   ],
   "source": [
    "df_train_f1_all_templates.describe()"
   ]
  },
  {
   "cell_type": "code",
   "execution_count": 41,
   "metadata": {},
   "outputs": [
    {
     "data": {
      "text/plain": [
       "answer\n",
       "<class 'str'>    46125\n",
       "Name: count, dtype: int64"
      ]
     },
     "execution_count": 41,
     "metadata": {},
     "output_type": "execute_result"
    }
   ],
   "source": [
    "df_train_f1_all_templates['answer'].apply(type).value_counts()\n"
   ]
  },
  {
   "cell_type": "code",
   "execution_count": 42,
   "metadata": {},
   "outputs": [
    {
     "data": {
      "text/plain": [
       "answer\n",
       "<class 'str'>    19470\n",
       "Name: count, dtype: int64"
      ]
     },
     "execution_count": 42,
     "metadata": {},
     "output_type": "execute_result"
    }
   ],
   "source": [
    "df_dev_f1_all_templates['answer'].apply(type).value_counts()"
   ]
  },
  {
   "cell_type": "code",
   "execution_count": 43,
   "metadata": {},
   "outputs": [
    {
     "data": {
      "text/plain": [
       "\"[{'LEADERBOARD': {'Task': 'Semantic Segmentation', 'Dataset': 'Nighttime Driving', 'Metric': 'mIoU', 'Score': '36.1'}}]\""
      ]
     },
     "execution_count": 43,
     "metadata": {},
     "output_type": "execute_result"
    }
   ],
   "source": [
    "str(df_dev_f1_all_templates.at[5, 'answer'])"
   ]
  },
  {
   "cell_type": "code",
   "execution_count": 44,
   "metadata": {},
   "outputs": [
    {
     "data": {
      "application/vnd.jupyter.widget-view+json": {
       "model_id": "af88db5ce42a4782b15deb7c5aa8313a",
       "version_major": 2,
       "version_minor": 0
      },
      "text/plain": [
       "Downloading data files:   0%|          | 0/1 [00:00<?, ?it/s]"
      ]
     },
     "metadata": {},
     "output_type": "display_data"
    },
    {
     "data": {
      "application/vnd.jupyter.widget-view+json": {
       "model_id": "a54cfd742c9c4e269231a29e96869cff",
       "version_major": 2,
       "version_minor": 0
      },
      "text/plain": [
       "Extracting data files:   0%|          | 0/1 [00:00<?, ?it/s]"
      ]
     },
     "metadata": {},
     "output_type": "display_data"
    },
    {
     "data": {
      "application/vnd.jupyter.widget-view+json": {
       "model_id": "8acf64b3160449ab8eff1aae5cd1c153",
       "version_major": 2,
       "version_minor": 0
      },
      "text/plain": [
       "Generating train split: 0 examples [00:00, ? examples/s]"
      ]
     },
     "metadata": {},
     "output_type": "display_data"
    },
    {
     "data": {
      "application/vnd.jupyter.widget-view+json": {
       "model_id": "bab6f13f0cda498abbb369afbe38b290",
       "version_major": 2,
       "version_minor": 0
      },
      "text/plain": [
       "Downloading data files:   0%|          | 0/1 [00:00<?, ?it/s]"
      ]
     },
     "metadata": {},
     "output_type": "display_data"
    },
    {
     "data": {
      "application/vnd.jupyter.widget-view+json": {
       "model_id": "e7f151ab65c44feb91e0baf759dc769f",
       "version_major": 2,
       "version_minor": 0
      },
      "text/plain": [
       "Extracting data files:   0%|          | 0/1 [00:00<?, ?it/s]"
      ]
     },
     "metadata": {},
     "output_type": "display_data"
    },
    {
     "data": {
      "application/vnd.jupyter.widget-view+json": {
       "model_id": "6c6fc4505006490dad7294ea716ace11",
       "version_major": 2,
       "version_minor": 0
      },
      "text/plain": [
       "Generating train split: 0 examples [00:00, ? examples/s]"
      ]
     },
     "metadata": {},
     "output_type": "display_data"
    },
    {
     "data": {
      "application/vnd.jupyter.widget-view+json": {
       "model_id": "23be01eaac5d468fb9bf279c080939aa",
       "version_major": 2,
       "version_minor": 0
      },
      "text/plain": [
       "Downloading data files:   0%|          | 0/1 [00:00<?, ?it/s]"
      ]
     },
     "metadata": {},
     "output_type": "display_data"
    },
    {
     "data": {
      "application/vnd.jupyter.widget-view+json": {
       "model_id": "b143c4f325574613855ffce9b95b1493",
       "version_major": 2,
       "version_minor": 0
      },
      "text/plain": [
       "Extracting data files:   0%|          | 0/1 [00:00<?, ?it/s]"
      ]
     },
     "metadata": {},
     "output_type": "display_data"
    },
    {
     "data": {
      "application/vnd.jupyter.widget-view+json": {
       "model_id": "d3bf0d6227034ad88a7a9da5c371e286",
       "version_major": 2,
       "version_minor": 0
      },
      "text/plain": [
       "Generating train split: 0 examples [00:00, ? examples/s]"
      ]
     },
     "metadata": {},
     "output_type": "display_data"
    },
    {
     "data": {
      "application/vnd.jupyter.widget-view+json": {
       "model_id": "65d4e780453242b0b443936a21f0cb28",
       "version_major": 2,
       "version_minor": 0
      },
      "text/plain": [
       "Downloading data files:   0%|          | 0/1 [00:00<?, ?it/s]"
      ]
     },
     "metadata": {},
     "output_type": "display_data"
    },
    {
     "data": {
      "application/vnd.jupyter.widget-view+json": {
       "model_id": "37c7ba70830e444ba1ec74b417bb1809",
       "version_major": 2,
       "version_minor": 0
      },
      "text/plain": [
       "Extracting data files:   0%|          | 0/1 [00:00<?, ?it/s]"
      ]
     },
     "metadata": {},
     "output_type": "display_data"
    },
    {
     "data": {
      "application/vnd.jupyter.widget-view+json": {
       "model_id": "c8ab23b5a9cd40be8d1cd19071667dcb",
       "version_major": 2,
       "version_minor": 0
      },
      "text/plain": [
       "Generating train split: 0 examples [00:00, ? examples/s]"
      ]
     },
     "metadata": {},
     "output_type": "display_data"
    },
    {
     "name": "stdout",
     "output_type": "stream",
     "text": [
      "DatasetDict({\n",
      "    fold1: DatasetDict({\n",
      "        train: Dataset({\n",
      "            features: ['prompt', 'answer', '__index_level_0__'],\n",
      "            num_rows: 46125\n",
      "        })\n",
      "        validation: Dataset({\n",
      "            features: ['prompt', 'answer', '__index_level_0__'],\n",
      "            num_rows: 19470\n",
      "        })\n",
      "    })\n",
      "    fold2: DatasetDict({\n",
      "        train: Dataset({\n",
      "            features: ['prompt', 'answer', '__index_level_0__'],\n",
      "            num_rows: 46230\n",
      "        })\n",
      "        validation: Dataset({\n",
      "            features: ['prompt', 'answer', '__index_level_0__'],\n",
      "            num_rows: 19365\n",
      "        })\n",
      "    })\n",
      "})\n"
     ]
    },
    {
     "data": {
      "application/vnd.jupyter.widget-view+json": {
       "model_id": "974aac7702044e169415fab60a4401df",
       "version_major": 2,
       "version_minor": 0
      },
      "text/plain": [
       "Saving the dataset (0/2 shards):   0%|          | 0/46125 [00:00<?, ? examples/s]"
      ]
     },
     "metadata": {},
     "output_type": "display_data"
    },
    {
     "data": {
      "application/vnd.jupyter.widget-view+json": {
       "model_id": "7ea2cf408cba4739a9aea863d4072b87",
       "version_major": 2,
       "version_minor": 0
      },
      "text/plain": [
       "Saving the dataset (0/1 shards):   0%|          | 0/19470 [00:00<?, ? examples/s]"
      ]
     },
     "metadata": {},
     "output_type": "display_data"
    },
    {
     "data": {
      "application/vnd.jupyter.widget-view+json": {
       "model_id": "604392960e80416087184aebf02f7156",
       "version_major": 2,
       "version_minor": 0
      },
      "text/plain": [
       "Saving the dataset (0/2 shards):   0%|          | 0/46230 [00:00<?, ? examples/s]"
      ]
     },
     "metadata": {},
     "output_type": "display_data"
    },
    {
     "data": {
      "application/vnd.jupyter.widget-view+json": {
       "model_id": "bb4c56c9e64f49b6a243e06d42b8457e",
       "version_major": 2,
       "version_minor": 0
      },
      "text/plain": [
       "Saving the dataset (0/1 shards):   0%|          | 0/19365 [00:00<?, ? examples/s]"
      ]
     },
     "metadata": {},
     "output_type": "display_data"
    }
   ],
   "source": [
    "df_train_f1_all_templates.to_parquet('../data/df_train_tdms_long_summarized_f1_all_templates.parquet')\n",
    "df_dev_f1_all_templates.to_parquet('../data/df_dev_tdms_long_summarized_f1_all_templates.parquet')\n",
    "df_train_f2_all_templates.to_parquet('../data/df_train_tdms_long_summarized_f2_all_templates.parquet')\n",
    "df_dev_f2_all_templates.to_parquet('../data/df_dev_tdms_long_summarized_f2_all_templates.parquet')\n",
    "\n",
    "dataset = DatasetDict({\n",
    "    'fold1': DatasetDict({\n",
    "        \"train\": Dataset.from_parquet('../data/df_train_tdms_long_summarized_f1_all_templates.parquet'),\n",
    "        \"validation\": Dataset.from_parquet('../data/df_dev_tdms_long_summarized_f1_all_templates.parquet')\n",
    "    }),\n",
    "    'fold2': DatasetDict({\n",
    "        \"train\": Dataset.from_parquet('../data/df_train_tdms_long_summarized_f2_all_templates.parquet'),\n",
    "        \"validation\": Dataset.from_parquet('../data/df_dev_tdms_long_summarized_f2_all_templates.parquet')\n",
    "    })\n",
    "})\n",
    "\n",
    "print(dataset)\n",
    "\n",
    "dataset.save_to_disk(\"../data/LLLM_LONG_SUMMARIZED_TDMS_ALL_TEMPLATE\")"
   ]
  },
  {
   "cell_type": "code",
   "execution_count": 45,
   "metadata": {},
   "outputs": [],
   "source": [
    "# df_train_f1_all_templates = pd.read_parquet('../data/df_train_f1_all_templates.parquet')\n",
    "# df_dev_f1_all_templates = pd.read_parquet('../data/df_dev_f1_all_templates.parquet')\n",
    "# df_train_f2_all_templates = pd.read_parquet('../data/df_train_f2_all_templates.parquet')\n",
    "# df_dev_f2_all_templates = pd.read_parquet('../data/df_dev_f2_all_templates.parquet')"
   ]
  },
  {
   "cell_type": "markdown",
   "metadata": {},
   "source": [
    "# Specific Template"
   ]
  },
  {
   "cell_type": "code",
   "execution_count": 46,
   "metadata": {},
   "outputs": [
    {
     "name": "stderr",
     "output_type": "stream",
     "text": [
      "100%|██████████| 3075/3075 [00:01<00:00, 1560.66it/s]\n",
      "100%|██████████| 1298/1298 [00:00<00:00, 1627.62it/s]\n",
      "100%|██████████| 3082/3082 [00:01<00:00, 1566.52it/s]\n",
      "100%|██████████| 1291/1291 [00:00<00:00, 1634.03it/s]\n"
     ]
    },
    {
     "name": "stdout",
     "output_type": "stream",
     "text": [
      "df_train_f1_squad_1 describe: \n"
     ]
    },
    {
     "data": {
      "text/html": [
       "<div>\n",
       "<style scoped>\n",
       "    .dataframe tbody tr th:only-of-type {\n",
       "        vertical-align: middle;\n",
       "    }\n",
       "\n",
       "    .dataframe tbody tr th {\n",
       "        vertical-align: top;\n",
       "    }\n",
       "\n",
       "    .dataframe thead th {\n",
       "        text-align: right;\n",
       "    }\n",
       "</style>\n",
       "<table border=\"1\" class=\"dataframe\">\n",
       "  <thead>\n",
       "    <tr style=\"text-align: right;\">\n",
       "      <th></th>\n",
       "      <th>prompt</th>\n",
       "      <th>answer</th>\n",
       "    </tr>\n",
       "  </thead>\n",
       "  <tbody>\n",
       "    <tr>\n",
       "      <th>count</th>\n",
       "      <td>3075</td>\n",
       "      <td>3075</td>\n",
       "    </tr>\n",
       "    <tr>\n",
       "      <th>unique</th>\n",
       "      <td>3069</td>\n",
       "      <td>2510</td>\n",
       "    </tr>\n",
       "    <tr>\n",
       "      <th>top</th>\n",
       "      <td>Title:\\tIJCAI–19 Example on typesetting multip...</td>\n",
       "      <td>unanswerable</td>\n",
       "    </tr>\n",
       "    <tr>\n",
       "      <th>freq</th>\n",
       "      <td>2</td>\n",
       "      <td>562</td>\n",
       "    </tr>\n",
       "  </tbody>\n",
       "</table>\n",
       "</div>"
      ],
      "text/plain": [
       "                                                   prompt        answer\n",
       "count                                                3075          3075\n",
       "unique                                               3069          2510\n",
       "top     Title:\\tIJCAI–19 Example on typesetting multip...  unanswerable\n",
       "freq                                                    2           562"
      ]
     },
     "metadata": {},
     "output_type": "display_data"
    },
    {
     "name": "stdout",
     "output_type": "stream",
     "text": [
      "df_dev_f1_squad_1 describe: \n"
     ]
    },
    {
     "data": {
      "text/html": [
       "<div>\n",
       "<style scoped>\n",
       "    .dataframe tbody tr th:only-of-type {\n",
       "        vertical-align: middle;\n",
       "    }\n",
       "\n",
       "    .dataframe tbody tr th {\n",
       "        vertical-align: top;\n",
       "    }\n",
       "\n",
       "    .dataframe thead th {\n",
       "        text-align: right;\n",
       "    }\n",
       "</style>\n",
       "<table border=\"1\" class=\"dataframe\">\n",
       "  <thead>\n",
       "    <tr style=\"text-align: right;\">\n",
       "      <th></th>\n",
       "      <th>prompt</th>\n",
       "      <th>answer</th>\n",
       "    </tr>\n",
       "  </thead>\n",
       "  <tbody>\n",
       "    <tr>\n",
       "      <th>count</th>\n",
       "      <td>1298</td>\n",
       "      <td>1298</td>\n",
       "    </tr>\n",
       "    <tr>\n",
       "      <th>unique</th>\n",
       "      <td>1298</td>\n",
       "      <td>1057</td>\n",
       "    </tr>\n",
       "    <tr>\n",
       "      <th>top</th>\n",
       "      <td>Title:\\t Dark Model Adaptation: Semantic Image...</td>\n",
       "      <td>unanswerable</td>\n",
       "    </tr>\n",
       "    <tr>\n",
       "      <th>freq</th>\n",
       "      <td>1</td>\n",
       "      <td>241</td>\n",
       "    </tr>\n",
       "  </tbody>\n",
       "</table>\n",
       "</div>"
      ],
      "text/plain": [
       "                                                   prompt        answer\n",
       "count                                                1298          1298\n",
       "unique                                               1298          1057\n",
       "top     Title:\\t Dark Model Adaptation: Semantic Image...  unanswerable\n",
       "freq                                                    1           241"
      ]
     },
     "metadata": {},
     "output_type": "display_data"
    },
    {
     "name": "stdout",
     "output_type": "stream",
     "text": [
      "df_train_f2_squad_1 describe: \n"
     ]
    },
    {
     "data": {
      "text/html": [
       "<div>\n",
       "<style scoped>\n",
       "    .dataframe tbody tr th:only-of-type {\n",
       "        vertical-align: middle;\n",
       "    }\n",
       "\n",
       "    .dataframe tbody tr th {\n",
       "        vertical-align: top;\n",
       "    }\n",
       "\n",
       "    .dataframe thead th {\n",
       "        text-align: right;\n",
       "    }\n",
       "</style>\n",
       "<table border=\"1\" class=\"dataframe\">\n",
       "  <thead>\n",
       "    <tr style=\"text-align: right;\">\n",
       "      <th></th>\n",
       "      <th>prompt</th>\n",
       "      <th>answer</th>\n",
       "    </tr>\n",
       "  </thead>\n",
       "  <tbody>\n",
       "    <tr>\n",
       "      <th>count</th>\n",
       "      <td>3082</td>\n",
       "      <td>3082</td>\n",
       "    </tr>\n",
       "    <tr>\n",
       "      <th>unique</th>\n",
       "      <td>3076</td>\n",
       "      <td>2517</td>\n",
       "    </tr>\n",
       "    <tr>\n",
       "      <th>top</th>\n",
       "      <td>Title:\\tBare Demo of IEEEtran.cls\\nfor IEEE Co...</td>\n",
       "      <td>unanswerable</td>\n",
       "    </tr>\n",
       "    <tr>\n",
       "      <th>freq</th>\n",
       "      <td>2</td>\n",
       "      <td>562</td>\n",
       "    </tr>\n",
       "  </tbody>\n",
       "</table>\n",
       "</div>"
      ],
      "text/plain": [
       "                                                   prompt        answer\n",
       "count                                                3082          3082\n",
       "unique                                               3076          2517\n",
       "top     Title:\\tBare Demo of IEEEtran.cls\\nfor IEEE Co...  unanswerable\n",
       "freq                                                    2           562"
      ]
     },
     "metadata": {},
     "output_type": "display_data"
    },
    {
     "name": "stdout",
     "output_type": "stream",
     "text": [
      "df_dev_f2_squad_1 describe: \n"
     ]
    },
    {
     "data": {
      "text/html": [
       "<div>\n",
       "<style scoped>\n",
       "    .dataframe tbody tr th:only-of-type {\n",
       "        vertical-align: middle;\n",
       "    }\n",
       "\n",
       "    .dataframe tbody tr th {\n",
       "        vertical-align: top;\n",
       "    }\n",
       "\n",
       "    .dataframe thead th {\n",
       "        text-align: right;\n",
       "    }\n",
       "</style>\n",
       "<table border=\"1\" class=\"dataframe\">\n",
       "  <thead>\n",
       "    <tr style=\"text-align: right;\">\n",
       "      <th></th>\n",
       "      <th>prompt</th>\n",
       "      <th>answer</th>\n",
       "    </tr>\n",
       "  </thead>\n",
       "  <tbody>\n",
       "    <tr>\n",
       "      <th>count</th>\n",
       "      <td>1291</td>\n",
       "      <td>1291</td>\n",
       "    </tr>\n",
       "    <tr>\n",
       "      <th>unique</th>\n",
       "      <td>1290</td>\n",
       "      <td>1051</td>\n",
       "    </tr>\n",
       "    <tr>\n",
       "      <th>top</th>\n",
       "      <td>Title:\\tTFNet: Multi-Semantic Feature Interact...</td>\n",
       "      <td>unanswerable</td>\n",
       "    </tr>\n",
       "    <tr>\n",
       "      <th>freq</th>\n",
       "      <td>2</td>\n",
       "      <td>241</td>\n",
       "    </tr>\n",
       "  </tbody>\n",
       "</table>\n",
       "</div>"
      ],
      "text/plain": [
       "                                                   prompt        answer\n",
       "count                                                1291          1291\n",
       "unique                                               1290          1051\n",
       "top     Title:\\tTFNet: Multi-Semantic Feature Interact...  unanswerable\n",
       "freq                                                    2           241"
      ]
     },
     "metadata": {},
     "output_type": "display_data"
    },
    {
     "data": {
      "application/vnd.jupyter.widget-view+json": {
       "model_id": "a497a59dff2f4dde90a6ce129f254a8d",
       "version_major": 2,
       "version_minor": 0
      },
      "text/plain": [
       "Downloading data files:   0%|          | 0/1 [00:00<?, ?it/s]"
      ]
     },
     "metadata": {},
     "output_type": "display_data"
    },
    {
     "data": {
      "application/vnd.jupyter.widget-view+json": {
       "model_id": "7a73dded0b2c49a3a2b71b7f15729abb",
       "version_major": 2,
       "version_minor": 0
      },
      "text/plain": [
       "Extracting data files:   0%|          | 0/1 [00:00<?, ?it/s]"
      ]
     },
     "metadata": {},
     "output_type": "display_data"
    },
    {
     "data": {
      "application/vnd.jupyter.widget-view+json": {
       "model_id": "18e218db45024657a1c2e1006dc46ff2",
       "version_major": 2,
       "version_minor": 0
      },
      "text/plain": [
       "Generating train split: 0 examples [00:00, ? examples/s]"
      ]
     },
     "metadata": {},
     "output_type": "display_data"
    },
    {
     "data": {
      "application/vnd.jupyter.widget-view+json": {
       "model_id": "05c74623dc234bb4b73731e32ab9466e",
       "version_major": 2,
       "version_minor": 0
      },
      "text/plain": [
       "Downloading data files:   0%|          | 0/1 [00:00<?, ?it/s]"
      ]
     },
     "metadata": {},
     "output_type": "display_data"
    },
    {
     "data": {
      "application/vnd.jupyter.widget-view+json": {
       "model_id": "2cd9954b80284e7f9df34aabaf6ab1c4",
       "version_major": 2,
       "version_minor": 0
      },
      "text/plain": [
       "Extracting data files:   0%|          | 0/1 [00:00<?, ?it/s]"
      ]
     },
     "metadata": {},
     "output_type": "display_data"
    },
    {
     "data": {
      "application/vnd.jupyter.widget-view+json": {
       "model_id": "82a2db614d3a4f8fa82a970c3a5ae0b7",
       "version_major": 2,
       "version_minor": 0
      },
      "text/plain": [
       "Generating train split: 0 examples [00:00, ? examples/s]"
      ]
     },
     "metadata": {},
     "output_type": "display_data"
    },
    {
     "data": {
      "application/vnd.jupyter.widget-view+json": {
       "model_id": "cb7e0c33e60a44cf8ae508566867904a",
       "version_major": 2,
       "version_minor": 0
      },
      "text/plain": [
       "Downloading data files:   0%|          | 0/1 [00:00<?, ?it/s]"
      ]
     },
     "metadata": {},
     "output_type": "display_data"
    },
    {
     "data": {
      "application/vnd.jupyter.widget-view+json": {
       "model_id": "ed8cb451bdc04841a3a2b9a873622744",
       "version_major": 2,
       "version_minor": 0
      },
      "text/plain": [
       "Extracting data files:   0%|          | 0/1 [00:00<?, ?it/s]"
      ]
     },
     "metadata": {},
     "output_type": "display_data"
    },
    {
     "data": {
      "application/vnd.jupyter.widget-view+json": {
       "model_id": "e6777e914f674ff9ada1ea25532f7881",
       "version_major": 2,
       "version_minor": 0
      },
      "text/plain": [
       "Generating train split: 0 examples [00:00, ? examples/s]"
      ]
     },
     "metadata": {},
     "output_type": "display_data"
    },
    {
     "data": {
      "application/vnd.jupyter.widget-view+json": {
       "model_id": "21703cae78cc4d9b993bfdcdfe6c09a7",
       "version_major": 2,
       "version_minor": 0
      },
      "text/plain": [
       "Downloading data files:   0%|          | 0/1 [00:00<?, ?it/s]"
      ]
     },
     "metadata": {},
     "output_type": "display_data"
    },
    {
     "data": {
      "application/vnd.jupyter.widget-view+json": {
       "model_id": "53fcdbad737849baa06271305fe66bbc",
       "version_major": 2,
       "version_minor": 0
      },
      "text/plain": [
       "Extracting data files:   0%|          | 0/1 [00:00<?, ?it/s]"
      ]
     },
     "metadata": {},
     "output_type": "display_data"
    },
    {
     "data": {
      "application/vnd.jupyter.widget-view+json": {
       "model_id": "5983bf1ac96d4aa5a03085ebe249a99d",
       "version_major": 2,
       "version_minor": 0
      },
      "text/plain": [
       "Generating train split: 0 examples [00:00, ? examples/s]"
      ]
     },
     "metadata": {},
     "output_type": "display_data"
    },
    {
     "name": "stdout",
     "output_type": "stream",
     "text": [
      "DatasetDict({\n",
      "    fold1: DatasetDict({\n",
      "        train: Dataset({\n",
      "            features: ['prompt', 'answer', '__index_level_0__'],\n",
      "            num_rows: 3075\n",
      "        })\n",
      "        validation: Dataset({\n",
      "            features: ['prompt', 'answer', '__index_level_0__'],\n",
      "            num_rows: 1298\n",
      "        })\n",
      "    })\n",
      "    fold2: DatasetDict({\n",
      "        train: Dataset({\n",
      "            features: ['prompt', 'answer', '__index_level_0__'],\n",
      "            num_rows: 3082\n",
      "        })\n",
      "        validation: Dataset({\n",
      "            features: ['prompt', 'answer', '__index_level_0__'],\n",
      "            num_rows: 1291\n",
      "        })\n",
      "    })\n",
      "})\n"
     ]
    },
    {
     "data": {
      "application/vnd.jupyter.widget-view+json": {
       "model_id": "f78f34459a9343dd9a891af8cf0fd375",
       "version_major": 2,
       "version_minor": 0
      },
      "text/plain": [
       "Saving the dataset (0/1 shards):   0%|          | 0/3075 [00:00<?, ? examples/s]"
      ]
     },
     "metadata": {},
     "output_type": "display_data"
    },
    {
     "data": {
      "application/vnd.jupyter.widget-view+json": {
       "model_id": "14ccfc31085c4f73b30566e1add27415",
       "version_major": 2,
       "version_minor": 0
      },
      "text/plain": [
       "Saving the dataset (0/1 shards):   0%|          | 0/1298 [00:00<?, ? examples/s]"
      ]
     },
     "metadata": {},
     "output_type": "display_data"
    },
    {
     "data": {
      "application/vnd.jupyter.widget-view+json": {
       "model_id": "2931dc5ccff54d249bc71baaaf6a1823",
       "version_major": 2,
       "version_minor": 0
      },
      "text/plain": [
       "Saving the dataset (0/1 shards):   0%|          | 0/3082 [00:00<?, ? examples/s]"
      ]
     },
     "metadata": {},
     "output_type": "display_data"
    },
    {
     "data": {
      "application/vnd.jupyter.widget-view+json": {
       "model_id": "62f891c0008442cd9cd6d6316c1a833e",
       "version_major": 2,
       "version_minor": 0
      },
      "text/plain": [
       "Saving the dataset (0/1 shards):   0%|          | 0/1291 [00:00<?, ? examples/s]"
      ]
     },
     "metadata": {},
     "output_type": "display_data"
    }
   ],
   "source": [
    "df_train_f1_squad_1 = create_pandas_dataset_from_pandas(df_train_f1,\n",
    "                                                        squad_1 = True,\n",
    "                                                        ) \n",
    "df_dev_f1_squad_1 = create_pandas_dataset_from_pandas(df_dev_f1,\n",
    "                                                        squad_1 = True,\n",
    "                                                        ) \n",
    "df_train_f2_squad_1 = create_pandas_dataset_from_pandas(df_train_f2,\n",
    "                                                        squad_1 = True,\n",
    "                                                        ) \n",
    "df_dev_f2_squad_1 = create_pandas_dataset_from_pandas(df_dev_f2,\n",
    "                                                        squad_1 = True,\n",
    "                                                        ) \n",
    "\n",
    "print(\"df_train_f1_squad_1 describe: \")\n",
    "display(df_train_f1_squad_1.describe())\n",
    "print(\"df_dev_f1_squad_1 describe: \")\n",
    "display(df_dev_f1_squad_1.describe())\n",
    "\n",
    "print(\"df_train_f2_squad_1 describe: \")\n",
    "display(df_train_f2_squad_1.describe())\n",
    "print(\"df_dev_f2_squad_1 describe: \")\n",
    "display(df_dev_f2_squad_1.describe())\n",
    "\n",
    "df_train_f1_squad_1.to_parquet('../data/df_train_tdms_long_summarized_f1_squad_1.parquet')\n",
    "df_dev_f1_squad_1.to_parquet('../data/df_dev_tdms_long_summarized_f1_squad_1.parquet')\n",
    "df_train_f2_squad_1.to_parquet('../data/df_train_tdms_long_summarized_f2_squad_1.parquet')\n",
    "df_dev_f2_squad_1.to_parquet('../data/df_dev_tdms_long_summarized_f2_squad_1.parquet')\n",
    "\n",
    "dataset = DatasetDict({\n",
    "    'fold1': DatasetDict({\n",
    "        \"train\": Dataset.from_parquet('../data/df_train_tdms_long_summarized_f1_squad_1.parquet'),\n",
    "        \"validation\": Dataset.from_parquet('../data/df_dev_tdms_long_summarized_f1_squad_1.parquet')\n",
    "    }),\n",
    "    'fold2': DatasetDict({\n",
    "        \"train\": Dataset.from_parquet('../data/df_train_tdms_long_summarized_f2_squad_1.parquet'),\n",
    "        \"validation\": Dataset.from_parquet('../data/df_dev_tdms_long_summarized_f2_squad_1.parquet')\n",
    "    })\n",
    "})\n",
    "\n",
    "print(dataset)\n",
    "\n",
    "dataset.save_to_disk(\"../data/LLLM_LONG_SUMMARIZED_TDMS_SQUAD_1\")"
   ]
  },
  {
   "cell_type": "code",
   "execution_count": 47,
   "metadata": {},
   "outputs": [
    {
     "name": "stderr",
     "output_type": "stream",
     "text": [
      "100%|██████████| 3075/3075 [00:01<00:00, 1602.25it/s]\n",
      "100%|██████████| 1298/1298 [00:00<00:00, 1632.93it/s]\n",
      "100%|██████████| 3082/3082 [00:01<00:00, 1574.88it/s]\n",
      "100%|██████████| 1291/1291 [00:00<00:00, 1668.14it/s]\n"
     ]
    },
    {
     "name": "stdout",
     "output_type": "stream",
     "text": [
      "df_train_f1_squad_2 describe: \n"
     ]
    },
    {
     "data": {
      "text/html": [
       "<div>\n",
       "<style scoped>\n",
       "    .dataframe tbody tr th:only-of-type {\n",
       "        vertical-align: middle;\n",
       "    }\n",
       "\n",
       "    .dataframe tbody tr th {\n",
       "        vertical-align: top;\n",
       "    }\n",
       "\n",
       "    .dataframe thead th {\n",
       "        text-align: right;\n",
       "    }\n",
       "</style>\n",
       "<table border=\"1\" class=\"dataframe\">\n",
       "  <thead>\n",
       "    <tr style=\"text-align: right;\">\n",
       "      <th></th>\n",
       "      <th>prompt</th>\n",
       "      <th>answer</th>\n",
       "    </tr>\n",
       "  </thead>\n",
       "  <tbody>\n",
       "    <tr>\n",
       "      <th>count</th>\n",
       "      <td>3075</td>\n",
       "      <td>3075</td>\n",
       "    </tr>\n",
       "    <tr>\n",
       "      <th>unique</th>\n",
       "      <td>3069</td>\n",
       "      <td>2510</td>\n",
       "    </tr>\n",
       "    <tr>\n",
       "      <th>top</th>\n",
       "      <td>Read this and answer the question. If the ques...</td>\n",
       "      <td>unanswerable</td>\n",
       "    </tr>\n",
       "    <tr>\n",
       "      <th>freq</th>\n",
       "      <td>2</td>\n",
       "      <td>562</td>\n",
       "    </tr>\n",
       "  </tbody>\n",
       "</table>\n",
       "</div>"
      ],
      "text/plain": [
       "                                                   prompt        answer\n",
       "count                                                3075          3075\n",
       "unique                                               3069          2510\n",
       "top     Read this and answer the question. If the ques...  unanswerable\n",
       "freq                                                    2           562"
      ]
     },
     "metadata": {},
     "output_type": "display_data"
    },
    {
     "name": "stdout",
     "output_type": "stream",
     "text": [
      "df_dev_f1_squad_2 describe: \n"
     ]
    },
    {
     "data": {
      "text/html": [
       "<div>\n",
       "<style scoped>\n",
       "    .dataframe tbody tr th:only-of-type {\n",
       "        vertical-align: middle;\n",
       "    }\n",
       "\n",
       "    .dataframe tbody tr th {\n",
       "        vertical-align: top;\n",
       "    }\n",
       "\n",
       "    .dataframe thead th {\n",
       "        text-align: right;\n",
       "    }\n",
       "</style>\n",
       "<table border=\"1\" class=\"dataframe\">\n",
       "  <thead>\n",
       "    <tr style=\"text-align: right;\">\n",
       "      <th></th>\n",
       "      <th>prompt</th>\n",
       "      <th>answer</th>\n",
       "    </tr>\n",
       "  </thead>\n",
       "  <tbody>\n",
       "    <tr>\n",
       "      <th>count</th>\n",
       "      <td>1298</td>\n",
       "      <td>1298</td>\n",
       "    </tr>\n",
       "    <tr>\n",
       "      <th>unique</th>\n",
       "      <td>1298</td>\n",
       "      <td>1057</td>\n",
       "    </tr>\n",
       "    <tr>\n",
       "      <th>top</th>\n",
       "      <td>Read this and answer the question. If the ques...</td>\n",
       "      <td>unanswerable</td>\n",
       "    </tr>\n",
       "    <tr>\n",
       "      <th>freq</th>\n",
       "      <td>1</td>\n",
       "      <td>241</td>\n",
       "    </tr>\n",
       "  </tbody>\n",
       "</table>\n",
       "</div>"
      ],
      "text/plain": [
       "                                                   prompt        answer\n",
       "count                                                1298          1298\n",
       "unique                                               1298          1057\n",
       "top     Read this and answer the question. If the ques...  unanswerable\n",
       "freq                                                    1           241"
      ]
     },
     "metadata": {},
     "output_type": "display_data"
    },
    {
     "name": "stdout",
     "output_type": "stream",
     "text": [
      "df_train_f2_squad_2 describe: \n"
     ]
    },
    {
     "data": {
      "text/html": [
       "<div>\n",
       "<style scoped>\n",
       "    .dataframe tbody tr th:only-of-type {\n",
       "        vertical-align: middle;\n",
       "    }\n",
       "\n",
       "    .dataframe tbody tr th {\n",
       "        vertical-align: top;\n",
       "    }\n",
       "\n",
       "    .dataframe thead th {\n",
       "        text-align: right;\n",
       "    }\n",
       "</style>\n",
       "<table border=\"1\" class=\"dataframe\">\n",
       "  <thead>\n",
       "    <tr style=\"text-align: right;\">\n",
       "      <th></th>\n",
       "      <th>prompt</th>\n",
       "      <th>answer</th>\n",
       "    </tr>\n",
       "  </thead>\n",
       "  <tbody>\n",
       "    <tr>\n",
       "      <th>count</th>\n",
       "      <td>3082</td>\n",
       "      <td>3082</td>\n",
       "    </tr>\n",
       "    <tr>\n",
       "      <th>unique</th>\n",
       "      <td>3076</td>\n",
       "      <td>2517</td>\n",
       "    </tr>\n",
       "    <tr>\n",
       "      <th>top</th>\n",
       "      <td>Read this and answer the question. If the ques...</td>\n",
       "      <td>unanswerable</td>\n",
       "    </tr>\n",
       "    <tr>\n",
       "      <th>freq</th>\n",
       "      <td>2</td>\n",
       "      <td>562</td>\n",
       "    </tr>\n",
       "  </tbody>\n",
       "</table>\n",
       "</div>"
      ],
      "text/plain": [
       "                                                   prompt        answer\n",
       "count                                                3082          3082\n",
       "unique                                               3076          2517\n",
       "top     Read this and answer the question. If the ques...  unanswerable\n",
       "freq                                                    2           562"
      ]
     },
     "metadata": {},
     "output_type": "display_data"
    },
    {
     "name": "stdout",
     "output_type": "stream",
     "text": [
      "df_dev_f2_squad_2 describe: \n"
     ]
    },
    {
     "data": {
      "text/html": [
       "<div>\n",
       "<style scoped>\n",
       "    .dataframe tbody tr th:only-of-type {\n",
       "        vertical-align: middle;\n",
       "    }\n",
       "\n",
       "    .dataframe tbody tr th {\n",
       "        vertical-align: top;\n",
       "    }\n",
       "\n",
       "    .dataframe thead th {\n",
       "        text-align: right;\n",
       "    }\n",
       "</style>\n",
       "<table border=\"1\" class=\"dataframe\">\n",
       "  <thead>\n",
       "    <tr style=\"text-align: right;\">\n",
       "      <th></th>\n",
       "      <th>prompt</th>\n",
       "      <th>answer</th>\n",
       "    </tr>\n",
       "  </thead>\n",
       "  <tbody>\n",
       "    <tr>\n",
       "      <th>count</th>\n",
       "      <td>1291</td>\n",
       "      <td>1291</td>\n",
       "    </tr>\n",
       "    <tr>\n",
       "      <th>unique</th>\n",
       "      <td>1290</td>\n",
       "      <td>1051</td>\n",
       "    </tr>\n",
       "    <tr>\n",
       "      <th>top</th>\n",
       "      <td>Read this and answer the question. If the ques...</td>\n",
       "      <td>unanswerable</td>\n",
       "    </tr>\n",
       "    <tr>\n",
       "      <th>freq</th>\n",
       "      <td>2</td>\n",
       "      <td>241</td>\n",
       "    </tr>\n",
       "  </tbody>\n",
       "</table>\n",
       "</div>"
      ],
      "text/plain": [
       "                                                   prompt        answer\n",
       "count                                                1291          1291\n",
       "unique                                               1290          1051\n",
       "top     Read this and answer the question. If the ques...  unanswerable\n",
       "freq                                                    2           241"
      ]
     },
     "metadata": {},
     "output_type": "display_data"
    },
    {
     "data": {
      "application/vnd.jupyter.widget-view+json": {
       "model_id": "0506a6a01fda4186866c6259b501d32a",
       "version_major": 2,
       "version_minor": 0
      },
      "text/plain": [
       "Downloading data files:   0%|          | 0/1 [00:00<?, ?it/s]"
      ]
     },
     "metadata": {},
     "output_type": "display_data"
    },
    {
     "data": {
      "application/vnd.jupyter.widget-view+json": {
       "model_id": "b1f55a2226ca4c01b8badb8621cb7e5e",
       "version_major": 2,
       "version_minor": 0
      },
      "text/plain": [
       "Extracting data files:   0%|          | 0/1 [00:00<?, ?it/s]"
      ]
     },
     "metadata": {},
     "output_type": "display_data"
    },
    {
     "data": {
      "application/vnd.jupyter.widget-view+json": {
       "model_id": "8cbd72bfa7274cb090e55c219e369560",
       "version_major": 2,
       "version_minor": 0
      },
      "text/plain": [
       "Generating train split: 0 examples [00:00, ? examples/s]"
      ]
     },
     "metadata": {},
     "output_type": "display_data"
    },
    {
     "data": {
      "application/vnd.jupyter.widget-view+json": {
       "model_id": "f21e6461c3ad42a89c51d356d18c98fd",
       "version_major": 2,
       "version_minor": 0
      },
      "text/plain": [
       "Downloading data files:   0%|          | 0/1 [00:00<?, ?it/s]"
      ]
     },
     "metadata": {},
     "output_type": "display_data"
    },
    {
     "data": {
      "application/vnd.jupyter.widget-view+json": {
       "model_id": "6c0a51029fb44ed280c6b04be5f1872e",
       "version_major": 2,
       "version_minor": 0
      },
      "text/plain": [
       "Extracting data files:   0%|          | 0/1 [00:00<?, ?it/s]"
      ]
     },
     "metadata": {},
     "output_type": "display_data"
    },
    {
     "data": {
      "application/vnd.jupyter.widget-view+json": {
       "model_id": "4c2a1e08472c47ac82b9da6ffaccde4a",
       "version_major": 2,
       "version_minor": 0
      },
      "text/plain": [
       "Generating train split: 0 examples [00:00, ? examples/s]"
      ]
     },
     "metadata": {},
     "output_type": "display_data"
    },
    {
     "data": {
      "application/vnd.jupyter.widget-view+json": {
       "model_id": "5a1c75e8c18240098902df7975bf8bbc",
       "version_major": 2,
       "version_minor": 0
      },
      "text/plain": [
       "Downloading data files:   0%|          | 0/1 [00:00<?, ?it/s]"
      ]
     },
     "metadata": {},
     "output_type": "display_data"
    },
    {
     "data": {
      "application/vnd.jupyter.widget-view+json": {
       "model_id": "6fb2e67db8b04d6887375ba4092ad7a8",
       "version_major": 2,
       "version_minor": 0
      },
      "text/plain": [
       "Extracting data files:   0%|          | 0/1 [00:00<?, ?it/s]"
      ]
     },
     "metadata": {},
     "output_type": "display_data"
    },
    {
     "data": {
      "application/vnd.jupyter.widget-view+json": {
       "model_id": "617b0ad76c42426bb7a5c0698b359de3",
       "version_major": 2,
       "version_minor": 0
      },
      "text/plain": [
       "Generating train split: 0 examples [00:00, ? examples/s]"
      ]
     },
     "metadata": {},
     "output_type": "display_data"
    },
    {
     "data": {
      "application/vnd.jupyter.widget-view+json": {
       "model_id": "af3dd4dfe1d5466b87dec4e82475de56",
       "version_major": 2,
       "version_minor": 0
      },
      "text/plain": [
       "Downloading data files:   0%|          | 0/1 [00:00<?, ?it/s]"
      ]
     },
     "metadata": {},
     "output_type": "display_data"
    },
    {
     "data": {
      "application/vnd.jupyter.widget-view+json": {
       "model_id": "93e98d5228d443049d193ab5df614a58",
       "version_major": 2,
       "version_minor": 0
      },
      "text/plain": [
       "Extracting data files:   0%|          | 0/1 [00:00<?, ?it/s]"
      ]
     },
     "metadata": {},
     "output_type": "display_data"
    },
    {
     "data": {
      "application/vnd.jupyter.widget-view+json": {
       "model_id": "491aaa5ce8f64e969dc465da8386b534",
       "version_major": 2,
       "version_minor": 0
      },
      "text/plain": [
       "Generating train split: 0 examples [00:00, ? examples/s]"
      ]
     },
     "metadata": {},
     "output_type": "display_data"
    },
    {
     "name": "stdout",
     "output_type": "stream",
     "text": [
      "DatasetDict({\n",
      "    fold1: DatasetDict({\n",
      "        train: Dataset({\n",
      "            features: ['prompt', 'answer', '__index_level_0__'],\n",
      "            num_rows: 3075\n",
      "        })\n",
      "        validation: Dataset({\n",
      "            features: ['prompt', 'answer', '__index_level_0__'],\n",
      "            num_rows: 1298\n",
      "        })\n",
      "    })\n",
      "    fold2: DatasetDict({\n",
      "        train: Dataset({\n",
      "            features: ['prompt', 'answer', '__index_level_0__'],\n",
      "            num_rows: 3082\n",
      "        })\n",
      "        validation: Dataset({\n",
      "            features: ['prompt', 'answer', '__index_level_0__'],\n",
      "            num_rows: 1291\n",
      "        })\n",
      "    })\n",
      "})\n"
     ]
    },
    {
     "data": {
      "application/vnd.jupyter.widget-view+json": {
       "model_id": "1d67c2f0e1464769a594aa073a7a05b4",
       "version_major": 2,
       "version_minor": 0
      },
      "text/plain": [
       "Saving the dataset (0/1 shards):   0%|          | 0/3075 [00:00<?, ? examples/s]"
      ]
     },
     "metadata": {},
     "output_type": "display_data"
    },
    {
     "data": {
      "application/vnd.jupyter.widget-view+json": {
       "model_id": "c75e86de269b4d17b9ca6928014e1e38",
       "version_major": 2,
       "version_minor": 0
      },
      "text/plain": [
       "Saving the dataset (0/1 shards):   0%|          | 0/1298 [00:00<?, ? examples/s]"
      ]
     },
     "metadata": {},
     "output_type": "display_data"
    },
    {
     "data": {
      "application/vnd.jupyter.widget-view+json": {
       "model_id": "11495403301043adaf6588bc8fdcd35b",
       "version_major": 2,
       "version_minor": 0
      },
      "text/plain": [
       "Saving the dataset (0/1 shards):   0%|          | 0/3082 [00:00<?, ? examples/s]"
      ]
     },
     "metadata": {},
     "output_type": "display_data"
    },
    {
     "data": {
      "application/vnd.jupyter.widget-view+json": {
       "model_id": "3b19a3d6279c4593894ebacb08c705c7",
       "version_major": 2,
       "version_minor": 0
      },
      "text/plain": [
       "Saving the dataset (0/1 shards):   0%|          | 0/1291 [00:00<?, ? examples/s]"
      ]
     },
     "metadata": {},
     "output_type": "display_data"
    }
   ],
   "source": [
    "df_train_f1_squad_2 = create_pandas_dataset_from_pandas(df_train_f1,\n",
    "                                                        squad_2 = True,\n",
    "                                                        ) \n",
    "df_dev_f1_squad_2 = create_pandas_dataset_from_pandas(df_dev_f1,\n",
    "                                                        squad_2 = True,\n",
    "                                                        ) \n",
    "df_train_f2_squad_2 = create_pandas_dataset_from_pandas(df_train_f2,\n",
    "                                                        squad_2 = True,\n",
    "                                                        ) \n",
    "df_dev_f2_squad_2 = create_pandas_dataset_from_pandas(df_dev_f2,\n",
    "                                                        squad_2 = True,\n",
    "                                                        ) \n",
    "\n",
    "print(\"df_train_f1_squad_2 describe: \")\n",
    "display(df_train_f1_squad_2.describe())\n",
    "print(\"df_dev_f1_squad_2 describe: \")\n",
    "display(df_dev_f1_squad_2.describe())\n",
    "\n",
    "print(\"df_train_f2_squad_2 describe: \")\n",
    "display(df_train_f2_squad_2.describe())\n",
    "print(\"df_dev_f2_squad_2 describe: \")\n",
    "display(df_dev_f2_squad_2.describe())\n",
    "\n",
    "df_train_f1_squad_2.to_parquet('../data/df_train_tdms_long_summarized_f1_squad_2.parquet')\n",
    "df_dev_f1_squad_2.to_parquet('../data/df_dev_tdms_long_summarized_f1_squad_2.parquet')\n",
    "df_train_f2_squad_2.to_parquet('../data/df_train_tdms_long_summarized_f2_squad_2.parquet')\n",
    "df_dev_f2_squad_2.to_parquet('../data/df_dev_tdms_long_summarized_f2_squad_2.parquet')\n",
    "\n",
    "dataset = DatasetDict({\n",
    "    'fold1': DatasetDict({\n",
    "        \"train\": Dataset.from_parquet('../data/df_train_tdms_long_summarized_f1_squad_2.parquet'),\n",
    "        \"validation\": Dataset.from_parquet('../data/df_dev_tdms_long_summarized_f1_squad_2.parquet')\n",
    "    }),\n",
    "    'fold2': DatasetDict({\n",
    "        \"train\": Dataset.from_parquet('../data/df_train_tdms_long_summarized_f2_squad_2.parquet'),\n",
    "        \"validation\": Dataset.from_parquet('../data/df_dev_tdms_long_summarized_f2_squad_2.parquet')\n",
    "    })\n",
    "})\n",
    "\n",
    "print(dataset)\n",
    "\n",
    "dataset.save_to_disk(\"../data/LLLM_LONG_SUMMARIZED_TDMS_SQUAD_2\")"
   ]
  },
  {
   "cell_type": "code",
   "execution_count": 48,
   "metadata": {},
   "outputs": [
    {
     "name": "stderr",
     "output_type": "stream",
     "text": [
      "100%|██████████| 3075/3075 [00:01<00:00, 1607.40it/s]\n",
      "100%|██████████| 1298/1298 [00:00<00:00, 1696.42it/s]\n",
      "100%|██████████| 3082/3082 [00:01<00:00, 1580.41it/s]\n",
      "100%|██████████| 1291/1291 [00:00<00:00, 1648.32it/s]\n"
     ]
    },
    {
     "name": "stdout",
     "output_type": "stream",
     "text": [
      "df_train_f1_squad_3 describe: \n"
     ]
    },
    {
     "data": {
      "text/html": [
       "<div>\n",
       "<style scoped>\n",
       "    .dataframe tbody tr th:only-of-type {\n",
       "        vertical-align: middle;\n",
       "    }\n",
       "\n",
       "    .dataframe tbody tr th {\n",
       "        vertical-align: top;\n",
       "    }\n",
       "\n",
       "    .dataframe thead th {\n",
       "        text-align: right;\n",
       "    }\n",
       "</style>\n",
       "<table border=\"1\" class=\"dataframe\">\n",
       "  <thead>\n",
       "    <tr style=\"text-align: right;\">\n",
       "      <th></th>\n",
       "      <th>prompt</th>\n",
       "      <th>answer</th>\n",
       "    </tr>\n",
       "  </thead>\n",
       "  <tbody>\n",
       "    <tr>\n",
       "      <th>count</th>\n",
       "      <td>3075</td>\n",
       "      <td>3075</td>\n",
       "    </tr>\n",
       "    <tr>\n",
       "      <th>unique</th>\n",
       "      <td>3069</td>\n",
       "      <td>2510</td>\n",
       "    </tr>\n",
       "    <tr>\n",
       "      <th>top</th>\n",
       "      <td>Title:\\tIJCAI–19 Example on typesetting multip...</td>\n",
       "      <td>unanswerable</td>\n",
       "    </tr>\n",
       "    <tr>\n",
       "      <th>freq</th>\n",
       "      <td>2</td>\n",
       "      <td>562</td>\n",
       "    </tr>\n",
       "  </tbody>\n",
       "</table>\n",
       "</div>"
      ],
      "text/plain": [
       "                                                   prompt        answer\n",
       "count                                                3075          3075\n",
       "unique                                               3069          2510\n",
       "top     Title:\\tIJCAI–19 Example on typesetting multip...  unanswerable\n",
       "freq                                                    2           562"
      ]
     },
     "metadata": {},
     "output_type": "display_data"
    },
    {
     "name": "stdout",
     "output_type": "stream",
     "text": [
      "df_dev_f1_squad_3 describe: \n"
     ]
    },
    {
     "data": {
      "text/html": [
       "<div>\n",
       "<style scoped>\n",
       "    .dataframe tbody tr th:only-of-type {\n",
       "        vertical-align: middle;\n",
       "    }\n",
       "\n",
       "    .dataframe tbody tr th {\n",
       "        vertical-align: top;\n",
       "    }\n",
       "\n",
       "    .dataframe thead th {\n",
       "        text-align: right;\n",
       "    }\n",
       "</style>\n",
       "<table border=\"1\" class=\"dataframe\">\n",
       "  <thead>\n",
       "    <tr style=\"text-align: right;\">\n",
       "      <th></th>\n",
       "      <th>prompt</th>\n",
       "      <th>answer</th>\n",
       "    </tr>\n",
       "  </thead>\n",
       "  <tbody>\n",
       "    <tr>\n",
       "      <th>count</th>\n",
       "      <td>1298</td>\n",
       "      <td>1298</td>\n",
       "    </tr>\n",
       "    <tr>\n",
       "      <th>unique</th>\n",
       "      <td>1298</td>\n",
       "      <td>1057</td>\n",
       "    </tr>\n",
       "    <tr>\n",
       "      <th>top</th>\n",
       "      <td>Title:\\t Dark Model Adaptation: Semantic Image...</td>\n",
       "      <td>unanswerable</td>\n",
       "    </tr>\n",
       "    <tr>\n",
       "      <th>freq</th>\n",
       "      <td>1</td>\n",
       "      <td>241</td>\n",
       "    </tr>\n",
       "  </tbody>\n",
       "</table>\n",
       "</div>"
      ],
      "text/plain": [
       "                                                   prompt        answer\n",
       "count                                                1298          1298\n",
       "unique                                               1298          1057\n",
       "top     Title:\\t Dark Model Adaptation: Semantic Image...  unanswerable\n",
       "freq                                                    1           241"
      ]
     },
     "metadata": {},
     "output_type": "display_data"
    },
    {
     "name": "stdout",
     "output_type": "stream",
     "text": [
      "df_train_f2_squad_3 describe: \n"
     ]
    },
    {
     "data": {
      "text/html": [
       "<div>\n",
       "<style scoped>\n",
       "    .dataframe tbody tr th:only-of-type {\n",
       "        vertical-align: middle;\n",
       "    }\n",
       "\n",
       "    .dataframe tbody tr th {\n",
       "        vertical-align: top;\n",
       "    }\n",
       "\n",
       "    .dataframe thead th {\n",
       "        text-align: right;\n",
       "    }\n",
       "</style>\n",
       "<table border=\"1\" class=\"dataframe\">\n",
       "  <thead>\n",
       "    <tr style=\"text-align: right;\">\n",
       "      <th></th>\n",
       "      <th>prompt</th>\n",
       "      <th>answer</th>\n",
       "    </tr>\n",
       "  </thead>\n",
       "  <tbody>\n",
       "    <tr>\n",
       "      <th>count</th>\n",
       "      <td>3082</td>\n",
       "      <td>3082</td>\n",
       "    </tr>\n",
       "    <tr>\n",
       "      <th>unique</th>\n",
       "      <td>3076</td>\n",
       "      <td>2517</td>\n",
       "    </tr>\n",
       "    <tr>\n",
       "      <th>top</th>\n",
       "      <td>Title:\\tBare Demo of IEEEtran.cls\\nfor IEEE Co...</td>\n",
       "      <td>unanswerable</td>\n",
       "    </tr>\n",
       "    <tr>\n",
       "      <th>freq</th>\n",
       "      <td>2</td>\n",
       "      <td>562</td>\n",
       "    </tr>\n",
       "  </tbody>\n",
       "</table>\n",
       "</div>"
      ],
      "text/plain": [
       "                                                   prompt        answer\n",
       "count                                                3082          3082\n",
       "unique                                               3076          2517\n",
       "top     Title:\\tBare Demo of IEEEtran.cls\\nfor IEEE Co...  unanswerable\n",
       "freq                                                    2           562"
      ]
     },
     "metadata": {},
     "output_type": "display_data"
    },
    {
     "name": "stdout",
     "output_type": "stream",
     "text": [
      "df_dev_f2_squad_3 describe: \n"
     ]
    },
    {
     "data": {
      "text/html": [
       "<div>\n",
       "<style scoped>\n",
       "    .dataframe tbody tr th:only-of-type {\n",
       "        vertical-align: middle;\n",
       "    }\n",
       "\n",
       "    .dataframe tbody tr th {\n",
       "        vertical-align: top;\n",
       "    }\n",
       "\n",
       "    .dataframe thead th {\n",
       "        text-align: right;\n",
       "    }\n",
       "</style>\n",
       "<table border=\"1\" class=\"dataframe\">\n",
       "  <thead>\n",
       "    <tr style=\"text-align: right;\">\n",
       "      <th></th>\n",
       "      <th>prompt</th>\n",
       "      <th>answer</th>\n",
       "    </tr>\n",
       "  </thead>\n",
       "  <tbody>\n",
       "    <tr>\n",
       "      <th>count</th>\n",
       "      <td>1291</td>\n",
       "      <td>1291</td>\n",
       "    </tr>\n",
       "    <tr>\n",
       "      <th>unique</th>\n",
       "      <td>1290</td>\n",
       "      <td>1051</td>\n",
       "    </tr>\n",
       "    <tr>\n",
       "      <th>top</th>\n",
       "      <td>Title:\\tTFNet: Multi-Semantic Feature Interact...</td>\n",
       "      <td>unanswerable</td>\n",
       "    </tr>\n",
       "    <tr>\n",
       "      <th>freq</th>\n",
       "      <td>2</td>\n",
       "      <td>241</td>\n",
       "    </tr>\n",
       "  </tbody>\n",
       "</table>\n",
       "</div>"
      ],
      "text/plain": [
       "                                                   prompt        answer\n",
       "count                                                1291          1291\n",
       "unique                                               1290          1051\n",
       "top     Title:\\tTFNet: Multi-Semantic Feature Interact...  unanswerable\n",
       "freq                                                    2           241"
      ]
     },
     "metadata": {},
     "output_type": "display_data"
    },
    {
     "data": {
      "application/vnd.jupyter.widget-view+json": {
       "model_id": "5b8abaf7182e4b3da37267633d1d31af",
       "version_major": 2,
       "version_minor": 0
      },
      "text/plain": [
       "Downloading data files:   0%|          | 0/1 [00:00<?, ?it/s]"
      ]
     },
     "metadata": {},
     "output_type": "display_data"
    },
    {
     "data": {
      "application/vnd.jupyter.widget-view+json": {
       "model_id": "cdd34aba1ebe420494ffdf89080aea2f",
       "version_major": 2,
       "version_minor": 0
      },
      "text/plain": [
       "Extracting data files:   0%|          | 0/1 [00:00<?, ?it/s]"
      ]
     },
     "metadata": {},
     "output_type": "display_data"
    },
    {
     "data": {
      "application/vnd.jupyter.widget-view+json": {
       "model_id": "032fb0ea795243b6b3c01dccfa8f7137",
       "version_major": 2,
       "version_minor": 0
      },
      "text/plain": [
       "Generating train split: 0 examples [00:00, ? examples/s]"
      ]
     },
     "metadata": {},
     "output_type": "display_data"
    },
    {
     "data": {
      "application/vnd.jupyter.widget-view+json": {
       "model_id": "4edb80a1903d47d6b82b2c6b8b3562d4",
       "version_major": 2,
       "version_minor": 0
      },
      "text/plain": [
       "Downloading data files:   0%|          | 0/1 [00:00<?, ?it/s]"
      ]
     },
     "metadata": {},
     "output_type": "display_data"
    },
    {
     "data": {
      "application/vnd.jupyter.widget-view+json": {
       "model_id": "348c33275c5448bfaf19b2a728dde5c8",
       "version_major": 2,
       "version_minor": 0
      },
      "text/plain": [
       "Extracting data files:   0%|          | 0/1 [00:00<?, ?it/s]"
      ]
     },
     "metadata": {},
     "output_type": "display_data"
    },
    {
     "data": {
      "application/vnd.jupyter.widget-view+json": {
       "model_id": "ddb2d41b01c94a429886c8cd5dd2ed9d",
       "version_major": 2,
       "version_minor": 0
      },
      "text/plain": [
       "Generating train split: 0 examples [00:00, ? examples/s]"
      ]
     },
     "metadata": {},
     "output_type": "display_data"
    },
    {
     "data": {
      "application/vnd.jupyter.widget-view+json": {
       "model_id": "ae03b1942a3f48aa84e46892f3a7da90",
       "version_major": 2,
       "version_minor": 0
      },
      "text/plain": [
       "Downloading data files:   0%|          | 0/1 [00:00<?, ?it/s]"
      ]
     },
     "metadata": {},
     "output_type": "display_data"
    },
    {
     "data": {
      "application/vnd.jupyter.widget-view+json": {
       "model_id": "17a3941a181b46da86969d8c80def119",
       "version_major": 2,
       "version_minor": 0
      },
      "text/plain": [
       "Extracting data files:   0%|          | 0/1 [00:00<?, ?it/s]"
      ]
     },
     "metadata": {},
     "output_type": "display_data"
    },
    {
     "data": {
      "application/vnd.jupyter.widget-view+json": {
       "model_id": "6d54387cba014d2da12ed7d113d742b6",
       "version_major": 2,
       "version_minor": 0
      },
      "text/plain": [
       "Generating train split: 0 examples [00:00, ? examples/s]"
      ]
     },
     "metadata": {},
     "output_type": "display_data"
    },
    {
     "data": {
      "application/vnd.jupyter.widget-view+json": {
       "model_id": "6fac63121a614e0dba70d7347eaddb65",
       "version_major": 2,
       "version_minor": 0
      },
      "text/plain": [
       "Downloading data files:   0%|          | 0/1 [00:00<?, ?it/s]"
      ]
     },
     "metadata": {},
     "output_type": "display_data"
    },
    {
     "data": {
      "application/vnd.jupyter.widget-view+json": {
       "model_id": "5515e6404ac14d2e9b0eb967b425b545",
       "version_major": 2,
       "version_minor": 0
      },
      "text/plain": [
       "Extracting data files:   0%|          | 0/1 [00:00<?, ?it/s]"
      ]
     },
     "metadata": {},
     "output_type": "display_data"
    },
    {
     "data": {
      "application/vnd.jupyter.widget-view+json": {
       "model_id": "49b2b03cb5bb40ecbf2a08c4d7889b5e",
       "version_major": 2,
       "version_minor": 0
      },
      "text/plain": [
       "Generating train split: 0 examples [00:00, ? examples/s]"
      ]
     },
     "metadata": {},
     "output_type": "display_data"
    },
    {
     "name": "stdout",
     "output_type": "stream",
     "text": [
      "DatasetDict({\n",
      "    fold1: DatasetDict({\n",
      "        train: Dataset({\n",
      "            features: ['prompt', 'answer', '__index_level_0__'],\n",
      "            num_rows: 3075\n",
      "        })\n",
      "        validation: Dataset({\n",
      "            features: ['prompt', 'answer', '__index_level_0__'],\n",
      "            num_rows: 1298\n",
      "        })\n",
      "    })\n",
      "    fold2: DatasetDict({\n",
      "        train: Dataset({\n",
      "            features: ['prompt', 'answer', '__index_level_0__'],\n",
      "            num_rows: 3082\n",
      "        })\n",
      "        validation: Dataset({\n",
      "            features: ['prompt', 'answer', '__index_level_0__'],\n",
      "            num_rows: 1291\n",
      "        })\n",
      "    })\n",
      "})\n"
     ]
    },
    {
     "data": {
      "application/vnd.jupyter.widget-view+json": {
       "model_id": "93dbba940514497fbb8ec14437b1b55b",
       "version_major": 2,
       "version_minor": 0
      },
      "text/plain": [
       "Saving the dataset (0/1 shards):   0%|          | 0/3075 [00:00<?, ? examples/s]"
      ]
     },
     "metadata": {},
     "output_type": "display_data"
    },
    {
     "data": {
      "application/vnd.jupyter.widget-view+json": {
       "model_id": "ba778e747efe45a18ce9aff29a4f8ede",
       "version_major": 2,
       "version_minor": 0
      },
      "text/plain": [
       "Saving the dataset (0/1 shards):   0%|          | 0/1298 [00:00<?, ? examples/s]"
      ]
     },
     "metadata": {},
     "output_type": "display_data"
    },
    {
     "data": {
      "application/vnd.jupyter.widget-view+json": {
       "model_id": "fa79b4f90b3445c8bb614c441233bbf2",
       "version_major": 2,
       "version_minor": 0
      },
      "text/plain": [
       "Saving the dataset (0/1 shards):   0%|          | 0/3082 [00:00<?, ? examples/s]"
      ]
     },
     "metadata": {},
     "output_type": "display_data"
    },
    {
     "data": {
      "application/vnd.jupyter.widget-view+json": {
       "model_id": "b45a5a8bf0fc417e8f7c753734f5a55d",
       "version_major": 2,
       "version_minor": 0
      },
      "text/plain": [
       "Saving the dataset (0/1 shards):   0%|          | 0/1291 [00:00<?, ? examples/s]"
      ]
     },
     "metadata": {},
     "output_type": "display_data"
    }
   ],
   "source": [
    "df_train_f1_squad_3 = create_pandas_dataset_from_pandas(df_train_f1,\n",
    "                                                        squad_3 = True,\n",
    "                                                        ) \n",
    "df_dev_f1_squad_3 = create_pandas_dataset_from_pandas(df_dev_f1,\n",
    "                                                        squad_3 = True,\n",
    "                                                        ) \n",
    "df_train_f2_squad_3 = create_pandas_dataset_from_pandas(df_train_f2,\n",
    "                                                        squad_3 = True,\n",
    "                                                        ) \n",
    "df_dev_f2_squad_3 = create_pandas_dataset_from_pandas(df_dev_f2,\n",
    "                                                        squad_3 = True,\n",
    "                                                        ) \n",
    "\n",
    "print(\"df_train_f1_squad_3 describe: \")\n",
    "display(df_train_f1_squad_3.describe())\n",
    "print(\"df_dev_f1_squad_3 describe: \")\n",
    "display(df_dev_f1_squad_3.describe())\n",
    "\n",
    "print(\"df_train_f2_squad_3 describe: \")\n",
    "display(df_train_f2_squad_3.describe())\n",
    "print(\"df_dev_f2_squad_3 describe: \")\n",
    "display(df_dev_f2_squad_3.describe())\n",
    "\n",
    "df_train_f1_squad_3.to_parquet('../data/df_train_tdms_long_summarized_f1_squad_3.parquet')\n",
    "df_dev_f1_squad_3.to_parquet('../data/df_dev_tdms_long_summarized_f1_squad_3.parquet')\n",
    "df_train_f2_squad_3.to_parquet('../data/df_train_tdms_long_summarized_f2_squad_3.parquet')\n",
    "df_dev_f2_squad_3.to_parquet('../data/df_dev_tdms_long_summarized_f2_squad_3.parquet')\n",
    "\n",
    "dataset = DatasetDict({\n",
    "    'fold1': DatasetDict({\n",
    "        \"train\": Dataset.from_parquet('../data/df_train_tdms_long_summarized_f1_squad_3.parquet'),\n",
    "        \"validation\": Dataset.from_parquet('../data/df_dev_tdms_long_summarized_f1_squad_3.parquet')\n",
    "    }),\n",
    "    'fold2': DatasetDict({\n",
    "        \"train\": Dataset.from_parquet('../data/df_train_tdms_long_summarized_f2_squad_3.parquet'),\n",
    "        \"validation\": Dataset.from_parquet('../data/df_dev_tdms_long_summarized_f2_squad_3.parquet')\n",
    "    })\n",
    "})\n",
    "\n",
    "print(dataset)\n",
    "\n",
    "dataset.save_to_disk(\"../data/LLLM_LONG_SUMMARIZED_TDMS_SQUAD_3\")"
   ]
  },
  {
   "cell_type": "code",
   "execution_count": 49,
   "metadata": {},
   "outputs": [
    {
     "name": "stderr",
     "output_type": "stream",
     "text": [
      "100%|██████████| 3075/3075 [00:01<00:00, 1599.80it/s]\n",
      "100%|██████████| 1298/1298 [00:00<00:00, 1654.68it/s]\n",
      "100%|██████████| 3082/3082 [00:01<00:00, 1578.76it/s]\n",
      "100%|██████████| 1291/1291 [00:00<00:00, 1635.04it/s]\n"
     ]
    },
    {
     "name": "stdout",
     "output_type": "stream",
     "text": [
      "df_train_f1_squad_4 describe: \n"
     ]
    },
    {
     "data": {
      "text/html": [
       "<div>\n",
       "<style scoped>\n",
       "    .dataframe tbody tr th:only-of-type {\n",
       "        vertical-align: middle;\n",
       "    }\n",
       "\n",
       "    .dataframe tbody tr th {\n",
       "        vertical-align: top;\n",
       "    }\n",
       "\n",
       "    .dataframe thead th {\n",
       "        text-align: right;\n",
       "    }\n",
       "</style>\n",
       "<table border=\"1\" class=\"dataframe\">\n",
       "  <thead>\n",
       "    <tr style=\"text-align: right;\">\n",
       "      <th></th>\n",
       "      <th>prompt</th>\n",
       "      <th>answer</th>\n",
       "    </tr>\n",
       "  </thead>\n",
       "  <tbody>\n",
       "    <tr>\n",
       "      <th>count</th>\n",
       "      <td>3075</td>\n",
       "      <td>3075</td>\n",
       "    </tr>\n",
       "    <tr>\n",
       "      <th>unique</th>\n",
       "      <td>3069</td>\n",
       "      <td>2510</td>\n",
       "    </tr>\n",
       "    <tr>\n",
       "      <th>top</th>\n",
       "      <td>Title:\\tIJCAI–19 Example on typesetting multip...</td>\n",
       "      <td>unanswerable</td>\n",
       "    </tr>\n",
       "    <tr>\n",
       "      <th>freq</th>\n",
       "      <td>2</td>\n",
       "      <td>562</td>\n",
       "    </tr>\n",
       "  </tbody>\n",
       "</table>\n",
       "</div>"
      ],
      "text/plain": [
       "                                                   prompt        answer\n",
       "count                                                3075          3075\n",
       "unique                                               3069          2510\n",
       "top     Title:\\tIJCAI–19 Example on typesetting multip...  unanswerable\n",
       "freq                                                    2           562"
      ]
     },
     "metadata": {},
     "output_type": "display_data"
    },
    {
     "name": "stdout",
     "output_type": "stream",
     "text": [
      "df_dev_f1_squad_4 describe: \n"
     ]
    },
    {
     "data": {
      "text/html": [
       "<div>\n",
       "<style scoped>\n",
       "    .dataframe tbody tr th:only-of-type {\n",
       "        vertical-align: middle;\n",
       "    }\n",
       "\n",
       "    .dataframe tbody tr th {\n",
       "        vertical-align: top;\n",
       "    }\n",
       "\n",
       "    .dataframe thead th {\n",
       "        text-align: right;\n",
       "    }\n",
       "</style>\n",
       "<table border=\"1\" class=\"dataframe\">\n",
       "  <thead>\n",
       "    <tr style=\"text-align: right;\">\n",
       "      <th></th>\n",
       "      <th>prompt</th>\n",
       "      <th>answer</th>\n",
       "    </tr>\n",
       "  </thead>\n",
       "  <tbody>\n",
       "    <tr>\n",
       "      <th>count</th>\n",
       "      <td>1298</td>\n",
       "      <td>1298</td>\n",
       "    </tr>\n",
       "    <tr>\n",
       "      <th>unique</th>\n",
       "      <td>1298</td>\n",
       "      <td>1057</td>\n",
       "    </tr>\n",
       "    <tr>\n",
       "      <th>top</th>\n",
       "      <td>Title:\\t Dark Model Adaptation: Semantic Image...</td>\n",
       "      <td>unanswerable</td>\n",
       "    </tr>\n",
       "    <tr>\n",
       "      <th>freq</th>\n",
       "      <td>1</td>\n",
       "      <td>241</td>\n",
       "    </tr>\n",
       "  </tbody>\n",
       "</table>\n",
       "</div>"
      ],
      "text/plain": [
       "                                                   prompt        answer\n",
       "count                                                1298          1298\n",
       "unique                                               1298          1057\n",
       "top     Title:\\t Dark Model Adaptation: Semantic Image...  unanswerable\n",
       "freq                                                    1           241"
      ]
     },
     "metadata": {},
     "output_type": "display_data"
    },
    {
     "name": "stdout",
     "output_type": "stream",
     "text": [
      "df_train_f2_squad_4 describe: \n"
     ]
    },
    {
     "data": {
      "text/html": [
       "<div>\n",
       "<style scoped>\n",
       "    .dataframe tbody tr th:only-of-type {\n",
       "        vertical-align: middle;\n",
       "    }\n",
       "\n",
       "    .dataframe tbody tr th {\n",
       "        vertical-align: top;\n",
       "    }\n",
       "\n",
       "    .dataframe thead th {\n",
       "        text-align: right;\n",
       "    }\n",
       "</style>\n",
       "<table border=\"1\" class=\"dataframe\">\n",
       "  <thead>\n",
       "    <tr style=\"text-align: right;\">\n",
       "      <th></th>\n",
       "      <th>prompt</th>\n",
       "      <th>answer</th>\n",
       "    </tr>\n",
       "  </thead>\n",
       "  <tbody>\n",
       "    <tr>\n",
       "      <th>count</th>\n",
       "      <td>3082</td>\n",
       "      <td>3082</td>\n",
       "    </tr>\n",
       "    <tr>\n",
       "      <th>unique</th>\n",
       "      <td>3076</td>\n",
       "      <td>2517</td>\n",
       "    </tr>\n",
       "    <tr>\n",
       "      <th>top</th>\n",
       "      <td>Title:\\tBare Demo of IEEEtran.cls\\nfor IEEE Co...</td>\n",
       "      <td>unanswerable</td>\n",
       "    </tr>\n",
       "    <tr>\n",
       "      <th>freq</th>\n",
       "      <td>2</td>\n",
       "      <td>562</td>\n",
       "    </tr>\n",
       "  </tbody>\n",
       "</table>\n",
       "</div>"
      ],
      "text/plain": [
       "                                                   prompt        answer\n",
       "count                                                3082          3082\n",
       "unique                                               3076          2517\n",
       "top     Title:\\tBare Demo of IEEEtran.cls\\nfor IEEE Co...  unanswerable\n",
       "freq                                                    2           562"
      ]
     },
     "metadata": {},
     "output_type": "display_data"
    },
    {
     "name": "stdout",
     "output_type": "stream",
     "text": [
      "df_dev_f2_squad_4 describe: \n"
     ]
    },
    {
     "data": {
      "text/html": [
       "<div>\n",
       "<style scoped>\n",
       "    .dataframe tbody tr th:only-of-type {\n",
       "        vertical-align: middle;\n",
       "    }\n",
       "\n",
       "    .dataframe tbody tr th {\n",
       "        vertical-align: top;\n",
       "    }\n",
       "\n",
       "    .dataframe thead th {\n",
       "        text-align: right;\n",
       "    }\n",
       "</style>\n",
       "<table border=\"1\" class=\"dataframe\">\n",
       "  <thead>\n",
       "    <tr style=\"text-align: right;\">\n",
       "      <th></th>\n",
       "      <th>prompt</th>\n",
       "      <th>answer</th>\n",
       "    </tr>\n",
       "  </thead>\n",
       "  <tbody>\n",
       "    <tr>\n",
       "      <th>count</th>\n",
       "      <td>1291</td>\n",
       "      <td>1291</td>\n",
       "    </tr>\n",
       "    <tr>\n",
       "      <th>unique</th>\n",
       "      <td>1290</td>\n",
       "      <td>1051</td>\n",
       "    </tr>\n",
       "    <tr>\n",
       "      <th>top</th>\n",
       "      <td>Title:\\tTFNet: Multi-Semantic Feature Interact...</td>\n",
       "      <td>unanswerable</td>\n",
       "    </tr>\n",
       "    <tr>\n",
       "      <th>freq</th>\n",
       "      <td>2</td>\n",
       "      <td>241</td>\n",
       "    </tr>\n",
       "  </tbody>\n",
       "</table>\n",
       "</div>"
      ],
      "text/plain": [
       "                                                   prompt        answer\n",
       "count                                                1291          1291\n",
       "unique                                               1290          1051\n",
       "top     Title:\\tTFNet: Multi-Semantic Feature Interact...  unanswerable\n",
       "freq                                                    2           241"
      ]
     },
     "metadata": {},
     "output_type": "display_data"
    },
    {
     "data": {
      "application/vnd.jupyter.widget-view+json": {
       "model_id": "1bc3a409c117416db9ba9df869ef3455",
       "version_major": 2,
       "version_minor": 0
      },
      "text/plain": [
       "Downloading data files:   0%|          | 0/1 [00:00<?, ?it/s]"
      ]
     },
     "metadata": {},
     "output_type": "display_data"
    },
    {
     "data": {
      "application/vnd.jupyter.widget-view+json": {
       "model_id": "253be87aa9ba4b0cb1cfc67fe50b7747",
       "version_major": 2,
       "version_minor": 0
      },
      "text/plain": [
       "Extracting data files:   0%|          | 0/1 [00:00<?, ?it/s]"
      ]
     },
     "metadata": {},
     "output_type": "display_data"
    },
    {
     "data": {
      "application/vnd.jupyter.widget-view+json": {
       "model_id": "087ede1f65cc489997e92a0a5715d4b6",
       "version_major": 2,
       "version_minor": 0
      },
      "text/plain": [
       "Generating train split: 0 examples [00:00, ? examples/s]"
      ]
     },
     "metadata": {},
     "output_type": "display_data"
    },
    {
     "data": {
      "application/vnd.jupyter.widget-view+json": {
       "model_id": "76e0775ad9bc48db9d63633b32fe2a77",
       "version_major": 2,
       "version_minor": 0
      },
      "text/plain": [
       "Downloading data files:   0%|          | 0/1 [00:00<?, ?it/s]"
      ]
     },
     "metadata": {},
     "output_type": "display_data"
    },
    {
     "data": {
      "application/vnd.jupyter.widget-view+json": {
       "model_id": "133e140fdf44489082874f77e997af9a",
       "version_major": 2,
       "version_minor": 0
      },
      "text/plain": [
       "Extracting data files:   0%|          | 0/1 [00:00<?, ?it/s]"
      ]
     },
     "metadata": {},
     "output_type": "display_data"
    },
    {
     "data": {
      "application/vnd.jupyter.widget-view+json": {
       "model_id": "fa7c164ce876495ab0556864bbfe1e43",
       "version_major": 2,
       "version_minor": 0
      },
      "text/plain": [
       "Generating train split: 0 examples [00:00, ? examples/s]"
      ]
     },
     "metadata": {},
     "output_type": "display_data"
    },
    {
     "data": {
      "application/vnd.jupyter.widget-view+json": {
       "model_id": "3754faff9dac446198080143e7a419cf",
       "version_major": 2,
       "version_minor": 0
      },
      "text/plain": [
       "Downloading data files:   0%|          | 0/1 [00:00<?, ?it/s]"
      ]
     },
     "metadata": {},
     "output_type": "display_data"
    },
    {
     "data": {
      "application/vnd.jupyter.widget-view+json": {
       "model_id": "023b7059d8da416d9dea2260740da57d",
       "version_major": 2,
       "version_minor": 0
      },
      "text/plain": [
       "Extracting data files:   0%|          | 0/1 [00:00<?, ?it/s]"
      ]
     },
     "metadata": {},
     "output_type": "display_data"
    },
    {
     "data": {
      "application/vnd.jupyter.widget-view+json": {
       "model_id": "d914198acbbf4ac5a9c6135c549ce225",
       "version_major": 2,
       "version_minor": 0
      },
      "text/plain": [
       "Generating train split: 0 examples [00:00, ? examples/s]"
      ]
     },
     "metadata": {},
     "output_type": "display_data"
    },
    {
     "data": {
      "application/vnd.jupyter.widget-view+json": {
       "model_id": "b663557645fc444fb7cd7bc089bf4787",
       "version_major": 2,
       "version_minor": 0
      },
      "text/plain": [
       "Downloading data files:   0%|          | 0/1 [00:00<?, ?it/s]"
      ]
     },
     "metadata": {},
     "output_type": "display_data"
    },
    {
     "data": {
      "application/vnd.jupyter.widget-view+json": {
       "model_id": "7f206941348244a09fb7ef7fb8ff6bb9",
       "version_major": 2,
       "version_minor": 0
      },
      "text/plain": [
       "Extracting data files:   0%|          | 0/1 [00:00<?, ?it/s]"
      ]
     },
     "metadata": {},
     "output_type": "display_data"
    },
    {
     "data": {
      "application/vnd.jupyter.widget-view+json": {
       "model_id": "cbff771163c8452abb3a0dcb950c5ec0",
       "version_major": 2,
       "version_minor": 0
      },
      "text/plain": [
       "Generating train split: 0 examples [00:00, ? examples/s]"
      ]
     },
     "metadata": {},
     "output_type": "display_data"
    },
    {
     "name": "stdout",
     "output_type": "stream",
     "text": [
      "DatasetDict({\n",
      "    fold1: DatasetDict({\n",
      "        train: Dataset({\n",
      "            features: ['prompt', 'answer', '__index_level_0__'],\n",
      "            num_rows: 3075\n",
      "        })\n",
      "        validation: Dataset({\n",
      "            features: ['prompt', 'answer', '__index_level_0__'],\n",
      "            num_rows: 1298\n",
      "        })\n",
      "    })\n",
      "    fold2: DatasetDict({\n",
      "        train: Dataset({\n",
      "            features: ['prompt', 'answer', '__index_level_0__'],\n",
      "            num_rows: 3082\n",
      "        })\n",
      "        validation: Dataset({\n",
      "            features: ['prompt', 'answer', '__index_level_0__'],\n",
      "            num_rows: 1291\n",
      "        })\n",
      "    })\n",
      "})\n"
     ]
    },
    {
     "data": {
      "application/vnd.jupyter.widget-view+json": {
       "model_id": "839d5041d7d742e6837e64adcadd48fc",
       "version_major": 2,
       "version_minor": 0
      },
      "text/plain": [
       "Saving the dataset (0/1 shards):   0%|          | 0/3075 [00:00<?, ? examples/s]"
      ]
     },
     "metadata": {},
     "output_type": "display_data"
    },
    {
     "data": {
      "application/vnd.jupyter.widget-view+json": {
       "model_id": "15a12a1b29c9456580be750b5178dd6a",
       "version_major": 2,
       "version_minor": 0
      },
      "text/plain": [
       "Saving the dataset (0/1 shards):   0%|          | 0/1298 [00:00<?, ? examples/s]"
      ]
     },
     "metadata": {},
     "output_type": "display_data"
    },
    {
     "data": {
      "application/vnd.jupyter.widget-view+json": {
       "model_id": "5913b835fda1400399b8466e1f7a9058",
       "version_major": 2,
       "version_minor": 0
      },
      "text/plain": [
       "Saving the dataset (0/1 shards):   0%|          | 0/3082 [00:00<?, ? examples/s]"
      ]
     },
     "metadata": {},
     "output_type": "display_data"
    },
    {
     "data": {
      "application/vnd.jupyter.widget-view+json": {
       "model_id": "5096378a725f4367a4917b3be12a62a2",
       "version_major": 2,
       "version_minor": 0
      },
      "text/plain": [
       "Saving the dataset (0/1 shards):   0%|          | 0/1291 [00:00<?, ? examples/s]"
      ]
     },
     "metadata": {},
     "output_type": "display_data"
    }
   ],
   "source": [
    "df_train_f1_squad_4 = create_pandas_dataset_from_pandas(df_train_f1,\n",
    "                                                        squad_4 = True,\n",
    "                                                        ) \n",
    "df_dev_f1_squad_4 = create_pandas_dataset_from_pandas(df_dev_f1,\n",
    "                                                        squad_4 = True,\n",
    "                                                        ) \n",
    "df_train_f2_squad_4 = create_pandas_dataset_from_pandas(df_train_f2,\n",
    "                                                        squad_4 = True,\n",
    "                                                        ) \n",
    "df_dev_f2_squad_4 = create_pandas_dataset_from_pandas(df_dev_f2,\n",
    "                                                        squad_4 = True,\n",
    "                                                        ) \n",
    "\n",
    "print(\"df_train_f1_squad_4 describe: \")\n",
    "display(df_train_f1_squad_4.describe())\n",
    "print(\"df_dev_f1_squad_4 describe: \")\n",
    "display(df_dev_f1_squad_4.describe())\n",
    "\n",
    "print(\"df_train_f2_squad_4 describe: \")\n",
    "display(df_train_f2_squad_4.describe())\n",
    "print(\"df_dev_f2_squad_4 describe: \")\n",
    "display(df_dev_f2_squad_4.describe())\n",
    "\n",
    "df_train_f1_squad_4.to_parquet('../data/df_train_tdms_long_summarized_f1_squad_4.parquet')\n",
    "df_dev_f1_squad_4.to_parquet('../data/df_dev_tdms_long_summarized_f1_squad_4.parquet')\n",
    "df_train_f2_squad_4.to_parquet('../data/df_train_tdms_long_summarized_f2_squad_4.parquet')\n",
    "df_dev_f2_squad_4.to_parquet('../data/df_dev_tdms_long_summarized_f2_squad_4.parquet')\n",
    "\n",
    "dataset = DatasetDict({\n",
    "    'fold1': DatasetDict({\n",
    "        \"train\": Dataset.from_parquet('../data/df_train_tdms_long_summarized_f1_squad_4.parquet'),\n",
    "        \"validation\": Dataset.from_parquet('../data/df_dev_tdms_long_summarized_f1_squad_4.parquet')\n",
    "    }),\n",
    "    'fold2': DatasetDict({\n",
    "        \"train\": Dataset.from_parquet('../data/df_train_tdms_long_summarized_f2_squad_4.parquet'),\n",
    "        \"validation\": Dataset.from_parquet('../data/df_dev_tdms_long_summarized_f2_squad_4.parquet')\n",
    "    })\n",
    "})\n",
    "\n",
    "print(dataset)\n",
    "\n",
    "dataset.save_to_disk(\"../data/LLLM_LONG_SUMMARIZED_TDMS_SQUAD_4\")"
   ]
  },
  {
   "cell_type": "code",
   "execution_count": 50,
   "metadata": {},
   "outputs": [
    {
     "name": "stderr",
     "output_type": "stream",
     "text": [
      "100%|██████████| 3075/3075 [00:01<00:00, 1577.98it/s]\n",
      "100%|██████████| 1298/1298 [00:00<00:00, 1635.88it/s]\n",
      "100%|██████████| 3082/3082 [00:01<00:00, 1588.75it/s]\n",
      "100%|██████████| 1291/1291 [00:00<00:00, 1676.86it/s]\n"
     ]
    },
    {
     "name": "stdout",
     "output_type": "stream",
     "text": [
      "df_train_f1_squad_5 describe: \n"
     ]
    },
    {
     "data": {
      "text/html": [
       "<div>\n",
       "<style scoped>\n",
       "    .dataframe tbody tr th:only-of-type {\n",
       "        vertical-align: middle;\n",
       "    }\n",
       "\n",
       "    .dataframe tbody tr th {\n",
       "        vertical-align: top;\n",
       "    }\n",
       "\n",
       "    .dataframe thead th {\n",
       "        text-align: right;\n",
       "    }\n",
       "</style>\n",
       "<table border=\"1\" class=\"dataframe\">\n",
       "  <thead>\n",
       "    <tr style=\"text-align: right;\">\n",
       "      <th></th>\n",
       "      <th>prompt</th>\n",
       "      <th>answer</th>\n",
       "    </tr>\n",
       "  </thead>\n",
       "  <tbody>\n",
       "    <tr>\n",
       "      <th>count</th>\n",
       "      <td>3075</td>\n",
       "      <td>3075</td>\n",
       "    </tr>\n",
       "    <tr>\n",
       "      <th>unique</th>\n",
       "      <td>3069</td>\n",
       "      <td>2510</td>\n",
       "    </tr>\n",
       "    <tr>\n",
       "      <th>top</th>\n",
       "      <td>Title:\\tIJCAI–19 Example on typesetting multip...</td>\n",
       "      <td>unanswerable</td>\n",
       "    </tr>\n",
       "    <tr>\n",
       "      <th>freq</th>\n",
       "      <td>2</td>\n",
       "      <td>562</td>\n",
       "    </tr>\n",
       "  </tbody>\n",
       "</table>\n",
       "</div>"
      ],
      "text/plain": [
       "                                                   prompt        answer\n",
       "count                                                3075          3075\n",
       "unique                                               3069          2510\n",
       "top     Title:\\tIJCAI–19 Example on typesetting multip...  unanswerable\n",
       "freq                                                    2           562"
      ]
     },
     "metadata": {},
     "output_type": "display_data"
    },
    {
     "name": "stdout",
     "output_type": "stream",
     "text": [
      "df_dev_f1_squad_5 describe: \n"
     ]
    },
    {
     "data": {
      "text/html": [
       "<div>\n",
       "<style scoped>\n",
       "    .dataframe tbody tr th:only-of-type {\n",
       "        vertical-align: middle;\n",
       "    }\n",
       "\n",
       "    .dataframe tbody tr th {\n",
       "        vertical-align: top;\n",
       "    }\n",
       "\n",
       "    .dataframe thead th {\n",
       "        text-align: right;\n",
       "    }\n",
       "</style>\n",
       "<table border=\"1\" class=\"dataframe\">\n",
       "  <thead>\n",
       "    <tr style=\"text-align: right;\">\n",
       "      <th></th>\n",
       "      <th>prompt</th>\n",
       "      <th>answer</th>\n",
       "    </tr>\n",
       "  </thead>\n",
       "  <tbody>\n",
       "    <tr>\n",
       "      <th>count</th>\n",
       "      <td>1298</td>\n",
       "      <td>1298</td>\n",
       "    </tr>\n",
       "    <tr>\n",
       "      <th>unique</th>\n",
       "      <td>1298</td>\n",
       "      <td>1057</td>\n",
       "    </tr>\n",
       "    <tr>\n",
       "      <th>top</th>\n",
       "      <td>Title:\\t Dark Model Adaptation: Semantic Image...</td>\n",
       "      <td>unanswerable</td>\n",
       "    </tr>\n",
       "    <tr>\n",
       "      <th>freq</th>\n",
       "      <td>1</td>\n",
       "      <td>241</td>\n",
       "    </tr>\n",
       "  </tbody>\n",
       "</table>\n",
       "</div>"
      ],
      "text/plain": [
       "                                                   prompt        answer\n",
       "count                                                1298          1298\n",
       "unique                                               1298          1057\n",
       "top     Title:\\t Dark Model Adaptation: Semantic Image...  unanswerable\n",
       "freq                                                    1           241"
      ]
     },
     "metadata": {},
     "output_type": "display_data"
    },
    {
     "name": "stdout",
     "output_type": "stream",
     "text": [
      "df_train_f2_squad_5 describe: \n"
     ]
    },
    {
     "data": {
      "text/html": [
       "<div>\n",
       "<style scoped>\n",
       "    .dataframe tbody tr th:only-of-type {\n",
       "        vertical-align: middle;\n",
       "    }\n",
       "\n",
       "    .dataframe tbody tr th {\n",
       "        vertical-align: top;\n",
       "    }\n",
       "\n",
       "    .dataframe thead th {\n",
       "        text-align: right;\n",
       "    }\n",
       "</style>\n",
       "<table border=\"1\" class=\"dataframe\">\n",
       "  <thead>\n",
       "    <tr style=\"text-align: right;\">\n",
       "      <th></th>\n",
       "      <th>prompt</th>\n",
       "      <th>answer</th>\n",
       "    </tr>\n",
       "  </thead>\n",
       "  <tbody>\n",
       "    <tr>\n",
       "      <th>count</th>\n",
       "      <td>3082</td>\n",
       "      <td>3082</td>\n",
       "    </tr>\n",
       "    <tr>\n",
       "      <th>unique</th>\n",
       "      <td>3076</td>\n",
       "      <td>2517</td>\n",
       "    </tr>\n",
       "    <tr>\n",
       "      <th>top</th>\n",
       "      <td>Title:\\tBare Demo of IEEEtran.cls\\nfor IEEE Co...</td>\n",
       "      <td>unanswerable</td>\n",
       "    </tr>\n",
       "    <tr>\n",
       "      <th>freq</th>\n",
       "      <td>2</td>\n",
       "      <td>562</td>\n",
       "    </tr>\n",
       "  </tbody>\n",
       "</table>\n",
       "</div>"
      ],
      "text/plain": [
       "                                                   prompt        answer\n",
       "count                                                3082          3082\n",
       "unique                                               3076          2517\n",
       "top     Title:\\tBare Demo of IEEEtran.cls\\nfor IEEE Co...  unanswerable\n",
       "freq                                                    2           562"
      ]
     },
     "metadata": {},
     "output_type": "display_data"
    },
    {
     "name": "stdout",
     "output_type": "stream",
     "text": [
      "df_dev_f2_squad_5 describe: \n"
     ]
    },
    {
     "data": {
      "text/html": [
       "<div>\n",
       "<style scoped>\n",
       "    .dataframe tbody tr th:only-of-type {\n",
       "        vertical-align: middle;\n",
       "    }\n",
       "\n",
       "    .dataframe tbody tr th {\n",
       "        vertical-align: top;\n",
       "    }\n",
       "\n",
       "    .dataframe thead th {\n",
       "        text-align: right;\n",
       "    }\n",
       "</style>\n",
       "<table border=\"1\" class=\"dataframe\">\n",
       "  <thead>\n",
       "    <tr style=\"text-align: right;\">\n",
       "      <th></th>\n",
       "      <th>prompt</th>\n",
       "      <th>answer</th>\n",
       "    </tr>\n",
       "  </thead>\n",
       "  <tbody>\n",
       "    <tr>\n",
       "      <th>count</th>\n",
       "      <td>1291</td>\n",
       "      <td>1291</td>\n",
       "    </tr>\n",
       "    <tr>\n",
       "      <th>unique</th>\n",
       "      <td>1290</td>\n",
       "      <td>1051</td>\n",
       "    </tr>\n",
       "    <tr>\n",
       "      <th>top</th>\n",
       "      <td>Title:\\tTFNet: Multi-Semantic Feature Interact...</td>\n",
       "      <td>unanswerable</td>\n",
       "    </tr>\n",
       "    <tr>\n",
       "      <th>freq</th>\n",
       "      <td>2</td>\n",
       "      <td>241</td>\n",
       "    </tr>\n",
       "  </tbody>\n",
       "</table>\n",
       "</div>"
      ],
      "text/plain": [
       "                                                   prompt        answer\n",
       "count                                                1291          1291\n",
       "unique                                               1290          1051\n",
       "top     Title:\\tTFNet: Multi-Semantic Feature Interact...  unanswerable\n",
       "freq                                                    2           241"
      ]
     },
     "metadata": {},
     "output_type": "display_data"
    },
    {
     "data": {
      "application/vnd.jupyter.widget-view+json": {
       "model_id": "acc0591407fa4f1cbb8ced6b5ff4bcba",
       "version_major": 2,
       "version_minor": 0
      },
      "text/plain": [
       "Downloading data files:   0%|          | 0/1 [00:00<?, ?it/s]"
      ]
     },
     "metadata": {},
     "output_type": "display_data"
    },
    {
     "data": {
      "application/vnd.jupyter.widget-view+json": {
       "model_id": "334020c11b4a4c0eaf60d6345bd45ee7",
       "version_major": 2,
       "version_minor": 0
      },
      "text/plain": [
       "Extracting data files:   0%|          | 0/1 [00:00<?, ?it/s]"
      ]
     },
     "metadata": {},
     "output_type": "display_data"
    },
    {
     "data": {
      "application/vnd.jupyter.widget-view+json": {
       "model_id": "0de18347e03b45729f91e40a3663bdc5",
       "version_major": 2,
       "version_minor": 0
      },
      "text/plain": [
       "Generating train split: 0 examples [00:00, ? examples/s]"
      ]
     },
     "metadata": {},
     "output_type": "display_data"
    },
    {
     "data": {
      "application/vnd.jupyter.widget-view+json": {
       "model_id": "e48d36cda039451191a3815ec8df660e",
       "version_major": 2,
       "version_minor": 0
      },
      "text/plain": [
       "Downloading data files:   0%|          | 0/1 [00:00<?, ?it/s]"
      ]
     },
     "metadata": {},
     "output_type": "display_data"
    },
    {
     "data": {
      "application/vnd.jupyter.widget-view+json": {
       "model_id": "8a28f3304d1845f79524913f5b8176b7",
       "version_major": 2,
       "version_minor": 0
      },
      "text/plain": [
       "Extracting data files:   0%|          | 0/1 [00:00<?, ?it/s]"
      ]
     },
     "metadata": {},
     "output_type": "display_data"
    },
    {
     "data": {
      "application/vnd.jupyter.widget-view+json": {
       "model_id": "7becf6c1351e433886cc5710746f977e",
       "version_major": 2,
       "version_minor": 0
      },
      "text/plain": [
       "Generating train split: 0 examples [00:00, ? examples/s]"
      ]
     },
     "metadata": {},
     "output_type": "display_data"
    },
    {
     "data": {
      "application/vnd.jupyter.widget-view+json": {
       "model_id": "df32644d9fcc4599bce30af3bf0070e7",
       "version_major": 2,
       "version_minor": 0
      },
      "text/plain": [
       "Downloading data files:   0%|          | 0/1 [00:00<?, ?it/s]"
      ]
     },
     "metadata": {},
     "output_type": "display_data"
    },
    {
     "data": {
      "application/vnd.jupyter.widget-view+json": {
       "model_id": "e9d2b3a376eb4ef0a4b9326bb6fd06d4",
       "version_major": 2,
       "version_minor": 0
      },
      "text/plain": [
       "Extracting data files:   0%|          | 0/1 [00:00<?, ?it/s]"
      ]
     },
     "metadata": {},
     "output_type": "display_data"
    },
    {
     "data": {
      "application/vnd.jupyter.widget-view+json": {
       "model_id": "d2f73a086beb4bc181e44ad1a2f2059b",
       "version_major": 2,
       "version_minor": 0
      },
      "text/plain": [
       "Generating train split: 0 examples [00:00, ? examples/s]"
      ]
     },
     "metadata": {},
     "output_type": "display_data"
    },
    {
     "data": {
      "application/vnd.jupyter.widget-view+json": {
       "model_id": "a7f0a39f76294781a6a370c4b14db13e",
       "version_major": 2,
       "version_minor": 0
      },
      "text/plain": [
       "Downloading data files:   0%|          | 0/1 [00:00<?, ?it/s]"
      ]
     },
     "metadata": {},
     "output_type": "display_data"
    },
    {
     "data": {
      "application/vnd.jupyter.widget-view+json": {
       "model_id": "aaac8ffe80ab41abaf80f308b03778cd",
       "version_major": 2,
       "version_minor": 0
      },
      "text/plain": [
       "Extracting data files:   0%|          | 0/1 [00:00<?, ?it/s]"
      ]
     },
     "metadata": {},
     "output_type": "display_data"
    },
    {
     "data": {
      "application/vnd.jupyter.widget-view+json": {
       "model_id": "1fe3c98302a3498b92bcc1aa48dd3402",
       "version_major": 2,
       "version_minor": 0
      },
      "text/plain": [
       "Generating train split: 0 examples [00:00, ? examples/s]"
      ]
     },
     "metadata": {},
     "output_type": "display_data"
    },
    {
     "name": "stdout",
     "output_type": "stream",
     "text": [
      "DatasetDict({\n",
      "    fold1: DatasetDict({\n",
      "        train: Dataset({\n",
      "            features: ['prompt', 'answer', '__index_level_0__'],\n",
      "            num_rows: 3075\n",
      "        })\n",
      "        validation: Dataset({\n",
      "            features: ['prompt', 'answer', '__index_level_0__'],\n",
      "            num_rows: 1298\n",
      "        })\n",
      "    })\n",
      "    fold2: DatasetDict({\n",
      "        train: Dataset({\n",
      "            features: ['prompt', 'answer', '__index_level_0__'],\n",
      "            num_rows: 3082\n",
      "        })\n",
      "        validation: Dataset({\n",
      "            features: ['prompt', 'answer', '__index_level_0__'],\n",
      "            num_rows: 1291\n",
      "        })\n",
      "    })\n",
      "})\n"
     ]
    },
    {
     "data": {
      "application/vnd.jupyter.widget-view+json": {
       "model_id": "acac2bcefb1645279cadbc68b4199f6d",
       "version_major": 2,
       "version_minor": 0
      },
      "text/plain": [
       "Saving the dataset (0/1 shards):   0%|          | 0/3075 [00:00<?, ? examples/s]"
      ]
     },
     "metadata": {},
     "output_type": "display_data"
    },
    {
     "data": {
      "application/vnd.jupyter.widget-view+json": {
       "model_id": "f489d0b21c6e42e1a1f70d6c367d06f6",
       "version_major": 2,
       "version_minor": 0
      },
      "text/plain": [
       "Saving the dataset (0/1 shards):   0%|          | 0/1298 [00:00<?, ? examples/s]"
      ]
     },
     "metadata": {},
     "output_type": "display_data"
    },
    {
     "data": {
      "application/vnd.jupyter.widget-view+json": {
       "model_id": "68490a743ee94728a51544ef50010050",
       "version_major": 2,
       "version_minor": 0
      },
      "text/plain": [
       "Saving the dataset (0/1 shards):   0%|          | 0/3082 [00:00<?, ? examples/s]"
      ]
     },
     "metadata": {},
     "output_type": "display_data"
    },
    {
     "data": {
      "application/vnd.jupyter.widget-view+json": {
       "model_id": "3969a9f0502245a78d0dabdc94758a0e",
       "version_major": 2,
       "version_minor": 0
      },
      "text/plain": [
       "Saving the dataset (0/1 shards):   0%|          | 0/1291 [00:00<?, ? examples/s]"
      ]
     },
     "metadata": {},
     "output_type": "display_data"
    }
   ],
   "source": [
    "df_train_f1_squad_5 = create_pandas_dataset_from_pandas(df_train_f1,\n",
    "                                                        squad_5 = True,\n",
    "                                                        ) \n",
    "df_dev_f1_squad_5 = create_pandas_dataset_from_pandas(df_dev_f1,\n",
    "                                                        squad_5 = True,\n",
    "                                                        ) \n",
    "df_train_f2_squad_5 = create_pandas_dataset_from_pandas(df_train_f2,\n",
    "                                                        squad_5 = True,\n",
    "                                                        ) \n",
    "df_dev_f2_squad_5 = create_pandas_dataset_from_pandas(df_dev_f2,\n",
    "                                                        squad_5 = True,\n",
    "                                                        ) \n",
    "\n",
    "print(\"df_train_f1_squad_5 describe: \")\n",
    "display(df_train_f1_squad_5.describe())\n",
    "print(\"df_dev_f1_squad_5 describe: \")\n",
    "display(df_dev_f1_squad_5.describe())\n",
    "\n",
    "print(\"df_train_f2_squad_5 describe: \")\n",
    "display(df_train_f2_squad_5.describe())\n",
    "print(\"df_dev_f2_squad_5 describe: \")\n",
    "display(df_dev_f2_squad_5.describe())\n",
    "\n",
    "df_train_f1_squad_5.to_parquet('../data/df_train_tdms_long_summarized_f1_squad_5.parquet')\n",
    "df_dev_f1_squad_5.to_parquet('../data/df_dev_tdms_long_summarized_f1_squad_5.parquet')\n",
    "df_train_f2_squad_5.to_parquet('../data/df_train_tdms_long_summarized_f2_squad_5.parquet')\n",
    "df_dev_f2_squad_5.to_parquet('../data/df_dev_tdms_long_summarized_f2_squad_5.parquet')\n",
    "\n",
    "dataset = DatasetDict({\n",
    "    'fold1': DatasetDict({\n",
    "        \"train\": Dataset.from_parquet('../data/df_train_tdms_long_summarized_f1_squad_5.parquet'),\n",
    "        \"validation\": Dataset.from_parquet('../data/df_dev_tdms_long_summarized_f1_squad_5.parquet')\n",
    "    }),\n",
    "    'fold2': DatasetDict({\n",
    "        \"train\": Dataset.from_parquet('../data/df_train_tdms_long_summarized_f2_squad_5.parquet'),\n",
    "        \"validation\": Dataset.from_parquet('../data/df_dev_tdms_long_summarized_f2_squad_5.parquet')\n",
    "    })\n",
    "})\n",
    "\n",
    "print(dataset)\n",
    "\n",
    "dataset.save_to_disk(\"../data/LLLM_LONG_SUMMARIZED_TDMS_SQUAD_5\")"
   ]
  },
  {
   "cell_type": "code",
   "execution_count": 51,
   "metadata": {},
   "outputs": [
    {
     "name": "stderr",
     "output_type": "stream",
     "text": [
      "100%|██████████| 3075/3075 [00:01<00:00, 1593.57it/s]\n",
      "100%|██████████| 1298/1298 [00:00<00:00, 1637.86it/s]\n",
      "100%|██████████| 3082/3082 [00:01<00:00, 1568.97it/s]\n",
      "100%|██████████| 1291/1291 [00:00<00:00, 1643.80it/s]\n"
     ]
    },
    {
     "name": "stdout",
     "output_type": "stream",
     "text": [
      "df_train_f1_squad_6 describe: \n"
     ]
    },
    {
     "data": {
      "text/html": [
       "<div>\n",
       "<style scoped>\n",
       "    .dataframe tbody tr th:only-of-type {\n",
       "        vertical-align: middle;\n",
       "    }\n",
       "\n",
       "    .dataframe tbody tr th {\n",
       "        vertical-align: top;\n",
       "    }\n",
       "\n",
       "    .dataframe thead th {\n",
       "        text-align: right;\n",
       "    }\n",
       "</style>\n",
       "<table border=\"1\" class=\"dataframe\">\n",
       "  <thead>\n",
       "    <tr style=\"text-align: right;\">\n",
       "      <th></th>\n",
       "      <th>prompt</th>\n",
       "      <th>answer</th>\n",
       "    </tr>\n",
       "  </thead>\n",
       "  <tbody>\n",
       "    <tr>\n",
       "      <th>count</th>\n",
       "      <td>3075</td>\n",
       "      <td>3075</td>\n",
       "    </tr>\n",
       "    <tr>\n",
       "      <th>unique</th>\n",
       "      <td>3069</td>\n",
       "      <td>2510</td>\n",
       "    </tr>\n",
       "    <tr>\n",
       "      <th>top</th>\n",
       "      <td>Title:\\tIJCAI–19 Example on typesetting multip...</td>\n",
       "      <td>unanswerable</td>\n",
       "    </tr>\n",
       "    <tr>\n",
       "      <th>freq</th>\n",
       "      <td>2</td>\n",
       "      <td>562</td>\n",
       "    </tr>\n",
       "  </tbody>\n",
       "</table>\n",
       "</div>"
      ],
      "text/plain": [
       "                                                   prompt        answer\n",
       "count                                                3075          3075\n",
       "unique                                               3069          2510\n",
       "top     Title:\\tIJCAI–19 Example on typesetting multip...  unanswerable\n",
       "freq                                                    2           562"
      ]
     },
     "metadata": {},
     "output_type": "display_data"
    },
    {
     "name": "stdout",
     "output_type": "stream",
     "text": [
      "df_dev_f1_squad_6 describe: \n"
     ]
    },
    {
     "data": {
      "text/html": [
       "<div>\n",
       "<style scoped>\n",
       "    .dataframe tbody tr th:only-of-type {\n",
       "        vertical-align: middle;\n",
       "    }\n",
       "\n",
       "    .dataframe tbody tr th {\n",
       "        vertical-align: top;\n",
       "    }\n",
       "\n",
       "    .dataframe thead th {\n",
       "        text-align: right;\n",
       "    }\n",
       "</style>\n",
       "<table border=\"1\" class=\"dataframe\">\n",
       "  <thead>\n",
       "    <tr style=\"text-align: right;\">\n",
       "      <th></th>\n",
       "      <th>prompt</th>\n",
       "      <th>answer</th>\n",
       "    </tr>\n",
       "  </thead>\n",
       "  <tbody>\n",
       "    <tr>\n",
       "      <th>count</th>\n",
       "      <td>1298</td>\n",
       "      <td>1298</td>\n",
       "    </tr>\n",
       "    <tr>\n",
       "      <th>unique</th>\n",
       "      <td>1298</td>\n",
       "      <td>1057</td>\n",
       "    </tr>\n",
       "    <tr>\n",
       "      <th>top</th>\n",
       "      <td>Title:\\t Dark Model Adaptation: Semantic Image...</td>\n",
       "      <td>unanswerable</td>\n",
       "    </tr>\n",
       "    <tr>\n",
       "      <th>freq</th>\n",
       "      <td>1</td>\n",
       "      <td>241</td>\n",
       "    </tr>\n",
       "  </tbody>\n",
       "</table>\n",
       "</div>"
      ],
      "text/plain": [
       "                                                   prompt        answer\n",
       "count                                                1298          1298\n",
       "unique                                               1298          1057\n",
       "top     Title:\\t Dark Model Adaptation: Semantic Image...  unanswerable\n",
       "freq                                                    1           241"
      ]
     },
     "metadata": {},
     "output_type": "display_data"
    },
    {
     "name": "stdout",
     "output_type": "stream",
     "text": [
      "df_train_f2_squad_6 describe: \n"
     ]
    },
    {
     "data": {
      "text/html": [
       "<div>\n",
       "<style scoped>\n",
       "    .dataframe tbody tr th:only-of-type {\n",
       "        vertical-align: middle;\n",
       "    }\n",
       "\n",
       "    .dataframe tbody tr th {\n",
       "        vertical-align: top;\n",
       "    }\n",
       "\n",
       "    .dataframe thead th {\n",
       "        text-align: right;\n",
       "    }\n",
       "</style>\n",
       "<table border=\"1\" class=\"dataframe\">\n",
       "  <thead>\n",
       "    <tr style=\"text-align: right;\">\n",
       "      <th></th>\n",
       "      <th>prompt</th>\n",
       "      <th>answer</th>\n",
       "    </tr>\n",
       "  </thead>\n",
       "  <tbody>\n",
       "    <tr>\n",
       "      <th>count</th>\n",
       "      <td>3082</td>\n",
       "      <td>3082</td>\n",
       "    </tr>\n",
       "    <tr>\n",
       "      <th>unique</th>\n",
       "      <td>3076</td>\n",
       "      <td>2517</td>\n",
       "    </tr>\n",
       "    <tr>\n",
       "      <th>top</th>\n",
       "      <td>Title:\\tBare Demo of IEEEtran.cls\\nfor IEEE Co...</td>\n",
       "      <td>unanswerable</td>\n",
       "    </tr>\n",
       "    <tr>\n",
       "      <th>freq</th>\n",
       "      <td>2</td>\n",
       "      <td>562</td>\n",
       "    </tr>\n",
       "  </tbody>\n",
       "</table>\n",
       "</div>"
      ],
      "text/plain": [
       "                                                   prompt        answer\n",
       "count                                                3082          3082\n",
       "unique                                               3076          2517\n",
       "top     Title:\\tBare Demo of IEEEtran.cls\\nfor IEEE Co...  unanswerable\n",
       "freq                                                    2           562"
      ]
     },
     "metadata": {},
     "output_type": "display_data"
    },
    {
     "name": "stdout",
     "output_type": "stream",
     "text": [
      "df_dev_f2_squad_6 describe: \n"
     ]
    },
    {
     "data": {
      "text/html": [
       "<div>\n",
       "<style scoped>\n",
       "    .dataframe tbody tr th:only-of-type {\n",
       "        vertical-align: middle;\n",
       "    }\n",
       "\n",
       "    .dataframe tbody tr th {\n",
       "        vertical-align: top;\n",
       "    }\n",
       "\n",
       "    .dataframe thead th {\n",
       "        text-align: right;\n",
       "    }\n",
       "</style>\n",
       "<table border=\"1\" class=\"dataframe\">\n",
       "  <thead>\n",
       "    <tr style=\"text-align: right;\">\n",
       "      <th></th>\n",
       "      <th>prompt</th>\n",
       "      <th>answer</th>\n",
       "    </tr>\n",
       "  </thead>\n",
       "  <tbody>\n",
       "    <tr>\n",
       "      <th>count</th>\n",
       "      <td>1291</td>\n",
       "      <td>1291</td>\n",
       "    </tr>\n",
       "    <tr>\n",
       "      <th>unique</th>\n",
       "      <td>1290</td>\n",
       "      <td>1051</td>\n",
       "    </tr>\n",
       "    <tr>\n",
       "      <th>top</th>\n",
       "      <td>Title:\\tTFNet: Multi-Semantic Feature Interact...</td>\n",
       "      <td>unanswerable</td>\n",
       "    </tr>\n",
       "    <tr>\n",
       "      <th>freq</th>\n",
       "      <td>2</td>\n",
       "      <td>241</td>\n",
       "    </tr>\n",
       "  </tbody>\n",
       "</table>\n",
       "</div>"
      ],
      "text/plain": [
       "                                                   prompt        answer\n",
       "count                                                1291          1291\n",
       "unique                                               1290          1051\n",
       "top     Title:\\tTFNet: Multi-Semantic Feature Interact...  unanswerable\n",
       "freq                                                    2           241"
      ]
     },
     "metadata": {},
     "output_type": "display_data"
    },
    {
     "data": {
      "application/vnd.jupyter.widget-view+json": {
       "model_id": "092552f2715f4b4b96aecafeec42033a",
       "version_major": 2,
       "version_minor": 0
      },
      "text/plain": [
       "Downloading data files:   0%|          | 0/1 [00:00<?, ?it/s]"
      ]
     },
     "metadata": {},
     "output_type": "display_data"
    },
    {
     "data": {
      "application/vnd.jupyter.widget-view+json": {
       "model_id": "82b220a6bc2a4d7283bb4ac1928a365b",
       "version_major": 2,
       "version_minor": 0
      },
      "text/plain": [
       "Extracting data files:   0%|          | 0/1 [00:00<?, ?it/s]"
      ]
     },
     "metadata": {},
     "output_type": "display_data"
    },
    {
     "data": {
      "application/vnd.jupyter.widget-view+json": {
       "model_id": "ad20d68863c54fb183f32c20a2d9c5b7",
       "version_major": 2,
       "version_minor": 0
      },
      "text/plain": [
       "Generating train split: 0 examples [00:00, ? examples/s]"
      ]
     },
     "metadata": {},
     "output_type": "display_data"
    },
    {
     "data": {
      "application/vnd.jupyter.widget-view+json": {
       "model_id": "c640695c91a24f4f9451036d96d428ab",
       "version_major": 2,
       "version_minor": 0
      },
      "text/plain": [
       "Downloading data files:   0%|          | 0/1 [00:00<?, ?it/s]"
      ]
     },
     "metadata": {},
     "output_type": "display_data"
    },
    {
     "data": {
      "application/vnd.jupyter.widget-view+json": {
       "model_id": "548d5b4f848d4af59e1e91b7666c332b",
       "version_major": 2,
       "version_minor": 0
      },
      "text/plain": [
       "Extracting data files:   0%|          | 0/1 [00:00<?, ?it/s]"
      ]
     },
     "metadata": {},
     "output_type": "display_data"
    },
    {
     "data": {
      "application/vnd.jupyter.widget-view+json": {
       "model_id": "62e2e289c9d34709b488067cd8430036",
       "version_major": 2,
       "version_minor": 0
      },
      "text/plain": [
       "Generating train split: 0 examples [00:00, ? examples/s]"
      ]
     },
     "metadata": {},
     "output_type": "display_data"
    },
    {
     "data": {
      "application/vnd.jupyter.widget-view+json": {
       "model_id": "8e52f380bf6b4849959113d642ec21c1",
       "version_major": 2,
       "version_minor": 0
      },
      "text/plain": [
       "Downloading data files:   0%|          | 0/1 [00:00<?, ?it/s]"
      ]
     },
     "metadata": {},
     "output_type": "display_data"
    },
    {
     "data": {
      "application/vnd.jupyter.widget-view+json": {
       "model_id": "75a78dc0aa7d4aef95f36ab9c6255b29",
       "version_major": 2,
       "version_minor": 0
      },
      "text/plain": [
       "Extracting data files:   0%|          | 0/1 [00:00<?, ?it/s]"
      ]
     },
     "metadata": {},
     "output_type": "display_data"
    },
    {
     "data": {
      "application/vnd.jupyter.widget-view+json": {
       "model_id": "685c507ba90d49ce9cb57ba5465b1a81",
       "version_major": 2,
       "version_minor": 0
      },
      "text/plain": [
       "Generating train split: 0 examples [00:00, ? examples/s]"
      ]
     },
     "metadata": {},
     "output_type": "display_data"
    },
    {
     "data": {
      "application/vnd.jupyter.widget-view+json": {
       "model_id": "b8d652a277e24ecca885613d0f0ee29a",
       "version_major": 2,
       "version_minor": 0
      },
      "text/plain": [
       "Downloading data files:   0%|          | 0/1 [00:00<?, ?it/s]"
      ]
     },
     "metadata": {},
     "output_type": "display_data"
    },
    {
     "data": {
      "application/vnd.jupyter.widget-view+json": {
       "model_id": "6379b93642dd4294b5d69b1e8b89bdd2",
       "version_major": 2,
       "version_minor": 0
      },
      "text/plain": [
       "Extracting data files:   0%|          | 0/1 [00:00<?, ?it/s]"
      ]
     },
     "metadata": {},
     "output_type": "display_data"
    },
    {
     "data": {
      "application/vnd.jupyter.widget-view+json": {
       "model_id": "a5d91cb7dbc14bb085edb61d58ba038b",
       "version_major": 2,
       "version_minor": 0
      },
      "text/plain": [
       "Generating train split: 0 examples [00:00, ? examples/s]"
      ]
     },
     "metadata": {},
     "output_type": "display_data"
    },
    {
     "name": "stdout",
     "output_type": "stream",
     "text": [
      "DatasetDict({\n",
      "    fold1: DatasetDict({\n",
      "        train: Dataset({\n",
      "            features: ['prompt', 'answer', '__index_level_0__'],\n",
      "            num_rows: 3075\n",
      "        })\n",
      "        validation: Dataset({\n",
      "            features: ['prompt', 'answer', '__index_level_0__'],\n",
      "            num_rows: 1298\n",
      "        })\n",
      "    })\n",
      "    fold2: DatasetDict({\n",
      "        train: Dataset({\n",
      "            features: ['prompt', 'answer', '__index_level_0__'],\n",
      "            num_rows: 3082\n",
      "        })\n",
      "        validation: Dataset({\n",
      "            features: ['prompt', 'answer', '__index_level_0__'],\n",
      "            num_rows: 1291\n",
      "        })\n",
      "    })\n",
      "})\n"
     ]
    },
    {
     "data": {
      "application/vnd.jupyter.widget-view+json": {
       "model_id": "f2579d72b84b4982a2b16e8989196d77",
       "version_major": 2,
       "version_minor": 0
      },
      "text/plain": [
       "Saving the dataset (0/1 shards):   0%|          | 0/3075 [00:00<?, ? examples/s]"
      ]
     },
     "metadata": {},
     "output_type": "display_data"
    },
    {
     "data": {
      "application/vnd.jupyter.widget-view+json": {
       "model_id": "21011b29df4e4a428e5f013a01aded5b",
       "version_major": 2,
       "version_minor": 0
      },
      "text/plain": [
       "Saving the dataset (0/1 shards):   0%|          | 0/1298 [00:00<?, ? examples/s]"
      ]
     },
     "metadata": {},
     "output_type": "display_data"
    },
    {
     "data": {
      "application/vnd.jupyter.widget-view+json": {
       "model_id": "0b5b276eee454b2d8e8487c1ba4212d9",
       "version_major": 2,
       "version_minor": 0
      },
      "text/plain": [
       "Saving the dataset (0/1 shards):   0%|          | 0/3082 [00:00<?, ? examples/s]"
      ]
     },
     "metadata": {},
     "output_type": "display_data"
    },
    {
     "data": {
      "application/vnd.jupyter.widget-view+json": {
       "model_id": "24be616e33ce4a178b135179ca480885",
       "version_major": 2,
       "version_minor": 0
      },
      "text/plain": [
       "Saving the dataset (0/1 shards):   0%|          | 0/1291 [00:00<?, ? examples/s]"
      ]
     },
     "metadata": {},
     "output_type": "display_data"
    }
   ],
   "source": [
    "df_train_f1_squad_6 = create_pandas_dataset_from_pandas(df_train_f1,\n",
    "                                                        squad_6 = True,\n",
    "                                                        ) \n",
    "df_dev_f1_squad_6 = create_pandas_dataset_from_pandas(df_dev_f1,\n",
    "                                                        squad_6 = True,\n",
    "                                                        ) \n",
    "df_train_f2_squad_6 = create_pandas_dataset_from_pandas(df_train_f2,\n",
    "                                                        squad_6 = True,\n",
    "                                                        ) \n",
    "df_dev_f2_squad_6 = create_pandas_dataset_from_pandas(df_dev_f2,\n",
    "                                                        squad_6 = True,\n",
    "                                                        ) \n",
    "\n",
    "print(\"df_train_f1_squad_6 describe: \")\n",
    "display(df_train_f1_squad_6.describe())\n",
    "print(\"df_dev_f1_squad_6 describe: \")\n",
    "display(df_dev_f1_squad_6.describe())\n",
    "\n",
    "print(\"df_train_f2_squad_6 describe: \")\n",
    "display(df_train_f2_squad_6.describe())\n",
    "print(\"df_dev_f2_squad_6 describe: \")\n",
    "display(df_dev_f2_squad_6.describe())\n",
    "\n",
    "df_train_f1_squad_6.to_parquet('../data/df_train_tdms_long_summarized_f1_squad_6.parquet')\n",
    "df_dev_f1_squad_6.to_parquet('../data/df_dev_tdms_long_summarized_f1_squad_6.parquet')\n",
    "df_train_f2_squad_6.to_parquet('../data/df_train_tdms_long_summarized_f2_squad_6.parquet')\n",
    "df_dev_f2_squad_6.to_parquet('../data/df_dev_tdms_long_summarized_f2_squad_6.parquet')\n",
    "\n",
    "dataset = DatasetDict({\n",
    "    'fold1': DatasetDict({\n",
    "        \"train\": Dataset.from_parquet('../data/df_train_tdms_long_summarized_f1_squad_6.parquet'),\n",
    "        \"validation\": Dataset.from_parquet('../data/df_dev_tdms_long_summarized_f1_squad_6.parquet')\n",
    "    }),\n",
    "    'fold2': DatasetDict({\n",
    "        \"train\": Dataset.from_parquet('../data/df_train_tdms_long_summarized_f2_squad_6.parquet'),\n",
    "        \"validation\": Dataset.from_parquet('../data/df_dev_tdms_long_summarized_f2_squad_6.parquet')\n",
    "    })\n",
    "})\n",
    "\n",
    "print(dataset)\n",
    "\n",
    "dataset.save_to_disk(\"../data/LLLM_LONG_SUMMARIZED_TDMS_SQUAD_6\")"
   ]
  },
  {
   "cell_type": "code",
   "execution_count": 52,
   "metadata": {},
   "outputs": [
    {
     "name": "stderr",
     "output_type": "stream",
     "text": [
      "100%|██████████| 3075/3075 [00:01<00:00, 1611.16it/s]\n",
      "100%|██████████| 1298/1298 [00:00<00:00, 1626.39it/s]\n",
      "100%|██████████| 3082/3082 [00:01<00:00, 1574.99it/s]\n",
      "100%|██████████| 1291/1291 [00:00<00:00, 1644.23it/s]\n"
     ]
    },
    {
     "name": "stdout",
     "output_type": "stream",
     "text": [
      "df_train_f1_squad_7 describe: \n"
     ]
    },
    {
     "data": {
      "text/html": [
       "<div>\n",
       "<style scoped>\n",
       "    .dataframe tbody tr th:only-of-type {\n",
       "        vertical-align: middle;\n",
       "    }\n",
       "\n",
       "    .dataframe tbody tr th {\n",
       "        vertical-align: top;\n",
       "    }\n",
       "\n",
       "    .dataframe thead th {\n",
       "        text-align: right;\n",
       "    }\n",
       "</style>\n",
       "<table border=\"1\" class=\"dataframe\">\n",
       "  <thead>\n",
       "    <tr style=\"text-align: right;\">\n",
       "      <th></th>\n",
       "      <th>prompt</th>\n",
       "      <th>answer</th>\n",
       "    </tr>\n",
       "  </thead>\n",
       "  <tbody>\n",
       "    <tr>\n",
       "      <th>count</th>\n",
       "      <td>3075</td>\n",
       "      <td>3075</td>\n",
       "    </tr>\n",
       "    <tr>\n",
       "      <th>unique</th>\n",
       "      <td>3069</td>\n",
       "      <td>2510</td>\n",
       "    </tr>\n",
       "    <tr>\n",
       "      <th>top</th>\n",
       "      <td>Read this: Title:\\tIJCAI–19 Example on typeset...</td>\n",
       "      <td>unanswerable</td>\n",
       "    </tr>\n",
       "    <tr>\n",
       "      <th>freq</th>\n",
       "      <td>2</td>\n",
       "      <td>562</td>\n",
       "    </tr>\n",
       "  </tbody>\n",
       "</table>\n",
       "</div>"
      ],
      "text/plain": [
       "                                                   prompt        answer\n",
       "count                                                3075          3075\n",
       "unique                                               3069          2510\n",
       "top     Read this: Title:\\tIJCAI–19 Example on typeset...  unanswerable\n",
       "freq                                                    2           562"
      ]
     },
     "metadata": {},
     "output_type": "display_data"
    },
    {
     "name": "stdout",
     "output_type": "stream",
     "text": [
      "df_dev_f1_squad_7 describe: \n"
     ]
    },
    {
     "data": {
      "text/html": [
       "<div>\n",
       "<style scoped>\n",
       "    .dataframe tbody tr th:only-of-type {\n",
       "        vertical-align: middle;\n",
       "    }\n",
       "\n",
       "    .dataframe tbody tr th {\n",
       "        vertical-align: top;\n",
       "    }\n",
       "\n",
       "    .dataframe thead th {\n",
       "        text-align: right;\n",
       "    }\n",
       "</style>\n",
       "<table border=\"1\" class=\"dataframe\">\n",
       "  <thead>\n",
       "    <tr style=\"text-align: right;\">\n",
       "      <th></th>\n",
       "      <th>prompt</th>\n",
       "      <th>answer</th>\n",
       "    </tr>\n",
       "  </thead>\n",
       "  <tbody>\n",
       "    <tr>\n",
       "      <th>count</th>\n",
       "      <td>1298</td>\n",
       "      <td>1298</td>\n",
       "    </tr>\n",
       "    <tr>\n",
       "      <th>unique</th>\n",
       "      <td>1298</td>\n",
       "      <td>1057</td>\n",
       "    </tr>\n",
       "    <tr>\n",
       "      <th>top</th>\n",
       "      <td>Read this: Title:\\t Dark Model Adaptation: Sem...</td>\n",
       "      <td>unanswerable</td>\n",
       "    </tr>\n",
       "    <tr>\n",
       "      <th>freq</th>\n",
       "      <td>1</td>\n",
       "      <td>241</td>\n",
       "    </tr>\n",
       "  </tbody>\n",
       "</table>\n",
       "</div>"
      ],
      "text/plain": [
       "                                                   prompt        answer\n",
       "count                                                1298          1298\n",
       "unique                                               1298          1057\n",
       "top     Read this: Title:\\t Dark Model Adaptation: Sem...  unanswerable\n",
       "freq                                                    1           241"
      ]
     },
     "metadata": {},
     "output_type": "display_data"
    },
    {
     "name": "stdout",
     "output_type": "stream",
     "text": [
      "df_train_f2_squad_7 describe: \n"
     ]
    },
    {
     "data": {
      "text/html": [
       "<div>\n",
       "<style scoped>\n",
       "    .dataframe tbody tr th:only-of-type {\n",
       "        vertical-align: middle;\n",
       "    }\n",
       "\n",
       "    .dataframe tbody tr th {\n",
       "        vertical-align: top;\n",
       "    }\n",
       "\n",
       "    .dataframe thead th {\n",
       "        text-align: right;\n",
       "    }\n",
       "</style>\n",
       "<table border=\"1\" class=\"dataframe\">\n",
       "  <thead>\n",
       "    <tr style=\"text-align: right;\">\n",
       "      <th></th>\n",
       "      <th>prompt</th>\n",
       "      <th>answer</th>\n",
       "    </tr>\n",
       "  </thead>\n",
       "  <tbody>\n",
       "    <tr>\n",
       "      <th>count</th>\n",
       "      <td>3082</td>\n",
       "      <td>3082</td>\n",
       "    </tr>\n",
       "    <tr>\n",
       "      <th>unique</th>\n",
       "      <td>3076</td>\n",
       "      <td>2517</td>\n",
       "    </tr>\n",
       "    <tr>\n",
       "      <th>top</th>\n",
       "      <td>Read this: Title:\\tBare Demo of IEEEtran.cls\\n...</td>\n",
       "      <td>unanswerable</td>\n",
       "    </tr>\n",
       "    <tr>\n",
       "      <th>freq</th>\n",
       "      <td>2</td>\n",
       "      <td>562</td>\n",
       "    </tr>\n",
       "  </tbody>\n",
       "</table>\n",
       "</div>"
      ],
      "text/plain": [
       "                                                   prompt        answer\n",
       "count                                                3082          3082\n",
       "unique                                               3076          2517\n",
       "top     Read this: Title:\\tBare Demo of IEEEtran.cls\\n...  unanswerable\n",
       "freq                                                    2           562"
      ]
     },
     "metadata": {},
     "output_type": "display_data"
    },
    {
     "name": "stdout",
     "output_type": "stream",
     "text": [
      "df_dev_f2_squad_7 describe: \n"
     ]
    },
    {
     "data": {
      "text/html": [
       "<div>\n",
       "<style scoped>\n",
       "    .dataframe tbody tr th:only-of-type {\n",
       "        vertical-align: middle;\n",
       "    }\n",
       "\n",
       "    .dataframe tbody tr th {\n",
       "        vertical-align: top;\n",
       "    }\n",
       "\n",
       "    .dataframe thead th {\n",
       "        text-align: right;\n",
       "    }\n",
       "</style>\n",
       "<table border=\"1\" class=\"dataframe\">\n",
       "  <thead>\n",
       "    <tr style=\"text-align: right;\">\n",
       "      <th></th>\n",
       "      <th>prompt</th>\n",
       "      <th>answer</th>\n",
       "    </tr>\n",
       "  </thead>\n",
       "  <tbody>\n",
       "    <tr>\n",
       "      <th>count</th>\n",
       "      <td>1291</td>\n",
       "      <td>1291</td>\n",
       "    </tr>\n",
       "    <tr>\n",
       "      <th>unique</th>\n",
       "      <td>1290</td>\n",
       "      <td>1051</td>\n",
       "    </tr>\n",
       "    <tr>\n",
       "      <th>top</th>\n",
       "      <td>Read this: Title:\\tTFNet: Multi-Semantic Featu...</td>\n",
       "      <td>unanswerable</td>\n",
       "    </tr>\n",
       "    <tr>\n",
       "      <th>freq</th>\n",
       "      <td>2</td>\n",
       "      <td>241</td>\n",
       "    </tr>\n",
       "  </tbody>\n",
       "</table>\n",
       "</div>"
      ],
      "text/plain": [
       "                                                   prompt        answer\n",
       "count                                                1291          1291\n",
       "unique                                               1290          1051\n",
       "top     Read this: Title:\\tTFNet: Multi-Semantic Featu...  unanswerable\n",
       "freq                                                    2           241"
      ]
     },
     "metadata": {},
     "output_type": "display_data"
    },
    {
     "data": {
      "application/vnd.jupyter.widget-view+json": {
       "model_id": "ab0222e69ce24fbeaabde6920a0b0e83",
       "version_major": 2,
       "version_minor": 0
      },
      "text/plain": [
       "Downloading data files:   0%|          | 0/1 [00:00<?, ?it/s]"
      ]
     },
     "metadata": {},
     "output_type": "display_data"
    },
    {
     "data": {
      "application/vnd.jupyter.widget-view+json": {
       "model_id": "8ee5dcd62c54476bbb157ca34755e79b",
       "version_major": 2,
       "version_minor": 0
      },
      "text/plain": [
       "Extracting data files:   0%|          | 0/1 [00:00<?, ?it/s]"
      ]
     },
     "metadata": {},
     "output_type": "display_data"
    },
    {
     "data": {
      "application/vnd.jupyter.widget-view+json": {
       "model_id": "dcc458e2b01f4c0b8f7b026026f6c179",
       "version_major": 2,
       "version_minor": 0
      },
      "text/plain": [
       "Generating train split: 0 examples [00:00, ? examples/s]"
      ]
     },
     "metadata": {},
     "output_type": "display_data"
    },
    {
     "data": {
      "application/vnd.jupyter.widget-view+json": {
       "model_id": "ae0cc8e01297450a970fe0d9e46dcfaf",
       "version_major": 2,
       "version_minor": 0
      },
      "text/plain": [
       "Downloading data files:   0%|          | 0/1 [00:00<?, ?it/s]"
      ]
     },
     "metadata": {},
     "output_type": "display_data"
    },
    {
     "data": {
      "application/vnd.jupyter.widget-view+json": {
       "model_id": "a342e063be354bd5a8cfb21fc9acdac2",
       "version_major": 2,
       "version_minor": 0
      },
      "text/plain": [
       "Extracting data files:   0%|          | 0/1 [00:00<?, ?it/s]"
      ]
     },
     "metadata": {},
     "output_type": "display_data"
    },
    {
     "data": {
      "application/vnd.jupyter.widget-view+json": {
       "model_id": "144770c3371a477390cb6daca8459b39",
       "version_major": 2,
       "version_minor": 0
      },
      "text/plain": [
       "Generating train split: 0 examples [00:00, ? examples/s]"
      ]
     },
     "metadata": {},
     "output_type": "display_data"
    },
    {
     "data": {
      "application/vnd.jupyter.widget-view+json": {
       "model_id": "9f8dfacad2cf45839989be217896fd28",
       "version_major": 2,
       "version_minor": 0
      },
      "text/plain": [
       "Downloading data files:   0%|          | 0/1 [00:00<?, ?it/s]"
      ]
     },
     "metadata": {},
     "output_type": "display_data"
    },
    {
     "data": {
      "application/vnd.jupyter.widget-view+json": {
       "model_id": "bff4f5ce9d154051a7c08875c6f913de",
       "version_major": 2,
       "version_minor": 0
      },
      "text/plain": [
       "Extracting data files:   0%|          | 0/1 [00:00<?, ?it/s]"
      ]
     },
     "metadata": {},
     "output_type": "display_data"
    },
    {
     "data": {
      "application/vnd.jupyter.widget-view+json": {
       "model_id": "6f57a6b0f2d44439aa357f0a2873728a",
       "version_major": 2,
       "version_minor": 0
      },
      "text/plain": [
       "Generating train split: 0 examples [00:00, ? examples/s]"
      ]
     },
     "metadata": {},
     "output_type": "display_data"
    },
    {
     "data": {
      "application/vnd.jupyter.widget-view+json": {
       "model_id": "90bd68b8256443e1a58fe778f01b17cf",
       "version_major": 2,
       "version_minor": 0
      },
      "text/plain": [
       "Downloading data files:   0%|          | 0/1 [00:00<?, ?it/s]"
      ]
     },
     "metadata": {},
     "output_type": "display_data"
    },
    {
     "data": {
      "application/vnd.jupyter.widget-view+json": {
       "model_id": "025bff9c5be94ad8965b6ccfa6e4aeb4",
       "version_major": 2,
       "version_minor": 0
      },
      "text/plain": [
       "Extracting data files:   0%|          | 0/1 [00:00<?, ?it/s]"
      ]
     },
     "metadata": {},
     "output_type": "display_data"
    },
    {
     "data": {
      "application/vnd.jupyter.widget-view+json": {
       "model_id": "dd86a828f45f463fb9805ee0aff8e457",
       "version_major": 2,
       "version_minor": 0
      },
      "text/plain": [
       "Generating train split: 0 examples [00:00, ? examples/s]"
      ]
     },
     "metadata": {},
     "output_type": "display_data"
    },
    {
     "name": "stdout",
     "output_type": "stream",
     "text": [
      "DatasetDict({\n",
      "    fold1: DatasetDict({\n",
      "        train: Dataset({\n",
      "            features: ['prompt', 'answer', '__index_level_0__'],\n",
      "            num_rows: 3075\n",
      "        })\n",
      "        validation: Dataset({\n",
      "            features: ['prompt', 'answer', '__index_level_0__'],\n",
      "            num_rows: 1298\n",
      "        })\n",
      "    })\n",
      "    fold2: DatasetDict({\n",
      "        train: Dataset({\n",
      "            features: ['prompt', 'answer', '__index_level_0__'],\n",
      "            num_rows: 3082\n",
      "        })\n",
      "        validation: Dataset({\n",
      "            features: ['prompt', 'answer', '__index_level_0__'],\n",
      "            num_rows: 1291\n",
      "        })\n",
      "    })\n",
      "})\n"
     ]
    },
    {
     "data": {
      "application/vnd.jupyter.widget-view+json": {
       "model_id": "936c87da26ef43709cd063f7c89185c2",
       "version_major": 2,
       "version_minor": 0
      },
      "text/plain": [
       "Saving the dataset (0/1 shards):   0%|          | 0/3075 [00:00<?, ? examples/s]"
      ]
     },
     "metadata": {},
     "output_type": "display_data"
    },
    {
     "data": {
      "application/vnd.jupyter.widget-view+json": {
       "model_id": "60da7702bd9548648b04e61ca62d3b49",
       "version_major": 2,
       "version_minor": 0
      },
      "text/plain": [
       "Saving the dataset (0/1 shards):   0%|          | 0/1298 [00:00<?, ? examples/s]"
      ]
     },
     "metadata": {},
     "output_type": "display_data"
    },
    {
     "data": {
      "application/vnd.jupyter.widget-view+json": {
       "model_id": "789ba6d5650d4001ba026e1e123afe1b",
       "version_major": 2,
       "version_minor": 0
      },
      "text/plain": [
       "Saving the dataset (0/1 shards):   0%|          | 0/3082 [00:00<?, ? examples/s]"
      ]
     },
     "metadata": {},
     "output_type": "display_data"
    },
    {
     "data": {
      "application/vnd.jupyter.widget-view+json": {
       "model_id": "c9c10f6647a94daabed2be767e331aaa",
       "version_major": 2,
       "version_minor": 0
      },
      "text/plain": [
       "Saving the dataset (0/1 shards):   0%|          | 0/1291 [00:00<?, ? examples/s]"
      ]
     },
     "metadata": {},
     "output_type": "display_data"
    }
   ],
   "source": [
    "df_train_f1_squad_7 = create_pandas_dataset_from_pandas(df_train_f1,\n",
    "                                                        squad_7 = True,\n",
    "                                                        ) \n",
    "df_dev_f1_squad_7 = create_pandas_dataset_from_pandas(df_dev_f1,\n",
    "                                                        squad_7 = True,\n",
    "                                                        ) \n",
    "df_train_f2_squad_7 = create_pandas_dataset_from_pandas(df_train_f2,\n",
    "                                                        squad_7 = True,\n",
    "                                                        ) \n",
    "df_dev_f2_squad_7 = create_pandas_dataset_from_pandas(df_dev_f2,\n",
    "                                                        squad_7 = True,\n",
    "                                                        ) \n",
    "\n",
    "print(\"df_train_f1_squad_7 describe: \")\n",
    "display(df_train_f1_squad_7.describe())\n",
    "print(\"df_dev_f1_squad_7 describe: \")\n",
    "display(df_dev_f1_squad_7.describe())\n",
    "\n",
    "print(\"df_train_f2_squad_7 describe: \")\n",
    "display(df_train_f2_squad_7.describe())\n",
    "print(\"df_dev_f2_squad_7 describe: \")\n",
    "display(df_dev_f2_squad_7.describe())\n",
    "\n",
    "df_train_f1_squad_7.to_parquet('../data/df_train_tdms_long_summarized_f1_squad_7.parquet')\n",
    "df_dev_f1_squad_7.to_parquet('../data/df_dev_tdms_long_summarized_f1_squad_7.parquet')\n",
    "df_train_f2_squad_7.to_parquet('../data/df_train_tdms_long_summarized_f2_squad_7.parquet')\n",
    "df_dev_f2_squad_7.to_parquet('../data/df_dev_tdms_long_summarized_f2_squad_7.parquet')\n",
    "\n",
    "dataset = DatasetDict({\n",
    "    'fold1': DatasetDict({\n",
    "        \"train\": Dataset.from_parquet('../data/df_train_tdms_long_summarized_f1_squad_7.parquet'),\n",
    "        \"validation\": Dataset.from_parquet('../data/df_dev_tdms_long_summarized_f1_squad_7.parquet')\n",
    "    }),\n",
    "    'fold2': DatasetDict({\n",
    "        \"train\": Dataset.from_parquet('../data/df_train_tdms_long_summarized_f2_squad_7.parquet'),\n",
    "        \"validation\": Dataset.from_parquet('../data/df_dev_tdms_long_summarized_f2_squad_7.parquet')\n",
    "    })\n",
    "})\n",
    "\n",
    "print(dataset)\n",
    "\n",
    "dataset.save_to_disk(\"../data/LLLM_LONG_SUMMARIZED_TDMS_SQUAD_7\")"
   ]
  },
  {
   "cell_type": "code",
   "execution_count": 53,
   "metadata": {},
   "outputs": [
    {
     "name": "stderr",
     "output_type": "stream",
     "text": [
      "100%|██████████| 3075/3075 [00:01<00:00, 1579.36it/s]\n",
      "100%|██████████| 1298/1298 [00:00<00:00, 1648.85it/s]\n",
      "100%|██████████| 3082/3082 [00:01<00:00, 1578.41it/s]\n",
      "100%|██████████| 1291/1291 [00:00<00:00, 1648.28it/s]\n"
     ]
    },
    {
     "name": "stdout",
     "output_type": "stream",
     "text": [
      "df_train_f1_squad_8 describe: \n"
     ]
    },
    {
     "data": {
      "text/html": [
       "<div>\n",
       "<style scoped>\n",
       "    .dataframe tbody tr th:only-of-type {\n",
       "        vertical-align: middle;\n",
       "    }\n",
       "\n",
       "    .dataframe tbody tr th {\n",
       "        vertical-align: top;\n",
       "    }\n",
       "\n",
       "    .dataframe thead th {\n",
       "        text-align: right;\n",
       "    }\n",
       "</style>\n",
       "<table border=\"1\" class=\"dataframe\">\n",
       "  <thead>\n",
       "    <tr style=\"text-align: right;\">\n",
       "      <th></th>\n",
       "      <th>prompt</th>\n",
       "      <th>answer</th>\n",
       "    </tr>\n",
       "  </thead>\n",
       "  <tbody>\n",
       "    <tr>\n",
       "      <th>count</th>\n",
       "      <td>3075</td>\n",
       "      <td>3075</td>\n",
       "    </tr>\n",
       "    <tr>\n",
       "      <th>unique</th>\n",
       "      <td>3069</td>\n",
       "      <td>2510</td>\n",
       "    </tr>\n",
       "    <tr>\n",
       "      <th>top</th>\n",
       "      <td>Read this: Title:\\tIJCAI–19 Example on typeset...</td>\n",
       "      <td>unanswerable</td>\n",
       "    </tr>\n",
       "    <tr>\n",
       "      <th>freq</th>\n",
       "      <td>2</td>\n",
       "      <td>562</td>\n",
       "    </tr>\n",
       "  </tbody>\n",
       "</table>\n",
       "</div>"
      ],
      "text/plain": [
       "                                                   prompt        answer\n",
       "count                                                3075          3075\n",
       "unique                                               3069          2510\n",
       "top     Read this: Title:\\tIJCAI–19 Example on typeset...  unanswerable\n",
       "freq                                                    2           562"
      ]
     },
     "metadata": {},
     "output_type": "display_data"
    },
    {
     "name": "stdout",
     "output_type": "stream",
     "text": [
      "df_dev_f1_squad_8 describe: \n"
     ]
    },
    {
     "data": {
      "text/html": [
       "<div>\n",
       "<style scoped>\n",
       "    .dataframe tbody tr th:only-of-type {\n",
       "        vertical-align: middle;\n",
       "    }\n",
       "\n",
       "    .dataframe tbody tr th {\n",
       "        vertical-align: top;\n",
       "    }\n",
       "\n",
       "    .dataframe thead th {\n",
       "        text-align: right;\n",
       "    }\n",
       "</style>\n",
       "<table border=\"1\" class=\"dataframe\">\n",
       "  <thead>\n",
       "    <tr style=\"text-align: right;\">\n",
       "      <th></th>\n",
       "      <th>prompt</th>\n",
       "      <th>answer</th>\n",
       "    </tr>\n",
       "  </thead>\n",
       "  <tbody>\n",
       "    <tr>\n",
       "      <th>count</th>\n",
       "      <td>1298</td>\n",
       "      <td>1298</td>\n",
       "    </tr>\n",
       "    <tr>\n",
       "      <th>unique</th>\n",
       "      <td>1298</td>\n",
       "      <td>1057</td>\n",
       "    </tr>\n",
       "    <tr>\n",
       "      <th>top</th>\n",
       "      <td>Read this: Title:\\t Dark Model Adaptation: Sem...</td>\n",
       "      <td>unanswerable</td>\n",
       "    </tr>\n",
       "    <tr>\n",
       "      <th>freq</th>\n",
       "      <td>1</td>\n",
       "      <td>241</td>\n",
       "    </tr>\n",
       "  </tbody>\n",
       "</table>\n",
       "</div>"
      ],
      "text/plain": [
       "                                                   prompt        answer\n",
       "count                                                1298          1298\n",
       "unique                                               1298          1057\n",
       "top     Read this: Title:\\t Dark Model Adaptation: Sem...  unanswerable\n",
       "freq                                                    1           241"
      ]
     },
     "metadata": {},
     "output_type": "display_data"
    },
    {
     "name": "stdout",
     "output_type": "stream",
     "text": [
      "df_train_f2_squad_8 describe: \n"
     ]
    },
    {
     "data": {
      "text/html": [
       "<div>\n",
       "<style scoped>\n",
       "    .dataframe tbody tr th:only-of-type {\n",
       "        vertical-align: middle;\n",
       "    }\n",
       "\n",
       "    .dataframe tbody tr th {\n",
       "        vertical-align: top;\n",
       "    }\n",
       "\n",
       "    .dataframe thead th {\n",
       "        text-align: right;\n",
       "    }\n",
       "</style>\n",
       "<table border=\"1\" class=\"dataframe\">\n",
       "  <thead>\n",
       "    <tr style=\"text-align: right;\">\n",
       "      <th></th>\n",
       "      <th>prompt</th>\n",
       "      <th>answer</th>\n",
       "    </tr>\n",
       "  </thead>\n",
       "  <tbody>\n",
       "    <tr>\n",
       "      <th>count</th>\n",
       "      <td>3082</td>\n",
       "      <td>3082</td>\n",
       "    </tr>\n",
       "    <tr>\n",
       "      <th>unique</th>\n",
       "      <td>3076</td>\n",
       "      <td>2517</td>\n",
       "    </tr>\n",
       "    <tr>\n",
       "      <th>top</th>\n",
       "      <td>Read this: Title:\\tBare Demo of IEEEtran.cls\\n...</td>\n",
       "      <td>unanswerable</td>\n",
       "    </tr>\n",
       "    <tr>\n",
       "      <th>freq</th>\n",
       "      <td>2</td>\n",
       "      <td>562</td>\n",
       "    </tr>\n",
       "  </tbody>\n",
       "</table>\n",
       "</div>"
      ],
      "text/plain": [
       "                                                   prompt        answer\n",
       "count                                                3082          3082\n",
       "unique                                               3076          2517\n",
       "top     Read this: Title:\\tBare Demo of IEEEtran.cls\\n...  unanswerable\n",
       "freq                                                    2           562"
      ]
     },
     "metadata": {},
     "output_type": "display_data"
    },
    {
     "name": "stdout",
     "output_type": "stream",
     "text": [
      "df_dev_f2_squad_8 describe: \n"
     ]
    },
    {
     "data": {
      "text/html": [
       "<div>\n",
       "<style scoped>\n",
       "    .dataframe tbody tr th:only-of-type {\n",
       "        vertical-align: middle;\n",
       "    }\n",
       "\n",
       "    .dataframe tbody tr th {\n",
       "        vertical-align: top;\n",
       "    }\n",
       "\n",
       "    .dataframe thead th {\n",
       "        text-align: right;\n",
       "    }\n",
       "</style>\n",
       "<table border=\"1\" class=\"dataframe\">\n",
       "  <thead>\n",
       "    <tr style=\"text-align: right;\">\n",
       "      <th></th>\n",
       "      <th>prompt</th>\n",
       "      <th>answer</th>\n",
       "    </tr>\n",
       "  </thead>\n",
       "  <tbody>\n",
       "    <tr>\n",
       "      <th>count</th>\n",
       "      <td>1291</td>\n",
       "      <td>1291</td>\n",
       "    </tr>\n",
       "    <tr>\n",
       "      <th>unique</th>\n",
       "      <td>1290</td>\n",
       "      <td>1051</td>\n",
       "    </tr>\n",
       "    <tr>\n",
       "      <th>top</th>\n",
       "      <td>Read this: Title:\\tTFNet: Multi-Semantic Featu...</td>\n",
       "      <td>unanswerable</td>\n",
       "    </tr>\n",
       "    <tr>\n",
       "      <th>freq</th>\n",
       "      <td>2</td>\n",
       "      <td>241</td>\n",
       "    </tr>\n",
       "  </tbody>\n",
       "</table>\n",
       "</div>"
      ],
      "text/plain": [
       "                                                   prompt        answer\n",
       "count                                                1291          1291\n",
       "unique                                               1290          1051\n",
       "top     Read this: Title:\\tTFNet: Multi-Semantic Featu...  unanswerable\n",
       "freq                                                    2           241"
      ]
     },
     "metadata": {},
     "output_type": "display_data"
    },
    {
     "data": {
      "application/vnd.jupyter.widget-view+json": {
       "model_id": "cdb8e0bad76e4fc0a6ca69a8919a965a",
       "version_major": 2,
       "version_minor": 0
      },
      "text/plain": [
       "Downloading data files:   0%|          | 0/1 [00:00<?, ?it/s]"
      ]
     },
     "metadata": {},
     "output_type": "display_data"
    },
    {
     "data": {
      "application/vnd.jupyter.widget-view+json": {
       "model_id": "f6ad5fe204734855a78e0d9f17ca375e",
       "version_major": 2,
       "version_minor": 0
      },
      "text/plain": [
       "Extracting data files:   0%|          | 0/1 [00:00<?, ?it/s]"
      ]
     },
     "metadata": {},
     "output_type": "display_data"
    },
    {
     "data": {
      "application/vnd.jupyter.widget-view+json": {
       "model_id": "68e5b3ad336e4edbb8158ceca777e47d",
       "version_major": 2,
       "version_minor": 0
      },
      "text/plain": [
       "Generating train split: 0 examples [00:00, ? examples/s]"
      ]
     },
     "metadata": {},
     "output_type": "display_data"
    },
    {
     "data": {
      "application/vnd.jupyter.widget-view+json": {
       "model_id": "b3303698985c44d29bb3dbf8615e34a8",
       "version_major": 2,
       "version_minor": 0
      },
      "text/plain": [
       "Downloading data files:   0%|          | 0/1 [00:00<?, ?it/s]"
      ]
     },
     "metadata": {},
     "output_type": "display_data"
    },
    {
     "data": {
      "application/vnd.jupyter.widget-view+json": {
       "model_id": "b51f0ff1093441f28f7c9425ae1037ae",
       "version_major": 2,
       "version_minor": 0
      },
      "text/plain": [
       "Extracting data files:   0%|          | 0/1 [00:00<?, ?it/s]"
      ]
     },
     "metadata": {},
     "output_type": "display_data"
    },
    {
     "data": {
      "application/vnd.jupyter.widget-view+json": {
       "model_id": "571f37cdc9304882b64511c54f1f843d",
       "version_major": 2,
       "version_minor": 0
      },
      "text/plain": [
       "Generating train split: 0 examples [00:00, ? examples/s]"
      ]
     },
     "metadata": {},
     "output_type": "display_data"
    },
    {
     "data": {
      "application/vnd.jupyter.widget-view+json": {
       "model_id": "b95d43accb1c46478e58de179038e75e",
       "version_major": 2,
       "version_minor": 0
      },
      "text/plain": [
       "Downloading data files:   0%|          | 0/1 [00:00<?, ?it/s]"
      ]
     },
     "metadata": {},
     "output_type": "display_data"
    },
    {
     "data": {
      "application/vnd.jupyter.widget-view+json": {
       "model_id": "28ade4023cdb4a0f9e8fefaf05bc5760",
       "version_major": 2,
       "version_minor": 0
      },
      "text/plain": [
       "Extracting data files:   0%|          | 0/1 [00:00<?, ?it/s]"
      ]
     },
     "metadata": {},
     "output_type": "display_data"
    },
    {
     "data": {
      "application/vnd.jupyter.widget-view+json": {
       "model_id": "1a8623a59cf94fda8f2756cb20c142db",
       "version_major": 2,
       "version_minor": 0
      },
      "text/plain": [
       "Generating train split: 0 examples [00:00, ? examples/s]"
      ]
     },
     "metadata": {},
     "output_type": "display_data"
    },
    {
     "data": {
      "application/vnd.jupyter.widget-view+json": {
       "model_id": "45cb067919314b498e8dd14a01aeaa1f",
       "version_major": 2,
       "version_minor": 0
      },
      "text/plain": [
       "Downloading data files:   0%|          | 0/1 [00:00<?, ?it/s]"
      ]
     },
     "metadata": {},
     "output_type": "display_data"
    },
    {
     "data": {
      "application/vnd.jupyter.widget-view+json": {
       "model_id": "b88b08bb485e45eaa71bb00e5e5f7927",
       "version_major": 2,
       "version_minor": 0
      },
      "text/plain": [
       "Extracting data files:   0%|          | 0/1 [00:00<?, ?it/s]"
      ]
     },
     "metadata": {},
     "output_type": "display_data"
    },
    {
     "data": {
      "application/vnd.jupyter.widget-view+json": {
       "model_id": "1463d615a9e146abbdfc1ae8d9466192",
       "version_major": 2,
       "version_minor": 0
      },
      "text/plain": [
       "Generating train split: 0 examples [00:00, ? examples/s]"
      ]
     },
     "metadata": {},
     "output_type": "display_data"
    },
    {
     "name": "stdout",
     "output_type": "stream",
     "text": [
      "DatasetDict({\n",
      "    fold1: DatasetDict({\n",
      "        train: Dataset({\n",
      "            features: ['prompt', 'answer', '__index_level_0__'],\n",
      "            num_rows: 3075\n",
      "        })\n",
      "        validation: Dataset({\n",
      "            features: ['prompt', 'answer', '__index_level_0__'],\n",
      "            num_rows: 1298\n",
      "        })\n",
      "    })\n",
      "    fold2: DatasetDict({\n",
      "        train: Dataset({\n",
      "            features: ['prompt', 'answer', '__index_level_0__'],\n",
      "            num_rows: 3082\n",
      "        })\n",
      "        validation: Dataset({\n",
      "            features: ['prompt', 'answer', '__index_level_0__'],\n",
      "            num_rows: 1291\n",
      "        })\n",
      "    })\n",
      "})\n"
     ]
    },
    {
     "data": {
      "application/vnd.jupyter.widget-view+json": {
       "model_id": "bea6646092694088b222446f1b62882f",
       "version_major": 2,
       "version_minor": 0
      },
      "text/plain": [
       "Saving the dataset (0/1 shards):   0%|          | 0/3075 [00:00<?, ? examples/s]"
      ]
     },
     "metadata": {},
     "output_type": "display_data"
    },
    {
     "data": {
      "application/vnd.jupyter.widget-view+json": {
       "model_id": "d4f1a8b0560547e1b66adac287126d36",
       "version_major": 2,
       "version_minor": 0
      },
      "text/plain": [
       "Saving the dataset (0/1 shards):   0%|          | 0/1298 [00:00<?, ? examples/s]"
      ]
     },
     "metadata": {},
     "output_type": "display_data"
    },
    {
     "data": {
      "application/vnd.jupyter.widget-view+json": {
       "model_id": "4bda3f97da424c5f8e091ac047a5d184",
       "version_major": 2,
       "version_minor": 0
      },
      "text/plain": [
       "Saving the dataset (0/1 shards):   0%|          | 0/3082 [00:00<?, ? examples/s]"
      ]
     },
     "metadata": {},
     "output_type": "display_data"
    },
    {
     "data": {
      "application/vnd.jupyter.widget-view+json": {
       "model_id": "5859857ff1ab4945a6d7d861fb9f8e4c",
       "version_major": 2,
       "version_minor": 0
      },
      "text/plain": [
       "Saving the dataset (0/1 shards):   0%|          | 0/1291 [00:00<?, ? examples/s]"
      ]
     },
     "metadata": {},
     "output_type": "display_data"
    }
   ],
   "source": [
    "df_train_f1_squad_8 = create_pandas_dataset_from_pandas(df_train_f1,\n",
    "                                                        squad_8 = True,\n",
    "                                                        ) \n",
    "df_dev_f1_squad_8 = create_pandas_dataset_from_pandas(df_dev_f1,\n",
    "                                                        squad_8 = True,\n",
    "                                                        ) \n",
    "df_train_f2_squad_8 = create_pandas_dataset_from_pandas(df_train_f2,\n",
    "                                                        squad_8 = True,\n",
    "                                                        ) \n",
    "df_dev_f2_squad_8 = create_pandas_dataset_from_pandas(df_dev_f2,\n",
    "                                                        squad_8 = True,\n",
    "                                                        ) \n",
    "\n",
    "print(\"df_train_f1_squad_8 describe: \")\n",
    "display(df_train_f1_squad_8.describe())\n",
    "print(\"df_dev_f1_squad_8 describe: \")\n",
    "display(df_dev_f1_squad_8.describe())\n",
    "\n",
    "print(\"df_train_f2_squad_8 describe: \")\n",
    "display(df_train_f2_squad_8.describe())\n",
    "print(\"df_dev_f2_squad_8 describe: \")\n",
    "display(df_dev_f2_squad_8.describe())\n",
    "\n",
    "df_train_f1_squad_8.to_parquet('../data/df_train_tdms_long_summarized_f1_squad_8.parquet')\n",
    "df_dev_f1_squad_8.to_parquet('../data/df_dev_tdms_long_summarized_f1_squad_8.parquet')\n",
    "df_train_f2_squad_8.to_parquet('../data/df_train_tdms_long_summarized_f2_squad_8.parquet')\n",
    "df_dev_f2_squad_8.to_parquet('../data/df_dev_tdms_long_summarized_f2_squad_8.parquet')\n",
    "\n",
    "dataset = DatasetDict({\n",
    "    'fold1': DatasetDict({\n",
    "        \"train\": Dataset.from_parquet('../data/df_train_tdms_long_summarized_f1_squad_8.parquet'),\n",
    "        \"validation\": Dataset.from_parquet('../data/df_dev_tdms_long_summarized_f1_squad_8.parquet')\n",
    "    }),\n",
    "    'fold2': DatasetDict({\n",
    "        \"train\": Dataset.from_parquet('../data/df_train_tdms_long_summarized_f2_squad_8.parquet'),\n",
    "        \"validation\": Dataset.from_parquet('../data/df_dev_tdms_long_summarized_f2_squad_8.parquet')\n",
    "    })\n",
    "})\n",
    "\n",
    "print(dataset)\n",
    "\n",
    "dataset.save_to_disk(\"../data/LLLM_LONG_SUMMARIZED_TDMS_SQUAD_8\")"
   ]
  },
  {
   "cell_type": "code",
   "execution_count": null,
   "metadata": {},
   "outputs": [],
   "source": []
  },
  {
   "cell_type": "code",
   "execution_count": 54,
   "metadata": {},
   "outputs": [
    {
     "name": "stderr",
     "output_type": "stream",
     "text": [
      "100%|██████████| 3075/3075 [00:01<00:00, 1589.31it/s]\n",
      "100%|██████████| 1298/1298 [00:00<00:00, 1644.46it/s]\n",
      "100%|██████████| 3082/3082 [00:01<00:00, 1561.20it/s]\n",
      "100%|██████████| 1291/1291 [00:00<00:00, 1671.23it/s]\n"
     ]
    },
    {
     "name": "stdout",
     "output_type": "stream",
     "text": [
      "df_train_f1_drop_1 describe: \n"
     ]
    },
    {
     "data": {
      "text/html": [
       "<div>\n",
       "<style scoped>\n",
       "    .dataframe tbody tr th:only-of-type {\n",
       "        vertical-align: middle;\n",
       "    }\n",
       "\n",
       "    .dataframe tbody tr th {\n",
       "        vertical-align: top;\n",
       "    }\n",
       "\n",
       "    .dataframe thead th {\n",
       "        text-align: right;\n",
       "    }\n",
       "</style>\n",
       "<table border=\"1\" class=\"dataframe\">\n",
       "  <thead>\n",
       "    <tr style=\"text-align: right;\">\n",
       "      <th></th>\n",
       "      <th>prompt</th>\n",
       "      <th>answer</th>\n",
       "    </tr>\n",
       "  </thead>\n",
       "  <tbody>\n",
       "    <tr>\n",
       "      <th>count</th>\n",
       "      <td>3075</td>\n",
       "      <td>3075</td>\n",
       "    </tr>\n",
       "    <tr>\n",
       "      <th>unique</th>\n",
       "      <td>3069</td>\n",
       "      <td>2510</td>\n",
       "    </tr>\n",
       "    <tr>\n",
       "      <th>top</th>\n",
       "      <td>Answer based on context:\\n\\nTitle:\\tIJCAI–19 E...</td>\n",
       "      <td>unanswerable</td>\n",
       "    </tr>\n",
       "    <tr>\n",
       "      <th>freq</th>\n",
       "      <td>2</td>\n",
       "      <td>562</td>\n",
       "    </tr>\n",
       "  </tbody>\n",
       "</table>\n",
       "</div>"
      ],
      "text/plain": [
       "                                                   prompt        answer\n",
       "count                                                3075          3075\n",
       "unique                                               3069          2510\n",
       "top     Answer based on context:\\n\\nTitle:\\tIJCAI–19 E...  unanswerable\n",
       "freq                                                    2           562"
      ]
     },
     "metadata": {},
     "output_type": "display_data"
    },
    {
     "name": "stdout",
     "output_type": "stream",
     "text": [
      "df_dev_f1_drop_1 describe: \n"
     ]
    },
    {
     "data": {
      "text/html": [
       "<div>\n",
       "<style scoped>\n",
       "    .dataframe tbody tr th:only-of-type {\n",
       "        vertical-align: middle;\n",
       "    }\n",
       "\n",
       "    .dataframe tbody tr th {\n",
       "        vertical-align: top;\n",
       "    }\n",
       "\n",
       "    .dataframe thead th {\n",
       "        text-align: right;\n",
       "    }\n",
       "</style>\n",
       "<table border=\"1\" class=\"dataframe\">\n",
       "  <thead>\n",
       "    <tr style=\"text-align: right;\">\n",
       "      <th></th>\n",
       "      <th>prompt</th>\n",
       "      <th>answer</th>\n",
       "    </tr>\n",
       "  </thead>\n",
       "  <tbody>\n",
       "    <tr>\n",
       "      <th>count</th>\n",
       "      <td>1298</td>\n",
       "      <td>1298</td>\n",
       "    </tr>\n",
       "    <tr>\n",
       "      <th>unique</th>\n",
       "      <td>1298</td>\n",
       "      <td>1057</td>\n",
       "    </tr>\n",
       "    <tr>\n",
       "      <th>top</th>\n",
       "      <td>Answer based on context:\\n\\nTitle:\\t Dark Mode...</td>\n",
       "      <td>unanswerable</td>\n",
       "    </tr>\n",
       "    <tr>\n",
       "      <th>freq</th>\n",
       "      <td>1</td>\n",
       "      <td>241</td>\n",
       "    </tr>\n",
       "  </tbody>\n",
       "</table>\n",
       "</div>"
      ],
      "text/plain": [
       "                                                   prompt        answer\n",
       "count                                                1298          1298\n",
       "unique                                               1298          1057\n",
       "top     Answer based on context:\\n\\nTitle:\\t Dark Mode...  unanswerable\n",
       "freq                                                    1           241"
      ]
     },
     "metadata": {},
     "output_type": "display_data"
    },
    {
     "name": "stdout",
     "output_type": "stream",
     "text": [
      "df_train_f2_drop_1 describe: \n"
     ]
    },
    {
     "data": {
      "text/html": [
       "<div>\n",
       "<style scoped>\n",
       "    .dataframe tbody tr th:only-of-type {\n",
       "        vertical-align: middle;\n",
       "    }\n",
       "\n",
       "    .dataframe tbody tr th {\n",
       "        vertical-align: top;\n",
       "    }\n",
       "\n",
       "    .dataframe thead th {\n",
       "        text-align: right;\n",
       "    }\n",
       "</style>\n",
       "<table border=\"1\" class=\"dataframe\">\n",
       "  <thead>\n",
       "    <tr style=\"text-align: right;\">\n",
       "      <th></th>\n",
       "      <th>prompt</th>\n",
       "      <th>answer</th>\n",
       "    </tr>\n",
       "  </thead>\n",
       "  <tbody>\n",
       "    <tr>\n",
       "      <th>count</th>\n",
       "      <td>3082</td>\n",
       "      <td>3082</td>\n",
       "    </tr>\n",
       "    <tr>\n",
       "      <th>unique</th>\n",
       "      <td>3076</td>\n",
       "      <td>2517</td>\n",
       "    </tr>\n",
       "    <tr>\n",
       "      <th>top</th>\n",
       "      <td>Answer based on context:\\n\\nTitle:\\tBare Demo ...</td>\n",
       "      <td>unanswerable</td>\n",
       "    </tr>\n",
       "    <tr>\n",
       "      <th>freq</th>\n",
       "      <td>2</td>\n",
       "      <td>562</td>\n",
       "    </tr>\n",
       "  </tbody>\n",
       "</table>\n",
       "</div>"
      ],
      "text/plain": [
       "                                                   prompt        answer\n",
       "count                                                3082          3082\n",
       "unique                                               3076          2517\n",
       "top     Answer based on context:\\n\\nTitle:\\tBare Demo ...  unanswerable\n",
       "freq                                                    2           562"
      ]
     },
     "metadata": {},
     "output_type": "display_data"
    },
    {
     "name": "stdout",
     "output_type": "stream",
     "text": [
      "df_dev_f2_drop_1 describe: \n"
     ]
    },
    {
     "data": {
      "text/html": [
       "<div>\n",
       "<style scoped>\n",
       "    .dataframe tbody tr th:only-of-type {\n",
       "        vertical-align: middle;\n",
       "    }\n",
       "\n",
       "    .dataframe tbody tr th {\n",
       "        vertical-align: top;\n",
       "    }\n",
       "\n",
       "    .dataframe thead th {\n",
       "        text-align: right;\n",
       "    }\n",
       "</style>\n",
       "<table border=\"1\" class=\"dataframe\">\n",
       "  <thead>\n",
       "    <tr style=\"text-align: right;\">\n",
       "      <th></th>\n",
       "      <th>prompt</th>\n",
       "      <th>answer</th>\n",
       "    </tr>\n",
       "  </thead>\n",
       "  <tbody>\n",
       "    <tr>\n",
       "      <th>count</th>\n",
       "      <td>1291</td>\n",
       "      <td>1291</td>\n",
       "    </tr>\n",
       "    <tr>\n",
       "      <th>unique</th>\n",
       "      <td>1290</td>\n",
       "      <td>1051</td>\n",
       "    </tr>\n",
       "    <tr>\n",
       "      <th>top</th>\n",
       "      <td>Answer based on context:\\n\\nTitle:\\tTFNet: Mul...</td>\n",
       "      <td>unanswerable</td>\n",
       "    </tr>\n",
       "    <tr>\n",
       "      <th>freq</th>\n",
       "      <td>2</td>\n",
       "      <td>241</td>\n",
       "    </tr>\n",
       "  </tbody>\n",
       "</table>\n",
       "</div>"
      ],
      "text/plain": [
       "                                                   prompt        answer\n",
       "count                                                1291          1291\n",
       "unique                                               1290          1051\n",
       "top     Answer based on context:\\n\\nTitle:\\tTFNet: Mul...  unanswerable\n",
       "freq                                                    2           241"
      ]
     },
     "metadata": {},
     "output_type": "display_data"
    },
    {
     "data": {
      "application/vnd.jupyter.widget-view+json": {
       "model_id": "1ce48728b0b74133ad6ad0a555938012",
       "version_major": 2,
       "version_minor": 0
      },
      "text/plain": [
       "Downloading data files:   0%|          | 0/1 [00:00<?, ?it/s]"
      ]
     },
     "metadata": {},
     "output_type": "display_data"
    },
    {
     "data": {
      "application/vnd.jupyter.widget-view+json": {
       "model_id": "647dbd3f1e95458b82c7cc5ad3785dc9",
       "version_major": 2,
       "version_minor": 0
      },
      "text/plain": [
       "Extracting data files:   0%|          | 0/1 [00:00<?, ?it/s]"
      ]
     },
     "metadata": {},
     "output_type": "display_data"
    },
    {
     "data": {
      "application/vnd.jupyter.widget-view+json": {
       "model_id": "eecdb7fe57a647bfa08492f59ea03baf",
       "version_major": 2,
       "version_minor": 0
      },
      "text/plain": [
       "Generating train split: 0 examples [00:00, ? examples/s]"
      ]
     },
     "metadata": {},
     "output_type": "display_data"
    },
    {
     "data": {
      "application/vnd.jupyter.widget-view+json": {
       "model_id": "8272b510c651455fbb1400d9868b5173",
       "version_major": 2,
       "version_minor": 0
      },
      "text/plain": [
       "Downloading data files:   0%|          | 0/1 [00:00<?, ?it/s]"
      ]
     },
     "metadata": {},
     "output_type": "display_data"
    },
    {
     "data": {
      "application/vnd.jupyter.widget-view+json": {
       "model_id": "1f9dd80460c44afdaa2e3edd525c8e1c",
       "version_major": 2,
       "version_minor": 0
      },
      "text/plain": [
       "Extracting data files:   0%|          | 0/1 [00:00<?, ?it/s]"
      ]
     },
     "metadata": {},
     "output_type": "display_data"
    },
    {
     "data": {
      "application/vnd.jupyter.widget-view+json": {
       "model_id": "63fad66727a04430b7298994d7c6774f",
       "version_major": 2,
       "version_minor": 0
      },
      "text/plain": [
       "Generating train split: 0 examples [00:00, ? examples/s]"
      ]
     },
     "metadata": {},
     "output_type": "display_data"
    },
    {
     "data": {
      "application/vnd.jupyter.widget-view+json": {
       "model_id": "e09957a232984aefa4f55466be0597de",
       "version_major": 2,
       "version_minor": 0
      },
      "text/plain": [
       "Downloading data files:   0%|          | 0/1 [00:00<?, ?it/s]"
      ]
     },
     "metadata": {},
     "output_type": "display_data"
    },
    {
     "data": {
      "application/vnd.jupyter.widget-view+json": {
       "model_id": "eae6aa9e5c574641ad0453f23cbbee54",
       "version_major": 2,
       "version_minor": 0
      },
      "text/plain": [
       "Extracting data files:   0%|          | 0/1 [00:00<?, ?it/s]"
      ]
     },
     "metadata": {},
     "output_type": "display_data"
    },
    {
     "data": {
      "application/vnd.jupyter.widget-view+json": {
       "model_id": "041696fad1714046bcd8f968ca4a6dba",
       "version_major": 2,
       "version_minor": 0
      },
      "text/plain": [
       "Generating train split: 0 examples [00:00, ? examples/s]"
      ]
     },
     "metadata": {},
     "output_type": "display_data"
    },
    {
     "data": {
      "application/vnd.jupyter.widget-view+json": {
       "model_id": "93fd5350ddb74e10b97827f3e2f69de8",
       "version_major": 2,
       "version_minor": 0
      },
      "text/plain": [
       "Downloading data files:   0%|          | 0/1 [00:00<?, ?it/s]"
      ]
     },
     "metadata": {},
     "output_type": "display_data"
    },
    {
     "data": {
      "application/vnd.jupyter.widget-view+json": {
       "model_id": "91298a954a3c4195884381856771b6d1",
       "version_major": 2,
       "version_minor": 0
      },
      "text/plain": [
       "Extracting data files:   0%|          | 0/1 [00:00<?, ?it/s]"
      ]
     },
     "metadata": {},
     "output_type": "display_data"
    },
    {
     "data": {
      "application/vnd.jupyter.widget-view+json": {
       "model_id": "c1741f137f264c96bad6c81acd1f308f",
       "version_major": 2,
       "version_minor": 0
      },
      "text/plain": [
       "Generating train split: 0 examples [00:00, ? examples/s]"
      ]
     },
     "metadata": {},
     "output_type": "display_data"
    },
    {
     "name": "stdout",
     "output_type": "stream",
     "text": [
      "DatasetDict({\n",
      "    fold1: DatasetDict({\n",
      "        train: Dataset({\n",
      "            features: ['prompt', 'answer', '__index_level_0__'],\n",
      "            num_rows: 3075\n",
      "        })\n",
      "        validation: Dataset({\n",
      "            features: ['prompt', 'answer', '__index_level_0__'],\n",
      "            num_rows: 1298\n",
      "        })\n",
      "    })\n",
      "    fold2: DatasetDict({\n",
      "        train: Dataset({\n",
      "            features: ['prompt', 'answer', '__index_level_0__'],\n",
      "            num_rows: 3082\n",
      "        })\n",
      "        validation: Dataset({\n",
      "            features: ['prompt', 'answer', '__index_level_0__'],\n",
      "            num_rows: 1291\n",
      "        })\n",
      "    })\n",
      "})\n"
     ]
    },
    {
     "data": {
      "application/vnd.jupyter.widget-view+json": {
       "model_id": "c8057137f0dc4ed0ba239f846011ce97",
       "version_major": 2,
       "version_minor": 0
      },
      "text/plain": [
       "Saving the dataset (0/1 shards):   0%|          | 0/3075 [00:00<?, ? examples/s]"
      ]
     },
     "metadata": {},
     "output_type": "display_data"
    },
    {
     "data": {
      "application/vnd.jupyter.widget-view+json": {
       "model_id": "3b13770dfc744dda819a62f578e1af8d",
       "version_major": 2,
       "version_minor": 0
      },
      "text/plain": [
       "Saving the dataset (0/1 shards):   0%|          | 0/1298 [00:00<?, ? examples/s]"
      ]
     },
     "metadata": {},
     "output_type": "display_data"
    },
    {
     "data": {
      "application/vnd.jupyter.widget-view+json": {
       "model_id": "5b2a2ff82a424e628537e40905ffd196",
       "version_major": 2,
       "version_minor": 0
      },
      "text/plain": [
       "Saving the dataset (0/1 shards):   0%|          | 0/3082 [00:00<?, ? examples/s]"
      ]
     },
     "metadata": {},
     "output_type": "display_data"
    },
    {
     "data": {
      "application/vnd.jupyter.widget-view+json": {
       "model_id": "98556b41b2ef47989714e2834cbb4583",
       "version_major": 2,
       "version_minor": 0
      },
      "text/plain": [
       "Saving the dataset (0/1 shards):   0%|          | 0/1291 [00:00<?, ? examples/s]"
      ]
     },
     "metadata": {},
     "output_type": "display_data"
    }
   ],
   "source": [
    "df_train_f1_drop_1 = create_pandas_dataset_from_pandas(df_train_f1,\n",
    "                                                        drop_1 = True,\n",
    "                                                        ) \n",
    "df_dev_f1_drop_1 = create_pandas_dataset_from_pandas(df_dev_f1,\n",
    "                                                        drop_1 = True,\n",
    "                                                        ) \n",
    "df_train_f2_drop_1 = create_pandas_dataset_from_pandas(df_train_f2,\n",
    "                                                        drop_1 = True,\n",
    "                                                        ) \n",
    "df_dev_f2_drop_1 = create_pandas_dataset_from_pandas(df_dev_f2,\n",
    "                                                        drop_1 = True,\n",
    "                                                        ) \n",
    "\n",
    "print(\"df_train_f1_drop_1 describe: \")\n",
    "display(df_train_f1_drop_1.describe())\n",
    "print(\"df_dev_f1_drop_1 describe: \")\n",
    "display(df_dev_f1_drop_1.describe())\n",
    "\n",
    "print(\"df_train_f2_drop_1 describe: \")\n",
    "display(df_train_f2_drop_1.describe())\n",
    "print(\"df_dev_f2_drop_1 describe: \")\n",
    "display(df_dev_f2_drop_1.describe())\n",
    "\n",
    "df_train_f1_drop_1.to_parquet('../data/df_train_tdms_long_summarized_f1_drop_1.parquet')\n",
    "df_dev_f1_drop_1.to_parquet('../data/df_dev_tdms_long_summarized_f1_drop_1.parquet')\n",
    "df_train_f2_drop_1.to_parquet('../data/df_train_tdms_long_summarized_f2_drop_1.parquet')\n",
    "df_dev_f2_drop_1.to_parquet('../data/df_dev_tdms_long_summarized_f2_drop_1.parquet')\n",
    "\n",
    "dataset = DatasetDict({\n",
    "    'fold1': DatasetDict({\n",
    "        \"train\": Dataset.from_parquet('../data/df_train_tdms_long_summarized_f1_drop_1.parquet'),\n",
    "        \"validation\": Dataset.from_parquet('../data/df_dev_tdms_long_summarized_f1_drop_1.parquet')\n",
    "    }),\n",
    "    'fold2': DatasetDict({\n",
    "        \"train\": Dataset.from_parquet('../data/df_train_tdms_long_summarized_f2_drop_1.parquet'),\n",
    "        \"validation\": Dataset.from_parquet('../data/df_dev_tdms_long_summarized_f2_drop_1.parquet')\n",
    "    })\n",
    "})\n",
    "\n",
    "print(dataset)\n",
    "\n",
    "dataset.save_to_disk(\"../data/LLLM_LONG_SUMMARIZED_TDMS_DROP_1\")"
   ]
  },
  {
   "cell_type": "code",
   "execution_count": 55,
   "metadata": {},
   "outputs": [
    {
     "name": "stderr",
     "output_type": "stream",
     "text": [
      "100%|██████████| 3075/3075 [00:01<00:00, 1590.24it/s]\n",
      "100%|██████████| 1298/1298 [00:00<00:00, 1630.88it/s]\n",
      "100%|██████████| 3082/3082 [00:01<00:00, 1582.62it/s]\n",
      "100%|██████████| 1291/1291 [00:00<00:00, 1676.76it/s]\n"
     ]
    },
    {
     "name": "stdout",
     "output_type": "stream",
     "text": [
      "df_train_f1_drop_2 describe: \n"
     ]
    },
    {
     "data": {
      "text/html": [
       "<div>\n",
       "<style scoped>\n",
       "    .dataframe tbody tr th:only-of-type {\n",
       "        vertical-align: middle;\n",
       "    }\n",
       "\n",
       "    .dataframe tbody tr th {\n",
       "        vertical-align: top;\n",
       "    }\n",
       "\n",
       "    .dataframe thead th {\n",
       "        text-align: right;\n",
       "    }\n",
       "</style>\n",
       "<table border=\"1\" class=\"dataframe\">\n",
       "  <thead>\n",
       "    <tr style=\"text-align: right;\">\n",
       "      <th></th>\n",
       "      <th>prompt</th>\n",
       "      <th>answer</th>\n",
       "    </tr>\n",
       "  </thead>\n",
       "  <tbody>\n",
       "    <tr>\n",
       "      <th>count</th>\n",
       "      <td>3075</td>\n",
       "      <td>3075</td>\n",
       "    </tr>\n",
       "    <tr>\n",
       "      <th>unique</th>\n",
       "      <td>3069</td>\n",
       "      <td>2510</td>\n",
       "    </tr>\n",
       "    <tr>\n",
       "      <th>top</th>\n",
       "      <td>Title:\\tIJCAI–19 Example on typesetting multip...</td>\n",
       "      <td>unanswerable</td>\n",
       "    </tr>\n",
       "    <tr>\n",
       "      <th>freq</th>\n",
       "      <td>2</td>\n",
       "      <td>562</td>\n",
       "    </tr>\n",
       "  </tbody>\n",
       "</table>\n",
       "</div>"
      ],
      "text/plain": [
       "                                                   prompt        answer\n",
       "count                                                3075          3075\n",
       "unique                                               3069          2510\n",
       "top     Title:\\tIJCAI–19 Example on typesetting multip...  unanswerable\n",
       "freq                                                    2           562"
      ]
     },
     "metadata": {},
     "output_type": "display_data"
    },
    {
     "name": "stdout",
     "output_type": "stream",
     "text": [
      "df_dev_f1_drop_2 describe: \n"
     ]
    },
    {
     "data": {
      "text/html": [
       "<div>\n",
       "<style scoped>\n",
       "    .dataframe tbody tr th:only-of-type {\n",
       "        vertical-align: middle;\n",
       "    }\n",
       "\n",
       "    .dataframe tbody tr th {\n",
       "        vertical-align: top;\n",
       "    }\n",
       "\n",
       "    .dataframe thead th {\n",
       "        text-align: right;\n",
       "    }\n",
       "</style>\n",
       "<table border=\"1\" class=\"dataframe\">\n",
       "  <thead>\n",
       "    <tr style=\"text-align: right;\">\n",
       "      <th></th>\n",
       "      <th>prompt</th>\n",
       "      <th>answer</th>\n",
       "    </tr>\n",
       "  </thead>\n",
       "  <tbody>\n",
       "    <tr>\n",
       "      <th>count</th>\n",
       "      <td>1298</td>\n",
       "      <td>1298</td>\n",
       "    </tr>\n",
       "    <tr>\n",
       "      <th>unique</th>\n",
       "      <td>1298</td>\n",
       "      <td>1057</td>\n",
       "    </tr>\n",
       "    <tr>\n",
       "      <th>top</th>\n",
       "      <td>Title:\\t Dark Model Adaptation: Semantic Image...</td>\n",
       "      <td>unanswerable</td>\n",
       "    </tr>\n",
       "    <tr>\n",
       "      <th>freq</th>\n",
       "      <td>1</td>\n",
       "      <td>241</td>\n",
       "    </tr>\n",
       "  </tbody>\n",
       "</table>\n",
       "</div>"
      ],
      "text/plain": [
       "                                                   prompt        answer\n",
       "count                                                1298          1298\n",
       "unique                                               1298          1057\n",
       "top     Title:\\t Dark Model Adaptation: Semantic Image...  unanswerable\n",
       "freq                                                    1           241"
      ]
     },
     "metadata": {},
     "output_type": "display_data"
    },
    {
     "name": "stdout",
     "output_type": "stream",
     "text": [
      "df_train_f2_drop_2 describe: \n"
     ]
    },
    {
     "data": {
      "text/html": [
       "<div>\n",
       "<style scoped>\n",
       "    .dataframe tbody tr th:only-of-type {\n",
       "        vertical-align: middle;\n",
       "    }\n",
       "\n",
       "    .dataframe tbody tr th {\n",
       "        vertical-align: top;\n",
       "    }\n",
       "\n",
       "    .dataframe thead th {\n",
       "        text-align: right;\n",
       "    }\n",
       "</style>\n",
       "<table border=\"1\" class=\"dataframe\">\n",
       "  <thead>\n",
       "    <tr style=\"text-align: right;\">\n",
       "      <th></th>\n",
       "      <th>prompt</th>\n",
       "      <th>answer</th>\n",
       "    </tr>\n",
       "  </thead>\n",
       "  <tbody>\n",
       "    <tr>\n",
       "      <th>count</th>\n",
       "      <td>3082</td>\n",
       "      <td>3082</td>\n",
       "    </tr>\n",
       "    <tr>\n",
       "      <th>unique</th>\n",
       "      <td>3076</td>\n",
       "      <td>2517</td>\n",
       "    </tr>\n",
       "    <tr>\n",
       "      <th>top</th>\n",
       "      <td>Title:\\tBare Demo of IEEEtran.cls\\nfor IEEE Co...</td>\n",
       "      <td>unanswerable</td>\n",
       "    </tr>\n",
       "    <tr>\n",
       "      <th>freq</th>\n",
       "      <td>2</td>\n",
       "      <td>562</td>\n",
       "    </tr>\n",
       "  </tbody>\n",
       "</table>\n",
       "</div>"
      ],
      "text/plain": [
       "                                                   prompt        answer\n",
       "count                                                3082          3082\n",
       "unique                                               3076          2517\n",
       "top     Title:\\tBare Demo of IEEEtran.cls\\nfor IEEE Co...  unanswerable\n",
       "freq                                                    2           562"
      ]
     },
     "metadata": {},
     "output_type": "display_data"
    },
    {
     "name": "stdout",
     "output_type": "stream",
     "text": [
      "df_dev_f2_drop_2 describe: \n"
     ]
    },
    {
     "data": {
      "text/html": [
       "<div>\n",
       "<style scoped>\n",
       "    .dataframe tbody tr th:only-of-type {\n",
       "        vertical-align: middle;\n",
       "    }\n",
       "\n",
       "    .dataframe tbody tr th {\n",
       "        vertical-align: top;\n",
       "    }\n",
       "\n",
       "    .dataframe thead th {\n",
       "        text-align: right;\n",
       "    }\n",
       "</style>\n",
       "<table border=\"1\" class=\"dataframe\">\n",
       "  <thead>\n",
       "    <tr style=\"text-align: right;\">\n",
       "      <th></th>\n",
       "      <th>prompt</th>\n",
       "      <th>answer</th>\n",
       "    </tr>\n",
       "  </thead>\n",
       "  <tbody>\n",
       "    <tr>\n",
       "      <th>count</th>\n",
       "      <td>1291</td>\n",
       "      <td>1291</td>\n",
       "    </tr>\n",
       "    <tr>\n",
       "      <th>unique</th>\n",
       "      <td>1290</td>\n",
       "      <td>1051</td>\n",
       "    </tr>\n",
       "    <tr>\n",
       "      <th>top</th>\n",
       "      <td>Title:\\tTFNet: Multi-Semantic Feature Interact...</td>\n",
       "      <td>unanswerable</td>\n",
       "    </tr>\n",
       "    <tr>\n",
       "      <th>freq</th>\n",
       "      <td>2</td>\n",
       "      <td>241</td>\n",
       "    </tr>\n",
       "  </tbody>\n",
       "</table>\n",
       "</div>"
      ],
      "text/plain": [
       "                                                   prompt        answer\n",
       "count                                                1291          1291\n",
       "unique                                               1290          1051\n",
       "top     Title:\\tTFNet: Multi-Semantic Feature Interact...  unanswerable\n",
       "freq                                                    2           241"
      ]
     },
     "metadata": {},
     "output_type": "display_data"
    },
    {
     "data": {
      "application/vnd.jupyter.widget-view+json": {
       "model_id": "c552c5dbad634b68bef156093fb8fb8c",
       "version_major": 2,
       "version_minor": 0
      },
      "text/plain": [
       "Downloading data files:   0%|          | 0/1 [00:00<?, ?it/s]"
      ]
     },
     "metadata": {},
     "output_type": "display_data"
    },
    {
     "data": {
      "application/vnd.jupyter.widget-view+json": {
       "model_id": "c26239d58e82413a9dccf7167d73ef82",
       "version_major": 2,
       "version_minor": 0
      },
      "text/plain": [
       "Extracting data files:   0%|          | 0/1 [00:00<?, ?it/s]"
      ]
     },
     "metadata": {},
     "output_type": "display_data"
    },
    {
     "data": {
      "application/vnd.jupyter.widget-view+json": {
       "model_id": "a0127af00ff548f391e34b0b3c5acba8",
       "version_major": 2,
       "version_minor": 0
      },
      "text/plain": [
       "Generating train split: 0 examples [00:00, ? examples/s]"
      ]
     },
     "metadata": {},
     "output_type": "display_data"
    },
    {
     "data": {
      "application/vnd.jupyter.widget-view+json": {
       "model_id": "14f318da4b0b42118944301c7f6ba9d0",
       "version_major": 2,
       "version_minor": 0
      },
      "text/plain": [
       "Downloading data files:   0%|          | 0/1 [00:00<?, ?it/s]"
      ]
     },
     "metadata": {},
     "output_type": "display_data"
    },
    {
     "data": {
      "application/vnd.jupyter.widget-view+json": {
       "model_id": "99a396517d1348dd803ee92ccc4577cf",
       "version_major": 2,
       "version_minor": 0
      },
      "text/plain": [
       "Extracting data files:   0%|          | 0/1 [00:00<?, ?it/s]"
      ]
     },
     "metadata": {},
     "output_type": "display_data"
    },
    {
     "data": {
      "application/vnd.jupyter.widget-view+json": {
       "model_id": "84c8ac85bf294b38b980a34c862d2ae0",
       "version_major": 2,
       "version_minor": 0
      },
      "text/plain": [
       "Generating train split: 0 examples [00:00, ? examples/s]"
      ]
     },
     "metadata": {},
     "output_type": "display_data"
    },
    {
     "data": {
      "application/vnd.jupyter.widget-view+json": {
       "model_id": "04ecc3f3b0d24208a3fc7d99244d47e0",
       "version_major": 2,
       "version_minor": 0
      },
      "text/plain": [
       "Downloading data files:   0%|          | 0/1 [00:00<?, ?it/s]"
      ]
     },
     "metadata": {},
     "output_type": "display_data"
    },
    {
     "data": {
      "application/vnd.jupyter.widget-view+json": {
       "model_id": "c4a41899059b4526a74a598e4b4e999d",
       "version_major": 2,
       "version_minor": 0
      },
      "text/plain": [
       "Extracting data files:   0%|          | 0/1 [00:00<?, ?it/s]"
      ]
     },
     "metadata": {},
     "output_type": "display_data"
    },
    {
     "data": {
      "application/vnd.jupyter.widget-view+json": {
       "model_id": "14471e309b2e4aac8679c963f05c99d1",
       "version_major": 2,
       "version_minor": 0
      },
      "text/plain": [
       "Generating train split: 0 examples [00:00, ? examples/s]"
      ]
     },
     "metadata": {},
     "output_type": "display_data"
    },
    {
     "data": {
      "application/vnd.jupyter.widget-view+json": {
       "model_id": "843e6d06892d45fb98b6c72c65e70335",
       "version_major": 2,
       "version_minor": 0
      },
      "text/plain": [
       "Downloading data files:   0%|          | 0/1 [00:00<?, ?it/s]"
      ]
     },
     "metadata": {},
     "output_type": "display_data"
    },
    {
     "data": {
      "application/vnd.jupyter.widget-view+json": {
       "model_id": "82c591442c4d474bbe0a909afc63e4d1",
       "version_major": 2,
       "version_minor": 0
      },
      "text/plain": [
       "Extracting data files:   0%|          | 0/1 [00:00<?, ?it/s]"
      ]
     },
     "metadata": {},
     "output_type": "display_data"
    },
    {
     "data": {
      "application/vnd.jupyter.widget-view+json": {
       "model_id": "47ca591cfb674d74b66ecc8d582e7627",
       "version_major": 2,
       "version_minor": 0
      },
      "text/plain": [
       "Generating train split: 0 examples [00:00, ? examples/s]"
      ]
     },
     "metadata": {},
     "output_type": "display_data"
    },
    {
     "name": "stdout",
     "output_type": "stream",
     "text": [
      "DatasetDict({\n",
      "    fold1: DatasetDict({\n",
      "        train: Dataset({\n",
      "            features: ['prompt', 'answer', '__index_level_0__'],\n",
      "            num_rows: 3075\n",
      "        })\n",
      "        validation: Dataset({\n",
      "            features: ['prompt', 'answer', '__index_level_0__'],\n",
      "            num_rows: 1298\n",
      "        })\n",
      "    })\n",
      "    fold2: DatasetDict({\n",
      "        train: Dataset({\n",
      "            features: ['prompt', 'answer', '__index_level_0__'],\n",
      "            num_rows: 3082\n",
      "        })\n",
      "        validation: Dataset({\n",
      "            features: ['prompt', 'answer', '__index_level_0__'],\n",
      "            num_rows: 1291\n",
      "        })\n",
      "    })\n",
      "})\n"
     ]
    },
    {
     "data": {
      "application/vnd.jupyter.widget-view+json": {
       "model_id": "d23bb32c76434a359893c57a6086c5cf",
       "version_major": 2,
       "version_minor": 0
      },
      "text/plain": [
       "Saving the dataset (0/1 shards):   0%|          | 0/3075 [00:00<?, ? examples/s]"
      ]
     },
     "metadata": {},
     "output_type": "display_data"
    },
    {
     "data": {
      "application/vnd.jupyter.widget-view+json": {
       "model_id": "df8449c48c9447629e84bf6141ef1132",
       "version_major": 2,
       "version_minor": 0
      },
      "text/plain": [
       "Saving the dataset (0/1 shards):   0%|          | 0/1298 [00:00<?, ? examples/s]"
      ]
     },
     "metadata": {},
     "output_type": "display_data"
    },
    {
     "data": {
      "application/vnd.jupyter.widget-view+json": {
       "model_id": "dd4881a45de540a890daee40531975a7",
       "version_major": 2,
       "version_minor": 0
      },
      "text/plain": [
       "Saving the dataset (0/1 shards):   0%|          | 0/3082 [00:00<?, ? examples/s]"
      ]
     },
     "metadata": {},
     "output_type": "display_data"
    },
    {
     "data": {
      "application/vnd.jupyter.widget-view+json": {
       "model_id": "77a6f6dd46cf42d39aa75dafbf752ba2",
       "version_major": 2,
       "version_minor": 0
      },
      "text/plain": [
       "Saving the dataset (0/1 shards):   0%|          | 0/1291 [00:00<?, ? examples/s]"
      ]
     },
     "metadata": {},
     "output_type": "display_data"
    }
   ],
   "source": [
    "df_train_f1_drop_2 = create_pandas_dataset_from_pandas(df_train_f1,\n",
    "                                                        drop_2 = True,\n",
    "                                                        ) \n",
    "df_dev_f1_drop_2 = create_pandas_dataset_from_pandas(df_dev_f1,\n",
    "                                                        drop_2 = True,\n",
    "                                                        ) \n",
    "df_train_f2_drop_2 = create_pandas_dataset_from_pandas(df_train_f2,\n",
    "                                                        drop_2 = True,\n",
    "                                                        ) \n",
    "df_dev_f2_drop_2 = create_pandas_dataset_from_pandas(df_dev_f2,\n",
    "                                                        drop_2 = True,\n",
    "                                                        ) \n",
    "\n",
    "print(\"df_train_f1_drop_2 describe: \")\n",
    "display(df_train_f1_drop_2.describe())\n",
    "print(\"df_dev_f1_drop_2 describe: \")\n",
    "display(df_dev_f1_drop_2.describe())\n",
    "\n",
    "print(\"df_train_f2_drop_2 describe: \")\n",
    "display(df_train_f2_drop_2.describe())\n",
    "print(\"df_dev_f2_drop_2 describe: \")\n",
    "display(df_dev_f2_drop_2.describe())\n",
    "\n",
    "df_train_f1_drop_2.to_parquet('../data/df_train_tdms_long_summarized_f1_drop_2.parquet')\n",
    "df_dev_f1_drop_2.to_parquet('../data/df_dev_tdms_long_summarized_f1_drop_2.parquet')\n",
    "df_train_f2_drop_2.to_parquet('../data/df_train_tdms_long_summarized_f2_drop_2.parquet')\n",
    "df_dev_f2_drop_2.to_parquet('../data/df_dev_tdms_long_summarized_f2_drop_2.parquet')\n",
    "\n",
    "dataset = DatasetDict({\n",
    "    'fold1': DatasetDict({\n",
    "        \"train\": Dataset.from_parquet('../data/df_train_tdms_long_summarized_f1_drop_2.parquet'),\n",
    "        \"validation\": Dataset.from_parquet('../data/df_dev_tdms_long_summarized_f1_drop_2.parquet')\n",
    "    }),\n",
    "    'fold2': DatasetDict({\n",
    "        \"train\": Dataset.from_parquet('../data/df_train_tdms_long_summarized_f2_drop_2.parquet'),\n",
    "        \"validation\": Dataset.from_parquet('../data/df_dev_tdms_long_summarized_f2_drop_2.parquet')\n",
    "    })\n",
    "})\n",
    "\n",
    "print(dataset)\n",
    "\n",
    "dataset.save_to_disk(\"../data/LLLM_LONG_SUMMARIZED_TDMS_DROP_2\")"
   ]
  },
  {
   "cell_type": "code",
   "execution_count": 56,
   "metadata": {},
   "outputs": [
    {
     "name": "stderr",
     "output_type": "stream",
     "text": [
      "100%|██████████| 3075/3075 [00:01<00:00, 1574.77it/s]\n",
      "100%|██████████| 1298/1298 [00:00<00:00, 1651.95it/s]\n",
      "100%|██████████| 3082/3082 [00:01<00:00, 1585.46it/s]\n",
      "100%|██████████| 1291/1291 [00:00<00:00, 1644.63it/s]\n"
     ]
    },
    {
     "name": "stdout",
     "output_type": "stream",
     "text": [
      "df_train_f1_drop_3 describe: \n"
     ]
    },
    {
     "data": {
      "text/html": [
       "<div>\n",
       "<style scoped>\n",
       "    .dataframe tbody tr th:only-of-type {\n",
       "        vertical-align: middle;\n",
       "    }\n",
       "\n",
       "    .dataframe tbody tr th {\n",
       "        vertical-align: top;\n",
       "    }\n",
       "\n",
       "    .dataframe thead th {\n",
       "        text-align: right;\n",
       "    }\n",
       "</style>\n",
       "<table border=\"1\" class=\"dataframe\">\n",
       "  <thead>\n",
       "    <tr style=\"text-align: right;\">\n",
       "      <th></th>\n",
       "      <th>prompt</th>\n",
       "      <th>answer</th>\n",
       "    </tr>\n",
       "  </thead>\n",
       "  <tbody>\n",
       "    <tr>\n",
       "      <th>count</th>\n",
       "      <td>3075</td>\n",
       "      <td>3075</td>\n",
       "    </tr>\n",
       "    <tr>\n",
       "      <th>unique</th>\n",
       "      <td>3069</td>\n",
       "      <td>2510</td>\n",
       "    </tr>\n",
       "    <tr>\n",
       "      <th>top</th>\n",
       "      <td>Title:\\tIJCAI–19 Example on typesetting multip...</td>\n",
       "      <td>unanswerable</td>\n",
       "    </tr>\n",
       "    <tr>\n",
       "      <th>freq</th>\n",
       "      <td>2</td>\n",
       "      <td>562</td>\n",
       "    </tr>\n",
       "  </tbody>\n",
       "</table>\n",
       "</div>"
      ],
      "text/plain": [
       "                                                   prompt        answer\n",
       "count                                                3075          3075\n",
       "unique                                               3069          2510\n",
       "top     Title:\\tIJCAI–19 Example on typesetting multip...  unanswerable\n",
       "freq                                                    2           562"
      ]
     },
     "metadata": {},
     "output_type": "display_data"
    },
    {
     "name": "stdout",
     "output_type": "stream",
     "text": [
      "df_dev_f1_drop_3 describe: \n"
     ]
    },
    {
     "data": {
      "text/html": [
       "<div>\n",
       "<style scoped>\n",
       "    .dataframe tbody tr th:only-of-type {\n",
       "        vertical-align: middle;\n",
       "    }\n",
       "\n",
       "    .dataframe tbody tr th {\n",
       "        vertical-align: top;\n",
       "    }\n",
       "\n",
       "    .dataframe thead th {\n",
       "        text-align: right;\n",
       "    }\n",
       "</style>\n",
       "<table border=\"1\" class=\"dataframe\">\n",
       "  <thead>\n",
       "    <tr style=\"text-align: right;\">\n",
       "      <th></th>\n",
       "      <th>prompt</th>\n",
       "      <th>answer</th>\n",
       "    </tr>\n",
       "  </thead>\n",
       "  <tbody>\n",
       "    <tr>\n",
       "      <th>count</th>\n",
       "      <td>1298</td>\n",
       "      <td>1298</td>\n",
       "    </tr>\n",
       "    <tr>\n",
       "      <th>unique</th>\n",
       "      <td>1298</td>\n",
       "      <td>1057</td>\n",
       "    </tr>\n",
       "    <tr>\n",
       "      <th>top</th>\n",
       "      <td>Title:\\t Dark Model Adaptation: Semantic Image...</td>\n",
       "      <td>unanswerable</td>\n",
       "    </tr>\n",
       "    <tr>\n",
       "      <th>freq</th>\n",
       "      <td>1</td>\n",
       "      <td>241</td>\n",
       "    </tr>\n",
       "  </tbody>\n",
       "</table>\n",
       "</div>"
      ],
      "text/plain": [
       "                                                   prompt        answer\n",
       "count                                                1298          1298\n",
       "unique                                               1298          1057\n",
       "top     Title:\\t Dark Model Adaptation: Semantic Image...  unanswerable\n",
       "freq                                                    1           241"
      ]
     },
     "metadata": {},
     "output_type": "display_data"
    },
    {
     "name": "stdout",
     "output_type": "stream",
     "text": [
      "df_train_f2_drop_3 describe: \n"
     ]
    },
    {
     "data": {
      "text/html": [
       "<div>\n",
       "<style scoped>\n",
       "    .dataframe tbody tr th:only-of-type {\n",
       "        vertical-align: middle;\n",
       "    }\n",
       "\n",
       "    .dataframe tbody tr th {\n",
       "        vertical-align: top;\n",
       "    }\n",
       "\n",
       "    .dataframe thead th {\n",
       "        text-align: right;\n",
       "    }\n",
       "</style>\n",
       "<table border=\"1\" class=\"dataframe\">\n",
       "  <thead>\n",
       "    <tr style=\"text-align: right;\">\n",
       "      <th></th>\n",
       "      <th>prompt</th>\n",
       "      <th>answer</th>\n",
       "    </tr>\n",
       "  </thead>\n",
       "  <tbody>\n",
       "    <tr>\n",
       "      <th>count</th>\n",
       "      <td>3082</td>\n",
       "      <td>3082</td>\n",
       "    </tr>\n",
       "    <tr>\n",
       "      <th>unique</th>\n",
       "      <td>3076</td>\n",
       "      <td>2517</td>\n",
       "    </tr>\n",
       "    <tr>\n",
       "      <th>top</th>\n",
       "      <td>Title:\\tBare Demo of IEEEtran.cls\\nfor IEEE Co...</td>\n",
       "      <td>unanswerable</td>\n",
       "    </tr>\n",
       "    <tr>\n",
       "      <th>freq</th>\n",
       "      <td>2</td>\n",
       "      <td>562</td>\n",
       "    </tr>\n",
       "  </tbody>\n",
       "</table>\n",
       "</div>"
      ],
      "text/plain": [
       "                                                   prompt        answer\n",
       "count                                                3082          3082\n",
       "unique                                               3076          2517\n",
       "top     Title:\\tBare Demo of IEEEtran.cls\\nfor IEEE Co...  unanswerable\n",
       "freq                                                    2           562"
      ]
     },
     "metadata": {},
     "output_type": "display_data"
    },
    {
     "name": "stdout",
     "output_type": "stream",
     "text": [
      "df_dev_f2_drop_3 describe: \n"
     ]
    },
    {
     "data": {
      "text/html": [
       "<div>\n",
       "<style scoped>\n",
       "    .dataframe tbody tr th:only-of-type {\n",
       "        vertical-align: middle;\n",
       "    }\n",
       "\n",
       "    .dataframe tbody tr th {\n",
       "        vertical-align: top;\n",
       "    }\n",
       "\n",
       "    .dataframe thead th {\n",
       "        text-align: right;\n",
       "    }\n",
       "</style>\n",
       "<table border=\"1\" class=\"dataframe\">\n",
       "  <thead>\n",
       "    <tr style=\"text-align: right;\">\n",
       "      <th></th>\n",
       "      <th>prompt</th>\n",
       "      <th>answer</th>\n",
       "    </tr>\n",
       "  </thead>\n",
       "  <tbody>\n",
       "    <tr>\n",
       "      <th>count</th>\n",
       "      <td>1291</td>\n",
       "      <td>1291</td>\n",
       "    </tr>\n",
       "    <tr>\n",
       "      <th>unique</th>\n",
       "      <td>1290</td>\n",
       "      <td>1051</td>\n",
       "    </tr>\n",
       "    <tr>\n",
       "      <th>top</th>\n",
       "      <td>Title:\\tTFNet: Multi-Semantic Feature Interact...</td>\n",
       "      <td>unanswerable</td>\n",
       "    </tr>\n",
       "    <tr>\n",
       "      <th>freq</th>\n",
       "      <td>2</td>\n",
       "      <td>241</td>\n",
       "    </tr>\n",
       "  </tbody>\n",
       "</table>\n",
       "</div>"
      ],
      "text/plain": [
       "                                                   prompt        answer\n",
       "count                                                1291          1291\n",
       "unique                                               1290          1051\n",
       "top     Title:\\tTFNet: Multi-Semantic Feature Interact...  unanswerable\n",
       "freq                                                    2           241"
      ]
     },
     "metadata": {},
     "output_type": "display_data"
    },
    {
     "data": {
      "application/vnd.jupyter.widget-view+json": {
       "model_id": "382d83a23e804aedaefee73884dec844",
       "version_major": 2,
       "version_minor": 0
      },
      "text/plain": [
       "Downloading data files:   0%|          | 0/1 [00:00<?, ?it/s]"
      ]
     },
     "metadata": {},
     "output_type": "display_data"
    },
    {
     "data": {
      "application/vnd.jupyter.widget-view+json": {
       "model_id": "cd481394082c4e9e8967ccca718ef616",
       "version_major": 2,
       "version_minor": 0
      },
      "text/plain": [
       "Extracting data files:   0%|          | 0/1 [00:00<?, ?it/s]"
      ]
     },
     "metadata": {},
     "output_type": "display_data"
    },
    {
     "data": {
      "application/vnd.jupyter.widget-view+json": {
       "model_id": "f9c4196b687248eabe1fea587b81e92b",
       "version_major": 2,
       "version_minor": 0
      },
      "text/plain": [
       "Generating train split: 0 examples [00:00, ? examples/s]"
      ]
     },
     "metadata": {},
     "output_type": "display_data"
    },
    {
     "data": {
      "application/vnd.jupyter.widget-view+json": {
       "model_id": "3b88bb89de8c432280caa3fbf8a0741b",
       "version_major": 2,
       "version_minor": 0
      },
      "text/plain": [
       "Downloading data files:   0%|          | 0/1 [00:00<?, ?it/s]"
      ]
     },
     "metadata": {},
     "output_type": "display_data"
    },
    {
     "data": {
      "application/vnd.jupyter.widget-view+json": {
       "model_id": "c33e8ec9425340679996d3200e96dfd8",
       "version_major": 2,
       "version_minor": 0
      },
      "text/plain": [
       "Extracting data files:   0%|          | 0/1 [00:00<?, ?it/s]"
      ]
     },
     "metadata": {},
     "output_type": "display_data"
    },
    {
     "data": {
      "application/vnd.jupyter.widget-view+json": {
       "model_id": "277beb6eedeb403196077b575c02bb26",
       "version_major": 2,
       "version_minor": 0
      },
      "text/plain": [
       "Generating train split: 0 examples [00:00, ? examples/s]"
      ]
     },
     "metadata": {},
     "output_type": "display_data"
    },
    {
     "data": {
      "application/vnd.jupyter.widget-view+json": {
       "model_id": "5c46924c070c4ceeb08a290cc676c0de",
       "version_major": 2,
       "version_minor": 0
      },
      "text/plain": [
       "Downloading data files:   0%|          | 0/1 [00:00<?, ?it/s]"
      ]
     },
     "metadata": {},
     "output_type": "display_data"
    },
    {
     "data": {
      "application/vnd.jupyter.widget-view+json": {
       "model_id": "9b98dfdc6bb748aebd72fdd28a903230",
       "version_major": 2,
       "version_minor": 0
      },
      "text/plain": [
       "Extracting data files:   0%|          | 0/1 [00:00<?, ?it/s]"
      ]
     },
     "metadata": {},
     "output_type": "display_data"
    },
    {
     "data": {
      "application/vnd.jupyter.widget-view+json": {
       "model_id": "701d29386e2e47e985b8cabd23718e86",
       "version_major": 2,
       "version_minor": 0
      },
      "text/plain": [
       "Generating train split: 0 examples [00:00, ? examples/s]"
      ]
     },
     "metadata": {},
     "output_type": "display_data"
    },
    {
     "data": {
      "application/vnd.jupyter.widget-view+json": {
       "model_id": "baadb67dda864e7a8d3a03aed21ba59f",
       "version_major": 2,
       "version_minor": 0
      },
      "text/plain": [
       "Downloading data files:   0%|          | 0/1 [00:00<?, ?it/s]"
      ]
     },
     "metadata": {},
     "output_type": "display_data"
    },
    {
     "data": {
      "application/vnd.jupyter.widget-view+json": {
       "model_id": "f13afcb2aae14a0984acb72ff0412ed5",
       "version_major": 2,
       "version_minor": 0
      },
      "text/plain": [
       "Extracting data files:   0%|          | 0/1 [00:00<?, ?it/s]"
      ]
     },
     "metadata": {},
     "output_type": "display_data"
    },
    {
     "data": {
      "application/vnd.jupyter.widget-view+json": {
       "model_id": "388e0b06147d4b6f9475959b7a9b5c07",
       "version_major": 2,
       "version_minor": 0
      },
      "text/plain": [
       "Generating train split: 0 examples [00:00, ? examples/s]"
      ]
     },
     "metadata": {},
     "output_type": "display_data"
    },
    {
     "name": "stdout",
     "output_type": "stream",
     "text": [
      "DatasetDict({\n",
      "    fold1: DatasetDict({\n",
      "        train: Dataset({\n",
      "            features: ['prompt', 'answer', '__index_level_0__'],\n",
      "            num_rows: 3075\n",
      "        })\n",
      "        validation: Dataset({\n",
      "            features: ['prompt', 'answer', '__index_level_0__'],\n",
      "            num_rows: 1298\n",
      "        })\n",
      "    })\n",
      "    fold2: DatasetDict({\n",
      "        train: Dataset({\n",
      "            features: ['prompt', 'answer', '__index_level_0__'],\n",
      "            num_rows: 3082\n",
      "        })\n",
      "        validation: Dataset({\n",
      "            features: ['prompt', 'answer', '__index_level_0__'],\n",
      "            num_rows: 1291\n",
      "        })\n",
      "    })\n",
      "})\n"
     ]
    },
    {
     "data": {
      "application/vnd.jupyter.widget-view+json": {
       "model_id": "4c650fea53b4426789d1b14affa2126a",
       "version_major": 2,
       "version_minor": 0
      },
      "text/plain": [
       "Saving the dataset (0/1 shards):   0%|          | 0/3075 [00:00<?, ? examples/s]"
      ]
     },
     "metadata": {},
     "output_type": "display_data"
    },
    {
     "data": {
      "application/vnd.jupyter.widget-view+json": {
       "model_id": "7fdc144b6e6e4d9a8b25177fef94265a",
       "version_major": 2,
       "version_minor": 0
      },
      "text/plain": [
       "Saving the dataset (0/1 shards):   0%|          | 0/1298 [00:00<?, ? examples/s]"
      ]
     },
     "metadata": {},
     "output_type": "display_data"
    },
    {
     "data": {
      "application/vnd.jupyter.widget-view+json": {
       "model_id": "76b2d741b7744e5b9d277669a5a6bff6",
       "version_major": 2,
       "version_minor": 0
      },
      "text/plain": [
       "Saving the dataset (0/1 shards):   0%|          | 0/3082 [00:00<?, ? examples/s]"
      ]
     },
     "metadata": {},
     "output_type": "display_data"
    },
    {
     "data": {
      "application/vnd.jupyter.widget-view+json": {
       "model_id": "cf216e7415994333bccb7a5412df6b52",
       "version_major": 2,
       "version_minor": 0
      },
      "text/plain": [
       "Saving the dataset (0/1 shards):   0%|          | 0/1291 [00:00<?, ? examples/s]"
      ]
     },
     "metadata": {},
     "output_type": "display_data"
    }
   ],
   "source": [
    "df_train_f1_drop_3 = create_pandas_dataset_from_pandas(df_train_f1,\n",
    "                                                        drop_3 = True,\n",
    "                                                        ) \n",
    "df_dev_f1_drop_3 = create_pandas_dataset_from_pandas(df_dev_f1,\n",
    "                                                        drop_3 = True,\n",
    "                                                        ) \n",
    "df_train_f2_drop_3 = create_pandas_dataset_from_pandas(df_train_f2,\n",
    "                                                        drop_3 = True,\n",
    "                                                        ) \n",
    "df_dev_f2_drop_3 = create_pandas_dataset_from_pandas(df_dev_f2,\n",
    "                                                        drop_3 = True,\n",
    "                                                        ) \n",
    "\n",
    "print(\"df_train_f1_drop_3 describe: \")\n",
    "display(df_train_f1_drop_3.describe())\n",
    "print(\"df_dev_f1_drop_3 describe: \")\n",
    "display(df_dev_f1_drop_3.describe())\n",
    "\n",
    "print(\"df_train_f2_drop_3 describe: \")\n",
    "display(df_train_f2_drop_3.describe())\n",
    "print(\"df_dev_f2_drop_3 describe: \")\n",
    "display(df_dev_f2_drop_3.describe())\n",
    "\n",
    "df_train_f1_drop_3.to_parquet('../data/df_train_tdms_long_summarized_f1_drop_3.parquet')\n",
    "df_dev_f1_drop_3.to_parquet('../data/df_dev_tdms_long_summarized_f1_drop_3.parquet')\n",
    "df_train_f2_drop_3.to_parquet('../data/df_train_tdms_long_summarized_f2_drop_3.parquet')\n",
    "df_dev_f2_drop_3.to_parquet('../data/df_dev_tdms_long_summarized_f2_drop_3.parquet')\n",
    "\n",
    "dataset = DatasetDict({\n",
    "    'fold1': DatasetDict({\n",
    "        \"train\": Dataset.from_parquet('../data/df_train_tdms_long_summarized_f1_drop_3.parquet'),\n",
    "        \"validation\": Dataset.from_parquet('../data/df_dev_tdms_long_summarized_f1_drop_3.parquet')\n",
    "    }),\n",
    "    'fold2': DatasetDict({\n",
    "        \"train\": Dataset.from_parquet('../data/df_train_tdms_long_summarized_f2_drop_3.parquet'),\n",
    "        \"validation\": Dataset.from_parquet('../data/df_dev_tdms_long_summarized_f2_drop_3.parquet')\n",
    "    })\n",
    "})\n",
    "\n",
    "print(dataset)\n",
    "\n",
    "dataset.save_to_disk(\"../data/LLLM_LONG_SUMMARIZED_TDMS_DROP_3\")"
   ]
  },
  {
   "cell_type": "code",
   "execution_count": 57,
   "metadata": {},
   "outputs": [
    {
     "name": "stderr",
     "output_type": "stream",
     "text": [
      "100%|██████████| 3075/3075 [00:01<00:00, 1592.34it/s]\n",
      "100%|██████████| 1298/1298 [00:00<00:00, 1667.12it/s]\n",
      "100%|██████████| 3082/3082 [00:01<00:00, 1599.26it/s]\n",
      "100%|██████████| 1291/1291 [00:00<00:00, 1621.11it/s]\n"
     ]
    },
    {
     "name": "stdout",
     "output_type": "stream",
     "text": [
      "df_train_f1_drop_4 describe: \n"
     ]
    },
    {
     "data": {
      "text/html": [
       "<div>\n",
       "<style scoped>\n",
       "    .dataframe tbody tr th:only-of-type {\n",
       "        vertical-align: middle;\n",
       "    }\n",
       "\n",
       "    .dataframe tbody tr th {\n",
       "        vertical-align: top;\n",
       "    }\n",
       "\n",
       "    .dataframe thead th {\n",
       "        text-align: right;\n",
       "    }\n",
       "</style>\n",
       "<table border=\"1\" class=\"dataframe\">\n",
       "  <thead>\n",
       "    <tr style=\"text-align: right;\">\n",
       "      <th></th>\n",
       "      <th>prompt</th>\n",
       "      <th>answer</th>\n",
       "    </tr>\n",
       "  </thead>\n",
       "  <tbody>\n",
       "    <tr>\n",
       "      <th>count</th>\n",
       "      <td>3075</td>\n",
       "      <td>3075</td>\n",
       "    </tr>\n",
       "    <tr>\n",
       "      <th>unique</th>\n",
       "      <td>3069</td>\n",
       "      <td>2510</td>\n",
       "    </tr>\n",
       "    <tr>\n",
       "      <th>top</th>\n",
       "      <td>Title:\\tIJCAI–19 Example on typesetting multip...</td>\n",
       "      <td>unanswerable</td>\n",
       "    </tr>\n",
       "    <tr>\n",
       "      <th>freq</th>\n",
       "      <td>2</td>\n",
       "      <td>562</td>\n",
       "    </tr>\n",
       "  </tbody>\n",
       "</table>\n",
       "</div>"
      ],
      "text/plain": [
       "                                                   prompt        answer\n",
       "count                                                3075          3075\n",
       "unique                                               3069          2510\n",
       "top     Title:\\tIJCAI–19 Example on typesetting multip...  unanswerable\n",
       "freq                                                    2           562"
      ]
     },
     "metadata": {},
     "output_type": "display_data"
    },
    {
     "name": "stdout",
     "output_type": "stream",
     "text": [
      "df_dev_f1_drop_4 describe: \n"
     ]
    },
    {
     "data": {
      "text/html": [
       "<div>\n",
       "<style scoped>\n",
       "    .dataframe tbody tr th:only-of-type {\n",
       "        vertical-align: middle;\n",
       "    }\n",
       "\n",
       "    .dataframe tbody tr th {\n",
       "        vertical-align: top;\n",
       "    }\n",
       "\n",
       "    .dataframe thead th {\n",
       "        text-align: right;\n",
       "    }\n",
       "</style>\n",
       "<table border=\"1\" class=\"dataframe\">\n",
       "  <thead>\n",
       "    <tr style=\"text-align: right;\">\n",
       "      <th></th>\n",
       "      <th>prompt</th>\n",
       "      <th>answer</th>\n",
       "    </tr>\n",
       "  </thead>\n",
       "  <tbody>\n",
       "    <tr>\n",
       "      <th>count</th>\n",
       "      <td>1298</td>\n",
       "      <td>1298</td>\n",
       "    </tr>\n",
       "    <tr>\n",
       "      <th>unique</th>\n",
       "      <td>1298</td>\n",
       "      <td>1057</td>\n",
       "    </tr>\n",
       "    <tr>\n",
       "      <th>top</th>\n",
       "      <td>Title:\\t Dark Model Adaptation: Semantic Image...</td>\n",
       "      <td>unanswerable</td>\n",
       "    </tr>\n",
       "    <tr>\n",
       "      <th>freq</th>\n",
       "      <td>1</td>\n",
       "      <td>241</td>\n",
       "    </tr>\n",
       "  </tbody>\n",
       "</table>\n",
       "</div>"
      ],
      "text/plain": [
       "                                                   prompt        answer\n",
       "count                                                1298          1298\n",
       "unique                                               1298          1057\n",
       "top     Title:\\t Dark Model Adaptation: Semantic Image...  unanswerable\n",
       "freq                                                    1           241"
      ]
     },
     "metadata": {},
     "output_type": "display_data"
    },
    {
     "name": "stdout",
     "output_type": "stream",
     "text": [
      "df_train_f2_drop_4 describe: \n"
     ]
    },
    {
     "data": {
      "text/html": [
       "<div>\n",
       "<style scoped>\n",
       "    .dataframe tbody tr th:only-of-type {\n",
       "        vertical-align: middle;\n",
       "    }\n",
       "\n",
       "    .dataframe tbody tr th {\n",
       "        vertical-align: top;\n",
       "    }\n",
       "\n",
       "    .dataframe thead th {\n",
       "        text-align: right;\n",
       "    }\n",
       "</style>\n",
       "<table border=\"1\" class=\"dataframe\">\n",
       "  <thead>\n",
       "    <tr style=\"text-align: right;\">\n",
       "      <th></th>\n",
       "      <th>prompt</th>\n",
       "      <th>answer</th>\n",
       "    </tr>\n",
       "  </thead>\n",
       "  <tbody>\n",
       "    <tr>\n",
       "      <th>count</th>\n",
       "      <td>3082</td>\n",
       "      <td>3082</td>\n",
       "    </tr>\n",
       "    <tr>\n",
       "      <th>unique</th>\n",
       "      <td>3076</td>\n",
       "      <td>2517</td>\n",
       "    </tr>\n",
       "    <tr>\n",
       "      <th>top</th>\n",
       "      <td>Title:\\tBare Demo of IEEEtran.cls\\nfor IEEE Co...</td>\n",
       "      <td>unanswerable</td>\n",
       "    </tr>\n",
       "    <tr>\n",
       "      <th>freq</th>\n",
       "      <td>2</td>\n",
       "      <td>562</td>\n",
       "    </tr>\n",
       "  </tbody>\n",
       "</table>\n",
       "</div>"
      ],
      "text/plain": [
       "                                                   prompt        answer\n",
       "count                                                3082          3082\n",
       "unique                                               3076          2517\n",
       "top     Title:\\tBare Demo of IEEEtran.cls\\nfor IEEE Co...  unanswerable\n",
       "freq                                                    2           562"
      ]
     },
     "metadata": {},
     "output_type": "display_data"
    },
    {
     "name": "stdout",
     "output_type": "stream",
     "text": [
      "df_dev_f2_drop_4 describe: \n"
     ]
    },
    {
     "data": {
      "text/html": [
       "<div>\n",
       "<style scoped>\n",
       "    .dataframe tbody tr th:only-of-type {\n",
       "        vertical-align: middle;\n",
       "    }\n",
       "\n",
       "    .dataframe tbody tr th {\n",
       "        vertical-align: top;\n",
       "    }\n",
       "\n",
       "    .dataframe thead th {\n",
       "        text-align: right;\n",
       "    }\n",
       "</style>\n",
       "<table border=\"1\" class=\"dataframe\">\n",
       "  <thead>\n",
       "    <tr style=\"text-align: right;\">\n",
       "      <th></th>\n",
       "      <th>prompt</th>\n",
       "      <th>answer</th>\n",
       "    </tr>\n",
       "  </thead>\n",
       "  <tbody>\n",
       "    <tr>\n",
       "      <th>count</th>\n",
       "      <td>1291</td>\n",
       "      <td>1291</td>\n",
       "    </tr>\n",
       "    <tr>\n",
       "      <th>unique</th>\n",
       "      <td>1290</td>\n",
       "      <td>1051</td>\n",
       "    </tr>\n",
       "    <tr>\n",
       "      <th>top</th>\n",
       "      <td>Title:\\tTFNet: Multi-Semantic Feature Interact...</td>\n",
       "      <td>unanswerable</td>\n",
       "    </tr>\n",
       "    <tr>\n",
       "      <th>freq</th>\n",
       "      <td>2</td>\n",
       "      <td>241</td>\n",
       "    </tr>\n",
       "  </tbody>\n",
       "</table>\n",
       "</div>"
      ],
      "text/plain": [
       "                                                   prompt        answer\n",
       "count                                                1291          1291\n",
       "unique                                               1290          1051\n",
       "top     Title:\\tTFNet: Multi-Semantic Feature Interact...  unanswerable\n",
       "freq                                                    2           241"
      ]
     },
     "metadata": {},
     "output_type": "display_data"
    },
    {
     "data": {
      "application/vnd.jupyter.widget-view+json": {
       "model_id": "28ec0d89f8d6409199227e4b97504e7d",
       "version_major": 2,
       "version_minor": 0
      },
      "text/plain": [
       "Downloading data files:   0%|          | 0/1 [00:00<?, ?it/s]"
      ]
     },
     "metadata": {},
     "output_type": "display_data"
    },
    {
     "data": {
      "application/vnd.jupyter.widget-view+json": {
       "model_id": "91f2a790203e46d9bddd3b9b734027f3",
       "version_major": 2,
       "version_minor": 0
      },
      "text/plain": [
       "Extracting data files:   0%|          | 0/1 [00:00<?, ?it/s]"
      ]
     },
     "metadata": {},
     "output_type": "display_data"
    },
    {
     "data": {
      "application/vnd.jupyter.widget-view+json": {
       "model_id": "15136fd69a514f7481eb2ea9b810862f",
       "version_major": 2,
       "version_minor": 0
      },
      "text/plain": [
       "Generating train split: 0 examples [00:00, ? examples/s]"
      ]
     },
     "metadata": {},
     "output_type": "display_data"
    },
    {
     "data": {
      "application/vnd.jupyter.widget-view+json": {
       "model_id": "38e50b7bf27d452f82aefd99542c4b8d",
       "version_major": 2,
       "version_minor": 0
      },
      "text/plain": [
       "Downloading data files:   0%|          | 0/1 [00:00<?, ?it/s]"
      ]
     },
     "metadata": {},
     "output_type": "display_data"
    },
    {
     "data": {
      "application/vnd.jupyter.widget-view+json": {
       "model_id": "b42b8285ab9c435c99ddabea47b77894",
       "version_major": 2,
       "version_minor": 0
      },
      "text/plain": [
       "Extracting data files:   0%|          | 0/1 [00:00<?, ?it/s]"
      ]
     },
     "metadata": {},
     "output_type": "display_data"
    },
    {
     "data": {
      "application/vnd.jupyter.widget-view+json": {
       "model_id": "39c2da70ad0c4432bc054bc82eef4b10",
       "version_major": 2,
       "version_minor": 0
      },
      "text/plain": [
       "Generating train split: 0 examples [00:00, ? examples/s]"
      ]
     },
     "metadata": {},
     "output_type": "display_data"
    },
    {
     "data": {
      "application/vnd.jupyter.widget-view+json": {
       "model_id": "ae854b07353b4aa3a4f6259b10afe442",
       "version_major": 2,
       "version_minor": 0
      },
      "text/plain": [
       "Downloading data files:   0%|          | 0/1 [00:00<?, ?it/s]"
      ]
     },
     "metadata": {},
     "output_type": "display_data"
    },
    {
     "data": {
      "application/vnd.jupyter.widget-view+json": {
       "model_id": "da6ccbb15eb54afb9029a75eb3e53e90",
       "version_major": 2,
       "version_minor": 0
      },
      "text/plain": [
       "Extracting data files:   0%|          | 0/1 [00:00<?, ?it/s]"
      ]
     },
     "metadata": {},
     "output_type": "display_data"
    },
    {
     "data": {
      "application/vnd.jupyter.widget-view+json": {
       "model_id": "64ef7716db0341fc868e39100b0ef5e1",
       "version_major": 2,
       "version_minor": 0
      },
      "text/plain": [
       "Generating train split: 0 examples [00:00, ? examples/s]"
      ]
     },
     "metadata": {},
     "output_type": "display_data"
    },
    {
     "data": {
      "application/vnd.jupyter.widget-view+json": {
       "model_id": "91d731f7b9c74abcbda2076c4a5c9f63",
       "version_major": 2,
       "version_minor": 0
      },
      "text/plain": [
       "Downloading data files:   0%|          | 0/1 [00:00<?, ?it/s]"
      ]
     },
     "metadata": {},
     "output_type": "display_data"
    },
    {
     "data": {
      "application/vnd.jupyter.widget-view+json": {
       "model_id": "cc2f1d87a1584f1fb68af0732b4d49d1",
       "version_major": 2,
       "version_minor": 0
      },
      "text/plain": [
       "Extracting data files:   0%|          | 0/1 [00:00<?, ?it/s]"
      ]
     },
     "metadata": {},
     "output_type": "display_data"
    },
    {
     "data": {
      "application/vnd.jupyter.widget-view+json": {
       "model_id": "071670919c914165a12c62f6482ff79d",
       "version_major": 2,
       "version_minor": 0
      },
      "text/plain": [
       "Generating train split: 0 examples [00:00, ? examples/s]"
      ]
     },
     "metadata": {},
     "output_type": "display_data"
    },
    {
     "name": "stdout",
     "output_type": "stream",
     "text": [
      "DatasetDict({\n",
      "    fold1: DatasetDict({\n",
      "        train: Dataset({\n",
      "            features: ['prompt', 'answer', '__index_level_0__'],\n",
      "            num_rows: 3075\n",
      "        })\n",
      "        validation: Dataset({\n",
      "            features: ['prompt', 'answer', '__index_level_0__'],\n",
      "            num_rows: 1298\n",
      "        })\n",
      "    })\n",
      "    fold2: DatasetDict({\n",
      "        train: Dataset({\n",
      "            features: ['prompt', 'answer', '__index_level_0__'],\n",
      "            num_rows: 3082\n",
      "        })\n",
      "        validation: Dataset({\n",
      "            features: ['prompt', 'answer', '__index_level_0__'],\n",
      "            num_rows: 1291\n",
      "        })\n",
      "    })\n",
      "})\n"
     ]
    },
    {
     "data": {
      "application/vnd.jupyter.widget-view+json": {
       "model_id": "e714d9225414453fb21f94ec2a390791",
       "version_major": 2,
       "version_minor": 0
      },
      "text/plain": [
       "Saving the dataset (0/1 shards):   0%|          | 0/3075 [00:00<?, ? examples/s]"
      ]
     },
     "metadata": {},
     "output_type": "display_data"
    },
    {
     "data": {
      "application/vnd.jupyter.widget-view+json": {
       "model_id": "fdc15360984f48bc8d4df6692d2d9a71",
       "version_major": 2,
       "version_minor": 0
      },
      "text/plain": [
       "Saving the dataset (0/1 shards):   0%|          | 0/1298 [00:00<?, ? examples/s]"
      ]
     },
     "metadata": {},
     "output_type": "display_data"
    },
    {
     "data": {
      "application/vnd.jupyter.widget-view+json": {
       "model_id": "95c1f603968f472c9a994b8caabb3663",
       "version_major": 2,
       "version_minor": 0
      },
      "text/plain": [
       "Saving the dataset (0/1 shards):   0%|          | 0/3082 [00:00<?, ? examples/s]"
      ]
     },
     "metadata": {},
     "output_type": "display_data"
    },
    {
     "data": {
      "application/vnd.jupyter.widget-view+json": {
       "model_id": "378578df939b42c782e404e435031a06",
       "version_major": 2,
       "version_minor": 0
      },
      "text/plain": [
       "Saving the dataset (0/1 shards):   0%|          | 0/1291 [00:00<?, ? examples/s]"
      ]
     },
     "metadata": {},
     "output_type": "display_data"
    }
   ],
   "source": [
    "df_train_f1_drop_4 = create_pandas_dataset_from_pandas(df_train_f1,\n",
    "                                                        drop_4 = True,\n",
    "                                                        ) \n",
    "df_dev_f1_drop_4 = create_pandas_dataset_from_pandas(df_dev_f1,\n",
    "                                                        drop_4 = True,\n",
    "                                                        ) \n",
    "df_train_f2_drop_4 = create_pandas_dataset_from_pandas(df_train_f2,\n",
    "                                                        drop_4 = True,\n",
    "                                                        ) \n",
    "df_dev_f2_drop_4 = create_pandas_dataset_from_pandas(df_dev_f2,\n",
    "                                                        drop_4 = True,\n",
    "                                                        ) \n",
    "\n",
    "print(\"df_train_f1_drop_4 describe: \")\n",
    "display(df_train_f1_drop_4.describe())\n",
    "print(\"df_dev_f1_drop_4 describe: \")\n",
    "display(df_dev_f1_drop_4.describe())\n",
    "\n",
    "print(\"df_train_f2_drop_4 describe: \")\n",
    "display(df_train_f2_drop_4.describe())\n",
    "print(\"df_dev_f2_drop_4 describe: \")\n",
    "display(df_dev_f2_drop_4.describe())\n",
    "\n",
    "df_train_f1_drop_4.to_parquet('../data/df_train_tdms_long_summarized_f1_drop_4.parquet')\n",
    "df_dev_f1_drop_4.to_parquet('../data/df_dev_tdms_long_summarized_f1_drop_4.parquet')\n",
    "df_train_f2_drop_4.to_parquet('../data/df_train_tdms_long_summarized_f2_drop_4.parquet')\n",
    "df_dev_f2_drop_4.to_parquet('../data/df_dev_tdms_long_summarized_f2_drop_4.parquet')\n",
    "\n",
    "dataset = DatasetDict({\n",
    "    'fold1': DatasetDict({\n",
    "        \"train\": Dataset.from_parquet('../data/df_train_tdms_long_summarized_f1_drop_4.parquet'),\n",
    "        \"validation\": Dataset.from_parquet('../data/df_dev_tdms_long_summarized_f1_drop_4.parquet')\n",
    "    }),\n",
    "    'fold2': DatasetDict({\n",
    "        \"train\": Dataset.from_parquet('../data/df_train_tdms_long_summarized_f2_drop_4.parquet'),\n",
    "        \"validation\": Dataset.from_parquet('../data/df_dev_tdms_long_summarized_f2_drop_4.parquet')\n",
    "    })\n",
    "})\n",
    "\n",
    "print(dataset)\n",
    "\n",
    "dataset.save_to_disk(\"../data/LLLM_LONG_SUMMARIZED_TDMS_DROP_4\")"
   ]
  },
  {
   "cell_type": "code",
   "execution_count": 58,
   "metadata": {},
   "outputs": [
    {
     "name": "stderr",
     "output_type": "stream",
     "text": [
      "100%|██████████| 3075/3075 [00:01<00:00, 1606.28it/s]\n",
      "100%|██████████| 1298/1298 [00:00<00:00, 1640.91it/s]\n",
      "100%|██████████| 3082/3082 [00:01<00:00, 1580.64it/s]\n",
      "100%|██████████| 1291/1291 [00:00<00:00, 1631.33it/s]\n"
     ]
    },
    {
     "name": "stdout",
     "output_type": "stream",
     "text": [
      "df_train_f1_drop_5 describe: \n"
     ]
    },
    {
     "data": {
      "text/html": [
       "<div>\n",
       "<style scoped>\n",
       "    .dataframe tbody tr th:only-of-type {\n",
       "        vertical-align: middle;\n",
       "    }\n",
       "\n",
       "    .dataframe tbody tr th {\n",
       "        vertical-align: top;\n",
       "    }\n",
       "\n",
       "    .dataframe thead th {\n",
       "        text-align: right;\n",
       "    }\n",
       "</style>\n",
       "<table border=\"1\" class=\"dataframe\">\n",
       "  <thead>\n",
       "    <tr style=\"text-align: right;\">\n",
       "      <th></th>\n",
       "      <th>prompt</th>\n",
       "      <th>answer</th>\n",
       "    </tr>\n",
       "  </thead>\n",
       "  <tbody>\n",
       "    <tr>\n",
       "      <th>count</th>\n",
       "      <td>3075</td>\n",
       "      <td>3075</td>\n",
       "    </tr>\n",
       "    <tr>\n",
       "      <th>unique</th>\n",
       "      <td>3069</td>\n",
       "      <td>2510</td>\n",
       "    </tr>\n",
       "    <tr>\n",
       "      <th>top</th>\n",
       "      <td>Read this article and answer this question Tit...</td>\n",
       "      <td>unanswerable</td>\n",
       "    </tr>\n",
       "    <tr>\n",
       "      <th>freq</th>\n",
       "      <td>2</td>\n",
       "      <td>562</td>\n",
       "    </tr>\n",
       "  </tbody>\n",
       "</table>\n",
       "</div>"
      ],
      "text/plain": [
       "                                                   prompt        answer\n",
       "count                                                3075          3075\n",
       "unique                                               3069          2510\n",
       "top     Read this article and answer this question Tit...  unanswerable\n",
       "freq                                                    2           562"
      ]
     },
     "metadata": {},
     "output_type": "display_data"
    },
    {
     "name": "stdout",
     "output_type": "stream",
     "text": [
      "df_dev_f1_drop_5 describe: \n"
     ]
    },
    {
     "data": {
      "text/html": [
       "<div>\n",
       "<style scoped>\n",
       "    .dataframe tbody tr th:only-of-type {\n",
       "        vertical-align: middle;\n",
       "    }\n",
       "\n",
       "    .dataframe tbody tr th {\n",
       "        vertical-align: top;\n",
       "    }\n",
       "\n",
       "    .dataframe thead th {\n",
       "        text-align: right;\n",
       "    }\n",
       "</style>\n",
       "<table border=\"1\" class=\"dataframe\">\n",
       "  <thead>\n",
       "    <tr style=\"text-align: right;\">\n",
       "      <th></th>\n",
       "      <th>prompt</th>\n",
       "      <th>answer</th>\n",
       "    </tr>\n",
       "  </thead>\n",
       "  <tbody>\n",
       "    <tr>\n",
       "      <th>count</th>\n",
       "      <td>1298</td>\n",
       "      <td>1298</td>\n",
       "    </tr>\n",
       "    <tr>\n",
       "      <th>unique</th>\n",
       "      <td>1298</td>\n",
       "      <td>1057</td>\n",
       "    </tr>\n",
       "    <tr>\n",
       "      <th>top</th>\n",
       "      <td>Read this article and answer this question Tit...</td>\n",
       "      <td>unanswerable</td>\n",
       "    </tr>\n",
       "    <tr>\n",
       "      <th>freq</th>\n",
       "      <td>1</td>\n",
       "      <td>241</td>\n",
       "    </tr>\n",
       "  </tbody>\n",
       "</table>\n",
       "</div>"
      ],
      "text/plain": [
       "                                                   prompt        answer\n",
       "count                                                1298          1298\n",
       "unique                                               1298          1057\n",
       "top     Read this article and answer this question Tit...  unanswerable\n",
       "freq                                                    1           241"
      ]
     },
     "metadata": {},
     "output_type": "display_data"
    },
    {
     "name": "stdout",
     "output_type": "stream",
     "text": [
      "df_train_f2_drop_5 describe: \n"
     ]
    },
    {
     "data": {
      "text/html": [
       "<div>\n",
       "<style scoped>\n",
       "    .dataframe tbody tr th:only-of-type {\n",
       "        vertical-align: middle;\n",
       "    }\n",
       "\n",
       "    .dataframe tbody tr th {\n",
       "        vertical-align: top;\n",
       "    }\n",
       "\n",
       "    .dataframe thead th {\n",
       "        text-align: right;\n",
       "    }\n",
       "</style>\n",
       "<table border=\"1\" class=\"dataframe\">\n",
       "  <thead>\n",
       "    <tr style=\"text-align: right;\">\n",
       "      <th></th>\n",
       "      <th>prompt</th>\n",
       "      <th>answer</th>\n",
       "    </tr>\n",
       "  </thead>\n",
       "  <tbody>\n",
       "    <tr>\n",
       "      <th>count</th>\n",
       "      <td>3082</td>\n",
       "      <td>3082</td>\n",
       "    </tr>\n",
       "    <tr>\n",
       "      <th>unique</th>\n",
       "      <td>3076</td>\n",
       "      <td>2517</td>\n",
       "    </tr>\n",
       "    <tr>\n",
       "      <th>top</th>\n",
       "      <td>Read this article and answer this question Tit...</td>\n",
       "      <td>unanswerable</td>\n",
       "    </tr>\n",
       "    <tr>\n",
       "      <th>freq</th>\n",
       "      <td>2</td>\n",
       "      <td>562</td>\n",
       "    </tr>\n",
       "  </tbody>\n",
       "</table>\n",
       "</div>"
      ],
      "text/plain": [
       "                                                   prompt        answer\n",
       "count                                                3082          3082\n",
       "unique                                               3076          2517\n",
       "top     Read this article and answer this question Tit...  unanswerable\n",
       "freq                                                    2           562"
      ]
     },
     "metadata": {},
     "output_type": "display_data"
    },
    {
     "name": "stdout",
     "output_type": "stream",
     "text": [
      "df_dev_f2_drop_5 describe: \n"
     ]
    },
    {
     "data": {
      "text/html": [
       "<div>\n",
       "<style scoped>\n",
       "    .dataframe tbody tr th:only-of-type {\n",
       "        vertical-align: middle;\n",
       "    }\n",
       "\n",
       "    .dataframe tbody tr th {\n",
       "        vertical-align: top;\n",
       "    }\n",
       "\n",
       "    .dataframe thead th {\n",
       "        text-align: right;\n",
       "    }\n",
       "</style>\n",
       "<table border=\"1\" class=\"dataframe\">\n",
       "  <thead>\n",
       "    <tr style=\"text-align: right;\">\n",
       "      <th></th>\n",
       "      <th>prompt</th>\n",
       "      <th>answer</th>\n",
       "    </tr>\n",
       "  </thead>\n",
       "  <tbody>\n",
       "    <tr>\n",
       "      <th>count</th>\n",
       "      <td>1291</td>\n",
       "      <td>1291</td>\n",
       "    </tr>\n",
       "    <tr>\n",
       "      <th>unique</th>\n",
       "      <td>1290</td>\n",
       "      <td>1051</td>\n",
       "    </tr>\n",
       "    <tr>\n",
       "      <th>top</th>\n",
       "      <td>Read this article and answer this question Tit...</td>\n",
       "      <td>unanswerable</td>\n",
       "    </tr>\n",
       "    <tr>\n",
       "      <th>freq</th>\n",
       "      <td>2</td>\n",
       "      <td>241</td>\n",
       "    </tr>\n",
       "  </tbody>\n",
       "</table>\n",
       "</div>"
      ],
      "text/plain": [
       "                                                   prompt        answer\n",
       "count                                                1291          1291\n",
       "unique                                               1290          1051\n",
       "top     Read this article and answer this question Tit...  unanswerable\n",
       "freq                                                    2           241"
      ]
     },
     "metadata": {},
     "output_type": "display_data"
    },
    {
     "data": {
      "application/vnd.jupyter.widget-view+json": {
       "model_id": "77d5ac127f064931bb47fd3ec084daa1",
       "version_major": 2,
       "version_minor": 0
      },
      "text/plain": [
       "Downloading data files:   0%|          | 0/1 [00:00<?, ?it/s]"
      ]
     },
     "metadata": {},
     "output_type": "display_data"
    },
    {
     "data": {
      "application/vnd.jupyter.widget-view+json": {
       "model_id": "907705112c3e4e89b92ac0f4b4989fb2",
       "version_major": 2,
       "version_minor": 0
      },
      "text/plain": [
       "Extracting data files:   0%|          | 0/1 [00:00<?, ?it/s]"
      ]
     },
     "metadata": {},
     "output_type": "display_data"
    },
    {
     "data": {
      "application/vnd.jupyter.widget-view+json": {
       "model_id": "834336c16b9842a58c76ca754e903dfe",
       "version_major": 2,
       "version_minor": 0
      },
      "text/plain": [
       "Generating train split: 0 examples [00:00, ? examples/s]"
      ]
     },
     "metadata": {},
     "output_type": "display_data"
    },
    {
     "data": {
      "application/vnd.jupyter.widget-view+json": {
       "model_id": "b531b9e1cf684896ad556d6933a7f01e",
       "version_major": 2,
       "version_minor": 0
      },
      "text/plain": [
       "Downloading data files:   0%|          | 0/1 [00:00<?, ?it/s]"
      ]
     },
     "metadata": {},
     "output_type": "display_data"
    },
    {
     "data": {
      "application/vnd.jupyter.widget-view+json": {
       "model_id": "688788338b1d4586b551cfa65b6fdd3d",
       "version_major": 2,
       "version_minor": 0
      },
      "text/plain": [
       "Extracting data files:   0%|          | 0/1 [00:00<?, ?it/s]"
      ]
     },
     "metadata": {},
     "output_type": "display_data"
    },
    {
     "data": {
      "application/vnd.jupyter.widget-view+json": {
       "model_id": "bc0589c918114c2380c87acf092a2530",
       "version_major": 2,
       "version_minor": 0
      },
      "text/plain": [
       "Generating train split: 0 examples [00:00, ? examples/s]"
      ]
     },
     "metadata": {},
     "output_type": "display_data"
    },
    {
     "data": {
      "application/vnd.jupyter.widget-view+json": {
       "model_id": "18fe37ed220e4726835f1053d84d56d8",
       "version_major": 2,
       "version_minor": 0
      },
      "text/plain": [
       "Downloading data files:   0%|          | 0/1 [00:00<?, ?it/s]"
      ]
     },
     "metadata": {},
     "output_type": "display_data"
    },
    {
     "data": {
      "application/vnd.jupyter.widget-view+json": {
       "model_id": "26c3e4144c9c42218229e4f5e9ef6972",
       "version_major": 2,
       "version_minor": 0
      },
      "text/plain": [
       "Extracting data files:   0%|          | 0/1 [00:00<?, ?it/s]"
      ]
     },
     "metadata": {},
     "output_type": "display_data"
    },
    {
     "data": {
      "application/vnd.jupyter.widget-view+json": {
       "model_id": "157afe3303f94352b779fb412ee92dfa",
       "version_major": 2,
       "version_minor": 0
      },
      "text/plain": [
       "Generating train split: 0 examples [00:00, ? examples/s]"
      ]
     },
     "metadata": {},
     "output_type": "display_data"
    },
    {
     "data": {
      "application/vnd.jupyter.widget-view+json": {
       "model_id": "f48e2534c53944978e32afafaf31e23c",
       "version_major": 2,
       "version_minor": 0
      },
      "text/plain": [
       "Downloading data files:   0%|          | 0/1 [00:00<?, ?it/s]"
      ]
     },
     "metadata": {},
     "output_type": "display_data"
    },
    {
     "data": {
      "application/vnd.jupyter.widget-view+json": {
       "model_id": "f74530a99f3a4436bc461597ba6d4140",
       "version_major": 2,
       "version_minor": 0
      },
      "text/plain": [
       "Extracting data files:   0%|          | 0/1 [00:00<?, ?it/s]"
      ]
     },
     "metadata": {},
     "output_type": "display_data"
    },
    {
     "data": {
      "application/vnd.jupyter.widget-view+json": {
       "model_id": "563dbb4f8b734619a137cb989e1c2e13",
       "version_major": 2,
       "version_minor": 0
      },
      "text/plain": [
       "Generating train split: 0 examples [00:00, ? examples/s]"
      ]
     },
     "metadata": {},
     "output_type": "display_data"
    },
    {
     "name": "stdout",
     "output_type": "stream",
     "text": [
      "DatasetDict({\n",
      "    fold1: DatasetDict({\n",
      "        train: Dataset({\n",
      "            features: ['prompt', 'answer', '__index_level_0__'],\n",
      "            num_rows: 3075\n",
      "        })\n",
      "        validation: Dataset({\n",
      "            features: ['prompt', 'answer', '__index_level_0__'],\n",
      "            num_rows: 1298\n",
      "        })\n",
      "    })\n",
      "    fold2: DatasetDict({\n",
      "        train: Dataset({\n",
      "            features: ['prompt', 'answer', '__index_level_0__'],\n",
      "            num_rows: 3082\n",
      "        })\n",
      "        validation: Dataset({\n",
      "            features: ['prompt', 'answer', '__index_level_0__'],\n",
      "            num_rows: 1291\n",
      "        })\n",
      "    })\n",
      "})\n"
     ]
    },
    {
     "data": {
      "application/vnd.jupyter.widget-view+json": {
       "model_id": "7f663f07ccfa4800aaa69d905de937dc",
       "version_major": 2,
       "version_minor": 0
      },
      "text/plain": [
       "Saving the dataset (0/1 shards):   0%|          | 0/3075 [00:00<?, ? examples/s]"
      ]
     },
     "metadata": {},
     "output_type": "display_data"
    },
    {
     "data": {
      "application/vnd.jupyter.widget-view+json": {
       "model_id": "922501572de94b73b4f147a53f5441e0",
       "version_major": 2,
       "version_minor": 0
      },
      "text/plain": [
       "Saving the dataset (0/1 shards):   0%|          | 0/1298 [00:00<?, ? examples/s]"
      ]
     },
     "metadata": {},
     "output_type": "display_data"
    },
    {
     "data": {
      "application/vnd.jupyter.widget-view+json": {
       "model_id": "938a59d7923e450f872ccc5d5656afd4",
       "version_major": 2,
       "version_minor": 0
      },
      "text/plain": [
       "Saving the dataset (0/1 shards):   0%|          | 0/3082 [00:00<?, ? examples/s]"
      ]
     },
     "metadata": {},
     "output_type": "display_data"
    },
    {
     "data": {
      "application/vnd.jupyter.widget-view+json": {
       "model_id": "ab3a4803cf574c75a8506a2109d3016c",
       "version_major": 2,
       "version_minor": 0
      },
      "text/plain": [
       "Saving the dataset (0/1 shards):   0%|          | 0/1291 [00:00<?, ? examples/s]"
      ]
     },
     "metadata": {},
     "output_type": "display_data"
    }
   ],
   "source": [
    "df_train_f1_drop_5 = create_pandas_dataset_from_pandas(df_train_f1,\n",
    "                                                        drop_5 = True,\n",
    "                                                        ) \n",
    "df_dev_f1_drop_5 = create_pandas_dataset_from_pandas(df_dev_f1,\n",
    "                                                        drop_5 = True,\n",
    "                                                        ) \n",
    "df_train_f2_drop_5 = create_pandas_dataset_from_pandas(df_train_f2,\n",
    "                                                        drop_5 = True,\n",
    "                                                        ) \n",
    "df_dev_f2_drop_5 = create_pandas_dataset_from_pandas(df_dev_f2,\n",
    "                                                        drop_5 = True,\n",
    "                                                        ) \n",
    "\n",
    "print(\"df_train_f1_drop_5 describe: \")\n",
    "display(df_train_f1_drop_5.describe())\n",
    "print(\"df_dev_f1_drop_5 describe: \")\n",
    "display(df_dev_f1_drop_5.describe())\n",
    "\n",
    "print(\"df_train_f2_drop_5 describe: \")\n",
    "display(df_train_f2_drop_5.describe())\n",
    "print(\"df_dev_f2_drop_5 describe: \")\n",
    "display(df_dev_f2_drop_5.describe())\n",
    "\n",
    "df_train_f1_drop_5.to_parquet('../data/df_train_tdms_long_summarized_f1_drop_5.parquet')\n",
    "df_dev_f1_drop_5.to_parquet('../data/df_dev_tdms_long_summarized_f1_drop_5.parquet')\n",
    "df_train_f2_drop_5.to_parquet('../data/df_train_tdms_long_summarized_f2_drop_5.parquet')\n",
    "df_dev_f2_drop_5.to_parquet('../data/df_dev_tdms_long_summarized_f2_drop_5.parquet')\n",
    "\n",
    "dataset = DatasetDict({\n",
    "    'fold1': DatasetDict({\n",
    "        \"train\": Dataset.from_parquet('../data/df_train_tdms_long_summarized_f1_drop_5.parquet'),\n",
    "        \"validation\": Dataset.from_parquet('../data/df_dev_tdms_long_summarized_f1_drop_5.parquet')\n",
    "    }),\n",
    "    'fold2': DatasetDict({\n",
    "        \"train\": Dataset.from_parquet('../data/df_train_tdms_long_summarized_f2_drop_5.parquet'),\n",
    "        \"validation\": Dataset.from_parquet('../data/df_dev_tdms_long_summarized_f2_drop_5.parquet')\n",
    "    })\n",
    "})\n",
    "\n",
    "print(dataset)\n",
    "\n",
    "dataset.save_to_disk(\"../data/LLLM_LONG_SUMMARIZED_TDMS_DROP_5\")"
   ]
  },
  {
   "cell_type": "code",
   "execution_count": 59,
   "metadata": {},
   "outputs": [
    {
     "name": "stderr",
     "output_type": "stream",
     "text": [
      "100%|██████████| 3075/3075 [00:01<00:00, 1581.78it/s]\n",
      "100%|██████████| 1298/1298 [00:00<00:00, 1699.56it/s]\n",
      "100%|██████████| 3082/3082 [00:01<00:00, 1607.40it/s]\n",
      "100%|██████████| 1291/1291 [00:00<00:00, 1650.61it/s]\n"
     ]
    },
    {
     "name": "stdout",
     "output_type": "stream",
     "text": [
      "df_train_f1_drop_6 describe: \n"
     ]
    },
    {
     "data": {
      "text/html": [
       "<div>\n",
       "<style scoped>\n",
       "    .dataframe tbody tr th:only-of-type {\n",
       "        vertical-align: middle;\n",
       "    }\n",
       "\n",
       "    .dataframe tbody tr th {\n",
       "        vertical-align: top;\n",
       "    }\n",
       "\n",
       "    .dataframe thead th {\n",
       "        text-align: right;\n",
       "    }\n",
       "</style>\n",
       "<table border=\"1\" class=\"dataframe\">\n",
       "  <thead>\n",
       "    <tr style=\"text-align: right;\">\n",
       "      <th></th>\n",
       "      <th>prompt</th>\n",
       "      <th>answer</th>\n",
       "    </tr>\n",
       "  </thead>\n",
       "  <tbody>\n",
       "    <tr>\n",
       "      <th>count</th>\n",
       "      <td>3075</td>\n",
       "      <td>3075</td>\n",
       "    </tr>\n",
       "    <tr>\n",
       "      <th>unique</th>\n",
       "      <td>3069</td>\n",
       "      <td>2510</td>\n",
       "    </tr>\n",
       "    <tr>\n",
       "      <th>top</th>\n",
       "      <td>Title:\\tIJCAI–19 Example on typesetting multip...</td>\n",
       "      <td>unanswerable</td>\n",
       "    </tr>\n",
       "    <tr>\n",
       "      <th>freq</th>\n",
       "      <td>2</td>\n",
       "      <td>562</td>\n",
       "    </tr>\n",
       "  </tbody>\n",
       "</table>\n",
       "</div>"
      ],
      "text/plain": [
       "                                                   prompt        answer\n",
       "count                                                3075          3075\n",
       "unique                                               3069          2510\n",
       "top     Title:\\tIJCAI–19 Example on typesetting multip...  unanswerable\n",
       "freq                                                    2           562"
      ]
     },
     "metadata": {},
     "output_type": "display_data"
    },
    {
     "name": "stdout",
     "output_type": "stream",
     "text": [
      "df_dev_f1_drop_6 describe: \n"
     ]
    },
    {
     "data": {
      "text/html": [
       "<div>\n",
       "<style scoped>\n",
       "    .dataframe tbody tr th:only-of-type {\n",
       "        vertical-align: middle;\n",
       "    }\n",
       "\n",
       "    .dataframe tbody tr th {\n",
       "        vertical-align: top;\n",
       "    }\n",
       "\n",
       "    .dataframe thead th {\n",
       "        text-align: right;\n",
       "    }\n",
       "</style>\n",
       "<table border=\"1\" class=\"dataframe\">\n",
       "  <thead>\n",
       "    <tr style=\"text-align: right;\">\n",
       "      <th></th>\n",
       "      <th>prompt</th>\n",
       "      <th>answer</th>\n",
       "    </tr>\n",
       "  </thead>\n",
       "  <tbody>\n",
       "    <tr>\n",
       "      <th>count</th>\n",
       "      <td>1298</td>\n",
       "      <td>1298</td>\n",
       "    </tr>\n",
       "    <tr>\n",
       "      <th>unique</th>\n",
       "      <td>1298</td>\n",
       "      <td>1057</td>\n",
       "    </tr>\n",
       "    <tr>\n",
       "      <th>top</th>\n",
       "      <td>Title:\\t Dark Model Adaptation: Semantic Image...</td>\n",
       "      <td>unanswerable</td>\n",
       "    </tr>\n",
       "    <tr>\n",
       "      <th>freq</th>\n",
       "      <td>1</td>\n",
       "      <td>241</td>\n",
       "    </tr>\n",
       "  </tbody>\n",
       "</table>\n",
       "</div>"
      ],
      "text/plain": [
       "                                                   prompt        answer\n",
       "count                                                1298          1298\n",
       "unique                                               1298          1057\n",
       "top     Title:\\t Dark Model Adaptation: Semantic Image...  unanswerable\n",
       "freq                                                    1           241"
      ]
     },
     "metadata": {},
     "output_type": "display_data"
    },
    {
     "name": "stdout",
     "output_type": "stream",
     "text": [
      "df_train_f2_drop_6 describe: \n"
     ]
    },
    {
     "data": {
      "text/html": [
       "<div>\n",
       "<style scoped>\n",
       "    .dataframe tbody tr th:only-of-type {\n",
       "        vertical-align: middle;\n",
       "    }\n",
       "\n",
       "    .dataframe tbody tr th {\n",
       "        vertical-align: top;\n",
       "    }\n",
       "\n",
       "    .dataframe thead th {\n",
       "        text-align: right;\n",
       "    }\n",
       "</style>\n",
       "<table border=\"1\" class=\"dataframe\">\n",
       "  <thead>\n",
       "    <tr style=\"text-align: right;\">\n",
       "      <th></th>\n",
       "      <th>prompt</th>\n",
       "      <th>answer</th>\n",
       "    </tr>\n",
       "  </thead>\n",
       "  <tbody>\n",
       "    <tr>\n",
       "      <th>count</th>\n",
       "      <td>3082</td>\n",
       "      <td>3082</td>\n",
       "    </tr>\n",
       "    <tr>\n",
       "      <th>unique</th>\n",
       "      <td>3076</td>\n",
       "      <td>2517</td>\n",
       "    </tr>\n",
       "    <tr>\n",
       "      <th>top</th>\n",
       "      <td>Title:\\tBare Demo of IEEEtran.cls\\nfor IEEE Co...</td>\n",
       "      <td>unanswerable</td>\n",
       "    </tr>\n",
       "    <tr>\n",
       "      <th>freq</th>\n",
       "      <td>2</td>\n",
       "      <td>562</td>\n",
       "    </tr>\n",
       "  </tbody>\n",
       "</table>\n",
       "</div>"
      ],
      "text/plain": [
       "                                                   prompt        answer\n",
       "count                                                3082          3082\n",
       "unique                                               3076          2517\n",
       "top     Title:\\tBare Demo of IEEEtran.cls\\nfor IEEE Co...  unanswerable\n",
       "freq                                                    2           562"
      ]
     },
     "metadata": {},
     "output_type": "display_data"
    },
    {
     "name": "stdout",
     "output_type": "stream",
     "text": [
      "df_dev_f2_drop_6 describe: \n"
     ]
    },
    {
     "data": {
      "text/html": [
       "<div>\n",
       "<style scoped>\n",
       "    .dataframe tbody tr th:only-of-type {\n",
       "        vertical-align: middle;\n",
       "    }\n",
       "\n",
       "    .dataframe tbody tr th {\n",
       "        vertical-align: top;\n",
       "    }\n",
       "\n",
       "    .dataframe thead th {\n",
       "        text-align: right;\n",
       "    }\n",
       "</style>\n",
       "<table border=\"1\" class=\"dataframe\">\n",
       "  <thead>\n",
       "    <tr style=\"text-align: right;\">\n",
       "      <th></th>\n",
       "      <th>prompt</th>\n",
       "      <th>answer</th>\n",
       "    </tr>\n",
       "  </thead>\n",
       "  <tbody>\n",
       "    <tr>\n",
       "      <th>count</th>\n",
       "      <td>1291</td>\n",
       "      <td>1291</td>\n",
       "    </tr>\n",
       "    <tr>\n",
       "      <th>unique</th>\n",
       "      <td>1290</td>\n",
       "      <td>1051</td>\n",
       "    </tr>\n",
       "    <tr>\n",
       "      <th>top</th>\n",
       "      <td>Title:\\tTFNet: Multi-Semantic Feature Interact...</td>\n",
       "      <td>unanswerable</td>\n",
       "    </tr>\n",
       "    <tr>\n",
       "      <th>freq</th>\n",
       "      <td>2</td>\n",
       "      <td>241</td>\n",
       "    </tr>\n",
       "  </tbody>\n",
       "</table>\n",
       "</div>"
      ],
      "text/plain": [
       "                                                   prompt        answer\n",
       "count                                                1291          1291\n",
       "unique                                               1290          1051\n",
       "top     Title:\\tTFNet: Multi-Semantic Feature Interact...  unanswerable\n",
       "freq                                                    2           241"
      ]
     },
     "metadata": {},
     "output_type": "display_data"
    },
    {
     "data": {
      "application/vnd.jupyter.widget-view+json": {
       "model_id": "7240b8c603cd4a50a0e9de6b149df169",
       "version_major": 2,
       "version_minor": 0
      },
      "text/plain": [
       "Downloading data files:   0%|          | 0/1 [00:00<?, ?it/s]"
      ]
     },
     "metadata": {},
     "output_type": "display_data"
    },
    {
     "data": {
      "application/vnd.jupyter.widget-view+json": {
       "model_id": "6f94491f24a14592a49e66ef9118e185",
       "version_major": 2,
       "version_minor": 0
      },
      "text/plain": [
       "Extracting data files:   0%|          | 0/1 [00:00<?, ?it/s]"
      ]
     },
     "metadata": {},
     "output_type": "display_data"
    },
    {
     "data": {
      "application/vnd.jupyter.widget-view+json": {
       "model_id": "e4e34016bc494761b26f9f544cc6d723",
       "version_major": 2,
       "version_minor": 0
      },
      "text/plain": [
       "Generating train split: 0 examples [00:00, ? examples/s]"
      ]
     },
     "metadata": {},
     "output_type": "display_data"
    },
    {
     "data": {
      "application/vnd.jupyter.widget-view+json": {
       "model_id": "f57ffb01d891486ab4b1ec680cd56a16",
       "version_major": 2,
       "version_minor": 0
      },
      "text/plain": [
       "Downloading data files:   0%|          | 0/1 [00:00<?, ?it/s]"
      ]
     },
     "metadata": {},
     "output_type": "display_data"
    },
    {
     "data": {
      "application/vnd.jupyter.widget-view+json": {
       "model_id": "cca36d50dc604eeea784d6eae936bef0",
       "version_major": 2,
       "version_minor": 0
      },
      "text/plain": [
       "Extracting data files:   0%|          | 0/1 [00:00<?, ?it/s]"
      ]
     },
     "metadata": {},
     "output_type": "display_data"
    },
    {
     "data": {
      "application/vnd.jupyter.widget-view+json": {
       "model_id": "6d02b186d7604b779a943a4eb60bd523",
       "version_major": 2,
       "version_minor": 0
      },
      "text/plain": [
       "Generating train split: 0 examples [00:00, ? examples/s]"
      ]
     },
     "metadata": {},
     "output_type": "display_data"
    },
    {
     "data": {
      "application/vnd.jupyter.widget-view+json": {
       "model_id": "44017f7321ed42538147b316ab0ee37b",
       "version_major": 2,
       "version_minor": 0
      },
      "text/plain": [
       "Downloading data files:   0%|          | 0/1 [00:00<?, ?it/s]"
      ]
     },
     "metadata": {},
     "output_type": "display_data"
    },
    {
     "data": {
      "application/vnd.jupyter.widget-view+json": {
       "model_id": "00c838efe9834472a8e0be6ad5fd9545",
       "version_major": 2,
       "version_minor": 0
      },
      "text/plain": [
       "Extracting data files:   0%|          | 0/1 [00:00<?, ?it/s]"
      ]
     },
     "metadata": {},
     "output_type": "display_data"
    },
    {
     "data": {
      "application/vnd.jupyter.widget-view+json": {
       "model_id": "b3905cef1e3c40448ce4442a250c3666",
       "version_major": 2,
       "version_minor": 0
      },
      "text/plain": [
       "Generating train split: 0 examples [00:00, ? examples/s]"
      ]
     },
     "metadata": {},
     "output_type": "display_data"
    },
    {
     "data": {
      "application/vnd.jupyter.widget-view+json": {
       "model_id": "2a2f89f8721949d19ae2938bba97e3a5",
       "version_major": 2,
       "version_minor": 0
      },
      "text/plain": [
       "Downloading data files:   0%|          | 0/1 [00:00<?, ?it/s]"
      ]
     },
     "metadata": {},
     "output_type": "display_data"
    },
    {
     "data": {
      "application/vnd.jupyter.widget-view+json": {
       "model_id": "7b8bd50ab36c430ca43d751f1531b4e2",
       "version_major": 2,
       "version_minor": 0
      },
      "text/plain": [
       "Extracting data files:   0%|          | 0/1 [00:00<?, ?it/s]"
      ]
     },
     "metadata": {},
     "output_type": "display_data"
    },
    {
     "data": {
      "application/vnd.jupyter.widget-view+json": {
       "model_id": "e7e4fc61af6c4f088a1fce43c573b977",
       "version_major": 2,
       "version_minor": 0
      },
      "text/plain": [
       "Generating train split: 0 examples [00:00, ? examples/s]"
      ]
     },
     "metadata": {},
     "output_type": "display_data"
    },
    {
     "name": "stdout",
     "output_type": "stream",
     "text": [
      "DatasetDict({\n",
      "    fold1: DatasetDict({\n",
      "        train: Dataset({\n",
      "            features: ['prompt', 'answer', '__index_level_0__'],\n",
      "            num_rows: 3075\n",
      "        })\n",
      "        validation: Dataset({\n",
      "            features: ['prompt', 'answer', '__index_level_0__'],\n",
      "            num_rows: 1298\n",
      "        })\n",
      "    })\n",
      "    fold2: DatasetDict({\n",
      "        train: Dataset({\n",
      "            features: ['prompt', 'answer', '__index_level_0__'],\n",
      "            num_rows: 3082\n",
      "        })\n",
      "        validation: Dataset({\n",
      "            features: ['prompt', 'answer', '__index_level_0__'],\n",
      "            num_rows: 1291\n",
      "        })\n",
      "    })\n",
      "})\n"
     ]
    },
    {
     "data": {
      "application/vnd.jupyter.widget-view+json": {
       "model_id": "19de60c4b387426a82e8efd63f53b316",
       "version_major": 2,
       "version_minor": 0
      },
      "text/plain": [
       "Saving the dataset (0/1 shards):   0%|          | 0/3075 [00:00<?, ? examples/s]"
      ]
     },
     "metadata": {},
     "output_type": "display_data"
    },
    {
     "data": {
      "application/vnd.jupyter.widget-view+json": {
       "model_id": "8d7f0f4cb364450fa5f5935d7e9f49dd",
       "version_major": 2,
       "version_minor": 0
      },
      "text/plain": [
       "Saving the dataset (0/1 shards):   0%|          | 0/1298 [00:00<?, ? examples/s]"
      ]
     },
     "metadata": {},
     "output_type": "display_data"
    },
    {
     "data": {
      "application/vnd.jupyter.widget-view+json": {
       "model_id": "a58af71195ee412c99f7908ded46b243",
       "version_major": 2,
       "version_minor": 0
      },
      "text/plain": [
       "Saving the dataset (0/1 shards):   0%|          | 0/3082 [00:00<?, ? examples/s]"
      ]
     },
     "metadata": {},
     "output_type": "display_data"
    },
    {
     "data": {
      "application/vnd.jupyter.widget-view+json": {
       "model_id": "6296a841469a4910a347c40231a56679",
       "version_major": 2,
       "version_minor": 0
      },
      "text/plain": [
       "Saving the dataset (0/1 shards):   0%|          | 0/1291 [00:00<?, ? examples/s]"
      ]
     },
     "metadata": {},
     "output_type": "display_data"
    }
   ],
   "source": [
    "df_train_f1_drop_6 = create_pandas_dataset_from_pandas(df_train_f1,\n",
    "                                                        drop_6 = True,\n",
    "                                                        ) \n",
    "df_dev_f1_drop_6 = create_pandas_dataset_from_pandas(df_dev_f1,\n",
    "                                                        drop_6 = True,\n",
    "                                                        ) \n",
    "df_train_f2_drop_6 = create_pandas_dataset_from_pandas(df_train_f2,\n",
    "                                                        drop_6 = True,\n",
    "                                                        ) \n",
    "df_dev_f2_drop_6 = create_pandas_dataset_from_pandas(df_dev_f2,\n",
    "                                                        drop_6 = True,\n",
    "                                                        ) \n",
    "\n",
    "print(\"df_train_f1_drop_6 describe: \")\n",
    "display(df_train_f1_drop_6.describe())\n",
    "print(\"df_dev_f1_drop_6 describe: \")\n",
    "display(df_dev_f1_drop_6.describe())\n",
    "\n",
    "print(\"df_train_f2_drop_6 describe: \")\n",
    "display(df_train_f2_drop_6.describe())\n",
    "print(\"df_dev_f2_drop_6 describe: \")\n",
    "display(df_dev_f2_drop_6.describe())\n",
    "\n",
    "df_train_f1_drop_6.to_parquet('../data/df_train_tdms_long_summarized_f1_drop_6.parquet')\n",
    "df_dev_f1_drop_6.to_parquet('../data/df_dev_tdms_long_summarized_f1_drop_6.parquet')\n",
    "df_train_f2_drop_6.to_parquet('../data/df_train_tdms_long_summarized_f2_drop_6.parquet')\n",
    "df_dev_f2_drop_6.to_parquet('../data/df_dev_tdms_long_summarized_f2_drop_6.parquet')\n",
    "\n",
    "dataset = DatasetDict({\n",
    "    'fold1': DatasetDict({\n",
    "        \"train\": Dataset.from_parquet('../data/df_train_tdms_long_summarized_f1_drop_6.parquet'),\n",
    "        \"validation\": Dataset.from_parquet('../data/df_dev_tdms_long_summarized_f1_drop_6.parquet')\n",
    "    }),\n",
    "    'fold2': DatasetDict({\n",
    "        \"train\": Dataset.from_parquet('../data/df_train_tdms_long_summarized_f2_drop_6.parquet'),\n",
    "        \"validation\": Dataset.from_parquet('../data/df_dev_tdms_long_summarized_f2_drop_6.parquet')\n",
    "    })\n",
    "})\n",
    "\n",
    "print(dataset)\n",
    "\n",
    "dataset.save_to_disk(\"../data/LLLM_LONG_SUMMARIZED_TDMS_DROP_6\")"
   ]
  },
  {
   "cell_type": "code",
   "execution_count": 60,
   "metadata": {},
   "outputs": [
    {
     "name": "stderr",
     "output_type": "stream",
     "text": [
      "100%|██████████| 3075/3075 [00:01<00:00, 1582.36it/s]\n",
      "100%|██████████| 1298/1298 [00:00<00:00, 1615.81it/s]\n",
      "100%|██████████| 3082/3082 [00:01<00:00, 1589.28it/s]\n",
      "100%|██████████| 1291/1291 [00:00<00:00, 1667.31it/s]\n"
     ]
    },
    {
     "name": "stdout",
     "output_type": "stream",
     "text": [
      "df_train_f1_drop_7 describe: \n"
     ]
    },
    {
     "data": {
      "text/html": [
       "<div>\n",
       "<style scoped>\n",
       "    .dataframe tbody tr th:only-of-type {\n",
       "        vertical-align: middle;\n",
       "    }\n",
       "\n",
       "    .dataframe tbody tr th {\n",
       "        vertical-align: top;\n",
       "    }\n",
       "\n",
       "    .dataframe thead th {\n",
       "        text-align: right;\n",
       "    }\n",
       "</style>\n",
       "<table border=\"1\" class=\"dataframe\">\n",
       "  <thead>\n",
       "    <tr style=\"text-align: right;\">\n",
       "      <th></th>\n",
       "      <th>prompt</th>\n",
       "      <th>answer</th>\n",
       "    </tr>\n",
       "  </thead>\n",
       "  <tbody>\n",
       "    <tr>\n",
       "      <th>count</th>\n",
       "      <td>3075</td>\n",
       "      <td>3075</td>\n",
       "    </tr>\n",
       "    <tr>\n",
       "      <th>unique</th>\n",
       "      <td>3069</td>\n",
       "      <td>2510</td>\n",
       "    </tr>\n",
       "    <tr>\n",
       "      <th>top</th>\n",
       "      <td>Context: Title:\\tIJCAI–19 Example on typesetti...</td>\n",
       "      <td>unanswerable</td>\n",
       "    </tr>\n",
       "    <tr>\n",
       "      <th>freq</th>\n",
       "      <td>2</td>\n",
       "      <td>562</td>\n",
       "    </tr>\n",
       "  </tbody>\n",
       "</table>\n",
       "</div>"
      ],
      "text/plain": [
       "                                                   prompt        answer\n",
       "count                                                3075          3075\n",
       "unique                                               3069          2510\n",
       "top     Context: Title:\\tIJCAI–19 Example on typesetti...  unanswerable\n",
       "freq                                                    2           562"
      ]
     },
     "metadata": {},
     "output_type": "display_data"
    },
    {
     "name": "stdout",
     "output_type": "stream",
     "text": [
      "df_dev_f1_drop_7 describe: \n"
     ]
    },
    {
     "data": {
      "text/html": [
       "<div>\n",
       "<style scoped>\n",
       "    .dataframe tbody tr th:only-of-type {\n",
       "        vertical-align: middle;\n",
       "    }\n",
       "\n",
       "    .dataframe tbody tr th {\n",
       "        vertical-align: top;\n",
       "    }\n",
       "\n",
       "    .dataframe thead th {\n",
       "        text-align: right;\n",
       "    }\n",
       "</style>\n",
       "<table border=\"1\" class=\"dataframe\">\n",
       "  <thead>\n",
       "    <tr style=\"text-align: right;\">\n",
       "      <th></th>\n",
       "      <th>prompt</th>\n",
       "      <th>answer</th>\n",
       "    </tr>\n",
       "  </thead>\n",
       "  <tbody>\n",
       "    <tr>\n",
       "      <th>count</th>\n",
       "      <td>1298</td>\n",
       "      <td>1298</td>\n",
       "    </tr>\n",
       "    <tr>\n",
       "      <th>unique</th>\n",
       "      <td>1298</td>\n",
       "      <td>1057</td>\n",
       "    </tr>\n",
       "    <tr>\n",
       "      <th>top</th>\n",
       "      <td>Context: Title:\\t Dark Model Adaptation: Seman...</td>\n",
       "      <td>unanswerable</td>\n",
       "    </tr>\n",
       "    <tr>\n",
       "      <th>freq</th>\n",
       "      <td>1</td>\n",
       "      <td>241</td>\n",
       "    </tr>\n",
       "  </tbody>\n",
       "</table>\n",
       "</div>"
      ],
      "text/plain": [
       "                                                   prompt        answer\n",
       "count                                                1298          1298\n",
       "unique                                               1298          1057\n",
       "top     Context: Title:\\t Dark Model Adaptation: Seman...  unanswerable\n",
       "freq                                                    1           241"
      ]
     },
     "metadata": {},
     "output_type": "display_data"
    },
    {
     "name": "stdout",
     "output_type": "stream",
     "text": [
      "df_train_f2_drop_7 describe: \n"
     ]
    },
    {
     "data": {
      "text/html": [
       "<div>\n",
       "<style scoped>\n",
       "    .dataframe tbody tr th:only-of-type {\n",
       "        vertical-align: middle;\n",
       "    }\n",
       "\n",
       "    .dataframe tbody tr th {\n",
       "        vertical-align: top;\n",
       "    }\n",
       "\n",
       "    .dataframe thead th {\n",
       "        text-align: right;\n",
       "    }\n",
       "</style>\n",
       "<table border=\"1\" class=\"dataframe\">\n",
       "  <thead>\n",
       "    <tr style=\"text-align: right;\">\n",
       "      <th></th>\n",
       "      <th>prompt</th>\n",
       "      <th>answer</th>\n",
       "    </tr>\n",
       "  </thead>\n",
       "  <tbody>\n",
       "    <tr>\n",
       "      <th>count</th>\n",
       "      <td>3082</td>\n",
       "      <td>3082</td>\n",
       "    </tr>\n",
       "    <tr>\n",
       "      <th>unique</th>\n",
       "      <td>3076</td>\n",
       "      <td>2517</td>\n",
       "    </tr>\n",
       "    <tr>\n",
       "      <th>top</th>\n",
       "      <td>Context: Title:\\tBare Demo of IEEEtran.cls\\nfo...</td>\n",
       "      <td>unanswerable</td>\n",
       "    </tr>\n",
       "    <tr>\n",
       "      <th>freq</th>\n",
       "      <td>2</td>\n",
       "      <td>562</td>\n",
       "    </tr>\n",
       "  </tbody>\n",
       "</table>\n",
       "</div>"
      ],
      "text/plain": [
       "                                                   prompt        answer\n",
       "count                                                3082          3082\n",
       "unique                                               3076          2517\n",
       "top     Context: Title:\\tBare Demo of IEEEtran.cls\\nfo...  unanswerable\n",
       "freq                                                    2           562"
      ]
     },
     "metadata": {},
     "output_type": "display_data"
    },
    {
     "name": "stdout",
     "output_type": "stream",
     "text": [
      "df_dev_f2_drop_7 describe: \n"
     ]
    },
    {
     "data": {
      "text/html": [
       "<div>\n",
       "<style scoped>\n",
       "    .dataframe tbody tr th:only-of-type {\n",
       "        vertical-align: middle;\n",
       "    }\n",
       "\n",
       "    .dataframe tbody tr th {\n",
       "        vertical-align: top;\n",
       "    }\n",
       "\n",
       "    .dataframe thead th {\n",
       "        text-align: right;\n",
       "    }\n",
       "</style>\n",
       "<table border=\"1\" class=\"dataframe\">\n",
       "  <thead>\n",
       "    <tr style=\"text-align: right;\">\n",
       "      <th></th>\n",
       "      <th>prompt</th>\n",
       "      <th>answer</th>\n",
       "    </tr>\n",
       "  </thead>\n",
       "  <tbody>\n",
       "    <tr>\n",
       "      <th>count</th>\n",
       "      <td>1291</td>\n",
       "      <td>1291</td>\n",
       "    </tr>\n",
       "    <tr>\n",
       "      <th>unique</th>\n",
       "      <td>1290</td>\n",
       "      <td>1051</td>\n",
       "    </tr>\n",
       "    <tr>\n",
       "      <th>top</th>\n",
       "      <td>Context: Title:\\tTFNet: Multi-Semantic Feature...</td>\n",
       "      <td>unanswerable</td>\n",
       "    </tr>\n",
       "    <tr>\n",
       "      <th>freq</th>\n",
       "      <td>2</td>\n",
       "      <td>241</td>\n",
       "    </tr>\n",
       "  </tbody>\n",
       "</table>\n",
       "</div>"
      ],
      "text/plain": [
       "                                                   prompt        answer\n",
       "count                                                1291          1291\n",
       "unique                                               1290          1051\n",
       "top     Context: Title:\\tTFNet: Multi-Semantic Feature...  unanswerable\n",
       "freq                                                    2           241"
      ]
     },
     "metadata": {},
     "output_type": "display_data"
    },
    {
     "data": {
      "application/vnd.jupyter.widget-view+json": {
       "model_id": "a391a3bff58c48d6aea50eda5981d9f3",
       "version_major": 2,
       "version_minor": 0
      },
      "text/plain": [
       "Downloading data files:   0%|          | 0/1 [00:00<?, ?it/s]"
      ]
     },
     "metadata": {},
     "output_type": "display_data"
    },
    {
     "data": {
      "application/vnd.jupyter.widget-view+json": {
       "model_id": "515c1014f9c544988cb81ccb6347bb77",
       "version_major": 2,
       "version_minor": 0
      },
      "text/plain": [
       "Extracting data files:   0%|          | 0/1 [00:00<?, ?it/s]"
      ]
     },
     "metadata": {},
     "output_type": "display_data"
    },
    {
     "data": {
      "application/vnd.jupyter.widget-view+json": {
       "model_id": "a13b448e8bb04f719708ce53b328201e",
       "version_major": 2,
       "version_minor": 0
      },
      "text/plain": [
       "Generating train split: 0 examples [00:00, ? examples/s]"
      ]
     },
     "metadata": {},
     "output_type": "display_data"
    },
    {
     "data": {
      "application/vnd.jupyter.widget-view+json": {
       "model_id": "9ba01d562f0b437eb9fb8db815b32813",
       "version_major": 2,
       "version_minor": 0
      },
      "text/plain": [
       "Downloading data files:   0%|          | 0/1 [00:00<?, ?it/s]"
      ]
     },
     "metadata": {},
     "output_type": "display_data"
    },
    {
     "data": {
      "application/vnd.jupyter.widget-view+json": {
       "model_id": "cc6f2372240c40b5b3f57ac41621a1aa",
       "version_major": 2,
       "version_minor": 0
      },
      "text/plain": [
       "Extracting data files:   0%|          | 0/1 [00:00<?, ?it/s]"
      ]
     },
     "metadata": {},
     "output_type": "display_data"
    },
    {
     "data": {
      "application/vnd.jupyter.widget-view+json": {
       "model_id": "50dac9aaab064e4ca16c4e0a950c4f0f",
       "version_major": 2,
       "version_minor": 0
      },
      "text/plain": [
       "Generating train split: 0 examples [00:00, ? examples/s]"
      ]
     },
     "metadata": {},
     "output_type": "display_data"
    },
    {
     "data": {
      "application/vnd.jupyter.widget-view+json": {
       "model_id": "577a39dcc8ad4f5f8168ea84a58e9d3f",
       "version_major": 2,
       "version_minor": 0
      },
      "text/plain": [
       "Downloading data files:   0%|          | 0/1 [00:00<?, ?it/s]"
      ]
     },
     "metadata": {},
     "output_type": "display_data"
    },
    {
     "data": {
      "application/vnd.jupyter.widget-view+json": {
       "model_id": "74dea75d019f4517aaa33231bd37cf8d",
       "version_major": 2,
       "version_minor": 0
      },
      "text/plain": [
       "Extracting data files:   0%|          | 0/1 [00:00<?, ?it/s]"
      ]
     },
     "metadata": {},
     "output_type": "display_data"
    },
    {
     "data": {
      "application/vnd.jupyter.widget-view+json": {
       "model_id": "590feaa6e4664c069414829eb61ded83",
       "version_major": 2,
       "version_minor": 0
      },
      "text/plain": [
       "Generating train split: 0 examples [00:00, ? examples/s]"
      ]
     },
     "metadata": {},
     "output_type": "display_data"
    },
    {
     "data": {
      "application/vnd.jupyter.widget-view+json": {
       "model_id": "6dd15a587b9d44838c5b27015ace38b3",
       "version_major": 2,
       "version_minor": 0
      },
      "text/plain": [
       "Downloading data files:   0%|          | 0/1 [00:00<?, ?it/s]"
      ]
     },
     "metadata": {},
     "output_type": "display_data"
    },
    {
     "data": {
      "application/vnd.jupyter.widget-view+json": {
       "model_id": "eef4cc62d20b49d98277d4769a1a14f5",
       "version_major": 2,
       "version_minor": 0
      },
      "text/plain": [
       "Extracting data files:   0%|          | 0/1 [00:00<?, ?it/s]"
      ]
     },
     "metadata": {},
     "output_type": "display_data"
    },
    {
     "data": {
      "application/vnd.jupyter.widget-view+json": {
       "model_id": "531575d6dee344aaac56bb32ac8f065c",
       "version_major": 2,
       "version_minor": 0
      },
      "text/plain": [
       "Generating train split: 0 examples [00:00, ? examples/s]"
      ]
     },
     "metadata": {},
     "output_type": "display_data"
    },
    {
     "name": "stdout",
     "output_type": "stream",
     "text": [
      "DatasetDict({\n",
      "    fold1: DatasetDict({\n",
      "        train: Dataset({\n",
      "            features: ['prompt', 'answer', '__index_level_0__'],\n",
      "            num_rows: 3075\n",
      "        })\n",
      "        validation: Dataset({\n",
      "            features: ['prompt', 'answer', '__index_level_0__'],\n",
      "            num_rows: 1298\n",
      "        })\n",
      "    })\n",
      "    fold2: DatasetDict({\n",
      "        train: Dataset({\n",
      "            features: ['prompt', 'answer', '__index_level_0__'],\n",
      "            num_rows: 3082\n",
      "        })\n",
      "        validation: Dataset({\n",
      "            features: ['prompt', 'answer', '__index_level_0__'],\n",
      "            num_rows: 1291\n",
      "        })\n",
      "    })\n",
      "})\n"
     ]
    },
    {
     "data": {
      "application/vnd.jupyter.widget-view+json": {
       "model_id": "5967aa3dd05f4711a8dab2a6b4e7f452",
       "version_major": 2,
       "version_minor": 0
      },
      "text/plain": [
       "Saving the dataset (0/1 shards):   0%|          | 0/3075 [00:00<?, ? examples/s]"
      ]
     },
     "metadata": {},
     "output_type": "display_data"
    },
    {
     "data": {
      "application/vnd.jupyter.widget-view+json": {
       "model_id": "e46f51d3c7d54e6dbce17d2da115bcc2",
       "version_major": 2,
       "version_minor": 0
      },
      "text/plain": [
       "Saving the dataset (0/1 shards):   0%|          | 0/1298 [00:00<?, ? examples/s]"
      ]
     },
     "metadata": {},
     "output_type": "display_data"
    },
    {
     "data": {
      "application/vnd.jupyter.widget-view+json": {
       "model_id": "b2ed0bf49d4e4974a02c75fdc8b6438a",
       "version_major": 2,
       "version_minor": 0
      },
      "text/plain": [
       "Saving the dataset (0/1 shards):   0%|          | 0/3082 [00:00<?, ? examples/s]"
      ]
     },
     "metadata": {},
     "output_type": "display_data"
    },
    {
     "data": {
      "application/vnd.jupyter.widget-view+json": {
       "model_id": "3f39abc3ea744672b13166e95b736d1e",
       "version_major": 2,
       "version_minor": 0
      },
      "text/plain": [
       "Saving the dataset (0/1 shards):   0%|          | 0/1291 [00:00<?, ? examples/s]"
      ]
     },
     "metadata": {},
     "output_type": "display_data"
    }
   ],
   "source": [
    "df_train_f1_drop_7 = create_pandas_dataset_from_pandas(df_train_f1,\n",
    "                                                        drop_7 = True,\n",
    "                                                        ) \n",
    "df_dev_f1_drop_7 = create_pandas_dataset_from_pandas(df_dev_f1,\n",
    "                                                        drop_7 = True,\n",
    "                                                        ) \n",
    "df_train_f2_drop_7 = create_pandas_dataset_from_pandas(df_train_f2,\n",
    "                                                        drop_7 = True,\n",
    "                                                        ) \n",
    "df_dev_f2_drop_7 = create_pandas_dataset_from_pandas(df_dev_f2,\n",
    "                                                        drop_7 = True,\n",
    "                                                        ) \n",
    "\n",
    "print(\"df_train_f1_drop_7 describe: \")\n",
    "display(df_train_f1_drop_7.describe())\n",
    "print(\"df_dev_f1_drop_7 describe: \")\n",
    "display(df_dev_f1_drop_7.describe())\n",
    "\n",
    "print(\"df_train_f2_drop_7 describe: \")\n",
    "display(df_train_f2_drop_7.describe())\n",
    "print(\"df_dev_f2_drop_7 describe: \")\n",
    "display(df_dev_f2_drop_7.describe())\n",
    "\n",
    "df_train_f1_drop_7.to_parquet('../data/df_train_tdms_long_summarized_f1_drop_7.parquet')\n",
    "df_dev_f1_drop_7.to_parquet('../data/df_dev_tdms_long_summarized_f1_drop_7.parquet')\n",
    "df_train_f2_drop_7.to_parquet('../data/df_train_tdms_long_summarized_f2_drop_7.parquet')\n",
    "df_dev_f2_drop_7.to_parquet('../data/df_dev_tdms_long_summarized_f2_drop_7.parquet')\n",
    "\n",
    "dataset = DatasetDict({\n",
    "    'fold1': DatasetDict({\n",
    "        \"train\": Dataset.from_parquet('../data/df_train_tdms_long_summarized_f1_drop_7.parquet'),\n",
    "        \"validation\": Dataset.from_parquet('../data/df_dev_tdms_long_summarized_f1_drop_7.parquet')\n",
    "    }),\n",
    "    'fold2': DatasetDict({\n",
    "        \"train\": Dataset.from_parquet('../data/df_train_tdms_long_summarized_f2_drop_7.parquet'),\n",
    "        \"validation\": Dataset.from_parquet('../data/df_dev_tdms_long_summarized_f2_drop_7.parquet')\n",
    "    })\n",
    "})\n",
    "\n",
    "print(dataset)\n",
    "\n",
    "dataset.save_to_disk(\"../data/LLLM_LONG_SUMMARIZED_TDMS_DROP_7\")"
   ]
  },
  {
   "cell_type": "code",
   "execution_count": 61,
   "metadata": {},
   "outputs": [
    {
     "data": {
      "text/plain": [
       "datasets.dataset_dict.DatasetDict"
      ]
     },
     "execution_count": 61,
     "metadata": {},
     "output_type": "execute_result"
    }
   ],
   "source": [
    "type(dataset)"
   ]
  },
  {
   "cell_type": "code",
   "execution_count": 62,
   "metadata": {},
   "outputs": [],
   "source": [
    "# root_directory = \"../data/LLLM_LONG_SUMMARIZED_TDMS_ALL_TEMPLATE\"\n",
    "root_directory = \"../data/LLLM_LONG_SUMMARIZED_TDMS_DROP_7\"\n",
    "\n",
    "\n",
    "# reloaded_encoded_dataset = datasets.load_from_disk(\"../data/dataset/LLLM_TDMS_ALL_TEMPLATE\")\n",
    "# reloaded_encoded_dataset = DatasetDict.load_from_disk(\"../data/LLLM_TDMS_ALL_TEMPLATE\")\n",
    "\n",
    "dataset_fold1 = DatasetDict.load_from_disk(f\"{root_directory}/fold1\")\n",
    "dataset_fold2 = DatasetDict.load_from_disk(f\"{root_directory}/fold2\")"
   ]
  },
  {
   "cell_type": "code",
   "execution_count": 63,
   "metadata": {},
   "outputs": [
    {
     "data": {
      "text/plain": [
       "{'prompt': 'Context: Title:\\tValue Prediction Network\\n\\nAbstract:\\tThis paper proposes a novel deep reinforcement learning (RL) architecture, called Value Prediction Network (VPN), which integrates model-free and model-based RL methods into a single neural network. In contrast to typical model-based RL methods, VPN learns a dynamics model whose abstract states are trained to make option-conditional predictions of future values (discounted sum of rewards) rather than of future observations. Our experimental results show that VPN has several advantages over both model-free and model-based baselines in a stochastic environment where careful planning is required but building an accurate observation-prediction model is difficult. Furthermore, VPN outperforms Deep Q-Network (DQN) on several Atari games even with short-lookahead planning, demonstrating its potential as a new way of learning a good state representation.\\n\\nExperiments\\n\\nOur experiments investigated the following questions: 1) Does VPN outperform model-free baselines (e.g., DQN)? 2) What is the advantage of planning with a VPN over observation-based planning? 3) Is VPN useful for complex domains with high-dimensional sensory inputs, such as Atari games?\\n\\nExperimental Setting\\n\\nNetwork Architecture.\\n\\nA CNN was used as the encoding module of VPN, and the transition module consists of one option-conditional convolution layer which uses different weights depending on the option followed by a few more convolution layers. We used a residual connection\\xa0 from the previous abstract-state to the next abstract-state so that the transition module learns the change of the abstract-state. The outcome module is similar to the transition module except that it does not have a residual connection and two fully-connected layers are used to produce reward and discount. The value module consists of two fully-connected layers. The number of layers and hidden units vary depending on the domain. These details are described in the Appendix.\\n\\nImplementation Details.\\n\\nOur algorithm is based on asynchronous n-step Q-learning\\xa0 where n is 10 and 16 threads are used. The target network is synchronized after every 10K steps. We used the Adam optimizer\\xa0, and the best learning rate and its decay were chosen from {0.0001,0.0002,0.0005,0.001} and {0.98,0.95,0.9,0.8} respectively. The learning rate is multiplied by the decay every 1M steps. Our implementation is based on TensorFlow\\xa0.[1]\\n\\nVPN has four more hyperparameters: 1) the number of predictions steps (k) during training, 2) the plan depth (d_(train)) during training, 3) the plan depth (d_(test)) during evaluation, and 4) the branching factor (b) which indicates the number of options to be simulated for each expansion step during planning. We used k\\u2004=\\u2004d_(train)\\u2004=\\u2004d_(test) throughout the experiment unless otherwise stated. VPN(d) represents our model which learns to predict and simulate up to d-step futures during training and evaluation. The branching factor (b) was set to 4 until depth of 3 and set to 1 after depth of 3, which means that VPN simulates 4-best options up to depth of 3 and only the best option after that.\\n\\nBaselines.\\n\\nWe compared our approach to the following baselines.\\n\\n-   DQN: This baseline directly estimates Q-values as its output and is trained through asynchronous n-step Q-learning. Unlike the original DQN, however, our DQN baseline takes an option as additional input and applies an option-conditional convolution layer to the top of the last encoding convolution layer, which is very similar to our VPN architecture.[2]\\n\\n-   VPN(1): This is identical to our VPN with the same training procedure except that it performs only 1-step rollout to estimate Q-value as shown in Figure\\xa0[fig:1-step]. This can be viewed as a variation of DQN that predicts reward, discount, and the value of the next state as a decomposition of Q-value.\\n\\n-   OPN(d): We call this Observation Prediction Network (OPN), which is similar to VPN except that it directly predicts future observations. More specifically, we train two independent networks: a model network (f^(model)\\u2004:\\u2004x,\\u2006o\\u2004↦\\u2004r,\\u2006γ,\\u2006x′) which predicts reward, discount, and the next observation, and a value network (f^(value)\\u2004:\\u2004x\\u2004↦\\u2004V(x)) which estimates the value from the observation. The training scheme is similar to our algorithm except that a squared loss for observation prediction is used to train the model network. This baseline performs d-step planning like VPN(d).\\n\\nCollect Domain\\n\\nTask Description.\\n\\nWe defined a simple but challenging 2D navigation task where the agent should collect as many goals as possible within a time limit, as illustrated in Figure\\xa0[fig:collect]. In this task, the agent, goals, and walls are randomly placed for each episode. The agent has four options: move left/right/up/down to the first crossing branch or the end of the corridor in the chosen direction. The agent is given 20 steps for each episode and receives a positive reward (2.0) when it collects a goal by moving on top of it and a time-penalty (\\u2005−\\u20050.2) for each step. Although it is easy to learn a sub-optimal policy which collects nearby goals, finding the optimal trajectory in each episode requires careful planning because the optimal solution cannot be computed in polynomial time.\\n\\nAn observation is represented as a 3D tensor (ℝ^(3\\u2005×\\u200510\\u2005×\\u200510)) with binary values indicating the presence/absence of each object type. The time remaining is normalized to [0,1] and is concatenated to the 3rd convolution layer of the network as a channel.\\n\\nWe evaluated all architectures first in a deterministic environment and then investigated the robustness in a stochastic environment separately. In the stochastic environment, each goal moves by one block with probability of 0.3 for each step. In addition, each option can be repeated multiple times with probability of 0.3. This makes it difficult to predict and plan the future precisely.\\n\\n[Observation]\\n\\n[DQN’s trajectory]\\n\\n[VPN’s trajectory]\\n\\n[Plan with 20 steps]\\n\\n[Plan with 12 steps]\\n\\n[Deterministic]\\n\\n[Stochastic]\\n\\nOverall Performance.\\n\\nThe result is summarized in Figure\\xa0[fig:curves]. To understand the quality of different policies, we implemented a greedy algorithm which always collects the nearest goal first and a shortest-path algorithm which finds the optimal solution through exhaustive search assuming that the environment is deterministic. Note that even a small gap in terms of reward can be qualitatively substantial as indicated by the small gap between greedy and shortest-path algorithms.\\n\\nThe results show that many architectures learned a better-than-greedy policy in the deterministic and stochastic environments except that OPN baselines perform poorly in the stochastic environment. In addition, the performance of VPN is improved as the plan depth increases, which implies that deeper predictions are reliable enough to provide more accurate value estimates of future states. As a result, VPN with 5-step planning represented by ‘VPN(5)’ performs best in both environments.\\n\\nComparison to Model-free Baselines.\\n\\nOur VPNs outperform DQN and VPN(1) baselines by a large margin as shown in Figure\\xa0[fig:curves]. Figure\\xa0[fig:collect] (b-c) shows an example of trajectories of DQN and VPN(5) given the same initial state. Although DQN’s behavior is reasonable, it ended up with collecting one less goal compared to VPN(5). We hypothesize that 6 convolution layers used by DQN and VPN(1) are not expressive enough to find the best route in each episode because finding an optimal path requires a combinatorial search in this task. On the other hand, VPN can perform such a combinatorial search to some extent by simulating future abstract-states, which has advantages over model-free approaches for dealing with tasks that require careful planning.\\n\\nComparison to Observation-based Planning.\\n\\nCompared to OPNs which perform planning based on predicted observations, VPNs perform slightly better or equally well in the deterministic environment. We observed that OPNs can predict future observations very accurately because observations in this task are simple and the environment is deterministic. Nevertheless, VPNs learn faster than OPNs in most cases. We conjecture that it takes additional training steps for OPNs to learn to predict future observations. In contrast, VPNs learn to predict only minimal but sufficient information for planning: reward, discount, and the value of future abstract-states, which may be the reason why VPNs learn faster than OPNs.\\n\\nIn the stochastic Collect domain, VPNs significantly outperform OPNs. We observed that OPNs tend to predict the average of possible future observations (𝔼_(x)[x]) because OPN is deterministic. Estimating values on such blurry predictions leads to estimating V_(θ)(𝔼_(x)[x]) which is different from the true expected value 𝔼_(x)[V(x)]. On the other hand, VPN is trained to approximate the true expected value because there is no explicit constraint or loss for the predicted abstract state. We hypothesize that this key distinction allows VPN to learn different modes of possible future states more flexibly in the abstract state space. This result suggests that a value-prediction model can be more beneficial than an observation-prediction model when the environment is stochastic and building an accurate observation-prediction model is difficult.\\n\\nr0.46\\n\\n  ---------- --------------- ------ ------ ------------ ------ ------\\n              Deterministic                 Stochastic         \\n                Original      FGs    MWs     Original    FGs    MWs\\n      Greedy      8.61        5.13   7.79      7.58      4.48   7.04\\n    Shortest      9.71        5.82   8.98      7.64      4.36   7.22\\n         DQN      8.66        4.57   7.08      7.85      4.11   6.72\\n      VPN(1)      8.94        4.92   7.64      7.84      4.27   7.15\\n      OPN(5)      9.30        5.45   8.36      7.55      4.09   6.79\\n      VPN(5)      9.29        5.43   8.31      8.11      4.45   7.46\\n  ---------- --------------- ------ ------ ------------ ------ ------\\n\\nGeneralization Performance.\\n\\nOne advantage of model-based RL approach is that it can generalize well to unseen environments as long as the dynamics of the environment remains similar. To see if our VPN has such a property, we evaluated all architectures on two types of previously unseen environments with either reduced number of goals (from 8 to 5) or increased number of walls. It turns out that our VPN is much more robust to the unseen environments compared to model-free baselines (DQN and VPN(1)), as shown in Table\\xa0[tab:generalization]. The model-free baselines perform worse than the greedy algorithm on unseen environments, whereas VPN still performs well. In addition, VPN generalizes as well as OPN which can learn a near-perfect model in the deterministic setting, and VPN significantly outperforms OPN in the stochastic setting. This suggests that VPN has a good generalization property like model-based RL methods and is robust to stochasticity.\\n\\nEffect of Planning Depth.\\n\\nr0.48 [image]\\n\\nTo further investigate the effect of planning depth in a VPN, we measured the average reward in the deterministic environment by varying the planning depth (d_(test)) from 1 to 10 during evaluation after training VPN with a fixed number of prediction steps and planning depth (k,\\u2006d_(train)), as shown in Figure\\xa0[fig:depth]. Since VPN does not learn to predict observations, there is no guarantee that it can perform deeper planning during evaluation (d_(test)) than the planning depth used during training (d_(train)). Interestingly, however, the result in Figure\\xa0[fig:depth] shows that if k\\u2004=\\u2004d_(train)\\u2004>\\u20042, VPN achieves better performance during evaluation through deeper tree search (d_(test)\\u2004>\\u2004d_(train)). We also tested a VPN with k\\u2004=\\u200410 and d_(train)\\u2004=\\u20045 and found that a planning depth of 10 achieved the best performance during evaluation. Thus, with a suitably large number of prediction steps during training, our VPN is able to benefit from deeper planning during evaluation relative to the planning depth during training. Figure\\xa0[fig:example] shows examples of good plans of length greater than 5 found by a VPN trained with planning depth 5. Another observation from Figure\\xa0[fig:depth] is that the performance of planning depth of 1 (d_(test)\\u2004=\\u20041) degrades as the planning depth during training (d_(train)) increases. This means that a VPN can improve its value estimations through long-term planning at the expense of the quality of short-term planning.\\n\\nAtari Games\\n\\nTo investigate how VPN deals with complex visual observations, we evaluated it on several Atari games\\xa0. Unlike in the Collect domain, in Atari games most primitive actions have only small value consequences and it is difficult to hand-design useful extended options. Nevertheless, we explored if VPNs are useful in Atari games even with short-lookahead planning using simple options that repeat the same primitive action over extended time periods by using a frame-skip of 10.[3] We pre-processed the game screen to 84\\u2005×\\u200584 gray-scale images. All architectures take last 4 frames as input. We doubled the number of hidden units of the fully-connected layer for DQN to approximately match the number of parameters. VPN learns to predict rewards and values but not discount (since it is fixed), and was trained to make 3-option-step predictions for planning which means that the agent predicts up to 0.5 seconds ahead in real-time.\\n\\n         Frostbite   Seaquest   Enduro   Alien   Q*Bert   Ms. Pacman   Amidar   Krull   Crazy Climber\\n  ----- ----------- ---------- -------- ------- -------- ------------ -------- ------- ---------------\\n    DQN    3058        2951      326     1804    12592       2804       535     12438       41658\\n    VPN    3811        5628      382     1429    14517       2689       641     15930       54119\\n\\n  : Performance on Atari games. Each number represents average score over 5 top agents.\\n\\n[Learning curves on Atari games. X-axis and y-axis correspond to steps and average reward over 100 episodes respectively. ]\\n\\n[State]\\n\\n[Plan 1 (19.3)]\\n\\n[Plan 2 (18.7)]\\n\\n[Plan 3 (18.4)]\\n\\n[Plan 4 (17.1)]\\n\\nAs summarized in Table\\xa01 and Figure\\xa03, our VPN outperforms DQN baseline on 7 out of 9 Atari games and learned significantly faster than DQN on Seaquest, QBert, Krull, and Crazy Climber. One possible reason why VPN outperforms DQN is that even 3-step planning is indeed helpful for learning a better policy. Figure\\xa0[fig:atari-plan] shows an example of VPN’s 3-step planning in Seaquest. Our VPN predicts reasonable values given different sequences of actions, which can potentially help choose a better action by looking at the short-term future. Another hypothesis is that the architecture of VPN itself, which has several auxiliary prediction tasks for multi-step future rewards and values, is useful for learning a good abstract-state representation as a model-free agent. Finally, our algorithm which performs planning to compute the target Q-value can potentially speed up learning by generating more accurate targets as it performs value backups multiple times from the simulated futures, as discussed in Section\\xa0[sec:relationship]. These results show that our approach is applicable to complex visual environments without needing to predict observations.\\n\\nConclusion\\n\\nWe introduced value prediction networks (VPNs) as a new deep RL way of integrating planning and learning while simultaneously learning the dynamics of abstract-states that make option-conditional predictions of future rewards/discount/values rather than future observations. Our empirical evaluations showed that VPNs outperform model-free DQN baselines in multiple domains, and outperform traditional observation-based planning in a stochastic domain. An interesting future direction would be to develop methods that automatically learn the options that allow good planning in VPNs.\\n\\n[1] The code is available on https://github.com/junhyukoh/value-prediction-network.\\n\\n[2] This architecture outperformed the original DQN architecture in our preliminary experiments.\\n\\n[3] Much of the previous work on Atari games has used a frame-skip of 4. Though using a larger frame-skip generally makes training easier, it may make training harder in some games if they require more fine-grained control\\xa0.\\n\\n\\nQuestion: What are the values for the following properties to construct a Leaderboard for the model introduced in this article: task, dataset, metric, and score?\\n\\nAnswer:',\n",
       " 'answer': \"[{'LEADERBOARD': {'Task': 'Atari Games', 'Dataset': 'Atari 2600 Seaquest', 'Metric': 'Score', 'Score': '5628'}}, {'LEADERBOARD': {'Task': 'Atari Games', 'Dataset': 'Atari 2600 Amidar', 'Metric': 'Score', 'Score': '641'}}, {'LEADERBOARD': {'Task': 'Atari Games', 'Dataset': 'Atari 2600 Krull', 'Metric': 'Score', 'Score': '15930'}}, {'LEADERBOARD': {'Task': 'Atari Games', 'Dataset': 'Atari 2600 Alien', 'Metric': 'Score', 'Score': '1429'}}, {'LEADERBOARD': {'Task': 'Atari Games', 'Dataset': 'Atari 2600 Enduro', 'Metric': 'Score', 'Score': '382'}}, {'LEADERBOARD': {'Task': 'Atari Games', 'Dataset': 'Atari 2600 Ms. Pacman', 'Metric': 'Score', 'Score': '2689'}}, {'LEADERBOARD': {'Task': 'Atari Games', 'Dataset': 'Atari 2600 Crazy Climber', 'Metric': 'Score', 'Score': '54119'}}, {'LEADERBOARD': {'Task': 'Atari Games', 'Dataset': 'Atari 2600 Q*Bert', 'Metric': 'Score', 'Score': '14517'}}, {'LEADERBOARD': {'Task': 'Atari Games', 'Dataset': 'Atari 2600 Frostbite', 'Metric': 'Score', 'Score': '3811'}}]\",\n",
       " '__index_level_0__': 0}"
      ]
     },
     "execution_count": 63,
     "metadata": {},
     "output_type": "execute_result"
    }
   ],
   "source": [
    "dataset_fold1['train'][0]"
   ]
  },
  {
   "cell_type": "code",
   "execution_count": null,
   "metadata": {},
   "outputs": [],
   "source": []
  },
  {
   "cell_type": "code",
   "execution_count": null,
   "metadata": {},
   "outputs": [],
   "source": []
  },
  {
   "cell_type": "code",
   "execution_count": null,
   "metadata": {},
   "outputs": [],
   "source": []
  },
  {
   "cell_type": "code",
   "execution_count": null,
   "metadata": {},
   "outputs": [],
   "source": []
  },
  {
   "cell_type": "code",
   "execution_count": null,
   "metadata": {},
   "outputs": [],
   "source": []
  },
  {
   "cell_type": "code",
   "execution_count": null,
   "metadata": {},
   "outputs": [],
   "source": []
  },
  {
   "cell_type": "code",
   "execution_count": null,
   "metadata": {},
   "outputs": [],
   "source": []
  },
  {
   "cell_type": "code",
   "execution_count": null,
   "metadata": {},
   "outputs": [],
   "source": []
  },
  {
   "cell_type": "code",
   "execution_count": null,
   "metadata": {},
   "outputs": [],
   "source": []
  },
  {
   "cell_type": "code",
   "execution_count": null,
   "metadata": {},
   "outputs": [],
   "source": []
  },
  {
   "cell_type": "code",
   "execution_count": null,
   "metadata": {},
   "outputs": [],
   "source": []
  },
  {
   "cell_type": "code",
   "execution_count": 21,
   "metadata": {},
   "outputs": [
    {
     "data": {
      "text/plain": [
       "['Please answer a question about this article. If the question is unanswerable, say \"unanswerable\"',\n",
       " 'Read this and answer the question. If the question is unanswerable, say \"unanswerable\".',\n",
       " 'If the question is unanswerable, say \"unanswerable\"',\n",
       " 'Try to answer this question if possible (otherwise reply \"unanswerable\"',\n",
       " 'If it is possible to answer this question, answer it for me (else, reply \"unanswerable\"',\n",
       " 'Answer this question, if possible (if impossible, reply \"unanswerable\"',\n",
       " 'Read this: What is the answer? (If it cannot be answered, return \"unanswerable\"',\n",
       " 'Read this: Now answer this question, if there is an answer (If it cannot be answered, return \"unanswerable\"',\n",
       " 'Answer based on context:',\n",
       " 'Answer this question based on the article:',\n",
       " 'Answer this question:',\n",
       " 'Read this article and answer this question',\n",
       " 'Based on the above article, answer a question.']"
      ]
     },
     "execution_count": 21,
     "metadata": {},
     "output_type": "execute_result"
    }
   ],
   "source": [
    "template = ['Please answer a question about this article. If the question is unanswerable, say \\\"unanswerable\\\"',\n",
    "'Read this and answer the question. If the question is unanswerable, say \\\"unanswerable\\\".',\n",
    "'If the question is unanswarable, say \\\"unanswerable\\\"',\n",
    "'Try to answer this question if possible (otherwise reply \\\"unanswerable\\\"',\n",
    "'If it is possible to answer this question, answer it for me (else, reply \\\"unanswerable\\\"',\n",
    "'Answer this question, if possible (if impossible, reply \\\"unanswerable\\\"',\n",
    "'Read this: What is the answer? (If it cannot be answered, return \\\"unanswerable\\\"',\n",
    "'Read this: Now answer this question, if there is an answer (If it cannot be answered, return \\\"unanswerable\\\"',\n",
    "'Answer based on context:',\n",
    "'Answer this question based on theaarticle:',\n",
    "# (\"{context}\\n\\n{question}\", \"{answer}\"),\n",
    "'Answer this question:',\n",
    "'Read this article and answer this question',\n",
    "'Based on the above article, answer a question.',\n",
    "# 'Context: {context}\\n\\nQuestion: {question}\\n\\nAnswer:\", \"{answer}\"),\n",
    "]\n",
    "\n",
    "template"
   ]
  },
  {
   "cell_type": "code",
   "execution_count": 22,
   "metadata": {},
   "outputs": [],
   "source": [
    "# df.head(2)"
   ]
  },
  {
   "cell_type": "code",
   "execution_count": 23,
   "metadata": {
    "id": "cRRLG8gZ1IcN"
   },
   "outputs": [],
   "source": [
    "def create_pandas_dataset_from_pandas(df,\n",
    "                          answer_threshold=7,\n",
    "                          verbose = False):\n",
    "\n",
    "  ''' Create a Pandas Dataframe from pandas.\n",
    "  Params:\n",
    "        answer_threshold: Only consider those Question Answer pairs where the Answer is short.\n",
    "  '''\n",
    "  count_index = 0\n",
    "  result_df  = pd.DataFrame(columns = ['prompt', 'answer'])   \n",
    "  # q_type_1 = \"Which Tasks are addressed in this article\"\n",
    "  # q_type_2 = \"Which Datasets are addressed in this article\"\n",
    "  # q_type_3 = \"Which Metrics are addressed in this article\"\n",
    "  # q_type_4 = \"Which Tasks, Datasets, Metrics are addressed in this article\"\n",
    "  # q_type_5 = \"Which Tasks, Datasets, Metrics and Scores are addressed in this article\" \n",
    "  \n",
    "  # q_types = [\n",
    "  #   {\"q\": \"Which Tasks are addressed in this article\", \"a_key\": \"Tasks\"}, \n",
    "  #   {\"q\": \"Which Datasets are addressed in this article\", \"a_key\": \"Datasets\"}, \n",
    "  #   {\"q\": \"Which Metrics are addressed in this article\", \"a_key\": \"Metrics\"},\n",
    "  #   {\"q\": \"Which Tasks, Datasets, Metrics are addressed in this article\", \"a_key\": \"TDMs\"},\n",
    "  #   {\"q\": \"Which Tasks, Datasets, Metrics and Scores are addressed in this article\", \"a_key\": \"TDMSs\"}\n",
    "  #   ]\n",
    "  \n",
    "  q_types = [\n",
    "    # {\"q\": \"What are the values for the following properties to construct a Leaderboard for the model introduced in this article: task, dataset, and metric?\", \"a_key\": \"TDMSs\"},\n",
    "    {\"q\": \"What are the values for the following properties to construct a Leaderboard for the model introduced in this article: task, dataset, metric, and score?\", \"a_key\": \"TDMSs\"},\n",
    "    ]\n",
    "  \n",
    "  records = df.to_dict(\"records\")\n",
    "  # db_dict = defaultdict(lambda : list())\n",
    "  for i, row in tqdm(enumerate(records), total = len(records)):        \n",
    "      for q_type in q_types:\n",
    "        \n",
    "        # Squad_v2\n",
    "        result_df.loc[count_index] = [f'{row[\"Context\"]}\\n\\nPlease answer a question about this article. If the question is unanswerable, say \\\"unanswerable\\\". {q_type[\"q\"]}'] \\\n",
    "          + [str(row[q_type[\"a_key\"]])] \n",
    "        count_index += 1\n",
    "        result_df.loc[count_index] = [f'Read this and answer the question. If the question is unanswerable, say \\\"unanswerable\\\".\\n\\n{row[\"Context\"]}\\n\\n{q_type[\"q\"]}'\n",
    "] \\\n",
    "          + [str(row[q_type[\"a_key\"]])] \n",
    "        count_index += 1\n",
    "        result_df.loc[count_index] = [f'{row[\"Context\"]}\\n{q_type[\"q\"]} (If the question is unanswerable, say \\\"unanswerable\\\"'] \\\n",
    "          + [str(row[q_type[\"a_key\"]])] \n",
    "        count_index += 1\n",
    "        result_df.loc[count_index] = [f'{row[\"Context\"]}\\nTry to answer this question if possible (otherwise reply \\\"unanswerable\\\"): {q_type[\"q\"]}'] \\\n",
    "          + [str(row[q_type[\"a_key\"]])] \n",
    "        count_index += 1\n",
    "        result_df.loc[count_index] = [f'{row[\"Context\"]}\\nIf it is possible to answer this question, answer it for me (else, reply \\\"unanswerable\\\"): {q_type[\"q\"]}'] \\\n",
    "          + [str(row[q_type[\"a_key\"]])] \n",
    "        count_index += 1\n",
    "        result_df.loc[count_index] = [f'{row[\"Context\"]}\\n\\nAnswer this question, if possible (if impossible, reply \\\"unanswerable\\\"): {q_type[\"q\"]}'] \\\n",
    "          + [str(row[q_type[\"a_key\"]])] \n",
    "        count_index += 1\n",
    "        result_df.loc[count_index] = [f'Read this: {row[\"Context\"]}\\n\\n{q_type[\"q\"]}\\nWhat is the answer? (If it cannot be answered, return \\\"unanswerable\\\")'] \\\n",
    "          + [str(row[q_type[\"a_key\"]])] \n",
    "        count_index += 1\n",
    "        result_df.loc[count_index] = [f'Read this: {row[\"Context\"]}\\nNow answer this question, if there is an answer (If it cannot be answered, return \\\"unanswerable\\\"): {q_type[\"q\"]}'] \\\n",
    "          + [str(row[q_type[\"a_key\"]])] \n",
    "        count_index += 1\n",
    "        \n",
    "        # Drop\n",
    "        result_df.loc[count_index] = [f'Answer based on context:\\n\\n{row[\"Context\"]}\\n\\n{q_type[\"q\"]}'] \\\n",
    "          + [str(row[q_type[\"a_key\"]])] \n",
    "        count_index += 1\n",
    "        result_df.loc[count_index] = [f'{row[\"Context\"]}\\n\\nAnswer this question based on the article: {q_type[\"q\"]}'] \\\n",
    "          + [str(row[q_type[\"a_key\"]])] \n",
    "        count_index += 1\n",
    "        result_df.loc[count_index] = [f'{row[\"Context\"]}\\n\\n{q_type[\"q\"]}'] \\\n",
    "          + [str(row[q_type[\"a_key\"]])] \n",
    "        count_index += 1\n",
    "        result_df.loc[count_index] = [f'{row[\"Context\"]}\\nAnswer this question: {q_type[\"q\"]}'] \\\n",
    "          + [str(row[q_type[\"a_key\"]])] \n",
    "        count_index += 1\n",
    "        result_df.loc[count_index] = [f'Read this article and answer this question {row[\"Context\"]}\\n{q_type[\"q\"]}'] \\\n",
    "          + [str(row[q_type[\"a_key\"]])] \n",
    "        count_index += 1\n",
    "        result_df.loc[count_index] = [f'{row[\"Context\"]}\\n\\nBased on the above article, answer a question. {q_type[\"q\"]}'] \\\n",
    "          + [str(row[q_type[\"a_key\"]])] \n",
    "        count_index += 1\n",
    "        result_df.loc[count_index] = [f'Context: {row[\"Context\"]}\\n\\nQuestion: {q_type[\"q\"]}\\n\\nAnswer:'] \\\n",
    "          + [str(row[q_type[\"a_key\"]])] \n",
    "        count_index += 1\n",
    "         \n",
    "            \n",
    "  if verbose:\n",
    "    # return (result_df,\n",
    "    #         count_long,\n",
    "    #         count_short)\n",
    "    return (result_df)\n",
    "  else:\n",
    "    return result_df"
   ]
  },
  {
   "cell_type": "code",
   "execution_count": 24,
   "metadata": {},
   "outputs": [
    {
     "name": "stderr",
     "output_type": "stream",
     "text": [
      "  0%|          | 4/5512 [00:00<03:02, 30.26it/s]"
     ]
    },
    {
     "name": "stderr",
     "output_type": "stream",
     "text": [
      "100%|██████████| 5512/5512 [09:42<00:00,  9.46it/s]\n",
      "100%|██████████| 2353/2353 [01:22<00:00, 28.38it/s]\n",
      "100%|██████████| 5513/5513 [09:26<00:00,  9.72it/s]\n",
      "100%|██████████| 2352/2352 [01:19<00:00, 29.60it/s]\n"
     ]
    }
   ],
   "source": [
    "df_train_f1_all_templates = create_pandas_dataset_from_pandas(df_train_f1) \n",
    "df_dev_f1_all_templates = create_pandas_dataset_from_pandas(df_dev_f1) \n",
    "df_train_f2_all_templates = create_pandas_dataset_from_pandas(df_train_f2) \n",
    "df_dev_f2_all_templates = create_pandas_dataset_from_pandas(df_dev_f2) "
   ]
  },
  {
   "cell_type": "code",
   "execution_count": 25,
   "metadata": {},
   "outputs": [
    {
     "data": {
      "text/html": [
       "<div>\n",
       "<style scoped>\n",
       "    .dataframe tbody tr th:only-of-type {\n",
       "        vertical-align: middle;\n",
       "    }\n",
       "\n",
       "    .dataframe tbody tr th {\n",
       "        vertical-align: top;\n",
       "    }\n",
       "\n",
       "    .dataframe thead th {\n",
       "        text-align: right;\n",
       "    }\n",
       "</style>\n",
       "<table border=\"1\" class=\"dataframe\">\n",
       "  <thead>\n",
       "    <tr style=\"text-align: right;\">\n",
       "      <th></th>\n",
       "      <th>prompt</th>\n",
       "      <th>answer</th>\n",
       "    </tr>\n",
       "  </thead>\n",
       "  <tbody>\n",
       "    <tr>\n",
       "      <th>count</th>\n",
       "      <td>82680</td>\n",
       "      <td>82680</td>\n",
       "    </tr>\n",
       "    <tr>\n",
       "      <th>unique</th>\n",
       "      <td>82335</td>\n",
       "      <td>3634</td>\n",
       "    </tr>\n",
       "    <tr>\n",
       "      <th>top</th>\n",
       "      <td>Title\\tLaTeX Author Guidelines for CVPR Procee...</td>\n",
       "      <td>unanswerable</td>\n",
       "    </tr>\n",
       "    <tr>\n",
       "      <th>freq</th>\n",
       "      <td>5</td>\n",
       "      <td>28080</td>\n",
       "    </tr>\n",
       "  </tbody>\n",
       "</table>\n",
       "</div>"
      ],
      "text/plain": [
       "                                                   prompt        answer\n",
       "count                                               82680         82680\n",
       "unique                                              82335          3634\n",
       "top     Title\\tLaTeX Author Guidelines for CVPR Procee...  unanswerable\n",
       "freq                                                    5         28080"
      ]
     },
     "execution_count": 25,
     "metadata": {},
     "output_type": "execute_result"
    }
   ],
   "source": [
    "df_train_f1_all_templates.describe()"
   ]
  },
  {
   "cell_type": "code",
   "execution_count": 26,
   "metadata": {},
   "outputs": [
    {
     "name": "stdout",
     "output_type": "stream",
     "text": [
      "df_train_f1_all_templates describe: \n"
     ]
    },
    {
     "data": {
      "text/html": [
       "<div>\n",
       "<style scoped>\n",
       "    .dataframe tbody tr th:only-of-type {\n",
       "        vertical-align: middle;\n",
       "    }\n",
       "\n",
       "    .dataframe tbody tr th {\n",
       "        vertical-align: top;\n",
       "    }\n",
       "\n",
       "    .dataframe thead th {\n",
       "        text-align: right;\n",
       "    }\n",
       "</style>\n",
       "<table border=\"1\" class=\"dataframe\">\n",
       "  <thead>\n",
       "    <tr style=\"text-align: right;\">\n",
       "      <th></th>\n",
       "      <th>prompt</th>\n",
       "      <th>answer</th>\n",
       "    </tr>\n",
       "  </thead>\n",
       "  <tbody>\n",
       "    <tr>\n",
       "      <th>count</th>\n",
       "      <td>82680</td>\n",
       "      <td>82680</td>\n",
       "    </tr>\n",
       "    <tr>\n",
       "      <th>unique</th>\n",
       "      <td>82335</td>\n",
       "      <td>3634</td>\n",
       "    </tr>\n",
       "    <tr>\n",
       "      <th>top</th>\n",
       "      <td>Title\\tLaTeX Author Guidelines for CVPR Procee...</td>\n",
       "      <td>unanswerable</td>\n",
       "    </tr>\n",
       "    <tr>\n",
       "      <th>freq</th>\n",
       "      <td>5</td>\n",
       "      <td>28080</td>\n",
       "    </tr>\n",
       "  </tbody>\n",
       "</table>\n",
       "</div>"
      ],
      "text/plain": [
       "                                                   prompt        answer\n",
       "count                                               82680         82680\n",
       "unique                                              82335          3634\n",
       "top     Title\\tLaTeX Author Guidelines for CVPR Procee...  unanswerable\n",
       "freq                                                    5         28080"
      ]
     },
     "metadata": {},
     "output_type": "display_data"
    },
    {
     "name": "stdout",
     "output_type": "stream",
     "text": [
      "df_dev_f1_all_templates describe: \n"
     ]
    },
    {
     "data": {
      "text/html": [
       "<div>\n",
       "<style scoped>\n",
       "    .dataframe tbody tr th:only-of-type {\n",
       "        vertical-align: middle;\n",
       "    }\n",
       "\n",
       "    .dataframe tbody tr th {\n",
       "        vertical-align: top;\n",
       "    }\n",
       "\n",
       "    .dataframe thead th {\n",
       "        text-align: right;\n",
       "    }\n",
       "</style>\n",
       "<table border=\"1\" class=\"dataframe\">\n",
       "  <thead>\n",
       "    <tr style=\"text-align: right;\">\n",
       "      <th></th>\n",
       "      <th>prompt</th>\n",
       "      <th>answer</th>\n",
       "    </tr>\n",
       "  </thead>\n",
       "  <tbody>\n",
       "    <tr>\n",
       "      <th>count</th>\n",
       "      <td>35295</td>\n",
       "      <td>35295</td>\n",
       "    </tr>\n",
       "    <tr>\n",
       "      <th>unique</th>\n",
       "      <td>35145</td>\n",
       "      <td>1549</td>\n",
       "    </tr>\n",
       "    <tr>\n",
       "      <th>top</th>\n",
       "      <td>Read this: Title\\tLaTeX Author Guidelines for ...</td>\n",
       "      <td>unanswerable</td>\n",
       "    </tr>\n",
       "    <tr>\n",
       "      <th>freq</th>\n",
       "      <td>5</td>\n",
       "      <td>12060</td>\n",
       "    </tr>\n",
       "  </tbody>\n",
       "</table>\n",
       "</div>"
      ],
      "text/plain": [
       "                                                   prompt        answer\n",
       "count                                               35295         35295\n",
       "unique                                              35145          1549\n",
       "top     Read this: Title\\tLaTeX Author Guidelines for ...  unanswerable\n",
       "freq                                                    5         12060"
      ]
     },
     "metadata": {},
     "output_type": "display_data"
    },
    {
     "name": "stdout",
     "output_type": "stream",
     "text": [
      "df_train_f2_all_templates describe: \n"
     ]
    },
    {
     "data": {
      "text/html": [
       "<div>\n",
       "<style scoped>\n",
       "    .dataframe tbody tr th:only-of-type {\n",
       "        vertical-align: middle;\n",
       "    }\n",
       "\n",
       "    .dataframe tbody tr th {\n",
       "        vertical-align: top;\n",
       "    }\n",
       "\n",
       "    .dataframe thead th {\n",
       "        text-align: right;\n",
       "    }\n",
       "</style>\n",
       "<table border=\"1\" class=\"dataframe\">\n",
       "  <thead>\n",
       "    <tr style=\"text-align: right;\">\n",
       "      <th></th>\n",
       "      <th>prompt</th>\n",
       "      <th>answer</th>\n",
       "    </tr>\n",
       "  </thead>\n",
       "  <tbody>\n",
       "    <tr>\n",
       "      <th>count</th>\n",
       "      <td>82695</td>\n",
       "      <td>82695</td>\n",
       "    </tr>\n",
       "    <tr>\n",
       "      <th>unique</th>\n",
       "      <td>82260</td>\n",
       "      <td>3637</td>\n",
       "    </tr>\n",
       "    <tr>\n",
       "      <th>top</th>\n",
       "      <td>Title\\tLaTeX Author Guidelines for CVPR Procee...</td>\n",
       "      <td>unanswerable</td>\n",
       "    </tr>\n",
       "    <tr>\n",
       "      <th>freq</th>\n",
       "      <td>6</td>\n",
       "      <td>28080</td>\n",
       "    </tr>\n",
       "  </tbody>\n",
       "</table>\n",
       "</div>"
      ],
      "text/plain": [
       "                                                   prompt        answer\n",
       "count                                               82695         82695\n",
       "unique                                              82260          3637\n",
       "top     Title\\tLaTeX Author Guidelines for CVPR Procee...  unanswerable\n",
       "freq                                                    6         28080"
      ]
     },
     "metadata": {},
     "output_type": "display_data"
    },
    {
     "name": "stdout",
     "output_type": "stream",
     "text": [
      "df_dev_f2_all_templates describe: \n"
     ]
    },
    {
     "data": {
      "text/html": [
       "<div>\n",
       "<style scoped>\n",
       "    .dataframe tbody tr th:only-of-type {\n",
       "        vertical-align: middle;\n",
       "    }\n",
       "\n",
       "    .dataframe tbody tr th {\n",
       "        vertical-align: top;\n",
       "    }\n",
       "\n",
       "    .dataframe thead th {\n",
       "        text-align: right;\n",
       "    }\n",
       "</style>\n",
       "<table border=\"1\" class=\"dataframe\">\n",
       "  <thead>\n",
       "    <tr style=\"text-align: right;\">\n",
       "      <th></th>\n",
       "      <th>prompt</th>\n",
       "      <th>answer</th>\n",
       "    </tr>\n",
       "  </thead>\n",
       "  <tbody>\n",
       "    <tr>\n",
       "      <th>count</th>\n",
       "      <td>35280</td>\n",
       "      <td>35280</td>\n",
       "    </tr>\n",
       "    <tr>\n",
       "      <th>unique</th>\n",
       "      <td>35205</td>\n",
       "      <td>1548</td>\n",
       "    </tr>\n",
       "    <tr>\n",
       "      <th>top</th>\n",
       "      <td>Title\\tBare Advanced Demo of IEEEtran.cls for\\...</td>\n",
       "      <td>unanswerable</td>\n",
       "    </tr>\n",
       "    <tr>\n",
       "      <th>freq</th>\n",
       "      <td>2</td>\n",
       "      <td>12060</td>\n",
       "    </tr>\n",
       "  </tbody>\n",
       "</table>\n",
       "</div>"
      ],
      "text/plain": [
       "                                                   prompt        answer\n",
       "count                                               35280         35280\n",
       "unique                                              35205          1548\n",
       "top     Title\\tBare Advanced Demo of IEEEtran.cls for\\...  unanswerable\n",
       "freq                                                    2         12060"
      ]
     },
     "metadata": {},
     "output_type": "display_data"
    }
   ],
   "source": [
    "print(\"df_train_f1_all_templates describe: \")\n",
    "display(df_train_f1_all_templates.describe())\n",
    "print(\"df_dev_f1_all_templates describe: \")\n",
    "display(df_dev_f1_all_templates.describe())\n",
    "\n",
    "print(\"df_train_f2_all_templates describe: \")\n",
    "display(df_train_f2_all_templates.describe())\n",
    "print(\"df_dev_f2_all_templates describe: \")\n",
    "display(df_dev_f2_all_templates.describe())"
   ]
  },
  {
   "cell_type": "code",
   "execution_count": 27,
   "metadata": {},
   "outputs": [
    {
     "data": {
      "text/plain": [
       "<class 'str'>    82680\n",
       "Name: answer, dtype: int64"
      ]
     },
     "execution_count": 27,
     "metadata": {},
     "output_type": "execute_result"
    }
   ],
   "source": [
    "df_train_f1_all_templates['answer'].apply(type).value_counts()\n"
   ]
  },
  {
   "cell_type": "code",
   "execution_count": 28,
   "metadata": {},
   "outputs": [
    {
     "data": {
      "text/plain": [
       "<class 'str'>    35295\n",
       "Name: answer, dtype: int64"
      ]
     },
     "execution_count": 28,
     "metadata": {},
     "output_type": "execute_result"
    }
   ],
   "source": [
    "df_dev_f1_all_templates['answer'].apply(type).value_counts()\n"
   ]
  },
  {
   "cell_type": "code",
   "execution_count": 29,
   "metadata": {},
   "outputs": [],
   "source": [
    "# df_train_f1_all_templates.to_parquet('../data/df_train_long_f1_all_templates.parquet')\n",
    "# df_dev_f1_all_templates.to_parquet('../data/df_dev_long_f1_all_templates.parquet')\n",
    "# df_train_f2_all_templates.to_parquet('../data/df_train_long_f2_all_templates.parquet')\n",
    "# df_dev_f2_all_templates.to_parquet('../data/df_dev_long_f2_all_templates.parquet')\n",
    "\n",
    "df_train_f1_all_templates.to_parquet('../data/df_train_tdms_long_summarized_f1_all_templates.parquet')\n",
    "df_dev_f1_all_templates.to_parquet('../data/df_dev_tdms_long_summarized_f1_all_templates.parquet')\n",
    "df_train_f2_all_templates.to_parquet('../data/df_train_tdms_long_summarized_f2_all_templates.parquet')\n",
    "df_dev_f2_all_templates.to_parquet('../data/df_dev_tdms_long_summarized_f2_all_templates.parquet')"
   ]
  },
  {
   "cell_type": "code",
   "execution_count": 30,
   "metadata": {},
   "outputs": [],
   "source": [
    "# df_train_f1_all_templates = pd.read_parquet('../data/df_train_f1_all_templates.parquet')\n",
    "# df_dev_f1_all_templates = pd.read_parquet('../data/df_dev_f1_all_templates.parquet')\n",
    "# df_train_f2_all_templates = pd.read_parquet('../data/df_train_f2_all_templates.parquet')\n",
    "# df_dev_f2_all_templates = pd.read_parquet('../data/df_dev_f2_all_templates.parquet')"
   ]
  },
  {
   "cell_type": "code",
   "execution_count": 31,
   "metadata": {},
   "outputs": [
    {
     "name": "stdout",
     "output_type": "stream",
     "text": [
      "Downloading and preparing dataset parquet/default to /nfs/home/kabenamualus/.cache/huggingface/datasets/parquet/default-ac107c7899e6dda8/0.0.0/14a00e99c0d15a23649d0db8944380ac81082d4b021f398733dd84f3a6c569a7...\n"
     ]
    },
    {
     "data": {
      "application/vnd.jupyter.widget-view+json": {
       "model_id": "40e97be9b0624df3a76a32b27609ad11",
       "version_major": 2,
       "version_minor": 0
      },
      "text/plain": [
       "Downloading data files:   0%|          | 0/1 [00:00<?, ?it/s]"
      ]
     },
     "metadata": {},
     "output_type": "display_data"
    },
    {
     "data": {
      "application/vnd.jupyter.widget-view+json": {
       "model_id": "68cadd7fd8f94183a23ffe0fbef53b94",
       "version_major": 2,
       "version_minor": 0
      },
      "text/plain": [
       "Extracting data files:   0%|          | 0/1 [00:00<?, ?it/s]"
      ]
     },
     "metadata": {},
     "output_type": "display_data"
    },
    {
     "data": {
      "application/vnd.jupyter.widget-view+json": {
       "model_id": "07c1931e8f2f427eb3fbed7cb00b20f3",
       "version_major": 2,
       "version_minor": 0
      },
      "text/plain": [
       "Generating train split: 0 examples [00:00, ? examples/s]"
      ]
     },
     "metadata": {},
     "output_type": "display_data"
    },
    {
     "name": "stdout",
     "output_type": "stream",
     "text": [
      "Dataset parquet downloaded and prepared to /nfs/home/kabenamualus/.cache/huggingface/datasets/parquet/default-ac107c7899e6dda8/0.0.0/14a00e99c0d15a23649d0db8944380ac81082d4b021f398733dd84f3a6c569a7. Subsequent calls will reuse this data.\n",
      "Downloading and preparing dataset parquet/default to /nfs/home/kabenamualus/.cache/huggingface/datasets/parquet/default-019016c1ed339f15/0.0.0/14a00e99c0d15a23649d0db8944380ac81082d4b021f398733dd84f3a6c569a7...\n"
     ]
    },
    {
     "data": {
      "application/vnd.jupyter.widget-view+json": {
       "model_id": "d385902b6ae0458997131c3c6b9822e6",
       "version_major": 2,
       "version_minor": 0
      },
      "text/plain": [
       "Downloading data files:   0%|          | 0/1 [00:00<?, ?it/s]"
      ]
     },
     "metadata": {},
     "output_type": "display_data"
    },
    {
     "data": {
      "application/vnd.jupyter.widget-view+json": {
       "model_id": "7311aa1be11847668d2f87f19ef8923e",
       "version_major": 2,
       "version_minor": 0
      },
      "text/plain": [
       "Extracting data files:   0%|          | 0/1 [00:00<?, ?it/s]"
      ]
     },
     "metadata": {},
     "output_type": "display_data"
    },
    {
     "data": {
      "application/vnd.jupyter.widget-view+json": {
       "model_id": "aa357f99a81e4da6a54dc24509d7be65",
       "version_major": 2,
       "version_minor": 0
      },
      "text/plain": [
       "Generating train split: 0 examples [00:00, ? examples/s]"
      ]
     },
     "metadata": {},
     "output_type": "display_data"
    },
    {
     "name": "stdout",
     "output_type": "stream",
     "text": [
      "Dataset parquet downloaded and prepared to /nfs/home/kabenamualus/.cache/huggingface/datasets/parquet/default-019016c1ed339f15/0.0.0/14a00e99c0d15a23649d0db8944380ac81082d4b021f398733dd84f3a6c569a7. Subsequent calls will reuse this data.\n",
      "Downloading and preparing dataset parquet/default to /nfs/home/kabenamualus/.cache/huggingface/datasets/parquet/default-cab000074a3fedd8/0.0.0/14a00e99c0d15a23649d0db8944380ac81082d4b021f398733dd84f3a6c569a7...\n"
     ]
    },
    {
     "data": {
      "application/vnd.jupyter.widget-view+json": {
       "model_id": "fa6456d157d54f5b9bcf72da6efe37f4",
       "version_major": 2,
       "version_minor": 0
      },
      "text/plain": [
       "Downloading data files:   0%|          | 0/1 [00:00<?, ?it/s]"
      ]
     },
     "metadata": {},
     "output_type": "display_data"
    },
    {
     "data": {
      "application/vnd.jupyter.widget-view+json": {
       "model_id": "0c15fe00028f4e319998be0da3072982",
       "version_major": 2,
       "version_minor": 0
      },
      "text/plain": [
       "Extracting data files:   0%|          | 0/1 [00:00<?, ?it/s]"
      ]
     },
     "metadata": {},
     "output_type": "display_data"
    },
    {
     "data": {
      "application/vnd.jupyter.widget-view+json": {
       "model_id": "9c5b8e5748654d95b6b8f201539bc4e9",
       "version_major": 2,
       "version_minor": 0
      },
      "text/plain": [
       "Generating train split: 0 examples [00:00, ? examples/s]"
      ]
     },
     "metadata": {},
     "output_type": "display_data"
    },
    {
     "name": "stdout",
     "output_type": "stream",
     "text": [
      "Dataset parquet downloaded and prepared to /nfs/home/kabenamualus/.cache/huggingface/datasets/parquet/default-cab000074a3fedd8/0.0.0/14a00e99c0d15a23649d0db8944380ac81082d4b021f398733dd84f3a6c569a7. Subsequent calls will reuse this data.\n",
      "Downloading and preparing dataset parquet/default to /nfs/home/kabenamualus/.cache/huggingface/datasets/parquet/default-cd61d162599e5da7/0.0.0/14a00e99c0d15a23649d0db8944380ac81082d4b021f398733dd84f3a6c569a7...\n"
     ]
    },
    {
     "data": {
      "application/vnd.jupyter.widget-view+json": {
       "model_id": "a48b7e22d7f0417d96e3467b176e63c8",
       "version_major": 2,
       "version_minor": 0
      },
      "text/plain": [
       "Downloading data files:   0%|          | 0/1 [00:00<?, ?it/s]"
      ]
     },
     "metadata": {},
     "output_type": "display_data"
    },
    {
     "data": {
      "application/vnd.jupyter.widget-view+json": {
       "model_id": "084587e71fc746cfb3fb80b041264d3d",
       "version_major": 2,
       "version_minor": 0
      },
      "text/plain": [
       "Extracting data files:   0%|          | 0/1 [00:00<?, ?it/s]"
      ]
     },
     "metadata": {},
     "output_type": "display_data"
    },
    {
     "data": {
      "application/vnd.jupyter.widget-view+json": {
       "model_id": "dc9548f158fb46d793e3c8db28763719",
       "version_major": 2,
       "version_minor": 0
      },
      "text/plain": [
       "Generating train split: 0 examples [00:00, ? examples/s]"
      ]
     },
     "metadata": {},
     "output_type": "display_data"
    },
    {
     "name": "stdout",
     "output_type": "stream",
     "text": [
      "Dataset parquet downloaded and prepared to /nfs/home/kabenamualus/.cache/huggingface/datasets/parquet/default-cd61d162599e5da7/0.0.0/14a00e99c0d15a23649d0db8944380ac81082d4b021f398733dd84f3a6c569a7. Subsequent calls will reuse this data.\n",
      "DatasetDict({\n",
      "    fold1: DatasetDict({\n",
      "        train: Dataset({\n",
      "            features: ['prompt', 'answer', '__index_level_0__'],\n",
      "            num_rows: 82680\n",
      "        })\n",
      "        validation: Dataset({\n",
      "            features: ['prompt', 'answer', '__index_level_0__'],\n",
      "            num_rows: 35295\n",
      "        })\n",
      "    })\n",
      "    fold2: DatasetDict({\n",
      "        train: Dataset({\n",
      "            features: ['prompt', 'answer', '__index_level_0__'],\n",
      "            num_rows: 82695\n",
      "        })\n",
      "        validation: Dataset({\n",
      "            features: ['prompt', 'answer', '__index_level_0__'],\n",
      "            num_rows: 35280\n",
      "        })\n",
      "    })\n",
      "})\n"
     ]
    }
   ],
   "source": [
    "# dataset_train_f1_all_templates = Dataset.from_pandas(df_train_f1_all_templates)\n",
    "# dataset_dev_f1_all_templates = Dataset.from_pandas(df_dev_f1_all_templates)\n",
    "# dataset_train_f2_all_templates = Dataset.from_pandas(df_train_f2_all_templates)\n",
    "# dataset_dev_f2_all_templates = Dataset.from_pandas(df_dev_f2_all_templates)\n",
    "\n",
    "\n",
    "\n",
    "# f1 = DatasetDict({\n",
    "#         \"train\": dataset_train_f1_all_templates,\n",
    "#         \"validation\": dataset_dev_f1_all_templates\n",
    "#     })\n",
    "# f2 = DatasetDict({\n",
    "#         \"train\": dataset_train_f2_all_templates,\n",
    "#         \"validation\": dataset_dev_f2_all_templates\n",
    "#     })\n",
    "\n",
    "# Combine into a DatasetDict\n",
    "# dataset = DatasetDict({\n",
    "#     'fold1': DatasetDict({\n",
    "#         \"train\": dataset_train_f1_all_templates,\n",
    "#         \"validation\": dataset_dev_f1_all_templates\n",
    "#     }),\n",
    "#     'fold2': DatasetDict({\n",
    "#         \"train\": dataset_train_f2_all_templates,\n",
    "#         \"validation\": dataset_dev_f2_all_templates\n",
    "#     })\n",
    "# })\n",
    "\n",
    "\n",
    "dataset = DatasetDict({\n",
    "    'fold1': DatasetDict({\n",
    "        # \"train\": Dataset.from_parquet('../data/df_train_long_f1_all_templates.parquet'),\n",
    "        # \"validation\": Dataset.from_parquet('../data/df_dev_long_f1_all_templates.parquet'),\n",
    "        \"train\": Dataset.from_parquet('../data/df_train_tdms_long_summarized_f1_all_templates.parquet'),\n",
    "        \"validation\": Dataset.from_parquet('../data/df_dev_tdms_long_summarized_f1_all_templates.parquet'),\n",
    "    }),\n",
    "    'fold2': DatasetDict({\n",
    "        # \"train\": Dataset.from_parquet('../data/df_train_long_f2_all_templates.parquet'),\n",
    "        # \"validation\": Dataset.from_parquet('../data/df_dev_long_f2_all_templates.parquet'),\n",
    "        \"train\": Dataset.from_parquet('../data/df_train_tdms_long_summarized_f2_all_templates.parquet'),\n",
    "        \"validation\": Dataset.from_parquet('../data/df_dev_tdms_long_summarized_f2_all_templates.parquet'),\n",
    "    })\n",
    "})\n",
    "\n",
    "# dataset_fold1 = DatasetDict({\n",
    "#     \"train\": Dataset.from_parquet('../data/df_train_f1_all_templates.parquet'),\n",
    "#     \"validation\": Dataset.from_parquet('../data/df_dev_f1_all_templates.parquet')\n",
    "#     })\n",
    "\n",
    "# dataset_fold2 =  DatasetDict({\n",
    "#     \"train\": Dataset.from_parquet('../data/df_train_f2_all_templates.parquet'),\n",
    "#     \"validation\": Dataset.from_parquet('../data/df_dev_f2_all_templates.parquet')\n",
    "#     })\n",
    "\n",
    "# dataset = DatasetDict({\n",
    "#     'fold1': f1,\n",
    "#     'fold2': f2\n",
    "# })\n",
    "\n",
    "# dataset = DatasetDict({\n",
    "#     \"train\": dataset_train_f1_all_templates,\n",
    "#     \"validation\": dataset_dev_f1_all_templates\n",
    "#     })\n",
    "\n",
    "print(dataset)\n",
    "# print(dataset_fold1)"
   ]
  },
  {
   "cell_type": "code",
   "execution_count": 32,
   "metadata": {},
   "outputs": [
    {
     "data": {
      "text/plain": [
       "datasets.dataset_dict.DatasetDict"
      ]
     },
     "execution_count": 32,
     "metadata": {},
     "output_type": "execute_result"
    }
   ],
   "source": [
    "type(dataset)"
   ]
  },
  {
   "cell_type": "code",
   "execution_count": 33,
   "metadata": {},
   "outputs": [
    {
     "data": {
      "application/vnd.jupyter.widget-view+json": {
       "model_id": "2106267d6a494d4ab36e932681115800",
       "version_major": 2,
       "version_minor": 0
      },
      "text/plain": [
       "Saving the dataset (0/5 shards):   0%|          | 0/82680 [00:00<?, ? examples/s]"
      ]
     },
     "metadata": {},
     "output_type": "display_data"
    },
    {
     "data": {
      "application/vnd.jupyter.widget-view+json": {
       "model_id": "6f6f712869c740648638619579855947",
       "version_major": 2,
       "version_minor": 0
      },
      "text/plain": [
       "Saving the dataset (0/2 shards):   0%|          | 0/35295 [00:00<?, ? examples/s]"
      ]
     },
     "metadata": {},
     "output_type": "display_data"
    },
    {
     "data": {
      "application/vnd.jupyter.widget-view+json": {
       "model_id": "85ed92e39bb3496389e3fcc01ed582fa",
       "version_major": 2,
       "version_minor": 0
      },
      "text/plain": [
       "Saving the dataset (0/5 shards):   0%|          | 0/82695 [00:00<?, ? examples/s]"
      ]
     },
     "metadata": {},
     "output_type": "display_data"
    },
    {
     "data": {
      "application/vnd.jupyter.widget-view+json": {
       "model_id": "1d2cc5b72de049ce9cdf0e5db61f8ebd",
       "version_major": 2,
       "version_minor": 0
      },
      "text/plain": [
       "Saving the dataset (0/2 shards):   0%|          | 0/35280 [00:00<?, ? examples/s]"
      ]
     },
     "metadata": {},
     "output_type": "display_data"
    }
   ],
   "source": [
    "dataset.save_to_disk(\"../data/LLLM_LONG_SUMMARIZED_TDMS_ALL_TEMPLATE\")"
   ]
  },
  {
   "cell_type": "code",
   "execution_count": 4,
   "metadata": {},
   "outputs": [],
   "source": [
    "# root_directory = \"../data/LLLM_LONG_TDM_ALL_TEMPLATE\"\n",
    "# root_directory = \"../data/LLLM_LONG_SUMMARIZED_TDMS_ALL_TEMPLATE\"\n",
    "# root_directory = \"../data/LLLM_LONG_TDM_ALL_TEMPLATE\"\n",
    "root_directory = \"../data/LLLM_LONG_SUMMARIZED_TDMS_ALL_TEMPLATE\"\n",
    "\n",
    "# reloaded_encoded_dataset = datasets.load_from_disk(\"../data/dataset/LLLM_TDMS_ALL_TEMPLATE\")\n",
    "# reloaded_encoded_dataset = DatasetDict.load_from_disk(\"../data/LLLM_TDMS_ALL_TEMPLATE\")\n",
    "\n",
    "dataset_fold1 = DatasetDict.load_from_disk(f\"{root_directory}/fold1\")\n",
    "dataset_fold2 = DatasetDict.load_from_disk(f\"{root_directory}/fold2\")"
   ]
  },
  {
   "cell_type": "code",
   "execution_count": 10,
   "metadata": {},
   "outputs": [
    {
     "data": {
      "text/plain": [
       "{'prompt': 'Local Class-Specific and Global Image-Level Generative Adversarial Networks for Semantic-Guided Scene Generation In this paper, we address the task of semantic-guided scene generation. One open challenge widely observed in global image-level generation methods is the difficulty of generating small objects and detailed local texture. To tackle this issue, in this work we consider learning the scene generation in a local context, and correspondingly design a local class-specific generative network with semantic maps as a guidance, which separately constructs and learns sub-generators concentrating on the generation of different classes, and is able to provide more scene details. To learn more discriminative class-specific feature representations for the local generation, a novel classification module is also proposed. To combine the advantage of both global image-level and the local class-specific generation, a joint generation network is designed with an attention fusion module and a dual-discriminator structure embedded. Extensive experiments on two scene image generation tasks show superior generation performance of the proposed model. State-of-the-art results are established by large margins on both tasks and on challenging public benchmarks. The source code and trained models are available at https  Table 1: Quantitative evaluation of the Dayton dataset in the a2g direction. For all metrics except KL score, higher is better. ( * ) Inception Score for real (ground truth) data is 3.8319, 2.5753 and 3.9222 for all, top-1 and top-5 setups, respectively. All SD KL SSIM PSNR Accuracy ( % ) Top - 5 Inception Score * Method Top - 1 Table 2: Quantitative evaluation of the CVUSA dataset in a2g direction. For all metrics except KL score, higher is better. ( * ) Inception Score for real (ground truth) data is 4.8741, 3.2959 and 4.9943 for all, top-1 and top-5 setups, respectively. All SD KL SSIM PSNR Accuracy ( % ) Top - 5 Inception Score * Method Top - 1 Table 3: (left) Our method significantly outperforms current leading methods in semantic segmentation scores (mIoU and Acc) and FID. (middle) User preference study. The numbers indicate the percentage\\n\\nWhat are the values for the following properties to construct a Leaderboard for the model introduced in this article: task, dataset, metric, and score?',\n",
       " 'answer': \"[{'LEADERBOARD': {'Task': 'Cross-View Image-to-Image Translation', 'Dataset': 'cvusa', 'Metric': 'KL', 'Score': '2.55'}}, {'LEADERBOARD': {'Task': 'Cross-View Image-to-Image Translation', 'Dataset': 'cvusa', 'Metric': 'PSNR', 'Score': '22.5766'}}, {'LEADERBOARD': {'Task': 'Cross-View Image-to-Image Translation', 'Dataset': 'cvusa', 'Metric': 'SD', 'Score': '19.744'}}, {'LEADERBOARD': {'Task': 'Cross-View Image-to-Image Translation', 'Dataset': 'cvusa', 'Metric': 'SSIM', 'Score': '0.5238'}}, {'LEADERBOARD': {'Task': 'Cross-View Image-to-Image Translation', 'Dataset': 'Dayton (256×256) - aerial-to-ground', 'Metric': 'KL', 'Score': '2.18'}}, {'LEADERBOARD': {'Task': 'Cross-View Image-to-Image Translation', 'Dataset': 'Dayton (256×256) - aerial-to-ground', 'Metric': 'PSNR', 'Score': '22.9949'}}, {'LEADERBOARD': {'Task': 'Cross-View Image-to-Image Translation', 'Dataset': 'Dayton (256×256) - aerial-to-ground', 'Metric': 'SD', 'Score': '19.6145'}}, {'LEADERBOARD': {'Task': 'Cross-View Image-to-Image Translation', 'Dataset': 'Dayton (256×256) - aerial-to-ground', 'Metric': 'SSIM', 'Score': '0.5457'}}]\",\n",
       " '__index_level_0__': 1900}"
      ]
     },
     "execution_count": 10,
     "metadata": {},
     "output_type": "execute_result"
    }
   ],
   "source": [
    "dataset_fold1['train'][1900]"
   ]
  },
  {
   "cell_type": "code",
   "execution_count": 6,
   "metadata": {},
   "outputs": [
    {
     "data": {
      "text/plain": [
       "82680"
      ]
     },
     "execution_count": 6,
     "metadata": {},
     "output_type": "execute_result"
    }
   ],
   "source": [
    "len(dataset_fold1['train'])"
   ]
  }
 ],
 "metadata": {
  "accelerator": "GPU",
  "colab": {
   "provenance": []
  },
  "gpuClass": "standard",
  "kernelspec": {
   "display_name": "Python 3 (ipykernel)",
   "language": "python",
   "name": "python3"
  },
  "language_info": {
   "codemirror_mode": {
    "name": "ipython",
    "version": 3
   },
   "file_extension": ".py",
   "mimetype": "text/x-python",
   "name": "python",
   "nbconvert_exporter": "python",
   "pygments_lexer": "ipython3",
   "version": "3.7.10"
  },
  "widgets": {
   "application/vnd.jupyter.widget-state+json": {
    "036d1c9003ee43acb0c2b89783ef7317": {
     "model_module": "@jupyter-widgets/base",
     "model_module_version": "1.2.0",
     "model_name": "LayoutModel",
     "state": {
      "_model_module": "@jupyter-widgets/base",
      "_model_module_version": "1.2.0",
      "_model_name": "LayoutModel",
      "_view_count": null,
      "_view_module": "@jupyter-widgets/base",
      "_view_module_version": "1.2.0",
      "_view_name": "LayoutView",
      "align_content": null,
      "align_items": null,
      "align_self": null,
      "border": null,
      "bottom": null,
      "display": null,
      "flex": null,
      "flex_flow": null,
      "grid_area": null,
      "grid_auto_columns": null,
      "grid_auto_flow": null,
      "grid_auto_rows": null,
      "grid_column": null,
      "grid_gap": null,
      "grid_row": null,
      "grid_template_areas": null,
      "grid_template_columns": null,
      "grid_template_rows": null,
      "height": null,
      "justify_content": null,
      "justify_items": null,
      "left": null,
      "margin": null,
      "max_height": null,
      "max_width": null,
      "min_height": null,
      "min_width": null,
      "object_fit": null,
      "object_position": null,
      "order": null,
      "overflow": null,
      "overflow_x": null,
      "overflow_y": null,
      "padding": null,
      "right": null,
      "top": null,
      "visibility": null,
      "width": null
     }
    },
    "04be517c49014350a3a4aed13af1beb4": {
     "model_module": "@jupyter-widgets/controls",
     "model_module_version": "1.5.0",
     "model_name": "ProgressStyleModel",
     "state": {
      "_model_module": "@jupyter-widgets/controls",
      "_model_module_version": "1.5.0",
      "_model_name": "ProgressStyleModel",
      "_view_count": null,
      "_view_module": "@jupyter-widgets/base",
      "_view_module_version": "1.2.0",
      "_view_name": "StyleView",
      "bar_color": null,
      "description_width": ""
     }
    },
    "06c39c7b19ff4102a059335937096a77": {
     "model_module": "@jupyter-widgets/base",
     "model_module_version": "1.2.0",
     "model_name": "LayoutModel",
     "state": {
      "_model_module": "@jupyter-widgets/base",
      "_model_module_version": "1.2.0",
      "_model_name": "LayoutModel",
      "_view_count": null,
      "_view_module": "@jupyter-widgets/base",
      "_view_module_version": "1.2.0",
      "_view_name": "LayoutView",
      "align_content": null,
      "align_items": null,
      "align_self": null,
      "border": null,
      "bottom": null,
      "display": null,
      "flex": null,
      "flex_flow": null,
      "grid_area": null,
      "grid_auto_columns": null,
      "grid_auto_flow": null,
      "grid_auto_rows": null,
      "grid_column": null,
      "grid_gap": null,
      "grid_row": null,
      "grid_template_areas": null,
      "grid_template_columns": null,
      "grid_template_rows": null,
      "height": null,
      "justify_content": null,
      "justify_items": null,
      "left": null,
      "margin": null,
      "max_height": null,
      "max_width": null,
      "min_height": null,
      "min_width": null,
      "object_fit": null,
      "object_position": null,
      "order": null,
      "overflow": null,
      "overflow_x": null,
      "overflow_y": null,
      "padding": null,
      "right": null,
      "top": null,
      "visibility": null,
      "width": null
     }
    },
    "07e9a50ed7014724aaf6f083e481cc01": {
     "model_module": "@jupyter-widgets/controls",
     "model_module_version": "1.5.0",
     "model_name": "HTMLModel",
     "state": {
      "_dom_classes": [],
      "_model_module": "@jupyter-widgets/controls",
      "_model_module_version": "1.5.0",
      "_model_name": "HTMLModel",
      "_view_count": null,
      "_view_module": "@jupyter-widgets/controls",
      "_view_module_version": "1.5.0",
      "_view_name": "HTMLView",
      "description": "",
      "description_tooltip": null,
      "layout": "IPY_MODEL_aaa4609ff63a4451a2f27d87265b3f71",
      "placeholder": "​",
      "style": "IPY_MODEL_e8fcd026196044a08250eeb8f0c9bdd8",
      "value": " 792k/792k [00:01&lt;00:00, 537kB/s]"
     }
    },
    "080d2b5824c340848a99a988f65199bc": {
     "model_module": "@jupyter-widgets/controls",
     "model_module_version": "1.5.0",
     "model_name": "HBoxModel",
     "state": {
      "_dom_classes": [],
      "_model_module": "@jupyter-widgets/controls",
      "_model_module_version": "1.5.0",
      "_model_name": "HBoxModel",
      "_view_count": null,
      "_view_module": "@jupyter-widgets/controls",
      "_view_module_version": "1.5.0",
      "_view_name": "HBoxView",
      "box_style": "",
      "children": [
       "IPY_MODEL_b95b3978ff674a119683e3ac0fe936e9",
       "IPY_MODEL_dfae349d2c6e4efb93933fc4c011fe97",
       "IPY_MODEL_21a2c896f1c24781b4fe5834cea2454c"
      ],
      "layout": "IPY_MODEL_ba52a3af729042e9b11f1d4e22a553eb"
     }
    },
    "0effbee2d34943fc8d6d0d3a265d0766": {
     "model_module": "@jupyter-widgets/controls",
     "model_module_version": "1.5.0",
     "model_name": "ProgressStyleModel",
     "state": {
      "_model_module": "@jupyter-widgets/controls",
      "_model_module_version": "1.5.0",
      "_model_name": "ProgressStyleModel",
      "_view_count": null,
      "_view_module": "@jupyter-widgets/base",
      "_view_module_version": "1.2.0",
      "_view_name": "StyleView",
      "bar_color": null,
      "description_width": ""
     }
    },
    "0f2ce18b656a4e7ead8774f9c28b4eda": {
     "model_module": "@jupyter-widgets/base",
     "model_module_version": "1.2.0",
     "model_name": "LayoutModel",
     "state": {
      "_model_module": "@jupyter-widgets/base",
      "_model_module_version": "1.2.0",
      "_model_name": "LayoutModel",
      "_view_count": null,
      "_view_module": "@jupyter-widgets/base",
      "_view_module_version": "1.2.0",
      "_view_name": "LayoutView",
      "align_content": null,
      "align_items": null,
      "align_self": null,
      "border": null,
      "bottom": null,
      "display": "inline-flex",
      "flex": null,
      "flex_flow": "row wrap",
      "grid_area": null,
      "grid_auto_columns": null,
      "grid_auto_flow": null,
      "grid_auto_rows": null,
      "grid_column": null,
      "grid_gap": null,
      "grid_row": null,
      "grid_template_areas": null,
      "grid_template_columns": null,
      "grid_template_rows": null,
      "height": null,
      "justify_content": null,
      "justify_items": null,
      "left": null,
      "margin": null,
      "max_height": null,
      "max_width": null,
      "min_height": null,
      "min_width": null,
      "object_fit": null,
      "object_position": null,
      "order": null,
      "overflow": null,
      "overflow_x": null,
      "overflow_y": null,
      "padding": null,
      "right": null,
      "top": null,
      "visibility": null,
      "width": "100%"
     }
    },
    "1144779119e843109365495f972af363": {
     "model_module": "@jupyter-widgets/controls",
     "model_module_version": "1.5.0",
     "model_name": "FloatProgressModel",
     "state": {
      "_dom_classes": [],
      "_model_module": "@jupyter-widgets/controls",
      "_model_module_version": "1.5.0",
      "_model_name": "FloatProgressModel",
      "_view_count": null,
      "_view_module": "@jupyter-widgets/controls",
      "_view_module_version": "1.5.0",
      "_view_name": "ProgressView",
      "bar_style": "",
      "description": "",
      "description_tooltip": null,
      "layout": "IPY_MODEL_68df245747594d27b8db61a63ea30b36",
      "max": 2,
      "min": 0,
      "orientation": "horizontal",
      "style": "IPY_MODEL_4ea5fb72af6e46438af4ad47cbbd32d2",
      "value": 2
     }
    },
    "13466f14b2484f7dbfd7ffe2ecc395f7": {
     "model_module": "@jupyter-widgets/base",
     "model_module_version": "1.2.0",
     "model_name": "LayoutModel",
     "state": {
      "_model_module": "@jupyter-widgets/base",
      "_model_module_version": "1.2.0",
      "_model_name": "LayoutModel",
      "_view_count": null,
      "_view_module": "@jupyter-widgets/base",
      "_view_module_version": "1.2.0",
      "_view_name": "LayoutView",
      "align_content": null,
      "align_items": null,
      "align_self": null,
      "border": null,
      "bottom": null,
      "display": "inline-flex",
      "flex": null,
      "flex_flow": "row wrap",
      "grid_area": null,
      "grid_auto_columns": null,
      "grid_auto_flow": null,
      "grid_auto_rows": null,
      "grid_column": null,
      "grid_gap": null,
      "grid_row": null,
      "grid_template_areas": null,
      "grid_template_columns": null,
      "grid_template_rows": null,
      "height": null,
      "justify_content": null,
      "justify_items": null,
      "left": null,
      "margin": null,
      "max_height": null,
      "max_width": null,
      "min_height": null,
      "min_width": null,
      "object_fit": null,
      "object_position": null,
      "order": null,
      "overflow": null,
      "overflow_x": null,
      "overflow_y": null,
      "padding": null,
      "right": null,
      "top": null,
      "visibility": "hidden",
      "width": "100%"
     }
    },
    "13f3d839ed0249c082da5c8da1ebd386": {
     "model_module": "@jupyter-widgets/controls",
     "model_module_version": "1.5.0",
     "model_name": "FloatProgressModel",
     "state": {
      "_dom_classes": [],
      "_model_module": "@jupyter-widgets/controls",
      "_model_module_version": "1.5.0",
      "_model_name": "FloatProgressModel",
      "_view_count": null,
      "_view_module": "@jupyter-widgets/controls",
      "_view_module_version": "1.5.0",
      "_view_name": "ProgressView",
      "bar_style": "",
      "description": "",
      "description_tooltip": null,
      "layout": "IPY_MODEL_ee070df2cc9b42d6891e5ae557040066",
      "max": 500,
      "min": 0,
      "orientation": "horizontal",
      "style": "IPY_MODEL_a926a4c6b7f345b2a021410743ed5d53",
      "value": 500
     }
    },
    "1572ca2178b64d0d9accd4c7620d0f96": {
     "model_module": "@jupyter-widgets/base",
     "model_module_version": "1.2.0",
     "model_name": "LayoutModel",
     "state": {
      "_model_module": "@jupyter-widgets/base",
      "_model_module_version": "1.2.0",
      "_model_name": "LayoutModel",
      "_view_count": null,
      "_view_module": "@jupyter-widgets/base",
      "_view_module_version": "1.2.0",
      "_view_name": "LayoutView",
      "align_content": null,
      "align_items": null,
      "align_self": null,
      "border": null,
      "bottom": null,
      "display": null,
      "flex": null,
      "flex_flow": null,
      "grid_area": null,
      "grid_auto_columns": null,
      "grid_auto_flow": null,
      "grid_auto_rows": null,
      "grid_column": null,
      "grid_gap": null,
      "grid_row": null,
      "grid_template_areas": null,
      "grid_template_columns": null,
      "grid_template_rows": null,
      "height": null,
      "justify_content": null,
      "justify_items": null,
      "left": null,
      "margin": null,
      "max_height": null,
      "max_width": null,
      "min_height": null,
      "min_width": null,
      "object_fit": null,
      "object_position": null,
      "order": null,
      "overflow": null,
      "overflow_x": null,
      "overflow_y": null,
      "padding": null,
      "right": null,
      "top": null,
      "visibility": null,
      "width": null
     }
    },
    "16f0f99dbcfa4ff8b459aa5d3d9c74cd": {
     "model_module": "@jupyter-widgets/controls",
     "model_module_version": "1.5.0",
     "model_name": "DescriptionStyleModel",
     "state": {
      "_model_module": "@jupyter-widgets/controls",
      "_model_module_version": "1.5.0",
      "_model_name": "DescriptionStyleModel",
      "_view_count": null,
      "_view_module": "@jupyter-widgets/base",
      "_view_module_version": "1.2.0",
      "_view_name": "StyleView",
      "description_width": ""
     }
    },
    "170cc57e9f92469597b6aab8962a8ce3": {
     "model_module": "@jupyter-widgets/controls",
     "model_module_version": "1.5.0",
     "model_name": "DescriptionStyleModel",
     "state": {
      "_model_module": "@jupyter-widgets/controls",
      "_model_module_version": "1.5.0",
      "_model_name": "DescriptionStyleModel",
      "_view_count": null,
      "_view_module": "@jupyter-widgets/base",
      "_view_module_version": "1.2.0",
      "_view_name": "StyleView",
      "description_width": ""
     }
    },
    "1c607df922234a20b8f72f92b965c452": {
     "model_module": "@jupyter-widgets/controls",
     "model_module_version": "1.5.0",
     "model_name": "DescriptionStyleModel",
     "state": {
      "_model_module": "@jupyter-widgets/controls",
      "_model_module_version": "1.5.0",
      "_model_name": "DescriptionStyleModel",
      "_view_count": null,
      "_view_module": "@jupyter-widgets/base",
      "_view_module_version": "1.2.0",
      "_view_name": "StyleView",
      "description_width": ""
     }
    },
    "1e915a28fc764077977f06cf12c95c04": {
     "model_module": "@jupyter-widgets/base",
     "model_module_version": "1.2.0",
     "model_name": "LayoutModel",
     "state": {
      "_model_module": "@jupyter-widgets/base",
      "_model_module_version": "1.2.0",
      "_model_name": "LayoutModel",
      "_view_count": null,
      "_view_module": "@jupyter-widgets/base",
      "_view_module_version": "1.2.0",
      "_view_name": "LayoutView",
      "align_content": null,
      "align_items": null,
      "align_self": null,
      "border": null,
      "bottom": null,
      "display": null,
      "flex": null,
      "flex_flow": null,
      "grid_area": null,
      "grid_auto_columns": null,
      "grid_auto_flow": null,
      "grid_auto_rows": null,
      "grid_column": null,
      "grid_gap": null,
      "grid_row": null,
      "grid_template_areas": null,
      "grid_template_columns": null,
      "grid_template_rows": null,
      "height": null,
      "justify_content": null,
      "justify_items": null,
      "left": null,
      "margin": null,
      "max_height": null,
      "max_width": null,
      "min_height": null,
      "min_width": null,
      "object_fit": null,
      "object_position": null,
      "order": null,
      "overflow": null,
      "overflow_x": null,
      "overflow_y": null,
      "padding": null,
      "right": null,
      "top": null,
      "visibility": null,
      "width": null
     }
    },
    "21a2c896f1c24781b4fe5834cea2454c": {
     "model_module": "@jupyter-widgets/controls",
     "model_module_version": "1.5.0",
     "model_name": "HTMLModel",
     "state": {
      "_dom_classes": [],
      "_model_module": "@jupyter-widgets/controls",
      "_model_module_version": "1.5.0",
      "_model_name": "HTMLModel",
      "_view_count": null,
      "_view_module": "@jupyter-widgets/controls",
      "_view_module_version": "1.5.0",
      "_view_name": "HTMLView",
      "description": "",
      "description_tooltip": null,
      "layout": "IPY_MODEL_b410e5b0ca02405f9d71072f1e34b2ba",
      "placeholder": "​",
      "style": "IPY_MODEL_44389af5674642c1891cc2bf208838a6",
      "value": " 242M/242M [00:03&lt;00:00, 72.8MB/s]"
     }
    },
    "22702932b5dd4bdca2ca98bd75b20a93": {
     "model_module": "@jupyter-widgets/base",
     "model_module_version": "1.2.0",
     "model_name": "LayoutModel",
     "state": {
      "_model_module": "@jupyter-widgets/base",
      "_model_module_version": "1.2.0",
      "_model_name": "LayoutModel",
      "_view_count": null,
      "_view_module": "@jupyter-widgets/base",
      "_view_module_version": "1.2.0",
      "_view_name": "LayoutView",
      "align_content": null,
      "align_items": null,
      "align_self": null,
      "border": null,
      "bottom": null,
      "display": null,
      "flex": null,
      "flex_flow": null,
      "grid_area": null,
      "grid_auto_columns": null,
      "grid_auto_flow": null,
      "grid_auto_rows": null,
      "grid_column": null,
      "grid_gap": null,
      "grid_row": null,
      "grid_template_areas": null,
      "grid_template_columns": null,
      "grid_template_rows": null,
      "height": null,
      "justify_content": null,
      "justify_items": null,
      "left": null,
      "margin": null,
      "max_height": null,
      "max_width": null,
      "min_height": null,
      "min_width": null,
      "object_fit": null,
      "object_position": null,
      "order": null,
      "overflow": null,
      "overflow_x": null,
      "overflow_y": null,
      "padding": null,
      "right": null,
      "top": null,
      "visibility": null,
      "width": null
     }
    },
    "23fc564de44144718f5fd9bbe921ae80": {
     "model_module": "@jupyter-widgets/base",
     "model_module_version": "1.2.0",
     "model_name": "LayoutModel",
     "state": {
      "_model_module": "@jupyter-widgets/base",
      "_model_module_version": "1.2.0",
      "_model_name": "LayoutModel",
      "_view_count": null,
      "_view_module": "@jupyter-widgets/base",
      "_view_module_version": "1.2.0",
      "_view_name": "LayoutView",
      "align_content": null,
      "align_items": null,
      "align_self": null,
      "border": null,
      "bottom": null,
      "display": null,
      "flex": null,
      "flex_flow": null,
      "grid_area": null,
      "grid_auto_columns": null,
      "grid_auto_flow": null,
      "grid_auto_rows": null,
      "grid_column": null,
      "grid_gap": null,
      "grid_row": null,
      "grid_template_areas": null,
      "grid_template_columns": null,
      "grid_template_rows": null,
      "height": null,
      "justify_content": null,
      "justify_items": null,
      "left": null,
      "margin": null,
      "max_height": null,
      "max_width": null,
      "min_height": null,
      "min_width": null,
      "object_fit": null,
      "object_position": null,
      "order": null,
      "overflow": null,
      "overflow_x": null,
      "overflow_y": null,
      "padding": null,
      "right": null,
      "top": null,
      "visibility": null,
      "width": null
     }
    },
    "26ffcb55db4149d38c34570982fa0fca": {
     "model_module": "@jupyter-widgets/controls",
     "model_module_version": "1.5.0",
     "model_name": "ProgressStyleModel",
     "state": {
      "_model_module": "@jupyter-widgets/controls",
      "_model_module_version": "1.5.0",
      "_model_name": "ProgressStyleModel",
      "_view_count": null,
      "_view_module": "@jupyter-widgets/base",
      "_view_module_version": "1.2.0",
      "_view_name": "StyleView",
      "bar_color": null,
      "description_width": ""
     }
    },
    "2921977fec8c4f54b727f6aa12334d09": {
     "model_module": "@jupyter-widgets/controls",
     "model_module_version": "1.5.0",
     "model_name": "HTMLModel",
     "state": {
      "_dom_classes": [],
      "_model_module": "@jupyter-widgets/controls",
      "_model_module_version": "1.5.0",
      "_model_name": "HTMLModel",
      "_view_count": null,
      "_view_module": "@jupyter-widgets/controls",
      "_view_module_version": "1.5.0",
      "_view_name": "HTMLView",
      "description": "",
      "description_tooltip": null,
      "layout": "IPY_MODEL_8fb7ca7667254da58ef251e6c2e4483e",
      "placeholder": "​",
      "style": "IPY_MODEL_91f420fdfedb464a8455c52b05bbdaad",
      "value": "Downloading: 100%"
     }
    },
    "29edae08655f4c478cddb3e5441e8ae6": {
     "model_module": "@jupyter-widgets/base",
     "model_module_version": "1.2.0",
     "model_name": "LayoutModel",
     "state": {
      "_model_module": "@jupyter-widgets/base",
      "_model_module_version": "1.2.0",
      "_model_name": "LayoutModel",
      "_view_count": null,
      "_view_module": "@jupyter-widgets/base",
      "_view_module_version": "1.2.0",
      "_view_name": "LayoutView",
      "align_content": null,
      "align_items": null,
      "align_self": null,
      "border": null,
      "bottom": null,
      "display": null,
      "flex": null,
      "flex_flow": null,
      "grid_area": null,
      "grid_auto_columns": null,
      "grid_auto_flow": null,
      "grid_auto_rows": null,
      "grid_column": null,
      "grid_gap": null,
      "grid_row": null,
      "grid_template_areas": null,
      "grid_template_columns": null,
      "grid_template_rows": null,
      "height": null,
      "justify_content": null,
      "justify_items": null,
      "left": null,
      "margin": null,
      "max_height": null,
      "max_width": null,
      "min_height": null,
      "min_width": null,
      "object_fit": null,
      "object_position": null,
      "order": null,
      "overflow": null,
      "overflow_x": null,
      "overflow_y": null,
      "padding": null,
      "right": null,
      "top": null,
      "visibility": null,
      "width": null
     }
    },
    "40915c810d8e41f6a7bcc8faa84ba0bb": {
     "model_module": "@jupyter-widgets/controls",
     "model_module_version": "1.5.0",
     "model_name": "HTMLModel",
     "state": {
      "_dom_classes": [],
      "_model_module": "@jupyter-widgets/controls",
      "_model_module_version": "1.5.0",
      "_model_name": "HTMLModel",
      "_view_count": null,
      "_view_module": "@jupyter-widgets/controls",
      "_view_module_version": "1.5.0",
      "_view_name": "HTMLView",
      "description": "",
      "description_tooltip": null,
      "layout": "IPY_MODEL_7feb6429c4e24fd89aab0a3b0efd38eb",
      "placeholder": "​",
      "style": "IPY_MODEL_e88c4810f71346019c6d9765cacc3284",
      "value": " 500/500 [00:27&lt;00:00, 18.35it/s]"
     }
    },
    "44389af5674642c1891cc2bf208838a6": {
     "model_module": "@jupyter-widgets/controls",
     "model_module_version": "1.5.0",
     "model_name": "DescriptionStyleModel",
     "state": {
      "_model_module": "@jupyter-widgets/controls",
      "_model_module_version": "1.5.0",
      "_model_name": "DescriptionStyleModel",
      "_view_count": null,
      "_view_module": "@jupyter-widgets/base",
      "_view_module_version": "1.2.0",
      "_view_name": "StyleView",
      "description_width": ""
     }
    },
    "45746813cd3c4d82ada51bf58274a791": {
     "model_module": "@jupyter-widgets/controls",
     "model_module_version": "1.5.0",
     "model_name": "FloatProgressModel",
     "state": {
      "_dom_classes": [],
      "_model_module": "@jupyter-widgets/controls",
      "_model_module_version": "1.5.0",
      "_model_name": "FloatProgressModel",
      "_view_count": null,
      "_view_module": "@jupyter-widgets/controls",
      "_view_module_version": "1.5.0",
      "_view_name": "ProgressView",
      "bar_style": "",
      "description": "",
      "description_tooltip": null,
      "layout": "IPY_MODEL_b42a824910bf495289c9f56f241fc6f6",
      "max": 500,
      "min": 0,
      "orientation": "horizontal",
      "style": "IPY_MODEL_604014d142594f4f87ce70e164d94a14",
      "value": 500
     }
    },
    "4c02d0ce16fe4c6187a2c8b952e8419f": {
     "model_module": "@jupyter-widgets/controls",
     "model_module_version": "1.5.0",
     "model_name": "HTMLModel",
     "state": {
      "_dom_classes": [],
      "_model_module": "@jupyter-widgets/controls",
      "_model_module_version": "1.5.0",
      "_model_name": "HTMLModel",
      "_view_count": null,
      "_view_module": "@jupyter-widgets/controls",
      "_view_module_version": "1.5.0",
      "_view_name": "HTMLView",
      "description": "",
      "description_tooltip": null,
      "layout": "IPY_MODEL_22702932b5dd4bdca2ca98bd75b20a93",
      "placeholder": "​",
      "style": "IPY_MODEL_170cc57e9f92469597b6aab8962a8ce3",
      "value": "Downloading: 100%"
     }
    },
    "4ea5fb72af6e46438af4ad47cbbd32d2": {
     "model_module": "@jupyter-widgets/controls",
     "model_module_version": "1.5.0",
     "model_name": "ProgressStyleModel",
     "state": {
      "_model_module": "@jupyter-widgets/controls",
      "_model_module_version": "1.5.0",
      "_model_name": "ProgressStyleModel",
      "_view_count": null,
      "_view_module": "@jupyter-widgets/base",
      "_view_module_version": "1.2.0",
      "_view_name": "StyleView",
      "bar_color": null,
      "description_width": ""
     }
    },
    "4f45cc2640f44395a635a928f6d2f4f6": {
     "model_module": "@jupyter-widgets/controls",
     "model_module_version": "1.5.0",
     "model_name": "HBoxModel",
     "state": {
      "_dom_classes": [],
      "_model_module": "@jupyter-widgets/controls",
      "_model_module_version": "1.5.0",
      "_model_name": "HBoxModel",
      "_view_count": null,
      "_view_module": "@jupyter-widgets/controls",
      "_view_module_version": "1.5.0",
      "_view_name": "HBoxView",
      "box_style": "",
      "children": [
       "IPY_MODEL_ec023301cdad42cdabc32be9ee003f2a",
       "IPY_MODEL_cb9a3ee490e248398094c6789cc8526e",
       "IPY_MODEL_40915c810d8e41f6a7bcc8faa84ba0bb"
      ],
      "layout": "IPY_MODEL_96e050ff888943fc90182209e4d72227"
     }
    },
    "5f5740fe5a3e45289881a5ed5a498764": {
     "model_module": "@jupyter-widgets/base",
     "model_module_version": "1.2.0",
     "model_name": "LayoutModel",
     "state": {
      "_model_module": "@jupyter-widgets/base",
      "_model_module_version": "1.2.0",
      "_model_name": "LayoutModel",
      "_view_count": null,
      "_view_module": "@jupyter-widgets/base",
      "_view_module_version": "1.2.0",
      "_view_name": "LayoutView",
      "align_content": null,
      "align_items": null,
      "align_self": null,
      "border": null,
      "bottom": null,
      "display": null,
      "flex": "2",
      "flex_flow": null,
      "grid_area": null,
      "grid_auto_columns": null,
      "grid_auto_flow": null,
      "grid_auto_rows": null,
      "grid_column": null,
      "grid_gap": null,
      "grid_row": null,
      "grid_template_areas": null,
      "grid_template_columns": null,
      "grid_template_rows": null,
      "height": null,
      "justify_content": null,
      "justify_items": null,
      "left": null,
      "margin": null,
      "max_height": null,
      "max_width": null,
      "min_height": null,
      "min_width": null,
      "object_fit": null,
      "object_position": null,
      "order": null,
      "overflow": null,
      "overflow_x": null,
      "overflow_y": null,
      "padding": null,
      "right": null,
      "top": null,
      "visibility": null,
      "width": null
     }
    },
    "604014d142594f4f87ce70e164d94a14": {
     "model_module": "@jupyter-widgets/controls",
     "model_module_version": "1.5.0",
     "model_name": "ProgressStyleModel",
     "state": {
      "_model_module": "@jupyter-widgets/controls",
      "_model_module_version": "1.5.0",
      "_model_name": "ProgressStyleModel",
      "_view_count": null,
      "_view_module": "@jupyter-widgets/base",
      "_view_module_version": "1.2.0",
      "_view_name": "StyleView",
      "bar_color": null,
      "description_width": ""
     }
    },
    "6519d08cb83a4e7386bdda75f8f16861": {
     "model_module": "@jupyter-widgets/controls",
     "model_module_version": "1.5.0",
     "model_name": "DescriptionStyleModel",
     "state": {
      "_model_module": "@jupyter-widgets/controls",
      "_model_module_version": "1.5.0",
      "_model_name": "DescriptionStyleModel",
      "_view_count": null,
      "_view_module": "@jupyter-widgets/base",
      "_view_module_version": "1.2.0",
      "_view_name": "StyleView",
      "description_width": ""
     }
    },
    "68df245747594d27b8db61a63ea30b36": {
     "model_module": "@jupyter-widgets/base",
     "model_module_version": "1.2.0",
     "model_name": "LayoutModel",
     "state": {
      "_model_module": "@jupyter-widgets/base",
      "_model_module_version": "1.2.0",
      "_model_name": "LayoutModel",
      "_view_count": null,
      "_view_module": "@jupyter-widgets/base",
      "_view_module_version": "1.2.0",
      "_view_name": "LayoutView",
      "align_content": null,
      "align_items": null,
      "align_self": null,
      "border": null,
      "bottom": null,
      "display": null,
      "flex": "2",
      "flex_flow": null,
      "grid_area": null,
      "grid_auto_columns": null,
      "grid_auto_flow": null,
      "grid_auto_rows": null,
      "grid_column": null,
      "grid_gap": null,
      "grid_row": null,
      "grid_template_areas": null,
      "grid_template_columns": null,
      "grid_template_rows": null,
      "height": null,
      "justify_content": null,
      "justify_items": null,
      "left": null,
      "margin": null,
      "max_height": null,
      "max_width": null,
      "min_height": null,
      "min_width": null,
      "object_fit": null,
      "object_position": null,
      "order": null,
      "overflow": null,
      "overflow_x": null,
      "overflow_y": null,
      "padding": null,
      "right": null,
      "top": null,
      "visibility": null,
      "width": null
     }
    },
    "6c2c9da14016449a8c13e08b395f7b23": {
     "model_module": "@jupyter-widgets/controls",
     "model_module_version": "1.5.0",
     "model_name": "DescriptionStyleModel",
     "state": {
      "_model_module": "@jupyter-widgets/controls",
      "_model_module_version": "1.5.0",
      "_model_name": "DescriptionStyleModel",
      "_view_count": null,
      "_view_module": "@jupyter-widgets/base",
      "_view_module_version": "1.2.0",
      "_view_name": "StyleView",
      "description_width": ""
     }
    },
    "6cd3ede915c84c629bf46d234388b02c": {
     "model_module": "@jupyter-widgets/controls",
     "model_module_version": "1.5.0",
     "model_name": "HTMLModel",
     "state": {
      "_dom_classes": [],
      "_model_module": "@jupyter-widgets/controls",
      "_model_module_version": "1.5.0",
      "_model_name": "HTMLModel",
      "_view_count": null,
      "_view_module": "@jupyter-widgets/controls",
      "_view_module_version": "1.5.0",
      "_view_name": "HTMLView",
      "description": "",
      "description_tooltip": null,
      "layout": "IPY_MODEL_cbad20d361c6425cbb716354a9e8d328",
      "placeholder": "​",
      "style": "IPY_MODEL_96a9941107bd4e9b984755365e80df22",
      "value": " 500/500 [00:27&lt;00:00, 18.43it/s]"
     }
    },
    "6f01127a146d443a973c0c3674663559": {
     "model_module": "@jupyter-widgets/controls",
     "model_module_version": "1.5.0",
     "model_name": "HBoxModel",
     "state": {
      "_dom_classes": [],
      "_model_module": "@jupyter-widgets/controls",
      "_model_module_version": "1.5.0",
      "_model_name": "HBoxModel",
      "_view_count": null,
      "_view_module": "@jupyter-widgets/controls",
      "_view_module_version": "1.5.0",
      "_view_name": "HBoxView",
      "box_style": "",
      "children": [
       "IPY_MODEL_fc6fda81438846b8bd09a059bc0b5553",
       "IPY_MODEL_45746813cd3c4d82ada51bf58274a791",
       "IPY_MODEL_6cd3ede915c84c629bf46d234388b02c"
      ],
      "layout": "IPY_MODEL_13466f14b2484f7dbfd7ffe2ecc395f7"
     }
    },
    "71b01ab113c341fc8e4c8a2e36f336f9": {
     "model_module": "@jupyter-widgets/controls",
     "model_module_version": "1.5.0",
     "model_name": "HTMLModel",
     "state": {
      "_dom_classes": [],
      "_model_module": "@jupyter-widgets/controls",
      "_model_module_version": "1.5.0",
      "_model_name": "HTMLModel",
      "_view_count": null,
      "_view_module": "@jupyter-widgets/controls",
      "_view_module_version": "1.5.0",
      "_view_name": "HTMLView",
      "description": "",
      "description_tooltip": null,
      "layout": "IPY_MODEL_1e915a28fc764077977f06cf12c95c04",
      "placeholder": "​",
      "style": "IPY_MODEL_bffcb591f4d74ebab31550f134f89dca",
      "value": "Validation DataLoader 0: 100%"
     }
    },
    "74f7576971d74113aa0605f41eb5fb89": {
     "model_module": "@jupyter-widgets/controls",
     "model_module_version": "1.5.0",
     "model_name": "HTMLModel",
     "state": {
      "_dom_classes": [],
      "_model_module": "@jupyter-widgets/controls",
      "_model_module_version": "1.5.0",
      "_model_name": "HTMLModel",
      "_view_count": null,
      "_view_module": "@jupyter-widgets/controls",
      "_view_module_version": "1.5.0",
      "_view_name": "HTMLView",
      "description": "",
      "description_tooltip": null,
      "layout": "IPY_MODEL_c69b41b3fb8748cea2e7770562b47ce3",
      "placeholder": "​",
      "style": "IPY_MODEL_a04320425bd94c79a497cc7dd9b144ce",
      "value": " 1.21k/1.21k [00:00&lt;00:00, 69.2kB/s]"
     }
    },
    "7c90ba46512d4a94a1971f5f4b4d97d8": {
     "model_module": "@jupyter-widgets/base",
     "model_module_version": "1.2.0",
     "model_name": "LayoutModel",
     "state": {
      "_model_module": "@jupyter-widgets/base",
      "_model_module_version": "1.2.0",
      "_model_name": "LayoutModel",
      "_view_count": null,
      "_view_module": "@jupyter-widgets/base",
      "_view_module_version": "1.2.0",
      "_view_name": "LayoutView",
      "align_content": null,
      "align_items": null,
      "align_self": null,
      "border": null,
      "bottom": null,
      "display": null,
      "flex": null,
      "flex_flow": null,
      "grid_area": null,
      "grid_auto_columns": null,
      "grid_auto_flow": null,
      "grid_auto_rows": null,
      "grid_column": null,
      "grid_gap": null,
      "grid_row": null,
      "grid_template_areas": null,
      "grid_template_columns": null,
      "grid_template_rows": null,
      "height": null,
      "justify_content": null,
      "justify_items": null,
      "left": null,
      "margin": null,
      "max_height": null,
      "max_width": null,
      "min_height": null,
      "min_width": null,
      "object_fit": null,
      "object_position": null,
      "order": null,
      "overflow": null,
      "overflow_x": null,
      "overflow_y": null,
      "padding": null,
      "right": null,
      "top": null,
      "visibility": null,
      "width": null
     }
    },
    "7feb6429c4e24fd89aab0a3b0efd38eb": {
     "model_module": "@jupyter-widgets/base",
     "model_module_version": "1.2.0",
     "model_name": "LayoutModel",
     "state": {
      "_model_module": "@jupyter-widgets/base",
      "_model_module_version": "1.2.0",
      "_model_name": "LayoutModel",
      "_view_count": null,
      "_view_module": "@jupyter-widgets/base",
      "_view_module_version": "1.2.0",
      "_view_name": "LayoutView",
      "align_content": null,
      "align_items": null,
      "align_self": null,
      "border": null,
      "bottom": null,
      "display": null,
      "flex": null,
      "flex_flow": null,
      "grid_area": null,
      "grid_auto_columns": null,
      "grid_auto_flow": null,
      "grid_auto_rows": null,
      "grid_column": null,
      "grid_gap": null,
      "grid_row": null,
      "grid_template_areas": null,
      "grid_template_columns": null,
      "grid_template_rows": null,
      "height": null,
      "justify_content": null,
      "justify_items": null,
      "left": null,
      "margin": null,
      "max_height": null,
      "max_width": null,
      "min_height": null,
      "min_width": null,
      "object_fit": null,
      "object_position": null,
      "order": null,
      "overflow": null,
      "overflow_x": null,
      "overflow_y": null,
      "padding": null,
      "right": null,
      "top": null,
      "visibility": null,
      "width": null
     }
    },
    "853f16aaaa5c4d13a67b143f2e946c3a": {
     "model_module": "@jupyter-widgets/controls",
     "model_module_version": "1.5.0",
     "model_name": "HTMLModel",
     "state": {
      "_dom_classes": [],
      "_model_module": "@jupyter-widgets/controls",
      "_model_module_version": "1.5.0",
      "_model_name": "HTMLModel",
      "_view_count": null,
      "_view_module": "@jupyter-widgets/controls",
      "_view_module_version": "1.5.0",
      "_view_name": "HTMLView",
      "description": "",
      "description_tooltip": null,
      "layout": "IPY_MODEL_f4a7c18179414629ab20376d4180a8a7",
      "placeholder": "​",
      "style": "IPY_MODEL_d5e1a9a72304460a9021598550913edc",
      "value": " 1000/1000 [02:05&lt;00:00,  7.96it/s, loss=1.16, v_num=2]"
     }
    },
    "8a1d7051e6ce4cbe8ad268b12751f4ab": {
     "model_module": "@jupyter-widgets/controls",
     "model_module_version": "1.5.0",
     "model_name": "HBoxModel",
     "state": {
      "_dom_classes": [],
      "_model_module": "@jupyter-widgets/controls",
      "_model_module_version": "1.5.0",
      "_model_name": "HBoxModel",
      "_view_count": null,
      "_view_module": "@jupyter-widgets/controls",
      "_view_module_version": "1.5.0",
      "_view_name": "HBoxView",
      "box_style": "",
      "children": [
       "IPY_MODEL_4c02d0ce16fe4c6187a2c8b952e8419f",
       "IPY_MODEL_cffb3f880b7f45719ad19c6fbb082948",
       "IPY_MODEL_07e9a50ed7014724aaf6f083e481cc01"
      ],
      "layout": "IPY_MODEL_23fc564de44144718f5fd9bbe921ae80"
     }
    },
    "8fb7ca7667254da58ef251e6c2e4483e": {
     "model_module": "@jupyter-widgets/base",
     "model_module_version": "1.2.0",
     "model_name": "LayoutModel",
     "state": {
      "_model_module": "@jupyter-widgets/base",
      "_model_module_version": "1.2.0",
      "_model_name": "LayoutModel",
      "_view_count": null,
      "_view_module": "@jupyter-widgets/base",
      "_view_module_version": "1.2.0",
      "_view_name": "LayoutView",
      "align_content": null,
      "align_items": null,
      "align_self": null,
      "border": null,
      "bottom": null,
      "display": null,
      "flex": null,
      "flex_flow": null,
      "grid_area": null,
      "grid_auto_columns": null,
      "grid_auto_flow": null,
      "grid_auto_rows": null,
      "grid_column": null,
      "grid_gap": null,
      "grid_row": null,
      "grid_template_areas": null,
      "grid_template_columns": null,
      "grid_template_rows": null,
      "height": null,
      "justify_content": null,
      "justify_items": null,
      "left": null,
      "margin": null,
      "max_height": null,
      "max_width": null,
      "min_height": null,
      "min_width": null,
      "object_fit": null,
      "object_position": null,
      "order": null,
      "overflow": null,
      "overflow_x": null,
      "overflow_y": null,
      "padding": null,
      "right": null,
      "top": null,
      "visibility": null,
      "width": null
     }
    },
    "91f420fdfedb464a8455c52b05bbdaad": {
     "model_module": "@jupyter-widgets/controls",
     "model_module_version": "1.5.0",
     "model_name": "DescriptionStyleModel",
     "state": {
      "_model_module": "@jupyter-widgets/controls",
      "_model_module_version": "1.5.0",
      "_model_name": "DescriptionStyleModel",
      "_view_count": null,
      "_view_module": "@jupyter-widgets/base",
      "_view_module_version": "1.2.0",
      "_view_name": "StyleView",
      "description_width": ""
     }
    },
    "93adec39ba514f24a582ddbd529e01a0": {
     "model_module": "@jupyter-widgets/controls",
     "model_module_version": "1.5.0",
     "model_name": "ProgressStyleModel",
     "state": {
      "_model_module": "@jupyter-widgets/controls",
      "_model_module_version": "1.5.0",
      "_model_name": "ProgressStyleModel",
      "_view_count": null,
      "_view_module": "@jupyter-widgets/base",
      "_view_module_version": "1.2.0",
      "_view_name": "StyleView",
      "bar_color": null,
      "description_width": ""
     }
    },
    "96a9941107bd4e9b984755365e80df22": {
     "model_module": "@jupyter-widgets/controls",
     "model_module_version": "1.5.0",
     "model_name": "DescriptionStyleModel",
     "state": {
      "_model_module": "@jupyter-widgets/controls",
      "_model_module_version": "1.5.0",
      "_model_name": "DescriptionStyleModel",
      "_view_count": null,
      "_view_module": "@jupyter-widgets/base",
      "_view_module_version": "1.2.0",
      "_view_name": "StyleView",
      "description_width": ""
     }
    },
    "96e050ff888943fc90182209e4d72227": {
     "model_module": "@jupyter-widgets/base",
     "model_module_version": "1.2.0",
     "model_name": "LayoutModel",
     "state": {
      "_model_module": "@jupyter-widgets/base",
      "_model_module_version": "1.2.0",
      "_model_name": "LayoutModel",
      "_view_count": null,
      "_view_module": "@jupyter-widgets/base",
      "_view_module_version": "1.2.0",
      "_view_name": "LayoutView",
      "align_content": null,
      "align_items": null,
      "align_self": null,
      "border": null,
      "bottom": null,
      "display": "inline-flex",
      "flex": null,
      "flex_flow": "row wrap",
      "grid_area": null,
      "grid_auto_columns": null,
      "grid_auto_flow": null,
      "grid_auto_rows": null,
      "grid_column": null,
      "grid_gap": null,
      "grid_row": null,
      "grid_template_areas": null,
      "grid_template_columns": null,
      "grid_template_rows": null,
      "height": null,
      "justify_content": null,
      "justify_items": null,
      "left": null,
      "margin": null,
      "max_height": null,
      "max_width": null,
      "min_height": null,
      "min_width": null,
      "object_fit": null,
      "object_position": null,
      "order": null,
      "overflow": null,
      "overflow_x": null,
      "overflow_y": null,
      "padding": null,
      "right": null,
      "top": null,
      "visibility": "hidden",
      "width": "100%"
     }
    },
    "9ab910f3fc8540f591c0db3dffc74cb5": {
     "model_module": "@jupyter-widgets/controls",
     "model_module_version": "1.5.0",
     "model_name": "HTMLModel",
     "state": {
      "_dom_classes": [],
      "_model_module": "@jupyter-widgets/controls",
      "_model_module_version": "1.5.0",
      "_model_name": "HTMLModel",
      "_view_count": null,
      "_view_module": "@jupyter-widgets/controls",
      "_view_module_version": "1.5.0",
      "_view_name": "HTMLView",
      "description": "",
      "description_tooltip": null,
      "layout": "IPY_MODEL_bb3484e0e3d14bd7b8b7b0163fc6c81a",
      "placeholder": "​",
      "style": "IPY_MODEL_6519d08cb83a4e7386bdda75f8f16861",
      "value": " 2/2 [00:00&lt;00:00, 23.71it/s]"
     }
    },
    "9cfda34969e044acb3368d547caf95ef": {
     "model_module": "@jupyter-widgets/controls",
     "model_module_version": "1.5.0",
     "model_name": "HTMLModel",
     "state": {
      "_dom_classes": [],
      "_model_module": "@jupyter-widgets/controls",
      "_model_module_version": "1.5.0",
      "_model_name": "HTMLModel",
      "_view_count": null,
      "_view_module": "@jupyter-widgets/controls",
      "_view_module_version": "1.5.0",
      "_view_name": "HTMLView",
      "description": "",
      "description_tooltip": null,
      "layout": "IPY_MODEL_c2b40eec0a5d4ec189a327d95a1cfd90",
      "placeholder": "​",
      "style": "IPY_MODEL_f9fe48215ce14b91b0a57cd3c7096334",
      "value": "Sanity Checking DataLoader 0: 100%"
     }
    },
    "9d8a386189cc4a9c81b836fb41fa4f64": {
     "model_module": "@jupyter-widgets/controls",
     "model_module_version": "1.5.0",
     "model_name": "HTMLModel",
     "state": {
      "_dom_classes": [],
      "_model_module": "@jupyter-widgets/controls",
      "_model_module_version": "1.5.0",
      "_model_name": "HTMLModel",
      "_view_count": null,
      "_view_module": "@jupyter-widgets/controls",
      "_view_module_version": "1.5.0",
      "_view_name": "HTMLView",
      "description": "",
      "description_tooltip": null,
      "layout": "IPY_MODEL_29edae08655f4c478cddb3e5441e8ae6",
      "placeholder": "​",
      "style": "IPY_MODEL_de53a4b226e541d28da4547ac58579ff",
      "value": "Epoch 2: 100%"
     }
    },
    "9d96616dfac14f2d8535a07cc5e13711": {
     "model_module": "@jupyter-widgets/controls",
     "model_module_version": "1.5.0",
     "model_name": "HBoxModel",
     "state": {
      "_dom_classes": [],
      "_model_module": "@jupyter-widgets/controls",
      "_model_module_version": "1.5.0",
      "_model_name": "HBoxModel",
      "_view_count": null,
      "_view_module": "@jupyter-widgets/controls",
      "_view_module_version": "1.5.0",
      "_view_name": "HBoxView",
      "box_style": "",
      "children": [
       "IPY_MODEL_71b01ab113c341fc8e4c8a2e36f336f9",
       "IPY_MODEL_13f3d839ed0249c082da5c8da1ebd386",
       "IPY_MODEL_ab368c585dfa4b9ab4f97c7cd9d52f77"
      ],
      "layout": "IPY_MODEL_fdda03cbcaae4da1815b38ba5d40a7f0"
     }
    },
    "a04320425bd94c79a497cc7dd9b144ce": {
     "model_module": "@jupyter-widgets/controls",
     "model_module_version": "1.5.0",
     "model_name": "DescriptionStyleModel",
     "state": {
      "_model_module": "@jupyter-widgets/controls",
      "_model_module_version": "1.5.0",
      "_model_name": "DescriptionStyleModel",
      "_view_count": null,
      "_view_module": "@jupyter-widgets/base",
      "_view_module_version": "1.2.0",
      "_view_name": "StyleView",
      "description_width": ""
     }
    },
    "a926a4c6b7f345b2a021410743ed5d53": {
     "model_module": "@jupyter-widgets/controls",
     "model_module_version": "1.5.0",
     "model_name": "ProgressStyleModel",
     "state": {
      "_model_module": "@jupyter-widgets/controls",
      "_model_module_version": "1.5.0",
      "_model_name": "ProgressStyleModel",
      "_view_count": null,
      "_view_module": "@jupyter-widgets/base",
      "_view_module_version": "1.2.0",
      "_view_name": "StyleView",
      "bar_color": null,
      "description_width": ""
     }
    },
    "aa8d3f0d5edc43519b03b9360708f8b2": {
     "model_module": "@jupyter-widgets/base",
     "model_module_version": "1.2.0",
     "model_name": "LayoutModel",
     "state": {
      "_model_module": "@jupyter-widgets/base",
      "_model_module_version": "1.2.0",
      "_model_name": "LayoutModel",
      "_view_count": null,
      "_view_module": "@jupyter-widgets/base",
      "_view_module_version": "1.2.0",
      "_view_name": "LayoutView",
      "align_content": null,
      "align_items": null,
      "align_self": null,
      "border": null,
      "bottom": null,
      "display": null,
      "flex": null,
      "flex_flow": null,
      "grid_area": null,
      "grid_auto_columns": null,
      "grid_auto_flow": null,
      "grid_auto_rows": null,
      "grid_column": null,
      "grid_gap": null,
      "grid_row": null,
      "grid_template_areas": null,
      "grid_template_columns": null,
      "grid_template_rows": null,
      "height": null,
      "justify_content": null,
      "justify_items": null,
      "left": null,
      "margin": null,
      "max_height": null,
      "max_width": null,
      "min_height": null,
      "min_width": null,
      "object_fit": null,
      "object_position": null,
      "order": null,
      "overflow": null,
      "overflow_x": null,
      "overflow_y": null,
      "padding": null,
      "right": null,
      "top": null,
      "visibility": null,
      "width": null
     }
    },
    "aaa4609ff63a4451a2f27d87265b3f71": {
     "model_module": "@jupyter-widgets/base",
     "model_module_version": "1.2.0",
     "model_name": "LayoutModel",
     "state": {
      "_model_module": "@jupyter-widgets/base",
      "_model_module_version": "1.2.0",
      "_model_name": "LayoutModel",
      "_view_count": null,
      "_view_module": "@jupyter-widgets/base",
      "_view_module_version": "1.2.0",
      "_view_name": "LayoutView",
      "align_content": null,
      "align_items": null,
      "align_self": null,
      "border": null,
      "bottom": null,
      "display": null,
      "flex": null,
      "flex_flow": null,
      "grid_area": null,
      "grid_auto_columns": null,
      "grid_auto_flow": null,
      "grid_auto_rows": null,
      "grid_column": null,
      "grid_gap": null,
      "grid_row": null,
      "grid_template_areas": null,
      "grid_template_columns": null,
      "grid_template_rows": null,
      "height": null,
      "justify_content": null,
      "justify_items": null,
      "left": null,
      "margin": null,
      "max_height": null,
      "max_width": null,
      "min_height": null,
      "min_width": null,
      "object_fit": null,
      "object_position": null,
      "order": null,
      "overflow": null,
      "overflow_x": null,
      "overflow_y": null,
      "padding": null,
      "right": null,
      "top": null,
      "visibility": null,
      "width": null
     }
    },
    "ab368c585dfa4b9ab4f97c7cd9d52f77": {
     "model_module": "@jupyter-widgets/controls",
     "model_module_version": "1.5.0",
     "model_name": "HTMLModel",
     "state": {
      "_dom_classes": [],
      "_model_module": "@jupyter-widgets/controls",
      "_model_module_version": "1.5.0",
      "_model_name": "HTMLModel",
      "_view_count": null,
      "_view_module": "@jupyter-widgets/controls",
      "_view_module_version": "1.5.0",
      "_view_name": "HTMLView",
      "description": "",
      "description_tooltip": null,
      "layout": "IPY_MODEL_1572ca2178b64d0d9accd4c7620d0f96",
      "placeholder": "​",
      "style": "IPY_MODEL_c5ae98203edb4bdb83443d3f05b08247",
      "value": " 500/500 [00:27&lt;00:00, 18.34it/s]"
     }
    },
    "ae41b724aa4f469f8c408848d2a9de1f": {
     "model_module": "@jupyter-widgets/controls",
     "model_module_version": "1.5.0",
     "model_name": "FloatProgressModel",
     "state": {
      "_dom_classes": [],
      "_model_module": "@jupyter-widgets/controls",
      "_model_module_version": "1.5.0",
      "_model_name": "FloatProgressModel",
      "_view_count": null,
      "_view_module": "@jupyter-widgets/controls",
      "_view_module_version": "1.5.0",
      "_view_name": "ProgressView",
      "bar_style": "success",
      "description": "",
      "description_tooltip": null,
      "layout": "IPY_MODEL_fccbbd51784e428697cd8a47d9b94317",
      "max": 1206,
      "min": 0,
      "orientation": "horizontal",
      "style": "IPY_MODEL_04be517c49014350a3a4aed13af1beb4",
      "value": 1206
     }
    },
    "afa135917c1f4273bfdcc9e6f8c56683": {
     "model_module": "@jupyter-widgets/base",
     "model_module_version": "1.2.0",
     "model_name": "LayoutModel",
     "state": {
      "_model_module": "@jupyter-widgets/base",
      "_model_module_version": "1.2.0",
      "_model_name": "LayoutModel",
      "_view_count": null,
      "_view_module": "@jupyter-widgets/base",
      "_view_module_version": "1.2.0",
      "_view_name": "LayoutView",
      "align_content": null,
      "align_items": null,
      "align_self": null,
      "border": null,
      "bottom": null,
      "display": "inline-flex",
      "flex": null,
      "flex_flow": "row wrap",
      "grid_area": null,
      "grid_auto_columns": null,
      "grid_auto_flow": null,
      "grid_auto_rows": null,
      "grid_column": null,
      "grid_gap": null,
      "grid_row": null,
      "grid_template_areas": null,
      "grid_template_columns": null,
      "grid_template_rows": null,
      "height": null,
      "justify_content": null,
      "justify_items": null,
      "left": null,
      "margin": null,
      "max_height": null,
      "max_width": null,
      "min_height": null,
      "min_width": null,
      "object_fit": null,
      "object_position": null,
      "order": null,
      "overflow": null,
      "overflow_x": null,
      "overflow_y": null,
      "padding": null,
      "right": null,
      "top": null,
      "visibility": "hidden",
      "width": "100%"
     }
    },
    "b410e5b0ca02405f9d71072f1e34b2ba": {
     "model_module": "@jupyter-widgets/base",
     "model_module_version": "1.2.0",
     "model_name": "LayoutModel",
     "state": {
      "_model_module": "@jupyter-widgets/base",
      "_model_module_version": "1.2.0",
      "_model_name": "LayoutModel",
      "_view_count": null,
      "_view_module": "@jupyter-widgets/base",
      "_view_module_version": "1.2.0",
      "_view_name": "LayoutView",
      "align_content": null,
      "align_items": null,
      "align_self": null,
      "border": null,
      "bottom": null,
      "display": null,
      "flex": null,
      "flex_flow": null,
      "grid_area": null,
      "grid_auto_columns": null,
      "grid_auto_flow": null,
      "grid_auto_rows": null,
      "grid_column": null,
      "grid_gap": null,
      "grid_row": null,
      "grid_template_areas": null,
      "grid_template_columns": null,
      "grid_template_rows": null,
      "height": null,
      "justify_content": null,
      "justify_items": null,
      "left": null,
      "margin": null,
      "max_height": null,
      "max_width": null,
      "min_height": null,
      "min_width": null,
      "object_fit": null,
      "object_position": null,
      "order": null,
      "overflow": null,
      "overflow_x": null,
      "overflow_y": null,
      "padding": null,
      "right": null,
      "top": null,
      "visibility": null,
      "width": null
     }
    },
    "b42a824910bf495289c9f56f241fc6f6": {
     "model_module": "@jupyter-widgets/base",
     "model_module_version": "1.2.0",
     "model_name": "LayoutModel",
     "state": {
      "_model_module": "@jupyter-widgets/base",
      "_model_module_version": "1.2.0",
      "_model_name": "LayoutModel",
      "_view_count": null,
      "_view_module": "@jupyter-widgets/base",
      "_view_module_version": "1.2.0",
      "_view_name": "LayoutView",
      "align_content": null,
      "align_items": null,
      "align_self": null,
      "border": null,
      "bottom": null,
      "display": null,
      "flex": "2",
      "flex_flow": null,
      "grid_area": null,
      "grid_auto_columns": null,
      "grid_auto_flow": null,
      "grid_auto_rows": null,
      "grid_column": null,
      "grid_gap": null,
      "grid_row": null,
      "grid_template_areas": null,
      "grid_template_columns": null,
      "grid_template_rows": null,
      "height": null,
      "justify_content": null,
      "justify_items": null,
      "left": null,
      "margin": null,
      "max_height": null,
      "max_width": null,
      "min_height": null,
      "min_width": null,
      "object_fit": null,
      "object_position": null,
      "order": null,
      "overflow": null,
      "overflow_x": null,
      "overflow_y": null,
      "padding": null,
      "right": null,
      "top": null,
      "visibility": null,
      "width": null
     }
    },
    "b572e3cd384c46499d0e8e4f7d52123a": {
     "model_module": "@jupyter-widgets/base",
     "model_module_version": "1.2.0",
     "model_name": "LayoutModel",
     "state": {
      "_model_module": "@jupyter-widgets/base",
      "_model_module_version": "1.2.0",
      "_model_name": "LayoutModel",
      "_view_count": null,
      "_view_module": "@jupyter-widgets/base",
      "_view_module_version": "1.2.0",
      "_view_name": "LayoutView",
      "align_content": null,
      "align_items": null,
      "align_self": null,
      "border": null,
      "bottom": null,
      "display": null,
      "flex": "2",
      "flex_flow": null,
      "grid_area": null,
      "grid_auto_columns": null,
      "grid_auto_flow": null,
      "grid_auto_rows": null,
      "grid_column": null,
      "grid_gap": null,
      "grid_row": null,
      "grid_template_areas": null,
      "grid_template_columns": null,
      "grid_template_rows": null,
      "height": null,
      "justify_content": null,
      "justify_items": null,
      "left": null,
      "margin": null,
      "max_height": null,
      "max_width": null,
      "min_height": null,
      "min_width": null,
      "object_fit": null,
      "object_position": null,
      "order": null,
      "overflow": null,
      "overflow_x": null,
      "overflow_y": null,
      "padding": null,
      "right": null,
      "top": null,
      "visibility": null,
      "width": null
     }
    },
    "b95b3978ff674a119683e3ac0fe936e9": {
     "model_module": "@jupyter-widgets/controls",
     "model_module_version": "1.5.0",
     "model_name": "HTMLModel",
     "state": {
      "_dom_classes": [],
      "_model_module": "@jupyter-widgets/controls",
      "_model_module_version": "1.5.0",
      "_model_name": "HTMLModel",
      "_view_count": null,
      "_view_module": "@jupyter-widgets/controls",
      "_view_module_version": "1.5.0",
      "_view_name": "HTMLView",
      "description": "",
      "description_tooltip": null,
      "layout": "IPY_MODEL_eef3c52f6b534523870e3ea61223014b",
      "placeholder": "​",
      "style": "IPY_MODEL_1c607df922234a20b8f72f92b965c452",
      "value": "Downloading: 100%"
     }
    },
    "ba52a3af729042e9b11f1d4e22a553eb": {
     "model_module": "@jupyter-widgets/base",
     "model_module_version": "1.2.0",
     "model_name": "LayoutModel",
     "state": {
      "_model_module": "@jupyter-widgets/base",
      "_model_module_version": "1.2.0",
      "_model_name": "LayoutModel",
      "_view_count": null,
      "_view_module": "@jupyter-widgets/base",
      "_view_module_version": "1.2.0",
      "_view_name": "LayoutView",
      "align_content": null,
      "align_items": null,
      "align_self": null,
      "border": null,
      "bottom": null,
      "display": null,
      "flex": null,
      "flex_flow": null,
      "grid_area": null,
      "grid_auto_columns": null,
      "grid_auto_flow": null,
      "grid_auto_rows": null,
      "grid_column": null,
      "grid_gap": null,
      "grid_row": null,
      "grid_template_areas": null,
      "grid_template_columns": null,
      "grid_template_rows": null,
      "height": null,
      "justify_content": null,
      "justify_items": null,
      "left": null,
      "margin": null,
      "max_height": null,
      "max_width": null,
      "min_height": null,
      "min_width": null,
      "object_fit": null,
      "object_position": null,
      "order": null,
      "overflow": null,
      "overflow_x": null,
      "overflow_y": null,
      "padding": null,
      "right": null,
      "top": null,
      "visibility": null,
      "width": null
     }
    },
    "bb3484e0e3d14bd7b8b7b0163fc6c81a": {
     "model_module": "@jupyter-widgets/base",
     "model_module_version": "1.2.0",
     "model_name": "LayoutModel",
     "state": {
      "_model_module": "@jupyter-widgets/base",
      "_model_module_version": "1.2.0",
      "_model_name": "LayoutModel",
      "_view_count": null,
      "_view_module": "@jupyter-widgets/base",
      "_view_module_version": "1.2.0",
      "_view_name": "LayoutView",
      "align_content": null,
      "align_items": null,
      "align_self": null,
      "border": null,
      "bottom": null,
      "display": null,
      "flex": null,
      "flex_flow": null,
      "grid_area": null,
      "grid_auto_columns": null,
      "grid_auto_flow": null,
      "grid_auto_rows": null,
      "grid_column": null,
      "grid_gap": null,
      "grid_row": null,
      "grid_template_areas": null,
      "grid_template_columns": null,
      "grid_template_rows": null,
      "height": null,
      "justify_content": null,
      "justify_items": null,
      "left": null,
      "margin": null,
      "max_height": null,
      "max_width": null,
      "min_height": null,
      "min_width": null,
      "object_fit": null,
      "object_position": null,
      "order": null,
      "overflow": null,
      "overflow_x": null,
      "overflow_y": null,
      "padding": null,
      "right": null,
      "top": null,
      "visibility": null,
      "width": null
     }
    },
    "bffcb591f4d74ebab31550f134f89dca": {
     "model_module": "@jupyter-widgets/controls",
     "model_module_version": "1.5.0",
     "model_name": "DescriptionStyleModel",
     "state": {
      "_model_module": "@jupyter-widgets/controls",
      "_model_module_version": "1.5.0",
      "_model_name": "DescriptionStyleModel",
      "_view_count": null,
      "_view_module": "@jupyter-widgets/base",
      "_view_module_version": "1.2.0",
      "_view_name": "StyleView",
      "description_width": ""
     }
    },
    "c2b40eec0a5d4ec189a327d95a1cfd90": {
     "model_module": "@jupyter-widgets/base",
     "model_module_version": "1.2.0",
     "model_name": "LayoutModel",
     "state": {
      "_model_module": "@jupyter-widgets/base",
      "_model_module_version": "1.2.0",
      "_model_name": "LayoutModel",
      "_view_count": null,
      "_view_module": "@jupyter-widgets/base",
      "_view_module_version": "1.2.0",
      "_view_name": "LayoutView",
      "align_content": null,
      "align_items": null,
      "align_self": null,
      "border": null,
      "bottom": null,
      "display": null,
      "flex": null,
      "flex_flow": null,
      "grid_area": null,
      "grid_auto_columns": null,
      "grid_auto_flow": null,
      "grid_auto_rows": null,
      "grid_column": null,
      "grid_gap": null,
      "grid_row": null,
      "grid_template_areas": null,
      "grid_template_columns": null,
      "grid_template_rows": null,
      "height": null,
      "justify_content": null,
      "justify_items": null,
      "left": null,
      "margin": null,
      "max_height": null,
      "max_width": null,
      "min_height": null,
      "min_width": null,
      "object_fit": null,
      "object_position": null,
      "order": null,
      "overflow": null,
      "overflow_x": null,
      "overflow_y": null,
      "padding": null,
      "right": null,
      "top": null,
      "visibility": null,
      "width": null
     }
    },
    "c5ae98203edb4bdb83443d3f05b08247": {
     "model_module": "@jupyter-widgets/controls",
     "model_module_version": "1.5.0",
     "model_name": "DescriptionStyleModel",
     "state": {
      "_model_module": "@jupyter-widgets/controls",
      "_model_module_version": "1.5.0",
      "_model_name": "DescriptionStyleModel",
      "_view_count": null,
      "_view_module": "@jupyter-widgets/base",
      "_view_module_version": "1.2.0",
      "_view_name": "StyleView",
      "description_width": ""
     }
    },
    "c69b41b3fb8748cea2e7770562b47ce3": {
     "model_module": "@jupyter-widgets/base",
     "model_module_version": "1.2.0",
     "model_name": "LayoutModel",
     "state": {
      "_model_module": "@jupyter-widgets/base",
      "_model_module_version": "1.2.0",
      "_model_name": "LayoutModel",
      "_view_count": null,
      "_view_module": "@jupyter-widgets/base",
      "_view_module_version": "1.2.0",
      "_view_name": "LayoutView",
      "align_content": null,
      "align_items": null,
      "align_self": null,
      "border": null,
      "bottom": null,
      "display": null,
      "flex": null,
      "flex_flow": null,
      "grid_area": null,
      "grid_auto_columns": null,
      "grid_auto_flow": null,
      "grid_auto_rows": null,
      "grid_column": null,
      "grid_gap": null,
      "grid_row": null,
      "grid_template_areas": null,
      "grid_template_columns": null,
      "grid_template_rows": null,
      "height": null,
      "justify_content": null,
      "justify_items": null,
      "left": null,
      "margin": null,
      "max_height": null,
      "max_width": null,
      "min_height": null,
      "min_width": null,
      "object_fit": null,
      "object_position": null,
      "order": null,
      "overflow": null,
      "overflow_x": null,
      "overflow_y": null,
      "padding": null,
      "right": null,
      "top": null,
      "visibility": null,
      "width": null
     }
    },
    "c6ccf24b960c4b25a59265c68780a0e7": {
     "model_module": "@jupyter-widgets/controls",
     "model_module_version": "1.5.0",
     "model_name": "HBoxModel",
     "state": {
      "_dom_classes": [],
      "_model_module": "@jupyter-widgets/controls",
      "_model_module_version": "1.5.0",
      "_model_name": "HBoxModel",
      "_view_count": null,
      "_view_module": "@jupyter-widgets/controls",
      "_view_module_version": "1.5.0",
      "_view_name": "HBoxView",
      "box_style": "",
      "children": [
       "IPY_MODEL_9d8a386189cc4a9c81b836fb41fa4f64",
       "IPY_MODEL_e40763a82dc34304aca5e042c9e77375",
       "IPY_MODEL_853f16aaaa5c4d13a67b143f2e946c3a"
      ],
      "layout": "IPY_MODEL_0f2ce18b656a4e7ead8774f9c28b4eda"
     }
    },
    "cb9a3ee490e248398094c6789cc8526e": {
     "model_module": "@jupyter-widgets/controls",
     "model_module_version": "1.5.0",
     "model_name": "FloatProgressModel",
     "state": {
      "_dom_classes": [],
      "_model_module": "@jupyter-widgets/controls",
      "_model_module_version": "1.5.0",
      "_model_name": "FloatProgressModel",
      "_view_count": null,
      "_view_module": "@jupyter-widgets/controls",
      "_view_module_version": "1.5.0",
      "_view_name": "ProgressView",
      "bar_style": "",
      "description": "",
      "description_tooltip": null,
      "layout": "IPY_MODEL_b572e3cd384c46499d0e8e4f7d52123a",
      "max": 500,
      "min": 0,
      "orientation": "horizontal",
      "style": "IPY_MODEL_93adec39ba514f24a582ddbd529e01a0",
      "value": 500
     }
    },
    "cbad20d361c6425cbb716354a9e8d328": {
     "model_module": "@jupyter-widgets/base",
     "model_module_version": "1.2.0",
     "model_name": "LayoutModel",
     "state": {
      "_model_module": "@jupyter-widgets/base",
      "_model_module_version": "1.2.0",
      "_model_name": "LayoutModel",
      "_view_count": null,
      "_view_module": "@jupyter-widgets/base",
      "_view_module_version": "1.2.0",
      "_view_name": "LayoutView",
      "align_content": null,
      "align_items": null,
      "align_self": null,
      "border": null,
      "bottom": null,
      "display": null,
      "flex": null,
      "flex_flow": null,
      "grid_area": null,
      "grid_auto_columns": null,
      "grid_auto_flow": null,
      "grid_auto_rows": null,
      "grid_column": null,
      "grid_gap": null,
      "grid_row": null,
      "grid_template_areas": null,
      "grid_template_columns": null,
      "grid_template_rows": null,
      "height": null,
      "justify_content": null,
      "justify_items": null,
      "left": null,
      "margin": null,
      "max_height": null,
      "max_width": null,
      "min_height": null,
      "min_width": null,
      "object_fit": null,
      "object_position": null,
      "order": null,
      "overflow": null,
      "overflow_x": null,
      "overflow_y": null,
      "padding": null,
      "right": null,
      "top": null,
      "visibility": null,
      "width": null
     }
    },
    "cce9d70e2dc94fc398e63efce16ce4ca": {
     "model_module": "@jupyter-widgets/controls",
     "model_module_version": "1.5.0",
     "model_name": "HBoxModel",
     "state": {
      "_dom_classes": [],
      "_model_module": "@jupyter-widgets/controls",
      "_model_module_version": "1.5.0",
      "_model_name": "HBoxModel",
      "_view_count": null,
      "_view_module": "@jupyter-widgets/controls",
      "_view_module_version": "1.5.0",
      "_view_name": "HBoxView",
      "box_style": "",
      "children": [
       "IPY_MODEL_9cfda34969e044acb3368d547caf95ef",
       "IPY_MODEL_1144779119e843109365495f972af363",
       "IPY_MODEL_9ab910f3fc8540f591c0db3dffc74cb5"
      ],
      "layout": "IPY_MODEL_afa135917c1f4273bfdcc9e6f8c56683"
     }
    },
    "cffb3f880b7f45719ad19c6fbb082948": {
     "model_module": "@jupyter-widgets/controls",
     "model_module_version": "1.5.0",
     "model_name": "FloatProgressModel",
     "state": {
      "_dom_classes": [],
      "_model_module": "@jupyter-widgets/controls",
      "_model_module_version": "1.5.0",
      "_model_name": "FloatProgressModel",
      "_view_count": null,
      "_view_module": "@jupyter-widgets/controls",
      "_view_module_version": "1.5.0",
      "_view_name": "ProgressView",
      "bar_style": "success",
      "description": "",
      "description_tooltip": null,
      "layout": "IPY_MODEL_06c39c7b19ff4102a059335937096a77",
      "max": 791656,
      "min": 0,
      "orientation": "horizontal",
      "style": "IPY_MODEL_26ffcb55db4149d38c34570982fa0fca",
      "value": 791656
     }
    },
    "d5e1a9a72304460a9021598550913edc": {
     "model_module": "@jupyter-widgets/controls",
     "model_module_version": "1.5.0",
     "model_name": "DescriptionStyleModel",
     "state": {
      "_model_module": "@jupyter-widgets/controls",
      "_model_module_version": "1.5.0",
      "_model_name": "DescriptionStyleModel",
      "_view_count": null,
      "_view_module": "@jupyter-widgets/base",
      "_view_module_version": "1.2.0",
      "_view_name": "StyleView",
      "description_width": ""
     }
    },
    "da395e550e3f40379416bc4b2ae0acd0": {
     "model_module": "@jupyter-widgets/controls",
     "model_module_version": "1.5.0",
     "model_name": "ProgressStyleModel",
     "state": {
      "_model_module": "@jupyter-widgets/controls",
      "_model_module_version": "1.5.0",
      "_model_name": "ProgressStyleModel",
      "_view_count": null,
      "_view_module": "@jupyter-widgets/base",
      "_view_module_version": "1.2.0",
      "_view_name": "StyleView",
      "bar_color": null,
      "description_width": ""
     }
    },
    "de53a4b226e541d28da4547ac58579ff": {
     "model_module": "@jupyter-widgets/controls",
     "model_module_version": "1.5.0",
     "model_name": "DescriptionStyleModel",
     "state": {
      "_model_module": "@jupyter-widgets/controls",
      "_model_module_version": "1.5.0",
      "_model_name": "DescriptionStyleModel",
      "_view_count": null,
      "_view_module": "@jupyter-widgets/base",
      "_view_module_version": "1.2.0",
      "_view_name": "StyleView",
      "description_width": ""
     }
    },
    "dfae349d2c6e4efb93933fc4c011fe97": {
     "model_module": "@jupyter-widgets/controls",
     "model_module_version": "1.5.0",
     "model_name": "FloatProgressModel",
     "state": {
      "_dom_classes": [],
      "_model_module": "@jupyter-widgets/controls",
      "_model_module_version": "1.5.0",
      "_model_name": "FloatProgressModel",
      "_view_count": null,
      "_view_module": "@jupyter-widgets/controls",
      "_view_module_version": "1.5.0",
      "_view_name": "ProgressView",
      "bar_style": "success",
      "description": "",
      "description_tooltip": null,
      "layout": "IPY_MODEL_aa8d3f0d5edc43519b03b9360708f8b2",
      "max": 242065649,
      "min": 0,
      "orientation": "horizontal",
      "style": "IPY_MODEL_da395e550e3f40379416bc4b2ae0acd0",
      "value": 242065649
     }
    },
    "e340d5c2a56247918e94384810ea21d9": {
     "model_module": "@jupyter-widgets/base",
     "model_module_version": "1.2.0",
     "model_name": "LayoutModel",
     "state": {
      "_model_module": "@jupyter-widgets/base",
      "_model_module_version": "1.2.0",
      "_model_name": "LayoutModel",
      "_view_count": null,
      "_view_module": "@jupyter-widgets/base",
      "_view_module_version": "1.2.0",
      "_view_name": "LayoutView",
      "align_content": null,
      "align_items": null,
      "align_self": null,
      "border": null,
      "bottom": null,
      "display": null,
      "flex": null,
      "flex_flow": null,
      "grid_area": null,
      "grid_auto_columns": null,
      "grid_auto_flow": null,
      "grid_auto_rows": null,
      "grid_column": null,
      "grid_gap": null,
      "grid_row": null,
      "grid_template_areas": null,
      "grid_template_columns": null,
      "grid_template_rows": null,
      "height": null,
      "justify_content": null,
      "justify_items": null,
      "left": null,
      "margin": null,
      "max_height": null,
      "max_width": null,
      "min_height": null,
      "min_width": null,
      "object_fit": null,
      "object_position": null,
      "order": null,
      "overflow": null,
      "overflow_x": null,
      "overflow_y": null,
      "padding": null,
      "right": null,
      "top": null,
      "visibility": null,
      "width": null
     }
    },
    "e40763a82dc34304aca5e042c9e77375": {
     "model_module": "@jupyter-widgets/controls",
     "model_module_version": "1.5.0",
     "model_name": "FloatProgressModel",
     "state": {
      "_dom_classes": [],
      "_model_module": "@jupyter-widgets/controls",
      "_model_module_version": "1.5.0",
      "_model_name": "FloatProgressModel",
      "_view_count": null,
      "_view_module": "@jupyter-widgets/controls",
      "_view_module_version": "1.5.0",
      "_view_name": "ProgressView",
      "bar_style": "success",
      "description": "",
      "description_tooltip": null,
      "layout": "IPY_MODEL_5f5740fe5a3e45289881a5ed5a498764",
      "max": 1000,
      "min": 0,
      "orientation": "horizontal",
      "style": "IPY_MODEL_0effbee2d34943fc8d6d0d3a265d0766",
      "value": 1000
     }
    },
    "e88c4810f71346019c6d9765cacc3284": {
     "model_module": "@jupyter-widgets/controls",
     "model_module_version": "1.5.0",
     "model_name": "DescriptionStyleModel",
     "state": {
      "_model_module": "@jupyter-widgets/controls",
      "_model_module_version": "1.5.0",
      "_model_name": "DescriptionStyleModel",
      "_view_count": null,
      "_view_module": "@jupyter-widgets/base",
      "_view_module_version": "1.2.0",
      "_view_name": "StyleView",
      "description_width": ""
     }
    },
    "e8fcd026196044a08250eeb8f0c9bdd8": {
     "model_module": "@jupyter-widgets/controls",
     "model_module_version": "1.5.0",
     "model_name": "DescriptionStyleModel",
     "state": {
      "_model_module": "@jupyter-widgets/controls",
      "_model_module_version": "1.5.0",
      "_model_name": "DescriptionStyleModel",
      "_view_count": null,
      "_view_module": "@jupyter-widgets/base",
      "_view_module_version": "1.2.0",
      "_view_name": "StyleView",
      "description_width": ""
     }
    },
    "ebf189ef3899443fb90e40e5abd4f088": {
     "model_module": "@jupyter-widgets/controls",
     "model_module_version": "1.5.0",
     "model_name": "HBoxModel",
     "state": {
      "_dom_classes": [],
      "_model_module": "@jupyter-widgets/controls",
      "_model_module_version": "1.5.0",
      "_model_name": "HBoxModel",
      "_view_count": null,
      "_view_module": "@jupyter-widgets/controls",
      "_view_module_version": "1.5.0",
      "_view_name": "HBoxView",
      "box_style": "",
      "children": [
       "IPY_MODEL_2921977fec8c4f54b727f6aa12334d09",
       "IPY_MODEL_ae41b724aa4f469f8c408848d2a9de1f",
       "IPY_MODEL_74f7576971d74113aa0605f41eb5fb89"
      ],
      "layout": "IPY_MODEL_7c90ba46512d4a94a1971f5f4b4d97d8"
     }
    },
    "ec023301cdad42cdabc32be9ee003f2a": {
     "model_module": "@jupyter-widgets/controls",
     "model_module_version": "1.5.0",
     "model_name": "HTMLModel",
     "state": {
      "_dom_classes": [],
      "_model_module": "@jupyter-widgets/controls",
      "_model_module_version": "1.5.0",
      "_model_name": "HTMLModel",
      "_view_count": null,
      "_view_module": "@jupyter-widgets/controls",
      "_view_module_version": "1.5.0",
      "_view_name": "HTMLView",
      "description": "",
      "description_tooltip": null,
      "layout": "IPY_MODEL_e340d5c2a56247918e94384810ea21d9",
      "placeholder": "​",
      "style": "IPY_MODEL_6c2c9da14016449a8c13e08b395f7b23",
      "value": "Validation DataLoader 0: 100%"
     }
    },
    "ee070df2cc9b42d6891e5ae557040066": {
     "model_module": "@jupyter-widgets/base",
     "model_module_version": "1.2.0",
     "model_name": "LayoutModel",
     "state": {
      "_model_module": "@jupyter-widgets/base",
      "_model_module_version": "1.2.0",
      "_model_name": "LayoutModel",
      "_view_count": null,
      "_view_module": "@jupyter-widgets/base",
      "_view_module_version": "1.2.0",
      "_view_name": "LayoutView",
      "align_content": null,
      "align_items": null,
      "align_self": null,
      "border": null,
      "bottom": null,
      "display": null,
      "flex": "2",
      "flex_flow": null,
      "grid_area": null,
      "grid_auto_columns": null,
      "grid_auto_flow": null,
      "grid_auto_rows": null,
      "grid_column": null,
      "grid_gap": null,
      "grid_row": null,
      "grid_template_areas": null,
      "grid_template_columns": null,
      "grid_template_rows": null,
      "height": null,
      "justify_content": null,
      "justify_items": null,
      "left": null,
      "margin": null,
      "max_height": null,
      "max_width": null,
      "min_height": null,
      "min_width": null,
      "object_fit": null,
      "object_position": null,
      "order": null,
      "overflow": null,
      "overflow_x": null,
      "overflow_y": null,
      "padding": null,
      "right": null,
      "top": null,
      "visibility": null,
      "width": null
     }
    },
    "eef3c52f6b534523870e3ea61223014b": {
     "model_module": "@jupyter-widgets/base",
     "model_module_version": "1.2.0",
     "model_name": "LayoutModel",
     "state": {
      "_model_module": "@jupyter-widgets/base",
      "_model_module_version": "1.2.0",
      "_model_name": "LayoutModel",
      "_view_count": null,
      "_view_module": "@jupyter-widgets/base",
      "_view_module_version": "1.2.0",
      "_view_name": "LayoutView",
      "align_content": null,
      "align_items": null,
      "align_self": null,
      "border": null,
      "bottom": null,
      "display": null,
      "flex": null,
      "flex_flow": null,
      "grid_area": null,
      "grid_auto_columns": null,
      "grid_auto_flow": null,
      "grid_auto_rows": null,
      "grid_column": null,
      "grid_gap": null,
      "grid_row": null,
      "grid_template_areas": null,
      "grid_template_columns": null,
      "grid_template_rows": null,
      "height": null,
      "justify_content": null,
      "justify_items": null,
      "left": null,
      "margin": null,
      "max_height": null,
      "max_width": null,
      "min_height": null,
      "min_width": null,
      "object_fit": null,
      "object_position": null,
      "order": null,
      "overflow": null,
      "overflow_x": null,
      "overflow_y": null,
      "padding": null,
      "right": null,
      "top": null,
      "visibility": null,
      "width": null
     }
    },
    "f4a7c18179414629ab20376d4180a8a7": {
     "model_module": "@jupyter-widgets/base",
     "model_module_version": "1.2.0",
     "model_name": "LayoutModel",
     "state": {
      "_model_module": "@jupyter-widgets/base",
      "_model_module_version": "1.2.0",
      "_model_name": "LayoutModel",
      "_view_count": null,
      "_view_module": "@jupyter-widgets/base",
      "_view_module_version": "1.2.0",
      "_view_name": "LayoutView",
      "align_content": null,
      "align_items": null,
      "align_self": null,
      "border": null,
      "bottom": null,
      "display": null,
      "flex": null,
      "flex_flow": null,
      "grid_area": null,
      "grid_auto_columns": null,
      "grid_auto_flow": null,
      "grid_auto_rows": null,
      "grid_column": null,
      "grid_gap": null,
      "grid_row": null,
      "grid_template_areas": null,
      "grid_template_columns": null,
      "grid_template_rows": null,
      "height": null,
      "justify_content": null,
      "justify_items": null,
      "left": null,
      "margin": null,
      "max_height": null,
      "max_width": null,
      "min_height": null,
      "min_width": null,
      "object_fit": null,
      "object_position": null,
      "order": null,
      "overflow": null,
      "overflow_x": null,
      "overflow_y": null,
      "padding": null,
      "right": null,
      "top": null,
      "visibility": null,
      "width": null
     }
    },
    "f9fe48215ce14b91b0a57cd3c7096334": {
     "model_module": "@jupyter-widgets/controls",
     "model_module_version": "1.5.0",
     "model_name": "DescriptionStyleModel",
     "state": {
      "_model_module": "@jupyter-widgets/controls",
      "_model_module_version": "1.5.0",
      "_model_name": "DescriptionStyleModel",
      "_view_count": null,
      "_view_module": "@jupyter-widgets/base",
      "_view_module_version": "1.2.0",
      "_view_name": "StyleView",
      "description_width": ""
     }
    },
    "fc6fda81438846b8bd09a059bc0b5553": {
     "model_module": "@jupyter-widgets/controls",
     "model_module_version": "1.5.0",
     "model_name": "HTMLModel",
     "state": {
      "_dom_classes": [],
      "_model_module": "@jupyter-widgets/controls",
      "_model_module_version": "1.5.0",
      "_model_name": "HTMLModel",
      "_view_count": null,
      "_view_module": "@jupyter-widgets/controls",
      "_view_module_version": "1.5.0",
      "_view_name": "HTMLView",
      "description": "",
      "description_tooltip": null,
      "layout": "IPY_MODEL_036d1c9003ee43acb0c2b89783ef7317",
      "placeholder": "​",
      "style": "IPY_MODEL_16f0f99dbcfa4ff8b459aa5d3d9c74cd",
      "value": "Validation DataLoader 0: 100%"
     }
    },
    "fccbbd51784e428697cd8a47d9b94317": {
     "model_module": "@jupyter-widgets/base",
     "model_module_version": "1.2.0",
     "model_name": "LayoutModel",
     "state": {
      "_model_module": "@jupyter-widgets/base",
      "_model_module_version": "1.2.0",
      "_model_name": "LayoutModel",
      "_view_count": null,
      "_view_module": "@jupyter-widgets/base",
      "_view_module_version": "1.2.0",
      "_view_name": "LayoutView",
      "align_content": null,
      "align_items": null,
      "align_self": null,
      "border": null,
      "bottom": null,
      "display": null,
      "flex": null,
      "flex_flow": null,
      "grid_area": null,
      "grid_auto_columns": null,
      "grid_auto_flow": null,
      "grid_auto_rows": null,
      "grid_column": null,
      "grid_gap": null,
      "grid_row": null,
      "grid_template_areas": null,
      "grid_template_columns": null,
      "grid_template_rows": null,
      "height": null,
      "justify_content": null,
      "justify_items": null,
      "left": null,
      "margin": null,
      "max_height": null,
      "max_width": null,
      "min_height": null,
      "min_width": null,
      "object_fit": null,
      "object_position": null,
      "order": null,
      "overflow": null,
      "overflow_x": null,
      "overflow_y": null,
      "padding": null,
      "right": null,
      "top": null,
      "visibility": null,
      "width": null
     }
    },
    "fdda03cbcaae4da1815b38ba5d40a7f0": {
     "model_module": "@jupyter-widgets/base",
     "model_module_version": "1.2.0",
     "model_name": "LayoutModel",
     "state": {
      "_model_module": "@jupyter-widgets/base",
      "_model_module_version": "1.2.0",
      "_model_name": "LayoutModel",
      "_view_count": null,
      "_view_module": "@jupyter-widgets/base",
      "_view_module_version": "1.2.0",
      "_view_name": "LayoutView",
      "align_content": null,
      "align_items": null,
      "align_self": null,
      "border": null,
      "bottom": null,
      "display": "inline-flex",
      "flex": null,
      "flex_flow": "row wrap",
      "grid_area": null,
      "grid_auto_columns": null,
      "grid_auto_flow": null,
      "grid_auto_rows": null,
      "grid_column": null,
      "grid_gap": null,
      "grid_row": null,
      "grid_template_areas": null,
      "grid_template_columns": null,
      "grid_template_rows": null,
      "height": null,
      "justify_content": null,
      "justify_items": null,
      "left": null,
      "margin": null,
      "max_height": null,
      "max_width": null,
      "min_height": null,
      "min_width": null,
      "object_fit": null,
      "object_position": null,
      "order": null,
      "overflow": null,
      "overflow_x": null,
      "overflow_y": null,
      "padding": null,
      "right": null,
      "top": null,
      "visibility": "hidden",
      "width": "100%"
     }
    }
   }
  }
 },
 "nbformat": 4,
 "nbformat_minor": 4
}
